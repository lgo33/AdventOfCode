{
 "cells": [
  {
   "cell_type": "code",
   "execution_count": 1,
   "metadata": {
    "collapsed": true
   },
   "outputs": [],
   "source": [
    "# "
   ]
  },
  {
   "cell_type": "code",
   "execution_count": 4,
   "metadata": {
    "collapsed": true
   },
   "outputs": [],
   "source": [
    "import re"
   ]
  },
  {
   "cell_type": "code",
   "execution_count": 26,
   "metadata": {
    "collapsed": true
   },
   "outputs": [],
   "source": [
    "def nice1(string):\n",
    "    if len(re.sub(\"[^aeiou]\", \"\", string)) < 3:\n",
    "        return False\n",
    "    if re.search(\"(ab)|(cd)|(pq)|(xy)\", string):\n",
    "        return False\n",
    "    for i in range(len(string)-1):\n",
    "        if string[i] == string[i+1]:\n",
    "            return True\n",
    "    return False"
   ]
  },
  {
   "cell_type": "code",
   "execution_count": 92,
   "metadata": {
    "collapsed": false
   },
   "outputs": [],
   "source": [
    "def nice2a(string):\n",
    "    for i in range(len(string)-3):\n",
    "        for j in range(i+2, len(string)-1):\n",
    "            if string[i:i+2] == string[j:j+2]:                \n",
    "                #print string[i:i+2], string\n",
    "                return True        \n",
    "    return False\n",
    "\n",
    "def nice2b(string):\n",
    "    for i in range(len(string)-2):\n",
    "        if string[i] == string[i+2]:\n",
    "            return True\n",
    "    return False\n",
    "\n",
    "def nice2(string):\n",
    "    if nice2a(string) and nice2b(string):\n",
    "        return True\n",
    "    return False"
   ]
  },
  {
   "cell_type": "code",
   "execution_count": 93,
   "metadata": {
    "collapsed": false
   },
   "outputs": [
    {
     "name": "stdout",
     "output_type": "stream",
     "text": [
      "53\n"
     ]
    }
   ],
   "source": [
    "f = open('day5.txt', 'r')\n",
    "nnice = 0\n",
    "for line in f:\n",
    "    if (nice2(line)):\n",
    "        nnice += 1\n",
    "\n",
    "print nnice"
   ]
  },
  {
   "cell_type": "code",
   "execution_count": 94,
   "metadata": {
    "collapsed": false
   },
   "outputs": [
    {
     "name": "stdout",
     "output_type": "stream",
     "text": [
      "qjhvhtzxzqqjkmpb True True\n",
      "xxyxx True True\n",
      "uurcxstgmygtbstg True False\n",
      "ieodomkazucvgmuy False True\n"
     ]
    }
   ],
   "source": [
    "for s in ['qjhvhtzxzqqjkmpb', 'xxyxx', 'uurcxstgmygtbstg', 'ieodomkazucvgmuy']:    \n",
    "    print s, nice2a(s), nice2b(s)"
   ]
  },
  {
   "cell_type": "code",
   "execution_count": null,
   "metadata": {
    "collapsed": true
   },
   "outputs": [],
   "source": []
  }
 ],
 "metadata": {
  "kernelspec": {
   "display_name": "Python 2",
   "language": "python",
   "name": "python2"
  },
  "language_info": {
   "codemirror_mode": {
    "name": "ipython",
    "version": 2
   },
   "file_extension": ".py",
   "mimetype": "text/x-python",
   "name": "python",
   "nbconvert_exporter": "python",
   "pygments_lexer": "ipython2",
   "version": "2.7.8"
  }
 },
 "nbformat": 4,
 "nbformat_minor": 0
}
