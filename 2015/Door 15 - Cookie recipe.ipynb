{
 "cells": [
  {
   "cell_type": "code",
   "execution_count": 18,
   "metadata": {
    "collapsed": true
   },
   "outputs": [],
   "source": [
    "import numpy as np\n",
    "from random import randint"
   ]
  },
  {
   "cell_type": "code",
   "execution_count": 12,
   "metadata": {
    "collapsed": false
   },
   "outputs": [],
   "source": [
    "ingredient = {}\n",
    "properties = []\n",
    "ni = 0\n",
    "with open('day15.txt', 'r') as f:\n",
    "    for line in f:\n",
    "        w = line.split()\n",
    "        ingredient[ni] = w[0][:-1]\n",
    "        properties.append( map(int, [w[2][:-1], w[4][:-1], w[6][:-1], w[8][:-1], w[10]]) )\n",
    "        ni += 1"
   ]
  },
  {
   "cell_type": "code",
   "execution_count": 15,
   "metadata": {
    "collapsed": false
   },
   "outputs": [
    {
     "data": {
      "text/plain": [
       "({0: 'Sugar', 1: 'Sprinkles', 2: 'Candy', 3: 'Chocolate'},\n",
       " [[3, 0, 0, -3, 2], [-3, 3, 0, 0, 9], [-1, 0, 4, 0, 1], [0, 0, -2, 2, 8]])"
      ]
     },
     "execution_count": 15,
     "metadata": {},
     "output_type": "execute_result"
    }
   ],
   "source": [
    "ingredient, properties"
   ]
  },
  {
   "cell_type": "code",
   "execution_count": 16,
   "metadata": {
    "collapsed": false
   },
   "outputs": [
    {
     "name": "stdout",
     "output_type": "stream",
     "text": [
      "Chocolate: capacity 0, durability 0, flavor -2, texture 2, calories 8\n",
      "{0: 'Sugar', 1: 'Sprinkles', 2: 'Candy', 3: 'Chocolate'}\n"
     ]
    }
   ],
   "source": [
    "print line, ingredient"
   ]
  },
  {
   "cell_type": "code",
   "execution_count": 106,
   "metadata": {
    "collapsed": false
   },
   "outputs": [],
   "source": [
    "def score(x, p, ts = 100):\n",
    "    add = np.sum(p.T * x, axis = 1)\n",
    "    return reduce(lambda a, b: max(a, 0) * max(b, 0), add)"
   ]
  },
  {
   "cell_type": "code",
   "execution_count": 107,
   "metadata": {
    "collapsed": true
   },
   "outputs": [],
   "source": [
    "p = np.array(properties)"
   ]
  },
  {
   "cell_type": "code",
   "execution_count": 108,
   "metadata": {
    "collapsed": false
   },
   "outputs": [
    {
     "data": {
      "text/plain": [
       "array([[ 3,  0,  0, -3],\n",
       "       [-3,  3,  0,  0],\n",
       "       [-1,  0,  4,  0],\n",
       "       [ 0,  0, -2,  2]])"
      ]
     },
     "execution_count": 108,
     "metadata": {},
     "output_type": "execute_result"
    }
   ],
   "source": [
    "p[:, :-1]"
   ]
  },
  {
   "cell_type": "code",
   "execution_count": 109,
   "metadata": {
    "collapsed": true
   },
   "outputs": [],
   "source": [
    "x = np.array([20, 0, 30, 30])"
   ]
  },
  {
   "cell_type": "code",
   "execution_count": 110,
   "metadata": {
    "collapsed": false
   },
   "outputs": [
    {
     "data": {
      "text/plain": [
       "array([[ 60,   0, -30,   0],\n",
       "       [  0,   0,   0,   0],\n",
       "       [  0,   0, 120, -60],\n",
       "       [-60,   0,   0,  60],\n",
       "       [ 40,   0,  30, 240]])"
      ]
     },
     "execution_count": 110,
     "metadata": {},
     "output_type": "execute_result"
    }
   ],
   "source": [
    "p.T * x"
   ]
  },
  {
   "cell_type": "code",
   "execution_count": 111,
   "metadata": {
    "collapsed": false
   },
   "outputs": [
    {
     "data": {
      "text/plain": [
       "array([ 30,   0,  60,   0, 310])"
      ]
     },
     "execution_count": 111,
     "metadata": {},
     "output_type": "execute_result"
    }
   ],
   "source": [
    "np.sum(p.T * x, axis = 1)"
   ]
  },
  {
   "cell_type": "code",
   "execution_count": 112,
   "metadata": {
    "collapsed": false
   },
   "outputs": [
    {
     "data": {
      "text/plain": [
       "0"
      ]
     },
     "execution_count": 112,
     "metadata": {},
     "output_type": "execute_result"
    }
   ],
   "source": [
    "score(np.array([54, 45,  3, -2]), p[:, :-1])\n"
   ]
  },
  {
   "cell_type": "code",
   "execution_count": 93,
   "metadata": {
    "collapsed": false
   },
   "outputs": [
    {
     "name": "stdout",
     "output_type": "stream",
     "text": [
      "204 37044.0 [ 27.   2.  26.  45.] 100.0\n",
      "2450 52272.0 [ 24.  12.  25.  39.] 100.0\n",
      "2965 155520.0 [ 24.   4.  30.  42.] 100.0\n",
      "4813 188370.0 [ 23.   5.  31.  41.] 100.0\n",
      "10872 198000.0 [ 21.   3.  32.  44.] 100.0\n",
      "22541 213750.0 [ 21.   5.  33.  41.] 100.0\n",
      "64135 220248.0 [ 21.   4.  32.  43.] 100.0\n",
      "282206 222870.0 [ 21.   5.  31.  43.] 100.0\n"
     ]
    }
   ],
   "source": [
    "maxscore = 0\n",
    "i = 0\n",
    "nprop = 4\n",
    "for i in range(1000000):\n",
    "    left = 100\n",
    "    x = np.zeros(nprop)\n",
    "    for j in range(nprop-1):\n",
    "        x[j] = randint(left)\n",
    "        left -= x[j]\n",
    "    x[nprop - 1] = left\n",
    "    s = score(x, p[:, :-1])\n",
    "    if s > maxscore:\n",
    "        maxscore = s\n",
    "        print i, s, x, sum(x)\n",
    "    \n",
    "    "
   ]
  },
  {
   "cell_type": "code",
   "execution_count": 131,
   "metadata": {
    "collapsed": false
   },
   "outputs": [
    {
     "name": "stdout",
     "output_type": "stream",
     "text": [
      "40 92736 [18  4 28 50] 100\n",
      "830 117936 [21  8 26 45] 100\n"
     ]
    }
   ],
   "source": [
    "# 117936\n",
    "maxscore = 0\n",
    "i = 0\n",
    "nprop = 4\n",
    "for i in range(1000000):\n",
    "    left = 100\n",
    "    x[1] = randint(50)\n",
    "    left -= x[1]\n",
    "    x[3] = randint( max( ((300 - 7 * x[1]) // 6) + 1, 0), (400 - 8 * x[1]) // 7)\n",
    "    x[0] = 400 - (8*x[1] + 7* x[3])\n",
    "    x[2] = 100 - x[0] - x[1] - x[3]\n",
    "    s = score(x, p[:, :-1])\n",
    "    if s > maxscore:\n",
    "        maxscore = s\n",
    "        print i, s, x, sum(x)"
   ]
  },
  {
   "cell_type": "code",
   "execution_count": 149,
   "metadata": {
    "collapsed": false
   },
   "outputs": [
    {
     "name": "stdout",
     "output_type": "stream",
     "text": [
      "1 3 [33264, 41184, 56160, 63360]\n",
      "-1 1 [63360, 73920, 55296, 52272]\n",
      "1 3 [56100, 63360, 82368, 83160]\n",
      "-1 1 [84942, 91800, 69300, 73920]\n",
      "1 2 [75600, 83160, 105600, 97920]\n",
      "-1 1 [111540, 112860, 91800, 92160]\n",
      "1 2 [91476, 105600, 126360, 123120]\n",
      "-1 0 [136890, 131040, 112860, 108864]\n",
      "1 2 [126360, 121680, 147420, 145800]\n",
      "-1 1 [142560, 159120, 136890, 133056]\n",
      "1 3 [144000, 147420, 169728, 171360]\n",
      "-1 1 [169344, 176400, 155520, 159120]\n",
      "1 2 [162288, 171360, 191520, 185640]\n",
      "-1 0 [193536, 190080, 176400, 176358]\n",
      "1 2 [191520, 179712, 204120, 201600]\n",
      "-1 1 [190512, 209952, 193536, 191520]\n",
      "1 2 [204120, 204120, 220320, 220320]\n",
      "-1 1 [211680, 216000, 209952, 205632]\n",
      "1 3 [207000, 220320, 225720, 228000]\n",
      "-1 0 [222870, 209760, 214200, 216000]\n",
      "1 2 [228000, 220248, 231840, 229500]\n",
      "-1 2 [212940, 220248, 222870, 221760]\n",
      "1 2 [228000, 220248, 231840, 229500]\n",
      "-1 2 [212940, 220248, 222870, 221760]\n",
      "1 2 [228000, 220248, 231840, 229500]\n",
      "-1 2 [212940, 220248, 222870, 221760]\n",
      "1 2 [228000, 220248, 231840, 229500]\n",
      "-1 2 [212940, 220248, 222870, 221760]\n",
      "1 2 [228000, 220248, 231840, 229500]\n",
      "-1 2 [212940, 220248, 222870, 221760]\n",
      "1 2 [228000, 220248, 231840, 229500]\n",
      "-1 2 [212940, 220248, 222870, 221760]\n",
      "1 2 [228000, 220248, 231840, 229500]\n",
      "-1 2 [212940, 220248, 222870, 221760]\n",
      "1 2 [228000, 220248, 231840, 229500]\n",
      "-1 2 [212940, 220248, 222870, 221760]\n",
      "1 2 [228000, 220248, 231840, 229500]\n",
      "-1 2 [212940, 220248, 222870, 221760]\n",
      "1 2 [228000, 220248, 231840, 229500]\n",
      "-1 2 [212940, 220248, 222870, 221760]\n"
     ]
    },
    {
     "data": {
      "text/plain": [
       "(array([21,  5, 31, 43]), 222870)"
      ]
     },
     "execution_count": 149,
     "metadata": {},
     "output_type": "execute_result"
    }
   ],
   "source": [
    "x = np.array([24, 12, 25, 39])\n",
    "pp = p[:, :-1]\n",
    "nprop = 4\n",
    "for i in range(40):\n",
    "    s = score(x, pp)\n",
    "    if i % 2:\n",
    "        ch = -1\n",
    "    else:\n",
    "        ch = +1\n",
    "    cand = []\n",
    "    for j in range(nprop):\n",
    "        y = x.copy()\n",
    "        y[j] += ch\n",
    "        cand.append(score(y, pp))\n",
    "    ind = cand.index(max(cand))\n",
    "    print ch, ind, cand\n",
    "    x[ind] += ch\n",
    "x, score(x, p[:, :-1])"
   ]
  },
  {
   "cell_type": "code",
   "execution_count": 143,
   "metadata": {
    "collapsed": false
   },
   "outputs": [
    {
     "data": {
      "text/plain": [
       "[(0, 1),\n",
       " (0, 2),\n",
       " (0, 3),\n",
       " (0, 4),\n",
       " (1, 0),\n",
       " (1, 2),\n",
       " (1, 3),\n",
       " (1, 4),\n",
       " (2, 0),\n",
       " (2, 1),\n",
       " (2, 3),\n",
       " (2, 4),\n",
       " (3, 0),\n",
       " (3, 1),\n",
       " (3, 2),\n",
       " (3, 4),\n",
       " (4, 0),\n",
       " (4, 1),\n",
       " (4, 2),\n",
       " (4, 3)]"
      ]
     },
     "execution_count": 143,
     "metadata": {},
     "output_type": "execute_result"
    }
   ],
   "source": [
    "list(permutations(range(5), 2))"
   ]
  },
  {
   "cell_type": "code",
   "execution_count": null,
   "metadata": {
    "collapsed": true
   },
   "outputs": [],
   "source": []
  }
 ],
 "metadata": {
  "kernelspec": {
   "display_name": "Python 2",
   "language": "python",
   "name": "python2"
  },
  "language_info": {
   "codemirror_mode": {
    "name": "ipython",
    "version": 2
   },
   "file_extension": ".py",
   "mimetype": "text/x-python",
   "name": "python",
   "nbconvert_exporter": "python",
   "pygments_lexer": "ipython2",
   "version": "2.7.6"
  }
 },
 "nbformat": 4,
 "nbformat_minor": 0
}
