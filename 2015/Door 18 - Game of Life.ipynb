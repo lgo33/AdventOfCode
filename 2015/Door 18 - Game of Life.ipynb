{
 "cells": [
  {
   "cell_type": "code",
   "execution_count": 1,
   "metadata": {
    "collapsed": false
   },
   "outputs": [],
   "source": [
    "#%pylab inline"
   ]
  },
  {
   "cell_type": "code",
   "execution_count": 2,
   "metadata": {
    "collapsed": true
   },
   "outputs": [],
   "source": [
    "import numpy as np\n",
    "import matplotlib.animation as animation"
   ]
  },
  {
   "cell_type": "code",
   "execution_count": 22,
   "metadata": {
    "collapsed": false
   },
   "outputs": [],
   "source": [
    "n = 100\n",
    "#n = 6\n",
    "grid = np.zeros((n, n), dtype = np.int8)\n",
    "ngb  = np.zeros((n, n))\n",
    "row = 0\n",
    "#with open('day18.txt_test', 'r') as f:\n",
    "with open('day18.txt', 'r') as f:\n",
    "    for line in f:\n",
    "        col = 0\n",
    "        for c in line:\n",
    "            if c == '#':\n",
    "                grid[row, col] = 1\n",
    "            col += 1\n",
    "        row += 1\n",
    "                \n",
    "def add2ngb(x, y):\n",
    "    for i in range(max(0,x-1), min(n, x+2)):\n",
    "        for j in range(max(0,y-1), min(n, y+2)):\n",
    "            if i==x and j==y:\n",
    "                continue\n",
    "            ngb[i, j] += 1\n",
    "        \n",
    "def advance():\n",
    "    ngb[:] = 0\n",
    "    for i in range(n):\n",
    "        for j in range(n):\n",
    "            if grid[i, j]: \n",
    "                add2ngb(i, j)\n",
    "                \n",
    "    for i in range(n):\n",
    "        for j in range(n):\n",
    "            if grid[i, j]:\n",
    "                if ngb[i, j] < 2 or ngb[i, j] > 3:\n",
    "                    grid[i, j] = 0\n",
    "            else:\n",
    "                if ngb[i, j] == 3:\n",
    "                    grid[i, j] = 1\n",
    "save_ic = grid.copy()"
   ]
  },
  {
   "cell_type": "code",
   "execution_count": null,
   "metadata": {
    "collapsed": false
   },
   "outputs": [],
   "source": [
    "grid = save_ic.copy()\n",
    "f = plt.figure(figsize=(8, 8))\n",
    "\n",
    "def show_grid(x, y):\n",
    "    return ~grid[x, y]\n",
    "\n",
    "\n",
    "im = plt.imshow(~grid, cmap='hot', animated=True, interpolation='none')\n",
    "i = 0\n",
    "\n",
    "def updatefig(*args):\n",
    "    global grid, i\n",
    "    advance()\n",
    "    im.set_array(~grid)    \n",
    "    i += 1\n",
    "    plt.title(\"step = %3d\" % i)\n",
    "    return im,\n",
    "\n",
    "ani = animation.FuncAnimation(f, updatefig, interval=0, blit=True, frames=100)\n",
    "ani.save('conway.gif', writer='imagemagick', fps=8);\n",
    "#plt.show()\n",
    "    "
   ]
  },
  {
   "cell_type": "code",
   "execution_count": 24,
   "metadata": {
    "collapsed": false
   },
   "outputs": [],
   "source": []
  },
  {
   "cell_type": "code",
   "execution_count": 93,
   "metadata": {
    "collapsed": false
   },
   "outputs": [
    {
     "data": {
      "text/plain": [
       "array([0, 1, 1, 0], dtype=int8)"
      ]
     },
     "execution_count": 93,
     "metadata": {},
     "output_type": "execute_result"
    }
   ],
   "source": [
    "grid[[0, 0, n-1, n-1] , [0, n-1, 0, n-1]]"
   ]
  },
  {
   "cell_type": "code",
   "execution_count": 68,
   "metadata": {
    "collapsed": false
   },
   "outputs": [
    {
     "name": "stdout",
     "output_type": "stream",
     "text": [
      "0\n",
      "10\n",
      "20\n",
      "30\n",
      "40\n",
      "50\n",
      "60\n",
      "70\n",
      "80\n",
      "90\n"
     ]
    }
   ],
   "source": [
    "for i in range(100):\n",
    "    if not i % 10:\n",
    "        print i\n",
    "    advance()"
   ]
  },
  {
   "cell_type": "code",
   "execution_count": 69,
   "metadata": {
    "collapsed": false
   },
   "outputs": [
    {
     "name": "stdout",
     "output_type": "stream",
     "text": [
      "814\n"
     ]
    }
   ],
   "source": [
    "print sum(grid)"
   ]
  },
  {
   "cell_type": "code",
   "execution_count": 51,
   "metadata": {
    "collapsed": false
   },
   "outputs": [
    {
     "data": {
      "text/plain": [
       "(array([[0, 0, 1, 1, 0, 0],\n",
       "        [0, 0, 1, 1, 0, 1],\n",
       "        [0, 0, 0, 1, 1, 0],\n",
       "        [0, 0, 0, 0, 0, 0],\n",
       "        [1, 0, 0, 0, 0, 0],\n",
       "        [1, 0, 1, 1, 0, 0]], dtype=int8),\n",
       " array([[ 1.,  0.,  3.,  2.,  4.,  1.],\n",
       "        [ 2.,  2.,  3.,  2.,  4.,  3.],\n",
       "        [ 0.,  2.,  2.,  3.,  3.,  1.],\n",
       "        [ 2.,  4.,  1.,  2.,  2.,  2.],\n",
       "        [ 2.,  6.,  4.,  4.,  2.,  0.],\n",
       "        [ 2.,  4.,  3.,  2.,  2.,  1.]]))"
      ]
     },
     "execution_count": 51,
     "metadata": {},
     "output_type": "execute_result"
    }
   ],
   "source": [
    "grid, ngb"
   ]
  },
  {
   "cell_type": "code",
   "execution_count": 55,
   "metadata": {
    "collapsed": false
   },
   "outputs": [
    {
     "name": "stdout",
     "output_type": "stream",
     "text": [
      "[[0 0 0 0 0 0]\n",
      " [0 0 0 0 0 0]\n",
      " [0 0 1 1 0 0]\n",
      " [0 0 1 1 0 0]\n",
      " [0 0 0 0 0 0]\n",
      " [0 0 0 0 0 0]] [[ 0.  0.  0.  0.  0.  0.]\n",
      " [ 0.  1.  2.  2.  1.  0.]\n",
      " [ 0.  2.  3.  3.  2.  0.]\n",
      " [ 0.  2.  3.  3.  2.  0.]\n",
      " [ 0.  1.  2.  2.  1.  0.]\n",
      " [ 0.  0.  0.  0.  0.  0.]]\n"
     ]
    }
   ],
   "source": [
    "advance()\n",
    "print grid, ngb"
   ]
  },
  {
   "cell_type": "code",
   "execution_count": 56,
   "metadata": {
    "collapsed": false
   },
   "outputs": [
    {
     "data": {
      "text/plain": [
       "<matplotlib.image.AxesImage at 0x7ff9fc0e3e90>"
      ]
     },
     "execution_count": 56,
     "metadata": {},
     "output_type": "execute_result"
    }
   ],
   "source": [
    "imshow(grid)"
   ]
  },
  {
   "cell_type": "code",
   "execution_count": null,
   "metadata": {
    "collapsed": true
   },
   "outputs": [],
   "source": []
  }
 ],
 "metadata": {
  "kernelspec": {
   "display_name": "Python 2",
   "language": "python",
   "name": "python2"
  },
  "language_info": {
   "codemirror_mode": {
    "name": "ipython",
    "version": 2
   },
   "file_extension": ".py",
   "mimetype": "text/x-python",
   "name": "python",
   "nbconvert_exporter": "python",
   "pygments_lexer": "ipython2",
   "version": "2.7.6"
  }
 },
 "nbformat": 4,
 "nbformat_minor": 0
}
