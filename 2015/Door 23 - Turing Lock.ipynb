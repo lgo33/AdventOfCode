{
 "cells": [
  {
   "cell_type": "code",
   "execution_count": 16,
   "metadata": {
    "collapsed": false
   },
   "outputs": [],
   "source": [
    "ins = open('day23.txt', 'r').read().strip().split(\"\\n\")        \n",
    "HLF = 0\n",
    "TPL = 1\n",
    "INC = 2\n",
    "JMP = 3\n",
    "JIE = 4\n",
    "JIO = 5\n",
    "\n",
    "def parse(i):\n",
    "    cmd = i[:3]\n",
    "    arg = i[4:]\n",
    "    if cmd == 'hlf':\n",
    "        return (HLF, arg)\n",
    "    if cmd == 'tpl':\n",
    "        return (TPL, arg)\n",
    "    if cmd == 'inc':\n",
    "        return (INC, arg)\n",
    "    if cmd == 'jmp':\n",
    "        return (JMP, int(arg))\n",
    "    args = arg.split(',')\n",
    "    if cmd == 'jie':\n",
    "        return (JIE, (args[0], int(args[1]) ))\n",
    "    if cmd == 'jio':\n",
    "        return (JIO, (args[0], int(args[1]) ))\n",
    "pins = [parse(i) for i in ins]"
   ]
  },
  {
   "cell_type": "code",
   "execution_count": 38,
   "metadata": {
    "collapsed": false
   },
   "outputs": [],
   "source": [
    "#zip(ins, pins)\n",
    "def execute(ins):\n",
    "    cmd = ins[0]\n",
    "    arg = ins[1]\n",
    "    if cmd == HLF:\n",
    "        reg[arg] = reg[arg] / 2\n",
    "        return 1\n",
    "    if cmd == TPL:\n",
    "        reg[arg] = reg[arg] * 3\n",
    "        return 1\n",
    "    if cmd == INC:\n",
    "        reg[arg] = reg[arg] + 1\n",
    "        return 1\n",
    "    if cmd == JMP:        \n",
    "        return arg\n",
    "    if cmd == JIE:\n",
    "        if not reg[arg[0]] % 2:\n",
    "            return arg[1]\n",
    "        else:\n",
    "            return 1\n",
    "    if cmd == JIO:\n",
    "        if reg[arg[0]] == 1:\n",
    "            #print arg[0], reg[arg[0]]\n",
    "            return arg[1]\n",
    "        else:\n",
    "            return 1\n",
    "    "
   ]
  },
  {
   "cell_type": "code",
   "execution_count": 70,
   "metadata": {
    "collapsed": false
   },
   "outputs": [
    {
     "name": "stdout",
     "output_type": "stream",
     "text": [
      "{'a': 1, 'b': 307}\n"
     ]
    }
   ],
   "source": [
    "l = 0\n",
    "reg = {}\n",
    "reg['a'] = reg['b'] = 0\n",
    "while l < len(pins):\n",
    "    #print l, reg, ins[l],\n",
    "    l += execute(pins[l])\n",
    "    #print l\n",
    "print reg\n",
    "    "
   ]
  },
  {
   "cell_type": "code",
   "execution_count": 71,
   "metadata": {
    "collapsed": false
   },
   "outputs": [
    {
     "name": "stdout",
     "output_type": "stream",
     "text": [
      "{'a': 1, 'b': 160}\n"
     ]
    }
   ],
   "source": [
    "l = 0\n",
    "reg = {}\n",
    "reg['a'] = 1\n",
    "reg['b'] = 0\n",
    "while l < len(pins):\n",
    "    #print l, reg, ins[l]\n",
    "    l += execute(pins[l])\n",
    "    #print l\n",
    "print reg\n"
   ]
  },
  {
   "cell_type": "code",
   "execution_count": 67,
   "metadata": {
    "collapsed": true
   },
   "outputs": [],
   "source": [
    "import re\n",
    "#instrs = [x for x in re.findall('^(\\w+) (\\S+)(?:, (\\S+))?$', open('day23.txt','r').read(), re.M)]\n",
    "instrs = [x for x in re.findall('^(\\w+) (\\S+)(?:, (\\S+))?$', open('day23.txt','r').read(), re.M)]"
   ]
  },
  {
   "cell_type": "code",
   "execution_count": 68,
   "metadata": {
    "collapsed": false
   },
   "outputs": [
    {
     "data": {
      "text/plain": [
       "([('jio', 'a', '+18'), ('inc', 'a', ''), ('tpl', 'a', ''), ('inc', 'a', '')],\n",
       " ['jio a, +18', 'inc a', 'tpl a', 'inc a'])"
      ]
     },
     "execution_count": 68,
     "metadata": {},
     "output_type": "execute_result"
    }
   ],
   "source": [
    "instrs[:4], ins[:4]"
   ]
  },
  {
   "cell_type": "code",
   "execution_count": null,
   "metadata": {
    "collapsed": true
   },
   "outputs": [],
   "source": []
  }
 ],
 "metadata": {
  "kernelspec": {
   "display_name": "Python 2",
   "language": "python",
   "name": "python2"
  },
  "language_info": {
   "codemirror_mode": {
    "name": "ipython",
    "version": 2
   },
   "file_extension": ".py",
   "mimetype": "text/x-python",
   "name": "python",
   "nbconvert_exporter": "python",
   "pygments_lexer": "ipython2",
   "version": "2.7.8"
  }
 },
 "nbformat": 4,
 "nbformat_minor": 0
}
