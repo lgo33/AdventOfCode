{
 "cells": [
  {
   "cell_type": "code",
   "execution_count": 1,
   "metadata": {
    "collapsed": true
   },
   "outputs": [],
   "source": [
    "from itertools import combinations"
   ]
  },
  {
   "cell_type": "code",
   "execution_count": 2,
   "metadata": {
    "collapsed": true
   },
   "outputs": [],
   "source": [
    "class character():\n",
    "    def __init__(self, hp = 0, damage = 0, armor = 0):\n",
    "        self.maxhp = hp        \n",
    "        self.init_damage = damage\n",
    "        self.init_armor = armor\n",
    "        self.reset()\n",
    "    \n",
    "    def reset(self):\n",
    "        self.hp = self.maxhp\n",
    "        self.damage = self.init_damage\n",
    "        self.armor = self.init_armor\n",
    "        self.equipment = []\n",
    "        \n",
    "    def equip(self, eq):\n",
    "        cost = 0\n",
    "        for e in eq:\n",
    "            self.equipment.append(e[0])\n",
    "            cost += e[1]\n",
    "            self.damage += e[2]\n",
    "            self.armor += e[3]\n",
    "        return cost\n",
    "            \n",
    "    \n",
    "    def hit(self, enemy):\n",
    "        enemy.hp -= max(1, self.damage - enemy.armor)\n",
    "    \n",
    "    def fight(self, enemy):\n",
    "        while self.hp > 0 and enemy.hp > 0:\n",
    "            self.hit(enemy)\n",
    "            if enemy.hp <= 0:\n",
    "                return True\n",
    "            enemy.hit(self)\n",
    "            if self.hp <= 0:\n",
    "                return False\n",
    "            #print self.hp, boss.hp\n",
    "            \n",
    "weapon = (        #cost, damage,   armor  \n",
    "    ('Dagger',        8,     4,       0),\n",
    "    ('Shortsword',   10,     5,       0),\n",
    "    ('Warhammer',    25,     6,       0),\n",
    "    ('Longsword',    40,     7,       0),\n",
    "    ('Greataxe',     74,     8,       0))\n",
    "armor = (\n",
    "    ('None',          0,     0,       0), # no armor\n",
    "    ('Leather',      13,     0,       1),\n",
    "    ('Chainmail',    31,     0,       2),\n",
    "    ('Splintmail',   53,     0,       3),\n",
    "    ('Bandedmail',   75,     0,       4),\n",
    "    ('Platemail',   102,     0,       5))\n",
    "ring = (\n",
    "    ('None',          0,     0,       0),  # ~ 1 ring equipped\n",
    "    ('Damage +1',    25,     1,       0),\n",
    "    ('Damage +2',    50,     2,       0),\n",
    "    ('Damage +3',   100,     3,       0),\n",
    "    ('Defense +1',   20,     0,       1),\n",
    "    ('Defense +2',   40,     0,       2),\n",
    "    ('Defense +3',   80,     0,       3))\n"
   ]
  },
  {
   "cell_type": "code",
   "execution_count": 3,
   "metadata": {
    "collapsed": false
   },
   "outputs": [],
   "source": [
    "def pos_eq():    \n",
    "    for a in range(len(armor)):\n",
    "        yield (armor[a],)  # no ring equipped\n",
    "        for r in combinations(ring, 2):\n",
    "            yield (armor[a],) + r  # 1 or 2 rings equipped"
   ]
  },
  {
   "cell_type": "code",
   "execution_count": 4,
   "metadata": {
    "collapsed": false
   },
   "outputs": [
    {
     "name": "stdout",
     "output_type": "stream",
     "text": [
      "Min - Win:  121 ['Longsword', 'Chainmail', 'None', 'Damage +2']\n",
      "Max - Loss: 201 ['Dagger', 'Leather', 'Damage +3', 'Defense +3']\n"
     ]
    }
   ],
   "source": [
    "mincost = 1000\n",
    "maxcost = 0\n",
    "mineq = None\n",
    "maxeq = None\n",
    "\n",
    "for w in weapon:\n",
    "    boss = character(hp = 103, damage = 9, armor = 2)        \n",
    "    player = character(hp = 100, damage = 0, armor = 0)\n",
    "    for eq in pos_eq():            \n",
    "        cost = player.equip((w,) + eq)\n",
    "        if player.fight(boss):\n",
    "            if cost < mincost:\n",
    "                mineq = player.equipment\n",
    "                mincost = cost\n",
    "                #print \"Win: \", mincost, mineq\n",
    "        else:\n",
    "            if cost > maxcost:\n",
    "                maxeq = player.equipment\n",
    "                maxcost = cost\n",
    "                #print \"Loss:\", maxcost, maxeq\n",
    "        player.reset()\n",
    "        boss.reset()\n",
    "\n",
    "print \"Min - Win: \", mincost, mineq\n",
    "print \"Max - Loss:\", maxcost, maxeq\n"
   ]
  },
  {
   "cell_type": "code",
   "execution_count": 13,
   "metadata": {
    "collapsed": false
   },
   "outputs": [
    {
     "data": {
      "text/plain": [
       "[(('Dagger', 8, 4, 0), ('None', 0, 0, 0), ('None0', 0, 0, 0)),\n",
       " (('Dagger', 8, 4, 0), ('None', 0, 0, 0), ('Damage +1', 25, 1, 0)),\n",
       " (('Dagger', 8, 4, 0), ('None', 0, 0, 0), ('Damage +2', 50, 2, 0)),\n",
       " (('Dagger', 8, 4, 0), ('Leather', 13, 0, 1), ('None0', 0, 0, 0)),\n",
       " (('Dagger', 8, 4, 0), ('Leather', 13, 0, 1), ('Damage +1', 25, 1, 0)),\n",
       " (('Dagger', 8, 4, 0), ('Leather', 13, 0, 1), ('Damage +2', 50, 2, 0)),\n",
       " (('Dagger', 8, 4, 0), ('Chainmail', 31, 0, 2), ('None0', 0, 0, 0)),\n",
       " (('Dagger', 8, 4, 0), ('Chainmail', 31, 0, 2), ('Damage +1', 25, 1, 0)),\n",
       " (('Dagger', 8, 4, 0), ('Chainmail', 31, 0, 2), ('Damage +2', 50, 2, 0)),\n",
       " (('Shortsword', 10, 5, 0), ('None', 0, 0, 0), ('None0', 0, 0, 0)),\n",
       " (('Shortsword', 10, 5, 0), ('None', 0, 0, 0), ('Damage +1', 25, 1, 0)),\n",
       " (('Shortsword', 10, 5, 0), ('None', 0, 0, 0), ('Damage +2', 50, 2, 0)),\n",
       " (('Shortsword', 10, 5, 0), ('Leather', 13, 0, 1), ('None0', 0, 0, 0)),\n",
       " (('Shortsword', 10, 5, 0), ('Leather', 13, 0, 1), ('Damage +1', 25, 1, 0)),\n",
       " (('Shortsword', 10, 5, 0), ('Leather', 13, 0, 1), ('Damage +2', 50, 2, 0)),\n",
       " (('Shortsword', 10, 5, 0), ('Chainmail', 31, 0, 2), ('None0', 0, 0, 0)),\n",
       " (('Shortsword', 10, 5, 0), ('Chainmail', 31, 0, 2), ('Damage +1', 25, 1, 0)),\n",
       " (('Shortsword', 10, 5, 0), ('Chainmail', 31, 0, 2), ('Damage +2', 50, 2, 0)),\n",
       " (('Warhammer', 25, 6, 0), ('None', 0, 0, 0), ('None0', 0, 0, 0)),\n",
       " (('Warhammer', 25, 6, 0), ('None', 0, 0, 0), ('Damage +1', 25, 1, 0)),\n",
       " (('Warhammer', 25, 6, 0), ('None', 0, 0, 0), ('Damage +2', 50, 2, 0)),\n",
       " (('Warhammer', 25, 6, 0), ('Leather', 13, 0, 1), ('None0', 0, 0, 0)),\n",
       " (('Warhammer', 25, 6, 0), ('Leather', 13, 0, 1), ('Damage +1', 25, 1, 0)),\n",
       " (('Warhammer', 25, 6, 0), ('Leather', 13, 0, 1), ('Damage +2', 50, 2, 0)),\n",
       " (('Warhammer', 25, 6, 0), ('Chainmail', 31, 0, 2), ('None0', 0, 0, 0)),\n",
       " (('Warhammer', 25, 6, 0), ('Chainmail', 31, 0, 2), ('Damage +1', 25, 1, 0)),\n",
       " (('Warhammer', 25, 6, 0), ('Chainmail', 31, 0, 2), ('Damage +2', 50, 2, 0))]"
      ]
     },
     "execution_count": 13,
     "metadata": {},
     "output_type": "execute_result"
    }
   ],
   "source": [
    "from itertools import product\n",
    "list(product(weapon[:3], armor[:3], ring[:3]))"
   ]
  },
  {
   "cell_type": "code",
   "execution_count": null,
   "metadata": {
    "collapsed": true
   },
   "outputs": [],
   "source": []
  }
 ],
 "metadata": {
  "kernelspec": {
   "display_name": "Python 2",
   "language": "python",
   "name": "python2"
  },
  "language_info": {
   "codemirror_mode": {
    "name": "ipython",
    "version": 2
   },
   "file_extension": ".py",
   "mimetype": "text/x-python",
   "name": "python",
   "nbconvert_exporter": "python",
   "pygments_lexer": "ipython2",
   "version": "2.7.6"
  }
 },
 "nbformat": 4,
 "nbformat_minor": 0
}
