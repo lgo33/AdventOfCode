{
 "cells": [
  {
   "cell_type": "code",
   "execution_count": 26,
   "metadata": {
    "collapsed": true
   },
   "outputs": [],
   "source": [
    "from itertools import combinations"
   ]
  },
  {
   "cell_type": "code",
   "execution_count": 27,
   "metadata": {
    "collapsed": true
   },
   "outputs": [],
   "source": [
    "packages = map(int, open('day24.txt', 'r').read().strip().split(\"\\n\"))"
   ]
  },
  {
   "cell_type": "code",
   "execution_count": 28,
   "metadata": {
    "collapsed": false
   },
   "outputs": [],
   "source": [
    "target = sum(packages) / 3"
   ]
  },
  {
   "cell_type": "code",
   "execution_count": 63,
   "metadata": {
    "collapsed": false
   },
   "outputs": [
    {
     "name": "stdout",
     "output_type": "stream",
     "text": [
      "set([1, 3, 5, 11, 13, 17, 19, 23, 29, 31, 37, 41, 43, 47, 53, 59, 67, 71, 73, 79, 83, 89, 97, 101, 103, 107, 109, 113])\n"
     ]
    }
   ],
   "source": [
    "allp = set(packages)\n",
    "print allp"
   ]
  },
  {
   "cell_type": "code",
   "execution_count": 105,
   "metadata": {
    "collapsed": false
   },
   "outputs": [],
   "source": [
    "def combs(c, ceil=0, add=0, lvl = 0, maxlen = 0):\n",
    "    l = len(c)\n",
    "    for i in range(l):\n",
    "        if add + c[i] == ceil:\n",
    "            yield [c[i]]                \n",
    "        if ceil == 0 or (add + c[i]) < ceil:\n",
    "            if not maxlen or lvl < maxlen-1:\n",
    "                for j in combs(c[i+1:], ceil=ceil, add=add+c[i], lvl=lvl+1, maxlen=maxlen):\n",
    "                    yield [c[i]] + j"
   ]
  },
  {
   "cell_type": "code",
   "execution_count": 109,
   "metadata": {
    "collapsed": false
   },
   "outputs": [],
   "source": [
    "# list(combs(range(1, 10), ceil = 11, maxlen = 3))"
   ]
  },
  {
   "cell_type": "code",
   "execution_count": 49,
   "metadata": {
    "collapsed": false
   },
   "outputs": [],
   "source": [
    "mincmb = []\n",
    "for c in combinations(packages, 6):\n",
    "    if sum(c) == target:\n",
    "        mincmb.append(c)\n",
    "\n",
    "qe = map(lambda x: reduce(lambda a,b : a*b, x), mincmb)\n",
    "order = sorted(range(len(qe)), key=qe.__getitem__)"
   ]
  },
  {
   "cell_type": "code",
   "execution_count": 67,
   "metadata": {
    "collapsed": false
   },
   "outputs": [
    {
     "name": "stdout",
     "output_type": "stream",
     "text": [
      " 0 10439961859 (1, 83, 101, 103, 107, 113)\n"
     ]
    }
   ],
   "source": [
    "for i in order:    \n",
    "    left = list(allp.difference(mincmb[i]))\n",
    "    conf = list(combs(left, ceil = target, maxlvl=11))\n",
    "    if conf:\n",
    "        #print conf\n",
    "        print i, qe[i], mincmb[i]\n",
    "        break"
   ]
  },
  {
   "cell_type": "code",
   "execution_count": 68,
   "metadata": {
    "collapsed": true
   },
   "outputs": [],
   "source": [
    "# Part B\n",
    "target = sum(packages) / 4"
   ]
  },
  {
   "cell_type": "code",
   "execution_count": 76,
   "metadata": {
    "collapsed": false
   },
   "outputs": [],
   "source": [
    "mincmb = []\n",
    "for c in combinations(packages, 5):\n",
    "    if sum(c) == target:\n",
    "        mincmb.append(c)\n",
    "\n",
    "qe = map(lambda x: reduce(lambda a,b : a*b, x), mincmb)\n",
    "order = sorted(range(len(qe)), key=qe.__getitem__)"
   ]
  },
  {
   "cell_type": "code",
   "execution_count": 78,
   "metadata": {
    "collapsed": false
   },
   "outputs": [
    {
     "data": {
      "text/plain": [
       "331"
      ]
     },
     "execution_count": 78,
     "metadata": {},
     "output_type": "execute_result"
    }
   ],
   "source": [
    "len(mincmb)"
   ]
  },
  {
   "cell_type": "code",
   "execution_count": 80,
   "metadata": {
    "collapsed": false
   },
   "outputs": [
    {
     "data": {
      "text/plain": [
       "72050269"
      ]
     },
     "execution_count": 80,
     "metadata": {},
     "output_type": "execute_result"
    }
   ],
   "source": [
    "qe[0]"
   ]
  },
  {
   "cell_type": "code",
   "execution_count": null,
   "metadata": {
    "collapsed": true
   },
   "outputs": [],
   "source": []
  }
 ],
 "metadata": {
  "kernelspec": {
   "display_name": "Python 2",
   "language": "python",
   "name": "python2"
  },
  "language_info": {
   "codemirror_mode": {
    "name": "ipython",
    "version": 2
   },
   "file_extension": ".py",
   "mimetype": "text/x-python",
   "name": "python",
   "nbconvert_exporter": "python",
   "pygments_lexer": "ipython2",
   "version": "2.7.11"
  }
 },
 "nbformat": 4,
 "nbformat_minor": 0
}
