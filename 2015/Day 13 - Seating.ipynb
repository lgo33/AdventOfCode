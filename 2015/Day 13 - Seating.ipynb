{
 "cells": [
  {
   "cell_type": "code",
   "execution_count": 1,
   "metadata": {
    "collapsed": true
   },
   "outputs": [],
   "source": [
    "import numpy as np"
   ]
  },
  {
   "cell_type": "code",
   "execution_count": 2,
   "metadata": {
    "collapsed": true
   },
   "outputs": [],
   "source": [
    "# memoize results \n",
    "# not used here, since we run with two different inputs\n",
    "# would be needed for larger n\n",
    "def memoize(func):\n",
    "    results = {}\n",
    "    def helper(*args):\n",
    "        if args not in results:\n",
    "            results[args] = func(*args)\n",
    "        return results[args]\n",
    "    return helper"
   ]
  },
  {
   "cell_type": "code",
   "execution_count": 3,
   "metadata": {
    "collapsed": false,
    "scrolled": true
   },
   "outputs": [
    {
     "name": "stdout",
     "output_type": "stream",
     "text": [
      "{'Mallory': 7, 'Frank': 5, 'Alice': 0, 'David': 3, 'George': 6, 'Bob': 1, 'Eric': 4, 'Carol': 2}\n"
     ]
    }
   ],
   "source": [
    "# read in guest relations\n",
    "guest = {}\n",
    "n = 0\n",
    "rel = {}\n",
    "with open(\"day13.txt\", \"r\") as f:\n",
    "    for line in f:\n",
    "        s = line.split()\n",
    "        s[-1] = s[-1][:-1]\n",
    "        for g in (s[0], s[-1]):\n",
    "            if g not in guest:\n",
    "                # print g\n",
    "                guest[g] = n\n",
    "                n += 1\n",
    "        if s[2] == 'lose':\n",
    "            rel[(guest[s[0]], guest[s[-1]])] = -int(s[3])\n",
    "        else:\n",
    "            rel[(guest[s[0]], guest[s[-1]])] = int(s[3])\n",
    "print guest"
   ]
  },
  {
   "cell_type": "code",
   "execution_count": 4,
   "metadata": {
    "collapsed": false
   },
   "outputs": [],
   "source": [
    "# store mutual symmetric relations in n x n array\n",
    "happy = np.zeros((n, n))\n",
    "for i in range(n):\n",
    "    for j in range(i+1, n):\n",
    "        happy[i, j] = rel[(i, j)] + rel[(j, i)]\n",
    "        happy[j, i] = happy[i, j]\n",
    "    \n",
    "def unpack(ind):    \n",
    "    return [i for i in range(n) if (1<<i) & ind]"
   ]
  },
  {
   "cell_type": "code",
   "execution_count": 5,
   "metadata": {
    "collapsed": false
   },
   "outputs": [],
   "source": [
    "# dynamic programming here:\n",
    "# given a set of guests (bitcoded in ind) what is the best seating \n",
    "# if outer[0] is sitting to the far left and outer[1] to the far right\n",
    "# new guests are always placed to the far right. \n",
    "\n",
    "#@memoize\n",
    "def seating(ind, outer):\n",
    "    left, right = outer\n",
    "    lost = happy[left, right]\n",
    "    res = []\n",
    "    members = unpack(ind)\n",
    "    if len(members) < 4:\n",
    "        # 3 or less guests: every seating is the same\n",
    "        return sum([happy[i, j] for i, j in zip(members[:], members[1:] + [members[0]]) ])\n",
    "    l = ind^(1<<right)\n",
    "    for i in members:\n",
    "        if i == left or i == right:\n",
    "            continue\n",
    "        # outer guests stay the same, try every subsample where i (inner guest) was added last\n",
    "        res.append( seating(l, (left, i)) - happy[left, i] + happy[i, right])\n",
    "    return max(res) + happy[left, right] "
   ]
  },
  {
   "cell_type": "code",
   "execution_count": 6,
   "metadata": {
    "collapsed": false
   },
   "outputs": [
    {
     "name": "stdout",
     "output_type": "stream",
     "text": [
      "664.0 [664.0, 520.0, 664.0, 626.0, 333.0, 514.0, 482.0]\n"
     ]
    }
   ],
   "source": [
    "res = [seating((1<<n) - 1, (0, i)) for i in range(1, n)]\n",
    "print max(res), res"
   ]
  },
  {
   "cell_type": "code",
   "execution_count": 11,
   "metadata": {
    "collapsed": false
   },
   "outputs": [
    {
     "name": "stdout",
     "output_type": "stream",
     "text": [
      "640.0 [640.0, 477.0, 640.0, 602.0, 395.0, 589.0, 544.0, 636.0]\n"
     ]
    }
   ],
   "source": [
    "dum = np.zeros((n+1, n+1))\n",
    "dum[:n, :n] = happy\n",
    "happy = dum\n",
    "n = n + 1\n",
    "\n",
    "res = [seating((1<<n) - 1, (0, i)) for i in range(1, n)]\n",
    "print max(res), res"
   ]
  },
  {
   "cell_type": "code",
   "execution_count": 7,
   "metadata": {
    "collapsed": false
   },
   "outputs": [
    {
     "data": {
      "text/plain": [
       "8659"
      ]
     },
     "execution_count": 7,
     "metadata": {},
     "output_type": "execute_result"
    }
   ],
   "source": [
    "count"
   ]
  },
  {
   "cell_type": "code",
   "execution_count": null,
   "metadata": {
    "collapsed": true
   },
   "outputs": [],
   "source": []
  }
 ],
 "metadata": {
  "kernelspec": {
   "display_name": "Python 2",
   "language": "python",
   "name": "python2"
  },
  "language_info": {
   "codemirror_mode": {
    "name": "ipython",
    "version": 2
   },
   "file_extension": ".py",
   "mimetype": "text/x-python",
   "name": "python",
   "nbconvert_exporter": "python",
   "pygments_lexer": "ipython2",
   "version": "2.7.8"
  }
 },
 "nbformat": 4,
 "nbformat_minor": 0
}
