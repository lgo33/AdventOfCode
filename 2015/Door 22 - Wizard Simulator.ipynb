{
 "cells": [
  {
   "cell_type": "code",
   "execution_count": 2,
   "metadata": {
    "collapsed": true
   },
   "outputs": [],
   "source": [
    "from random import randint, choice"
   ]
  },
  {
   "cell_type": "code",
   "execution_count": 3,
   "metadata": {
    "collapsed": true
   },
   "outputs": [],
   "source": [
    "# Hit Points: 71\n",
    "# Damage: 10"
   ]
  },
  {
   "cell_type": "code",
   "execution_count": 21,
   "metadata": {
    "collapsed": false
   },
   "outputs": [],
   "source": [
    "class duel(object):\n",
    "    def __init__(self, A, B, handicap = 0):\n",
    "        self.A = A\n",
    "        self.B = B\n",
    "        self.handicap = handicap\n",
    "        \n",
    "    def check(self):        \n",
    "        if self.A.hp <= 0 or self.A.mana < 0:\n",
    "                return self.B\n",
    "        if self.B.hp <= 0 or self.B.mana < 0:\n",
    "                return self.A\n",
    "        return None\n",
    "        \n",
    "    def start(self):\n",
    "        fight.history = []\n",
    "        cont_spells = []\n",
    "        step = 0\n",
    "        while True:\n",
    "            #print \"step %d \" % (step)\n",
    "            #if len(cont_spells) == 0:\n",
    "            #    spell = self.A.cast(dum, target = self.B)\n",
    "            #    active_spells.append(spell)\n",
    "            \n",
    "            if not step % 2:\n",
    "                self.A.hp -= self.handicap\n",
    "                if self.check():\n",
    "                    return self.check()\n",
    "                \n",
    "            for s in cont_spells[:]:\n",
    "                if not s.tick():\n",
    "                    s.end_effect()\n",
    "                    cont_spells.remove(s)                                        \n",
    "            \n",
    "            if self.check():\n",
    "                return self.check()            \n",
    "            \n",
    "            if not step % 2:\n",
    "                active = self.A\n",
    "                target = self.B\n",
    "            else:\n",
    "                active = self.B\n",
    "                target = self.A\n",
    "            \n",
    "            if active.damage:\n",
    "                #print \"hit\" #, \"- active: \", [c.__class__.__name__ for c in cont_spells]\n",
    "                target.hp -= max(1, active.damage - target.armor)\n",
    "            \n",
    "            if active.spells:\n",
    "                spell = active.choose(ongoing = cont_spells, target = target, handicap = self.handicap, step = step)\n",
    "                cont_spells.append(active.cast(spell, target = target))\n",
    "                fight.history.append(spell)\n",
    "            \n",
    "                #print \"player: hp %d | mana %d | mana spent %d | armor %d \" % (self.A.hp, self.A.mana, self.A.mana_spent, self.A.armor)\n",
    "                #print \"boss:   hp %d |\" % (self.B.hp)            \n",
    "                #print \"active: \", [c.__class__.__name__ for c in cont_spells]\n",
    "            \n",
    "            if self.check():\n",
    "                return self.check()\n",
    "            \n",
    "            step += 1\n",
    "            if step > 100:\n",
    "                break"
   ]
  },
  {
   "cell_type": "code",
   "execution_count": 22,
   "metadata": {
    "collapsed": false
   },
   "outputs": [],
   "source": [
    "class character(object):\n",
    "    def __init__(self, hp = 0, damage = 0, armor = 0, mana = 0, random = False):\n",
    "        self.init_hp = hp        \n",
    "        self.init_damage = damage\n",
    "        self.init_armor = armor\n",
    "        self.init_mana = mana\n",
    "        self.spells = []\n",
    "        self.random = random\n",
    "        self.reset()\n",
    "    \n",
    "    def reset(self):\n",
    "        self.hp = self.init_hp\n",
    "        self.damage = self.init_damage\n",
    "        self.armor = self.init_armor\n",
    "        self.mana = self.init_mana\n",
    "        self.mana_spent = 0\n",
    "        self.equipment = []\n",
    "        \n",
    "    def equip(self, eq):\n",
    "        cost = 0\n",
    "        for e in eq:\n",
    "            self.equipment.append(e[0])\n",
    "            cost += e[1]\n",
    "            self.damage += e[2]\n",
    "            self.armor += e[3]\n",
    "        return cost\n",
    "    \n",
    "    def choose(self, ongoing = [], target = None, handicap = 0, step = 0):        \n",
    "        dot = 0\n",
    "        for s in ongoing:\n",
    "            if hasattr(s, 'dot'):\n",
    "                dot += s.dot\n",
    "        \n",
    "        possible = [s for s in self.spells if s not in ongoing]\n",
    "        if self.random:\n",
    "            return choice(possible)\n",
    "        \n",
    "        if handicap and step > 18:\n",
    "            return choice(possible)\n",
    "        \n",
    "        #if self.hp == 3:\n",
    "        #    return possible[-1]\n",
    "        \n",
    "        if handicap:\n",
    "            for p in possible:\n",
    "                if type(p) == Magic_Missile and (p.damage + dot) >= target.hp:\n",
    "                    return p\n",
    "        else:\n",
    "            for p in possible:\n",
    "                if type(p) == Magic_Missile and (2*p.damage + 2*dot) >= target.hp:\n",
    "                    return p\n",
    "        \n",
    "        if handicap:\n",
    "            for p in possible:\n",
    "                if type(p) == Recharge and self.mana < possible[0].manacost + p.manacost and target.hp > 23:\n",
    "                    return p\n",
    "        else:            \n",
    "            for p in possible:\n",
    "                if type(p) == Recharge and self.mana < possible[0].manacost + p.manacost and target.hp > 23:\n",
    "                    return p\n",
    "        return possible[0]\n",
    "        #return choice(possible)            \n",
    "            \n",
    "    def cast(self, spell, target = None):\n",
    "        spell.cast(caster = self, target = target)\n",
    "        return spell\n",
    "    \n",
    "    def hit(self, enemy):\n",
    "        enemy.hp -= max(1, self.damage - enemy.armor)\n",
    "    \n",
    "    def fight(self, enemy):\n",
    "        while self.hp > 0 and enemy.hp > 0:\n",
    "            self.hit(enemy)\n",
    "            if enemy.hp <= 0:\n",
    "                return True\n",
    "            enemy.hit(self)\n",
    "            if self.hp <= 0:\n",
    "                return False\n",
    "            #print self.hp, boss.hp"
   ]
  },
  {
   "cell_type": "code",
   "execution_count": 26,
   "metadata": {
    "collapsed": false
   },
   "outputs": [],
   "source": [
    "class spell(object):\n",
    "    def __init__(self, duration = 0, manacost = 0):        \n",
    "        self.duration = duration\n",
    "        self.manacost = manacost\n",
    "        #print \"spell init\", manacost\n",
    "        \n",
    "    def cast(self, caster = None, target = None):\n",
    "        self.caster = caster\n",
    "        self.target = target\n",
    "        self.timer = self.duration\n",
    "        caster.mana -= self.manacost\n",
    "        caster.mana_spent += self.manacost\n",
    "        self.cast_effect()\n",
    "        #print \"cast: \", self.__class__.__name__, \" for \", self.manacost, \" mana\"\n",
    "        return self\n",
    "        \n",
    "    def tick(self):\n",
    "        self.timer -= 1\n",
    "        self.cont_effect()\n",
    "        if self.timer <= 0:\n",
    "            return False\n",
    "        return True\n",
    "        \n",
    "    def cast_effect(self):\n",
    "        pass\n",
    "    \n",
    "    def cont_effect(self):\n",
    "        pass\n",
    "        \n",
    "    def end_effect(self):\n",
    "        pass\n",
    "    \n",
    "    def __repr__(self):\n",
    "        return self.__class__.__name__\n",
    "\n",
    "class Magic_Missile(spell):\n",
    "    def __init__(self, damage = 4):\n",
    "        self.damage = damage\n",
    "        super(Magic_Missile, self).__init__(duration = 0, manacost = 53)\n",
    "        \n",
    "    def cast_effect(self):\n",
    "        self.target.hp -= self.damage\n",
    "        \n",
    "class Drain(spell):\n",
    "    def __init__(self, damage = 2):\n",
    "        self.damage = damage\n",
    "        super(Drain, self).__init__(duration = 0, manacost = 73)\n",
    "        \n",
    "    def cast_effect(self):\n",
    "        self.target.hp -= self.damage\n",
    "        self.caster.hp += self.damage\n",
    "        \n",
    "class Shield(spell):\n",
    "    def __init__(self, effect = 7):\n",
    "        self.effect = effect\n",
    "        super(Shield, self).__init__(duration = 6, manacost = 113)\n",
    "        \n",
    "    def cast_effect(self):        \n",
    "        self.caster.armor += self.effect\n",
    "        \n",
    "    def end_effect(self):\n",
    "        self.caster.armor -= self.effect\n",
    "\n",
    "class Poison(spell):\n",
    "    def __init__(self, dot = 3):\n",
    "        self.dot = dot\n",
    "        super(Poison, self).__init__(duration = 6, manacost = 173)\n",
    "        \n",
    "    def cont_effect(self):\n",
    "        self.target.hp -= self.dot\n",
    "        \n",
    "class Recharge(spell):\n",
    "    def __init__(self, effect = 101):\n",
    "        self.effect = effect\n",
    "        super(Recharge, self).__init__(duration = 5, manacost = 229)\n",
    "        \n",
    "    def cont_effect(self):\n",
    "        self.caster.mana += self.effect\n"
   ]
  },
  {
   "cell_type": "code",
   "execution_count": 27,
   "metadata": {
    "collapsed": false
   },
   "outputs": [],
   "source": [
    "player = character(hp = 50, mana = 500)\n",
    "boss = character(hp = 71, damage = 10)\n",
    "mm = Magic_Missile()\n",
    "drain = Drain()\n",
    "shield = Shield()\n",
    "poison = Poison()\n",
    "recharge = Recharge()\n",
    "#player.spells = [shield, recharge, poison, mm, drain]\n",
    "#player.spells = [shield, poison, recharge, mm, drain]\n",
    "player.spells = [poison, shield, recharge, mm , drain]\n",
    "# dum = dot()"
   ]
  },
  {
   "cell_type": "code",
   "execution_count": 28,
   "metadata": {
    "collapsed": false
   },
   "outputs": [],
   "source": [
    "fight = duel(player, boss)\n",
    "player.reset()\n",
    "boss.reset()\n",
    "winner = fight.start()"
   ]
  },
  {
   "cell_type": "code",
   "execution_count": 29,
   "metadata": {
    "collapsed": false
   },
   "outputs": [
    {
     "name": "stdout",
     "output_type": "stream",
     "text": [
      "True 1824 3 191\n"
     ]
    }
   ],
   "source": [
    "print winner == player, player.mana_spent, player.hp, player.mana"
   ]
  },
  {
   "cell_type": "code",
   "execution_count": 30,
   "metadata": {
    "collapsed": false
   },
   "outputs": [],
   "source": [
    "fight = duel(player, boss, handicap = 1)\n",
    "#player.spells = [shield, recharge, poison, mm, drain]\n",
    "#player.spells = [shield, drain, poison, recharge, mm]\n",
    "#player.spells = [poison, shield, recharge, mm, drain]\n",
    "player.spells = [shield, poison, recharge, mm] #, drain]\n",
    "player.reset()\n",
    "boss.reset()\n",
    "winner = fight.start()"
   ]
  },
  {
   "cell_type": "code",
   "execution_count": 31,
   "metadata": {
    "collapsed": false
   },
   "outputs": [
    {
     "name": "stdout",
     "output_type": "stream",
     "text": [
      "False 2053 -2 13 467\n"
     ]
    }
   ],
   "source": [
    "print winner == player, player.mana_spent, player.hp, boss.hp, player.mana"
   ]
  },
  {
   "cell_type": "code",
   "execution_count": 32,
   "metadata": {
    "collapsed": false
   },
   "outputs": [
    {
     "name": "stdout",
     "output_type": "stream",
     "text": [
      "35 1937 1 0 78 [Shield, Recharge, Poison, Shield, Recharge, Poison, Shield, Recharge, Poison, Shield, Magic_Missile, Poison, Magic_Missile]\n"
     ]
    }
   ],
   "source": [
    "fight = duel(player, boss, handicap = 1)\n",
    "i = 0\n",
    "while True:\n",
    "    player.reset()\n",
    "    boss.reset()\n",
    "    if fight.start() == player:\n",
    "        break\n",
    "    i += 1\n",
    "    if not i % 100:\n",
    "        print i, len(fight.history)\n",
    "    #break\n",
    "print i, player.mana_spent, player.hp, boss.hp, player.mana, fight.history"
   ]
  },
  {
   "cell_type": "code",
   "execution_count": null,
   "metadata": {
    "collapsed": true
   },
   "outputs": [],
   "source": []
  },
  {
   "cell_type": "code",
   "execution_count": null,
   "metadata": {
    "collapsed": true
   },
   "outputs": [],
   "source": []
  }
 ],
 "metadata": {
  "kernelspec": {
   "display_name": "Python 2",
   "language": "python",
   "name": "python2"
  },
  "language_info": {
   "codemirror_mode": {
    "name": "ipython",
    "version": 2
   },
   "file_extension": ".py",
   "mimetype": "text/x-python",
   "name": "python",
   "nbconvert_exporter": "python",
   "pygments_lexer": "ipython2",
   "version": "2.7.8"
  }
 },
 "nbformat": 4,
 "nbformat_minor": 0
}
