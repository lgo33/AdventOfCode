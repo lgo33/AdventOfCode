{
 "cells": [
  {
   "cell_type": "code",
   "execution_count": 1,
   "metadata": {
    "collapsed": true
   },
   "outputs": [],
   "source": [
    "import numpy as np\n",
    "from itertools import combinations"
   ]
  },
  {
   "cell_type": "code",
   "execution_count": 2,
   "metadata": {
    "collapsed": true
   },
   "outputs": [],
   "source": [
    "def index(x):\n",
    "    return np.sum([1<<i for i in x])"
   ]
  },
  {
   "cell_type": "code",
   "execution_count": 24,
   "metadata": {
    "collapsed": false
   },
   "outputs": [],
   "source": [
    "nplaces = 8\n",
    "places = {}\n",
    "distances = np.zeros((nplaces, nplaces))\n",
    "A = np.zeros((1<<nplaces, nplaces))\n",
    "\n",
    "n = 0\n",
    "\n",
    "with open('day9.txt') as f:\n",
    "    for line in f:\n",
    "        pl, dist = line.rstrip().split('=')        \n",
    "        dist = int(dist)\n",
    "        dum = map(lambda x: x.strip(), pl.split('to'))\n",
    "        for p in dum: \n",
    "            if p not in places:\n",
    "                places[p] = n\n",
    "                n += 1\n",
    "        distances[places[dum[0]], places[dum[1]]] = dist\n",
    "        distances[places[dum[1]], places[dum[0]]] = dist\n",
    "        i = index((places[dum[0]], places[dum[1]]))\n",
    "        A[i, places[dum[1]]] = dist\n",
    "        A[i, places[dum[0]]] = dist\n",
    "        #print dum,\"!\", dist\n",
    "B = A.copy()"
   ]
  },
  {
   "cell_type": "code",
   "execution_count": 25,
   "metadata": {
    "collapsed": false
   },
   "outputs": [
    {
     "data": {
      "text/plain": [
       "{'AlphaCentauri': 1,\n",
       " 'Arbre': 7,\n",
       " 'Faerun': 4,\n",
       " 'Norrath': 5,\n",
       " 'Snowdin': 2,\n",
       " 'Straylight': 6,\n",
       " 'Tambi': 3,\n",
       " 'Tristram': 0}"
      ]
     },
     "execution_count": 25,
     "metadata": {},
     "output_type": "execute_result"
    }
   ],
   "source": [
    "places"
   ]
  },
  {
   "cell_type": "code",
   "execution_count": 26,
   "metadata": {
    "collapsed": false
   },
   "outputs": [],
   "source": [
    "# A[index, j] stores the shortest path through all destinations \n",
    "#             encoded as a bitmap in index, that ends at location j\n",
    "for l in range(3, nplaces+1):\n",
    "    for path in combinations(range(nplaces), l):\n",
    "        #if l>3:\n",
    "        #    continue        \n",
    "        i = index(path)\n",
    "        for j in path:            \n",
    "            ind = i ^ (1 << j)\n",
    "            result = np.inf\n",
    "            for k in path:\n",
    "                if j == k:\n",
    "                    continue\n",
    "                new = A[ind, k] + distances[k, j]\n",
    "                if new < result:\n",
    "                    result = new\n",
    "            A[i, j] = result\n",
    "            #print i, j, result\n"
   ]
  },
  {
   "cell_type": "code",
   "execution_count": 27,
   "metadata": {
    "collapsed": false
   },
   "outputs": [
    {
     "data": {
      "text/plain": [
       "251.0"
      ]
     },
     "execution_count": 27,
     "metadata": {},
     "output_type": "execute_result"
    }
   ],
   "source": [
    "min(A[(1<<8)-1, :])"
   ]
  },
  {
   "cell_type": "code",
   "execution_count": 7,
   "metadata": {
    "collapsed": true
   },
   "outputs": [],
   "source": [
    "# Part 2"
   ]
  },
  {
   "cell_type": "code",
   "execution_count": 28,
   "metadata": {
    "collapsed": true
   },
   "outputs": [],
   "source": [
    "for l in range(3, nplaces+1):\n",
    "    for path in combinations(range(nplaces), l):\n",
    "        #if l>3:\n",
    "        #    continue        \n",
    "        i = index(path)\n",
    "        for j in path:            \n",
    "            ind = i ^ (1 << j)\n",
    "            result = 0\n",
    "            for k in path:\n",
    "                if j == k:\n",
    "                    continue\n",
    "                new = B[ind, k] + distances[k, j]\n",
    "                if new > result:\n",
    "                    result = new\n",
    "            B[i, j] = result\n",
    "            #print i, j, result"
   ]
  },
  {
   "cell_type": "code",
   "execution_count": 29,
   "metadata": {
    "collapsed": false
   },
   "outputs": [
    {
     "data": {
      "text/plain": [
       "898.0"
      ]
     },
     "execution_count": 29,
     "metadata": {},
     "output_type": "execute_result"
    }
   ],
   "source": [
    "max(B[(1<<8)-1, :])"
   ]
  },
  {
   "cell_type": "code",
   "execution_count": 30,
   "metadata": {
    "collapsed": false
   },
   "outputs": [
    {
     "data": {
      "text/plain": [
       "array([ 898.,  867.,  898.,  893.,  895.,  868.,  895.,  871.])"
      ]
     },
     "execution_count": 30,
     "metadata": {},
     "output_type": "execute_result"
    }
   ],
   "source": [
    "B[(1<<8)-1, :]"
   ]
  },
  {
   "cell_type": "code",
   "execution_count": null,
   "metadata": {
    "collapsed": true
   },
   "outputs": [],
   "source": []
  }
 ],
 "metadata": {
  "kernelspec": {
   "display_name": "Python 2",
   "language": "python",
   "name": "python2"
  },
  "language_info": {
   "codemirror_mode": {
    "name": "ipython",
    "version": 2
   },
   "file_extension": ".py",
   "mimetype": "text/x-python",
   "name": "python",
   "nbconvert_exporter": "python",
   "pygments_lexer": "ipython2",
   "version": "2.7.6"
  }
 },
 "nbformat": 4,
 "nbformat_minor": 0
}
