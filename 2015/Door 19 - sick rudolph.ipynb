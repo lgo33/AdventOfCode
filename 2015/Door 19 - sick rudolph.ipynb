{
 "cells": [
  {
   "cell_type": "code",
   "execution_count": 1,
   "metadata": {
    "collapsed": true
   },
   "outputs": [],
   "source": [
    "from collections import defaultdict\n",
    "import re"
   ]
  },
  {
   "cell_type": "code",
   "execution_count": 2,
   "metadata": {
    "collapsed": false
   },
   "outputs": [],
   "source": [
    "inp = open('day19.txt', 'r').read().split('\\n')\n",
    "inp = [i for i in inp if i != '']"
   ]
  },
  {
   "cell_type": "code",
   "execution_count": 3,
   "metadata": {
    "collapsed": false
   },
   "outputs": [],
   "source": [
    "molecule = inp[-1]"
   ]
  },
  {
   "cell_type": "code",
   "execution_count": 4,
   "metadata": {
    "collapsed": false
   },
   "outputs": [],
   "source": [
    "def parse(s, e):\n",
    "    arr = []\n",
    "    it = iter(xrange(len(s)))\n",
    "    for i in it:\n",
    "        if s[i:i+2] in e:\n",
    "            arr.append(s[i:i+2])\n",
    "            it.next()\n",
    "            continue\n",
    "        else:\n",
    "            arr.append(s[i])        \n",
    "    return arr"
   ]
  },
  {
   "cell_type": "code",
   "execution_count": 5,
   "metadata": {
    "collapsed": false
   },
   "outputs": [],
   "source": [
    "reps = []\n",
    "repl = defaultdict(list)\n",
    "for i in inp[:-1]:\n",
    "    el = i.split(' => ')\n",
    "    repl[el[0]].append(el[1])\n",
    "    reps.append((el[0], el[1]))"
   ]
  },
  {
   "cell_type": "code",
   "execution_count": null,
   "metadata": {
    "collapsed": false
   },
   "outputs": [],
   "source": []
  },
  {
   "cell_type": "code",
   "execution_count": 6,
   "metadata": {
    "collapsed": false
   },
   "outputs": [
    {
     "name": "stdout",
     "output_type": "stream",
     "text": [
      "195\n"
     ]
    }
   ],
   "source": [
    "from random import shuffle\n",
    "\n",
    "#reps = [('Al', 'ThF), ...]\n",
    "mol = molecule\n",
    "\n",
    "target = mol\n",
    "part2 = 0\n",
    "\n",
    "while target != 'e':\n",
    "    tmp = target\n",
    "    for a, b in reps:\n",
    "        if b not in target:\n",
    "            continue\n",
    "\n",
    "        target = target.replace(b, a, 1)\n",
    "        part2 += 1\n",
    "\n",
    "    if tmp == target:\n",
    "        target = mol\n",
    "        part2 = 0\n",
    "        shuffle(reps)\n",
    "\n",
    "print part2"
   ]
  },
  {
   "cell_type": "code",
   "execution_count": 7,
   "metadata": {
    "collapsed": false
   },
   "outputs": [
    {
     "name": "stdout",
     "output_type": "stream",
     "text": [
      "509\n"
     ]
    }
   ],
   "source": [
    "#molecule = 'HOHOHO'\n",
    "#repl = {'H' : ['HO', 'OH'], 'O' : ['HH']}\n",
    "mols = parse(molecule, repl.keys())\n",
    "results = set([])\n",
    "top = 0\n",
    "for i in range(len(mols)):\n",
    "#for i in range(5):   \n",
    "    #print mols[i], repl[mols[i]]\n",
    "    for r in repl[mols[i]]:\n",
    "        top += 1\n",
    "        new = mols[:]\n",
    "        new[i] = r\n",
    "        #print mols[i], new[i]\n",
    "        results.add(\"\".join(new))\n",
    "print len(results)"
   ]
  },
  {
   "cell_type": "code",
   "execution_count": 8,
   "metadata": {
    "collapsed": true
   },
   "outputs": [],
   "source": [
    "def memoize(func):\n",
    "    results = {}\n",
    "    def helper(*args):\n",
    "        if args not in results:\n",
    "            results[args] = func(*args)\n",
    "        return results[args]\n",
    "    return helper"
   ]
  },
  {
   "cell_type": "code",
   "execution_count": 80,
   "metadata": {
    "collapsed": false
   },
   "outputs": [
    {
     "name": "stdout",
     "output_type": "stream",
     "text": [
      "195 e\n"
     ]
    }
   ],
   "source": [
    "rev = {}\n",
    "for r in repl:\n",
    "    for e in repl[r]:\n",
    "        rev[e] = r\n",
    "keys = rev.keys()\n",
    "keys.sort(key=lambda x: len(x), reverse=True)\n",
    "\n",
    "n = 0\n",
    "p2 = 0\n",
    "mol = molecule\n",
    "target = molecule\n",
    "it = 0\n",
    "shuffle(keys)\n",
    "while target != 'e':\n",
    "    tmp = target\n",
    "    for k in keys:\n",
    "        if k in target:\n",
    "            #print k, len(k), p2, len(target)\n",
    "            p2 += target.count(k)\n",
    "            target = target.replace(k, rev[k])\n",
    "            \n",
    "            #print target\n",
    "        \n",
    "    if tmp == target:\n",
    "        print p2, target\n",
    "        target =  mol\n",
    "        p2 = 0\n",
    "        shuffle(keys)\n",
    "        it += 1\n",
    "        if it > 100:\n",
    "            break\n",
    "print p2, target#, keys\n",
    "        \n",
    "\n"
   ]
  },
  {
   "cell_type": "code",
   "execution_count": 81,
   "metadata": {
    "collapsed": false
   },
   "outputs": [
    {
     "data": {
      "text/plain": [
       "['PB',\n",
       " 'HF',\n",
       " 'SiRnMgAr',\n",
       " 'ThCa',\n",
       " 'BF',\n",
       " 'CaP',\n",
       " 'NTh',\n",
       " 'CRnFYMgAr',\n",
       " 'TiB',\n",
       " 'SiRnFAr',\n",
       " 'NRnFYFAr',\n",
       " 'TiTi',\n",
       " 'CRnFYFAr',\n",
       " 'ThRnFAr',\n",
       " 'PTi',\n",
       " 'TiMg',\n",
       " 'BCa',\n",
       " 'OTi',\n",
       " 'BP',\n",
       " 'PRnFAr',\n",
       " 'NRnFAr',\n",
       " 'PMg',\n",
       " 'CRnFYFYFAr',\n",
       " 'CaSi',\n",
       " 'CRnMgYFAr',\n",
       " 'ORnFAr',\n",
       " 'OMg',\n",
       " 'CRnAlAr',\n",
       " 'TiRnFAr',\n",
       " 'OB',\n",
       " 'CRnMgAr',\n",
       " 'HP',\n",
       " 'ThF',\n",
       " 'SiAl',\n",
       " 'HSi',\n",
       " 'CRnFAr',\n",
       " 'NAl',\n",
       " 'SiTh',\n",
       " 'CaCa',\n",
       " 'NRnMgAr',\n",
       " 'SiRnFYFAr',\n",
       " 'CaF',\n",
       " 'HCa']"
      ]
     },
     "execution_count": 81,
     "metadata": {},
     "output_type": "execute_result"
    }
   ],
   "source": [
    "keys"
   ]
  },
  {
   "cell_type": "code",
   "execution_count": 68,
   "metadata": {
    "collapsed": false
   },
   "outputs": [],
   "source": [
    "n = 0\n",
    "\n",
    "def rec(string):\n",
    "    global n\n",
    "    n += 1\n",
    "    if not n % 1000:\n",
    "        print n    \n",
    "    if n > 2000:\n",
    "        return 1000\n",
    "    if string in repl['e']:\n",
    "        return 1\n",
    "    res = [99999]\n",
    "    for k in keys:\n",
    "        if k in string:\n",
    "            print k, len(k), n, len(string)\n",
    "            res.append(rec(string.replace(k, rev[k], 1)))\n",
    "    if len(res) == 1:\n",
    "        print \"!\", string\n",
    "    return min(res) + 1\n",
    "\n"
   ]
  },
  {
   "cell_type": "code",
   "execution_count": 43,
   "metadata": {
    "collapsed": false
   },
   "outputs": [],
   "source": [
    "for k in keys:\n",
    "    if k in 'CRnSiRnFYCaRnFArArFArAl':\n",
    "        print 1, k\n",
    "    "
   ]
  },
  {
   "cell_type": "code",
   "execution_count": 16,
   "metadata": {
    "collapsed": true
   },
   "outputs": [],
   "source": [
    "molecule = re.sub('ThCaRnFAr', 'Al', molecule, count=1)"
   ]
  },
  {
   "cell_type": "code",
   "execution_count": 34,
   "metadata": {
    "collapsed": false
   },
   "outputs": [
    {
     "name": "stdout",
     "output_type": "stream",
     "text": [
      "1 3 0\n",
      "2 17 3\n",
      "3 71 5\n",
      "4 266 7\n",
      "5 927 9\n",
      "6 1447 10\n",
      "7 1636 12\n",
      "8 2029 17\n",
      "9 4992 19\n",
      "10 1796 20\n",
      "11 1075 21\n",
      "12 671 23\n",
      "13 778 25\n",
      "14 1439 29\n",
      "15 794 30\n",
      "16 798 31\n",
      "17 902 33\n",
      "18 845 35\n",
      "19 402 37\n",
      "20 594 39\n",
      "21 1011 41\n",
      "22 390 43\n",
      "23 1246 44\n",
      "24 1749 45\n",
      "25 4827 46\n",
      "26 754 51\n",
      "27 1395 53\n",
      "28 779 55\n",
      "29 1531 57\n",
      "30 654 63\n",
      "31 1250 65\n",
      "32 1766 67\n",
      "33 4893 69\n",
      "34 626 71\n",
      "35 995 73\n",
      "36 298 78\n",
      "37 638 80\n",
      "38 1086 82\n",
      "39 774 87\n",
      "40 816 89\n",
      "41 839 91\n",
      "42 553 95\n",
      "43 236 97\n",
      "44 240 99\n",
      "45 474 101\n",
      "46 219 103\n",
      "47 335 105\n",
      "48 803 107\n",
      "49 1345 109\n",
      "50 3409 111\n",
      "51 797 113\n",
      "52 1561 121\n",
      "53 1821 123\n",
      "54 3468 127\n",
      "55 4979 132\n",
      "56 1398 134\n",
      "57 1167 136\n",
      "58 1209 138\n",
      "59 1242 140\n",
      "60 369 142\n",
      "61 781 143\n",
      "62 1250 144\n",
      "63 431 145\n",
      "64 1058 151\n",
      "65 577 153\n",
      "66 1095 154\n",
      "67 626 156\n",
      "68 313 162\n",
      "69 624 163\n",
      "70 889 164\n",
      "71 1325 166\n",
      "72 464 168\n",
      "73 181 170\n",
      "74 231 174\n",
      "75 323 180\n",
      "76 688 182\n",
      "77 790 184\n",
      "78 1247 186\n",
      "79 275 188\n",
      "80 367 189\n",
      "81 787 190\n",
      "82 1221 192\n",
      "83 2927 200\n",
      "84 1439 202\n",
      "85 3148 204\n",
      "86 2051 206\n",
      "87 613 208\n",
      "88 613 210\n",
      "89 629 212\n",
      "90 749 214\n",
      "91 1242 216\n",
      "92 353 222\n",
      "93 689 224\n",
      "94 798 226\n",
      "95 1247 228\n",
      "96 275 230\n",
      "97 367 231\n",
      "98 787 232\n",
      "99 1221 238\n",
      "100 2919 239\n",
      "101 1357 241\n",
      "102 2674 243\n",
      "103 209 245\n",
      "104 259 247\n",
      "105 259 249\n",
      "106 275 251\n",
      "107 339 253\n",
      "108 544 254\n",
      "109 167 255\n",
      "110 301 257\n",
      "111 521 259\n",
      "112 313 260\n",
      "113 600 261\n",
      "114 221 262\n",
      "115 484 263\n",
      "116 255 265\n",
      "117 476 267\n",
      "118 197 274\n",
      "119 323 276\n",
      "120 660 278\n",
      "121 547 280\n",
      "122 544 282\n",
      "123 175 287\n",
      "124 351 288\n",
      "125 623 290\n",
      "126 425 292\n",
      "127 209 294\n",
      "128 275 301\n",
      "129 355 303\n",
      "130 660 305\n",
      "131 547 307\n",
      "132 544 308\n",
      "133 167 309\n",
      "134 301 311\n",
      "135 521 313\n",
      "136 313 315\n",
      "137 592 317\n",
      "138 175 319\n",
      "139 367 324\n",
      "140 779 329\n",
      "141 1171 330\n",
      "142 2773 332\n",
      "143 469 333\n",
      "144 448 335\n",
      "145 239 336\n",
      "146 189 341\n",
      "147 281 343\n",
      "148 572 345\n",
      "149 534 347\n",
      "150 215 349\n",
      "151 215 351\n",
      "152 231 353\n",
      "153 335 355\n",
      "154 771 357\n",
      "155 1057 359\n",
      "156 2047 369\n",
      "157 1721 370\n",
      "158 3015 372\n",
      "159 2039 374\n",
      "160 225 379\n",
      "161 329 381\n",
      "162 516 383\n",
      "163 228 385\n",
      "164 24 387\n",
      "165 62 389\n",
      "166 31 391\n",
      "167 98 393\n",
      "168 185 401\n",
      "169 548 403\n",
      "170 154 405\n",
      "171 204 407\n",
      "172 36 409\n",
      "173 58 410\n",
      "174 19 411\n",
      "175 33 413\n",
      "176 58 415\n",
      "177 30 417\n",
      "178 43 421\n",
      "179 98 423\n",
      "180 180 425\n",
      "181 522 426\n",
      "182 31 428\n",
      "183 36 430\n",
      "184 73 432\n",
      "185 91 437\n",
      "186 82 439\n",
      "187 100 446\n",
      "188 176 448\n",
      "189 85 450\n",
      "190 67 454\n",
      "191 39 455\n",
      "192 70 456\n",
      "193 51 461\n",
      "194 45 461\n",
      "195 22 461\n",
      "196 51 461\n",
      "197 0 461\n"
     ]
    }
   ],
   "source": [
    "def compare(a ,b):\n",
    "    if a == b:\n",
    "        return len(a)\n",
    "    i = 0\n",
    "    while a[i] == b[i]:\n",
    "        i += 1\n",
    "    return i\n",
    "    \n",
    "maxsteps = 1000\n",
    "best = [0] * maxsteps\n",
    "num = 0\n",
    "\n",
    "ticked = {}\n",
    "\n",
    "def rec2(done, rest, n, target=molecule):\n",
    "    global ticked\n",
    "    if done+'|'+rest in ticked:\n",
    "        return\n",
    "    else:\n",
    "        #pass\n",
    "        ticked[done+'|'+rest] = True\n",
    "    if n > 4:\n",
    "        if len(done) < best[n-4]:\n",
    "            #print done, rest, n, best[:8], \"!!!\"\n",
    "            return\n",
    "            return 99999\n",
    "    #print done, rest, n, best[:8], \"enter\"\n",
    "    global num\n",
    "    #num += 1\n",
    "    if num > 30:\n",
    "        return\n",
    "        return n\n",
    "    if done + rest == target:\n",
    "        return\n",
    "        return n + 1\n",
    "    k = ''\n",
    "    i = 0\n",
    "    while k not in repl.keys() or len(repl[k]) == 0:\n",
    "        k += rest[i]\n",
    "        i += 1\n",
    "        if i > 2:\n",
    "            break\n",
    "    cand = []\n",
    "    for r in repl[k]:\n",
    "        #print k, r\n",
    "        cand.append(re.sub(k, r, rest, count=1))\n",
    "    l = []\n",
    "    for c in cand:\n",
    "        l.append(compare(done+c, target))\n",
    "        if l[-1] > best[n]:\n",
    "            best[n] = l[-1]\n",
    "    if len(l) == 0:\n",
    "        #print \"##\", done, rest, cand, k\n",
    "        return\n",
    "        return 99999\n",
    "    ml = min(l)\n",
    "    cont = []\n",
    "    for i in range(len(cand)):\n",
    "        #if l[i] == max(l):\n",
    "            # print l[i], cand[i]\n",
    "        string = done + cand[i]\n",
    "            \n",
    "        cont.append((string[:l[i]], string[l[i]:], n+1))                \n",
    "    #print \"returning: \", cont, done, cand, l\n",
    "    return cont\n",
    "                 \n",
    "done = \"\"\n",
    "rest = \"e\"\n",
    "#rec2(done, rest, 0, 'OBPBSiAl')\n",
    "#rec2(done, rest, 0, molecule)\n",
    "\n",
    "tocheck = [(done, rest, 0)]\n",
    "it = 0\n",
    "maxit = 1000\n",
    "while len(tocheck):\n",
    "    it += 1\n",
    "    todo = []\n",
    "    for tc in tocheck:\n",
    "        if len(tc) != 3:\n",
    "            print \"!!!\", tc\n",
    "        add = rec2(*tc)\n",
    "        if add:\n",
    "            for a in add:\n",
    "                todo.append(a)\n",
    "    print it, len(todo), max(best) #, '\\n', todo\n",
    "    tocheck = todo\n",
    "    if it > 300:\n",
    "        break\n",
    "        "
   ]
  },
  {
   "cell_type": "code",
   "execution_count": 39,
   "metadata": {
    "collapsed": false
   },
   "outputs": [
    {
     "data": {
      "text/plain": [
       "461"
      ]
     },
     "execution_count": 39,
     "metadata": {},
     "output_type": "execute_result"
    }
   ],
   "source": [
    "best[192]"
   ]
  },
  {
   "cell_type": "code",
   "execution_count": 38,
   "metadata": {
    "collapsed": false
   },
   "outputs": [
    {
     "data": {
      "text/plain": [
       "461"
      ]
     },
     "execution_count": 38,
     "metadata": {},
     "output_type": "execute_result"
    }
   ],
   "source": [
    "len(molecule)"
   ]
  },
  {
   "cell_type": "code",
   "execution_count": 13,
   "metadata": {
    "collapsed": false
   },
   "outputs": [
    {
     "data": {
      "text/plain": [
       "[<matplotlib.lines.Line2D at 0xd30d570>]"
      ]
     },
     "execution_count": 13,
     "metadata": {},
     "output_type": "execute_result"
    }
   ],
   "source": [
    "plot(range(77)+[180], best[:77]+ [len(molecule)])"
   ]
  },
  {
   "cell_type": "code",
   "execution_count": 27,
   "metadata": {
    "collapsed": false
   },
   "outputs": [
    {
     "name": "stdout",
     "output_type": "stream",
     "text": [
      "abc f\n"
     ]
    }
   ],
   "source": [
    "a = 'abcf'\n",
    "b = 'abcd'\n",
    "d = compare(a, b)\n",
    "print a[:d], a[d:]"
   ]
  },
  {
   "cell_type": "code",
   "execution_count": 40,
   "metadata": {
    "collapsed": false,
    "scrolled": true
   },
   "outputs": [
    {
     "data": {
      "text/plain": [
       "[('Mg', 'BF'),\n",
       " ('O', 'NRnFAr'),\n",
       " ('Mg', 'TiMg'),\n",
       " ('Si', 'CaSi'),\n",
       " ('Ca', 'CaCa'),\n",
       " ('Ca', 'PRnFAr'),\n",
       " ('H', 'CRnFYMgAr'),\n",
       " ('Ca', 'PB'),\n",
       " ('B', 'BCa'),\n",
       " ('O', 'CRnFYFAr'),\n",
       " ('N', 'CRnFAr'),\n",
       " ('N', 'HSi'),\n",
       " ('H', 'CRnMgYFAr'),\n",
       " ('P', 'SiRnFAr'),\n",
       " ('B', 'TiRnFAr'),\n",
       " ('F', 'SiAl'),\n",
       " ('H', 'HCa'),\n",
       " ('Ti', 'BP'),\n",
       " ('e', 'HF'),\n",
       " ('H', 'CRnFYFYFAr'),\n",
       " ('Ca', 'SiTh'),\n",
       " ('Al', 'ThRnFAr'),\n",
       " ('B', 'TiB'),\n",
       " ('O', 'HP'),\n",
       " ('Ca', 'SiRnMgAr'),\n",
       " ('F', 'CaF'),\n",
       " ('H', 'NTh'),\n",
       " ('O', 'OTi'),\n",
       " ('Ca', 'SiRnFYFAr'),\n",
       " ('H', 'ORnFAr'),\n",
       " ('P', 'PTi'),\n",
       " ('H', 'CRnAlAr'),\n",
       " ('e', 'NAl'),\n",
       " ('H', 'NRnFYFAr'),\n",
       " ('O', 'CRnMgAr'),\n",
       " ('H', 'OB'),\n",
       " ('H', 'NRnMgAr'),\n",
       " ('Th', 'ThCa'),\n",
       " ('Ti', 'TiTi'),\n",
       " ('F', 'PMg'),\n",
       " ('P', 'CaP'),\n",
       " ('e', 'OMg'),\n",
       " ('Al', 'ThF')]"
      ]
     },
     "execution_count": 40,
     "metadata": {},
     "output_type": "execute_result"
    }
   ],
   "source": [
    "shuffle(reps)\n",
    "reps"
   ]
  },
  {
   "cell_type": "code",
   "execution_count": 59,
   "metadata": {
    "collapsed": false
   },
   "outputs": [
    {
     "name": "stdout",
     "output_type": "stream",
     "text": [
      "Populating the interactive namespace from numpy and matplotlib\n"
     ]
    },
    {
     "name": "stderr",
     "output_type": "stream",
     "text": [
      "WARNING: pylab import has clobbered these variables: ['rec', 'shuffle', 'e']\n",
      "`%matplotlib` prevents importing * from pylab and numpy\n"
     ]
    }
   ],
   "source": [
    "%pylab inline"
   ]
  },
  {
   "cell_type": "code",
   "execution_count": 60,
   "metadata": {
    "collapsed": false
   },
   "outputs": [],
   "source": [
    "vectorize?"
   ]
  },
  {
   "cell_type": "code",
   "execution_count": 77,
   "metadata": {
    "collapsed": false
   },
   "outputs": [
    {
     "name": "stdout",
     "output_type": "stream",
     "text": [
      "no possible substitutions found\n"
     ]
    }
   ],
   "source": [
    "\n",
    "\n",
    "new = molecule\n",
    "l = len(new)\n",
    "steps = 0\n",
    "while l > 2:\n",
    "    for k in keys:\n",
    "        n = re.findall(k, new)\n",
    "        if len(n):\n",
    "            steps += 1\n",
    "            new = re.sub(k, rev[k], new, count=1)\n",
    "            l = len(new)\n",
    "            #print new\n",
    "            break\n",
    "    else:\n",
    "        l == 0\n",
    "        print 'no possible substitutions found'\n",
    "        break"
   ]
  }
 ],
 "metadata": {
  "kernelspec": {
   "display_name": "Python 2",
   "language": "python",
   "name": "python2"
  },
  "language_info": {
   "codemirror_mode": {
    "name": "ipython",
    "version": 2
   },
   "file_extension": ".py",
   "mimetype": "text/x-python",
   "name": "python",
   "nbconvert_exporter": "python",
   "pygments_lexer": "ipython2",
   "version": "2.7.8"
  }
 },
 "nbformat": 4,
 "nbformat_minor": 0
}
