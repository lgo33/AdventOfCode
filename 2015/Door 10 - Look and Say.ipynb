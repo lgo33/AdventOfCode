{
 "cells": [
  {
   "cell_type": "code",
   "execution_count": 1,
   "metadata": {
    "collapsed": true
   },
   "outputs": [],
   "source": [
    "start = 1113122113"
   ]
  },
  {
   "cell_type": "code",
   "execution_count": 14,
   "metadata": {
    "collapsed": false
   },
   "outputs": [],
   "source": [
    "def look_and_say(inp):\n",
    "    i = 0\n",
    "    out = \"\"\n",
    "    while i < len(inp):\n",
    "        #s = int(inp[i])\n",
    "        j = 1\n",
    "        while j + i < len(inp) and inp[i+j] == inp[i]:\n",
    "            j += 1        \n",
    "        out += str(j) + inp[i]\n",
    "        i += j\n",
    "        # print out\n",
    "    return(out)"
   ]
  },
  {
   "cell_type": "code",
   "execution_count": 18,
   "metadata": {
    "collapsed": false
   },
   "outputs": [
    {
     "name": "stdout",
     "output_type": "stream",
     "text": [
      "40 360154\n",
      "49 5103798\n"
     ]
    }
   ],
   "source": [
    "las = str(start)\n",
    "for i in range(50):\n",
    "    if (i == 40):\n",
    "        print i, len(las)\n",
    "    las = look_and_say(las)\n",
    "    \n",
    "print i, len(las)"
   ]
  },
  {
   "cell_type": "code",
   "execution_count": null,
   "metadata": {
    "collapsed": true
   },
   "outputs": [],
   "source": []
  }
 ],
 "metadata": {
  "kernelspec": {
   "display_name": "Python 2",
   "language": "python",
   "name": "python2"
  },
  "language_info": {
   "codemirror_mode": {
    "name": "ipython",
    "version": 2
   },
   "file_extension": ".py",
   "mimetype": "text/x-python",
   "name": "python",
   "nbconvert_exporter": "python",
   "pygments_lexer": "ipython2",
   "version": "2.7.6"
  }
 },
 "nbformat": 4,
 "nbformat_minor": 0
}
