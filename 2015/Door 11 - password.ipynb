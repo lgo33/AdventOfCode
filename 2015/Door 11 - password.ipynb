{
 "cells": [
  {
   "cell_type": "code",
   "execution_count": 28,
   "metadata": {
    "collapsed": false
   },
   "outputs": [],
   "source": [
    "def inc(str, n):\n",
    "    ch = ord(str[n]) + 1\n",
    "    if ch == 123:\n",
    "        ch = 97\n",
    "        if n > 0:\n",
    "            inc(str, n-1)\n",
    "    str[n] = chr(ch)\n",
    "\n",
    "def valid_ch(str):\n",
    "    for i in str:\n",
    "        if i in ('i', 'o', 'l'):\n",
    "            return False\n",
    "    return True\n",
    "\n",
    "def straight(str):    \n",
    "    for i in range(len(str)-2):\n",
    "        if ord(str[i]) + 1 == ord(str[i+1]) and ord(str[i]) + 2 == ord(str[i+2]):\n",
    "            return True\n",
    "    return False\n",
    "\n",
    "def doubles(str):\n",
    "    for i in range(len(str)-3):\n",
    "        if str[i] == str[i+1]:\n",
    "            for j in range(i+2, len(str)-1):\n",
    "                if str[j] == str[j+1]:\n",
    "                    return True\n",
    "            else:\n",
    "                return False\n",
    "    return False\n",
    "    \n",
    "def check(str):\n",
    "    if not valid_ch(str):\n",
    "        return False\n",
    "    if not straight(str):\n",
    "        return False\n",
    "    if not doubles(str):\n",
    "        return False    \n",
    "    return True\n",
    "    "
   ]
  },
  {
   "cell_type": "code",
   "execution_count": 41,
   "metadata": {
    "collapsed": false
   },
   "outputs": [
    {
     "name": "stdout",
     "output_type": "stream",
     "text": [
      "hxbxxyzz\n"
     ]
    }
   ],
   "source": [
    "s = [c for c in 'hxbxwxba']\n",
    "# s = [c for c in 'ghjaabcc']\n",
    "while not check(s):\n",
    "    inc(s, 7)\n",
    "print \"\".join(s)"
   ]
  },
  {
   "cell_type": "code",
   "execution_count": 42,
   "metadata": {
    "collapsed": false
   },
   "outputs": [
    {
     "name": "stdout",
     "output_type": "stream",
     "text": [
      "hxcaabcc\n"
     ]
    }
   ],
   "source": [
    "inc(s, 7)\n",
    "while not check(s):\n",
    "    inc(s, 7)\n",
    "print \"\".join(s)"
   ]
  },
  {
   "cell_type": "code",
   "execution_count": 36,
   "metadata": {
    "collapsed": false
   },
   "outputs": [
    {
     "data": {
      "text/plain": [
       "True"
      ]
     },
     "execution_count": 36,
     "metadata": {},
     "output_type": "execute_result"
    }
   ],
   "source": [
    "doubles(['z',' c', 'a', 'a', 'b', 'x', 'x'])"
   ]
  },
  {
   "cell_type": "code",
   "execution_count": null,
   "metadata": {
    "collapsed": true
   },
   "outputs": [],
   "source": []
  }
 ],
 "metadata": {
  "kernelspec": {
   "display_name": "Python 2",
   "language": "python",
   "name": "python2"
  },
  "language_info": {
   "codemirror_mode": {
    "name": "ipython",
    "version": 2
   },
   "file_extension": ".py",
   "mimetype": "text/x-python",
   "name": "python",
   "nbconvert_exporter": "python",
   "pygments_lexer": "ipython2",
   "version": "2.7.8"
  }
 },
 "nbformat": 4,
 "nbformat_minor": 0
}
