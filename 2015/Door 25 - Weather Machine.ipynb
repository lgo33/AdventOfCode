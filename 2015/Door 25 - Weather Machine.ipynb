{
 "cells": [
  {
   "cell_type": "code",
   "execution_count": 1,
   "metadata": {
    "collapsed": true
   },
   "outputs": [],
   "source": [
    "# To continue, please consult the code grid in the manual.  Enter the code at row 2981, column 3075.\n",
    "code_row = 2981\n",
    "code_col = 3075"
   ]
  },
  {
   "cell_type": "code",
   "execution_count": 2,
   "metadata": {
    "collapsed": true
   },
   "outputs": [],
   "source": [
    "import numpy as np"
   ]
  },
  {
   "cell_type": "code",
   "execution_count": 3,
   "metadata": {
    "collapsed": true
   },
   "outputs": [],
   "source": [
    "def ncode(c, r):\n",
    "    ir = (r * (r - 1)) / 2 + 1\n",
    "    return ir + (c**2 + 2*r*c - 2*r - c) / 2\n",
    "\n",
    "def next_code(code):\n",
    "    return (code * 252533) % 33554393\n",
    "    \n",
    "    "
   ]
  },
  {
   "cell_type": "code",
   "execution_count": 4,
   "metadata": {
    "collapsed": false
   },
   "outputs": [
    {
     "name": "stdout",
     "output_type": "stream",
     "text": [
      "18331560\n"
     ]
    }
   ],
   "source": [
    "num_code = ncode(code_col, code_row)\n",
    "print num_code"
   ]
  },
  {
   "cell_type": "code",
   "execution_count": 16,
   "metadata": {
    "collapsed": false
   },
   "outputs": [
    {
     "name": "stdout",
     "output_type": "stream",
     "text": [
      "0 31916031\n",
      "1000000 29842942\n",
      "2000000 25306945\n",
      "3000000 25890237\n",
      "4000000 15345957\n",
      "5000000 14607377\n",
      "6000000 24891547\n",
      "7000000 28853079\n",
      "8000000 24480810\n",
      "9000000 3853235\n",
      "10000000 29439364\n",
      "11000000 15295491\n",
      "12000000 10864205\n",
      "13000000 25425550\n",
      "14000000 23788531\n",
      "15000000 3489257\n",
      "16000000 13943617\n",
      "17000000 5850411\n",
      "18000000 23633312\n",
      "18331558 9132360 28836990\n"
     ]
    }
   ],
   "source": [
    "code = 20151125\n",
    "n = num_code\n",
    "for i in range(n-1):\n",
    "    code = next_code(code)\n",
    "    if not i % 1000000:\n",
    "        print i, code\n",
    "print i, code, next_code(code)"
   ]
  },
  {
   "cell_type": "code",
   "execution_count": 6,
   "metadata": {
    "collapsed": false
   },
   "outputs": [
    {
     "name": "stdout",
     "output_type": "stream",
     "text": [
      "[[  0.   0.   0.   0.   0.   0.   0.]\n",
      " [  0.   1.   3.   6.  10.  15.  21.]\n",
      " [  0.   2.   5.   9.  14.  20.  27.]\n",
      " [  0.   4.   8.  13.  19.  26.  34.]\n",
      " [  0.   7.  12.  18.  25.  33.  42.]\n",
      " [  0.  11.  17.  24.  32.  41.  51.]\n",
      " [  0.  16.  23.  31.  40.  50.  61.]]\n"
     ]
    }
   ],
   "source": [
    "a = np.zeros((7, 7))\n",
    "for r in range(1, 7):\n",
    "    for c in range(1, 7):\n",
    "        a[r, c] = ncode(c , r)\n",
    "print a"
   ]
  },
  {
   "cell_type": "code",
   "execution_count": 10,
   "metadata": {
    "collapsed": false
   },
   "outputs": [
    {
     "data": {
      "text/plain": [
       "27995004L"
      ]
     },
     "execution_count": 10,
     "metadata": {},
     "output_type": "execute_result"
    }
   ],
   "source": [
    "20151125 * (252533 ** 60) % 33554393"
   ]
  },
  {
   "cell_type": "code",
   "execution_count": 26,
   "metadata": {
    "collapsed": false
   },
   "outputs": [
    {
     "data": {
      "text/plain": [
       "30"
      ]
     },
     "execution_count": 26,
     "metadata": {},
     "output_type": "execute_result"
    }
   ],
   "source": [
    "7 * 6 - 12"
   ]
  },
  {
   "cell_type": "code",
   "execution_count": null,
   "metadata": {
    "collapsed": true
   },
   "outputs": [],
   "source": []
  }
 ],
 "metadata": {
  "kernelspec": {
   "display_name": "Python 2",
   "language": "python",
   "name": "python2"
  },
  "language_info": {
   "codemirror_mode": {
    "name": "ipython",
    "version": 2
   },
   "file_extension": ".py",
   "mimetype": "text/x-python",
   "name": "python",
   "nbconvert_exporter": "python",
   "pygments_lexer": "ipython2",
   "version": "2.7.11"
  }
 },
 "nbformat": 4,
 "nbformat_minor": 0
}
