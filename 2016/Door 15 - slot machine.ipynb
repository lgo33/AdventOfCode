{
 "cells": [
  {
   "cell_type": "code",
   "execution_count": 1,
   "metadata": {
    "collapsed": true
   },
   "outputs": [],
   "source": [
    "input = []\n",
    "with open(\"data/input_15.txt\", \"r\") as f:\n",
    "    for line in f:\n",
    "        input.append(line.strip())\n",
    "        "
   ]
  },
  {
   "cell_type": "code",
   "execution_count": 2,
   "metadata": {
    "collapsed": false
   },
   "outputs": [
    {
     "data": {
      "text/plain": [
       "['Disc #1 has 17 positions; at time=0, it is at position 1.',\n",
       " 'Disc #2 has 7 positions; at time=0, it is at position 0.',\n",
       " 'Disc #3 has 19 positions; at time=0, it is at position 2.',\n",
       " 'Disc #4 has 5 positions; at time=0, it is at position 0.',\n",
       " 'Disc #5 has 3 positions; at time=0, it is at position 0.',\n",
       " 'Disc #6 has 13 positions; at time=0, it is at position 5.']"
      ]
     },
     "execution_count": 2,
     "metadata": {},
     "output_type": "execute_result"
    }
   ],
   "source": [
    "input"
   ]
  },
  {
   "cell_type": "code",
   "execution_count": 3,
   "metadata": {
    "collapsed": false
   },
   "outputs": [],
   "source": [
    "# part 1\n",
    "#npos = [17, 7, 19, 5, 3, 13]\n",
    "#spos  = [1, 0, 2, 0, 0, 5]\n",
    "\n",
    "# part 2\n",
    "npos = [17, 7, 19, 5, 3, 13, 11]\n",
    "spos  = [1, 0, 2, 0, 0, 5, 0]\n",
    "\n",
    "target = [(p - (i + 1)) % p for i, p in enumerate(npos)]\n",
    "        \n",
    "def position(n):\n",
    "    pos = []\n",
    "    for i in range(len(spos)):\n",
    "        pos.append((spos[i] + n) % npos[i])\n",
    "    return pos"
   ]
  },
  {
   "cell_type": "code",
   "execution_count": 4,
   "metadata": {
    "collapsed": false
   },
   "outputs": [
    {
     "name": "stdout",
     "output_type": "stream",
     "text": [
      "0 1 [1, 0, 2, 0, 0, 5, 0] [16, 5, 16, 1, 1, 7, 4]\n",
      "1 15 [2, 1, 3, 1, 1, 6, 1] [16, 5, 16, 1, 1, 7, 4]\n",
      "16 15 [0, 2, 18, 1, 1, 8, 5] [16, 5, 16, 1, 1, 7, 4]\n",
      "31 15 [15, 3, 14, 1, 1, 10, 9] [16, 5, 16, 1, 1, 7, 4]\n",
      "46 15 [13, 4, 10, 1, 1, 12, 2] [16, 5, 16, 1, 1, 7, 4]\n",
      "61 105 [11, 5, 6, 1, 1, 1, 6] [16, 5, 16, 1, 1, 7, 4]\n",
      "166 1995 [14, 5, 16, 1, 1, 2, 1] [16, 5, 16, 1, 1, 7, 4]\n",
      "2161 1995 [3, 5, 16, 1, 1, 8, 5] [16, 5, 16, 1, 1, 7, 4]\n",
      "4156 1995 [9, 5, 16, 1, 1, 1, 9] [16, 5, 16, 1, 1, 7, 4]\n",
      "6151 25935 [15, 5, 16, 1, 1, 7, 2] [16, 5, 16, 1, 1, 7, 4]\n",
      "32086 25935 [8, 5, 16, 1, 1, 7, 10] [16, 5, 16, 1, 1, 7, 4]\n",
      "58021 25935 [1, 5, 16, 1, 1, 7, 7] [16, 5, 16, 1, 1, 7, 4]\n",
      "83956 285285 [11, 5, 16, 1, 1, 7, 4] [16, 5, 16, 1, 1, 7, 4]\n",
      "369241 285285 [2, 5, 16, 1, 1, 7, 4] [16, 5, 16, 1, 1, 7, 4]\n",
      "654526 285285 [10, 5, 16, 1, 1, 7, 4] [16, 5, 16, 1, 1, 7, 4]\n",
      "939811 285285 [1, 5, 16, 1, 1, 7, 4] [16, 5, 16, 1, 1, 7, 4]\n",
      "1225096 285285 [9, 5, 16, 1, 1, 7, 4] [16, 5, 16, 1, 1, 7, 4]\n",
      "1510381 285285 [0, 5, 16, 1, 1, 7, 4] [16, 5, 16, 1, 1, 7, 4]\n",
      "1795666 285285 [8, 5, 16, 1, 1, 7, 4] [16, 5, 16, 1, 1, 7, 4]\n",
      "2080951 [16, 5, 16, 1, 1, 7, 4]\n"
     ]
    }
   ],
   "source": [
    "i = 0\n",
    "while True:\n",
    "    pos = position(i)\n",
    "    if pos == target:\n",
    "        print i, pos\n",
    "        break\n",
    "    step = 1\n",
    "    for j in range(len(target)):\n",
    "        if target[j] == pos[j]:\n",
    "            step *= npos[j]\n",
    "    print i, step, position(i), target\n",
    "    i = i + step\n",
    "    "
   ]
  },
  {
   "cell_type": "code",
   "execution_count": 10,
   "metadata": {
    "collapsed": false
   },
   "outputs": [
    {
     "data": {
      "text/plain": [
       "[5, 0, 4, 1, 0, 0]"
      ]
     },
     "execution_count": 10,
     "metadata": {},
     "output_type": "execute_result"
    }
   ],
   "source": [
    "pos"
   ]
  },
  {
   "cell_type": "code",
   "execution_count": null,
   "metadata": {
    "collapsed": true
   },
   "outputs": [],
   "source": []
  }
 ],
 "metadata": {
  "kernelspec": {
   "display_name": "Python 2",
   "language": "python",
   "name": "python2"
  },
  "language_info": {
   "codemirror_mode": {
    "name": "ipython",
    "version": 2
   },
   "file_extension": ".py",
   "mimetype": "text/x-python",
   "name": "python",
   "nbconvert_exporter": "python",
   "pygments_lexer": "ipython2",
   "version": "2.7.10"
  }
 },
 "nbformat": 4,
 "nbformat_minor": 0
}
