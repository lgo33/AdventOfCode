{
 "cells": [
  {
   "cell_type": "code",
   "execution_count": 16,
   "metadata": {
    "collapsed": true
   },
   "outputs": [],
   "source": [
    "input = []\n",
    "#with open(\"data/input_25.txt\", \"r\") as f:\n",
    "with open(\"data/input_25_new.txt\", \"r\") as f:\n",
    "    for line in f:\n",
    "        input.append(line.strip())"
   ]
  },
  {
   "cell_type": "code",
   "execution_count": 67,
   "metadata": {
    "collapsed": false
   },
   "outputs": [],
   "source": [
    "reg = [0, 0, 0, 0]\n",
    "loc = 0\n",
    "out = []\n",
    "\n",
    "def getReg(x):\n",
    "    if x.isdigit():\n",
    "        return -1\n",
    "    return ord(x) - ord('a')\n",
    "\n",
    "def getValue(x):\n",
    "    try:\n",
    "        return int(x)\n",
    "    except ValueError:\n",
    "        return reg[getReg(x)]\n",
    "    \n",
    "def abCopy(x, y):\n",
    "    if y.isdigit(): return\n",
    "    global reg\n",
    "    reg[getReg(y)] = getValue(x)\n",
    "\n",
    "def abInc(x):\n",
    "    if x.isdigit(): return\n",
    "    global reg\n",
    "    reg[getReg(x)] += 1\n",
    "    \n",
    "def abDec(x):\n",
    "    if x.isdigit(): return\n",
    "    global reg\n",
    "    reg[getReg(x)] -= 1\n",
    "    \n",
    "def abJnz(x, y):\n",
    "    global loc\n",
    "    if getValue(x) != 0:\n",
    "        loc += getValue(y)\n",
    "        loc -= 1\n",
    "\n",
    "def abMult(x, y):\n",
    "    global reg\n",
    "    reg[getReg(x)] *= getValue(y)\n",
    "    \n",
    "def abAdd(x, y):\n",
    "    global reg\n",
    "    reg[getReg(x)] += getValue(y)\n",
    "    \n",
    "def abNo():\n",
    "    return\n",
    "\n",
    "def abTgl(x):\n",
    "    global ins\n",
    "    i = loc + getValue(x)\n",
    "    if i < 0 or i > len(ins)-1:\n",
    "        return\n",
    "    fn, args = ins[i]\n",
    "    if len(args) < 2:\n",
    "        if fn == abInc:\n",
    "            ins[i][0] = abDec\n",
    "        else:\n",
    "            ins[i][0] = abInc\n",
    "    else:\n",
    "        if fn == abJnz:\n",
    "            ins[i][0] = abCopy\n",
    "        else:\n",
    "            ins[i][0] = abJnz\n",
    "\n",
    "def abOut(x):\n",
    "    global out\n",
    "    out.append(getValue(x))\n",
    "        \n",
    "fn = {\n",
    "    'cpy': abCopy,\n",
    "    'inc': abInc,\n",
    "    'dec': abDec,\n",
    "    'jnz': abJnz,\n",
    "    'tgl': abTgl,\n",
    "    'mlt': abMult, \n",
    "    'add': abAdd,\n",
    "    'no' : abNo,\n",
    "    'out': abOut,\n",
    "}\n",
    "    \n",
    "def parse(line):\n",
    "    cmd = line.split(\" \")\n",
    "    return [fn[cmd[0]], cmd[1:]]\n",
    "\n",
    "def run(ins, init=[0,0,0,0], steplimit=0, debug=False):\n",
    "    global reg, loc\n",
    "    reg = init\n",
    "    loc = 0\n",
    "    step = 0\n",
    "    while loc < len(ins):\n",
    "        ins[loc][0](*ins[loc][1])\n",
    "        if debug:\n",
    "            print(step, ins[loc][0].__name__, ins[loc][1], reg)\n",
    "        loc+=1\n",
    "        step +=1\n",
    "        if steplimit and step >= steplimit:            \n",
    "            break\n",
    "        "
   ]
  },
  {
   "cell_type": "code",
   "execution_count": 18,
   "metadata": {
    "collapsed": false
   },
   "outputs": [],
   "source": [
    "ins2 = []\n",
    "for line in input:\n",
    "    ins2.append(parse(line))\n"
   ]
  },
  {
   "cell_type": "code",
   "execution_count": 97,
   "metadata": {
    "collapsed": false
   },
   "outputs": [
    {
     "name": "stdout",
     "output_type": "stream",
     "text": [
      "[0, 1, 0, 1, 0, 1, 0, 1, 0, 1, 0, 1, 0]\n",
      "[642, 80, 1, 2730]\n"
     ]
    }
   ],
   "source": [
    "out = []\n",
    "#run(ins, init=[10,0,0,0], steplimit=1000, debug=False)\n",
    "run(ins, init=[175,0,0,0], steplimit=60000, debug=False)\n",
    "#run(ins, init=[0,0,0,0])\n",
    "print(out)\n",
    "print(reg)"
   ]
  },
  {
   "cell_type": "code",
   "execution_count": 72,
   "metadata": {
    "collapsed": false
   },
   "outputs": [
    {
     "name": "stdout",
     "output_type": "stream",
     "text": [
      "47\n"
     ]
    }
   ],
   "source": [
    "for i in range(100):\n",
    "    out = []\n",
    "    run(ins2, init=[i,0,0,0], steplimit=40000, debug=False)\n",
    "    if out[:6] == [0,1,0,1,0,1]:\n",
    "        print(i)"
   ]
  },
  {
   "cell_type": "code",
   "execution_count": 76,
   "metadata": {
    "collapsed": true
   },
   "outputs": [],
   "source": [
    "# the program seems to return the reversed binary representation of the input + 2555, \n",
    "# lowest number greater 2555 that is a repeating pattern of 1, 0 is 2730, hence input = 175"
   ]
  },
  {
   "cell_type": "code",
   "execution_count": 100,
   "metadata": {
    "collapsed": false,
    "scrolled": true
   },
   "outputs": [
    {
     "name": "stdout",
     "output_type": "stream",
     "text": [
      "2730\n"
     ]
    }
   ],
   "source": [
    "a = 0\n",
    "for i in range(1, 13, 2):\n",
    "    a += 1<<i\n",
    "print (a)"
   ]
  },
  {
   "cell_type": "code",
   "execution_count": 96,
   "metadata": {
    "collapsed": false
   },
   "outputs": [
    {
     "data": {
      "text/plain": [
       "175"
      ]
     },
     "execution_count": 96,
     "metadata": {},
     "output_type": "execute_result"
    }
   ],
   "source": [
    "2730 - 365*7"
   ]
  },
  {
   "cell_type": "code",
   "execution_count": null,
   "metadata": {
    "collapsed": true
   },
   "outputs": [],
   "source": []
  }
 ],
 "metadata": {
  "anaconda-cloud": {},
  "kernelspec": {
   "display_name": "Python [conda root]",
   "language": "python",
   "name": "conda-root-py"
  },
  "language_info": {
   "codemirror_mode": {
    "name": "ipython",
    "version": 3
   },
   "file_extension": ".py",
   "mimetype": "text/x-python",
   "name": "python",
   "nbconvert_exporter": "python",
   "pygments_lexer": "ipython3",
   "version": "3.5.2"
  }
 },
 "nbformat": 4,
 "nbformat_minor": 0
}
