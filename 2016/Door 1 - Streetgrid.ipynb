{
 "cells": [
  {
   "cell_type": "code",
   "execution_count": 1,
   "metadata": {
    "collapsed": false
   },
   "outputs": [],
   "source": [
    "input = \"\"\n",
    "with open(\"data/input_1.txt\", \"r\") as f:\n",
    "    for line in f:\n",
    "        input += line"
   ]
  },
  {
   "cell_type": "code",
   "execution_count": 2,
   "metadata": {
    "collapsed": false
   },
   "outputs": [
    {
     "name": "stdout",
     "output_type": "stream",
     "text": [
      "[-126, 165] 291\n"
     ]
    }
   ],
   "source": [
    "# part 1\n",
    "\n",
    "pos = [0, 0]\n",
    "direction = 0\n",
    "steps = input.strip().split(', ')\n",
    "\n",
    "for step in steps:\n",
    "    if step[0] == 'R':\n",
    "        direction += 1\n",
    "    else:\n",
    "        direction -= 1\n",
    "    direction %= 4\n",
    "    \n",
    "    dim = 1\n",
    "    forward = -1\n",
    "    if direction < 2:\n",
    "        forward = 1\n",
    "    if direction == 1 or direction == 3:\n",
    "        dim = 0\n",
    "        \n",
    "    pos[dim] += forward * int(step[1:])\n",
    "print pos, abs(pos[0]) + abs(pos[1])"
   ]
  },
  {
   "cell_type": "code",
   "execution_count": 3,
   "metadata": {
    "collapsed": false,
    "scrolled": true
   },
   "outputs": [
    {
     "name": "stdout",
     "output_type": "stream",
     "text": [
      "[16, 143] 159\n"
     ]
    }
   ],
   "source": [
    "# part 2\n",
    "\n",
    "pos = [0, 0]\n",
    "direction = 0\n",
    "steps = input.strip().split(', ')\n",
    "visited = set([])\n",
    "been = []\n",
    "done = 0\n",
    "\n",
    "for step in steps:\n",
    "    if step[0] == 'R':\n",
    "        direction += 1\n",
    "    else:\n",
    "        direction -= 1  \n",
    "    direction %= 4\n",
    "    \n",
    "    dim = 1\n",
    "    forward = -1\n",
    "    if direction < 2:\n",
    "        forward = 1\n",
    "    if direction == 1 or direction == 3:\n",
    "        dim = 0\n",
    "    \n",
    "    for i in range(int(step[1:])):\n",
    "        pos[dim] += forward \n",
    "        if tuple(pos) in visited:\n",
    "            done = 1\n",
    "            break\n",
    "        visited.add(tuple(pos))\n",
    "        been += [tuple(pos)]\n",
    "    if done:\n",
    "        break\n",
    "print pos, abs(pos[0]) + abs(pos[1])"
   ]
  },
  {
   "cell_type": "code",
   "execution_count": 4,
   "metadata": {
    "collapsed": false
   },
   "outputs": [],
   "source": [
    "import numpy as np\n",
    "streetgrid = np.zeros([500, 500])"
   ]
  },
  {
   "cell_type": "code",
   "execution_count": 5,
   "metadata": {
    "collapsed": false
   },
   "outputs": [],
   "source": [
    "for p in been:\n",
    "    streetgrid[p[0]+250, p[1]+250] = 100"
   ]
  },
  {
   "cell_type": "code",
   "execution_count": null,
   "metadata": {
    "collapsed": true
   },
   "outputs": [],
   "source": []
  },
  {
   "cell_type": "code",
   "execution_count": null,
   "metadata": {
    "collapsed": true
   },
   "outputs": [],
   "source": []
  }
 ],
 "metadata": {
  "kernelspec": {
   "display_name": "Python 2",
   "language": "python",
   "name": "python2"
  },
  "language_info": {
   "codemirror_mode": {
    "name": "ipython",
    "version": 2
   },
   "file_extension": ".py",
   "mimetype": "text/x-python",
   "name": "python",
   "nbconvert_exporter": "python",
   "pygments_lexer": "ipython2",
   "version": "2.7.10"
  }
 },
 "nbformat": 4,
 "nbformat_minor": 0
}
