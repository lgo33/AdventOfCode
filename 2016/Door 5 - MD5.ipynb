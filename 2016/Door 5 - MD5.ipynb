{
 "cells": [
  {
   "cell_type": "code",
   "execution_count": 33,
   "metadata": {
    "collapsed": true
   },
   "outputs": [],
   "source": [
    "input = 'cxdnnyjw'"
   ]
  },
  {
   "cell_type": "code",
   "execution_count": 22,
   "metadata": {
    "collapsed": true
   },
   "outputs": [],
   "source": [
    "import hashlib\n",
    "\n",
    "def md5hash(str):\n",
    "    return hashlib.md5(str).hexdigest()"
   ]
  },
  {
   "cell_type": "code",
   "execution_count": 41,
   "metadata": {
    "collapsed": false
   },
   "outputs": [
    {
     "name": "stdout",
     "output_type": "stream",
     "text": [
      "        f 2307654 00000fe1e92080b9951b053e70e31fcb\n",
      "        f7 2503851 000007c827126c81fa664211693f2540\n",
      "        f77 3020934 000007880153f1b804481a39a6d2e86a\n",
      "        f77a 4275978 00000a6e225253b6aaa8f20efbaad8b5\n",
      "        f77a0 7416166 00000096164643e2e0fbf5a91bfd7f06\n",
      "        f77a0e 7730074 00000e77a8b223b2d149990fb634bd74\n",
      "        f77a0e6 7739164 000006ec13bc03b597beee4fa9352176\n",
      "        f77a0e6e 8202539 00000ee477915a03c15f93ac53769648\n"
     ]
    }
   ],
   "source": [
    "# part 1\n",
    "found = 0\n",
    "index = 0\n",
    "m = hashlib.md5()\n",
    "pw = ''\n",
    "while found < 8:\n",
    "    hash = md5hash(input+str(index))\n",
    "    if hash[:5] == '00000':                    \n",
    "        found += 1\n",
    "        pw += hash[5]\n",
    "        print pw, index, hash\n",
    "    index += 1"
   ]
  },
  {
   "cell_type": "code",
   "execution_count": 49,
   "metadata": {
    "collapsed": false
   },
   "outputs": [
    {
     "name": "stdout",
     "output_type": "stream",
     "text": [
      "       c found:  7 2503851 000007c827126c81fa664211693f2540\n",
      "9      c found:  0 7416166 00000096164643e2e0fbf5a91bfd7f06\n",
      "9     ec found:  6 7739164 000006ec13bc03b597beee4fa9352176\n",
      "9   2 ec found:  4 9196770 00000426f1cd2f19a38114170b33c5ef\n",
      "9 9 2 ec found:  2 14466563 000002966111d9b5c057ab99802ff414\n",
      "9 982 ec found:  3 16503992 000003810329edb2a26e9ccf602fd5c1\n",
      "9 9828ec found:  5 17582424 000005829911142c7c1592863f4fd438\n",
      "999828ec found:  1 25370046 0000019ba65feb3f3b74f37b29ce1481\n"
     ]
    }
   ],
   "source": [
    "# part 1\n",
    "found = 0\n",
    "index = 0\n",
    "m = hashlib.md5()\n",
    "pw = [' '] * 8\n",
    "while found < 8:\n",
    "    hash = md5hash(input+str(index))\n",
    "    if hash[:5] == '00000' and ord(hash[5]) < 56:\n",
    "        pos = int(hash[5])\n",
    "        if pw[pos] == ' ':\n",
    "            found += 1\n",
    "            pw[pos] = hash[6]\n",
    "            print \"\".join(pw),'found: ', pos, index, hash\n",
    "    index += 1"
   ]
  },
  {
   "cell_type": "code",
   "execution_count": 47,
   "metadata": {
    "collapsed": false
   },
   "outputs": [
    {
     "data": {
      "text/plain": [
       "'        '"
      ]
     },
     "execution_count": 47,
     "metadata": {},
     "output_type": "execute_result"
    }
   ],
   "source": [
    "\"\".join(pw)"
   ]
  },
  {
   "cell_type": "code",
   "execution_count": 25,
   "metadata": {
    "collapsed": false
   },
   "outputs": [
    {
     "name": "stdout",
     "output_type": "stream",
     "text": [
      "cxdnnyjw\n"
     ]
    }
   ],
   "source": [
    "aprint input, ec8697ee"
   ]
  }
 ],
 "metadata": {
  "kernelspec": {
   "display_name": "Python 2",
   "language": "python",
   "name": "python2"
  },
  "language_info": {
   "codemirror_mode": {
    "name": "ipython",
    "version": 2
   },
   "file_extension": ".py",
   "mimetype": "text/x-python",
   "name": "python",
   "nbconvert_exporter": "python",
   "pygments_lexer": "ipython2",
   "version": "2.7.10"
  }
 },
 "nbformat": 4,
 "nbformat_minor": 0
}
