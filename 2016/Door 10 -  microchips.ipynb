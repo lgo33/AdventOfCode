{
 "cells": [
  {
   "cell_type": "code",
   "execution_count": 63,
   "metadata": {
    "collapsed": true
   },
   "outputs": [],
   "source": [
    "input = []\n",
    "with open(\"data/input_10.txt\", \"r\") as f:\n",
    "    for line in f:\n",
    "        input.append(line.strip())\n",
    "from collections import defaultdict"
   ]
  },
  {
   "cell_type": "code",
   "execution_count": 64,
   "metadata": {
    "collapsed": false
   },
   "outputs": [],
   "source": [
    "rec = {\n",
    "    'bot' : defaultdict(list),\n",
    "    'output' : defaultdict(list)\n",
    "    }\n",
    "\n",
    "def parse(line):\n",
    "    cmd = line.split(' ')\n",
    "    if cmd[0] == 'value':\n",
    "        rec['bot'][cmd[5]] += [int(cmd[1])]\n",
    "        return True\n",
    "    if cmd[0] == 'bot':\n",
    "        b = cmd[1]\n",
    "        if len(rec['bot'][b]) < 2:\n",
    "            return False\n",
    "        if 17 in rec['bot'][b] and 61 in rec['bot'][b]:\n",
    "            print rec['bot'][b], line\n",
    "        if rec['bot'][b][0] < rec['bot'][b][1]:\n",
    "            rec[cmd[5]][cmd[6]] += [rec['bot'][b][0]]\n",
    "            rec[cmd[10]][cmd[11]] += [rec['bot'][b][1]]\n",
    "        else:\n",
    "            rec[cmd[5]][cmd[6]] += [rec['bot'][b][1]]\n",
    "            rec[cmd[10]][cmd[11]] += [rec['bot'][b][0]]\n",
    "        rec['bot'][b] = []\n",
    "        return True    \n",
    "    return False\n",
    "    \n",
    "    "
   ]
  },
  {
   "cell_type": "code",
   "execution_count": 65,
   "metadata": {
    "collapsed": false
   },
   "outputs": [
    {
     "name": "stdout",
     "output_type": "stream",
     "text": [
      "[61, 17] bot 101 gives low to bot 202 and high to bot 66\n"
     ]
    }
   ],
   "source": [
    "i = 0\n",
    "while len(input) and i < len(input):\n",
    "    if parse(input[i]):\n",
    "        input.pop(i)\n",
    "        i = 0\n",
    "        continue\n",
    "    i += 1"
   ]
  },
  {
   "cell_type": "code",
   "execution_count": 66,
   "metadata": {
    "collapsed": false
   },
   "outputs": [
    {
     "data": {
      "text/plain": [
       "defaultdict(list,\n",
       "            {'0': [31],\n",
       "             '1': [23],\n",
       "             '10': [47],\n",
       "             '11': [5],\n",
       "             '12': [2],\n",
       "             '13': [73],\n",
       "             '14': [17],\n",
       "             '15': [13],\n",
       "             '16': [43],\n",
       "             '17': [61],\n",
       "             '18': [59],\n",
       "             '19': [41],\n",
       "             '2': [53],\n",
       "             '20': [19],\n",
       "             '3': [67],\n",
       "             '4': [71],\n",
       "             '5': [37],\n",
       "             '6': [11],\n",
       "             '7': [3],\n",
       "             '8': [7],\n",
       "             '9': [29]})"
      ]
     },
     "execution_count": 66,
     "metadata": {},
     "output_type": "execute_result"
    }
   ],
   "source": [
    "rec['output']"
   ]
  },
  {
   "cell_type": "code",
   "execution_count": 62,
   "metadata": {
    "collapsed": false
   },
   "outputs": [
    {
     "name": "stdout",
     "output_type": "stream",
     "text": [
      "37789\n"
     ]
    }
   ],
   "source": [
    "print rec['output']['0'][0] *  rec['output']['1'][0] * rec['output']['2'][0]"
   ]
  },
  {
   "cell_type": "code",
   "execution_count": null,
   "metadata": {
    "collapsed": true
   },
   "outputs": [],
   "source": []
  }
 ],
 "metadata": {
  "kernelspec": {
   "display_name": "Python 2",
   "language": "python",
   "name": "python2"
  },
  "language_info": {
   "codemirror_mode": {
    "name": "ipython",
    "version": 2
   },
   "file_extension": ".py",
   "mimetype": "text/x-python",
   "name": "python",
   "nbconvert_exporter": "python",
   "pygments_lexer": "ipython2",
   "version": "2.7.10"
  }
 },
 "nbformat": 4,
 "nbformat_minor": 0
}
