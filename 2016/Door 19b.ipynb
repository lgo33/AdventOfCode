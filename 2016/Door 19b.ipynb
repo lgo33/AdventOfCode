{
 "cells": [
  {
   "cell_type": "code",
   "execution_count": 1,
   "metadata": {
    "collapsed": true
   },
   "outputs": [],
   "source": [
    "class Node:\n",
    "    def __init__(self,id):\n",
    "        self.id  = id\n",
    "        self.nxt = None\n",
    "        self.prv = None\n",
    "\n",
    "    def delete(self):\n",
    "        self.prv.nxt = self.nxt\n",
    "        self.nxt.prv = self.prv\n",
    "\n",
    "def solve(n):\n",
    "    l = map(Node, xrange(n))\n",
    "    for i in xrange(n):\n",
    "        l[i].nxt = l[(i+1)%n]\n",
    "        l[i].prv = l[(i-1)%n]\n",
    "\n",
    "    start = l[0]\n",
    "    mid   = l[n/2]\n",
    "\n",
    "    for i in xrange(n-1):\n",
    "        mid.delete()\n",
    "        mid = mid.nxt\n",
    "        if (n-i)%2==1: mid = mid.nxt\n",
    "        start = start.nxt\n",
    "\n",
    "    return start.id+1"
   ]
  },
  {
   "cell_type": "code",
   "execution_count": 4,
   "metadata": {
    "collapsed": false
   },
   "outputs": [
    {
     "data": {
      "text/plain": [
       "1407007"
      ]
     },
     "execution_count": 4,
     "metadata": {},
     "output_type": "execute_result"
    }
   ],
   "source": [
    "solve(3001330)"
   ]
  },
  {
   "cell_type": "code",
   "execution_count": 20,
   "metadata": {
    "collapsed": true
   },
   "outputs": [],
   "source": [
    "import collections\n",
    "def solve_parttwo(ELF_COUNT):\n",
    "    left = collections.deque()\n",
    "    right = collections.deque()\n",
    "    for i in range(1, ELF_COUNT+1):\n",
    "        if i < (ELF_COUNT // 2) + 1:\n",
    "            left.append(i)\n",
    "        else:\n",
    "            right.appendleft(i)            \n",
    "\n",
    "    while left and right:\n",
    "        if len(left) > len(right):\n",
    "            left.pop()\n",
    "        else:\n",
    "            right.pop()\n",
    "\n",
    "        # rotate\n",
    "        right.appendleft(left.popleft())\n",
    "        left.append(right.pop())\n",
    "    return left[0] or right[0]"
   ]
  },
  {
   "cell_type": "code",
   "execution_count": 22,
   "metadata": {
    "collapsed": false
   },
   "outputs": [
    {
     "data": {
      "text/plain": [
       "1407007"
      ]
     },
     "execution_count": 22,
     "metadata": {},
     "output_type": "execute_result"
    }
   ],
   "source": [
    "solve_parttwo(3001330)"
   ]
  },
  {
   "cell_type": "code",
   "execution_count": 23,
   "metadata": {
    "collapsed": false
   },
   "outputs": [
    {
     "name": "stdout",
     "output_type": "stream",
     "text": [
      "1407007\n"
     ]
    }
   ],
   "source": [
    "target = 3001330\n",
    "i = 1\n",
    "\n",
    "while i * 3 < target:\n",
    "    i *= 3\n",
    "\n",
    "print(target - i)"
   ]
  },
  {
   "cell_type": "code",
   "execution_count": null,
   "metadata": {
    "collapsed": true
   },
   "outputs": [],
   "source": []
  }
 ],
 "metadata": {
  "kernelspec": {
   "display_name": "Python 2",
   "language": "python",
   "name": "python2"
  },
  "language_info": {
   "codemirror_mode": {
    "name": "ipython",
    "version": 2
   },
   "file_extension": ".py",
   "mimetype": "text/x-python",
   "name": "python",
   "nbconvert_exporter": "python",
   "pygments_lexer": "ipython2",
   "version": "2.7.10"
  }
 },
 "nbformat": 4,
 "nbformat_minor": 0
}
