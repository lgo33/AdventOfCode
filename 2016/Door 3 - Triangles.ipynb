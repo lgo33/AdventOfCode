{
 "cells": [
  {
   "cell_type": "code",
   "execution_count": 18,
   "metadata": {
    "collapsed": false
   },
   "outputs": [],
   "source": [
    "input = []\n",
    "with open(\"data/input_3.txt\", \"r\") as f:\n",
    "    for line in f:\n",
    "        input.append(map(int, line.strip().split()))"
   ]
  },
  {
   "cell_type": "code",
   "execution_count": 33,
   "metadata": {
    "collapsed": false
   },
   "outputs": [
    {
     "name": "stdout",
     "output_type": "stream",
     "text": [
      "982\n"
     ]
    }
   ],
   "source": [
    "# part 1\n",
    "possible = 0\n",
    "for sides in input:\n",
    "    sides.sort()\n",
    "    if sides[0] + sides[1] > sides[2]:\n",
    "        possible += 1\n",
    "print possible"
   ]
  },
  {
   "cell_type": "code",
   "execution_count": 35,
   "metadata": {
    "collapsed": false
   },
   "outputs": [],
   "source": [
    "# part 2\n",
    "input = []\n",
    "with open(\"data/input_3.txt\", \"r\") as f:\n",
    "    for line in f:\n",
    "        input.append(map(int, line.strip().split()))"
   ]
  },
  {
   "cell_type": "code",
   "execution_count": 47,
   "metadata": {
    "collapsed": false
   },
   "outputs": [
    {
     "name": "stdout",
     "output_type": "stream",
     "text": [
      "1826\n"
     ]
    }
   ],
   "source": [
    "possible = 0\n",
    "for i in range(0, len(input), 3):\n",
    "#for i in range(0, 6, 3):\n",
    "    for j in range(3):\n",
    "        sides = []\n",
    "        for k in range(3):\n",
    "            sides += [input[i+k][j]]\n",
    "        sides.sort()\n",
    "        if sides[0] + sides[1] > sides[2]:\n",
    "            possible += 1\n",
    "print possible"
   ]
  },
  {
   "cell_type": "code",
   "execution_count": 44,
   "metadata": {
    "collapsed": false
   },
   "outputs": [
    {
     "name": "stdout",
     "output_type": "stream",
     "text": [
      "[[883, 357, 185], [572, 189, 424], [842, 206, 272], [55, 656, 94], [612, 375, 90], [663, 550, 179]]\n"
     ]
    }
   ],
   "source": [
    "print input[:6]"
   ]
  },
  {
   "cell_type": "code",
   "execution_count": null,
   "metadata": {
    "collapsed": true
   },
   "outputs": [],
   "source": []
  }
 ],
 "metadata": {
  "kernelspec": {
   "display_name": "Python 2",
   "language": "python",
   "name": "python2"
  },
  "language_info": {
   "codemirror_mode": {
    "name": "ipython",
    "version": 2
   },
   "file_extension": ".py",
   "mimetype": "text/x-python",
   "name": "python",
   "nbconvert_exporter": "python",
   "pygments_lexer": "ipython2",
   "version": "2.7.10"
  }
 },
 "nbformat": 4,
 "nbformat_minor": 0
}
