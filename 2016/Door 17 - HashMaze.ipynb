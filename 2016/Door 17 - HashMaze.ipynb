{
 "cells": [
  {
   "cell_type": "code",
   "execution_count": 1,
   "metadata": {
    "collapsed": true
   },
   "outputs": [],
   "source": [
    "import hashlib\n",
    "\n",
    "def md5hash(string):\n",
    "    return hashlib.md5(string).hexdigest()\n",
    "\n",
    "def doorStates(path, seed = 'mmsxrhfx'):\n",
    "    res = []\n",
    "    for c in md5hash(seed+path)[:4]:\n",
    "        if c in ('b', 'c', 'd', 'e', 'f'):\n",
    "            res.append(True)\n",
    "        else:\n",
    "            res.append(False)\n",
    "    return res"
   ]
  },
  {
   "cell_type": "code",
   "execution_count": 2,
   "metadata": {
    "collapsed": false
   },
   "outputs": [
    {
     "name": "stdout",
     "output_type": "stream",
     "text": [
      "RLDUDRDDRR 10\n"
     ]
    }
   ],
   "source": [
    "# part 1\n",
    "n = 4\n",
    "paths = [('', (0, 0))]\n",
    "\n",
    "while len(paths):\n",
    "    path, pos = paths.pop(0)\n",
    "    x, y = pos\n",
    "    if pos == (n-1, n-1):\n",
    "        print path, len(path)\n",
    "        break\n",
    "    up, down, left, right = doorStates(path)\n",
    "    if up and y > 0:\n",
    "        paths.append((path+'U', (x, y-1)))\n",
    "    if down and y < n:    \n",
    "        paths.append((path+'D', (x, y+1)))\n",
    "    if left and x > 0:\n",
    "        paths.append((path+'L', (x-1, y)))\n",
    "    if right and x < n:    \n",
    "        paths.append((path+'R', (x+1, y)))\n",
    "    "
   ]
  },
  {
   "cell_type": "code",
   "execution_count": 9,
   "metadata": {
    "collapsed": false
   },
   "outputs": [
    {
     "name": "stdout",
     "output_type": "stream",
     "text": [
      "1061 RLDRDLRRRLDLRLUURDLRLRDLLRUUDUUDDUDRUDRUDUDUULLRLDDLUDRDRLRULUURLDDDLUDRULDURRDLUULRDULRLUDRDRDUDURLLUDRDULLURDDUDRULUURRDLRLDDLRURUULDLURDDUDRLURUDLLRDLLURRLDRRLLRRLLURDULDUDUUDULDRDURRLDUURLDULLRDLDRLRLRLURRUDRDUULLRDULDLRLRDUDRDULRLURDRLLURULDDDURUDDULURRLDRUULLDDRURLDLRLUDUDRUDRLUUDUDLRDLRDULLRLRUDDUDURULRDRLUDDLRLLUUDRRUULDRUDDUDUDLUDDULRUURLDLRDDLURDUDULDRLRLUDURUDLUDURDURDRUDLLRLLRDURUDDULURLDLUUDRLDUUDRRDLUDRULRRDLLRUURDLLRULLDRUDRRUDDUDLUUDURLDLDRUDDURLUDRUULLLDRDLRULRDRRLULDDURLLRULRRLURRLRLDLDDLRRULULRLURDLURRDDDUDUUDURLRULDULRRDLLULDRLDURDDRLLURDLURDURURULDLDDULRDRLLRRLRR 590\n"
     ]
    }
   ],
   "source": [
    "# part 2\n",
    "n = 4\n",
    "paths = [('', (0, 0))]\n",
    "res = []\n",
    "\n",
    "while len(paths):\n",
    "    path, pos = paths.pop(0)\n",
    "    x, y = pos\n",
    "    if pos == (n-1, n-1):\n",
    "        #print path, len(path)\n",
    "        res.append(path)\n",
    "        continue\n",
    "    up, down, left, right = doorStates(path)\n",
    "    if up and y > 0:\n",
    "        paths.append((path+'U', (x, y-1)))\n",
    "    if down and y < n-1:    \n",
    "        paths.append((path+'D', (x, y+1)))\n",
    "    if left and x > 0:\n",
    "        paths.append((path+'L', (x-1, y)))\n",
    "    if right and x < n-1:    \n",
    "        paths.append((path+'R', (x+1, y)))\n",
    "\n",
    "print len(res), res[-1], len(res[-1])"
   ]
  },
  {
   "cell_type": "code",
   "execution_count": null,
   "metadata": {
    "collapsed": true
   },
   "outputs": [],
   "source": []
  }
 ],
 "metadata": {
  "kernelspec": {
   "display_name": "Python 2",
   "language": "python",
   "name": "python2"
  },
  "language_info": {
   "codemirror_mode": {
    "name": "ipython",
    "version": 2
   },
   "file_extension": ".py",
   "mimetype": "text/x-python",
   "name": "python",
   "nbconvert_exporter": "python",
   "pygments_lexer": "ipython2",
   "version": "2.7.10"
  }
 },
 "nbformat": 4,
 "nbformat_minor": 0
}
