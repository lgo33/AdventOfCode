{
 "cells": [
  {
   "cell_type": "code",
   "execution_count": 90,
   "metadata": {
    "collapsed": true
   },
   "outputs": [],
   "source": [
    "input = []\n",
    "#with open(\"data/input_23.txt\", \"r\") as f:\n",
    "with open(\"data/input_23_new.txt\", \"r\") as f:\n",
    "    for line in f:\n",
    "        input.append(line.strip())"
   ]
  },
  {
   "cell_type": "code",
   "execution_count": 91,
   "metadata": {
    "collapsed": false
   },
   "outputs": [],
   "source": [
    "reg = [0, 0, 0, 0]\n",
    "loc = 0\n",
    "\n",
    "def getReg(x):\n",
    "    if x.isdigit():\n",
    "        return -1\n",
    "    return ord(x) - ord('a')\n",
    "\n",
    "def getValue(x):\n",
    "    try:\n",
    "        return int(x)\n",
    "    except ValueError:\n",
    "        return reg[getReg(x)]\n",
    "    \n",
    "def abCopy(x, y):\n",
    "    if y.isdigit(): return\n",
    "    global reg\n",
    "    reg[getReg(y)] = getValue(x)\n",
    "\n",
    "def abInc(x):\n",
    "    if x.isdigit(): return\n",
    "    global reg\n",
    "    reg[getReg(x)] += 1\n",
    "    \n",
    "def abDec(x):\n",
    "    if x.isdigit(): return\n",
    "    global reg\n",
    "    reg[getReg(x)] -= 1\n",
    "    \n",
    "def abJnz(x, y):\n",
    "    global loc\n",
    "    if getValue(x) != 0:\n",
    "        loc += getValue(y)\n",
    "        loc -= 1\n",
    "\n",
    "def abMult(x, y):\n",
    "    global reg\n",
    "    reg[getReg(x)] *= getValue(y)\n",
    "    \n",
    "def abAdd(x, y):\n",
    "    global reg\n",
    "    reg[getReg(x)] += getValue(y)\n",
    "    \n",
    "def abNo():\n",
    "    return\n",
    "\n",
    "def abTgl(x):\n",
    "    global ins\n",
    "    i = loc + getValue(x)\n",
    "    print i\n",
    "    if i < 0 or i > len(ins)-1:\n",
    "        return\n",
    "    fn, args = ins[i]\n",
    "    if len(args) < 2:\n",
    "        if fn == abInc:\n",
    "            ins[i][0] = abDec\n",
    "        else:\n",
    "            ins[i][0] = abInc\n",
    "    else:\n",
    "        if fn == abJnz:\n",
    "            ins[i][0] = abCopy\n",
    "        else:\n",
    "            ins[i][0] = abJnz\n",
    "        \n",
    "fn = {\n",
    "    'cpy': abCopy,\n",
    "    'inc': abInc,\n",
    "    'dec': abDec,\n",
    "    'jnz': abJnz,\n",
    "    'tgl': abTgl,\n",
    "    'mlt': abMult, \n",
    "    'add': abAdd,\n",
    "    'no' : abNo,\n",
    "}\n",
    "    \n",
    "def parse(line):\n",
    "    cmd = line.split(\" \")\n",
    "    return [fn[cmd[0]], cmd[1:]]\n",
    "    "
   ]
  },
  {
   "cell_type": "code",
   "execution_count": 93,
   "metadata": {
    "collapsed": false
   },
   "outputs": [
    {
     "name": "stdout",
     "output_type": "stream",
     "text": [
      "36\n",
      "34\n",
      "32\n",
      "30\n",
      "28\n",
      "26\n",
      "24\n",
      "22\n",
      "20\n",
      "18\n",
      "[479008299, 1, 0, 0]\n",
      "[1, 10, 10, 10, 10, 10, 10, 10, 10, 10, 10, 10, 55, 55, 55, 10, 10, 10, 1, 77, 6699, 6699, 6699, 77, 77, 1]\n"
     ]
    }
   ],
   "source": [
    "ins = []\n",
    "for line in input:\n",
    "    ins.append(parse(line))\n",
    "\n",
    "# part 1\n",
    "reg = [7, 0, 0, 0]\n",
    "#part 2 \n",
    "reg = [12, 0, 0, 0]\n",
    "\n",
    "loc = 0\n",
    "step = 0\n",
    "\n",
    "cnt = [0]  * len(ins)\n",
    "\n",
    "while loc < len(ins) and step < 5000000:\n",
    "    ins[loc][0](*ins[loc][1])\n",
    "    #print step, loc, ins[loc][0].__name__, ins[loc][1]\n",
    "    cnt[loc] += 1\n",
    "    loc+=1\n",
    "    step +=1\n",
    "    \n",
    "print reg\n",
    "print cnt"
   ]
  },
  {
   "cell_type": "code",
   "execution_count": 94,
   "metadata": {
    "collapsed": false
   },
   "outputs": [
    {
     "name": "stdout",
     "output_type": "stream",
     "text": [
      "20636\n"
     ]
    }
   ],
   "source": [
    "print step"
   ]
  },
  {
   "cell_type": "code",
   "execution_count": 63,
   "metadata": {
    "collapsed": false
   },
   "outputs": [
    {
     "name": "stdout",
     "output_type": "stream",
     "text": [
      "1 \tcpy a b\n",
      "4 \tdec b\n",
      "4 \tcpy a d\n",
      "3520 \tcpy 0 a\n",
      "29778 \tcpy b c\n",
      "29778 \tinc a\n",
      "29778 \tdec c\n",
      "3519 \tjnz c -2\n",
      "3519 \tdec d\n",
      "3 \tjnz d -5\n",
      "3 \tdec b\n",
      "3 \tcpy b c\n",
      "27 \tcpy c d\n",
      "27 \tdec d\n",
      "27 \tinc c\n",
      "3 \tjnz d -2\n",
      "3 \ttgl c\n",
      "3 \tcpy -16 c\n",
      "0 \tjnz 1 c\n",
      "0 \tcpy 77 c\n",
      "0 \tjnz 87 d\n",
      "0 \tinc a\n",
      "0 \tinc d\n",
      "0 \tjnz d -2\n",
      "0 \tinc c\n",
      "0 \tjnz c -5\n"
     ]
    }
   ],
   "source": [
    "for i, l in enumerate(input):\n",
    "    print cnt[i], '\\t', l"
   ]
  },
  {
   "cell_type": "code",
   "execution_count": 45,
   "metadata": {
    "collapsed": true
   },
   "outputs": [],
   "source": [
    "ins = []\n",
    "for line in input:\n",
    "    ins.append(parse(line))"
   ]
  },
  {
   "cell_type": "code",
   "execution_count": 52,
   "metadata": {
    "collapsed": false
   },
   "outputs": [
    {
     "data": {
      "text/plain": [
       "(26,\n",
       " [[<function __main__.abCopy>, ['-16', 'c']],\n",
       "  [<function __main__.abCopy>, ['1', 'c']],\n",
       "  [<function __main__.abCopy>, ['77', 'c']],\n",
       "  [<function __main__.abCopy>, ['87', 'd']],\n",
       "  [<function __main__.abInc>, ['a']],\n",
       "  [<function __main__.abDec>, ['d']],\n",
       "  [<function __main__.abJnz>, ['d', '-2']],\n",
       "  [<function __main__.abDec>, ['c']],\n",
       "  [<function __main__.abJnz>, ['c', '-5']]])"
      ]
     },
     "execution_count": 52,
     "metadata": {},
     "output_type": "execute_result"
    }
   ],
   "source": [
    "len(ins),ins[17:]"
   ]
  },
  {
   "cell_type": "code",
   "execution_count": 47,
   "metadata": {
    "collapsed": false
   },
   "outputs": [
    {
     "data": {
      "text/plain": [
       "['cpy a b',\n",
       " 'dec b',\n",
       " 'cpy a d',\n",
       " 'cpy 0 a',\n",
       " 'cpy b c',\n",
       " 'inc a',\n",
       " 'dec c',\n",
       " 'jnz c -2',\n",
       " 'dec d',\n",
       " 'jnz d -5',\n",
       " 'dec b',\n",
       " 'cpy b c',\n",
       " 'cpy c d',\n",
       " 'dec d',\n",
       " 'inc c',\n",
       " 'jnz d -2',\n",
       " 'tgl c',\n",
       " 'cpy -16 c',\n",
       " 'jnz 1 c',\n",
       " 'cpy 77 c',\n",
       " 'jnz 87 d',\n",
       " 'inc a',\n",
       " 'inc d',\n",
       " 'jnz d -2',\n",
       " 'inc c',\n",
       " 'jnz c -5']"
      ]
     },
     "execution_count": 47,
     "metadata": {},
     "output_type": "execute_result"
    }
   ],
   "source": [
    "input"
   ]
  },
  {
   "cell_type": "code",
   "execution_count": 39,
   "metadata": {
    "collapsed": false
   },
   "outputs": [
    {
     "data": {
      "text/plain": [
       "'abCopy'"
      ]
     },
     "execution_count": 39,
     "metadata": {},
     "output_type": "execute_result"
    }
   ],
   "source": [
    "ins[0][0].__name__"
   ]
  },
  {
   "cell_type": "code",
   "execution_count": 36,
   "metadata": {
    "collapsed": false
   },
   "outputs": [],
   "source": [
    "loc = 0\n",
    "abTgl(1, ins)"
   ]
  },
  {
   "cell_type": "code",
   "execution_count": 37,
   "metadata": {
    "collapsed": false
   },
   "outputs": [
    {
     "data": {
      "text/plain": [
       "[[<function __main__.abCopy>, ['a', 'b']],\n",
       " [<function __main__.abDec>, ['b']],\n",
       " [<function __main__.abCopy>, ['a', 'd']],\n",
       " [<function __main__.abCopy>, ['0', 'a']],\n",
       " [<function __main__.abCopy>, ['b', 'c']],\n",
       " [<function __main__.abInc>, ['a']],\n",
       " [<function __main__.abDec>, ['c']],\n",
       " [<function __main__.abJnz>, ['c', '-2']],\n",
       " [<function __main__.abDec>, ['d']],\n",
       " [<function __main__.abJnz>, ['d', '-5']],\n",
       " [<function __main__.abDec>, ['b']],\n",
       " [<function __main__.abCopy>, ['b', 'c']],\n",
       " [<function __main__.abCopy>, ['c', 'd']],\n",
       " [<function __main__.abDec>, ['d']],\n",
       " [<function __main__.abInc>, ['c']],\n",
       " [<function __main__.abJnz>, ['d', '-2']],\n",
       " [<function __main__.abTgl>, ['c']],\n",
       " [<function __main__.abCopy>, ['-16', 'c']],\n",
       " [<function __main__.abJnz>, ['1', 'c']],\n",
       " [<function __main__.abCopy>, ['77', 'c']],\n",
       " [<function __main__.abJnz>, ['87', 'd']],\n",
       " [<function __main__.abInc>, ['a']],\n",
       " [<function __main__.abInc>, ['d']],\n",
       " [<function __main__.abJnz>, ['d', '-2']],\n",
       " [<function __main__.abInc>, ['c']],\n",
       " [<function __main__.abJnz>, ['c', '-5']]]"
      ]
     },
     "execution_count": 37,
     "metadata": {},
     "output_type": "execute_result"
    }
   ],
   "source": [
    "ins"
   ]
  },
  {
   "cell_type": "code",
   "execution_count": 58,
   "metadata": {
    "collapsed": true
   },
   "outputs": [],
   "source": [
    "a = [0] * 10"
   ]
  },
  {
   "cell_type": "code",
   "execution_count": 59,
   "metadata": {
    "collapsed": false
   },
   "outputs": [
    {
     "name": "stdout",
     "output_type": "stream",
     "text": [
      "[0, 0, 0, 1, 0, 0, 0, 0, 0, 0]\n"
     ]
    }
   ],
   "source": [
    "a[3] += 1\n",
    "print a"
   ]
  },
  {
   "cell_type": "code",
   "execution_count": null,
   "metadata": {
    "collapsed": true
   },
   "outputs": [],
   "source": []
  }
 ],
 "metadata": {
  "kernelspec": {
   "display_name": "Python 2",
   "language": "python",
   "name": "python2"
  },
  "language_info": {
   "codemirror_mode": {
    "name": "ipython",
    "version": 2
   },
   "file_extension": ".py",
   "mimetype": "text/x-python",
   "name": "python",
   "nbconvert_exporter": "python",
   "pygments_lexer": "ipython2",
   "version": "2.7.10"
  }
 },
 "nbformat": 4,
 "nbformat_minor": 0
}
