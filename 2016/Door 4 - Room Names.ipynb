{
 "cells": [
  {
   "cell_type": "code",
   "execution_count": 8,
   "metadata": {
    "collapsed": false
   },
   "outputs": [],
   "source": [
    "input = []\n",
    "with open(\"data/input_4.txt\", \"r\") as f:\n",
    "    for line in f:\n",
    "        input.append(line.strip().split('-'))"
   ]
  },
  {
   "cell_type": "code",
   "execution_count": 10,
   "metadata": {
    "collapsed": false
   },
   "outputs": [
    {
     "name": "stdout",
     "output_type": "stream",
     "text": [
      "['fubrjhqlf', 'edvnhw', 'dftxlvlwlrq', '803[wjvzd]']\n",
      "['kzgwomvqk', 'rmttgjmiv', 'lmxizbumvb', '902[zmnji]']\n",
      "['dkqjcbctfqwu', 'dwppa', 'fgukip', '596[syiua]']\n",
      "['xjinphzm', 'bmvyz', 'ytz', 'gjbdnodxn', '135[nzbdj]']\n",
      "['uwtojhynqj', 'hfsid', 'xytwflj', '177[ztsqu]']\n",
      "['udpsdjlqj', 'fkrfrodwh', 'ilqdqflqj', '491[uscwt]']\n",
      "['kdijqrbu', 'fbqijys', 'whqii', 'sedjqydcudj', '790[dijqb]']\n",
      "['udpsdjlqj', 'hjj', 'uhdftxlvlwlrq', '439[jldhq]']\n",
      "['bnmrtldq', 'fqzcd', 'bqxnfdmhb', 'bgnbnkzsd', 'zmzkxrhr', '105[bdnzm]']\n",
      "['lejkrscv', 'wlqqp', 'sleep', 'ivrthlzjzkzfe', '789[elzjk]']\n"
     ]
    }
   ],
   "source": [
    "\n",
    "    print "
   ]
  },
  {
   "cell_type": "code",
   "execution_count": 60,
   "metadata": {
    "collapsed": false
   },
   "outputs": [
    {
     "name": "stdout",
     "output_type": "stream",
     "text": [
      "173787\n"
     ]
    }
   ],
   "source": [
    "# part 1\n",
    "\n",
    "from collections import defaultdict\n",
    "\n",
    "idsum = 0\n",
    "real = []\n",
    "\n",
    "for line in input:\n",
    "    letters = defaultdict(int)\n",
    "    for word in line[:-1]:\n",
    "        for letter in word:\n",
    "            letters[letter] += 1\n",
    "    checksum = '['\n",
    "    for l in sorted(letters.items() ,key=lambda x: (-x[1], x[0]))[:5]:\n",
    "        checksum += l[0]\n",
    "    checksum += ']'\n",
    "    if checksum == line[-1][-7:]:\n",
    "        sector_id = int(line[-1].split('[')[0])\n",
    "        idsum += sector_id\n",
    "        real.append([line[:-1], sector_id])\n",
    "        #print line, sector_id, idsum\n",
    "print idsum"
   ]
  },
  {
   "cell_type": "code",
   "execution_count": 64,
   "metadata": {
    "collapsed": false
   },
   "outputs": [],
   "source": [
    "# part 2\n",
    "\n",
    "def shift(l, n):\n",
    "    return chr(((ord(l) - ord('a') + n ) % 26 ) + ord('a'))\n",
    "\n",
    "def decrypt(word, n):\n",
    "    result = \"\"\n",
    "    for l in word:\n",
    "        result += shift(l, n)\n",
    "    return result"
   ]
  },
  {
   "cell_type": "code",
   "execution_count": 73,
   "metadata": {
    "collapsed": false
   },
   "outputs": [
    {
     "name": "stdout",
     "output_type": "stream",
     "text": [
      "northpole object storage  548\n"
     ]
    }
   ],
   "source": [
    "for words, sid in real:\n",
    "    dec = \"\"\n",
    "    for w in words:\n",
    "        dec += decrypt(w, sid) + \" \"\n",
    "    if dec[:5] == 'north':\n",
    "        print dec, sid\n",
    "    #print dec"
   ]
  },
  {
   "cell_type": "code",
   "execution_count": null,
   "metadata": {
    "collapsed": true
   },
   "outputs": [],
   "source": []
  }
 ],
 "metadata": {
  "kernelspec": {
   "display_name": "Python 2",
   "language": "python",
   "name": "python2"
  },
  "language_info": {
   "codemirror_mode": {
    "name": "ipython",
    "version": 2
   },
   "file_extension": ".py",
   "mimetype": "text/x-python",
   "name": "python",
   "nbconvert_exporter": "python",
   "pygments_lexer": "ipython2",
   "version": "2.7.10"
  }
 },
 "nbformat": 4,
 "nbformat_minor": 0
}
