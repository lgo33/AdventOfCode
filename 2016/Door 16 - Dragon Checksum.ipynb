{
 "cells": [
  {
   "cell_type": "code",
   "execution_count": 1,
   "metadata": {
    "collapsed": true
   },
   "outputs": [],
   "source": [
    "input = '01111010110010011'"
   ]
  },
  {
   "cell_type": "code",
   "execution_count": 65,
   "metadata": {
    "collapsed": true
   },
   "outputs": [],
   "source": [
    "from string import maketrans\n",
    "def dc(a):\n",
    "    b = ['0' if i == '1' else '1' for i in reversed(a)]\n",
    "    b.insert(0, '0')\n",
    "    return a + ''.join(b)\n",
    "    \n",
    "def chksum(a):\n",
    "    if (len(a) % 2) != 0:\n",
    "        return a\n",
    "    res = []\n",
    "    for i in range(0, len(a), 2):\n",
    "        if a[i] == a[i+1]:\n",
    "            res.append('1')\n",
    "        else:\n",
    "            res.append('0')\n",
    "    return chksum(''.join(res))"
   ]
  },
  {
   "cell_type": "code",
   "execution_count": 66,
   "metadata": {
    "collapsed": false
   },
   "outputs": [
    {
     "name": "stdout",
     "output_type": "stream",
     "text": [
      "True\n"
     ]
    }
   ],
   "source": [
    "print dc('111100001010') == '1111000010100101011110000'"
   ]
  },
  {
   "cell_type": "code",
   "execution_count": 68,
   "metadata": {
    "collapsed": false
   },
   "outputs": [
    {
     "data": {
      "text/plain": [
       "'100'"
      ]
     },
     "execution_count": 68,
     "metadata": {},
     "output_type": "execute_result"
    }
   ],
   "source": [
    "chksum('110010110100')"
   ]
  },
  {
   "cell_type": "code",
   "execution_count": 73,
   "metadata": {
    "collapsed": false
   },
   "outputs": [
    {
     "name": "stdout",
     "output_type": "stream",
     "text": [
      "11101110011100110\n"
     ]
    }
   ],
   "source": [
    "#test data\n",
    "#l = 20\n",
    "#state = '10000'\n",
    "\n",
    "#part 1\n",
    "#l = 272\n",
    "\n",
    "#part 2\n",
    "l = 35651584\n",
    "\n",
    "state = '01111010110010011'\n",
    "\n",
    "while len(state) < l:\n",
    "    state = dc(state)\n",
    "    #print state\n",
    "print chksum(state[:l])"
   ]
  },
  {
   "cell_type": "code",
   "execution_count": 22,
   "metadata": {
    "collapsed": false
   },
   "outputs": [],
   "source": []
  },
  {
   "cell_type": "code",
   "execution_count": null,
   "metadata": {
    "collapsed": true
   },
   "outputs": [],
   "source": []
  }
 ],
 "metadata": {
  "kernelspec": {
   "display_name": "Python 2",
   "language": "python",
   "name": "python2"
  },
  "language_info": {
   "codemirror_mode": {
    "name": "ipython",
    "version": 2
   },
   "file_extension": ".py",
   "mimetype": "text/x-python",
   "name": "python",
   "nbconvert_exporter": "python",
   "pygments_lexer": "ipython2",
   "version": "2.7.10"
  }
 },
 "nbformat": 4,
 "nbformat_minor": 0
}
