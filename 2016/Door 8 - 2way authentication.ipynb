{
 "cells": [
  {
   "cell_type": "code",
   "execution_count": 2,
   "metadata": {
    "collapsed": true
   },
   "outputs": [],
   "source": [
    "input = []\n",
    "with open(\"data/input_8.txt\", \"r\") as f:\n",
    "    for line in f:\n",
    "        input.append(line.strip())\n",
    "import numpy as np"
   ]
  },
  {
   "cell_type": "code",
   "execution_count": 3,
   "metadata": {
    "collapsed": false
   },
   "outputs": [],
   "source": [
    "nx = 50\n",
    "ny = 6\n",
    "screen = np.zeros((nx, ny)) "
   ]
  },
  {
   "cell_type": "code",
   "execution_count": 18,
   "metadata": {
    "collapsed": false
   },
   "outputs": [],
   "source": [
    "def clrscr():\n",
    "    screen[:] = np.zeros((nx, ny)) \n",
    "\n",
    "def rect(x, y):\n",
    "    screen[:x, :y] = 1\n",
    "\n",
    "def rotx(A, n):\n",
    "    screen[:, A] = np.concatenate((screen[-n:, A], screen[:-n, A]))\n",
    "    \n",
    "def roty(A, n):\n",
    "    screen[A, :] = np.concatenate((screen[A, -n:], screen[A, :-n]))\n",
    "\n",
    "def parse(line):\n",
    "    cmd = line.split(\" \")\n",
    "    if cmd[0] == 'rect':\n",
    "        x, y = map(int, cmd[1].split('x'))\n",
    "        rect(x, y)\n",
    "    elif cmd[0] == 'rotate':\n",
    "        A = int(cmd[2].split('=')[1])\n",
    "        n = int(cmd[4])\n",
    "        if cmd[1] == 'row':\n",
    "            rotx(A, n)\n",
    "        elif cmd[1] == 'column':\n",
    "            roty(A, n)\n",
    "        else:\n",
    "            raise Exception\n",
    "    else:\n",
    "        raise Exception"
   ]
  },
  {
   "cell_type": "code",
   "execution_count": 5,
   "metadata": {
    "collapsed": false
   },
   "outputs": [],
   "source": [
    "parse(input[1])"
   ]
  },
  {
   "cell_type": "code",
   "execution_count": 19,
   "metadata": {
    "collapsed": false
   },
   "outputs": [],
   "source": [
    "clrscr()\n",
    "for line in input:\n",
    "    parse(line)"
   ]
  },
  {
   "cell_type": "code",
   "execution_count": 7,
   "metadata": {
    "collapsed": false
   },
   "outputs": [],
   "source": [
    "# part 2\n",
    "#%pylab inline\n",
    "#figsize(12, 12)\n",
    "import matplotlib\n",
    "matplotlib.use('TKAgg')\n",
    "import matplotlib.pyplot as plt\n",
    "clrscr()\n",
    "for line in input:\n",
    "    parse(line)\n",
    "im = plt.imshow(screen.T, interpolation='None', cmap='Greys')\n",
    "#im.set_array()\n",
    "plt.show()"
   ]
  },
  {
   "cell_type": "code",
   "execution_count": 23,
   "metadata": {
    "collapsed": false
   },
   "outputs": [
    {
     "data": {
      "text/plain": [
       "array([ 0.,  0.,  0.,  0.,  0.,  0.])"
      ]
     },
     "execution_count": 23,
     "metadata": {},
     "output_type": "execute_result"
    }
   ],
   "source": [
    "# part 1\n",
    "sum(screen)"
   ]
  },
  {
   "cell_type": "code",
   "execution_count": 54,
   "metadata": {
    "collapsed": false
   },
   "outputs": [],
   "source": [
    "import matplotlib\n",
    "matplotlib.use('TKAgg')\n",
    "import matplotlib.pyplot as plt\n",
    "from matplotlib import animation\n",
    "fig = plt.figure()\n",
    "im = plt.imshow(screen.T, interpolation='None', cmap='Greys', animated=True)\n",
    "#im = imshow(screen.T, interpolation='None', animated=True)\n",
    "\n",
    "\n",
    "def animate(i):\n",
    "    global screen\n",
    "    if i == 0:\n",
    "        clrscr()\n",
    "    parse(input[i])\n",
    "    im.set_data(screen[:].T)\n",
    "    #print i\n",
    "    #im.set_data(np.ones((nx,ny)).T)\n",
    "    #print i, screen[0,:10]\n",
    "    #print im.get_array()\n",
    "    return im,\n",
    "\n",
    "anim = animation.FuncAnimation(fig, animate, \n",
    "                               frames=len(input), interval=200, blit=True)\n",
    "\n",
    "plt.show()\n",
    "\n",
    "#ani = animation.FuncAnimation(fig, animate, interval=50, frames=30)\n"
   ]
  },
  {
   "cell_type": "code",
   "execution_count": 47,
   "metadata": {
    "collapsed": false
   },
   "outputs": [],
   "source": [
    "plt.imshow(screen.T, interpolation='None', cmap='Greys')\n",
    "plt.show()"
   ]
  },
  {
   "cell_type": "code",
   "execution_count": 49,
   "metadata": {
    "collapsed": true
   },
   "outputs": [],
   "source": []
  },
  {
   "cell_type": "code",
   "execution_count": null,
   "metadata": {
    "collapsed": true
   },
   "outputs": [],
   "source": []
  }
 ],
 "metadata": {
  "kernelspec": {
   "display_name": "Python 2",
   "language": "python",
   "name": "python2"
  },
  "language_info": {
   "codemirror_mode": {
    "name": "ipython",
    "version": 2
   },
   "file_extension": ".py",
   "mimetype": "text/x-python",
   "name": "python",
   "nbconvert_exporter": "python",
   "pygments_lexer": "ipython2",
   "version": "2.7.10"
  }
 },
 "nbformat": 4,
 "nbformat_minor": 0
}
