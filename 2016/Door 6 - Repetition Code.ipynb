{
 "cells": [
  {
   "cell_type": "code",
   "execution_count": 6,
   "metadata": {
    "collapsed": true
   },
   "outputs": [],
   "source": [
    "input = []\n",
    "with open(\"data/input_6.txt\", \"r\") as f:\n",
    "    for line in f:\n",
    "        input.append(line.strip())\n",
    "\n",
    "from collections import defaultdict"
   ]
  },
  {
   "cell_type": "code",
   "execution_count": 42,
   "metadata": {
    "collapsed": false
   },
   "outputs": [],
   "source": [
    "pos = []\n",
    "for i in range(8):\n",
    "    pos.append(defaultdict(int))\n",
    "\n",
    "for line in input:\n",
    "    #print line\n",
    "    for p, l in enumerate(line):\n",
    "        pos[p][l] += 1"
   ]
  },
  {
   "cell_type": "code",
   "execution_count": 43,
   "metadata": {
    "collapsed": false
   },
   "outputs": [
    {
     "name": "stdout",
     "output_type": "stream",
     "text": [
      "zcreqgiv\n"
     ]
    }
   ],
   "source": [
    "# part 1\n",
    "pw = ''\n",
    "for p in pos:\n",
    "    pw += sorted(p.items(), key = lambda x: -x[1])[0][0]\n",
    "print pw"
   ]
  },
  {
   "cell_type": "code",
   "execution_count": 44,
   "metadata": {
    "collapsed": false
   },
   "outputs": [
    {
     "name": "stdout",
     "output_type": "stream",
     "text": [
      "pljvorrk\n"
     ]
    }
   ],
   "source": [
    "# part 2\n",
    "pw = ''\n",
    "for p in pos:\n",
    "    pw += sorted(p.items(), key = lambda x: x[1])[0][0]\n",
    "print pw"
   ]
  }
 ],
 "metadata": {
  "kernelspec": {
   "display_name": "Python 2",
   "language": "python",
   "name": "python2"
  },
  "language_info": {
   "codemirror_mode": {
    "name": "ipython",
    "version": 2
   },
   "file_extension": ".py",
   "mimetype": "text/x-python",
   "name": "python",
   "nbconvert_exporter": "python",
   "pygments_lexer": "ipython2",
   "version": "2.7.10"
  }
 },
 "nbformat": 4,
 "nbformat_minor": 0
}
