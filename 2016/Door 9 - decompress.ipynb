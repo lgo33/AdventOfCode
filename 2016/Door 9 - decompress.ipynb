{
 "cells": [
  {
   "cell_type": "code",
   "execution_count": 117,
   "metadata": {
    "collapsed": true
   },
   "outputs": [],
   "source": [
    "input = []\n",
    "with open(\"data/input_9.txt\", \"r\") as f:\n",
    "    for line in f:\n",
    "        input.append(line.strip())\n",
    "import re\n",
    "import sys\n",
    "sys.setrecursionlimit(20000)\n",
    "str = input[0]"
   ]
  },
  {
   "cell_type": "code",
   "execution_count": 111,
   "metadata": {
    "collapsed": true
   },
   "outputs": [],
   "source": [
    "# part 1\n",
    "def decompress(str):\n",
    "    m = re.search('\\(\\d+x\\d+\\)', str)\n",
    "    if m is None:\n",
    "        return str\n",
    "    start = m.start()\n",
    "    end   = m.end()\n",
    "    l, n = map(int, str[start+1: end-1].split('x'))\n",
    "    return str[:start] + str[end:end+l] * (n) + decompress(str[end+l:])\n"
   ]
  },
  {
   "cell_type": "code",
   "execution_count": 112,
   "metadata": {
    "collapsed": false
   },
   "outputs": [
    {
     "name": "stdout",
     "output_type": "stream",
     "text": [
      "74532\n"
     ]
    }
   ],
   "source": [
    "dstr = decompress(str)\n",
    "print len(dstr)"
   ]
  },
  {
   "cell_type": "code",
   "execution_count": 119,
   "metadata": {
    "collapsed": false
   },
   "outputs": [],
   "source": [
    "# part 2\n",
    "def decompress_b(str):\n",
    "    m = re.search('\\(\\d+x\\d+\\)', str)\n",
    "    if m is None:\n",
    "        return len(str)\n",
    "    start = m.start()\n",
    "    end   = m.end()\n",
    "    l, n = map(int, str[start+1: end-1].split('x'))\n",
    "    return start + n * decompress_b( str[end:end+l] ) + decompress_b(str[end+l:])"
   ]
  },
  {
   "cell_type": "code",
   "execution_count": 121,
   "metadata": {
    "collapsed": false
   },
   "outputs": [
    {
     "data": {
      "text/plain": [
       "11558231665"
      ]
     },
     "execution_count": 121,
     "metadata": {},
     "output_type": "execute_result"
    }
   ],
   "source": [
    "decompress_b(str)"
   ]
  },
  {
   "cell_type": "code",
   "execution_count": 120,
   "metadata": {
    "collapsed": false
   },
   "outputs": [
    {
     "data": {
      "text/plain": [
       "241920"
      ]
     },
     "execution_count": 120,
     "metadata": {},
     "output_type": "execute_result"
    }
   ],
   "source": [
    "decompress_b('(27x12)(20x12)(13x14)(7x10)(1x12)A')"
   ]
  },
  {
   "cell_type": "code",
   "execution_count": null,
   "metadata": {
    "collapsed": true
   },
   "outputs": [],
   "source": []
  }
 ],
 "metadata": {
  "kernelspec": {
   "display_name": "Python 2",
   "language": "python",
   "name": "python2"
  },
  "language_info": {
   "codemirror_mode": {
    "name": "ipython",
    "version": 2
   },
   "file_extension": ".py",
   "mimetype": "text/x-python",
   "name": "python",
   "nbconvert_exporter": "python",
   "pygments_lexer": "ipython2",
   "version": "2.7.10"
  }
 },
 "nbformat": 4,
 "nbformat_minor": 0
}
