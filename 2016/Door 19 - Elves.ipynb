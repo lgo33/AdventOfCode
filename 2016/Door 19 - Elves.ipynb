{
 "cells": [
  {
   "cell_type": "code",
   "execution_count": 1,
   "metadata": {
    "collapsed": false
   },
   "outputs": [
    {
     "name": "stdout",
     "output_type": "stream",
     "text": [
      "[0, 1, 2, 3, 4, 5, 6, 7, 8, 9, 10, 11, 12, 13, 14, 15, 16, 17, 18, 19, 20, 21, 22, 23, 24, 25, 26, 27, 28, 29, 30, 31, 32, 33]\n",
      "17 [0, 2, 4, 6, 8, 10, 12, 14, 16, 18, 20, 22, 24, 26, 28, 30, 32]\n",
      "9 [0, 4, 8, 12, 16, 20, 24, 28, 32]\n",
      "4 [4, 12, 20, 28]\n",
      "2 [4, 20]\n",
      "1 [4]\n"
     ]
    }
   ],
   "source": [
    "#n = 3001330\n",
    "n = 34\n",
    "elves = list(range(n))\n",
    "\n",
    "i = 0\n",
    "print elves\n",
    "while len(elves) > 1:\n",
    "    n = 1 if (len(elves) + i) % 2 else 0\n",
    "    elves = elves[i::2]\n",
    "    print len(elves), (elves)\n",
    "    i = n\n",
    "           "
   ]
  },
  {
   "cell_type": "code",
   "execution_count": 2,
   "metadata": {
    "collapsed": false
   },
   "outputs": [
    {
     "name": "stdout",
     "output_type": "stream",
     "text": [
      "1808357\n"
     ]
    }
   ],
   "source": [
    "# part 1\n",
    "n = 3001330\n",
    "elves = list(range(n))\n",
    "\n",
    "i = 0\n",
    "#print elves\n",
    "while len(elves) > 1:\n",
    "    n = 1 if (len(elves) + i) % 2 else 0\n",
    "    elves = elves[i::2]\n",
    "    #print len(elves), (elves)\n",
    "    i = n\n",
    "print elves[0] + 1"
   ]
  },
  {
   "cell_type": "code",
   "execution_count": 315,
   "metadata": {
    "collapsed": false
   },
   "outputs": [
    {
     "name": "stdout",
     "output_type": "stream",
     "text": [
      "34 [1, 4, 7, 10, 13, 16, 19, 22, 25, 28, 31, 34, 37, 40, 43, 46, 49, 51, 54, 57, 60, 63, 66, 69, 72, 75, 78, 81, 84, 87, 90, 93, 96, 99]\n",
      "12 [1, 10, 19, 28, 37, 46, 49, 57, 66, 75, 84, 93]\n",
      "4 [19, 46, 66, 93]\n",
      "2 [19, 46]\n",
      "1 [19]\n",
      "[19]\n"
     ]
    }
   ],
   "source": [
    "# part 2\n",
    "n = 3001330\n",
    "n = 101\n",
    "elves = list(range(n))\n",
    "i = 0\n",
    "while len(elves) > 1:\n",
    "    elves = kill_old(elves)\n",
    "    #elves = kill(elves)\n",
    "    print len(elves) #, elves\n",
    "print elves"
   ]
  },
  {
   "cell_type": "code",
   "execution_count": 320,
   "metadata": {
    "collapsed": false
   },
   "outputs": [
    {
     "name": "stdout",
     "output_type": "stream",
     "text": [
      "1407007\n"
     ]
    }
   ],
   "source": [
    "# part 2\n",
    "n = 3001330\n",
    "#n = 50000\n",
    "elves = list(range(n))\n",
    "i = 0\n",
    "while len(elves) > 1:\n",
    "    #elves = kill_old(elves)\n",
    "    elves = kill(elves)\n",
    "    #print len(elves)#, elves\n",
    "print elves[0]+1"
   ]
  },
  {
   "cell_type": "code",
   "execution_count": 110,
   "metadata": {
    "collapsed": false
   },
   "outputs": [
    {
     "data": {
      "text/plain": [
       "[1, 4, 7]"
      ]
     },
     "execution_count": 110,
     "metadata": {},
     "output_type": "execute_result"
    }
   ],
   "source": [
    "elves #101 ->19, 1000 -> 270, 50000 -> 40950"
   ]
  },
  {
   "cell_type": "code",
   "execution_count": 234,
   "metadata": {
    "collapsed": true
   },
   "outputs": [],
   "source": [
    "def kill_old(elves):    \n",
    "    i = 0\n",
    "    while len(elves) > 1:\n",
    "        kills = (i + len(elves)/2) % len(elves)\n",
    "        elves.pop(kills)\n",
    "        if kills > i:\n",
    "            i = (i + 1) \n",
    "        if i >= len(elves):\n",
    "            return elves"
   ]
  },
  {
   "cell_type": "code",
   "execution_count": 309,
   "metadata": {
    "collapsed": false
   },
   "outputs": [],
   "source": [
    "def kill(elves):\n",
    "    j = (len(elves)+2) % 3\n",
    "    k = (-len(elves)) % 3\n",
    "    l = len(elves)\n",
    "    if l < 3:\n",
    "        return [elves[0]]\n",
    "    first  = elves[j:l/2:3]\n",
    "    second = list(reversed(elves[l-1-k:l/2-k:-3]))\n",
    "    if (l % 6) == 1 or (l % 6) == 2 and l > 2:\n",
    "        add = [elves[l/2-1]]\n",
    "    else:\n",
    "        add = []\n",
    "    return first + add + second"
   ]
  },
  {
   "cell_type": "code",
   "execution_count": 311,
   "metadata": {
    "collapsed": false
   },
   "outputs": [
    {
     "name": "stdout",
     "output_type": "stream",
     "text": [
      "#2:  [0]\n",
      "#2:  [0]\n",
      "---------------------------------------\n",
      "#3:  [2]\n",
      "#3:  [2]\n",
      "---------------------------------------\n",
      "#4:  [0, 1]\n",
      "#4:  [0, 1]\n",
      "---------------------------------------\n",
      "#5:  [1, 3]\n",
      "#5:  [1, 3]\n",
      "---------------------------------------\n",
      "#6:  [2, 5]\n",
      "#6:  [2, 5]\n",
      "---------------------------------------\n",
      "#7:  [0, 2, 4]\n",
      "#7:  [0, 2, 4]\n",
      "---------------------------------------\n",
      "#8:  [1, 3, 6]\n",
      "#8:  [1, 3, 6]\n",
      "---------------------------------------\n",
      "#9:  [2, 5, 8]\n",
      "#9:  [2, 5, 8]\n",
      "---------------------------------------\n",
      "#10:  [0, 3, 4, 7]\n",
      "#10:  [0, 3, 4, 7]\n",
      "---------------------------------------\n",
      "#11:  [1, 4, 6, 9]\n",
      "#11:  [1, 4, 6, 9]\n",
      "---------------------------------------\n",
      "#12:  [2, 5, 8, 11]\n",
      "#12:  [2, 5, 8, 11]\n",
      "---------------------------------------\n",
      "#13:  [0, 3, 5, 7, 10]\n",
      "#13:  [0, 3, 5, 7, 10]\n",
      "---------------------------------------\n",
      "#14:  [1, 4, 6, 9, 12]\n",
      "#14:  [1, 4, 6, 9, 12]\n",
      "---------------------------------------\n",
      "#15:  [2, 5, 8, 11, 14]\n",
      "#15:  [2, 5, 8, 11, 14]\n",
      "---------------------------------------\n",
      "#16:  [0, 3, 6, 7, 10, 13]\n",
      "#16:  [0, 3, 6, 7, 10, 13]\n",
      "---------------------------------------\n",
      "#17:  [1, 4, 7, 9, 12, 15]\n",
      "#17:  [1, 4, 7, 9, 12, 15]\n",
      "---------------------------------------\n",
      "#18:  [2, 5, 8, 11, 14, 17]\n",
      "#18:  [2, 5, 8, 11, 14, 17]\n",
      "---------------------------------------\n",
      "#19:  [0, 3, 6, 8, 10, 13, 16]\n",
      "#19:  [0, 3, 6, 8, 10, 13, 16]\n",
      "---------------------------------------\n",
      "#20:  [1, 4, 7, 9, 12, 15, 18]\n",
      "#20:  [1, 4, 7, 9, 12, 15, 18]\n",
      "---------------------------------------\n",
      "#21:  [2, 5, 8, 11, 14, 17, 20]\n",
      "#21:  [2, 5, 8, 11, 14, 17, 20]\n",
      "---------------------------------------\n",
      "#22:  [0, 3, 6, 9, 10, 13, 16, 19]\n",
      "#22:  [0, 3, 6, 9, 10, 13, 16, 19]\n",
      "---------------------------------------\n",
      "#23:  [1, 4, 7, 10, 12, 15, 18, 21]\n",
      "#23:  [1, 4, 7, 10, 12, 15, 18, 21]\n",
      "---------------------------------------\n",
      "#24:  [2, 5, 8, 11, 14, 17, 20, 23]\n",
      "#24:  [2, 5, 8, 11, 14, 17, 20, 23]\n",
      "---------------------------------------\n",
      "#25:  [0, 3, 6, 9, 11, 13, 16, 19, 22]\n",
      "#25:  [0, 3, 6, 9, 11, 13, 16, 19, 22]\n",
      "---------------------------------------\n",
      "#26:  [1, 4, 7, 10, 12, 15, 18, 21, 24]\n",
      "#26:  [1, 4, 7, 10, 12, 15, 18, 21, 24]\n",
      "---------------------------------------\n"
     ]
    }
   ],
   "source": [
    "for n in range(2, 27):\n",
    "    elves = list(range(n))\n",
    "    print '#%d: ' % n, kill(elves)\n",
    "    print '#%d: ' % n, kill_old(elves)\n",
    "    print '---------------------------------------'\n",
    "    "
   ]
  },
  {
   "cell_type": "code",
   "execution_count": 114,
   "metadata": {
    "collapsed": true
   },
   "outputs": [],
   "source": [
    "#10: [0, 3, 4, 7]\n",
    "#11: [1, 4, 6, 9]\n",
    "#12: [2, 5, 8, 11] \n",
    "#13: [0, 3, 5, 7, 10] #5\n",
    "#14: [1, 4, 6, 9, 12]  #6\n",
    "#15: [2, 5, 8, 11, 14]\n",
    "#16: [0, 3, 6, 7, 10, 13] \n",
    "#17: [1, 4, 7, 9, 12, 15] \n",
    "#18: [2, 5, 8, 11, 14, 17] \n",
    "#19: [0, 3, 6, 8, 10, 13, 16] # 8\n",
    "#20: [1, 4, 7, 9, 12, 15, 18] # 9"
   ]
  },
  {
   "cell_type": "code",
   "execution_count": 194,
   "metadata": {
    "collapsed": false
   },
   "outputs": [
    {
     "name": "stdout",
     "output_type": "stream",
     "text": [
      "0 [1, 4, '|', 9, 12] 7 1\n"
     ]
    }
   ],
   "source": [
    "# part 2\n",
    "#import numpy as np\n",
    "#n = 3001330\n",
    "n = 14\n",
    "elves = list(range(n))\n",
    "i = 0\n",
    "while len(elves) > 1:\n",
    "    elves = kill(elves)\n",
    "    print i, elves, n/2, k\n",
    "    break"
   ]
  },
  {
   "cell_type": "code",
   "execution_count": 145,
   "metadata": {
    "collapsed": false
   },
   "outputs": [
    {
     "data": {
      "text/plain": [
       "(2, 0, 1)"
      ]
     },
     "execution_count": 145,
     "metadata": {},
     "output_type": "execute_result"
    }
   ],
   "source": [
    "-13 % 3, -12 % 3, -11 % 3"
   ]
  },
  {
   "cell_type": "code",
   "execution_count": 87,
   "metadata": {
    "collapsed": false
   },
   "outputs": [
    {
     "data": {
      "text/plain": [
       "1500665"
      ]
     },
     "execution_count": 87,
     "metadata": {},
     "output_type": "execute_result"
    }
   ],
   "source": [
    "len(elves)"
   ]
  },
  {
   "cell_type": "code",
   "execution_count": 201,
   "metadata": {
    "collapsed": false,
    "scrolled": true
   },
   "outputs": [
    {
     "data": {
      "text/plain": [
       "[0, 3, 6, 9]"
      ]
     },
     "execution_count": 201,
     "metadata": {},
     "output_type": "execute_result"
    }
   ],
   "source": [
    "list(range(10))[::3]"
   ]
  }
 ],
 "metadata": {
  "kernelspec": {
   "display_name": "Python 2",
   "language": "python",
   "name": "python2"
  },
  "language_info": {
   "codemirror_mode": {
    "name": "ipython",
    "version": 2
   },
   "file_extension": ".py",
   "mimetype": "text/x-python",
   "name": "python",
   "nbconvert_exporter": "python",
   "pygments_lexer": "ipython2",
   "version": "2.7.10"
  }
 },
 "nbformat": 4,
 "nbformat_minor": 0
}
