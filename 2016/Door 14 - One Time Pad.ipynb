{
 "cells": [
  {
   "cell_type": "code",
   "execution_count": 9,
   "metadata": {
    "collapsed": true
   },
   "outputs": [],
   "source": [
    "import hashlib\n",
    "\n",
    "def memo(fn):\n",
    "    cache = {}\n",
    "    def helper(*args):\n",
    "        if args not in cache:\n",
    "            cache[args] = fn(*args)\n",
    "        return cache[args]\n",
    "    return helper\n",
    "\n",
    "\n",
    "def md5hash(string):\n",
    "    return hashlib.md5(string).hexdigest()\n",
    "\n",
    "@memo\n",
    "def md5hashB(string):\n",
    "    for i in range(2017):\n",
    "        string = hashlib.md5(string).hexdigest()\n",
    "    return string\n",
    "\n",
    "\n",
    "def tuples(string):\n",
    "    tripplet = None\n",
    "    quintets = []\n",
    "    nh = string\n",
    "    for i in range(len(nh)-2):\n",
    "        if nh[i] == nh[i+1] and nh[i] == nh[i+2]:\n",
    "            if tripplet is None:\n",
    "                tripplet = nh[i]\n",
    "            if i < len(nh)-4 and nh[i] not in quintets and nh[i] == nh[i+3] and nh[i] == nh[i+4]:\n",
    "                quintets.append(nh[i])\n",
    "    return tripplet, quintets"
   ]
  },
  {
   "cell_type": "code",
   "execution_count": 10,
   "metadata": {
    "collapsed": false
   },
   "outputs": [
    {
     "data": {
      "text/plain": [
       "'a107ff634856bb300138cac6568c0f24'"
      ]
     },
     "execution_count": 10,
     "metadata": {},
     "output_type": "execute_result"
    }
   ],
   "source": [
    "md5hashB('abc' + str(0))"
   ]
  },
  {
   "cell_type": "code",
   "execution_count": 11,
   "metadata": {
    "collapsed": false
   },
   "outputs": [
    {
     "name": "stdout",
     "output_type": "stream",
     "text": [
      "28954 (22423, 22467)\n"
     ]
    }
   ],
   "source": [
    "from collections import defaultdict\n",
    "salt = 'zpqevtbw'\n",
    "#salt = 'abc'\n",
    "#salt = 'qzyelonm' # 15168 and 20864, works\n",
    "tripplets = {}\n",
    "rev_tripplets = defaultdict(list)\n",
    "quintets = []\n",
    "index = 0\n",
    "fnd = []\n",
    "while len(fnd) < 80:\n",
    "    #part 1\n",
    "    #nh = md5hash(salt + str(index))\n",
    "    #part 2\n",
    "    nh = md5hashB(salt + str(index))\n",
    "    t, q = tuples(nh)\n",
    "    if len(q):\n",
    "        for i in q:\n",
    "            if len(rev_tripplets[i]):\n",
    "                for j in rev_tripplets[i][:]:\n",
    "                    if j >= index - 1000:\n",
    "                        rev_tripplets[i].remove(j)\n",
    "                        fnd.append((j, index))\n",
    "    if t:\n",
    "        tripplets[index] = t\n",
    "        rev_tripplets[t].append(index)\n",
    "    index += 1\n",
    "print index, sorted(fnd)[63]\n",
    "\n",
    "#28712, 28862 too high"
   ]
  },
  {
   "cell_type": "code",
   "execution_count": 12,
   "metadata": {
    "collapsed": false
   },
   "outputs": [
    {
     "name": "stdout",
     "output_type": "stream",
     "text": [
      "5462 6268 806 ('7', []) 87770ab519abd1315ddb3845fe37b4da ('7', ['7']) 53b8ed3266f9af9ecbe6acc77777b045\n",
      "5495 6268 773 ('7', []) 117d4801aff1147773113fb29cb3f1b1 ('7', ['7']) 53b8ed3266f9af9ecbe6acc77777b045\n",
      "5577 6268 691 ('7', []) 11c8a08d48fc49f32b877728b32c9acf ('7', ['7']) 53b8ed3266f9af9ecbe6acc77777b045\n",
      "5590 6268 678 ('7', []) aba8778d550f777709641e46c439fdd0 ('7', ['7']) 53b8ed3266f9af9ecbe6acc77777b045\n",
      "5832 6268 436 ('7', []) 0584b777a66126fc7c6ec5d36d59c484 ('7', ['7']) 53b8ed3266f9af9ecbe6acc77777b045\n",
      "5905 6268 363 ('7', []) 980be41781a49ec59763f2a9b4793777 ('7', ['7']) 53b8ed3266f9af9ecbe6acc77777b045\n",
      "5918 6268 350 ('7', []) 6a75de2e0887a6157774735ea36fd995 ('7', ['7']) 53b8ed3266f9af9ecbe6acc77777b045\n",
      "5929 6268 339 ('7', []) 3724699b9bc1a22b2597776d6ea44fa2 ('7', ['7']) 53b8ed3266f9af9ecbe6acc77777b045\n",
      "5939 6268 329 ('7', []) f207779bf97596c3f51fe66bc63e0d7d ('7', ['7']) 53b8ed3266f9af9ecbe6acc77777b045\n",
      "7546 8518 972 ('7', []) 315667107774ce9a7a0a4ae32d4818ca ('7', ['7']) d5f83c9363b796a48777777cc965504e\n",
      "7695 8518 823 ('7', []) 209851f3f90e45d1caac1e9586777a0c ('7', ['7']) d5f83c9363b796a48777777cc965504e\n",
      "7706 8518 812 ('7', []) 370fcb347933c56552de9e1002a777e4 ('7', ['7']) d5f83c9363b796a48777777cc965504e\n",
      "7739 8518 779 ('7', []) cb5777cb05a650d5d7402b4d91da3c45 ('7', ['7']) d5f83c9363b796a48777777cc965504e\n",
      "7884 8518 634 ('7', []) 4d2f88c3491ba12fa2b777474efa530c ('7', ['7']) d5f83c9363b796a48777777cc965504e\n",
      "8043 8518 475 ('7', []) 430257c1b533dccf463a8831381777f2 ('7', ['7']) d5f83c9363b796a48777777cc965504e\n",
      "8049 8518 469 ('7', []) 394318be2d777bf8e8bdea63415f6bc1 ('7', ['7']) d5f83c9363b796a48777777cc965504e\n",
      "8112 8518 406 ('7', []) faad2e33777c0676f35ca6fcd15eb627 ('7', ['7']) d5f83c9363b796a48777777cc965504e\n",
      "8776 9698 922 ('6', []) cbcbad8c5c97666bc004808293476f2b ('2', ['6']) 62224a258e05c4f52b8706666636dd4f\n",
      "9127 9698 571 ('6', []) 4b466648be3ee9c1776522717c5a8dbe ('2', ['6']) 62224a258e05c4f52b8706666636dd4f\n",
      "9152 9698 546 ('6', []) 67062428cb41f9666a388fa71d082382 ('2', ['6']) 62224a258e05c4f52b8706666636dd4f\n",
      "9262 9698 436 ('6', []) 633ca7b657fd310cb572c41cc666a9d5 ('2', ['6']) 62224a258e05c4f52b8706666636dd4f\n",
      "9301 9698 397 ('6', []) d6ca90e4ad464fc9b8b7e223666efa86 ('2', ['6']) 62224a258e05c4f52b8706666636dd4f\n",
      "9339 9698 359 ('6', []) 86e78069ed6b666a807c8a0e4339ad35 ('2', ['6']) 62224a258e05c4f52b8706666636dd4f\n",
      "9562 9698 136 ('6', []) c0c48c06cc6080e666efc778132a1b82 ('2', ['6']) 62224a258e05c4f52b8706666636dd4f\n",
      "9610 9698 88 ('6', []) bca65b79d362e531a36660151a012607 ('2', ['6']) 62224a258e05c4f52b8706666636dd4f\n",
      "9664 9698 34 ('6', []) ee1ef3ec8f2217db6d2e6663d67cca99 ('2', ['6']) 62224a258e05c4f52b8706666636dd4f\n",
      "11089 12058 969 ('b', []) d604d5d6cd9bbfec9bbbca6ac61b7f91 ('b', ['b']) d55ad2e4e51dcfc2989e236a4febbbbb\n",
      "11151 12058 907 ('b', []) f2f1c52fdc9362b71bbbf618f3167d26 ('b', ['b']) d55ad2e4e51dcfc2989e236a4febbbbb\n",
      "11155 12014 859 ('f', []) ba277a38ef375fff5bf1d4f92648c69f ('f', ['f']) 9b7f105ba7181e92830b9675b77fffff\n",
      "11172 12058 886 ('b', []) 5bdfb74784206ec20450cabbb4bf5575 ('b', ['b']) d55ad2e4e51dcfc2989e236a4febbbbb\n",
      "11319 12058 739 ('b', []) 1c5cf063a094f025188fbbbacaf538c5 ('b', ['b']) d55ad2e4e51dcfc2989e236a4febbbbb\n",
      "11327 12058 731 ('b', []) 95f29a2bfbbb27bb9b33bc44fa157ebc ('b', ['b']) d55ad2e4e51dcfc2989e236a4febbbbb\n",
      "11406 12014 608 ('f', []) 8eb156de14ee233a535b14e63fff3f6f ('f', ['f']) 9b7f105ba7181e92830b9675b77fffff\n",
      "11443 12014 571 ('f', []) fffca3301d2037c366b06e6adc30653e ('f', ['f']) 9b7f105ba7181e92830b9675b77fffff\n",
      "11467 12014 547 ('f', []) fabdb366d944626d99bf84567fff1c25 ('f', ['f']) 9b7f105ba7181e92830b9675b77fffff\n",
      "11558 12058 500 ('b', []) 74af6fa721223afe7a5bbb264a19718d ('b', ['b']) d55ad2e4e51dcfc2989e236a4febbbbb\n",
      "11717 12058 341 ('b', []) 869bbbfce6ad5943746e84f75c6f5ac3 ('b', ['b']) d55ad2e4e51dcfc2989e236a4febbbbb\n",
      "11738 12014 276 ('f', []) 6a8d975c35d19fff1552d49e78cec3cd ('f', ['f']) 9b7f105ba7181e92830b9675b77fffff\n",
      "11794 12014 220 ('f', []) 2e2dfaff15bfffd24129af1d08ba282a ('f', ['f']) 9b7f105ba7181e92830b9675b77fffff\n",
      "11886 12058 172 ('b', []) e35fbbbd27c2500e10bb6f8e16ff2917 ('b', ['b']) d55ad2e4e51dcfc2989e236a4febbbbb\n",
      "11888 12058 170 ('b', []) 43b3b893ba6399ec2eaeae9441bbbb47 ('b', ['b']) d55ad2e4e51dcfc2989e236a4febbbbb\n",
      "11917 12014 97 ('f', []) e06ce9911ea60a7c2cfffbbc7278ddc7 ('f', ['f']) 9b7f105ba7181e92830b9675b77fffff\n",
      "11959 12058 99 ('b', []) 34fbbb7d2195e41a8f82e35ef1b61081 ('b', ['b']) d55ad2e4e51dcfc2989e236a4febbbbb\n",
      "17030 17867 837 ('f', []) 760b5ab962af336dfffcd5f840d6781c ('f', ['f']) d3db91db366fdd03dfffff85a13443b3\n",
      "17122 17867 745 ('f', []) 639d4cd33ebc12f1360fd8ed8c21fff8 ('f', ['f']) d3db91db366fdd03dfffff85a13443b3\n",
      "17178 17867 689 ('f', []) 17a25fff0eabbf74d734bbc24b2ec422 ('f', ['f']) d3db91db366fdd03dfffff85a13443b3\n",
      "17417 17867 450 ('f', []) d60866ee4c83019d340fffb3411fe380 ('f', ['f']) d3db91db366fdd03dfffff85a13443b3\n",
      "17687 17867 180 ('f', []) 55495d1ef11a36f82f8fff79194a3a5b ('f', ['f']) d3db91db366fdd03dfffff85a13443b3\n",
      "17773 17867 94 ('f', []) 5fff5d8cc99ec4f6054ea810e7eac0d1 ('f', ['f']) d3db91db366fdd03dfffff85a13443b3\n",
      "17777 17867 90 ('f', []) 9d42c0b02fff962f3c66db2e093843aa ('f', ['f']) d3db91db366fdd03dfffff85a13443b3\n",
      "18195 19069 874 ('9', []) 95ad8ab379f8f741345999b6055597d8 ('9', ['9']) 93578ab541e93e6260e1d999995b48c0\n",
      "18364 19069 705 ('9', []) 8f76bfcbb2c094d5afa99903c8105f5f ('9', ['9']) 93578ab541e93e6260e1d999995b48c0\n",
      "18526 19069 543 ('9', []) b1d99939978547e7ac8f2b6726ff68e2 ('9', ['9']) 93578ab541e93e6260e1d999995b48c0\n",
      "18535 19069 534 ('9', []) 2f622657999ee93af0e0757d3d563149 ('9', ['9']) 93578ab541e93e6260e1d999995b48c0\n",
      "18780 19069 289 ('9', []) 16b9ed3a3999b90f403090144b112103 ('9', ['9']) 93578ab541e93e6260e1d999995b48c0\n",
      "18814 19069 255 ('9', []) 99909b81437bd6e9b8ae5449d0d348c5 ('9', ['9']) 93578ab541e93e6260e1d999995b48c0\n",
      "21572 22467 895 ('a', []) 4874df4fd81f5e27f62de22aaac939f0 ('a', ['a']) c058d80c6901acfd9aaaaa27ecc33159\n",
      "21631 22467 836 ('a', []) 2f4a448bb678486b596aaaed1de4f72a ('a', ['a']) c058d80c6901acfd9aaaaa27ecc33159\n",
      "21958 22467 509 ('a', []) 27f7c5df2f191eeb95d8321aaab3523f ('a', ['a']) c058d80c6901acfd9aaaaa27ecc33159\n",
      "22278 22467 189 ('a', []) a953195da880928f99c93238310aaa50 ('a', ['a']) c058d80c6901acfd9aaaaa27ecc33159\n",
      "22311 22467 156 ('a', []) f9ef4b2faaa8b364d86d736bf54f89fb ('a', ['a']) c058d80c6901acfd9aaaaa27ecc33159\n",
      "22325 22467 142 ('a', []) f045c6f5984a7821bb731aaa7525a866 ('a', ['a']) c058d80c6901acfd9aaaaa27ecc33159\n",
      "22344 22467 123 ('a', []) 1cd69d8e2c5f933aaaef6d376ed472cd ('a', ['a']) c058d80c6901acfd9aaaaa27ecc33159\n",
      "22423 22467 44 ('a', []) d3c2c545e953d2aaa5a7ebfa4decc669 ('a', ['a']) c058d80c6901acfd9aaaaa27ecc33159\n",
      "26374 27360 986 ('2', []) befdae10b74e7c37f773cd2227efcb2d ('2', ['2']) bf0242a881e207202222271a7088b3ae\n",
      "26454 27360 906 ('2', []) 42a222dba402f4c76993bcf81487dbd8 ('2', ['2']) bf0242a881e207202222271a7088b3ae\n",
      "26659 27360 701 ('2', []) 4f83753887d0a65a45a20260bab93222 ('2', ['2']) bf0242a881e207202222271a7088b3ae\n",
      "26706 27360 654 ('2', []) fc3ba67e5622298ed62e465acd277dae ('2', ['2']) bf0242a881e207202222271a7088b3ae\n"
     ]
    }
   ],
   "source": [
    "for i, j in sorted(fnd)[:68]:\n",
    "    h = md5hashB(salt+str(i))\n",
    "    h2 = md5hashB(salt+str(j))\n",
    "    print i, j, j-i, tuples(h), h, tuples(h2), h2"
   ]
  },
  {
   "cell_type": "code",
   "execution_count": null,
   "metadata": {
    "collapsed": true
   },
   "outputs": [],
   "source": []
  }
 ],
 "metadata": {
  "kernelspec": {
   "display_name": "Python 2",
   "language": "python",
   "name": "python2"
  },
  "language_info": {
   "codemirror_mode": {
    "name": "ipython",
    "version": 2
   },
   "file_extension": ".py",
   "mimetype": "text/x-python",
   "name": "python",
   "nbconvert_exporter": "python",
   "pygments_lexer": "ipython2",
   "version": "2.7.10"
  }
 },
 "nbformat": 4,
 "nbformat_minor": 0
}
