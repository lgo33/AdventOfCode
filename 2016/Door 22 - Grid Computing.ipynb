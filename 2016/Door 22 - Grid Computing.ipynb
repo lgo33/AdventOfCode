{
 "cells": [
  {
   "cell_type": "code",
   "execution_count": 1,
   "metadata": {
    "collapsed": true
   },
   "outputs": [],
   "source": [
    "input = []\n",
    "with open(\"data/input_22.txt\", \"r\") as f:\n",
    "    for line in f:\n",
    "        input.append(line.strip())"
   ]
  },
  {
   "cell_type": "code",
   "execution_count": 89,
   "metadata": {
    "collapsed": false
   },
   "outputs": [],
   "source": [
    "size = []\n",
    "used = []\n",
    "avail= []\n",
    "node = {}\n",
    "maxx = 0\n",
    "maxy = 0\n",
    "conv = lambda x: int(x[:-1])\n",
    "for i, line in enumerate(input[2:]):\n",
    "    it = line.split()\n",
    "    size.append(conv(it[1]))\n",
    "    used.append(conv(it[2]))\n",
    "    avail.append(conv(it[3]))\n",
    "    pos = map(lambda x: int(x[1:]) ,it[0].split('-')[1:])\n",
    "    if pos[0] > maxx: maxx = pos[0]\n",
    "    if pos[1] > maxy: maxy = pos[1]\n",
    "    node[tuple(pos)] = i\n",
    "maxx += 1\n",
    "maxy += 1"
   ]
  },
  {
   "cell_type": "code",
   "execution_count": 94,
   "metadata": {
    "collapsed": false
   },
   "outputs": [
    {
     "name": "stdout",
     "output_type": "stream",
     "text": [
      "T . . . . . . . . . . . . . . . . . . . . . . . . . . . . . . . . . . . G 0\n",
      ". . . . . . . . . . . . . . . . . . . . . . . . . . . . . . . . . . . . . 1\n",
      ". . . . . . . . . . . . . . . . . . . . . . . . . . . . . . . . . . . . . 2\n",
      ". . . . . . . . . . . . . . . . . . . . . . . . . . . . . . . . . . . . . 3\n",
      ". . . . . . . . . # # # # # # # # # # # # # # # # # # # # # # # # # # # # 4\n",
      ". . . . . . . . . . . . . . . . . . . . . . . . . . . . . . . . . . . . . 5\n",
      ". . . . . . . . . . . . . . . . . . . . . . . . . . . . . . . . . . . . . 6\n",
      ". . . . . . . . . . . . . . . . . . . . . . . . . . . . . . . . . . . . . 7\n",
      ". . . . . . . . . . . . . . . . . . . . . . . . . . . . . . . . . . . . . 8\n",
      ". . . . . . . . . . . . . . . . . . . . . . . . . . . . . . . . . . . . . 9\n",
      ". . . . . . . . . . . . . . . . . . . . . . . . . . . . . . . . . . . . . 10\n",
      ". . . . . . . . . . . . . . . . . . . . . . . . . . . . . . . . . . . . . 11\n",
      ". . . . . . . . . . . . . . . . . . . . . . . . . . . . . . . . . . . . . 12\n",
      ". . . . . . . . . . . . . . . . . . . . . . . . . . . . . . . . . . . . . 13\n",
      ". . . . . . . . . . . . . . . . . . . . . . . . . . . . . . . . . . . . . 14\n",
      ". . . . . . . . . . . . . . . . . . . . . . . . . . . . . . . . . . . . . 15\n",
      ". . . . . . . . . . . . . . . . . . . . . . . . . . . . . . . . . . . . . 16\n",
      ". . . . . . . . . . . . . . . . . . . . . . . . . . . . . . . . . . . . . 17\n",
      ". . . . . . . . . . . . . . . . . . . . . . . . . . . . . . . . . . . . . 18\n",
      ". . . . . . . . . . . . . . . . . . . . . . . . . . . . . . . . . . . . . 19\n",
      ". . . . . . . . . . . . . . . . . . . . . . . . . . . . . . . . . . . . . 20\n",
      ". . . . . . . . . . . . . . . . . . . . . . . . . . . . . . . . . . . . . 21\n",
      ". . . . . . . . . . . . . . . . . . . . . . . . . . . . . . . . . . . . . 22\n",
      ". . . . . . . . . . . . . . . . . . . . . . . . . . . . . . . . . . . . . 23\n",
      ". . . . . . . . . . . . . . . . . . . . . . . . . . . . . . . . . . . . . 24\n",
      ". . . . . . . . . . . . . . . . . . . . . . _ . . . . . . . . . . . . . . 25\n",
      ". . . . . . . . . . . . . . . . . . . . . . . . . . . . . . . . . . . . . 26\n",
      ". . . . . . . . . . . . . . . . . . . . . . . . . . . . . . . . . . . . . 27\n",
      "0 0 0 0 0 0 0 0 0 0 1 1 1 1 1 1 1 1 1 1 2 2 2 2 2 2 2 2 2 2 3 3 3 3 3 3 3 \n",
      "0 1 2 3 4 5 6 7 8 9 0 1 2 3 4 5 6 7 8 9 0 1 2 3 4 5 6 7 8 9 0 1 2 3 4 5 6 \n"
     ]
    },
    {
     "data": {
      "text/plain": [
       "(37, 28, 1102)"
      ]
     },
     "execution_count": 94,
     "metadata": {},
     "output_type": "execute_result"
    }
   ],
   "source": [
    "for y in range(maxy):\n",
    "    for x in range(maxx):\n",
    "        i = node[(x, y)]\n",
    "        if x == maxx-1 and y == 0: print 'G',\n",
    "        elif x == 0 and y == 0: print 'T',\n",
    "        else:\n",
    "            if used[i] ==  0: print '_',\n",
    "            elif used[i] <= 85: print '.',\n",
    "            elif used[i] > 85: print '#',\n",
    "    print y    \n",
    "for x in range(maxx):\n",
    "    print x // 10,\n",
    "print ''\n",
    "for x in range(maxx):\n",
    "    print x % 10,\n",
    "print ''\n",
    "maxx, maxy, (maxx+1) * (maxy+1)"
   ]
  },
  {
   "cell_type": "code",
   "execution_count": 96,
   "metadata": {
    "collapsed": false
   },
   "outputs": [
    {
     "name": "stdout",
     "output_type": "stream",
     "text": [
      "242\n"
     ]
    }
   ],
   "source": [
    "n = 20 + (22-8) + 5 + (35 - 8) + 1 + 35 * (5)\n",
    "print n"
   ]
  },
  {
   "cell_type": "code",
   "execution_count": 28,
   "metadata": {
    "collapsed": false,
    "scrolled": true
   },
   "outputs": [],
   "source": [
    "def argsort(x):\n",
    "    return sorted(range(len(x)), key=x.__getitem__)\n"
   ]
  },
  {
   "cell_type": "code",
   "execution_count": 76,
   "metadata": {
    "collapsed": false
   },
   "outputs": [],
   "source": [
    "from bisect import bisect\n",
    "nnodes = len(size)\n",
    "savail = sorted(avail)\n",
    "sused = sorted(used)\n",
    "ssize = sorted(size)\n",
    "sumnodes = 0\n",
    "for i in range(nnodes):    \n",
    "    if sused[i] == 0:\n",
    "        continue"
   ]
  },
  {
   "cell_type": "code",
   "execution_count": 77,
   "metadata": {
    "collapsed": false
   },
   "outputs": [
    {
     "name": "stdout",
     "output_type": "stream",
     "text": [
      "[85, 85, 85, 85, 85, 85, 85, 85, 85, 85] [507, 507, 508, 508, 508, 508, 509, 509, 509, 510]\n",
      "[4, 4, 4, 6, 7, 7, 7, 7, 7, 9] [30, 30, 30, 30, 30, 30, 30, 30, 30, 85]\n",
      "[0, 64, 64, 64, 64, 64, 64, 64, 64, 64] [497, 497, 498, 498, 498, 499, 499, 499, 499, 499]\n"
     ]
    }
   ],
   "source": [
    "print ssize[:10], ssize[-10:]\n",
    "print savail[:10], savail[-10:]\n",
    "print sused[:10] ,sused[-10:]"
   ]
  },
  {
   "cell_type": "code",
   "execution_count": 72,
   "metadata": {
    "collapsed": false
   },
   "outputs": [
    {
     "data": {
      "text/plain": [
       "1036"
      ]
     },
     "execution_count": 72,
     "metadata": {},
     "output_type": "execute_result"
    }
   ],
   "source": [
    "nnodes"
   ]
  },
  {
   "cell_type": "code",
   "execution_count": 55,
   "metadata": {
    "collapsed": false
   },
   "outputs": [
    {
     "name": "stdout",
     "output_type": "stream",
     "text": [
      "[30, 30, 30, 30, 30, 30, 30, 30, 30, 85]\n",
      "[0, 64, 64, 64, 64, 64, 64, 64, 64, 64]\n"
     ]
    }
   ],
   "source": [
    "print savail[-10:]\n",
    "print sused[:10]"
   ]
  },
  {
   "cell_type": "code",
   "execution_count": 58,
   "metadata": {
    "collapsed": false
   },
   "outputs": [
    {
     "name": "stdout",
     "output_type": "stream",
     "text": [
      "[4, 4, 4, 6, 7, 7, 7, 7, 7, 9]\n",
      "[0, 64, 64, 64, 64, 64, 64, 64, 64, 64]\n"
     ]
    }
   ],
   "source": [
    "print savail[:10]\n",
    "print sused[:10]"
   ]
  },
  {
   "cell_type": "code",
   "execution_count": 63,
   "metadata": {
    "collapsed": false
   },
   "outputs": [
    {
     "data": {
      "text/plain": [
       "1008"
      ]
     },
     "execution_count": 63,
     "metadata": {},
     "output_type": "execute_result"
    }
   ],
   "source": [
    "bisect(sused, 85)"
   ]
  },
  {
   "cell_type": "code",
   "execution_count": 66,
   "metadata": {
    "collapsed": false
   },
   "outputs": [
    {
     "data": {
      "text/plain": [
       "490"
      ]
     },
     "execution_count": 66,
     "metadata": {},
     "output_type": "execute_result"
    }
   ],
   "source": [
    "sused[1008]"
   ]
  }
 ],
 "metadata": {
  "kernelspec": {
   "display_name": "Python 2",
   "language": "python",
   "name": "python2"
  },
  "language_info": {
   "codemirror_mode": {
    "name": "ipython",
    "version": 2
   },
   "file_extension": ".py",
   "mimetype": "text/x-python",
   "name": "python",
   "nbconvert_exporter": "python",
   "pygments_lexer": "ipython2",
   "version": "2.7.10"
  }
 },
 "nbformat": 4,
 "nbformat_minor": 0
}
