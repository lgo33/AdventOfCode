{
 "cells": [
  {
   "cell_type": "code",
   "execution_count": 9,
   "metadata": {
    "collapsed": false
   },
   "outputs": [],
   "source": [
    "lines = []\n",
    "with open(\"data/input_2.txt\", \"r\") as f:\n",
    "    for line in f:\n",
    "        lines += [line]"
   ]
  },
  {
   "cell_type": "code",
   "execution_count": 14,
   "metadata": {
    "collapsed": false
   },
   "outputs": [
    {
     "name": "stdout",
     "output_type": "stream",
     "text": [
      "9\n",
      "2\n",
      "4\n",
      "3\n",
      "5\n"
     ]
    }
   ],
   "source": [
    "# part 1\n",
    "for line in lines:\n",
    "    key = 5\n",
    "    for code in line:\n",
    "        if code == 'R':\n",
    "            if key not in (3, 6, 9):\n",
    "                key += 1\n",
    "        elif code == 'L':\n",
    "            if key not in (1, 4, 7):\n",
    "                key -= 1\n",
    "        elif code == 'U':\n",
    "            if key > 3:\n",
    "                key -= 3\n",
    "        elif code == 'D':\n",
    "            if key < 7:\n",
    "                key += 3\n",
    "    print key"
   ]
  },
  {
   "cell_type": "code",
   "execution_count": 20,
   "metadata": {
    "collapsed": true
   },
   "outputs": [],
   "source": [
    "# part 2\n",
    "import numpy as np"
   ]
  },
  {
   "cell_type": "code",
   "execution_count": 50,
   "metadata": {
    "collapsed": true
   },
   "outputs": [],
   "source": [
    "pos = [3, 1]\n",
    "nextpos = {\n",
    "    'U': lambda: [pos[0]-1, pos[1]],\n",
    "    'D': lambda: [pos[0]+1, pos[1]],\n",
    "    'R': lambda: [pos[0], pos[1]+1],\n",
    "    'L': lambda: [pos[0], pos[1]-1]\n",
    "       }\n",
    "keypad = [\n",
    "    [' ', ' ', ' ', ' ', ' ', ' ', ' ' ],\n",
    "    [' ', ' ', ' ', '1', ' ', ' ', ' ' ],\n",
    "    [' ', ' ', '2', '3', '4', ' ', ' ' ],\n",
    "    [' ', '5', '6', '7', '8', '9', ' ' ],\n",
    "    [' ', ' ', 'A', 'B', 'C', ' ', ' ' ],\n",
    "    [' ', ' ', ' ', 'D', ' ', ' ', ' ' ],\n",
    "    [' ', ' ', ' ', ' ', ' ', ' ', ' ' ],\n",
    "         ]\n",
    "\n",
    "def key(pos):\n",
    "    return keypad[pos[0]][pos[1]]"
   ]
  },
  {
   "cell_type": "code",
   "execution_count": 51,
   "metadata": {
    "collapsed": false
   },
   "outputs": [
    {
     "name": "stdout",
     "output_type": "stream",
     "text": [
      "C\n",
      "1\n",
      "A\n",
      "8\n",
      "8\n"
     ]
    }
   ],
   "source": [
    "# part 1\n",
    "for line in lines:\n",
    "    pos = [3, 1]\n",
    "    for code in line.strip():\n",
    "        npos = nextpos[code]()\n",
    "        if key(npos) != ' ':\n",
    "            pos = npos\n",
    "    print key(pos)"
   ]
  },
  {
   "cell_type": "code",
   "execution_count": 56,
   "metadata": {
    "collapsed": false
   },
   "outputs": [
    {
     "data": {
      "text/plain": [
       "('8', '9')"
      ]
     },
     "execution_count": 56,
     "metadata": {},
     "output_type": "execute_result"
    }
   ],
   "source": [
    "key(pos), key(nextpos['R']())"
   ]
  },
  {
   "cell_type": "code",
   "execution_count": null,
   "metadata": {
    "collapsed": true
   },
   "outputs": [],
   "source": []
  }
 ],
 "metadata": {
  "kernelspec": {
   "display_name": "Python 2",
   "language": "python",
   "name": "python2"
  },
  "language_info": {
   "codemirror_mode": {
    "name": "ipython",
    "version": 2
   },
   "file_extension": ".py",
   "mimetype": "text/x-python",
   "name": "python",
   "nbconvert_exporter": "python",
   "pygments_lexer": "ipython2",
   "version": "2.7.10"
  }
 },
 "nbformat": 4,
 "nbformat_minor": 0
}
