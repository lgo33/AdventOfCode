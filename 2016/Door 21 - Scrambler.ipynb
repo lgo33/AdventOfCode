{
 "cells": [
  {
   "cell_type": "code",
   "execution_count": 1,
   "metadata": {
    "collapsed": false
   },
   "outputs": [],
   "source": [
    "input = []\n",
    "with open(\"data/input_21.txt\", \"r\") as f:\n",
    "    for line in f:\n",
    "        input.append(line.strip())"
   ]
  },
  {
   "cell_type": "code",
   "execution_count": 2,
   "metadata": {
    "collapsed": false
   },
   "outputs": [
    {
     "name": "stdout",
     "output_type": "stream",
     "text": [
      "['a', 'b', 'c', 'd', 'e', 'f', 'g', 'h']\n"
     ]
    }
   ],
   "source": [
    "pw = [c for c in 'abcdefgh']\n",
    "print pw"
   ]
  },
  {
   "cell_type": "code",
   "execution_count": 3,
   "metadata": {
    "collapsed": false
   },
   "outputs": [],
   "source": [
    "class scrambler():\n",
    "    def __init__(self, s):\n",
    "        self.s = [c for c in s]\n",
    "        \n",
    "    def swapPos(self, x, y):\n",
    "        self.s[x], self.s[y] = self.s[y], self.s[x]\n",
    "\n",
    "    def swapLetter(self, x, y):\n",
    "        self.s = [x if c == y else y if c == x else c for c in self.s]\n",
    "\n",
    "    def rotateLeft(self, x):\n",
    "        x = x % len(self.s)\n",
    "        self.s = self.s[x:] + self.s[:x]\n",
    "\n",
    "    def rotateRight(self, x):\n",
    "        x = x % len(self.s)\n",
    "        self.s = self.s[-x:] + self.s[:-x]\n",
    "\n",
    "    def rotateLetter(self, x):\n",
    "        i = self.s.index(x)\n",
    "        i = i + 1 if i < 4 else i + 2\n",
    "        self.rotateRight(i)\n",
    "    \n",
    "    def revRotateLetter(self, x):\n",
    "        i = self.s.index(x)\n",
    "        if (i % 2) == 1:\n",
    "            i = (i + 1) / 2\n",
    "        else:\n",
    "            i = i / 2 + 5\n",
    "        if i == 5:\n",
    "            i = 1\n",
    "        self.rotateLeft(i)\n",
    "        \n",
    "    def reverse(self, a, b):\n",
    "        #a, b = self.s.index(x), self.s.index(y)\n",
    "        a, b = (a, b) if a < b else (b, a)\n",
    "        self.s = self.s[:a] + self.s[a:b+1][::-1] + self.s[b+1:]\n",
    "\n",
    "    def move(self, x, y):\n",
    "        c = self.s.pop(x)\n",
    "        self.s.insert(y, c)\n",
    "        \n",
    "    def get(self):\n",
    "        return \"\".join(self.s)\n",
    "    \n",
    "        "
   ]
  },
  {
   "cell_type": "code",
   "execution_count": 4,
   "metadata": {
    "collapsed": false
   },
   "outputs": [
    {
     "data": {
      "text/plain": [
       "True"
      ]
     },
     "execution_count": 4,
     "metadata": {},
     "output_type": "execute_result"
    }
   ],
   "source": [
    "# Test example\n",
    "pw = scrambler('abcde')\n",
    "pw.swapPos(4, 0)\n",
    "pw.swapLetter('d', 'b')\n",
    "pw.reverse(0, 4)\n",
    "pw.rotateLeft(1)\n",
    "pw.move(1, 4)\n",
    "pw.move(3, 0)\n",
    "pw.rotateLetter('b')\n",
    "pw.rotateLetter('d')\n",
    "pw.get() == 'decab'"
   ]
  },
  {
   "cell_type": "code",
   "execution_count": 5,
   "metadata": {
    "collapsed": true
   },
   "outputs": [],
   "source": [
    "def scramble(s, ins):\n",
    "    pw = scrambler(s)\n",
    "    exe = {\n",
    "        ('swap', 'letter')      : lambda x: pw.swapLetter(x[0], x[-1]),\n",
    "        ('swap', 'position')    : lambda x: pw.swapPos(int(x[0]), int(x[-1])),\n",
    "        ('rotate', 'right')     : lambda x: pw.rotateRight(int(x[0])),\n",
    "        ('rotate', 'left')      : lambda x: pw.rotateLeft(int(x[0])),\n",
    "        ('move', 'position')    : lambda x: pw.move(int(x[0]), int(x[-1])),\n",
    "        ('reverse', 'positions'): lambda x: pw.reverse(int(x[0]), int(x[-1])),\n",
    "        ('rotate', 'based')     : lambda x: pw.rotateLetter(x[-1]),\n",
    "\n",
    "    }\n",
    "\n",
    "    for line in ins:\n",
    "        #print line\n",
    "        cmd = line.split(' ')\n",
    "        call = tuple(cmd[:2])\n",
    "        exe[call](cmd[2:])\n",
    "    return pw.get()"
   ]
  },
  {
   "cell_type": "code",
   "execution_count": 6,
   "metadata": {
    "collapsed": true
   },
   "outputs": [],
   "source": [
    "def descramble(s, ins = input):\n",
    "    pw = scrambler(s)\n",
    "    exe = {\n",
    "        ('swap', 'letter')      : lambda x: pw.swapLetter(x[0], x[-1]),\n",
    "        ('swap', 'position')    : lambda x: pw.swapPos(int(x[0]), int(x[-1])),\n",
    "        ('rotate', 'right')     : lambda x: pw.rotateLeft(int(x[0])),\n",
    "        ('rotate', 'left')      : lambda x: pw.rotateRight(int(x[0])),\n",
    "        ('move', 'position')    : lambda x: pw.move(int(x[-1]), int(x[0])),\n",
    "        ('reverse', 'positions'): lambda x: pw.reverse(int(x[0]), int(x[-1])),\n",
    "        ('rotate', 'based')     : lambda x: pw.revRotateLetter(x[-1]),\n",
    "\n",
    "    }\n",
    "\n",
    "    for line in ins[::-1]:\n",
    "        #print line\n",
    "        cmd = line.split(' ')\n",
    "        call = tuple(cmd[:2])\n",
    "        exe[call](cmd[2:])\n",
    "    return pw.get()"
   ]
  },
  {
   "cell_type": "code",
   "execution_count": 7,
   "metadata": {
    "collapsed": false
   },
   "outputs": [
    {
     "data": {
      "text/plain": [
       "['reverse positions 0 through 7',\n",
       " 'reverse positions 2 through 4',\n",
       " 'rotate based on position of letter f',\n",
       " 'reverse positions 1 through 4',\n",
       " 'rotate right 7 steps']"
      ]
     },
     "execution_count": 7,
     "metadata": {},
     "output_type": "execute_result"
    }
   ],
   "source": [
    "input[-5:]"
   ]
  },
  {
   "cell_type": "code",
   "execution_count": 8,
   "metadata": {
    "collapsed": false
   },
   "outputs": [
    {
     "name": "stdout",
     "output_type": "stream",
     "text": [
      "cbeghdaf\n"
     ]
    }
   ],
   "source": [
    "#part 1\n",
    "pw  = 'abcdefgh'\n",
    "out = scramble('abcdefgh', input)\n",
    "print out"
   ]
  },
  {
   "cell_type": "code",
   "execution_count": 209,
   "metadata": {
    "collapsed": false
   },
   "outputs": [
    {
     "name": "stdout",
     "output_type": "stream",
     "text": [
      "abcdefgh\n"
     ]
    }
   ],
   "source": [
    "#part 2 - test\n",
    "print descramble('cbeghdaf', input)"
   ]
  },
  {
   "cell_type": "code",
   "execution_count": 211,
   "metadata": {
    "collapsed": false
   },
   "outputs": [
    {
     "name": "stdout",
     "output_type": "stream",
     "text": [
      "bacdefgh\n"
     ]
    }
   ],
   "source": [
    "#part 2\n",
    "print descramble('fbgdceah', input)"
   ]
  },
  {
   "cell_type": "code",
   "execution_count": 190,
   "metadata": {
    "collapsed": false
   },
   "outputs": [
    {
     "name": "stdout",
     "output_type": "stream",
     "text": [
      "abcdefgh\n",
      "fghabcde\n"
     ]
    }
   ],
   "source": [
    "print pw.get()\n",
    "pw.rotateLeft(5)\n",
    "print pw.get()"
   ]
  },
  {
   "cell_type": "code",
   "execution_count": 214,
   "metadata": {
    "collapsed": false
   },
   "outputs": [
    {
     "data": {
      "text/plain": [
       "'habcdefg'"
      ]
     },
     "execution_count": 214,
     "metadata": {},
     "output_type": "execute_result"
    }
   ],
   "source": [
    "pw =scrambler('abcdefgh')\n",
    "pw.rotateLetter('h')\n",
    "pw.get()"
   ]
  },
  {
   "cell_type": "code",
   "execution_count": 9,
   "metadata": {
    "collapsed": false
   },
   "outputs": [
    {
     "data": {
      "text/plain": [
       "100"
      ]
     },
     "execution_count": 9,
     "metadata": {},
     "output_type": "execute_result"
    }
   ],
   "source": [
    "len(input)"
   ]
  },
  {
   "cell_type": "code",
   "execution_count": null,
   "metadata": {
    "collapsed": true
   },
   "outputs": [],
   "source": []
  }
 ],
 "metadata": {
  "kernelspec": {
   "display_name": "Python 2",
   "language": "python",
   "name": "python2"
  },
  "language_info": {
   "codemirror_mode": {
    "name": "ipython",
    "version": 2
   },
   "file_extension": ".py",
   "mimetype": "text/x-python",
   "name": "python",
   "nbconvert_exporter": "python",
   "pygments_lexer": "ipython2",
   "version": "2.7.10"
  }
 },
 "nbformat": 4,
 "nbformat_minor": 0
}
