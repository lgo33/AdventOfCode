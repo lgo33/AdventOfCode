{
 "cells": [
  {
   "cell_type": "code",
   "execution_count": 1,
   "metadata": {
    "collapsed": true
   },
   "outputs": [],
   "source": [
    "input = []\n",
    "with open(\"data/input_12.txt\", \"r\") as f:\n",
    "    for line in f:\n",
    "        input.append(line.strip())"
   ]
  },
  {
   "cell_type": "code",
   "execution_count": 2,
   "metadata": {
    "collapsed": false
   },
   "outputs": [
    {
     "data": {
      "text/plain": [
       "['cpy 1 a',\n",
       " 'cpy 1 b',\n",
       " 'cpy 26 d',\n",
       " 'jnz c 2',\n",
       " 'jnz 1 5',\n",
       " 'cpy 7 c',\n",
       " 'inc d',\n",
       " 'dec c',\n",
       " 'jnz c -2',\n",
       " 'cpy a c',\n",
       " 'inc a',\n",
       " 'dec b',\n",
       " 'jnz b -2',\n",
       " 'cpy c b',\n",
       " 'dec d',\n",
       " 'jnz d -6',\n",
       " 'cpy 19 c',\n",
       " 'cpy 11 d',\n",
       " 'inc a',\n",
       " 'dec d',\n",
       " 'jnz d -2',\n",
       " 'dec c',\n",
       " 'jnz c -5']"
      ]
     },
     "execution_count": 2,
     "metadata": {},
     "output_type": "execute_result"
    }
   ],
   "source": [
    "input"
   ]
  },
  {
   "cell_type": "code",
   "execution_count": 3,
   "metadata": {
    "collapsed": false
   },
   "outputs": [
    {
     "ename": "SyntaxError",
     "evalue": "invalid syntax (<ipython-input-3-b61f9841f763>, line 40)",
     "output_type": "error",
     "traceback": [
      "\u001b[0;36m  File \u001b[0;32m\"<ipython-input-3-b61f9841f763>\"\u001b[0;36m, line \u001b[0;32m40\u001b[0m\n\u001b[0;31m    abJnz(cmd[1], cmd[2])00\u001b[0m\n\u001b[0m                          ^\u001b[0m\n\u001b[0;31mSyntaxError\u001b[0m\u001b[0;31m:\u001b[0m invalid syntax\n"
     ]
    }
   ],
   "source": [
    "reg = [0, 0, 0, 0]\n",
    "loc = 0\n",
    "\n",
    "def getReg(x):\n",
    "    return ord(x) - ord('a')\n",
    "\n",
    "def getValue(x):\n",
    "    try:\n",
    "        return int(x)\n",
    "    except ValueError:\n",
    "        return reg[getReg(x)]\n",
    "    \n",
    "def abCopy(x, y):\n",
    "    global reg\n",
    "    reg[getReg(y)] = getValue(x)\n",
    "\n",
    "def abInc(x):\n",
    "    global reg\n",
    "    reg[getReg(x)] += 1\n",
    "    \n",
    "def abDec(x):\n",
    "    global reg\n",
    "    reg[getReg(x)] -= 1\n",
    "    \n",
    "def abJnz(x, y):\n",
    "    global loc\n",
    "    if getValue(x) != 0:\n",
    "        loc += getValue(y)\n",
    "        loc -= 1\n",
    "    \n",
    "def parse(line):\n",
    "    cmd = line.split(\" \")\n",
    "    if cmd[0] == 'cpy':\n",
    "        abCopy(cmd[1], cmd[2])\n",
    "    elif cmd[0] == 'inc':\n",
    "        abInc(cmd[1])\n",
    "    elif cmd[0] == 'dec':\n",
    "        abDec(cmd[1])\n",
    "    elif cmd[0] == 'jnz':\n",
    "        abJnz(cmd[1], cmd[2])\n",
    "    "
   ]
  },
  {
   "cell_type": "code",
   "execution_count": 4,
   "metadata": {
    "collapsed": false
   },
   "outputs": [
    {
     "name": "stdout",
     "output_type": "stream",
     "text": [
      "0"
     ]
    },
    {
     "ename": "NameError",
     "evalue": "name 'reg' is not defined",
     "output_type": "error",
     "traceback": [
      "\u001b[0;31m---------------------------------------------------------------------------\u001b[0m",
      "\u001b[0;31mNameError\u001b[0m                                 Traceback (most recent call last)",
      "\u001b[0;32m<ipython-input-4-4e5bf10d0587>\u001b[0m in \u001b[0;36m<module>\u001b[0;34m()\u001b[0m\n\u001b[1;32m      1\u001b[0m \u001b[0mloc\u001b[0m \u001b[0;34m=\u001b[0m \u001b[0;36m0\u001b[0m\u001b[0;34m\u001b[0m\u001b[0m\n\u001b[1;32m      2\u001b[0m \u001b[0;32mwhile\u001b[0m \u001b[0mloc\u001b[0m \u001b[0;34m<\u001b[0m \u001b[0mlen\u001b[0m\u001b[0;34m(\u001b[0m\u001b[0minput\u001b[0m\u001b[0;34m)\u001b[0m\u001b[0;34m:\u001b[0m\u001b[0;34m\u001b[0m\u001b[0m\n\u001b[0;32m----> 3\u001b[0;31m     \u001b[0;32mprint\u001b[0m \u001b[0mloc\u001b[0m\u001b[0;34m,\u001b[0m \u001b[0mreg\u001b[0m\u001b[0;34m,\u001b[0m \u001b[0minput\u001b[0m\u001b[0;34m[\u001b[0m\u001b[0mloc\u001b[0m\u001b[0;34m]\u001b[0m\u001b[0;34m\u001b[0m\u001b[0m\n\u001b[0m\u001b[1;32m      4\u001b[0m     \u001b[0mparse\u001b[0m\u001b[0;34m(\u001b[0m\u001b[0minput\u001b[0m\u001b[0;34m[\u001b[0m\u001b[0mloc\u001b[0m\u001b[0;34m]\u001b[0m\u001b[0;34m)\u001b[0m\u001b[0;34m\u001b[0m\u001b[0m\n\u001b[1;32m      5\u001b[0m     \u001b[0mloc\u001b[0m \u001b[0;34m+=\u001b[0m \u001b[0;36m1\u001b[0m\u001b[0;34m\u001b[0m\u001b[0m\n",
      "\u001b[0;31mNameError\u001b[0m: name 'reg' is not defined"
     ]
    }
   ],
   "source": [
    "loc = 0\n",
    "while loc < len(input):\n",
    "    print loc, reg, input[loc]\n",
    "    parse(input[loc])\n",
    "    loc += 1"
   ]
  },
  {
   "cell_type": "code",
   "execution_count": null,
   "metadata": {
    "collapsed": false
   },
   "outputs": [],
   "source": [
    "getReg('b')"
   ]
  },
  {
   "cell_type": "code",
   "execution_count": null,
   "metadata": {
    "collapsed": true
   },
   "outputs": [],
   "source": [
    "abInc('a')"
   ]
  },
  {
   "cell_type": "code",
   "execution_count": 43,
   "metadata": {
    "collapsed": false
   },
   "outputs": [
    {
     "name": "stdout",
     "output_type": "stream",
     "text": [
      "[1, 0, 0, 9]\n",
      "[1, 1, 1, 8]\n",
      "[2, 1, 1, 7]\n",
      "[3, 2, 2, 6]\n",
      "[5, 3, 3, 5]\n",
      "[8, 5, 5, 4]\n",
      "[13, 8, 8, 3]\n",
      "[21, 13, 13, 2]\n",
      "[34, 21, 21, 1]\n",
      "[55, 34, 34, 0]\n"
     ]
    }
   ],
   "source": [
    "reg = [1,0,0,9]\n",
    "while reg[3] != 0:\n",
    "    print reg\n",
    "    reg[2] = reg[0]\n",
    "    reg[0] += reg[1]\n",
    "    reg[1] = reg[2]\n",
    "    reg[3] -= 1\n",
    "print reg"
   ]
  },
  {
   "cell_type": "code",
   "execution_count": 62,
   "metadata": {
    "collapsed": false
   },
   "outputs": [],
   "source": [
    "def memo(fn):\n",
    "    cache = {}\n",
    "    def helper(*args):\n",
    "        if args not in cache:\n",
    "            cache[args] = fn(*args)\n",
    "        return cache[args] \n",
    "    return helper\n",
    "\n",
    "@memo\n",
    "def fib(n):\n",
    "    if n < 2:\n",
    "        return n\n",
    "    return fib(n-1) + fib(n-2)"
   ]
  },
  {
   "cell_type": "code",
   "execution_count": 63,
   "metadata": {
    "collapsed": false
   },
   "outputs": [
    {
     "name": "stdout",
     "output_type": "stream",
     "text": [
      "used cached value\n",
      "used cached value\n",
      "used cached value\n",
      "used cached value\n",
      "used cached value\n",
      "used cached value\n",
      "used cached value\n",
      "used cached value\n",
      "used cached value\n",
      "used cached value\n",
      "used cached value\n",
      "used cached value\n",
      "used cached value\n",
      "used cached value\n",
      "[0, 1, 1, 2, 3, 5, 8, 13, 21]\n"
     ]
    }
   ],
   "source": [
    "print map(fib, range(9))"
   ]
  },
  {
   "cell_type": "code",
   "execution_count": 44,
   "metadata": {
    "collapsed": false
   },
   "outputs": [
    {
     "name": "stdout",
     "output_type": "stream",
     "text": [
      "196418\n"
     ]
    }
   ],
   "source": [
    "print fib(26)"
   ]
  },
  {
   "cell_type": "code",
   "execution_count": 64,
   "metadata": {
    "collapsed": false
   },
   "outputs": [
    {
     "data": {
      "text/plain": [
       "'helper'"
      ]
     },
     "execution_count": 64,
     "metadata": {},
     "output_type": "execute_result"
    }
   ],
   "source": [
    "fib.__name__"
   ]
  },
  {
   "cell_type": "code",
   "execution_count": null,
   "metadata": {
    "collapsed": true
   },
   "outputs": [],
   "source": []
  }
 ],
 "metadata": {
  "kernelspec": {
   "display_name": "Python 2",
   "language": "python",
   "name": "python2"
  },
  "language_info": {
   "codemirror_mode": {
    "name": "ipython",
    "version": 2
   },
   "file_extension": ".py",
   "mimetype": "text/x-python",
   "name": "python",
   "nbconvert_exporter": "python",
   "pygments_lexer": "ipython2",
   "version": "2.7.10"
  }
 },
 "nbformat": 4,
 "nbformat_minor": 0
}
