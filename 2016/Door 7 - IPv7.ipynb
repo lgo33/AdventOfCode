{
 "cells": [
  {
   "cell_type": "code",
   "execution_count": 8,
   "metadata": {
    "collapsed": true
   },
   "outputs": [],
   "source": [
    "input = []\n",
    "with open(\"data/input_7.txt\", \"r\") as f:\n",
    "    for line in f:\n",
    "        input.append(line.strip())\n",
    "import re"
   ]
  },
  {
   "cell_type": "code",
   "execution_count": 6,
   "metadata": {
    "collapsed": false
   },
   "outputs": [
    {
     "name": "stdout",
     "output_type": "stream",
     "text": [
      "wysextplwqpvipxdv[srzvtwbfzqtspxnethm]syqbzgtboxxzpwr[kljvjjkjyojzrstfgrw]obdhcczonzvbfby[svotajtpttohxsh]cooktbyumlpxostt\n"
     ]
    }
   ],
   "source": [
    "print input[0]"
   ]
  },
  {
   "cell_type": "code",
   "execution_count": 56,
   "metadata": {
    "collapsed": false
   },
   "outputs": [],
   "source": [
    "def abba(s):\n",
    "    for i in range(len(s)-3):        \n",
    "        if s[i] != s[i+1]:\n",
    "            if s[i] == s[i+3] and s[i+1] == s[i+2]:\n",
    "                return True\n",
    "    return False\n",
    "\n",
    "def check(str):\n",
    "    outside = re.split('\\[.*?\\]', str)\n",
    "    if any(map(abba, outside)):\n",
    "        inside = re.findall('\\[[a-z]+\\]', str)\n",
    "        if any(map(abba, inside)):\n",
    "            return False\n",
    "        else:\n",
    "            return True\n",
    "    return False\n",
    "    "
   ]
  },
  {
   "cell_type": "code",
   "execution_count": 65,
   "metadata": {
    "collapsed": false
   },
   "outputs": [
    {
     "name": "stdout",
     "output_type": "stream",
     "text": [
      "118\n"
     ]
    }
   ],
   "source": [
    "# part 1\n",
    "n = 0\n",
    "for line in input:\n",
    "    if check(line):\n",
    "        n += 1\n",
    "print n"
   ]
  },
  {
   "cell_type": "code",
   "execution_count": 100,
   "metadata": {
    "collapsed": true
   },
   "outputs": [],
   "source": [
    "# part 2\n",
    "\n",
    "def aba(s):\n",
    "    res = []\n",
    "    for i in range(len(s)-2):\n",
    "        if s[i] != s[i+1] and s[i] == s[i+2]:\n",
    "                res += [s[i]+s[i+1]]\n",
    "    return res\n",
    "\n",
    "def check_ssl(str):\n",
    "    outside = re.split('\\[.*?\\]', str)\n",
    "    outaba = set()\n",
    "    for o in outside:    \n",
    "        outaba = outaba.union(set(aba(o)))            \n",
    "    if len(outaba) == 0:\n",
    "        return False\n",
    "    inside = re.findall('\\[[a-z]+\\]', str)\n",
    "    inaba = set()\n",
    "    for i in inside:\n",
    "        inaba = inaba.union(set(aba(i)))\n",
    "            \n",
    "    for o in outaba:\n",
    "        if o[1]+o[0] in inaba:\n",
    "            return True\n",
    "    return False\n",
    "        "
   ]
  },
  {
   "cell_type": "code",
   "execution_count": 102,
   "metadata": {
    "collapsed": false
   },
   "outputs": [
    {
     "name": "stdout",
     "output_type": "stream",
     "text": [
      "260\n"
     ]
    }
   ],
   "source": [
    "# part 2\n",
    "n = 0\n",
    "for line in input:\n",
    "    if check_ssl(line):\n",
    "        n += 1\n",
    "print n"
   ]
  }
 ],
 "metadata": {
  "kernelspec": {
   "display_name": "Python 2",
   "language": "python",
   "name": "python2"
  },
  "language_info": {
   "codemirror_mode": {
    "name": "ipython",
    "version": 2
   },
   "file_extension": ".py",
   "mimetype": "text/x-python",
   "name": "python",
   "nbconvert_exporter": "python",
   "pygments_lexer": "ipython2",
   "version": "2.7.10"
  }
 },
 "nbformat": 4,
 "nbformat_minor": 0
}
