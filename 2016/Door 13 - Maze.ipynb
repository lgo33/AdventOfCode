{
 "cells": [
  {
   "cell_type": "code",
   "execution_count": 1,
   "metadata": {
    "collapsed": true
   },
   "outputs": [],
   "source": [
    "def wall(loc, seed=1364):\n",
    "    x, y = loc\n",
    "    #seed = 10\n",
    "    f = x*x + 3*x + 2*x*y + y + y*y + seed\n",
    "    sumbits = 0\n",
    "    while f:\n",
    "        if f % 2:\n",
    "            sumbits += 1\n",
    "        f >>= 1\n",
    "    if sumbits % 2:\n",
    "        return True\n",
    "    return False\n",
    "\n",
    "def distance(a, b):\n",
    "    ax, ay = a\n",
    "    bx, by = b\n",
    "    return abs(bx - ax) + abs(by - ay)\n",
    "\n",
    "def neighbors(loc):\n",
    "    x, y = loc\n",
    "    nb = []\n",
    "    if x > 0 and not wall((x-1, y)):\n",
    "        nb.append((x-1, y))\n",
    "    if y > 0 and not wall((x, y - 1)):\n",
    "        nb.append((x, y - 1))\n",
    "    if not wall((x+1, y)):\n",
    "        nb.append((x+1, y))\n",
    "    if not wall((x, y+1)):\n",
    "        nb.append((x, y+1))\n",
    "    return nb"
   ]
  },
  {
   "cell_type": "code",
   "execution_count": 44,
   "metadata": {
    "collapsed": false
   },
   "outputs": [
    {
     "name": "stdout",
     "output_type": "stream",
     "text": [
      ". # . # # # # . # # \n",
      ". . # . . # . . . # \n",
      "# . . . . # # . . . \n",
      "# # # . # . # # # . \n",
      ". # # . . # . . # . \n",
      ". . # # . . . . # . \n",
      "# . . . # # . # # # \n"
     ]
    }
   ],
   "source": [
    "for y in range(7):\n",
    "    for x in range(10):\n",
    "        if wall((x, y), seed=10):\n",
    "            print '#',\n",
    "        else:\n",
    "            print '.',\n",
    "    print \"\""
   ]
  },
  {
   "cell_type": "code",
   "execution_count": 25,
   "metadata": {
    "collapsed": false
   },
   "outputs": [
    {
     "name": "stdout",
     "output_type": "stream",
     "text": [
      "86\n"
     ]
    }
   ],
   "source": [
    "# part 1 - A*\n",
    "from collections import defaultdict\n",
    "start = (1, 1)\n",
    "goal = (31, 39)\n",
    "\n",
    "gScore = defaultdict(int)\n",
    "fScore = defaultdict(int)\n",
    "openSet = [start]\n",
    "closedSet = []\n",
    "gScore[start] = 0\n",
    "fScore[start] = distance(start, goal)\n",
    "\n",
    "while len(openSet):\n",
    "    current = min(openSet, key=fScore.get)\n",
    "    if current == goal:\n",
    "        print gScore[current]\n",
    "        break\n",
    "    openSet.remove(current)\n",
    "    closedSet.append(current)\n",
    "    for nb in neighbors(current):\n",
    "        if nb in closedSet:\n",
    "            continue\n",
    "        openSet.append(nb)\n",
    "        tmpScore = gScore[current] + 1 \n",
    "        if gScore[nb] == 0 or tmpScore < gScore[nb]:\n",
    "            gScore[nb] = tmpScore\n",
    "            fScore[nb] = tmpScore + distance(nb, goal)\n",
    "            \n",
    "            "
   ]
  },
  {
   "cell_type": "code",
   "execution_count": 41,
   "metadata": {
    "collapsed": false
   },
   "outputs": [
    {
     "name": "stdout",
     "output_type": "stream",
     "text": [
      "127\n"
     ]
    }
   ],
   "source": [
    "# part 2 - continue from min gScore!\n",
    "from collections import defaultdict\n",
    "start = (1, 1)\n",
    "#goal = (31, 39)\n",
    "\n",
    "gScore = defaultdict(int)\n",
    "openSet = [start]\n",
    "closedSet = []\n",
    "gScore[start] = 0\n",
    "\n",
    "while len(openSet):\n",
    "    current = min(openSet, key=gScore.get)\n",
    "    openSet.remove(current)\n",
    "    closedSet.append(current)\n",
    "    if gScore[current] >= 60:\n",
    "        continue\n",
    "    for nb in neighbors(current):\n",
    "        tmpScore = gScore[current] + 1 \n",
    "        if (gScore[nb] == 0 and nb != start) or tmpScore < gScore[nb]:\n",
    "            gScore[nb] = tmpScore\n",
    "        if nb not in closedSet:\n",
    "            openSet.append(nb)\n",
    "            \n",
    "# because of defaultdict gScore > 0, +1 for start position\n",
    "total = 0\n",
    "for loc in gScore:\n",
    "    if gScore[loc] <= 50 and gScore[loc] > 0:\n",
    "        #print loc\n",
    "        total += 1\n",
    "print total + 1"
   ]
  },
  {
   "cell_type": "code",
   "execution_count": 43,
   "metadata": {
    "collapsed": false
   },
   "outputs": [
    {
     "name": "stdout",
     "output_type": "stream",
     "text": [
      "# # # 0 # # # 0 0 0 # 0 # 0 0 \n",
      "1 0 # # # 6 # 0 0 0 # 0 0 # 0 \n",
      "2 # 0 0 # 5 # # 0 # # # # # # \n",
      "3 4 # 0 # 4 # # 0 # 0 0 0 0 # \n",
      "# 5 6 # # 3 # # 0 # 0 0 # 0 0 \n",
      "1 # 7 # # 2 3 # # # # # # # # \n",
      "0 9 8 9 0 1 2 3 4 5 6 7 # # # \n",
      "# # 9 # # 2 # # # # 7 8 9 # 0 \n",
      "0 # 0 1 # 3 # # 8 # 8 # 0 # # \n",
      "# # # 2 3 4 5 6 7 # 9 0 # 0 0 \n",
      "# # # # 4 5 # # # 0 # 1 # # 0 \n",
      "9 # # # # # # 8 # # # 2 3 # # \n",
      "8 7 # # 4 5 # 7 6 5 4 3 4 5 # \n",
      "7 6 5 4 3 4 # # 7 # # 4 # 6 7 \n",
      "# # # # 2 # 0 # 8 # # 5 6 7 # \n"
     ]
    }
   ],
   "source": [
    "for y in range(15):\n",
    "    for x in range(15):\n",
    "        if wall((x, y)):\n",
    "            print '#',\n",
    "        else:\n",
    "            print gScore[(x,y)] % 10,\n",
    "    print \"\""
   ]
  },
  {
   "cell_type": "code",
   "execution_count": null,
   "metadata": {
    "collapsed": true
   },
   "outputs": [],
   "source": []
  }
 ],
 "metadata": {
  "kernelspec": {
   "display_name": "Python 2",
   "language": "python",
   "name": "python2"
  },
  "language_info": {
   "codemirror_mode": {
    "name": "ipython",
    "version": 2
   },
   "file_extension": ".py",
   "mimetype": "text/x-python",
   "name": "python",
   "nbconvert_exporter": "python",
   "pygments_lexer": "ipython2",
   "version": "2.7.10"
  }
 },
 "nbformat": 4,
 "nbformat_minor": 0
}
