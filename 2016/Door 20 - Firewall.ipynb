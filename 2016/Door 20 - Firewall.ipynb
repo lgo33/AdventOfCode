{
 "cells": [
  {
   "cell_type": "code",
   "execution_count": 1,
   "metadata": {
    "collapsed": true
   },
   "outputs": [],
   "source": [
    "input = []\n",
    "with open(\"data/input_20.txt\", \"r\") as f:\n",
    "    for line in f:\n",
    "        input.append(line.strip())"
   ]
  },
  {
   "cell_type": "code",
   "execution_count": 29,
   "metadata": {
    "collapsed": true
   },
   "outputs": [],
   "source": [
    "def combine(a, b):\n",
    "    if a[1] >= b[0] - 1:\n",
    "        if a[1] < b[1]:\n",
    "            return (a[0], b[1])\n",
    "        else:\n",
    "            return (a[0], a[1])\n",
    "    return False\n",
    "        "
   ]
  },
  {
   "cell_type": "code",
   "execution_count": 37,
   "metadata": {
    "collapsed": false
   },
   "outputs": [
    {
     "name": "stdout",
     "output_type": "stream",
     "text": [
      "19449262\n"
     ]
    }
   ],
   "source": [
    "for line in input:\n",
    "    low, high = map(int, line.split('-'))\n",
    "    limits.append((low, high))\n",
    "\n",
    "limits.sort()\n",
    "\n",
    "i = 0\n",
    "while i < len(limits) - 1:\n",
    "    a = combine(limits[i], limits[i+1])\n",
    "    if not a:\n",
    "        i += 1\n",
    "        continue\n",
    "    limits.pop(i)\n",
    "    limits[i] = a\n",
    "\n",
    "print limits[0][1] + 1"
   ]
  },
  {
   "cell_type": "code",
   "execution_count": 49,
   "metadata": {
    "collapsed": false
   },
   "outputs": [
    {
     "name": "stdout",
     "output_type": "stream",
     "text": [
      "119 119\n"
     ]
    }
   ],
   "source": [
    "i = 0\n",
    "sumip = 0\n",
    "while i < len(limits) - 1:\n",
    "#while i < 5:    \n",
    "    sumip += (limits[i+1][0] - 1) - limits[i][1]    \n",
    "    i += 1\n",
    "print i, sumip\n",
    "    "
   ]
  },
  {
   "cell_type": "code",
   "execution_count": 47,
   "metadata": {
    "collapsed": false
   },
   "outputs": [
    {
     "name": "stdout",
     "output_type": "stream",
     "text": [
      "[(0, 19449261), (19449263, 44327410), (44327412, 88138768), (88138770, 142290410), (142290412, 172697920), (172697922, 183326808), (183326810, 250277158), (250277160, 275430325), (275430327, 314394785), (314394787, 333646376)]\n"
     ]
    }
   ],
   "source": [
    "print limits[:10]"
   ]
  },
  {
   "cell_type": "code",
   "execution_count": null,
   "metadata": {
    "collapsed": true
   },
   "outputs": [],
   "source": []
  }
 ],
 "metadata": {
  "kernelspec": {
   "display_name": "Python 2",
   "language": "python",
   "name": "python2"
  },
  "language_info": {
   "codemirror_mode": {
    "name": "ipython",
    "version": 2
   },
   "file_extension": ".py",
   "mimetype": "text/x-python",
   "name": "python",
   "nbconvert_exporter": "python",
   "pygments_lexer": "ipython2",
   "version": "2.7.10"
  }
 },
 "nbformat": 4,
 "nbformat_minor": 0
}
