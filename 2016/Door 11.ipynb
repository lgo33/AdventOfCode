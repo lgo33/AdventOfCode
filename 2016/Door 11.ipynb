{
 "cells": [
  {
   "cell_type": "code",
   "execution_count": 6,
   "metadata": {
    "collapsed": true
   },
   "outputs": [],
   "source": [
    "input = []\n",
    "with open(\"data/input_11.txt\", \"r\") as f:\n",
    "    for line in f:\n",
    "        input.append(line.strip())\n",
    "        "
   ]
  },
  {
   "cell_type": "code",
   "execution_count": 7,
   "metadata": {
    "collapsed": false
   },
   "outputs": [
    {
     "name": "stdout",
     "output_type": "stream",
     "text": [
      "['The first floor contains a promethium generator and a promethium-compatible microchip.', 'The second floor contains a cobalt generator, a curium generator, a ruthenium generator, and a plutonium generator.', 'The third floor contains a cobalt-compatible microchip, a curium-compatible microchip, a ruthenium-compatible microchip, and a plutonium-compatible microchip.', 'The fourth floor contains nothing relevant.']\n"
     ]
    }
   ],
   "source": [
    "print input"
   ]
  },
  {
   "cell_type": "code",
   "execution_count": null,
   "metadata": {
    "collapsed": true
   },
   "outputs": [],
   "source": [
    "#promethium, cobalt, curium, ruthenium, plutonium"
   ]
  },
  {
   "cell_type": "code",
   "execution_count": null,
   "metadata": {
    "collapsed": false
   },
   "outputs": [],
   "source": [
    "elevator = 0\n",
    "ntypes = 5\n",
    "nfloors = 4\n",
    "chips = [[]] * 4\n",
    "generators = [[]] * 4\n",
    "\n",
    "chips[0] = [0]\n",
    "chips[2] = [1, 2, 3, 4]\n",
    "generators[0] = [0]\n",
    "generators[1] = [1, 2, 3, 4]\n",
    "\n",
    "checksum = 0\n",
    "for i in chips:\n",
    "        checksum += sum(i)"
   ]
  },
  {
   "cell_type": "code",
   "execution_count": null,
   "metadata": {
    "collapsed": true
   },
   "outputs": [],
   "source": [
    "def check():\n",
    "    cs = 0\n",
    "    for i in chips:\n",
    "        cs += sum(i)\n",
    "    if cs != checksum:\n",
    "        raise Exception('invalid chips')\n",
    "    cs = 0\n",
    "    for i in generators:\n",
    "        cs += sum(i)\n",
    "    if cs != checksum:\n",
    "        raise Exception('invalid generators')\n",
    "        \n",
    "    for i in range(nfloors):\n",
    "        if len(generators[i]):\n",
    "            for chip in chips[i]:\n",
    "                if chip not in generators[i]:\n",
    "                    return False\n",
    "    return True\n",
    "        "
   ]
  },
  {
   "cell_type": "code",
   "execution_count": null,
   "metadata": {
    "collapsed": false
   },
   "outputs": [],
   "source": [
    "node = (0, (0, 2, 2, 2, 2), (0, 1, 1, 1, 1))"
   ]
  },
  {
   "cell_type": "code",
   "execution_count": 1,
   "metadata": {
    "collapsed": false
   },
   "outputs": [],
   "source": [
    "from itertools import combinations, chain\n",
    "from collections import defaultdict\n",
    "\n",
    "nfloors = 4\n",
    "ntypes = 5\n",
    "def distance(node):\n",
    "    pos, chips, gens = node\n",
    "    sumpath = 0\n",
    "    elements = sorted(chips+gens)\n",
    "    for e in elements[2:]:\n",
    "        sumpath += 2 * (nfloors - 1 - e)\n",
    "    sumpath += (nfloors - 1 - elements[0])\n",
    "    return sumpath\n",
    "\n",
    "def checknode(node):\n",
    "    pos, chips, gens = node\n",
    "    for i in range(ntypes):\n",
    "        if chips[i] == gens[i]:\n",
    "            continue\n",
    "        if chips[i] in gens:\n",
    "            return False\n",
    "    return True\n",
    "\n",
    "def neighbors(node):\n",
    "    pos, chips, gens = node\n",
    "    cand = []\n",
    "    nb = []\n",
    "    for i in range(2*ntypes):\n",
    "        _all = chips+gens\n",
    "        if _all[i] == pos:\n",
    "             cand.append(i)\n",
    "    for c in chain(combinations(cand, 2), combinations(cand,1)):\n",
    "        if pos > 0:\n",
    "            tmp = list(_all[:])\n",
    "            for i in c:\n",
    "                tmp[i] -= 1\n",
    "            pos_nb = (pos-1, tuple(tmp[:ntypes]), tuple(tmp[ntypes:]))\n",
    "            if checknode(pos_nb):\n",
    "                nb.append(pos_nb)\n",
    "        if pos < nfloors - 1:\n",
    "            tmp = list(_all[:])\n",
    "            for i in c:\n",
    "                tmp[i] += 1\n",
    "            pos_nb = (pos+1, tuple(tmp[:ntypes]), tuple(tmp[ntypes:]))            \n",
    "            if checknode(pos_nb):\n",
    "                nb.append(pos_nb)\n",
    "    return nb"
   ]
  },
  {
   "cell_type": "code",
   "execution_count": 5,
   "metadata": {
    "collapsed": false
   },
   "outputs": [
    {
     "name": "stdout",
     "output_type": "stream",
     "text": [
      "(0, (0, 0), (1, 2)) 9 0\n",
      "(1, (1, 0), (1, 2)) 10 1\n",
      "(2, (2, 0), (2, 2)) 9 2\n",
      "(3, (3, 0), (3, 2)) 6 3\n",
      "(3, (2, 0), (3, 3)) 6 3\n",
      "(3, (3, 0), (2, 2)) 8 3\n",
      "(3, (2, 0), (2, 3)) 8 3\n",
      "(2, (1, 0), (2, 2)) 9 2\n",
      "(3, (1, 0), (3, 3)) 6 3\n",
      "(3, (1, 0), (3, 2)) 8 3\n",
      "(3, (1, 0), (2, 3)) 8 3\n",
      "(2, (3, 0), (2, 2)) 9 4\n",
      "(3, (3, 0), (3, 3)) 8 5\n",
      "(2, (2, 0), (2, 3)) 9 4\n",
      "(2, (1, 0), (2, 3)) 9 4\n",
      "(2, (1, 0), (3, 2)) 9 4\n",
      "(2, (2, 0), (3, 3)) 9 6\n",
      "(2, (3, 0), (3, 2)) 9 6\n",
      "(1, (1, 0), (2, 2)) 10 3\n",
      "(1, (2, 0), (2, 1)) 10 3\n",
      "(1, (3, 0), (1, 2)) 10 5\n",
      "(1, (3, 0), (2, 1)) 10 5\n",
      "(1, (1, 0), (2, 3)) 10 5\n",
      "(1, (2, 0), (1, 3)) 10 5\n",
      "(1, (1, 0), (3, 3)) 10 7\n",
      "(1, (3, 0), (3, 1)) 10 7\n",
      "(0, (0, 0), (2, 2)) 11 4\n",
      "(0, (2, 0), (2, 0)) 11 4\n",
      "(0, (3, 0), (2, 0)) 11 6\n",
      "(0, (0, 0), (2, 3)) 11 6\n",
      "(0, (0, 0), (3, 3)) 11 8\n",
      "(0, (3, 0), (3, 0)) 11 8\n",
      "(1, (1, 1), (2, 2)) 11 5\n",
      "(1, (2, 1), (2, 1)) 11 5\n",
      "(1, (3, 1), (2, 1)) 11 7\n",
      "(1, (1, 1), (2, 3)) 11 7\n",
      "(1, (1, 1), (3, 3)) 11 9\n",
      "(1, (3, 1), (3, 1)) 11 9\n",
      "(2, (2, 2), (2, 2)) 11 6\n",
      "(3, (3, 3), (2, 2)) 8 7\n",
      "(3, (3, 2), (3, 2)) 8 7\n",
      "(3, (2, 3), (2, 3)) 8 7\n",
      "(3, (2, 2), (3, 3)) 8 7\n",
      "(3, (3, 2), (2, 2)) 10 7\n",
      "(3, (2, 3), (2, 2)) 10 7\n",
      "(2, (3, 2), (2, 2)) 11 8\n",
      "(3, (3, 2), (3, 3)) 10 9\n",
      "(2, (2, 2), (3, 3)) 11 10\n",
      "(2, (3, 2), (3, 2)) 11 10\n",
      "(2, (2, 3), (2, 2)) 11 8\n",
      "11\n"
     ]
    }
   ],
   "source": [
    "#ntypes = 5\n",
    "#startnode = (0, (0, 2, 2, 2, 2), (0, 1, 1, 1, 1))\n",
    "ntypes = 2\n",
    "startnode = (0, (0, 0), (1,2))\n",
    "inf = 9999\n",
    "\n",
    "gScore = defaultdict(int)\n",
    "fScore = defaultdict(int)\n",
    "\n",
    "gScore[startnode] = 0\n",
    "fScore[startnode] = distance(startnode)\n",
    "\n",
    "openSet = [startnode]\n",
    "done = []\n",
    "\n",
    "while len(openSet):\n",
    "    current = openSet[0]\n",
    "    minfScore = fScore[current]\n",
    "    for node in openSet:\n",
    "        if fScore[node] < minfScore:\n",
    "            current = node\n",
    "            minfScore = fScore[node]\n",
    "                \n",
    "    openSet.remove(current)\n",
    "    done.append(current)\n",
    "    if distance(current) == 0:\n",
    "        print gScore[current]\n",
    "        break\n",
    "    for nb in neighbors(current):\n",
    "        if nb in done:\n",
    "            continue\n",
    "        done.append(nb)\n",
    "        tmpgScore = gScore[current] + 1\n",
    "        openSet.append(nb)\n",
    "        if tmpgScore < gScore[nb] or gScore[nb] == 0:\n",
    "            gScore[nb] = tmpgScore\n",
    "            fScore[nb] = tmpgScore + distance(nb)\n",
    "    print current, fScore[current], gScore[current]\n",
    "        "
   ]
  },
  {
   "cell_type": "code",
   "execution_count": null,
   "metadata": {
    "collapsed": false
   },
   "outputs": [],
   "source": [
    "a = {}\n",
    "a['a'] = 3\n",
    "a['b'] = 4\n",
    "a['c'] = 1\n",
    "min(a, key=a.get)"
   ]
  },
  {
   "cell_type": "code",
   "execution_count": null,
   "metadata": {
    "collapsed": false
   },
   "outputs": [],
   "source": [
    "a"
   ]
  },
  {
   "cell_type": "code",
   "execution_count": null,
   "metadata": {
    "collapsed": true
   },
   "outputs": [],
   "source": []
  },
  {
   "cell_type": "code",
   "execution_count": null,
   "metadata": {
    "collapsed": false
   },
   "outputs": [],
   "source": [
    "node = (2, (2,2,2,2,2), (2,2,2,2,2))\n",
    "print node\n",
    "neighbors(node)"
   ]
  },
  {
   "cell_type": "code",
   "execution_count": null,
   "metadata": {
    "collapsed": false
   },
   "outputs": [],
   "source": [
    "node"
   ]
  },
  {
   "cell_type": "code",
   "execution_count": null,
   "metadata": {
    "collapsed": false
   },
   "outputs": [],
   "source": [
    "shortest((2, (3,3,3,3,2), (3,3,3,3,3)))"
   ]
  },
  {
   "cell_type": "code",
   "execution_count": null,
   "metadata": {
    "collapsed": false
   },
   "outputs": [],
   "source": [
    "shortest((3, (3,3,3,3,3), (3,3,3,3,3)))"
   ]
  },
  {
   "cell_type": "code",
   "execution_count": null,
   "metadata": {
    "collapsed": true
   },
   "outputs": [],
   "source": [
    "from itertools import combinations "
   ]
  },
  {
   "cell_type": "code",
   "execution_count": null,
   "metadata": {
    "collapsed": false
   },
   "outputs": [],
   "source": [
    "for i in chain(combinations(range(4), 2), combinations(range(4),1)):\n",
    "    print i"
   ]
  },
  {
   "cell_type": "code",
   "execution_count": null,
   "metadata": {
    "collapsed": false
   },
   "outputs": [],
   "source": [
    "(1,2,3) + (4,5,6)"
   ]
  },
  {
   "cell_type": "code",
   "execution_count": null,
   "metadata": {
    "collapsed": false
   },
   "outputs": [],
   "source": [
    "(1, 2, 3, 4, 5, 6)[:3]"
   ]
  },
  {
   "cell_type": "code",
   "execution_count": null,
   "metadata": {
    "collapsed": true
   },
   "outputs": [],
   "source": [
    "a = {}\n",
    "a[(0, (0, 2, 2, 2, 2), (0, 1, 1, 1, 1))] = 1"
   ]
  },
  {
   "cell_type": "code",
   "execution_count": 8,
   "metadata": {
    "collapsed": true
   },
   "outputs": [],
   "source": [
    "import bisect"
   ]
  },
  {
   "cell_type": "code",
   "execution_count": 9,
   "metadata": {
    "collapsed": true
   },
   "outputs": [],
   "source": [
    "bisect.bisect?"
   ]
  },
  {
   "cell_type": "code",
   "execution_count": 26,
   "metadata": {
    "collapsed": false
   },
   "outputs": [
    {
     "name": "stdout",
     "output_type": "stream",
     "text": [
      "[1, 2, 3, 4, 5, 7] 1\n"
     ]
    }
   ],
   "source": [
    "a = [1,2,3,4,5]\n",
    "n = 7\n",
    "a.insert(bisect.bisect(a, n), n)\n",
    "print a, a.pop(0)"
   ]
  },
  {
   "cell_type": "code",
   "execution_count": 32,
   "metadata": {
    "collapsed": false
   },
   "outputs": [
    {
     "name": "stdout",
     "output_type": "stream",
     "text": [
      "set([(1, 2), (1, 1), (2, 1)])\n"
     ]
    }
   ],
   "source": [
    "a = set([(1,1), (1,2)])\n",
    "a.add((1,2))\n",
    "a.add((2,1))\n",
    "#conf = set([(1,2),(2,1),(2,2)])\n",
    "print a\n"
   ]
  },
  {
   "cell_type": "code",
   "execution_count": 38,
   "metadata": {
    "collapsed": false
   },
   "outputs": [
    {
     "data": {
      "text/plain": [
       "False"
      ]
     },
     "execution_count": 38,
     "metadata": {},
     "output_type": "execute_result"
    }
   ],
   "source": [
    "a = (1, set([(1,2), (1,2)]))\n",
    "b = (1, set([(1,2), (1,1)]))\n",
    "a == b"
   ]
  },
  {
   "cell_type": "code",
   "execution_count": 35,
   "metadata": {
    "collapsed": false
   },
   "outputs": [
    {
     "data": {
      "text/plain": [
       "True"
      ]
     },
     "execution_count": 35,
     "metadata": {},
     "output_type": "execute_result"
    }
   ],
   "source": [
    "a == b"
   ]
  },
  {
   "cell_type": "code",
   "execution_count": null,
   "metadata": {
    "collapsed": true
   },
   "outputs": [],
   "source": []
  }
 ],
 "metadata": {
  "kernelspec": {
   "display_name": "Python 2",
   "language": "python",
   "name": "python2"
  },
  "language_info": {
   "codemirror_mode": {
    "name": "ipython",
    "version": 2
   },
   "file_extension": ".py",
   "mimetype": "text/x-python",
   "name": "python",
   "nbconvert_exporter": "python",
   "pygments_lexer": "ipython2",
   "version": "2.7.10"
  }
 },
 "nbformat": 4,
 "nbformat_minor": 0
}
