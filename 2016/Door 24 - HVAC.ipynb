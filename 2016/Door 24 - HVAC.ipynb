{
 "cells": [
  {
   "cell_type": "code",
   "execution_count": 26,
   "metadata": {
    "collapsed": false
   },
   "outputs": [],
   "source": [
    "import numpy as np\n",
    "input = []\n",
    "with open(\"data/input_24.txt\", \"r\") as f:\n",
    "    for line in f:\n",
    "        input.append(line.strip())\n",
    "\n",
    "maxx = len(input[0])\n",
    "maxy = len(input)"
   ]
  },
  {
   "cell_type": "code",
   "execution_count": 16,
   "metadata": {
    "collapsed": false
   },
   "outputs": [],
   "source": [
    "loc = {}\n",
    "for y, line in enumerate(input):\n",
    "    for i in range(10):\n",
    "        try:\n",
    "            x = line.index(str(i))\n",
    "            loc[i] = (x, y)\n",
    "        except:\n",
    "            pass\n",
    "maze = input"
   ]
  },
  {
   "cell_type": "code",
   "execution_count": 27,
   "metadata": {
    "collapsed": true
   },
   "outputs": [],
   "source": [
    "def ngbs(pos):\n",
    "    x, y = pos\n",
    "    if maze[y-1][x] != '#': yield (x, y-1)\n",
    "    if maze[y+1][x] != '#': yield (x, y+1)\n",
    "    if maze[y][x-1] != '#': yield (x-1, y)\n",
    "    if maze[y][x+1] != '#': yield (x+1, y)"
   ]
  },
  {
   "cell_type": "code",
   "execution_count": 30,
   "metadata": {
    "collapsed": false
   },
   "outputs": [
    {
     "data": {
      "text/plain": [
       "[(1, 4), (2, 3)]"
      ]
     },
     "execution_count": 30,
     "metadata": {},
     "output_type": "execute_result"
    }
   ],
   "source": [
    "list(ngbs((1,3)))"
   ]
  },
  {
   "cell_type": "code",
   "execution_count": 69,
   "metadata": {
    "collapsed": true
   },
   "outputs": [],
   "source": [
    "def shortestPath(start):\n",
    "    locdist = {}\n",
    "    openSet = {start: 0}\n",
    "    done = set([])\n",
    "    while len(locdist) < len(loc):\n",
    "        current = min(openSet, key=openSet.get)\n",
    "        distance = openSet.pop(current)\n",
    "        x, y = current\n",
    "        s = maze[y][x]\n",
    "        if s.isdigit():\n",
    "            locdist[int(s)] = distance\n",
    "        done.add(current)\n",
    "        \n",
    "        for nb in ngbs(current):\n",
    "            if nb in done:\n",
    "                continue\n",
    "            tmpScore = distance + 1\n",
    "            if nb not in openSet or openSet[nb] > tmpScore:\n",
    "                openSet[nb] = tmpScore\n",
    "            \n",
    "    return locdist"
   ]
  },
  {
   "cell_type": "code",
   "execution_count": 71,
   "metadata": {
    "collapsed": false
   },
   "outputs": [],
   "source": [
    "pairDist = {}\n",
    "for i in loc:    \n",
    "    dists = shortestPath(loc[i])\n",
    "    for j in dists:\n",
    "        pairDist[(i, j)] = dists[j]"
   ]
  },
  {
   "cell_type": "code",
   "execution_count": 92,
   "metadata": {
    "collapsed": false
   },
   "outputs": [
    {
     "name": "stdout",
     "output_type": "stream",
     "text": [
      "(0, 1, 7, 6, 3, 2, 4, 5) 502\n"
     ]
    }
   ],
   "source": [
    "# part 1\n",
    "minsteps = 10**6\n",
    "minpath = []\n",
    "from itertools import permutations\n",
    "for perm in permutations(range(1, len(loc))):\n",
    "    path = (0,) + perm\n",
    "    l = 0\n",
    "    for i in range(len(path)-1):\n",
    "        l += pairDist[(path[i], path[i+1])]\n",
    "    if l < minsteps:\n",
    "        minsteps = l\n",
    "        minpath = path\n",
    "print(minpath, minsteps)"
   ]
  },
  {
   "cell_type": "code",
   "execution_count": 94,
   "metadata": {
    "collapsed": false
   },
   "outputs": [
    {
     "name": "stdout",
     "output_type": "stream",
     "text": [
      "(0, 1, 7, 6, 3, 2, 5, 4, 0) 724\n"
     ]
    }
   ],
   "source": [
    "# part 2\n",
    "minsteps = 10**6\n",
    "minpath = []\n",
    "from itertools import permutations\n",
    "for perm in permutations(range(1, len(loc))):\n",
    "    path = (0,) + perm + (0,)\n",
    "    l = 0\n",
    "    for i in range(len(path)-1):\n",
    "        l += pairDist[(path[i], path[i+1])]\n",
    "    if l < minsteps:\n",
    "        minsteps = l\n",
    "        minpath = path\n",
    "print(minpath, minsteps)"
   ]
  },
  {
   "cell_type": "code",
   "execution_count": null,
   "metadata": {
    "collapsed": true
   },
   "outputs": [],
   "source": []
  }
 ],
 "metadata": {
  "anaconda-cloud": {},
  "kernelspec": {
   "display_name": "Python [conda root]",
   "language": "python",
   "name": "conda-root-py"
  },
  "language_info": {
   "codemirror_mode": {
    "name": "ipython",
    "version": 3
   },
   "file_extension": ".py",
   "mimetype": "text/x-python",
   "name": "python",
   "nbconvert_exporter": "python",
   "pygments_lexer": "ipython3",
   "version": "3.5.2"
  }
 },
 "nbformat": 4,
 "nbformat_minor": 1
}
