{
 "cells": [
  {
   "cell_type": "code",
   "execution_count": 1,
   "metadata": {},
   "outputs": [],
   "source": [
    "import os\n",
    "os.environ['AOC_SESSION'] = '53616c7465645f5fe53b184f367847aa55a2617e1b05248cac098b2c3dd14dae217169b3ce2e42b10bcc2af6d9b6787a4792a557f9705bb1eba86d761f2407d2'"
   ]
  },
  {
   "cell_type": "code",
   "execution_count": 2,
   "metadata": {},
   "outputs": [],
   "source": [
    "import aocd\n",
    "from aocd.models import Puzzle\n",
    "day = 11\n",
    "year = 2022\n",
    "puzzle = Puzzle(year=year, day=day)\n",
    "# data = aocd.get_data(day=day, year=year)\n",
    "with open('./data/input_{:02d}'.format(day), 'w') as fh:\n",
    "    fh.write(puzzle.input_data)"
   ]
  },
  {
   "cell_type": "code",
   "execution_count": 11,
   "metadata": {},
   "outputs": [],
   "source": [
    "test_data = \"\"\"Monkey 0:\n",
    "  Starting items: 79, 98\n",
    "  Operation: new = old * 19\n",
    "  Test: divisible by 23\n",
    "    If true: throw to monkey 2\n",
    "    If false: throw to monkey 3\n",
    "\n",
    "Monkey 1:\n",
    "  Starting items: 54, 65, 75, 74\n",
    "  Operation: new = old + 6\n",
    "  Test: divisible by 19\n",
    "    If true: throw to monkey 2\n",
    "    If false: throw to monkey 0\n",
    "\n",
    "Monkey 2:\n",
    "  Starting items: 79, 60, 97\n",
    "  Operation: new = old * old\n",
    "  Test: divisible by 13\n",
    "    If true: throw to monkey 1\n",
    "    If false: throw to monkey 3\n",
    "\n",
    "Monkey 3:\n",
    "  Starting items: 74\n",
    "  Operation: new = old + 3\n",
    "  Test: divisible by 17\n",
    "    If true: throw to monkey 0\n",
    "    If false: throw to monkey 1\"\"\""
   ]
  },
  {
   "cell_type": "code",
   "execution_count": 125,
   "metadata": {},
   "outputs": [
    {
     "data": {
      "text/plain": [
       "(55,\n",
       " ['Monkey 0:',\n",
       "  '  Starting items: 57',\n",
       "  '  Operation: new = old * 13',\n",
       "  '  Test: divisible by 11',\n",
       "  '    If true: throw to monkey 3',\n",
       "  '    If false: throw to monkey 2',\n",
       "  '',\n",
       "  'Monkey 1:',\n",
       "  '  Starting items: 58, 93, 88, 81, 72, 73, 65',\n",
       "  '  Operation: new = old + 2'])"
      ]
     },
     "execution_count": 125,
     "metadata": {},
     "output_type": "execute_result"
    }
   ],
   "source": [
    "data = puzzle.input_data.splitlines()\n",
    "# data = test_data.splitlines()\n",
    "len(data), data[:10]"
   ]
  },
  {
   "cell_type": "code",
   "execution_count": 118,
   "metadata": {},
   "outputs": [],
   "source": [
    "import operator\n",
    "import re\n",
    "from collections import deque\n",
    "\n",
    "class Monkey():\n",
    "    def __init__(self, items=None, operation=None, test=None):\n",
    "        self.items = items\n",
    "        self.operation = operation\n",
    "        self.test = test\n",
    "        self.pass_to = []\n",
    "        self.cnt = 0\n",
    "        \n",
    "def generate_operation(instruction):\n",
    "    a, op, b = instruction.split(' ')\n",
    "    if a != 'old':\n",
    "        a = int(a)\n",
    "    if b != 'old':\n",
    "        b = int(b)\n",
    "    op = {\n",
    "        '+': operator.add,\n",
    "        '*': operator.mul,\n",
    "    }[op]\n",
    "    \n",
    "    def operation(x, a=a, b=b, op=op):\n",
    "        if a == 'old':\n",
    "            a = x\n",
    "        if b == 'old':\n",
    "            b = x\n",
    "        return op(a, b)\n",
    "    return operation\n",
    "\n",
    "def get_test(val):\n",
    "    return lambda x: (x%val)==0\n",
    "\n",
    "def parse(inp):\n",
    "    monkeys = []\n",
    "    current = None\n",
    "    product = 1\n",
    "    for line in inp:\n",
    "        line = line.lstrip()\n",
    "        if line.startswith('Monkey'):\n",
    "            if current:\n",
    "                monkeys.append(current)\n",
    "            current = Monkey()\n",
    "            continue\n",
    "        if line.startswith(\"Starting items\"):\n",
    "            items = line.split(':')[1]\n",
    "            current.items = deque(map(int, items.split(',')))\n",
    "        if line.startswith(\"Operation\"):\n",
    "            operation = line.split('= ')[1]\n",
    "            current.operation = generate_operation(operation)\n",
    "        if line.startswith(\"Test\"):\n",
    "            div = int(re.findall('\\d+', line).pop())\n",
    "            product *= div\n",
    "            current.test =  get_test(div)\n",
    "        if line.startswith(\"If\"):\n",
    "            current.pass_to.append(int(re.findall('\\d+', line).pop()))\n",
    "    if current:\n",
    "        monkeys.append(current)\n",
    "    return monkeys, product\n",
    "\n",
    "def play(monkeys, nrounds=20, part=1):\n",
    "    for r in range(nrounds):\n",
    "        for i, monkey in enumerate(monkeys):\n",
    "            while monkey.items:\n",
    "                item = monkey.items.popleft()\n",
    "                monkey.cnt += 1\n",
    "                item = monkey.operation(item)\n",
    "                if part == 1:\n",
    "                    item = item // 3\n",
    "                if monkey.test(item):\n",
    "                    monkeys[monkey.pass_to[0]].items.append(item)\n",
    "                else:\n",
    "                    monkeys[monkey.pass_to[1]].items.append(item)\n",
    "                    \n",
    "def playB(monkeys, nrounds=20, prod=1):\n",
    "    for r in range(nrounds):\n",
    "        for i, monkey in enumerate(monkeys):\n",
    "            while monkey.items:\n",
    "                item = monkey.items.popleft()\n",
    "                monkey.cnt += 1\n",
    "                item = monkey.operation(item)\n",
    "                item = item % prod\n",
    "                if monkey.test(item):\n",
    "                    monkeys[monkey.pass_to[0]].items.append(item)\n",
    "                else:\n",
    "                    monkeys[monkey.pass_to[1]].items.append(item)"
   ]
  },
  {
   "cell_type": "code",
   "execution_count": 119,
   "metadata": {},
   "outputs": [
    {
     "data": {
      "text/plain": [
       "[101, 95, 7, 105]"
      ]
     },
     "execution_count": 119,
     "metadata": {},
     "output_type": "execute_result"
    }
   ],
   "source": [
    "monkeys, _ = parse(data)\n",
    "play(monkeys, 20)\n",
    "[m.cnt for m in monkeys]"
   ]
  },
  {
   "cell_type": "code",
   "execution_count": 120,
   "metadata": {},
   "outputs": [
    {
     "data": {
      "text/plain": [
       "[101, 105]"
      ]
     },
     "execution_count": 120,
     "metadata": {},
     "output_type": "execute_result"
    }
   ],
   "source": [
    "sorted([m.cnt for m in monkeys])[-2:]"
   ]
  },
  {
   "cell_type": "code",
   "execution_count": 96,
   "metadata": {},
   "outputs": [
    {
     "name": "stdout",
     "output_type": "stream",
     "text": [
      "\u001b[32mThat's the right answer!  You are one gold star closer to collecting enough star fruit. [Continue to Part Two]\u001b[0m\n"
     ]
    }
   ],
   "source": [
    "puzzle.answer_a = operator.mul(*sorted([m.cnt for m in monkeys])[-2:])"
   ]
  },
  {
   "cell_type": "markdown",
   "metadata": {},
   "source": [
    "# Part 2"
   ]
  },
  {
   "cell_type": "code",
   "execution_count": 126,
   "metadata": {},
   "outputs": [
    {
     "name": "stdout",
     "output_type": "stream",
     "text": [
      "CPU times: user 568 ms, sys: 3.67 ms, total: 572 ms\n",
      "Wall time: 569 ms\n"
     ]
    },
    {
     "data": {
      "text/plain": [
       "[165766, 161105, 159985, 9209, 18375, 166922, 13590, 169205]"
      ]
     },
     "execution_count": 126,
     "metadata": {},
     "output_type": "execute_result"
    }
   ],
   "source": [
    "%%time\n",
    "monkeys, prod = parse(data)\n",
    "playB(monkeys, 10000, prod=prod)\n",
    "[m.cnt for m in monkeys]"
   ]
  },
  {
   "cell_type": "code",
   "execution_count": 127,
   "metadata": {},
   "outputs": [
    {
     "data": {
      "text/plain": [
       "[166922, 169205]"
      ]
     },
     "execution_count": 127,
     "metadata": {},
     "output_type": "execute_result"
    }
   ],
   "source": [
    "sorted([m.cnt for m in monkeys])[-2:]"
   ]
  },
  {
   "cell_type": "code",
   "execution_count": 128,
   "metadata": {},
   "outputs": [
    {
     "name": "stdout",
     "output_type": "stream",
     "text": [
      "\u001b[32mThat's the right answer!  You are one gold star closer to collecting enough star fruit.You have completed Day 11! You can [Shareon\n",
      "  Twitter\n",
      "Mastodon] this victory or [Return to Your Advent Calendar].\u001b[0m\n"
     ]
    }
   ],
   "source": [
    "puzzle.answer_b = operator.mul(*sorted([m.cnt for m in monkeys])[-2:])"
   ]
  },
  {
   "cell_type": "code",
   "execution_count": null,
   "metadata": {},
   "outputs": [],
   "source": []
  }
 ],
 "metadata": {
  "kernelspec": {
   "display_name": "Python 3 (ipykernel)",
   "language": "python",
   "name": "python3"
  },
  "language_info": {
   "codemirror_mode": {
    "name": "ipython",
    "version": 3
   },
   "file_extension": ".py",
   "mimetype": "text/x-python",
   "name": "python",
   "nbconvert_exporter": "python",
   "pygments_lexer": "ipython3",
   "version": "3.8.13"
  }
 },
 "nbformat": 4,
 "nbformat_minor": 4
}
