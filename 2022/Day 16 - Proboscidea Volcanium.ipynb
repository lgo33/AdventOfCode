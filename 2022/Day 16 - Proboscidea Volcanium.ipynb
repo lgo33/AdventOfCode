{
 "cells": [
  {
   "cell_type": "code",
   "execution_count": 1,
   "metadata": {},
   "outputs": [],
   "source": [
    "import os\n",
    "os.environ['AOC_SESSION'] = '53616c7465645f5fe53b184f367847aa55a2617e1b05248cac098b2c3dd14dae217169b3ce2e42b10bcc2af6d9b6787a4792a557f9705bb1eba86d761f2407d2'"
   ]
  },
  {
   "cell_type": "code",
   "execution_count": 2,
   "metadata": {},
   "outputs": [],
   "source": [
    "import aocd\n",
    "from aocd.models import Puzzle\n",
    "day = 16\n",
    "year = 2022\n",
    "puzzle = Puzzle(year=year, day=day)\n",
    "# data = aocd.get_data(day=day, year=year)\n",
    "with open('./data/input_{:02d}'.format(day), 'w') as fh:\n",
    "    fh.write(puzzle.input_data)"
   ]
  },
  {
   "cell_type": "code",
   "execution_count": 108,
   "metadata": {},
   "outputs": [],
   "source": [
    "import networkx as nx\n",
    "import re\n",
    "from heapq import heappush, heappop, heapify\n",
    "from itertools import product"
   ]
  },
  {
   "cell_type": "code",
   "execution_count": 4,
   "metadata": {},
   "outputs": [],
   "source": [
    "test_data = \"\"\"Valve AA has flow rate=0; tunnels lead to valves DD, II, BB\n",
    "Valve BB has flow rate=13; tunnels lead to valves CC, AA\n",
    "Valve CC has flow rate=2; tunnels lead to valves DD, BB\n",
    "Valve DD has flow rate=20; tunnels lead to valves CC, AA, EE\n",
    "Valve EE has flow rate=3; tunnels lead to valves FF, DD\n",
    "Valve FF has flow rate=0; tunnels lead to valves EE, GG\n",
    "Valve GG has flow rate=0; tunnels lead to valves FF, HH\n",
    "Valve HH has flow rate=22; tunnel leads to valve GG\n",
    "Valve II has flow rate=0; tunnels lead to valves AA, JJ\n",
    "Valve JJ has flow rate=21; tunnel leads to valve II\"\"\""
   ]
  },
  {
   "cell_type": "code",
   "execution_count": 5,
   "metadata": {},
   "outputs": [
    {
     "data": {
      "text/plain": [
       "(60,\n",
       " ['Valve XB has flow rate=0; tunnels lead to valves WZ, LE',\n",
       "  'Valve BM has flow rate=0; tunnels lead to valves PL, RI',\n",
       "  'Valve GC has flow rate=0; tunnels lead to valves HN, IT',\n",
       "  'Valve RM has flow rate=0; tunnels lead to valves ZQ, YL',\n",
       "  'Valve ZM has flow rate=5; tunnels lead to valves SN, KE, UW, MY, GW',\n",
       "  'Valve UH has flow rate=0; tunnels lead to valves HM, HN',\n",
       "  'Valve GW has flow rate=0; tunnels lead to valves LE, ZM',\n",
       "  'Valve HN has flow rate=19; tunnels lead to valves UW, UH, GL, WZ, GC',\n",
       "  'Valve VT has flow rate=0; tunnels lead to valves ZD, PE',\n",
       "  'Valve VI has flow rate=0; tunnels lead to valves JS, AA'])"
      ]
     },
     "execution_count": 5,
     "metadata": {},
     "output_type": "execute_result"
    }
   ],
   "source": [
    "data = puzzle.input_data.splitlines()\n",
    "data_test = test_data.splitlines()\n",
    "len(data), data[:10]"
   ]
  },
  {
   "cell_type": "code",
   "execution_count": 79,
   "metadata": {},
   "outputs": [],
   "source": [
    "def parse(data):\n",
    "    flow_rates = {}\n",
    "    G = nx.Graph()\n",
    "    for line in data:\n",
    "        valve = line.split(' ', 2)[1]\n",
    "        try:\n",
    "            targets = line.split(' valves ')[1].split(', ')\n",
    "        except IndexError:\n",
    "            targets = line.split(' ')[-1:]\n",
    "        for target in targets:\n",
    "            G.add_edge(valve, target)\n",
    "        fr = int(re.search('\\d+', line)[0])\n",
    "        flow_rates[valve] = fr\n",
    "    return G, flow_rates\n",
    "\n",
    "def find_pressure_optimum(flow_rates, distances, max_time=30):\n",
    "    targets = set([key for key, val in flow_rates.items() if val > 0])\n",
    "    queue = [[0, 0, 0, 'AA', tuple(['AA'])]]\n",
    "    finished = []\n",
    "    \n",
    "    # print(len(queue))\n",
    "    while queue:\n",
    "        # print(queue)\n",
    "        time_used, pressure, pressure_per_time, pos, visited = heappop(queue)\n",
    "        if time_used >= max_time:\n",
    "            heappush(finished, (time_used, pressure, pressure_per_time, pos, visited))\n",
    "            return finished, -pressure\n",
    "            \n",
    "        candidates = (targets - set(visited))\n",
    "        new_paths = 0\n",
    "        \n",
    "        for target in candidates:\n",
    "            dist = distances[pos][target]\n",
    "            if (time_used + dist) < max_time:\n",
    "                heappush(queue, (time_used+dist+1, pressure+(pressure_per_time * (dist+1)), pressure_per_time-flow_rates[target], target, visited+ (target,) ))                    \n",
    "                new_paths += 1\n",
    "        if new_paths == 0:\n",
    "            heappush(queue, (time_used+1, pressure+pressure_per_time, pressure_per_time, pos, visited))\n",
    "    \n",
    "    return finished\n",
    "            "
   ]
  },
  {
   "cell_type": "code",
   "execution_count": 82,
   "metadata": {},
   "outputs": [],
   "source": [
    "# G, flow_rates = parse(data_test)\n",
    "G, flow_rates = parse(data)\n",
    "distances = dict(nx.all_pairs_shortest_path_length(G))"
   ]
  },
  {
   "cell_type": "code",
   "execution_count": 468,
   "metadata": {},
   "outputs": [
    {
     "name": "stdout",
     "output_type": "stream",
     "text": [
      "CPU times: user 1.16 s, sys: 4 ms, total: 1.16 s\n",
      "Wall time: 1.17 s\n"
     ]
    },
    {
     "data": {
      "text/plain": [
       "2265"
      ]
     },
     "execution_count": 468,
     "metadata": {},
     "output_type": "execute_result"
    }
   ],
   "source": [
    "%%time\n",
    "result, pressure = find_pressure_optimum(flow_rates, distances)\n",
    "pressure"
   ]
  },
  {
   "cell_type": "code",
   "execution_count": 85,
   "metadata": {},
   "outputs": [
    {
     "name": "stdout",
     "output_type": "stream",
     "text": [
      "\u001b[32mThat's the right answer!  You are one gold star closer to collecting enough star fruit. [Continue to Part Two]\u001b[0m\n"
     ]
    }
   ],
   "source": [
    "puzzle.answer_a = pressure"
   ]
  },
  {
   "cell_type": "code",
   "execution_count": 87,
   "metadata": {},
   "outputs": [],
   "source": [
    "# Part 2"
   ]
  },
  {
   "cell_type": "code",
   "execution_count": 723,
   "metadata": {},
   "outputs": [],
   "source": [
    "def find_pressure_optimum_B(flow_rates, nbrs, max_time=26):\n",
    "    max_flow_rate = -sum(flow_rates.values())\n",
    "    print(max_flow_rate)\n",
    "    targets = set([key for key, val in flow_rates.items() if val > 0])\n",
    "    queue = [[0, 0, 0, 0, 'AA', 'AA', set(), [], []]]\n",
    "    finished = []\n",
    "    seen = dict()\n",
    "    \n",
    "    # print(len(queue))\n",
    "    while queue:\n",
    "        # print(queue)\n",
    "        prio, time_used, pressure, pressure_per_time, posA, posB, vopen, pathA, pathB = heappop(queue)\n",
    "        lookup_hash = tuple([time_used, *sorted([posA, posB])])\n",
    "\n",
    "        # vopen = vopen.copy()\n",
    "        if time_used >= max_time:            \n",
    "            heappush(finished, (time_used, pressure, pressure_per_time, posA, posB, vopen, pathA, pathB))\n",
    "            return queue, finished, pathA, pathB, -pressure\n",
    "        \n",
    "        pressure += pressure_per_time\n",
    "        time_used += 1\n",
    "        prio = max_flow_rate * (max_time - time_used) + pressure\n",
    "        \n",
    "        if lookup_hash in seen:\n",
    "            if pressure_per_time >= seen[lookup_hash]:\n",
    "                continue\n",
    "        seen[lookup_hash] = pressure_per_time\n",
    "        \n",
    "        if len(finished):\n",
    "            # print(finished, prio)\n",
    "            # return\n",
    "            if finished[0][1] <= prio:\n",
    "                # print('skipping')\n",
    "                continue\n",
    "        \n",
    "        if pressure_per_time == max_flow_rate:\n",
    "            heappush(queue, (prio, time_used, pressure, pressure_per_time, posA, posB, vopen, pathA.copy(), pathB.copy()))\n",
    "            continue                  \n",
    "\n",
    "        tgtsA = list(nbrs[posA].keys())\n",
    "        if ((posA not in vopen) and (flow_rates[posA] > 0)) or (len(tgtsA) == 0):\n",
    "             tgtsA += [posA]\n",
    "        \n",
    "        tgtsB = list(nbrs[posB].keys())\n",
    "        if ((posB not in vopen) and (flow_rates[posB] > 0) and (posA != posB)) or (len(tgtsB) == 0):\n",
    "             tgtsB += [posB]\n",
    "        \n",
    "        for toA, toB in product(tgtsA, tgtsB):\n",
    "            delta_flow_rate_A = 0\n",
    "            delta_flow_rate_B = 0\n",
    "            to_add = set()\n",
    "            \n",
    "            if (posA == toA) and (posA not in vopen):\n",
    "                to_add.add(posA)\n",
    "                delta_flow_rate_A = -flow_rates[posA]\n",
    "                \n",
    "            if (posB == toB) and (posB not in vopen) and (posA != posB):\n",
    "                to_add.add(posB)\n",
    "                delta_flow_rate_B = -flow_rates[posB]\n",
    "                \n",
    "            heappush(queue, (\n",
    "                prio, \n",
    "                time_used, \n",
    "                pressure, \n",
    "                pressure_per_time + delta_flow_rate_A + delta_flow_rate_B, \n",
    "                toA, \n",
    "                toB, \n",
    "                vopen.union(to_add), \n",
    "                pathA+[(toA, pressure_per_time + delta_flow_rate_A + delta_flow_rate_B, time_used)], \n",
    "                pathB+[toB],\n",
    "            ))            \n",
    "            \n",
    "        if len(queue) > 5000000:\n",
    "            return queue\n",
    "    \n",
    "    return finished"
   ]
  },
  {
   "cell_type": "code",
   "execution_count": 724,
   "metadata": {},
   "outputs": [],
   "source": [
    "G, flow_rates = parse(data_test)\n",
    "G, flow_rates = parse(data)\n",
    "distances = dict(nx.all_pairs_shortest_path_length(G))"
   ]
  },
  {
   "cell_type": "code",
   "execution_count": 725,
   "metadata": {},
   "outputs": [
    {
     "name": "stdout",
     "output_type": "stream",
     "text": [
      "-223\n",
      "CPU times: user 12.5 s, sys: 11.8 ms, total: 12.6 s\n",
      "Wall time: 12.6 s\n"
     ]
    },
    {
     "data": {
      "text/plain": [
       "2811"
      ]
     },
     "execution_count": 725,
     "metadata": {},
     "output_type": "execute_result"
    }
   ],
   "source": [
    "%%time\n",
    "queue, finished, pathA, pathB, pressure = find_pressure_optimum_B(flow_rates, dict(G.adjacency()), max_time=26)\n",
    "pressure"
   ]
  },
  {
   "cell_type": "code",
   "execution_count": 719,
   "metadata": {},
   "outputs": [],
   "source": [
    "def find_pressure_optimum_C(flow_rates, distances, max_time=26):\n",
    "    max_flow_rate = -sum(flow_rates.values())\n",
    "    all_targets = set([key for key, val in flow_rates.items() if val > 0])\n",
    "    queue = [[0, 0, 0, 0, ('AA', 0), ('AA', 0), set(), set(['AA']), [], []]]\n",
    "    finished = []\n",
    "    seen = dict()\n",
    "    \n",
    "    # print(len(queue))\n",
    "    while queue:\n",
    "        # print(queue)\n",
    "        prio, time_used, pressure, pressure_per_time, posA, posB, visited, vopened, pathA, pathB = heappop(queue)\n",
    "        lookup_hash = tuple([time_used, *sorted([posA, posB])])\n",
    "\n",
    "        # vopen = vopen.copy()\n",
    "        if time_used >= max_time:            \n",
    "            heappush(finished, (time_used, pressure, pressure_per_time, posA, posB, visited, vopened, pathA, pathB))\n",
    "            return queue, finished, pathA, pathB, -pressure\n",
    "        \n",
    "        pressure += pressure_per_time\n",
    "        time_used += 1\n",
    "        prio = max_flow_rate * (max_time - time_used) + pressure\n",
    "        \n",
    "        if lookup_hash in seen:\n",
    "            if pressure_per_time >= seen[lookup_hash]:\n",
    "                # print(lookup_hash, seen[lookup_hash], prio)\n",
    "                # break\n",
    "                continue\n",
    "        seen[lookup_hash] = pressure_per_time\n",
    "        \n",
    "        if len(finished):\n",
    "            # print(finished, prio)\n",
    "            # return\n",
    "            if finished[0][1] <= prio:\n",
    "                # print('skipping')\n",
    "                continue\n",
    "        \n",
    "        if pressure_per_time == max_flow_rate:\n",
    "            heappush(queue, (prio, time_used, pressure, pressure_per_time, posA, posB, visited, vopened, pathA.copy(), pathB.copy()))\n",
    "            continue                  \n",
    "\n",
    "        targets_A = []\n",
    "        targets_B = []\n",
    "        \n",
    "        for pos, targets in ((posA, targets_A), (posB, targets_B)):\n",
    "            _to, time_left = pos\n",
    "            candidates = (all_targets - set(visited))\n",
    "            \n",
    "            if time_left > 0:\n",
    "                time_left -= 1\n",
    "                targets.append((_to, time_left))\n",
    "                if (_to not in vopened) and (time_left == 0):\n",
    "                    pressure_per_time -= flow_rates[_to]\n",
    "                    vopened = vopened.union(set([_to]))\n",
    "            else:                \n",
    "                # print(flow_rates, _to, pressure_per_time)\n",
    "                for cnd in candidates:\n",
    "                    dist = distances[_to][cnd]\n",
    "                    if (time_used + dist) <= max_time:\n",
    "                        targets.append((cnd, dist))\n",
    "            if len(targets) == 0:\n",
    "                targets.append((_to, 1))\n",
    "        \n",
    "        for toA, toB in product(targets_A, targets_B): \n",
    "            heappush(queue, (\n",
    "                prio, \n",
    "                time_used, \n",
    "                pressure, \n",
    "                pressure_per_time, \n",
    "                toA, \n",
    "                toB, \n",
    "                visited.union(set([toA[0], toB[0]])), \n",
    "                vopened,\n",
    "                pathA + [(toA, time_used, pressure, pressure_per_time, vopened.copy())], \n",
    "                pathB + [(toB, time_used)]\n",
    "            ))\n",
    "                   \n",
    "        if len(queue) > 5000000:\n",
    "            return queue\n",
    "    \n",
    "    return finished"
   ]
  },
  {
   "cell_type": "code",
   "execution_count": 720,
   "metadata": {},
   "outputs": [],
   "source": [
    "G, flow_rates = parse(data_test)\n",
    "G, flow_rates = parse(data)\n",
    "distances = dict(nx.all_pairs_shortest_path_length(G))"
   ]
  },
  {
   "cell_type": "code",
   "execution_count": 721,
   "metadata": {
    "tags": []
   },
   "outputs": [
    {
     "name": "stdout",
     "output_type": "stream",
     "text": [
      "CPU times: user 4.99 s, sys: 39.9 ms, total: 5.03 s\n",
      "Wall time: 5.04 s\n"
     ]
    },
    {
     "data": {
      "text/plain": [
       "2811"
      ]
     },
     "execution_count": 721,
     "metadata": {},
     "output_type": "execute_result"
    }
   ],
   "source": [
    "%%time\n",
    "queue, finished, pathA, pathB, pressure = find_pressure_optimum_C(flow_rates, distances)\n",
    "pressure"
   ]
  },
  {
   "cell_type": "code",
   "execution_count": 722,
   "metadata": {},
   "outputs": [
    {
     "name": "stdout",
     "output_type": "stream",
     "text": [
      "\u001b[32mThat's the right answer!  You are one gold star closer to collecting enough star fruit.You have completed Day 16! You can [Shareon\n",
      "  Twitter\n",
      "Mastodon] this victory or [Return to Your Advent Calendar].\u001b[0m\n"
     ]
    }
   ],
   "source": [
    "puzzle.answer_b = pressure"
   ]
  },
  {
   "cell_type": "code",
   "execution_count": null,
   "metadata": {},
   "outputs": [],
   "source": []
  }
 ],
 "metadata": {
  "kernelspec": {
   "display_name": "py310",
   "language": "python",
   "name": "py310"
  },
  "language_info": {
   "codemirror_mode": {
    "name": "ipython",
    "version": 3
   },
   "file_extension": ".py",
   "mimetype": "text/x-python",
   "name": "python",
   "nbconvert_exporter": "python",
   "pygments_lexer": "ipython3",
   "version": "3.10.2"
  }
 },
 "nbformat": 4,
 "nbformat_minor": 4
}
