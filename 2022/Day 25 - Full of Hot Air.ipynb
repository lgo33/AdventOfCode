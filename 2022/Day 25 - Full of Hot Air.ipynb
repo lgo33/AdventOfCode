{
 "cells": [
  {
   "cell_type": "code",
   "execution_count": 1,
   "metadata": {},
   "outputs": [],
   "source": [
    "import os\n",
    "os.environ['AOC_SESSION'] = '53616c7465645f5fe53b184f367847aa55a2617e1b05248cac098b2c3dd14dae217169b3ce2e42b10bcc2af6d9b6787a4792a557f9705bb1eba86d761f2407d2'"
   ]
  },
  {
   "cell_type": "code",
   "execution_count": 2,
   "metadata": {},
   "outputs": [],
   "source": [
    "import aocd\n",
    "from aocd.models import Puzzle\n",
    "day = 25\n",
    "year = 2022\n",
    "puzzle = Puzzle(year=year, day=day)\n",
    "# data = aocd.get_data(day=day, year=year)\n",
    "with open('./data/input_{:02d}'.format(day), 'w') as fh:\n",
    "    fh.write(puzzle.input_data)"
   ]
  },
  {
   "cell_type": "code",
   "execution_count": 28,
   "metadata": {},
   "outputs": [],
   "source": [
    "import numpy as np"
   ]
  },
  {
   "cell_type": "code",
   "execution_count": 5,
   "metadata": {},
   "outputs": [],
   "source": [
    "test_data = \"\"\"1=-0-2\n",
    "12111\n",
    "2=0=\n",
    "21\n",
    "2=01\n",
    "111\n",
    "20012\n",
    "112\n",
    "1=-1=\n",
    "1-12\n",
    "12\n",
    "1=\n",
    "122\"\"\""
   ]
  },
  {
   "cell_type": "code",
   "execution_count": 15,
   "metadata": {},
   "outputs": [
    {
     "data": {
      "text/plain": [
       "(103,\n",
       " ['1=100-',\n",
       "  '1=2-12-21-',\n",
       "  '1=2-01-201222',\n",
       "  '20--1-2120==22=--0',\n",
       "  '2=020102212211==1',\n",
       "  '11-00=',\n",
       "  '20200',\n",
       "  '111-0101-1=-010',\n",
       "  '100202=10-12-=-1',\n",
       "  '1=2202=11=-2'])"
      ]
     },
     "execution_count": 15,
     "metadata": {},
     "output_type": "execute_result"
    }
   ],
   "source": [
    "data = puzzle.input_data.splitlines()\n",
    "data_test = test_data.splitlines()\n",
    "len(data), data[:10]"
   ]
  },
  {
   "cell_type": "code",
   "execution_count": 63,
   "metadata": {},
   "outputs": [],
   "source": [
    "def convert(number):\n",
    "    res = 0\n",
    "    base = 1\n",
    "    for digit in number[::-1]:\n",
    "        val = 0\n",
    "        match digit:\n",
    "            case '-':\n",
    "                val = -1\n",
    "            case '=':\n",
    "                val = -2\n",
    "            case _:\n",
    "                val = int(digit)\n",
    "        res += val * base\n",
    "        base *= 5\n",
    "    return res\n",
    "\n",
    "def replace(digit):\n",
    "    match digit:\n",
    "        case -2:\n",
    "            return '='\n",
    "        case -1:\n",
    "            return '-'\n",
    "        case _:\n",
    "            return str(digit)\n",
    "        \n",
    "\n",
    "def revert(number):\n",
    "    digits = []\n",
    "    rem = 0\n",
    "    while number:\n",
    "        to_add = number % 5\n",
    "        to_add += rem\n",
    "        if to_add > 2:\n",
    "            to_add -=5\n",
    "            rem = 1\n",
    "        else:\n",
    "            rem = 0\n",
    "        digits.append(to_add)\n",
    "        number = number // 5\n",
    "    digits.reverse()\n",
    "    digits = [replace(dig) for dig in digits]\n",
    "    return \"\".join(digits)\n",
    "        \n",
    "\n",
    "def parse(lines):\n",
    "    return [convert(line) for line in lines]"
   ]
  },
  {
   "cell_type": "code",
   "execution_count": 66,
   "metadata": {},
   "outputs": [],
   "source": [
    "result = sum(parse(data))"
   ]
  },
  {
   "cell_type": "code",
   "execution_count": 67,
   "metadata": {},
   "outputs": [
    {
     "data": {
      "text/plain": [
       "'20=2-02-0---02=22=21'"
      ]
     },
     "execution_count": 67,
     "metadata": {},
     "output_type": "execute_result"
    }
   ],
   "source": [
    "revert(result)"
   ]
  },
  {
   "cell_type": "code",
   "execution_count": 68,
   "metadata": {},
   "outputs": [
    {
     "name": "stdout",
     "output_type": "stream",
     "text": [
      "\n",
      "You make a smoothie with all fifty stars and deliver it to the reindeer! The sleigh is already warmed up by the time they finish eating.\n",
      "Congratulations!  You've finished every puzzle in Advent of Code 2022!  I hope you had as much fun solving them as I had making them for you.  I'd love to hear about your adventure; you can get in touch with me via contact info on my website or through Twitter.\n",
      "If you'd like to see more things like this in the future, please consider supporting Advent of Code and sharing it with others.\n",
      "To hear about future projects, you can follow me on Twitter.\n",
      "I've highlighted the easter eggs in each puzzle, just in case you missed any.  Hover your mouse over them, and the easter egg will appear.\n",
      "You can [Shareon\n",
      "  Twitter\n",
      "Mastodon] this moment with your friends, or [Go Check on Your Calendar].\n",
      "\u001b[0m\n",
      "\u001b[32mThat's the right answer!  You are one gold star closer to collecting enough star fruit. [Continue to Part Two]\u001b[0m\n"
     ]
    }
   ],
   "source": [
    "puzzle.answer_a = revert(result)"
   ]
  },
  {
   "cell_type": "code",
   "execution_count": null,
   "metadata": {},
   "outputs": [],
   "source": []
  }
 ],
 "metadata": {
  "kernelspec": {
   "display_name": "py310",
   "language": "python",
   "name": "py310"
  },
  "language_info": {
   "codemirror_mode": {
    "name": "ipython",
    "version": 3
   },
   "file_extension": ".py",
   "mimetype": "text/x-python",
   "name": "python",
   "nbconvert_exporter": "python",
   "pygments_lexer": "ipython3",
   "version": "3.10.2"
  }
 },
 "nbformat": 4,
 "nbformat_minor": 4
}
