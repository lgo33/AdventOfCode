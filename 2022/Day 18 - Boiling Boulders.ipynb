{
 "cells": [
  {
   "cell_type": "code",
   "execution_count": 1,
   "metadata": {},
   "outputs": [],
   "source": [
    "import os\n",
    "os.environ['AOC_SESSION'] = '53616c7465645f5fe53b184f367847aa55a2617e1b05248cac098b2c3dd14dae217169b3ce2e42b10bcc2af6d9b6787a4792a557f9705bb1eba86d761f2407d2'"
   ]
  },
  {
   "cell_type": "code",
   "execution_count": 2,
   "metadata": {},
   "outputs": [],
   "source": [
    "import aocd\n",
    "from aocd.models import Puzzle\n",
    "day = 18\n",
    "year = 2022\n",
    "puzzle = Puzzle(year=year, day=day)\n",
    "# data = aocd.get_data(day=day, year=year)\n",
    "with open('./data/input_{:02d}'.format(day), 'w') as fh:\n",
    "    fh.write(puzzle.input_data)"
   ]
  },
  {
   "cell_type": "code",
   "execution_count": 66,
   "metadata": {},
   "outputs": [],
   "source": [
    "import numpy as np\n",
    "import networkx as nx"
   ]
  },
  {
   "cell_type": "code",
   "execution_count": 16,
   "metadata": {},
   "outputs": [],
   "source": [
    "test_data = \"\"\"2,2,2\n",
    "1,2,2\n",
    "3,2,2\n",
    "2,1,2\n",
    "2,3,2\n",
    "2,2,1\n",
    "2,2,3\n",
    "2,2,4\n",
    "2,2,6\n",
    "1,2,5\n",
    "3,2,5\n",
    "2,1,5\n",
    "2,3,5\"\"\""
   ]
  },
  {
   "cell_type": "code",
   "execution_count": 6,
   "metadata": {},
   "outputs": [
    {
     "data": {
      "text/plain": [
       "(2025,\n",
       " ['4,14,13',\n",
       "  '12,7,15',\n",
       "  '7,14,15',\n",
       "  '7,16,12',\n",
       "  '7,9,18',\n",
       "  '13,8,15',\n",
       "  '17,10,6',\n",
       "  '14,2,11',\n",
       "  '12,10,2',\n",
       "  '2,8,6'])"
      ]
     },
     "execution_count": 6,
     "metadata": {},
     "output_type": "execute_result"
    }
   ],
   "source": [
    "data = puzzle.input_data.splitlines()\n",
    "data_test = test_data.splitlines()\n",
    "len(data), data[:10]"
   ]
  },
  {
   "cell_type": "code",
   "execution_count": 36,
   "metadata": {},
   "outputs": [],
   "source": [
    "def create_drop(data):\n",
    "    coords = [ list(map(int, line.split(','))) for line in data]\n",
    "    shape = np.array(coords).max(axis=0) + 1\n",
    "    \n",
    "    drop = np.zeros(shape, dtype=np.int8)\n",
    "    # print(drop.shape)\n",
    "    for x, y, z in coords:\n",
    "        drop[x, y, z] = 1\n",
    "    return drop"
   ]
  },
  {
   "cell_type": "code",
   "execution_count": 71,
   "metadata": {},
   "outputs": [
    {
     "name": "stdout",
     "output_type": "stream",
     "text": [
      "3564\n"
     ]
    }
   ],
   "source": [
    "def nbrs(cube):\n",
    "    x, y, z = cube\n",
    "    yield (x+1, y, z)\n",
    "    yield (x-1, y, z)\n",
    "    yield (x, y+1, z)\n",
    "    yield (x, y-1, z)\n",
    "    yield (x, y, z+1)\n",
    "    yield (x, y, z-1)\n",
    "    \n",
    "def simple_nbrs(cube):\n",
    "    x, y, z = cube\n",
    "    yield (x+1, y, z)\n",
    "    yield (x, y+1, z)\n",
    "    yield (x, y, z+1)\n",
    "    \n",
    "\n",
    "cubes = set([ tuple(map(int, line.split(','))) for line in data])\n",
    "sides = 0\n",
    "for cube in cubes:\n",
    "    for nbr in nbrs(cube):\n",
    "        if nbr not in cubes:\n",
    "            sides += 1\n",
    "print(sides)\n",
    "    "
   ]
  },
  {
   "cell_type": "code",
   "execution_count": 48,
   "metadata": {},
   "outputs": [
    {
     "name": "stdout",
     "output_type": "stream",
     "text": [
      "\u001b[32mThat's the right answer!  You are one gold star closer to collecting enough star fruit. [Continue to Part Two]\u001b[0m\n"
     ]
    }
   ],
   "source": [
    "puzzle.answer_a = int(sides)"
   ]
  },
  {
   "cell_type": "markdown",
   "metadata": {},
   "source": [
    "# Part 2"
   ]
  },
  {
   "cell_type": "code",
   "execution_count": 121,
   "metadata": {},
   "outputs": [],
   "source": [
    "coords = [tuple(map(int, line.split(','))) for line in data]\n",
    "cubes = set([ tuple(map(int, line.split(','))) for line in data])"
   ]
  },
  {
   "cell_type": "code",
   "execution_count": 122,
   "metadata": {},
   "outputs": [],
   "source": [
    "x, y, z = zip(*coords)\n",
    "shape = (max(x)+1, max(y)+1, max(z)+1)"
   ]
  },
  {
   "cell_type": "code",
   "execution_count": 123,
   "metadata": {},
   "outputs": [],
   "source": [
    "# create Graph of all neighboring air points\n",
    "# save all air points (non-cubes)\n",
    "\n",
    "G = nx.Graph()\n",
    "\n",
    "not_cubes = set()\n",
    "\n",
    "for x in range(shape[0]):\n",
    "    for y in range(shape[1]):\n",
    "        for z in range(shape[2]):\n",
    "            if (x, y, z) in cubes:\n",
    "                continue\n",
    "            not_cubes.add((x, y, z))\n",
    "            for nbr in simple_nbrs((x, y, z)):\n",
    "                if nbr not in cubes:\n",
    "                    added += 1\n",
    "                    G.add_edge((x, y, z), nbr)\n"
   ]
  },
  {
   "cell_type": "code",
   "execution_count": 124,
   "metadata": {},
   "outputs": [],
   "source": [
    "# which air points can be reached from the corner?\n",
    "drop = set(nx.dfs_postorder_nodes(G, source=(0, 0, 0)))\n",
    "\n",
    "# add all air points that can't be reached and add them to the cubes, then redo part 1\n",
    "cubes = cubes.union(not_cubes - drop)"
   ]
  },
  {
   "cell_type": "code",
   "execution_count": 119,
   "metadata": {},
   "outputs": [
    {
     "name": "stdout",
     "output_type": "stream",
     "text": [
      "2106\n"
     ]
    }
   ],
   "source": [
    "sides = 0\n",
    "for cube in cubes:\n",
    "    for nbr in nbrs(cube):\n",
    "        if nbr not in cubes:\n",
    "            sides += 1\n",
    "print(sides)"
   ]
  },
  {
   "cell_type": "code",
   "execution_count": 120,
   "metadata": {},
   "outputs": [
    {
     "name": "stdout",
     "output_type": "stream",
     "text": [
      "\u001b[32mThat's the right answer!  You are one gold star closer to collecting enough star fruit.You have completed Day 18! You can [Shareon\n",
      "  Twitter\n",
      "Mastodon] this victory or [Return to Your Advent Calendar].\u001b[0m\n"
     ]
    }
   ],
   "source": [
    "puzzle.answer_b = sides"
   ]
  },
  {
   "cell_type": "code",
   "execution_count": null,
   "metadata": {},
   "outputs": [],
   "source": []
  }
 ],
 "metadata": {
  "kernelspec": {
   "display_name": "py310",
   "language": "python",
   "name": "py310"
  },
  "language_info": {
   "codemirror_mode": {
    "name": "ipython",
    "version": 3
   },
   "file_extension": ".py",
   "mimetype": "text/x-python",
   "name": "python",
   "nbconvert_exporter": "python",
   "pygments_lexer": "ipython3",
   "version": "3.10.2"
  }
 },
 "nbformat": 4,
 "nbformat_minor": 4
}
