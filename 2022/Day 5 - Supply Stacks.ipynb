{
 "cells": [
  {
   "cell_type": "code",
   "execution_count": 1,
   "metadata": {},
   "outputs": [],
   "source": [
    "import os\n",
    "os.environ['AOC_SESSION'] = '53616c7465645f5ffcf79956dda50b55c386fa5a7e36be8c8213034d3d790b08b45891a2135e3084d6b60e05055911c9f28d3be82399ac161a7a31bc50f6daf0'"
   ]
  },
  {
   "cell_type": "code",
   "execution_count": 2,
   "metadata": {},
   "outputs": [],
   "source": [
    "import aocd\n",
    "from aocd.models import Puzzle\n",
    "day = 5\n",
    "year = 2022\n",
    "puzzle = Puzzle(year=year, day=day)\n",
    "# data = aocd.get_data(day=day, year=year)\n",
    "with open('./data/input_{:02d}'.format(day), 'w') as fh:\n",
    "    fh.write(puzzle.input_data)"
   ]
  },
  {
   "cell_type": "code",
   "execution_count": 27,
   "metadata": {},
   "outputs": [],
   "source": [
    "test_data = \"\"\"    [D]    \n",
    "[N] [C]    \n",
    "[Z] [M] [P]\n",
    " 1   2   3 \n",
    "\n",
    "move 1 from 2 to 1\n",
    "move 3 from 1 to 3\n",
    "move 2 from 2 to 1\n",
    "move 1 from 1 to 2\"\"\""
   ]
  },
  {
   "cell_type": "code",
   "execution_count": 93,
   "metadata": {},
   "outputs": [
    {
     "data": {
      "text/plain": [
       "(9,\n",
       " ['    [D]    ',\n",
       "  '[N] [C]    ',\n",
       "  '[Z] [M] [P]',\n",
       "  ' 1   2   3 ',\n",
       "  '',\n",
       "  'move 1 from 2 to 1',\n",
       "  'move 3 from 1 to 3',\n",
       "  'move 2 from 2 to 1',\n",
       "  'move 1 from 1 to 2'])"
      ]
     },
     "execution_count": 93,
     "metadata": {},
     "output_type": "execute_result"
    }
   ],
   "source": [
    "data = puzzle.input_data.splitlines()\n",
    "data = test_data.splitlines()\n",
    "len(data), data[:10]"
   ]
  },
  {
   "cell_type": "code",
   "execution_count": 110,
   "metadata": {},
   "outputs": [],
   "source": [
    "stacks_, moves_ = puzzle.input_data.split('\\n\\n')\n",
    "# stacks_, moves_ = test_data.split('\\n\\n')\n"
   ]
  },
  {
   "cell_type": "code",
   "execution_count": 112,
   "metadata": {},
   "outputs": [
    {
     "data": {
      "text/plain": [
       "' 1   2   3   4   5   6   7   8   9 '"
      ]
     },
     "execution_count": 112,
     "metadata": {},
     "output_type": "execute_result"
    }
   ],
   "source": [
    "stacks_.splitlines()[-1]"
   ]
  },
  {
   "cell_type": "code",
   "execution_count": 113,
   "metadata": {},
   "outputs": [],
   "source": [
    "def parse_stacks(stacks):\n",
    "    stacks = stacks.splitlines()\n",
    "    result = []\n",
    "    for i in range(1, 10):\n",
    "        try:\n",
    "            stack = []\n",
    "            idx = (stacks[-1].index(str(i)))\n",
    "            for j in range(len(stacks)-2, -1, -1):\n",
    "                crate = stacks[j][idx]\n",
    "                if crate != ' ':\n",
    "                    stack.append(crate)\n",
    "            result.append(stack)\n",
    "        except ValueError:\n",
    "            pass\n",
    "    \n",
    "    return result\n",
    "\n",
    "def parse_moves(moves):\n",
    "    import re\n",
    "    moves = moves.splitlines()\n",
    "    result = [list(map(int, re.findall('\\d+', move))) for move in moves]\n",
    "    return result"
   ]
  },
  {
   "cell_type": "code",
   "execution_count": 114,
   "metadata": {},
   "outputs": [],
   "source": [
    "moves = parse_moves(moves_)\n",
    "stacks = parse_stacks(stacks_)"
   ]
  },
  {
   "cell_type": "code",
   "execution_count": 115,
   "metadata": {},
   "outputs": [
    {
     "data": {
      "text/plain": [
       "[['G', 'D', 'V', 'Z', 'J', 'S', 'B'],\n",
       " ['Z', 'S', 'M', 'G', 'V', 'P'],\n",
       " ['C', 'L', 'B', 'S', 'W', 'T', 'Q', 'F'],\n",
       " ['H', 'J', 'G', 'W', 'M', 'R', 'V', 'Q'],\n",
       " ['C', 'L', 'S', 'N', 'F', 'M', 'D'],\n",
       " ['R', 'G', 'C', 'D'],\n",
       " ['H', 'G', 'T', 'R', 'J', 'D', 'S', 'Q'],\n",
       " ['P', 'F', 'V'],\n",
       " ['D', 'R', 'S', 'T', 'J']]"
      ]
     },
     "execution_count": 115,
     "metadata": {},
     "output_type": "execute_result"
    }
   ],
   "source": [
    "stacks"
   ]
  },
  {
   "cell_type": "code",
   "execution_count": 116,
   "metadata": {},
   "outputs": [],
   "source": [
    "for num, src, tgt in moves:\n",
    "    for i in range(num):\n",
    "        stacks[tgt-1].append( stacks[src-1].pop() )"
   ]
  },
  {
   "cell_type": "code",
   "execution_count": 117,
   "metadata": {},
   "outputs": [
    {
     "name": "stdout",
     "output_type": "stream",
     "text": [
      "WCZTHTMPS\n"
     ]
    }
   ],
   "source": [
    "result = \"\".join([stack[-1] for stack in stacks])\n",
    "print(result)"
   ]
  },
  {
   "cell_type": "code",
   "execution_count": 109,
   "metadata": {},
   "outputs": [
    {
     "name": "stdout",
     "output_type": "stream",
     "text": [
      "\u001b[32mThat's the right answer!  You are one gold star closer to collecting enough star fruit. [Continue to Part Two]\u001b[0m\n"
     ]
    }
   ],
   "source": [
    "puzzle.answer_a = result"
   ]
  },
  {
   "cell_type": "markdown",
   "metadata": {},
   "source": [
    "# Part 2"
   ]
  },
  {
   "cell_type": "code",
   "execution_count": 118,
   "metadata": {},
   "outputs": [],
   "source": [
    "moves = parse_moves(moves_)\n",
    "stacks = parse_stacks(stacks_)"
   ]
  },
  {
   "cell_type": "code",
   "execution_count": 120,
   "metadata": {},
   "outputs": [],
   "source": [
    "for num, src, tgt in moves:\n",
    "    stacks[tgt-1].extend(stacks[src-1][-num:])\n",
    "    for i in range(num):\n",
    "        stacks[src-1].pop()\n"
   ]
  },
  {
   "cell_type": "code",
   "execution_count": 122,
   "metadata": {},
   "outputs": [
    {
     "name": "stdout",
     "output_type": "stream",
     "text": [
      "BLSGJSDTS\n"
     ]
    }
   ],
   "source": [
    "result = \"\".join([stack[-1] for stack in stacks])\n",
    "print(result)"
   ]
  },
  {
   "cell_type": "code",
   "execution_count": 123,
   "metadata": {},
   "outputs": [
    {
     "name": "stdout",
     "output_type": "stream",
     "text": [
      "\u001b[32mThat's the right answer!  You are one gold star closer to collecting enough star fruit.You have completed Day 5! You can [Shareon\n",
      "  Twitter\n",
      "Mastodon] this victory or [Return to Your Advent Calendar].\u001b[0m\n"
     ]
    }
   ],
   "source": [
    "puzzle.answer_b = result"
   ]
  },
  {
   "cell_type": "code",
   "execution_count": null,
   "metadata": {},
   "outputs": [],
   "source": []
  }
 ],
 "metadata": {
  "kernelspec": {
   "display_name": "Python 3 (ipykernel)",
   "language": "python",
   "name": "python3"
  },
  "language_info": {
   "codemirror_mode": {
    "name": "ipython",
    "version": 3
   },
   "file_extension": ".py",
   "mimetype": "text/x-python",
   "name": "python",
   "nbconvert_exporter": "python",
   "pygments_lexer": "ipython3",
   "version": "3.8.13"
  }
 },
 "nbformat": 4,
 "nbformat_minor": 4
}
