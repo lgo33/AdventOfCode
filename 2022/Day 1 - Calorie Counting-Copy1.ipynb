{
 "cells": [
  {
   "cell_type": "code",
   "execution_count": 4,
   "id": "cd063dc5-1cda-433c-9652-db117428c54d",
   "metadata": {},
   "outputs": [],
   "source": [
    "import os\n",
    "os.environ['AOC_SESSION'] = '53616c7465645f5fe5d02bc09be96b362f2faafc49789eb1fddd0d3c9cd73304d7f2b718829d737b17d7cafef95b36469e6ec27cd6778561e178a76f68f36af0'"
   ]
  },
  {
   "cell_type": "code",
   "execution_count": 5,
   "id": "242daf14-b016-4dd1-90a7-4f7cac4bd323",
   "metadata": {},
   "outputs": [],
   "source": [
    "import aocd\n",
    "from aocd.models import Puzzle\n",
    "day = 1\n",
    "year = 2022\n",
    "puzzle = Puzzle(year=year, day=day)\n",
    "# data = aocd.get_data(day=day, year=year)\n",
    "with open('./data/input_{:02d}'.format(day), 'w') as fh:\n",
    "    fh.write(puzzle.input_data)"
   ]
  },
  {
   "cell_type": "code",
   "execution_count": 6,
   "id": "1292fc7b-1b2d-4590-b9f3-6b4f83086ac2",
   "metadata": {},
   "outputs": [
    {
     "data": {
      "text/plain": [
       "['2832',\n",
       " '2108',\n",
       " '3082',\n",
       " '4328',\n",
       " '6843',\n",
       " '5121',\n",
       " '2869',\n",
       " '1366',\n",
       " '2358',\n",
       " '1680']"
      ]
     },
     "execution_count": 6,
     "metadata": {},
     "output_type": "execute_result"
    }
   ],
   "source": [
    "data = puzzle.input_data.splitlines()\n",
    "data[:10]"
   ]
  },
  {
   "cell_type": "code",
   "execution_count": 8,
   "id": "80f88738-f99b-47b0-9d2b-3ed08bc71a86",
   "metadata": {
    "tags": []
   },
   "outputs": [],
   "source": [
    "def get_elves(calories):\n",
    "    elf = 0\n",
    "    for cal in calories:\n",
    "        try:\n",
    "            elf += int(cal)\n",
    "        except ValueError:\n",
    "            yield elf\n",
    "            elf = 0"
   ]
  },
  {
   "cell_type": "code",
   "execution_count": 11,
   "id": "d05120d9-66c9-4e5d-a806-b890ea2ee067",
   "metadata": {},
   "outputs": [],
   "source": [
    "elves = list(get_elves(data))"
   ]
  },
  {
   "cell_type": "code",
   "execution_count": 14,
   "id": "cd0971f7-4839-44ce-9b63-2a7998ce2ce0",
   "metadata": {},
   "outputs": [
    {
     "data": {
      "text/plain": [
       "67622"
      ]
     },
     "execution_count": 14,
     "metadata": {},
     "output_type": "execute_result"
    }
   ],
   "source": [
    "sorted(elves)[-1]"
   ]
  },
  {
   "cell_type": "code",
   "execution_count": 15,
   "id": "7414d91b-7ed1-4b2d-9c34-410d5f3039de",
   "metadata": {},
   "outputs": [
    {
     "name": "stdout",
     "output_type": "stream",
     "text": [
      "\u001b[32mThat's the right answer!  You are one gold star closer to collecting enough star fruit. [Continue to Part Two]\u001b[0m\n"
     ]
    }
   ],
   "source": [
    "puzzle.answer_a = sorted(elves)[-1]"
   ]
  },
  {
   "cell_type": "code",
   "execution_count": 18,
   "id": "9cfc7c7c-4b07-40c5-9774-95a8e1a692dd",
   "metadata": {},
   "outputs": [
    {
     "name": "stdout",
     "output_type": "stream",
     "text": [
      "\u001b[32mThat's the right answer!  You are one gold star closer to collecting enough star fruit.You have completed Day 1! You can [Shareon\n",
      "  Twitter\n",
      "Mastodon] this victory or [Return to Your Advent Calendar].\u001b[0m\n"
     ]
    }
   ],
   "source": [
    "puzzle.answer_b = sum(sorted(elves)[-3:])"
   ]
  },
  {
   "cell_type": "code",
   "execution_count": null,
   "id": "8f24f644-7a2f-40a8-b34b-a872a030858e",
   "metadata": {},
   "outputs": [],
   "source": []
  }
 ],
 "metadata": {
  "kernelspec": {
   "display_name": "Python 3 (ipykernel)",
   "language": "python",
   "name": "python3"
  },
  "language_info": {
   "codemirror_mode": {
    "name": "ipython",
    "version": 3
   },
   "file_extension": ".py",
   "mimetype": "text/x-python",
   "name": "python",
   "nbconvert_exporter": "python",
   "pygments_lexer": "ipython3",
   "version": "3.8.12"
  }
 },
 "nbformat": 4,
 "nbformat_minor": 5
}
