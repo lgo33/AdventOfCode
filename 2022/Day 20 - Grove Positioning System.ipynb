{
 "cells": [
  {
   "cell_type": "code",
   "execution_count": 3,
   "metadata": {},
   "outputs": [],
   "source": [
    "import os\n",
    "os.environ['AOC_SESSION'] = '53616c7465645f5fe53b184f367847aa55a2617e1b05248cac098b2c3dd14dae217169b3ce2e42b10bcc2af6d9b6787a4792a557f9705bb1eba86d761f2407d2'"
   ]
  },
  {
   "cell_type": "code",
   "execution_count": 4,
   "metadata": {},
   "outputs": [],
   "source": [
    "import aocd\n",
    "from aocd.models import Puzzle\n",
    "day = 20\n",
    "year = 2022\n",
    "puzzle = Puzzle(year=year, day=day)\n",
    "# data = aocd.get_data(day=day, year=year)\n",
    "with open('./data/input_{:02d}'.format(day), 'w') as fh:\n",
    "    fh.write(puzzle.input_data)"
   ]
  },
  {
   "cell_type": "code",
   "execution_count": 7,
   "metadata": {},
   "outputs": [],
   "source": [
    "test_data = \"\"\"1\n",
    "2\n",
    "-3\n",
    "3\n",
    "-2\n",
    "0\n",
    "4\"\"\""
   ]
  },
  {
   "cell_type": "code",
   "execution_count": 8,
   "metadata": {},
   "outputs": [
    {
     "data": {
      "text/plain": [
       "(5000,\n",
       " ['5602',\n",
       "  '9939',\n",
       "  '7502',\n",
       "  '-7162',\n",
       "  '-8449',\n",
       "  '-6157',\n",
       "  '8518',\n",
       "  '-467',\n",
       "  '-1389',\n",
       "  '509'])"
      ]
     },
     "execution_count": 8,
     "metadata": {},
     "output_type": "execute_result"
    }
   ],
   "source": [
    "data = puzzle.input_data.splitlines()\n",
    "data_test = test_data.splitlines()\n",
    "len(data), data[:10]"
   ]
  },
  {
   "cell_type": "code",
   "execution_count": 9,
   "metadata": {},
   "outputs": [
    {
     "data": {
      "text/plain": [
       "['1', '2', '-3', '3', '-2', '0', '4']"
      ]
     },
     "execution_count": 9,
     "metadata": {},
     "output_type": "execute_result"
    }
   ],
   "source": [
    "data_test"
   ]
  },
  {
   "cell_type": "code",
   "execution_count": 257,
   "metadata": {},
   "outputs": [],
   "source": [
    "def mixing(numbers):\n",
    "    N = len(numbers)\n",
    "    idx = list(range(N))\n",
    "        \n",
    "    for i in range(N):\n",
    "        n = numbers[i]\n",
    "        if (n==0):\n",
    "            print('skipping')\n",
    "            continue\n",
    "        pos = idx.index(i)\n",
    "        # print(i, pos, n)\n",
    "        to = (pos + n) % (N - 1)\n",
    "            \n",
    "        if (to > pos):\n",
    "            idx = idx[:pos] + idx[pos+1:to+1] + [i] + idx[to+1:]\n",
    "        elif (pos > to):\n",
    "            # print(pos, to)\n",
    "            idx = idx[:to] + [i] + idx[to:pos] + idx[pos+1:]\n",
    "        # print(numbers[i], [numbers[i] for i in idx])\n",
    "    return idx"
   ]
  },
  {
   "cell_type": "code",
   "execution_count": 258,
   "metadata": {},
   "outputs": [
    {
     "name": "stdout",
     "output_type": "stream",
     "text": [
      "skipping\n"
     ]
    }
   ],
   "source": [
    "numbers = [0, -2, 1, 2, 8]\n",
    "idx = mixing(numbers)"
   ]
  },
  {
   "cell_type": "code",
   "execution_count": 259,
   "metadata": {
    "tags": []
   },
   "outputs": [
    {
     "name": "stdout",
     "output_type": "stream",
     "text": [
      "skipping\n"
     ]
    }
   ],
   "source": [
    "numbers = list(map(int, data))\n",
    "numbers = list(map(int, data_test))\n",
    "idx = mixing(numbers)\n",
    "# numbers"
   ]
  },
  {
   "cell_type": "code",
   "execution_count": null,
   "metadata": {},
   "outputs": [],
   "source": []
  },
  {
   "cell_type": "code",
   "execution_count": 260,
   "metadata": {
    "tags": []
   },
   "outputs": [],
   "source": [
    "mixed_numbers = [numbers[i] for i in idx]\n",
    "x = mixed_numbers.index(0)"
   ]
  },
  {
   "cell_type": "code",
   "execution_count": 261,
   "metadata": {},
   "outputs": [
    {
     "name": "stdout",
     "output_type": "stream",
     "text": [
      "skipping\n",
      "186 0\n",
      "1670\n",
      "7947\n",
      "8640\n",
      "18257\n"
     ]
    }
   ],
   "source": [
    "numbers = list(map(int, data))\n",
    "# numbers = list(map(int, data_test))\n",
    "\n",
    "idx = mixing(numbers)\n",
    "mixed_numbers = [numbers[i] for i in idx]\n",
    "\n",
    "N = len(mixed_numbers)\n",
    "x = mixed_numbers.index(0)\n",
    "print(x, mixed_numbers[x])\n",
    "\n",
    "res = 0\n",
    "for i in range(1, 4):\n",
    "    add = mixed_numbers[(x + i*1000) % N]\n",
    "    res += add\n",
    "    print(add)\n",
    "print(res)"
   ]
  },
  {
   "cell_type": "code",
   "execution_count": 262,
   "metadata": {},
   "outputs": [
    {
     "name": "stdout",
     "output_type": "stream",
     "text": [
      "\u001b[32mThat's the right answer!  You are one gold star closer to collecting enough star fruit. [Continue to Part Two]\u001b[0m\n"
     ]
    }
   ],
   "source": [
    "puzzle.answer_a = str(res)"
   ]
  },
  {
   "cell_type": "markdown",
   "metadata": {},
   "source": [
    "# Part 2"
   ]
  },
  {
   "cell_type": "code",
   "execution_count": 267,
   "metadata": {},
   "outputs": [],
   "source": [
    "def mixing_b(numbers, key=811589153, mix_times=10):\n",
    "    N = len(numbers)\n",
    "    numbers = [i*key for i in numbers]\n",
    "    idx = list(range(N))\n",
    "    \n",
    "    for j in range(mix_times):\n",
    "        for i in range(N):\n",
    "            n = numbers[i]\n",
    "            if (n==0):\n",
    "                print('skipping')\n",
    "                continue\n",
    "            pos = idx.index(i)\n",
    "            # print(i, pos, n)\n",
    "            to = (pos + n) % (N - 1)\n",
    "\n",
    "            if (to > pos):\n",
    "                idx = idx[:pos] + idx[pos+1:to+1] + [i] + idx[to+1:]\n",
    "            elif (pos > to):\n",
    "                # print(pos, to)\n",
    "                idx = idx[:to] + [i] + idx[to:pos] + idx[pos+1:]\n",
    "        # print(numbers[i], [numbers[i] for i in idx])\n",
    "    return idx, [numbers[i] for i in idx]"
   ]
  },
  {
   "cell_type": "code",
   "execution_count": 269,
   "metadata": {},
   "outputs": [
    {
     "name": "stdout",
     "output_type": "stream",
     "text": [
      "skipping\n",
      "skipping\n",
      "skipping\n",
      "skipping\n",
      "skipping\n",
      "skipping\n",
      "skipping\n",
      "skipping\n",
      "skipping\n",
      "skipping\n",
      "123 0\n",
      "-1542830979853\n",
      "-1268513846139\n",
      "6959376986975\n",
      "4148032160983\n"
     ]
    }
   ],
   "source": [
    "numbers = list(map(int, data))\n",
    "# numbers = list(map(int, data_test))\n",
    "\n",
    "idx, mixed_numbers = mixing_b(numbers)\n",
    "# mixed_numbers = [numbers[i] for i in idx]\n",
    "\n",
    "N = len(mixed_numbers)\n",
    "x = mixed_numbers.index(0)\n",
    "print(x, mixed_numbers[x])\n",
    "\n",
    "res = 0\n",
    "for i in range(1, 4):\n",
    "    add = mixed_numbers[(x + i*1000) % N]\n",
    "    res += add\n",
    "    print(add)\n",
    "print(res)"
   ]
  },
  {
   "cell_type": "code",
   "execution_count": 270,
   "metadata": {},
   "outputs": [
    {
     "name": "stdout",
     "output_type": "stream",
     "text": [
      "\u001b[32mThat's the right answer!  You are one gold star closer to collecting enough star fruit.You have completed Day 20! You can [Shareon\n",
      "  Twitter\n",
      "Mastodon] this victory or [Return to Your Advent Calendar].\u001b[0m\n"
     ]
    }
   ],
   "source": [
    "puzzle.answer_b = res"
   ]
  },
  {
   "cell_type": "code",
   "execution_count": null,
   "metadata": {},
   "outputs": [],
   "source": []
  }
 ],
 "metadata": {
  "kernelspec": {
   "display_name": "py310",
   "language": "python",
   "name": "py310"
  },
  "language_info": {
   "codemirror_mode": {
    "name": "ipython",
    "version": 3
   },
   "file_extension": ".py",
   "mimetype": "text/x-python",
   "name": "python",
   "nbconvert_exporter": "python",
   "pygments_lexer": "ipython3",
   "version": "3.10.2"
  }
 },
 "nbformat": 4,
 "nbformat_minor": 4
}
