{
 "cells": [
  {
   "cell_type": "code",
   "execution_count": 1,
   "metadata": {},
   "outputs": [],
   "source": [
    "import os\n",
    "os.environ['AOC_SESSION'] = '53616c7465645f5fe53b184f367847aa55a2617e1b05248cac098b2c3dd14dae217169b3ce2e42b10bcc2af6d9b6787a4792a557f9705bb1eba86d761f2407d2'"
   ]
  },
  {
   "cell_type": "code",
   "execution_count": 2,
   "metadata": {},
   "outputs": [],
   "source": [
    "import aocd\n",
    "from aocd.models import Puzzle\n",
    "day = 7\n",
    "year = 2022\n",
    "puzzle = Puzzle(year=year, day=day)\n",
    "# data = aocd.get_data(day=day, year=year)\n",
    "with open('./data/input_{:02d}'.format(day), 'w') as fh:\n",
    "    fh.write(puzzle.input_data)"
   ]
  },
  {
   "cell_type": "code",
   "execution_count": 43,
   "metadata": {
    "jupyter": {
     "source_hidden": true
    },
    "tags": []
   },
   "outputs": [],
   "source": [
    "test_data = \"\"\"$ cd /\n",
    "$ ls\n",
    "dir a\n",
    "14848514 b.txt\n",
    "8504156 c.dat\n",
    "dir d\n",
    "$ cd a\n",
    "$ ls\n",
    "dir e\n",
    "29116 f\n",
    "2557 g\n",
    "62596 h.lst\n",
    "$ cd e\n",
    "$ ls\n",
    "584 i\n",
    "$ cd ..\n",
    "$ cd ..\n",
    "$ cd d\n",
    "$ ls\n",
    "4060174 j\n",
    "8033020 d.log\n",
    "5626152 d.ext\n",
    "7214296 k\"\"\""
   ]
  },
  {
   "cell_type": "code",
   "execution_count": 87,
   "metadata": {},
   "outputs": [
    {
     "data": {
      "text/plain": [
       "(1014,\n",
       " ['$ cd /',\n",
       "  '$ ls',\n",
       "  'dir blgtdv',\n",
       "  'dir dbrfcz',\n",
       "  'dir fvspj',\n",
       "  'dir hbjmndt',\n",
       "  'dir hzg',\n",
       "  'dir jpjgdm',\n",
       "  'dir mtd',\n",
       "  'dir pcpf'])"
      ]
     },
     "execution_count": 87,
     "metadata": {},
     "output_type": "execute_result"
    }
   ],
   "source": [
    "data = puzzle.input_data.splitlines()\n",
    "# data = test_data.splitlines()\n",
    "len(data), data[:10]"
   ]
  },
  {
   "cell_type": "code",
   "execution_count": 88,
   "metadata": {},
   "outputs": [],
   "source": [
    "import re\n",
    "import pandas as pd\n",
    "max_size = 100000"
   ]
  },
  {
   "cell_type": "code",
   "execution_count": 89,
   "metadata": {},
   "outputs": [],
   "source": [
    "from collections import defaultdict, deque\n",
    "\n",
    "class FileSystem():\n",
    "    def __init__(self):\n",
    "        self.rec_dd = lambda: defaultdict(self.rec_dd)\n",
    "        self.tree = defaultdict(self.rec_dd)\n",
    "    \n",
    "    def traverse(self, dirs):\n",
    "        dirs = deque(dirs)\n",
    "        cd = self.tree\n",
    "        while len(dirs):\n",
    "            d = dirs.popleft()\n",
    "            cd = cd[d]\n",
    "        return cd\n",
    "    \n",
    "    def add_file(self, dirs, file, size):        \n",
    "        cd = self.traverse(dirs)\n",
    "        cd[file] = size\n",
    "    \n",
    "    def touch(self, dirs):\n",
    "        cd = self.traverse(dirs)\n",
    "        cd = defaultdict(self.rec_dd)\n",
    "    \n",
    "    @staticmethod\n",
    "    def dir_sizes(d):\n",
    "        total = 0\n",
    "        sub_dirs = []\n",
    "        for key in d:\n",
    "            if isinstance(d[key], int):\n",
    "                # print('adding', key, d[key])\n",
    "                total += d[key]\n",
    "            else:\n",
    "                sub_dirsize, directories = FileSystem.dir_sizes(d[key])\n",
    "                total += sub_dirsize\n",
    "                sub_dirs += directories\n",
    "                sub_dirs += [(key, sub_dirsize)]\n",
    "        return total, sub_dirs\n",
    "    \n",
    "    def get_dir_sizes(self):\n",
    "        return self.dir_sizes(self.tree)\n",
    "        "
   ]
  },
  {
   "cell_type": "code",
   "execution_count": 90,
   "metadata": {},
   "outputs": [],
   "source": [
    "def parse(stdout):\n",
    "    fs = FileSystem()\n",
    "    dir_stack = []\n",
    "    for line in stdout:\n",
    "        if line[0] == '$':\n",
    "            if line == '$ ls':\n",
    "                pass\n",
    "            elif line[5:] == '/':\n",
    "                dir_stack = []\n",
    "            elif line[5:] == '..':\n",
    "                dir_stack.pop()\n",
    "            else:\n",
    "                dir_stack.append(line[5:])\n",
    "        else:\n",
    "            if line.startswith('dir'):\n",
    "                fs.touch(dir_stack + line.split(' ')[1:])\n",
    "            else:\n",
    "                size, file = line.split(' ')\n",
    "                fs.add_file(dir_stack, file, int(size))\n",
    "    return fs"
   ]
  },
  {
   "cell_type": "code",
   "execution_count": 91,
   "metadata": {},
   "outputs": [],
   "source": [
    "fs = parse(data)"
   ]
  },
  {
   "cell_type": "code",
   "execution_count": 95,
   "metadata": {},
   "outputs": [
    {
     "data": {
      "text/plain": [
       "1667443"
      ]
     },
     "execution_count": 95,
     "metadata": {},
     "output_type": "execute_result"
    }
   ],
   "source": [
    "used_space, subdirs = fs.get_dir_sizes()\n",
    "df = pd.DataFrame(subdirs, columns=['dirname', 'dirsize'])\n",
    "result = df[(df.dirsize <= max_size)].dirsize.sum()\n",
    "result"
   ]
  },
  {
   "cell_type": "code",
   "execution_count": 93,
   "metadata": {},
   "outputs": [
    {
     "name": "stdout",
     "output_type": "stream",
     "text": [
      "\u001b[32mThat's the right answer!  You are one gold star closer to collecting enough star fruit. [Continue to Part Two]\u001b[0m\n"
     ]
    }
   ],
   "source": [
    "puzzle.answer_a = result"
   ]
  },
  {
   "cell_type": "markdown",
   "metadata": {},
   "source": [
    "# Part 2"
   ]
  },
  {
   "cell_type": "code",
   "execution_count": 96,
   "metadata": {},
   "outputs": [],
   "source": [
    "total_space = 70000000\n",
    "needed_space = 30000000\n",
    "free_space = total_space - used_space"
   ]
  },
  {
   "cell_type": "code",
   "execution_count": 97,
   "metadata": {},
   "outputs": [
    {
     "data": {
      "text/plain": [
       "22129546"
      ]
     },
     "execution_count": 97,
     "metadata": {},
     "output_type": "execute_result"
    }
   ],
   "source": [
    "free_space"
   ]
  },
  {
   "cell_type": "code",
   "execution_count": 108,
   "metadata": {},
   "outputs": [
    {
     "data": {
      "text/plain": [
       "8998590"
      ]
     },
     "execution_count": 108,
     "metadata": {},
     "output_type": "execute_result"
    }
   ],
   "source": [
    "resultB = df[(df.dirsize + free_space >= needed_space)].sort_values('dirsize').dirsize.iloc[0]\n",
    "resultB"
   ]
  },
  {
   "cell_type": "code",
   "execution_count": 109,
   "metadata": {},
   "outputs": [
    {
     "name": "stdout",
     "output_type": "stream",
     "text": [
      "\u001b[32mThat's the right answer!  You are one gold star closer to collecting enough star fruit.You have completed Day 7! You can [Shareon\n",
      "  Twitter\n",
      "Mastodon] this victory or [Return to Your Advent Calendar].\u001b[0m\n"
     ]
    }
   ],
   "source": [
    "puzzle.answer_b = resultB"
   ]
  },
  {
   "cell_type": "code",
   "execution_count": 110,
   "metadata": {},
   "outputs": [
    {
     "data": {
      "text/html": [
       "<div>\n",
       "<style scoped>\n",
       "    .dataframe tbody tr th:only-of-type {\n",
       "        vertical-align: middle;\n",
       "    }\n",
       "\n",
       "    .dataframe tbody tr th {\n",
       "        vertical-align: top;\n",
       "    }\n",
       "\n",
       "    .dataframe thead th {\n",
       "        text-align: right;\n",
       "    }\n",
       "</style>\n",
       "<table border=\"1\" class=\"dataframe\">\n",
       "  <thead>\n",
       "    <tr style=\"text-align: right;\">\n",
       "      <th></th>\n",
       "      <th>dirname</th>\n",
       "      <th>dirsize</th>\n",
       "    </tr>\n",
       "  </thead>\n",
       "  <tbody>\n",
       "    <tr>\n",
       "      <th>0</th>\n",
       "      <td>fvspj</td>\n",
       "      <td>327970</td>\n",
       "    </tr>\n",
       "    <tr>\n",
       "      <th>1</th>\n",
       "      <td>scggvb</td>\n",
       "      <td>29012</td>\n",
       "    </tr>\n",
       "    <tr>\n",
       "      <th>2</th>\n",
       "      <td>bjp</td>\n",
       "      <td>29012</td>\n",
       "    </tr>\n",
       "    <tr>\n",
       "      <th>3</th>\n",
       "      <td>drsgv</td>\n",
       "      <td>549918</td>\n",
       "    </tr>\n",
       "    <tr>\n",
       "      <th>4</th>\n",
       "      <td>lpv</td>\n",
       "      <td>596985</td>\n",
       "    </tr>\n",
       "    <tr>\n",
       "      <th>...</th>\n",
       "      <td>...</td>\n",
       "      <td>...</td>\n",
       "    </tr>\n",
       "    <tr>\n",
       "      <th>177</th>\n",
       "      <td>mwzt</td>\n",
       "      <td>302445</td>\n",
       "    </tr>\n",
       "    <tr>\n",
       "      <th>178</th>\n",
       "      <td>gqpfcv</td>\n",
       "      <td>302445</td>\n",
       "    </tr>\n",
       "    <tr>\n",
       "      <th>179</th>\n",
       "      <td>lpv</td>\n",
       "      <td>38004</td>\n",
       "    </tr>\n",
       "    <tr>\n",
       "      <th>180</th>\n",
       "      <td>qtgqnqh</td>\n",
       "      <td>175846</td>\n",
       "    </tr>\n",
       "    <tr>\n",
       "      <th>181</th>\n",
       "      <td>zwqgg</td>\n",
       "      <td>516295</td>\n",
       "    </tr>\n",
       "  </tbody>\n",
       "</table>\n",
       "<p>182 rows × 2 columns</p>\n",
       "</div>"
      ],
      "text/plain": [
       "     dirname  dirsize\n",
       "0      fvspj   327970\n",
       "1     scggvb    29012\n",
       "2        bjp    29012\n",
       "3      drsgv   549918\n",
       "4        lpv   596985\n",
       "..       ...      ...\n",
       "177     mwzt   302445\n",
       "178   gqpfcv   302445\n",
       "179      lpv    38004\n",
       "180  qtgqnqh   175846\n",
       "181    zwqgg   516295\n",
       "\n",
       "[182 rows x 2 columns]"
      ]
     },
     "execution_count": 110,
     "metadata": {},
     "output_type": "execute_result"
    }
   ],
   "source": [
    "df"
   ]
  },
  {
   "cell_type": "code",
   "execution_count": null,
   "metadata": {},
   "outputs": [],
   "source": []
  }
 ],
 "metadata": {
  "kernelspec": {
   "display_name": "Python 3 (ipykernel)",
   "language": "python",
   "name": "python3"
  },
  "language_info": {
   "codemirror_mode": {
    "name": "ipython",
    "version": 3
   },
   "file_extension": ".py",
   "mimetype": "text/x-python",
   "name": "python",
   "nbconvert_exporter": "python",
   "pygments_lexer": "ipython3",
   "version": "3.8.12"
  }
 },
 "nbformat": 4,
 "nbformat_minor": 4
}
