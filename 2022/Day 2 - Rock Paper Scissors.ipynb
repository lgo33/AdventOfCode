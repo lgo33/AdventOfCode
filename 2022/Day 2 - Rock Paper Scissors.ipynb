{
 "cells": [
  {
   "cell_type": "code",
   "execution_count": 21,
   "id": "cd063dc5-1cda-433c-9652-db117428c54d",
   "metadata": {},
   "outputs": [],
   "source": [
    "import os\n",
    "os.environ['AOC_SESSION'] = '53616c7465645f5fe53b184f367847aa55a2617e1b05248cac098b2c3dd14dae217169b3ce2e42b10bcc2af6d9b6787a4792a557f9705bb1eba86d761f2407d2'"
   ]
  },
  {
   "cell_type": "code",
   "execution_count": 22,
   "id": "242daf14-b016-4dd1-90a7-4f7cac4bd323",
   "metadata": {},
   "outputs": [],
   "source": [
    "import aocd\n",
    "from aocd.models import Puzzle\n",
    "day = 2\n",
    "year = 2022\n",
    "puzzle = Puzzle(year=year, day=day)\n",
    "# data = aocd.get_data(day=day, year=year)\n",
    "with open('./data/input_{:02d}'.format(day), 'w') as fh:\n",
    "    fh.write(puzzle.input_data)"
   ]
  },
  {
   "cell_type": "code",
   "execution_count": 30,
   "id": "489e9bea-c9b2-4d46-acf8-3b29494cfc47",
   "metadata": {},
   "outputs": [],
   "source": [
    "test_data = \"\"\"A Y\n",
    "B X\n",
    "C Z\"\"\""
   ]
  },
  {
   "cell_type": "code",
   "execution_count": 36,
   "id": "1292fc7b-1b2d-4590-b9f3-6b4f83086ac2",
   "metadata": {},
   "outputs": [
    {
     "data": {
      "text/plain": [
       "['A X', 'B X', 'C X', 'C Y', 'B Y', 'C Z', 'C X', 'C Y', 'C Y', 'B Y']"
      ]
     },
     "execution_count": 36,
     "metadata": {},
     "output_type": "execute_result"
    }
   ],
   "source": [
    "data = puzzle.input_data.splitlines()\n",
    "# data = test_data.splitlines()\n",
    "data[:10]"
   ]
  },
  {
   "cell_type": "markdown",
   "id": "b41a5585-4545-4ac9-b551-a8aa0bbad398",
   "metadata": {},
   "source": [
    "A for Rock, B for Paper, and C for Scissors. The second column--\" Suddenly, the Elf is called away to help with someone's tent.\n",
    "\n",
    "The second column, you reason, must be what you should play in response: X for Rock, Y for Paper, and Z for Scissors."
   ]
  },
  {
   "cell_type": "code",
   "execution_count": 37,
   "id": "8f24f644-7a2f-40a8-b34b-a872a030858e",
   "metadata": {},
   "outputs": [],
   "source": [
    "value = {'R': 1, 'P': 2, 'S': 3}\n",
    "\n",
    "winners = [('P', 'R'), ('R', 'S'), ('S', 'P')] \n",
    "\n",
    "def score(A, B):\n",
    "    if A == B:\n",
    "        return 3\n",
    "    if (A, B) in winners:\n",
    "        return 0\n",
    "    return 6\n",
    "\n",
    "def play(line):\n",
    "    A, B = line.split()\n",
    "    A = {\n",
    "        'A': 'R',\n",
    "        'B': 'P',\n",
    "        'C': 'S'\n",
    "    }[A]\n",
    "    B = {\n",
    "        'X': 'R',\n",
    "        'Y': 'P',\n",
    "        'Z': 'S'\n",
    "    }[B]\n",
    "    return score(A, B) + value[B]"
   ]
  },
  {
   "cell_type": "code",
   "execution_count": 33,
   "id": "3cd659b0-0939-4adf-af35-bab08a5d124a",
   "metadata": {},
   "outputs": [
    {
     "name": "stdout",
     "output_type": "stream",
     "text": [
      "\u001b[31mPart a already solved with different answer: 11873\u001b[0m\n"
     ]
    }
   ],
   "source": [
    "puzzle.answer_a = sum([play(line) for line in data])"
   ]
  },
  {
   "cell_type": "markdown",
   "id": "4c14a286-03e6-4f31-8675-1ec20b22f764",
   "metadata": {},
   "source": [
    "X means you need to lose, Y means you need to end the round in a draw, and Z means you need to win."
   ]
  },
  {
   "cell_type": "code",
   "execution_count": 52,
   "id": "d1fcddc6-b853-4deb-945b-373108c45c5a",
   "metadata": {},
   "outputs": [],
   "source": [
    "\n",
    "def select(A, B):\n",
    "    for C in ('R', 'P', 'S'):\n",
    "        tmp = score(A, C)\n",
    "        if tmp == 0 and B == 'X':\n",
    "            return C\n",
    "        if tmp == 3 and B == 'Y':\n",
    "            return C\n",
    "        if tmp == 6 and B == 'Z':\n",
    "            return C\n",
    "\n",
    "def play(line):\n",
    "    A, B = line.split()\n",
    "    A = {\n",
    "        'A': 'R',\n",
    "        'B': 'P',\n",
    "        'C': 'S'\n",
    "    }[A]\n",
    "    B = select(A, B)\n",
    "    # print(A, B, line)\n",
    "    return score(A, B) + value[B]"
   ]
  },
  {
   "cell_type": "code",
   "execution_count": 53,
   "id": "cf2fae42-05b1-4a3d-bd27-86ca840ff3dd",
   "metadata": {},
   "outputs": [
    {
     "data": {
      "text/plain": [
       "12014"
      ]
     },
     "execution_count": 53,
     "metadata": {},
     "output_type": "execute_result"
    }
   ],
   "source": [
    "sum([play(line) for line in data])"
   ]
  },
  {
   "cell_type": "code",
   "execution_count": 54,
   "id": "e2781c62-a1ce-47fd-9e71-5b3b3c057cb2",
   "metadata": {},
   "outputs": [
    {
     "name": "stdout",
     "output_type": "stream",
     "text": [
      "\u001b[32mThat's the right answer!  You are one gold star closer to collecting enough star fruit.You have completed Day 2! You can [Shareon\n",
      "  Twitter\n",
      "Mastodon] this victory or [Return to Your Advent Calendar].\u001b[0m\n"
     ]
    }
   ],
   "source": [
    "puzzle.answer_b = sum([play(line) for line in data])"
   ]
  },
  {
   "cell_type": "code",
   "execution_count": null,
   "id": "91ad8053-8ac2-4a54-8626-607966705065",
   "metadata": {},
   "outputs": [],
   "source": []
  }
 ],
 "metadata": {
  "kernelspec": {
   "display_name": "Python 3 (ipykernel)",
   "language": "python",
   "name": "python3"
  },
  "language_info": {
   "codemirror_mode": {
    "name": "ipython",
    "version": 3
   },
   "file_extension": ".py",
   "mimetype": "text/x-python",
   "name": "python",
   "nbconvert_exporter": "python",
   "pygments_lexer": "ipython3",
   "version": "3.8.12"
  }
 },
 "nbformat": 4,
 "nbformat_minor": 5
}
