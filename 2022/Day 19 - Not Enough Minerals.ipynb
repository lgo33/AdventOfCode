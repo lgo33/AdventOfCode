{
 "cells": [
  {
   "cell_type": "code",
   "execution_count": 58,
   "metadata": {},
   "outputs": [],
   "source": [
    "import os\n",
    "os.environ['AOC_SESSION'] = '53616c7465645f5fe53b184f367847aa55a2617e1b05248cac098b2c3dd14dae217169b3ce2e42b10bcc2af6d9b6787a4792a557f9705bb1eba86d761f2407d2'"
   ]
  },
  {
   "cell_type": "code",
   "execution_count": 2,
   "metadata": {},
   "outputs": [],
   "source": [
    "import aocd\n",
    "from aocd.models import Puzzle\n",
    "day = 19\n",
    "year = 2022\n",
    "puzzle = Puzzle(year=year, day=day)\n",
    "# data = aocd.get_data(day=day, year=year)\n",
    "with open('./data/input_{:02d}'.format(day), 'w') as fh:\n",
    "    fh.write(puzzle.input_data)"
   ]
  },
  {
   "cell_type": "code",
   "execution_count": 396,
   "metadata": {},
   "outputs": [],
   "source": [
    "from heapq import heappop, heappush\n",
    "import re\n",
    "from collections import defaultdict\n",
    "import bisect\n",
    "from functools import cache"
   ]
  },
  {
   "cell_type": "code",
   "execution_count": 4,
   "metadata": {},
   "outputs": [],
   "source": [
    "test_data = \"\"\"Blueprint 1: Each ore robot costs 4 ore. Each clay robot costs 2 ore. Each obsidian robot costs 3 ore and 14 clay. Each geode robot costs 2 ore and 7 obsidian.\n",
    "Blueprint 2: Each ore robot costs 2 ore. Each clay robot costs 3 ore. Each obsidian robot costs 3 ore and 8 clay. Each geode robot costs 3 ore and 12 obsidian.\"\"\""
   ]
  },
  {
   "cell_type": "code",
   "execution_count": 59,
   "metadata": {},
   "outputs": [
    {
     "data": {
      "text/plain": [
       "(30,\n",
       " ['Blueprint 1: Each ore robot costs 4 ore. Each clay robot costs 3 ore. Each obsidian robot costs 3 ore and 18 clay. Each geode robot costs 4 ore and 8 obsidian.',\n",
       "  'Blueprint 2: Each ore robot costs 4 ore. Each clay robot costs 4 ore. Each obsidian robot costs 2 ore and 11 clay. Each geode robot costs 2 ore and 7 obsidian.',\n",
       "  'Blueprint 3: Each ore robot costs 4 ore. Each clay robot costs 4 ore. Each obsidian robot costs 4 ore and 5 clay. Each geode robot costs 2 ore and 10 obsidian.',\n",
       "  'Blueprint 4: Each ore robot costs 3 ore. Each clay robot costs 3 ore. Each obsidian robot costs 3 ore and 8 clay. Each geode robot costs 2 ore and 12 obsidian.',\n",
       "  'Blueprint 5: Each ore robot costs 4 ore. Each clay robot costs 4 ore. Each obsidian robot costs 4 ore and 17 clay. Each geode robot costs 4 ore and 16 obsidian.',\n",
       "  'Blueprint 6: Each ore robot costs 2 ore. Each clay robot costs 4 ore. Each obsidian robot costs 4 ore and 20 clay. Each geode robot costs 4 ore and 18 obsidian.',\n",
       "  'Blueprint 7: Each ore robot costs 3 ore. Each clay robot costs 4 ore. Each obsidian robot costs 2 ore and 20 clay. Each geode robot costs 4 ore and 7 obsidian.',\n",
       "  'Blueprint 8: Each ore robot costs 3 ore. Each clay robot costs 4 ore. Each obsidian robot costs 3 ore and 6 clay. Each geode robot costs 2 ore and 10 obsidian.',\n",
       "  'Blueprint 9: Each ore robot costs 4 ore. Each clay robot costs 3 ore. Each obsidian robot costs 3 ore and 14 clay. Each geode robot costs 4 ore and 17 obsidian.',\n",
       "  'Blueprint 10: Each ore robot costs 2 ore. Each clay robot costs 4 ore. Each obsidian robot costs 3 ore and 19 clay. Each geode robot costs 4 ore and 8 obsidian.'])"
      ]
     },
     "execution_count": 59,
     "metadata": {},
     "output_type": "execute_result"
    }
   ],
   "source": [
    "data = puzzle.input_data.splitlines()\n",
    "data_test = test_data.splitlines()\n",
    "len(data), data[:10]"
   ]
  },
  {
   "cell_type": "code",
   "execution_count": 6,
   "metadata": {},
   "outputs": [],
   "source": [
    "def parse(lines):\n",
    "    result = []\n",
    "    for line in lines:\n",
    "        ans = list(map(int, re.findall('\\d+', line)))\n",
    "        result.append({\n",
    "            'index': ans[0],\n",
    "            'robots': [(ans[1], 0, 0, 0), (ans[2], 0, 0, 0), (ans[3], ans[4], 0, 0), (ans[5], 0, ans[6], 0)]\n",
    "        })\n",
    "    return result"
   ]
  },
  {
   "cell_type": "code",
   "execution_count": 7,
   "metadata": {},
   "outputs": [],
   "source": [
    "def try_blueprint(bp, max_minutes=24):\n",
    "    # prio, (minutes, geodes, ore, clay, obsidian, ore-robots, clay-robots, obsidian-robots, geode-robots)\n",
    "    cost = bp['robots']\n",
    "    max_cost = [max(i) for i in zip(*cost)]\n",
    "    print(cost, max_cost)\n",
    "    \n",
    "    start = (0, (0, (0, 0, 0, 0), (1, 0, 0, 0)), [])"
   ]
  },
  {
   "cell_type": "code",
   "execution_count": null,
   "metadata": {},
   "outputs": [],
   "source": [
    "[(4, 0, 0, 0), (2, 0, 0, 0), (3, 14, 0, 0), (2, 0, 7, 0)] [4, 14, 7, 0]"
   ]
  },
  {
   "cell_type": "code",
   "execution_count": 970,
   "metadata": {},
   "outputs": [],
   "source": [
    "def try_blueprint(bp, only_increasing=False, target=None, max_minutes=24, seen=None, always_build_best=False):\n",
    "    # prio, (minutes, geodes, ore, clay, obsidian, ore-robots, clay-robots, obsidian-robots, geode-robots)\n",
    "    # start  = ((0,0,0,0,0,-1), (0, (0, 0, 0, 0), (1, 0, 0, 0), 1), [])\n",
    "    # start2 = ((0,0,0,0,0,-1), (0, (0, 0, 0, 0), (1, 0, 0, 0), 0), [])\n",
    "    start  = (0, (0, (0, 0, 0, 0), (1, 0, 0, 0), 1), [])\n",
    "    start2 = (0, (0, (0, 0, 0, 0), (1, 0, 0, 0), 0), [])\n",
    "    cost = bp['robots']\n",
    "    max_cost = [max(i) for i in zip(*cost)]\n",
    "    print(cost, max_cost)\n",
    "    ore_cost = cost[0][0]\n",
    "    clay_cost = cost[1][0] * ore_cost\n",
    "    obs_cost = cost[2][0] * ore_cost + cost[2][1]*clay_cost\n",
    "    geo_cost = cost[3][0] * ore_cost + cost[3][2]*obs_cost\n",
    "    \n",
    "    geodes_cumsum = [sum(range(i+1)) for i in range(0, 33)]\n",
    "    \n",
    "    def score(res):\n",
    "        sc = res[0] + res[1] * cost[1][0] + res[2] * cost[2][1] * cost[1][0] + res[3] * cost[3][3] * cost[2][1] * cost[1][0]\n",
    "        return sc\n",
    "        \n",
    "    pruned = 0 \n",
    "    \n",
    "    best = 0\n",
    "    best_all = None\n",
    "    \n",
    "    def push_stack(stack, minutes, resources, robots, planned, other):\n",
    "        # Other than that I came up with a scoring function where I take \n",
    "        # the current state (items + machines * cycles remaining) and \n",
    "        # score it by converting all of them into 'equiverlant ore cost'.\n",
    "        \n",
    "        # prio = (-(resources[3] + (max_minutes-minutes) * robots[3]), tuple([-rob for rob in robots[::-1]]),  tuple([-res for res in resources[::-1]]))\n",
    "        # prio = -(resources[3] + (max_minutes-minutes) * robots[3])\n",
    "        # prio = -((max_minutes-minutes) * robots[3])\n",
    "        # prio = -resources[3] + minutes\n",
    "        \n",
    "        # prio = tuple([-minutes, -planned, -robots[3], -robots[2], -robots[1], -robots[0]])\n",
    "        # prio = -minutes\n",
    "        # prio = (resources[0] // 5) - ((max_minutes-minutes) * robots[3]) - resources[3]\n",
    "        \n",
    "        ext_res = [resources[j] + robots[j] * (max_minutes-minutes) for j in range(4)]\n",
    "        prio = -ext_res[0]*ore_cost - ext_res[1]*clay_cost - ext_res[2]*obs_cost - ext_res[3]*geo_cost\n",
    "        \n",
    "        state = (minutes, tuple(resources), tuple(robots), planned)\n",
    "        # if (minutes == 7): print(state)\n",
    "        if minutes <= max_minutes:\n",
    "            heappush(stack, (prio, state, other + [(minutes, resources, robots, planned)]))\n",
    "            # stack.append((prio, state, other + [(minutes, resources, robots)]))\n",
    "            return True\n",
    "        return False\n",
    "    \n",
    "    results = []\n",
    "    \n",
    "    if seen is None:\n",
    "        seen = defaultdict(list)\n",
    "    remove = set()\n",
    "\n",
    "    stack = [start, start2]\n",
    "    while stack:\n",
    "        prio, state, other = heappop(stack)\n",
    "        # prio, state, other = stack.pop()\n",
    "        \n",
    "        minutes, resources, robots, planned = state\n",
    "        min2build = max_minutes - minutes - 1\n",
    "        \n",
    "        lookup = (minutes, planned)\n",
    "        \n",
    "        cmp_res = resources[::-1]\n",
    "        cmp_rob = robots[::-1]\n",
    "\n",
    "        if lookup in seen:\n",
    "            start_index = bisect.bisect(seen[lookup], (cmp_res, cmp_rob))\n",
    "            # start_index = bisect.bisect(seen[lookup], cmp_rob)\n",
    "            for res, rob in seen[lookup][start_index:]:\n",
    "            # for rob in seen[lookup][start_index:]:\n",
    "                if all([res[j] >= cmp_res[j] for j in range(4)]) and all([rob[j] >= cmp_rob[j] for j in range(4)]):\n",
    "                # if all([rob[j] >= cmp_rob[j] for j in range(4)]) and (sum(rob) > sum(cmp_rob)):\n",
    "                    # print(f'pruned: {minutes} | {cmp_res} <  {res} & {cmp_rob} < {rob}')\n",
    "                    pruned += 1\n",
    "                    prune = True\n",
    "                    break\n",
    "            #     elif all([res[j] <= cmp_res[j] for j in range(4)]) and all([rob[j] <= cmp_rob[j] for j in range(4)]):\n",
    "            #         remove.add((res, rob))\n",
    "            # if remove:\n",
    "            #     seen[lookup] -= remove\n",
    "            \n",
    "        # if prune:\n",
    "        #     continue\n",
    "            \n",
    "        # if minutes < max_minutes:\n",
    "        #     bisect.insort(seen[lookup], (cmp_res, cmp_rob))\n",
    "            # bisect.insort(seen[lookup], cmp_rob)\n",
    "            \n",
    "        if len(seen[lookup]) > 100000:\n",
    "            print('!!!')\n",
    "            return results, seen, pruned\n",
    "        \n",
    "        resources = list(resources)\n",
    "        robots = list(robots)\n",
    "        minutes += 1\n",
    "        time_left = max_minutes - minutes\n",
    "        \n",
    "        max_geodes = resources[3] + (robots[3] * (time_left+1)) + geodes_cumsum[time_left]\n",
    "        \n",
    "        if max_geodes < best:\n",
    "            continue\n",
    "        \n",
    "        if minutes > max_minutes:\n",
    "            \n",
    "            if resources[3] > best:\n",
    "                best = resources[3]\n",
    "                best_all = (state, other)\n",
    "                \n",
    "            results.append((state, other))\n",
    "            if len(results) > 300000:\n",
    "                print(pruned)\n",
    "                return results, seen\n",
    "            continue\n",
    "            return results\n",
    "        \n",
    "        new_robots = [0, 0, 0, 0]\n",
    "        \n",
    "        if all([cost[planned][j] <= resources[j] for j in range(4)]):\n",
    "            resources = [resources[j] - cost[planned][j] for j in range(4)]\n",
    "            new_robots[planned] += 1\n",
    "\n",
    "            for i in range(planned if only_increasing else 0, 4):\n",
    "                \n",
    "                if (time_left <= 1) and (i<3):\n",
    "                    continue\n",
    "                \n",
    "                if (time_left <= 2) and (i<2):\n",
    "                    continue \n",
    "                    \n",
    "                if (time_left <= 3) and (i<1):\n",
    "                    continue\n",
    "                \n",
    "                if (robots[i] >= max_cost[i]) and (i<3):\n",
    "                    continue\n",
    "                \n",
    "                # if ((max_cost[i] * min2build) <= (resources[i] + (robots[i] * min2build))) and (i<3):\n",
    "                #     continue\n",
    "                    \n",
    "                # if all([resources[j] - robots[j] for j in range(4)])\n",
    "                \n",
    "                if target is not None and ((robots[i] + new_robots[i]) > target[i]) and (i<3):\n",
    "                    # print('skipping', i, robots, target)\n",
    "                    continue\n",
    "                    \n",
    "                if always_build_best:\n",
    "                    new_resources = tuple([resources[j] + robots[j] for j in range(4)])\n",
    "                    if all([cost[3][j] <= new_resources[j] for j in range(4)]) and (i<3):\n",
    "                        continue\n",
    "                    # if all([cost[2][j] <= new_resources[j] for j in range(4)]) and (i<2):\n",
    "                    #     continue\n",
    "                    \n",
    "                if (i in (0, 1)) or ((i==2) and (robots[1]>0)) or ((i==3) and (robots[2]>0)):\n",
    "                    planned = i\n",
    "                    new_resources = [resources[j] + robots[j] for j in range(4)]\n",
    "                    next_robots = [robots[j] + new_robots[j] for j in range(4)]\n",
    "                    \n",
    "                    # while not all([cost[planned][j] <= new_resources[j] for j in range(4)]) and (minutes<max_minutes):\n",
    "                    #     minutes += 1\n",
    "                    #     new_resources = [new_resources[j] + next_robots[j] for j in range(4)]\n",
    "                        \n",
    "                    push_stack(\n",
    "                        stack,\n",
    "                        minutes, \n",
    "                        new_resources, \n",
    "                        next_robots,\n",
    "                        planned,\n",
    "                        other\n",
    "                    )\n",
    "            \n",
    "                    \n",
    "        if not any(new_robots):\n",
    "            # do nothing\n",
    "            new_resources = [resources[j] + robots[j] for j in range(4)] \n",
    "            \n",
    "            # while (not all([cost[planned][j] <= new_resources[j] for j in range(4)])) and (minutes<max_minutes):\n",
    "            #     minutes += 1\n",
    "            #     new_resources = [new_resources[j] + robots[j] for j in range(4)]\n",
    "                \n",
    "            push_stack(\n",
    "                stack, \n",
    "                minutes, \n",
    "                new_resources, \n",
    "                robots, \n",
    "                planned, \n",
    "                other\n",
    "            )\n",
    "            \n",
    "        if len(stack) > 1e5:\n",
    "            print('abort')\n",
    "            return results, stack, seen, pruned\n",
    "    print('pruned: ', pruned)    \n",
    "    return results, seen\n",
    "    "
   ]
  },
  {
   "cell_type": "code",
   "execution_count": 971,
   "metadata": {},
   "outputs": [],
   "source": [
    "# blueprints = parse(data)\n",
    "blueprints = parse(data_test)"
   ]
  },
  {
   "cell_type": "code",
   "execution_count": 984,
   "metadata": {
    "tags": []
   },
   "outputs": [
    {
     "name": "stdout",
     "output_type": "stream",
     "text": [
      "[(2, 0, 0, 0), (3, 0, 0, 0), (3, 8, 0, 0), (3, 0, 12, 0)] [3, 8, 12, 0]\n",
      "pruned:  0\n",
      "CPU times: user 996 ms, sys: 115 µs, total: 997 ms\n",
      "Wall time: 995 ms\n"
     ]
    }
   ],
   "source": [
    "%%time\n",
    "res, seen = try_blueprint(blueprints[1], always_build_best=False)"
   ]
  },
  {
   "cell_type": "code",
   "execution_count": 985,
   "metadata": {
    "tags": []
   },
   "outputs": [
    {
     "data": {
      "text/plain": [
       "688"
      ]
     },
     "execution_count": 985,
     "metadata": {},
     "output_type": "execute_result"
    }
   ],
   "source": [
    "len(res)"
   ]
  },
  {
   "cell_type": "code",
   "execution_count": 986,
   "metadata": {
    "tags": []
   },
   "outputs": [
    {
     "data": {
      "text/plain": [
       "12"
      ]
     },
     "execution_count": 986,
     "metadata": {},
     "output_type": "execute_result"
    }
   ],
   "source": [
    "# res = res[0]\n",
    "max([r[0][1][3] for r in res])"
   ]
  },
  {
   "cell_type": "code",
   "execution_count": 405,
   "metadata": {},
   "outputs": [
    {
     "data": {
      "text/plain": [
       "6"
      ]
     },
     "execution_count": 405,
     "metadata": {},
     "output_type": "execute_result"
    }
   ],
   "source": [
    "24-17-1"
   ]
  },
  {
   "cell_type": "code",
   "execution_count": 377,
   "metadata": {},
   "outputs": [
    {
     "data": {
      "text/plain": [
       "[(0, 0, 0, 1)]"
      ]
     },
     "execution_count": 377,
     "metadata": {},
     "output_type": "execute_result"
    }
   ],
   "source": [
    "seen[(0, 0)]"
   ]
  },
  {
   "cell_type": "code",
   "execution_count": 481,
   "metadata": {
    "tags": []
   },
   "outputs": [
    {
     "data": {
      "text/plain": [
       "((24, (4, 46, 8, 9), (1, 5, 2, 2), (24, 74, 22, 9), 0),\n",
       " [(1, [1, 0, 0, 0], [1, 0, 0, 0], 1),\n",
       "  (2, [2, 0, 0, 0], [1, 0, 0, 0], 1),\n",
       "  (3, [1, 0, 0, 0], [1, 1, 0, 0], 1),\n",
       "  (4, [2, 1, 0, 0], [1, 1, 0, 0], 1),\n",
       "  (5, [1, 2, 0, 0], [1, 2, 0, 0], 1),\n",
       "  (6, [2, 4, 0, 0], [1, 2, 0, 0], 1),\n",
       "  (7, [1, 6, 0, 0], [1, 3, 0, 0], 2),\n",
       "  (8, [2, 9, 0, 0], [1, 3, 0, 0], 2),\n",
       "  (9, [3, 12, 0, 0], [1, 3, 0, 0], 2),\n",
       "  (10, [4, 15, 0, 0], [1, 3, 0, 0], 2),\n",
       "  (11, [2, 4, 0, 0], [1, 3, 1, 0], 1),\n",
       "  (12, [1, 7, 1, 0], [1, 4, 1, 0], 2),\n",
       "  (13, [2, 11, 2, 0], [1, 4, 1, 0], 2),\n",
       "  (14, [3, 15, 3, 0], [1, 4, 1, 0], 2),\n",
       "  (15, [1, 5, 4, 0], [1, 4, 2, 0], 3),\n",
       "  (16, [2, 9, 6, 0], [1, 4, 2, 0], 3),\n",
       "  (17, [3, 13, 8, 0], [1, 4, 2, 0], 3),\n",
       "  (18, [2, 17, 3, 0], [1, 4, 2, 1], 1),\n",
       "  (19, [1, 21, 5, 1], [1, 5, 2, 1], 3),\n",
       "  (20, [2, 26, 7, 2], [1, 5, 2, 1], 3),\n",
       "  (21, [1, 31, 2, 3], [1, 5, 2, 2], 0),\n",
       "  (22, [2, 36, 4, 5], [1, 5, 2, 2], 0),\n",
       "  (23, [3, 41, 6, 7], [1, 5, 2, 2], 0),\n",
       "  (24, [4, 46, 8, 9], [1, 5, 2, 2], 0)])"
      ]
     },
     "execution_count": 481,
     "metadata": {},
     "output_type": "execute_result"
    }
   ],
   "source": [
    "for r in res:\n",
    "    if r[0][1][3] == 9:\n",
    "        x = r\n",
    "        # print(x)\n",
    "x"
   ]
  },
  {
   "cell_type": "code",
   "execution_count": 156,
   "metadata": {},
   "outputs": [
    {
     "data": {
      "text/plain": [
       "0"
      ]
     },
     "execution_count": 156,
     "metadata": {},
     "output_type": "execute_result"
    }
   ],
   "source": [
    "results, stack, seen, pruned = res\n",
    "pruned"
   ]
  },
  {
   "cell_type": "code",
   "execution_count": 170,
   "metadata": {},
   "outputs": [],
   "source": [
    "resources = [2, 9, 3, 0]\n",
    "robots = [2, 3, 1, 0]\n",
    "cmp_res = resources[::-1]\n",
    "cmp_rob = robots[::-1]\n",
    "lookup = (14, 3)\n",
    "\n",
    "if lookup in seen:\n",
    "    start_index = bisect.bisect(seen[lookup], (cmp_res, cmp_rob))\n",
    "    for res, rob in seen[lookup][start_index:]:\n",
    "        if all([res[j] >= cmp_res[j] for j in range(4)]) and all([rob[j] >= cmp_rob[j] for j in range(4)]):\n",
    "            print(res, rob)"
   ]
  },
  {
   "cell_type": "code",
   "execution_count": 175,
   "metadata": {
    "collapsed": true,
    "jupyter": {
     "outputs_hidden": true
    },
    "tags": []
   },
   "outputs": [
    {
     "data": {
      "text/plain": [
       "[((0, 0, 8, 3), (0, 1, 3, 3)),\n",
       " ((0, 0, 9, 3), (0, 1, 3, 2)),\n",
       " ((0, 0, 10, 1), (0, 1, 3, 1)),\n",
       " ((0, 0, 10, 3), (0, 1, 4, 3)),\n",
       " ((0, 0, 11, 3), (0, 1, 4, 2)),\n",
       " ((0, 0, 11, 3), (0, 1, 5, 3)),\n",
       " ((0, 0, 15, 3), (0, 1, 5, 3)),\n",
       " ((0, 0, 16, 3), (0, 0, 4, 3)),\n",
       " ((0, 0, 16, 3), (0, 1, 5, 2)),\n",
       " ((0, 0, 17, 3), (0, 0, 3, 4)),\n",
       " ((0, 0, 17, 3), (0, 0, 4, 2)),\n",
       " ((0, 0, 18, 1), (0, 0, 4, 1)),\n",
       " ((0, 0, 18, 3), (0, 0, 3, 2)),\n",
       " ((0, 1, 6, 3), (0, 2, 4, 3)),\n",
       " ((0, 1, 7, 3), (0, 1, 3, 3)),\n",
       " ((0, 1, 7, 3), (0, 2, 5, 3)),\n",
       " ((0, 1, 9, 3), (0, 1, 4, 3)),\n",
       " ((0, 1, 10, 3), (0, 1, 5, 3)),\n",
       " ((0, 1, 14, 3), (0, 1, 5, 3)),\n",
       " ((0, 2, 4, 3), (0, 2, 4, 2)),\n",
       " ((0, 2, 6, 3), (0, 2, 4, 2)),\n",
       " ((0, 2, 6, 3), (0, 2, 5, 3)),\n",
       " ((0, 2, 7, 1), (0, 1, 3, 1)),\n",
       " ((0, 2, 7, 3), (0, 1, 2, 2)),\n",
       " ((0, 2, 7, 3), (0, 1, 2, 4)),\n",
       " ((0, 2, 7, 3), (0, 1, 3, 2)),\n",
       " ((0, 2, 7, 3), (0, 1, 4, 2)),\n",
       " ((0, 2, 9, 3), (0, 1, 3, 4)),\n",
       " ((0, 2, 9, 3), (0, 1, 4, 2)),\n",
       " ((0, 2, 12, 3), (0, 1, 5, 2)),\n",
       " ((0, 2, 14, 3), (0, 1, 4, 4)),\n",
       " ((0, 2, 14, 3), (0, 1, 5, 2))]"
      ]
     },
     "execution_count": 175,
     "metadata": {},
     "output_type": "execute_result"
    }
   ],
   "source": [
    "seen[(13,1)]"
   ]
  },
  {
   "cell_type": "code",
   "execution_count": 987,
   "metadata": {
    "tags": []
   },
   "outputs": [
    {
     "name": "stdout",
     "output_type": "stream",
     "text": [
      "trying  1\n",
      "[(4, 0, 0, 0), (3, 0, 0, 0), (3, 18, 0, 0), (4, 0, 8, 0)] [4, 18, 8, 0]\n",
      "pruned:  0\n",
      "#  176\n",
      "Max geodes: 2\n",
      "trying  2\n",
      "[(4, 0, 0, 0), (4, 0, 0, 0), (2, 11, 0, 0), (2, 0, 7, 0)] [4, 11, 7, 0]\n",
      "pruned:  0\n",
      "#  771\n",
      "Max geodes: 3\n",
      "trying  3\n",
      "[(4, 0, 0, 0), (4, 0, 0, 0), (4, 5, 0, 0), (2, 0, 10, 0)] [4, 5, 10, 0]\n",
      "pruned:  0\n",
      "#  1142\n",
      "Max geodes: 5\n",
      "trying  4\n",
      "[(3, 0, 0, 0), (3, 0, 0, 0), (3, 8, 0, 0), (2, 0, 12, 0)] [3, 8, 12, 0]\n",
      "pruned:  0\n",
      "#  1309\n",
      "Max geodes: 7\n",
      "trying  5\n",
      "[(4, 0, 0, 0), (4, 0, 0, 0), (4, 17, 0, 0), (4, 0, 16, 0)] [4, 17, 16, 0]\n",
      "pruned:  0\n",
      "#  4605\n",
      "Max geodes: 0\n",
      "trying  6\n",
      "[(2, 0, 0, 0), (4, 0, 0, 0), (4, 20, 0, 0), (4, 0, 18, 0)] [4, 20, 18, 0]\n",
      "pruned:  0\n",
      "#  27853\n",
      "Max geodes: 0\n",
      "trying  7\n",
      "[(3, 0, 0, 0), (4, 0, 0, 0), (2, 20, 0, 0), (4, 0, 7, 0)] [4, 20, 7, 0]\n",
      "pruned:  0\n",
      "#  2865\n",
      "Max geodes: 2\n",
      "trying  8\n",
      "[(3, 0, 0, 0), (4, 0, 0, 0), (3, 6, 0, 0), (2, 0, 10, 0)] [4, 6, 10, 0]\n",
      "pruned:  0\n",
      "#  1320\n",
      "Max geodes: 9\n",
      "trying  9\n",
      "[(4, 0, 0, 0), (3, 0, 0, 0), (3, 14, 0, 0), (4, 0, 17, 0)] [4, 14, 17, 0]\n",
      "pruned:  0\n",
      "#  32401\n",
      "Max geodes: 0\n",
      "trying  10\n",
      "[(2, 0, 0, 0), (4, 0, 0, 0), (3, 19, 0, 0), (4, 0, 8, 0)] [4, 19, 8, 0]\n",
      "pruned:  0\n",
      "#  864\n",
      "Max geodes: 4\n",
      "trying  11\n",
      "[(4, 0, 0, 0), (3, 0, 0, 0), (2, 13, 0, 0), (2, 0, 10, 0)] [4, 13, 10, 0]\n",
      "pruned:  0\n",
      "#  152\n",
      "Max geodes: 3\n",
      "trying  12\n",
      "[(2, 0, 0, 0), (2, 0, 0, 0), (2, 20, 0, 0), (2, 0, 14, 0)] [2, 20, 14, 0]\n",
      "pruned:  0\n",
      "#  2867\n",
      "Max geodes: 3\n",
      "trying  13\n",
      "[(2, 0, 0, 0), (4, 0, 0, 0), (4, 18, 0, 0), (2, 0, 11, 0)] [4, 18, 11, 0]\n",
      "pruned:  0\n",
      "#  8214\n",
      "Max geodes: 2\n",
      "trying  14\n",
      "[(4, 0, 0, 0), (3, 0, 0, 0), (3, 11, 0, 0), (4, 0, 7, 0)] [4, 11, 7, 0]\n",
      "pruned:  0\n",
      "#  265\n",
      "Max geodes: 6\n",
      "trying  15\n",
      "[(2, 0, 0, 0), (4, 0, 0, 0), (4, 17, 0, 0), (3, 0, 11, 0)] [4, 17, 11, 0]\n",
      "pruned:  0\n",
      "#  8425\n",
      "Max geodes: 3\n",
      "trying  16\n",
      "[(4, 0, 0, 0), (3, 0, 0, 0), (3, 20, 0, 0), (2, 0, 19, 0)] [4, 20, 19, 0]\n",
      "pruned:  0\n",
      "#  14609\n",
      "Max geodes: 0\n",
      "trying  17\n",
      "[(3, 0, 0, 0), (4, 0, 0, 0), (3, 18, 0, 0), (4, 0, 19, 0)] [4, 18, 19, 0]\n",
      "pruned:  0\n",
      "#  15243\n",
      "Max geodes: 0\n",
      "trying  18\n",
      "[(2, 0, 0, 0), (2, 0, 0, 0), (2, 10, 0, 0), (2, 0, 11, 0)] [2, 10, 11, 0]\n",
      "pruned:  0\n",
      "#  676\n",
      "Max geodes: 14\n",
      "trying  19\n",
      "[(4, 0, 0, 0), (4, 0, 0, 0), (2, 18, 0, 0), (4, 0, 20, 0)] [4, 18, 20, 0]\n",
      "pruned:  0\n",
      "#  4621\n",
      "Max geodes: 0\n",
      "trying  20\n",
      "[(4, 0, 0, 0), (4, 0, 0, 0), (2, 9, 0, 0), (3, 0, 15, 0)] [4, 9, 15, 0]\n",
      "pruned:  0\n",
      "#  5350\n",
      "Max geodes: 1\n",
      "trying  21\n",
      "[(3, 0, 0, 0), (4, 0, 0, 0), (4, 20, 0, 0), (4, 0, 16, 0)] [4, 20, 16, 0]\n",
      "pruned:  0\n",
      "#  11060\n",
      "Max geodes: 0\n",
      "trying  22\n",
      "[(4, 0, 0, 0), (3, 0, 0, 0), (3, 7, 0, 0), (2, 0, 7, 0)] [4, 7, 7, 0]\n",
      "pruned:  0\n",
      "#  91\n",
      "Max geodes: 13\n",
      "trying  23\n",
      "[(4, 0, 0, 0), (4, 0, 0, 0), (4, 20, 0, 0), (2, 0, 8, 0)] [4, 20, 8, 0]\n",
      "pruned:  0\n",
      "#  3260\n",
      "Max geodes: 0\n",
      "trying  24\n",
      "[(3, 0, 0, 0), (3, 0, 0, 0), (3, 19, 0, 0), (3, 0, 19, 0)] [3, 19, 19, 0]\n",
      "pruned:  0\n",
      "#  11561\n",
      "Max geodes: 0\n",
      "trying  25\n",
      "[(3, 0, 0, 0), (3, 0, 0, 0), (3, 9, 0, 0), (3, 0, 7, 0)] [3, 9, 7, 0]\n",
      "pruned:  0\n",
      "#  602\n",
      "Max geodes: 12\n",
      "trying  26\n",
      "[(4, 0, 0, 0), (4, 0, 0, 0), (3, 14, 0, 0), (4, 0, 15, 0)] [4, 14, 15, 0]\n",
      "pruned:  0\n",
      "#  7617\n",
      "Max geodes: 0\n",
      "trying  27\n",
      "[(3, 0, 0, 0), (3, 0, 0, 0), (2, 16, 0, 0), (3, 0, 14, 0)] [3, 16, 14, 0]\n",
      "pruned:  0\n",
      "#  10126\n",
      "Max geodes: 1\n",
      "trying  28\n",
      "[(3, 0, 0, 0), (3, 0, 0, 0), (2, 20, 0, 0), (2, 0, 20, 0)] [3, 20, 20, 0]\n",
      "pruned:  0\n",
      "#  11093\n",
      "Max geodes: 0\n",
      "trying  29\n",
      "[(3, 0, 0, 0), (3, 0, 0, 0), (4, 19, 0, 0), (4, 0, 7, 0)] [4, 19, 7, 0]\n",
      "pruned:  0\n",
      "#  2637\n",
      "Max geodes: 3\n",
      "trying  30\n",
      "[(3, 0, 0, 0), (3, 0, 0, 0), (3, 11, 0, 0), (2, 0, 8, 0)] [3, 11, 8, 0]\n",
      "pruned:  0\n",
      "#  1258\n",
      "Max geodes: 8\n",
      "1613\n",
      "CPU times: user 20.2 s, sys: 36 ms, total: 20.2 s\n",
      "Wall time: 20.2 s\n"
     ]
    }
   ],
   "source": [
    "%%time\n",
    "blueprints = parse(data)\n",
    "ans = 0\n",
    "for bp in blueprints:\n",
    "    print('trying ', bp['index'])\n",
    "    res, _ = try_blueprint(bp, always_build_best=False)    \n",
    "    print('# ', len(res))\n",
    "    ngeodes = max([r[0][1][3] for r in res])\n",
    "    print(f\"Max geodes: {ngeodes}\")\n",
    "    ans += bp['index'] * ngeodes\n",
    "print(ans)"
   ]
  },
  {
   "cell_type": "code",
   "execution_count": 988,
   "metadata": {
    "tags": []
   },
   "outputs": [
    {
     "data": {
      "text/plain": [
       "1613"
      ]
     },
     "execution_count": 988,
     "metadata": {},
     "output_type": "execute_result"
    }
   ],
   "source": [
    "# 1588\n",
    "ans"
   ]
  },
  {
   "cell_type": "code",
   "execution_count": 489,
   "metadata": {},
   "outputs": [
    {
     "name": "stdout",
     "output_type": "stream",
     "text": [
      "\u001b[32mThat's the right answer!  You are one gold star closer to collecting enough star fruit. [Continue to Part Two]\u001b[0m\n"
     ]
    }
   ],
   "source": [
    "puzzle.answer_a = ans"
   ]
  },
  {
   "cell_type": "markdown",
   "metadata": {},
   "source": [
    "# Part 2"
   ]
  },
  {
   "cell_type": "code",
   "execution_count": 989,
   "metadata": {},
   "outputs": [
    {
     "name": "stdout",
     "output_type": "stream",
     "text": [
      "[(4, 0, 0, 0), (2, 0, 0, 0), (3, 14, 0, 0), (2, 0, 7, 0)] [4, 14, 7, 0]\n",
      "pruned:  0\n",
      "CPU times: user 15.4 s, sys: 31.3 ms, total: 15.5 s\n",
      "Wall time: 15.5 s\n"
     ]
    }
   ],
   "source": [
    "%%time\n",
    "blueprints = parse(data_test)\n",
    "res, seen = try_blueprint(blueprints[0], max_minutes=32, always_build_best=False)"
   ]
  },
  {
   "cell_type": "code",
   "execution_count": 990,
   "metadata": {},
   "outputs": [
    {
     "data": {
      "text/plain": [
       "56"
      ]
     },
     "execution_count": 990,
     "metadata": {},
     "output_type": "execute_result"
    }
   ],
   "source": [
    "max([r[0][1][3] for r in res])"
   ]
  },
  {
   "cell_type": "code",
   "execution_count": 751,
   "metadata": {},
   "outputs": [
    {
     "data": {
      "text/plain": [
       "30001"
      ]
     },
     "execution_count": 751,
     "metadata": {},
     "output_type": "execute_result"
    }
   ],
   "source": [
    "len(res)"
   ]
  },
  {
   "cell_type": "code",
   "execution_count": 991,
   "metadata": {},
   "outputs": [
    {
     "name": "stdout",
     "output_type": "stream",
     "text": [
      "trying  1\n",
      "[(4, 0, 0, 0), (3, 0, 0, 0), (3, 18, 0, 0), (4, 0, 8, 0)] [4, 18, 8, 0]\n",
      "pruned:  0\n",
      "#  1920\n",
      "Max geodes: 28\n",
      "trying  2\n",
      "[(4, 0, 0, 0), (4, 0, 0, 0), (2, 11, 0, 0), (2, 0, 7, 0)] [4, 11, 7, 0]\n",
      "pruned:  0\n",
      "#  747\n",
      "Max geodes: 38\n",
      "trying  3\n",
      "[(4, 0, 0, 0), (4, 0, 0, 0), (4, 5, 0, 0), (2, 0, 10, 0)] [4, 5, 10, 0]\n",
      "pruned:  0\n",
      "#  318\n",
      "Max geodes: 44\n",
      "46816\n",
      "CPU times: user 16.3 s, sys: 28.2 ms, total: 16.3 s\n",
      "Wall time: 16.3 s\n"
     ]
    }
   ],
   "source": [
    "%%time\n",
    "blueprints = parse(data)\n",
    "ans = 1\n",
    "for bp in blueprints[:3]:\n",
    "    print('trying ', bp['index'])\n",
    "    res, _ = try_blueprint(bp, max_minutes=32, always_build_best=True)    \n",
    "    print('# ', len(res))\n",
    "    ngeodes = max([r[0][1][3] for r in res])\n",
    "    print(f\"Max geodes: {ngeodes}\")\n",
    "    ans *= ngeodes\n",
    "print(ans)"
   ]
  },
  {
   "cell_type": "code",
   "execution_count": 992,
   "metadata": {},
   "outputs": [
    {
     "name": "stdout",
     "output_type": "stream",
     "text": [
      "46816\n"
     ]
    }
   ],
   "source": [
    "print(ans)"
   ]
  },
  {
   "cell_type": "code",
   "execution_count": 993,
   "metadata": {},
   "outputs": [
    {
     "name": "stdout",
     "output_type": "stream",
     "text": [
      "\u001b[32mThat's the right answer!  You are one gold star closer to collecting enough star fruit.You have completed Day 19! You can [Shareon\n",
      "  Twitter\n",
      "Mastodon] this victory or [Return to Your Advent Calendar].\u001b[0m\n"
     ]
    }
   ],
   "source": [
    "puzzle.answer_b = ans"
   ]
  },
  {
   "cell_type": "code",
   "execution_count": 994,
   "metadata": {},
   "outputs": [
    {
     "name": "stdout",
     "output_type": "stream",
     "text": [
      "1613 42328\n",
      "CPU times: user 15.2 s, sys: 44.5 ms, total: 15.3 s\n",
      "Wall time: 15.1 s\n"
     ]
    }
   ],
   "source": [
    "%%time\n",
    "# solution from here: https://www.reddit.com/r/adventofcode/comments/zpihwi/comment/j0tvzgz/?utm_source=share&utm_medium=web2x&context=3\n",
    "\n",
    "import re, numpy\n",
    "\n",
    "V = lambda *a: numpy.array(a)\n",
    "key = lambda a: tuple(a[0]+a[1]) + tuple(a[1])\n",
    "prune = lambda x: sorted({key(x):x for x in x}.values(), key=key)[-1000:]\n",
    "\n",
    "def parse(line):\n",
    "    i,a,b,c,d,e,f = map(int, re.findall(r'\\d+',line))\n",
    "    return (i, (V(0,0,0,a), V(0,0,0,1)),    # Cost and production\n",
    "               (V(0,0,0,b), V(0,0,1,0)),    # of each robot type,\n",
    "               (V(0,0,d,c), V(0,1,0,0)),    # in the order geode,\n",
    "               (V(0,f,0,e), V(1,0,0,0)),    # obs, clay, and ore.\n",
    "               (V(0,0,0,0), V(0,0,0,0)))    # Construct no robot.\n",
    "\n",
    "def run(blueprint, t):\n",
    "    todo = [(V(0,0,0,0), V(0,0,0,1))]       # What we have and make.\n",
    "    for t_ in range(t,0,-1):\n",
    "        todo_ = list()                      # Queue for the next minute.\n",
    "        for have, make in todo:\n",
    "            for cost, more in blueprint:\n",
    "                if all(cost <= have):       # We can afford this robot.\n",
    "                    todo_.append((have+make-cost, make+more))\n",
    "        todo = prune(todo_)                 # Prune the search queue.\n",
    "    return max(have[0] for have, _ in todo)\n",
    "\n",
    "part1, part2 = 0, 1\n",
    "for i, *blueprint in map(parse, open('./data/input_19')):\n",
    "    part1 += run(blueprint, 24) * i\n",
    "    part2 *= run(blueprint, 32) if i<4 else 1\n",
    "\n",
    "print(part1, part2)"
   ]
  },
  {
   "cell_type": "code",
   "execution_count": null,
   "metadata": {},
   "outputs": [],
   "source": []
  }
 ],
 "metadata": {
  "kernelspec": {
   "display_name": "py310",
   "language": "python",
   "name": "py310"
  },
  "language_info": {
   "codemirror_mode": {
    "name": "ipython",
    "version": 3
   },
   "file_extension": ".py",
   "mimetype": "text/x-python",
   "name": "python",
   "nbconvert_exporter": "python",
   "pygments_lexer": "ipython3",
   "version": "3.10.2"
  }
 },
 "nbformat": 4,
 "nbformat_minor": 4
}
