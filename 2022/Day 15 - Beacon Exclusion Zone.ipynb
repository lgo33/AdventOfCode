{
 "cells": [
  {
   "cell_type": "code",
   "execution_count": 1,
   "metadata": {},
   "outputs": [],
   "source": [
    "import os\n",
    "os.environ['AOC_SESSION'] = '53616c7465645f5fe53b184f367847aa55a2617e1b05248cac098b2c3dd14dae217169b3ce2e42b10bcc2af6d9b6787a4792a557f9705bb1eba86d761f2407d2'"
   ]
  },
  {
   "cell_type": "code",
   "execution_count": 2,
   "metadata": {},
   "outputs": [],
   "source": [
    "import aocd\n",
    "from aocd.models import Puzzle\n",
    "day = 15\n",
    "year = 2022\n",
    "puzzle = Puzzle(year=year, day=day)\n",
    "# data = aocd.get_data(day=day, year=year)\n",
    "with open('./data/input_{:02d}'.format(day), 'w') as fh:\n",
    "    fh.write(puzzle.input_data)"
   ]
  },
  {
   "cell_type": "code",
   "execution_count": 3,
   "metadata": {},
   "outputs": [],
   "source": [
    "import re\n",
    "import matplotlib.pyplot as plt"
   ]
  },
  {
   "cell_type": "code",
   "execution_count": 4,
   "metadata": {},
   "outputs": [],
   "source": [
    "test_data = \"\"\"Sensor at x=2, y=18: closest beacon is at x=-2, y=15\n",
    "Sensor at x=9, y=16: closest beacon is at x=10, y=16\n",
    "Sensor at x=13, y=2: closest beacon is at x=15, y=3\n",
    "Sensor at x=12, y=14: closest beacon is at x=10, y=16\n",
    "Sensor at x=10, y=20: closest beacon is at x=10, y=16\n",
    "Sensor at x=14, y=17: closest beacon is at x=10, y=16\n",
    "Sensor at x=8, y=7: closest beacon is at x=2, y=10\n",
    "Sensor at x=2, y=0: closest beacon is at x=2, y=10\n",
    "Sensor at x=0, y=11: closest beacon is at x=2, y=10\n",
    "Sensor at x=20, y=14: closest beacon is at x=25, y=17\n",
    "Sensor at x=17, y=20: closest beacon is at x=21, y=22\n",
    "Sensor at x=16, y=7: closest beacon is at x=15, y=3\n",
    "Sensor at x=14, y=3: closest beacon is at x=15, y=3\n",
    "Sensor at x=20, y=1: closest beacon is at x=15, y=3\"\"\""
   ]
  },
  {
   "cell_type": "code",
   "execution_count": 5,
   "metadata": {},
   "outputs": [
    {
     "data": {
      "text/plain": [
       "(31,\n",
       " ['Sensor at x=3859432, y=2304903: closest beacon is at x=3677247, y=3140958',\n",
       "  'Sensor at x=2488890, y=2695345: closest beacon is at x=1934788, y=2667279',\n",
       "  'Sensor at x=3901948, y=701878: closest beacon is at x=4095477, y=368031',\n",
       "  'Sensor at x=2422190, y=1775708: closest beacon is at x=1765036, y=2000000',\n",
       "  'Sensor at x=2703846, y=3282799: closest beacon is at x=2121069, y=3230302',\n",
       "  'Sensor at x=172003, y=2579074: closest beacon is at x=-77667, y=3197309',\n",
       "  'Sensor at x=1813149, y=1311283: closest beacon is at x=1765036, y=2000000',\n",
       "  'Sensor at x=1704453, y=2468117: closest beacon is at x=1934788, y=2667279',\n",
       "  'Sensor at x=1927725, y=2976002: closest beacon is at x=1934788, y=2667279',\n",
       "  'Sensor at x=3176646, y=1254463: closest beacon is at x=2946873, y=2167634'])"
      ]
     },
     "execution_count": 5,
     "metadata": {},
     "output_type": "execute_result"
    }
   ],
   "source": [
    "data = puzzle.input_data.splitlines()\n",
    "# data = test_data.splitlines()\n",
    "len(data), data[:10]"
   ]
  },
  {
   "cell_type": "code",
   "execution_count": 6,
   "metadata": {},
   "outputs": [],
   "source": [
    "def dist(pos1, pos2):\n",
    "    return int(abs(pos2.real - pos1.real) + abs(pos2.imag - pos1.imag))\n",
    "\n",
    "def parse(data):\n",
    "    sensors = []\n",
    "    beacons = []\n",
    "    for line in data:\n",
    "        x1, y1, x2, y2 = re.findall('[-\\d]+', line)\n",
    "        sensors.append(int(x1) + int(y1)* 1j)\n",
    "        beacons.append(int(x2)+ int(y2)*1j)\n",
    "    return sensors, beacons\n",
    "\n",
    "def intersect(row, sensor, dist):\n",
    "    row_dist = abs(sensor.imag - row)\n",
    "    if row_dist > dist:\n",
    "        return []\n",
    "    delta = dist - row_dist\n",
    "    return [int(sensor.real - delta), int(sensor.real + delta)]\n",
    "\n",
    "def merge_intervals(intervals):\n",
    "    itvs = sorted(intervals)\n",
    "    idx = 0\n",
    "    for i in range(1, len(itvs)):\n",
    "        if itvs[idx][1] >= itvs[i][0]:\n",
    "            itvs[idx][1] = max(itvs[idx][1], itvs[i][1])\n",
    "        else:\n",
    "            idx += 1\n",
    "            itvs[idx] = itvs[i]\n",
    "    return itvs[:idx+1]\n",
    "\n",
    "def get_nonvalid(row, sensors, dists):\n",
    "    intersects = [intersect(row, sensor, dist)  for sensor, dist in zip(sensors, dists)] \n",
    "    intersects = sorted([i for i in intersects if i != []])\n",
    "    # intervals = merge_intervals(intersects)\n",
    "    return intersects"
   ]
  },
  {
   "cell_type": "code",
   "execution_count": 7,
   "metadata": {},
   "outputs": [],
   "source": [
    "sensors, beacons = parse(data)"
   ]
  },
  {
   "cell_type": "code",
   "execution_count": 8,
   "metadata": {},
   "outputs": [],
   "source": [
    "dists = [dist(p1, p2) for p1, p2 in zip(sensors, beacons)]\n"
   ]
  },
  {
   "cell_type": "code",
   "execution_count": 9,
   "metadata": {},
   "outputs": [
    {
     "data": {
      "text/plain": [
       "4876693"
      ]
     },
     "execution_count": 9,
     "metadata": {},
     "output_type": "execute_result"
    }
   ],
   "source": [
    "row = 2000000\n",
    "non_valid = merge_intervals(get_nonvalid(row, sensors, dists))\n",
    "res = sum([itv[1]-itv[0] for itv in non_valid])\n",
    "res"
   ]
  },
  {
   "cell_type": "code",
   "execution_count": 154,
   "metadata": {},
   "outputs": [
    {
     "name": "stdout",
     "output_type": "stream",
     "text": [
      "\u001b[32mThat's the right answer!  You are one gold star closer to collecting enough star fruit. [Continue to Part Two]\u001b[0m\n"
     ]
    }
   ],
   "source": [
    "puzzle.answer_a = res"
   ]
  },
  {
   "cell_type": "code",
   "execution_count": 10,
   "metadata": {},
   "outputs": [
    {
     "data": {
      "text/plain": [
       "[[-303924, 4572769]]"
      ]
     },
     "execution_count": 10,
     "metadata": {},
     "output_type": "execute_result"
    }
   ],
   "source": [
    "non_valid"
   ]
  },
  {
   "cell_type": "markdown",
   "metadata": {},
   "source": [
    "# Part 2"
   ]
  },
  {
   "cell_type": "code",
   "execution_count": 11,
   "metadata": {},
   "outputs": [
    {
     "name": "stdout",
     "output_type": "stream",
     "text": [
      "2855041 [[-419935, 2911362], [2911364, 4327534]]\n",
      "CPU times: user 46.3 s, sys: 7.33 ms, total: 46.3 s\n",
      "Wall time: 46.3 s\n"
     ]
    }
   ],
   "source": [
    "%%time\n",
    "for y in range(4000000):\n",
    "    non_valid = merge_intervals(get_nonvalid(y, sensors, dists))\n",
    "    if len(non_valid) > 1:\n",
    "        print(y, non_valid)\n",
    "        break"
   ]
  },
  {
   "cell_type": "code",
   "execution_count": 12,
   "metadata": {},
   "outputs": [
    {
     "data": {
      "text/plain": [
       "11645454855041"
      ]
     },
     "execution_count": 12,
     "metadata": {},
     "output_type": "execute_result"
    }
   ],
   "source": [
    "x = non_valid[0][1] + 1\n",
    "tuning_frq = x * 4000000 + y\n",
    "tuning_frq"
   ]
  },
  {
   "cell_type": "code",
   "execution_count": 162,
   "metadata": {},
   "outputs": [
    {
     "name": "stdout",
     "output_type": "stream",
     "text": [
      "\u001b[32mThat's the right answer!  You are one gold star closer to collecting enough star fruit.You have completed Day 15! You can [Shareon\n",
      "  Twitter\n",
      "Mastodon] this victory or [Return to Your Advent Calendar].\u001b[0m\n"
     ]
    }
   ],
   "source": [
    "puzzle.answer_b = tuning_frq"
   ]
  },
  {
   "cell_type": "code",
   "execution_count": 26,
   "metadata": {},
   "outputs": [],
   "source": [
    "def search_quadrant(x1, y1, x2, y2, sensors_dists):\n",
    "    quadrants = []\n",
    "    # print(x1, y1, x2, y2)\n",
    "    if (abs(x2 - x1) < 100) or (abs(y2 - y1) < 100):\n",
    "        # print (x1, y1, x2, y2)\n",
    "        return [(x1, y1, x2, y2)]\n",
    "    \n",
    "    corners = [x1+y1*1j, x1+y2*1j, x2+y1*1j, x2+y2*1j]\n",
    "    cnt = True\n",
    "    for sensor, dst in sensors_dists:\n",
    "        if all([dist(corner, sensor) <= dst for corner in corners]):\n",
    "            # print('not continuing')\n",
    "            cnt = False\n",
    "            return []\n",
    "    if cnt:\n",
    "        w = abs(x2 - x1) // 2\n",
    "        h = abs(y2 - y1) // 2\n",
    "        quadrants += search_quadrant(x1    , y1    , x1+w, y1+h, sensors_dists)\n",
    "        quadrants += search_quadrant(x1+w+1, y1    , x2  , y1+h, sensors_dists)\n",
    "        quadrants += search_quadrant(x1    , y1+h+1, x1+w, y2  , sensors_dists)\n",
    "        quadrants += search_quadrant(x1+w+1, y1+h+1, x2  , y2  , sensors_dists)\n",
    "        \n",
    "    return quadrants\n",
    "\n",
    "def check_point(point, sensors_dists):\n",
    "    for sensor, dst in sensors_dists:\n",
    "        if dist(sensor, point) <= dst:\n",
    "            return False, dst - dist(sensor, point)\n",
    "    return True, 0\n",
    "\n",
    "def check_sensors(sensors_dists, maxpos=4000000):\n",
    "    for sensor, dist in sensors_dists:\n",
    "        print(f\"checking sensor {sensor} w/ range {dist}\")\n",
    "        pos = sensor - 1j*(dist+1)\n",
    "        step = 1 + 1j\n",
    "        while (pos.real <= maxpos) and (pos.imag <= maxpos) and (pos.imag >= 0) and (pos.real <= (sensor.real+dist)):\n",
    "            fnd, dst = check_point(pos, [(sns, dst) for sns, dst in sensors_dists if sns != sensor])\n",
    "            if fnd:\n",
    "                return pos\n",
    "            pos += (step * max(dst//2, 1))\n",
    "            # print(pos)\n",
    "        # break   \n",
    "  "
   ]
  },
  {
   "cell_type": "code",
   "execution_count": 28,
   "metadata": {},
   "outputs": [
    {
     "name": "stdout",
     "output_type": "stream",
     "text": [
      "checking sensor (3859432+2304903j) w/ range 1018240\n",
      "checking sensor (2488890+2695345j) w/ range 582168\n",
      "checking sensor (3901948+701878j) w/ range 527376\n",
      "checking sensor (2422190+1775708j) w/ range 881446\n",
      "checking sensor (2703846+3282799j) w/ range 635274\n",
      "CPU times: user 661 µs, sys: 0 ns, total: 661 µs\n",
      "Wall time: 503 µs\n"
     ]
    },
    {
     "data": {
      "text/plain": [
       "(2911363+2855041j)"
      ]
     },
     "execution_count": 28,
     "metadata": {},
     "output_type": "execute_result"
    }
   ],
   "source": [
    "%%time\n",
    "free = check_sensors(list(zip(sensors, dists)))\n",
    "free"
   ]
  },
  {
   "cell_type": "code",
   "execution_count": 30,
   "metadata": {},
   "outputs": [
    {
     "data": {
      "text/plain": [
       "11645454855041"
      ]
     },
     "execution_count": 30,
     "metadata": {},
     "output_type": "execute_result"
    }
   ],
   "source": [
    "x = free.real\n",
    "y = free.imag\n",
    "tuning_frq = x * 4000000 + y\n",
    "int(tuning_frq)"
   ]
  },
  {
   "cell_type": "code",
   "execution_count": null,
   "metadata": {},
   "outputs": [],
   "source": []
  }
 ],
 "metadata": {
  "kernelspec": {
   "display_name": "Python 3 (ipykernel)",
   "language": "python",
   "name": "python3"
  },
  "language_info": {
   "codemirror_mode": {
    "name": "ipython",
    "version": 3
   },
   "file_extension": ".py",
   "mimetype": "text/x-python",
   "name": "python",
   "nbconvert_exporter": "python",
   "pygments_lexer": "ipython3",
   "version": "3.8.13"
  }
 },
 "nbformat": 4,
 "nbformat_minor": 4
}
