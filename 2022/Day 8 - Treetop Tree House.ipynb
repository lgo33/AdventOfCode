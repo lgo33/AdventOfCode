{
 "cells": [
  {
   "cell_type": "code",
   "execution_count": 2,
   "metadata": {},
   "outputs": [],
   "source": [
    "import os\n",
    "os.environ['AOC_SESSION'] = '53616c7465645f5fe53b184f367847aa55a2617e1b05248cac098b2c3dd14dae217169b3ce2e42b10bcc2af6d9b6787a4792a557f9705bb1eba86d761f2407d2'"
   ]
  },
  {
   "cell_type": "code",
   "execution_count": 3,
   "metadata": {},
   "outputs": [],
   "source": [
    "import aocd\n",
    "from aocd.models import Puzzle\n",
    "day = 8\n",
    "year = 2022\n",
    "puzzle = Puzzle(year=year, day=day)\n",
    "# data = aocd.get_data(day=day, year=year)\n",
    "with open('./data/input_{:02d}'.format(day), 'w') as fh:\n",
    "    fh.write(puzzle.input_data)"
   ]
  },
  {
   "cell_type": "code",
   "execution_count": 5,
   "metadata": {},
   "outputs": [],
   "source": [
    "test_data = \"\"\"30373\n",
    "25512\n",
    "65332\n",
    "33549\n",
    "35390\n",
    "\"\"\""
   ]
  },
  {
   "cell_type": "code",
   "execution_count": 93,
   "metadata": {},
   "outputs": [
    {
     "data": {
      "text/plain": [
       "(99,\n",
       " ['201111211202111301212201403141040230323033312212134523125000140404300230341330300221220012110101011',\n",
       "  '011220103113221111202122124010033421404432343233535151335133353340034134034332440001110102010010220',\n",
       "  '122121120300202230411332402004044235424325455343231124521355323541403402031010313440121321321322221',\n",
       "  '200021211323122312440342411331012332252341254144425451345233324423152201041200212200331121111210011',\n",
       "  '022213121203213301221100041021415245132424534145512125411151335224315551123141404223410032032000022',\n",
       "  '101131310332214402243114310442325141344331525541232153453225442351235123130234413214313330121121101',\n",
       "  '101102011001014411302320032155533351421345311554341111544153414344211242545240114004311012303003230',\n",
       "  '101023122212322231421422241433315213542415532226334465642351151321144451152132311230002433230001110',\n",
       "  '101102012000130221414322332331245251153242654525425363234533655232423135443124134230202313201000123',\n",
       "  '113023100223214000232555442143243135556634652423636245645335623323351235221252344243002420033131123'])"
      ]
     },
     "execution_count": 93,
     "metadata": {},
     "output_type": "execute_result"
    }
   ],
   "source": [
    "data = puzzle.input_data.splitlines()\n",
    "# data = test_data.splitlines()\n",
    "len(data), data[:10]"
   ]
  },
  {
   "cell_type": "code",
   "execution_count": 64,
   "metadata": {},
   "outputs": [],
   "source": [
    "import numpy as np"
   ]
  },
  {
   "cell_type": "code",
   "execution_count": 86,
   "metadata": {},
   "outputs": [],
   "source": [
    "def parse(data):\n",
    "    rows = []\n",
    "    for line in data:\n",
    "        row = []\n",
    "        for c in line:\n",
    "            row.append(int(c))\n",
    "        rows.append(row)\n",
    "    return np.array(rows)\n",
    "\n",
    "def visible(trees):\n",
    "    result = []\n",
    "    for i in range(4):\n",
    "        _max = np.maximum.accumulate(trees)\n",
    "        _max = np.roll(_max, 1, axis=0)\n",
    "        _max[0, :] = -1\n",
    "        result.append(np.rot90(trees > _max, k=4-i))\n",
    "        trees = np.rot90(trees)\n",
    "    return np.array(result).sum(axis=0)>0\n",
    "\n",
    "def scenic_score(trees):\n",
    "    result = []\n",
    "    for i in range(4):\n",
    "        valid = np.ones(trees.shape) == 1\n",
    "        res = np.zeros(trees.shape)\n",
    "        cmp = trees.copy()\n",
    "        for j in range(trees.shape[0]):\n",
    "            cmp = np.roll(cmp, 1, axis=0)\n",
    "            cmp[0, :] = 10\n",
    "            to_add = (trees > cmp) & valid\n",
    "            to_stop = (trees <= cmp) & valid\n",
    "            to_add += to_stop & (cmp < 10)\n",
    "            res += to_add\n",
    "            valid = valid & (~to_stop)\n",
    "            if valid.sum() == 0:\n",
    "                break\n",
    "        \n",
    "        result.append(np.rot90(res, k=4-i))\n",
    "        trees = np.rot90(trees)\n",
    "    return np.product(result, axis=0)\n",
    "        "
   ]
  },
  {
   "cell_type": "code",
   "execution_count": 87,
   "metadata": {},
   "outputs": [],
   "source": [
    "trees = parse(data)\n",
    "res = visible(trees)"
   ]
  },
  {
   "cell_type": "code",
   "execution_count": 88,
   "metadata": {},
   "outputs": [
    {
     "data": {
      "text/plain": [
       "21"
      ]
     },
     "execution_count": 88,
     "metadata": {},
     "output_type": "execute_result"
    }
   ],
   "source": [
    "res.sum()"
   ]
  },
  {
   "cell_type": "code",
   "execution_count": 68,
   "metadata": {},
   "outputs": [
    {
     "name": "stdout",
     "output_type": "stream",
     "text": [
      "\u001b[32mThat's the right answer!  You are one gold star closer to collecting enough star fruit. [Continue to Part Two]\u001b[0m\n"
     ]
    }
   ],
   "source": [
    "puzzle.answer_a = res.sum()"
   ]
  },
  {
   "cell_type": "markdown",
   "metadata": {},
   "source": [
    "# Part 2"
   ]
  },
  {
   "cell_type": "code",
   "execution_count": 94,
   "metadata": {},
   "outputs": [
    {
     "data": {
      "text/plain": [
       "array([[ 0.,  0.,  0., ...,  0.,  0.,  0.],\n",
       "       [ 0.,  1.,  1., ...,  7.,  1.,  0.],\n",
       "       [ 0.,  4.,  8., ...,  4.,  2.,  0.],\n",
       "       ...,\n",
       "       [ 0.,  1., 12., ...,  1.,  2.,  0.],\n",
       "       [ 0., 25.,  1., ...,  4.,  1.,  0.],\n",
       "       [ 0.,  0.,  0., ...,  0.,  0.,  0.]])"
      ]
     },
     "execution_count": 94,
     "metadata": {},
     "output_type": "execute_result"
    }
   ],
   "source": [
    "trees = parse(data)\n",
    "res = scenic_score(trees)\n",
    "res"
   ]
  },
  {
   "cell_type": "code",
   "execution_count": 95,
   "metadata": {},
   "outputs": [
    {
     "data": {
      "text/plain": [
       "268912"
      ]
     },
     "execution_count": 95,
     "metadata": {},
     "output_type": "execute_result"
    }
   ],
   "source": [
    "int(res.max())"
   ]
  },
  {
   "cell_type": "code",
   "execution_count": 96,
   "metadata": {},
   "outputs": [
    {
     "name": "stdout",
     "output_type": "stream",
     "text": [
      "\u001b[32mThat's the right answer!  You are one gold star closer to collecting enough star fruit.You have completed Day 8! You can [Shareon\n",
      "  Twitter\n",
      "Mastodon] this victory or [Return to Your Advent Calendar].\u001b[0m\n"
     ]
    }
   ],
   "source": [
    "puzzle.answer_b = int(res.max())"
   ]
  },
  {
   "cell_type": "code",
   "execution_count": null,
   "metadata": {},
   "outputs": [],
   "source": []
  }
 ],
 "metadata": {
  "kernelspec": {
   "display_name": "Python 3 (ipykernel)",
   "language": "python",
   "name": "python3"
  },
  "language_info": {
   "codemirror_mode": {
    "name": "ipython",
    "version": 3
   },
   "file_extension": ".py",
   "mimetype": "text/x-python",
   "name": "python",
   "nbconvert_exporter": "python",
   "pygments_lexer": "ipython3",
   "version": "3.8.12"
  }
 },
 "nbformat": 4,
 "nbformat_minor": 4
}
