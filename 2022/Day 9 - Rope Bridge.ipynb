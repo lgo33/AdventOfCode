{
 "cells": [
  {
   "cell_type": "code",
   "execution_count": 1,
   "metadata": {},
   "outputs": [],
   "source": [
    "import os\n",
    "os.environ['AOC_SESSION'] = '53616c7465645f5fe53b184f367847aa55a2617e1b05248cac098b2c3dd14dae217169b3ce2e42b10bcc2af6d9b6787a4792a557f9705bb1eba86d761f2407d2'"
   ]
  },
  {
   "cell_type": "code",
   "execution_count": 2,
   "metadata": {},
   "outputs": [],
   "source": [
    "import aocd\n",
    "from aocd.models import Puzzle\n",
    "day = 9\n",
    "year = 2022\n",
    "puzzle = Puzzle(year=year, day=day)\n",
    "# data = aocd.get_data(day=day, year=year)\n",
    "with open('./data/input_{:02d}'.format(day), 'w') as fh:\n",
    "    fh.write(puzzle.input_data)"
   ]
  },
  {
   "cell_type": "code",
   "execution_count": 5,
   "metadata": {},
   "outputs": [],
   "source": [
    "test_data = \"\"\"R 4\n",
    "U 4\n",
    "L 3\n",
    "D 1\n",
    "R 4\n",
    "D 1\n",
    "L 5\n",
    "R 2\"\"\""
   ]
  },
  {
   "cell_type": "code",
   "execution_count": 56,
   "metadata": {},
   "outputs": [],
   "source": [
    "test_dataB = \"\"\"R 5\n",
    "U 8\n",
    "L 8\n",
    "D 3\n",
    "R 17\n",
    "D 10\n",
    "L 25\n",
    "U 20\"\"\""
   ]
  },
  {
   "cell_type": "code",
   "execution_count": 59,
   "metadata": {},
   "outputs": [
    {
     "data": {
      "text/plain": [
       "(2000, ['R 1', 'D 1', 'L 2', 'R 1', 'U 2', 'R 2', 'L 1', 'R 2', 'L 2', 'D 1'])"
      ]
     },
     "execution_count": 59,
     "metadata": {},
     "output_type": "execute_result"
    }
   ],
   "source": [
    "data = puzzle.input_data.splitlines()\n",
    "# data = test_data.splitlines()\n",
    "# data = test_dataB.splitlines()\n",
    "len(data), data[:10]"
   ]
  },
  {
   "cell_type": "code",
   "execution_count": 26,
   "metadata": {},
   "outputs": [],
   "source": [
    "import math\n",
    "def parse(inp):\n",
    "    mapping = {\n",
    "        'R': 1+0j,\n",
    "        'L': -1+0j,\n",
    "        'U': 0+1j,\n",
    "        'D': 0-1j,\n",
    "    }\n",
    "    direction, steps = inp.split(' ')    \n",
    "    return mapping[direction], int(steps)\n",
    "\n",
    "def follow(H, T):\n",
    "    delta = H - T\n",
    "    if abs(delta) < 1.5:\n",
    "        return 0\n",
    "    move = 0\n",
    "    if (delta.real != 0):\n",
    "        move += delta.real / abs(delta.real)\n",
    "    if (delta.imag != 0):\n",
    "        move += (delta.imag / abs(delta.imag)) * 1j\n",
    "    return move\n",
    "\n",
    "def walk(moves):\n",
    "    H = 0\n",
    "    T = 0\n",
    "    visited = set()\n",
    "    for dtn, steps in moves:\n",
    "        for i in range(steps):\n",
    "            H += dtn\n",
    "            T += follow(H, T)\n",
    "            visited.add(T)\n",
    "    return H, T, len(visited)"
   ]
  },
  {
   "cell_type": "code",
   "execution_count": 28,
   "metadata": {},
   "outputs": [
    {
     "data": {
      "text/plain": [
       "((177+192j), (176+192j), 6209)"
      ]
     },
     "execution_count": 28,
     "metadata": {},
     "output_type": "execute_result"
    }
   ],
   "source": [
    "moves = [parse(line) for line in data]\n",
    "H, T, nvisited = walk(moves)\n",
    "H, T, nvisited"
   ]
  },
  {
   "cell_type": "code",
   "execution_count": 29,
   "metadata": {},
   "outputs": [
    {
     "name": "stdout",
     "output_type": "stream",
     "text": [
      "\u001b[32mThat's the right answer!  You are one gold star closer to collecting enough star fruit. [Continue to Part Two]\u001b[0m\n"
     ]
    }
   ],
   "source": [
    "puzzle.answer_a = nvisited"
   ]
  },
  {
   "cell_type": "markdown",
   "metadata": {},
   "source": [
    "# Part 2"
   ]
  },
  {
   "cell_type": "code",
   "execution_count": 52,
   "metadata": {},
   "outputs": [],
   "source": [
    "def walkB(moves):\n",
    "    knots = [0] * 10\n",
    "    visited = set()\n",
    "    for dtn, steps in moves:        \n",
    "        for i in range(steps):\n",
    "            # print(dtn, i)\n",
    "            knots[0] += dtn\n",
    "            for j in range(1, len(knots)):\n",
    "                x = follow(knots[j-1], knots[j])\n",
    "                # print(x)\n",
    "                knots[j] += x\n",
    "            visited.add(knots[-1])\n",
    "    return knots, len(visited)"
   ]
  },
  {
   "cell_type": "code",
   "execution_count": 60,
   "metadata": {},
   "outputs": [
    {
     "data": {
      "text/plain": [
       "([(177+192j),\n",
       "  (176+192j),\n",
       "  (175+192j),\n",
       "  (174+192j),\n",
       "  (173+192j),\n",
       "  (172+192j),\n",
       "  (171+192j),\n",
       "  (170+192j),\n",
       "  (169+192j),\n",
       "  (168+192j)],\n",
       " 2460)"
      ]
     },
     "execution_count": 60,
     "metadata": {},
     "output_type": "execute_result"
    }
   ],
   "source": [
    "moves = [parse(line) for line in data]\n",
    "knots, nvisited = walkB(moves)\n",
    "knots, nvisited"
   ]
  },
  {
   "cell_type": "code",
   "execution_count": 61,
   "metadata": {},
   "outputs": [
    {
     "name": "stdout",
     "output_type": "stream",
     "text": [
      "\u001b[32mThat's the right answer!  You are one gold star closer to collecting enough star fruit.You have completed Day 9! You can [Shareon\n",
      "  Twitter\n",
      "Mastodon] this victory or [Return to Your Advent Calendar].\u001b[0m\n"
     ]
    }
   ],
   "source": [
    "puzzle.answer_b = nvisited"
   ]
  },
  {
   "cell_type": "code",
   "execution_count": 66,
   "metadata": {},
   "outputs": [
    {
     "data": {
      "text/plain": [
       "[<matplotlib.lines.Line2D at 0xfffd7b0fe0a0>]"
      ]
     },
     "execution_count": 66,
     "metadata": {},
     "output_type": "execute_result"
    },
    {
     "data": {
      "image/png": "[encoded data removed]",
      "text/plain": [
       "<Figure size 432x288 with 1 Axes>"
      ]
     },
     "metadata": {
      "needs_background": "light"
     },
     "output_type": "display_data"
    }
   ],
   "source": [
    "import matplotlib.pyplot as plt\n",
    "moves = [parse(line) for line in test_dataB.splitlines()]\n",
    "\n",
    "knots, nvisited = walkB(moves)\n",
    "\n",
    "x = [knot.real for knot in knots]\n",
    "y = [knot.imag for knot in knots]\n",
    "plt.plot(x, y, 'o')\n"
   ]
  },
  {
   "cell_type": "code",
   "execution_count": 67,
   "metadata": {},
   "outputs": [
    {
     "data": {
      "text/plain": [
       "[(-11+15j),\n",
       " (-11+14j),\n",
       " (-11+13j),\n",
       " (-11+12j),\n",
       " (-11+11j),\n",
       " (-11+10j),\n",
       " (-11+9j),\n",
       " (-11+8j),\n",
       " (-11+7j),\n",
       " (-11+6j)]"
      ]
     },
     "execution_count": 67,
     "metadata": {},
     "output_type": "execute_result"
    }
   ],
   "source": [
    "knots"
   ]
  },
  {
   "cell_type": "code",
   "execution_count": null,
   "metadata": {},
   "outputs": [],
   "source": []
  }
 ],
 "metadata": {
  "kernelspec": {
   "display_name": "Python 3 (ipykernel)",
   "language": "python",
   "name": "python3"
  },
  "language_info": {
   "codemirror_mode": {
    "name": "ipython",
    "version": 3
   },
   "file_extension": ".py",
   "mimetype": "text/x-python",
   "name": "python",
   "nbconvert_exporter": "python",
   "pygments_lexer": "ipython3",
   "version": "3.8.12"
  }
 },
 "nbformat": 4,
 "nbformat_minor": 4
}
