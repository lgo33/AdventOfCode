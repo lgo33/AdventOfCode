{
 "cells": [
  {
   "cell_type": "code",
   "execution_count": 1,
   "metadata": {},
   "outputs": [],
   "source": [
    "import os\n",
    "os.environ['AOC_SESSION'] = '53616c7465645f5fe53b184f367847aa55a2617e1b05248cac098b2c3dd14dae217169b3ce2e42b10bcc2af6d9b6787a4792a557f9705bb1eba86d761f2407d2'"
   ]
  },
  {
   "cell_type": "code",
   "execution_count": 2,
   "metadata": {},
   "outputs": [],
   "source": [
    "import aocd\n",
    "from aocd.models import Puzzle\n",
    "day = 13\n",
    "year = 2022\n",
    "puzzle = Puzzle(year=year, day=day)\n",
    "# data = aocd.get_data(day=day, year=year)\n",
    "with open('./data/input_{:02d}'.format(day), 'w') as fh:\n",
    "    fh.write(puzzle.input_data)"
   ]
  },
  {
   "cell_type": "code",
   "execution_count": 3,
   "metadata": {},
   "outputs": [],
   "source": [
    "import json"
   ]
  },
  {
   "cell_type": "code",
   "execution_count": 4,
   "metadata": {},
   "outputs": [],
   "source": [
    "test_data = \"\"\"[1,1,3,1,1]\n",
    "[1,1,5,1,1]\n",
    "\n",
    "[[1],[2,3,4]]\n",
    "[[1],4]\n",
    "\n",
    "[9]\n",
    "[[8,7,6]]\n",
    "\n",
    "[[4,4],4,4]\n",
    "[[4,4],4,4,4]\n",
    "\n",
    "[7,7,7,7]\n",
    "[7,7,7]\n",
    "\n",
    "[]\n",
    "[3]\n",
    "\n",
    "[[[]]]\n",
    "[[]]\n",
    "\n",
    "[1,[2,[3,[4,[5,6,7]]]],8,9]\n",
    "[1,[2,[3,[4,[5,6,0]]]],8,9]\n",
    "\"\"\""
   ]
  },
  {
   "cell_type": "code",
   "execution_count": 83,
   "metadata": {},
   "outputs": [
    {
     "data": {
      "text/plain": [
       "(449,\n",
       " ['[[9,[],[[10,10,1,4,10],[2,2,7,6,1],2,9]]]',\n",
       "  '[[],[[[2,6,9],[],6,[8,8,4]],8,9,7],[9,[[9,10,5,10,6],[4,9,3],[9]],7],[[],[1,[5],[]],9],[[7,1,4,6,[2,1,9,7,8]],[[6,9],5],7]]',\n",
       "  '',\n",
       "  '[[],[1,[3,[0]]],[]]',\n",
       "  '[[],[[0,[5,3,0,1,0],[3,0,5,7],10,[2,8,5,0]],10,[2,4,[1],[5,6,7],[]],[]]]',\n",
       "  '',\n",
       "  '[[[[6,8],1,8],9,[[3],10,[5,7,2,4],2],8]]',\n",
       "  '[[1,2,[]],[[2,[8,10],0,1,[10]]]]',\n",
       "  '',\n",
       "  '[[[1,[6,8]]]]'])"
      ]
     },
     "execution_count": 83,
     "metadata": {},
     "output_type": "execute_result"
    }
   ],
   "source": [
    "data = puzzle.input_data.splitlines()\n",
    "# data = test_data.splitlines()\n",
    "len(data), data[:10]"
   ]
  },
  {
   "cell_type": "code",
   "execution_count": 84,
   "metadata": {},
   "outputs": [],
   "source": [
    "def parse(data):\n",
    "    pairs = []\n",
    "    pair = []\n",
    "    for d in data:\n",
    "        if d == '':\n",
    "            continue\n",
    "        val = json.loads(d)\n",
    "        pair.append(val)\n",
    "        if len(pair) == 2:\n",
    "            pairs.append(pair)\n",
    "            pair = []\n",
    "    return pairs\n",
    "\n",
    "class cmplist(list):\n",
    "    def __init__(self, *args, **kwargs):\n",
    "        super().__init__(*args, **kwargs)\n",
    "        for i, item in enumerate(self):\n",
    "            if isinstance(item, list):\n",
    "                self[i] = cmplist(item)\n",
    "        \n",
    "    def __lt__(self, other):\n",
    "        # print(f\"entering lt: {self} < {other}\")\n",
    "        if isinstance(other, int):\n",
    "            return self < cmplist([other])\n",
    "        return super().__lt__(other)\n",
    "    \n",
    "    def __gt__(self, other):\n",
    "        # print(f\"entering gt: {self} > {other}\")\n",
    "        if isinstance(other, int):\n",
    "            return self > cmplist([other])\n",
    "        return super().__gt__(other)\n"
   ]
  },
  {
   "cell_type": "code",
   "execution_count": 85,
   "metadata": {},
   "outputs": [],
   "source": [
    "pairs = parse(data)\n",
    "# pairs"
   ]
  },
  {
   "cell_type": "code",
   "execution_count": 86,
   "metadata": {},
   "outputs": [
    {
     "data": {
      "text/plain": [
       "6046"
      ]
     },
     "execution_count": 86,
     "metadata": {},
     "output_type": "execute_result"
    }
   ],
   "source": [
    "res = sum([(cmplist(A) < cmplist(B)) * (i+1) for i, (A, B) in enumerate(pairs)])\n",
    "res"
   ]
  },
  {
   "cell_type": "code",
   "execution_count": 52,
   "metadata": {},
   "outputs": [
    {
     "name": "stdout",
     "output_type": "stream",
     "text": [
      "\u001b[32mThat's the right answer!  You are one gold star closer to collecting enough star fruit. [Continue to Part Two]\u001b[0m\n"
     ]
    }
   ],
   "source": [
    "puzzle.answer_a = res"
   ]
  },
  {
   "cell_type": "code",
   "execution_count": 87,
   "metadata": {},
   "outputs": [],
   "source": [
    "# Part 2"
   ]
  },
  {
   "cell_type": "code",
   "execution_count": 88,
   "metadata": {},
   "outputs": [],
   "source": [
    "divider_packets = [cmplist([[2]]), cmplist([[6]])]\n",
    "def parseB(data):\n",
    "    res = divider_packets.copy()\n",
    "    for line in data:\n",
    "        if line == '':\n",
    "            continue\n",
    "        res.append(cmplist(json.loads(line)))\n",
    "    return res"
   ]
  },
  {
   "cell_type": "code",
   "execution_count": 89,
   "metadata": {},
   "outputs": [],
   "source": [
    "packets = sorted(parseB(data))"
   ]
  },
  {
   "cell_type": "code",
   "execution_count": 90,
   "metadata": {},
   "outputs": [
    {
     "data": {
      "text/plain": [
       "[111, 193]"
      ]
     },
     "execution_count": 90,
     "metadata": {},
     "output_type": "execute_result"
    }
   ],
   "source": [
    "find_dividers = sorted([(packet in divider_packets) * (i+1) for i, packet in enumerate(packets)])[-2:]\n",
    "find_dividers"
   ]
  },
  {
   "cell_type": "code",
   "execution_count": 91,
   "metadata": {},
   "outputs": [
    {
     "name": "stdout",
     "output_type": "stream",
     "text": [
      "\u001b[32mThat's the right answer!  You are one gold star closer to collecting enough star fruit.You have completed Day 13! You can [Shareon\n",
      "  Twitter\n",
      "Mastodon] this victory or [Return to Your Advent Calendar].\u001b[0m\n"
     ]
    }
   ],
   "source": [
    "puzzle.answer_b = find_dividers[0] * find_dividers[1]"
   ]
  },
  {
   "cell_type": "code",
   "execution_count": null,
   "metadata": {},
   "outputs": [],
   "source": []
  },
  {
   "cell_type": "code",
   "execution_count": null,
   "metadata": {},
   "outputs": [],
   "source": []
  }
 ],
 "metadata": {
  "kernelspec": {
   "display_name": "py310",
   "language": "python",
   "name": "py310"
  },
  "language_info": {
   "codemirror_mode": {
    "name": "ipython",
    "version": 3
   },
   "file_extension": ".py",
   "mimetype": "text/x-python",
   "name": "python",
   "nbconvert_exporter": "python",
   "pygments_lexer": "ipython3",
   "version": "3.10.2"
  }
 },
 "nbformat": 4,
 "nbformat_minor": 4
}
