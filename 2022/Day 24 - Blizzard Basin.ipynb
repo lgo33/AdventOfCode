{
 "cells": [
  {
   "cell_type": "code",
   "execution_count": 1,
   "metadata": {},
   "outputs": [],
   "source": [
    "import os\n",
    "os.environ['AOC_SESSION'] = '53616c7465645f5fe53b184f367847aa55a2617e1b05248cac098b2c3dd14dae217169b3ce2e42b10bcc2af6d9b6787a4792a557f9705bb1eba86d761f2407d2'"
   ]
  },
  {
   "cell_type": "code",
   "execution_count": 2,
   "metadata": {},
   "outputs": [],
   "source": [
    "import aocd\n",
    "from aocd.models import Puzzle\n",
    "day = 24\n",
    "year = 2022\n",
    "puzzle = Puzzle(year=year, day=day)\n",
    "# data = aocd.get_data(day=day, year=year)\n",
    "with open('./data/input_{:02d}'.format(day), 'w') as fh:\n",
    "    fh.write(puzzle.input_data)"
   ]
  },
  {
   "cell_type": "code",
   "execution_count": 3,
   "metadata": {},
   "outputs": [],
   "source": [
    "import numpy as np\n",
    "import matplotlib.pyplot as plt\n",
    "from heapq import heappush, heappop"
   ]
  },
  {
   "cell_type": "code",
   "execution_count": 4,
   "metadata": {},
   "outputs": [],
   "source": [
    "test_data = \"\"\"#.######\n",
    "#>>.<^<#\n",
    "#.<..<<#\n",
    "#>v.><>#\n",
    "#<^v^^>#\n",
    "######.#\"\"\""
   ]
  },
  {
   "cell_type": "code",
   "execution_count": 5,
   "metadata": {},
   "outputs": [],
   "source": [
    "test_data2 = \"\"\"#.#####\n",
    "#.....#\n",
    "#>....#\n",
    "#.....#\n",
    "#...v.#\n",
    "#.....#\n",
    "#####.#\"\"\""
   ]
  },
  {
   "cell_type": "code",
   "execution_count": 6,
   "metadata": {},
   "outputs": [
    {
     "data": {
      "text/plain": [
       "(37,\n",
       " ['#.####################################################################################################',\n",
       "  '#>.^>^v<^v>>>v<.>v><vv<<<.^^>>^v.^^v^vv<<><>v><v>v^>^<<>vvv<<>v>>.^>>^.^>..<<v<v<^.>.>^^<><><><^^.^<>#',\n",
       "  '#>vv<<v<<<<v>v<v^.<.v<<><v<<.<>>^^.>.^v>^^.^^.><v>><<^^^^<^>>.v.><v.v.<<<<<v>v<^>v^<>^v<^.<^^>^>vv>^>#',\n",
       "  '#>^.^>^^^v<>v><>v^vv>v>>v<v<<..><><<>v<>v>v^v>vv<v.<.v^vv<v>.>v<^>v>>v..v<>^v.>v.><^><<v<vvv<^>v>.^<>#',\n",
       "  '#<.v.v^<>^v<<^>v^>v^<.<>>^<><>v.<v>^^><><v>^^>^>.^.v>.<vv>^.>.vv^v^^<^>^.<>.^>^>^><.>>>>^<<v>^^><^v<>#',\n",
       "  '#<<v<^^v^><.v<v.^>^^<..^^.>v^<^^^^.<><v<^^><^>><^>^v^>.vvvvv^<^>^v<^>^<^>><<>^v<>^^^v<<^>vvv>v^^^<.<<#',\n",
       "  '#<v^v><<>^^.<v^.v><<>>v^vv<^<^^.v<.v><>><<<.v<.<<<<v>.<><^<v^<>vv^>v<v>^^><^^^v>.^^^<><>>v>v<>^v>>v^<#',\n",
       "  '#<..^vv>^vv^>v<^<>..^<^v<^><<<>>.vvv^v^>>v>^^>.<<vvv<v.>^>><vv<^^.v^v.v>>><^<<<>^v.>><v>^^>^v<v>^vv>>#',\n",
       "  '#<^^>v^v^v^>.>v<<>>>^^>vvvvv<>^.v>><>^<>>v^^^^^v<>>>^^>>>^.>><.>v>v^><.^vv^<<<<^v<><^^>vv..^^v^<<^<v>#',\n",
       "  '#>.v<v^.<v.^vvv^>>^<v^^<<^><><v>>^^>.^v<vv<>><^<.v.v<.<.^vvv^.^v^v><v<<.<>^<v>>v<^^>^vv<.vvv<<^<vv<v<#'])"
      ]
     },
     "execution_count": 6,
     "metadata": {},
     "output_type": "execute_result"
    }
   ],
   "source": [
    "data = puzzle.input_data.splitlines()\n",
    "data_test = test_data.splitlines()\n",
    "len(data), data[:10]"
   ]
  },
  {
   "cell_type": "code",
   "execution_count": 106,
   "metadata": {},
   "outputs": [],
   "source": [
    "def parse(lines):\n",
    "    lines = lines.copy()\n",
    "    lines.reverse()\n",
    "    height = len(lines)\n",
    "    width = len(lines[0])\n",
    "    walls = set()\n",
    "    blizzards = {\n",
    "        'right': set(),\n",
    "        'left': set(),\n",
    "        'up': set(),\n",
    "        'down': set(),\n",
    "    }\n",
    "    for y, line in enumerate(lines):\n",
    "        for x, c in enumerate(line):\n",
    "            pos = x + 1j * y\n",
    "            match c:\n",
    "                case '#':\n",
    "                    walls.add(pos)\n",
    "                case '>':\n",
    "                    blizzards['right'].add(pos)\n",
    "                case '<':\n",
    "                    blizzards['left'].add(pos)\n",
    "                case '^':\n",
    "                    blizzards['up'].add(pos)\n",
    "                case 'v':\n",
    "                    blizzards['down'].add(pos)\n",
    "    return blizzards, walls, (height, width)\n",
    "        \n",
    "def nbrs(pos):\n",
    "    yield pos\n",
    "    yield pos + 1\n",
    "    yield pos - 1\n",
    "    yield pos + 1j\n",
    "    yield pos - 1j\n",
    "    \n",
    "def dist(A, B):\n",
    "    return int(abs(A.real - B.real) + abs(A.imag - B.imag))\n",
    "\n",
    "def generate_blizzards(blizzards, shape):\n",
    "    height, width = shape\n",
    "    blizzards_horizontal = []\n",
    "    blizzards_vertical = []\n",
    "    for x in range(width-2):\n",
    "        new_blizz = set()\n",
    "        for blizz in blizzards['right']:\n",
    "            pos = blizz + x\n",
    "            if pos.real >= width - 1:\n",
    "                pos -= width - 2\n",
    "            new_blizz.add(pos)\n",
    "        for blizz in blizzards['left']:\n",
    "            pos = blizz - x\n",
    "            if pos.real <= 0:\n",
    "                pos += width - 2\n",
    "            new_blizz.add(pos)\n",
    "        blizzards_horizontal.append(new_blizz)\n",
    "    for y in range(height-2):\n",
    "        new_blizz = set()\n",
    "        for blizz in blizzards['up']:\n",
    "            pos = blizz + y * 1j\n",
    "            if pos.imag >= height - 1:\n",
    "                pos -= (height - 2) * 1j\n",
    "            new_blizz.add(pos)\n",
    "        for blizz in blizzards['down']:\n",
    "            pos = blizz - y * 1j\n",
    "            if pos.imag <= 0:\n",
    "                pos += (height - 2) * 1j\n",
    "            new_blizz.add(pos)\n",
    "        blizzards_vertical.append(new_blizz)\n",
    "    return blizzards_horizontal, blizzards_vertical\n",
    "        \n",
    "    \n",
    "def astar(blizzards, walls, shape, start=None, goal=None, start_minute=0, debug=False):\n",
    "    blizzards_horizontal, blizzards_vertical = blizzards\n",
    "    height, width = shape\n",
    "    if start is None:\n",
    "        start_pos = (1, height-1)\n",
    "        start_complex = 1 + (height-1)* 1j\n",
    "    else:\n",
    "        start_pos = (int(start.real), int(start.imag))\n",
    "        start_complex = start\n",
    "    if goal is None:\n",
    "        goal = (width - 2) + 0j\n",
    "        \n",
    "    stack = [(0, start_minute, start_pos, [])]\n",
    "    seen = set()\n",
    "    result = []\n",
    "    print(goal, start_complex)\n",
    "    steps = 0\n",
    "    while stack:\n",
    "        steps += 1\n",
    "        dst, minutes, pos, path = heappop(stack)\n",
    "        if (minutes, pos)  in seen:\n",
    "            continue\n",
    "        seen.add((minutes, pos))\n",
    "        # if dst >= 324:\n",
    "        #     continue\n",
    "        pos = pos[0] + pos[1]*1j\n",
    "        if pos == goal:\n",
    "            result.append((dst, minutes, pos, path))\n",
    "            return dst, minutes, pos, path\n",
    "        minutes += 1\n",
    "        for nbr in nbrs(pos):\n",
    "            # print(nbr)\n",
    "            if nbr in walls or (nbr.imag >= height) or (nbr.imag < 0):\n",
    "                continue\n",
    "            if nbr not in blizzards_horizontal[minutes % (width-2)] \\\n",
    "                and nbr not in blizzards_vertical[minutes % (height-2)]:\n",
    "\n",
    "                new_pos = (nbr.real, nbr.imag)\n",
    "                # heappush(stack, (dist(nbr, goal) +  minutes / (dist(nbr, (1 + start_complex) +1), minutes, new_pos, path+[new_pos]))\n",
    "                # heappush(stack, (dist(nbr, goal) +  minutes, minutes, new_pos, path+[new_pos]))\n",
    "                # heappush(stack, ( minutes / (dist(nbr, (1 + start_complex) +1)), minutes, new_pos, path+[new_pos]))\n",
    "                \n",
    "                heappush(stack, (dist(nbr, goal)+minutes, minutes, new_pos, path+[new_pos]))\n",
    "                \n",
    "        if len(result) >= 200:\n",
    "            return result\n",
    "        \n",
    "        # if minutes > 100:\n",
    "        #     return stack\n",
    "    return steps\n",
    "        \n",
    "    "
   ]
  },
  {
   "cell_type": "code",
   "execution_count": 107,
   "metadata": {},
   "outputs": [
    {
     "name": "stdout",
     "output_type": "stream",
     "text": [
      "(100+0j) (1+36j)\n",
      "CPU times: user 821 ms, sys: 0 ns, total: 821 ms\n",
      "Wall time: 821 ms\n"
     ]
    }
   ],
   "source": [
    "%%time\n",
    "blizzards, walls, shape = parse(data_test)\n",
    "blizzards, walls, shape = parse(data)\n",
    "blizzards_new = generate_blizzards(blizzards, shape)\n",
    "\n",
    "stack = astar(blizzards_new, walls, shape)\n",
    "\n",
    "# dum = [set()] * 100\n",
    "# stack = astar((dum, dum), walls, shape)"
   ]
  },
  {
   "cell_type": "code",
   "execution_count": 82,
   "metadata": {},
   "outputs": [
    {
     "data": {
      "text/plain": [
       "4"
      ]
     },
     "execution_count": 82,
     "metadata": {},
     "output_type": "execute_result"
    }
   ],
   "source": [
    "len(stack)"
   ]
  },
  {
   "cell_type": "code",
   "execution_count": 83,
   "metadata": {
    "tags": []
   },
   "outputs": [
    {
     "data": {
      "text/plain": [
       "249"
      ]
     },
     "execution_count": 83,
     "metadata": {},
     "output_type": "execute_result"
    }
   ],
   "source": [
    "stack[1]"
   ]
  },
  {
   "cell_type": "code",
   "execution_count": 63,
   "metadata": {},
   "outputs": [
    {
     "name": "stdout",
     "output_type": "stream",
     "text": [
      "\u001b[32mThat's the right answer!  You are one gold star closer to collecting enough star fruit. [Continue to Part Two]\u001b[0m\n"
     ]
    }
   ],
   "source": [
    "puzzle.answer_a = stack[1]"
   ]
  },
  {
   "cell_type": "markdown",
   "metadata": {},
   "source": [
    "# Part 2"
   ]
  },
  {
   "cell_type": "code",
   "execution_count": 112,
   "metadata": {},
   "outputs": [
    {
     "name": "stdout",
     "output_type": "stream",
     "text": [
      "(100+0j) (1+36j)\n",
      "(1+36j) (100+0j)\n",
      "(100+0j) (1+36j)\n",
      "CPU times: user 2.11 s, sys: 3.78 ms, total: 2.12 s\n",
      "Wall time: 2.13 s\n"
     ]
    }
   ],
   "source": [
    "%%time\n",
    "blizzards, walls, shape = parse(data_test)\n",
    "blizzards, walls, shape = parse(data)\n",
    "blizzards_new = generate_blizzards(blizzards, shape)\n",
    "\n",
    "height, width = shape\n",
    "start = 1 + (height-1)* 1j\n",
    "goal = (width - 2) + 0j\n",
    "\n",
    "dst, minutes, pos, path = astar(blizzards_new, walls, shape, start=start, goal=goal, start_minute=0)\n",
    "dst, minutes, pos, path = astar(blizzards_new, walls, shape, start=goal, goal=start, start_minute=minutes, debug=True)\n",
    "dst, minutes, pos, path = astar(blizzards_new, walls, shape, start=start, goal=goal, start_minute=minutes)\n",
    "\n"
   ]
  },
  {
   "cell_type": "code",
   "execution_count": 114,
   "metadata": {},
   "outputs": [
    {
     "data": {
      "text/plain": [
       "735"
      ]
     },
     "execution_count": 114,
     "metadata": {},
     "output_type": "execute_result"
    }
   ],
   "source": [
    "minutes"
   ]
  },
  {
   "cell_type": "code",
   "execution_count": 115,
   "metadata": {},
   "outputs": [
    {
     "name": "stdout",
     "output_type": "stream",
     "text": [
      "\u001b[32mThat's the right answer!  You are one gold star closer to collecting enough star fruit.You have completed Day 24! You can [Shareon\n",
      "  Twitter\n",
      "Mastodon] this victory or [Return to Your Advent Calendar].\u001b[0m\n"
     ]
    }
   ],
   "source": [
    "puzzle.answer_b = minutes"
   ]
  },
  {
   "cell_type": "code",
   "execution_count": 41,
   "metadata": {},
   "outputs": [],
   "source": [
    "def vis(points, shape):\n",
    "    field = np.zeros(shape)\n",
    "    for p in points:\n",
    "        y = int(p.imag)\n",
    "        x = int(p.real)\n",
    "        field[y, x] += 1\n",
    "    return np.flipud(field)\n",
    "\n",
    "def vis2(points, shape):\n",
    "    field = np.zeros(shape)\n",
    "    for p in points:\n",
    "        x, y = p\n",
    "        x = int(x)\n",
    "        y = int(y)\n",
    "        # print(x, y)\n",
    "        field[y, x] += 1\n",
    "    return np.flipud(field)"
   ]
  },
  {
   "cell_type": "code",
   "execution_count": 42,
   "metadata": {},
   "outputs": [
    {
     "ename": "NameError",
     "evalue": "name 'bh' is not defined",
     "output_type": "error",
     "traceback": [
      "\u001b[0;31m---------------------------------------------------------------------------\u001b[0m",
      "\u001b[0;31mNameError\u001b[0m                                 Traceback (most recent call last)",
      "Cell \u001b[0;32mIn[42], line 2\u001b[0m\n\u001b[1;32m      1\u001b[0m n\u001b[38;5;241m=\u001b[39m\u001b[38;5;241m700\u001b[39m\n\u001b[0;32m----> 2\u001b[0m plt\u001b[38;5;241m.\u001b[39mimshow(vis(\u001b[43mbh\u001b[49m[n \u001b[38;5;241m%\u001b[39m (shape[\u001b[38;5;241m1\u001b[39m]\u001b[38;5;241m-\u001b[39m\u001b[38;5;241m2\u001b[39m)], shape)\u001b[38;5;241m+\u001b[39mvis(bv[n \u001b[38;5;241m%\u001b[39m (shape[\u001b[38;5;241m0\u001b[39m]\u001b[38;5;241m-\u001b[39m\u001b[38;5;241m2\u001b[39m)], shape))\n",
      "\u001b[0;31mNameError\u001b[0m: name 'bh' is not defined"
     ]
    }
   ],
   "source": [
    "n=700\n",
    "plt.imshow(vis(bh[n % (shape[1]-2)], shape)+vis(bv[n % (shape[0]-2)], shape))"
   ]
  },
  {
   "cell_type": "code",
   "execution_count": 64,
   "metadata": {},
   "outputs": [
    {
     "data": {
      "text/plain": [
       "<matplotlib.image.AxesImage at 0xfff98ddecc10>"
      ]
     },
     "execution_count": 64,
     "metadata": {},
     "output_type": "execute_result"
    },
    {
     "data": {
      "image/png": "[encoded data removed]",
      "text/plain": [
       "<Figure size 640x480 with 1 Axes>"
      ]
     },
     "metadata": {},
     "output_type": "display_data"
    }
   ],
   "source": [
    "plt.imshow(vis2(stack[3], shape))"
   ]
  },
  {
   "cell_type": "code",
   "execution_count": 53,
   "metadata": {},
   "outputs": [
    {
     "name": "stdout",
     "output_type": "stream",
     "text": [
      "(4.0, 17.0) 30\n"
     ]
    },
    {
     "data": {
      "text/plain": [
       "<matplotlib.image.AxesImage at 0xfffe044e0f10>"
      ]
     },
     "execution_count": 53,
     "metadata": {},
     "output_type": "execute_result"
    },
    {
     "data": {
      "image/png": "[encoded data removed]",
      "text/plain": [
       "<Figure size 640x480 with 1 Axes>"
      ]
     },
     "metadata": {},
     "output_type": "display_data"
    }
   ],
   "source": [
    "n = 10\n",
    "dst, minutes, pos, path = stack[n]\n",
    "print(pos, minutes)\n",
    "plt.imshow(vis2(path, shape))"
   ]
  },
  {
   "cell_type": "code",
   "execution_count": 189,
   "metadata": {},
   "outputs": [
    {
     "data": {
      "text/plain": [
       "8"
      ]
     },
     "execution_count": 189,
     "metadata": {},
     "output_type": "execute_result"
    }
   ],
   "source": [
    "shape[1]"
   ]
  },
  {
   "cell_type": "code",
   "execution_count": 164,
   "metadata": {},
   "outputs": [
    {
     "data": {
      "text/plain": [
       "700"
      ]
     },
     "execution_count": 164,
     "metadata": {},
     "output_type": "execute_result"
    }
   ],
   "source": [
    "35 * 20"
   ]
  },
  {
   "cell_type": "code",
   "execution_count": null,
   "metadata": {},
   "outputs": [],
   "source": []
  }
 ],
 "metadata": {
  "kernelspec": {
   "display_name": "py310",
   "language": "python",
   "name": "py310"
  },
  "language_info": {
   "codemirror_mode": {
    "name": "ipython",
    "version": 3
   },
   "file_extension": ".py",
   "mimetype": "text/x-python",
   "name": "python",
   "nbconvert_exporter": "python",
   "pygments_lexer": "ipython3",
   "version": "3.10.2"
  }
 },
 "nbformat": 4,
 "nbformat_minor": 4
}
