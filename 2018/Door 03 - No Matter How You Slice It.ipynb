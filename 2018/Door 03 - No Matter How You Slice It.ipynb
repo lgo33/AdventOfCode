{
 "cells": [
  {
   "cell_type": "code",
   "execution_count": 8,
   "metadata": {},
   "outputs": [],
   "source": [
    "import re\n",
    "import numpy as np"
   ]
  },
  {
   "cell_type": "code",
   "execution_count": 50,
   "metadata": {},
   "outputs": [],
   "source": [
    "with open('data/input_03.txt') as fh:\n",
    "    file_input = fh.read()"
   ]
  },
  {
   "cell_type": "code",
   "execution_count": 9,
   "metadata": {},
   "outputs": [],
   "source": [
    "test = \"\"\"#1 @ 1,3: 4x4\n",
    "#2 @ 3,1: 4x4\n",
    "#3 @ 5,5: 2x2\"\"\""
   ]
  },
  {
   "cell_type": "code",
   "execution_count": 51,
   "metadata": {},
   "outputs": [],
   "source": [
    "# inp = test.split('\\n')\n",
    "inp = file_input.strip().split('\\n')"
   ]
  },
  {
   "cell_type": "markdown",
   "metadata": {},
   "source": [
    "Part A"
   ]
  },
  {
   "cell_type": "code",
   "execution_count": 53,
   "metadata": {},
   "outputs": [],
   "source": [
    "n = 1000\n",
    "fabric = np.zeros((n, n))\n",
    "\n",
    "for i, x, y, w, h in map(lambda x: map(int, re.findall('\\d+', x)), inp):\n",
    "    fabric[x:(x+w), y:(y+h)] += 1"
   ]
  },
  {
   "cell_type": "code",
   "execution_count": 55,
   "metadata": {},
   "outputs": [
    {
     "data": {
      "text/plain": [
       "110195"
      ]
     },
     "execution_count": 55,
     "metadata": {},
     "output_type": "execute_result"
    }
   ],
   "source": [
    "np.sum(fabric > 1)"
   ]
  },
  {
   "cell_type": "markdown",
   "metadata": {},
   "source": [
    "Part B"
   ]
  },
  {
   "cell_type": "code",
   "execution_count": 59,
   "metadata": {},
   "outputs": [],
   "source": [
    "n = 1000\n",
    "fabric = np.zeros((n, n))\n",
    "ids = np.zeros((n, n))\n",
    "sizes = {}\n",
    "\n",
    "for i, x, y, w, h in map(lambda x: map(int, re.findall('\\d+', x)), inp):\n",
    "    fabric[x:(x+w), y:(y+h)] += 1\n",
    "    ids[x:(x+w), y:(y+h)] = i\n",
    "    sizes[i] = w * h"
   ]
  },
  {
   "cell_type": "code",
   "execution_count": 60,
   "metadata": {},
   "outputs": [],
   "source": [
    "from collections import Counter"
   ]
  },
  {
   "cell_type": "code",
   "execution_count": 75,
   "metadata": {},
   "outputs": [
    {
     "name": "stdout",
     "output_type": "stream",
     "text": [
      "ID: 894\n",
      "count: 242\n",
      "size: 242\n"
     ]
    }
   ],
   "source": [
    "counts = Counter(ids[fabric == 1])\n",
    "for i, count in counts.items():\n",
    "    if sizes[int(i)] == count:\n",
    "        print(\"ID: {}\\ncount: {}\\nsize: {}\".format(int(i), count, sizes[int(i)]))"
   ]
  },
  {
   "cell_type": "code",
   "execution_count": null,
   "metadata": {},
   "outputs": [],
   "source": []
  }
 ],
 "metadata": {
  "kernelspec": {
   "display_name": "Python 3",
   "language": "python",
   "name": "python3"
  },
  "language_info": {
   "codemirror_mode": {
    "name": "ipython",
    "version": 3
   },
   "file_extension": ".py",
   "mimetype": "text/x-python",
   "name": "python",
   "nbconvert_exporter": "python",
   "pygments_lexer": "ipython3",
   "version": "3.7.1"
  }
 },
 "nbformat": 4,
 "nbformat_minor": 2
}
