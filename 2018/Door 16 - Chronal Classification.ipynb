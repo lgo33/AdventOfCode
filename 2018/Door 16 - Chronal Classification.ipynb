{
 "cells": [
  {
   "cell_type": "code",
   "execution_count": 43,
   "metadata": {},
   "outputs": [],
   "source": [
    "import re"
   ]
  },
  {
   "cell_type": "code",
   "execution_count": 1,
   "metadata": {},
   "outputs": [],
   "source": [
    "with open('data/input_16.txt') as fh:\n",
    "    file_input = fh.read().strip()"
   ]
  },
  {
   "cell_type": "code",
   "execution_count": 4,
   "metadata": {},
   "outputs": [],
   "source": [
    "data = file_input.split(\"\\n\")"
   ]
  },
  {
   "cell_type": "code",
   "execution_count": 26,
   "metadata": {},
   "outputs": [],
   "source": [
    "tests = data[:3104]\n",
    "program = data[3106:]"
   ]
  },
  {
   "cell_type": "code",
   "execution_count": 38,
   "metadata": {},
   "outputs": [],
   "source": [
    "reg = [0,0,0,0]\n",
    "ops = {\n",
    "    'addr': lambda a, b: (reg[a] + reg[b]),\n",
    "    'addi': lambda a, b: (reg[a] + b),\n",
    "    'mulr': lambda a, b: (reg[a] * reg[b]),\n",
    "    'muli': lambda a, b: (reg[a] * b),\n",
    "    'banr': lambda a, b: (reg[a] & reg[b]),\n",
    "    'bani': lambda a, b: (reg[a] & b),\n",
    "    'borr': lambda a, b: (reg[a] | reg[b]),\n",
    "    'bori': lambda a, b: (reg[a] | b),\n",
    "    'setr': lambda a, b: (reg[a]),\n",
    "    'seti': lambda a, b: (a),\n",
    "    'gtir': lambda a, b: (1 if a > reg[b] else 0),\n",
    "    'gtri': lambda a, b: (1 if reg[a] > b else 0),\n",
    "    'gtrr': lambda a, b: (1 if reg[a] > reg[b] else 0),\n",
    "    'eqir': lambda a, b: (1 if a == reg[b] else 0),\n",
    "    'eqri': lambda a, b: (1 if reg[a] == b else 0),\n",
    "    'eqrr': lambda a, b: (1 if reg[a] == reg[b] else 0),\n",
    "}"
   ]
  },
  {
   "cell_type": "code",
   "execution_count": 37,
   "metadata": {},
   "outputs": [],
   "source": [
    "test_input = \"\"\"Before: [3, 2, 1, 1]\n",
    "9 2 1 2\n",
    "After:  [3, 2, 2, 1]\"\"\""
   ]
  },
  {
   "cell_type": "code",
   "execution_count": 40,
   "metadata": {},
   "outputs": [
    {
     "name": "stdout",
     "output_type": "stream",
     "text": [
      "(3, ['seti', 'mulr', 'addi'])\n"
     ]
    }
   ],
   "source": [
    "init = [3, 2, 1, 1]\n",
    "cmp = [3, 2, 2, 1]\n",
    "cand = []\n",
    "for op in ops:\n",
    "    reg = init[:]\n",
    "    reg[2] = ops[op](2, 1)\n",
    "    if reg == cmp:\n",
    "        cand.append(op)\n",
    "print (len(cand), cand)"
   ]
  },
  {
   "cell_type": "code",
   "execution_count": 105,
   "metadata": {},
   "outputs": [
    {
     "name": "stdout",
     "output_type": "stream",
     "text": [
      "num samples: 612\n"
     ]
    }
   ],
   "source": [
    "total = []\n",
    "n = 0\n",
    "for i in range(0, len(tests), 4):\n",
    "    init = list(map(int, re.findall('\\d+', tests[i])))\n",
    "    args = list(map(int, re.findall('\\d+', tests[i+1])))\n",
    "    cmp = list(map(int, re.findall('\\d+', tests[i+2])))\n",
    "    cand = []\n",
    "    for op in ops:\n",
    "        reg = init[:]\n",
    "        reg[args[3]] = ops[op](args[1], args[2])\n",
    "        if reg == cmp:\n",
    "            cand.append(op)\n",
    "    total.append((args[0], set(cand)))\n",
    "    if len(cand) >= 3:\n",
    "        n += 1\n",
    "print(\"num samples: {}\".format(n))"
   ]
  },
  {
   "cell_type": "code",
   "execution_count": 106,
   "metadata": {},
   "outputs": [],
   "source": [
    "op_map = {i:set(ops.keys()) for i in range(16)}\n",
    "\n",
    "\n",
    "for op, cand in total:\n",
    "    op_map[op] = op_map[op] & cand\n",
    "\n",
    "final_map = {}\n",
    "while sum([len(op_map[op]) for op in op_map]):\n",
    "    for op in op_map:\n",
    "        if len(op_map[op]) == 1:\n",
    "            final_map[op] = tuple(op_map[op])[0]\n",
    "            op_map = {o: op_map[o] - op_map[op] for o in op_map }\n",
    "    "
   ]
  },
  {
   "cell_type": "code",
   "execution_count": 107,
   "metadata": {},
   "outputs": [
    {
     "data": {
      "text/plain": [
       "{0: 'addi',\n",
       " 1: 'bani',\n",
       " 2: 'gtir',\n",
       " 3: 'borr',\n",
       " 4: 'eqrr',\n",
       " 5: 'bori',\n",
       " 6: 'gtrr',\n",
       " 7: 'setr',\n",
       " 8: 'muli',\n",
       " 9: 'seti',\n",
       " 10: 'banr',\n",
       " 11: 'gtri',\n",
       " 12: 'eqir',\n",
       " 13: 'eqri',\n",
       " 14: 'addr',\n",
       " 15: 'mulr'}"
      ]
     },
     "execution_count": 107,
     "metadata": {},
     "output_type": "execute_result"
    }
   ],
   "source": [
    "final_map"
   ]
  },
  {
   "cell_type": "code",
   "execution_count": 110,
   "metadata": {},
   "outputs": [
    {
     "name": "stdout",
     "output_type": "stream",
     "text": [
      "[485, 3, 6, 485]\n"
     ]
    }
   ],
   "source": [
    "reg = [0, 0, 0, 0]\n",
    "for line in program:\n",
    "    args = list(map(int, re.findall('\\d+', line)))\n",
    "    reg[args[3]] = ops[final_map[args[0]]](args[1], args[2])\n",
    "print(reg)"
   ]
  },
  {
   "cell_type": "code",
   "execution_count": 111,
   "metadata": {},
   "outputs": [
    {
     "name": "stdout",
     "output_type": "stream",
     "text": [
      "Part B: 485\n"
     ]
    }
   ],
   "source": [
    "print(\"Part B: {}\".format(reg[0]))"
   ]
  },
  {
   "cell_type": "code",
   "execution_count": null,
   "metadata": {},
   "outputs": [],
   "source": []
  }
 ],
 "metadata": {
  "kernelspec": {
   "display_name": "Python 3",
   "language": "python",
   "name": "python3"
  },
  "language_info": {
   "codemirror_mode": {
    "name": "ipython",
    "version": 2
   },
   "file_extension": ".py",
   "mimetype": "text/x-python",
   "name": "python",
   "nbconvert_exporter": "python",
   "pygments_lexer": "ipython2",
   "version": "2.7.14"
  }
 },
 "nbformat": 4,
 "nbformat_minor": 2
}
