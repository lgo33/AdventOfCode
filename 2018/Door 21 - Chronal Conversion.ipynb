{
 "cells": [
  {
   "cell_type": "code",
   "execution_count": 1,
   "metadata": {},
   "outputs": [],
   "source": [
    "with open('data/input_21.txt') as fh:\n",
    "    file_input = fh.read().strip()"
   ]
  },
  {
   "cell_type": "code",
   "execution_count": 19,
   "metadata": {},
   "outputs": [
    {
     "name": "stdout",
     "output_type": "stream",
     "text": [
      "0 seti 123 0 5\n",
      "1 bani 5 456 5\n",
      "2 eqri 5 72 5\n",
      "3 addr 5 1 1\n",
      "4 seti 0 0 1\n",
      "5 seti 0 6 5\n",
      "6 bori 5 65536 4\n",
      "7 seti 13431073 4 5\n",
      "8 bani 4 255 3\n",
      "9 addr 5 3 5\n",
      "10 bani 5 16777215 5\n",
      "11 muli 5 65899 5\n",
      "12 bani 5 16777215 5\n",
      "13 gtir 256 4 3\n",
      "14 addr 3 1 1\n",
      "15 addi 1 1 1\n",
      "16 seti 27 9 1\n",
      "17 seti 0 1 3\n",
      "18 addi 3 1 2\n",
      "19 muli 2 256 2\n",
      "20 gtrr 2 4 2\n",
      "21 addr 2 1 1\n",
      "22 addi 1 1 1\n",
      "23 seti 25 4 1\n",
      "24 addi 3 1 3\n",
      "25 seti 17 8 1\n",
      "26 setr 3 4 4\n",
      "27 seti 7 7 1\n",
      "28 eqrr 5 0 3\n",
      "29 addr 3 1 1\n",
      "30 seti 5 9 1\n"
     ]
    }
   ],
   "source": [
    "for i, line in enumerate(file_input.split('\\n')[1:]):\n",
    "    print(\"{} {}\".format(i, line))"
   ]
  },
  {
   "cell_type": "code",
   "execution_count": 111,
   "metadata": {},
   "outputs": [],
   "source": [
    "def gen_next(five):\n",
    "    four = 65536 | five\n",
    "    five = 13431073\n",
    "    while four >= 1:\n",
    "        # print(four, five)\n",
    "        five += four & 255\n",
    "        five &= 16777215\n",
    "        five *= 65899\n",
    "        five &= 16777215\n",
    "        four >>= 8\n",
    "    \n",
    "    return five\n",
    "    "
   ]
  },
  {
   "cell_type": "code",
   "execution_count": 45,
   "metadata": {},
   "outputs": [],
   "source": [
    "class VM(object):\n",
    "    def __init__(self, bound=None, debug=False, maxit = -1):\n",
    "        self.ip = 0\n",
    "        self.reg = [0, 0, 0, 0, 0, 0]\n",
    "        self.bound = bound\n",
    "        self.mem = []\n",
    "        self.debug = debug\n",
    "        self.maxit = maxit\n",
    "        \n",
    "    def operations(self, ins, *args):\n",
    "        ops = {\n",
    "            'addr': lambda a, b: (self.reg[a] + self.reg[b]),\n",
    "            'addi': lambda a, b: (self.reg[a] + b),\n",
    "            'mulr': lambda a, b: (self.reg[a] * self.reg[b]),\n",
    "            'muli': lambda a, b: (self.reg[a] * b),\n",
    "            'banr': lambda a, b: (self.reg[a] & self.reg[b]),\n",
    "            'bani': lambda a, b: (self.reg[a] & b),\n",
    "            'borr': lambda a, b: (self.reg[a] | self.reg[b]),\n",
    "            'bori': lambda a, b: (self.reg[a] | b),\n",
    "            'setr': lambda a, b: (self.reg[a]),\n",
    "            'seti': lambda a, b: (a),\n",
    "            'gtir': lambda a, b: (1 if a > self.reg[b] else 0),\n",
    "            'gtri': lambda a, b: (1 if self.reg[a] > b else 0),\n",
    "            'gtrr': lambda a, b: (1 if self.reg[a] > self.reg[b] else 0),\n",
    "            'gtrr_mod': lambda a, b: (1 if self.reg[a]**2 > self.reg[b] else 0),\n",
    "            'eqir': lambda a, b: (1 if a == self.reg[b] else 0),\n",
    "            'eqri': lambda a, b: (1 if self.reg[a] == b else 0),\n",
    "            'eqrr': lambda a, b: (1 if self.reg[a] == self.reg[b] else 0),\n",
    "        }\n",
    "        if ins == '#ip':\n",
    "            self.bound = args[0]\n",
    "        else:\n",
    "            self.reg[args[2]] = ops[ins](args[0], args[1])\n",
    "        \n",
    "        \n",
    "    def load(self, inp):\n",
    "        inp = inp.split('\\n')\n",
    "        self.mem = []\n",
    "        self.ip = 0\n",
    "        for line in inp:\n",
    "            args = line.split()\n",
    "            if len(args) == 4:\n",
    "                self.mem.append((args[0], int(args[1]), int(args[2]), int(args[3])))\n",
    "            elif len(args) == 2:\n",
    "                pass\n",
    "#                 self.mem.append((args[0], int(args[1]), 0, 0))\n",
    "    \n",
    "    def exe(self):\n",
    "        if self.bound is not None:\n",
    "            self.reg[self.bound] = self.ip\n",
    "        ins = self.mem[self.ip]\n",
    "        before = (self.ip, self.reg[:])\n",
    "        self.operations(*ins)\n",
    "        if self.bound is not None:\n",
    "            self.ip = self.reg[self.bound]\n",
    "        self.ip += 1\n",
    "        if self.debug and before[0] in self.debug:\n",
    "            print(\"{:50s} {:20s} {} {}\".format(before, ins, (self.ip, self.reg), self.i))\n",
    "    \n",
    "    def run(self):\n",
    "        self.i = 0\n",
    "        while True:\n",
    "            self.exe()\n",
    "            if self.ip < 0 or self.ip >= len(self.mem):\n",
    "                break\n",
    "            self.i+=1\n",
    "            if self.i == self.maxit:\n",
    "                break"
   ]
  },
  {
   "cell_type": "code",
   "execution_count": 58,
   "metadata": {},
   "outputs": [
    {
     "name": "stdout",
     "output_type": "stream",
     "text": [
      "(28, [3115806, 28, 1, 1, 1, 3115806])              ('eqrr', 5, 0, 3)    (29, [3115806, 28, 1, 1, 1, 3115806]) 1846\n",
      "(1847, [3115806, 30, 1, 1, 1, 3115806])\n",
      "CPU times: user 17.7 ms, sys: 4.28 ms, total: 22 ms\n",
      "Wall time: 18.9 ms\n"
     ]
    }
   ],
   "source": [
    "%%time\n",
    "vm = VM(bound=1, debug=[28], maxit=200000)\n",
    "vm.load(file_input)\n",
    "vm.reg[0] = 3115806\n",
    "#vm.mem[9] = ('gtrr_mod', 2, 4, 3)\n",
    "vm.run()\n",
    "print(vm.i, vm.reg)\n"
   ]
  },
  {
   "cell_type": "code",
   "execution_count": 48,
   "metadata": {},
   "outputs": [
    {
     "name": "stdout",
     "output_type": "stream",
     "text": [
      "(0, [0, 0, 0, 0, 0, 0])                            ('seti', 123, 0, 5)  (1, [0, 0, 0, 0, 0, 123]) 0\n",
      "(1, [0, 1, 0, 0, 0, 123])                          ('bani', 5, 456, 5)  (2, [0, 1, 0, 0, 0, 72]) 1\n",
      "(2, [0, 2, 0, 0, 0, 72])                           ('eqri', 5, 72, 5)   (3, [0, 2, 0, 0, 0, 1]) 2\n",
      "(3, [0, 3, 0, 0, 0, 1])                            ('addr', 5, 1, 1)    (5, [0, 4, 0, 0, 0, 1]) 3\n",
      "(5, [0, 5, 0, 0, 0, 1])                            ('seti', 0, 6, 5)    (6, [0, 5, 0, 0, 0, 0]) 4\n",
      "(6, [0, 6, 0, 0, 0, 0])                            ('bori', 5, 65536, 4) (7, [0, 6, 0, 0, 65536, 0]) 5\n",
      "(7, [0, 7, 0, 0, 65536, 0])                        ('seti', 13431073, 4, 5) (8, [0, 7, 0, 0, 65536, 13431073]) 6\n",
      "(8, [0, 8, 0, 0, 65536, 13431073])                 ('bani', 4, 255, 3)  (9, [0, 8, 0, 0, 65536, 13431073]) 7\n",
      "(9, [0, 9, 0, 0, 65536, 13431073])                 ('addr', 5, 3, 5)    (10, [0, 9, 0, 0, 65536, 13431073]) 8\n",
      "(10, [0, 10, 0, 0, 65536, 13431073])               ('bani', 5, 16777215, 5) (11, [0, 10, 0, 0, 65536, 13431073]) 9\n",
      "(11, [0, 11, 0, 0, 65536, 13431073])               ('muli', 5, 65899, 5) (12, [0, 11, 0, 0, 65536, 885094279627]) 10\n",
      "(12, [0, 12, 0, 0, 65536, 885094279627])           ('bani', 5, 16777215, 5) (13, [0, 12, 0, 0, 65536, 12249547]) 11\n",
      "(13, [0, 13, 0, 0, 65536, 12249547])               ('gtir', 256, 4, 3)  (14, [0, 13, 0, 0, 65536, 12249547]) 12\n",
      "(14, [0, 14, 0, 0, 65536, 12249547])               ('addr', 3, 1, 1)    (15, [0, 14, 0, 0, 65536, 12249547]) 13\n",
      "(15, [0, 15, 0, 0, 65536, 12249547])               ('addi', 1, 1, 1)    (17, [0, 16, 0, 0, 65536, 12249547]) 14\n",
      "(17, [0, 17, 0, 0, 65536, 12249547])               ('seti', 0, 1, 3)    (18, [0, 17, 0, 0, 65536, 12249547]) 15\n",
      "(18, [0, 18, 0, 0, 65536, 12249547])               ('addi', 3, 1, 2)    (19, [0, 18, 1, 0, 65536, 12249547]) 16\n",
      "(19, [0, 19, 1, 0, 65536, 12249547])               ('muli', 2, 256, 2)  (20, [0, 19, 256, 0, 65536, 12249547]) 17\n",
      "(20, [0, 20, 256, 0, 65536, 12249547])             ('gtrr', 2, 4, 2)    (21, [0, 20, 0, 0, 65536, 12249547]) 18\n",
      "(21, [0, 21, 0, 0, 65536, 12249547])               ('addr', 2, 1, 1)    (22, [0, 21, 0, 0, 65536, 12249547]) 19\n",
      "(20, [0, 21, 0, 0, 65536, 12249547])\n",
      "CPU times: user 4.57 ms, sys: 2.48 ms, total: 7.05 ms\n",
      "Wall time: 5.13 ms\n"
     ]
    }
   ],
   "source": [
    "%%time\n",
    "vm = VM(bound=1, debug=list(range(100)), maxit=20)\n",
    "vm.load(file_input)\n",
    "vm.reg[0] = 0\n",
    "# vm.mem[9] = ('gtrr_mod', 2, 4, 3)\n",
    "vm.run()\n",
    "print(vm.i, vm.reg)"
   ]
  },
  {
   "cell_type": "code",
   "execution_count": 109,
   "metadata": {},
   "outputs": [
    {
     "name": "stdout",
     "output_type": "stream",
     "text": [
      "(28, [0, 28, 1, 1, 1, 3115806])                    ('eqrr', 5, 0, 3)    (29, [0, 28, 1, 0, 1, 3115806]) 1846\n",
      "(28, [0, 28, 1, 1, 47, 3741829])                   ('eqrr', 5, 0, 3)    (29, [0, 28, 1, 0, 47, 3741829]) 87417\n",
      "(28, [0, 28, 1, 1, 57, 3052285])                   ('eqrr', 5, 0, 3)    (29, [0, 28, 1, 0, 57, 3052285]) 190173\n",
      "(200000, [0, 24, 0, 1402, 3117821, 12144778])\n"
     ]
    }
   ],
   "source": [
    "vm = VM(bound=1, debug=[28], maxit=200000)\n",
    "vm.load(file_input)\n",
    "vm.reg[0] = 0\n",
    "# vm.mem[9] = ('gtrr_mod', 2, 4, 3)\n",
    "vm.run()\n",
    "print(vm.i, vm.reg)"
   ]
  },
  {
   "cell_type": "markdown",
   "metadata": {},
   "source": [
    "Part A"
   ]
  },
  {
   "cell_type": "code",
   "execution_count": 119,
   "metadata": {},
   "outputs": [
    {
     "data": {
      "text/plain": [
       "3115806"
      ]
     },
     "execution_count": 119,
     "metadata": {},
     "output_type": "execute_result"
    }
   ],
   "source": [
    "gen_next(0)"
   ]
  },
  {
   "cell_type": "markdown",
   "metadata": {},
   "source": [
    "Part B"
   ]
  },
  {
   "cell_type": "code",
   "execution_count": 118,
   "metadata": {},
   "outputs": [
    {
     "name": "stdout",
     "output_type": "stream",
     "text": [
      "13959373\n",
      "CPU times: user 1.01 s, sys: 19.5 ms, total: 1.03 s\n",
      "Wall time: 1.09 s\n"
     ]
    }
   ],
   "source": [
    "%%time\n",
    "n = 0\n",
    "seen = []\n",
    "while True:\n",
    "    n = gen_next(n)\n",
    "    if n in seen:\n",
    "        break\n",
    "    seen.append(n)\n",
    "print (seen[-1])"
   ]
  },
  {
   "cell_type": "code",
   "execution_count": null,
   "metadata": {},
   "outputs": [],
   "source": []
  }
 ],
 "metadata": {
  "kernelspec": {
   "display_name": "Python 3",
   "language": "python",
   "name": "python3"
  },
  "language_info": {
   "codemirror_mode": {
    "name": "ipython",
    "version": 2
   },
   "file_extension": ".py",
   "mimetype": "text/x-python",
   "name": "python",
   "nbconvert_exporter": "python",
   "pygments_lexer": "ipython2",
   "version": "2.7.14"
  }
 },
 "nbformat": 4,
 "nbformat_minor": 2
}
