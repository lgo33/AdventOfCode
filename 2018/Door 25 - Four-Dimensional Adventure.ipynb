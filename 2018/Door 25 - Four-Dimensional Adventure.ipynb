{
 "cells": [
  {
   "cell_type": "code",
   "execution_count": 7,
   "metadata": {},
   "outputs": [],
   "source": [
    "import re\n",
    "import numpy as np"
   ]
  },
  {
   "cell_type": "code",
   "execution_count": 1,
   "metadata": {},
   "outputs": [],
   "source": [
    "with open('data/input_25.txt') as fh:\n",
    "    file_input = fh.read().strip()"
   ]
  },
  {
   "cell_type": "code",
   "execution_count": 3,
   "metadata": {},
   "outputs": [],
   "source": [
    "test_input_0 = \"\"\" 0,0,0,0\n",
    " 3,0,0,0\n",
    " 0,3,0,0\n",
    " 0,0,3,0\n",
    " 0,0,0,3\n",
    " 0,0,0,6\n",
    " 9,0,0,0\n",
    "12,0,0,0\"\"\""
   ]
  },
  {
   "cell_type": "code",
   "execution_count": 10,
   "metadata": {},
   "outputs": [],
   "source": [
    "def parse(inp):\n",
    "    for line in inp.split('\\n'):\n",
    "        yield list(map(int, re.findall('-*\\d+', line)))       "
   ]
  },
  {
   "cell_type": "code",
   "execution_count": 9,
   "metadata": {},
   "outputs": [
    {
     "data": {
      "text/plain": [
       "array([[ 0,  0,  0,  0],\n",
       "       [ 3,  0,  0,  0],\n",
       "       [ 0,  3,  0,  0],\n",
       "       [ 0,  0,  3,  0],\n",
       "       [ 0,  0,  0,  3],\n",
       "       [ 0,  0,  0,  6],\n",
       "       [ 9,  0,  0,  0],\n",
       "       [12,  0,  0,  0]])"
      ]
     },
     "execution_count": 9,
     "metadata": {},
     "output_type": "execute_result"
    }
   ],
   "source": [
    "points = np.array(list(parse(test_input)))"
   ]
  },
  {
   "cell_type": "code",
   "execution_count": 82,
   "metadata": {},
   "outputs": [],
   "source": [
    "def fof(inp):\n",
    "    points = np.array(list(parse(inp)))\n",
    "    npoints, _ = points.shape\n",
    "    clusters = np.arange(npoints)\n",
    "\n",
    "    for i in range(npoints):\n",
    "        idx = clusters[i]\n",
    "        dist = np.sum(np.abs(points - points[i, :]), axis=1)\n",
    "#         print (dist)\n",
    "        to_join = (np.where( (dist<=3) & (clusters!=idx) ))[0]\n",
    "#         print(to_join)\n",
    "        for jdx in to_join:\n",
    "            clusters[ clusters == clusters[jdx] ] = idx\n",
    "    return points, clusters\n",
    "#     print(to_join)\n",
    "#     clusters[dist<=3] = idx\n",
    "#     print (dist)"
   ]
  },
  {
   "cell_type": "markdown",
   "metadata": {},
   "source": [
    "Tests"
   ]
  },
  {
   "cell_type": "code",
   "execution_count": 83,
   "metadata": {},
   "outputs": [],
   "source": [
    "points, clusters = fof(\"\"\" 0,0,0,0\n",
    " 3,0,0,0\n",
    " 0,3,0,0\n",
    " 0,0,3,0\n",
    " 0,0,0,3\n",
    " 0,0,0,6\n",
    " 9,0,0,0\n",
    "12,0,0,0\"\"\")\n",
    "\n",
    "assert(len(np.unique(clusters)) == 2)"
   ]
  },
  {
   "cell_type": "code",
   "execution_count": 84,
   "metadata": {},
   "outputs": [],
   "source": [
    "points, clusters = fof(\"\"\" 0,0,0,0\n",
    " 3,0,0,0\n",
    " 0,3,0,0\n",
    " 0,0,3,0\n",
    " 0,0,0,3\n",
    " 0,0,0,6\n",
    " 9,0,0,0\n",
    "12,0,0,0\n",
    " 6,0,0,0\"\"\")\n",
    "\n",
    "assert(len(np.unique(clusters)) == 1)"
   ]
  },
  {
   "cell_type": "code",
   "execution_count": 85,
   "metadata": {},
   "outputs": [],
   "source": [
    "points, clusters = fof(\"\"\" -1,2,2,0\n",
    "0,0,2,-2\n",
    "0,0,0,-2\n",
    "-1,2,0,0\n",
    "-2,-2,-2,2\n",
    "3,0,2,-1\n",
    "-1,3,2,2\n",
    "-1,0,-1,0\n",
    "0,2,1,-2\n",
    "3,0,0,0\"\"\")\n",
    "\n",
    "assert(len(np.unique(clusters)) == 4)"
   ]
  },
  {
   "cell_type": "code",
   "execution_count": 86,
   "metadata": {},
   "outputs": [],
   "source": [
    "points, clusters = fof(\"\"\" 1,-1,0,1\n",
    "2,0,-1,0\n",
    "3,2,-1,0\n",
    "0,0,3,1\n",
    "0,0,-1,-1\n",
    "2,3,-2,0\n",
    "-2,2,0,0\n",
    "2,-2,0,-1\n",
    "1,-1,0,-1\n",
    "3,2,0,2\"\"\")\n",
    "\n",
    "assert(len(np.unique(clusters)) == 3)"
   ]
  },
  {
   "cell_type": "code",
   "execution_count": 90,
   "metadata": {},
   "outputs": [],
   "source": [
    "points, clusters = fof(\"\"\"1,-1,-1,-2\n",
    "-2,-2,0,1\n",
    "0,2,1,3\n",
    "-2,3,-2,1\n",
    "0,2,3,-2\n",
    "-1,-1,1,-2\n",
    "0,-2,-1,0\n",
    "-2,2,3,-1\n",
    "1,2,2,0\n",
    "-1,-2,0,-2\"\"\")\n",
    "\n",
    "assert(len(np.unique(clusters)) == 8)"
   ]
  },
  {
   "cell_type": "markdown",
   "metadata": {},
   "source": [
    "Part A"
   ]
  },
  {
   "cell_type": "code",
   "execution_count": 97,
   "metadata": {},
   "outputs": [
    {
     "data": {
      "text/plain": [
       "430"
      ]
     },
     "execution_count": 97,
     "metadata": {},
     "output_type": "execute_result"
    }
   ],
   "source": [
    "points, clusters = fof(file_input)\n",
    "\n",
    "len(np.unique(clusters))"
   ]
  },
  {
   "cell_type": "code",
   "execution_count": null,
   "metadata": {},
   "outputs": [],
   "source": []
  }
 ],
 "metadata": {
  "kernelspec": {
   "display_name": "Python 3",
   "language": "python",
   "name": "python3"
  },
  "language_info": {
   "codemirror_mode": {
    "name": "ipython",
    "version": 2
   },
   "file_extension": ".py",
   "mimetype": "text/x-python",
   "name": "python",
   "nbconvert_exporter": "python",
   "pygments_lexer": "ipython2",
   "version": "2.7.14"
  }
 },
 "nbformat": 4,
 "nbformat_minor": 2
}
