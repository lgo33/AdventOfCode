{
 "cells": [
  {
   "cell_type": "code",
   "execution_count": 1,
   "metadata": {},
   "outputs": [],
   "source": [
    "test_input = \"\"\"dabAcCaCBAcCcaDA\"\"\""
   ]
  },
  {
   "cell_type": "code",
   "execution_count": 2,
   "metadata": {},
   "outputs": [],
   "source": [
    "with open('data/input_05.txt') as fh:\n",
    "    file_input = fh.read().strip()"
   ]
  },
  {
   "cell_type": "code",
   "execution_count": 4,
   "metadata": {},
   "outputs": [],
   "source": [
    "inp = test_input"
   ]
  },
  {
   "cell_type": "code",
   "execution_count": 12,
   "metadata": {},
   "outputs": [],
   "source": [
    "def match(a, b):\n",
    "    if a.lower() == b.lower() and a != b:\n",
    "        return True\n",
    "    return False"
   ]
  },
  {
   "cell_type": "markdown",
   "metadata": {},
   "source": [
    "Part A"
   ]
  },
  {
   "cell_type": "code",
   "execution_count": 34,
   "metadata": {},
   "outputs": [
    {
     "name": "stdout",
     "output_type": "stream",
     "text": [
      "9202\n"
     ]
    }
   ],
   "source": [
    "# inp = test_input\n",
    "inp = file_input\n",
    "i = 0\n",
    "while i < (len(inp) - 1):\n",
    "#     print (\"i: {}\".format(inp))\n",
    "    if i < 0: i = 0\n",
    "    if match(inp[i], inp[i+1]):\n",
    "#         print(\"match: {}\", inp[i:i+2])\n",
    "        inp = inp[:i] + inp[i+2:]\n",
    "        i -= 1\n",
    "        continue\n",
    "    i += 1\n",
    "    \n",
    "print(len(inp))"
   ]
  },
  {
   "cell_type": "markdown",
   "metadata": {},
   "source": [
    "Part B"
   ]
  },
  {
   "cell_type": "code",
   "execution_count": 40,
   "metadata": {},
   "outputs": [
    {
     "name": "stdout",
     "output_type": "stream",
     "text": [
      "a 8816\n",
      "b 8844\n",
      "c 8842\n",
      "d 8892\n",
      "e 8846\n",
      "f 8886\n",
      "g 8820\n",
      "h 8818\n",
      "i 8796\n",
      "j 8824\n",
      "k 6394\n",
      "l 8814\n",
      "m 8850\n",
      "n 8862\n",
      "o 8822\n",
      "p 8798\n",
      "q 8796\n",
      "r 8850\n",
      "s 8762\n",
      "t 8848\n",
      "u 8854\n",
      "v 8788\n",
      "w 8860\n",
      "x 8836\n",
      "y 8846\n",
      "z 8834\n"
     ]
    }
   ],
   "source": [
    "# inp = test_input\n",
    "lengths = {}\n",
    "for remove_item in [chr(ord('a') + i) for i in range(26)]:\n",
    "    inp = file_input\n",
    "    inp = inp.replace(remove_item, '')\n",
    "    inp = inp.replace(remove_item.upper(), '')\n",
    "    i = 0\n",
    "    while i < (len(inp) - 1):\n",
    "    #     print (\"i: {}\".format(inp))\n",
    "        if i < 0: i = 0\n",
    "        if match(inp[i], inp[i+1]):\n",
    "    #         print(\"match: {}\", inp[i:i+2])\n",
    "            inp = inp[:i] + inp[i+2:]\n",
    "            i -= 1\n",
    "            continue\n",
    "        i += 1\n",
    "    lengths[remove_item] = len(inp)\n",
    "    print(remove_item, len(inp))"
   ]
  },
  {
   "cell_type": "code",
   "execution_count": 50,
   "metadata": {},
   "outputs": [
    {
     "name": "stdout",
     "output_type": "stream",
     "text": [
      "k 6394\n"
     ]
    }
   ],
   "source": [
    "_min = 1<<32\n",
    "_i = -1\n",
    "for i in lengths:\n",
    "    if lengths[i] < _min:\n",
    "        _min = lengths[i]\n",
    "        _i = i\n",
    "print(_i, lengths[_i])"
   ]
  },
  {
   "cell_type": "code",
   "execution_count": null,
   "metadata": {},
   "outputs": [],
   "source": []
  }
 ],
 "metadata": {
  "kernelspec": {
   "display_name": "Python 3",
   "language": "python",
   "name": "python3"
  },
  "language_info": {
   "codemirror_mode": {
    "name": "ipython",
    "version": 3
   },
   "file_extension": ".py",
   "mimetype": "text/x-python",
   "name": "python",
   "nbconvert_exporter": "python",
   "pygments_lexer": "ipython3",
   "version": "3.7.1"
  }
 },
 "nbformat": 4,
 "nbformat_minor": 2
}
