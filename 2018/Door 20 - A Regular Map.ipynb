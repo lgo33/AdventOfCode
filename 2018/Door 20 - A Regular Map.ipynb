{
 "cells": [
  {
   "cell_type": "code",
   "execution_count": 179,
   "metadata": {},
   "outputs": [],
   "source": [
    "from copy import deepcopy\n",
    "import networkx as nx"
   ]
  },
  {
   "cell_type": "code",
   "execution_count": 1,
   "metadata": {},
   "outputs": [],
   "source": [
    "with open('data/input_20.txt') as fh:\n",
    "    file_input = fh.read().strip()"
   ]
  },
  {
   "cell_type": "code",
   "execution_count": 3,
   "metadata": {},
   "outputs": [],
   "source": [
    "test_input = \"\"\"^WSSEESWWWNW(S|NENNEEEENN(ESSSSW(NWSW|SSEN)|WSWWN(E|WWS(E|SS))))$\"\"\""
   ]
  },
  {
   "cell_type": "code",
   "execution_count": 13,
   "metadata": {},
   "outputs": [],
   "source": [
    "test_input = \"\"\"^ENWWW(NEEE|SSE(EE|N))$\"\"\""
   ]
  },
  {
   "cell_type": "code",
   "execution_count": 74,
   "metadata": {},
   "outputs": [
    {
     "name": "stdout",
     "output_type": "stream",
     "text": [
      "('! ', 'aaa(NEEE|SSE(EE|N)NNEW)g')\n",
      "(3, 19)\n",
      "('! ', 'NEEE|SSE(EE|N)NNEW')\n",
      "(8, 5)\n",
      "('! ', 'EE|N')\n"
     ]
    }
   ],
   "source": [
    "s = \"aaa(NEEE|SSE(EE|N)NNEW)g\"\n",
    "test(s)"
   ]
  },
  {
   "cell_type": "code",
   "execution_count": 67,
   "metadata": {},
   "outputs": [
    {
     "data": {
      "text/plain": [
       "'(NEEE|SSE(EE|N)sdf)'"
      ]
     },
     "execution_count": 67,
     "metadata": {},
     "output_type": "execute_result"
    }
   ],
   "source": [
    "s[3:22]"
   ]
  },
  {
   "cell_type": "code",
   "execution_count": 193,
   "metadata": {},
   "outputs": [],
   "source": [
    "def find_matching_parenthesis(string):\n",
    "    n = 0\n",
    "    i = 0\n",
    "    while i < len(string):\n",
    "        if string[i] == '(':\n",
    "            n += 1\n",
    "        elif string[i] == ')':\n",
    "            n -= 1\n",
    "        if n == 0:\n",
    "            return i\n",
    "        i += 1\n",
    "\n",
    "dirs = {\n",
    "    'N': (0, -1),\n",
    "    'W': (-1, 0),\n",
    "    'S': (0, 1),\n",
    "    'E': (1, 0),\n",
    "}\n",
    "\n",
    "def parse(starting_points, string):\n",
    "    i = 0\n",
    "    points = deepcopy(starting_points)\n",
    "    end_points = []\n",
    "    edges = []\n",
    "    while i < len(string):\n",
    "        if string[i] == '(':\n",
    "            idx = find_matching_parenthesis(string[i:])\n",
    "            ps, es = parse(points, string[i+1:i+idx])\n",
    "            points = []\n",
    "            for p in ps:\n",
    "                if p not in points:\n",
    "                    points.append(p[:])\n",
    "            edges += es\n",
    "            # points = list(set(points))\n",
    "            i += idx\n",
    "        elif string[i] == '|':\n",
    "            end_points += deepcopy(points)\n",
    "            points = deepcopy(starting_points)\n",
    "        elif string[i] in \"NESW\":\n",
    "            for p in points:\n",
    "                x, y = dirs[string[i]]\n",
    "                edges += ((tuple(p), (p[0]+x, p[1]+y)),)\n",
    "                #print(p, x, y, p[0], p[1], (tuple(p), (p[0]+x, p[1]+y)),)\n",
    "                p[0] += x\n",
    "                p[1] += y               \n",
    "        i += 1\n",
    "    end_points += deepcopy(points)\n",
    "    \n",
    "    # print(string, starting_points, end_points, edges)\n",
    "    return (end_points, edges)\n",
    "\n",
    "def get_path_len(inp):\n",
    "    ep, edges = parse([[0,0]], inp)\n",
    "    G = nx.Graph()\n",
    "    G.add_edges_from(edges)\n",
    "    dists = nx.shortest_path(G, source=(0, 0))\n",
    "    return ({target: len(path)-1 for target, path in dists.iteritems()})"
   ]
  },
  {
   "cell_type": "code",
   "execution_count": 194,
   "metadata": {},
   "outputs": [
    {
     "name": "stdout",
     "output_type": "stream",
     "text": [
      "[((0, 0), (0, -1)), ((0, -1), (0, -2)), ((0, -2), (0, -3)), ((0, -3), (0, -4))]\n"
     ]
    }
   ],
   "source": [
    "ep, edges = parse([[0,0]], \"NNNN\")\n",
    "print(edges)"
   ]
  },
  {
   "cell_type": "code",
   "execution_count": 195,
   "metadata": {},
   "outputs": [
    {
     "data": {
      "text/plain": [
       "{(-1, -2): 3, (-1, -1): 2, (0, -1): 1, (0, 0): 0, (1, -2): 3, (1, -1): 2}"
      ]
     },
     "execution_count": 195,
     "metadata": {},
     "output_type": "execute_result"
    }
   ],
   "source": [
    "get_path_len(\"N(E|W)N\")"
   ]
  },
  {
   "cell_type": "markdown",
   "metadata": {},
   "source": [
    "Test"
   ]
  },
  {
   "cell_type": "code",
   "execution_count": 198,
   "metadata": {},
   "outputs": [
    {
     "name": "stdout",
     "output_type": "stream",
     "text": [
      "23\n"
     ]
    }
   ],
   "source": [
    "lengths = get_path_len(\"^ESSWWN(E|NNENN(EESS(WNSE|)SSS|WWWSSSSE(SW|NNNE)))$\")\n",
    "print(max(lengths.values()))"
   ]
  },
  {
   "cell_type": "markdown",
   "metadata": {},
   "source": [
    "Part A"
   ]
  },
  {
   "cell_type": "code",
   "execution_count": 199,
   "metadata": {},
   "outputs": [
    {
     "name": "stdout",
     "output_type": "stream",
     "text": [
      "4721\n",
      "CPU times: user 2.36 s, sys: 211 ms, total: 2.57 s\n",
      "Wall time: 2.74 s\n"
     ]
    }
   ],
   "source": [
    "%%time\n",
    "lengths = get_path_len(file_input)\n",
    "print(max(lengths.values()))"
   ]
  },
  {
   "cell_type": "markdown",
   "metadata": {},
   "source": [
    "Part B"
   ]
  },
  {
   "cell_type": "code",
   "execution_count": 200,
   "metadata": {},
   "outputs": [
    {
     "name": "stdout",
     "output_type": "stream",
     "text": [
      "8281\n"
     ]
    }
   ],
   "source": [
    "n = 0\n",
    "for l in lengths.values():\n",
    "    if l >= 1000:\n",
    "        n += 1\n",
    "print(n)"
   ]
  },
  {
   "cell_type": "code",
   "execution_count": null,
   "metadata": {},
   "outputs": [],
   "source": []
  }
 ],
 "metadata": {
  "kernelspec": {
   "display_name": "Python 3",
   "language": "python",
   "name": "python3"
  },
  "language_info": {
   "codemirror_mode": {
    "name": "ipython",
    "version": 2
   },
   "file_extension": ".py",
   "mimetype": "text/x-python",
   "name": "python",
   "nbconvert_exporter": "python",
   "pygments_lexer": "ipython2",
   "version": "2.7.14"
  }
 },
 "nbformat": 4,
 "nbformat_minor": 2
}
