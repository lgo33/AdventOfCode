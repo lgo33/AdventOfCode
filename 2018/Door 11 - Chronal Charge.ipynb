{
 "cells": [
  {
   "cell_type": "code",
   "execution_count": 1,
   "metadata": {},
   "outputs": [],
   "source": [
    "import numpy as np\n",
    "from numba import jit"
   ]
  },
  {
   "cell_type": "code",
   "execution_count": 2,
   "metadata": {},
   "outputs": [],
   "source": [
    "file_input = 1308\n",
    "test_input = 8\n",
    "\n",
    "inp = test_input"
   ]
  },
  {
   "cell_type": "code",
   "execution_count": 6,
   "metadata": {},
   "outputs": [],
   "source": [
    "@jit(nopython=True)\n",
    "def getPowerLevel(x, y, serial_number=inp):\n",
    "    rackID = x + 10\n",
    "    pl = rackID * y + serial_number\n",
    "    pl *= rackID\n",
    "    # keep the hundreds digit\n",
    "    pl = (pl // 100) % 10\n",
    "    return pl - 5"
   ]
  },
  {
   "cell_type": "code",
   "execution_count": 7,
   "metadata": {},
   "outputs": [],
   "source": [
    "assert(getPowerLevel(3, 5, 8) == 4)\n",
    "assert(getPowerLevel(122, 79, 57) == -5)\n",
    "assert(getPowerLevel(217, 196, 39) == 0)\n",
    "assert(getPowerLevel(101, 153, 71) == 4)"
   ]
  },
  {
   "cell_type": "code",
   "execution_count": 25,
   "metadata": {},
   "outputs": [],
   "source": [
    "def genGrid(serial_number, ngrid=300, window_size=3):\n",
    "    xx, yy = np.meshgrid(np.arange(1, ngrid+1), np.arange(1, ngrid+1))\n",
    "    grid = getPowerLevel(xx, yy, serial_number)\n",
    "    sum_grid = np.zeros((ngrid, ngrid))\n",
    "    for i in range(ngrid-window_size+1):\n",
    "        for j in range(ngrid-window_size+1):\n",
    "            sum_grid[i, j] = grid[i:i+window_size, j:j+window_size].sum()\n",
    "    return grid, sum_grid"
   ]
  },
  {
   "cell_type": "markdown",
   "metadata": {},
   "source": [
    "### Test\n",
    "For grid serial number 18, the largest total 3x3 square has a top-left corner of 33,45 (with a total power of 29)"
   ]
  },
  {
   "cell_type": "code",
   "execution_count": 16,
   "metadata": {},
   "outputs": [
    {
     "name": "stdout",
     "output_type": "stream",
     "text": [
      "CPU times: user 0 ns, sys: 0 ns, total: 0 ns\n",
      "Wall time: 12.4 µs\n"
     ]
    }
   ],
   "source": [
    "%time\n",
    "grid, sum_grid = genGrid(18)     "
   ]
  },
  {
   "cell_type": "code",
   "execution_count": 17,
   "metadata": {},
   "outputs": [
    {
     "name": "stdout",
     "output_type": "stream",
     "text": [
      "33 45 29.0\n"
     ]
    }
   ],
   "source": [
    "y, x = np.unravel_index(np.argmax(sum_grid), sum_grid.shape)\n",
    "print(x+1, y+1, sum_grid[y, x])"
   ]
  },
  {
   "cell_type": "markdown",
   "metadata": {},
   "source": [
    "For grid serial number 42, the largest 3x3 square's top-left is 21,61 (with a total power of 30)"
   ]
  },
  {
   "cell_type": "code",
   "execution_count": 18,
   "metadata": {},
   "outputs": [
    {
     "name": "stdout",
     "output_type": "stream",
     "text": [
      "21 61 30.0\n"
     ]
    }
   ],
   "source": [
    "grid, sum_grid = genGrid(42)\n",
    "y, x = np.unravel_index(np.argmax(sum_grid), sum_grid.shape)\n",
    "print(x+1, y+1, sum_grid[y, x])"
   ]
  },
  {
   "cell_type": "markdown",
   "metadata": {},
   "source": [
    "# Part A"
   ]
  },
  {
   "cell_type": "code",
   "execution_count": 19,
   "metadata": {},
   "outputs": [
    {
     "name": "stdout",
     "output_type": "stream",
     "text": [
      "21 41 31.0\n"
     ]
    }
   ],
   "source": [
    "grid, sum_grid = genGrid(file_input)\n",
    "y, x = np.unravel_index(np.argmax(sum_grid), sum_grid.shape)\n",
    "print(x+1, y+1, sum_grid[y, x])\n",
    "#print (\"X: {} Y: {} | total power {}\".format(xi, yi, sum_grid[yi-1, xi-1]))"
   ]
  },
  {
   "cell_type": "markdown",
   "metadata": {},
   "source": [
    "# Part B"
   ]
  },
  {
   "cell_type": "code",
   "execution_count": 26,
   "metadata": {},
   "outputs": [],
   "source": [
    "def genGridMult(serial_number, ngrid=300):\n",
    "    xx, yy = np.meshgrid(np.arange(1, ngrid+1), np.arange(1, ngrid+1))\n",
    "    grid = getPowerLevel(xx, yy, serial_number)\n",
    "    \n",
    "    sum_grid = np.zeros((ngrid, ngrid, ngrid))\n",
    "    for i in range(ngrid):\n",
    "        for j in range(ngrid):            \n",
    "            subgrid = grid[i:, j:]\n",
    "            cumsum = subgrid.cumsum(axis=1).cumsum(axis=0)\n",
    "            window_sums = cumsum.diagonal()\n",
    "            sum_grid[:len(window_sums), i, j] = window_sums\n",
    "    return grid, sum_grid"
   ]
  },
  {
   "cell_type": "code",
   "execution_count": 27,
   "metadata": {},
   "outputs": [],
   "source": [
    "def findBestWindow(serial_number,ngrid=300):\n",
    "    grid, sum_grid = genGridMult(serial_number, ngrid=ngrid)\n",
    "    w, y, x = np.unravel_index(np.argmax(sum_grid, axis=None), sum_grid.shape)\n",
    "    return (x+1, y+1, w+1)"
   ]
  },
  {
   "cell_type": "markdown",
   "metadata": {},
   "source": [
    "For grid serial number 18, the largest total square (with a total power of 113) is 16x16 and has a top-left corner of 90,269, so its identifier is 90,269,16"
   ]
  },
  {
   "cell_type": "code",
   "execution_count": 28,
   "metadata": {},
   "outputs": [
    {
     "name": "stdout",
     "output_type": "stream",
     "text": [
      "CPU times: user 13.2 s, sys: 84 ms, total: 13.3 s\n",
      "Wall time: 13.6 s\n"
     ]
    },
    {
     "data": {
      "text/plain": [
       "(90, 269, 16)"
      ]
     },
     "execution_count": 28,
     "metadata": {},
     "output_type": "execute_result"
    }
   ],
   "source": [
    "%%time\n",
    "findBestWindow(18)"
   ]
  },
  {
   "cell_type": "markdown",
   "metadata": {},
   "source": [
    "For grid serial number 42, the largest total square (with a total power of 119) is 12x12 and has a top-left corner of 232,251, so its identifier is 232,251,12"
   ]
  },
  {
   "cell_type": "code",
   "execution_count": 263,
   "metadata": {},
   "outputs": [
    {
     "name": "stdout",
     "output_type": "stream",
     "text": [
      "CPU times: user 13.2 s, sys: 91 ms, total: 13.3 s\n",
      "Wall time: 13.5 s\n"
     ]
    },
    {
     "data": {
      "text/plain": [
       "(232, 251, 12)"
      ]
     },
     "execution_count": 263,
     "metadata": {},
     "output_type": "execute_result"
    }
   ],
   "source": [
    "%%time\n",
    "findBestWindow(42)"
   ]
  },
  {
   "cell_type": "markdown",
   "metadata": {},
   "source": [
    "Solution:"
   ]
  },
  {
   "cell_type": "code",
   "execution_count": 264,
   "metadata": {},
   "outputs": [
    {
     "name": "stdout",
     "output_type": "stream",
     "text": [
      "CPU times: user 13.7 s, sys: 97 ms, total: 13.8 s\n",
      "Wall time: 14.1 s\n"
     ]
    },
    {
     "data": {
      "text/plain": [
       "(227, 199, 19)"
      ]
     },
     "execution_count": 264,
     "metadata": {},
     "output_type": "execute_result"
    }
   ],
   "source": [
    "%%time\n",
    "findBestWindow(file_input)"
   ]
  },
  {
   "cell_type": "code",
   "execution_count": 16,
   "metadata": {},
   "outputs": [],
   "source": [
    "grid, sum_grid = genGridMult(file_input)"
   ]
  },
  {
   "cell_type": "code",
   "execution_count": 22,
   "metadata": {},
   "outputs": [
    {
     "data": {
      "text/plain": [
       "array([[ 0,  3, -4, ...,  2,  1,  0],\n",
       "       [ 1,  4, -2, ...,  0, -4,  1],\n",
       "       [ 2, -4,  0, ..., -1,  1,  2],\n",
       "       ...,\n",
       "       [-1,  1, -2, ..., -2,  0, -3],\n",
       "       [ 0,  2,  0, ..., -3,  4, -2],\n",
       "       [ 1,  3,  2, ..., -5, -1, -1]])"
      ]
     },
     "execution_count": 22,
     "metadata": {},
     "output_type": "execute_result"
    }
   ],
   "source": [
    "grid"
   ]
  },
  {
   "cell_type": "code",
   "execution_count": 3,
   "metadata": {},
   "outputs": [],
   "source": [
    "import matplotlib.pyplot as plt\n",
    "%matplotlib inline\n",
    "plt.rcParams['figure.figsize'] = (12, 8)"
   ]
  },
  {
   "cell_type": "code",
   "execution_count": 17,
   "metadata": {},
   "outputs": [],
   "source": [
    "for i in range(195, 300):\n",
    "    fig = plt.figure(figsize=(12,8))\n",
    "    plt.title(\"{:03}\".format(i))\n",
    "    plt.imshow(sum_grid[i])\n",
    "    plt.colorbar()\n",
    "    plt.savefig('images/image_{:03d}.png'.format(i+1))\n",
    "    plt.close(fig)"
   ]
  },
  {
   "cell_type": "code",
   "execution_count": null,
   "metadata": {},
   "outputs": [],
   "source": []
  }
 ],
 "metadata": {
  "kernelspec": {
   "display_name": "Python 3",
   "language": "python",
   "name": "python3"
  },
  "language_info": {
   "codemirror_mode": {
    "name": "ipython",
    "version": 3
   },
   "file_extension": ".py",
   "mimetype": "text/x-python",
   "name": "python",
   "nbconvert_exporter": "python",
   "pygments_lexer": "ipython3",
   "version": "3.7.5"
  }
 },
 "nbformat": 4,
 "nbformat_minor": 2
}
