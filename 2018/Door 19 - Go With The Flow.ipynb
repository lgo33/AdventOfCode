{
 "cells": [
  {
   "cell_type": "code",
   "execution_count": 1,
   "metadata": {},
   "outputs": [],
   "source": [
    "with open('data/input_19.txt') as fh:\n",
    "    file_input = fh.read().strip()"
   ]
  },
  {
   "cell_type": "code",
   "execution_count": 7,
   "metadata": {},
   "outputs": [],
   "source": [
    "test_input = \"\"\"#ip 0\n",
    "seti 5 0 1\n",
    "seti 6 0 2\n",
    "addi 0 1 0\n",
    "addr 1 2 3\n",
    "setr 1 0 0\n",
    "seti 8 0 4\n",
    "seti 9 0 5\"\"\""
   ]
  },
  {
   "cell_type": "code",
   "execution_count": 8,
   "metadata": {},
   "outputs": [],
   "source": [
    "ops = {\n",
    "    'addr': lambda a, b: (reg[a] + reg[b]),\n",
    "    'addi': lambda a, b: (reg[a] + b),\n",
    "    'mulr': lambda a, b: (reg[a] * reg[b]),\n",
    "    'muli': lambda a, b: (reg[a] * b),\n",
    "    'banr': lambda a, b: (reg[a] & reg[b]),\n",
    "    'bani': lambda a, b: (reg[a] & b),\n",
    "    'borr': lambda a, b: (reg[a] | reg[b]),\n",
    "    'bori': lambda a, b: (reg[a] | b),\n",
    "    'setr': lambda a, b: (reg[a]),\n",
    "    'seti': lambda a, b: (a),\n",
    "    'gtir': lambda a, b: (1 if a > reg[b] else 0),\n",
    "    'gtri': lambda a, b: (1 if reg[a] > b else 0),\n",
    "    'gtrr': lambda a, b: (1 if reg[a] > reg[b] else 0),\n",
    "    'eqir': lambda a, b: (1 if a == reg[b] else 0),\n",
    "    'eqri': lambda a, b: (1 if reg[a] == b else 0),\n",
    "    'eqrr': lambda a, b: (1 if reg[a] == reg[b] else 0),\n",
    "}"
   ]
  },
  {
   "cell_type": "code",
   "execution_count": 9,
   "metadata": {},
   "outputs": [
    {
     "data": {
      "text/plain": [
       "['#ip 0',\n",
       " 'seti 5 0 1',\n",
       " 'seti 6 0 2',\n",
       " 'addi 0 1 0',\n",
       " 'addr 1 2 3',\n",
       " 'setr 1 0 0',\n",
       " 'seti 8 0 4',\n",
       " 'seti 9 0 5']"
      ]
     },
     "execution_count": 9,
     "metadata": {},
     "output_type": "execute_result"
    }
   ],
   "source": [
    "test_input.split('\\n')"
   ]
  },
  {
   "cell_type": "code",
   "execution_count": 119,
   "metadata": {},
   "outputs": [],
   "source": [
    "class VM(object):\n",
    "    def __init__(self, bound=None, debug=False, maxit = -1):\n",
    "        self.ip = 0\n",
    "        self.reg = [0, 0, 0, 0, 0, 0]\n",
    "        self.bound = bound\n",
    "        self.mem = []\n",
    "        self.debug = debug\n",
    "        self.maxit = maxit\n",
    "        \n",
    "    def operations(self, ins, *args):\n",
    "        ops = {\n",
    "            'addr': lambda a, b: (self.reg[a] + self.reg[b]),\n",
    "            'addi': lambda a, b: (self.reg[a] + b),\n",
    "            'mulr': lambda a, b: (self.reg[a] * self.reg[b]),\n",
    "            'muli': lambda a, b: (self.reg[a] * b),\n",
    "            'banr': lambda a, b: (self.reg[a] & self.reg[b]),\n",
    "            'bani': lambda a, b: (self.reg[a] & b),\n",
    "            'borr': lambda a, b: (self.reg[a] | self.reg[b]),\n",
    "            'bori': lambda a, b: (self.reg[a] | b),\n",
    "            'setr': lambda a, b: (self.reg[a]),\n",
    "            'seti': lambda a, b: (a),\n",
    "            'gtir': lambda a, b: (1 if a > self.reg[b] else 0),\n",
    "            'gtri': lambda a, b: (1 if self.reg[a] > b else 0),\n",
    "            'gtrr': lambda a, b: (1 if self.reg[a] > self.reg[b] else 0),\n",
    "            'gtrr_mod': lambda a, b: (1 if self.reg[a]**2 > self.reg[b] else 0),\n",
    "            'eqir': lambda a, b: (1 if a == self.reg[b] else 0),\n",
    "            'eqri': lambda a, b: (1 if self.reg[a] == b else 0),\n",
    "            'eqrr': lambda a, b: (1 if self.reg[a] == self.reg[b] else 0),\n",
    "        }\n",
    "        if ins == '#ip':\n",
    "            self.bound = args[0]\n",
    "        else:\n",
    "            self.reg[args[2]] = ops[ins](args[0], args[1])\n",
    "        \n",
    "        \n",
    "    def load(self, inp):\n",
    "        inp = inp.split('\\n')\n",
    "        self.mem = []\n",
    "        self.ip = 0\n",
    "        for line in inp:\n",
    "            args = line.split()\n",
    "            if len(args) == 4:\n",
    "                self.mem.append((args[0], int(args[1]), int(args[2]), int(args[3])))\n",
    "            elif len(args) == 2:\n",
    "                pass\n",
    "#                 self.mem.append((args[0], int(args[1]), 0, 0))\n",
    "    \n",
    "    def exe(self):\n",
    "        if self.bound is not None:\n",
    "            self.reg[self.bound] = self.ip\n",
    "        ins = self.mem[self.ip]\n",
    "        before = (self.ip, self.reg[:])\n",
    "        self.operations(*ins)\n",
    "        if self.bound is not None:\n",
    "            self.ip = self.reg[self.bound]\n",
    "        self.ip += 1\n",
    "        if self.debug and before[0] == 7:\n",
    "            print(\"{:50s} {:20s} {} {}\".format(before, ins, (self.ip, self.reg), self.i))\n",
    "    \n",
    "    def run(self):\n",
    "        self.i = 0\n",
    "        while True:\n",
    "            self.exe()\n",
    "            if self.ip < 0 or self.ip >= len(self.mem):\n",
    "                break\n",
    "            self.i+=1\n",
    "            if self.i == self.maxit:\n",
    "                break"
   ]
  },
  {
   "cell_type": "markdown",
   "metadata": {},
   "source": [
    "Test"
   ]
  },
  {
   "cell_type": "code",
   "execution_count": 65,
   "metadata": {},
   "outputs": [
    {
     "data": {
      "text/plain": [
       "[6, 5, 6, 0, 0, 9]"
      ]
     },
     "execution_count": 65,
     "metadata": {},
     "output_type": "execute_result"
    }
   ],
   "source": [
    "vm = VM(bound=0)\n",
    "vm.load(test_input)\n",
    "vm.run()\n",
    "vm.reg"
   ]
  },
  {
   "cell_type": "markdown",
   "metadata": {},
   "source": [
    "Part A"
   ]
  },
  {
   "cell_type": "code",
   "execution_count": null,
   "metadata": {},
   "outputs": [],
   "source": [
    "%%time\n",
    "vm = VM(bound=1)\n",
    "vm.load(file_input)\n",
    "#vm.mem[9] = ('gtrr_mod', 2, 4, 3)\n",
    "vm.run()\n",
    "print(vm.reg)"
   ]
  },
  {
   "cell_type": "code",
   "execution_count": 120,
   "metadata": {},
   "outputs": [
    {
     "name": "stdout",
     "output_type": "stream",
     "text": [
      "(7, [0, 7, 861, 1, 861, 1])                        ('addr', 5, 0, 0)    (8, [1, 7, 861, 1, 861, 1]) 6896\n",
      "(7, [1, 7, 287, 1, 861, 3])                        ('addr', 5, 0, 0)    (8, [4, 7, 287, 1, 861, 3]) 16088\n",
      "(7, [4, 7, 123, 1, 861, 7])                        ('addr', 5, 0, 0)    (8, [11, 7, 123, 1, 861, 7]) 42344\n",
      "(7, [11, 7, 41, 1, 861, 21])                       ('addr', 5, 0, 0)    (8, [32, 7, 41, 1, 861, 21]) 138176\n",
      "(7, [32, 7, 21, 1, 861, 41])                       ('addr', 5, 0, 0)    (8, [73, 7, 21, 1, 861, 41]) 275856\n",
      "(7, [73, 7, 7, 1, 861, 123])                       ('addr', 5, 0, 0)    (8, [196, 7, 7, 1, 861, 123]) 840888\n",
      "(7, [196, 7, 3, 1, 861, 287])                      ('addr', 5, 0, 0)    (8, [483, 7, 3, 1, 861, 287]) 1971144\n",
      "(7, [483, 7, 1, 1, 861, 861])                      ('addr', 5, 0, 0)    (8, [1344, 7, 1, 1, 861, 861]) 5927136\n",
      "[1344, 256, 862, 1, 861, 862]\n",
      "CPU times: user 27.1 s, sys: 340 ms, total: 27.5 s\n",
      "Wall time: 28.3 s\n"
     ]
    }
   ],
   "source": [
    "%%time\n",
    "vm = VM(bound=1, debug=True)\n",
    "vm.load(file_input)\n",
    "#vm.mem[9] = ('gtrr_mod', 2, 4, 3)\n",
    "vm.run()\n",
    "print(vm.reg)"
   ]
  },
  {
   "cell_type": "markdown",
   "metadata": {},
   "source": [
    "Part B"
   ]
  },
  {
   "cell_type": "code",
   "execution_count": 104,
   "metadata": {},
   "outputs": [
    {
     "name": "stdout",
     "output_type": "stream",
     "text": [
      "  0 addi 1 16 1\n",
      "  1 seti 1 1 5\n",
      "  2 seti 1 4 2\n",
      "  3 mulr 5 2 3\n",
      "  4 eqrr 3 4 3\n",
      "  5 addr 3 1 1\n",
      "  6 addi 1 1 1\n",
      "  7 addr 5 0 0\n",
      "  8 addi 2 1 2\n",
      "  9 gtrr 2 4 3\n",
      " 10 addr 1 3 1\n",
      " 11 seti 2 7 1\n",
      " 12 addi 5 1 5\n",
      " 13 gtrr 5 4 3\n",
      " 14 addr 3 1 1\n",
      " 15 seti 1 8 1\n",
      " 16 mulr 1 1 1\n",
      " 17 addi 4 2 4\n",
      " 18 mulr 4 4 4\n",
      " 19 mulr 1 4 4\n",
      " 20 muli 4 11 4\n",
      " 21 addi 3 1 3\n",
      " 22 mulr 3 1 3\n",
      " 23 addi 3 3 3\n",
      " 24 addr 4 3 4\n",
      " 25 addr 1 0 1\n",
      " 26 seti 0 3 1\n",
      " 27 setr 1 1 3\n",
      " 28 mulr 3 1 3\n",
      " 29 addr 1 3 3\n",
      " 30 mulr 1 3 3\n",
      " 31 muli 3 14 3\n",
      " 32 mulr 3 1 3\n",
      " 33 addr 4 3 4\n",
      " 34 seti 0 9 0\n",
      " 35 seti 0 4 1\n"
     ]
    }
   ],
   "source": [
    "for i, line in enumerate(file_input.split('\\n')[1:]):\n",
    "    print('{:3d} {}'.format(i, line))"
   ]
  },
  {
   "cell_type": "code",
   "execution_count": 137,
   "metadata": {},
   "outputs": [
    {
     "name": "stdout",
     "output_type": "stream",
     "text": [
      "[0, 1, 0, 10550400, 10551261, 1]\n",
      "CPU times: user 802 µs, sys: 629 µs, total: 1.43 ms\n",
      "Wall time: 800 µs\n"
     ]
    }
   ],
   "source": [
    "%%time\n",
    "vm = VM(bound=1, debug=True, maxit=20)\n",
    "vm.reg[0] = 1\n",
    "vm.load(file_input)\n",
    "vm.run()\n",
    "print(vm.reg)"
   ]
  },
  {
   "cell_type": "code",
   "execution_count": 138,
   "metadata": {},
   "outputs": [],
   "source": [
    "def divisors(n):\n",
    "    res = [n]\n",
    "    for i in range(1, n):\n",
    "        if (n % i) == 0:\n",
    "            res.append(i)\n",
    "    return res"
   ]
  },
  {
   "cell_type": "code",
   "execution_count": 139,
   "metadata": {},
   "outputs": [
    {
     "data": {
      "text/plain": [
       "1344"
      ]
     },
     "execution_count": 139,
     "metadata": {},
     "output_type": "execute_result"
    }
   ],
   "source": [
    "sum(divisors(861))"
   ]
  },
  {
   "cell_type": "markdown",
   "metadata": {},
   "source": [
    "Part B solution"
   ]
  },
  {
   "cell_type": "code",
   "execution_count": 140,
   "metadata": {},
   "outputs": [
    {
     "data": {
      "text/plain": [
       "16078144"
      ]
     },
     "execution_count": 140,
     "metadata": {},
     "output_type": "execute_result"
    }
   ],
   "source": [
    "sum(divisors(vm.reg[4]))"
   ]
  },
  {
   "cell_type": "code",
   "execution_count": null,
   "metadata": {},
   "outputs": [],
   "source": []
  }
 ],
 "metadata": {
  "kernelspec": {
   "display_name": "Python 3",
   "language": "python",
   "name": "python3"
  },
  "language_info": {
   "codemirror_mode": {
    "name": "ipython",
    "version": 2
   },
   "file_extension": ".py",
   "mimetype": "text/x-python",
   "name": "python",
   "nbconvert_exporter": "python",
   "pygments_lexer": "ipython2",
   "version": "2.7.14"
  }
 },
 "nbformat": 4,
 "nbformat_minor": 2
}
