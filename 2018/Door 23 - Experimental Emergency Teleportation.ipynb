{
 "cells": [
  {
   "cell_type": "code",
   "execution_count": 9,
   "metadata": {},
   "outputs": [],
   "source": [
    "import re\n",
    "import numpy as np\n",
    "import matplotlib.pyplot as plt\n",
    "%matplotlib inline\n",
    "plt.rcParams['figure.figsize'] = (12, 8)"
   ]
  },
  {
   "cell_type": "code",
   "execution_count": 2,
   "metadata": {},
   "outputs": [],
   "source": [
    "with open('data/input_23.txt') as fh:\n",
    "    file_input = fh.read().strip()"
   ]
  },
  {
   "cell_type": "code",
   "execution_count": 3,
   "metadata": {},
   "outputs": [],
   "source": [
    "test_input = \"\"\"pos=<0,0,0>, r=4\n",
    "pos=<1,0,0>, r=1\n",
    "pos=<4,0,0>, r=3\n",
    "pos=<0,2,0>, r=1\n",
    "pos=<0,5,0>, r=3\n",
    "pos=<0,0,3>, r=1\n",
    "pos=<1,1,1>, r=1\n",
    "pos=<1,1,2>, r=1\n",
    "pos=<1,3,1>, r=1\"\"\""
   ]
  },
  {
   "cell_type": "code",
   "execution_count": null,
   "metadata": {},
   "outputs": [],
   "source": []
  },
  {
   "cell_type": "code",
   "execution_count": null,
   "metadata": {},
   "outputs": [],
   "source": []
  },
  {
   "cell_type": "code",
   "execution_count": 4,
   "metadata": {},
   "outputs": [],
   "source": [
    "data = np.array(map(lambda l: map(int, re.findall('-*\\d+', l)), file_input.split('\\n')))\n",
    "# data = np.array(map(lambda l: map(int, re.findall('\\d+', l)), test_input.split('\\n')))\n",
    "\n",
    "pos = data[:, :3]\n",
    "rad = data[:, 3]"
   ]
  },
  {
   "cell_type": "markdown",
   "metadata": {},
   "source": [
    "Part A"
   ]
  },
  {
   "cell_type": "code",
   "execution_count": 5,
   "metadata": {},
   "outputs": [
    {
     "data": {
      "text/plain": [
       "420"
      ]
     },
     "execution_count": 5,
     "metadata": {},
     "output_type": "execute_result"
    }
   ],
   "source": [
    "posmax = pos[rad.argmax(), :]\n",
    "np.sum(np.sum(np.abs(pos - posmax), axis=1) <= rad.max())"
   ]
  },
  {
   "cell_type": "markdown",
   "metadata": {},
   "source": [
    "Part B"
   ]
  },
  {
   "cell_type": "code",
   "execution_count": 24,
   "metadata": {},
   "outputs": [],
   "source": [
    "def nbots(x, pos=pos, rad=rad):\n",
    "    return np.sum((np.sum(np.abs(pos - x), axis=1) - rad) <= 0)"
   ]
  },
  {
   "cell_type": "code",
   "execution_count": 42,
   "metadata": {},
   "outputs": [],
   "source": [
    "from scipy.optimize import minimize, brute"
   ]
  },
  {
   "cell_type": "code",
   "execution_count": 40,
   "metadata": {},
   "outputs": [
    {
     "data": {
      "text/plain": [
       "(array([33534402.963, 58208524.162, 37458248.143]), array([0., 0., 0.]))"
      ]
     },
     "execution_count": 40,
     "metadata": {},
     "output_type": "execute_result"
    }
   ],
   "source": [
    "x0 = pos.mean(axis=0)\n",
    "res = minimize(lambda x: -1 * nbots(x), x0, method='SLSQP')\n",
    "res.x, res.x - x0"
   ]
  },
  {
   "cell_type": "code",
   "execution_count": 129,
   "metadata": {},
   "outputs": [
    {
     "name": "stdout",
     "output_type": "stream",
     "text": [
      "(33534402.0, 58208524.0, 37458248.0)\n",
      "Optimization terminated successfully.\n",
      "         Current function value: -892.000000\n",
      "         Iterations: 49\n",
      "         Function evaluations: 199\n",
      "(52093480.4179012, 47985336.38888885, 26005438.32683561)\n",
      "Optimization terminated successfully.\n",
      "         Current function value: -892.000000\n",
      "         Iterations: 44\n",
      "         Function evaluations: 188\n",
      "(51409269.89158542, 47827441.65204675, 25110701.484730348)\n",
      "Optimization terminated successfully.\n",
      "         Current function value: -892.000000\n",
      "         Iterations: 44\n",
      "         Function evaluations: 188\n",
      "(51319796.20737489, 47832704.809941486, 25126490.95841456)\n",
      "Optimization terminated successfully.\n",
      "         Current function value: -918.000000\n",
      "         Iterations: 57\n",
      "         Function evaluations: 205\n",
      "(51310671.27253467, 47835349.53765325, 25130082.68399896)\n",
      "Optimization terminated successfully.\n",
      "         Current function value: -918.000000\n",
      "         Iterations: 60\n",
      "         Function evaluations: 210\n",
      "(51310083.947478876, 47835714.215950415, 25130305.697596896)\n",
      "Optimization terminated successfully.\n",
      "         Current function value: -918.000000\n",
      "         Iterations: 54\n",
      "         Function evaluations: 199\n",
      "(51310062.09184101, 47835725.547816016, 25130315.81829579)\n",
      "Optimization terminated successfully.\n",
      "         Current function value: -918.000000\n",
      "         Iterations: 60\n",
      "         Function evaluations: 206\n",
      "CPU times: user 3.48 s, sys: 53 ms, total: 3.53 s\n",
      "Wall time: 3.85 s\n"
     ]
    }
   ],
   "source": [
    "%%time\n",
    "guess = np.floor(pos.mean(axis=0)).copy()\n",
    "window = 100000000\n",
    "while window > 10:\n",
    "    x, y, z = guess\n",
    "    print(x, y, z)\n",
    "    window /= 10\n",
    "    rranges = ((x - window, x + window), \n",
    "               (y - window, y + window), \n",
    "               (z - window, z + window))\n",
    "    res = brute(lambda x: -nbots(x), rranges, Ns=20, disp=True)\n",
    "    guess = res[:]"
   ]
  },
  {
   "cell_type": "code",
   "execution_count": 130,
   "metadata": {},
   "outputs": [
    {
     "data": {
      "text/plain": [
       "((51310052.09184101, 51310072.09184101),\n",
       " (47835715.547816016, 47835735.547816016),\n",
       " (25130305.81829579, 25130325.81829579))"
      ]
     },
     "execution_count": 130,
     "metadata": {},
     "output_type": "execute_result"
    }
   ],
   "source": [
    "rranges"
   ]
  },
  {
   "cell_type": "code",
   "execution_count": 131,
   "metadata": {},
   "outputs": [
    {
     "data": {
      "text/plain": [
       "918"
      ]
     },
     "execution_count": 131,
     "metadata": {},
     "output_type": "execute_result"
    }
   ],
   "source": [
    "nbots(res)"
   ]
  },
  {
   "cell_type": "code",
   "execution_count": 132,
   "metadata": {},
   "outputs": [
    {
     "data": {
      "text/plain": [
       "array([51310052.09184101, 47835729.23202654, 25130322.66040105])"
      ]
     },
     "execution_count": 132,
     "metadata": {},
     "output_type": "execute_result"
    }
   ],
   "source": [
    "res"
   ]
  },
  {
   "cell_type": "code",
   "execution_count": 104,
   "metadata": {},
   "outputs": [
    {
     "data": {
      "text/plain": [
       "918"
      ]
     },
     "execution_count": 104,
     "metadata": {},
     "output_type": "execute_result"
    }
   ],
   "source": [
    "nbots(np.array([51310053., 47835728., 25130322.]))"
   ]
  },
  {
   "cell_type": "code",
   "execution_count": 105,
   "metadata": {},
   "outputs": [
    {
     "data": {
      "text/plain": [
       "124276103.0"
      ]
     },
     "execution_count": 105,
     "metadata": {},
     "output_type": "execute_result"
    }
   ],
   "source": [
    "np.array([51310053., 47835728., 25130322.]).sum()"
   ]
  },
  {
   "cell_type": "code",
   "execution_count": null,
   "metadata": {},
   "outputs": [],
   "source": []
  }
 ],
 "metadata": {
  "kernelspec": {
   "display_name": "Python 3",
   "language": "python",
   "name": "python3"
  },
  "language_info": {
   "codemirror_mode": {
    "name": "ipython",
    "version": 2
   },
   "file_extension": ".py",
   "mimetype": "text/x-python",
   "name": "python",
   "nbconvert_exporter": "python",
   "pygments_lexer": "ipython2",
   "version": "2.7.14"
  }
 },
 "nbformat": 4,
 "nbformat_minor": 2
}
