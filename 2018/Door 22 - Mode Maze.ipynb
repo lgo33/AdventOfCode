{
 "cells": [
  {
   "cell_type": "code",
   "execution_count": 12,
   "metadata": {},
   "outputs": [],
   "source": [
    "import numpy as np"
   ]
  },
  {
   "cell_type": "code",
   "execution_count": 13,
   "metadata": {},
   "outputs": [],
   "source": [
    "with open('data/input_22.txt') as fh:\n",
    "    file_input = fh.read().strip()"
   ]
  },
  {
   "cell_type": "code",
   "execution_count": 14,
   "metadata": {},
   "outputs": [
    {
     "data": {
      "text/plain": [
       "'depth: 10689\\ntarget: 11,722'"
      ]
     },
     "execution_count": 14,
     "metadata": {},
     "output_type": "execute_result"
    }
   ],
   "source": [
    "file_input"
   ]
  },
  {
   "cell_type": "code",
   "execution_count": 218,
   "metadata": {},
   "outputs": [],
   "source": [
    "# real input\n",
    "depth = 10689\n",
    "target = (11, 722)\n",
    "nx, ny = target\n",
    "nx += 700\n",
    "ny += 20"
   ]
  },
  {
   "cell_type": "code",
   "execution_count": 119,
   "metadata": {},
   "outputs": [],
   "source": [
    "# test\n",
    "depth = 510\n",
    "target = (10, 10)\n"
   ]
  },
  {
   "cell_type": "code",
   "execution_count": 232,
   "metadata": {},
   "outputs": [],
   "source": [
    "el = np.zeros((nx, ny), dtype='uint64')\n",
    "el[:, 0] = get_el(np.arange(nx) * 16807)\n",
    "el[0, :] = get_el(np.arange(ny) * 48271)\n",
    "\n",
    "for i in range(1, nx):\n",
    "    for j in range(1, ny):\n",
    "        if i == target[0] and j == target[1]:\n",
    "            el[i, j] = get_el(0)\n",
    "\n",
    "            continue\n",
    "        el[i, j] = get_el(el[i-1, j] * el[i, j-1]) # % 20183"
   ]
  },
  {
   "cell_type": "code",
   "execution_count": 233,
   "metadata": {},
   "outputs": [],
   "source": [
    "cave = el % 3"
   ]
  },
  {
   "cell_type": "code",
   "execution_count": 234,
   "metadata": {},
   "outputs": [
    {
     "data": {
      "text/plain": [
       "array([[0, 2, 1, ..., 2, 0, 2],\n",
       "       [0, 2, 0, ..., 2, 0, 0],\n",
       "       [1, 2, 1, ..., 0, 2, 2],\n",
       "       ...,\n",
       "       [1, 0, 0, ..., 1, 1, 2],\n",
       "       [2, 1, 2, ..., 2, 2, 2],\n",
       "       [2, 0, 1, ..., 1, 0, 2]], dtype=uint64)"
      ]
     },
     "execution_count": 234,
     "metadata": {},
     "output_type": "execute_result"
    }
   ],
   "source": [
    "cave.T"
   ]
  },
  {
   "cell_type": "markdown",
   "metadata": {},
   "source": [
    "Part A"
   ]
  },
  {
   "cell_type": "code",
   "execution_count": 223,
   "metadata": {},
   "outputs": [
    {
     "data": {
      "text/plain": [
       "8575"
      ]
     },
     "execution_count": 223,
     "metadata": {},
     "output_type": "execute_result"
    }
   ],
   "source": [
    "cave[:target[0]+1, :target[1]+1].sum()"
   ]
  },
  {
   "cell_type": "markdown",
   "metadata": {},
   "source": [
    "Part B"
   ]
  },
  {
   "cell_type": "code",
   "execution_count": 230,
   "metadata": {},
   "outputs": [],
   "source": [
    "def dist_target(node, target=target):\n",
    "    return abs(node[0]-target[0]) + abs(node[1]-target[1])\n",
    "\n",
    "def is_valid(ctype, eq):\n",
    "    if ctype == 0:\n",
    "        if eq == 1 or eq == 2:\n",
    "            return True\n",
    "        return False\n",
    "    elif ctype == 1:\n",
    "        if eq == 0 or eq == 2:\n",
    "            return True\n",
    "        return False\n",
    "    elif ctype == 2:\n",
    "        if eq == 1 or eq == 0:\n",
    "            return True\n",
    "        return False\n",
    "    raise\n",
    "\n",
    "def get_neighbors(node, cave=cave):\n",
    "    x, y, eq = node\n",
    "    if x > 0 and is_valid(eq, cave[x-1, y]):\n",
    "        yield (x-1, y, eq), 1\n",
    "    if y > 0 and is_valid(eq, cave[x, y-1]):\n",
    "        yield (x, y-1, eq), 1\n",
    "    if is_valid(eq, cave[x+1, y]):\n",
    "        yield (x+1, y, eq), 1\n",
    "    if is_valid(eq, cave[x, y+1]):\n",
    "        yield (x, y+1, eq), 1\n",
    "    for i in range(3):\n",
    "        if i != eq and is_valid(i, cave[x, y]):\n",
    "            yield(x, y, i), 7\n",
    "            \n",
    "def recontruct_path(cameFrom, goal, start):\n",
    "    next_step = cameFrom[goal]\n",
    "    path = [next_step]\n",
    "    while next_step != start:\n",
    "        next_step = cameFrom[next_step]\n",
    "        path.append(next_step)\n",
    "    return path"
   ]
  },
  {
   "cell_type": "code",
   "execution_count": 225,
   "metadata": {},
   "outputs": [],
   "source": [
    "from collections import defaultdict, deque\n",
    "def get_path(cave=cave, goal=(0,0,1)):\n",
    "    gScore = defaultdict(lambda: np.inf)\n",
    "    fScore = defaultdict(lambda: np.inf)\n",
    "    visited = set([])\n",
    "    start = (0, 0, 1)\n",
    "    gScore[start] = 0\n",
    "    fScore[start] = dist_target(start)\n",
    "    cameFrom = {}\n",
    "    stack = [start]\n",
    "    while stack:\n",
    "        stack.sort(key=fScore.get, reverse=True)\n",
    "        current = stack.pop()\n",
    "        if current == goal:\n",
    "            return recontruct_path(cameFrom, goal, start), gScore\n",
    "        visited.add(current)\n",
    "\n",
    "        for nb, dt in get_neighbors(current, cave=cave):\n",
    "            if nb in visited:\n",
    "                continue\n",
    "\n",
    "            tmp_gScore = gScore[current] + dt\n",
    "            if nb not in stack:\n",
    "                stack.append(nb)\n",
    "            elif tmp_gScore >= gScore[nb]:\n",
    "                continue\n",
    "            cameFrom[nb] = current\n",
    "            gScore[nb] = tmp_gScore\n",
    "            fScore[nb] = gScore[nb] + dist_target(nb)\n",
    "            "
   ]
  },
  {
   "cell_type": "code",
   "execution_count": 254,
   "metadata": {},
   "outputs": [],
   "source": [
    "# from collections import defaultdict, deque\n",
    "# import heapq\n",
    "# def get_path_heapq(cave=cave, goal=(0,0,1)):\n",
    "#     gScore = defaultdict(lambda: np.inf)\n",
    "#     fScore = defaultdict(lambda: np.inf)\n",
    "#     visited = set([])\n",
    "#     start = (0, (0, 0, 1))\n",
    "#     gScore[start] = 0\n",
    "#     # fScore[start] = dist_target(start)\n",
    "#     cameFrom = {}\n",
    "#     stack = []\n",
    "#     heapq.heappush(stack, start)\n",
    "#     while stack:\n",
    "#         minutes, current = heapq.heappop(stack)\n",
    "#         if current == goal:\n",
    "#             return recontruct_path(cameFrom, goal, start), gScore\n",
    "#         if current in visited:\n",
    "#             continue\n",
    "#         if gScore[current] <= minutes:\n",
    "#             continue\n",
    "#         visited.add(current)\n",
    "\n",
    "#         for nb, dt in get_neighbors(current, cave=cave):\n",
    "#             if nb in visited:\n",
    "#                 continue\n",
    "\n",
    "#             tmp_gScore = gScore[current] + dt\n",
    "#             heapq.heappush(stack, (minutes+dt, nb))           \n",
    "#             if tmp_gScore >= gScore[nb]:\n",
    "#                 continue\n",
    "#             cameFrom[nb] = current\n",
    "#             gScore[nb] = tmp_gScore\n",
    "#             fScore[nb] = gScore[nb] + dist_target(nb)"
   ]
  },
  {
   "cell_type": "code",
   "execution_count": 257,
   "metadata": {},
   "outputs": [
    {
     "name": "stdout",
     "output_type": "stream",
     "text": [
      "CPU times: user 1min 21s, sys: 2.29 s, total: 1min 23s\n",
      "Wall time: 1min 31s\n"
     ]
    }
   ],
   "source": [
    "%%time\n",
    "goal = (target[0], target[1], 1)\n",
    "path, score = get_path(cave=cave, goal=goal)"
   ]
  },
  {
   "cell_type": "markdown",
   "metadata": {},
   "source": [
    "Part B"
   ]
  },
  {
   "cell_type": "code",
   "execution_count": 228,
   "metadata": {},
   "outputs": [
    {
     "data": {
      "text/plain": [
       "999"
      ]
     },
     "execution_count": 228,
     "metadata": {},
     "output_type": "execute_result"
    }
   ],
   "source": [
    "score[goal]"
   ]
  },
  {
   "cell_type": "code",
   "execution_count": null,
   "metadata": {},
   "outputs": [],
   "source": []
  }
 ],
 "metadata": {
  "kernelspec": {
   "display_name": "Python 3",
   "language": "python",
   "name": "python3"
  },
  "language_info": {
   "codemirror_mode": {
    "name": "ipython",
    "version": 2
   },
   "file_extension": ".py",
   "mimetype": "text/x-python",
   "name": "python",
   "nbconvert_exporter": "python",
   "pygments_lexer": "ipython2",
   "version": "2.7.14"
  }
 },
 "nbformat": 4,
 "nbformat_minor": 2
}
