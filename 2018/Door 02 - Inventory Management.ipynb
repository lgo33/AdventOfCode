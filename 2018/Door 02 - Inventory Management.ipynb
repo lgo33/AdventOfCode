{
 "cells": [
  {
   "cell_type": "code",
   "execution_count": 1,
   "metadata": {},
   "outputs": [],
   "source": [
    "words = []\n",
    "with open('data/input_02.txt') as fh:\n",
    "    for line in fh.readlines():\n",
    "        words.append(line.strip())"
   ]
  },
  {
   "cell_type": "markdown",
   "metadata": {},
   "source": [
    "Part A"
   ]
  },
  {
   "cell_type": "code",
   "execution_count": 3,
   "metadata": {},
   "outputs": [],
   "source": [
    "from collections import Counter"
   ]
  },
  {
   "cell_type": "code",
   "execution_count": 12,
   "metadata": {},
   "outputs": [
    {
     "name": "stdout",
     "output_type": "stream",
     "text": [
      "doubles: 249\n",
      "tripples: 30\n",
      "checksum: 7470\n"
     ]
    }
   ],
   "source": [
    "doubles = 0\n",
    "tripples = 0\n",
    "for word in words:\n",
    "    counts = set(Counter(word).values())\n",
    "    if 2 in counts:\n",
    "        doubles += 1\n",
    "    if 3 in counts:\n",
    "        tripples += 1\n",
    "print('doubles: {}\\ntripples: {}\\nchecksum: {}'.format(doubles, tripples, doubles*tripples))"
   ]
  },
  {
   "cell_type": "markdown",
   "metadata": {},
   "source": [
    "Part B"
   ]
  },
  {
   "cell_type": "code",
   "execution_count": 18,
   "metadata": {},
   "outputs": [],
   "source": [
    "def string_dist(A, B):\n",
    "    dist = 0\n",
    "    for i in range(len(A)):\n",
    "        if A[i] != B[i]:\n",
    "            dist += 1\n",
    "    return dist\n",
    "            "
   ]
  },
  {
   "cell_type": "code",
   "execution_count": 25,
   "metadata": {},
   "outputs": [],
   "source": [
    "def string_dist2(A, B):\n",
    "    dist = 0\n",
    "    for i, j in zip(A, B):\n",
    "        if i != j:\n",
    "            dist += 1\n",
    "    return dist"
   ]
  },
  {
   "cell_type": "code",
   "execution_count": 31,
   "metadata": {},
   "outputs": [
    {
     "name": "stdout",
     "output_type": "stream",
     "text": [
      "('kqzxdenujwcstybmgvyiofrwrd', 'kqzxdenujwcstybmgvyiofrard', 128, 190)\n",
      "kqzxdenujwcstybmgvyiofrrd\n"
     ]
    }
   ],
   "source": [
    "n = len(words)\n",
    "for i in range(n):\n",
    "    for j in range(i+1, n):\n",
    "        if string_dist2(words[i], words[j]) == 1:\n",
    "            print(words[i], words[j], i, j)\n",
    "            print(\"\".join([x for x, y in zip(words[i], words[j]) if x == y ]))"
   ]
  },
  {
   "cell_type": "code",
   "execution_count": null,
   "metadata": {},
   "outputs": [],
   "source": []
  }
 ],
 "metadata": {
  "kernelspec": {
   "display_name": "Python 3",
   "language": "python",
   "name": "python3"
  },
  "language_info": {
   "codemirror_mode": {
    "name": "ipython",
    "version": 2
   },
   "file_extension": ".py",
   "mimetype": "text/x-python",
   "name": "python",
   "nbconvert_exporter": "python",
   "pygments_lexer": "ipython2",
   "version": "2.7.14"
  }
 },
 "nbformat": 4,
 "nbformat_minor": 2
}
