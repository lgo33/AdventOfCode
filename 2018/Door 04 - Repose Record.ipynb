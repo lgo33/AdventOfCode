{
 "cells": [
  {
   "cell_type": "code",
   "execution_count": 6,
   "metadata": {},
   "outputs": [],
   "source": [
    "import numpy as np\n",
    "import pandas as pd"
   ]
  },
  {
   "cell_type": "code",
   "execution_count": 74,
   "metadata": {},
   "outputs": [],
   "source": [
    "with open('data/input_04.txt') as fh:\n",
    "    file_input = fh.read()\n",
    "inp = sorted(file_input.strip().split('\\n'))"
   ]
  },
  {
   "cell_type": "code",
   "execution_count": 69,
   "metadata": {},
   "outputs": [],
   "source": [
    "test_input = \"\"\"[1518-11-01 00:00] Guard #10 begins shift\n",
    "[1518-11-01 00:05] falls asleep\n",
    "[1518-11-01 00:25] wakes up\n",
    "[1518-11-01 00:30] falls asleep\n",
    "[1518-11-01 00:55] wakes up\n",
    "[1518-11-01 23:58] Guard #99 begins shift\n",
    "[1518-11-02 00:40] falls asleep\n",
    "[1518-11-02 00:50] wakes up\n",
    "[1518-11-03 00:05] Guard #10 begins shift\n",
    "[1518-11-03 00:24] falls asleep\n",
    "[1518-11-03 00:29] wakes up\n",
    "[1518-11-04 00:02] Guard #99 begins shift\n",
    "[1518-11-04 00:36] falls asleep\n",
    "[1518-11-04 00:46] wakes up\n",
    "[1518-11-05 00:03] Guard #99 begins shift\n",
    "[1518-11-05 00:45] falls asleep\n",
    "[1518-11-05 00:55] wakes up\"\"\"\n",
    "inp = test_input.strip().split('\\n')"
   ]
  },
  {
   "cell_type": "markdown",
   "metadata": {},
   "source": [
    "Part A"
   ]
  },
  {
   "cell_type": "code",
   "execution_count": 63,
   "metadata": {},
   "outputs": [],
   "source": [
    "from collections import defaultdict\n",
    "\n",
    "def new_guard():\n",
    "    return {'asleep': np.zeros(60), 'shifts': 0}"
   ]
  },
  {
   "cell_type": "code",
   "execution_count": 75,
   "metadata": {},
   "outputs": [],
   "source": [
    "current = -1\n",
    "awake = True\n",
    "guards = defaultdict(new_guard)\n",
    "fallen_asleep_at = -1\n",
    "\n",
    "def set_sleep(guard_id, _from, _to):\n",
    "    if guard_id == -1 or _from == -1:\n",
    "        return\n",
    "    guards[guard_id]['asleep'][_from:_to] += 1\n",
    "\n",
    "\n",
    "    \n",
    "for line in inp:\n",
    "    time = line[1:17]\n",
    "    minute= int(time[-2:])\n",
    "    if line.endswith(\"begins shift\"):\n",
    "        if current > 0:\n",
    "            guards[current]['shifts'] += 1\n",
    "        current = int(re.findall('#(\\d+)', line)[0])\n",
    "        awake = True\n",
    "    if line.endswith(\"falls asleep\"):\n",
    "        fallen_asleep_at = minute\n",
    "    if line.endswith(\"wakes up\"):\n",
    "        set_sleep(current, fallen_asleep_at, minute)\n",
    "    \n",
    "else:\n",
    "    guards[current]['shifts'] += 1\n",
    "    #print (inp)"
   ]
  },
  {
   "cell_type": "code",
   "execution_count": 76,
   "metadata": {},
   "outputs": [
    {
     "name": "stdout",
     "output_type": "stream",
     "text": [
      "guard: 3457, best: 40 | product: 138280\n"
     ]
    }
   ],
   "source": [
    "idx = 0\n",
    "asleep_max = 0\n",
    "for guard in guards:\n",
    "    g = guards[guard]\n",
    "    g['mean'] = np.sum(g['asleep'] / g['shifts'])\n",
    "    g['total'] = np.sum(g['asleep'])\n",
    "    if g['total'] > asleep_max:\n",
    "        asleep_max = g['total']\n",
    "        idx = guard\n",
    "    g['max'] = np.argmax(g['asleep'])\n",
    "print('guard: {}, best: {} | product: {}'.format(idx, guards[idx]['max'], idx * guards[idx]['max']))"
   ]
  },
  {
   "cell_type": "markdown",
   "metadata": {},
   "source": [
    "Part B"
   ]
  },
  {
   "cell_type": "code",
   "execution_count": 77,
   "metadata": {},
   "outputs": [
    {
     "name": "stdout",
     "output_type": "stream",
     "text": [
      "guard: 1901, best: 47, times_asleep: 19.0 | product: 89347\n"
     ]
    }
   ],
   "source": [
    "idx = 0\n",
    "asleep_max = 0\n",
    "for guard in guards:\n",
    "    g = guards[guard]\n",
    "    g['mean'] = np.sum(g['asleep'] / g['shifts'])\n",
    "    g['total'] = np.sum(g['asleep'])\n",
    "    g['max'] = np.max(g['asleep'])\n",
    "    if g['max'] > asleep_max:\n",
    "        asleep_max = g['max']\n",
    "        idx = guard\n",
    "    g['imax'] = np.argmax(g['asleep'])\n",
    "print('guard: {}, best: {}, times_asleep: {} | product: {}'.format(idx, guards[idx]['imax'], guards[idx]['max'], idx * guards[idx]['imax']))"
   ]
  },
  {
   "cell_type": "code",
   "execution_count": null,
   "metadata": {},
   "outputs": [],
   "source": []
  }
 ],
 "metadata": {
  "kernelspec": {
   "display_name": "Python 3",
   "language": "python",
   "name": "python3"
  },
  "language_info": {
   "codemirror_mode": {
    "name": "ipython",
    "version": 3
   },
   "file_extension": ".py",
   "mimetype": "text/x-python",
   "name": "python",
   "nbconvert_exporter": "python",
   "pygments_lexer": "ipython3",
   "version": "3.7.1"
  }
 },
 "nbformat": 4,
 "nbformat_minor": 2
}
