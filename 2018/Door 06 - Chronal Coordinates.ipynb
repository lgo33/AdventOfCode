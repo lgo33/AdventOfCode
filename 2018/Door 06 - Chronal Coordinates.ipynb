{
 "cells": [
  {
   "cell_type": "code",
   "execution_count": 1,
   "metadata": {},
   "outputs": [],
   "source": [
    "import numpy as np"
   ]
  },
  {
   "cell_type": "code",
   "execution_count": 2,
   "metadata": {},
   "outputs": [],
   "source": [
    "with open('data/input_06.txt') as fh:\n",
    "    file_input = fh.read()"
   ]
  },
  {
   "cell_type": "code",
   "execution_count": 10,
   "metadata": {},
   "outputs": [],
   "source": [
    "coords = map(lambda x: tuple(map(int, x.split(', '))), file_input.strip().split('\\n'))"
   ]
  },
  {
   "cell_type": "code",
   "execution_count": 11,
   "metadata": {},
   "outputs": [],
   "source": [
    "x_min, y_min = (1<<32, 1<<32)\n",
    "x_max, y_max = (0, 0)\n",
    "\n",
    "points = []\n",
    "\n",
    "for x, y in coords:\n",
    "    if x < x_min:\n",
    "        x_min = x\n",
    "    if x > x_max:\n",
    "        x_max = x\n",
    "    if y < y_min:\n",
    "        y_min = y\n",
    "    if y > y_max:\n",
    "        y_max = y\n",
    "    points.append((x, y))\n",
    "#    print(x, y)\n",
    "points = np.array(points)"
   ]
  },
  {
   "cell_type": "code",
   "execution_count": 36,
   "metadata": {},
   "outputs": [
    {
     "data": {
      "text/plain": [
       "((42, 358), (43, 337))"
      ]
     },
     "execution_count": 36,
     "metadata": {},
     "output_type": "execute_result"
    }
   ],
   "source": [
    "(x_min, x_max), (y_min, y_max)"
   ]
  },
  {
   "cell_type": "code",
   "execution_count": 13,
   "metadata": {},
   "outputs": [],
   "source": [
    "class tree_node(object):\n",
    "    def __init__(self, points=np.array([]), borders=((0., 100.), (0., 100.)), level=0, maxdepth=3, bucketsize=8, parent=None):\n",
    "        self.borders = borders\n",
    "        self.maxdepth = maxdepth\n",
    "        self.level = level\n",
    "        self.bucketsize = bucketsize\n",
    "        self.is_leaf = False\n",
    "        self.is_parent = True\n",
    "        self.parent = parent\n",
    "        if len(points) <= self.bucketsize or self.level >= self.maxdepth:\n",
    "            self.set_leaf(points)\n",
    "        else:\n",
    "            self.build_leafs(points)\n",
    "            \n",
    "    def set_leaf(self, points):\n",
    "        self.points = points\n",
    "        self.is_parent = False\n",
    "        self.is_leaf = True\n",
    "    \n",
    "    def build_leafs(self, points):\n",
    "        self.is_parent = True\n",
    "        self.is_leaf = False\n",
    "        \n",
    "        x1, x2 = self.borders[0]\n",
    "        y1, y2 = self.borders[1]\n",
    "        \n",
    "        self.leafs = [\n",
    "            tree_node(\n",
    "                points = points[(points[:, 0] >= xmin) & (points[:, 1] >= ymin) & (points[:, 0] < xmax) & (points[:, 1] < ymax)],\n",
    "                borders = ((xmin, xmax), (ymin, ymax)),\n",
    "                level = self.level + 1,\n",
    "                maxdepth = self.maxdepth,\n",
    "                parent = self\n",
    "            ) for xmin, xmax, ymin, ymax in (\n",
    "                (x1, x1+(x1+x2)//2, y1, y1+(y1+y2)//2),\n",
    "                (x1+(x1+x2)//2, x2, y1, y1+(y1+y2)//2),\n",
    "                (x1, x1+(x1+x2)//2, y1+(y1+y2)//2, y2),\n",
    "                (x1+(x1+x2)//2, x2, y1+(y1+y2)//2, y2),\n",
    "            )\n",
    "        ]\n",
    "        \n",
    "    def get_leaf(self, x, y):\n",
    "        if self.is_leaf: return self\n",
    "        for l in self.leafs:\n",
    "            if x >= l.borders[0][0] and x < l.borders[0][1] and y >= l.borders[1][0] and y < l.borders[1][1]:\n",
    "                return l.get_leaf(x, y)\n",
    "        return None    \n",
    "    \n",
    "    def get_min_dist(self, x, y):\n",
    "        if x >= self.borders[0][0] and x < self.borders[0][1] and y >= self.borders[1][0] and y < self.borders[1][1]:\n",
    "            return 0\n",
    "        if x >= self.borders[0][0] and x < self.borders[0][1]:\n",
    "            return min(abs(y - self.borders[1][0]), abs(y - self.borders[1][1]))\n",
    "        if y >= self.borders[1][0] and y < self.borders[1][1]:\n",
    "            return min(abs(x - self.borders[0][0]), abs(x - self.borders[0][1]))\n",
    "        else:\n",
    "            return min(abs(y - self.borders[1][0]), abs(y - self.borders[1][1])) + min(abs(x - self.borders[0][0]), abs(x - self.borders[0][1]))\n",
    "        \n",
    "    def get_candidates(self, x, y, mindist):\n",
    "        if self.is_leaf:\n",
    "            return [self]\n",
    "        # print(self.borders)\n",
    "        ret = []\n",
    "        for l in self.leafs:\n",
    "            if l.get_min_dist(x, y) <= mindist:\n",
    "                ret += l.get_candidates(x, y, mindist)         \n",
    "        return ret\n",
    "    \n",
    "    def __len__(self):\n",
    "        if self.is_leaf == True:\n",
    "            return len(self.points)\n",
    "        return sum([len(l) for l in self.leafs])\n",
    "\n",
    "class quadtree(object):\n",
    "    def __init__(self, points=np.array([]), depth=3, borders=((0., 100.), (0., 100.)), bucketsize=8):\n",
    "        self.depth = depth\n",
    "        self.borders = borders\n",
    "        self.bucketsize = bucketsize\n",
    "        if len(points):\n",
    "            self.load(points)            \n",
    "\n",
    "    def load(self, points):\n",
    "        self.root = tree_node(points=points, borders=self.borders, level=0, maxdepth=self.depth, bucketsize=self.bucketsize)\n",
    "    \n",
    "        \n",
    "    def get_nb(self, x, y):\n",
    "        mindist = 1<<32\n",
    "        cand = []\n",
    "        leaf = self.root.get_leaf(x, y)\n",
    "        for p in leaf.points:\n",
    "            dist = np.sum(np.abs(p - (x, y)))\n",
    "            if dist < mindist:\n",
    "                mindist = dist\n",
    "                cand = [p]\n",
    "            elif dist == mindist:\n",
    "                cand.append(p)\n",
    "        for l in self.root.get_candidates(x, y, mindist):\n",
    "            if l != leaf:\n",
    "                # print('hey', l.borders)\n",
    "                for p in l.points:\n",
    "                    dist = np.sum(np.abs(p - (x, y)))\n",
    "                    if dist < mindist:\n",
    "                        mindist = dist\n",
    "                        cand = [p]\n",
    "                    elif dist == mindist:\n",
    "                        cand.append(p)\n",
    "                \n",
    "        return cand\n",
    "    "
   ]
  },
  {
   "cell_type": "code",
   "execution_count": 14,
   "metadata": {},
   "outputs": [],
   "source": [
    "tree = quadtree(points=points, borders=((x_min, x_max+1), (y_min, y_max+1)), bucketsize=12, depth=2)"
   ]
  },
  {
   "cell_type": "code",
   "execution_count": 15,
   "metadata": {},
   "outputs": [
    {
     "data": {
      "text/plain": [
       "50"
      ]
     },
     "execution_count": 15,
     "metadata": {},
     "output_type": "execute_result"
    }
   ],
   "source": [
    "len(tree.root)"
   ]
  },
  {
   "cell_type": "code",
   "execution_count": 16,
   "metadata": {},
   "outputs": [
    {
     "data": {
      "text/plain": [
       "((42, 358), (43, 337))"
      ]
     },
     "execution_count": 16,
     "metadata": {},
     "output_type": "execute_result"
    }
   ],
   "source": [
    "(x_min, x_max), (y_min, y_max)"
   ]
  },
  {
   "cell_type": "code",
   "execution_count": 18,
   "metadata": {},
   "outputs": [
    {
     "name": "stdout",
     "output_type": "stream",
     "text": [
      "[array([ 52, 115]), array([ 47, 200])] 49\n"
     ]
    }
   ],
   "source": [
    "x = 56\n",
    "y = 160\n",
    "#print (tree.root.get_leaf(x, y).points, np.sum(np.abs(tree.root.get_leaf(x, y).points - (x, y)), axis=1))\n",
    "#print (\"borders \", tree.root.get_leaf(x, y).borders)\n",
    "print (tree.get_nb(x, y), np.sum(np.abs(tree.get_nb(x, y)[0] - (x,y))))"
   ]
  },
  {
   "cell_type": "markdown",
   "metadata": {},
   "source": [
    "Part A"
   ]
  },
  {
   "cell_type": "code",
   "execution_count": 19,
   "metadata": {},
   "outputs": [
    {
     "name": "stdout",
     "output_type": "stream",
     "text": [
      "CPU times: user 12.8 s, sys: 35 ms, total: 12.8 s\n",
      "Wall time: 13.1 s\n"
     ]
    }
   ],
   "source": [
    "%%time\n",
    "from collections import defaultdict\n",
    "\n",
    "num_filled = defaultdict(int)\n",
    "field = {}\n",
    "infinite = set([])\n",
    "\n",
    "for x in range(x_min, x_max+1):\n",
    "    for y in range(y_min, y_max+1):\n",
    "        nb = tree.get_nb(x, y)\n",
    "        field[(x, y)] = nb\n",
    "        if len(nb) == 1:\n",
    "            num_filled[tuple(nb[0].tolist())] += 1\n",
    "        if x == x_min or x == x_max or y == y_min or y == y_max:\n",
    "            for p in nb:\n",
    "                infinite.add(tuple(p.tolist()))"
   ]
  },
  {
   "cell_type": "code",
   "execution_count": 21,
   "metadata": {},
   "outputs": [
    {
     "data": {
      "text/plain": [
       "defaultdict(int,\n",
       "            {(42, 290): 772,\n",
       "             (47, 200): 1451,\n",
       "             (52, 115): 1482,\n",
       "             (59, 110): 1939,\n",
       "             (60, 282): 1837,\n",
       "             (72, 211): 1529,\n",
       "             (90, 326): 1731,\n",
       "             (93, 192): 1604,\n",
       "             (95, 258): 633,\n",
       "             (96, 259): 689,\n",
       "             (98, 168): 1499,\n",
       "             (102, 96): 1844,\n",
       "             (108, 60): 3593,\n",
       "             (114, 146): 1817,\n",
       "             (114, 329): 934,\n",
       "             (126, 337): 797,\n",
       "             (127, 249): 2578,\n",
       "             (134, 167): 1118,\n",
       "             (140, 101): 3010,\n",
       "             (156, 167): 1228,\n",
       "             (160, 297): 1461,\n",
       "             (164, 199): 1562,\n",
       "             (165, 273): 993,\n",
       "             (171, 295): 1557,\n",
       "             (173, 191): 970,\n",
       "             (176, 263): 1753,\n",
       "             (179, 135): 2328,\n",
       "             (198, 216): 1876,\n",
       "             (212, 104): 3897,\n",
       "             (213, 113): 1849,\n",
       "             (225, 324): 1644,\n",
       "             (232, 177): 1752,\n",
       "             (233, 295): 2522,\n",
       "             (235, 235): 2263,\n",
       "             (242, 170): 2515,\n",
       "             (246, 185): 1201,\n",
       "             (248, 180): 784,\n",
       "             (260, 334): 1681,\n",
       "             (281, 43): 2280,\n",
       "             (283, 227): 2449,\n",
       "             (287, 260): 2823,\n",
       "             (293, 94): 5626,\n",
       "             (324, 254): 1367,\n",
       "             (328, 235): 1770,\n",
       "             (329, 239): 299,\n",
       "             (338, 332): 2176,\n",
       "             (342, 65): 3373,\n",
       "             (346, 249): 653,\n",
       "             (356, 272): 990,\n",
       "             (358, 207): 2339})"
      ]
     },
     "execution_count": 21,
     "metadata": {},
     "output_type": "execute_result"
    }
   ],
   "source": [
    "num_filled"
   ]
  },
  {
   "cell_type": "code",
   "execution_count": 23,
   "metadata": {},
   "outputs": [],
   "source": [
    "finite = {n: num_filled[n] for n in num_filled if n not in infinite}"
   ]
  },
  {
   "cell_type": "code",
   "execution_count": 27,
   "metadata": {},
   "outputs": [
    {
     "name": "stdout",
     "output_type": "stream",
     "text": [
      "Solution Part A:  5626\n"
     ]
    }
   ],
   "source": [
    "_max = 0\n",
    "ix = -1\n",
    "for p in finite:\n",
    "    if finite[p] > _max:\n",
    "        _max = finite[p]\n",
    "        ix = p\n",
    "print(\"Solution Part A: \", finite[ix])"
   ]
  },
  {
   "cell_type": "markdown",
   "metadata": {},
   "source": [
    "Part B"
   ]
  },
  {
   "cell_type": "code",
   "execution_count": 54,
   "metadata": {},
   "outputs": [],
   "source": [
    "import matplotlib.pyplot as plt\n",
    "%matplotlib inline\n",
    "plt.rcParams['figure.figsize'] = (12, 8)"
   ]
  },
  {
   "cell_type": "code",
   "execution_count": 56,
   "metadata": {},
   "outputs": [],
   "source": [
    "f = np.zeros((400, 400))\n",
    "f[x_min, :] = 10\n",
    "f[x_max, :] = 10\n",
    "f[:, y_min] = 10\n",
    "f[:, y_max] = 10"
   ]
  },
  {
   "cell_type": "code",
   "execution_count": 57,
   "metadata": {},
   "outputs": [
    {
     "data": {
      "text/plain": [
       "((42, 358), (43, 337))"
      ]
     },
     "execution_count": 57,
     "metadata": {},
     "output_type": "execute_result"
    }
   ],
   "source": [
    "(x_min, x_max), (y_min, y_max)"
   ]
  },
  {
   "cell_type": "code",
   "execution_count": 67,
   "metadata": {},
   "outputs": [
    {
     "name": "stdout",
     "output_type": "stream",
     "text": [
      "Part B:  46554\n",
      "CPU times: user 1.23 s, sys: 0 ns, total: 1.23 s\n",
      "Wall time: 1.29 s\n"
     ]
    }
   ],
   "source": [
    "%%time\n",
    "num_region = 0\n",
    "for x in range(x_min, x_max+1):\n",
    "    for y in range(y_min, y_max+1):        \n",
    "        dist = np.sum(np.abs(points - (x, y)))\n",
    "        if dist < 10000:\n",
    "            f[x, y] = 5\n",
    "            num_region += 1\n",
    "        \n",
    "print (\"Part B: \", num_region)"
   ]
  },
  {
   "cell_type": "code",
   "execution_count": 63,
   "metadata": {},
   "outputs": [],
   "source": [
    "for p in points:\n",
    "    f[p[0], p[1]] = 12"
   ]
  },
  {
   "cell_type": "code",
   "execution_count": 64,
   "metadata": {},
   "outputs": [
    {
     "data": {
      "text/plain": [
       "<matplotlib.image.AxesImage at 0x7f252efcaef0>"
      ]
     },
     "execution_count": 64,
     "metadata": {},
     "output_type": "execute_result"
    },
    {
     "data": {
      "image/png": "[encoded data removed]",
      "text/plain": [
       "<Figure size 864x576 with 1 Axes>"
      ]
     },
     "metadata": {
      "needs_background": "light"
     },
     "output_type": "display_data"
    }
   ],
   "source": [
    "plt.imshow(f)"
   ]
  },
  {
   "cell_type": "code",
   "execution_count": null,
   "metadata": {},
   "outputs": [],
   "source": []
  },
  {
   "cell_type": "code",
   "execution_count": 69,
   "metadata": {},
   "outputs": [
    {
     "name": "stdout",
     "output_type": "stream",
     "text": [
      "46554\n",
      "CPU times: user 94 ms, sys: 59 ms, total: 153 ms\n",
      "Wall time: 172 ms\n"
     ]
    }
   ],
   "source": [
    "# from solution thread\n",
    "%%time\n",
    "xvalues = np.arange(x_max)\n",
    "yvalues = np.arange(y_max)\n",
    "xx, yy = np.meshgrid(xvalues, yvalues)\n",
    "\n",
    "layers = []\n",
    "for coord in points:\n",
    "    mdists = np.abs(xx - coord[0]) + np.abs(yy - coord[1])\n",
    "    layers.append(mdists)\n",
    "    \n",
    "dist_arr = np.array(layers)\n",
    "tot_dists = dist_arr.sum(axis=0)\n",
    "print((tot_dists < 10000).sum())"
   ]
  },
  {
   "cell_type": "code",
   "execution_count": 75,
   "metadata": {},
   "outputs": [
    {
     "data": {
      "text/plain": [
       "((337, 358), (337, 358))"
      ]
     },
     "execution_count": 75,
     "metadata": {},
     "output_type": "execute_result"
    }
   ],
   "source": [
    "xx.shape, yy.shape"
   ]
  },
  {
   "cell_type": "code",
   "execution_count": 77,
   "metadata": {},
   "outputs": [
    {
     "data": {
      "text/plain": [
       "array([[  0,   1,   2, ..., 355, 356, 357],\n",
       "       [  0,   1,   2, ..., 355, 356, 357],\n",
       "       [  0,   1,   2, ..., 355, 356, 357],\n",
       "       ...,\n",
       "       [  0,   1,   2, ..., 355, 356, 357],\n",
       "       [  0,   1,   2, ..., 355, 356, 357],\n",
       "       [  0,   1,   2, ..., 355, 356, 357]])"
      ]
     },
     "execution_count": 77,
     "metadata": {},
     "output_type": "execute_result"
    }
   ],
   "source": [
    "xx"
   ]
  },
  {
   "cell_type": "code",
   "execution_count": 76,
   "metadata": {},
   "outputs": [
    {
     "data": {
      "text/plain": [
       "array([[  0,   0,   0, ...,   0,   0,   0],\n",
       "       [  1,   1,   1, ...,   1,   1,   1],\n",
       "       [  2,   2,   2, ...,   2,   2,   2],\n",
       "       ...,\n",
       "       [334, 334, 334, ..., 334, 334, 334],\n",
       "       [335, 335, 335, ..., 335, 335, 335],\n",
       "       [336, 336, 336, ..., 336, 336, 336]])"
      ]
     },
     "execution_count": 76,
     "metadata": {},
     "output_type": "execute_result"
    }
   ],
   "source": [
    "yy"
   ]
  },
  {
   "cell_type": "code",
   "execution_count": null,
   "metadata": {},
   "outputs": [],
   "source": []
  }
 ],
 "metadata": {
  "kernelspec": {
   "display_name": "Python 3",
   "language": "python",
   "name": "python3"
  },
  "language_info": {
   "codemirror_mode": {
    "name": "ipython",
    "version": 3
   },
   "file_extension": ".py",
   "mimetype": "text/x-python",
   "name": "python",
   "nbconvert_exporter": "python",
   "pygments_lexer": "ipython3",
   "version": "3.7.5"
  }
 },
 "nbformat": 4,
 "nbformat_minor": 2
}
