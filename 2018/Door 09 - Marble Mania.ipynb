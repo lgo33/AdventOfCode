{
 "cells": [
  {
   "cell_type": "code",
   "execution_count": 1,
   "metadata": {},
   "outputs": [],
   "source": [
    "from collections import deque"
   ]
  },
  {
   "cell_type": "code",
   "execution_count": 8,
   "metadata": {},
   "outputs": [],
   "source": [
    "ring = deque([])"
   ]
  },
  {
   "cell_type": "code",
   "execution_count": 34,
   "metadata": {},
   "outputs": [],
   "source": [
    "def play(max_marble, nplayers):\n",
    "    score = [0 for j in range(nplayers)]\n",
    "    current_player = 0\n",
    "\n",
    "    i = 1\n",
    "    ring = deque([0])\n",
    "\n",
    "    while True:\n",
    "        if (i % 23) == 0:\n",
    "            score[current_player] += i\n",
    "            ring.rotate(7)\n",
    "            score[current_player] += ring.pop()\n",
    "            ring.rotate(-1)\n",
    "\n",
    "        else:\n",
    "            # append next smallest\n",
    "            ring.rotate(-1)\n",
    "            ring.append(i)\n",
    "\n",
    "        i += 1\n",
    "        current_player = (current_player + 1) % nplayers\n",
    "        if i > max_marble:\n",
    "            break\n",
    "    return (score)"
   ]
  },
  {
   "cell_type": "code",
   "execution_count": 35,
   "metadata": {},
   "outputs": [
    {
     "data": {
      "text/plain": [
       "[0, 0, 0, 0, 32, 0, 0, 0, 0]"
      ]
     },
     "execution_count": 35,
     "metadata": {},
     "output_type": "execute_result"
    }
   ],
   "source": [
    "play(25, 9)"
   ]
  },
  {
   "cell_type": "code",
   "execution_count": 41,
   "metadata": {},
   "outputs": [],
   "source": [
    "tests = [\n",
    "    (10, 1618, 8317),\n",
    "    (13, 7999, 146373),\n",
    "    (17, 1104, 2764),\n",
    "    (21, 6111, 54718),\n",
    "    (30, 5807, 37305)\n",
    "]\n",
    "\n",
    "for nplayers, max_marble, highscore in tests:\n",
    "    assert(max(play(max_marble, nplayers)) == highscore)"
   ]
  },
  {
   "cell_type": "markdown",
   "metadata": {},
   "source": [
    "Part A"
   ]
  },
  {
   "cell_type": "code",
   "execution_count": 42,
   "metadata": {},
   "outputs": [
    {
     "data": {
      "text/plain": [
       "375414"
      ]
     },
     "execution_count": 42,
     "metadata": {},
     "output_type": "execute_result"
    }
   ],
   "source": [
    "max(play(71320, 459))"
   ]
  },
  {
   "cell_type": "markdown",
   "metadata": {},
   "source": [
    "Part B"
   ]
  },
  {
   "cell_type": "code",
   "execution_count": 44,
   "metadata": {},
   "outputs": [
    {
     "name": "stdout",
     "output_type": "stream",
     "text": [
      "3168033673\n",
      "CPU times: user 3.69 s, sys: 99.9 ms, total: 3.79 s\n",
      "Wall time: 3.85 s\n"
     ]
    }
   ],
   "source": [
    "%%time\n",
    "print(max(play(71320*100, 459)))"
   ]
  },
  {
   "cell_type": "code",
   "execution_count": null,
   "metadata": {},
   "outputs": [],
   "source": []
  }
 ],
 "metadata": {
  "kernelspec": {
   "display_name": "Python 3",
   "language": "python",
   "name": "python3"
  },
  "language_info": {
   "codemirror_mode": {
    "name": "ipython",
    "version": 2
   },
   "file_extension": ".py",
   "mimetype": "text/x-python",
   "name": "python",
   "nbconvert_exporter": "python",
   "pygments_lexer": "ipython2",
   "version": "2.7.14"
  }
 },
 "nbformat": 4,
 "nbformat_minor": 2
}
