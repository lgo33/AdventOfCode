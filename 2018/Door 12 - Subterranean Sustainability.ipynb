{
 "cells": [
  {
   "cell_type": "code",
   "execution_count": 12,
   "metadata": {},
   "outputs": [],
   "source": [
    "import numpy as np\n",
    "from collections import defaultdict"
   ]
  },
  {
   "cell_type": "code",
   "execution_count": 2,
   "metadata": {},
   "outputs": [],
   "source": [
    "with open('data/input_12.txt') as fh:\n",
    "    file_input = fh.read().strip()"
   ]
  },
  {
   "cell_type": "code",
   "execution_count": 1,
   "metadata": {},
   "outputs": [],
   "source": [
    "test_input = \"\"\"initial state: #..#.#..##......###...###\n",
    "\n",
    "...## => #\n",
    "..#.. => #\n",
    ".#... => #\n",
    ".#.#. => #\n",
    ".#.## => #\n",
    ".##.. => #\n",
    ".#### => #\n",
    "#.#.# => #\n",
    "#.### => #\n",
    "##.#. => #\n",
    "##.## => #\n",
    "###.. => #\n",
    "###.# => #\n",
    "####. => #\"\"\""
   ]
  },
  {
   "cell_type": "code",
   "execution_count": 77,
   "metadata": {},
   "outputs": [],
   "source": [
    "def read_input(inp):\n",
    "    inp = inp.split('\\n')\n",
    "    initial_state = inp[0].split()[-1]\n",
    "    rules = inp[2:]\n",
    "\n",
    "    rules_table = defaultdict(int)\n",
    "    for rule in rules:\n",
    "        idx, result = rule.split(' => ')\n",
    "        idx = tuple(map(lambda x: 1 if (x == '#') else 0, idx))\n",
    "        result = 1 if (result == '#') else 0\n",
    "        rules_table[idx] = result\n",
    "    rules = rules_table\n",
    "    return initial_state, rules"
   ]
  },
  {
   "cell_type": "code",
   "execution_count": 84,
   "metadata": {},
   "outputs": [],
   "source": [
    "def evolve(state, rules=defaultdict(int), ngen=20):\n",
    "    _min = 0\n",
    "    _max = len(state)\n",
    "    for i in range(ngen):\n",
    "        next_state = defaultdict(int)\n",
    "        start = _min - 2\n",
    "        end = _max + 3\n",
    "        set_min = False\n",
    "        for j in range(start, end):\n",
    "            idx = tuple([state[i] for i in range(j-2, j+3)])\n",
    "            next_state[j] = rules[idx]\n",
    "            if rules[idx] == 1:\n",
    "                if set_min is False:\n",
    "                    _min = j\n",
    "                    set_min = True\n",
    "                _max = j\n",
    "        state = next_state\n",
    "        #print(\"{}: {}\".format(i, \"\".join(['x' if state[i] == 1 else '.' for i in range(start, end)])))        \n",
    "    return state"
   ]
  },
  {
   "cell_type": "markdown",
   "metadata": {},
   "source": [
    "Test"
   ]
  },
  {
   "cell_type": "code",
   "execution_count": 70,
   "metadata": {},
   "outputs": [
    {
     "name": "stdout",
     "output_type": "stream",
     "text": [
      "325\n"
     ]
    }
   ],
   "source": [
    "initial_state, rules = read_input(test_input)\n",
    "state = {i: v for i, v in enumerate(map(lambda x: 1 if (x == '#') else 0, initial_state))}\n",
    "state = defaultdict(int, state)\n",
    "state = evolve(state, rules, 20)\n",
    "total = sum([k for k,v in state.items() if v])\n",
    "print(total)"
   ]
  },
  {
   "cell_type": "markdown",
   "metadata": {},
   "source": [
    "Part A"
   ]
  },
  {
   "cell_type": "code",
   "execution_count": 78,
   "metadata": {},
   "outputs": [
    {
     "name": "stdout",
     "output_type": "stream",
     "text": [
      "3230\n"
     ]
    }
   ],
   "source": [
    "initial_state, rules = read_input(file_input)\n",
    "state = {i: v for i, v in enumerate(map(lambda x: 1 if (x == '#') else 0, initial_state))}\n",
    "state = defaultdict(int, state)\n",
    "state = evolve(state, rules, 20)\n",
    "total = sum([k for k,v in state.items() if v])\n",
    "print(total)"
   ]
  },
  {
   "cell_type": "markdown",
   "metadata": {},
   "source": [
    "Part B"
   ]
  },
  {
   "cell_type": "code",
   "execution_count": 131,
   "metadata": {},
   "outputs": [],
   "source": [
    "def get_hash(state):\n",
    "    return tuple([k for k,v in state.items() if v])\n",
    "\n",
    "def evolve_cache(state, rules=defaultdict(int), ngen=20, cache=set([])):\n",
    "    _min = 0\n",
    "    _max = len(state)\n",
    "    for i in range(ngen):\n",
    "#         if get_hash(state) in cache:\n",
    "#             return i, state, cache\n",
    "        next_state = defaultdict(int)\n",
    "        start = _min - 2\n",
    "        end = _max + 3\n",
    "        set_min = False\n",
    "        for j in range(start, end):\n",
    "            idx = tuple([state[i] for i in range(j-2, j+3)])\n",
    "            next_state[j] = rules[idx]\n",
    "            if rules[idx] == 1:\n",
    "                if set_min is False:\n",
    "                    _min = j\n",
    "                    set_min = True\n",
    "                _max = j\n",
    "#         cache.add(get_hash(state))\n",
    "        state = next_state\n",
    "        total = sum([k for k,v in state.items() if v])\n",
    "        num = sum([1 for k,v in state.items() if v])\n",
    "        print(\"{}, {}/{}, {}, {}: {}\".format(i+1, _min, _max, total, num, \"\".join(['x' if state[i] == 1 else '.' for i in range(start, end)])))        \n",
    "    return state"
   ]
  },
  {
   "cell_type": "code",
   "execution_count": 132,
   "metadata": {},
   "outputs": [
    {
     "data": {
      "text/plain": [
       "'####..##.##..##..#..###..#....#.######..###########.#...#.##..####.###.#.###.###..#.####..#.#..##..#'"
      ]
     },
     "execution_count": 132,
     "metadata": {},
     "output_type": "execute_result"
    }
   ],
   "source": [
    "initial_state"
   ]
  },
  {
   "cell_type": "code",
   "execution_count": 133,
   "metadata": {},
   "outputs": [
    {
     "name": "stdout",
     "output_type": "stream",
     "text": [
      "1, -1/100, 1646, 33: .xx.x....x..x...x.x.x.x...x.x...x.....x...x........x.x.xx.x..x..x.x.....xx.........xx...x..xx..x..x.x.x..\n",
      "2, -2/101, 2070, 43: .x.xx.x....xx.xx.x.x.x..xx.x..xx..x.....xx..x.......x.x..xx.xx.xxx..x...x.x........x.x.x..x..x.x.xxx.x..x.\n",
      "3, -2/102, 2053, 42: ..x..xx.x..x.x..xxx.x..x..xx.x..x.x.x...x.x.x.x......x..x..x..x.....x.xx.x..x.......x.x..xx.xxx.x....x.xx.x.\n",
      "4, -1/103, 2123, 46: ...x..xx.xxx..x.x..x.xx.x..xx.xxx.x..xx.x.x.x..x......xx.xx.xx.x....x..xx.xx.x......x..x..x....x.x...x..xx.x.\n",
      "5, 0/104, 2259, 43: ...x..x.....xx..xxx..xx.x..x....x.x..xxx.x..xx.x....x.x..x..xx.x....x..x..xx.x......xx.xx.x...x..xx..x..xx.x.\n",
      "6, 1/105, 2460, 45: ...xx.x...x.x..x.....xx.xx.x...x..x.x..x.x..xx.x...x..xx.x..xx.x....xx.x..xx.x....x.x..xx.xx..x..x.x.x..xx.x.\n",
      "7, 0/106, 2728, 53: .x.xx.xx.x..xx.x...x.x..xx.xx..xxx..xxx..x..xx.xx..x..xx.x..xx.x..x.xx.x..xx.x...x..x..x..x.x.xxx.x..x..xx.x.\n",
      "8, 0/107, 2895, 51: ..x..x..xx.x..xx.xx.x..x..x..x..x....x...x.x..x..x.x.x..xx.x..xx.xxx..xx.x..xx.xx..xx.xx.xxx.x....x.xx.x..xx.x.\n",
      "9, 1/108, 2396, 48: ...xx.x..xx.x..x..xx.xx.xx.xx.xx.x....xx.x..xx.xxx.x..x..xx.x..x.......xx.x..x..x...x..x....x.x...x..xx.x..xx.x.\n",
      "10, 0/109, 2851, 52: .x.xx.x..xx.xx.x..x..x..x..x..xx.x..x.xx.x..x....x.xx.x..xx.xx.x.....x.xx.xx.xx.xx..xx.x...x..xx..x..xx.x..xx.x.\n",
      "11, 0/110, 2772, 53: ..x..xx.x..x..xx.xx.xx.xx.xx.x..xx.xxx..xx.xx.x...x..xx.x..x..xx.x....x..x..x..x..x...xx.xx..x..x.x.x..xx.x..xx.x.\n",
      "12, 1/111, 3153, 53: ...x..xx.xx.x..x..x..x..x..xx.x..x.......x..xx.xx..x..xx.xx.x..xx.x....xx.xx.xx.xx.xxx.x..x.x.xxx.x..x..xx.x..xx.x.\n",
      "13, 2/112, 2796, 50: ...x..x..xx.xx.xx.xx.xx.x..xx.xx.x.......x..x..x.x.x..x..xx.x..xx.x..x.x..x..x..x....x.xxx.x....x.xx.x..xx.x..xx.x.\n",
      "14, 3/113, 3015, 51: ...xx.x..x..x..x..x..xx.x..x..xx.x.......xx.xxx.x..xx.x..xx.x..xx.xxx..xx.xx.xx.x...x....x.x...x..xx.x..xx.x..xx.x.\n",
      "15, 2/114, 2806, 51: .x.xx.xx.xx.xx.xx.x..xx.xx.x..xx.x.....x.x....x.x..xx.x..xx.x..x.......x..x..xx.xx..x...x..xx..x..xx.x..xx.x..xx.x.\n",
      "16, 2/115, 2934, 48: ..x..x..x..x..x..xx.x..x..xx.x..xx.x....x..x...x..x..xx.x..xx.xx.x.......xx.x..x..x.x.xx..x..x.x.x..xx.x..xx.x..xx.x.\n",
      "17, 3/116, 3433, 59: ...xx.xx.xx.xx.x..xx.xx.x..xx.x..xx.x....xx.xx..xx.x..xx.x..x..xx.x.....x.xx.xx.xxx.x..x.x.xxx.x..x..xx.x..xx.x..xx.x.\n",
      "18, 2/117, 3137, 52: .x.x..x..x..xx.x..x..xx.x..xx.x..xx.x..x.x..x...xx.x..xx.xx.x..xx.x....x..x..x....x.xxx.x....x.xx.x..xx.x..xx.x..xx.x.\n",
      "19, 2/118, 3317, 58: ..x..xx.xx.x..xx.xx.x..xx.x..xx.x..xx.xxx..xx.xxx.xx.x..x..xx.x..xx.x....xx.xx.x...x....x.x...x..xx.x..xx.x..xx.x..xx.x.\n",
      "20, 3/119, 3230, 51: ...x..x..xx.x..x..xx.x..xx.x..xx.x..x.......x......xx.xx.x..xx.x..xx.x..x.x..xx.xx..x...x..xx..x..xx.x..xx.x..xx.x..xx.x.\n",
      "21, 4/120, 3411, 55: ...xx.x..xx.xx.x..xx.x..xx.x..xx.xx.x.......x....x.x..xx.x..xx.x..xx.xxx..x..x..x.x.xx..x..x.x.x..xx.x..xx.x..xx.x..xx.x.\n",
      "22, 3/121, 3457, 54: .x.xx.x..x..xx.x..xx.x..xx.x..x..xx.x.......x...x..x..xx.x..xx.x..x.....x.xx.xxx.x..x.x.xxx.x..x..xx.x..xx.x..xx.x..xx.x.\n",
      "23, 3/122, 3474, 56: ..x..xx.xx.x..xx.x..xx.x..xx.xx.x..xx.x.......xx..xx.x..xx.x..xx.xx.x....x..x....x.xxx.x....x.xx.x..xx.x..xx.x..xx.x..xx.x.\n",
      "24, 4/123, 3328, 52: ...x..x..xx.x..xx.x..xx.x..x..xx.x..xx.x.....x.x...xx.x..xx.x..x..xx.x....xx.x...x....x.x...x..xx.x..xx.x..xx.x..xx.x..xx.x.\n",
      "25, 5/124, 3820, 60: ...xx.x..xx.x..xx.x..xx.xx.x..xx.x..xx.x....x..xxx.xx.x..xx.xx.x..xx.x..x.xx.xx..x...x..xx..x..xx.x..xx.x..xx.x..xx.x..xx.x.\n",
      "26, 4/125, 3775, 58: .x.xx.x..xx.x..xx.x..x..xx.x..xx.x..xx.x....x.x....xx.x..x..xx.x..xx.xxx..x..x.x.xx..x..x.x.x..xx.x..xx.x..xx.x..xx.x..xx.x.\n",
      "27, 4/126, 3915, 60: ..x..xx.x..xx.x..xx.xx.x..xx.x..xx.x..xx.x...x..x..x.xx.xx.x..xx.x..x.....x.xxx.x..x.x.xxx.x..x..xx.x..xx.x..xx.x..xx.x..xx.x.\n",
      "28, 5/127, 3947, 60: ...x..xx.x..xx.x..x..xx.x..xx.x..xx.x..xx.xx..xx.xxx..x..xx.x..xx.xx.x....x....x.xxx.x....x.xx.x..xx.x..xx.x..xx.x..xx.x..xx.x.\n",
      "29, 6/128, 3545, 53: ...x..xx.x..xx.xx.x..xx.x..xx.x..xx.x..x..x...x.....x.x..xx.x..x..xx.x....x...x....x.x...x..xx.x..xx.x..xx.x..xx.x..xx.x..xx.x.\n",
      "30, 7/129, 3945, 58: ...x..xx.x..x..xx.x..xx.x..xx.x..xx.xx.xx.xx..x....x..x..xx.xx.x..xx.x....xx..x...x..xx..x..xx.x..xx.x..xx.x..xx.x..xx.x..xx.x.\n",
      "31, 8/130, 4050, 58: ...x..xx.xx.x..xx.x..xx.x..xx.x..x..x..x..x.x.x....xx.x..x..xx.x..xx.x..x.x.x.xx..x..x.x.x..xx.x..xx.x..xx.x..xx.x..xx.x..xx.x.\n",
      "32, 9/131, 4536, 65: ...x..x..xx.x..xx.x..xx.x..xx.xx.xx.xx.xxx.x..x..x.xx.xx.x..xx.x..xx.xxx.x.x..x.x.xxx.x..x..xx.x..xx.x..xx.x..xx.x..xx.x..xx.x.\n",
      "33, 10/132, 4174, 58: ...xx.x..xx.x..xx.x..xx.x..x..x..x..x....x.xx.xxx..x..xx.x..xx.x..x....xx..xxx.x....x.xx.x..xx.x..xx.x..xx.x..xx.x..xx.x..xx.x.\n",
      "34, 9/133, 4213, 60: .x.xx.x..xx.x..xx.x..xx.xx.xx.xx.xx.x...x..x.....x.x..xx.x..xx.xx.x..x.x..x..x.x...x..xx.x..xx.x..xx.x..xx.x..xx.x..xx.x..xx.x.\n",
      "35, 9/134, 4483, 61: ..x..xx.x..xx.x..xx.x..x..x..x..x..xx.xx..xx.x....x..x..xx.x..x..xx.xxx..xx.xxx..xx..x..xx.x..xx.x..xx.x..xx.x..xx.x..xx.x..xx.x.\n",
      "36, 10/135, 4073, 57: ...x..xx.x..xx.x..xx.xx.xx.xx.xx.x..x..x...xx.x....xx.x..xx.xx.x..x.......x.......x.x.x..xx.x..xx.x..xx.x..xx.x..xx.x..xx.x..xx.x.\n",
      "37, 11/136, 4249, 58: ...x..xx.x..xx.x..x..x..x..x..xx.xx.xx.xxx.xx.x..x.xx.x..x..xx.xx.x.......x......x.x..x..xx.x..xx.x..xx.x..xx.x..xx.x..xx.x..xx.x.\n",
      "38, 12/137, 4290, 58: ...x..xx.x..xx.xx.xx.xx.xx.x..x..x..x......xx.xxx..xx.xx.x..x..xx.x.......x.....x..xx.x..xx.x..xx.x..xx.x..xx.x..xx.x..xx.x..xx.x.\n",
      "39, 13/138, 4193, 54: ...x..xx.x..x..x..x..x..xx.xx.xx.xx.x....x.x.......x..xx.xx.x..xx.x.......x.....x..xx.x..xx.x..xx.x..xx.x..xx.x..xx.x..xx.x..xx.x.\n",
      "40, 14/139, 4165, 54: ...x..xx.xx.xx.xx.xx.x..x..x..x..xx.x...x..x.......x..x..xx.x..xx.x.......x.....x..xx.x..xx.x..xx.x..xx.x..xx.x..xx.x..xx.x..xx.x.\n",
      "41, 15/140, 4402, 56: ...x..x..x..x..x..xx.xx.xx.xx.x..xx.xx..xx.x.......xx.x..xx.x..xx.x.......x.....x..xx.x..xx.x..xx.x..xx.x..xx.x..xx.x..xx.x..xx.x.\n",
      "42, 16/141, 4404, 56: ...xx.xx.xx.xx.x..x..x..x..xx.x..x..x...xx.x.....x.xx.x..xx.x..xx.x.......x.....x..xx.x..xx.x..xx.x..xx.x..xx.x..xx.x..xx.x..xx.x.\n",
      "43, 15/142, 4706, 61: .x.x..x..x..xx.xx.xx.xx.x..xx.xx.xx.xxx.xx.x....x..xx.x..xx.x..xx.x.......x.....x..xx.x..xx.x..xx.x..xx.x..xx.x..xx.x..xx.x..xx.x.\n",
      "44, 15/143, 4420, 54: ..x..xx.xx.x..x..x..x..xx.x..x..x..x......xx.x....x..xx.x..xx.x..xx.x.......x.....x..xx.x..xx.x..xx.x..xx.x..xx.x..xx.x..xx.x..xx.x.\n",
      "45, 16/144, 4727, 60: ...x..x..xx.xx.xx.xx.x..xx.xx.xx.xx.x....x.xx.x....x..xx.x..xx.x..xx.x.......x.....x..xx.x..xx.x..xx.x..xx.x..xx.x..xx.x..xx.x..xx.x.\n",
      "46, 17/145, 4597, 55: ...xx.x..x..x..x..xx.x..x..x..x..xx.x...x..xx.x....x..xx.x..xx.x..xx.x.......x.....x..xx.x..xx.x..xx.x..xx.x..xx.x..xx.x..xx.x..xx.x.\n",
      "47, 16/146, 4915, 63: .x.xx.xx.xx.xx.x..xx.xx.xx.xx.x..xx.xx..x..xx.x....x..xx.x..xx.x..xx.x.......x.....x..xx.x..xx.x..xx.x..xx.x..xx.x..xx.x..xx.x..xx.x.\n",
      "48, 16/147, 4745, 56: ..x..x..x..x..xx.x..x..x..x..xx.x..x..x.x.x..xx.x....x..xx.x..xx.x..xx.x.......x.....x..xx.x..xx.x..xx.x..xx.x..xx.x..xx.x..xx.x..xx.x.\n",
      "49, 17/148, 5069, 64: ...xx.xx.xx.x..xx.xx.xx.xx.x..xx.xx.xxx.x..x..xx.x....x..xx.x..xx.x..xx.x.......x.....x..xx.x..xx.x..xx.x..xx.x..xx.x..xx.x..xx.x..xx.x.\n",
      "50, 16/149, 4864, 57: .x.x..x..xx.x..x..x..x..xx.x..x..x....x.xx.x..xx.x....x..xx.x..xx.x..xx.x.......x.....x..xx.x..xx.x..xx.x..xx.x..xx.x..xx.x..xx.x..xx.x.\n",
      "51, 16/150, 5126, 63: ..x..xx.x..xx.xx.xx.xx.x..xx.xx.xx.x...x..xx.x..xx.x....x..xx.x..xx.x..xx.x.......x.....x..xx.x..xx.x..xx.x..xx.x..xx.x..xx.x..xx.x..xx.x.\n",
      "52, 17/151, 5063, 59: ...x..xx.x..x..x..x..xx.x..x..x..xx.xx..x..xx.x..xx.x....x..xx.x..xx.x..xx.x.......x.....x..xx.x..xx.x..xx.x..xx.x..xx.x..xx.x..xx.x..xx.x.\n",
      "53, 18/152, 5241, 63: ...x..xx.xx.xx.xx.x..xx.xx.xx.x..x..x.x.x..xx.x..xx.x....x..xx.x..xx.x..xx.x.......x.....x..xx.x..xx.x..xx.x..xx.x..xx.x..xx.x..xx.x..xx.x.\n",
      "54, 19/153, 5242, 60: ...x..x..x..x..xx.x..x..x..xx.xx.xxx.x..x..xx.x..xx.x....x..xx.x..xx.x..xx.x.......x.....x..xx.x..xx.x..xx.x..xx.x..xx.x..xx.x..xx.x..xx.x.\n",
      "55, 20/154, 5310, 62: ...xx.xx.xx.x..xx.xx.xx.x..x..x....x.xx.x..xx.x..xx.x....x..xx.x..xx.x..xx.x.......x.....x..xx.x..xx.x..xx.x..xx.x..xx.x..xx.x..xx.x..xx.x.\n",
      "56, 19/155, 5361, 61: .x.x..x..xx.x..x..x..xx.xx.xx.x...x..xx.x..xx.x..xx.x....x..xx.x..xx.x..xx.x.......x.....x..xx.x..xx.x..xx.x..xx.x..xx.x..xx.x..xx.x..xx.x.\n",
      "57, 19/156, 5476, 63: ..x..xx.x..xx.xx.xx.x..x..x..xx.xx..x..xx.x..xx.x..xx.x....x..xx.x..xx.x..xx.x.......x.....x..xx.x..xx.x..xx.x..xx.x..xx.x..xx.x..xx.x..xx.x.\n",
      "58, 20/157, 5510, 62: ...x..xx.x..x..x..xx.xx.xx.x..x..x.x.x..xx.x..xx.x..xx.x....x..xx.x..xx.x..xx.x.......x.....x..xx.x..xx.x..xx.x..xx.x..xx.x..xx.x..xx.x..xx.x.\n",
      "59, 21/158, 5647, 64: ...x..xx.xx.xx.x..x..x..xx.xx.xxx.x..x..xx.x..xx.x..xx.x....x..xx.x..xx.x..xx.x.......x.....x..xx.x..xx.x..xx.x..xx.x..xx.x..xx.x..xx.x..xx.x.\n",
      "60, 22/159, 5593, 61: ...x..x..x..xx.xx.xx.x..x..x....x.xx.x..xx.x..xx.x..xx.x....x..xx.x..xx.x..xx.x.......x.....x..xx.x..xx.x..xx.x..xx.x..xx.x..xx.x..xx.x..xx.x.\n",
      "61, 23/160, 5722, 63: ...xx.xx.x..x..x..xx.xx.xx.x...x..xx.x..xx.x..xx.x..xx.x....x..xx.x..xx.x..xx.x.......x.....x..xx.x..xx.x..xx.x..xx.x..xx.x..xx.x..xx.x..xx.x.\n",
      "62, 22/161, 5813, 64: .x.x..xx.xx.xx.x..x..x..xx.xx..x..xx.x..xx.x..xx.x..xx.x....x..xx.x..xx.x..xx.x.......x.....x..xx.x..xx.x..xx.x..xx.x..xx.x..xx.x..xx.x..xx.x.\n",
      "63, 22/162, 5848, 63: ..x..x..x..x..xx.xx.xx.x..x..x.x.x..xx.x..xx.x..xx.x..xx.x....x..xx.x..xx.x..xx.x.......x.....x..xx.x..xx.x..xx.x..xx.x..xx.x..xx.x..xx.x..xx.x.\n",
      "64, 23/163, 6008, 66: ...xx.xx.xx.x..x..x..xx.xx.xxx.x..x..xx.x..xx.x..xx.x..xx.x....x..xx.x..xx.x..xx.x.......x.....x..xx.x..xx.x..xx.x..xx.x..xx.x..xx.x..xx.x..xx.x.\n",
      "65, 22/164, 5981, 64: .x.x..x..xx.xx.xx.x..x..x....x.xx.x..xx.x..xx.x..xx.x..xx.x....x..xx.x..xx.x..xx.x.......x.....x..xx.x..xx.x..xx.x..xx.x..xx.x..xx.x..xx.x..xx.x.\n",
      "66, 22/165, 6087, 65: ..x..xx.x..x..x..xx.xx.xx.x...x..xx.x..xx.x..xx.x..xx.x..xx.x....x..xx.x..xx.x..xx.x.......x.....x..xx.x..xx.x..xx.x..xx.x..xx.x..xx.x..xx.x..xx.x.\n",
      "67, 23/166, 6182, 66: ...x..xx.xx.xx.x..x..x..xx.xx..x..xx.x..xx.x..xx.x..xx.x..xx.x....x..xx.x..xx.x..xx.x.......x.....x..xx.x..xx.x..xx.x..xx.x..xx.x..xx.x..xx.x..xx.x.\n",
      "68, 24/167, 6221, 65: ...x..x..x..xx.xx.xx.x..x..x.x.x..xx.x..xx.x..xx.x..xx.x..xx.x....x..xx.x..xx.x..xx.x.......x.....x..xx.x..xx.x..xx.x..xx.x..xx.x..xx.x..xx.x..xx.x.\n",
      "69, 25/168, 6357, 67: ...xx.xx.x..x..x..xx.xx.xxx.x..x..xx.x..xx.x..xx.x..xx.x..xx.x....x..xx.x..xx.x..xx.x.......x.....x..xx.x..xx.x..xx.x..xx.x..xx.x..xx.x..xx.x..xx.x.\n",
      "70, 24/169, 6360, 66: .x.x..xx.xx.xx.x..x..x....x.xx.x..xx.x..xx.x..xx.x..xx.x..xx.x....x..xx.x..xx.x..xx.x.......x.....x..xx.x..xx.x..xx.x..xx.x..xx.x..xx.x..xx.x..xx.x.\n",
      "71, 24/170, 6442, 66: ..x..x..x..x..xx.xx.xx.x...x..xx.x..xx.x..xx.x..xx.x..xx.x..xx.x....x..xx.x..xx.x..xx.x.......x.....x..xx.x..xx.x..xx.x..xx.x..xx.x..xx.x..xx.x..xx.x.\n",
      "72, 25/171, 6563, 68: ...xx.xx.xx.x..x..x..xx.xx..x..xx.x..xx.x..xx.x..xx.x..xx.x..xx.x....x..xx.x..xx.x..xx.x.......x.....x..xx.x..xx.x..xx.x..xx.x..xx.x..xx.x..xx.x..xx.x.\n",
      "73, 24/172, 6629, 68: .x.x..x..xx.xx.xx.x..x..x.x.x..xx.x..xx.x..xx.x..xx.x..xx.x..xx.x....x..xx.x..xx.x..xx.x.......x.....x..xx.x..xx.x..xx.x..xx.x..xx.x..xx.x..xx.x..xx.x.\n",
      "74, 24/173, 6740, 69: ..x..xx.x..x..x..xx.xx.xxx.x..x..xx.x..xx.x..xx.x..xx.x..xx.x..xx.x....x..xx.x..xx.x..xx.x.......x.....x..xx.x..xx.x..xx.x..xx.x..xx.x..xx.x..xx.x..xx.x.\n",
      "75, 25/174, 6749, 68: ...x..xx.xx.xx.x..x..x....x.xx.x..xx.x..xx.x..xx.x..xx.x..xx.x..xx.x....x..xx.x..xx.x..xx.x.......x.....x..xx.x..xx.x..xx.x..xx.x..xx.x..xx.x..xx.x..xx.x.\n",
      "76, 26/175, 6834, 68: ...x..x..x..xx.xx.xx.x...x..xx.x..xx.x..xx.x..xx.x..xx.x..xx.x..xx.x....x..xx.x..xx.x..xx.x.......x.....x..xx.x..xx.x..xx.x..xx.x..xx.x..xx.x..xx.x..xx.x.\n",
      "77, 27/176, 6930, 69: ...xx.xx.x..x..x..xx.xx..x..xx.x..xx.x..xx.x..xx.x..xx.x..xx.x..xx.x....x..xx.x..xx.x..xx.x.......x.....x..xx.x..xx.x..xx.x..xx.x..xx.x..xx.x..xx.x..xx.x.\n",
      "78, 26/177, 7026, 70: .x.x..xx.xx.xx.x..x..x.x.x..xx.x..xx.x..xx.x..xx.x..xx.x..xx.x..xx.x....x..xx.x..xx.x..xx.x.......x.....x..xx.x..xx.x..xx.x..xx.x..xx.x..xx.x..xx.x..xx.x.\n",
      "79, 26/178, 7111, 70: ..x..x..x..x..xx.xx.xxx.x..x..xx.x..xx.x..xx.x..xx.x..xx.x..xx.x..xx.x....x..xx.x..xx.x..xx.x.......x.....x..xx.x..xx.x..xx.x..xx.x..xx.x..xx.x..xx.x..xx.x.\n",
      "80, 27/179, 7150, 70: ...xx.xx.xx.x..x..x....x.xx.x..xx.x..xx.x..xx.x..xx.x..xx.x..xx.x..xx.x....x..xx.x..xx.x..xx.x.......x.....x..xx.x..xx.x..xx.x..xx.x..xx.x..xx.x..xx.x..xx.x.\n",
      "81, 26/180, 7263, 71: .x.x..x..xx.xx.xx.x...x..xx.x..xx.x..xx.x..xx.x..xx.x..xx.x..xx.x..xx.x....x..xx.x..xx.x..xx.x.......x.....x..xx.x..xx.x..xx.x..xx.x..xx.x..xx.x..xx.x..xx.x.\n",
      "82, 26/181, 7333, 71: ..x..xx.x..x..x..xx.xx..x..xx.x..xx.x..xx.x..xx.x..xx.x..xx.x..xx.x..xx.x....x..xx.x..xx.x..xx.x.......x.....x..xx.x..xx.x..xx.x..xx.x..xx.x..xx.x..xx.x..xx.x.\n",
      "83, 27/182, 7433, 72: ...x..xx.xx.xx.x..x..x.x.x..xx.x..xx.x..xx.x..xx.x..xx.x..xx.x..xx.x..xx.x....x..xx.x..xx.x..xx.x.......x.....x..xx.x..xx.x..xx.x..xx.x..xx.x..xx.x..xx.x..xx.x.\n",
      "84, 28/183, 7521, 72: ...x..x..x..xx.xx.xxx.x..x..xx.x..xx.x..xx.x..xx.x..xx.x..xx.x..xx.x..xx.x....x..xx.x..xx.x..xx.x.......x.....x..xx.x..xx.x..xx.x..xx.x..xx.x..xx.x..xx.x..xx.x.\n",
      "85, 29/184, 7535, 71: ...xx.xx.x..x..x....x.xx.x..xx.x..xx.x..xx.x..xx.x..xx.x..xx.x..xx.x..xx.x....x..xx.x..xx.x..xx.x.......x.....x..xx.x..xx.x..xx.x..xx.x..xx.x..xx.x..xx.x..xx.x.\n",
      "86, 28/185, 7679, 73: .x.x..xx.xx.xx.x...x..xx.x..xx.x..xx.x..xx.x..xx.x..xx.x..xx.x..xx.x..xx.x....x..xx.x..xx.x..xx.x.......x.....x..xx.x..xx.x..xx.x..xx.x..xx.x..xx.x..xx.x..xx.x.\n",
      "87, 28/186, 7722, 72: ..x..x..x..x..xx.xx..x..xx.x..xx.x..xx.x..xx.x..xx.x..xx.x..xx.x..xx.x..xx.x....x..xx.x..xx.x..xx.x.......x.....x..xx.x..xx.x..xx.x..xx.x..xx.x..xx.x..xx.x..xx.x.\n",
      "88, 29/187, 7852, 74: ...xx.xx.xx.x..x..x.x.x..xx.x..xx.x..xx.x..xx.x..xx.x..xx.x..xx.x..xx.x..xx.x....x..xx.x..xx.x..xx.x.......x.....x..xx.x..xx.x..xx.x..xx.x..xx.x..xx.x..xx.x..xx.x.\n",
      "89, 28/188, 7970, 75: .x.x..x..xx.xx.xxx.x..x..xx.x..xx.x..xx.x..xx.x..xx.x..xx.x..xx.x..xx.x..xx.x....x..xx.x..xx.x..xx.x.......x.....x..xx.x..xx.x..xx.x..xx.x..xx.x..xx.x..xx.x..xx.x.\n",
      "90, 28/189, 7958, 73: ..x..xx.x..x..x....x.xx.x..xx.x..xx.x..xx.x..xx.x..xx.x..xx.x..xx.x..xx.x..xx.x....x..xx.x..xx.x..xx.x.......x.....x..xx.x..xx.x..xx.x..xx.x..xx.x..xx.x..xx.x..xx.x.\n",
      "91, 29/190, 8105, 75: ...x..xx.xx.xx.x...x..xx.x..xx.x..xx.x..xx.x..xx.x..xx.x..xx.x..xx.x..xx.x..xx.x....x..xx.x..xx.x..xx.x.......x.....x..xx.x..xx.x..xx.x..xx.x..xx.x..xx.x..xx.x..xx.x.\n",
      "92, 30/191, 8152, 74: ...x..x..x..xx.xx..x..xx.x..xx.x..xx.x..xx.x..xx.x..xx.x..xx.x..xx.x..xx.x..xx.x....x..xx.x..xx.x..xx.x.......x.....x..xx.x..xx.x..xx.x..xx.x..xx.x..xx.x..xx.x..xx.x.\n",
      "93, 31/192, 8253, 75: ...xx.xx.x..x..x.x.x..xx.x..xx.x..xx.x..xx.x..xx.x..xx.x..xx.x..xx.x..xx.x..xx.x....x..xx.x..xx.x..xx.x.......x.....x..xx.x..xx.x..xx.x..xx.x..xx.x..xx.x..xx.x..xx.x.\n",
      "94, 30/193, 8404, 77: .x.x..xx.xx.xxx.x..x..xx.x..xx.x..xx.x..xx.x..xx.x..xx.x..xx.x..xx.x..xx.x..xx.x....x..xx.x..xx.x..xx.x.......x.....x..xx.x..xx.x..xx.x..xx.x..xx.x..xx.x..xx.x..xx.x.\n",
      "95, 30/194, 8365, 74: ..x..x..x..x....x.xx.x..xx.x..xx.x..xx.x..xx.x..xx.x..xx.x..xx.x..xx.x..xx.x..xx.x....x..xx.x..xx.x..xx.x.......x.....x..xx.x..xx.x..xx.x..xx.x..xx.x..xx.x..xx.x..xx.x.\n",
      "96, 31/195, 8543, 77: ...xx.xx.xx.x...x..xx.x..xx.x..xx.x..xx.x..xx.x..xx.x..xx.x..xx.x..xx.x..xx.x..xx.x....x..xx.x..xx.x..xx.x.......x.....x..xx.x..xx.x..xx.x..xx.x..xx.x..xx.x..xx.x..xx.x.\n",
      "97, 30/196, 8623, 77: .x.x..x..xx.xx..x..xx.x..xx.x..xx.x..xx.x..xx.x..xx.x..xx.x..xx.x..xx.x..xx.x..xx.x....x..xx.x..xx.x..xx.x.......x.....x..xx.x..xx.x..xx.x..xx.x..xx.x..xx.x..xx.x..xx.x.\n",
      "98, 30/197, 8694, 77: ..x..xx.x..x..x.x.x..xx.x..xx.x..xx.x..xx.x..xx.x..xx.x..xx.x..xx.x..xx.x..xx.x..xx.x....x..xx.x..xx.x..xx.x.......x.....x..xx.x..xx.x..xx.x..xx.x..xx.x..xx.x..xx.x..xx.x.\n",
      "99, 31/198, 8848, 79: ...x..xx.xx.xxx.x..x..xx.x..xx.x..xx.x..xx.x..xx.x..xx.x..xx.x..xx.x..xx.x..xx.x..xx.x....x..xx.x..xx.x..xx.x.......x.....x..xx.x..xx.x..xx.x..xx.x..xx.x..xx.x..xx.x..xx.x.\n",
      "100, 32/199, 8815, 76: ...x..x..x....x.xx.x..xx.x..xx.x..xx.x..xx.x..xx.x..xx.x..xx.x..xx.x..xx.x..xx.x..xx.x....x..xx.x..xx.x..xx.x.......x.....x..xx.x..xx.x..xx.x..xx.x..xx.x..xx.x..xx.x..xx.x.\n",
      "101, 33/200, 8961, 78: ...xx.xx.x...x..xx.x..xx.x..xx.x..xx.x..xx.x..xx.x..xx.x..xx.x..xx.x..xx.x..xx.x..xx.x....x..xx.x..xx.x..xx.x.......x.....x..xx.x..xx.x..xx.x..xx.x..xx.x..xx.x..xx.x..xx.x.\n",
      "102, 32/201, 9077, 79: .x.x..xx.xx..x..xx.x..xx.x..xx.x..xx.x..xx.x..xx.x..xx.x..xx.x..xx.x..xx.x..xx.x..xx.x....x..xx.x..xx.x..xx.x.......x.....x..xx.x..xx.x..xx.x..xx.x..xx.x..xx.x..xx.x..xx.x.\n",
      "103, 32/202, 9117, 78: ..x..x..x..x.x.x..xx.x..xx.x..xx.x..xx.x..xx.x..xx.x..xx.x..xx.x..xx.x..xx.x..xx.x..xx.x....x..xx.x..xx.x..xx.x.......x.....x..xx.x..xx.x..xx.x..xx.x..xx.x..xx.x..xx.x..xx.x.\n",
      "104, 33/203, 9304, 81: ...xx.xx.xxx.x..x..xx.x..xx.x..xx.x..xx.x..xx.x..xx.x..xx.x..xx.x..xx.x..xx.x..xx.x..xx.x....x..xx.x..xx.x..xx.x.......x.....x..xx.x..xx.x..xx.x..xx.x..xx.x..xx.x..xx.x..xx.x.\n",
      "105, 32/204, 9308, 79: .x.x..x....x.xx.x..xx.x..xx.x..xx.x..xx.x..xx.x..xx.x..xx.x..xx.x..xx.x..xx.x..xx.x..xx.x....x..xx.x..xx.x..xx.x.......x.....x..xx.x..xx.x..xx.x..xx.x..xx.x..xx.x..xx.x..xx.x.\n",
      "106, 32/205, 9421, 80: ..x..xx.x...x..xx.x..xx.x..xx.x..xx.x..xx.x..xx.x..xx.x..xx.x..xx.x..xx.x..xx.x..xx.x..xx.x....x..xx.x..xx.x..xx.x.......x.....x..xx.x..xx.x..xx.x..xx.x..xx.x..xx.x..xx.x..xx.x.\n",
      "107, 33/206, 9541, 81: ...x..xx.xx..x..xx.x..xx.x..xx.x..xx.x..xx.x..xx.x..xx.x..xx.x..xx.x..xx.x..xx.x..xx.x..xx.x....x..xx.x..xx.x..xx.x.......x.....x..xx.x..xx.x..xx.x..xx.x..xx.x..xx.x..xx.x..xx.x.\n",
      "108, 34/207, 9585, 80: ...x..x..x.x.x..xx.x..xx.x..xx.x..xx.x..xx.x..xx.x..xx.x..xx.x..xx.x..xx.x..xx.x..xx.x..xx.x....x..xx.x..xx.x..xx.x.......x.....x..xx.x..xx.x..xx.x..xx.x..xx.x..xx.x..xx.x..xx.x.\n",
      "109, 35/208, 9738, 82: ...xx.xxx.x..x..xx.x..xx.x..xx.x..xx.x..xx.x..xx.x..xx.x..xx.x..xx.x..xx.x..xx.x..xx.x..xx.x....x..xx.x..xx.x..xx.x.......x.....x..xx.x..xx.x..xx.x..xx.x..xx.x..xx.x..xx.x..xx.x.\n",
      "110, 34/209, 9782, 81: .x.x....x.xx.x..xx.x..xx.x..xx.x..xx.x..xx.x..xx.x..xx.x..xx.x..xx.x..xx.x..xx.x..xx.x..xx.x....x..xx.x..xx.x..xx.x.......x.....x..xx.x..xx.x..xx.x..xx.x..xx.x..xx.x..xx.x..xx.x.\n",
      "111, 34/210, 9861, 81: ..x..x...x..xx.x..xx.x..xx.x..xx.x..xx.x..xx.x..xx.x..xx.x..xx.x..xx.x..xx.x..xx.x..xx.x..xx.x....x..xx.x..xx.x..xx.x.......x.....x..xx.x..xx.x..xx.x..xx.x..xx.x..xx.x..xx.x..xx.x.\n",
      "112, 35/211, 10017, 83: ...xx.xx..x..xx.x..xx.x..xx.x..xx.x..xx.x..xx.x..xx.x..xx.x..xx.x..xx.x..xx.x..xx.x..xx.x..xx.x....x..xx.x..xx.x..xx.x.......x.....x..xx.x..xx.x..xx.x..xx.x..xx.x..xx.x..xx.x..xx.x.\n",
      "113, 34/212, 10098, 83: .x.x..x.x.x..xx.x..xx.x..xx.x..xx.x..xx.x..xx.x..xx.x..xx.x..xx.x..xx.x..xx.x..xx.x..xx.x..xx.x....x..xx.x..xx.x..xx.x.......x.....x..xx.x..xx.x..xx.x..xx.x..xx.x..xx.x..xx.x..xx.x.\n",
      "114, 34/213, 10216, 84: ..x..xxx.x..x..xx.x..xx.x..xx.x..xx.x..xx.x..xx.x..xx.x..xx.x..xx.x..xx.x..xx.x..xx.x..xx.x..xx.x....x..xx.x..xx.x..xx.x.......x.....x..xx.x..xx.x..xx.x..xx.x..xx.x..xx.x..xx.x..xx.x.\n",
      "115, 35/214, 10303, 84: ...x.x..x.xx.x..xx.x..xx.x..xx.x..xx.x..xx.x..xx.x..xx.x..xx.x..xx.x..xx.x..xx.x..xx.x..xx.x..xx.x....x..xx.x..xx.x..xx.x.......x.....x..xx.x..xx.x..xx.x..xx.x..xx.x..xx.x..xx.x..xx.x.\n",
      "116, 35/215, 10424, 85: ..x..xxx..xx.x..xx.x..xx.x..xx.x..xx.x..xx.x..xx.x..xx.x..xx.x..xx.x..xx.x..xx.x..xx.x..xx.x..xx.x....x..xx.x..xx.x..xx.x.......x.....x..xx.x..xx.x..xx.x..xx.x..xx.x..xx.x..xx.x..xx.x.\n",
      "117, 36/216, 10427, 83: ...x.x.....xx.x..xx.x..xx.x..xx.x..xx.x..xx.x..xx.x..xx.x..xx.x..xx.x..xx.x..xx.x..xx.x..xx.x..xx.x....x..xx.x..xx.x..xx.x.......x.....x..xx.x..xx.x..xx.x..xx.x..xx.x..xx.x..xx.x..xx.x.\n",
      "118, 36/217, 10552, 84: ..x..x...x.xx.x..xx.x..xx.x..xx.x..xx.x..xx.x..xx.x..xx.x..xx.x..xx.x..xx.x..xx.x..xx.x..xx.x..xx.x....x..xx.x..xx.x..xx.x.......x.....x..xx.x..xx.x..xx.x..xx.x..xx.x..xx.x..xx.x..xx.x.\n",
      "119, 37/218, 10714, 86: ...xx.xx.x..xx.x..xx.x..xx.x..xx.x..xx.x..xx.x..xx.x..xx.x..xx.x..xx.x..xx.x..xx.x..xx.x..xx.x..xx.x....x..xx.x..xx.x..xx.x.......x.....x..xx.x..xx.x..xx.x..xx.x..xx.x..xx.x..xx.x..xx.x.\n",
      "120, 36/219, 10797, 86: .x.x..xx.x..xx.x..xx.x..xx.x..xx.x..xx.x..xx.x..xx.x..xx.x..xx.x..xx.x..xx.x..xx.x..xx.x..xx.x..xx.x....x..xx.x..xx.x..xx.x.......x.....x..xx.x..xx.x..xx.x..xx.x..xx.x..xx.x..xx.x..xx.x.\n",
      "121, 36/220, 10882, 86: ..x..x..xx.x..xx.x..xx.x..xx.x..xx.x..xx.x..xx.x..xx.x..xx.x..xx.x..xx.x..xx.x..xx.x..xx.x..xx.x..xx.x....x..xx.x..xx.x..xx.x.......x.....x..xx.x..xx.x..xx.x..xx.x..xx.x..xx.x..xx.x..xx.x.\n",
      "122, 37/221, 11006, 87: ...xx.x..xx.x..xx.x..xx.x..xx.x..xx.x..xx.x..xx.x..xx.x..xx.x..xx.x..xx.x..xx.x..xx.x..xx.x..xx.x..xx.x....x..xx.x..xx.x..xx.x.......x.....x..xx.x..xx.x..xx.x..xx.x..xx.x..xx.x..xx.x..xx.x.\n",
      "123, 36/222, 11129, 88: .x.xx.x..xx.x..xx.x..xx.x..xx.x..xx.x..xx.x..xx.x..xx.x..xx.x..xx.x..xx.x..xx.x..xx.x..xx.x..xx.x..xx.x....x..xx.x..xx.x..xx.x.......x.....x..xx.x..xx.x..xx.x..xx.x..xx.x..xx.x..xx.x..xx.x.\n",
      "124, 36/223, 11216, 88: ..x..xx.x..xx.x..xx.x..xx.x..xx.x..xx.x..xx.x..xx.x..xx.x..xx.x..xx.x..xx.x..xx.x..xx.x..xx.x..xx.x..xx.x....x..xx.x..xx.x..xx.x.......x.....x..xx.x..xx.x..xx.x..xx.x..xx.x..xx.x..xx.x..xx.x.\n",
      "125, 37/224, 11304, 88: ...x..xx.x..xx.x..xx.x..xx.x..xx.x..xx.x..xx.x..xx.x..xx.x..xx.x..xx.x..xx.x..xx.x..xx.x..xx.x..xx.x..xx.x....x..xx.x..xx.x..xx.x.......x.....x..xx.x..xx.x..xx.x..xx.x..xx.x..xx.x..xx.x..xx.x.\n",
      "126, 38/225, 11392, 88: ...x..xx.x..xx.x..xx.x..xx.x..xx.x..xx.x..xx.x..xx.x..xx.x..xx.x..xx.x..xx.x..xx.x..xx.x..xx.x..xx.x..xx.x....x..xx.x..xx.x..xx.x.......x.....x..xx.x..xx.x..xx.x..xx.x..xx.x..xx.x..xx.x..xx.x.\n",
      "127, 39/226, 11480, 88: ...x..xx.x..xx.x..xx.x..xx.x..xx.x..xx.x..xx.x..xx.x..xx.x..xx.x..xx.x..xx.x..xx.x..xx.x..xx.x..xx.x..xx.x....x..xx.x..xx.x..xx.x.......x.....x..xx.x..xx.x..xx.x..xx.x..xx.x..xx.x..xx.x..xx.x.\n",
      "128, 40/227, 11568, 88: ...x..xx.x..xx.x..xx.x..xx.x..xx.x..xx.x..xx.x..xx.x..xx.x..xx.x..xx.x..xx.x..xx.x..xx.x..xx.x..xx.x..xx.x....x..xx.x..xx.x..xx.x.......x.....x..xx.x..xx.x..xx.x..xx.x..xx.x..xx.x..xx.x..xx.x.\n",
      "129, 41/228, 11656, 88: ...x..xx.x..xx.x..xx.x..xx.x..xx.x..xx.x..xx.x..xx.x..xx.x..xx.x..xx.x..xx.x..xx.x..xx.x..xx.x..xx.x..xx.x....x..xx.x..xx.x..xx.x.......x.....x..xx.x..xx.x..xx.x..xx.x..xx.x..xx.x..xx.x..xx.x.\n",
      "130, 42/229, 11744, 88: ...x..xx.x..xx.x..xx.x..xx.x..xx.x..xx.x..xx.x..xx.x..xx.x..xx.x..xx.x..xx.x..xx.x..xx.x..xx.x..xx.x..xx.x....x..xx.x..xx.x..xx.x.......x.....x..xx.x..xx.x..xx.x..xx.x..xx.x..xx.x..xx.x..xx.x.\n",
      "131, 43/230, 11832, 88: ...x..xx.x..xx.x..xx.x..xx.x..xx.x..xx.x..xx.x..xx.x..xx.x..xx.x..xx.x..xx.x..xx.x..xx.x..xx.x..xx.x..xx.x....x..xx.x..xx.x..xx.x.......x.....x..xx.x..xx.x..xx.x..xx.x..xx.x..xx.x..xx.x..xx.x.\n",
      "132, 44/231, 11920, 88: ...x..xx.x..xx.x..xx.x..xx.x..xx.x..xx.x..xx.x..xx.x..xx.x..xx.x..xx.x..xx.x..xx.x..xx.x..xx.x..xx.x..xx.x....x..xx.x..xx.x..xx.x.......x.....x..xx.x..xx.x..xx.x..xx.x..xx.x..xx.x..xx.x..xx.x.\n",
      "133, 45/232, 12008, 88: ...x..xx.x..xx.x..xx.x..xx.x..xx.x..xx.x..xx.x..xx.x..xx.x..xx.x..xx.x..xx.x..xx.x..xx.x..xx.x..xx.x..xx.x....x..xx.x..xx.x..xx.x.......x.....x..xx.x..xx.x..xx.x..xx.x..xx.x..xx.x..xx.x..xx.x.\n",
      "134, 46/233, 12096, 88: ...x..xx.x..xx.x..xx.x..xx.x..xx.x..xx.x..xx.x..xx.x..xx.x..xx.x..xx.x..xx.x..xx.x..xx.x..xx.x..xx.x..xx.x....x..xx.x..xx.x..xx.x.......x.....x..xx.x..xx.x..xx.x..xx.x..xx.x..xx.x..xx.x..xx.x.\n",
      "135, 47/234, 12184, 88: ...x..xx.x..xx.x..xx.x..xx.x..xx.x..xx.x..xx.x..xx.x..xx.x..xx.x..xx.x..xx.x..xx.x..xx.x..xx.x..xx.x..xx.x....x..xx.x..xx.x..xx.x.......x.....x..xx.x..xx.x..xx.x..xx.x..xx.x..xx.x..xx.x..xx.x.\n",
      "136, 48/235, 12272, 88: ...x..xx.x..xx.x..xx.x..xx.x..xx.x..xx.x..xx.x..xx.x..xx.x..xx.x..xx.x..xx.x..xx.x..xx.x..xx.x..xx.x..xx.x....x..xx.x..xx.x..xx.x.......x.....x..xx.x..xx.x..xx.x..xx.x..xx.x..xx.x..xx.x..xx.x.\n",
      "137, 49/236, 12360, 88: ...x..xx.x..xx.x..xx.x..xx.x..xx.x..xx.x..xx.x..xx.x..xx.x..xx.x..xx.x..xx.x..xx.x..xx.x..xx.x..xx.x..xx.x....x..xx.x..xx.x..xx.x.......x.....x..xx.x..xx.x..xx.x..xx.x..xx.x..xx.x..xx.x..xx.x.\n",
      "138, 50/237, 12448, 88: ...x..xx.x..xx.x..xx.x..xx.x..xx.x..xx.x..xx.x..xx.x..xx.x..xx.x..xx.x..xx.x..xx.x..xx.x..xx.x..xx.x..xx.x....x..xx.x..xx.x..xx.x.......x.....x..xx.x..xx.x..xx.x..xx.x..xx.x..xx.x..xx.x..xx.x.\n",
      "139, 51/238, 12536, 88: ...x..xx.x..xx.x..xx.x..xx.x..xx.x..xx.x..xx.x..xx.x..xx.x..xx.x..xx.x..xx.x..xx.x..xx.x..xx.x..xx.x..xx.x....x..xx.x..xx.x..xx.x.......x.....x..xx.x..xx.x..xx.x..xx.x..xx.x..xx.x..xx.x..xx.x.\n",
      "140, 52/239, 12624, 88: ...x..xx.x..xx.x..xx.x..xx.x..xx.x..xx.x..xx.x..xx.x..xx.x..xx.x..xx.x..xx.x..xx.x..xx.x..xx.x..xx.x..xx.x....x..xx.x..xx.x..xx.x.......x.....x..xx.x..xx.x..xx.x..xx.x..xx.x..xx.x..xx.x..xx.x.\n",
      "141, 53/240, 12712, 88: ...x..xx.x..xx.x..xx.x..xx.x..xx.x..xx.x..xx.x..xx.x..xx.x..xx.x..xx.x..xx.x..xx.x..xx.x..xx.x..xx.x..xx.x....x..xx.x..xx.x..xx.x.......x.....x..xx.x..xx.x..xx.x..xx.x..xx.x..xx.x..xx.x..xx.x.\n",
      "142, 54/241, 12800, 88: ...x..xx.x..xx.x..xx.x..xx.x..xx.x..xx.x..xx.x..xx.x..xx.x..xx.x..xx.x..xx.x..xx.x..xx.x..xx.x..xx.x..xx.x....x..xx.x..xx.x..xx.x.......x.....x..xx.x..xx.x..xx.x..xx.x..xx.x..xx.x..xx.x..xx.x.\n",
      "143, 55/242, 12888, 88: ...x..xx.x..xx.x..xx.x..xx.x..xx.x..xx.x..xx.x..xx.x..xx.x..xx.x..xx.x..xx.x..xx.x..xx.x..xx.x..xx.x..xx.x....x..xx.x..xx.x..xx.x.......x.....x..xx.x..xx.x..xx.x..xx.x..xx.x..xx.x..xx.x..xx.x.\n",
      "144, 56/243, 12976, 88: ...x..xx.x..xx.x..xx.x..xx.x..xx.x..xx.x..xx.x..xx.x..xx.x..xx.x..xx.x..xx.x..xx.x..xx.x..xx.x..xx.x..xx.x....x..xx.x..xx.x..xx.x.......x.....x..xx.x..xx.x..xx.x..xx.x..xx.x..xx.x..xx.x..xx.x.\n",
      "145, 57/244, 13064, 88: ...x..xx.x..xx.x..xx.x..xx.x..xx.x..xx.x..xx.x..xx.x..xx.x..xx.x..xx.x..xx.x..xx.x..xx.x..xx.x..xx.x..xx.x....x..xx.x..xx.x..xx.x.......x.....x..xx.x..xx.x..xx.x..xx.x..xx.x..xx.x..xx.x..xx.x.\n",
      "146, 58/245, 13152, 88: ...x..xx.x..xx.x..xx.x..xx.x..xx.x..xx.x..xx.x..xx.x..xx.x..xx.x..xx.x..xx.x..xx.x..xx.x..xx.x..xx.x..xx.x....x..xx.x..xx.x..xx.x.......x.....x..xx.x..xx.x..xx.x..xx.x..xx.x..xx.x..xx.x..xx.x.\n",
      "147, 59/246, 13240, 88: ...x..xx.x..xx.x..xx.x..xx.x..xx.x..xx.x..xx.x..xx.x..xx.x..xx.x..xx.x..xx.x..xx.x..xx.x..xx.x..xx.x..xx.x....x..xx.x..xx.x..xx.x.......x.....x..xx.x..xx.x..xx.x..xx.x..xx.x..xx.x..xx.x..xx.x.\n",
      "148, 60/247, 13328, 88: ...x..xx.x..xx.x..xx.x..xx.x..xx.x..xx.x..xx.x..xx.x..xx.x..xx.x..xx.x..xx.x..xx.x..xx.x..xx.x..xx.x..xx.x....x..xx.x..xx.x..xx.x.......x.....x..xx.x..xx.x..xx.x..xx.x..xx.x..xx.x..xx.x..xx.x.\n",
      "149, 61/248, 13416, 88: ...x..xx.x..xx.x..xx.x..xx.x..xx.x..xx.x..xx.x..xx.x..xx.x..xx.x..xx.x..xx.x..xx.x..xx.x..xx.x..xx.x..xx.x....x..xx.x..xx.x..xx.x.......x.....x..xx.x..xx.x..xx.x..xx.x..xx.x..xx.x..xx.x..xx.x.\n",
      "150, 62/249, 13504, 88: ...x..xx.x..xx.x..xx.x..xx.x..xx.x..xx.x..xx.x..xx.x..xx.x..xx.x..xx.x..xx.x..xx.x..xx.x..xx.x..xx.x..xx.x....x..xx.x..xx.x..xx.x.......x.....x..xx.x..xx.x..xx.x..xx.x..xx.x..xx.x..xx.x..xx.x.\n",
      "151, 63/250, 13592, 88: ...x..xx.x..xx.x..xx.x..xx.x..xx.x..xx.x..xx.x..xx.x..xx.x..xx.x..xx.x..xx.x..xx.x..xx.x..xx.x..xx.x..xx.x....x..xx.x..xx.x..xx.x.......x.....x..xx.x..xx.x..xx.x..xx.x..xx.x..xx.x..xx.x..xx.x.\n",
      "152, 64/251, 13680, 88: ...x..xx.x..xx.x..xx.x..xx.x..xx.x..xx.x..xx.x..xx.x..xx.x..xx.x..xx.x..xx.x..xx.x..xx.x..xx.x..xx.x..xx.x....x..xx.x..xx.x..xx.x.......x.....x..xx.x..xx.x..xx.x..xx.x..xx.x..xx.x..xx.x..xx.x.\n",
      "153, 65/252, 13768, 88: ...x..xx.x..xx.x..xx.x..xx.x..xx.x..xx.x..xx.x..xx.x..xx.x..xx.x..xx.x..xx.x..xx.x..xx.x..xx.x..xx.x..xx.x....x..xx.x..xx.x..xx.x.......x.....x..xx.x..xx.x..xx.x..xx.x..xx.x..xx.x..xx.x..xx.x.\n",
      "154, 66/253, 13856, 88: ...x..xx.x..xx.x..xx.x..xx.x..xx.x..xx.x..xx.x..xx.x..xx.x..xx.x..xx.x..xx.x..xx.x..xx.x..xx.x..xx.x..xx.x....x..xx.x..xx.x..xx.x.......x.....x..xx.x..xx.x..xx.x..xx.x..xx.x..xx.x..xx.x..xx.x.\n",
      "155, 67/254, 13944, 88: ...x..xx.x..xx.x..xx.x..xx.x..xx.x..xx.x..xx.x..xx.x..xx.x..xx.x..xx.x..xx.x..xx.x..xx.x..xx.x..xx.x..xx.x....x..xx.x..xx.x..xx.x.......x.....x..xx.x..xx.x..xx.x..xx.x..xx.x..xx.x..xx.x..xx.x.\n",
      "156, 68/255, 14032, 88: ...x..xx.x..xx.x..xx.x..xx.x..xx.x..xx.x..xx.x..xx.x..xx.x..xx.x..xx.x..xx.x..xx.x..xx.x..xx.x..xx.x..xx.x....x..xx.x..xx.x..xx.x.......x.....x..xx.x..xx.x..xx.x..xx.x..xx.x..xx.x..xx.x..xx.x.\n",
      "157, 69/256, 14120, 88: ...x..xx.x..xx.x..xx.x..xx.x..xx.x..xx.x..xx.x..xx.x..xx.x..xx.x..xx.x..xx.x..xx.x..xx.x..xx.x..xx.x..xx.x....x..xx.x..xx.x..xx.x.......x.....x..xx.x..xx.x..xx.x..xx.x..xx.x..xx.x..xx.x..xx.x.\n",
      "158, 70/257, 14208, 88: ...x..xx.x..xx.x..xx.x..xx.x..xx.x..xx.x..xx.x..xx.x..xx.x..xx.x..xx.x..xx.x..xx.x..xx.x..xx.x..xx.x..xx.x....x..xx.x..xx.x..xx.x.......x.....x..xx.x..xx.x..xx.x..xx.x..xx.x..xx.x..xx.x..xx.x.\n",
      "159, 71/258, 14296, 88: ...x..xx.x..xx.x..xx.x..xx.x..xx.x..xx.x..xx.x..xx.x..xx.x..xx.x..xx.x..xx.x..xx.x..xx.x..xx.x..xx.x..xx.x....x..xx.x..xx.x..xx.x.......x.....x..xx.x..xx.x..xx.x..xx.x..xx.x..xx.x..xx.x..xx.x.\n",
      "160, 72/259, 14384, 88: ...x..xx.x..xx.x..xx.x..xx.x..xx.x..xx.x..xx.x..xx.x..xx.x..xx.x..xx.x..xx.x..xx.x..xx.x..xx.x..xx.x..xx.x....x..xx.x..xx.x..xx.x.......x.....x..xx.x..xx.x..xx.x..xx.x..xx.x..xx.x..xx.x..xx.x.\n",
      "161, 73/260, 14472, 88: ...x..xx.x..xx.x..xx.x..xx.x..xx.x..xx.x..xx.x..xx.x..xx.x..xx.x..xx.x..xx.x..xx.x..xx.x..xx.x..xx.x..xx.x....x..xx.x..xx.x..xx.x.......x.....x..xx.x..xx.x..xx.x..xx.x..xx.x..xx.x..xx.x..xx.x.\n",
      "162, 74/261, 14560, 88: ...x..xx.x..xx.x..xx.x..xx.x..xx.x..xx.x..xx.x..xx.x..xx.x..xx.x..xx.x..xx.x..xx.x..xx.x..xx.x..xx.x..xx.x....x..xx.x..xx.x..xx.x.......x.....x..xx.x..xx.x..xx.x..xx.x..xx.x..xx.x..xx.x..xx.x.\n",
      "163, 75/262, 14648, 88: ...x..xx.x..xx.x..xx.x..xx.x..xx.x..xx.x..xx.x..xx.x..xx.x..xx.x..xx.x..xx.x..xx.x..xx.x..xx.x..xx.x..xx.x....x..xx.x..xx.x..xx.x.......x.....x..xx.x..xx.x..xx.x..xx.x..xx.x..xx.x..xx.x..xx.x.\n",
      "164, 76/263, 14736, 88: ...x..xx.x..xx.x..xx.x..xx.x..xx.x..xx.x..xx.x..xx.x..xx.x..xx.x..xx.x..xx.x..xx.x..xx.x..xx.x..xx.x..xx.x....x..xx.x..xx.x..xx.x.......x.....x..xx.x..xx.x..xx.x..xx.x..xx.x..xx.x..xx.x..xx.x.\n",
      "165, 77/264, 14824, 88: ...x..xx.x..xx.x..xx.x..xx.x..xx.x..xx.x..xx.x..xx.x..xx.x..xx.x..xx.x..xx.x..xx.x..xx.x..xx.x..xx.x..xx.x....x..xx.x..xx.x..xx.x.......x.....x..xx.x..xx.x..xx.x..xx.x..xx.x..xx.x..xx.x..xx.x.\n",
      "166, 78/265, 14912, 88: ...x..xx.x..xx.x..xx.x..xx.x..xx.x..xx.x..xx.x..xx.x..xx.x..xx.x..xx.x..xx.x..xx.x..xx.x..xx.x..xx.x..xx.x....x..xx.x..xx.x..xx.x.......x.....x..xx.x..xx.x..xx.x..xx.x..xx.x..xx.x..xx.x..xx.x.\n",
      "167, 79/266, 15000, 88: ...x..xx.x..xx.x..xx.x..xx.x..xx.x..xx.x..xx.x..xx.x..xx.x..xx.x..xx.x..xx.x..xx.x..xx.x..xx.x..xx.x..xx.x....x..xx.x..xx.x..xx.x.......x.....x..xx.x..xx.x..xx.x..xx.x..xx.x..xx.x..xx.x..xx.x.\n",
      "168, 80/267, 15088, 88: ...x..xx.x..xx.x..xx.x..xx.x..xx.x..xx.x..xx.x..xx.x..xx.x..xx.x..xx.x..xx.x..xx.x..xx.x..xx.x..xx.x..xx.x....x..xx.x..xx.x..xx.x.......x.....x..xx.x..xx.x..xx.x..xx.x..xx.x..xx.x..xx.x..xx.x.\n",
      "169, 81/268, 15176, 88: ...x..xx.x..xx.x..xx.x..xx.x..xx.x..xx.x..xx.x..xx.x..xx.x..xx.x..xx.x..xx.x..xx.x..xx.x..xx.x..xx.x..xx.x....x..xx.x..xx.x..xx.x.......x.....x..xx.x..xx.x..xx.x..xx.x..xx.x..xx.x..xx.x..xx.x.\n",
      "170, 82/269, 15264, 88: ...x..xx.x..xx.x..xx.x..xx.x..xx.x..xx.x..xx.x..xx.x..xx.x..xx.x..xx.x..xx.x..xx.x..xx.x..xx.x..xx.x..xx.x....x..xx.x..xx.x..xx.x.......x.....x..xx.x..xx.x..xx.x..xx.x..xx.x..xx.x..xx.x..xx.x.\n",
      "171, 83/270, 15352, 88: ...x..xx.x..xx.x..xx.x..xx.x..xx.x..xx.x..xx.x..xx.x..xx.x..xx.x..xx.x..xx.x..xx.x..xx.x..xx.x..xx.x..xx.x....x..xx.x..xx.x..xx.x.......x.....x..xx.x..xx.x..xx.x..xx.x..xx.x..xx.x..xx.x..xx.x.\n",
      "172, 84/271, 15440, 88: ...x..xx.x..xx.x..xx.x..xx.x..xx.x..xx.x..xx.x..xx.x..xx.x..xx.x..xx.x..xx.x..xx.x..xx.x..xx.x..xx.x..xx.x....x..xx.x..xx.x..xx.x.......x.....x..xx.x..xx.x..xx.x..xx.x..xx.x..xx.x..xx.x..xx.x.\n",
      "173, 85/272, 15528, 88: ...x..xx.x..xx.x..xx.x..xx.x..xx.x..xx.x..xx.x..xx.x..xx.x..xx.x..xx.x..xx.x..xx.x..xx.x..xx.x..xx.x..xx.x....x..xx.x..xx.x..xx.x.......x.....x..xx.x..xx.x..xx.x..xx.x..xx.x..xx.x..xx.x..xx.x.\n",
      "174, 86/273, 15616, 88: ...x..xx.x..xx.x..xx.x..xx.x..xx.x..xx.x..xx.x..xx.x..xx.x..xx.x..xx.x..xx.x..xx.x..xx.x..xx.x..xx.x..xx.x....x..xx.x..xx.x..xx.x.......x.....x..xx.x..xx.x..xx.x..xx.x..xx.x..xx.x..xx.x..xx.x.\n",
      "175, 87/274, 15704, 88: ...x..xx.x..xx.x..xx.x..xx.x..xx.x..xx.x..xx.x..xx.x..xx.x..xx.x..xx.x..xx.x..xx.x..xx.x..xx.x..xx.x..xx.x....x..xx.x..xx.x..xx.x.......x.....x..xx.x..xx.x..xx.x..xx.x..xx.x..xx.x..xx.x..xx.x.\n",
      "176, 88/275, 15792, 88: ...x..xx.x..xx.x..xx.x..xx.x..xx.x..xx.x..xx.x..xx.x..xx.x..xx.x..xx.x..xx.x..xx.x..xx.x..xx.x..xx.x..xx.x....x..xx.x..xx.x..xx.x.......x.....x..xx.x..xx.x..xx.x..xx.x..xx.x..xx.x..xx.x..xx.x.\n",
      "177, 89/276, 15880, 88: ...x..xx.x..xx.x..xx.x..xx.x..xx.x..xx.x..xx.x..xx.x..xx.x..xx.x..xx.x..xx.x..xx.x..xx.x..xx.x..xx.x..xx.x....x..xx.x..xx.x..xx.x.......x.....x..xx.x..xx.x..xx.x..xx.x..xx.x..xx.x..xx.x..xx.x.\n",
      "178, 90/277, 15968, 88: ...x..xx.x..xx.x..xx.x..xx.x..xx.x..xx.x..xx.x..xx.x..xx.x..xx.x..xx.x..xx.x..xx.x..xx.x..xx.x..xx.x..xx.x....x..xx.x..xx.x..xx.x.......x.....x..xx.x..xx.x..xx.x..xx.x..xx.x..xx.x..xx.x..xx.x.\n",
      "179, 91/278, 16056, 88: ...x..xx.x..xx.x..xx.x..xx.x..xx.x..xx.x..xx.x..xx.x..xx.x..xx.x..xx.x..xx.x..xx.x..xx.x..xx.x..xx.x..xx.x....x..xx.x..xx.x..xx.x.......x.....x..xx.x..xx.x..xx.x..xx.x..xx.x..xx.x..xx.x..xx.x.\n",
      "180, 92/279, 16144, 88: ...x..xx.x..xx.x..xx.x..xx.x..xx.x..xx.x..xx.x..xx.x..xx.x..xx.x..xx.x..xx.x..xx.x..xx.x..xx.x..xx.x..xx.x....x..xx.x..xx.x..xx.x.......x.....x..xx.x..xx.x..xx.x..xx.x..xx.x..xx.x..xx.x..xx.x.\n",
      "181, 93/280, 16232, 88: ...x..xx.x..xx.x..xx.x..xx.x..xx.x..xx.x..xx.x..xx.x..xx.x..xx.x..xx.x..xx.x..xx.x..xx.x..xx.x..xx.x..xx.x....x..xx.x..xx.x..xx.x.......x.....x..xx.x..xx.x..xx.x..xx.x..xx.x..xx.x..xx.x..xx.x.\n",
      "182, 94/281, 16320, 88: ...x..xx.x..xx.x..xx.x..xx.x..xx.x..xx.x..xx.x..xx.x..xx.x..xx.x..xx.x..xx.x..xx.x..xx.x..xx.x..xx.x..xx.x....x..xx.x..xx.x..xx.x.......x.....x..xx.x..xx.x..xx.x..xx.x..xx.x..xx.x..xx.x..xx.x.\n",
      "183, 95/282, 16408, 88: ...x..xx.x..xx.x..xx.x..xx.x..xx.x..xx.x..xx.x..xx.x..xx.x..xx.x..xx.x..xx.x..xx.x..xx.x..xx.x..xx.x..xx.x....x..xx.x..xx.x..xx.x.......x.....x..xx.x..xx.x..xx.x..xx.x..xx.x..xx.x..xx.x..xx.x.\n",
      "184, 96/283, 16496, 88: ...x..xx.x..xx.x..xx.x..xx.x..xx.x..xx.x..xx.x..xx.x..xx.x..xx.x..xx.x..xx.x..xx.x..xx.x..xx.x..xx.x..xx.x....x..xx.x..xx.x..xx.x.......x.....x..xx.x..xx.x..xx.x..xx.x..xx.x..xx.x..xx.x..xx.x.\n",
      "185, 97/284, 16584, 88: ...x..xx.x..xx.x..xx.x..xx.x..xx.x..xx.x..xx.x..xx.x..xx.x..xx.x..xx.x..xx.x..xx.x..xx.x..xx.x..xx.x..xx.x....x..xx.x..xx.x..xx.x.......x.....x..xx.x..xx.x..xx.x..xx.x..xx.x..xx.x..xx.x..xx.x.\n",
      "186, 98/285, 16672, 88: ...x..xx.x..xx.x..xx.x..xx.x..xx.x..xx.x..xx.x..xx.x..xx.x..xx.x..xx.x..xx.x..xx.x..xx.x..xx.x..xx.x..xx.x....x..xx.x..xx.x..xx.x.......x.....x..xx.x..xx.x..xx.x..xx.x..xx.x..xx.x..xx.x..xx.x.\n",
      "187, 99/286, 16760, 88: ...x..xx.x..xx.x..xx.x..xx.x..xx.x..xx.x..xx.x..xx.x..xx.x..xx.x..xx.x..xx.x..xx.x..xx.x..xx.x..xx.x..xx.x....x..xx.x..xx.x..xx.x.......x.....x..xx.x..xx.x..xx.x..xx.x..xx.x..xx.x..xx.x..xx.x.\n",
      "188, 100/287, 16848, 88: ...x..xx.x..xx.x..xx.x..xx.x..xx.x..xx.x..xx.x..xx.x..xx.x..xx.x..xx.x..xx.x..xx.x..xx.x..xx.x..xx.x..xx.x....x..xx.x..xx.x..xx.x.......x.....x..xx.x..xx.x..xx.x..xx.x..xx.x..xx.x..xx.x..xx.x.\n",
      "189, 101/288, 16936, 88: ...x..xx.x..xx.x..xx.x..xx.x..xx.x..xx.x..xx.x..xx.x..xx.x..xx.x..xx.x..xx.x..xx.x..xx.x..xx.x..xx.x..xx.x....x..xx.x..xx.x..xx.x.......x.....x..xx.x..xx.x..xx.x..xx.x..xx.x..xx.x..xx.x..xx.x.\n",
      "190, 102/289, 17024, 88: ...x..xx.x..xx.x..xx.x..xx.x..xx.x..xx.x..xx.x..xx.x..xx.x..xx.x..xx.x..xx.x..xx.x..xx.x..xx.x..xx.x..xx.x....x..xx.x..xx.x..xx.x.......x.....x..xx.x..xx.x..xx.x..xx.x..xx.x..xx.x..xx.x..xx.x.\n",
      "191, 103/290, 17112, 88: ...x..xx.x..xx.x..xx.x..xx.x..xx.x..xx.x..xx.x..xx.x..xx.x..xx.x..xx.x..xx.x..xx.x..xx.x..xx.x..xx.x..xx.x....x..xx.x..xx.x..xx.x.......x.....x..xx.x..xx.x..xx.x..xx.x..xx.x..xx.x..xx.x..xx.x.\n",
      "192, 104/291, 17200, 88: ...x..xx.x..xx.x..xx.x..xx.x..xx.x..xx.x..xx.x..xx.x..xx.x..xx.x..xx.x..xx.x..xx.x..xx.x..xx.x..xx.x..xx.x....x..xx.x..xx.x..xx.x.......x.....x..xx.x..xx.x..xx.x..xx.x..xx.x..xx.x..xx.x..xx.x.\n",
      "193, 105/292, 17288, 88: ...x..xx.x..xx.x..xx.x..xx.x..xx.x..xx.x..xx.x..xx.x..xx.x..xx.x..xx.x..xx.x..xx.x..xx.x..xx.x..xx.x..xx.x....x..xx.x..xx.x..xx.x.......x.....x..xx.x..xx.x..xx.x..xx.x..xx.x..xx.x..xx.x..xx.x.\n",
      "194, 106/293, 17376, 88: ...x..xx.x..xx.x..xx.x..xx.x..xx.x..xx.x..xx.x..xx.x..xx.x..xx.x..xx.x..xx.x..xx.x..xx.x..xx.x..xx.x..xx.x....x..xx.x..xx.x..xx.x.......x.....x..xx.x..xx.x..xx.x..xx.x..xx.x..xx.x..xx.x..xx.x.\n",
      "195, 107/294, 17464, 88: ...x..xx.x..xx.x..xx.x..xx.x..xx.x..xx.x..xx.x..xx.x..xx.x..xx.x..xx.x..xx.x..xx.x..xx.x..xx.x..xx.x..xx.x....x..xx.x..xx.x..xx.x.......x.....x..xx.x..xx.x..xx.x..xx.x..xx.x..xx.x..xx.x..xx.x.\n",
      "196, 108/295, 17552, 88: ...x..xx.x..xx.x..xx.x..xx.x..xx.x..xx.x..xx.x..xx.x..xx.x..xx.x..xx.x..xx.x..xx.x..xx.x..xx.x..xx.x..xx.x....x..xx.x..xx.x..xx.x.......x.....x..xx.x..xx.x..xx.x..xx.x..xx.x..xx.x..xx.x..xx.x.\n",
      "197, 109/296, 17640, 88: ...x..xx.x..xx.x..xx.x..xx.x..xx.x..xx.x..xx.x..xx.x..xx.x..xx.x..xx.x..xx.x..xx.x..xx.x..xx.x..xx.x..xx.x....x..xx.x..xx.x..xx.x.......x.....x..xx.x..xx.x..xx.x..xx.x..xx.x..xx.x..xx.x..xx.x.\n",
      "198, 110/297, 17728, 88: ...x..xx.x..xx.x..xx.x..xx.x..xx.x..xx.x..xx.x..xx.x..xx.x..xx.x..xx.x..xx.x..xx.x..xx.x..xx.x..xx.x..xx.x....x..xx.x..xx.x..xx.x.......x.....x..xx.x..xx.x..xx.x..xx.x..xx.x..xx.x..xx.x..xx.x.\n",
      "199, 111/298, 17816, 88: ...x..xx.x..xx.x..xx.x..xx.x..xx.x..xx.x..xx.x..xx.x..xx.x..xx.x..xx.x..xx.x..xx.x..xx.x..xx.x..xx.x..xx.x....x..xx.x..xx.x..xx.x.......x.....x..xx.x..xx.x..xx.x..xx.x..xx.x..xx.x..xx.x..xx.x.\n",
      "200, 112/299, 17904, 88: ...x..xx.x..xx.x..xx.x..xx.x..xx.x..xx.x..xx.x..xx.x..xx.x..xx.x..xx.x..xx.x..xx.x..xx.x..xx.x..xx.x..xx.x....x..xx.x..xx.x..xx.x.......x.....x..xx.x..xx.x..xx.x..xx.x..xx.x..xx.x..xx.x..xx.x.\n",
      "defaultdict(<class 'int'>, {109: 0, 110: 0, 111: 0, 112: 1, 113: 0, 114: 0, 115: 1, 116: 1, 117: 0, 118: 1, 119: 0, 120: 0, 121: 1, 122: 1, 123: 0, 124: 1, 125: 0, 126: 0, 127: 1, 128: 1, 129: 0, 130: 1, 131: 0, 132: 0, 133: 1, 134: 1, 135: 0, 136: 1, 137: 0, 138: 0, 139: 1, 140: 1, 141: 0, 142: 1, 143: 0, 144: 0, 145: 1, 146: 1, 147: 0, 148: 1, 149: 0, 150: 0, 151: 1, 152: 1, 153: 0, 154: 1, 155: 0, 156: 0, 157: 1, 158: 1, 159: 0, 160: 1, 161: 0, 162: 0, 163: 1, 164: 1, 165: 0, 166: 1, 167: 0, 168: 0, 169: 1, 170: 1, 171: 0, 172: 1, 173: 0, 174: 0, 175: 1, 176: 1, 177: 0, 178: 1, 179: 0, 180: 0, 181: 1, 182: 1, 183: 0, 184: 1, 185: 0, 186: 0, 187: 1, 188: 1, 189: 0, 190: 1, 191: 0, 192: 0, 193: 1, 194: 1, 195: 0, 196: 1, 197: 0, 198: 0, 199: 1, 200: 1, 201: 0, 202: 1, 203: 0, 204: 0, 205: 1, 206: 1, 207: 0, 208: 1, 209: 0, 210: 0, 211: 1, 212: 1, 213: 0, 214: 1, 215: 0, 216: 0, 217: 0, 218: 0, 219: 1, 220: 0, 221: 0, 222: 1, 223: 1, 224: 0, 225: 1, 226: 0, 227: 0, 228: 1, 229: 1, 230: 0, 231: 1, 232: 0, 233: 0, 234: 1, 235: 1, 236: 0, 237: 1, 238: 0, 239: 0, 240: 0, 241: 0, 242: 0, 243: 0, 244: 0, 245: 1, 246: 0, 247: 0, 248: 0, 249: 0, 250: 0, 251: 1, 252: 0, 253: 0, 254: 1, 255: 1, 256: 0, 257: 1, 258: 0, 259: 0, 260: 1, 261: 1, 262: 0, 263: 1, 264: 0, 265: 0, 266: 1, 267: 1, 268: 0, 269: 1, 270: 0, 271: 0, 272: 1, 273: 1, 274: 0, 275: 1, 276: 0, 277: 0, 278: 1, 279: 1, 280: 0, 281: 1, 282: 0, 283: 0, 284: 1, 285: 1, 286: 0, 287: 1, 288: 0, 289: 0, 290: 1, 291: 1, 292: 0, 293: 1, 294: 0, 295: 0, 296: 1, 297: 1, 298: 0, 299: 1, 300: 0})\n",
      "CPU times: user 173 ms, sys: 13 ms, total: 186 ms\n",
      "Wall time: 200 ms\n"
     ]
    }
   ],
   "source": [
    "%%time\n",
    "initial_state, rules = read_input(file_input)\n",
    "state = {i: v for i, v in enumerate(map(lambda x: 1 if (x == '#') else 0, initial_state))}\n",
    "state = defaultdict(int, state)\n",
    "state = evolve_cache(state, rules, 200)\n",
    "print(state)\n",
    "# total = sum([k for k,v in state.items() if v])\n",
    "# print(total)"
   ]
  },
  {
   "cell_type": "markdown",
   "metadata": {},
   "source": [
    "### Revelation\n",
    "pattern becomes self-replicating at generation 122"
   ]
  },
  {
   "cell_type": "code",
   "execution_count": 134,
   "metadata": {},
   "outputs": [],
   "source": [
    "# @i=124: 124, 36/223, 11216, 88\n",
    "def total_pots(generation):\n",
    "    return 11216 + (generation - 124) * 88"
   ]
  },
  {
   "cell_type": "code",
   "execution_count": 135,
   "metadata": {},
   "outputs": [],
   "source": [
    "assert(total_pots(200) == 17904)"
   ]
  },
  {
   "cell_type": "code",
   "execution_count": 136,
   "metadata": {},
   "outputs": [
    {
     "data": {
      "text/plain": [
       "4400000000304"
      ]
     },
     "execution_count": 136,
     "metadata": {},
     "output_type": "execute_result"
    }
   ],
   "source": [
    "total_pots(50000000000)"
   ]
  },
  {
   "cell_type": "code",
   "execution_count": null,
   "metadata": {},
   "outputs": [],
   "source": []
  }
 ],
 "metadata": {
  "kernelspec": {
   "display_name": "Python 3",
   "language": "python",
   "name": "python3"
  },
  "language_info": {
   "codemirror_mode": {
    "name": "ipython",
    "version": 3
   },
   "file_extension": ".py",
   "mimetype": "text/x-python",
   "name": "python",
   "nbconvert_exporter": "python",
   "pygments_lexer": "ipython3",
   "version": "3.5.2"
  }
 },
 "nbformat": 4,
 "nbformat_minor": 2
}
