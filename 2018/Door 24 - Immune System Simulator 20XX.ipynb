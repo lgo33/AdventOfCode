{
 "cells": [
  {
   "cell_type": "code",
   "execution_count": 9,
   "metadata": {},
   "outputs": [],
   "source": [
    "import re"
   ]
  },
  {
   "cell_type": "code",
   "execution_count": 2,
   "metadata": {},
   "outputs": [],
   "source": [
    "with open('data/input_24.txt') as fh:\n",
    "    file_input = fh.read().strip()"
   ]
  },
  {
   "cell_type": "code",
   "execution_count": 19,
   "metadata": {},
   "outputs": [
    {
     "data": {
      "text/plain": [
       "['Immune System:',\n",
       " '123 units each with 8524 hit points with an attack that does 612 slashing damage at initiative 11',\n",
       " '148 units each with 4377 hit points (weak to slashing, bludgeoning) with an attack that does 263 cold damage at initiative 1',\n",
       " '6488 units each with 2522 hit points (weak to fire) with an attack that does 3 bludgeoning damage at initiative 19',\n",
       " '821 units each with 8034 hit points (immune to cold, bludgeoning) with an attack that does 92 cold damage at initiative 17',\n",
       " '1163 units each with 4739 hit points (weak to cold) with an attack that does 40 bludgeoning damage at initiative 14',\n",
       " '1141 units each with 4570 hit points (weak to fire, slashing) with an attack that does 32 radiation damage at initiative 18',\n",
       " '108 units each with 2954 hit points with an attack that does 262 radiation damage at initiative 8',\n",
       " '4752 units each with 6337 hit points (weak to bludgeoning, cold; immune to slashing) with an attack that does 13 cold damage at initiative 20',\n",
       " '4489 units each with 9894 hit points (weak to slashing) with an attack that does 20 slashing damage at initiative 12',\n",
       " '331 units each with 12535 hit points with an attack that does 300 slashing damage at initiative 15',\n",
       " '',\n",
       " 'Infection:',\n",
       " '853 units each with 13840 hit points (weak to bludgeoning, cold) with an attack that does 26 fire damage at initiative 3',\n",
       " '450 units each with 62973 hit points (weak to slashing) with an attack that does 220 fire damage at initiative 13',\n",
       " '3777 units each with 35038 hit points (weak to cold) with an attack that does 18 radiation damage at initiative 7',\n",
       " '96 units each with 43975 hit points (immune to bludgeoning; weak to cold, slashing) with an attack that does 862 radiation damage at initiative 16',\n",
       " '1536 units each with 14280 hit points (weak to cold, fire; immune to bludgeoning) with an attack that does 18 slashing damage at initiative 2',\n",
       " '3696 units each with 36133 hit points (weak to radiation; immune to cold, fire) with an attack that does 18 bludgeoning damage at initiative 10',\n",
       " '3126 units each with 39578 hit points (weak to cold) with an attack that does 22 radiation damage at initiative 4',\n",
       " '1128 units each with 13298 hit points (weak to bludgeoning, slashing) with an attack that does 23 fire damage at initiative 6',\n",
       " '7539 units each with 6367 hit points (weak to fire; immune to radiation) with an attack that does 1 slashing damage at initiative 5',\n",
       " '1886 units each with 45342 hit points (weak to fire, cold) with an attack that does 45 cold damage at initiative 9']"
      ]
     },
     "execution_count": 19,
     "metadata": {},
     "output_type": "execute_result"
    }
   ],
   "source": [
    "file_input.split('\\n')"
   ]
  },
  {
   "cell_type": "code",
   "execution_count": 20,
   "metadata": {},
   "outputs": [],
   "source": [
    "test_input = \"\"\"Immune System:\n",
    "17 units each with 5390 hit points (weak to radiation, bludgeoning) with an attack that does 4507 fire damage at initiative 2\n",
    "989 units each with 1274 hit points (immune to fire; weak to bludgeoning, slashing) with an attack that does 25 slashing damage at initiative 3\n",
    "\n",
    "Infection:\n",
    "801 units each with 4706 hit points (weak to radiation) with an attack that does 116 bludgeoning damage at initiative 1\n",
    "4485 units each with 2961 hit points (immune to radiation; weak to fire, cold) with an attack that does 12 slashing damage at initiative 4\"\"\""
   ]
  },
  {
   "cell_type": "code",
   "execution_count": 227,
   "metadata": {},
   "outputs": [],
   "source": [
    "class Group(object):\n",
    "    def __init__(self, units=0, hp=0, ad=0, boost=0, attack_type=None, initiative=0, weaknesses=[], immunities=[], team=0):\n",
    "        self.units = units\n",
    "        self.hp = hp\n",
    "        self.ad = ad + boost\n",
    "        self.attack_type = attack_type\n",
    "        self.initiative = initiative\n",
    "        self.weaknesses = weaknesses\n",
    "        self.immunities = immunities\n",
    "        self.team = team\n",
    "        \n",
    "    def get_effective_power(self):\n",
    "        return self.units * self.ad\n",
    "    \n",
    "    def target_selection_order(self):\n",
    "        return (self.get_effective_power(), self.initiative)\n",
    "    \n",
    "    def target_damage(self, target):\n",
    "        if self.attack_type in target.immunities:\n",
    "            return 0\n",
    "        damage = self.units * self.ad\n",
    "        if self.attack_type in target.weaknesses:\n",
    "            damage *= 2\n",
    "        return damage\n",
    "    \n",
    "    def deal_damage(self, damage):\n",
    "        self.units -= damage // self.hp\n",
    "    \n",
    "    def __repr__(self):\n",
    "        return \">units: {} | ad: {} | ep: {} | hp: {} | ini: {} | w: {} | i: {} | at: {} | team: {}<\\n\".format(self.units, self.ad, self.get_effective_power(), self.hp, self.initiative, self.weaknesses, self.immunities, self.attack_type, self.team)\n",
    "\n",
    "class Battle(object):\n",
    "    def __init__(self, groups=[], maxfights=float('inf')):\n",
    "        self.groups = groups\n",
    "        self.targets = []\n",
    "        self.maxfights = maxfights\n",
    "        \n",
    "    def cont(self):\n",
    "        n0 = len([g for g in self.groups if g.team == 0])\n",
    "        n1 = len([g for g in self.groups if g.team == 1])\n",
    "        if n0 > 0 and n1 > 0:\n",
    "            return True\n",
    "        return False\n",
    "        \n",
    "    def attack_order(self):\n",
    "        initiatives = [g.initiative for g in self.groups]\n",
    "        return sorted(range(len(initiatives)), key=initiatives.__getitem__, reverse=True)\n",
    "        \n",
    "    def target_selection(self):\n",
    "        self.targets = []\n",
    "        self.groups = sorted(self.groups, key=lambda x: x.target_selection_order(), reverse=True)\n",
    "        for g in self.groups:\n",
    "            targets = sorted([(g.target_damage(t), t.get_effective_power(), t.initiative, t) for t in self.groups if t.team != g.team and t not in self.targets], reverse=True)\n",
    "            if targets and targets[0][0] > 0:\n",
    "                self.targets.append(targets[0][3])\n",
    "            else:\n",
    "                self.targets.append(None)\n",
    "#         print(self.groups) \n",
    "#         print(self.targets)\n",
    "\n",
    "    def attack_phase(self):\n",
    "        for i in self.attack_order():\n",
    "            group = self.groups[i]\n",
    "            target = self.targets[i]\n",
    "            if group.units <= 0 or target is None:\n",
    "                continue\n",
    "            damage = group.target_damage(target)\n",
    "            target.deal_damage(damage)\n",
    "#             print(group, target, damage)\n",
    "        self.groups = [g for g in self.groups if g.units > 0]\n",
    "    \n",
    "    def fight(self):\n",
    "        self.i = 0\n",
    "        while self.cont() and self.i < self.maxfights:\n",
    "#             print(\"# {}\".format(i))\n",
    "            self.target_selection()\n",
    "            self.attack_phase()\n",
    "            self.i += 1\n",
    "        "
   ]
  },
  {
   "cell_type": "code",
   "execution_count": 216,
   "metadata": {},
   "outputs": [],
   "source": [
    "def parse_input(inp):\n",
    "    team = 0\n",
    "    for line in inp.split('\\n'):\n",
    "        if line == \"Infection:\":\n",
    "            team = 1\n",
    "        stats = map(int, re.findall('\\d+', line))\n",
    "        if len(stats) != 4:\n",
    "            continue\n",
    "        weaknesses = re.findall('weak to ([^;)]*)', line)\n",
    "        if weaknesses:\n",
    "            weaknesses = weaknesses[0].split(', ')\n",
    "        immunities = re.findall('immune to ([^;)]*)', line)\n",
    "        if immunities:\n",
    "            immunities = immunities[0].split(', ')    \n",
    "#         print(re.findall('([a-z]*) damage', line))\n",
    "        attack_type = re.findall('([a-z]*) damage', line)[0]\n",
    "        \n",
    "        units, hp, ad, initiative = stats\n",
    "        yield Group(units=units, hp=hp, ad=ad, attack_type=attack_type, initiative=initiative, weaknesses=weaknesses, immunities=immunities, team=team)"
   ]
  },
  {
   "cell_type": "markdown",
   "metadata": {},
   "source": [
    "Test A"
   ]
  },
  {
   "cell_type": "code",
   "execution_count": 217,
   "metadata": {},
   "outputs": [
    {
     "data": {
      "text/plain": [
       "5216"
      ]
     },
     "execution_count": 217,
     "metadata": {},
     "output_type": "execute_result"
    }
   ],
   "source": [
    "groups = list(parse_input(test_input))\n",
    "battle = Battle(groups=groups)\n",
    "\n",
    "battle.fight()\n",
    "\n",
    "sum([g.units for g in battle.groups])"
   ]
  },
  {
   "cell_type": "markdown",
   "metadata": {},
   "source": [
    "Part A"
   ]
  },
  {
   "cell_type": "code",
   "execution_count": 218,
   "metadata": {},
   "outputs": [
    {
     "data": {
      "text/plain": [
       "21743"
      ]
     },
     "execution_count": 218,
     "metadata": {},
     "output_type": "execute_result"
    }
   ],
   "source": [
    "groups = list(parse_input(file_input))\n",
    "battle = Battle(groups=groups)\n",
    "\n",
    "battle.fight()\n",
    "\n",
    "sum([g.units for g in battle.groups])"
   ]
  },
  {
   "cell_type": "markdown",
   "metadata": {},
   "source": [
    "Test B"
   ]
  },
  {
   "cell_type": "code",
   "execution_count": 219,
   "metadata": {},
   "outputs": [
    {
     "data": {
      "text/plain": [
       "51"
      ]
     },
     "execution_count": 219,
     "metadata": {},
     "output_type": "execute_result"
    }
   ],
   "source": [
    "boost = 1570\n",
    "groups = list(parse_input(test_input))\n",
    "for g in groups:\n",
    "    if g.team == 0:\n",
    "        g.ad += boost\n",
    "battle = Battle(groups=groups)\n",
    "\n",
    "battle.fight()\n",
    "\n",
    "sum([g.units for g in battle.groups])"
   ]
  },
  {
   "cell_type": "markdown",
   "metadata": {},
   "source": [
    "Part B"
   ]
  },
  {
   "cell_type": "code",
   "execution_count": 249,
   "metadata": {},
   "outputs": [
    {
     "data": {
      "text/plain": [
       "0"
      ]
     },
     "execution_count": 249,
     "metadata": {},
     "output_type": "execute_result"
    }
   ],
   "source": [
    "boost = 61 # 55..61\n",
    "groups = list(parse_input(file_input))\n",
    "\n",
    "for g in groups:\n",
    "    if g.team == 0:\n",
    "        g.ad += boost\n",
    "battle = Battle(groups=groups, maxfights=10000)\n",
    "\n",
    "battle.fight()\n",
    "\n",
    "battle.groups[0].team"
   ]
  },
  {
   "cell_type": "code",
   "execution_count": 253,
   "metadata": {},
   "outputs": [
    {
     "data": {
      "text/plain": [
       "884"
      ]
     },
     "execution_count": 253,
     "metadata": {},
     "output_type": "execute_result"
    }
   ],
   "source": [
    "sum([g.units for g in battle.groups])"
   ]
  },
  {
   "cell_type": "code",
   "execution_count": 251,
   "metadata": {},
   "outputs": [
    {
     "data": {
      "text/plain": [
       "[>units: -8 | ad: 1 | ep: -8 | hp: 6367 | ini: 5 | w: ['fire'] | i: ['radiation'] | at: slashing | team: 1<,\n",
       " >units: 884 | ad: 81 | ep: 71604 | hp: 9894 | ini: 12 | w: ['slashing'] | i: [] | at: slashing | team: 0<]"
      ]
     },
     "execution_count": 251,
     "metadata": {},
     "output_type": "execute_result"
    }
   ],
   "source": [
    "battle.targets"
   ]
  },
  {
   "cell_type": "code",
   "execution_count": 252,
   "metadata": {},
   "outputs": [
    {
     "ename": "IndexError",
     "evalue": "list index out of range",
     "output_type": "error",
     "traceback": [
      "\u001b[0;31m---------------------------------------------------------------------------\u001b[0m",
      "\u001b[0;31mIndexError\u001b[0m                                Traceback (most recent call last)",
      "\u001b[0;32m<ipython-input-252-d028061f7f6a>\u001b[0m in \u001b[0;36m<module>\u001b[0;34m()\u001b[0m\n\u001b[0;32m----> 1\u001b[0;31m \u001b[0mbattle\u001b[0m\u001b[0;34m.\u001b[0m\u001b[0mgroups\u001b[0m\u001b[0;34m[\u001b[0m\u001b[0;36m1\u001b[0m\u001b[0;34m]\u001b[0m\u001b[0;34m.\u001b[0m\u001b[0mtarget_damage\u001b[0m\u001b[0;34m(\u001b[0m\u001b[0mbattle\u001b[0m\u001b[0;34m.\u001b[0m\u001b[0mgroups\u001b[0m\u001b[0;34m[\u001b[0m\u001b[0;36m0\u001b[0m\u001b[0;34m]\u001b[0m\u001b[0;34m)\u001b[0m\u001b[0;34m\u001b[0m\u001b[0m\n\u001b[0m",
      "\u001b[0;31mIndexError\u001b[0m: list index out of range"
     ]
    }
   ],
   "source": [
    "battle.groups[1].target_damage(battle.groups[0])"
   ]
  },
  {
   "cell_type": "code",
   "execution_count": 201,
   "metadata": {},
   "outputs": [],
   "source": [
    "groups = list(parse_input(file_input))"
   ]
  },
  {
   "cell_type": "code",
   "execution_count": null,
   "metadata": {},
   "outputs": [],
   "source": []
  }
 ],
 "metadata": {
  "kernelspec": {
   "display_name": "Python 3",
   "language": "python",
   "name": "python3"
  },
  "language_info": {
   "codemirror_mode": {
    "name": "ipython",
    "version": 2
   },
   "file_extension": ".py",
   "mimetype": "text/x-python",
   "name": "python",
   "nbconvert_exporter": "python",
   "pygments_lexer": "ipython2",
   "version": "2.7.14"
  }
 },
 "nbformat": 4,
 "nbformat_minor": 2
}
