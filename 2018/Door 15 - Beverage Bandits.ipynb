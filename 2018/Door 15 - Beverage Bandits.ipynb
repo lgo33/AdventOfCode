{
 "cells": [
  {
   "cell_type": "code",
   "execution_count": 592,
   "metadata": {},
   "outputs": [],
   "source": [
    "import numpy as np\n",
    "import matplotlib.pyplot as plt\n",
    "\n",
    "%matplotlib inline\n",
    "plt.rcParams['figure.figsize'] = (14, 8)"
   ]
  },
  {
   "cell_type": "code",
   "execution_count": 1,
   "metadata": {},
   "outputs": [],
   "source": [
    "with open('data/input_15.txt') as fh:\n",
    "    file_input = fh.read().strip()"
   ]
  },
  {
   "cell_type": "code",
   "execution_count": 502,
   "metadata": {},
   "outputs": [],
   "source": [
    "def neigbors(x, y):\n",
    "    yield (x, y - 1)\n",
    "    yield (x - 1, y)\n",
    "    yield (x + 1, y)\n",
    "    yield (x, y + 1)\n",
    "    \n",
    "def get_target(unit, units, field):\n",
    "    possible_targets = []\n",
    "    min_hp = np.inf\n",
    "    for nbx, nby in unit.get_adjacent():\n",
    "        if field[nbx, nby] > 1:\n",
    "            targets = [u for u in units if u.x == nbx and u.y == nby and u.team != unit.team and u.hp > 0]\n",
    "            if targets:\n",
    "                possible_targets.append(targets[0])\n",
    "                if targets[0].hp < min_hp:\n",
    "                    min_hp = targets[0].hp\n",
    "    possible_targets = sorted([t for t in possible_targets if t.hp == min_hp])\n",
    "    if len(possible_targets):\n",
    "        return possible_targets[0]\n",
    "    return None\n",
    "    \n",
    "\n",
    "class Unit(object):\n",
    "    def __init__(self, x, y, team='E', hitpoints=200, strength=3):\n",
    "        self.hp = hitpoints\n",
    "        self.strength = strength\n",
    "        self.x = x\n",
    "        self.y = y\n",
    "        self.team = team\n",
    "    \n",
    "    def __repr__(self):\n",
    "        return (\"Team: {} | pos: {}, {} | HP: {}\".format(self.team, self.x, self.y, self.hp))\n",
    "    \n",
    "    def __lt__(self, other):\n",
    "        if other.y > self.y:\n",
    "            return True\n",
    "        elif other.y < self.y:\n",
    "            return False\n",
    "        if other.x > self.x:\n",
    "            return True\n",
    "        return False\n",
    "    \n",
    "    def is_adjacent(self, x, y):\n",
    "        if (self.x == x) and abs(self.y - y) == 1:\n",
    "            return True\n",
    "        if (self.y == y) and abs(self.x - x) == 1:\n",
    "            return True\n",
    "        return False\n",
    "    \n",
    "    def get_adjacent(self):\n",
    "        yield (self.x, self.y - 1)\n",
    "        yield (self.x - 1, self.y)\n",
    "        yield (self.x + 1, self.y)      \n",
    "        yield (self.x, self.y + 1)\n",
    "        \n",
    "    def set_distances(self, field):\n",
    "        self.distances = self.get_distances(field, self.x, self.y)\n",
    "        \n",
    "    def get_distances(self, field, x, y):\n",
    "        nx, ny = field.shape\n",
    "        distances = np.zeros((nx, ny)) + np.inf\n",
    "        field\n",
    "        stack = [(x, y, 0)]\n",
    "        distances[x, y] = 0\n",
    "        while stack:\n",
    "            cx, cy, d = stack.pop()\n",
    "            for nbx, nby in neigbors(cx, cy):\n",
    "                if nbx >=0 and nby >= 0 and nbx < nx and nby < ny:\n",
    "                    if field[nbx, nby] == 0 and distances[nbx, nby] > d + 1:\n",
    "                        distances[nbx, nby] = d + 1\n",
    "                        stack.append((nbx, nby, d + 1))\n",
    "        return distances\n",
    "    \n",
    "    def move(self, units, field):\n",
    "        distances = self.get_distances(field, self.x, self.y)\n",
    "        enemies_adjacent = np.array(sum([list(u.get_adjacent()) for u in units if u.team != self.team], []))\n",
    "        dist = distances[enemies_adjacent[:, 0], enemies_adjacent[:, 1]]\n",
    "        min_dist = dist.min()\n",
    "        targetx, targety = sorted(enemies_adjacent[dist == min_dist].tolist(), key=lambda x: (x[1], x[0]))[0]\n",
    "        # print(\"!\", targetx, targety)\n",
    "        reverse_dist = self.get_distances(field, targetx, targety)\n",
    "        for _x, _y in self.get_adjacent():\n",
    "            if reverse_dist[_x, _y] == min_dist - 1 and reverse_dist[_x, _y] != np.inf:\n",
    "                return (_x, _y)\n",
    "        return None\n",
    "    \n",
    "    def check_enemies(self, units):\n",
    "        return len([u for u in units if u.team != self.team and u.hp > 0])\n",
    "    \n",
    "    def hit(self, strength):\n",
    "        self.hp -= strength\n",
    "        if self.hp <= 0:\n",
    "            self.strenght = 0\n",
    "        "
   ]
  },
  {
   "cell_type": "code",
   "execution_count": 620,
   "metadata": {},
   "outputs": [],
   "source": [
    "def combat(field, units, plot=False):\n",
    "    i = 1\n",
    "    while True:\n",
    "        units.sort()\n",
    "        for unit in units:\n",
    "            if unit.hp <= 0:\n",
    "                continue\n",
    "            if unit.check_enemies(units) == 0:\n",
    "                # print('aborted', [u for u in units if u.hp > 0])\n",
    "                return (i - 1, [u for u in units if u.hp > 0])\n",
    "            # print('### ', unit.team)\n",
    "            _to = unit.move(units, field)\n",
    "            if _to:\n",
    "                # print('to: ', _to)\n",
    "                x, y = _to\n",
    "                field[unit.x, unit.y] = 0\n",
    "                unit.x = x\n",
    "                unit.y = y\n",
    "                field[x, y] = ord(unit.team)\n",
    "            target = get_target(unit, units, field)\n",
    "            if target:\n",
    "                target.hit(unit.strength)\n",
    "                if target.hp <= 0:\n",
    "                    # print(\"dies: \", target.team, target.x, target.y, i)\n",
    "                    field[target.x, target.y] = 0\n",
    "                    \n",
    "        units = [u for u in units if u.hp > 0]\n",
    "        elves = [u for u in units if u.team == 'E']\n",
    "        goblins = [u for u in units if u.team == 'G']\n",
    "        # print(\"elves: {} | goblins: {}\".format(elves, goblins))\n",
    "        if len(elves) == 0 or len(goblins) == 0 or i > 1000:\n",
    "            break\n",
    "        \n",
    "        if plot:\n",
    "            plfield = field.copy()\n",
    "            plfield[plfield==1] = 20\n",
    "            plfield[plfield==71] = 50\n",
    "            plt.imshow((plfield).T)\n",
    "            plt.savefig('combat_{:03d}.png'.format(i))\n",
    "        i += 1\n",
    "        \n",
    "    return (i, units)"
   ]
  },
  {
   "cell_type": "code",
   "execution_count": 581,
   "metadata": {},
   "outputs": [],
   "source": [
    "def parse_input(inp):\n",
    "    inp = inp.split('\\n')\n",
    "    inp = map(lambda x: x.split()[0], inp)\n",
    "    ny = len(inp)\n",
    "    nx = len(inp[0])\n",
    "    units = []\n",
    "\n",
    "    field = np.zeros((nx, ny))\n",
    "    for y, line in enumerate(inp):\n",
    "        for x, c in enumerate(line):\n",
    "            field[x, y] = 0 if c == '.' else 1\n",
    "            if c == 'G' or c == 'E':\n",
    "                units.append(Unit(x, y, c))\n",
    "                field[x, y] *= ord(c)\n",
    "    return field, units"
   ]
  },
  {
   "cell_type": "code",
   "execution_count": 582,
   "metadata": {},
   "outputs": [],
   "source": [
    "test_input = \"\"\"#######\n",
    "#.G...#\n",
    "#...EG#\n",
    "#.#.#G#\n",
    "#..G#E#\n",
    "#.....#\n",
    "#######\"\"\""
   ]
  },
  {
   "cell_type": "code",
   "execution_count": 583,
   "metadata": {},
   "outputs": [],
   "source": [
    "field, units = parse_input(test_input)\n",
    "i, units = combat(field, units)\n",
    "assert(i * sum([u.hp for u in units]) == 27730)"
   ]
  },
  {
   "cell_type": "code",
   "execution_count": 550,
   "metadata": {},
   "outputs": [
    {
     "data": {
      "text/plain": [
       "(47, 590)"
      ]
     },
     "execution_count": 550,
     "metadata": {},
     "output_type": "execute_result"
    }
   ],
   "source": [
    "i, sum([u.hp for u in units])"
   ]
  },
  {
   "cell_type": "code",
   "execution_count": 551,
   "metadata": {},
   "outputs": [],
   "source": [
    "field, units = parse_input(\"\"\"#######\n",
    "#G..#E#\n",
    "#E#E.E#\n",
    "#G.##.#\n",
    "#...#E#\n",
    "#...E.#\n",
    "#######\"\"\")\n",
    "i, units = combat(field, units)\n",
    "assert(i * sum([u.hp for u in units]) == 36334)"
   ]
  },
  {
   "cell_type": "code",
   "execution_count": 552,
   "metadata": {},
   "outputs": [
    {
     "data": {
      "text/plain": [
       "[Team: E | pos: 5, 1 | HP: 200,\n",
       " Team: E | pos: 1, 2 | HP: 197,\n",
       " Team: E | pos: 2, 3 | HP: 185,\n",
       " Team: E | pos: 1, 4 | HP: 200,\n",
       " Team: E | pos: 5, 4 | HP: 200]"
      ]
     },
     "execution_count": 552,
     "metadata": {},
     "output_type": "execute_result"
    }
   ],
   "source": [
    "units"
   ]
  },
  {
   "cell_type": "code",
   "execution_count": 553,
   "metadata": {},
   "outputs": [
    {
     "data": {
      "text/plain": [
       "(37, 982)"
      ]
     },
     "execution_count": 553,
     "metadata": {},
     "output_type": "execute_result"
    }
   ],
   "source": [
    "i, sum([u.hp for u in units])"
   ]
  },
  {
   "cell_type": "code",
   "execution_count": 568,
   "metadata": {},
   "outputs": [],
   "source": [
    "field, units = parse_input(\"\"\"#######\n",
    "#E..EG#\n",
    "#.#G.E#\n",
    "#E.##E#\n",
    "#G..#.#\n",
    "#..E#.#\n",
    "#######\"\"\")\n",
    "i, units = combat(field, units)\n",
    "assert(i * sum([u.hp for u in units]) == 39514)"
   ]
  },
  {
   "cell_type": "code",
   "execution_count": 555,
   "metadata": {},
   "outputs": [
    {
     "data": {
      "text/plain": [
       "(46, 859)"
      ]
     },
     "execution_count": 555,
     "metadata": {},
     "output_type": "execute_result"
    }
   ],
   "source": [
    "i, sum([u.hp for u in units])"
   ]
  },
  {
   "cell_type": "code",
   "execution_count": 584,
   "metadata": {},
   "outputs": [],
   "source": [
    "field, units = parse_input(\"\"\"#######       #######   \n",
    "#E.G#.#       #G.G#.#   G(200), G(98)\n",
    "#.#G..#       #.#G..#   G(200)\n",
    "#G.#.G#  -->  #..#..#   \n",
    "#G..#.#       #...#G#   G(95)\n",
    "#...E.#       #...G.#   G(200)\n",
    "#######       #######   \"\"\")\n",
    "i, units = combat(field, units)\n",
    "assert(i * sum([u.hp for u in units]) == 27755)"
   ]
  },
  {
   "cell_type": "code",
   "execution_count": 585,
   "metadata": {},
   "outputs": [
    {
     "data": {
      "text/plain": [
       "(35, 793)"
      ]
     },
     "execution_count": 585,
     "metadata": {},
     "output_type": "execute_result"
    }
   ],
   "source": [
    "i, sum([u.hp for u in units])"
   ]
  },
  {
   "cell_type": "code",
   "execution_count": 586,
   "metadata": {},
   "outputs": [],
   "source": [
    "field, units = parse_input(\"\"\"#######       #######   \n",
    "#.E...#       #.....#   \n",
    "#.#..G#       #.#G..#   G(200)\n",
    "#.###.#  -->  #.###.#   \n",
    "#E#G#G#       #.#.#.#   \n",
    "#...#G#       #G.G#G#   G(98), G(38), G(200)\n",
    "#######       #######   \"\"\")\n",
    "i, units = combat(field, units)\n",
    "assert(i * sum([u.hp for u in units]) == 28944)"
   ]
  },
  {
   "cell_type": "code",
   "execution_count": 587,
   "metadata": {},
   "outputs": [
    {
     "data": {
      "text/plain": [
       "(54, 536)"
      ]
     },
     "execution_count": 587,
     "metadata": {},
     "output_type": "execute_result"
    }
   ],
   "source": [
    "i, sum([u.hp for u in units])"
   ]
  },
  {
   "cell_type": "code",
   "execution_count": 563,
   "metadata": {},
   "outputs": [],
   "source": [
    "field, units = parse_input(\"\"\"#########   \n",
    "#G......#\n",
    "#.E.#...#\n",
    "#..##..G#\n",
    "#...##..#\n",
    "#...#...#\n",
    "#.G...G.#\n",
    "#.....G.#\n",
    "#########\"\"\")\n",
    "i, units = combat(field, units)\n",
    "assert(i * sum([u.hp for u in units]) == 18740)"
   ]
  },
  {
   "cell_type": "code",
   "execution_count": 621,
   "metadata": {},
   "outputs": [
    {
     "name": "stdout",
     "output_type": "stream",
     "text": [
      "CPU times: user 3min 27s, sys: 2.27 s, total: 3min 29s\n",
      "Wall time: 4min 16s\n"
     ]
    },
    {
     "data": {
      "image/png": "[encoded data removed]",
      "text/plain": [
       "<Figure size 1008x576 with 1 Axes>"
      ]
     },
     "metadata": {},
     "output_type": "display_data"
    }
   ],
   "source": [
    "%%time\n",
    "field, units = parse_input(file_input)\n",
    "i, units = combat(field, units, plot=True)"
   ]
  },
  {
   "cell_type": "code",
   "execution_count": 624,
   "metadata": {},
   "outputs": [
    {
     "data": {
      "text/plain": [
       "79"
      ]
     },
     "execution_count": 624,
     "metadata": {},
     "output_type": "execute_result"
    }
   ],
   "source": [
    "i"
   ]
  },
  {
   "cell_type": "code",
   "execution_count": 625,
   "metadata": {},
   "outputs": [
    {
     "data": {
      "text/plain": [
       "207770"
      ]
     },
     "execution_count": 625,
     "metadata": {},
     "output_type": "execute_result"
    }
   ],
   "source": [
    "(i) * sum([u.hp for u in units])"
   ]
  },
  {
   "cell_type": "code",
   "execution_count": 626,
   "metadata": {},
   "outputs": [],
   "source": [
    "field, units = parse_input(file_input)"
   ]
  },
  {
   "cell_type": "code",
   "execution_count": 627,
   "metadata": {},
   "outputs": [
    {
     "data": {
      "text/plain": [
       "<matplotlib.image.AxesImage at 0x108275650>"
      ]
     },
     "execution_count": 627,
     "metadata": {},
     "output_type": "execute_result"
    },
    {
     "data": {
      "image/png": "[encoded data removed]",
      "text/plain": [
       "<Figure size 1008x576 with 1 Axes>"
      ]
     },
     "metadata": {},
     "output_type": "display_data"
    }
   ],
   "source": [
    "field[field==1] = 10\n",
    "field[field==71] = 50\n",
    "plt.imshow((field).T)"
   ]
  },
  {
   "cell_type": "code",
   "execution_count": 602,
   "metadata": {},
   "outputs": [
    {
     "data": {
      "text/plain": [
       "(207770, 205140)"
      ]
     },
     "execution_count": 602,
     "metadata": {},
     "output_type": "execute_result"
    }
   ],
   "source": [
    "(i) * sum([u.hp for u in units]), (i-1) * sum([u.hp for u in units]) "
   ]
  },
  {
   "cell_type": "code",
   "execution_count": 603,
   "metadata": {},
   "outputs": [
    {
     "name": "stdout",
     "output_type": "stream",
     "text": [
      "################################\n",
      "#########....G#######.##########\n",
      "##########.G########...#########\n",
      "###########.########.#.#########\n",
      "###########.#..G######..######.#\n",
      "##########..#...###......G..##.#\n",
      "##.#######......#..G....E#.....#\n",
      "##.##..######...........E..E####\n",
      "##.##...###................#####\n",
      "#.....G.G...........G.....######\n",
      "#...G....G...................###\n",
      "#G.G.............EG..........###\n",
      "#..G..........#####.........####\n",
      "##.G.......G.#######.........###\n",
      "#####....G..#########..G.E....##\n",
      "####....#...#########.........##\n",
      "#######.##..#########...#.....##\n",
      "#########...#########.....######\n",
      "##########..#########G....######\n",
      "##########...#######..E...######\n",
      "##########....#####...#EE.######\n",
      "#########.........G.......######\n",
      "#########............###########\n",
      "############..........##########\n",
      "############.......#.###########\n",
      "###########...........##########\n",
      "###########........#.###########\n",
      "##########E.#......#############\n",
      "#########...##....E.############\n",
      "#########.######....############\n",
      "################....############\n",
      "################################\n"
     ]
    }
   ],
   "source": [
    "print(file_input)"
   ]
  },
  {
   "cell_type": "code",
   "execution_count": 628,
   "metadata": {},
   "outputs": [
    {
     "data": {
      "text/plain": [
       "207767"
      ]
     },
     "execution_count": 628,
     "metadata": {},
     "output_type": "execute_result"
    }
   ],
   "source": [
    "207770 - 3"
   ]
  },
  {
   "cell_type": "code",
   "execution_count": null,
   "metadata": {},
   "outputs": [],
   "source": []
  }
 ],
 "metadata": {
  "kernelspec": {
   "display_name": "Python 3",
   "language": "python",
   "name": "python3"
  },
  "language_info": {
   "codemirror_mode": {
    "name": "ipython",
    "version": 2
   },
   "file_extension": ".py",
   "mimetype": "text/x-python",
   "name": "python",
   "nbconvert_exporter": "python",
   "pygments_lexer": "ipython2",
   "version": "2.7.14"
  }
 },
 "nbformat": 4,
 "nbformat_minor": 2
}
