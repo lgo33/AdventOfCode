{
 "cells": [
  {
   "cell_type": "code",
   "execution_count": 5,
   "metadata": {},
   "outputs": [],
   "source": [
    "from collections import deque"
   ]
  },
  {
   "cell_type": "code",
   "execution_count": 2,
   "metadata": {},
   "outputs": [],
   "source": [
    "file_input = 540561\n",
    "test_input = 37"
   ]
  },
  {
   "cell_type": "code",
   "execution_count": 3,
   "metadata": {},
   "outputs": [],
   "source": [
    "def split_number(num):\n",
    "    return [int(i) for i in str(num)]"
   ]
  },
  {
   "cell_type": "code",
   "execution_count": 61,
   "metadata": {},
   "outputs": [],
   "source": [
    "def evolve(inp, maxn):   \n",
    "    recipes = deque(inp)\n",
    "    n = len(recipes)\n",
    "    pos = [0, 1]\n",
    "    while n < maxn:\n",
    "        add = 0\n",
    "        for p in (pos):\n",
    "            add += recipes[p]        \n",
    "\n",
    "        recipes += split_number(add)\n",
    "        n = len(recipes)\n",
    "        for i, p in enumerate(pos):\n",
    "            pos[i] = (p + recipes[p] + 1) % (n)\n",
    "    return list(recipes)\n",
    "\n",
    "def next_ten(inp, n):\n",
    "    recipes = evolve(inp, n+10)\n",
    "    return (\"\".join([str(c) for c in recipes[n:n+10]]), recipes)"
   ]
  },
  {
   "cell_type": "code",
   "execution_count": 54,
   "metadata": {},
   "outputs": [],
   "source": [
    "assert(next_ten(split_number(test_input), 9) == \"5158916779\")\n",
    "assert(next_ten(split_number(test_input), 5) == \"0124515891\")\n",
    "assert(next_ten(split_number(test_input), 18) == \"9251071085\")\n",
    "assert(next_ten(split_number(test_input), 2018) == \"5941429882\")\n"
   ]
  },
  {
   "cell_type": "markdown",
   "metadata": {},
   "source": [
    "Part A"
   ]
  },
  {
   "cell_type": "code",
   "execution_count": 62,
   "metadata": {},
   "outputs": [
    {
     "name": "stdout",
     "output_type": "stream",
     "text": [
      "1413131339\n",
      "CPU times: user 18 s, sys: 1 ms, total: 18 s\n",
      "Wall time: 18.4 s\n"
     ]
    }
   ],
   "source": [
    "%%time\n",
    "solutionA, recipes = next_ten(split_number(test_input), file_input)\n",
    "print (solutionA)"
   ]
  },
  {
   "cell_type": "markdown",
   "metadata": {},
   "source": [
    "Part B"
   ]
  },
  {
   "cell_type": "code",
   "execution_count": 159,
   "metadata": {},
   "outputs": [],
   "source": [
    "def evolve_cache(inp, maxn, cache=dict()):   \n",
    "    recipes = deque(inp)\n",
    "    n = len(recipes)\n",
    "    pos = [0, 1]\n",
    "    while n < maxn:\n",
    "        init_pos = tuple(pos)\n",
    "        total_added = []\n",
    "        if init_pos in cache:\n",
    "            print('hit', init_pos)\n",
    "            to_add, final_pos = cache[init_pos]\n",
    "            recipes += to_add\n",
    "            pos[0] = final_pos[0]\n",
    "            pos[1] = final_pos[1]\n",
    "            total_added = to_add\n",
    "        else:\n",
    "            total_added = []\n",
    "        while (pos[0] < n) and (pos[1] < n):\n",
    "            add = 0\n",
    "            for i, p in enumerate(pos):                \n",
    "                add += recipes[p]                                \n",
    "                pos[i] = (p + recipes[p] + 1)\n",
    "            add_now = split_number(add)\n",
    "            recipes += add_now\n",
    "            total_added += add_now                \n",
    "        n = len(recipes)\n",
    "                \n",
    "        cache[init_pos] = (total_added, tuple(pos))\n",
    "        pos[0] %= n\n",
    "        pos[1] %= n\n",
    "    # print(cache)\n",
    "    return list(recipes)"
   ]
  },
  {
   "cell_type": "code",
   "execution_count": 156,
   "metadata": {},
   "outputs": [
    {
     "name": "stdout",
     "output_type": "stream",
     "text": [
      "hit\n"
     ]
    }
   ],
   "source": [
    "data1 = evolve(split_number(test_input), 30)\n",
    "data2 = evolve_cache(split_number(test_input), 30)"
   ]
  },
  {
   "cell_type": "code",
   "execution_count": 157,
   "metadata": {},
   "outputs": [
    {
     "data": {
      "text/plain": [
       "True"
      ]
     },
     "execution_count": 157,
     "metadata": {},
     "output_type": "execute_result"
    }
   ],
   "source": [
    "data1[:30] == data2[:30]"
   ]
  },
  {
   "cell_type": "code",
   "execution_count": 164,
   "metadata": {},
   "outputs": [
    {
     "name": "stdout",
     "output_type": "stream",
     "text": [
      "CPU times: user 1min 11s, sys: 31 ms, total: 1min 11s\n",
      "Wall time: 1min 13s\n"
     ]
    }
   ],
   "source": [
    "%%time\n",
    "data1 = evolve(split_number(test_input), 1000000)"
   ]
  },
  {
   "cell_type": "code",
   "execution_count": 152,
   "metadata": {},
   "outputs": [
    {
     "data": {
      "text/plain": [
       "300000"
      ]
     },
     "execution_count": 152,
     "metadata": {},
     "output_type": "execute_result"
    }
   ],
   "source": [
    "len(data1)"
   ]
  },
  {
   "cell_type": "code",
   "execution_count": 167,
   "metadata": {},
   "outputs": [
    {
     "name": "stdout",
     "output_type": "stream",
     "text": [
      "hit\n",
      "CPU times: user 518 ms, sys: 2 ms, total: 520 ms\n",
      "Wall time: 561 ms\n"
     ]
    }
   ],
   "source": [
    "%%time\n",
    "cache = {}\n",
    "data2 = evolve_cache(split_number(test_input), 100000, cache=cache)"
   ]
  },
  {
   "cell_type": "code",
   "execution_count": 169,
   "metadata": {},
   "outputs": [
    {
     "data": {
      "text/plain": [
       "dict_keys([(10873, 7037), (2, 508), (4589, 2691), (142, 339), (0, 5107), (78091, 49531), (10905, 7052), (38891, 89234), (5596, 3604), (1, 6), (20830, 13374), (88, 225), (1024, 700), (2005, 5607), (13580, 32342), (552, 355), (278, 642), (7789, 5048), (7583, 17257), (353, 860), (4, 123), (1494, 1011), (24083, 13615), (14950, 9538), (2071, 1341), (20046, 56525), (2883, 1872), (1026, 2360), (38966, 89313), (5440, 15155), (40586, 25407), (0, 49804), (5, 1035), (67, 170), (397, 243), (88, 4), (290, 151), (1972, 4549), (6, 23), (115, 67), (38960, 89300), (77297, 48787), (745, 1669), (0, 18583), (277, 632), (0, 1), (783, 1709), (33, 23), (10520, 24011), (29221, 18476), (0, 52), (40693, 25512), (526, 1224), (1, 35781), (414, 273), (6, 2), (10594, 0), (115, 247), (9, 7), (19893, 46323), (82, 183), (151, 421), (10574, 24063), (27876, 64357), (2008, 5), (21107, 13613), (1464, 4037), (1236, 747), (4, 12), (488, 1181), (56521, 35772), (31, 67), (5370, 12397), (34, 4), (31, 1), (4947, 12008), (652, 386), (0, 379), (5582, 3582), (13, 3), (2804, 6389), (10757, 6924), (67, 1), (20046, 1), (46440, 25535), (1079, 745), (5430, 12435), (776, 502), (10361, 6555), (17305, 9684), (1, 13), (2005, 4582), (20038, 46436), (27773, 64246), (1077, 743), (7713, 4961), (5267, 12309), (10594, 29319), (6, 4), (789, 0), (25677, 62209), (15100, 9654), (140, 79), (3304, 1876), (369, 1082), (967, 2302), (1035, 2897), (2750, 1727), (160, 95), (78302, 49712), (14346, 33175), (0, 8), (20038, 12591), (3528, 8610), (28929, 18229), (4032, 2683), (3895, 8906), (280, 7), (225, 471), (34, 31), (13, 47), (379, 6), (15137, 9679), (4, 1357), (215, 117), (38032, 88454), (27897, 1), (0, 31), (236, 476), (56, 33), (62, 134), (160, 1), (518, 1220), (6404, 3625), (203, 459), (5, 112), (4, 8), (40719, 25534), (2, 1876), (2825, 6396), (31, 13), (1312, 3178), (2, 3618), (1, 42), (14735, 33489), (5440, 5), (14618, 33400), (4019, 2665), (117, 0), (5426, 12431), (38968, 4), (7606, 17292), (2840, 1), (1, 747), (552, 5), (35902, 86264), (1, 25535), (416, 277), (21050, 13588), (74488, 45959), (2830, 7827), (6, 33), (78371, 49794), (1067, 733), (27366, 63795), (236, 575), (1422, 3264), (7616, 21119), (38749, 23662), (20012, 46424), (3908, 0), (7811, 5080), (53704, 32920), (3820, 2433), (2856, 1836), (1451, 3292), (1, 13617), (79, 42), (14712, 33465), (0, 6), (27902, 17195), (42, 23), (12444, 7054), (536, 1226), (8, 4), (47, 123), (1870, 4433), (1458, 3), (1997, 1262), (29296, 18558), (193, 112), (480, 280), (23, 52), (5531, 3524), (7419, 17133), (5436, 12437), (10590, 24080), (56302, 35541), (40193, 25039), (18681, 44894), (255, 117), (14742, 40728), (366, 875), (5, 7054), (33, 88), (7824, 5097), (27894, 78380), (56462, 35688), (14400, 8994), (6, 3), (19629, 46038), (1, 2691), (56503, 35759), (887, 513), (1432, 939), (42, 3), (117, 302), (55744, 34945), (9682, 23245), (162, 102), (33494, 18583), (3820, 8832), (1455, 3299), (2378, 1357), (7616, 4), (278, 783), (745, 480), (78356, 49771), (1, 79), (3910, 10915), (10329, 23837), (38668, 89060), (2754, 6339), (791, 2095), (3906, 8920), (7413, 4684), (243, 1), (64392, 35781), (0, 162), (1041, 4), (7, 9684), (1510, 1033), (5410, 12422), (19974, 46407), (3, 278), (8925, 5107), (14737, 0), (7018, 16682), (347, 170), (1722, 1033), (543, 1228), (102, 52), (3973, 2618), (4, 3), (2621, 6179), (15145, 9682), (552, 1520), (5331, 3349)])"
      ]
     },
     "execution_count": 169,
     "metadata": {},
     "output_type": "execute_result"
    }
   ],
   "source": [
    "cache.keys()"
   ]
  },
  {
   "cell_type": "code",
   "execution_count": 180,
   "metadata": {},
   "outputs": [
    {
     "name": "stdout",
     "output_type": "stream",
     "text": [
      "CPU times: user 2h 46min, sys: 3.99 s, total: 2h 46min 4s\n",
      "Wall time: 2h 49min 14s\n"
     ]
    }
   ],
   "source": [
    "%%time\n",
    "data1 = evolve(split_number(test_input), 10000000)"
   ]
  },
  {
   "cell_type": "code",
   "execution_count": 181,
   "metadata": {},
   "outputs": [],
   "source": [
    "recipes = data1"
   ]
  },
  {
   "cell_type": "code",
   "execution_count": 182,
   "metadata": {},
   "outputs": [],
   "source": [
    "recipe_str = \"\".join(str(r) for r in recipes)\n",
    "assert(recipe_str.find('51589') == 9)\n",
    "assert(recipe_str.find('01245') == 5)\n",
    "assert(recipe_str.find('92510') == 18)\n",
    "assert(recipe_str.find('59414') == 2018)"
   ]
  },
  {
   "cell_type": "code",
   "execution_count": 183,
   "metadata": {},
   "outputs": [
    {
     "data": {
      "text/plain": [
       "-1"
      ]
     },
     "execution_count": 183,
     "metadata": {},
     "output_type": "execute_result"
    }
   ],
   "source": [
    "recipe_str.find(str(file_input))"
   ]
  },
  {
   "cell_type": "code",
   "execution_count": 173,
   "metadata": {},
   "outputs": [
    {
     "data": {
      "text/plain": [
       "'540561'"
      ]
     },
     "execution_count": 173,
     "metadata": {},
     "output_type": "execute_result"
    }
   ],
   "source": [
    "str(file_input)"
   ]
  },
  {
   "cell_type": "code",
   "execution_count": 174,
   "metadata": {},
   "outputs": [
    {
     "data": {
      "text/plain": [
       "2000001"
      ]
     },
     "execution_count": 174,
     "metadata": {},
     "output_type": "execute_result"
    }
   ],
   "source": [
    "len(recipe_str)"
   ]
  },
  {
   "cell_type": "code",
   "execution_count": null,
   "metadata": {},
   "outputs": [],
   "source": []
  }
 ],
 "metadata": {
  "kernelspec": {
   "display_name": "Python 3",
   "language": "python",
   "name": "python3"
  },
  "language_info": {
   "codemirror_mode": {
    "name": "ipython",
    "version": 3
   },
   "file_extension": ".py",
   "mimetype": "text/x-python",
   "name": "python",
   "nbconvert_exporter": "python",
   "pygments_lexer": "ipython3",
   "version": "3.5.2"
  }
 },
 "nbformat": 4,
 "nbformat_minor": 2
}
