{
 "cells": [
  {
   "cell_type": "code",
   "execution_count": 1,
   "metadata": {
    "collapsed": true
   },
   "outputs": [],
   "source": [
    "# http://adventofcode.com/day/2/input"
   ]
  },
  {
   "cell_type": "code",
   "execution_count": 20,
   "metadata": {
    "collapsed": false
   },
   "outputs": [
    {
     "name": "stdout",
     "output_type": "stream",
     "text": [
      "1586300 3737498\n"
     ]
    }
   ],
   "source": [
    "f = open('day2.txt', 'r')\n",
    "wrap = 0\n",
    "ribbon = 0\n",
    "for line in f:\n",
    "    d = map(int, line.strip().split('x'))\n",
    "    bow = 1\n",
    "    for i in range(3):\n",
    "        wrap += 2*d[i]*d[(i+1)%3]\n",
    "        bow *= d[i]\n",
    "        \n",
    "    ribbon += bow\n",
    "    extra = 1    \n",
    "    d.remove(max(d))\n",
    "    for i in d:\n",
    "        extra *= i\n",
    "        ribbon += 2*i\n",
    "    wrap += extra\n",
    "print wrap, ribbon "
   ]
  },
  {
   "cell_type": "code",
   "execution_count": null,
   "metadata": {
    "collapsed": true
   },
   "outputs": [],
   "source": []
  }
 ],
 "metadata": {
  "kernelspec": {
   "display_name": "Python 2",
   "language": "python",
   "name": "python2"
  },
  "language_info": {
   "codemirror_mode": {
    "name": "ipython",
    "version": 2
   },
   "file_extension": ".py",
   "mimetype": "text/x-python",
   "name": "python",
   "nbconvert_exporter": "python",
   "pygments_lexer": "ipython2",
   "version": "2.7.6"
  }
 },
 "nbformat": 4,
 "nbformat_minor": 0
}
