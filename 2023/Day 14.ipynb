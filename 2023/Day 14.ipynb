{
 "cells": [
  {
   "cell_type": "code",
   "execution_count": 1,
   "metadata": {},
   "outputs": [],
   "source": [
    "import os\n",
    "os.environ['AOC_SESSION'] = '53616c7465645f5ff17c6f54fd23191499c7017d6366538fcc35b61d0225390f78827c662577ddcc8d5d64ddf58c68c56d6ad68e5721930a5b7a5803b0bee173'"
   ]
  },
  {
   "cell_type": "code",
   "execution_count": 2,
   "metadata": {},
   "outputs": [],
   "source": [
    "import aocd\n",
    "from aocd.models import Puzzle\n",
    "day = 14\n",
    "year = 2023\n",
    "puzzle = Puzzle(year=year, day=day)\n",
    "# data = aocd.get_data(day=day, year=year)\n",
    "with open('./data/input_{:02d}'.format(day), 'w') as fh:\n",
    "    fh.write(puzzle.input_data)"
   ]
  },
  {
   "cell_type": "code",
   "execution_count": 202,
   "metadata": {},
   "outputs": [],
   "source": [
    "import matplotlib.pyplot as plt\n",
    "import numpy as np\n",
    "from functools import cache"
   ]
  },
  {
   "cell_type": "code",
   "execution_count": 4,
   "metadata": {},
   "outputs": [],
   "source": [
    "test_data = \"\"\"O....#....\n",
    "O.OO#....#\n",
    ".....##...\n",
    "OO.#O....O\n",
    ".O.....O#.\n",
    "O.#..O.#.#\n",
    "..O..#O..O\n",
    ".......O..\n",
    "#....###..\n",
    "#OO..#....\n",
    "\"\"\"\n",
    "data_test = test_data.splitlines()"
   ]
  },
  {
   "cell_type": "code",
   "execution_count": 5,
   "metadata": {},
   "outputs": [
    {
     "data": {
      "text/plain": [
       "(100,\n",
       " ['O........O..#...O...#OO..O.##..#.O....O#..#..O..#.O....#.....O.O.O..#OO#.....O#O..#.#.#O....O...#.O.',\n",
       "  '...#....O.O...#..O....#O.....#..#O.O.....O.......#.O...O.O.#O.#..O#.#O..O##...#.OO.##...#O#.O..O###.',\n",
       "  'O.......O...OO.....O...#..O#.##......O.O.O...O..##..#.O...O...O###O.#.OO.#....#O.........O.##...O#..',\n",
       "  '.##.O.........O###...#.#......#.#...O.....OO#..#......#..OO.O.OO.O#OOO....O..............O.......O#O',\n",
       "  '#......#OO#O...O#.O..#.#O..........O.............OOO.##..#....O..OO......OO.....OO.OO...O.......###.',\n",
       "  '.O...#O#......OOO.....#OO.O.OO..O....#.#..#.O.......#O..O....OO....O..O.#.O.####.O...O..O....OOO#.OO',\n",
       "  '...#.O......#...##O.......O.#.#..##......#O.O.OO.OO.....#OO#....OOO.....O...#..OOO..O.....O.O.#..O##',\n",
       "  '##.....O##.O#.O###O#O..........#...O.O.O.#..OO....O#O.##.O......O.OO.O..#......#...#.#O..O#....#...O',\n",
       "  '.OO........#..O.#O.O..O.....O...#O..OO.#O...O.#....O.O....#O.#O..O......O....#..##.O....##O..#O.O.O.',\n",
       "  '.O.O.OO..........OOO##O....#.#.##OO#O.#...O...#.#...OO.#O.#..O.O#..O....OO.#.OO.#...####.O.##..O.O##'])"
      ]
     },
     "execution_count": 5,
     "metadata": {},
     "output_type": "execute_result"
    }
   ],
   "source": [
    "data = puzzle.input_data.splitlines()\n",
    "len(data), data[:10]"
   ]
  },
  {
   "cell_type": "code",
   "execution_count": 206,
   "metadata": {},
   "outputs": [],
   "source": [
    "def parse(data):\n",
    "    static = set()\n",
    "    mobile = set()\n",
    "    pos = complex(0)\n",
    "    for line in data:\n",
    "        for c in line:\n",
    "            if c == 'O':\n",
    "                mobile.add(pos)\n",
    "            elif c == '#':\n",
    "                static.add(pos)\n",
    "            pos += 1\n",
    "        maxX = int(pos.real)\n",
    "        pos -= pos.real\n",
    "        pos -= 1j\n",
    "    maxY = - int(pos.imag)\n",
    "    return mobile, static, maxY\n",
    "\n",
    "def move(mobile, static, direction):\n",
    "    new_mobile = set()\n",
    "    maxX = max([c.real for c in static])\n",
    "    maxY = max([-c.imag for c in static])\n",
    "    def inside(pos):\n",
    "        if pos.real < 0 or pos.imag > 0:\n",
    "            return False\n",
    "        if pos.real > maxX or pos.imag < -maxY:\n",
    "            return False\n",
    "        return True\n",
    "    \n",
    "    changes = False\n",
    "    sortkey = lambda r: (r * direction).real\n",
    "    if direction.real != 0:\n",
    "        sortkey = lambda r: -(r * direction).real\n",
    "    for rock in sorted(mobile, key=sortkey ):\n",
    "        new_pos = rock + direction\n",
    "        if new_pos not in new_mobile and new_pos not in static and inside(new_pos):\n",
    "            changes = True\n",
    "            new_mobile.add(new_pos)\n",
    "        else:\n",
    "            new_mobile.add(rock)\n",
    "    return new_mobile, changes\n",
    "\n",
    "def cycle(mobile, static):\n",
    "    for direction in [1j, -1, -1j, 1]:\n",
    "        while True:\n",
    "            mobile, changes = move(mobile, static, direction)\n",
    "            if not changes:\n",
    "                break\n",
    "    return mobile\n",
    "\n",
    "def visualize(mobile, static):\n",
    "    MX = int(max([c.real for c in static]))\n",
    "    MY = int(max([-c.imag for c in static]))\n",
    "    field = np.zeros((MY+1, MX+1))\n",
    "    for pos in mobile:\n",
    "        x = int(pos.real)\n",
    "        y = -int(pos.imag)\n",
    "        field[y, x] = 1\n",
    "    for pos in static:\n",
    "        x = int(pos.real)\n",
    "        y = -int(pos.imag)\n",
    "        field[y, x] = 2\n",
    "    # field[MY, MX] = 10\n",
    "    plt.imshow(field)    \n",
    "    \n",
    "def load(mobile, maxY):\n",
    "    res = 0\n",
    "    for pos in mobile:\n",
    "        res += maxY + pos.imag\n",
    "    return int(res)"
   ]
  },
  {
   "cell_type": "code",
   "execution_count": 192,
   "metadata": {},
   "outputs": [],
   "source": [
    "# mobile, static, maxY = parse(data_test)\n",
    "mobile, static, maxY = parse(data)"
   ]
  },
  {
   "cell_type": "code",
   "execution_count": 193,
   "metadata": {},
   "outputs": [],
   "source": [
    "i = 0\n",
    "while True:\n",
    "    mobile, changes = move(mobile, static, 1j)\n",
    "    i += 1\n",
    "    if not changes:\n",
    "        break"
   ]
  },
  {
   "cell_type": "code",
   "execution_count": 194,
   "metadata": {},
   "outputs": [
    {
     "data": {
      "image/png": "[encoded data removed]",
      "text/plain": [
       "<Figure size 640x480 with 1 Axes>"
      ]
     },
     "metadata": {},
     "output_type": "display_data"
    }
   ],
   "source": [
    "visualize(mobile, static)"
   ]
  },
  {
   "cell_type": "code",
   "execution_count": 195,
   "metadata": {},
   "outputs": [
    {
     "data": {
      "text/plain": [
       "110779"
      ]
     },
     "execution_count": 195,
     "metadata": {},
     "output_type": "execute_result"
    }
   ],
   "source": [
    "res = load(mobile, maxY)\n",
    "res"
   ]
  },
  {
   "cell_type": "code",
   "execution_count": 166,
   "metadata": {},
   "outputs": [
    {
     "name": "stdout",
     "output_type": "stream",
     "text": [
      "\u001b[32mThat's the right answer!  You are one gold star closer to restoring snow operations. [Continue to Part Two]\u001b[0m\n"
     ]
    }
   ],
   "source": [
    "puzzle.answer_a = res"
   ]
  },
  {
   "cell_type": "code",
   "execution_count": 167,
   "metadata": {},
   "outputs": [],
   "source": [
    "# Part 2"
   ]
  },
  {
   "cell_type": "code",
   "execution_count": 240,
   "metadata": {},
   "outputs": [],
   "source": [
    "# mobile, static, maxY = parse(data_test)\n",
    "mobile, static, maxY = parse(data)"
   ]
  },
  {
   "cell_type": "code",
   "execution_count": 241,
   "metadata": {},
   "outputs": [
    {
     "name": "stdout",
     "output_type": "stream",
     "text": [
      "160 77\n"
     ]
    },
    {
     "data": {
      "image/png": "[encoded data removed]",
      "text/plain": [
       "<Figure size 640x480 with 1 Axes>"
      ]
     },
     "metadata": {},
     "output_type": "display_data"
    }
   ],
   "source": [
    "seen = dict()\n",
    "i = 0\n",
    "period = 0\n",
    "N_spins = 1000000000\n",
    "while i<N_spins:\n",
    "    i += 1\n",
    "    mobile = cycle(mobile, static)\n",
    "    if not period:\n",
    "        sorted_mobile = tuple(sorted(mobile, key=lambda c: (c.imag, c.real) ))\n",
    "        if sorted_mobile in seen:\n",
    "            period = i - seen[sorted_mobile]\n",
    "            print(i, period)\n",
    "    else:\n",
    "        i += ((N_spins - i) // period) * period\n",
    "    seen[sorted_mobile] = i\n",
    "visualize(mobile, static)"
   ]
  },
  {
   "cell_type": "code",
   "execution_count": 242,
   "metadata": {},
   "outputs": [
    {
     "data": {
      "text/plain": [
       "86069"
      ]
     },
     "execution_count": 242,
     "metadata": {},
     "output_type": "execute_result"
    }
   ],
   "source": [
    "res = load(mobile, maxY)\n",
    "res"
   ]
  },
  {
   "cell_type": "code",
   "execution_count": 243,
   "metadata": {},
   "outputs": [
    {
     "name": "stdout",
     "output_type": "stream",
     "text": [
      "\u001b[32mThat's the right answer!  You are one gold star closer to restoring snow operations.You have completed Day 14! You can [Shareon\n",
      "  Twitter\n",
      "Mastodon] this victory or [Return to Your Advent Calendar].\u001b[0m\n"
     ]
    }
   ],
   "source": [
    "puzzle.answer_b = res"
   ]
  },
  {
   "cell_type": "code",
   "execution_count": 261,
   "metadata": {},
   "outputs": [
    {
     "data": {
      "text/plain": [
       "77"
      ]
     },
     "execution_count": 261,
     "metadata": {},
     "output_type": "execute_result"
    }
   ],
   "source": [
    "period"
   ]
  },
  {
   "cell_type": "code",
   "execution_count": 268,
   "metadata": {},
   "outputs": [
    {
     "data": {
      "text/plain": [
       "76"
      ]
     },
     "execution_count": 268,
     "metadata": {},
     "output_type": "execute_result"
    }
   ],
   "source": [
    "(1000) % 77"
   ]
  },
  {
   "cell_type": "code",
   "execution_count": 269,
   "metadata": {},
   "outputs": [
    {
     "data": {
      "text/plain": [
       "76"
      ]
     },
     "execution_count": 269,
     "metadata": {},
     "output_type": "execute_result"
    }
   ],
   "source": [
    "(1_000_000_000) % 77"
   ]
  },
  {
   "cell_type": "code",
   "execution_count": null,
   "metadata": {},
   "outputs": [],
   "source": []
  }
 ],
 "metadata": {
  "kernelspec": {
   "display_name": "py310",
   "language": "python",
   "name": "py310"
  },
  "language_info": {
   "codemirror_mode": {
    "name": "ipython",
    "version": 3
   },
   "file_extension": ".py",
   "mimetype": "text/x-python",
   "name": "python",
   "nbconvert_exporter": "python",
   "pygments_lexer": "ipython3",
   "version": "3.10.2"
  }
 },
 "nbformat": 4,
 "nbformat_minor": 4
}
