{
 "cells": [
  {
   "cell_type": "code",
   "execution_count": 1,
   "metadata": {},
   "outputs": [],
   "source": [
    "import os\n",
    "os.environ['AOC_SESSION'] = '53616c7465645f5ff17c6f54fd23191499c7017d6366538fcc35b61d0225390f78827c662577ddcc8d5d64ddf58c68c56d6ad68e5721930a5b7a5803b0bee173'"
   ]
  },
  {
   "cell_type": "code",
   "execution_count": 2,
   "metadata": {},
   "outputs": [],
   "source": [
    "import aocd\n",
    "from aocd.models import Puzzle\n",
    "day = 7\n",
    "year = 2023\n",
    "puzzle = Puzzle(year=year, day=day)\n",
    "# data = aocd.get_data(day=day, year=year)\n",
    "with open('./data/input_{:02d}'.format(day), 'w') as fh:\n",
    "    fh.write(puzzle.input_data)"
   ]
  },
  {
   "cell_type": "code",
   "execution_count": 52,
   "metadata": {},
   "outputs": [],
   "source": [
    "from collections import Counter\n",
    "from functools import cache"
   ]
  },
  {
   "cell_type": "code",
   "execution_count": 14,
   "metadata": {},
   "outputs": [],
   "source": [
    "test_data = \"\"\"32T3K 765\n",
    "T55J5 684\n",
    "KK677 28\n",
    "KTJJT 220\n",
    "QQQJA 483\"\"\"\n",
    "data_test = test_data.splitlines()"
   ]
  },
  {
   "cell_type": "code",
   "execution_count": 4,
   "metadata": {},
   "outputs": [
    {
     "data": {
      "text/plain": [
       "(1000,\n",
       " ['342QK 491',\n",
       "  '36QAT 619',\n",
       "  '85663 606',\n",
       "  '33K3A 23',\n",
       "  'K7775 814',\n",
       "  'T67T6 105',\n",
       "  '49T8T 200',\n",
       "  '2KAT2 317',\n",
       "  '96669 251',\n",
       "  '4A827 285'])"
      ]
     },
     "execution_count": 4,
     "metadata": {},
     "output_type": "execute_result"
    }
   ],
   "source": [
    "data = puzzle.input_data.splitlines()\n",
    "len(data), data[:10]"
   ]
  },
  {
   "cell_type": "code",
   "execution_count": 81,
   "metadata": {},
   "outputs": [],
   "source": [
    "def card_value(card):\n",
    "    try:\n",
    "        return int(card)\n",
    "    except ValueError:\n",
    "        return {\n",
    "            'A' : 14,\n",
    "            'K' : 13,\n",
    "            'Q' : 12,\n",
    "            'J' : 11,\n",
    "            'T' : 10,\n",
    "        }[card]\n",
    "    \n",
    "def hand_type(hand):\n",
    "    counts = sorted(Counter(hand).values())\n",
    "    cmax = max(counts)\n",
    "    if cmax == 5:\n",
    "        return 7\n",
    "    if cmax == 4:\n",
    "        return 6\n",
    "    if cmax == 3:\n",
    "        if counts[-2] == 2:\n",
    "            return 5\n",
    "        return 4\n",
    "    if cmax == 2:\n",
    "        if counts[-2] == 2:\n",
    "            return 3\n",
    "        return 2\n",
    "    return 1\n",
    "\n",
    "@cache\n",
    "def convert_hand(hand):\n",
    "    return [hand_type(hand)] + [card_value(c) for c in hand]\n",
    "\n",
    "def compare_hands(item1, item2):\n",
    "    if convert_hand(item1) < convert_hand(item2):\n",
    "        return -1\n",
    "    return 1\n",
    "\n",
    "def parse(data):\n",
    "    hands = []\n",
    "    bids = {}\n",
    "    for line in data:\n",
    "        hand, bid = parse_line(line)\n",
    "        hands.append(hand)\n",
    "        bids[hand] = int(bid)\n",
    "    return hands, bids\n",
    "\n",
    "def parse_line(line):\n",
    "    hand, bid =  line.split(\" \")\n",
    "    return hand, bid"
   ]
  },
  {
   "cell_type": "code",
   "execution_count": 83,
   "metadata": {},
   "outputs": [
    {
     "data": {
      "text/plain": [
       "(['32T3K', 'T55J5', 'KK677', 'KTJJT', 'QQQJA'],\n",
       " {'32T3K': 765, 'T55J5': 684, 'KK677': 28, 'KTJJT': 220, 'QQQJA': 483})"
      ]
     },
     "execution_count": 83,
     "metadata": {},
     "output_type": "execute_result"
    }
   ],
   "source": [
    "# hands, bids = parse(data)\n",
    "hands, bids = parse(data_test)\n",
    "hands, bids"
   ]
  },
  {
   "cell_type": "code",
   "execution_count": 84,
   "metadata": {},
   "outputs": [],
   "source": [
    "sorted_hands = sorted(hands, key=convert_hand)"
   ]
  },
  {
   "cell_type": "code",
   "execution_count": 85,
   "metadata": {},
   "outputs": [
    {
     "data": {
      "text/plain": [
       "6440"
      ]
     },
     "execution_count": 85,
     "metadata": {},
     "output_type": "execute_result"
    }
   ],
   "source": [
    "winnings = 0\n",
    "rank = 1\n",
    "for hand in sorted_hands:\n",
    "    winnings += rank * bids[hand]\n",
    "    rank += 1\n",
    "winnings"
   ]
  },
  {
   "cell_type": "code",
   "execution_count": 72,
   "metadata": {},
   "outputs": [
    {
     "name": "stdout",
     "output_type": "stream",
     "text": [
      "\u001b[32mThat's the right answer!  You are one gold star closer to restoring snow operations. [Continue to Part Two]\u001b[0m\n"
     ]
    }
   ],
   "source": [
    "puzzle.answer_a = winnings"
   ]
  },
  {
   "cell_type": "code",
   "execution_count": 73,
   "metadata": {},
   "outputs": [],
   "source": [
    "# Part 2"
   ]
  },
  {
   "cell_type": "code",
   "execution_count": 102,
   "metadata": {},
   "outputs": [],
   "source": [
    "hands, bids = parse(data)\n",
    "# hands, bids = parse(data_test)\n",
    "# hands, bids"
   ]
  },
  {
   "cell_type": "code",
   "execution_count": 106,
   "metadata": {},
   "outputs": [],
   "source": [
    "def card_value_b(card):\n",
    "    try:\n",
    "        return int(card)\n",
    "    except ValueError:\n",
    "        return {\n",
    "            'A' : 14,\n",
    "            'K' : 13,\n",
    "            'Q' : 12,\n",
    "            'J' : 1,\n",
    "            'T' : 10,\n",
    "        }[card]\n",
    "    \n",
    "def hand_type_b(hand):\n",
    "    card_counts = Counter(hand)\n",
    "    jacks = card_counts.pop('J', 0)\n",
    "    counts = sorted(card_counts.values())\n",
    "    try:\n",
    "        cmax = max(counts) + jacks\n",
    "    except ValueError:\n",
    "        cmax = jacks\n",
    "    if cmax == 5:\n",
    "        return 7\n",
    "    if cmax == 4:\n",
    "        return 6\n",
    "    if cmax == 3:\n",
    "        if counts[-2] == 2:\n",
    "            return 5\n",
    "        return 4\n",
    "    if cmax == 2:\n",
    "        if counts[-2] == 2:\n",
    "            return 3\n",
    "        return 2\n",
    "    return 1\n",
    "\n",
    "@cache\n",
    "def convert_hand_b(hand):\n",
    "    return [hand_type_b(hand)] + [card_value_b(c) for c in hand]\n"
   ]
  },
  {
   "cell_type": "code",
   "execution_count": 107,
   "metadata": {},
   "outputs": [],
   "source": [
    "sorted_hands = sorted(hands, key=convert_hand_b)"
   ]
  },
  {
   "cell_type": "code",
   "execution_count": 108,
   "metadata": {},
   "outputs": [],
   "source": [
    "# sorted_hands"
   ]
  },
  {
   "cell_type": "code",
   "execution_count": 109,
   "metadata": {},
   "outputs": [
    {
     "data": {
      "text/plain": [
       "244848487"
      ]
     },
     "execution_count": 109,
     "metadata": {},
     "output_type": "execute_result"
    }
   ],
   "source": [
    "winnings = 0\n",
    "rank = 1\n",
    "for hand in sorted_hands:\n",
    "    winnings += rank * bids[hand]\n",
    "    rank += 1\n",
    "winnings"
   ]
  },
  {
   "cell_type": "code",
   "execution_count": 110,
   "metadata": {},
   "outputs": [
    {
     "name": "stdout",
     "output_type": "stream",
     "text": [
      "\u001b[32mThat's the right answer!  You are one gold star closer to restoring snow operations.You have completed Day 7! You can [Shareon\n",
      "  Twitter\n",
      "Mastodon] this victory or [Return to Your Advent Calendar].\u001b[0m\n"
     ]
    }
   ],
   "source": [
    "puzzle.answer_b = winnings"
   ]
  },
  {
   "cell_type": "code",
   "execution_count": null,
   "metadata": {},
   "outputs": [],
   "source": []
  }
 ],
 "metadata": {
  "kernelspec": {
   "display_name": "py310",
   "language": "python",
   "name": "py310"
  },
  "language_info": {
   "codemirror_mode": {
    "name": "ipython",
    "version": 3
   },
   "file_extension": ".py",
   "mimetype": "text/x-python",
   "name": "python",
   "nbconvert_exporter": "python",
   "pygments_lexer": "ipython3",
   "version": "3.10.2"
  }
 },
 "nbformat": 4,
 "nbformat_minor": 4
}
