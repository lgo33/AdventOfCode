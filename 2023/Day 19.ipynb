{
 "cells": [
  {
   "cell_type": "code",
   "execution_count": 1,
   "metadata": {},
   "outputs": [],
   "source": [
    "import os\n",
    "os.environ['AOC_SESSION'] = '53616c7465645f5ff17c6f54fd23191499c7017d6366538fcc35b61d0225390f78827c662577ddcc8d5d64ddf58c68c56d6ad68e5721930a5b7a5803b0bee173'"
   ]
  },
  {
   "cell_type": "code",
   "execution_count": 2,
   "metadata": {},
   "outputs": [],
   "source": [
    "import aocd\n",
    "from aocd.models import Puzzle\n",
    "day = 19\n",
    "year = 2023\n",
    "puzzle = Puzzle(year=year, day=day)\n",
    "# data = aocd.get_data(day=day, year=year)\n",
    "with open('./data/input_{:02d}'.format(day), 'w') as fh:\n",
    "    fh.write(puzzle.input_data)"
   ]
  },
  {
   "cell_type": "code",
   "execution_count": 42,
   "metadata": {},
   "outputs": [],
   "source": [
    "import yaml\n",
    "from ast import literal_eval\n",
    "import operator as op"
   ]
  },
  {
   "cell_type": "code",
   "execution_count": 6,
   "metadata": {},
   "outputs": [],
   "source": [
    "test_data = \"\"\"px{a<2006:qkq,m>2090:A,rfg}\n",
    "pv{a>1716:R,A}\n",
    "lnx{m>1548:A,A}\n",
    "rfg{s<537:gd,x>2440:R,A}\n",
    "qs{s>3448:A,lnx}\n",
    "qkq{x<1416:A,crn}\n",
    "crn{x>2662:A,R}\n",
    "in{s<1351:px,qqz}\n",
    "qqz{s>2770:qs,m<1801:hdj,R}\n",
    "gd{a>3333:R,R}\n",
    "hdj{m>838:A,pv}\n",
    "\n",
    "{x=787,m=2655,a=1222,s=2876}\n",
    "{x=1679,m=44,a=2067,s=496}\n",
    "{x=2036,m=264,a=79,s=2244}\n",
    "{x=2461,m=1339,a=466,s=291}\n",
    "{x=2127,m=1623,a=2188,s=1013}\n",
    "\"\"\"\n",
    "data_test = test_data.splitlines()"
   ]
  },
  {
   "cell_type": "code",
   "execution_count": 4,
   "metadata": {},
   "outputs": [
    {
     "data": {
      "text/plain": [
       "(714,\n",
       " ['cqh{m>1849:R,A}',\n",
       "  'zs{a>1909:ql,x<1340:kxd,m>3378:kt,kbt}',\n",
       "  'sp{a<665:R,s>1356:A,A}',\n",
       "  'kf{a>1202:rkv,x>2756:A,jnv}',\n",
       "  'kck{s<1337:pgl,R}',\n",
       "  'tnp{x<3631:mm,x<3771:qbx,a>1403:kjs,lxf}',\n",
       "  'vnj{a>2884:fm,a>2424:gg,mgv}',\n",
       "  'zxv{s<436:R,a>261:A,R}',\n",
       "  'pjx{s<1500:A,x>2599:R,vg}',\n",
       "  'pc{s<2563:A,qx}'])"
      ]
     },
     "execution_count": 4,
     "metadata": {},
     "output_type": "execute_result"
    }
   ],
   "source": [
    "data = puzzle.input_data.splitlines()\n",
    "len(data), data[:10]"
   ]
  },
  {
   "cell_type": "code",
   "execution_count": 142,
   "metadata": {},
   "outputs": [],
   "source": [
    "def parse_rules(rules):\n",
    "    res = {}\n",
    "    for line in rules.splitlines():\n",
    "        idx = line.find('{')\n",
    "        res[line[:idx]] = line[idx+1:-1].split(',')\n",
    "    return res\n",
    "\n",
    "def parse_parts(parts):\n",
    "    res = []\n",
    "    for line in parts.splitlines():\n",
    "        res.append(yaml.safe_load(line.replace('=', ': ')))\n",
    "    return res\n",
    "\n",
    "def eval_rule(rule, part):\n",
    "    if isinstance(rule, bool):\n",
    "        return rule\n",
    "    fmap = {\n",
    "        '>': op.gt,\n",
    "        '<': op.lt\n",
    "    }\n",
    "    if ':' not in rule:\n",
    "        return rule\n",
    "    rule, key = rule.split(':')\n",
    "    attr = rule[0]\n",
    "    func = fmap[rule[1]]\n",
    "    val = int(rule[2:])\n",
    "    if func(part[attr], val):\n",
    "        return key\n",
    "    \n",
    "\n",
    "def sort_part(part, key, rules):\n",
    "    # print(key)\n",
    "    for rule in rules[key]:\n",
    "        res = eval_rule(rule, part)\n",
    "        match res:\n",
    "            case None:\n",
    "                continue\n",
    "            case str():\n",
    "                return sort_part(part, res, rules)\n",
    "            case bool():\n",
    "                return res\n",
    "        "
   ]
  },
  {
   "cell_type": "code",
   "execution_count": 200,
   "metadata": {},
   "outputs": [],
   "source": [
    "# rules, parts = test_data.split('\\n\\n')\n",
    "rules, parts = puzzle.input_data.split('\\n\\n')\n",
    "\n",
    "\n",
    "parts = parse_parts(parts)\n",
    "rules = parse_rules(rules)\n",
    "rules['A'] = ['A']\n",
    "rules['R'] = ['R']\n"
   ]
  },
  {
   "cell_type": "code",
   "execution_count": 144,
   "metadata": {},
   "outputs": [
    {
     "data": {
      "text/plain": [
       "397134"
      ]
     },
     "execution_count": 144,
     "metadata": {},
     "output_type": "execute_result"
    }
   ],
   "source": [
    "res = sum([sum(part.values()) for part in parts if sort_part(part, 'in', rules)])\n",
    "res"
   ]
  },
  {
   "cell_type": "code",
   "execution_count": 92,
   "metadata": {},
   "outputs": [
    {
     "name": "stdout",
     "output_type": "stream",
     "text": [
      "\u001b[32mThat's the right answer!  You are one gold star closer to restoring snow operations. [Continue to Part Two]\u001b[0m\n"
     ]
    }
   ],
   "source": [
    "puzzle.answer_a = res"
   ]
  },
  {
   "cell_type": "code",
   "execution_count": 93,
   "metadata": {},
   "outputs": [],
   "source": [
    "# Part 2"
   ]
  },
  {
   "cell_type": "code",
   "execution_count": 267,
   "metadata": {},
   "outputs": [],
   "source": [
    "def eval_rule_b(rule, part):\n",
    "    if rule == 'A':\n",
    "        return 'A', part, None\n",
    "    elif rule == 'R':\n",
    "        return 'R', None, None\n",
    "    # if isinstance(rule, bool):\n",
    "    #     if rule:\n",
    "    #         return rule, part, None\n",
    "    #     else:\n",
    "    #         return rule, None, None\n",
    "    \n",
    "    fmap = {\n",
    "        '>': op.gt,\n",
    "        '<': op.lt\n",
    "    }\n",
    "    if ':' not in rule:\n",
    "        return rule, part, None\n",
    "    \n",
    "    rule, key = rule.split(':')\n",
    "    \n",
    "    attr = rule[0]\n",
    "    func = fmap[rule[1]]\n",
    "    val = int(rule[2:])\n",
    "    \n",
    "    part1 = part.copy()\n",
    "    part2 = part.copy()\n",
    "    \n",
    "    inr1, inr2 = func(part[attr], val)\n",
    "    # print(inr1, inr2)\n",
    "    part1[attr] = inr1\n",
    "    part2[attr] = inr2\n",
    "    \n",
    "    return key, part1, part2\n",
    "    \n",
    "\n",
    "def sort_part_b(part, key, rules):\n",
    "    # print(key)\n",
    "    ans = []\n",
    "    for rule in rules[key]:\n",
    "        if rule == 'A':\n",
    "            ans += [part]\n",
    "            break\n",
    "        elif rule == 'R':\n",
    "            break\n",
    "        nxt_rule, part1, part = eval_rule_b(rule, part)\n",
    "        ans += sort_part_b(part1, nxt_rule, rules)\n",
    "        if part == None:\n",
    "            break\n",
    "    return ans\n",
    "            \n",
    "class intrange(tuple):\n",
    "    def __lt__(self, other):\n",
    "        if self[1] < other:\n",
    "            return self, None\n",
    "        if self[0] >= other:\n",
    "            return None, self\n",
    "        return intrange([self[0], other-1]), intrange([other, self[1]])\n",
    "    def __gt__(self, other):\n",
    "        if self[0] > other:\n",
    "            return self, None\n",
    "        if self[1] <= other:\n",
    "            return None, self\n",
    "        return intrange([other+1, self[1]]), intrange([self[0], other])\n",
    "    def __add__(self, other):\n",
    "        if isinstance(other, intrange):\n",
    "            return (self[1]-self[0]+1) * (other[1]-other[0]+1)\n",
    "        elif isinstance(other, int):\n",
    "            return (self[1]-self[0]+1) * other\n",
    "    def __radd__(self, other):\n",
    "        if isinstance(other, intrange):\n",
    "            return (self[1]-self[0]+1) * (other[1]-other[0]+1)\n",
    "        elif isinstance(other, int):\n",
    "            if other == 0:\n",
    "                return (self[1]-self[0]+1)\n",
    "            return (self[1]-self[0]+1) * other"
   ]
  },
  {
   "cell_type": "code",
   "execution_count": 268,
   "metadata": {},
   "outputs": [],
   "source": [
    "# rules, parts = test_data.split('\\n\\n')\n",
    "rules, parts = puzzle.input_data.split('\\n\\n')\n",
    "\n",
    "\n",
    "parts = parse_parts(parts)\n",
    "rules = parse_rules(rules)\n",
    "rules['A'] = ['A']\n",
    "rules['R'] = ['R']"
   ]
  },
  {
   "cell_type": "code",
   "execution_count": 269,
   "metadata": {},
   "outputs": [],
   "source": [
    "part = {\n",
    "    'x': intrange([1, 4000]),\n",
    "    'm': intrange([1, 4000]),\n",
    "    'a': intrange([1, 4000]),\n",
    "    's': intrange([1, 4000]),\n",
    "}"
   ]
  },
  {
   "cell_type": "code",
   "execution_count": 272,
   "metadata": {},
   "outputs": [],
   "source": [
    "accepted = sort_part_b(part, 'in', rules)"
   ]
  },
  {
   "cell_type": "code",
   "execution_count": 273,
   "metadata": {},
   "outputs": [
    {
     "data": {
      "text/plain": [
       "127517902575337"
      ]
     },
     "execution_count": 273,
     "metadata": {},
     "output_type": "execute_result"
    }
   ],
   "source": [
    "res = sum([sum(p.values()) for p in accepted])\n",
    "res"
   ]
  },
  {
   "cell_type": "code",
   "execution_count": 264,
   "metadata": {},
   "outputs": [
    {
     "name": "stdout",
     "output_type": "stream",
     "text": [
      "\u001b[32mThat's the right answer!  You are one gold star closer to restoring snow operations.You have completed Day 19! You can [Shareon\n",
      "  Twitter\n",
      "Mastodon] this victory or [Return to Your Advent Calendar].\u001b[0m\n"
     ]
    }
   ],
   "source": [
    "puzzle.answer_b = res"
   ]
  },
  {
   "cell_type": "code",
   "execution_count": null,
   "metadata": {},
   "outputs": [],
   "source": []
  },
  {
   "cell_type": "code",
   "execution_count": null,
   "metadata": {},
   "outputs": [],
   "source": []
  }
 ],
 "metadata": {
  "kernelspec": {
   "display_name": "py310",
   "language": "python",
   "name": "py310"
  },
  "language_info": {
   "codemirror_mode": {
    "name": "ipython",
    "version": 3
   },
   "file_extension": ".py",
   "mimetype": "text/x-python",
   "name": "python",
   "nbconvert_exporter": "python",
   "pygments_lexer": "ipython3",
   "version": "3.10.2"
  }
 },
 "nbformat": 4,
 "nbformat_minor": 4
}
