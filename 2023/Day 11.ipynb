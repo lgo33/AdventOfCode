{
 "cells": [
  {
   "cell_type": "code",
   "execution_count": 1,
   "metadata": {},
   "outputs": [],
   "source": [
    "import os\n",
    "os.environ['AOC_SESSION'] = '53616c7465645f5ff17c6f54fd23191499c7017d6366538fcc35b61d0225390f78827c662577ddcc8d5d64ddf58c68c56d6ad68e5721930a5b7a5803b0bee173'"
   ]
  },
  {
   "cell_type": "code",
   "execution_count": 17,
   "metadata": {},
   "outputs": [],
   "source": [
    "import aocd\n",
    "from aocd.models import Puzzle\n",
    "day = 11\n",
    "year = 2023\n",
    "puzzle = Puzzle(year=year, day=day)\n",
    "# data = aocd.get_data(day=day, year=year)\n",
    "with open('./data/input_{:02d}'.format(day), 'w') as fh:\n",
    "    fh.write(puzzle.input_data)"
   ]
  },
  {
   "cell_type": "code",
   "execution_count": 18,
   "metadata": {},
   "outputs": [],
   "source": [
    "test_data = \"\"\"...#......\n",
    ".......#..\n",
    "#.........\n",
    "..........\n",
    "......#...\n",
    ".#........\n",
    ".........#\n",
    "..........\n",
    ".......#..\n",
    "#...#.....\"\"\"\n",
    "data_test = test_data.splitlines()"
   ]
  },
  {
   "cell_type": "code",
   "execution_count": 19,
   "metadata": {},
   "outputs": [
    {
     "data": {
      "text/plain": [
       "['...#......',\n",
       " '.......#..',\n",
       " '#.........',\n",
       " '..........',\n",
       " '......#...',\n",
       " '.#........',\n",
       " '.........#',\n",
       " '..........',\n",
       " '.......#..',\n",
       " '#...#.....']"
      ]
     },
     "execution_count": 19,
     "metadata": {},
     "output_type": "execute_result"
    }
   ],
   "source": [
    "data_test"
   ]
  },
  {
   "cell_type": "code",
   "execution_count": 20,
   "metadata": {},
   "outputs": [
    {
     "data": {
      "text/plain": [
       "(140,\n",
       " ['.......#..........................................................................#.........................................................',\n",
       "  '....................#.........#............#.........................#.......................#..............................................',\n",
       "  '.#.......................................................#.................#.........................................................#......',\n",
       "  '..............#.................................#................#....................................................#.....................',\n",
       "  '..................................#......................................................................#..................................',\n",
       "  '..................#..................................#.............................#.......#...............................#................',\n",
       "  '.......#...............................#...................#................................................................................',\n",
       "  '........................................................................#....................................#........................#.....',\n",
       "  '..#...........................................................................................................................#.............',\n",
       "  '............#............#..............................................................................#...................................'])"
      ]
     },
     "execution_count": 20,
     "metadata": {},
     "output_type": "execute_result"
    }
   ],
   "source": [
    "data = puzzle.input_data.splitlines()\n",
    "len(data), data[:10]"
   ]
  },
  {
   "cell_type": "code",
   "execution_count": 21,
   "metadata": {},
   "outputs": [],
   "source": [
    "def parse(data):\n",
    "    space = {}\n",
    "    galaxies = []\n",
    "    empty_rows = []\n",
    "#     pos = complex(0)\n",
    "    x = y = 0\n",
    "    for line in data:\n",
    "        x = 0\n",
    "        empty = True\n",
    "        for c in line:\n",
    "            if c == '#':\n",
    "                galaxies.append((x, y))\n",
    "                empty = False\n",
    "            x += 1        \n",
    "        if empty:\n",
    "            empty_rows.append(y)\n",
    "        y += 1\n",
    "    return galaxies, empty_rows\n",
    "\n",
    "def get_empty_columns(galaxies):\n",
    "    res = []\n",
    "    xs = [x for (x, y) in galaxies]\n",
    "    sxs = set(xs)\n",
    "    nc = max(xs)\n",
    "    for x in range(nc):\n",
    "        if x not in sxs:\n",
    "            res.append(x)\n",
    "    return res\n",
    "\n",
    "def expand(galaxies, empty_rows, empty_cols, factor=1):\n",
    "    er = sorted(empty_rows)\n",
    "    ec = sorted(empty_cols)\n",
    "#     print(er, ec)\n",
    "    new_galaxies = []\n",
    "    for gal in galaxies:\n",
    "        nx = sum([1 for x in ec if x < gal[0]])\n",
    "        ny = sum([1 for y in er if y < gal[1]])\n",
    "        new_galaxies.append((gal[0]+(nx*factor), gal[1]+(ny*factor)))\n",
    "    return new_galaxies\n",
    "\n",
    "def dist(g1, g2):\n",
    "    return abs(g1[0] - g2[0]) + abs(g1[1] - g2[1])\n",
    "\n",
    "def sum_pair_dist(galaxies):\n",
    "    sdist = 0\n",
    "    N = len(galaxies)\n",
    "    for i in range(N):\n",
    "        for j in range(i+1, N):\n",
    "            sdist += dist(galaxies[i], galaxies[j])\n",
    "    return sdist"
   ]
  },
  {
   "cell_type": "code",
   "execution_count": 22,
   "metadata": {},
   "outputs": [],
   "source": [
    "# galaxies, empty_rows = parse(data_test)\n",
    "galaxies, empty_rows = parse(data)\n",
    "# print(empty_rows)\n",
    "empty_cols = get_empty_columns(galaxies)\n",
    "# print(empty_cols)\n",
    "# print(galaxies)\n",
    "galaxies = expand(galaxies, empty_rows, empty_cols)"
   ]
  },
  {
   "cell_type": "code",
   "execution_count": 23,
   "metadata": {},
   "outputs": [
    {
     "data": {
      "text/plain": [
       "9609130"
      ]
     },
     "execution_count": 23,
     "metadata": {},
     "output_type": "execute_result"
    }
   ],
   "source": [
    "res = sum_pair_dist(galaxies)\n",
    "res"
   ]
  },
  {
   "cell_type": "code",
   "execution_count": 24,
   "metadata": {},
   "outputs": [
    {
     "data": {
      "text/plain": [
       "429"
      ]
     },
     "execution_count": 24,
     "metadata": {},
     "output_type": "execute_result"
    }
   ],
   "source": [
    "galaxies, er = parse(data)\n",
    "len(galaxies)"
   ]
  },
  {
   "cell_type": "code",
   "execution_count": 25,
   "metadata": {},
   "outputs": [],
   "source": [
    "puzzle.answer_a = res"
   ]
  },
  {
   "cell_type": "code",
   "execution_count": 72,
   "metadata": {},
   "outputs": [],
   "source": [
    "# Part 2"
   ]
  },
  {
   "cell_type": "code",
   "execution_count": 84,
   "metadata": {},
   "outputs": [],
   "source": [
    "# galaxies, empty_rows = parse(data_test)\n",
    "galaxies, empty_rows = parse(data)\n",
    "empty_cols = get_empty_columns(galaxies)\n",
    "galaxies = expand(galaxies, empty_rows, empty_cols, factor=999999)"
   ]
  },
  {
   "cell_type": "code",
   "execution_count": 85,
   "metadata": {},
   "outputs": [
    {
     "data": {
      "text/plain": [
       "702152204842"
      ]
     },
     "execution_count": 85,
     "metadata": {},
     "output_type": "execute_result"
    }
   ],
   "source": [
    "res = sum_pair_dist(galaxies)\n",
    "res"
   ]
  },
  {
   "cell_type": "code",
   "execution_count": null,
   "metadata": {},
   "outputs": [],
   "source": [
    "puzzle.answer_b = res"
   ]
  }
 ],
 "metadata": {
  "kernelspec": {
   "display_name": "Python 3 (ipykernel)",
   "language": "python",
   "name": "python3"
  },
  "language_info": {
   "codemirror_mode": {
    "name": "ipython",
    "version": 3
   },
   "file_extension": ".py",
   "mimetype": "text/x-python",
   "name": "python",
   "nbconvert_exporter": "python",
   "pygments_lexer": "ipython3",
   "version": "3.8.13"
  }
 },
 "nbformat": 4,
 "nbformat_minor": 4
}
