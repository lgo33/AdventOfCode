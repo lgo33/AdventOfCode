{
 "cells": [
  {
   "cell_type": "code",
   "execution_count": 1,
   "metadata": {},
   "outputs": [],
   "source": [
    "import os\n",
    "os.environ['AOC_SESSION'] = '53616c7465645f5ff17c6f54fd23191499c7017d6366538fcc35b61d0225390f78827c662577ddcc8d5d64ddf58c68c56d6ad68e5721930a5b7a5803b0bee173'"
   ]
  },
  {
   "cell_type": "code",
   "execution_count": 2,
   "metadata": {},
   "outputs": [],
   "source": [
    "import aocd\n",
    "from aocd.models import Puzzle\n",
    "day = 9\n",
    "year = 2023\n",
    "puzzle = Puzzle(year=year, day=day)\n",
    "# data = aocd.get_data(day=day, year=year)\n",
    "with open('./data/input_{:02d}'.format(day), 'w') as fh:\n",
    "    fh.write(puzzle.input_data)"
   ]
  },
  {
   "cell_type": "code",
   "execution_count": 5,
   "metadata": {},
   "outputs": [],
   "source": [
    "import numpy as np\n",
    "from functools import reduce"
   ]
  },
  {
   "cell_type": "code",
   "execution_count": 3,
   "metadata": {},
   "outputs": [],
   "source": [
    "test_data = \"\"\"0 3 6 9 12 15\n",
    "1 3 6 10 15 21\n",
    "10 13 16 21 30 45\"\"\"\n",
    "data_test = test_data.splitlines()"
   ]
  },
  {
   "cell_type": "code",
   "execution_count": 4,
   "metadata": {},
   "outputs": [
    {
     "data": {
      "text/plain": [
       "(200,\n",
       " ['13 23 46 97 206 436 919 1924 3971 8016 15765 30243 56875 105604 195153 361805 677725 1289089 2494076 4898137 9713336',\n",
       "  '-7 6 44 130 309 672 1404 2864 5712 11113 21082 39112 71386 129156 233312 422773 769075 1400300 2538072 4551386 8029995',\n",
       "  '-4 10 38 80 136 206 290 388 500 626 766 920 1088 1270 1466 1676 1900 2138 2390 2656 2936',\n",
       "  '6 22 45 75 118 191 327 580 1030 1788 3001 4857 7590 11485 16883 24186 33862 46450 62565 82903 108246',\n",
       "  '6 9 3 -13 -36 -44 46 466 1757 5034 12396 27528 56549 109167 200209 351601 594880 974327 1550817 2406489 3650346',\n",
       "  '18 32 43 49 49 49 78 219 663 1804 4416 9995 21416 44153 88445 172969 330808 618784 1131569 2022397 3532683',\n",
       "  '24 43 71 108 154 209 273 346 428 519 619 728 846 973 1109 1254 1408 1571 1743 1924 2114',\n",
       "  '6 15 29 51 84 131 195 279 386 519 681 875 1104 1371 1679 2031 2430 2879 3381 3939 4556',\n",
       "  '1 1 -4 -16 -25 8 184 735 2161 5488 12747 27876 58445 118951 236991 464473 897257 1708331 3201934 5899064 10668691',\n",
       "  '1 9 26 62 136 276 514 870 1313 1689 1629 525 -2148 -5472 -3189 25675 137017 461857 1281452 3160632 7174504'])"
      ]
     },
     "execution_count": 4,
     "metadata": {},
     "output_type": "execute_result"
    }
   ],
   "source": [
    "data = puzzle.input_data.splitlines()\n",
    "len(data), data[:10]"
   ]
  },
  {
   "cell_type": "code",
   "execution_count": 71,
   "metadata": {},
   "outputs": [],
   "source": [
    "inp = []\n",
    "for line in data:\n",
    "# for line in data_test:\n",
    "    inp.append([int(x) for x in line.split(' ')])"
   ]
  },
  {
   "cell_type": "code",
   "execution_count": 72,
   "metadata": {},
   "outputs": [],
   "source": [
    "def extrapolate(data):\n",
    "    orig = data.copy()\n",
    "    check = sum(data)\n",
    "    popped = []\n",
    "    while check:\n",
    "        diff = np.diff(data)\n",
    "        # print(diff)\n",
    "        popped.append(data[-1])\n",
    "        check = not (diff == 0).all()\n",
    "        data = diff\n",
    "    # if len(popped) == len(orig) - 2:\n",
    "    #     print(orig)\n",
    "    # print(popped)\n",
    "    return sum(popped)"
   ]
  },
  {
   "cell_type": "code",
   "execution_count": 73,
   "metadata": {},
   "outputs": [
    {
     "data": {
      "text/plain": [
       "2175229206"
      ]
     },
     "execution_count": 73,
     "metadata": {},
     "output_type": "execute_result"
    }
   ],
   "source": [
    "res = int(sum([extrapolate(i) for i in inp ]))\n",
    "res"
   ]
  },
  {
   "cell_type": "code",
   "execution_count": 74,
   "metadata": {},
   "outputs": [
    {
     "name": "stdout",
     "output_type": "stream",
     "text": [
      "\u001b[32mThat's the right answer!  You are one gold star closer to restoring snow operations. [Continue to Part Two]\u001b[0m\n"
     ]
    }
   ],
   "source": [
    "puzzle.answer_a = res"
   ]
  },
  {
   "cell_type": "code",
   "execution_count": 75,
   "metadata": {},
   "outputs": [],
   "source": [
    "# Part 2"
   ]
  },
  {
   "cell_type": "code",
   "execution_count": 111,
   "metadata": {},
   "outputs": [],
   "source": [
    "def extrapolate_b(data):\n",
    "    orig = data.copy()\n",
    "    check = sum(data)\n",
    "    popped = []\n",
    "    while check:\n",
    "        diff = np.diff(data)\n",
    "        # print(diff)\n",
    "        popped.append(data[0])\n",
    "        check = not (diff == 0).all()\n",
    "        data = diff\n",
    "    # if len(popped) == len(orig) - 2:\n",
    "    #     print(orig)\n",
    "    # print(popped)\n",
    "    return reduce(lambda a, b: b-a, popped[::-1])"
   ]
  },
  {
   "cell_type": "code",
   "execution_count": 112,
   "metadata": {},
   "outputs": [],
   "source": [
    "inp = []\n",
    "for line in data:\n",
    "# for line in data_test:\n",
    "    inp.append([int(x) for x in line.split(' ')])"
   ]
  },
  {
   "cell_type": "code",
   "execution_count": 113,
   "metadata": {},
   "outputs": [
    {
     "data": {
      "text/plain": [
       "942"
      ]
     },
     "execution_count": 113,
     "metadata": {},
     "output_type": "execute_result"
    }
   ],
   "source": [
    "res = int(sum([extrapolate_b(i) for i in inp ]))\n",
    "res"
   ]
  },
  {
   "cell_type": "code",
   "execution_count": 114,
   "metadata": {},
   "outputs": [
    {
     "name": "stdout",
     "output_type": "stream",
     "text": [
      "\u001b[32mThat's the right answer!  You are one gold star closer to restoring snow operations.You have completed Day 9! You can [Shareon\n",
      "  Twitter\n",
      "Mastodon] this victory or [Return to Your Advent Calendar].\u001b[0m\n"
     ]
    }
   ],
   "source": [
    "puzzle.answer_b = res"
   ]
  }
 ],
 "metadata": {
  "kernelspec": {
   "display_name": "py310",
   "language": "python",
   "name": "py310"
  },
  "language_info": {
   "codemirror_mode": {
    "name": "ipython",
    "version": 3
   },
   "file_extension": ".py",
   "mimetype": "text/x-python",
   "name": "python",
   "nbconvert_exporter": "python",
   "pygments_lexer": "ipython3",
   "version": "3.10.2"
  }
 },
 "nbformat": 4,
 "nbformat_minor": 4
}
