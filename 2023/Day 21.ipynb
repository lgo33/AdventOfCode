{
 "cells": [
  {
   "cell_type": "code",
   "execution_count": 1,
   "metadata": {},
   "outputs": [],
   "source": [
    "import os\n",
    "os.environ['AOC_SESSION'] = '53616c7465645f5ff17c6f54fd23191499c7017d6366538fcc35b61d0225390f78827c662577ddcc8d5d64ddf58c68c56d6ad68e5721930a5b7a5803b0bee173'"
   ]
  },
  {
   "cell_type": "code",
   "execution_count": 2,
   "metadata": {},
   "outputs": [],
   "source": [
    "import aocd\n",
    "from aocd.models import Puzzle\n",
    "day = 21\n",
    "year = 2023\n",
    "puzzle = Puzzle(year=year, day=day)\n",
    "# data = aocd.get_data(day=day, year=year)\n",
    "with open('./data/input_{:02d}'.format(day), 'w') as fh:\n",
    "    fh.write(puzzle.input_data)"
   ]
  },
  {
   "cell_type": "code",
   "execution_count": 379,
   "metadata": {},
   "outputs": [],
   "source": [
    "import matplotlib.pyplot as plt\n",
    "import math\n",
    "import numpy as np"
   ]
  },
  {
   "cell_type": "code",
   "execution_count": 5,
   "metadata": {},
   "outputs": [],
   "source": [
    "test_data = \"\"\"...........\n",
    ".....###.#.\n",
    ".###.##..#.\n",
    "..#.#...#..\n",
    "....#.#....\n",
    ".##..S####.\n",
    ".##..#...#.\n",
    ".......##..\n",
    ".##.#.####.\n",
    ".##..##.##.\n",
    "...........\"\"\"\n",
    "data_test = test_data.splitlines()"
   ]
  },
  {
   "cell_type": "code",
   "execution_count": 6,
   "metadata": {},
   "outputs": [
    {
     "data": {
      "text/plain": [
       "(131,\n",
       " ['...................................................................................................................................',\n",
       "  '.......#.......#...#....#.........##.#.#.............#....#.#.............#.#...............#.....#......#.#.............#.........',\n",
       "  '....#...........#..##......#.#.....................#....................#.....#............#..#......#...............#.#.........#.',\n",
       "  '......................##......#...###.#.#.....#.....#...................#......#.......#...#.......#...............#.............#.',\n",
       "  '.......#.#.#.....##..##..................#.#...........#..........................#......#..##.#.......#..........#..#.....#..#..#.',\n",
       "  '...#..#.......#.....#..#...........#..#.....#.......##......................#............#..........#.#.#.#..#......##.#...........',\n",
       "  '..#........#..#..........#...#.......#..#.#..#.##...#.............#..........##.#....#.......#....#......#....#.#......#....#....#.',\n",
       "  '..#......#.#...###..#....#.......#...............##...#........#.............#........#.#..####...............#.......##.........#.',\n",
       "  '...#.....#..........#..#....#....#..#.....##....#...##........#....#.........#....#.#.##....#.#...#..#........#..##......#.........',\n",
       "  '..............#.#.#....#..#...##....#..........#..............#...#...........#............#..........#.#........#..###........#...'])"
      ]
     },
     "execution_count": 6,
     "metadata": {},
     "output_type": "execute_result"
    }
   ],
   "source": [
    "data = puzzle.input_data.splitlines()\n",
    "len(data), data[:10]"
   ]
  },
  {
   "cell_type": "code",
   "execution_count": 27,
   "metadata": {},
   "outputs": [],
   "source": [
    "def parse(data):\n",
    "    pos = complex(0)\n",
    "    garden = {}\n",
    "    start = 0\n",
    "    X = Y = 0\n",
    "    for line in data:\n",
    "        for c in line:\n",
    "            if c == 'S': \n",
    "                start = pos\n",
    "                garden[pos] = '.'\n",
    "            else:\n",
    "                garden[pos] = c\n",
    "            pos += 1\n",
    "        X = int(pos.real)\n",
    "        pos = complex(0, pos.imag+1)\n",
    "    Y = int(pos.imag)\n",
    "    return start, garden, X, Y\n",
    "\n",
    "def walk(start, garden, n=64):\n",
    "    pos = set([start])\n",
    "    for i in range(n):\n",
    "        new_pos = set()\n",
    "        for p in pos:\n",
    "            for nbr in [-1, +1, +1j, -1j]:\n",
    "                np = p + nbr\n",
    "                if garden.get(np, 0) == '.':\n",
    "                    new_pos.add(np)\n",
    "        pos = new_pos\n",
    "    return pos"
   ]
  },
  {
   "cell_type": "code",
   "execution_count": 94,
   "metadata": {},
   "outputs": [],
   "source": []
  },
  {
   "cell_type": "code",
   "execution_count": 291,
   "metadata": {},
   "outputs": [
    {
     "data": {
      "text/plain": [
       "(65+65j)"
      ]
     },
     "execution_count": 291,
     "metadata": {},
     "output_type": "execute_result"
    }
   ],
   "source": [
    "start, garden, X, Y = parse(data_test)\n",
    "start, garden, X, Y = parse(data)\n",
    "start"
   ]
  },
  {
   "cell_type": "code",
   "execution_count": 292,
   "metadata": {},
   "outputs": [],
   "source": [
    "f = sum([x=='.' for x in garden.values()]) / (X*Y)"
   ]
  },
  {
   "cell_type": "code",
   "execution_count": 311,
   "metadata": {},
   "outputs": [],
   "source": [
    "pos = walk(start, garden, n=64)"
   ]
  },
  {
   "cell_type": "code",
   "execution_count": 313,
   "metadata": {},
   "outputs": [
    {
     "data": {
      "text/plain": [
       "3562"
      ]
     },
     "execution_count": 313,
     "metadata": {},
     "output_type": "execute_result"
    }
   ],
   "source": [
    "len(pos)"
   ]
  },
  {
   "cell_type": "code",
   "execution_count": 22,
   "metadata": {},
   "outputs": [
    {
     "data": {
      "text/plain": [
       "3562"
      ]
     },
     "execution_count": 22,
     "metadata": {},
     "output_type": "execute_result"
    }
   ],
   "source": [
    "len(pos)"
   ]
  },
  {
   "cell_type": "code",
   "execution_count": 23,
   "metadata": {},
   "outputs": [
    {
     "name": "stdout",
     "output_type": "stream",
     "text": [
      "\u001b[32mThat's the right answer!  You are one gold star closer to restoring snow operations. [Continue to Part Two]\u001b[0m\n"
     ]
    }
   ],
   "source": [
    "puzzle.answer_a = len(pos)"
   ]
  },
  {
   "cell_type": "code",
   "execution_count": 451,
   "metadata": {},
   "outputs": [],
   "source": [
    "def walk_b(start, garden, X, Y, n=64):\n",
    "    res = [1]\n",
    "    pos = set([start])\n",
    "    posA = set()\n",
    "    posB = set()\n",
    "    state = True\n",
    "    for i in range(n):\n",
    "        new_pos = set()\n",
    "        for p in pos:\n",
    "            for nbr in [-1, +1, +1j, -1j]:\n",
    "                np = p + nbr\n",
    "                if garden.get(complex(np.real % X, np.imag % Y), 0) == '.':\n",
    "                    new_pos.add(np)\n",
    "        if state:\n",
    "            new_pos = new_pos - posA\n",
    "            posA |= new_pos\n",
    "            res.append(len(posA))\n",
    "\n",
    "            # print('A ', new_pos, posA)\n",
    "        else:\n",
    "            new_pos = new_pos - posB\n",
    "            posB |= new_pos\n",
    "            res.append(len(posB))\n",
    "            # print('B ', new_pos, posB)\n",
    "        state = not state\n",
    "        pos = new_pos #- drop_out\n",
    "        # res.append(len(pos))\n",
    "        # print(new_pos)\n",
    "    return res"
   ]
  },
  {
   "cell_type": "code",
   "execution_count": 370,
   "metadata": {},
   "outputs": [
    {
     "data": {
      "text/plain": [
       "((65+65j), 131, 131)"
      ]
     },
     "execution_count": 370,
     "metadata": {},
     "output_type": "execute_result"
    }
   ],
   "source": [
    "start, garden, X, Y = parse(data_test)\n",
    "start, garden, X, Y = parse(data)\n",
    "start, X, Y"
   ]
  },
  {
   "cell_type": "code",
   "execution_count": 371,
   "metadata": {},
   "outputs": [
    {
     "data": {
      "text/plain": [
       "(7226, 7257)"
      ]
     },
     "execution_count": 371,
     "metadata": {},
     "output_type": "execute_result"
    }
   ],
   "source": [
    "full_odd = len(walk(start, garden, n=131))\n",
    "full_even = len(walk(start, garden, n=132))\n",
    "full_odd, full_even"
   ]
  },
  {
   "cell_type": "code",
   "execution_count": 372,
   "metadata": {},
   "outputs": [],
   "source": [
    "nsteps = 26501365\n",
    "nfull = (nsteps - 65) // 131"
   ]
  },
  {
   "cell_type": "code",
   "execution_count": 374,
   "metadata": {},
   "outputs": [
    {
     "data": {
      "text/plain": [
       "202300"
      ]
     },
     "execution_count": 374,
     "metadata": {},
     "output_type": "execute_result"
    }
   ],
   "source": [
    "nfull"
   ]
  },
  {
   "cell_type": "code",
   "execution_count": null,
   "metadata": {},
   "outputs": [],
   "source": [
    "202299 "
   ]
  },
  {
   "cell_type": "code",
   "execution_count": 375,
   "metadata": {},
   "outputs": [
    {
     "data": {
      "text/plain": [
       "1113"
      ]
     },
     "execution_count": 375,
     "metadata": {},
     "output_type": "execute_result"
    }
   ],
   "source": [
    "65 + 8 * 131"
   ]
  },
  {
   "cell_type": "code",
   "execution_count": 452,
   "metadata": {},
   "outputs": [],
   "source": [
    "res = walk_b(start, garden, X, Y, n=65 + 8 * 131+1)"
   ]
  },
  {
   "cell_type": "code",
   "execution_count": null,
   "metadata": {},
   "outputs": [],
   "source": [
    "# tiles = a*x^2 + b*x + c\n",
    "\n",
    "a*N^2 + b*N + c = res[65+131*2*N]"
   ]
  },
  {
   "cell_type": "code",
   "execution_count": 462,
   "metadata": {},
   "outputs": [
    {
     "data": {
      "text/plain": [
       "array([57932., 29206.,  3682.])"
      ]
     },
     "execution_count": 462,
     "metadata": {},
     "output_type": "execute_result"
    }
   ],
   "source": [
    "a = ([4, 2, 1], [9, 3, 1], [16, 4, 1])\n",
    "b = [res[65+131*2*x] for x in range(2, 5)]\n",
    "coeff = np.linalg.solve(a, b)\n",
    "coeff"
   ]
  },
  {
   "cell_type": "code",
   "execution_count": 463,
   "metadata": {},
   "outputs": [
    {
     "data": {
      "text/plain": [
       "[293822, 612688, 1047418]"
      ]
     },
     "execution_count": 463,
     "metadata": {},
     "output_type": "execute_result"
    }
   ],
   "source": [
    "b"
   ]
  },
  {
   "cell_type": "code",
   "execution_count": 464,
   "metadata": {},
   "outputs": [],
   "source": [
    "def solve(x, coeff):\n",
    "    return int(coeff[0])*x**2+ int(coeff[1])*x + int(coeff[2])"
   ]
  },
  {
   "cell_type": "code",
   "execution_count": 466,
   "metadata": {},
   "outputs": [
    {
     "data": {
      "text/plain": [
       "[90820, 293822, 612688, 1047418]"
      ]
     },
     "execution_count": 466,
     "metadata": {},
     "output_type": "execute_result"
    }
   ],
   "source": [
    "[solve(n, coeff) for n in range(1, 5)]"
   ]
  },
  {
   "cell_type": "code",
   "execution_count": 468,
   "metadata": {},
   "outputs": [
    {
     "data": {
      "text/plain": [
       "592723929260582"
      ]
     },
     "execution_count": 468,
     "metadata": {},
     "output_type": "execute_result"
    }
   ],
   "source": [
    "# N = nfull // 2\n",
    "ans = solve(nfull//2, coeff)\n",
    "ans"
   ]
  },
  {
   "cell_type": "code",
   "execution_count": 469,
   "metadata": {},
   "outputs": [
    {
     "name": "stdout",
     "output_type": "stream",
     "text": [
      "\u001b[32mThat's the right answer!  You are one gold star closer to restoring snow operations.You have completed Day 21! You can [Shareon\n",
      "  Twitter\n",
      "Mastodon] this victory or [Return to Your Advent Calendar].\u001b[0m\n"
     ]
    }
   ],
   "source": [
    "puzzle.answer_b = ans"
   ]
  },
  {
   "cell_type": "code",
   "execution_count": 470,
   "metadata": {},
   "outputs": [
    {
     "data": {
      "text/plain": [
       "[<matplotlib.lines.Line2D at 0xfffec1fe5db0>]"
      ]
     },
     "execution_count": 470,
     "metadata": {},
     "output_type": "execute_result"
    },
    {
     "data": {
      "image/png": "[encoded data removed]",
      "text/plain": [
       "<Figure size 640x480 with 1 Axes>"
      ]
     },
     "metadata": {},
     "output_type": "display_data"
    }
   ],
   "source": [
    "plt.plot(res, color='b')\n",
    "x = range(len(res))\n",
    "y = [solve((x-65)/(131*2), coeff) for x in range(len(res))]\n",
    "plt.plot(y, color='r')"
   ]
  }
 ],
 "metadata": {
  "kernelspec": {
   "display_name": "py310",
   "language": "python",
   "name": "py310"
  },
  "language_info": {
   "codemirror_mode": {
    "name": "ipython",
    "version": 3
   },
   "file_extension": ".py",
   "mimetype": "text/x-python",
   "name": "python",
   "nbconvert_exporter": "python",
   "pygments_lexer": "ipython3",
   "version": "3.10.2"
  }
 },
 "nbformat": 4,
 "nbformat_minor": 4
}
