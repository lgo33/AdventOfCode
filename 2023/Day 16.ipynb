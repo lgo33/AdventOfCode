{
 "cells": [
  {
   "cell_type": "code",
   "execution_count": 1,
   "metadata": {},
   "outputs": [],
   "source": [
    "import os\n",
    "\n",
    "os.environ['AOC_SESSION'] = '53616c7465645f5ff17c6f54fd23191499c7017d6366538fcc35b61d0225390f78827c662577ddcc8d5d64ddf58c68c56d6ad68e5721930a5b7a5803b0bee173'"
   ]
  },
  {
   "cell_type": "code",
   "execution_count": 2,
   "metadata": {},
   "outputs": [],
   "source": [
    "import aocd\n",
    "from aocd.models import Puzzle\n",
    "day = 16\n",
    "year = 2023\n",
    "puzzle = Puzzle(year=year, day=day)\n",
    "# data = aocd.get_data(day=day, year=year)\n",
    "with open('./data/input_{:02d}'.format(day), 'w') as fh:\n",
    "    fh.write(puzzle.input_data)"
   ]
  },
  {
   "cell_type": "code",
   "execution_count": 15,
   "metadata": {},
   "outputs": [],
   "source": [
    "test_data = r\"\"\".|...\\....\n",
    "|.-.\\.....\n",
    ".....|-...\n",
    "........|.\n",
    "..........\n",
    ".........\\\n",
    "..../.\\\\..\n",
    ".-.-/..|..\n",
    ".|....-|.\\\n",
    "..//.|....\n",
    "\"\"\"\n",
    "data_test = test_data.splitlines()"
   ]
  },
  {
   "cell_type": "code",
   "execution_count": 8,
   "metadata": {},
   "outputs": [
    {
     "data": {
      "text/plain": [
       "(110,\n",
       " ['\\\\....\\\\..-...........|..\\\\........|.........|./.\\\\..............\\\\................/.....-............./...........',\n",
       "  '......-........../.........--........................|..-../.............................-\\\\.....|.............',\n",
       "  '....-.-........................................................../..........................|...|......\\\\|.....',\n",
       "  '....\\\\.-......\\\\|...............................-|........\\\\.............................../......\\\\..............',\n",
       "  '..|.|.|...-..-...-..................--........../.......................|.\\\\-.../....................-....\\\\....',\n",
       "  '....\\\\...................|..............|..../../.......................\\\\......................................',\n",
       "  '...............\\\\.|..............\\\\........\\\\.\\\\.-...--..-...\\\\........................|.|.........................',\n",
       "  '..........-........\\\\............-....|...|.............\\\\.\\\\...............\\\\./............./....................',\n",
       "  '...\\\\.....\\\\.\\\\...............||...........................................-...............-...../...|...........',\n",
       "  '......./......./....-..../...-........./././\\\\..||.......-.|.......\\\\.........\\\\|................./........-.....'])"
      ]
     },
     "execution_count": 8,
     "metadata": {},
     "output_type": "execute_result"
    }
   ],
   "source": [
    "data = puzzle.input_data.splitlines()\n",
    "len(data), data[:10]"
   ]
  },
  {
   "cell_type": "code",
   "execution_count": 118,
   "metadata": {},
   "outputs": [],
   "source": [
    "slash = r\"\\ \".strip()\n",
    "\n",
    "def parse(data):\n",
    "    pos = complex(0)\n",
    "    elements = {}\n",
    "    maxX = maxY = 0\n",
    "    for line in data:\n",
    "        for c in line:\n",
    "            if c != '.':\n",
    "                elements[pos] = c\n",
    "            pos += 1\n",
    "        maxX = int(pos.real)\n",
    "        pos -= pos.real\n",
    "        pos -= 1j\n",
    "    maxY = int(-pos.imag)\n",
    "    return elements, maxX, maxY\n",
    "\n",
    "def turn_right(direction):\n",
    "    return direction * (-1j)\n",
    "\n",
    "def turn_left(direction):\n",
    "    return direction * 1j\n",
    "\n",
    "def rotate(direction, element):\n",
    "    vertical = False\n",
    "    left = direction * 1j\n",
    "    right = direction * (-1j)\n",
    "    if direction.imag:\n",
    "        vertical = True\n",
    "    if element == slash:\n",
    "        if vertical:\n",
    "            return [left]\n",
    "        return [right]\n",
    "    elif element == '/':\n",
    "        if vertical:\n",
    "            return [right]\n",
    "        return [left]\n",
    "    elif element == '-':\n",
    "        if vertical:\n",
    "            return [left, right]\n",
    "        return [direction]\n",
    "    elif element == '|':\n",
    "        if vertical:\n",
    "            return [direction]\n",
    "        return [left, right]\n",
    "    raise ValueError(element)\n",
    "\n",
    "def cast_ray(elements, maxX, maxY, startpos=complex(0), startdir=1):\n",
    "    def check_pos(pos):\n",
    "        if (pos.real < 0) or (pos.real >= maxX) or (pos.imag <= -maxY) or (pos.imag > 0):\n",
    "            return False\n",
    "        return True\n",
    "            \n",
    "    pos = startpos\n",
    "    seen = set()\n",
    "    stack = [(pos, startdir )]\n",
    "    while len(stack):\n",
    "        pos, d = stack.pop()\n",
    "        if (pos, d) in seen:\n",
    "            continue\n",
    "        seen.add((pos, d))\n",
    "        if pos in elements:\n",
    "            for nd in rotate(d, elements[pos]):\n",
    "                np = pos + nd\n",
    "                if check_pos(np):\n",
    "                    stack.append((np, nd))\n",
    "        else:\n",
    "            np = pos + d\n",
    "            # print(np)\n",
    "            if check_pos(np):\n",
    "                stack.append((np, d))\n",
    "        # print(stack)\n",
    "        # if len(stack) > 5:\n",
    "        #     break\n",
    "    return seen\n",
    "\n",
    "def get_energized(elements, maxX, maxY, startpos = complex(0), startdir=1):\n",
    "    seen = cast_ray(elements, maxX, maxY, startpos, startdir)\n",
    "    tiles = set([p for p,d in seen])\n",
    "    return tiles"
   ]
  },
  {
   "cell_type": "code",
   "execution_count": 128,
   "metadata": {},
   "outputs": [],
   "source": [
    "# elements, maxX, maxY = parse(data_test)\n",
    "elements, maxX, maxY = parse(data)"
   ]
  },
  {
   "cell_type": "code",
   "execution_count": 120,
   "metadata": {},
   "outputs": [],
   "source": [
    "tiles = get_energized(elements, maxX, maxY)"
   ]
  },
  {
   "cell_type": "code",
   "execution_count": 121,
   "metadata": {},
   "outputs": [
    {
     "data": {
      "text/plain": [
       "8112"
      ]
     },
     "execution_count": 121,
     "metadata": {},
     "output_type": "execute_result"
    }
   ],
   "source": [
    "len(tiles)"
   ]
  },
  {
   "cell_type": "code",
   "execution_count": 99,
   "metadata": {},
   "outputs": [
    {
     "name": "stdout",
     "output_type": "stream",
     "text": [
      "\u001b[32mThat's the right answer!  You are one gold star closer to restoring snow operations. [Continue to Part Two]\u001b[0m\n"
     ]
    }
   ],
   "source": [
    "puzzle.answer_a = len(tiles)"
   ]
  },
  {
   "cell_type": "code",
   "execution_count": 109,
   "metadata": {},
   "outputs": [],
   "source": [
    "# Part 2"
   ]
  },
  {
   "cell_type": "code",
   "execution_count": 123,
   "metadata": {},
   "outputs": [
    {
     "data": {
      "text/plain": [
       "(10, 10)"
      ]
     },
     "execution_count": 123,
     "metadata": {},
     "output_type": "execute_result"
    }
   ],
   "source": [
    "maxX, maxY"
   ]
  },
  {
   "cell_type": "code",
   "execution_count": 129,
   "metadata": {},
   "outputs": [
    {
     "name": "stdout",
     "output_type": "stream",
     "text": [
      "64\n",
      "8112\n",
      "8144\n",
      "8175\n",
      "8206\n",
      "8269\n",
      "8314\n"
     ]
    }
   ],
   "source": [
    "maxE = 0\n",
    "for i in range(maxX):\n",
    "    for startpos, startdir in [(complex(i), -1j), (i*(-1j), 1), (i - (maxY-1)*(1j), 1j), (maxX - 1 - i * (1j), -1)]:\n",
    "        ntiles = len(get_energized(elements, maxX, maxY, startpos, startdir))\n",
    "        if ntiles > maxE:\n",
    "            print(ntiles)\n",
    "            maxE = ntiles"
   ]
  },
  {
   "cell_type": "code",
   "execution_count": 130,
   "metadata": {},
   "outputs": [
    {
     "name": "stdout",
     "output_type": "stream",
     "text": [
      "\u001b[32mThat's the right answer!  You are one gold star closer to restoring snow operations.You have completed Day 16! You can [Shareon\n",
      "  Twitter\n",
      "Mastodon] this victory or [Return to Your Advent Calendar].\u001b[0m\n"
     ]
    }
   ],
   "source": [
    "puzzle.answer_b = maxE"
   ]
  },
  {
   "cell_type": "code",
   "execution_count": null,
   "metadata": {},
   "outputs": [],
   "source": []
  }
 ],
 "metadata": {
  "kernelspec": {
   "display_name": "py310",
   "language": "python",
   "name": "py310"
  },
  "language_info": {
   "codemirror_mode": {
    "name": "ipython",
    "version": 3
   },
   "file_extension": ".py",
   "mimetype": "text/x-python",
   "name": "python",
   "nbconvert_exporter": "python",
   "pygments_lexer": "ipython3",
   "version": "3.10.2"
  }
 },
 "nbformat": 4,
 "nbformat_minor": 4
}
