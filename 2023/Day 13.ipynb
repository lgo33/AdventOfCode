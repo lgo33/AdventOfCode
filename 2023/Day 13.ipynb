{
 "cells": [
  {
   "cell_type": "code",
   "execution_count": 1,
   "metadata": {},
   "outputs": [],
   "source": [
    "import os\n",
    "os.environ['AOC_SESSION'] = '53616c7465645f5ff17c6f54fd23191499c7017d6366538fcc35b61d0225390f78827c662577ddcc8d5d64ddf58c68c56d6ad68e5721930a5b7a5803b0bee173'"
   ]
  },
  {
   "cell_type": "code",
   "execution_count": 2,
   "metadata": {},
   "outputs": [],
   "source": [
    "import aocd\n",
    "from aocd.models import Puzzle\n",
    "day = 13\n",
    "year = 2023\n",
    "puzzle = Puzzle(year=year, day=day)\n",
    "# data = aocd.get_data(day=day, year=year)\n",
    "with open('./data/input_{:02d}'.format(day), 'w') as fh:\n",
    "    fh.write(puzzle.input_data)"
   ]
  },
  {
   "cell_type": "code",
   "execution_count": 7,
   "metadata": {},
   "outputs": [],
   "source": [
    "import numpy as np"
   ]
  },
  {
   "cell_type": "code",
   "execution_count": 25,
   "metadata": {},
   "outputs": [],
   "source": [
    "test_data = \"\"\"#.##..##.\n",
    "..#.##.#.\n",
    "##......#\n",
    "##......#\n",
    "..#.##.#.\n",
    "..##..##.\n",
    "#.#.##.#.\n",
    "\n",
    "#...##..#\n",
    "#....#..#\n",
    "..##..###\n",
    "#####.##.\n",
    "#####.##.\n",
    "..##..###\n",
    "#....#..#\n",
    "\"\"\"\n",
    "data_test = test_data.splitlines()"
   ]
  },
  {
   "cell_type": "code",
   "execution_count": 26,
   "metadata": {},
   "outputs": [
    {
     "data": {
      "text/plain": [
       "(1375,\n",
       " ['#.#.##.##.#',\n",
       "  '#..#..####.',\n",
       "  '#.#####..##',\n",
       "  '#.##..####.',\n",
       "  '##.#..####.',\n",
       "  '..#...#..#.',\n",
       "  '##...#....#',\n",
       "  '....##....#',\n",
       "  '##.##.#..#.',\n",
       "  '#..#.##..##'])"
      ]
     },
     "execution_count": 26,
     "metadata": {},
     "output_type": "execute_result"
    }
   ],
   "source": [
    "data = puzzle.input_data.splitlines()\n",
    "len(data), data[:10]"
   ]
  },
  {
   "cell_type": "code",
   "execution_count": 87,
   "metadata": {},
   "outputs": [],
   "source": [
    "def parse(data):\n",
    "    patterns = []\n",
    "    pattern = []\n",
    "    for line in data:\n",
    "        if not line.strip():\n",
    "            patterns.append(np.array(pattern))\n",
    "            pattern = []\n",
    "            continue\n",
    "        row = []\n",
    "        for c in line:\n",
    "            row.append(0 if c == '.' else 1)\n",
    "        pattern.append(row)\n",
    "    else:\n",
    "        if pattern:\n",
    "            patterns.append(np.array(pattern))\n",
    "    return patterns\n",
    "    \n",
    "\n",
    "def find_mirror(pattern):\n",
    "    NR, NC = pattern.shape\n",
    "    # print(NR, NC)\n",
    "    for x in range(NC-1):\n",
    "        left = x\n",
    "        right = x+1\n",
    "        match = True\n",
    "        while left >= 0 and right < NC:\n",
    "            if (pattern[:, left] !=  pattern[:, right]).any():\n",
    "                match = False\n",
    "                break\n",
    "            left -=1\n",
    "            right += 1\n",
    "        if match:\n",
    "            return (x, -1)\n",
    "        \n",
    "    for y in range(NR-1):\n",
    "        up = y\n",
    "        down = y+1\n",
    "        match = True\n",
    "        while up >= 0 and down < NR:\n",
    "            if (pattern[up, :] !=  pattern[down, :]).any():\n",
    "                match = False\n",
    "                break\n",
    "            up -=1\n",
    "            down += 1\n",
    "        if match:\n",
    "            return (-1, y)\n",
    "        \n",
    "    return (-1, -1)\n",
    "\n",
    "def find_mirror_b(pattern):\n",
    "    NR, NC = pattern.shape\n",
    "    # print(NR, NC)\n",
    "    for x in range(NC-1):\n",
    "        left = x\n",
    "        right = x+1\n",
    "        diff = 0\n",
    "        while left >= 0 and right < NC:\n",
    "            diff += np.absolute(pattern[:, left] - pattern[:, right]).sum()\n",
    "            if diff > 1:\n",
    "                break\n",
    "            left -=1\n",
    "            right += 1\n",
    "        if diff == 1:\n",
    "            return (x, -1)\n",
    "        \n",
    "    for y in range(NR-1):\n",
    "        up = y\n",
    "        down = y+1\n",
    "        diff = 0\n",
    "        while up >= 0 and down < NR:\n",
    "            diff += np.absolute(pattern[up, :] - pattern[down, :]).sum()\n",
    "            if diff > 1:\n",
    "                break\n",
    "            up -=1\n",
    "            down += 1\n",
    "        if diff == 1:\n",
    "            return (-1, y)\n",
    "        \n",
    "    return (-1, -1)\n",
    "\n",
    "def mirror_val(mirror):\n",
    "    col, row = mirror\n",
    "    if col > -1:\n",
    "        return col+1\n",
    "    if row > -1:\n",
    "        return (row+1) * 100\n",
    "    return 0"
   ]
  },
  {
   "cell_type": "code",
   "execution_count": 79,
   "metadata": {},
   "outputs": [
    {
     "data": {
      "text/plain": [
       "[array([[1, 0, 1, 0, 1, 1, 0, 1, 1, 0, 1],\n",
       "        [1, 0, 0, 1, 0, 0, 1, 1, 1, 1, 0],\n",
       "        [1, 0, 1, 1, 1, 1, 1, 0, 0, 1, 1],\n",
       "        [1, 0, 1, 1, 0, 0, 1, 1, 1, 1, 0],\n",
       "        [1, 1, 0, 1, 0, 0, 1, 1, 1, 1, 0],\n",
       "        [0, 0, 1, 0, 0, 0, 1, 0, 0, 1, 0],\n",
       "        [1, 1, 0, 0, 0, 1, 0, 0, 0, 0, 1],\n",
       "        [0, 0, 0, 0, 1, 1, 0, 0, 0, 0, 1],\n",
       "        [1, 1, 0, 1, 1, 0, 1, 0, 0, 1, 0],\n",
       "        [1, 0, 0, 1, 0, 1, 1, 0, 0, 1, 1],\n",
       "        [1, 1, 0, 1, 1, 1, 0, 1, 1, 0, 1],\n",
       "        [0, 0, 0, 1, 0, 1, 0, 1, 1, 0, 1],\n",
       "        [0, 1, 0, 1, 0, 1, 0, 1, 1, 0, 1],\n",
       "        [1, 1, 0, 1, 1, 1, 0, 1, 1, 0, 1],\n",
       "        [1, 0, 0, 1, 0, 1, 1, 0, 0, 1, 1]]),\n",
       " array([[1, 1, 0, 1, 0, 0, 0, 1, 0, 1, 0],\n",
       "        [1, 1, 0, 1, 1, 0, 0, 1, 0, 1, 0],\n",
       "        [0, 1, 0, 1, 1, 0, 0, 0, 0, 0, 0],\n",
       "        [0, 0, 1, 1, 1, 1, 1, 1, 0, 0, 1],\n",
       "        [0, 0, 1, 1, 1, 1, 1, 1, 0, 0, 1],\n",
       "        [0, 1, 0, 1, 1, 0, 0, 0, 0, 0, 0],\n",
       "        [1, 1, 0, 1, 1, 0, 0, 1, 0, 1, 0],\n",
       "        [1, 1, 0, 1, 0, 0, 0, 1, 0, 1, 0],\n",
       "        [0, 0, 0, 1, 1, 0, 0, 0, 1, 0, 0],\n",
       "        [0, 0, 0, 1, 0, 1, 1, 1, 0, 0, 1],\n",
       "        [1, 0, 0, 1, 1, 1, 1, 1, 1, 1, 0],\n",
       "        [0, 0, 1, 0, 1, 1, 0, 1, 1, 1, 0],\n",
       "        [0, 0, 1, 1, 1, 0, 1, 1, 0, 1, 0],\n",
       "        [0, 0, 1, 1, 0, 1, 1, 0, 1, 1, 0],\n",
       "        [0, 0, 1, 0, 1, 0, 0, 1, 1, 0, 0]])]"
      ]
     },
     "execution_count": 79,
     "metadata": {},
     "output_type": "execute_result"
    }
   ],
   "source": [
    "# patterns = parse(data_test)\n",
    "patterns = parse(data)\n",
    "patterns[:2]"
   ]
  },
  {
   "cell_type": "code",
   "execution_count": 75,
   "metadata": {},
   "outputs": [],
   "source": [
    "mirrors = [find_mirror(p) for p in patterns]\n",
    "values = [mirror_val(m) for m in mirrors]"
   ]
  },
  {
   "cell_type": "code",
   "execution_count": 76,
   "metadata": {},
   "outputs": [
    {
     "data": {
      "text/plain": [
       "30158"
      ]
     },
     "execution_count": 76,
     "metadata": {},
     "output_type": "execute_result"
    }
   ],
   "source": [
    "sum(values)"
   ]
  },
  {
   "cell_type": "code",
   "execution_count": 77,
   "metadata": {},
   "outputs": [
    {
     "name": "stdout",
     "output_type": "stream",
     "text": [
      "\u001b[32mThat's the right answer!  You are one gold star closer to restoring snow operations. [Continue to Part Two]\u001b[0m\n"
     ]
    }
   ],
   "source": [
    "puzzle.answer_a = sum(values)"
   ]
  },
  {
   "cell_type": "code",
   "execution_count": 81,
   "metadata": {},
   "outputs": [],
   "source": [
    "# Part 2"
   ]
  },
  {
   "cell_type": "code",
   "execution_count": 90,
   "metadata": {},
   "outputs": [
    {
     "data": {
      "text/plain": [
       "[array([[1, 0, 1, 0, 1, 1, 0, 1, 1, 0, 1],\n",
       "        [1, 0, 0, 1, 0, 0, 1, 1, 1, 1, 0],\n",
       "        [1, 0, 1, 1, 1, 1, 1, 0, 0, 1, 1],\n",
       "        [1, 0, 1, 1, 0, 0, 1, 1, 1, 1, 0],\n",
       "        [1, 1, 0, 1, 0, 0, 1, 1, 1, 1, 0],\n",
       "        [0, 0, 1, 0, 0, 0, 1, 0, 0, 1, 0],\n",
       "        [1, 1, 0, 0, 0, 1, 0, 0, 0, 0, 1],\n",
       "        [0, 0, 0, 0, 1, 1, 0, 0, 0, 0, 1],\n",
       "        [1, 1, 0, 1, 1, 0, 1, 0, 0, 1, 0],\n",
       "        [1, 0, 0, 1, 0, 1, 1, 0, 0, 1, 1],\n",
       "        [1, 1, 0, 1, 1, 1, 0, 1, 1, 0, 1],\n",
       "        [0, 0, 0, 1, 0, 1, 0, 1, 1, 0, 1],\n",
       "        [0, 1, 0, 1, 0, 1, 0, 1, 1, 0, 1],\n",
       "        [1, 1, 0, 1, 1, 1, 0, 1, 1, 0, 1],\n",
       "        [1, 0, 0, 1, 0, 1, 1, 0, 0, 1, 1]]),\n",
       " array([[1, 1, 0, 1, 0, 0, 0, 1, 0, 1, 0],\n",
       "        [1, 1, 0, 1, 1, 0, 0, 1, 0, 1, 0],\n",
       "        [0, 1, 0, 1, 1, 0, 0, 0, 0, 0, 0],\n",
       "        [0, 0, 1, 1, 1, 1, 1, 1, 0, 0, 1],\n",
       "        [0, 0, 1, 1, 1, 1, 1, 1, 0, 0, 1],\n",
       "        [0, 1, 0, 1, 1, 0, 0, 0, 0, 0, 0],\n",
       "        [1, 1, 0, 1, 1, 0, 0, 1, 0, 1, 0],\n",
       "        [1, 1, 0, 1, 0, 0, 0, 1, 0, 1, 0],\n",
       "        [0, 0, 0, 1, 1, 0, 0, 0, 1, 0, 0],\n",
       "        [0, 0, 0, 1, 0, 1, 1, 1, 0, 0, 1],\n",
       "        [1, 0, 0, 1, 1, 1, 1, 1, 1, 1, 0],\n",
       "        [0, 0, 1, 0, 1, 1, 0, 1, 1, 1, 0],\n",
       "        [0, 0, 1, 1, 1, 0, 1, 1, 0, 1, 0],\n",
       "        [0, 0, 1, 1, 0, 1, 1, 0, 1, 1, 0],\n",
       "        [0, 0, 1, 0, 1, 0, 0, 1, 1, 0, 0]])]"
      ]
     },
     "execution_count": 90,
     "metadata": {},
     "output_type": "execute_result"
    }
   ],
   "source": [
    "# patterns = parse(data_test)\n",
    "patterns = parse(data)\n",
    "patterns[:2]"
   ]
  },
  {
   "cell_type": "code",
   "execution_count": 91,
   "metadata": {},
   "outputs": [],
   "source": [
    "mirrors = [find_mirror_b(p) for p in patterns]\n",
    "values = [mirror_val(m) for m in mirrors]"
   ]
  },
  {
   "cell_type": "code",
   "execution_count": 92,
   "metadata": {},
   "outputs": [
    {
     "data": {
      "text/plain": [
       "36474"
      ]
     },
     "execution_count": 92,
     "metadata": {},
     "output_type": "execute_result"
    }
   ],
   "source": [
    "sum(values)"
   ]
  },
  {
   "cell_type": "code",
   "execution_count": 94,
   "metadata": {},
   "outputs": [
    {
     "name": "stdout",
     "output_type": "stream",
     "text": [
      "\u001b[32mThat's the right answer!  You are one gold star closer to restoring snow operations.You have completed Day 13! You can [Shareon\n",
      "  Twitter\n",
      "Mastodon] this victory or [Return to Your Advent Calendar].\u001b[0m\n"
     ]
    }
   ],
   "source": [
    "puzzle.answer_b = sum(values)"
   ]
  },
  {
   "cell_type": "code",
   "execution_count": null,
   "metadata": {},
   "outputs": [],
   "source": []
  },
  {
   "cell_type": "code",
   "execution_count": null,
   "metadata": {},
   "outputs": [],
   "source": []
  }
 ],
 "metadata": {
  "kernelspec": {
   "display_name": "py310",
   "language": "python",
   "name": "py310"
  },
  "language_info": {
   "codemirror_mode": {
    "name": "ipython",
    "version": 3
   },
   "file_extension": ".py",
   "mimetype": "text/x-python",
   "name": "python",
   "nbconvert_exporter": "python",
   "pygments_lexer": "ipython3",
   "version": "3.10.2"
  }
 },
 "nbformat": 4,
 "nbformat_minor": 4
}
