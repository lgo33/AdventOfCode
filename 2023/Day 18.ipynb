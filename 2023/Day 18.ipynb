{
 "cells": [
  {
   "cell_type": "code",
   "execution_count": 1,
   "metadata": {},
   "outputs": [],
   "source": [
    "import os\n",
    "os.environ['AOC_SESSION'] = '53616c7465645f5ff17c6f54fd23191499c7017d6366538fcc35b61d0225390f78827c662577ddcc8d5d64ddf58c68c56d6ad68e5721930a5b7a5803b0bee173'"
   ]
  },
  {
   "cell_type": "code",
   "execution_count": 2,
   "metadata": {},
   "outputs": [],
   "source": [
    "import aocd\n",
    "from aocd.models import Puzzle\n",
    "day = 18\n",
    "year = 2023\n",
    "puzzle = Puzzle(year=year, day=day)\n",
    "# data = aocd.get_data(day=day, year=year)\n",
    "with open('./data/input_{:02d}'.format(day), 'w') as fh:\n",
    "    fh.write(puzzle.input_data)"
   ]
  },
  {
   "cell_type": "code",
   "execution_count": 89,
   "metadata": {},
   "outputs": [],
   "source": [
    "from collections import defaultdict\n",
    "import matplotlib.pyplot as plt\n",
    "import numpy as np"
   ]
  },
  {
   "cell_type": "code",
   "execution_count": 5,
   "metadata": {},
   "outputs": [],
   "source": [
    "test_data = \"\"\"R 6 (#70c710)\n",
    "D 5 (#0dc571)\n",
    "L 2 (#5713f0)\n",
    "D 2 (#d2c081)\n",
    "R 2 (#59c680)\n",
    "D 2 (#411b91)\n",
    "L 5 (#8ceee2)\n",
    "U 2 (#caa173)\n",
    "L 1 (#1b58a2)\n",
    "U 2 (#caa171)\n",
    "R 2 (#7807d2)\n",
    "U 3 (#a77fa3)\n",
    "L 2 (#015232)\n",
    "U 2 (#7a21e3)\n",
    "\"\"\"\n",
    "data_test = test_data.splitlines()"
   ]
  },
  {
   "cell_type": "code",
   "execution_count": 4,
   "metadata": {},
   "outputs": [
    {
     "data": {
      "text/plain": [
       "(660,\n",
       " ['L 3 (#07b412)',\n",
       "  'D 5 (#713ad1)',\n",
       "  'L 2 (#11e6d2)',\n",
       "  'D 4 (#6ba7d3)',\n",
       "  'L 3 (#7cfca2)',\n",
       "  'U 5 (#0a85c3)',\n",
       "  'L 2 (#3a5282)',\n",
       "  'U 4 (#6f91a3)',\n",
       "  'L 3 (#32c2f0)',\n",
       "  'U 6 (#2dd7b3)'])"
      ]
     },
     "execution_count": 4,
     "metadata": {},
     "output_type": "execute_result"
    }
   ],
   "source": [
    "data = puzzle.input_data.splitlines()\n",
    "len(data), data[:10]"
   ]
  },
  {
   "cell_type": "code",
   "execution_count": 71,
   "metadata": {},
   "outputs": [],
   "source": [
    "def parse(data):\n",
    "    res = []\n",
    "    for line in data:\n",
    "        d, s, c = line.split(' ')\n",
    "        s = int(s)\n",
    "        c = c[1:-1]\n",
    "        res.append((d,s,c))\n",
    "    return res\n",
    "\n",
    "dmap = {\n",
    "    'U': 1j,\n",
    "    'D': -1j,\n",
    "    'R': 1+0j,\n",
    "    'L': -1+0j,\n",
    "}\n",
    "\n",
    "def get_vertices(instructions):\n",
    "    pos = 0\n",
    "    points = [pos]\n",
    "    edges = []\n",
    "    prev = pos\n",
    "    for ins in instructions:\n",
    "        d, s, c = ins\n",
    "        pos += s * dmap[d]\n",
    "        points.append(pos)\n",
    "        edges.append((prev, pos, c))\n",
    "        prev = pos\n",
    "    if pos != 0: \n",
    "        points.append(pos)\n",
    "        edges.append((prev, pos, c))\n",
    "    return points, edges\n",
    "\n",
    "def get_min_max(points):\n",
    "    minx = min([int(p.real) for p in points])\n",
    "    maxx = max([int(p.real) for p in points])\n",
    "    miny = min([int(p.imag) for p in points])\n",
    "    maxy = max([int(p.imag) for p in points])\n",
    "    return (minx, maxx, miny, maxy)\n",
    "\n",
    "def build_border(edges):\n",
    "    border = defaultdict(list)\n",
    "    for edge in edges:\n",
    "        start, end, col = edge\n",
    "        vec = end - start\n",
    "        unit = vec / abs(vec)\n",
    "        pos = start\n",
    "        while pos != end:\n",
    "            border[pos].append(col)\n",
    "            pos += unit\n",
    "        border[end].append(col)\n",
    "    return border\n",
    "\n",
    "def get_nbrs(pos):\n",
    "    for d in dmap.values():\n",
    "        yield pos + d\n",
    "        \n",
    "def check(pos, minx, maxx, miny, maxy):\n",
    "    if pos.real < minx or pos.real > maxx or pos.imag < miny or pos.imag > maxy:\n",
    "        return False\n",
    "    return True\n",
    "    \n",
    "def fill_outside(extremes, border):\n",
    "    outside = set()\n",
    "    minx, maxx, miny, maxy = extremes\n",
    "    minx -= 1\n",
    "    miny -= 1\n",
    "    maxx += 1\n",
    "    maxy += 1\n",
    "    area = (maxx - minx+1) * (maxy - miny+1)\n",
    "    q = [(minx + maxy * 1j)]\n",
    "    seen = set()\n",
    "    while len(q):\n",
    "        nxt = q.pop()\n",
    "        if nxt in seen:\n",
    "            continue\n",
    "        seen.add(nxt)\n",
    "            \n",
    "        for nbr in get_nbrs(nxt):\n",
    "            if not check(nbr, minx, maxx, miny, maxy):\n",
    "                continue\n",
    "            if nbr in border:\n",
    "                continue\n",
    "            q.append(nbr)\n",
    "            outside.add(nbr)\n",
    "    return outside, area\n",
    "            \n",
    "    \n",
    "    \n",
    "    "
   ]
  },
  {
   "cell_type": "code",
   "execution_count": 76,
   "metadata": {},
   "outputs": [],
   "source": [
    "# points, edges = get_vertices(parse(data_test))\n",
    "points, edges = get_vertices(parse(data))\n",
    "extremes = get_min_max(points)\n",
    "border = build_border(edges)\n",
    "outside, area = fill_outside(extremes, border)"
   ]
  },
  {
   "cell_type": "code",
   "execution_count": 77,
   "metadata": {},
   "outputs": [
    {
     "data": {
      "text/plain": [
       "26857"
      ]
     },
     "execution_count": 77,
     "metadata": {},
     "output_type": "execute_result"
    }
   ],
   "source": [
    "res = area - len(outside)\n",
    "res"
   ]
  },
  {
   "cell_type": "code",
   "execution_count": 78,
   "metadata": {},
   "outputs": [
    {
     "name": "stdout",
     "output_type": "stream",
     "text": [
      "\u001b[32mThat's the right answer!  You are one gold star closer to restoring snow operations. [Continue to Part Two]\u001b[0m\n"
     ]
    }
   ],
   "source": [
    "puzzle.answer_a = res"
   ]
  },
  {
   "cell_type": "code",
   "execution_count": 79,
   "metadata": {},
   "outputs": [],
   "source": [
    "# Part 2"
   ]
  },
  {
   "cell_type": "code",
   "execution_count": 125,
   "metadata": {},
   "outputs": [],
   "source": [
    "dmap_b = {\n",
    "    '3': 'U',\n",
    "    '1': 'D',\n",
    "    '0': 'R',\n",
    "    '2': 'L',\n",
    "}\n",
    "def parse_b(data):\n",
    "    res = []\n",
    "    for line in data:\n",
    "        d, s, c = line.split(' ')\n",
    "        c = c[1:-1]\n",
    "        s = int(c[1:-1], 16)\n",
    "        d = dmap_b[c[-1]]\n",
    "        res.append((d,s,c))\n",
    "    return res\n",
    "\n",
    "def get_area(edges):\n",
    "    res = 0\n",
    "    for edge in edges:\n",
    "        s, e, c = edge\n",
    "        x1 = int(s.real)\n",
    "        y1 = int(s.imag)\n",
    "        x2 = int(e.real)\n",
    "        y2 = int(e.imag)\n",
    "        res += x1 * y2 - y1 * x2\n",
    "    res /= 2\n",
    "    return abs(res)\n"
   ]
  },
  {
   "cell_type": "code",
   "execution_count": 140,
   "metadata": {},
   "outputs": [],
   "source": []
  },
  {
   "cell_type": "code",
   "execution_count": 147,
   "metadata": {},
   "outputs": [],
   "source": [
    "# points, edges = get_vertices(parse_b(data_test))\n",
    "points, edges = get_vertices(parse_b(data))"
   ]
  },
  {
   "cell_type": "code",
   "execution_count": 148,
   "metadata": {},
   "outputs": [
    {
     "data": {
      "text/plain": [
       "129373230496292"
      ]
     },
     "execution_count": 148,
     "metadata": {},
     "output_type": "execute_result"
    }
   ],
   "source": [
    "border_len = sum([abs(e-s) for s, e, c in edges]) / 2\n",
    "res = int(get_area(edges) + border_len + 1)\n",
    "res"
   ]
  },
  {
   "cell_type": "code",
   "execution_count": 150,
   "metadata": {},
   "outputs": [
    {
     "name": "stdout",
     "output_type": "stream",
     "text": [
      "\u001b[32mThat's the right answer!  You are one gold star closer to restoring snow operations.You have completed Day 18! You can [Shareon\n",
      "  Twitter\n",
      "Mastodon] this victory or [Return to Your Advent Calendar].\u001b[0m\n"
     ]
    }
   ],
   "source": [
    "puzzle.answer_b = res"
   ]
  },
  {
   "cell_type": "code",
   "execution_count": 192,
   "metadata": {},
   "outputs": [],
   "source": [
    "dmap2 = {\n",
    "    'U': (0, 1),\n",
    "    'D': (0, -1),\n",
    "    'R': (1, 0),\n",
    "    'L': (-1, 0),\n",
    "}\n",
    "\n",
    "def get_area_rects(instructions):\n",
    "    area = 1\n",
    "    x = y = 0\n",
    "    for d, n, _ in instructions:\n",
    "        dx, dy = dmap2[d]\n",
    "        dx *= n\n",
    "        dy *= n\n",
    "        area += dx * y + n/2\n",
    "        y += dy\n",
    "    \n",
    "    return abs(int(area))"
   ]
  },
  {
   "cell_type": "code",
   "execution_count": 193,
   "metadata": {},
   "outputs": [],
   "source": [
    "ins = parse_b(data)"
   ]
  },
  {
   "cell_type": "code",
   "execution_count": 194,
   "metadata": {},
   "outputs": [
    {
     "data": {
      "text/plain": [
       "129373230496292"
      ]
     },
     "execution_count": 194,
     "metadata": {},
     "output_type": "execute_result"
    }
   ],
   "source": [
    "get_area_rects(ins)"
   ]
  },
  {
   "cell_type": "code",
   "execution_count": 151,
   "metadata": {},
   "outputs": [],
   "source": [
    "ps = np.array([(p.real, p.imag) for p in points])"
   ]
  },
  {
   "cell_type": "code",
   "execution_count": 152,
   "metadata": {},
   "outputs": [
    {
     "data": {
      "text/plain": [
       "[<matplotlib.lines.Line2D at 0xffff30dfd600>]"
      ]
     },
     "execution_count": 152,
     "metadata": {},
     "output_type": "execute_result"
    },
    {
     "data": {
      "image/png": "[encoded data removed]",
      "text/plain": [
       "<Figure size 1800x1200 with 1 Axes>"
      ]
     },
     "metadata": {},
     "output_type": "display_data"
    }
   ],
   "source": [
    "plt.rcParams['figure.figsize'] = (18, 12)\n",
    "plt.plot(ps[:,0], ps[:,1])"
   ]
  },
  {
   "cell_type": "code",
   "execution_count": 96,
   "metadata": {},
   "outputs": [
    {
     "data": {
      "text/plain": [
       "array([0., 0.])"
      ]
     },
     "execution_count": 96,
     "metadata": {},
     "output_type": "execute_result"
    }
   ],
   "source": [
    "ps[0, :]"
   ]
  },
  {
   "cell_type": "code",
   "execution_count": null,
   "metadata": {},
   "outputs": [],
   "source": []
  }
 ],
 "metadata": {
  "kernelspec": {
   "display_name": "py310",
   "language": "python",
   "name": "py310"
  },
  "language_info": {
   "codemirror_mode": {
    "name": "ipython",
    "version": 3
   },
   "file_extension": ".py",
   "mimetype": "text/x-python",
   "name": "python",
   "nbconvert_exporter": "python",
   "pygments_lexer": "ipython3",
   "version": "3.10.2"
  }
 },
 "nbformat": 4,
 "nbformat_minor": 4
}
