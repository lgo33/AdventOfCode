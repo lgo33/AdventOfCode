{
 "cells": [
  {
   "cell_type": "code",
   "execution_count": 1,
   "metadata": {},
   "outputs": [],
   "source": [
    "import os\n",
    "os.environ['AOC_SESSION'] = '53616c7465645f5ff17c6f54fd23191499c7017d6366538fcc35b61d0225390f78827c662577ddcc8d5d64ddf58c68c56d6ad68e5721930a5b7a5803b0bee173'"
   ]
  },
  {
   "cell_type": "code",
   "execution_count": 2,
   "metadata": {},
   "outputs": [],
   "source": [
    "import aocd\n",
    "from aocd.models import Puzzle\n",
    "day = 8\n",
    "year = 2023\n",
    "puzzle = Puzzle(year=year, day=day)\n",
    "# data = aocd.get_data(day=day, year=year)\n",
    "with open('./data/input_{:02d}'.format(day), 'w') as fh:\n",
    "    fh.write(puzzle.input_data)"
   ]
  },
  {
   "cell_type": "code",
   "execution_count": 14,
   "metadata": {},
   "outputs": [],
   "source": [
    "from itertools import cycle"
   ]
  },
  {
   "cell_type": "code",
   "execution_count": 5,
   "metadata": {},
   "outputs": [],
   "source": [
    "test_data = \"\"\"RL\n",
    "\n",
    "AAA = (BBB, CCC)\n",
    "BBB = (DDD, EEE)\n",
    "CCC = (ZZZ, GGG)\n",
    "DDD = (DDD, DDD)\n",
    "EEE = (EEE, EEE)\n",
    "GGG = (GGG, GGG)\n",
    "ZZZ = (ZZZ, ZZZ)\n",
    "\"\"\"\n",
    "data_test = test_data.splitlines()"
   ]
  },
  {
   "cell_type": "code",
   "execution_count": 4,
   "metadata": {},
   "outputs": [
    {
     "data": {
      "text/plain": [
       "(752,\n",
       " ['LRLRLRLRRLRRRLRLRLRRRLLRRLRRLRRLLRRLRRLRLRRRLRRLLRRLRRRLRRLRRRLRRRLLLRRLLRLLRRRLLRRLRLLRLLRRRLLRRLRRLRRRLRRLRLRRLRRLRLLRLRRRLRLRRLRLLRRLRRRLRRLRLRRLLLRRLRRRLRRRLRRLRRRLRLRRLRRLRRRLRRLRRLRRLRRLRRRLLRRRLLLRRRLRRLRRRLLRRRLRRLRRLLLLLRRRLRLRRLRRLLRRLRRLRLRLRRRLRRRLRRLLLRRRR',\n",
       "  '',\n",
       "  'BPQ = (VXR, TLN)',\n",
       "  'NSK = (FRM, GXV)',\n",
       "  'XVG = (BBC, SGF)',\n",
       "  'JTG = (LVR, MPK)',\n",
       "  'RNQ = (TMP, TLT)',\n",
       "  'VVX = (TVH, GCM)',\n",
       "  'DJH = (MMH, LLQ)',\n",
       "  'LQR = (HFF, FHP)'])"
      ]
     },
     "execution_count": 4,
     "metadata": {},
     "output_type": "execute_result"
    }
   ],
   "source": [
    "data = puzzle.input_data.splitlines()\n",
    "len(data), data[:10]"
   ]
  },
  {
   "cell_type": "code",
   "execution_count": 12,
   "metadata": {},
   "outputs": [],
   "source": [
    "def parse(data):\n",
    "    instructions = \"\" \n",
    "    nodes = {}\n",
    "    for line in data:\n",
    "        if '=' in line:\n",
    "            key, destinations = line.split(' = ')\n",
    "            L, R = destinations.split(', ')\n",
    "            nodes[key] = (L[-3:], R[:3])\n",
    "        elif line:\n",
    "            instructions = line\n",
    "    return instructions, nodes"
   ]
  },
  {
   "cell_type": "code",
   "execution_count": 25,
   "metadata": {},
   "outputs": [],
   "source": [
    "# instructions, nodes = parse(data_test)\n",
    "instructions, nodes = parse(data)\n",
    "# instructions, nodes"
   ]
  },
  {
   "cell_type": "code",
   "execution_count": 26,
   "metadata": {},
   "outputs": [],
   "source": [
    "node = 'AAA'\n",
    "steps = 1\n",
    "for step in cycle(instructions):\n",
    "    if step == 'L':\n",
    "        node = nodes[node][0]\n",
    "    else:\n",
    "        node = nodes[node][1]\n",
    "    if node == 'ZZZ':\n",
    "        break\n",
    "    steps += 1\n",
    "\n",
    "        "
   ]
  },
  {
   "cell_type": "code",
   "execution_count": 27,
   "metadata": {},
   "outputs": [
    {
     "data": {
      "text/plain": [
       "('ZZZ', 12643)"
      ]
     },
     "execution_count": 27,
     "metadata": {},
     "output_type": "execute_result"
    }
   ],
   "source": [
    "node, steps"
   ]
  },
  {
   "cell_type": "code",
   "execution_count": 28,
   "metadata": {},
   "outputs": [
    {
     "name": "stdout",
     "output_type": "stream",
     "text": [
      "\u001b[32mThat's the right answer!  You are one gold star closer to restoring snow operations. [Continue to Part Two]\u001b[0m\n"
     ]
    }
   ],
   "source": [
    "puzzle.answer_a = steps"
   ]
  },
  {
   "cell_type": "code",
   "execution_count": 29,
   "metadata": {},
   "outputs": [],
   "source": [
    "# Part 2"
   ]
  },
  {
   "cell_type": "code",
   "execution_count": 39,
   "metadata": {},
   "outputs": [],
   "source": [
    "test_data = \"\"\"LR\n",
    "\n",
    "11A = (11B, XXX)\n",
    "11B = (XXX, 11Z)\n",
    "11Z = (11B, XXX)\n",
    "22A = (22B, XXX)\n",
    "22B = (22C, 22C)\n",
    "22C = (22Z, 22Z)\n",
    "22Z = (22B, 22B)\n",
    "XXX = (XXX, XXX)\n",
    "\"\"\"\n",
    "data_test = test_data.splitlines()"
   ]
  },
  {
   "cell_type": "code",
   "execution_count": 57,
   "metadata": {
    "tags": []
   },
   "outputs": [],
   "source": [
    "# instructions, nodes = parse(data_test)\n",
    "instructions, nodes = parse(data)\n",
    "# instructions, nodes"
   ]
  },
  {
   "cell_type": "code",
   "execution_count": 58,
   "metadata": {},
   "outputs": [
    {
     "data": {
      "text/plain": [
       "['LCA', 'NVA', 'GCA', 'SXA', 'AAA', 'GMA']"
      ]
     },
     "execution_count": 58,
     "metadata": {},
     "output_type": "execute_result"
    }
   ],
   "source": [
    "start_nodes = [key for key in nodes if key[-1] == 'A']\n",
    "start_nodes"
   ]
  },
  {
   "cell_type": "code",
   "execution_count": 52,
   "metadata": {},
   "outputs": [
    {
     "data": {
      "text/plain": [
       "['11Z', '22Z']"
      ]
     },
     "execution_count": 52,
     "metadata": {},
     "output_type": "execute_result"
    }
   ],
   "source": [
    "end_nodes = [key for key in nodes if key[-1] == 'Z']\n",
    "end_nodes"
   ]
  },
  {
   "cell_type": "code",
   "execution_count": 61,
   "metadata": {},
   "outputs": [
    {
     "data": {
      "text/plain": [
       "269"
      ]
     },
     "execution_count": 61,
     "metadata": {},
     "output_type": "execute_result"
    }
   ],
   "source": [
    "ni = len(instructions)\n",
    "ni"
   ]
  },
  {
   "cell_type": "code",
   "execution_count": 64,
   "metadata": {},
   "outputs": [
    {
     "data": {
      "text/plain": [
       "['LCA', 'NVA', 'GCA', 'SXA', 'AAA', 'GMA']"
      ]
     },
     "execution_count": 64,
     "metadata": {},
     "output_type": "execute_result"
    }
   ],
   "source": [
    "start_nodes"
   ]
  },
  {
   "cell_type": "code",
   "execution_count": 81,
   "metadata": {},
   "outputs": [
    {
     "data": {
      "text/plain": [
       "0"
      ]
     },
     "execution_count": 81,
     "metadata": {},
     "output_type": "execute_result"
    }
   ],
   "source": [
    "(23134 - 11567) % 269"
   ]
  },
  {
   "cell_type": "code",
   "execution_count": 94,
   "metadata": {},
   "outputs": [
    {
     "name": "stdout",
     "output_type": "stream",
     "text": [
      "0 XCZ 11567 0\n",
      "4 ZZZ 12643 0\n",
      "2 SFZ 15871 0\n",
      "5 TQZ 19099 0\n",
      "1 CFZ 19637 0\n",
      "3 PPZ 21251 0\n",
      "0 XCZ 23134 11567\n",
      "found 0 11567 11567 43\n",
      "4 ZZZ 25286 12643\n",
      "found 4 12643 12643 47\n",
      "2 SFZ 31742 15871\n",
      "found 2 15871 15871 59\n",
      "0 XCZ 34701 11567\n",
      "4 ZZZ 37929 12643\n",
      "5 TQZ 38198 19099\n",
      "found 5 19099 19099 71\n",
      "1 CFZ 39274 19637\n",
      "found 1 19637 19637 73\n",
      "3 PPZ 42502 21251\n",
      "found 3 21251 21251 79\n"
     ]
    }
   ],
   "source": [
    "keys = start_nodes.copy()\n",
    "steps = 0\n",
    "ni = len(instructions)\n",
    "N = len(keys)\n",
    "periods = [0] * N\n",
    "last_seen =  [0] * N\n",
    "done = False\n",
    "for ins in cycle(instructions):\n",
    "    steps += 1\n",
    "    idx = 0 if ins == 'L' else 1\n",
    "    keys = [nodes[key][idx] for key in keys]\n",
    "    for i, key in enumerate(keys):\n",
    "        if key[-1] != 'Z':\n",
    "            continue\n",
    "        print(i, key, steps, last_seen[i])\n",
    "        if periods[i] != 0:\n",
    "            continue\n",
    "        if last_seen[i] > 0:\n",
    "            if ((steps - last_seen[i]) % ni) == 0:\n",
    "                periods[i] = steps - last_seen[i]\n",
    "                print('found', i, periods[i], last_seen[i], periods[i]//ni)\n",
    "                if sum([p==0 for p in periods]) == 0:\n",
    "                    done = True\n",
    "                    break\n",
    "        else:            \n",
    "            last_seen[i] = steps\n",
    "            # print('setting last_seen', last_seen[i], steps, last_seen)\n",
    "    if done: # or steps > 37929:\n",
    "        break\n",
    "    \n",
    "        \n",
    "    \n",
    "    \n",
    "    "
   ]
  },
  {
   "cell_type": "code",
   "execution_count": 96,
   "metadata": {},
   "outputs": [
    {
     "data": {
      "text/plain": [
       "21251"
      ]
     },
     "execution_count": 96,
     "metadata": {},
     "output_type": "execute_result"
    }
   ],
   "source": [
    "42502 - 21251"
   ]
  },
  {
   "cell_type": "code",
   "execution_count": 92,
   "metadata": {},
   "outputs": [
    {
     "data": {
      "text/plain": [
       "[11567, 19637, 15871, 21251, 12643, 19099]"
      ]
     },
     "execution_count": 92,
     "metadata": {},
     "output_type": "execute_result"
    }
   ],
   "source": [
    "periods"
   ]
  },
  {
   "cell_type": "code",
   "execution_count": 93,
   "metadata": {},
   "outputs": [
    {
     "data": {
      "text/plain": [
       "[11567, 19637, 15871, 21251, 12643, 19099]"
      ]
     },
     "execution_count": 93,
     "metadata": {},
     "output_type": "execute_result"
    }
   ],
   "source": [
    "last_seen"
   ]
  },
  {
   "cell_type": "code",
   "execution_count": 107,
   "metadata": {},
   "outputs": [
    {
     "data": {
      "text/plain": [
       "[43, 73, 59, 79, 47, 71]"
      ]
     },
     "execution_count": 107,
     "metadata": {},
     "output_type": "execute_result"
    }
   ],
   "source": [
    "ncycles = [p // ni for p in periods]\n",
    "ncycles"
   ]
  },
  {
   "cell_type": "code",
   "execution_count": 108,
   "metadata": {},
   "outputs": [
    {
     "data": {
      "text/plain": [
       "13133452426987"
      ]
     },
     "execution_count": 108,
     "metadata": {},
     "output_type": "execute_result"
    }
   ],
   "source": [
    "res = 1\n",
    "for pd in ncycles:\n",
    "    res *= pd\n",
    "res = res * ni\n",
    "res\n"
   ]
  },
  {
   "cell_type": "code",
   "execution_count": 106,
   "metadata": {},
   "outputs": [
    {
     "name": "stdout",
     "output_type": "stream",
     "text": [
      "\u001b[32mThat's the right answer!  You are one gold star closer to restoring snow operations.You have completed Day 8! You can [Shareon\n",
      "  Twitter\n",
      "Mastodon] this victory or [Return to Your Advent Calendar].\u001b[0m\n"
     ]
    }
   ],
   "source": [
    "puzzle.answer_b = res"
   ]
  },
  {
   "cell_type": "code",
   "execution_count": null,
   "metadata": {},
   "outputs": [],
   "source": []
  }
 ],
 "metadata": {
  "kernelspec": {
   "display_name": "py310",
   "language": "python",
   "name": "py310"
  },
  "language_info": {
   "codemirror_mode": {
    "name": "ipython",
    "version": 3
   },
   "file_extension": ".py",
   "mimetype": "text/x-python",
   "name": "python",
   "nbconvert_exporter": "python",
   "pygments_lexer": "ipython3",
   "version": "3.10.2"
  }
 },
 "nbformat": 4,
 "nbformat_minor": 4
}
