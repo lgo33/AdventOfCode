{
 "cells": [
  {
   "cell_type": "code",
   "execution_count": 1,
   "metadata": {},
   "outputs": [],
   "source": [
    "import os\n",
    "os.environ['AOC_SESSION'] = '53616c7465645f5ff17c6f54fd23191499c7017d6366538fcc35b61d0225390f78827c662577ddcc8d5d64ddf58c68c56d6ad68e5721930a5b7a5803b0bee173'"
   ]
  },
  {
   "cell_type": "code",
   "execution_count": 2,
   "metadata": {},
   "outputs": [],
   "source": [
    "import aocd\n",
    "from aocd.models import Puzzle\n",
    "day = 12\n",
    "year = 2023\n",
    "puzzle = Puzzle(year=year, day=day)\n",
    "# data = aocd.get_data(day=day, year=year)\n",
    "with open('./data/input_{:02d}'.format(day), 'w') as fh:\n",
    "    fh.write(puzzle.input_data)"
   ]
  },
  {
   "cell_type": "code",
   "execution_count": 222,
   "metadata": {},
   "outputs": [],
   "source": [
    "import re\n",
    "from itertools import permutations, combinations\n",
    "from functools import cache"
   ]
  },
  {
   "cell_type": "code",
   "execution_count": 4,
   "metadata": {},
   "outputs": [],
   "source": [
    "test_data = \"\"\"???.### 1,1,3\n",
    ".??..??...?##. 1,1,3\n",
    "?#?#?#?#?#?#?#? 1,3,1,6\n",
    "????.#...#... 4,1,1\n",
    "????.######..#####. 1,6,5\n",
    "?###???????? 3,2,1\n",
    "\"\"\"\n",
    "data_test = test_data.splitlines()"
   ]
  },
  {
   "cell_type": "code",
   "execution_count": 5,
   "metadata": {},
   "outputs": [
    {
     "data": {
      "text/plain": [
       "(1000,\n",
       " ['???????????#??? 5,2,1',\n",
       "  '#??##.??.?# 5,1,1',\n",
       "  '.??###?..???#?.?##?. 4,4,3',\n",
       "  '??..?#??#??#?.???? 5,1,1',\n",
       "  '?????#???? 2,1,1',\n",
       "  '?#?##???#????? 1,8',\n",
       "  '??#?.?#????.? 1,4',\n",
       "  '?#####??#?????.?#.. 9,2,1',\n",
       "  '??????#???? 1,3,1',\n",
       "  '.?.?#?????#?.??.? 2,2'])"
      ]
     },
     "execution_count": 5,
     "metadata": {},
     "output_type": "execute_result"
    }
   ],
   "source": [
    "data = puzzle.input_data.splitlines()\n",
    "len(data), data[:10]"
   ]
  },
  {
   "cell_type": "code",
   "execution_count": 236,
   "metadata": {},
   "outputs": [],
   "source": [
    "def parse(line):\n",
    "    conditions, sums = line.split(\" \")\n",
    "    blocks = tuple([int(val) for val in sums.split(',')])\n",
    "    return conditions, blocks\n",
    "\n",
    "def gen_blocks(condition):\n",
    "    blocks = []\n",
    "    current = 0\n",
    "    for c in condition:\n",
    "        if c == '#':\n",
    "            current += 1\n",
    "        elif c == '.':\n",
    "            if current:\n",
    "                blocks.append(current)\n",
    "                current = 0\n",
    "    if current:\n",
    "        blocks.append(current)\n",
    "    return tuple(blocks)\n",
    "\n",
    "def get_permutations(num_bad, total_len):\n",
    "    for comb in combinations(range(total_len), num_bad):\n",
    "        missing = ['.'] * total_len\n",
    "        for c in comb:\n",
    "            missing[c] = '#'\n",
    "        yield missing\n",
    "    \n",
    "\n",
    "def gen_conditions(condition, num_bad):\n",
    "    char = {0: '.', 1: '#'}\n",
    "    n = condition.count('?')\n",
    "    condition = condition.replace('?', '{}')\n",
    "    # if n == 0:\n",
    "    #     yield condition\n",
    "\n",
    "    # missing = ['#'] * num_bad + ['.'] * (n - num_bad)\n",
    "    # for perm in set(permutations(missing)):\n",
    "    for missing in get_permutations(num_bad, n):\n",
    "        yield condition.format(*missing)\n",
    "        \n",
    "def count_possible(spring):\n",
    "    condition, blocks = spring\n",
    "    # print(condition, blocks)\n",
    "    num_bad = sum(blocks) - condition.count('#')\n",
    "    possible = 0\n",
    "    for cond in gen_conditions(condition, num_bad):\n",
    "        # print(cond)\n",
    "        if gen_blocks(cond) == blocks:\n",
    "            possible += 1\n",
    "    return possible\n",
    "\n",
    "\n",
    "def unfold(spring):\n",
    "    condition, blocks = spring\n",
    "    condition = condition + '?' + condition + '?' + condition + '?' + condition + '?' + condition\n",
    "    blocks = blocks * 5\n",
    "    return condition, blocks\n",
    "\n",
    "def count_possible_b(spring):\n",
    "    condition, blocks = spring\n",
    "    # print(condition, blocks)\n",
    "    num_bad = sum(blocks) - condition.count('#')\n",
    "    possible = 0\n",
    "    for cond in gen_conditions(condition, num_bad):\n",
    "        # print(cond)\n",
    "        if gen_blocks(cond) == blocks:\n",
    "            possible += 1\n",
    "    return possible\n",
    "\n",
    "def find_blocks(condition):\n",
    "    blocks = []\n",
    "    cur = 0\n",
    "    \n",
    "@cache\n",
    "def count_rec(condition, blocks):    \n",
    "    idx = condition.find('?')\n",
    "    if idx == -1:\n",
    "        if gen_blocks(condition) == blocks:\n",
    "            return 1\n",
    "        return 0\n",
    "    # prune impossible paths\n",
    "    if idx > 2:\n",
    "        sure_blocks = gen_blocks(condition[:idx])\n",
    "        lb = len(sure_blocks)\n",
    "        if len(sure_blocks) > len(blocks):\n",
    "            return 0\n",
    "        if lb > 1:\n",
    "            if condition[idx - 1] == '.':\n",
    "                if sure_blocks != blocks[:lb]:\n",
    "                    return 0\n",
    "            elif (sure_blocks[:lb-1] != blocks[:lb-1]) or (sure_blocks[lb-1] > blocks[lb-1]):\n",
    "                return 0\n",
    "    \n",
    "    condition_left = condition[:idx] + '.' + condition[idx+1:]\n",
    "    condition_right = condition[:idx] + '#' + condition[idx+1:]\n",
    "    # print(condition_left, condition_right)\n",
    "    # if idx > 10:        \n",
    "    #     print(idx, condition, blocks, sure_blocks, lb)\n",
    "    #     return\n",
    "    return count_rec(condition_left, blocks) + count_rec(condition_right, blocks)\n",
    "\n",
    "@cache\n",
    "def place_blocks_rec(condition, blocks):\n",
    "    if not blocks:\n",
    "        return '#' not in condition\n",
    "    max_pos = len(condition) - (sum(blocks) + len(blocks) - 1)\n",
    "    num_possible = 0\n",
    "    bl = blocks[0]\n",
    "    for pos in range(max_pos+1):\n",
    "        if condition[pos] == '.':\n",
    "            continue\n",
    "        elif '.' not in condition[pos:pos+bl] and ((len(condition) == pos+bl ) or (condition[pos+bl] != '#')):\n",
    "            num_possible += place_blocks_rec(condition[pos+bl+1:], blocks[1:])\n",
    "        if condition[pos] == '#':\n",
    "            break\n",
    "    return num_possible\n",
    "\n",
    "\n",
    "# def place_blocks_rec(condition, blocks):\n",
    "#     if len(blocks) < 3:\n",
    "#         # print(condition, blocks)\n",
    "#         return count_rec(condition, blocks)\n",
    "#     max_pos = len(condition) - (sum(blocks) + len(blocks) - 1)\n",
    "#     num_possible = 0\n",
    "#     bl = blocks[0]\n",
    "#     for pos in range(max_pos+1):\n",
    "#         if condition[pos] == '.':\n",
    "#             continue\n",
    "#         elif '.' not in condition[pos:pos+bl] and ((len(condition) == pos+bl ) or (condition[pos+bl] != '#')):\n",
    "#             num_possible += place_blocks_rec(condition[pos+bl+1:], blocks[1:])\n",
    "#         if condition[pos] == '#':\n",
    "#             break\n",
    "#     return num_possible"
   ]
  },
  {
   "cell_type": "code",
   "execution_count": 189,
   "metadata": {},
   "outputs": [],
   "source": [
    "# springs = [parse(line) for line in data_test]\n",
    "springs = [parse(line) for line in data]"
   ]
  },
  {
   "cell_type": "code",
   "execution_count": 190,
   "metadata": {},
   "outputs": [
    {
     "name": "stdout",
     "output_type": "stream",
     "text": [
      "CPU times: user 3 µs, sys: 0 ns, total: 3 µs\n",
      "Wall time: 4.77 µs\n"
     ]
    }
   ],
   "source": [
    "%time\n",
    "num_pos = [count_possible(spring) for spring in springs]"
   ]
  },
  {
   "cell_type": "code",
   "execution_count": 191,
   "metadata": {},
   "outputs": [
    {
     "data": {
      "text/plain": [
       "7204"
      ]
     },
     "execution_count": 191,
     "metadata": {},
     "output_type": "execute_result"
    }
   ],
   "source": [
    "sum(num_pos)"
   ]
  },
  {
   "cell_type": "code",
   "execution_count": 193,
   "metadata": {},
   "outputs": [
    {
     "data": {
      "text/plain": [
       "7204"
      ]
     },
     "execution_count": 193,
     "metadata": {},
     "output_type": "execute_result"
    }
   ],
   "source": [
    "num_pos = [place_blocks_rec(*spring) for spring in springs]\n",
    "sum(num_pos)"
   ]
  },
  {
   "cell_type": "code",
   "execution_count": 105,
   "metadata": {},
   "outputs": [],
   "source": [
    "num_pos = [count_rec(*spring) for spring in springs]"
   ]
  },
  {
   "cell_type": "code",
   "execution_count": 32,
   "metadata": {},
   "outputs": [
    {
     "name": "stdout",
     "output_type": "stream",
     "text": [
      "\u001b[32mThat's the right answer!  You are one gold star closer to restoring snow operations. [Continue to Part Two]\u001b[0m\n"
     ]
    }
   ],
   "source": [
    "puzzle.answer_a = sum(num_pos)"
   ]
  },
  {
   "cell_type": "code",
   "execution_count": 194,
   "metadata": {},
   "outputs": [],
   "source": [
    "# Part 2"
   ]
  },
  {
   "cell_type": "code",
   "execution_count": 237,
   "metadata": {},
   "outputs": [
    {
     "name": "stdout",
     "output_type": "stream",
     "text": [
      "0\n",
      "....................20\n",
      "....................40\n",
      "....................60\n",
      "....................80\n",
      "....................100\n",
      "....................120\n",
      "....................140\n",
      "....................160\n",
      "....................180\n",
      "....................200\n",
      "....................220\n",
      "....................240\n",
      "....................260\n",
      "....................280\n",
      "....................300\n",
      "....................320\n",
      "....................340\n",
      "....................360\n",
      "....................380\n",
      "....................400\n",
      "....................420\n",
      "....................440\n",
      "....................460\n",
      "....................480\n",
      "....................500\n",
      "....................520\n",
      "....................540\n",
      "....................560\n",
      "....................580\n",
      "....................600\n",
      "....................620\n",
      "....................640\n",
      "....................660\n",
      "....................680\n",
      "....................700\n",
      "....................720\n",
      "....................740\n",
      "....................760\n",
      "....................780\n",
      "....................800\n",
      "....................820\n",
      "....................840\n",
      "....................860\n",
      "....................880\n",
      "....................900\n",
      "....................920\n",
      "....................940\n",
      "....................960\n",
      "....................980\n",
      "...................."
     ]
    }
   ],
   "source": [
    "springs = [parse(line) for line in data]\n",
    "\n",
    "num_pos = 0\n",
    "for i, spring in enumerate(springs):\n",
    "    if ((i % 20) == 0):\n",
    "        print(i)\n",
    "    print('.', end=\"\")\n",
    "    num_pos += place_blocks_rec(*unfold(spring))"
   ]
  },
  {
   "cell_type": "code",
   "execution_count": 238,
   "metadata": {},
   "outputs": [
    {
     "data": {
      "text/plain": [
       "1672318386674"
      ]
     },
     "execution_count": 238,
     "metadata": {},
     "output_type": "execute_result"
    }
   ],
   "source": [
    "num_pos"
   ]
  },
  {
   "cell_type": "code",
   "execution_count": 228,
   "metadata": {},
   "outputs": [
    {
     "name": "stdout",
     "output_type": "stream",
     "text": [
      "\u001b[32mThat's the right answer!  You are one gold star closer to restoring snow operations.You have completed Day 12! You can [Shareon\n",
      "  Twitter\n",
      "Mastodon] this victory or [Return to Your Advent Calendar].\u001b[0m\n"
     ]
    }
   ],
   "source": [
    "puzzle.answer_b = num_pos"
   ]
  },
  {
   "cell_type": "code",
   "execution_count": 235,
   "metadata": {},
   "outputs": [
    {
     "data": {
      "text/plain": [
       "459591913"
      ]
     },
     "execution_count": 235,
     "metadata": {},
     "output_type": "execute_result"
    }
   ],
   "source": [
    "place_blocks_rec(*unfold(springs[0]))"
   ]
  },
  {
   "cell_type": "code",
   "execution_count": null,
   "metadata": {},
   "outputs": [],
   "source": []
  }
 ],
 "metadata": {
  "kernelspec": {
   "display_name": "py310",
   "language": "python",
   "name": "py310"
  },
  "language_info": {
   "codemirror_mode": {
    "name": "ipython",
    "version": 3
   },
   "file_extension": ".py",
   "mimetype": "text/x-python",
   "name": "python",
   "nbconvert_exporter": "python",
   "pygments_lexer": "ipython3",
   "version": "3.10.2"
  }
 },
 "nbformat": 4,
 "nbformat_minor": 4
}
