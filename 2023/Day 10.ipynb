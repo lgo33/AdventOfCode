{
 "cells": [
  {
   "cell_type": "code",
   "execution_count": 1,
   "metadata": {},
   "outputs": [],
   "source": [
    "import os\n",
    "os.environ['AOC_SESSION'] = '53616c7465645f5ff17c6f54fd23191499c7017d6366538fcc35b61d0225390f78827c662577ddcc8d5d64ddf58c68c56d6ad68e5721930a5b7a5803b0bee173'"
   ]
  },
  {
   "cell_type": "code",
   "execution_count": 2,
   "metadata": {},
   "outputs": [],
   "source": [
    "import aocd\n",
    "from aocd.models import Puzzle\n",
    "day = 10\n",
    "year = 2023\n",
    "puzzle = Puzzle(year=year, day=day)\n",
    "# data = aocd.get_data(day=day, year=year)\n",
    "with open('./data/input_{:02d}'.format(day), 'w') as fh:\n",
    "    fh.write(puzzle.input_data)"
   ]
  },
  {
   "cell_type": "code",
   "execution_count": 3,
   "metadata": {},
   "outputs": [],
   "source": [
    "test_data = \"\"\"-L|F7\n",
    "7S-7|\n",
    "L|7||\n",
    "-L-J|\n",
    "L|-JF\n",
    "\"\"\"\n",
    "data_test = test_data.splitlines()"
   ]
  },
  {
   "cell_type": "code",
   "execution_count": 4,
   "metadata": {},
   "outputs": [],
   "source": [
    "test_data = \"\"\"7-F7-\n",
    ".FJ|7\n",
    "SJLL7\n",
    "|F--J\n",
    "LJ.LJ\n",
    "\"\"\"\n",
    "data_test2 = test_data.splitlines()"
   ]
  },
  {
   "cell_type": "code",
   "execution_count": 5,
   "metadata": {},
   "outputs": [
    {
     "data": {
      "text/plain": [
       "(140,\n",
       " ['F7.-.|.-F777F7.7-|F-7-7J.-J-7-JFFFJ-F--7FJ-|7F-JF|-F.|F-7-F7-L-.FF-|7.--FL-L7-J-FJF-F7F--77..F|.F--7F777|-JJ7FJF---J-L7L-F-LJ7F.|F7JJ-777.-|',\n",
       "  '7F||LF7F7L-J7||.|.JL-7LFFJFF7.LFF7|.J7F7JJ|L-JFJFJF--FF7L|.-.|-FJL7|-FJ.-F7J.FJ|LJF.L|J|F-L7.F|FL-7LJ|7FL7|.|-LJ7JJL--FJL77JJLL7.F||7|L|-7JJ',\n",
       "  'F-J|L|F7|7JLFF7-L-J7.JFJJ.|LJ7||JJF7|J|J-F-7-F7-|FF-FJ||7.|F-L-7-.L.LJJ77LL-7J.|JJL7.|7FF-||||F---JF7L-7J--FJFJ.L7-FJ7L77JLJ.|LLF7.-|-7LL777',\n",
       "  '7JF--|.JJF-7.7-7FLF--J||F|.|LF7LJF7LJ.|L.F-FFFL.-|7-||LLJ777LLLLJF77F|-FL|-|L--FJF-F7L-JLFL--LL----J|F-JJ-|F-7L-7|.LF-7F|7-FLL-F|JFL|.|J.|--',\n",
       "  '|.|77|.|LJ7F.|-L--7J|F|FF7.F7||-77F77-LJ7|-J-JJ7|L|LJ7LJ|.L77J|F-FJ|L7-J|......|F|7LJJ.FL-7FJ.L|-F7FJL--7F7J.|FLL77F--J--|FF-|F7|F|-|L77F7|7',\n",
       "  'F7|L-|F|7L-|FJ7-JFJ|L--JJFJJF|7-J|J|-FJF777LL7FF7J|.||-LL.F-7F77J|7F.|.FFL7--L|J|LF7|.FF7LF|F-.LFJLJF7F7|||F77F.L|7|FF|7-LLFJLL-JJJ.JJF77L77',\n",
       "  'J-||-LJ-|..L-|LFLJ.FFFJFLJJFL||L-JF|7F7||||.LF7.|.|F|JJ|LFL7||L7FJFFJ|-LL-JF|7|L-7L---F-JJ.L7L7-L--7|LJ||||-JF77F-J77FF-7-|J.7FL7|.7--J.L|L7',\n",
       "  '|7|777LL|-L-7L-J7LFJ-JJL77.-7L|77F||-||||F77LF-7J-LJL-F7FF7|||FJ7.F77FF|J.L-F-|LF--J..|-LFF|F7LF---JL7|LJ|||FJ|F7|FF-7.L77J7.-L-LL7|.|-JJFJJ',\n",
       "  'L7J.|J|7L-J|F7LL7.FJ7|..F77|JJ||F7F-7||||||F7L7L7.|7|7||FJ|||||.F7|L-7JJL7FLJ7LFFJ.|FF7.|FF7JF7L----7|F7FJL7L7|||F7|FJ7.F7JF7JL-JLJ--F7JF.|J',\n",
       "  'FJ.F|L-L|.FLJJL|F.||7L-J|LJ|||F7||L7||LJ|||||-L7L7F---J|L7||||L7|LJF-JJ-F|JL|7|LLF7-FJL7F-J|FJ|F-7F-JLJLJF-JFJ|||||||F7F||.JJFJF--7J.LJF---.'])"
      ]
     },
     "execution_count": 5,
     "metadata": {},
     "output_type": "execute_result"
    }
   ],
   "source": [
    "data = puzzle.input_data.splitlines()\n",
    "len(data), data[:10]"
   ]
  },
  {
   "cell_type": "code",
   "execution_count": 110,
   "metadata": {},
   "outputs": [],
   "source": [
    "\n",
    "def parse(data):\n",
    "    pipes = {}\n",
    "    start = None\n",
    "    pos = complex(0)\n",
    "    for line in data:\n",
    "        for c in line:\n",
    "            pipes[pos] = c\n",
    "            if c == 'S':\n",
    "                start = pos\n",
    "            pos += 1\n",
    "        pos -= 1j\n",
    "        pos -= pos.real\n",
    "    return pipes, start\n",
    "\n",
    "nbrs = {\n",
    "    '.': [],\n",
    "    '|': [1j, -1j],\n",
    "    '-': [-1, +1],\n",
    "    'L': [+1, 1j],\n",
    "    'J': [-1, 1j],\n",
    "    '7': [-1, -1j],\n",
    "    'F': [+1, -1j],\n",
    "    'S': [-1, +1, 1j, -1j]\n",
    "}\n",
    "\n",
    "def grow(start, pipes):\n",
    "    nbrs['S'] = [-1, +1, 1j, -1j]\n",
    "    path = []\n",
    "    seen = set([start])\n",
    "    current = start\n",
    "    start_neighbors = []\n",
    "    for nbr in nbrs[pipes[current]]:\n",
    "        if current + nbr not in pipes:\n",
    "            continue\n",
    "        nxt_nbrs = nbrs[pipes[current + nbr]]\n",
    "        if -nbr not in nxt_nbrs:\n",
    "            continue\n",
    "        start_neighbors.append(nbr)\n",
    "    nbrs['S'] = start_neighbors\n",
    "    print(start_neighbors)\n",
    "    \n",
    "    steps = 0\n",
    "    while True:\n",
    "        for nbr in nbrs[pipes[current]]:\n",
    "            nxt = current+nbr\n",
    "            if nxt not in seen:\n",
    "                steps += 1\n",
    "                current = nxt\n",
    "                path.append(current)\n",
    "                seen.add(current)\n",
    "                break\n",
    "        else:\n",
    "            break\n",
    "    return path, seen\n",
    "    \n",
    "def count_inside(seen, data):\n",
    "    num_inside = 0\n",
    "    pos = complex(0)\n",
    "    for line in data:\n",
    "        outside = True\n",
    "        origin = 0\n",
    "        for c in line:\n",
    "            if pos in seen:\n",
    "                if c == '.':\n",
    "                    print(\"!!!\", pos)\n",
    "                    return\n",
    "                if c == '|':\n",
    "                    outside = not outside\n",
    "                    print('.', end=\"\")\n",
    "                elif c == '-':\n",
    "                    pass\n",
    "                else:\n",
    "                    if origin == 0:\n",
    "                        origin = nbrs[c][1]\n",
    "                    else:\n",
    "                        if origin == nbrs[c][1]:\n",
    "                            origin = 0                            \n",
    "                        else:\n",
    "                            origin = 0\n",
    "                            outside = not outside\n",
    "                            print('.', end=\"\")\n",
    "            else:\n",
    "                if not outside:\n",
    "                    num_inside += 1\n",
    "            pos += 1\n",
    "        pos -= 1j\n",
    "        pos -= pos.real\n",
    "    return num_inside\n",
    "    "
   ]
  },
  {
   "cell_type": "code",
   "execution_count": 49,
   "metadata": {
    "tags": []
   },
   "outputs": [
    {
     "name": "stdout",
     "output_type": "stream",
     "text": [
      "[-1, 1j]\n"
     ]
    }
   ],
   "source": [
    "# pipes, start = parse(data_test2)\n",
    "pipes, start = parse(data)\n",
    "path, seen = grow(start, pipes)\n",
    "# path"
   ]
  },
  {
   "cell_type": "code",
   "execution_count": 51,
   "metadata": {},
   "outputs": [
    {
     "data": {
      "text/plain": [
       "6927"
      ]
     },
     "execution_count": 51,
     "metadata": {},
     "output_type": "execute_result"
    }
   ],
   "source": [
    "furthest = ((len(path) - 1) // 2) + 1\n",
    "furthest"
   ]
  },
  {
   "cell_type": "code",
   "execution_count": 28,
   "metadata": {},
   "outputs": [
    {
     "name": "stdout",
     "output_type": "stream",
     "text": [
      "\u001b[32mThat's the right answer!  You are one gold star closer to restoring snow operations. [Continue to Part Two]\u001b[0m\n"
     ]
    }
   ],
   "source": [
    "puzzle.answer_a = furthest"
   ]
  },
  {
   "cell_type": "code",
   "execution_count": 115,
   "metadata": {},
   "outputs": [],
   "source": [
    "test_data = \"\"\"FF7FSF7F7F7F7F7F---7\n",
    "L|LJ||||||||||||F--J\n",
    "FL-7LJLJ||||||LJL-77\n",
    "F--JF--7||LJLJ7F7FJ-\n",
    "L---JF-JLJ.||-FJLJJ7\n",
    "|F|F-JF---7F7-L7L|7|\n",
    "|FFJF7L7F-JF7|JL---7\n",
    "7-L-JL7||F7|L7F-7F7|\n",
    "L.L7LFJ|||||FJL7||LJ\n",
    "L7JLJL-JLJLJL--JLJ.L\"\"\"\n",
    "data_test = test_data.splitlines()"
   ]
  },
  {
   "cell_type": "code",
   "execution_count": 122,
   "metadata": {},
   "outputs": [
    {
     "name": "stdout",
     "output_type": "stream",
     "text": [
      "[-1, 1j]\n"
     ]
    }
   ],
   "source": [
    "# pipes, start = parse(data_test)\n",
    "pipes, start = parse(data)\n",
    "path, seen = grow(start, pipes)"
   ]
  },
  {
   "cell_type": "code",
   "execution_count": 123,
   "metadata": {},
   "outputs": [
    {
     "name": "stdout",
     "output_type": "stream",
     "text": [
      "............................................................................................................................................................................................................................................................................................................................................................................................................................................................................................................................................................................................................................................................................................................................................................................................................................................................................................................................................................................................................................................................................................................................................................................................................................................................................................................................................................................................................................................................................................................................................................................................................................................................................................................................................................................................................................................................................................................................................................................................................................................................................................................................................................................................................................................................................................................................................................................................................................................................................................................................................................................................................................................................................................................................................................................................................................................................................................................................................................................................................................................................................................................................................................................................................................................................................................................................................................................................................................................................................................................................................................................................................................................................................................................................................................................................................................................................................................................................................................................................................................................................................................................................................................................................................................................................................................................................................................................................................................................................................................................................................................................................................................................................................................................................................................................................................................................................................................................................................................................................................................................................................................................................................................................................................................................"
     ]
    },
    {
     "data": {
      "text/plain": [
       "467"
      ]
     },
     "execution_count": 123,
     "metadata": {},
     "output_type": "execute_result"
    }
   ],
   "source": [
    "ci = count_inside(seen, data)\n",
    "ci"
   ]
  },
  {
   "cell_type": "code",
   "execution_count": 125,
   "metadata": {},
   "outputs": [
    {
     "name": "stdout",
     "output_type": "stream",
     "text": [
      "\u001b[32mThat's the right answer!  You are one gold star closer to restoring snow operations.You have completed Day 10! You can [Shareon\n",
      "  Twitter\n",
      "Mastodon] this victory or [Return to Your Advent Calendar].\u001b[0m\n"
     ]
    }
   ],
   "source": [
    "puzzle.answer_b = ci"
   ]
  },
  {
   "cell_type": "code",
   "execution_count": null,
   "metadata": {},
   "outputs": [],
   "source": []
  }
 ],
 "metadata": {
  "kernelspec": {
   "display_name": "py310",
   "language": "python",
   "name": "py310"
  },
  "language_info": {
   "codemirror_mode": {
    "name": "ipython",
    "version": 3
   },
   "file_extension": ".py",
   "mimetype": "text/x-python",
   "name": "python",
   "nbconvert_exporter": "python",
   "pygments_lexer": "ipython3",
   "version": "3.10.2"
  }
 },
 "nbformat": 4,
 "nbformat_minor": 4
}
