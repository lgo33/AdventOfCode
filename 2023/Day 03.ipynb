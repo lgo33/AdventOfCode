{
 "cells": [
  {
   "cell_type": "code",
   "execution_count": 1,
   "metadata": {},
   "outputs": [],
   "source": [
    "import os\n",
    "os.environ['AOC_SESSION'] = '53616c7465645f5ff17c6f54fd23191499c7017d6366538fcc35b61d0225390f78827c662577ddcc8d5d64ddf58c68c56d6ad68e5721930a5b7a5803b0bee173'"
   ]
  },
  {
   "cell_type": "code",
   "execution_count": 2,
   "metadata": {},
   "outputs": [],
   "source": [
    "import aocd\n",
    "from aocd.models import Puzzle\n",
    "day = 3\n",
    "year = 2023\n",
    "puzzle = Puzzle(year=year, day=day)\n",
    "# data = aocd.get_data(day=day, year=year)\n",
    "with open('./data/input_{:02d}'.format(day), 'w') as fh:\n",
    "    fh.write(puzzle.input_data)"
   ]
  },
  {
   "cell_type": "code",
   "execution_count": 5,
   "metadata": {},
   "outputs": [],
   "source": [
    "test_data = \"\"\"467..114..\n",
    "...*......\n",
    "..35..633.\n",
    "......#...\n",
    "617*......\n",
    ".....+.58.\n",
    "..592.....\n",
    "......755.\n",
    "...$.*....\n",
    ".664.598..\"\"\"\n",
    "data_test = test_data.splitlines()"
   ]
  },
  {
   "cell_type": "code",
   "execution_count": 4,
   "metadata": {},
   "outputs": [
    {
     "data": {
      "text/plain": [
       "(140,\n",
       " ['....573.613.........965............691......892..948.......964........439.375..................320......273...........352.284...............',\n",
       "  '.......*.............*.....814...............$....*........../..94......*....=.............103............/..882*...........+...............',\n",
       "  '...........328....598.....*........................819...................199........60*132..@....................685..........6.........493.',\n",
       "  '777....763...*.........510...614..................................439..............................216......925.......748....*....540.......',\n",
       "  '...=...-....710.............../...273.....933.............%...753...=......33......@........213$.....*..408...*......*.......514....*...130.',\n",
       "  '.................283...............%........*...........541..............&..........129...........873..@....884...897.......................',\n",
       "  '......#....=............................984..225.167..........303.....144..391....%......292................................909.............',\n",
       "  '.....915...580.................+...688.....%.......*.*........*...........*......47....-.............................586...........78.......',\n",
       "  '......................467.514.267...=................317......942........170..........658..669.....942...347..201........=658........*401...',\n",
       "  '....626.........549.....*..................845..............%.......925.......932............./.%...........*.....247...........#...........'])"
      ]
     },
     "execution_count": 4,
     "metadata": {},
     "output_type": "execute_result"
    }
   ],
   "source": [
    "data = puzzle.input_data.splitlines()\n",
    "len(data), data[:10]"
   ]
  },
  {
   "cell_type": "code",
   "execution_count": 64,
   "metadata": {},
   "outputs": [],
   "source": [
    "def parse(schematic):\n",
    "    parts = {}\n",
    "    pos = complex()\n",
    "    for line in schematic:\n",
    "        for part in line:\n",
    "            if part != '.':\n",
    "                parts[pos] = part\n",
    "            pos += 1\n",
    "        pos = pos.imag * 1j + 1j\n",
    "    return parts\n",
    "\n",
    "\n",
    "def get_numbers(symbols):\n",
    "    digits = '0123456789'\n",
    "    res = {}\n",
    "    used = set()\n",
    "    for pos, symbol in symbols.items():\n",
    "        if pos in used:\n",
    "            continue\n",
    "        num = ''\n",
    "        if symbol in digits:\n",
    "            num = symbol\n",
    "            i = 1\n",
    "            while symbols.get(pos-i, \"a\") in digits:\n",
    "                used.add(pos-i)\n",
    "                num = symbols[pos-i] + num\n",
    "                i += 1\n",
    "            j = 1\n",
    "            while symbols.get(pos+j, \"a\") in digits:\n",
    "                used.add(pos+j)\n",
    "                num = num + symbols[pos+j]\n",
    "                j += 1\n",
    "            start = pos - i + 1\n",
    "            end = pos + j -1\n",
    "            nbrs = {}\n",
    "            # print(num, int(start.real), int(end.real))\n",
    "            for i in range(int(start.real)-1, int(end.real)+2):\n",
    "                check = (i - 1j, i+0j, i+1j)\n",
    "                for c in check:\n",
    "                    c += start.imag * 1j\n",
    "                    if (c in symbols) and symbols[c] not in digits:\n",
    "                        nbrs[c] = symbols[c]\n",
    "            res[start] = (end, int(\"\".join(num)), nbrs)\n",
    "    return res"
   ]
  },
  {
   "cell_type": "code",
   "execution_count": 78,
   "metadata": {
    "tags": []
   },
   "outputs": [],
   "source": [
    "# symbols = parse(data_test)\n",
    "symbols = parse(data)\n",
    "numbers = get_numbers(symbols)\n",
    "# numbers"
   ]
  },
  {
   "cell_type": "code",
   "execution_count": 79,
   "metadata": {},
   "outputs": [
    {
     "data": {
      "text/plain": [
       "560670"
      ]
     },
     "execution_count": 79,
     "metadata": {},
     "output_type": "execute_result"
    }
   ],
   "source": [
    "res = 0\n",
    "for pos in numbers:\n",
    "    end, num, nbrs = numbers[pos]\n",
    "    if len(nbrs):\n",
    "        res += num\n",
    "res"
   ]
  },
  {
   "cell_type": "code",
   "execution_count": 71,
   "metadata": {},
   "outputs": [
    {
     "name": "stdout",
     "output_type": "stream",
     "text": [
      "\u001b[32mThat's the right answer!  You are one gold star closer to restoring snow operations. [Continue to Part Two]\u001b[0m\n"
     ]
    }
   ],
   "source": [
    "puzzle.answer_a = res"
   ]
  },
  {
   "cell_type": "code",
   "execution_count": 83,
   "metadata": {},
   "outputs": [],
   "source": [
    "# Part 2"
   ]
  },
  {
   "cell_type": "code",
   "execution_count": 81,
   "metadata": {
    "tags": []
   },
   "outputs": [],
   "source": [
    "from collections import defaultdict\n",
    "gears = defaultdict(list)\n",
    "\n",
    "for pos in numbers:\n",
    "    end, num, nbrs = numbers[pos]\n",
    "    for p in nbrs:\n",
    "        if nbrs[p] == '*':\n",
    "            gears[p] += [num]\n",
    "# gears"
   ]
  },
  {
   "cell_type": "code",
   "execution_count": 82,
   "metadata": {},
   "outputs": [
    {
     "data": {
      "text/plain": [
       "91622824"
      ]
     },
     "execution_count": 82,
     "metadata": {},
     "output_type": "execute_result"
    }
   ],
   "source": [
    "ratio_sum = 0\n",
    "for p in gears:\n",
    "    if len(gears[p]) == 2:\n",
    "        ratio_sum += gears[p][0] * gears[p][1]\n",
    "ratio_sum"
   ]
  },
  {
   "cell_type": "code",
   "execution_count": 85,
   "metadata": {},
   "outputs": [
    {
     "name": "stdout",
     "output_type": "stream",
     "text": [
      "\u001b[32mThat's the right answer!  You are one gold star closer to restoring snow operations.You have completed Day 3! You can [Shareon\n",
      "  Twitter\n",
      "Mastodon] this victory or [Return to Your Advent Calendar].\u001b[0m\n"
     ]
    }
   ],
   "source": [
    "puzzle.answer_b = ratio_sum"
   ]
  },
  {
   "cell_type": "code",
   "execution_count": null,
   "metadata": {},
   "outputs": [],
   "source": []
  }
 ],
 "metadata": {
  "kernelspec": {
   "display_name": "py310",
   "language": "python",
   "name": "py310"
  },
  "language_info": {
   "codemirror_mode": {
    "name": "ipython",
    "version": 3
   },
   "file_extension": ".py",
   "mimetype": "text/x-python",
   "name": "python",
   "nbconvert_exporter": "python",
   "pygments_lexer": "ipython3",
   "version": "3.10.2"
  }
 },
 "nbformat": 4,
 "nbformat_minor": 4
}
