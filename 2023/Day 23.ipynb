{
 "cells": [
  {
   "cell_type": "code",
   "execution_count": 1,
   "metadata": {},
   "outputs": [],
   "source": [
    "import os\n",
    "os.environ['AOC_SESSION'] = '53616c7465645f5ff17c6f54fd23191499c7017d6366538fcc35b61d0225390f78827c662577ddcc8d5d64ddf58c68c56d6ad68e5721930a5b7a5803b0bee173'"
   ]
  },
  {
   "cell_type": "code",
   "execution_count": 2,
   "metadata": {},
   "outputs": [],
   "source": [
    "import aocd\n",
    "from aocd.models import Puzzle\n",
    "day = 23\n",
    "year = 2023\n",
    "puzzle = Puzzle(year=year, day=day)\n",
    "# data = aocd.get_data(day=day, year=year)\n",
    "with open('./data/input_{:02d}'.format(day), 'w') as fh:\n",
    "    fh.write(puzzle.input_data)"
   ]
  },
  {
   "cell_type": "code",
   "execution_count": 14,
   "metadata": {},
   "outputs": [],
   "source": [
    "from heapq import heappop as hpop\n",
    "from heapq import heappush as hpush\n",
    "import networkx as nx"
   ]
  },
  {
   "cell_type": "code",
   "execution_count": 4,
   "metadata": {},
   "outputs": [],
   "source": [
    "test_data = \"\"\"#.#####################\n",
    "#.......#########...###\n",
    "#######.#########.#.###\n",
    "###.....#.>.>.###.#.###\n",
    "###v#####.#v#.###.#.###\n",
    "###.>...#.#.#.....#...#\n",
    "###v###.#.#.#########.#\n",
    "###...#.#.#.......#...#\n",
    "#####.#.#.#######.#.###\n",
    "#.....#.#.#.......#...#\n",
    "#.#####.#.#.#########v#\n",
    "#.#...#...#...###...>.#\n",
    "#.#.#v#######v###.###v#\n",
    "#...#.>.#...>.>.#.###.#\n",
    "#####v#.#.###v#.#.###.#\n",
    "#.....#...#...#.#.#...#\n",
    "#.#########.###.#.#.###\n",
    "#...###...#...#...#.###\n",
    "###.###.#.###v#####v###\n",
    "#...#...#.#.>.>.#.>.###\n",
    "#.###.###.#.###.#.#v###\n",
    "#.....###...###...#...#\n",
    "#####################.#\"\"\"\n",
    "data_test = test_data.splitlines()"
   ]
  },
  {
   "cell_type": "code",
   "execution_count": 5,
   "metadata": {},
   "outputs": [
    {
     "data": {
      "text/plain": [
       "(141,\n",
       " ['#.###########################################################################################################################################',\n",
       "  '#...........#...###...###.....#...#.......###...#...#.............#...#...#...#.......#.........#...###.....#.......#...#...#...#...#...#...#',\n",
       "  '###########.#.#.###.#.###.###.#.#.#.#####.###.#.#.#.#.###########.#.#.#.#.#.#.#.#####.#.#######.#.#.###.###.#.#####.#.#.#.#.#.#.#.#.#.#.#.#.#',\n",
       "  '#...#.......#.#...#.#...#...#.#.#.#.....#...#.#.#.#.#...........#.#.#.#.#.#.#.#.#.....#...#.....#.#...#.#...#.....#...#.#.#.#.#.#.#.#.#.#.#.#',\n",
       "  '#.#.#.#######.###.#.###.###.#.#.#.#####.###.#.#.#.#.###########.#.#.#.#.#.#.#.#.#.#######.#.#####.###.#.#.#######.#####.#.#.#.#.#.#.#.#.#.#.#',\n",
       "  '#.#...#.....#.#...#.#...###.#.#.#.#...#.#...#.#...#...#...#####.#.#.#...#.#.#.#.#...#.>.>.#.......#...#.#.......#.....#...#...#.#.#.#.#.#.#.#',\n",
       "  '#.#####.###.#.#.###.#.#####.#.#.#.#.#.#.#.###.#######.#.#.#####.#.#.#####.#.#.#.###.#.#v###########.###.#######.#####.#########.#.#.#.#.#.#.#',\n",
       "  '#.....#.#...#.#...#.#...#...#.#.#.#.#...#...#.......#...#.>.>.#.#.#.....#.#.#.#.#...#.#...#.........#...#.......#.....#...#...#...#.#.#.#.#.#',\n",
       "  '#####.#.#.###.###.#.###.#.###.#.#.#.#######.#######.#######v#.#.#.#####.#.#.#.#.#.###.###.#.#########.###.#######.#####.#.#.#.#####.#.#.#.#.#',\n",
       "  '#.....#.#...#.#...#...#.#...#.#.#.#.#.......###.....###.....#...#.#...#.#.#.#...#.....#...#...#.....#...#.###...#.......#...#...#...#.#.#.#.#'])"
      ]
     },
     "execution_count": 5,
     "metadata": {},
     "output_type": "execute_result"
    }
   ],
   "source": [
    "data = puzzle.input_data.splitlines()\n",
    "len(data), data[:10]"
   ]
  },
  {
   "cell_type": "code",
   "execution_count": 6,
   "metadata": {},
   "outputs": [],
   "source": [
    "def parse(data):\n",
    "    trail = {}\n",
    "    pos = complex(0)\n",
    "    start = None\n",
    "    end = None\n",
    "    for line in data:\n",
    "        for c in line:\n",
    "            trail[pos] = c\n",
    "            if c=='.': \n",
    "                if start is None:\n",
    "                    start = pos\n",
    "                end = pos\n",
    "            pos += 1\n",
    "        pos = complex(0, pos.imag - 1)\n",
    "    return trail, start, end\n",
    "\n",
    "nbrs = {\n",
    "    '.': [-1, +1, -1j, +1j],\n",
    "    '>': [+1],\n",
    "    'v': [-1j],\n",
    "    '^': [+1j],\n",
    "    '<': [-1],\n",
    "}\n",
    "\n",
    "def walk(trail, start, end):\n",
    "    q = [(0, (start.real, start.imag), set([start]))]\n",
    "    res = []\n",
    "    while len(q):\n",
    "        steps, pos, path = hpop(q)\n",
    "        pos = complex(*pos)\n",
    "        if pos == end:\n",
    "            res.append(-steps)\n",
    "        for nbr in nbrs[trail[pos]]:\n",
    "            npos = pos + nbr\n",
    "            if trail.get(npos, '#') == '#':\n",
    "                continue\n",
    "            if npos in path:\n",
    "                continue\n",
    "            path = path.copy()\n",
    "            path.add(npos)\n",
    "            hpush(q, (steps - 1, (npos.real, npos.imag), path))\n",
    "    return res"
   ]
  },
  {
   "cell_type": "code",
   "execution_count": 7,
   "metadata": {},
   "outputs": [
    {
     "data": {
      "text/plain": [
       "((1+0j), (139-140j))"
      ]
     },
     "execution_count": 7,
     "metadata": {},
     "output_type": "execute_result"
    }
   ],
   "source": [
    "# trail, start, end = parse(data_test)\n",
    "trail, start, end = parse(data)\n",
    "start, end"
   ]
  },
  {
   "cell_type": "code",
   "execution_count": 8,
   "metadata": {},
   "outputs": [],
   "source": [
    "steps = walk(trail, start, end)"
   ]
  },
  {
   "cell_type": "code",
   "execution_count": 9,
   "metadata": {},
   "outputs": [
    {
     "data": {
      "text/plain": [
       "2194"
      ]
     },
     "execution_count": 9,
     "metadata": {},
     "output_type": "execute_result"
    }
   ],
   "source": [
    "max(steps)"
   ]
  },
  {
   "cell_type": "code",
   "execution_count": 46,
   "metadata": {},
   "outputs": [
    {
     "name": "stdout",
     "output_type": "stream",
     "text": [
      "\u001b[32mThat's the right answer!  You are one gold star closer to restoring snow operations. [Continue to Part Two]\u001b[0m\n"
     ]
    }
   ],
   "source": [
    "puzzle.answer_a = max(steps)"
   ]
  },
  {
   "cell_type": "code",
   "execution_count": 10,
   "metadata": {},
   "outputs": [],
   "source": [
    "# Part 2"
   ]
  },
  {
   "cell_type": "code",
   "execution_count": 38,
   "metadata": {},
   "outputs": [],
   "source": [
    "def path_exists(trail, filled, start, end):\n",
    "    q = [(0, (start.real, start.imag), set([start]))]\n",
    "    while len(q):\n",
    "        steps, pos, path = hpop(q)\n",
    "        pos = complex(*pos)\n",
    "        if pos == end:\n",
    "            return True\n",
    "        \n",
    "        for nbr in [-1, +1, -1j, +1j]:\n",
    "            npos = pos + nbr\n",
    "            if trail.get(npos, '#') == '#':\n",
    "                continue\n",
    "            if npos in path or npos in filled:\n",
    "                continue\n",
    "            path = path.copy()\n",
    "            path.add(npos)\n",
    "            hpush(q, (steps-1, (npos.real, npos.imag), path))\n",
    "    return False\n",
    "\n",
    "def walk_B(trail, start, end):\n",
    "    q = [(0, 0, (start.real, start.imag), set([start]))]\n",
    "    res = []\n",
    "    while len(q):\n",
    "        heur, steps, pos, path = hpop(q)\n",
    "        pos = complex(*pos)\n",
    "        if pos == end:\n",
    "            return -steps\n",
    "            res.append(-steps)\n",
    "            # if len(res) > 1000:\n",
    "            #     print(len(q))\n",
    "            #     return res\n",
    "        for nbr in [-1, +1, -1j, +1j]:\n",
    "            if pos == 137-133j  and nbr != -1j:\n",
    "                continue\n",
    "            npos = pos + nbr\n",
    "            \n",
    "            if trail.get(npos, '#') == '#':\n",
    "                continue\n",
    "            if npos in path:\n",
    "                continue\n",
    "            # if not path_exists(trail, path, npos, end):\n",
    "            #     continue\n",
    "                \n",
    "            path = path.copy()\n",
    "            path.add(npos)\n",
    "            heur = steps + abs(npos.real - end.real) + abs(npos.imag - end.imag)\n",
    "            hpush(q, (heur, steps + 1, (npos.real, npos.imag), path))\n",
    "            # hpush(q, (steps+1, steps - 1, (npos.real, npos.imag), path))\n",
    "    return res\n",
    "\n",
    "def build_graph(trail, start, end):\n",
    "    G = nx.Graph()\n",
    "    G.add_node(start)\n",
    "    G.add_node(end)\n",
    "    \n",
    "    for pos, c in trail.items():\n",
    "        if c == '#':\n",
    "            continue\n",
    "        nbrs = []\n",
    "        for nbr in [-1, +1, -1j, +1j]:            \n",
    "            npos = pos + nbr\n",
    "            if trail.get(npos, '#') == '#':\n",
    "                continue\n",
    "            nbrs.append(npos)\n",
    "        if len(nbrs) > 2:\n",
    "            G.add_node(pos)\n",
    "            \n",
    "    for edge_start in G.nodes:\n",
    "        path = set([edge_start])\n",
    "        q = [(0, edge_start, path)]\n",
    "        while len(q):\n",
    "            steps, pos, path = q.pop()\n",
    "            if G.has_node(pos) and steps > 0:\n",
    "                if G.has_edge(pos, edge_start) and G.edges[pos, edge_start]['weight'] != steps:\n",
    "                    print('! ', pos, edge_start, steps, G.edges[pos, edge_start]['weight'])\n",
    "                G.add_edge(pos, edge_start, weight=steps)\n",
    "                continue\n",
    "                \n",
    "            for nbr in [-1, +1, -1j, +1j]:            \n",
    "                npos = pos + nbr\n",
    "                if trail.get(npos, '#') == '#' or npos in path:\n",
    "                    continue\n",
    "                npath = path.copy()\n",
    "                npath.add(npos)\n",
    "                q.append((steps+1, npos, npath))\n",
    "            \n",
    "    return G\n",
    "\n",
    "def walk_graph(G, start, end):\n",
    "    q = [(0, start, set([start]))]\n",
    "#     q = [(0, start, [start])]\n",
    "    res = []\n",
    "    while len(q):\n",
    "        steps, pos, path = q.pop()\n",
    "        if pos == end:\n",
    "            res.append((steps, path))\n",
    "        for nbr, attr in G[pos].items():\n",
    "            npos = nbr\n",
    "            if npos in path:\n",
    "                continue\n",
    "                \n",
    "            npath = path.copy()\n",
    "            npath.add(npos)\n",
    "#             npath.append(npos)\n",
    "            q.append((steps + attr['weight'], npos, npath))\n",
    "    return res"
   ]
  },
  {
   "cell_type": "code",
   "execution_count": 39,
   "metadata": {
    "tags": []
   },
   "outputs": [
    {
     "data": {
      "text/plain": [
       "((1+0j), (139-140j))"
      ]
     },
     "execution_count": 39,
     "metadata": {},
     "output_type": "execute_result"
    }
   ],
   "source": [
    "trail, start, end = parse(data_test)\n",
    "trail, start, end = parse(data)\n",
    "start, end"
   ]
  },
  {
   "cell_type": "code",
   "execution_count": 40,
   "metadata": {},
   "outputs": [],
   "source": [
    "g = build_graph(trail, start, end)"
   ]
  },
  {
   "cell_type": "code",
   "execution_count": 41,
   "metadata": {},
   "outputs": [],
   "source": [
    "res = walk_graph(g, start, end)"
   ]
  },
  {
   "cell_type": "code",
   "execution_count": 42,
   "metadata": {},
   "outputs": [],
   "source": [
    "msteps, path = max(res, key=lambda x: x[0])#, min(res)"
   ]
  },
  {
   "cell_type": "code",
   "execution_count": 43,
   "metadata": {},
   "outputs": [
    {
     "data": {
      "text/plain": [
       "(6410, 35)"
      ]
     },
     "execution_count": 43,
     "metadata": {},
     "output_type": "execute_result"
    }
   ],
   "source": [
    "msteps, len(path)"
   ]
  },
  {
   "cell_type": "code",
   "execution_count": 52,
   "metadata": {},
   "outputs": [
    {
     "name": "stderr",
     "output_type": "stream",
     "text": [
      "wrong answer: That's not the right answer; your answer is too low.  If you're stuck, make sure you're using the full input data; there are also some general tips on the about page, or you can ask for hints on the subreddit.  Please wait one minute before trying again. [Return to Day 23]\n"
     ]
    },
    {
     "name": "stdout",
     "output_type": "stream",
     "text": [
      "\u001b[31mThat's not the right answer; your answer is too low.  If you're stuck, make sure you're using the full input data; there are also some general tips on the about page, or you can ask for hints on the subreddit.  Please wait one minute before trying again. [Return to Day 23]\u001b[0m\n"
     ]
    }
   ],
   "source": [
    "puzzle.answer_b = max(msteps)"
   ]
  },
  {
   "cell_type": "code",
   "execution_count": 45,
   "metadata": {},
   "outputs": [
    {
     "data": {
      "text/plain": [
       "1262816"
      ]
     },
     "execution_count": 45,
     "metadata": {},
     "output_type": "execute_result"
    }
   ],
   "source": [
    "len(res)"
   ]
  },
  {
   "cell_type": "code",
   "execution_count": null,
   "metadata": {},
   "outputs": [],
   "source": [
    "# too low: 6078"
   ]
  },
  {
   "cell_type": "code",
   "execution_count": 81,
   "metadata": {},
   "outputs": [
    {
     "data": {
      "text/plain": [
       "9454"
      ]
     },
     "execution_count": 81,
     "metadata": {},
     "output_type": "execute_result"
    }
   ],
   "source": [
    "sum([1 for v in trail.values() if v != '#'])"
   ]
  },
  {
   "cell_type": "code",
   "execution_count": null,
   "metadata": {},
   "outputs": [],
   "source": []
  }
 ],
 "metadata": {
  "kernelspec": {
   "display_name": "py310",
   "language": "python",
   "name": "py310"
  },
  "language_info": {
   "codemirror_mode": {
    "name": "ipython",
    "version": 3
   },
   "file_extension": ".py",
   "mimetype": "text/x-python",
   "name": "python",
   "nbconvert_exporter": "python",
   "pygments_lexer": "ipython3",
   "version": "3.10.2"
  }
 },
 "nbformat": 4,
 "nbformat_minor": 4
}
