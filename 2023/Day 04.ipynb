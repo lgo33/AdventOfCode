{
 "cells": [
  {
   "cell_type": "code",
   "execution_count": 1,
   "metadata": {},
   "outputs": [],
   "source": [
    "import os\n",
    "os.environ['AOC_SESSION'] = '53616c7465645f5ff17c6f54fd23191499c7017d6366538fcc35b61d0225390f78827c662577ddcc8d5d64ddf58c68c56d6ad68e5721930a5b7a5803b0bee173'"
   ]
  },
  {
   "cell_type": "code",
   "execution_count": 2,
   "metadata": {},
   "outputs": [],
   "source": [
    "import aocd\n",
    "from aocd.models import Puzzle\n",
    "day = 4\n",
    "year = 2023\n",
    "puzzle = Puzzle(year=year, day=day)\n",
    "# data = aocd.get_data(day=day, year=year)\n",
    "with open('./data/input_{:02d}'.format(day), 'w') as fh:\n",
    "    fh.write(puzzle.input_data)"
   ]
  },
  {
   "cell_type": "code",
   "execution_count": 12,
   "metadata": {},
   "outputs": [],
   "source": [
    "test_data = \"\"\"Card 1: 41 48 83 86 17 | 83 86  6 31 17  9 48 53\n",
    "Card 2: 13 32 20 16 61 | 61 30 68 82 17 32 24 19\n",
    "Card 3:  1 21 53 59 44 | 69 82 63 72 16 21 14  1\n",
    "Card 4: 41 92 73 84 69 | 59 84 76 51 58  5 54 83\n",
    "Card 5: 87 83 26 28 32 | 88 30 70 12 93 22 82 36\n",
    "Card 6: 31 18 13 56 72 | 74 77 10 23 35 67 36 11\n",
    "\"\"\"\n",
    "data_test = test_data.splitlines()"
   ]
  },
  {
   "cell_type": "code",
   "execution_count": 4,
   "metadata": {},
   "outputs": [
    {
     "data": {
      "text/plain": [
       "(220,\n",
       " ['Card   1:  4 33 89 61 95 36  5 30 26 55 | 15 33 28 36 93 57 26 13 95  4 18 79  6 87 60 66 69 67 19 42 22 61 78  5 58',\n",
       "  'Card   2:  9 16 48 75 82 61 56 91  3 27 |  4 12 96 20 22 13  6 86 61 94 95 30  9 75 56 38 26 28  7 16 42 55  2 34  8',\n",
       "  'Card   3: 91 74 25 36 96 64 70 48 93 89 | 67 86 52 89 19 91 48 64 23 72  6 80 58 96 74 15 35 10 70 63 25 14 87 93 36',\n",
       "  'Card   4: 51  1 79 93 89 84 16 70 98 22 | 89 93 15 82 99 32 49 22 16  1 76 13 18 21 98 79 77 84 70 55 24 51 66 26 68',\n",
       "  'Card   5: 55 45 89 38 19 12 80 68 42 18 | 55 41 35 29 67 89 50 98 86 80 91 19 90 25 43 37 83 46 42 38 76 95 93 68 45',\n",
       "  'Card   6: 67 71 31 80  6  4 37 44 48 51 | 46 52 88 65 31 87 69 34 30 15 37 47 20 16 13 42 18 56 73 53 27 89 95 14 77',\n",
       "  'Card   7: 19 71 16 57 88 79 18 58 73 83 | 84 61 99 94 17 96 39 90 63 69 66 80 55 60 41 74 95 13 28 32  4 59  5  3  6',\n",
       "  'Card   8: 92 62 75 14 19 12 64 23 70 93 | 81 33 16 23 68 96 79 57 59 78 38 56 93 70 35 63 51 71 90 86 91 64 54 34  1',\n",
       "  'Card   9: 55 28 87 48 85 56 31 32 25 52 | 43 19 52 96 56 85 26 38 28 60 95  1 15  3 13 71 93 76  4 83 48  9 37 88 80',\n",
       "  'Card  10: 70 13 57 30 27 31 12 29 82 38 | 28 44 43 82 71 15 14 74 38 72 26 83 29 96 30 77 66 27 51  9 84 68 57 64 32'])"
      ]
     },
     "execution_count": 4,
     "metadata": {},
     "output_type": "execute_result"
    }
   ],
   "source": [
    "data = puzzle.input_data.splitlines()\n",
    "len(data), data[:10]"
   ]
  },
  {
   "cell_type": "code",
   "execution_count": 36,
   "metadata": {},
   "outputs": [],
   "source": [
    "def get_numbers(string):\n",
    "    # print(string)\n",
    "    nums = [int(num) for num in string.split(\" \") if num]\n",
    "    assert (len(nums) == len(set(nums)))\n",
    "    return set(nums)\n",
    "\n",
    "def parse(card):\n",
    "    card, numbers = card.split(': ')\n",
    "    winning, drawn = numbers.split(\" | \")\n",
    "    winning = get_numbers(winning)\n",
    "    drawn = get_numbers(drawn)\n",
    "    return card, winning, drawn\n",
    "\n",
    "def part_a(card, winning, drawn):\n",
    "    inter = winning.intersection(drawn)\n",
    "    if len(inter) == 0:\n",
    "        return 0\n",
    "    return pow(2, len(inter)-1)"
   ]
  },
  {
   "cell_type": "code",
   "execution_count": 37,
   "metadata": {},
   "outputs": [
    {
     "data": {
      "text/plain": [
       "28750"
      ]
     },
     "execution_count": 37,
     "metadata": {},
     "output_type": "execute_result"
    }
   ],
   "source": [
    "# res = sum([part_a(*parse(card)) for card in data_test])\n",
    "res = sum([part_a(*parse(card)) for card in data])\n",
    "res"
   ]
  },
  {
   "cell_type": "code",
   "execution_count": 34,
   "metadata": {},
   "outputs": [
    {
     "name": "stdout",
     "output_type": "stream",
     "text": [
      "\u001b[32mThat's the right answer!  You are one gold star closer to restoring snow operations. [Continue to Part Two]\u001b[0m\n"
     ]
    }
   ],
   "source": [
    "puzzle.answer_a = res"
   ]
  },
  {
   "cell_type": "code",
   "execution_count": 35,
   "metadata": {},
   "outputs": [],
   "source": [
    "# Part 2"
   ]
  },
  {
   "cell_type": "code",
   "execution_count": 49,
   "metadata": {},
   "outputs": [],
   "source": [
    "def parse_b(card):\n",
    "    card, winning, drawn = parse(card)\n",
    "    card = int(card[4:])\n",
    "    return (len(winning.intersection(drawn)))\n",
    "    "
   ]
  },
  {
   "cell_type": "code",
   "execution_count": 70,
   "metadata": {},
   "outputs": [],
   "source": [
    "# cards = [parse_b(card) for card in data_test]\n",
    "cards = [parse_b(card) for card in data]\n",
    "count = [1] * len(cards)\n",
    "# cards, count"
   ]
  },
  {
   "cell_type": "code",
   "execution_count": 71,
   "metadata": {},
   "outputs": [],
   "source": [
    "for idx, num in enumerate(cards):\n",
    "    # num = cards[idx]\n",
    "    for i in range(idx+1, idx+num+1):\n",
    "        if i < len(count):\n",
    "            count[i] += count[idx]\n",
    "    # print(count)\n",
    "    idx += 1"
   ]
  },
  {
   "cell_type": "code",
   "execution_count": 73,
   "metadata": {},
   "outputs": [
    {
     "data": {
      "text/plain": [
       "10212704"
      ]
     },
     "execution_count": 73,
     "metadata": {},
     "output_type": "execute_result"
    }
   ],
   "source": [
    "res = sum(count)\n",
    "res"
   ]
  },
  {
   "cell_type": "code",
   "execution_count": 74,
   "metadata": {},
   "outputs": [
    {
     "name": "stdout",
     "output_type": "stream",
     "text": [
      "\u001b[32mThat's the right answer!  You are one gold star closer to restoring snow operations.You have completed Day 4! You can [Shareon\n",
      "  Twitter\n",
      "Mastodon] this victory or [Return to Your Advent Calendar].\u001b[0m\n"
     ]
    }
   ],
   "source": [
    "puzzle.answer_b = res"
   ]
  },
  {
   "cell_type": "code",
   "execution_count": null,
   "metadata": {},
   "outputs": [],
   "source": []
  }
 ],
 "metadata": {
  "kernelspec": {
   "display_name": "py310",
   "language": "python",
   "name": "py310"
  },
  "language_info": {
   "codemirror_mode": {
    "name": "ipython",
    "version": 3
   },
   "file_extension": ".py",
   "mimetype": "text/x-python",
   "name": "python",
   "nbconvert_exporter": "python",
   "pygments_lexer": "ipython3",
   "version": "3.10.2"
  }
 },
 "nbformat": 4,
 "nbformat_minor": 4
}
