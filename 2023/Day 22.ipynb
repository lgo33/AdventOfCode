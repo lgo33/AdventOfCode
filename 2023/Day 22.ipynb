{
 "cells": [
  {
   "cell_type": "code",
   "execution_count": 1,
   "metadata": {},
   "outputs": [],
   "source": [
    "import os\n",
    "os.environ['AOC_SESSION'] = '53616c7465645f5ff17c6f54fd23191499c7017d6366538fcc35b61d0225390f78827c662577ddcc8d5d64ddf58c68c56d6ad68e5721930a5b7a5803b0bee173'"
   ]
  },
  {
   "cell_type": "code",
   "execution_count": 2,
   "metadata": {},
   "outputs": [],
   "source": [
    "import aocd\n",
    "from aocd.models import Puzzle\n",
    "day = 22\n",
    "year = 2023\n",
    "puzzle = Puzzle(year=year, day=day)\n",
    "# data = aocd.get_data(day=day, year=year)\n",
    "with open('./data/input_{:02d}'.format(day), 'w') as fh:\n",
    "    fh.write(puzzle.input_data)"
   ]
  },
  {
   "cell_type": "code",
   "execution_count": 46,
   "metadata": {},
   "outputs": [],
   "source": [
    "import numpy as np"
   ]
  },
  {
   "cell_type": "code",
   "execution_count": 5,
   "metadata": {},
   "outputs": [],
   "source": [
    "test_data = \"\"\"1,0,1~1,2,1\n",
    "0,0,2~2,0,2\n",
    "0,2,3~2,2,3\n",
    "0,0,4~0,2,4\n",
    "2,0,5~2,2,5\n",
    "0,1,6~2,1,6\n",
    "1,1,8~1,1,9\"\"\"\n",
    "data_test = test_data.splitlines()"
   ]
  },
  {
   "cell_type": "code",
   "execution_count": 293,
   "metadata": {},
   "outputs": [],
   "source": [
    "test_data2 = \"\"\"0,0,1~1,0,1\n",
    "0,1,1~0,1,2\n",
    "0,0,5~0,0,5\n",
    "0,0,4~0,1,4\"\"\"\n",
    "data_test2 = test_data2.splitlines()"
   ]
  },
  {
   "cell_type": "code",
   "execution_count": 6,
   "metadata": {},
   "outputs": [
    {
     "data": {
      "text/plain": [
       "(1456,\n",
       " ['6,0,119~7,0,119',\n",
       "  '2,3,41~5,3,41',\n",
       "  '4,3,155~5,3,155',\n",
       "  '3,6,166~3,9,166',\n",
       "  '0,1,200~0,1,201',\n",
       "  '4,0,153~4,1,153',\n",
       "  '1,5,267~4,5,267',\n",
       "  '1,0,191~4,0,191',\n",
       "  '3,7,257~3,9,257',\n",
       "  '5,0,75~5,2,75'])"
      ]
     },
     "execution_count": 6,
     "metadata": {},
     "output_type": "execute_result"
    }
   ],
   "source": [
    "data = puzzle.input_data.splitlines()\n",
    "len(data), data[:10]"
   ]
  },
  {
   "cell_type": "code",
   "execution_count": 218,
   "metadata": {},
   "outputs": [],
   "source": [
    "def parse(data):\n",
    "    bricks = []\n",
    "    for line in data:\n",
    "        _from, _to = map(lambda x: x.split(','), line.split('~'))\n",
    "        _from = [int(x) for x in _from]\n",
    "        _to = [int(x) for x in _to]\n",
    "        bricks.append((_from, _to))\n",
    "        \n",
    "    return sorted(bricks, key=lambda x: min(x[0][2], x[1][2]))\n",
    "\n",
    "def get_brick_slice(brick, below=False):\n",
    "    _f, _t = brick\n",
    "    if below:\n",
    "        z = min(_f[2], _t[2])\n",
    "        return np.s_[_f[0]:_t[0]+1, _f[1]:_t[1]+1, z-1]\n",
    "    return np.s_[_f[0]:_t[0]+1, _f[1]:_t[1]+1, _f[2]:_t[2]+1]"
   ]
  },
  {
   "cell_type": "code",
   "execution_count": 339,
   "metadata": {},
   "outputs": [],
   "source": [
    "bricks = parse(data)\n",
    "# bricks = parse(data_test)\n",
    "# bricks = parse(data_test2)"
   ]
  },
  {
   "cell_type": "code",
   "execution_count": 340,
   "metadata": {
    "tags": []
   },
   "outputs": [],
   "source": [
    "cubes = np.zeros((10,10,400), dtype=np.int32)\n",
    "\n",
    "for i, brick in enumerate(bricks):\n",
    "    # print('###')\n",
    "    _f, _t = brick\n",
    "    # print('> ', brick, cubes[get_brick_slice((_f, _t), below=True)])\n",
    "    while np.all(cubes[get_brick_slice((_f, _t), below=True)]  == 0) and _f[2] > 1 and _t[2] > 1:       \n",
    "        _f[2] -= 1\n",
    "        _t[2] -= 1\n",
    "    sl = get_brick_slice((_f, _t))\n",
    "    # print(sl)\n",
    "    cubes[sl] = i+1\n",
    "    # print('< ', _f, _t)\n",
    "    \n",
    "needed = set()\n",
    "carry = {}\n",
    "for i, brick in enumerate(bricks):\n",
    "    # print(brick)\n",
    "    if min(brick[0][2], brick[1][2]) == 1:\n",
    "        # print('.', end='')\n",
    "        continue\n",
    "    sl = get_brick_slice(brick, below=True)\n",
    "    support = set([val for val in cubes[sl].flatten() if val != 0])\n",
    "    carry[i+1] = support\n",
    "    # print(brick, \" | \" ,support)\n",
    "    if len(set(support)) == 0:\n",
    "        print(\"!!!!\", i, brick, support)\n",
    "    if len(set(support)) == 1:\n",
    "        needed |= support\n",
    "\n",
    "        "
   ]
  },
  {
   "cell_type": "code",
   "execution_count": 341,
   "metadata": {
    "tags": []
   },
   "outputs": [],
   "source": [
    "_ = carry\n",
    "# _"
   ]
  },
  {
   "cell_type": "code",
   "execution_count": 342,
   "metadata": {},
   "outputs": [
    {
     "data": {
      "text/plain": [
       "95059"
      ]
     },
     "execution_count": 342,
     "metadata": {},
     "output_type": "execute_result"
    }
   ],
   "source": [
    "total = 0\n",
    "for i in needed:\n",
    "    disintegrated = set([i])\n",
    "    while True:\n",
    "        cont = False\n",
    "        for j, sup in carry.items():\n",
    "            # print(j, sup)\n",
    "            if j not in disintegrated and len(sup - disintegrated) == 0:\n",
    "                # print(i, j, disintegrated, sup)\n",
    "                disintegrated.add(j)\n",
    "                cont = True\n",
    "        if not cont:\n",
    "            break\n",
    "    total += len(disintegrated) - 1\n",
    "    # print(i, len(disintegrated), disintegrated)\n",
    "total"
   ]
  },
  {
   "cell_type": "code",
   "execution_count": 343,
   "metadata": {
    "tags": []
   },
   "outputs": [
    {
     "name": "stdout",
     "output_type": "stream",
     "text": [
      "\u001b[32mThat's the right answer!  You are one gold star closer to restoring snow operations.You have completed Day 22! You can [Shareon\n",
      "  Twitter\n",
      "Mastodon] this victory or [Return to Your Advent Calendar].\u001b[0m\n"
     ]
    }
   ],
   "source": [
    "puzzle.answer_b = total"
   ]
  }
 ],
 "metadata": {
  "kernelspec": {
   "display_name": "py310",
   "language": "python",
   "name": "py310"
  },
  "language_info": {
   "codemirror_mode": {
    "name": "ipython",
    "version": 3
   },
   "file_extension": ".py",
   "mimetype": "text/x-python",
   "name": "python",
   "nbconvert_exporter": "python",
   "pygments_lexer": "ipython3",
   "version": "3.10.2"
  }
 },
 "nbformat": 4,
 "nbformat_minor": 4
}
