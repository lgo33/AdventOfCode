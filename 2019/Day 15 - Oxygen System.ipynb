{
 "cells": [
  {
   "cell_type": "code",
   "execution_count": 1,
   "metadata": {},
   "outputs": [],
   "source": [
    "with open('./data/input_15.txt') as fh:\n",
    "    file_input = fh.read().strip()"
   ]
  },
  {
   "cell_type": "code",
   "execution_count": 66,
   "metadata": {},
   "outputs": [],
   "source": [
    "from intcode import intcode\n",
    "import pickle\n",
    "import matplotlib.pyplot as plt\n",
    "import numpy as np\n",
    "%matplotlib inline"
   ]
  },
  {
   "cell_type": "code",
   "execution_count": 169,
   "metadata": {},
   "outputs": [],
   "source": [
    "def render_map(m):\n",
    "    x = np.array([e[0] for e in m.keys()])\n",
    "    y = np.array([e[1] for e in m.keys()])\n",
    "    \n",
    "    _minx, _maxx = x.min(), x.max()\n",
    "    _miny, _maxy = y.min(), y.max()\n",
    "    dimx = _maxx - _minx\n",
    "    dimy = _maxy - _miny\n",
    "    f = np.zeros((dimx+1, dimy+1)) -1\n",
    "    \n",
    "    for e in m:\n",
    "        f[e[0]-_minx, e[1]-_miny] = m[e]\n",
    "    f[-_minx, -_miny] = 3\n",
    "    return plt.imshow(f.T)\n",
    "    "
   ]
  },
  {
   "cell_type": "code",
   "execution_count": 170,
   "metadata": {},
   "outputs": [],
   "source": [
    "mem = [int(d) for d in file_input.split(',')]"
   ]
  },
  {
   "cell_type": "code",
   "execution_count": 108,
   "metadata": {},
   "outputs": [],
   "source": [
    "def ngb(pos):\n",
    "    yield (pos[0], pos[1]-1), 1\n",
    "    yield (pos[0], pos[1]+1), 2\n",
    "    yield (pos[0]-1, pos[1]), 3\n",
    "    yield (pos[0]+1, pos[1]), 4\n",
    "    \n",
    "def add_pos(pos, direction):\n",
    "    if direction == 1:\n",
    "        return pos[0], pos[1] - 1\n",
    "    if direction == 2:\n",
    "        return pos[0], pos[1] + 1\n",
    "    if direction == 3:\n",
    "        return pos[0] - 1, pos[1]\n",
    "    if direction == 4:\n",
    "        return pos[0] + 1, pos[1]\n",
    "    \n",
    "def opp(direction):\n",
    "    return {\n",
    "        1: 2,\n",
    "        2: 1,\n",
    "        3: 4,\n",
    "        4: 3,\n",
    "    }[direction] "
   ]
  },
  {
   "cell_type": "code",
   "execution_count": 162,
   "metadata": {},
   "outputs": [],
   "source": [
    "class robot():\n",
    "    def __init__(self, mem, part2=False):\n",
    "        self.reset = part2\n",
    "        self._move = []\n",
    "        self._outp = []\n",
    "        \n",
    "        self.ic = intcode(mem, take_input=self._move.pop, give_output=self._outp.append, add_mem = 1000)\n",
    "        self.pos = (0, 0)\n",
    "        self.map = {(0, 0): 1}\n",
    "        self.dist = {(0, 0): 0}\n",
    "        self.to_explore = set([n[0] for n in nbg(self.pos)])\n",
    "        self.pos_ox = None\n",
    "        self.save_state = None\n",
    "    \n",
    "    def _process(self, outp):\n",
    "        pass\n",
    "    \n",
    "    def _walk(self, target):\n",
    "        pass\n",
    "    \n",
    "    def _go(self, direction):\n",
    "        self._move.append(direction)\n",
    "        self.rc = self.ic.run()\n",
    "        if self._outp.pop():\n",
    "            self.pos = add_pos(self.pos, direction)\n",
    "        else:\n",
    "            raise(\"something went wrong\")\n",
    "    \n",
    "    def _try(self, direction):\n",
    "#         print(self.pos, direction, self.to_explore)\n",
    "        self._move.append(direction)\n",
    "        self.rc = self.ic.run()\n",
    "        res = self._outp.pop()\n",
    "        new_pos = add_pos(self.pos, direction)\n",
    "#         print(new_pos)\n",
    "        if res == 0:\n",
    "            self.map[new_pos] = 0\n",
    "        else:\n",
    "            self.map[new_pos] = res\n",
    "            if new_pos in self.dist:\n",
    "                self.dist[new_pos] = min(self.dist[new_pos], self.dist[self.pos] + 1)\n",
    "            else:\n",
    "                self.dist[new_pos] = self.dist[self.pos] + 1\n",
    "            self.pos = new_pos\n",
    "            if res == 2:\n",
    "                self.pos_ox = self.pos\n",
    "                self.save_state = ic.__getstate__()\n",
    "                if self.reset:\n",
    "                    self.pos = (0, 0)\n",
    "                    self.map = {(0, 0): 1}\n",
    "                    self.dist = {(0, 0): 0}\n",
    "                    self.path = []\n",
    "                    new_pos = self.pos\n",
    "            for n, d in ngb(new_pos):\n",
    "                if n not in self.map.keys():\n",
    "                    self.to_explore.add(n)\n",
    "        return res\n",
    "        \n",
    "    \n",
    "    def explore(self):\n",
    "        self.path = []\n",
    "        while self.to_explore:\n",
    "            for n, d in ngb(self.pos):\n",
    "                if n in self.to_explore:\n",
    "                    self.to_explore.discard(n)\n",
    "                    if self._try(d):\n",
    "                        self.path.append(d)\n",
    "                    break\n",
    "            else:\n",
    "                if self.path:\n",
    "                    self._go(opp(self.path.pop()))\n",
    "                else:\n",
    "                    break\n",
    "\n",
    "    def back_track():\n",
    "        pass        \n",
    "    \n",
    "    def astar(self, target):\n",
    "        pass"
   ]
  },
  {
   "cell_type": "code",
   "execution_count": 163,
   "metadata": {},
   "outputs": [
    {
     "name": "stdout",
     "output_type": "stream",
     "text": [
      "saving\n"
     ]
    }
   ],
   "source": [
    "rob = robot(mem)\n",
    "rob.explore()"
   ]
  },
  {
   "cell_type": "code",
   "execution_count": null,
   "metadata": {},
   "outputs": [],
   "source": []
  },
  {
   "cell_type": "code",
   "execution_count": 171,
   "metadata": {},
   "outputs": [
    {
     "data": {
      "text/plain": [
       "<matplotlib.image.AxesImage at 0x7f3167af7a10>"
      ]
     },
     "execution_count": 171,
     "metadata": {},
     "output_type": "execute_result"
    },
    {
     "data": {
      "image/png": "[encoded data removed]",
      "text/plain": [
       "<Figure size 432x288 with 1 Axes>"
      ]
     },
     "metadata": {
      "needs_background": "light"
     },
     "output_type": "display_data"
    }
   ],
   "source": [
    "render_map(rob.map)"
   ]
  },
  {
   "cell_type": "code",
   "execution_count": 165,
   "metadata": {},
   "outputs": [
    {
     "data": {
      "text/plain": [
       "258"
      ]
     },
     "execution_count": 165,
     "metadata": {},
     "output_type": "execute_result"
    }
   ],
   "source": [
    "# part 1\n",
    "rob.dist[rob.pos_ox]"
   ]
  },
  {
   "cell_type": "code",
   "execution_count": 166,
   "metadata": {},
   "outputs": [
    {
     "name": "stdout",
     "output_type": "stream",
     "text": [
      "saving\n"
     ]
    }
   ],
   "source": [
    "# part 2\n",
    "rob2 = robot(mem, part2 = True)\n",
    "rob2.explore()"
   ]
  },
  {
   "cell_type": "code",
   "execution_count": 172,
   "metadata": {},
   "outputs": [
    {
     "data": {
      "text/plain": [
       "<matplotlib.image.AxesImage at 0x7f3167ae7f50>"
      ]
     },
     "execution_count": 172,
     "metadata": {},
     "output_type": "execute_result"
    },
    {
     "data": {
      "image/png": "[encoded data removed]",
      "text/plain": [
       "<Figure size 432x288 with 1 Axes>"
      ]
     },
     "metadata": {
      "needs_background": "light"
     },
     "output_type": "display_data"
    }
   ],
   "source": [
    "render_map(rob2.map)"
   ]
  },
  {
   "cell_type": "code",
   "execution_count": 176,
   "metadata": {},
   "outputs": [
    {
     "data": {
      "text/plain": [
       "372"
      ]
     },
     "execution_count": 176,
     "metadata": {},
     "output_type": "execute_result"
    }
   ],
   "source": [
    "max(rob2.dist.values())"
   ]
  },
  {
   "cell_type": "code",
   "execution_count": 181,
   "metadata": {},
   "outputs": [
    {
     "data": {
      "text/plain": [
       "<matplotlib.colorbar.Colorbar at 0x7f3167894c90>"
      ]
     },
     "execution_count": 181,
     "metadata": {},
     "output_type": "execute_result"
    },
    {
     "data": {
      "image/png": "[encoded data removed]",
      "text/plain": [
       "<Figure size 432x288 with 2 Axes>"
      ]
     },
     "metadata": {
      "needs_background": "light"
     },
     "output_type": "display_data"
    }
   ],
   "source": [
    "render_map(rob2.dist)\n",
    "plt.colorbar()"
   ]
  },
  {
   "cell_type": "code",
   "execution_count": 180,
   "metadata": {},
   "outputs": [
    {
     "data": {
      "text/plain": [
       "<matplotlib.colorbar.Colorbar at 0x7f31679a8a50>"
      ]
     },
     "execution_count": 180,
     "metadata": {},
     "output_type": "execute_result"
    },
    {
     "data": {
      "image/png": "[encoded data removed]",
      "text/plain": [
       "<Figure size 432x288 with 2 Axes>"
      ]
     },
     "metadata": {
      "needs_background": "light"
     },
     "output_type": "display_data"
    }
   ],
   "source": [
    "render_map(rob.dist)\n",
    "plt.colorbar()"
   ]
  },
  {
   "cell_type": "code",
   "execution_count": 182,
   "metadata": {},
   "outputs": [
    {
     "ename": "ModuleNotFoundError",
     "evalue": "No module named 'networkx'",
     "output_type": "error",
     "traceback": [
      "\u001b[0;31m---------------------------------------------------------------------------\u001b[0m",
      "\u001b[0;31mModuleNotFoundError\u001b[0m                       Traceback (most recent call last)",
      "\u001b[0;32m<ipython-input-182-719b05231e1b>\u001b[0m in \u001b[0;36m<module>\u001b[0;34m\u001b[0m\n\u001b[0;32m----> 1\u001b[0;31m \u001b[0;32mimport\u001b[0m \u001b[0mnetworkx\u001b[0m\u001b[0;34m\u001b[0m\u001b[0;34m\u001b[0m\u001b[0m\n\u001b[0m",
      "\u001b[0;31mModuleNotFoundError\u001b[0m: No module named 'networkx'"
     ]
    }
   ],
   "source": [
    "import networkx"
   ]
  },
  {
   "cell_type": "code",
   "execution_count": null,
   "metadata": {},
   "outputs": [],
   "source": []
  }
 ],
 "metadata": {
  "kernelspec": {
   "display_name": "Python 3",
   "language": "python",
   "name": "python3"
  },
  "language_info": {
   "codemirror_mode": {
    "name": "ipython",
    "version": 3
   },
   "file_extension": ".py",
   "mimetype": "text/x-python",
   "name": "python",
   "nbconvert_exporter": "python",
   "pygments_lexer": "ipython3",
   "version": "3.7.5"
  }
 },
 "nbformat": 4,
 "nbformat_minor": 2
}
