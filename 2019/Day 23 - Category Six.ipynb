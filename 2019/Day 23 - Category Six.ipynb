{
 "cells": [
  {
   "cell_type": "code",
   "execution_count": 17,
   "metadata": {},
   "outputs": [],
   "source": [
    "with open('./data/input_23.txt') as fh:\n",
    "    file_input = fh.read().strip()\n",
    "mem = [int(d) for d in file_input.split(',')]"
   ]
  },
  {
   "cell_type": "code",
   "execution_count": null,
   "metadata": {},
   "outputs": [],
   "source": [
    "from intcode import intcode\n",
    "from functools import partial"
   ]
  },
  {
   "cell_type": "code",
   "execution_count": 34,
   "metadata": {},
   "outputs": [],
   "source": [
    "class Network():\n",
    "    def __init__(self, N, mem):\n",
    "        self.N = N\n",
    "        self.buffer = [[i, -1] for i in range(N)]\n",
    "        self.outbuffer = [[] for i in range(N)]\n",
    "        self.rc = [1 for i in range(N)]\n",
    "        self.ic = [intcode(mem, add_mem=10000, take_input=partial(lambda x: self.get(x), i),\n",
    "                           give_output=partial(lambda x, y: self.put(x, y), i)) for i in range(N)]\n",
    "        self.NAT_X = None\n",
    "        self.NAT_Y = None\n",
    "        self.last_send = None\n",
    "#         for i in range(N)\n",
    "#     def get(self, i):\n",
    "#         try:\n",
    "#             val = self.buffer[i].pop(0)\n",
    "# #             print('get', i, val)\n",
    "#             return val\n",
    "#         except IndexError:\n",
    "# #             print('get', i, -1)\n",
    "#             return -1\n",
    "    def get(self, i):\n",
    "\n",
    "        val = self.buffer[i].pop(0)\n",
    "#             print('get', i, val)\n",
    "        return val\n",
    "\n",
    "    def put(self, i, val):\n",
    "        self.outbuffer[i].append(val)\n",
    "#         print('put', i, self.outbuffer[i])\n",
    "        while len(self.outbuffer[i]) >=3:\n",
    "            loc = self.outbuffer[i].pop(0)\n",
    "            X = self.outbuffer[i].pop(0)\n",
    "            Y = self.outbuffer[i].pop(0)\n",
    "            if loc == 255:\n",
    "                if self.NAT_X is None:\n",
    "                    print('part 1:', Y)\n",
    "                self.NAT_X = X\n",
    "                self.NAT_Y = Y\n",
    "            else:\n",
    "                self.buffer[loc].append(X)\n",
    "                self.buffer[loc].append(Y)\n",
    "\n",
    "#     def execute(self, i):\n",
    "#         while self.ic[i] != 99:\n",
    "#             print('!', end='')\n",
    "#             await self.ic[i].run()\n",
    "    \n",
    "    def run(self):\n",
    "        while any([rc != 99 for rc in self.rc]):\n",
    "            for i in range(self.N):\n",
    "                self.rc[i] = self.ic[i].run()\n",
    "            if sum([len(self.buffer[i]) for i in range(self.N)]) == 0:\n",
    "                if self.last_send == self.NAT_Y:\n",
    "                    print('part 2:', self.NAT_Y)\n",
    "                    break\n",
    "                self.last_send = self.NAT_Y\n",
    "                self.buffer[0].append(self.NAT_X)\n",
    "                self.buffer[0].append(self.NAT_Y)"
   ]
  },
  {
   "cell_type": "code",
   "execution_count": 35,
   "metadata": {},
   "outputs": [],
   "source": [
    "nw = Network(50, mem)"
   ]
  },
  {
   "cell_type": "code",
   "execution_count": 36,
   "metadata": {},
   "outputs": [
    {
     "name": "stdout",
     "output_type": "stream",
     "text": [
      "part 1: 22877\n",
      "part 2: 15210\n"
     ]
    }
   ],
   "source": [
    "nw.run()"
   ]
  }
 ],
 "metadata": {
  "kernelspec": {
   "display_name": "Python 3",
   "language": "python",
   "name": "python3"
  },
  "language_info": {
   "codemirror_mode": {
    "name": "ipython",
    "version": 3
   },
   "file_extension": ".py",
   "mimetype": "text/x-python",
   "name": "python",
   "nbconvert_exporter": "python",
   "pygments_lexer": "ipython3",
   "version": "3.7.5"
  }
 },
 "nbformat": 4,
 "nbformat_minor": 2
}
