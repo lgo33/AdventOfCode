{
 "cells": [
  {
   "cell_type": "code",
   "execution_count": 1,
   "metadata": {},
   "outputs": [],
   "source": [
    "with open('./data/input_12.txt') as fh:\n",
    "    file_input = fh.read().strip()"
   ]
  },
  {
   "cell_type": "code",
   "execution_count": 54,
   "metadata": {},
   "outputs": [],
   "source": [
    "test = \"\"\"<x=-1, y=0, z=2>\n",
    "<x=2, y=-10, z=-7>\n",
    "<x=4, y=-8, z=8>\n",
    "<x=3, y=5, z=-1>\"\"\""
   ]
  },
  {
   "cell_type": "code",
   "execution_count": 2,
   "metadata": {},
   "outputs": [],
   "source": [
    "test2 = \"\"\"<x=-8, y=-10, z=0>\n",
    "<x=5, y=5, z=10>\n",
    "<x=2, y=-7, z=3>\n",
    "<x=9, y=-8, z=-3>\"\"\""
   ]
  },
  {
   "cell_type": "code",
   "execution_count": 35,
   "metadata": {},
   "outputs": [],
   "source": [
    "import numpy as np\n",
    "from itertools import combinations"
   ]
  },
  {
   "cell_type": "code",
   "execution_count": 158,
   "metadata": {},
   "outputs": [],
   "source": [
    "import re\n",
    "def parse(txt):\n",
    "    return np.array([list(map(int, re.findall('[-0-9]+', line))) for line in txt.split('\\n')])\n",
    "\n",
    "\n",
    "\n",
    "def simulate(pos, vel, steps=1):\n",
    "    n = pos.shape[0]\n",
    "    init_pos = pos.copy()\n",
    "    init_vel = vel.copy()\n",
    "    for step in range(steps):\n",
    "        for i, j in combinations(range(n), 2):\n",
    "            dv = np.sign(pos[j] - pos[i])\n",
    "            vel[i] += dv\n",
    "            vel[j] -= dv\n",
    "        pos += vel\n",
    "    return pos, vel\n",
    "\n",
    "def energy(pos, vel):\n",
    "    return np.sum(np.abs(pos).sum(axis=1) * np.abs(vel).sum(axis=1))"
   ]
  },
  {
   "cell_type": "code",
   "execution_count": 159,
   "metadata": {},
   "outputs": [
    {
     "name": "stdout",
     "output_type": "stream",
     "text": [
      "[[ 2  1 -3]\n",
      " [ 1 -8  0]\n",
      " [ 3 -6  1]\n",
      " [ 2  0  4]]\n",
      "[[-3 -2  1]\n",
      " [-1  1  3]\n",
      " [ 3  2 -3]\n",
      " [ 1 -1 -1]]\n",
      "179\n"
     ]
    }
   ],
   "source": [
    "# test\n",
    "pos = parse(test)\n",
    "vel = np.zeros(pos.shape, dtype=pos.dtype)\n",
    "# print(pos, vel)\n",
    "pos, vel = simulate(pos, vel, 10)\n",
    "print(pos)\n",
    "print(vel)\n",
    "print(energy(pos, vel))"
   ]
  },
  {
   "cell_type": "code",
   "execution_count": 160,
   "metadata": {},
   "outputs": [],
   "source": [
    "# After 10 steps:\n",
    "# pos=<x= 2, y= 1, z=-3>, vel=<x=-3, y=-2, z= 1>\n",
    "# pos=<x= 1, y=-8, z= 0>, vel=<x=-1, y= 1, z= 3>\n",
    "# pos=<x= 3, y=-6, z= 1>, vel=<x= 3, y= 2, z=-3>\n",
    "# pos=<x= 2, y= 0, z= 4>, vel=<x= 1, y=-1, z=-1>"
   ]
  },
  {
   "cell_type": "code",
   "execution_count": 161,
   "metadata": {},
   "outputs": [
    {
     "name": "stdout",
     "output_type": "stream",
     "text": [
      "[[ 87   0 -16]\n",
      " [-39  18  62]\n",
      " [  1 -21 -20]\n",
      " [-36 -30 -56]]\n",
      "[[  0   9   8]\n",
      " [  7  -4   4]\n",
      " [  9   4 -12]\n",
      " [-16  -9   0]]\n",
      "7636\n"
     ]
    }
   ],
   "source": [
    "# part 1\n",
    "pos = parse(file_input)\n",
    "vel = np.zeros(pos.shape, dtype=pos.dtype)\n",
    "# print(pos, vel)\n",
    "pos, vel = simulate(pos, vel, 1000)\n",
    "print(pos)\n",
    "print(vel)\n",
    "print(energy(pos, vel))"
   ]
  },
  {
   "cell_type": "code",
   "execution_count": 181,
   "metadata": {},
   "outputs": [],
   "source": [
    "# part 2\n",
    "def simulate_period(pos, vel):\n",
    "    n = pos.shape[0]\n",
    "    init_pos = pos.copy()\n",
    "    init_vel = vel.copy()\n",
    "    steps = 0\n",
    "    while True:\n",
    "        for i, j in combinations(range(n), 2):\n",
    "            dv = np.sign(pos[j] - pos[i])\n",
    "            vel[i] += dv\n",
    "            vel[j] -= dv\n",
    "        pos += vel\n",
    "        steps += 1\n",
    "        if (pos == init_pos).all() and (vel == 0).all():\n",
    "            break\n",
    "    return steps, pos, vel"
   ]
  },
  {
   "cell_type": "code",
   "execution_count": 182,
   "metadata": {},
   "outputs": [
    {
     "data": {
      "text/plain": [
       "'<x=-1, y=0, z=2>\\n<x=2, y=-10, z=-7>\\n<x=4, y=-8, z=8>\\n<x=3, y=5, z=-1>'"
      ]
     },
     "execution_count": 182,
     "metadata": {},
     "output_type": "execute_result"
    }
   ],
   "source": [
    "test"
   ]
  },
  {
   "cell_type": "code",
   "execution_count": 183,
   "metadata": {},
   "outputs": [
    {
     "name": "stdout",
     "output_type": "stream",
     "text": [
      "0 [-1  2  4  3] [0 0 0 0]\n",
      "1 [  0 -10  -8   5] [0 0 0 0]\n",
      "2 [ 2 -7  8 -1] [0 0 0 0]\n"
     ]
    }
   ],
   "source": [
    "# test\n",
    "pos = parse(test)\n",
    "vel = np.zeros(pos.shape, dtype=pos.dtype)\n",
    "for i in range(3):\n",
    "    p, v = simulate(pos[:, i], vel[:, i], steps=2772)\n",
    "    print (i, p, v)"
   ]
  },
  {
   "cell_type": "code",
   "execution_count": 185,
   "metadata": {},
   "outputs": [
    {
     "name": "stdout",
     "output_type": "stream",
     "text": [
      "0 18 [-1  2  4  3] [0 0 0 0]\n",
      "1 28 [  0 -10  -8   5] [0 0 0 0]\n",
      "2 44 [ 2 -7  8 -1] [0 0 0 0]\n"
     ]
    }
   ],
   "source": [
    "pos = parse(test)\n",
    "vel = np.zeros(pos.shape, dtype=pos.dtype)\n",
    "for i in range(3):\n",
    "    s, p, v = simulate_period(pos[:, i], vel[:, i])\n",
    "    print (i, s, p, v)"
   ]
  },
  {
   "cell_type": "code",
   "execution_count": 189,
   "metadata": {},
   "outputs": [
    {
     "data": {
      "text/plain": [
       "2772"
      ]
     },
     "execution_count": 189,
     "metadata": {},
     "output_type": "execute_result"
    }
   ],
   "source": [
    "np.lcm(np.lcm(18, 28), 44)"
   ]
  },
  {
   "cell_type": "code",
   "execution_count": 192,
   "metadata": {},
   "outputs": [
    {
     "name": "stdout",
     "output_type": "stream",
     "text": [
      "0 161428 [12 -8  7  2] [0 0 0 0]\n",
      "1 193052 [  0  -5 -17 -11] [0 0 0 0]\n",
      "2 144624 [-15 -10   1  -6] [0 0 0 0]\n"
     ]
    }
   ],
   "source": [
    "# part 2\n",
    "# calculate dimensions independently and find period\n",
    "pos = parse(file_input)\n",
    "vel = np.zeros(pos.shape, dtype=pos.dtype)\n",
    "period = []\n",
    "for i in range(3):\n",
    "    s, p, v = simulate_period(pos[:, i], vel[:, i])\n",
    "    period.append(s)\n",
    "    print (i, s, p, v)"
   ]
  },
  {
   "cell_type": "code",
   "execution_count": 193,
   "metadata": {},
   "outputs": [
    {
     "data": {
      "text/plain": [
       "281691380235984"
      ]
     },
     "execution_count": 193,
     "metadata": {},
     "output_type": "execute_result"
    }
   ],
   "source": [
    "# calculate lowest common multiple of periods\n",
    "np.lcm(np.lcm(period[0], period[1]), period[2])\n"
   ]
  },
  {
   "cell_type": "code",
   "execution_count": null,
   "metadata": {},
   "outputs": [],
   "source": []
  }
 ],
 "metadata": {
  "kernelspec": {
   "display_name": "Python 3",
   "language": "python",
   "name": "python3"
  },
  "language_info": {
   "codemirror_mode": {
    "name": "ipython",
    "version": 3
   },
   "file_extension": ".py",
   "mimetype": "text/x-python",
   "name": "python",
   "nbconvert_exporter": "python",
   "pygments_lexer": "ipython3",
   "version": "3.7.4"
  }
 },
 "nbformat": 4,
 "nbformat_minor": 2
}
