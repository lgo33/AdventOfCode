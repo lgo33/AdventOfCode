{
 "cells": [
  {
   "cell_type": "code",
   "execution_count": 3,
   "metadata": {},
   "outputs": [],
   "source": [
    "with open('./data/input_19.txt') as fh:\n",
    "    file_input = fh.read().strip()\n",
    "mem = [int(d) for d in file_input.split(',')]"
   ]
  },
  {
   "cell_type": "code",
   "execution_count": 35,
   "metadata": {},
   "outputs": [],
   "source": [
    "from intcode import intcode\n",
    "import numpy as np"
   ]
  },
  {
   "cell_type": "code",
   "execution_count": 114,
   "metadata": {},
   "outputs": [],
   "source": [
    "_inp = []\n",
    "_out = []\n",
    "ic = intcode(mem, add_mem=10000, take_input=lambda: _inp.pop(0), give_output=_out.append)"
   ]
  },
  {
   "cell_type": "code",
   "execution_count": 81,
   "metadata": {},
   "outputs": [],
   "source": [
    "# part 1"
   ]
  },
  {
   "cell_type": "code",
   "execution_count": 57,
   "metadata": {},
   "outputs": [
    {
     "name": "stdout",
     "output_type": "stream",
     "text": [
      "231.0\n"
     ]
    }
   ],
   "source": [
    "scan = np.zeros((50, 50))\n",
    "for x in range(50):\n",
    "    for y in range(50):\n",
    "        ic.reset()\n",
    "        _inp = [x, y]\n",
    "        ic.run()\n",
    "        scan[y, x] = _out.pop()\n",
    "        \n",
    "print(scan.sum())"
   ]
  },
  {
   "cell_type": "code",
   "execution_count": 60,
   "metadata": {},
   "outputs": [],
   "source": [
    "import matplotlib.pyplot as plt\n",
    "%matplotlib inline\n",
    "plt.rcParams['figure.figsize'] = (12, 8)"
   ]
  },
  {
   "cell_type": "code",
   "execution_count": 65,
   "metadata": {},
   "outputs": [
    {
     "data": {
      "text/plain": [
       "array([1., 0., 0., 0., 1., 1., 1., 1., 2., 2., 2., 2., 3., 2., 2., 3., 3.,\n",
       "       3., 3., 4., 4., 4., 4., 5., 5., 4., 5., 5., 5., 5., 6., 6., 6., 6.,\n",
       "       7., 7., 7., 6., 7., 7., 7., 8., 8., 8., 8., 9., 9., 9., 9., 9.])"
      ]
     },
     "execution_count": 65,
     "metadata": {},
     "output_type": "execute_result"
    }
   ],
   "source": [
    "scan.sum(axis=0)"
   ]
  },
  {
   "cell_type": "code",
   "execution_count": 70,
   "metadata": {},
   "outputs": [
    {
     "name": "stdout",
     "output_type": "stream",
     "text": [
      "927.0\n"
     ]
    }
   ],
   "source": [
    "n = 100\n",
    "scan = np.zeros((n, n))\n",
    "for x in range(n):\n",
    "    for y in range(n):\n",
    "        if abs(x - y) > 40 or y > x:\n",
    "            continue\n",
    "        ic.reset()\n",
    "        _inp = [x, y]\n",
    "        ic.run()\n",
    "        scan[y, x] = _out.pop()\n",
    "        \n",
    "print(scan.sum())"
   ]
  },
  {
   "cell_type": "code",
   "execution_count": 77,
   "metadata": {},
   "outputs": [
    {
     "data": {
      "text/plain": [
       "array([73, 74, 75, 76, 77, 78, 79, 80, 81, 82, 83, 84, 85, 86, 87, 88, 89,\n",
       "       90])"
      ]
     },
     "execution_count": 77,
     "metadata": {},
     "output_type": "execute_result"
    }
   ],
   "source": [
    "np.arange(100)[scan[:, 99] == 1]"
   ]
  },
  {
   "cell_type": "code",
   "execution_count": 71,
   "metadata": {},
   "outputs": [
    {
     "data": {
      "text/plain": [
       "<matplotlib.image.AxesImage at 0x7f660148d3d0>"
      ]
     },
     "execution_count": 71,
     "metadata": {},
     "output_type": "execute_result"
    },
    {
     "data": {
      "image/png": "[encoded data removed]",
      "text/plain": [
       "<Figure size 864x576 with 1 Axes>"
      ]
     },
     "metadata": {
      "needs_background": "light"
     },
     "output_type": "display_data"
    }
   ],
   "source": [
    "plt.imshow(scan)"
   ]
  },
  {
   "cell_type": "code",
   "execution_count": 98,
   "metadata": {},
   "outputs": [
    {
     "name": "stdout",
     "output_type": "stream",
     "text": [
      "0.73029745 0.91673813\n"
     ]
    }
   ],
   "source": [
    "# find m1\n",
    "m1 = 0.73\n",
    "\n",
    "for i in range(3, 9):\n",
    "    x = 10**i\n",
    "    y = m1 * x\n",
    "    init = None\n",
    "    while True:\n",
    "        ic.reset()\n",
    "        _inp = [x, y]\n",
    "        ic.run()\n",
    "        res = _out.pop()\n",
    "#         print(y, res)\n",
    "        if init is None:\n",
    "            init = res\n",
    "        if res == 1:\n",
    "            y -= 1\n",
    "        else:\n",
    "            y += 1\n",
    "        if res != init:\n",
    "            m1 = y / x\n",
    "            break\n",
    "\n",
    "m2 = 0.9\n",
    "for i in range(3, 9):\n",
    "    x = 10**i\n",
    "    y = m2 * x\n",
    "    init = None\n",
    "    while True:\n",
    "        ic.reset()\n",
    "        _inp = [x, y]\n",
    "        ic.run()\n",
    "        res = _out.pop()\n",
    "#         print(y, res)\n",
    "        if init is None:\n",
    "            init = res\n",
    "        if res == 1:\n",
    "            y += 1\n",
    "        else:\n",
    "            y -= 1\n",
    "        if res != init:\n",
    "            m2 = y / x\n",
    "            break\n",
    "\n",
    "\n",
    "print(m1, m2)"
   ]
  },
  {
   "cell_type": "code",
   "execution_count": null,
   "metadata": {},
   "outputs": [],
   "source": [
    "# part 2"
   ]
  },
  {
   "cell_type": "code",
   "execution_count": null,
   "metadata": {},
   "outputs": [],
   "source": [
    "x1 * m1 = y1\n",
    "x2 * m2 = y2\n",
    "x1 = x2 + 100\n",
    "y2 = y1 + 100"
   ]
  },
  {
   "cell_type": "code",
   "execution_count": null,
   "metadata": {},
   "outputs": [],
   "source": []
  },
  {
   "cell_type": "code",
   "execution_count": 139,
   "metadata": {},
   "outputs": [
    {
     "name": "stdout",
     "output_type": "stream",
     "text": [
      "919 842.48234147 1018 743.4428041\n"
     ]
    }
   ],
   "source": [
    "for i in range(int(1e3)):\n",
    "    x2 = i\n",
    "    y2 = x2 * m2\n",
    "    x1 = x2 + 99\n",
    "    y1 = x1 * m1\n",
    "    if (y2 - y1) >= 99:\n",
    "        print(x2, y2, x1, y1)\n",
    "        break"
   ]
  },
  {
   "cell_type": "code",
   "execution_count": 115,
   "metadata": {},
   "outputs": [],
   "source": [
    "def test_pos(x, y):\n",
    "    ic.reset()\n",
    "    _inp.append(x)\n",
    "    _inp.append(y)\n",
    "    ic.run()\n",
    "    return _out.pop()"
   ]
  },
  {
   "cell_type": "code",
   "execution_count": null,
   "metadata": {},
   "outputs": [],
   "source": []
  },
  {
   "cell_type": "code",
   "execution_count": 155,
   "metadata": {},
   "outputs": [
    {
     "data": {
      "text/plain": [
       "1"
      ]
     },
     "execution_count": 155,
     "metadata": {},
     "output_type": "execute_result"
    }
   ],
   "source": [
    "test_pos(921, 844)"
   ]
  },
  {
   "cell_type": "code",
   "execution_count": 157,
   "metadata": {},
   "outputs": [
    {
     "data": {
      "text/plain": [
       "1"
      ]
     },
     "execution_count": 157,
     "metadata": {},
     "output_type": "execute_result"
    }
   ],
   "source": [
    "test_pos(1020, 745)"
   ]
  },
  {
   "cell_type": "code",
   "execution_count": 158,
   "metadata": {},
   "outputs": [
    {
     "data": {
      "text/plain": [
       "9210745"
      ]
     },
     "execution_count": 158,
     "metadata": {},
     "output_type": "execute_result"
    }
   ],
   "source": [
    "921 * 10000 +  745"
   ]
  },
  {
   "cell_type": "code",
   "execution_count": null,
   "metadata": {},
   "outputs": [],
   "source": []
  },
  {
   "cell_type": "code",
   "execution_count": 130,
   "metadata": {},
   "outputs": [
    {
     "data": {
      "text/plain": [
       "99"
      ]
     },
     "execution_count": 130,
     "metadata": {},
     "output_type": "execute_result"
    }
   ],
   "source": [
    "850 - 751"
   ]
  },
  {
   "cell_type": "code",
   "execution_count": 105,
   "metadata": {},
   "outputs": [
    {
     "data": {
      "text/plain": [
       "929"
      ]
     },
     "execution_count": 105,
     "metadata": {},
     "output_type": "execute_result"
    }
   ],
   "source": [
    "x = int(x2)\n",
    "y = int(y2)\n",
    "while True:\n",
    "    _inp = [x, y]\n",
    "    "
   ]
  },
  {
   "cell_type": "code",
   "execution_count": null,
   "metadata": {},
   "outputs": [],
   "source": []
  }
 ],
 "metadata": {
  "kernelspec": {
   "display_name": "Python 3",
   "language": "python",
   "name": "python3"
  },
  "language_info": {
   "codemirror_mode": {
    "name": "ipython",
    "version": 3
   },
   "file_extension": ".py",
   "mimetype": "text/x-python",
   "name": "python",
   "nbconvert_exporter": "python",
   "pygments_lexer": "ipython3",
   "version": "3.7.5"
  }
 },
 "nbformat": 4,
 "nbformat_minor": 2
}
