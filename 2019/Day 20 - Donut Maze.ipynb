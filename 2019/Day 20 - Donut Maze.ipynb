{
 "cells": [
  {
   "cell_type": "code",
   "execution_count": 2,
   "metadata": {},
   "outputs": [],
   "source": [
    "with open('./data/input_20.txt') as fh:\n",
    "    file_input = fh.read()"
   ]
  },
  {
   "cell_type": "code",
   "execution_count": 14,
   "metadata": {},
   "outputs": [],
   "source": [
    "import networkx as nx\n",
    "from networkx.algorithms.shortest_paths.generic import has_path\n",
    "from networkx import NetworkXNoPath\n",
    "from functools import lru_cache\n",
    "from collections import OrderedDict, defaultdict\n",
    "from itertools import chain\n",
    "import heapq"
   ]
  },
  {
   "cell_type": "code",
   "execution_count": 4,
   "metadata": {},
   "outputs": [],
   "source": [
    "test = \"\"\"         A           \n",
    "         A           \n",
    "  #######.#########  \n",
    "  #######.........#  \n",
    "  #######.#######.#  \n",
    "  #######.#######.#  \n",
    "  #######.#######.#  \n",
    "  #####  B    ###.#  \n",
    "BC...##  C    ###.#  \n",
    "  ##.##       ###.#  \n",
    "  ##...DE  F  ###.#  \n",
    "  #####    G  ###.#  \n",
    "  #########.#####.#  \n",
    "DE..#######...###.#  \n",
    "  #.#########.###.#  \n",
    "FG..#########.....#  \n",
    "  ###########.#####  \n",
    "             Z       \n",
    "             Z       \"\"\""
   ]
  },
  {
   "cell_type": "code",
   "execution_count": 5,
   "metadata": {},
   "outputs": [],
   "source": [
    "test2 = \"\"\"                   A               \n",
    "                   A               \n",
    "  #################.#############  \n",
    "  #.#...#...................#.#.#  \n",
    "  #.#.#.###.###.###.#########.#.#  \n",
    "  #.#.#.......#...#.....#.#.#...#  \n",
    "  #.#########.###.#####.#.#.###.#  \n",
    "  #.............#.#.....#.......#  \n",
    "  ###.###########.###.#####.#.#.#  \n",
    "  #.....#        A   C    #.#.#.#  \n",
    "  #######        S   P    #####.#  \n",
    "  #.#...#                 #......VT\n",
    "  #.#.#.#                 #.#####  \n",
    "  #...#.#               YN....#.#  \n",
    "  #.###.#                 #####.#  \n",
    "DI....#.#                 #.....#  \n",
    "  #####.#                 #.###.#  \n",
    "ZZ......#               QG....#..AS\n",
    "  ###.###                 #######  \n",
    "JO..#.#.#                 #.....#  \n",
    "  #.#.#.#                 ###.#.#  \n",
    "  #...#..DI             BU....#..LF\n",
    "  #####.#                 #.#####  \n",
    "YN......#               VT..#....QG\n",
    "  #.###.#                 #.###.#  \n",
    "  #.#...#                 #.....#  \n",
    "  ###.###    J L     J    #.#.###  \n",
    "  #.....#    O F     P    #.#...#  \n",
    "  #.###.#####.#.#####.#####.###.#  \n",
    "  #...#.#.#...#.....#.....#.#...#  \n",
    "  #.#####.###.###.#.#.#########.#  \n",
    "  #...#.#.....#...#.#.#.#.....#.#  \n",
    "  #.###.#####.###.###.#.#.#######  \n",
    "  #.#.........#...#.............#  \n",
    "  #########.###.###.#############  \n",
    "           B   J   C               \n",
    "           U   P   P               \"\"\""
   ]
  },
  {
   "cell_type": "code",
   "execution_count": 6,
   "metadata": {},
   "outputs": [],
   "source": [
    "class L(list):\n",
    "    def __new__(self, *args, **kwargs):\n",
    "        return super(L, self).__new__(self, args, kwargs)\n",
    "\n",
    "    def __init__(self, *args, **kwargs):\n",
    "        if len(args) == 1 and hasattr(args[0], '__iter__'):\n",
    "            list.__init__(self, args[0])\n",
    "        else:\n",
    "            list.__init__(self, args)\n",
    "        self.__dict__.update(kwargs)\n",
    "\n",
    "    def __call__(self, **kwargs):\n",
    "        self.__dict__.update(kwargs)\n",
    "        return self"
   ]
  },
  {
   "cell_type": "code",
   "execution_count": 7,
   "metadata": {},
   "outputs": [],
   "source": [
    "def parse(txt):\n",
    "    lines = L(txt.splitlines())\n",
    "    lines.x = len(lines[0])\n",
    "    lines.y = len(lines)\n",
    "    return lines\n",
    "\n",
    "def neighbors_short(pos, field):\n",
    "    for x, y in ((pos[0]+1, pos[1]), (pos[0], pos[1]+1)):\n",
    "        if x < field.x and x >= 0 and y < field.y and y >=0:\n",
    "            yield (x, y), field[y][x] \n",
    "\n",
    "def neighbors_all(pos, field):\n",
    "    for x, y in ((pos[0]+1, pos[1]), (pos[0], pos[1]+1), (pos[0]-1, pos[1]), (pos[0], pos[1]-1)):\n",
    "        if x < field.x and x >= 0 and y < field.y and y >=0:\n",
    "            yield (x, y), field[y][x]\n",
    "\n",
    "wall = ord('#')\n",
    "free = ord('.')\n",
    "valid_targets = (free, wall)\n",
    "    \n",
    "def build_graph(field):\n",
    "    G = nx.Graph()\n",
    "    portals = defaultdict(list)\n",
    "    for y, line in enumerate(field):\n",
    "        for x, char in enumerate(line):\n",
    "            o = ord(char)\n",
    "            if o == free:\n",
    "                G.add_node((x, y))                \n",
    "                for npos, vngb in neighbors_short((x, y), field):\n",
    "                    if ord(vngb) in valid_targets:\n",
    "                        G.add_edge((x, y), npos)\n",
    "            if o >= ord('A') and o <= ord('Z'):\n",
    "                for npos, vngb in neighbors_short((x, y), field):\n",
    "                    on = ord(vngb)\n",
    "                    if on >= ord('A') and on <= ord('Z'):\n",
    "                        for npos2, vngb2 in chain(neighbors_all((x, y), field), neighbors_all(npos, field)):\n",
    "                            if vngb2 == '.':\n",
    "                                portals[char + vngb].append(npos2)\n",
    "                                break\n",
    "    for p in portals:\n",
    "        if len(portals[p]) == 2:\n",
    "#             print(p)\n",
    "            G.add_edge(portals[p][0], portals[p][1])\n",
    "    return G, portals['AA'][0], portals['ZZ'][0]"
   ]
  },
  {
   "cell_type": "code",
   "execution_count": 8,
   "metadata": {},
   "outputs": [
    {
     "name": "stdout",
     "output_type": "stream",
     "text": [
      "23\n"
     ]
    }
   ],
   "source": [
    "field = parse(test)\n",
    "G, start, end = build_graph(field)\n",
    "path = nx.shortest_path(G, start, end)\n",
    "print(len(path)-1)"
   ]
  },
  {
   "cell_type": "code",
   "execution_count": 9,
   "metadata": {},
   "outputs": [
    {
     "name": "stdout",
     "output_type": "stream",
     "text": [
      "58\n"
     ]
    }
   ],
   "source": [
    "field = parse(test2)\n",
    "G, start, end = build_graph(field)\n",
    "path = nx.shortest_path(G, start, end)\n",
    "print(len(path)-1)"
   ]
  },
  {
   "cell_type": "code",
   "execution_count": 10,
   "metadata": {},
   "outputs": [
    {
     "name": "stdout",
     "output_type": "stream",
     "text": [
      "626\n"
     ]
    }
   ],
   "source": [
    "# part 1\n",
    "field = parse(file_input)\n",
    "G, start, end = build_graph(field)\n",
    "path = nx.shortest_path(G, start, end)\n",
    "print(len(path)-1)"
   ]
  },
  {
   "cell_type": "code",
   "execution_count": 11,
   "metadata": {},
   "outputs": [],
   "source": [
    "# Part 2"
   ]
  },
  {
   "cell_type": "code",
   "execution_count": 12,
   "metadata": {},
   "outputs": [],
   "source": [
    "test3 = \"\"\"             Z L X W       C                 \n",
    "             Z P Q B       K                 \n",
    "  ###########.#.#.#.#######.###############  \n",
    "  #...#.......#.#.......#.#.......#.#.#...#  \n",
    "  ###.#.#.#.#.#.#.#.###.#.#.#######.#.#.###  \n",
    "  #.#...#.#.#...#.#.#...#...#...#.#.......#  \n",
    "  #.###.#######.###.###.#.###.###.#.#######  \n",
    "  #...#.......#.#...#...#.............#...#  \n",
    "  #.#########.#######.#.#######.#######.###  \n",
    "  #...#.#    F       R I       Z    #.#.#.#  \n",
    "  #.###.#    D       E C       H    #.#.#.#  \n",
    "  #.#...#                           #...#.#  \n",
    "  #.###.#                           #.###.#  \n",
    "  #.#....OA                       WB..#.#..ZH\n",
    "  #.###.#                           #.#.#.#  \n",
    "CJ......#                           #.....#  \n",
    "  #######                           #######  \n",
    "  #.#....CK                         #......IC\n",
    "  #.###.#                           #.###.#  \n",
    "  #.....#                           #...#.#  \n",
    "  ###.###                           #.#.#.#  \n",
    "XF....#.#                         RF..#.#.#  \n",
    "  #####.#                           #######  \n",
    "  #......CJ                       NM..#...#  \n",
    "  ###.#.#                           #.###.#  \n",
    "RE....#.#                           #......RF\n",
    "  ###.###        X   X       L      #.#.#.#  \n",
    "  #.....#        F   Q       P      #.#.#.#  \n",
    "  ###.###########.###.#######.#########.###  \n",
    "  #.....#...#.....#.......#...#.....#.#...#  \n",
    "  #####.#.###.#######.#######.###.###.#.#.#  \n",
    "  #.......#.......#.#.#.#.#...#...#...#.#.#  \n",
    "  #####.###.#####.#.#.#.#.###.###.#.###.###  \n",
    "  #.......#.....#.#...#...............#...#  \n",
    "  #############.#.#.###.###################  \n",
    "               A O F   N                     \n",
    "               A A D   M                     \"\"\""
   ]
  },
  {
   "cell_type": "code",
   "execution_count": 126,
   "metadata": {},
   "outputs": [],
   "source": [
    "def build_graph_p2(field):\n",
    "    G = nx.Graph()\n",
    "    portals = defaultdict(list)\n",
    "    for y, line in enumerate(field):\n",
    "        for x, char in enumerate(line):\n",
    "            o = ord(char)\n",
    "            if o == free:\n",
    "                G.add_node((x, y))                \n",
    "                for npos, vngb in neighbors_short((x, y), field):\n",
    "                    if ord(vngb) in valid_targets:\n",
    "                        G.add_edge((x, y), npos)\n",
    "            if o >= ord('A') and o <= ord('Z'):\n",
    "                for npos, vngb in neighbors_short((x, y), field):\n",
    "                    on = ord(vngb)\n",
    "                    if on >= ord('A') and on <= ord('Z'):\n",
    "                        for npos2, vngb2 in chain(neighbors_all((x, y), field), neighbors_all(npos, field)):\n",
    "                            if vngb2 == '.':\n",
    "                                portals[char + vngb].append(npos2)\n",
    "                                break\n",
    "    inner = {}\n",
    "    outer = {}\n",
    "    for p in portals:\n",
    "        x = portals[p]\n",
    "        if len(x) == 2:\n",
    "            if 2 in x[0] or (x[0][0] == (field.x - 3)) or (x[0][1] == (field.y - 3)):\n",
    "                inner[x[1]] = x[0]\n",
    "                outer[x[0]] = x[1]\n",
    "            else:\n",
    "                inner[x[0]] = x[1]\n",
    "                outer[x[1]] = x[0]\n",
    "    return G, portals['AA'][0], portals['ZZ'][0], inner, outer, portals\n",
    "\n",
    "\n",
    "@lru_cache(maxsize=None)\n",
    "def ngbrs(pos):\n",
    "    res = list(G[pos])\n",
    "#     print(res, pos)\n",
    "    if pos in inner:\n",
    "        return (res, inner[pos], None)\n",
    "    if pos in outer:\n",
    "        return (res, None, outer[pos])\n",
    "    return (res, None, None)\n",
    "\n",
    "@lru_cache(maxsize=None)\n",
    "def reachable_portals(pos):\n",
    "    _in = []\n",
    "    _out = []\n",
    "    for i in inner:\n",
    "        try:\n",
    "            l = nx.shortest_path_length(G, pos, i)\n",
    "            _in.append((i, l+1))\n",
    "        except NetworkXNoPath:\n",
    "            pass\n",
    "    for o in outer:\n",
    "        try:\n",
    "            l = nx.shortest_path_length(G, pos, o)\n",
    "            _out.append((o, l+1))\n",
    "        except NetworkXNoPath:\n",
    "            pass\n",
    "    return (_in, _out)\n",
    "\n",
    "def BFS2(G, start, end):\n",
    "    start = start + (0,)\n",
    "    end = end\n",
    "    queue = [(start, 0, [])]\n",
    "    visited = {}\n",
    "    while queue:\n",
    "        pos, length, path = queue.pop(0)\n",
    "        x, y, z = pos\n",
    "        if z == 0:\n",
    "            try:\n",
    "                l2goal = nx.shortest_path_length(G, (x, y), end)\n",
    "                return length + l2goal, path\n",
    "            except NetworkXNoPath:\n",
    "                pass\n",
    "        if pos in visited:\n",
    "#             if length > visited[pos]:\n",
    "#                 print(\"!\", pos, length, visited[pos])\n",
    "            continue\n",
    "        visited[pos] = length\n",
    "#         print(x, y)\n",
    "\n",
    "        _in, _out = reachable_portals((x, y))\n",
    "        if z > 0:\n",
    "            for o in _out:\n",
    "                ok, ol = o\n",
    "                new_pos = outer[ok] + (z-1,)\n",
    "                if new_pos not in visited:\n",
    "#                     queue.insert(0, (new_pos, length+ol, path+[(ok, ol)]))\n",
    "                    queue.append((new_pos, length+ol, path+[(ok, ol)]))\n",
    "        for i in _in:\n",
    "            ik, il = i\n",
    "            new_pos = inner[ik] + (z+1,)\n",
    "            if new_pos not in visited:\n",
    "                queue.append((new_pos, length+il, path+[(ik, il)]))\n",
    "\n",
    "\n",
    "def BFS(G, start, end):\n",
    "    start = start + (0,)\n",
    "    end = end + (0,)\n",
    "    queue = [(start, 0)]\n",
    "    visited = {}\n",
    "    while queue:\n",
    "        pos, length = queue.pop(0)\n",
    "        x, y, z = pos\n",
    "        if pos in visited:\n",
    "#             if length < visited[pos]:\n",
    "#                 print(\"!\", pos, length, visited[pos])\n",
    "            continue\n",
    "        visited[pos] = length\n",
    "#         print(x, y)\n",
    "        ns, jmp_in, jmp_out = ngbrs((x, y))\n",
    "        for n in ns:\n",
    "            nf = n + (z,)\n",
    "            if nf == end:\n",
    "                print('reached end: ', length+1)\n",
    "                return length+1\n",
    "            if nf not in visited:\n",
    "                queue.append((nf, length+1))\n",
    "        if jmp_out and z > 0:\n",
    "            queue.append((jmp_out + (z-1,), length+1))\n",
    "        if jmp_in:\n",
    "            queue.append((jmp_in + (z+1,), length+1))"
   ]
  },
  {
   "cell_type": "code",
   "execution_count": 123,
   "metadata": {},
   "outputs": [],
   "source": [
    "field = parse(test3)\n",
    "G, start, end, inner, outer, portals = build_graph_p2(field)"
   ]
  },
  {
   "cell_type": "code",
   "execution_count": 124,
   "metadata": {},
   "outputs": [
    {
     "name": "stdout",
     "output_type": "stream",
     "text": [
      "reached end:  396\n"
     ]
    },
    {
     "data": {
      "text/plain": [
       "396"
      ]
     },
     "execution_count": 124,
     "metadata": {},
     "output_type": "execute_result"
    }
   ],
   "source": [
    "BFS(G, start, end)"
   ]
  },
  {
   "cell_type": "code",
   "execution_count": 125,
   "metadata": {},
   "outputs": [
    {
     "data": {
      "text/plain": [
       "396"
      ]
     },
     "execution_count": 125,
     "metadata": {},
     "output_type": "execute_result"
    }
   ],
   "source": [
    "BFS2(G, start, end)[0]"
   ]
  },
  {
   "cell_type": "code",
   "execution_count": 128,
   "metadata": {},
   "outputs": [
    {
     "data": {
      "text/plain": [
       "6912"
      ]
     },
     "execution_count": 128,
     "metadata": {},
     "output_type": "execute_result"
    }
   ],
   "source": [
    "field = parse(file_input)\n",
    "G, start, end, inner, outer, portals = build_graph_p2(field)\n",
    "BFS2(G, start, end)[0]"
   ]
  },
  {
   "cell_type": "code",
   "execution_count": 96,
   "metadata": {},
   "outputs": [
    {
     "data": {
      "text/plain": [
       "defaultdict(list,\n",
       "            {'ZZ': [(13, 2)],\n",
       "             'LP': [(15, 2), (29, 28)],\n",
       "             'XQ': [(17, 2), (21, 28)],\n",
       "             'WB': [(19, 2), (36, 13)],\n",
       "             'CK': [(27, 2), (8, 17)],\n",
       "             'FD': [(13, 8), (19, 34)],\n",
       "             'RE': [(21, 8), (2, 25)],\n",
       "             'IC': [(23, 8), (42, 17)],\n",
       "             'ZH': [(31, 8), (42, 13)],\n",
       "             'OA': [(8, 13), (17, 34)],\n",
       "             'CJ': [(2, 15), (8, 23)],\n",
       "             'XF': [(2, 21), (17, 28)],\n",
       "             'RF': [(36, 21), (42, 25)],\n",
       "             'NM': [(36, 23), (23, 34)],\n",
       "             'AA': [(15, 34)]})"
      ]
     },
     "execution_count": 96,
     "metadata": {},
     "output_type": "execute_result"
    }
   ],
   "source": [
    "portals"
   ]
  },
  {
   "cell_type": "code",
   "execution_count": 58,
   "metadata": {},
   "outputs": [
    {
     "data": {
      "text/plain": [
       "(0, 396, (13, 2, 0))"
      ]
     },
     "execution_count": 58,
     "metadata": {},
     "output_type": "execute_result"
    }
   ],
   "source": [
    "astar(G, start, end)"
   ]
  },
  {
   "cell_type": "code",
   "execution_count": 81,
   "metadata": {},
   "outputs": [
    {
     "data": {
      "text/plain": [
       "(15, 34)"
      ]
     },
     "execution_count": 81,
     "metadata": {},
     "output_type": "execute_result"
    }
   ],
   "source": [
    "start"
   ]
  },
  {
   "cell_type": "code",
   "execution_count": 68,
   "metadata": {},
   "outputs": [
    {
     "data": {
      "text/plain": [
       "([((17, 28), 16)], [((17, 34), 16)])"
      ]
     },
     "execution_count": 68,
     "metadata": {},
     "output_type": "execute_result"
    }
   ],
   "source": [
    "reachable_portals(start)"
   ]
  },
  {
   "cell_type": "code",
   "execution_count": 62,
   "metadata": {},
   "outputs": [
    {
     "name": "stdout",
     "output_type": "stream",
     "text": [
      "(29, 28)\n",
      "(21, 28)\n",
      "(36, 13)\n",
      "(8, 17)\n",
      "(13, 8)\n",
      "(21, 8)\n",
      "(23, 8)\n",
      "(31, 8)\n",
      "(8, 13)\n",
      "(8, 23)\n",
      "(17, 28)\n",
      "(36, 21)\n",
      "(36, 23)\n"
     ]
    }
   ],
   "source": [
    "for i in inner:\n",
    "    print(i)"
   ]
  },
  {
   "cell_type": "code",
   "execution_count": null,
   "metadata": {},
   "outputs": [],
   "source": []
  },
  {
   "cell_type": "code",
   "execution_count": null,
   "metadata": {},
   "outputs": [],
   "source": []
  },
  {
   "cell_type": "code",
   "execution_count": null,
   "metadata": {},
   "outputs": [],
   "source": []
  },
  {
   "cell_type": "code",
   "execution_count": 59,
   "metadata": {},
   "outputs": [
    {
     "ename": "MemoryError",
     "evalue": "",
     "output_type": "error",
     "traceback": [
      "\u001b[0;31m---------------------------------------------------------------------------\u001b[0m",
      "\u001b[0;31mMemoryError\u001b[0m                               Traceback (most recent call last)",
      "\u001b[0;32m<ipython-input-59-3cd988544d1b>\u001b[0m in \u001b[0;36m<module>\u001b[0;34m\u001b[0m\n\u001b[1;32m      2\u001b[0m \u001b[0mG\u001b[0m\u001b[0;34m,\u001b[0m \u001b[0mstart\u001b[0m\u001b[0;34m,\u001b[0m \u001b[0mend\u001b[0m\u001b[0;34m,\u001b[0m \u001b[0minner\u001b[0m\u001b[0;34m,\u001b[0m \u001b[0mouter\u001b[0m\u001b[0;34m,\u001b[0m \u001b[0mportals\u001b[0m \u001b[0;34m=\u001b[0m \u001b[0mbuild_graph_p2\u001b[0m\u001b[0;34m(\u001b[0m\u001b[0mfield\u001b[0m\u001b[0;34m)\u001b[0m\u001b[0;34m\u001b[0m\u001b[0;34m\u001b[0m\u001b[0m\n\u001b[1;32m      3\u001b[0m \u001b[0;31m# BFS(G, start, end)\u001b[0m\u001b[0;34m\u001b[0m\u001b[0;34m\u001b[0m\u001b[0;34m\u001b[0m\u001b[0m\n\u001b[0;32m----> 4\u001b[0;31m \u001b[0mastar\u001b[0m\u001b[0;34m(\u001b[0m\u001b[0mG\u001b[0m\u001b[0;34m,\u001b[0m \u001b[0mstart\u001b[0m\u001b[0;34m,\u001b[0m \u001b[0mend\u001b[0m\u001b[0;34m)\u001b[0m\u001b[0;34m\u001b[0m\u001b[0;34m\u001b[0m\u001b[0m\n\u001b[0m",
      "\u001b[0;32m<ipython-input-55-5d2ecd345fc0>\u001b[0m in \u001b[0;36mastar\u001b[0;34m(G, start, end)\u001b[0m\n\u001b[1;32m    107\u001b[0m \u001b[0;34m\u001b[0m\u001b[0m\n\u001b[1;32m    108\u001b[0m             \u001b[0;32mif\u001b[0m \u001b[0mtmp_gscore\u001b[0m \u001b[0;34m<\u001b[0m \u001b[0mGscore\u001b[0m\u001b[0;34m.\u001b[0m\u001b[0mget\u001b[0m\u001b[0;34m(\u001b[0m\u001b[0mnf\u001b[0m\u001b[0;34m,\u001b[0m \u001b[0mfloat\u001b[0m\u001b[0;34m(\u001b[0m\u001b[0;34m\"inf\"\u001b[0m\u001b[0;34m)\u001b[0m\u001b[0;34m)\u001b[0m\u001b[0;34m:\u001b[0m\u001b[0;34m\u001b[0m\u001b[0;34m\u001b[0m\u001b[0m\n\u001b[0;32m--> 109\u001b[0;31m                 \u001b[0mGscore\u001b[0m\u001b[0;34m[\u001b[0m\u001b[0mnf\u001b[0m\u001b[0;34m]\u001b[0m \u001b[0;34m=\u001b[0m \u001b[0mtmp_gscore\u001b[0m\u001b[0;34m\u001b[0m\u001b[0;34m\u001b[0m\u001b[0m\n\u001b[0m\u001b[1;32m    110\u001b[0m                 \u001b[0mnew_fscore\u001b[0m \u001b[0;34m=\u001b[0m \u001b[0mH\u001b[0m\u001b[0;34m(\u001b[0m\u001b[0mnf\u001b[0m\u001b[0;34m,\u001b[0m \u001b[0mend\u001b[0m\u001b[0;34m)\u001b[0m\u001b[0;34m\u001b[0m\u001b[0;34m\u001b[0m\u001b[0m\n\u001b[1;32m    111\u001b[0m                 \u001b[0mFscore\u001b[0m\u001b[0;34m[\u001b[0m\u001b[0mnf\u001b[0m\u001b[0;34m]\u001b[0m \u001b[0;34m=\u001b[0m \u001b[0mGscore\u001b[0m\u001b[0;34m[\u001b[0m\u001b[0mnf\u001b[0m\u001b[0;34m]\u001b[0m \u001b[0;34m+\u001b[0m \u001b[0mnew_fscore\u001b[0m\u001b[0;34m\u001b[0m\u001b[0;34m\u001b[0m\u001b[0m\n",
      "\u001b[0;31mMemoryError\u001b[0m: "
     ]
    }
   ],
   "source": [
    "field = parse(file_input)\n",
    "G, start, end, inner, outer, portals = build_graph_p2(field)\n",
    "# BFS(G, start, end)\n",
    "astar(G, start, end)"
   ]
  },
  {
   "cell_type": "code",
   "execution_count": 60,
   "metadata": {},
   "outputs": [
    {
     "name": "stdout",
     "output_type": "stream",
     "text": [
      "1\n"
     ]
    }
   ],
   "source": [
    "print(1)"
   ]
  },
  {
   "cell_type": "code",
   "execution_count": null,
   "metadata": {},
   "outputs": [],
   "source": []
  },
  {
   "cell_type": "code",
   "execution_count": 87,
   "metadata": {},
   "outputs": [],
   "source": [
    "def H(pos, end):\n",
    "    x, y, z = pos\n",
    "    ex, ey, ez = end\n",
    "    res = abs(x - ex) + abs(y - ey)\n",
    "    res += abs(z - ez) * 15\n",
    "    return res\n",
    "            \n",
    "def astar(G, start, end):\n",
    "    start = start + (0,)\n",
    "    end = end + (0,)\n",
    "    queue = []\n",
    "    heapq.heappush(queue, (H(start, end), 0, start))\n",
    "    queue_set = set([start])\n",
    "    Gscore = {}\n",
    "    Fscore = {}\n",
    "#     visited = {}\n",
    "    while queue:\n",
    "        fscore, gscore, pos  = heapq.heappop(queue)\n",
    "        if pos == end:\n",
    "            return fscore, gscore, pos\n",
    "        queue_set.remove(pos)\n",
    "        x, y, z = pos\n",
    "#         if pos in visited:\n",
    "#             if length < visited[pos]:\n",
    "#                 print(\"!\", pos, length, visited[pos])\n",
    "#             continue\n",
    "#         visited[pos] = length\n",
    "#         print(x, y)\n",
    "        ns, jmp_in, jmp_out = ngbrs((x, y))\n",
    "        nlist = [n + (z,) for n in ns]\n",
    "        if jmp_out and z > 0:\n",
    "            nlist += [(jmp_out + (z-1,))]\n",
    "        if jmp_in:\n",
    "            nlist += [(jmp_in + (z+1,))]\n",
    "        for nf in nlist:\n",
    "            tmp_gscore = gscore + 1\n",
    "\n",
    "            if tmp_gscore < Gscore.get(nf, float(\"inf\")):\n",
    "                Gscore[nf] = tmp_gscore\n",
    "                new_fscore = H(nf, end)\n",
    "                Fscore[nf] = Gscore[nf] + new_fscore\n",
    "\n",
    "                if nf not in queue_set:\n",
    "                    queue_set.add(nf)\n",
    "                    heapq.heappush(queue, (new_fscore, tmp_gscore, nf))\n",
    "    return 'failure', Gscore, Fscore    "
   ]
  }
 ],
 "metadata": {
  "kernelspec": {
   "display_name": "Python 3",
   "language": "python",
   "name": "python3"
  },
  "language_info": {
   "codemirror_mode": {
    "name": "ipython",
    "version": 3
   },
   "file_extension": ".py",
   "mimetype": "text/x-python",
   "name": "python",
   "nbconvert_exporter": "python",
   "pygments_lexer": "ipython3",
   "version": "3.7.5"
  }
 },
 "nbformat": 4,
 "nbformat_minor": 2
}
