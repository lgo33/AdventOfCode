{
 "cells": [
  {
   "cell_type": "code",
   "execution_count": 1,
   "metadata": {},
   "outputs": [],
   "source": [
    "with open('./data/input_13.txt') as fh:\n",
    "    file_input = fh.read().strip()"
   ]
  },
  {
   "cell_type": "code",
   "execution_count": 2,
   "metadata": {},
   "outputs": [],
   "source": [
    "from intcode import intcode"
   ]
  },
  {
   "cell_type": "code",
   "execution_count": 3,
   "metadata": {},
   "outputs": [
    {
     "data": {
      "text/plain": [
       "99"
      ]
     },
     "execution_count": 3,
     "metadata": {},
     "output_type": "execute_result"
    }
   ],
   "source": [
    "mem = [int(d) for d in file_input.split(',')]\n",
    "stack = []\n",
    "ic = intcode(mem, add_mem=1000, give_output=stack.append)\n",
    "ic.run()"
   ]
  },
  {
   "cell_type": "code",
   "execution_count": 4,
   "metadata": {},
   "outputs": [
    {
     "data": {
      "text/plain": [
       "363"
      ]
     },
     "execution_count": 4,
     "metadata": {},
     "output_type": "execute_result"
    }
   ],
   "source": [
    "# part 1\n",
    "sum([1 for i in stack[2::3] if i == 2])"
   ]
  },
  {
   "cell_type": "code",
   "execution_count": 5,
   "metadata": {},
   "outputs": [],
   "source": [
    "import numpy as np\n",
    "import matplotlib.pyplot as plt\n",
    "import matplotlib.animation as animation\n",
    "%matplotlib inline"
   ]
  },
  {
   "cell_type": "code",
   "execution_count": 6,
   "metadata": {},
   "outputs": [],
   "source": [
    "from collections import defaultdict\n",
    "def split_output(px):\n",
    "    screen = defaultdict(list)\n",
    "    score = 0\n",
    "    while px:\n",
    "        a, b, c = (px.pop(), px.pop(), px.pop())\n",
    "        if c == -1:\n",
    "            score = a\n",
    "        else:\n",
    "            screen[a].append((b, c))\n",
    "    return screen, score"
   ]
  },
  {
   "cell_type": "code",
   "execution_count": 7,
   "metadata": {},
   "outputs": [],
   "source": [
    "def initfield(scr):\n",
    "    ey, ex = np.array(list(zip(*scr[0])))\n",
    "    wy, wx = np.array(list(zip(*scr[1])))\n",
    "    by, bx = np.array(list(zip(*scr[2])))\n",
    "    pdl_y, pdl_x = scr[3][0]\n",
    "    ball_y, ball_x = scr[4][0]\n",
    "\n",
    "    field = np.zeros((wx.max()+1, wy.max()+1))\n",
    "    field[wx, wy] = 1\n",
    "    field[bx, by] = 2\n",
    "    field[pdl_x, pdl_y] = 3\n",
    "    field[ball_x, ball_y] = 4\n",
    "    return field\n",
    "\n",
    "def update_field(field, scr):\n",
    "    if 0 in scr:\n",
    "        ey, ex = np.array(list(zip(*scr[0])))\n",
    "        field[ex, ey] = 0\n",
    "    if 1 in scr: \n",
    "        wy, wx = np.array(list(zip(*scr[1])))\n",
    "        field[wx, wy] = 1\n",
    "    if 2 in scr:\n",
    "        by, bx = np.array(list(zip(*scr[2])))\n",
    "        field[bx, by] = 2\n",
    "    \n",
    "    if 3 in scr:\n",
    "        pdl_y, pdl_x = scr[3][0]\n",
    "        field[pdl_x, pdl_y] = 3\n",
    "\n",
    "    if 4 in scr:\n",
    "        ball_y, ball_x = scr[4][0]\n",
    "        field[ball_x, ball_y] = 4\n",
    "    \n",
    "    return field\n",
    "        "
   ]
  },
  {
   "cell_type": "code",
   "execution_count": 8,
   "metadata": {},
   "outputs": [
    {
     "name": "stdout",
     "output_type": "stream",
     "text": [
      "0\n",
      "1000\n",
      "2000\n",
      "3000\n",
      "4000\n",
      "5000\n",
      "final score 17159 after 5938 steps\n"
     ]
    }
   ],
   "source": [
    "# part 2\n",
    "mem = [int(d) for d in file_input.split(',')]\n",
    "mem[0] = 2\n",
    "stack = []\n",
    "_inp = []\n",
    "ic = intcode(mem, add_mem=1000, take_input=_inp.pop, give_output=stack.append)\n",
    "ret = 0\n",
    "step = 0\n",
    "field = None\n",
    "frames = []\n",
    "while ret != 99:\n",
    "    ret = ic.run()\n",
    "    scr, new_score = split_output(stack)\n",
    "    if field is None:\n",
    "        field = initfield(scr)\n",
    "    else:\n",
    "        field = update_field(field, scr)\n",
    "    if new_score:\n",
    "        score = new_score\n",
    "    if ret == 99:\n",
    "        print('final score {} after {} steps'.format(score, step))\n",
    "        break\n",
    "    ball_x = scr[4][0][1]\n",
    "    if 3 in scr:\n",
    "        pdl_x = scr[3][0][1]\n",
    "    _inp.append(int(np.sign(ball_x - pdl_x)))\n",
    "    if (step%1000) == 0:\n",
    "        print(step)\n",
    "    frames.append(field.T.copy())  \n",
    "#         render(scr)\n",
    "#     render(scr)\n",
    "    step += 1\n",
    "#     print(step)\n",
    "#     render(scr)\n",
    "    if step > 1e6:\n",
    "        break"
   ]
  },
  {
   "cell_type": "code",
   "execution_count": 9,
   "metadata": {},
   "outputs": [
    {
     "data": {
      "image/png": "[encoded data removed]",
      "text/plain": [
       "<Figure size 432x288 with 1 Axes>"
      ]
     },
     "metadata": {
      "needs_background": "light"
     },
     "output_type": "display_data"
    }
   ],
   "source": [
    "im = plt.imshow(frames[0])\n",
    "def animate_func(i):\n",
    "    im.set_array(frames[i])\n",
    "    return [im]\n",
    "\n",
    "anim = animation.FuncAnimation(\n",
    "                               plt.gcf(), \n",
    "                               animate_func, \n",
    "                               frames = len(frames),\n",
    "                               interval = 10, # in ms\n",
    "                               )"
   ]
  },
  {
   "cell_type": "code",
   "execution_count": 10,
   "metadata": {},
   "outputs": [],
   "source": [
    "anim.save('test_anim.mp4', fps=24, extra_args=['-vcodec', 'libx264'])"
   ]
  },
  {
   "cell_type": "code",
   "execution_count": 168,
   "metadata": {},
   "outputs": [
    {
     "data": {
      "text/plain": [
       "<matplotlib.image.AxesImage at 0x1158fa8d0>"
      ]
     },
     "execution_count": 168,
     "metadata": {},
     "output_type": "execute_result"
    },
    {
     "data": {
      "image/png": "[encoded data removed]",
      "text/plain": [
       "<Figure size 432x288 with 1 Axes>"
      ]
     },
     "metadata": {
      "needs_background": "light"
     },
     "output_type": "display_data"
    }
   ],
   "source": [
    "f = initfield(scr).T\n",
    "plt.imshow(f)"
   ]
  },
  {
   "cell_type": "code",
   "execution_count": null,
   "metadata": {},
   "outputs": [],
   "source": []
  }
 ],
 "metadata": {
  "kernelspec": {
   "display_name": "Python 3",
   "language": "python",
   "name": "python3"
  },
  "language_info": {
   "codemirror_mode": {
    "name": "ipython",
    "version": 3
   },
   "file_extension": ".py",
   "mimetype": "text/x-python",
   "name": "python",
   "nbconvert_exporter": "python",
   "pygments_lexer": "ipython3",
   "version": "3.7.4"
  }
 },
 "nbformat": 4,
 "nbformat_minor": 4
}
