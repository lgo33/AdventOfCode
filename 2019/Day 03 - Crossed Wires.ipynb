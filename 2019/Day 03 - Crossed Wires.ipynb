{
 "cells": [
  {
   "cell_type": "code",
   "execution_count": 1,
   "metadata": {},
   "outputs": [],
   "source": [
    "with open('./data/input_03.txt') as fh:\n",
    "    file_input = fh.read().strip()"
   ]
  },
  {
   "cell_type": "code",
   "execution_count": 41,
   "metadata": {},
   "outputs": [],
   "source": [
    "tests = [('R75,D30,R83,U83,L12,D49,R71,U7,L72\\nU62,R66,U55,R34,D71,R55,D58,R83', (159, 610)),\n",
    "        ('R98,U47,R26,D63,R33,U87,L62,D20,R33,U53,R51\\nU98,R91,D20,R16,D67,R40,U7,R15,U6,R7', (135, 410))]"
   ]
  },
  {
   "cell_type": "code",
   "execution_count": 67,
   "metadata": {},
   "outputs": [],
   "source": [
    "dirmap = {\n",
    "    'U': 1j,\n",
    "    'R': 1,\n",
    "    'D': -1j,\n",
    "    'L': -1\n",
    "}\n",
    "\n",
    "# alternative declaration\n",
    "dirmap = dict(zip('URDL', (1j, 1, -1j, -1)))\n",
    "\n",
    "def parse(step):\n",
    "    return dirmap[step[0]], int(step[1:])\n",
    "    \n",
    "def walk(path):\n",
    "    n = 0\n",
    "    loc = 0\n",
    "    visited = set([])\n",
    "    nsteps = {}\n",
    "    for step in path:\n",
    "        direction, distance = parse(step)\n",
    "        for i in range(distance):\n",
    "            loc += direction\n",
    "            n += 1\n",
    "            visited.add(loc)\n",
    "            nsteps[loc] = min(n, nsteps.get(loc, 1e10))\n",
    "    return visited, nsteps\n",
    "\n",
    "def comp(paths):\n",
    "    A, A_steps = walk(paths[0])\n",
    "    B, B_steps = walk(paths[1])\n",
    "    both = A.intersection(B)\n",
    "    man_dist = [abs(i.real) + abs(i.imag) for i in both]\n",
    "    both_steps = [(A_steps[b] + B_steps[b]) for b in both]\n",
    "    return min(man_dist), min(both_steps)"
   ]
  },
  {
   "cell_type": "code",
   "execution_count": 68,
   "metadata": {},
   "outputs": [
    {
     "name": "stdout",
     "output_type": "stream",
     "text": [
      "(159.0, 610) (159, 610)\n",
      "(135.0, 410) (135, 410)\n"
     ]
    }
   ],
   "source": [
    "# tests\n",
    "for test in tests:\n",
    "    paths = [i.split(',') for i in test[0].split() ]\n",
    "    print(comp(paths), test[1])\n",
    "    assert(comp(paths)[0] == test[1][0])\n",
    "    assert(comp(paths)[1] == test[1][1])"
   ]
  },
  {
   "cell_type": "code",
   "execution_count": 69,
   "metadata": {},
   "outputs": [
    {
     "data": {
      "text/plain": [
       "(2193.0, 63526)"
      ]
     },
     "execution_count": 69,
     "metadata": {},
     "output_type": "execute_result"
    }
   ],
   "source": [
    "#part 1 + 2\n",
    "paths = [i.split(',') for i in file_input.split() ]\n",
    "comp(paths)"
   ]
  },
  {
   "cell_type": "code",
   "execution_count": 1,
   "metadata": {},
   "outputs": [
    {
     "data": {
      "text/plain": [
       "5.0"
      ]
     },
     "execution_count": 1,
     "metadata": {},
     "output_type": "execute_result"
    }
   ],
   "source": [
    "abs(3+4j)"
   ]
  },
  {
   "cell_type": "code",
   "execution_count": null,
   "metadata": {},
   "outputs": [],
   "source": []
  }
 ],
 "metadata": {
  "kernelspec": {
   "display_name": "Python 3",
   "language": "python",
   "name": "python3"
  },
  "language_info": {
   "codemirror_mode": {
    "name": "ipython",
    "version": 3
   },
   "file_extension": ".py",
   "mimetype": "text/x-python",
   "name": "python",
   "nbconvert_exporter": "python",
   "pygments_lexer": "ipython3",
   "version": "3.7.5"
  }
 },
 "nbformat": 4,
 "nbformat_minor": 2
}
