{
 "cells": [
  {
   "cell_type": "code",
   "execution_count": 39,
   "metadata": {},
   "outputs": [],
   "source": [
    "with open('./data/input_16.txt') as fh:\n",
    "    file_input = fh.read().strip()"
   ]
  },
  {
   "cell_type": "code",
   "execution_count": 40,
   "metadata": {},
   "outputs": [],
   "source": [
    "import numpy as np"
   ]
  },
  {
   "cell_type": "code",
   "execution_count": 41,
   "metadata": {},
   "outputs": [],
   "source": [
    "test = '12345678'"
   ]
  },
  {
   "cell_type": "code",
   "execution_count": 42,
   "metadata": {},
   "outputs": [],
   "source": [
    "test2 = '80871224585914546619083218645595'"
   ]
  },
  {
   "cell_type": "code",
   "execution_count": 43,
   "metadata": {},
   "outputs": [],
   "source": [
    "last_digit = lambda x: int(str(x)[-1])\n",
    "mult = lambda x, y: [x[i]*y[i] for i in range(len(x))]"
   ]
  },
  {
   "cell_type": "code",
   "execution_count": 132,
   "metadata": {},
   "outputs": [],
   "source": [
    "base = [0, 1, 0, -1]\n",
    "def gen_pattern(idx, length, base=[0, 1, 0, -1]):\n",
    "    res = []\n",
    "    j = 0\n",
    "    while len(res) <= length:\n",
    "        for i in range(idx+1):\n",
    "            res.append(base[j])\n",
    "            if len(res) > length:\n",
    "                break\n",
    "        j = (j + 1) % len(base)\n",
    "    res.pop(0)\n",
    "    return (res)\n",
    "\n",
    "def gen_pattern_np(n):\n",
    "    b = np.array(base)\n",
    "    p = np.zeros((n, n), dtype=np.int8)\n",
    "    for i in range(n):\n",
    "        f = int(np.ceil(n / (len(b) * (i+1))))\n",
    "        p[i, :] = (np.tile(b.repeat(i+1), f+1)[1:n+1])\n",
    "    return p.T\n"
   ]
  },
  {
   "cell_type": "code",
   "execution_count": 133,
   "metadata": {},
   "outputs": [],
   "source": [
    "def nphase(phase, base = [0, 1, 0, -1], patterns=None):\n",
    "    res = []\n",
    "    for i in range(len(phase)):\n",
    "        \n",
    "        dig = last_digit(sum(mult(phase, patterns[i])))\n",
    "        res.append(dig)\n",
    "    return res\n",
    "\n",
    "def npphase(phase, patterns=None):\n",
    "    return np.abs(phase.dot(patterns)) % 10"
   ]
  },
  {
   "cell_type": "code",
   "execution_count": 134,
   "metadata": {},
   "outputs": [
    {
     "data": {
      "text/plain": [
       "[0, 1, 0, 2, 9, 4, 9, 8]"
      ]
     },
     "execution_count": 134,
     "metadata": {},
     "output_type": "execute_result"
    }
   ],
   "source": [
    "# test\n",
    "_inp= [int(d)for d in test]\n",
    "\n",
    "patterns = [gen_pattern(i, len(_inp)) for i in range(len(_inp))]\n",
    "phase = _inp\n",
    "for i in range(4):\n",
    "    phase = nphase(phase, patterns=patterns)\n",
    "phase"
   ]
  },
  {
   "cell_type": "code",
   "execution_count": 135,
   "metadata": {},
   "outputs": [
    {
     "data": {
      "text/plain": [
       "array([1, 0, 1, 8, 9, 3, 5, 9])"
      ]
     },
     "execution_count": 135,
     "metadata": {},
     "output_type": "execute_result"
    }
   ],
   "source": [
    "# part 1\n",
    "_inp= [int(d)for d in file_input]\n",
    "\n",
    "patterns = np.array([gen_pattern(i, len(_inp)) for i in range(len(_inp))])\n",
    "phase = _inp\n",
    "for i in range(100):\n",
    "#     phase = npphase(np.array(phase), patterns=patterns.T)\n",
    "    phase = npphase(np.array(phase), patterns=gen_pattern_np(len(phase)))\n",
    "phase[:8]"
   ]
  },
  {
   "cell_type": "code",
   "execution_count": 136,
   "metadata": {},
   "outputs": [],
   "source": [
    "_inp= [int(d)for d in test]\n",
    "\n",
    "patterns = [gen_pattern(i, len(_inp)) for i in range(len(_inp))]"
   ]
  },
  {
   "cell_type": "code",
   "execution_count": 137,
   "metadata": {},
   "outputs": [],
   "source": [
    "# part 2\n",
    "# the pattern matrix only contains ones in the lower half!"
   ]
  },
  {
   "cell_type": "code",
   "execution_count": 168,
   "metadata": {},
   "outputs": [],
   "source": [
    "off = int(file_input[:7])\n",
    "_inp = (file_input * 10000)[off:]\n",
    "phase = np.array([int(d) for d in _inp])"
   ]
  },
  {
   "cell_type": "code",
   "execution_count": 169,
   "metadata": {},
   "outputs": [],
   "source": [
    "def nphase2(phase):\n",
    "    return np.abs(np.cumsum(phase[::-1])[::-1]) % 10"
   ]
  },
  {
   "cell_type": "code",
   "execution_count": 170,
   "metadata": {},
   "outputs": [
    {
     "data": {
      "text/plain": [
       "'80722126'"
      ]
     },
     "execution_count": 170,
     "metadata": {},
     "output_type": "execute_result"
    }
   ],
   "source": [
    "for i in range(100):\n",
    "    phase = nphase2(phase)\n",
    "\"\".join([str(i) for i in phase[:8]])"
   ]
  },
  {
   "cell_type": "code",
   "execution_count": null,
   "metadata": {},
   "outputs": [],
   "source": []
  }
 ],
 "metadata": {
  "kernelspec": {
   "display_name": "Python 3",
   "language": "python",
   "name": "python3"
  },
  "language_info": {
   "codemirror_mode": {
    "name": "ipython",
    "version": 3
   },
   "file_extension": ".py",
   "mimetype": "text/x-python",
   "name": "python",
   "nbconvert_exporter": "python",
   "pygments_lexer": "ipython3",
   "version": "3.7.5"
  }
 },
 "nbformat": 4,
 "nbformat_minor": 2
}
