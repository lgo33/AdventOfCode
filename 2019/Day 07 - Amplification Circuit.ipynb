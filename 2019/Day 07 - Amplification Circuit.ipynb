{
 "cells": [
  {
   "cell_type": "code",
   "execution_count": 1,
   "metadata": {},
   "outputs": [],
   "source": [
    "with open('./data/input_07.txt') as fh:\n",
    "    file_input = fh.read().strip()\n",
    "    \n",
    "mem = [int(d) for d in file_input.split(',')]"
   ]
  },
  {
   "cell_type": "code",
   "execution_count": 2,
   "metadata": {},
   "outputs": [],
   "source": [
    "from intcode import intcode"
   ]
  },
  {
   "cell_type": "code",
   "execution_count": 3,
   "metadata": {},
   "outputs": [],
   "source": [
    "# part 1\n",
    "def calc_thrust(mem, phase):\n",
    "    stack = [0]\n",
    "    ic = []\n",
    "#     ic = intcode(mem, take_input=lambda: stack.pop(), give_output=lambda x: stack.append(x))\n",
    "#     ic.debug = True\n",
    "    for i in range(5):\n",
    "        stack.append(phase[i])\n",
    "        ic.append(intcode(mem, take_input=lambda: stack.pop(), give_output=lambda x: stack.append(x)))\n",
    "        ic[-1].run()\n",
    "        #print(stack)\n",
    "    return stack.pop()"
   ]
  },
  {
   "cell_type": "code",
   "execution_count": 4,
   "metadata": {},
   "outputs": [],
   "source": [
    "from itertools import permutations"
   ]
  },
  {
   "cell_type": "code",
   "execution_count": 5,
   "metadata": {},
   "outputs": [
    {
     "data": {
      "text/plain": [
       "[(0, 1, 2), (0, 2, 1), (1, 0, 2), (1, 2, 0), (2, 0, 1), (2, 1, 0)]"
      ]
     },
     "execution_count": 5,
     "metadata": {},
     "output_type": "execute_result"
    }
   ],
   "source": [
    "list(permutations(range(3), 3))"
   ]
  },
  {
   "cell_type": "code",
   "execution_count": 8,
   "metadata": {},
   "outputs": [],
   "source": [
    "def gen_phase(_max, _size, _this=0):\n",
    "    if _this == _size:\n",
    "        yield tuple()\n",
    "        return\n",
    "    for i in range(_max):\n",
    "        for phase in gen_phase(_max, _size, _this+1):\n",
    "            yield (i,) + phase"
   ]
  },
  {
   "cell_type": "code",
   "execution_count": 9,
   "metadata": {},
   "outputs": [],
   "source": [
    "def max_thrust(mem):\n",
    "    _max_thrust = 0\n",
    "    _max_phase = 0 \n",
    "    for phase in permutations(range(5), 5):\n",
    "        thrust = calc_thrust(mem, phase)\n",
    "        if thrust > _max_thrust:\n",
    "            _max_thrust = thrust\n",
    "            _max_phase = phase\n",
    "    return _max_thrust, _max_phase"
   ]
  },
  {
   "cell_type": "code",
   "execution_count": 10,
   "metadata": {},
   "outputs": [],
   "source": [
    "test = [3,15,3,16,1002,16,10,16,1,16,15,15,4,15,99,0,0] # 43210\n",
    "test2= [3,23,3,24,1002,24,10,24,1002,23,-1,23,101,5,23,23,1,24,23,23,4,23,99,0,0] # 54321\n",
    "test3= [3,31,3,32,1002,32,10,32,1001,31,-2,31,1007,31,0,33,1002,33,7,33,1,33,31,31,1,32,31,31,4,31,99,0,0,0] # "
   ]
  },
  {
   "cell_type": "code",
   "execution_count": 11,
   "metadata": {},
   "outputs": [
    {
     "name": "stdout",
     "output_type": "stream",
     "text": [
      "43210\n",
      "54321\n",
      "65210\n"
     ]
    }
   ],
   "source": [
    "print(calc_thrust(test, [4,3,2,1,0]))\n",
    "print(calc_thrust(test2, [0,1,2,3,4]))\n",
    "print(calc_thrust(test3, [1,0,4,3,2]))"
   ]
  },
  {
   "cell_type": "code",
   "execution_count": 12,
   "metadata": {},
   "outputs": [
    {
     "data": {
      "text/plain": [
       "(43210, (4, 3, 2, 1, 0))"
      ]
     },
     "execution_count": 12,
     "metadata": {},
     "output_type": "execute_result"
    }
   ],
   "source": [
    "max_thrust(test)"
   ]
  },
  {
   "cell_type": "code",
   "execution_count": 13,
   "metadata": {},
   "outputs": [
    {
     "data": {
      "text/plain": [
       "(54321, (0, 1, 2, 3, 4))"
      ]
     },
     "execution_count": 13,
     "metadata": {},
     "output_type": "execute_result"
    }
   ],
   "source": [
    "max_thrust(test2)"
   ]
  },
  {
   "cell_type": "code",
   "execution_count": 14,
   "metadata": {},
   "outputs": [
    {
     "data": {
      "text/plain": [
       "(65210, (1, 0, 4, 3, 2))"
      ]
     },
     "execution_count": 14,
     "metadata": {},
     "output_type": "execute_result"
    }
   ],
   "source": [
    "max_thrust(test3)"
   ]
  },
  {
   "cell_type": "code",
   "execution_count": 15,
   "metadata": {},
   "outputs": [
    {
     "data": {
      "text/plain": [
       "(77500, (0, 3, 2, 4, 1))"
      ]
     },
     "execution_count": 15,
     "metadata": {},
     "output_type": "execute_result"
    }
   ],
   "source": [
    "# Part 1\n",
    "max_thrust(mem)"
   ]
  },
  {
   "cell_type": "code",
   "execution_count": 16,
   "metadata": {},
   "outputs": [],
   "source": [
    "from functools import partial"
   ]
  },
  {
   "cell_type": "code",
   "execution_count": 17,
   "metadata": {},
   "outputs": [],
   "source": [
    "# part 2\n",
    "n = 5\n",
    "from functools import partial\n",
    "def calc_thrust_loop(mem, phase):\n",
    "    stack = [[phase[i]] for i in range(n)]\n",
    "    \n",
    "    ic = [intcode(mem, take_input=partial(lambda x: stack[x].pop(), i), give_output=partial(lambda x, y: stack[(x+1)%n].append(y), i)) for i in range(5)]\n",
    "#     ic = intcode(mem, take_input=lambda: stack.pop(), give_output=lambda x: stack.append(x))\n",
    "#     ic.debug = True\n",
    "    [ic[i].run() for i in range(n)]\n",
    "    stack[0].append(0)\n",
    "    while any([ic[i].run()!=99 for i in range(n)]):\n",
    "        pass\n",
    "            \n",
    "    return stack[0][0]"
   ]
  },
  {
   "cell_type": "code",
   "execution_count": 18,
   "metadata": {},
   "outputs": [],
   "source": [
    "test = [3,26,1001,26,-4,26,3,27,1002,27,2,27,1,27,26,27,4,27,1001,28,-1,28,1005,28,6,99,0,0,5] # 139629729\n",
    "test2= [3,52,1001,52,-5,52,3,53,1,52,56,54,1007,54,5,55,1005,55,26,1001,54,-5,54,1105,1,12,1,53,54,53,1008,54,0,55,1001,55,1,55,2,53,55,53,4,53,1001,56,-1,56,1005,56,6,99,0,0,0,0,10]\n",
    "# 18216\n",
    "#calc_thrust_loop(test, [9,8,7,6,5])"
   ]
  },
  {
   "cell_type": "code",
   "execution_count": 19,
   "metadata": {},
   "outputs": [
    {
     "name": "stdout",
     "output_type": "stream",
     "text": [
      "139629729\n",
      "18216\n"
     ]
    }
   ],
   "source": [
    "print(calc_thrust_loop(test, [9,8,7,6,5]))\n",
    "print(calc_thrust_loop(test2, [9,7,8,5,6]))\n"
   ]
  },
  {
   "cell_type": "code",
   "execution_count": 20,
   "metadata": {},
   "outputs": [],
   "source": [
    "def max_thrust_loop(mem):\n",
    "    _max_thrust = 0\n",
    "    _max_phase = 0 \n",
    "    for phase in permutations(range(5, 10), 5):\n",
    "        thrust = calc_thrust_loop(mem, phase)\n",
    "        if thrust > _max_thrust:\n",
    "            _max_thrust = thrust\n",
    "            _max_phase = phase\n",
    "    return _max_thrust, _max_phase"
   ]
  },
  {
   "cell_type": "code",
   "execution_count": 21,
   "metadata": {},
   "outputs": [
    {
     "name": "stdout",
     "output_type": "stream",
     "text": [
      "(139629729, (9, 8, 7, 6, 5))\n",
      "(18216, (9, 7, 8, 5, 6))\n"
     ]
    }
   ],
   "source": [
    "print(max_thrust_loop(test))\n",
    "print(max_thrust_loop(test2))"
   ]
  },
  {
   "cell_type": "code",
   "execution_count": 22,
   "metadata": {},
   "outputs": [
    {
     "data": {
      "text/plain": [
       "(22476942, (7, 9, 5, 8, 6))"
      ]
     },
     "execution_count": 22,
     "metadata": {},
     "output_type": "execute_result"
    }
   ],
   "source": [
    "# part 2\n",
    "max_thrust_loop(mem)"
   ]
  },
  {
   "cell_type": "code",
   "execution_count": null,
   "metadata": {},
   "outputs": [],
   "source": []
  }
 ],
 "metadata": {
  "kernelspec": {
   "display_name": "Python 3",
   "language": "python",
   "name": "python3"
  },
  "language_info": {
   "codemirror_mode": {
    "name": "ipython",
    "version": 3
   },
   "file_extension": ".py",
   "mimetype": "text/x-python",
   "name": "python",
   "nbconvert_exporter": "python",
   "pygments_lexer": "ipython3",
   "version": "3.7.5"
  }
 },
 "nbformat": 4,
 "nbformat_minor": 2
}
