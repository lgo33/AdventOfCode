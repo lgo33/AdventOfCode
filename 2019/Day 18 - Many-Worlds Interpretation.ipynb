{
 "cells": [
  {
   "cell_type": "code",
   "execution_count": 2,
   "metadata": {},
   "outputs": [],
   "source": [
    "with open('./data/input_18.txt') as fh:\n",
    "    file_input = fh.read().strip()"
   ]
  },
  {
   "cell_type": "code",
   "execution_count": 245,
   "metadata": {},
   "outputs": [],
   "source": [
    "import networkx as nx\n",
    "from networkx.algorithms.shortest_paths.generic import has_path\n",
    "from networkx import NetworkXNoPath\n",
    "from functools import lru_cache\n",
    "from collections import OrderedDict"
   ]
  },
  {
   "cell_type": "code",
   "execution_count": 4,
   "metadata": {},
   "outputs": [],
   "source": [
    "test = \"\"\"########################\n",
    "#f.D.E.e.C.b.A.@.a.B.c.#\n",
    "######################.#\n",
    "#d.....................#\n",
    "########################\"\"\""
   ]
  },
  {
   "cell_type": "code",
   "execution_count": 5,
   "metadata": {},
   "outputs": [],
   "source": [
    "test2 = \"\"\"#################\n",
    "#i.G..c...e..H.p#\n",
    "########.########\n",
    "#j.A..b...f..D.o#\n",
    "########@########\n",
    "#k.E..a...g..B.n#\n",
    "########.########\n",
    "#l.F..d...h..C.m#\n",
    "#################\"\"\""
   ]
  },
  {
   "cell_type": "code",
   "execution_count": 6,
   "metadata": {},
   "outputs": [],
   "source": [
    "test3 = \"\"\"########################\n",
    "#@..............ac.GI.b#\n",
    "###d#e#f################\n",
    "###A#B#C################\n",
    "###g#h#i################\n",
    "########################\"\"\""
   ]
  },
  {
   "cell_type": "code",
   "execution_count": 56,
   "metadata": {},
   "outputs": [],
   "source": [
    "test4 = \"\"\"########################\n",
    "#...............b.C.D.f#\n",
    "#.######################\n",
    "#.....@.a.B.c.d.A.e.F.g#\n",
    "########################\"\"\""
   ]
  },
  {
   "cell_type": "code",
   "execution_count": 7,
   "metadata": {},
   "outputs": [],
   "source": [
    "class L(list):\n",
    "    def __new__(self, *args, **kwargs):\n",
    "        return super(L, self).__new__(self, args, kwargs)\n",
    "\n",
    "    def __init__(self, *args, **kwargs):\n",
    "        if len(args) == 1 and hasattr(args[0], '__iter__'):\n",
    "            list.__init__(self, args[0])\n",
    "        else:\n",
    "            list.__init__(self, args)\n",
    "        self.__dict__.update(kwargs)\n",
    "\n",
    "    def __call__(self, **kwargs):\n",
    "        self.__dict__.update(kwargs)\n",
    "        return self"
   ]
  },
  {
   "cell_type": "code",
   "execution_count": 263,
   "metadata": {},
   "outputs": [],
   "source": [
    "def parse(txt):\n",
    "    lines = L(txt.splitlines())\n",
    "    lines.x = len(lines[0])\n",
    "    lines.y = len(lines)\n",
    "    return lines\n",
    "\n",
    "def neighbors_short(pos, field):\n",
    "    for x, y in ((pos[0]+1, pos[1]), (pos[0], pos[1]+1)):\n",
    "        if x < field.x and x >= 0 and y < field.y and y >=0:\n",
    "            yield (x, y), field[y][x] \n",
    "\n",
    "def neighbors_all(pos, field):\n",
    "    for x, y in ((pos[0]+1, pos[1]), (pos[0], pos[1]+1), (pos[0]-1, pos[1]), (pos[0], pos[1]-1)):\n",
    "        if x < field.x and x >= 0 and y < field.y and y >=0:\n",
    "            yield (x, y), field[y][x]\n",
    "\n",
    "D = tuple(range(ord('A'), ord('Z')+1))\n",
    "K = tuple(range(ord('a'), ord('z')+1))\n",
    "wall = ord('#')\n",
    "free = ord('.')\n",
    "start = ord('@')\n",
    "valid_targets = (free, start) + K\n",
    "diff = ord('a') - ord('A')\n",
    "    \n",
    "def build_graph(field):\n",
    "    G = nx.Graph()\n",
    "    doors = {}\n",
    "    keys = {}\n",
    "    home = (0, 0)\n",
    "    for y, line in enumerate(field):\n",
    "        for x, char in enumerate(line):\n",
    "            o = ord(char)\n",
    "            if o != ord('#'):\n",
    "                G.add_node((x, y))\n",
    "                if o in K:\n",
    "                    keys[char] = (x, y)\n",
    "                if o == start:\n",
    "                    home = (x, y)\n",
    "                if o in D:\n",
    "                    doors[char] = (x, y)\n",
    "                    continue\n",
    "                for npos, vngb in neighbors_short((x, y), field):\n",
    "                    if ord(vngb) in valid_targets:\n",
    "                        G.add_edge((x, y), npos)\n",
    "    \n",
    "    return G, keys, doors, home\n",
    "\n",
    "def add_door(G, pos, field):\n",
    "    if pos is None:\n",
    "        return G\n",
    "    for npos, vngb in neighbors_all(pos, field):\n",
    "        if ord(vngb) != wall:\n",
    "            G.add_edge(pos, npos)\n",
    "    return G\n",
    "\n",
    "@lru_cache(maxsize=None)\n",
    "def candidates(pos, leftover_keys):\n",
    "    cand = []\n",
    "    G_new = G.copy()\n",
    "    for key in [k for k in keys if k not in leftover_keys]:\n",
    "        G_new = add_door(G_new, doors.get(key.upper(), None), field)\n",
    "        \n",
    "    for k in leftover_keys:\n",
    "        try:\n",
    "            path = nx.shortest_path(G_new, pos, keys[k])\n",
    "            length = len(path) - 1\n",
    "            append = True\n",
    "            for key in leftover_keys:\n",
    "                if keys[key] in path[1:-1]:\n",
    "                    append = False\n",
    "                    break\n",
    "            if append:\n",
    "                cand.append((k, length))\n",
    "        except NetworkXNoPath:\n",
    "            pass\n",
    "    return sorted(cand, key=lambda x: x[1])\n",
    "\n",
    "def walk(pos, keys, doors, field):\n",
    "    paths = {(pos, tuple(sorted((keys.keys())))): [0, [], set([])]}\n",
    "    paths = OrderedDict(paths)\n",
    "    final = []\n",
    "    N = 0\n",
    "    while paths:\n",
    "        idx, path = paths.popitem(False)\n",
    "#         print(path)\n",
    "        cur, leftkeys = idx\n",
    "        length, order, visited = path\n",
    "        cands = candidates(cur, leftkeys)\n",
    "        for key, path_len in cands:\n",
    "            leftkeys_new = tuple(sorted([k for k in leftkeys if k != key]))\n",
    "            if len(leftkeys_new):\n",
    "                new_visited = visited | set(key)\n",
    "                insert_key = (keys[key], leftkeys_new)\n",
    "                if insert_key in paths:\n",
    "                    if length+path_len < paths[insert_key][0]:\n",
    "#                             print('replacing')\n",
    "                            paths[insert_key][0] = length+path_len\n",
    "                            paths[insert_key][1] = order + [key]\n",
    "                else:\n",
    "                    paths[insert_key] = [length+path_len, order + [key], set(order+[key])]\n",
    "                    paths.move_to_end(insert_key)\n",
    "#                 print(paths)\n",
    "            else:\n",
    "                final.append((length+path_len, order + [key]))\n",
    "                \n",
    "    return final"
   ]
  },
  {
   "cell_type": "code",
   "execution_count": 304,
   "metadata": {},
   "outputs": [
    {
     "data": {
      "text/plain": [
       "(86, ['a', 'b', 'c', 'd', 'e', 'f'])"
      ]
     },
     "execution_count": 304,
     "metadata": {},
     "output_type": "execute_result"
    }
   ],
   "source": [
    "field = parse(test)\n",
    "G, keys, doors, home = build_graph(field)\n",
    "\n",
    "paths = walk(home, keys, doors, field)\n",
    "sorted(paths)[0]"
   ]
  },
  {
   "cell_type": "code",
   "execution_count": 262,
   "metadata": {},
   "outputs": [
    {
     "data": {
      "text/plain": [
       "(136,\n",
       " ['a',\n",
       "  'f',\n",
       "  'b',\n",
       "  'j',\n",
       "  'h',\n",
       "  'd',\n",
       "  'l',\n",
       "  'g',\n",
       "  'n',\n",
       "  'o',\n",
       "  'c',\n",
       "  'i',\n",
       "  'e',\n",
       "  'p',\n",
       "  'k',\n",
       "  'm'])"
      ]
     },
     "execution_count": 262,
     "metadata": {},
     "output_type": "execute_result"
    }
   ],
   "source": [
    "field = parse(test2)\n",
    "G, keys, doors, home = build_graph(field)\n",
    "\n",
    "paths  = walk(home, keys, doors, field)\n",
    "sorted(paths)[0]"
   ]
  },
  {
   "cell_type": "code",
   "execution_count": 127,
   "metadata": {},
   "outputs": [
    {
     "data": {
      "text/plain": [
       "(81, ['a', 'c', 'd', 'g', 'f', 'i', 'b', 'e', 'h'])"
      ]
     },
     "execution_count": 127,
     "metadata": {},
     "output_type": "execute_result"
    }
   ],
   "source": [
    "field = parse(test3)\n",
    "G, keys, doors, home = build_graph(field)\n",
    "\n",
    "paths = walk(home, keys, doors, field)\n",
    "sorted(paths)[0]"
   ]
  },
  {
   "cell_type": "code",
   "execution_count": 108,
   "metadata": {},
   "outputs": [
    {
     "name": "stdout",
     "output_type": "stream",
     "text": [
      "(6, 3)\n"
     ]
    },
    {
     "data": {
      "text/plain": [
       "(132, ['b', 'a', 'c', 'd', 'f', 'e', 'g'])"
      ]
     },
     "execution_count": 108,
     "metadata": {},
     "output_type": "execute_result"
    }
   ],
   "source": [
    "field = parse(test4)\n",
    "G, keys, doors, home = build_graph(field)\n",
    "print(home)\n",
    "\n",
    "paths = walk(home, keys, doors, field)\n",
    "sorted(paths)[0]"
   ]
  },
  {
   "cell_type": "code",
   "execution_count": 264,
   "metadata": {},
   "outputs": [
    {
     "data": {
      "text/plain": [
       "(4762,\n",
       " ['i',\n",
       "  'z',\n",
       "  'v',\n",
       "  'm',\n",
       "  'f',\n",
       "  'c',\n",
       "  'e',\n",
       "  'o',\n",
       "  's',\n",
       "  'p',\n",
       "  't',\n",
       "  'k',\n",
       "  'j',\n",
       "  'q',\n",
       "  'w',\n",
       "  'b',\n",
       "  'x',\n",
       "  'g',\n",
       "  'l',\n",
       "  'h',\n",
       "  'u',\n",
       "  'n',\n",
       "  'r',\n",
       "  'd',\n",
       "  'a',\n",
       "  'y'])"
      ]
     },
     "execution_count": 264,
     "metadata": {},
     "output_type": "execute_result"
    }
   ],
   "source": [
    "field = parse(file_input)\n",
    "G, keys, doors, home = build_graph(field)\n",
    "\n",
    "paths = walk(home, keys, doors, field)\n",
    "sorted(paths)[0]"
   ]
  },
  {
   "cell_type": "code",
   "execution_count": 267,
   "metadata": {},
   "outputs": [],
   "source": [
    "########################################################"
   ]
  },
  {
   "cell_type": "code",
   "execution_count": 266,
   "metadata": {},
   "outputs": [],
   "source": [
    "# Part 2"
   ]
  },
  {
   "cell_type": "code",
   "execution_count": 372,
   "metadata": {},
   "outputs": [],
   "source": [
    "def parse(txt):\n",
    "    lines = L(txt.splitlines())\n",
    "    lines.x = len(lines[0])\n",
    "    lines.y = len(lines)\n",
    "    return lines\n",
    "\n",
    "def neighbors_short(pos, field):\n",
    "    for x, y in ((pos[0]+1, pos[1]), (pos[0], pos[1]+1)):\n",
    "        if x < field.x and x >= 0 and y < field.y and y >=0:\n",
    "            yield (x, y), field[y][x] \n",
    "\n",
    "def neighbors_all(pos, field):\n",
    "    for x, y in ((pos[0]+1, pos[1]), (pos[0], pos[1]+1), (pos[0]-1, pos[1]), (pos[0], pos[1]-1)):\n",
    "        if x < field.x and x >= 0 and y < field.y and y >=0:\n",
    "            yield (x, y), field[y][x]\n",
    "\n",
    "D = tuple(range(ord('A'), ord('Z')+1))\n",
    "K = tuple(range(ord('a'), ord('z')+1))\n",
    "wall = ord('#')\n",
    "free = ord('.')\n",
    "start = ord('@')\n",
    "valid_targets = (free, start) + K + D\n",
    "diff = ord('a') - ord('A')\n",
    "    \n",
    "def build_graph(field):\n",
    "    G = nx.Graph()\n",
    "    doors = {}\n",
    "    keys = {}\n",
    "    home = (0, 0)\n",
    "    for y, line in enumerate(field):\n",
    "        for x, char in enumerate(line):\n",
    "            o = ord(char)\n",
    "            if o != ord('#'):\n",
    "                G.add_node((x, y))\n",
    "                if o in K:\n",
    "                    keys[char] = (x, y)\n",
    "                if o == start:\n",
    "                    home = (x, y)\n",
    "                if o in D:\n",
    "                    doors[char] = (x, y)\n",
    "                    \n",
    "                for npos, vngb in neighbors_short((x, y), field):\n",
    "                    if ord(vngb) in valid_targets:\n",
    "                        G.add_edge((x, y), npos)\n",
    "    \n",
    "    return G, keys, doors, home\n",
    "\n",
    "def add_door(G, pos, field):\n",
    "    if pos is None:\n",
    "        return G\n",
    "    for npos, vngb in neighbors_all(pos, field):\n",
    "        if ord(vngb) != wall:\n",
    "            G.add_edge(pos, npos)\n",
    "    return G\n",
    "\n",
    "@lru_cache(maxsize=None)\n",
    "def candidates(i, pos, leftover_keys):\n",
    "    cand = []\n",
    "    G_new = G[i].copy()\n",
    "    for key in doors[i].keys():\n",
    "        G_new = add_door(G_new, doors[i].get(key.upper(), None), f[i])\n",
    "        \n",
    "    for k in leftover_keys:\n",
    "        try:\n",
    "            path = nx.shortest_path(G_new, pos, keys[i][k])\n",
    "            length = len(path) - 1\n",
    "            append = True\n",
    "            for key in leftover_keys:\n",
    "                if keys[i][key] in path[1:-1]:\n",
    "                    append = False\n",
    "                    break\n",
    "            if append:\n",
    "                cand.append((k, length))\n",
    "        except NetworkXNoPath:\n",
    "            pass\n",
    "    return sorted(cand, key=lambda x: x[1])\n",
    "\n",
    "def walk(pos, keys, doors, field):\n",
    "    paths = {\n",
    "        (pos[i], i, tuple(sorted((keys[i].keys())))): \n",
    "            [0, [], set([])] for i in range(4)\n",
    "    }\n",
    "    paths = OrderedDict(paths)\n",
    "    final = []\n",
    "    N = 0\n",
    "    while paths:\n",
    "        idx, path = paths.popitem(False)\n",
    "#         print(path)\n",
    "        cur, sub, leftkeys = idx\n",
    "        length, order, visited = path\n",
    "        cands = candidates(sub, cur, leftkeys)\n",
    "        for key, path_len in cands:\n",
    "            leftkeys_new = tuple(sorted([k for k in leftkeys if k != key]))\n",
    "            if len(leftkeys_new):\n",
    "                new_visited = visited | set(key)\n",
    "                insert_key = (keys[sub][key], sub, leftkeys_new)\n",
    "                if insert_key in paths:\n",
    "                    if length+path_len < paths[insert_key][0]:\n",
    "#                             print('replacing')\n",
    "                            paths[insert_key][0] = length+path_len\n",
    "                            paths[insert_key][1] = order + [key]\n",
    "                else:\n",
    "                    paths[insert_key] = [length+path_len, order + [key], set(order+[key])]\n",
    "                    paths.move_to_end(insert_key)\n",
    "#                 print(paths)\n",
    "            else:\n",
    "                final.append((length+path_len, order + [key]))\n",
    "                \n",
    "    return final"
   ]
  },
  {
   "cell_type": "code",
   "execution_count": 373,
   "metadata": {},
   "outputs": [],
   "source": [
    "field = parse(file_input)"
   ]
  },
  {
   "cell_type": "code",
   "execution_count": 374,
   "metadata": {},
   "outputs": [],
   "source": [
    "f = []\n",
    "f.append(L([f[:40] for f in field[:40]]))\n",
    "f.append(L([f[41:] for f in field[:40]]))\n",
    "f.append(L([f[:40] for f in field[41:]]))\n",
    "f.append(L([f[41:] for f in field[41:]]))"
   ]
  },
  {
   "cell_type": "code",
   "execution_count": 375,
   "metadata": {},
   "outputs": [],
   "source": [
    "G = []\n",
    "keys = []\n",
    "ikeys = []\n",
    "doors = []\n",
    "idoors = []\n",
    "home = ((39, 39), (0, 39), (39, 0), (0, 0))\n",
    "for i in range(4):\n",
    "    f[i].x = 40\n",
    "    f[i].y = 40\n",
    "    _1, _2, _3, _4 = build_graph(f[i])\n",
    "    G.append(_1)\n",
    "    keys.append(_2)\n",
    "    ikeys.append( {v: k for k, v in _2.items()})\n",
    "    doors.append(_3)\n",
    "    idoors.append( {v: k for k, v in _3.items()})\n"
   ]
  },
  {
   "cell_type": "code",
   "execution_count": 376,
   "metadata": {},
   "outputs": [
    {
     "data": {
      "text/plain": [
       "(300, ['c', 'e', 'j'])"
      ]
     },
     "execution_count": 376,
     "metadata": {},
     "output_type": "execute_result"
    }
   ],
   "source": [
    "paths = walk(home, keys, doors, field)\n",
    "sorted(paths)[0]"
   ]
  },
  {
   "cell_type": "code",
   "execution_count": 377,
   "metadata": {},
   "outputs": [
    {
     "data": {
      "text/plain": [
       "[(300, ['c', 'e', 'j']),\n",
       " (552, ['i', 'z', 'v', 'q', 'w', 'b']),\n",
       " (934, ['i', 'z', 'q', 'w', 'b', 'v']),\n",
       " (868, ['q', 'w', 'i', 'z', 'v', 'b']),\n",
       " (746, ['q', 'w', 'b', 'i', 'z', 'v']),\n",
       " (522, ['o', 's', 'p', 't', 'x', 'g', 'l', 'h']),\n",
       " (852, ['o', 'p', 't', 'x', 'g', 'l', 'h', 's']),\n",
       " (1262, ['p', 't', 'x', 'g', 'l', 'o', 's', 'h']),\n",
       " (844, ['p', 't', 'x', 'g', 'l', 'h', 'o', 's']),\n",
       " (502, ['m', 'f', 'k', 'u', 'n', 'r', 'd', 'a', 'y']),\n",
       " (730, ['m', 'f', 'u', 'n', 'r', 'd', 'a', 'y', 'k']),\n",
       " (926, ['m', 'f', 'u', 'n', 'r', 'd', 'a', 'k', 'y']),\n",
       " (806, ['f', 'k', 'u', 'n', 'r', 'd', 'a', 'y', 'm']),\n",
       " (1074, ['f', 'k', 'u', 'n', 'r', 'd', 'a', 'm', 'y']),\n",
       " (806, ['f', 'u', 'n', 'r', 'd', 'a', 'y', 'k', 'm']),\n",
       " (878, ['f', 'u', 'n', 'r', 'd', 'a', 'y', 'm', 'k'])]"
      ]
     },
     "execution_count": 377,
     "metadata": {},
     "output_type": "execute_result"
    }
   ],
   "source": [
    "paths"
   ]
  },
  {
   "cell_type": "code",
   "execution_count": 378,
   "metadata": {},
   "outputs": [
    {
     "data": {
      "text/plain": [
       "1876"
      ]
     },
     "execution_count": 378,
     "metadata": {},
     "output_type": "execute_result"
    }
   ],
   "source": [
    "300 + 552 + 522 + 502"
   ]
  },
  {
   "cell_type": "code",
   "execution_count": 350,
   "metadata": {},
   "outputs": [
    {
     "name": "stdout",
     "output_type": "stream",
     "text": [
      "{'j': (23, 15), 'e': (21, 25), 'c': (21, 37)}\n",
      "Doors: j (13, 10) K\n",
      "Key: j (21, 25) e\n",
      "Doors: j (4, 7) V\n",
      "Key: j (21, 37) c\n",
      "Doors: e (4, 7) V\n",
      "Key: e (21, 37) c\n"
     ]
    }
   ],
   "source": [
    "i = 0\n",
    "print(keys[i])\n",
    "for key in keys[i]:\n",
    "    try:\n",
    "        path = nx.shortest_path(G[i], keys[i][key], home[i])\n",
    "        for s in path[1:-1]:\n",
    "            if s in ikeys[i]:\n",
    "                print('Key:', key, s, ikeys[i][s])\n",
    "            if s in idoors[i]:\n",
    "                print('Doors:', key, s, idoors[i][s])\n",
    "    except NetworkXNoPath:\n",
    "        print(key)"
   ]
  },
  {
   "cell_type": "code",
   "execution_count": 356,
   "metadata": {},
   "outputs": [
    {
     "name": "stdout",
     "output_type": "stream",
     "text": [
      "dict_keys(['w', 'i', 'q', 'v', 'z', 'b'])\n",
      "Key: w (32, 22) q\n",
      "Doors: w (27, 4) C\n",
      "Doors: q (27, 4) C\n",
      "Key: v (10, 34) z\n",
      "Key: v (2, 18) i\n",
      "Key: z (2, 18) i\n",
      "Doors: b (18, 31) J\n",
      "Doors: b (22, 15) M\n",
      "Key: b (24, 12) w\n",
      "Key: b (32, 22) q\n",
      "Doors: b (27, 4) C\n"
     ]
    }
   ],
   "source": [
    "i = 3\n",
    "print(keys[i].keys())\n",
    "for key in keys[i]:\n",
    "    try:\n",
    "        path = nx.shortest_path(G[i], keys[i][key], home[i])\n",
    "        for s in path[1:-1]:\n",
    "            if s in ikeys[i]:\n",
    "                print('Key:', key, s, ikeys[i][s])\n",
    "            if s in idoors[i]:\n",
    "                print('Doors:', key, s, idoors[i][s])\n",
    "    except NetworkXNoPath:\n",
    "        print(key)"
   ]
  },
  {
   "cell_type": "code",
   "execution_count": null,
   "metadata": {},
   "outputs": [],
   "source": []
  }
 ],
 "metadata": {
  "kernelspec": {
   "display_name": "Python 3",
   "language": "python",
   "name": "python3"
  },
  "language_info": {
   "codemirror_mode": {
    "name": "ipython",
    "version": 3
   },
   "file_extension": ".py",
   "mimetype": "text/x-python",
   "name": "python",
   "nbconvert_exporter": "python",
   "pygments_lexer": "ipython3",
   "version": "3.7.5"
  }
 },
 "nbformat": 4,
 "nbformat_minor": 2
}
