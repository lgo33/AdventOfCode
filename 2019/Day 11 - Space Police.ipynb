{
 "cells": [
  {
   "cell_type": "code",
   "execution_count": 46,
   "metadata": {},
   "outputs": [],
   "source": [
    "with open('./data/input_11.txt') as fh:\n",
    "    file_input = fh.read().strip()"
   ]
  },
  {
   "cell_type": "code",
   "execution_count": 2,
   "metadata": {},
   "outputs": [],
   "source": [
    "mem = [int(d) for d in file_input.split(',')]"
   ]
  },
  {
   "cell_type": "code",
   "execution_count": 3,
   "metadata": {},
   "outputs": [],
   "source": [
    "import numpy as np"
   ]
  },
  {
   "cell_type": "code",
   "execution_count": 4,
   "metadata": {},
   "outputs": [],
   "source": [
    "from intcode import intcode"
   ]
  },
  {
   "cell_type": "code",
   "execution_count": 45,
   "metadata": {},
   "outputs": [
    {
     "name": "stdout",
     "output_type": "stream",
     "text": [
      "(1-0j)\n",
      "(-0-1j)\n",
      "(-1+0j)\n",
      "1j\n",
      "(1-0j)\n",
      "(-0-1j)\n",
      "(-1+0j)\n",
      "1j\n",
      "(1-0j)\n",
      "(-0-1j)\n"
     ]
    }
   ],
   "source": [
    "a = 1j\n",
    "for i in range(10):\n",
    "    a = a * -1j\n",
    "    print (a)"
   ]
  },
  {
   "cell_type": "code",
   "execution_count": 60,
   "metadata": {},
   "outputs": [
    {
     "name": "stdout",
     "output_type": "stream",
     "text": [
      "99\n"
     ]
    }
   ],
   "source": [
    "ret = 0\n",
    "pixels = {}\n",
    "pos = 0 + 0j\n",
    "direction = 1j\n",
    "\n",
    "instructions = []\n",
    "stack = []\n",
    "ic = intcode(mem, take_input=stack.pop ,give_output=instructions.append, add_mem=1000)\n",
    "# ic.debug = True\n",
    "# ic = intcode(mem, take_input=lambda: 0 ,give_output=instructions.append, add_mem=1000)\n",
    "while ret != 99:    \n",
    "    stack.append(pixels.get(pos, 0))\n",
    "#     print('step', stack)\n",
    "    ret = ic.run()\n",
    "#     print ('ret', ret, instructions)    \n",
    "    color = instructions.pop(0)\n",
    "    step = instructions.pop(0)\n",
    "    \n",
    "    pixels[pos] = color\n",
    "    direction *= 1j if step == 0 else -1j\n",
    "    pos += direction\n",
    "    \n",
    "print(ret)"
   ]
  },
  {
   "cell_type": "code",
   "execution_count": 64,
   "metadata": {},
   "outputs": [
    {
     "data": {
      "text/plain": [
       "2594"
      ]
     },
     "execution_count": 64,
     "metadata": {},
     "output_type": "execute_result"
    }
   ],
   "source": [
    "# part 1\n",
    "len(pixels.keys())"
   ]
  },
  {
   "cell_type": "code",
   "execution_count": 65,
   "metadata": {},
   "outputs": [
    {
     "name": "stdout",
     "output_type": "stream",
     "text": [
      "99\n"
     ]
    }
   ],
   "source": [
    "# part 2\n",
    "\n",
    "ret = 0\n",
    "pos = 0 + 0j\n",
    "pixels = {}\n",
    "pixels[pos] = 1\n",
    "direction = 1j\n",
    "\n",
    "instructions = []\n",
    "stack = []\n",
    "ic = intcode(mem, take_input=stack.pop ,give_output=instructions.append, add_mem=1000)\n",
    "# ic.debug = True\n",
    "# ic = intcode(mem, take_input=lambda: 0 ,give_output=instructions.append, add_mem=1000)\n",
    "while ret != 99:    \n",
    "    stack.append(pixels.get(pos, 0))\n",
    "#     print('step', stack)\n",
    "    ret = ic.run()\n",
    "#     print ('ret', ret, instructions)    \n",
    "    color = instructions.pop(0)\n",
    "    step = instructions.pop(0)\n",
    "    \n",
    "    pixels[pos] = color\n",
    "    direction *= 1j if step == 0 else -1j\n",
    "    pos += direction\n",
    "    \n",
    "print(ret)"
   ]
  },
  {
   "cell_type": "code",
   "execution_count": 68,
   "metadata": {},
   "outputs": [
    {
     "data": {
      "text/plain": [
       "249"
      ]
     },
     "execution_count": 68,
     "metadata": {},
     "output_type": "execute_result"
    }
   ],
   "source": [
    "len(pixels)"
   ]
  },
  {
   "cell_type": "code",
   "execution_count": 92,
   "metadata": {},
   "outputs": [],
   "source": [
    "x = []\n",
    "y = []\n",
    "for pos in pixels:\n",
    "    if pixels[pos] == 1:\n",
    "        x.append(pos.real)\n",
    "        y.append(pos.imag)"
   ]
  },
  {
   "cell_type": "code",
   "execution_count": 93,
   "metadata": {},
   "outputs": [],
   "source": [
    "import matplotlib.pyplot as plt\n",
    "%matplotlib inline"
   ]
  },
  {
   "cell_type": "code",
   "execution_count": 109,
   "metadata": {},
   "outputs": [
    {
     "data": {
      "text/plain": [
       "[<matplotlib.lines.Line2D at 0x1110c2b10>]"
      ]
     },
     "execution_count": 109,
     "metadata": {},
     "output_type": "execute_result"
    },
    {
     "data": {
      "image/png": "[encoded data removed]",
      "text/plain": [
       "<Figure size 1008x72 with 1 Axes>"
      ]
     },
     "metadata": {
      "needs_background": "light"
     },
     "output_type": "display_data"
    }
   ],
   "source": [
    "plt.rcParams['figure.figsize'] = (14, 1)\n",
    "plt.plot(x, y, 'o')"
   ]
  },
  {
   "cell_type": "code",
   "execution_count": null,
   "metadata": {},
   "outputs": [],
   "source": []
  }
 ],
 "metadata": {
  "kernelspec": {
   "display_name": "Python 3",
   "language": "python",
   "name": "python3"
  },
  "language_info": {
   "codemirror_mode": {
    "name": "ipython",
    "version": 3
   },
   "file_extension": ".py",
   "mimetype": "text/x-python",
   "name": "python",
   "nbconvert_exporter": "python",
   "pygments_lexer": "ipython3",
   "version": "3.7.4"
  }
 },
 "nbformat": 4,
 "nbformat_minor": 2
}
