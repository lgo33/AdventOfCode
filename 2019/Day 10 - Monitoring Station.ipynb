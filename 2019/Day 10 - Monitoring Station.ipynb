{
 "cells": [
  {
   "cell_type": "code",
   "execution_count": 1,
   "metadata": {},
   "outputs": [],
   "source": [
    "with open('./data/input_10.txt') as fh:\n",
    "    file_input = fh.read().strip()"
   ]
  },
  {
   "cell_type": "code",
   "execution_count": 2,
   "metadata": {},
   "outputs": [],
   "source": [
    "test1= \"\"\".#..#\n",
    ".....\n",
    "#####\n",
    "....#\n",
    "...##\"\"\""
   ]
  },
  {
   "cell_type": "code",
   "execution_count": 3,
   "metadata": {},
   "outputs": [],
   "source": [
    "test2 = \"\"\".#..##.###...#######\n",
    "##.############..##.\n",
    ".#.######.########.#\n",
    ".###.#######.####.#.\n",
    "#####.##.#.##.###.##\n",
    "..#####..#.#########\n",
    "####################\n",
    "#.####....###.#.#.##\n",
    "##.#################\n",
    "#####.##.###..####..\n",
    "..######..##.#######\n",
    "####.##.####...##..#\n",
    ".#####..#.######.###\n",
    "##...#.##########...\n",
    "#.##########.#######\n",
    ".####.#.###.###.#.##\n",
    "....##.##.###..#####\n",
    ".#.#.###########.###\n",
    "#.#.#.#####.####.###\n",
    "###.##.####.##.#..##\"\"\""
   ]
  },
  {
   "cell_type": "code",
   "execution_count": 4,
   "metadata": {},
   "outputs": [],
   "source": [
    "import numpy as np\n",
    "from itertools import combinations\n",
    "from collections import defaultdict, Counter"
   ]
  },
  {
   "cell_type": "code",
   "execution_count": 5,
   "metadata": {},
   "outputs": [],
   "source": [
    "def parse(txt):\n",
    "    lines = txt.splitlines()\n",
    "    coords = []\n",
    "    for i, line in enumerate(lines):\n",
    "#         print (i, line)\n",
    "        coords += [(j, i) for j, c in enumerate(line) if c=='#']\n",
    "    return coords\n",
    "\n",
    "def path(c1, c2):\n",
    "    dx = c2[0] - c1[0]\n",
    "    xdiff = abs(dx)\n",
    "    dy = c2[1] - c1[1]\n",
    "    ydiff = abs(dy)\n",
    "    steps = max(xdiff, ydiff)\n",
    "    dx = 1. * dx / steps\n",
    "    dy = 1. * dy / steps\n",
    "#     print(steps, dx, dy)\n",
    "    for i in range(1, steps):\n",
    "        x = (c1[0]+dx*i)\n",
    "        y = (c1[1]+dy*i)\n",
    "        if x == int(x) and y == int(y):\n",
    "            yield int(x), int(y)\n",
    "\n",
    "def visible(coords):\n",
    "    blocked = set(coords)\n",
    "    visible = defaultdict(list)\n",
    "    for pair in combinations(coords, 2):\n",
    "        if not set(path(*pair)) & blocked:\n",
    "            visible[pair[0]] += [pair[1]]\n",
    "            visible[pair[1]] += [pair[0]]\n",
    "    return visible\n",
    "\n",
    "def find_max(vis):\n",
    "    _m = 0\n",
    "    _c = (0, 0)\n",
    "    for c in vis:\n",
    "        _l = len(vis[c])\n",
    "        if _l > _m:\n",
    "            _m = _l\n",
    "            _c = c\n",
    "    return _c, _m"
   ]
  },
  {
   "cell_type": "code",
   "execution_count": 6,
   "metadata": {},
   "outputs": [
    {
     "data": {
      "text/plain": [
       "((3, 4), 8)"
      ]
     },
     "execution_count": 6,
     "metadata": {},
     "output_type": "execute_result"
    }
   ],
   "source": [
    "# test\n",
    "coords = parse(test1)\n",
    "vis = visible(coords)\n",
    "find_max(vis)"
   ]
  },
  {
   "cell_type": "code",
   "execution_count": 7,
   "metadata": {},
   "outputs": [
    {
     "data": {
      "text/plain": [
       "((11, 13), 210)"
      ]
     },
     "execution_count": 7,
     "metadata": {},
     "output_type": "execute_result"
    }
   ],
   "source": [
    "# test 2\n",
    "coords = parse(test2)\n",
    "vis = visible(coords)\n",
    "find_max(vis)"
   ]
  },
  {
   "cell_type": "code",
   "execution_count": 8,
   "metadata": {},
   "outputs": [
    {
     "data": {
      "text/plain": [
       "((37, 25), 309)"
      ]
     },
     "execution_count": 8,
     "metadata": {},
     "output_type": "execute_result"
    }
   ],
   "source": [
    "# part 1\n",
    "coords = parse(file_input)\n",
    "vis = visible(coords)\n",
    "find_max(vis)"
   ]
  },
  {
   "cell_type": "code",
   "execution_count": 57,
   "metadata": {},
   "outputs": [],
   "source": [
    "# part 2\n",
    "\n",
    "def diff(a, b):\n",
    "    dx = b[0] - a[0]\n",
    "    dy = b[1] - a[1]\n",
    "    alpha = (np.degrees(np.arctan2(dy, dx)) * -1) # 90)\n",
    "    \n",
    "        \n",
    "    return alpha\n",
    "\n",
    "def candidates(coords):\n",
    "    vis = visible(coords)\n",
    "#     print(len(vis))\n",
    "    c, n = find_max(vis)\n",
    "    cand = np.array(vis[c]) - np.array(c)\n",
    "    ang = np.degrees(np.arctan2(cand[:, 0], cand[:, 1]))\n",
    "    dist = np.abs(cand).sum(axis=1)\n",
    "    order = np.array(list(zip(ang, dist)), dtype=[('degrees', '<f4'), ('dist', '<f4')])\n",
    "    while True:\n",
    "        idx = order.argsort(axis=0, order=('degrees', 'dist'))\n",
    "        idx = idx[::-1]\n",
    "        blocked = np.diff(order['degrees'][idx], append=0) == 0\n",
    "        if not blocked.any():\n",
    "            break\n",
    "        order['degrees'][idx] -= 360 * blocked\n",
    "    return cand[idx] + c\n"
   ]
  },
  {
   "cell_type": "code",
   "execution_count": 61,
   "metadata": {},
   "outputs": [
    {
     "data": {
      "text/plain": [
       "array([8, 2])"
      ]
     },
     "execution_count": 61,
     "metadata": {},
     "output_type": "execute_result"
    }
   ],
   "source": [
    "candidates(parse(test2))[199]"
   ]
  },
  {
   "cell_type": "code",
   "execution_count": 64,
   "metadata": {},
   "outputs": [
    {
     "name": "stdout",
     "output_type": "stream",
     "text": [
      "416\n"
     ]
    }
   ],
   "source": [
    "x, y = candidates(parse(file_input))[199]\n",
    "print(x*100 + y)"
   ]
  },
  {
   "cell_type": "code",
   "execution_count": null,
   "metadata": {},
   "outputs": [],
   "source": []
  }
 ],
 "metadata": {
  "kernelspec": {
   "display_name": "Python 3",
   "language": "python",
   "name": "python3"
  },
  "language_info": {
   "codemirror_mode": {
    "name": "ipython",
    "version": 3
   },
   "file_extension": ".py",
   "mimetype": "text/x-python",
   "name": "python",
   "nbconvert_exporter": "python",
   "pygments_lexer": "ipython3",
   "version": "3.7.5"
  }
 },
 "nbformat": 4,
 "nbformat_minor": 2
}
