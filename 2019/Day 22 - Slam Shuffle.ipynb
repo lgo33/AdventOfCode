{
 "cells": [
  {
   "cell_type": "code",
   "execution_count": 6,
   "metadata": {},
   "outputs": [],
   "source": [
    "with open('./data/input_22.txt') as fh:\n",
    "    file_input = fh.read().strip()"
   ]
  },
  {
   "cell_type": "code",
   "execution_count": null,
   "metadata": {},
   "outputs": [],
   "source": []
  },
  {
   "cell_type": "code",
   "execution_count": 60,
   "metadata": {},
   "outputs": [],
   "source": [
    "test = []\n",
    "test.append(\"\"\"deal with increment 7\n",
    "deal into new stack\n",
    "deal into new stack\n",
    "Result: 0 3 6 9 2 5 8 1 4 7\n",
    "\"\"\")\n",
    "\n",
    "test.append(\"\"\"cut 6\n",
    "deal with increment 7\n",
    "deal into new stack\n",
    "Result: 3 0 7 4 1 8 5 2 9 6\n",
    "\"\"\")\n",
    "\n",
    "test.append(\"\"\"deal with increment 7\n",
    "deal with increment 9\n",
    "cut -2\n",
    "Result: 6 3 0 7 4 1 8 5 2 9\n",
    "\"\"\")\n",
    "\n",
    "test.append(\"\"\"deal into new stack\n",
    "cut -2\n",
    "deal with increment 7\n",
    "cut 8\n",
    "cut -4\n",
    "deal with increment 7\n",
    "cut 3\n",
    "deal with increment 9\n",
    "deal with increment 3\n",
    "cut -1\n",
    "Result: 9 2 5 8 1 4 7 0 3 6\"\"\")\n"
   ]
  },
  {
   "cell_type": "code",
   "execution_count": 109,
   "metadata": {},
   "outputs": [],
   "source": [
    "def parse(line):\n",
    "    w = line.split(' ')\n",
    "    if w[0] == 'Result:':\n",
    "        return ('print', w[1:])\n",
    "    try:\n",
    "        arg = int(w[-1])\n",
    "        return (\"_\".join(w[:-1]), arg)\n",
    "    except ValueError:\n",
    "        return (\"_\".join(w), None)\n",
    "    \n",
    "def myprint(deck, x):\n",
    "    print(deck, x)\n",
    "    return deck\n",
    "    \n",
    "def deal_with_increment(deck, x):\n",
    "    n = len(deck)\n",
    "    new_deck = [0 for i in range(n)]\n",
    "    i = 0\n",
    "    while deck:\n",
    "        new_deck[i] = deck.pop(0)\n",
    "        i += x\n",
    "        i %= n\n",
    "    return new_deck\n",
    "\n",
    "def cut(deck, x):\n",
    "    n = len(deck)\n",
    "    return deck[x:] + deck[:x]\n",
    "\n",
    "def deal_into_new_stack(deck, x):\n",
    "    return list(reversed(deck))\n",
    "\n",
    "def run(instructions, deck):\n",
    "    for i in instructions:\n",
    "        deck = fn_map[i[0]](deck, i[1])\n",
    "    return deck\n",
    "\n",
    "fn_map = {\n",
    "    'print': myprint,\n",
    "    'deal_with_increment': deal_with_increment,\n",
    "    'deal_into_new_stack': deal_into_new_stack,\n",
    "    'cut': cut,\n",
    "}"
   ]
  },
  {
   "cell_type": "code",
   "execution_count": 110,
   "metadata": {},
   "outputs": [
    {
     "data": {
      "text/plain": [
       "[2, 3, 4, 5, 6, 7, 8, 9, 0, 1]"
      ]
     },
     "execution_count": 110,
     "metadata": {},
     "output_type": "execute_result"
    }
   ],
   "source": [
    "deck = list(range(10))\n",
    "cut(deck, -8)"
   ]
  },
  {
   "cell_type": "code",
   "execution_count": 111,
   "metadata": {},
   "outputs": [
    {
     "name": "stdout",
     "output_type": "stream",
     "text": [
      "[0, 3, 6, 9, 2, 5, 8, 1, 4, 7] ['0', '3', '6', '9', '2', '5', '8', '1', '4', '7']\n",
      "[3, 0, 7, 4, 1, 8, 5, 2, 9, 6] ['3', '0', '7', '4', '1', '8', '5', '2', '9', '6']\n",
      "[6, 3, 0, 7, 4, 1, 8, 5, 2, 9] ['6', '3', '0', '7', '4', '1', '8', '5', '2', '9']\n",
      "[9, 2, 5, 8, 1, 4, 7, 0, 3, 6] ['9', '2', '5', '8', '1', '4', '7', '0', '3', '6']\n"
     ]
    }
   ],
   "source": [
    "for t in test:\n",
    "    ins = [parse(line) for line in t.splitlines()]\n",
    "    run(ins, list(range(10)))"
   ]
  },
  {
   "cell_type": "code",
   "execution_count": 128,
   "metadata": {},
   "outputs": [
    {
     "data": {
      "text/plain": [
       "2939"
      ]
     },
     "execution_count": 128,
     "metadata": {},
     "output_type": "execute_result"
    }
   ],
   "source": [
    "# part 1\n",
    "ins = [parse(line) for line in file_input.splitlines()]\n",
    "deck = run(ins, list(range(10007)))\n",
    "deck.index(2019)"
   ]
  },
  {
   "cell_type": "code",
   "execution_count": 144,
   "metadata": {},
   "outputs": [],
   "source": [
    "# part 2"
   ]
  },
  {
   "cell_type": "code",
   "execution_count": null,
   "metadata": {},
   "outputs": [],
   "source": []
  },
  {
   "cell_type": "code",
   "execution_count": 116,
   "metadata": {},
   "outputs": [],
   "source": [
    "def apply(deck, sm):\n",
    "    n = len(deck)\n",
    "    new_deck = [0 for i in range(n)]\n",
    "    for i in range(n):\n",
    "        new_deck[sm[i]] = deck[i]\n",
    "    return new_deck\n",
    "\n",
    "def get_map(deck):\n",
    "    n = len(deck)\n",
    "    return {k: v for k, v in zip(deck, range(n))}"
   ]
  },
  {
   "cell_type": "code",
   "execution_count": 132,
   "metadata": {},
   "outputs": [
    {
     "data": {
      "text/plain": [
       "False"
      ]
     },
     "execution_count": 132,
     "metadata": {},
     "output_type": "execute_result"
    }
   ],
   "source": [
    "deck2 = apply(list(range(10007)), shuffle_map[0])\n",
    "deck2 == deck"
   ]
  },
  {
   "cell_type": "code",
   "execution_count": 131,
   "metadata": {},
   "outputs": [
    {
     "data": {
      "text/plain": [
       "True"
      ]
     },
     "execution_count": 131,
     "metadata": {},
     "output_type": "execute_result"
    }
   ],
   "source": [
    "# Test\n",
    "deck2a = apply(deck, shuffle_map[0])\n",
    "deck2b = run(ins, deck)\n",
    "deck2a == deck2b"
   ]
  },
  {
   "cell_type": "code",
   "execution_count": 145,
   "metadata": {},
   "outputs": [
    {
     "ename": "MemoryError",
     "evalue": "",
     "output_type": "error",
     "traceback": [
      "\u001b[0;31m---------------------------------------------------------------------------\u001b[0m",
      "\u001b[0;31mMemoryError\u001b[0m                               Traceback (most recent call last)",
      "\u001b[0;32m<ipython-input-145-f525498858bc>\u001b[0m in \u001b[0;36m<module>\u001b[0;34m\u001b[0m\n\u001b[1;32m      1\u001b[0m \u001b[0mdeck_size\u001b[0m \u001b[0;34m=\u001b[0m \u001b[0;36m119315717514047\u001b[0m\u001b[0;34m\u001b[0m\u001b[0;34m\u001b[0m\u001b[0m\n\u001b[1;32m      2\u001b[0m \u001b[0mN\u001b[0m \u001b[0;34m=\u001b[0m \u001b[0;36m101741582076661\u001b[0m\u001b[0;34m\u001b[0m\u001b[0;34m\u001b[0m\u001b[0m\n\u001b[0;32m----> 3\u001b[0;31m \u001b[0mdeck\u001b[0m \u001b[0;34m=\u001b[0m \u001b[0mlist\u001b[0m\u001b[0;34m(\u001b[0m\u001b[0mrange\u001b[0m\u001b[0;34m(\u001b[0m\u001b[0mdeck_size\u001b[0m\u001b[0;34m)\u001b[0m\u001b[0;34m)\u001b[0m\u001b[0;34m\u001b[0m\u001b[0;34m\u001b[0m\u001b[0m\n\u001b[0m\u001b[1;32m      4\u001b[0m \u001b[0mdeck\u001b[0m \u001b[0;34m=\u001b[0m \u001b[0mrun\u001b[0m\u001b[0;34m(\u001b[0m\u001b[0mins\u001b[0m\u001b[0;34m,\u001b[0m \u001b[0mdeck\u001b[0m\u001b[0;34m)\u001b[0m\u001b[0;34m\u001b[0m\u001b[0;34m\u001b[0m\u001b[0m\n\u001b[1;32m      5\u001b[0m \u001b[0mshuffle_map\u001b[0m \u001b[0;34m=\u001b[0m \u001b[0;34m[\u001b[0m\u001b[0;34m]\u001b[0m\u001b[0;34m\u001b[0m\u001b[0;34m\u001b[0m\u001b[0m\n",
      "\u001b[0;31mMemoryError\u001b[0m: "
     ]
    }
   ],
   "source": [
    "deck_size = 119315717514047\n",
    "N = 101741582076661\n",
    "deck = list(range(deck_size))\n",
    "deck = run(ins, deck)\n",
    "shuffle_map = []\n",
    "shuffle_map.append(get_map(deck))"
   ]
  },
  {
   "cell_type": "code",
   "execution_count": 121,
   "metadata": {},
   "outputs": [],
   "source": [
    "max_power = len(bin(N)) - 2"
   ]
  },
  {
   "cell_type": "code",
   "execution_count": 133,
   "metadata": {},
   "outputs": [],
   "source": [
    "deck = apply(list(range(10007)), shuffle_map[0])\n",
    "for i in range(max_power):\n",
    "    deck = apply(deck, shuffle_map[i])\n",
    "    shuffle_map.append(get_map(deck))"
   ]
  },
  {
   "cell_type": "code",
   "execution_count": 135,
   "metadata": {},
   "outputs": [
    {
     "data": {
      "text/plain": [
       "True"
      ]
     },
     "execution_count": 135,
     "metadata": {},
     "output_type": "execute_result"
    }
   ],
   "source": [
    "# consistency check\n",
    "deck = list(range(10007))\n",
    "\n",
    "for i in range(16):\n",
    "    deck = run(ins, deck)\n",
    "    \n",
    "deck_cmp = apply(list(range(10007)), shuffle_map[4])\n",
    "deck == deck_cmp"
   ]
  },
  {
   "cell_type": "code",
   "execution_count": 487,
   "metadata": {},
   "outputs": [],
   "source": [
    "x = -18\n",
    "i = 1\n",
    "while x<0:\n",
    "    i += 1\n",
    "    x += 7"
   ]
  },
  {
   "cell_type": "code",
   "execution_count": 489,
   "metadata": {},
   "outputs": [
    {
     "data": {
      "text/plain": [
       "3"
      ]
     },
     "execution_count": 489,
     "metadata": {},
     "output_type": "execute_result"
    }
   ],
   "source": [
    "-18 % 7"
   ]
  },
  {
   "cell_type": "code",
   "execution_count": 492,
   "metadata": {},
   "outputs": [
    {
     "data": {
      "text/plain": [
       "2"
      ]
     },
     "execution_count": 492,
     "metadata": {},
     "output_type": "execute_result"
    }
   ],
   "source": [
    "18 // 7"
   ]
  },
  {
   "cell_type": "code",
   "execution_count": 445,
   "metadata": {},
   "outputs": [],
   "source": [
    "# part 2"
   ]
  },
  {
   "cell_type": "code",
   "execution_count": 517,
   "metadata": {},
   "outputs": [
    {
     "data": {
      "text/plain": [
       "-3"
      ]
     },
     "execution_count": 517,
     "metadata": {},
     "output_type": "execute_result"
    }
   ],
   "source": [
    "-18 // 7"
   ]
  },
  {
   "cell_type": "code",
   "execution_count": 769,
   "metadata": {},
   "outputs": [],
   "source": [
    "# Iterative Python 3 program to find \n",
    "# modular inverse using extended \n",
    "# Euclid algorithm \n",
    "  \n",
    "# Returns modulo inverse of a with \n",
    "# respect to m using extended Euclid \n",
    "# Algorithm Assumption: a and m are \n",
    "# coprimes, i.e., gcd(a, m) = 1 \n",
    "def modInverse(a, m) : \n",
    "    m0 = m \n",
    "    y = 0\n",
    "    x = 1\n",
    "  \n",
    "    if (m == 1) : \n",
    "        return 0\n",
    "  \n",
    "    while (a > 1) : \n",
    "  \n",
    "        # q is quotient \n",
    "        q = a // m \n",
    "  \n",
    "        t = m \n",
    "  \n",
    "        # m is remainder now, process \n",
    "        # same as Euclid's algo \n",
    "        m = a % m \n",
    "        a = t \n",
    "        t = y \n",
    "  \n",
    "        # Update x and y \n",
    "        y = x - q * y \n",
    "        x = t \n",
    "  \n",
    "  \n",
    "    # Make x positive \n",
    "    if (x < 0) : \n",
    "        x = x + m0 \n",
    "  \n",
    "    return x "
   ]
  },
  {
   "cell_type": "code",
   "execution_count": 775,
   "metadata": {},
   "outputs": [],
   "source": [
    "def deal_with_increment_p2(pos, i, n):\n",
    "    div = n // i\n",
    "    mod = n % i\n",
    "    turn = pos // div\n",
    "    pos_mod = (i - (turn * mod))\n",
    "    x = 1\n",
    "    if pos_mod < 0:\n",
    "        x += -((pos_mod) // i)\n",
    "        pos_mod %= i\n",
    "\n",
    "#     while pos_mod < 0:\n",
    "#         x+=1\n",
    "#         pos_mod += i\n",
    "    start = turn * div + x\n",
    "    final_pos = pos_mod + (pos - start) * i\n",
    "    return final_pos\n",
    "\n",
    "def cut_p2(pos, i, n):\n",
    "    return (pos - i) % n\n",
    "\n",
    "def deal_into_new_stack_p2(pos, i, n):\n",
    "    return (n - 1) - pos\n",
    "\n",
    "def run_p2(instructions, pos, n):\n",
    "    for i in instructions:\n",
    "        pos = fn_map_p2[i[0]](pos, i[1], n)\n",
    "    return pos\n",
    "\n",
    "def apply(pos, pos0, delta, n):\n",
    "    pos = deal_with_increment_p2(pos, delta, n)\n",
    "    pos = cut_p2(pos, -pos0 , n)\n",
    "    return pos\n",
    "\n",
    "def reverse_deal_with_increment(pos, delta, n):\n",
    "    pass\n",
    "\n",
    "def reverse_apply(pos, pos0, delta, n):\n",
    "    pos = cut_p2(pos, pos0, n)\n",
    "    pos %= n\n",
    "    shift = modInverse(delta, n)\n",
    "    pos = deal_with_increment_p2(pos, shift, n)\n",
    "    pos %= n\n",
    "    return pos\n",
    "\n",
    "fn_map_p2 = {\n",
    "    'print': myprint,\n",
    "    'deal_with_increment': deal_with_increment_p2,\n",
    "    'deal_into_new_stack': deal_into_new_stack_p2,\n",
    "    'cut': cut_p2,\n",
    "}"
   ]
  },
  {
   "cell_type": "code",
   "execution_count": 512,
   "metadata": {},
   "outputs": [],
   "source": [
    "deck_size = 119315717514047\n",
    "N = 101741582076661 "
   ]
  },
  {
   "cell_type": "code",
   "execution_count": 138,
   "metadata": {},
   "outputs": [
    {
     "name": "stdout",
     "output_type": "stream",
     "text": [
      "8699\n"
     ]
    }
   ],
   "source": [
    "deck = list(range(10007))\n",
    "for i in range(max_power+1):\n",
    "    if N & (1<<i):\n",
    "        deck = apply(deck, shuffle_map[i])\n",
    "print(deck[2020])"
   ]
  },
  {
   "cell_type": "code",
   "execution_count": 139,
   "metadata": {},
   "outputs": [
    {
     "name": "stdout",
     "output_type": "stream",
     "text": [
      "101011110101001111011011011100010001000100111010"
     ]
    }
   ],
   "source": [
    "for i in range(max_power+1):\n",
    "    if N & (1<<i):\n",
    "        print(1,end='')\n",
    "    else: \n",
    "        print(0,end='')"
   ]
  },
  {
   "cell_type": "code",
   "execution_count": 143,
   "metadata": {},
   "outputs": [
    {
     "data": {
      "text/plain": [
       "'10101111010100111101101101110001000100010011101b0'"
      ]
     },
     "execution_count": 143,
     "metadata": {},
     "output_type": "execute_result"
    }
   ],
   "source": [
    "bin(N)[::-1]"
   ]
  },
  {
   "cell_type": "code",
   "execution_count": 160,
   "metadata": {},
   "outputs": [
    {
     "data": {
      "text/plain": [
       "54674"
      ]
     },
     "execution_count": 160,
     "metadata": {},
     "output_type": "execute_result"
    }
   ],
   "source": [
    "sum([i[1] for i in ins if i[0]=='cut'])"
   ]
  },
  {
   "cell_type": "code",
   "execution_count": 503,
   "metadata": {},
   "outputs": [],
   "source": [
    "chk = 7777"
   ]
  },
  {
   "cell_type": "code",
   "execution_count": 514,
   "metadata": {},
   "outputs": [
    {
     "data": {
      "text/plain": [
       "(4240, 8601, 6014)"
      ]
     },
     "execution_count": 514,
     "metadata": {},
     "output_type": "execute_result"
    }
   ],
   "source": [
    "# deck1 = list(range(10007))\n",
    "deck2 = list(range(10007))\n",
    "\n",
    "# deck1 = run(ins, deck1)\n",
    "deck2 = run(ins, deck2)\n",
    "\n",
    "deck2.index(0), deck2.index(1), deck2.index(chk)\n",
    "# deck1 == deck2"
   ]
  },
  {
   "cell_type": "code",
   "execution_count": null,
   "metadata": {},
   "outputs": [],
   "source": []
  },
  {
   "cell_type": "code",
   "execution_count": 709,
   "metadata": {},
   "outputs": [
    {
     "name": "stdout",
     "output_type": "stream",
     "text": [
      "4240 8601 6014\n"
     ]
    }
   ],
   "source": [
    "n = 10007\n",
    "pos0 = run_p2(ins, 0, n)\n",
    "pos1 = run_p2(ins, 1, n)\n",
    "pos_chk = run_p2(ins, chk, n)\n",
    "delta = pos1 - pos0\n",
    "maps = [(pos0, delta)]\n",
    "\n",
    "print(pos0, pos1, pos_chk)\n",
    "\n",
    "for i in range(max_power):\n",
    "    _pos0 = apply(pos0, pos0, delta, n)\n",
    "    _pos1 = apply(pos1, pos0, delta, n)\n",
    "    delta = _pos1 - _pos0\n",
    "    maps.append((_pos0, delta))\n",
    "    pos0 = _pos0\n",
    "    pos1 = _pos1"
   ]
  },
  {
   "cell_type": "code",
   "execution_count": 578,
   "metadata": {},
   "outputs": [
    {
     "name": "stdout",
     "output_type": "stream",
     "text": [
      "1 6014\n",
      "2 2947\n",
      "3 7119\n",
      "4 8485\n",
      "5 1439\n",
      "6 5330\n",
      "7 2109\n",
      "8 5156\n",
      "9 3827\n",
      "10 2111\n",
      "11 3871\n",
      "12 3862\n",
      "13 4641\n",
      "14 9487\n",
      "15 8109\n",
      "16 2851\n",
      "17 8757\n"
     ]
    }
   ],
   "source": [
    "# consistency check\n",
    "deck3 = list(range(10007))\n",
    "\n",
    "for i in range(17):\n",
    "    deck3 = run(ins, deck3)\n",
    "    print(i+1, deck3.index(chk))"
   ]
  },
  {
   "cell_type": "code",
   "execution_count": 711,
   "metadata": {},
   "outputs": [
    {
     "data": {
      "text/plain": [
       "2851"
      ]
     },
     "execution_count": 711,
     "metadata": {},
     "output_type": "execute_result"
    }
   ],
   "source": [
    "p, d = maps[4]\n",
    "_p = apply(chk, p, d, n)\n",
    "_p"
   ]
  },
  {
   "cell_type": "code",
   "execution_count": 712,
   "metadata": {},
   "outputs": [
    {
     "data": {
      "text/plain": [
       "'0b1111'"
      ]
     },
     "execution_count": 712,
     "metadata": {},
     "output_type": "execute_result"
    }
   ],
   "source": [
    "bin(15)"
   ]
  },
  {
   "cell_type": "code",
   "execution_count": 713,
   "metadata": {},
   "outputs": [
    {
     "data": {
      "text/plain": [
       "8109"
      ]
     },
     "execution_count": 713,
     "metadata": {},
     "output_type": "execute_result"
    }
   ],
   "source": [
    "# 15\n",
    "_p = chk\n",
    "for i in range(4):\n",
    "    p, d = maps[i]\n",
    "    _p = apply(_p, p, d, n)\n",
    "_p"
   ]
  },
  {
   "cell_type": "code",
   "execution_count": null,
   "metadata": {},
   "outputs": [],
   "source": [
    "# 15\n",
    "_p = chk\n",
    "for i in range(4):\n",
    "    p, d = maps[i]\n",
    "    _p = apply(_p, p, d, n)\n",
    "_p"
   ]
  },
  {
   "cell_type": "code",
   "execution_count": 717,
   "metadata": {},
   "outputs": [
    {
     "data": {
      "text/plain": [
       "(305, 6756, 6451)"
      ]
     },
     "execution_count": 717,
     "metadata": {},
     "output_type": "execute_result"
    }
   ],
   "source": [
    "# 15\n",
    "times = 13\n",
    "_p0 = 0\n",
    "_p1 = 1\n",
    "for i in range(max_power+1):\n",
    "        if times & (1<<i):\n",
    "            p, d = maps[i]\n",
    "            _p0 = apply(_p0, p, d, n)\n",
    "            _p1 = apply(_p1, p, d, n)\n",
    "_delta = _p1 - _p0\n",
    "_p0, _p1, _delta"
   ]
  },
  {
   "cell_type": "code",
   "execution_count": 718,
   "metadata": {},
   "outputs": [
    {
     "data": {
      "text/plain": [
       "4641"
      ]
     },
     "execution_count": 718,
     "metadata": {},
     "output_type": "execute_result"
    }
   ],
   "source": [
    "apply(chk, _p0, _delta%n, n)"
   ]
  },
  {
   "cell_type": "code",
   "execution_count": 584,
   "metadata": {},
   "outputs": [
    {
     "data": {
      "text/plain": [
       "8109"
      ]
     },
     "execution_count": 584,
     "metadata": {},
     "output_type": "execute_result"
    }
   ],
   "source": [
    "apply(chk, p0, p1-p0, n)"
   ]
  },
  {
   "cell_type": "code",
   "execution_count": 585,
   "metadata": {},
   "outputs": [],
   "source": [
    "##################################################################"
   ]
  },
  {
   "cell_type": "code",
   "execution_count": 752,
   "metadata": {},
   "outputs": [
    {
     "name": "stdout",
     "output_type": "stream",
     "text": [
      "115490606888493 15045803948142 116260704244475\n"
     ]
    }
   ],
   "source": [
    "# replace translation\n",
    "n = deck_size\n",
    "pos0 = run_p2(ins, 0, n)\n",
    "pos1 = run_p2(ins, 1, n)\n",
    "pos_chk = run_p2(ins, chk, n)\n",
    "delta = pos1 - pos0\n",
    "maps = [(pos0, delta)]\n",
    "\n",
    "print(pos0, pos1, pos_chk)\n",
    "\n",
    "for i in range(max_power+2):\n",
    "    _pos0 = apply(pos0, pos0, delta, n)\n",
    "    _pos1 = apply(pos1, pos0, delta, n)\n",
    "    delta = _pos1 - _pos0\n",
    "    maps.append((_pos0, delta))\n",
    "    pos0 = _pos0\n",
    "    pos1 = _pos1"
   ]
  },
  {
   "cell_type": "code",
   "execution_count": 772,
   "metadata": {},
   "outputs": [
    {
     "data": {
      "text/plain": [
       "(49323001031774, 10492238302663, 80484954784936)"
      ]
     },
     "execution_count": 772,
     "metadata": {},
     "output_type": "execute_result"
    }
   ],
   "source": [
    "_p0 = 0\n",
    "_p1 = 1\n",
    "for i in range(max_power+2):\n",
    "        if N & (1<<i):\n",
    "            p, d = maps[i]\n",
    "            _p0 = apply(_p0, p, d, deck_size)\n",
    "            _p1 = apply(_p1, p, d, deck_size)\n",
    "_delta = (_p1 - _p0) % n\n",
    "_p0, _p1, _delta\n"
   ]
  },
  {
   "cell_type": "code",
   "execution_count": 776,
   "metadata": {},
   "outputs": [
    {
     "data": {
      "text/plain": [
       "45347150615590"
      ]
     },
     "execution_count": 776,
     "metadata": {},
     "output_type": "execute_result"
    }
   ],
   "source": [
    "# part 2\n",
    "reverse_apply(2020, _p0, _delta, deck_size)"
   ]
  },
  {
   "cell_type": "code",
   "execution_count": null,
   "metadata": {},
   "outputs": [],
   "source": [
    "_p0 = 0\n",
    "_p1 = 1\n",
    "for i in range(max_power+2):\n",
    "        if (deck_size-1) & (1<<i):\n",
    "            p, d = maps[i]\n",
    "            _p0 = apply(_p0, p, d, deck_size)\n",
    "            _p1 = apply(_p1, p, d, deck_size)\n",
    "_delta = (_p1 - _p0) % n\n",
    "_p0, _p1, _delta"
   ]
  },
  {
   "cell_type": "code",
   "execution_count": 761,
   "metadata": {},
   "outputs": [
    {
     "data": {
      "text/plain": [
       "(55145466571835, 83197529692239, 28052063120404)"
      ]
     },
     "execution_count": 761,
     "metadata": {},
     "output_type": "execute_result"
    }
   ],
   "source": [
    "# according to https://www.reddit.com/r/adventofcode/comments/ee56wh/2019_day_22_part_2_so_whats_the_purpose_of_this/\n",
    "# the deck becomes unshuffled after deck_size - 1 iterations\n",
    "_p0 = 0\n",
    "_p1 = 1\n",
    "for i in range(max_power+2):\n",
    "        if (deck_size-1)-N & (1<<i):\n",
    "            p, d = maps[i]\n",
    "            _p0 = apply(_p0, p, d, deck_size)\n",
    "            _p1 = apply(_p1, p, d, deck_size)\n",
    "_delta = (_p1 - _p0) % n\n",
    "_p0, _p1, _delta"
   ]
  },
  {
   "cell_type": "code",
   "execution_count": 762,
   "metadata": {},
   "outputs": [
    {
     "data": {
      "text/plain": [
       "45347150615590"
      ]
     },
     "execution_count": 762,
     "metadata": {},
     "output_type": "execute_result"
    }
   ],
   "source": [
    "# part 2\n",
    "apply(2020, _p0, _delta, deck_size)"
   ]
  },
  {
   "cell_type": "code",
   "execution_count": null,
   "metadata": {},
   "outputs": [],
   "source": []
  },
  {
   "cell_type": "code",
   "execution_count": null,
   "metadata": {},
   "outputs": [],
   "source": []
  },
  {
   "cell_type": "code",
   "execution_count": null,
   "metadata": {},
   "outputs": [],
   "source": []
  },
  {
   "cell_type": "code",
   "execution_count": 763,
   "metadata": {},
   "outputs": [],
   "source": [
    "# Iterative Python 3 program to find \n",
    "# modular inverse using extended \n",
    "# Euclid algorithm \n",
    "  \n",
    "# Returns modulo inverse of a with \n",
    "# respect to m using extended Euclid \n",
    "# Algorithm Assumption: a and m are \n",
    "# coprimes, i.e., gcd(a, m) = 1 \n",
    "def modInverse(a, m) : \n",
    "    m0 = m \n",
    "    y = 0\n",
    "    x = 1\n",
    "  \n",
    "    if (m == 1) : \n",
    "        return 0\n",
    "  \n",
    "    while (a > 1) : \n",
    "  \n",
    "        # q is quotient \n",
    "        q = a // m \n",
    "  \n",
    "        t = m \n",
    "  \n",
    "        # m is remainder now, process \n",
    "        # same as Euclid's algo \n",
    "        m = a % m \n",
    "        a = t \n",
    "        t = y \n",
    "  \n",
    "        # Update x and y \n",
    "        y = x - q * y \n",
    "        x = t \n",
    "  \n",
    "  \n",
    "    # Make x positive \n",
    "    if (x < 0) : \n",
    "        x = x + m0 \n",
    "  \n",
    "    return x "
   ]
  },
  {
   "cell_type": "code",
   "execution_count": 764,
   "metadata": {},
   "outputs": [
    {
     "data": {
      "text/plain": [
       "1"
      ]
     },
     "execution_count": 764,
     "metadata": {},
     "output_type": "execute_result"
    }
   ],
   "source": [
    "(27 * 7042) % 10007"
   ]
  },
  {
   "cell_type": "code",
   "execution_count": 767,
   "metadata": {},
   "outputs": [
    {
     "data": {
      "text/plain": [
       "(49323001031774, 10492238302663, 80484954784936)"
      ]
     },
     "execution_count": 767,
     "metadata": {},
     "output_type": "execute_result"
    }
   ],
   "source": [
    "_p0 = 0\n",
    "_p1 = 1\n",
    "for i in range(max_power+2):\n",
    "        if N & (1<<i):\n",
    "            p, d = maps[i]\n",
    "            _p0 = apply(_p0, p, d, deck_size)\n",
    "            _p1 = apply(_p1, p, d, deck_size)\n",
    "_delta = (_p1 - _p0) % n\n",
    "_p0, _p1, _delta"
   ]
  },
  {
   "cell_type": "code",
   "execution_count": 768,
   "metadata": {},
   "outputs": [
    {
     "data": {
      "text/plain": [
       "82348572054197"
      ]
     },
     "execution_count": 768,
     "metadata": {},
     "output_type": "execute_result"
    }
   ],
   "source": [
    "modInverse(delta, deck_size)"
   ]
  },
  {
   "cell_type": "code",
   "execution_count": null,
   "metadata": {},
   "outputs": [],
   "source": []
  },
  {
   "cell_type": "code",
   "execution_count": 756,
   "metadata": {},
   "outputs": [
    {
     "data": {
      "text/plain": [
       "2020"
      ]
     },
     "execution_count": 756,
     "metadata": {},
     "output_type": "execute_result"
    }
   ],
   "source": [
    "apply(2020, _p0, _delta, deck_size)"
   ]
  },
  {
   "cell_type": "code",
   "execution_count": 599,
   "metadata": {},
   "outputs": [
    {
     "data": {
      "text/plain": [
       "69992716484293"
      ]
     },
     "execution_count": 599,
     "metadata": {},
     "output_type": "execute_result"
    }
   ],
   "source": [
    "reverse_apply(2020, _p0, _delta, deck_size)"
   ]
  },
  {
   "cell_type": "code",
   "execution_count": 594,
   "metadata": {},
   "outputs": [
    {
     "data": {
      "text/plain": [
       "1234"
      ]
     },
     "execution_count": 594,
     "metadata": {},
     "output_type": "execute_result"
    }
   ],
   "source": [
    "cut_p2(7241, -4000, 10007)"
   ]
  },
  {
   "cell_type": "code",
   "execution_count": null,
   "metadata": {},
   "outputs": [],
   "source": [
    "deal_with_increment_p2(, 7, )"
   ]
  },
  {
   "cell_type": "code",
   "execution_count": 700,
   "metadata": {},
   "outputs": [
    {
     "name": "stdout",
     "output_type": "stream",
     "text": [
      "27\n"
     ]
    },
    {
     "data": {
      "text/plain": [
       "[0, 7042, 4077, 1112, 8154]"
      ]
     },
     "execution_count": 700,
     "metadata": {},
     "output_type": "execute_result"
    }
   ],
   "source": [
    "deck = list(range(10007))\n",
    "deck = deal_with_increment(deck, 27)\n",
    "print(deck.index(1))\n",
    "# deck = deal_with_increment(deck, 2965)\n",
    "\n",
    "# deck = deal_with_increment(deck, 7042)\n",
    "deck[:5]"
   ]
  },
  {
   "cell_type": "code",
   "execution_count": 701,
   "metadata": {},
   "outputs": [],
   "source": [
    "n = 10007\n"
   ]
  },
  {
   "cell_type": "code",
   "execution_count": 747,
   "metadata": {},
   "outputs": [
    {
     "data": {
      "text/plain": [
       "1"
      ]
     },
     "execution_count": 747,
     "metadata": {},
     "output_type": "execute_result"
    }
   ],
   "source": [
    "(27 * 7042) % 10007"
   ]
  },
  {
   "cell_type": "code",
   "execution_count": null,
   "metadata": {},
   "outputs": [],
   "source": [
    "27 * 7042 + Y * 10007 = 1"
   ]
  },
  {
   "cell_type": "code",
   "execution_count": null,
   "metadata": {},
   "outputs": [],
   "source": [
    "Y = (1 - 27 * 7042) / 10007"
   ]
  },
  {
   "cell_type": "code",
   "execution_count": 748,
   "metadata": {},
   "outputs": [],
   "source": [
    "import numpy as np"
   ]
  },
  {
   "cell_type": "code",
   "execution_count": 750,
   "metadata": {},
   "outputs": [
    {
     "data": {
      "text/plain": [
       "1"
      ]
     },
     "execution_count": 750,
     "metadata": {},
     "output_type": "execute_result"
    }
   ],
   "source": [
    "np.gcd(27, 10007)"
   ]
  },
  {
   "cell_type": "code",
   "execution_count": 690,
   "metadata": {},
   "outputs": [
    {
     "name": "stdout",
     "output_type": "stream",
     "text": [
      "9980\n"
     ]
    },
    {
     "data": {
      "text/plain": [
       "[0, 2965, 5930, 8895, 1853]"
      ]
     },
     "execution_count": 690,
     "metadata": {},
     "output_type": "execute_result"
    }
   ],
   "source": [
    "deck = list(range(10007))\n",
    "deck = deal_with_increment(deck, (9980))\n",
    "print(deck.index(1))\n",
    "# deck = deal_with_increment(deck, 9463)\n",
    "\n",
    "# deck = deal_with_increment(deck, 7042)\n",
    "deck[:5]"
   ]
  },
  {
   "cell_type": "code",
   "execution_count": 705,
   "metadata": {},
   "outputs": [
    {
     "data": {
      "text/plain": [
       "29590700"
      ]
     },
     "execution_count": 705,
     "metadata": {},
     "output_type": "execute_result"
    }
   ],
   "source": [
    "(9980 * 2965)"
   ]
  },
  {
   "cell_type": "code",
   "execution_count": 686,
   "metadata": {},
   "outputs": [
    {
     "name": "stdout",
     "output_type": "stream",
     "text": [
      "6000\n"
     ]
    },
    {
     "data": {
      "text/plain": [
       "[0, 7846, 5685, 3524, 1363]"
      ]
     },
     "execution_count": 686,
     "metadata": {},
     "output_type": "execute_result"
    }
   ],
   "source": [
    "deck = list(range(10007))\n",
    "deck = deal_with_increment(deck, (6000))\n",
    "print(deck.index(1))\n",
    "deck = deal_with_increment(deck, 9463)\n",
    "\n",
    "# deck = deal_with_increment(deck, 7042)\n",
    "deck[:5]"
   ]
  },
  {
   "cell_type": "code",
   "execution_count": 683,
   "metadata": {},
   "outputs": [
    {
     "data": {
      "text/plain": [
       "10007"
      ]
     },
     "execution_count": 683,
     "metadata": {},
     "output_type": "execute_result"
    }
   ],
   "source": [
    "len(set(deck))"
   ]
  },
  {
   "cell_type": "code",
   "execution_count": 650,
   "metadata": {},
   "outputs": [
    {
     "data": {
      "text/plain": [
       "17"
      ]
     },
     "execution_count": 650,
     "metadata": {},
     "output_type": "execute_result"
    }
   ],
   "source": [
    "10007 % 27"
   ]
  },
  {
   "cell_type": "code",
   "execution_count": 662,
   "metadata": {},
   "outputs": [
    {
     "data": {
      "text/plain": [
       "3"
      ]
     },
     "execution_count": 662,
     "metadata": {},
     "output_type": "execute_result"
    }
   ],
   "source": [
    "10007 % 61"
   ]
  },
  {
   "cell_type": "code",
   "execution_count": 684,
   "metadata": {},
   "outputs": [
    {
     "data": {
      "text/plain": [
       "27"
      ]
     },
     "execution_count": 684,
     "metadata": {},
     "output_type": "execute_result"
    }
   ],
   "source": [
    "10007 % 9980"
   ]
  },
  {
   "cell_type": "code",
   "execution_count": 671,
   "metadata": {},
   "outputs": [
    {
     "data": {
      "text/plain": [
       "2007"
      ]
     },
     "execution_count": 671,
     "metadata": {},
     "output_type": "execute_result"
    }
   ],
   "source": [
    "10007 % 4000"
   ]
  },
  {
   "cell_type": "code",
   "execution_count": 679,
   "metadata": {},
   "outputs": [
    {
     "data": {
      "text/plain": [
       "4007"
      ]
     },
     "execution_count": 679,
     "metadata": {},
     "output_type": "execute_result"
    }
   ],
   "source": [
    "10007 % 6000"
   ]
  },
  {
   "cell_type": "code",
   "execution_count": 630,
   "metadata": {},
   "outputs": [
    {
     "data": {
      "text/plain": [
       "(19, 12)"
      ]
     },
     "execution_count": 630,
     "metadata": {},
     "output_type": "execute_result"
    }
   ],
   "source": [
    "def revert(x, y):\n",
    "    t = x\n",
    "    i = 0\n",
    "    b = 1\n",
    "    while t != 1:\n",
    "        i += 1\n",
    "        t -= y\n",
    "        if t < 0:\n",
    "            b += 1\n",
    "            t %= x\n",
    "    return i, b\n"
   ]
  },
  {
   "cell_type": "code",
   "execution_count": 660,
   "metadata": {},
   "outputs": [
    {
     "data": {
      "text/plain": [
       "(19, 12)"
      ]
     },
     "execution_count": 660,
     "metadata": {},
     "output_type": "execute_result"
    }
   ],
   "source": [
    "revert(27, 17)"
   ]
  },
  {
   "cell_type": "code",
   "execution_count": 654,
   "metadata": {},
   "outputs": [
    {
     "data": {
      "text/plain": [
       "(9437, 26)"
      ]
     },
     "execution_count": 654,
     "metadata": {},
     "output_type": "execute_result"
    }
   ],
   "source": [
    "revert(9800, 27) # 2965"
   ]
  },
  {
   "cell_type": "code",
   "execution_count": 663,
   "metadata": {},
   "outputs": [
    {
     "data": {
      "text/plain": [
       "(20, 1)"
      ]
     },
     "execution_count": 663,
     "metadata": {},
     "output_type": "execute_result"
    }
   ],
   "source": [
    "revert(61, 3)"
   ]
  },
  {
   "cell_type": "code",
   "execution_count": 672,
   "metadata": {},
   "outputs": [
    {
     "data": {
      "text/plain": [
       "(857, 430)"
      ]
     },
     "execution_count": 672,
     "metadata": {},
     "output_type": "execute_result"
    }
   ],
   "source": [
    "revert(4000, 2007)"
   ]
  },
  {
   "cell_type": "code",
   "execution_count": 680,
   "metadata": {},
   "outputs": [
    {
     "data": {
      "text/plain": [
       "(2857, 1908)"
      ]
     },
     "execution_count": 680,
     "metadata": {},
     "output_type": "execute_result"
    }
   ],
   "source": [
    "revert(6000, 4007)"
   ]
  },
  {
   "cell_type": "code",
   "execution_count": 664,
   "metadata": {},
   "outputs": [
    {
     "data": {
      "text/plain": [
       "3281"
      ]
     },
     "execution_count": 664,
     "metadata": {},
     "output_type": "execute_result"
    }
   ],
   "source": [
    "(10007 // 61) * 20 + 1"
   ]
  },
  {
   "cell_type": "code",
   "execution_count": 655,
   "metadata": {},
   "outputs": [
    {
     "data": {
      "text/plain": [
       "9463"
      ]
     },
     "execution_count": 655,
     "metadata": {},
     "output_type": "execute_result"
    }
   ],
   "source": [
    "(10007 // 9800) * 9437 + 26"
   ]
  },
  {
   "cell_type": "code",
   "execution_count": 673,
   "metadata": {},
   "outputs": [
    {
     "data": {
      "text/plain": [
       "2144"
      ]
     },
     "execution_count": 673,
     "metadata": {},
     "output_type": "execute_result"
    }
   ],
   "source": [
    "(10007 // 4000) * 857 + 430"
   ]
  },
  {
   "cell_type": "code",
   "execution_count": 681,
   "metadata": {},
   "outputs": [
    {
     "data": {
      "text/plain": [
       "4765"
      ]
     },
     "execution_count": 681,
     "metadata": {},
     "output_type": "execute_result"
    }
   ],
   "source": [
    "(10007 // 6000) * 2857 + 1908"
   ]
  },
  {
   "cell_type": "code",
   "execution_count": 688,
   "metadata": {},
   "outputs": [
    {
     "data": {
      "text/plain": [
       "9463"
      ]
     },
     "execution_count": 688,
     "metadata": {},
     "output_type": "execute_result"
    }
   ],
   "source": [
    "(10007 // 9980) * 9437 + 26"
   ]
  },
  {
   "cell_type": "code",
   "execution_count": 644,
   "metadata": {},
   "outputs": [
    {
     "data": {
      "text/plain": [
       "20"
      ]
     },
     "execution_count": 644,
     "metadata": {},
     "output_type": "execute_result"
    }
   ],
   "source": [
    "587 % 27"
   ]
  },
  {
   "cell_type": "code",
   "execution_count": 645,
   "metadata": {},
   "outputs": [
    {
     "data": {
      "text/plain": [
       "7401"
      ]
     },
     "execution_count": 645,
     "metadata": {},
     "output_type": "execute_result"
    }
   ],
   "source": [
    "(10007 // 27) * 20 + 1"
   ]
  },
  {
   "cell_type": "code",
   "execution_count": 640,
   "metadata": {},
   "outputs": [
    {
     "data": {
      "text/plain": [
       "80484954784936"
      ]
     },
     "execution_count": 640,
     "metadata": {},
     "output_type": "execute_result"
    }
   ],
   "source": [
    "_delta % deck_size"
   ]
  },
  {
   "cell_type": "code",
   "execution_count": null,
   "metadata": {},
   "outputs": [],
   "source": [
    "revert(delta)"
   ]
  },
  {
   "cell_type": "code",
   "execution_count": 626,
   "metadata": {},
   "outputs": [
    {
     "data": {
      "text/plain": [
       "1"
      ]
     },
     "execution_count": 626,
     "metadata": {},
     "output_type": "execute_result"
    }
   ],
   "source": [
    "(27 - 19*17) % 27"
   ]
  },
  {
   "cell_type": "code",
   "execution_count": 659,
   "metadata": {},
   "outputs": [
    {
     "data": {
      "text/plain": [
       "7042"
      ]
     },
     "execution_count": 659,
     "metadata": {},
     "output_type": "execute_result"
    }
   ],
   "source": [
    "(10007 // 27) * 19 + 12"
   ]
  },
  {
   "cell_type": "code",
   "execution_count": null,
   "metadata": {},
   "outputs": [],
   "source": [
    "t = 27\n",
    "i = 0\n",
    "b = 1\n",
    "while t != 1:\n",
    "    i += 1\n",
    "    t -= 17\n",
    "    if t < 0:\n",
    "        b += 1\n",
    "        t %= 27\n",
    "i, b"
   ]
  },
  {
   "cell_type": "code",
   "execution_count": 777,
   "metadata": {},
   "outputs": [
    {
     "name": "stdout",
     "output_type": "stream",
     "text": [
      "2939\n",
      "45347150615590\n"
     ]
    }
   ],
   "source": [
    "# https://www.reddit.com/r/adventofcode/comments/ee0rqi/2019_day_22_solutions/fbqs5bk?utm_source=share&utm_medium=web2x\n",
    "def solve(c, n, p, o=0, i=1):\n",
    "    inv = lambda x: pow(x, c-2, c)\n",
    "    for s in [s.split() for s in open('./data/input_22.txt').readlines()]:\n",
    "        if s[0] == 'cut':  o += i * int(s[-1])\n",
    "        if s[1] == 'with': i *= inv(int(s[-1]))\n",
    "        if s[1] == 'into': o -= i; i *= -1\n",
    "    o *= inv(1-i); i = pow(i, n, c)\n",
    "    return (p*i + (1-i)*o) % c\n",
    "\n",
    "for x in [(10007,10005,2019), (deck_size,N,2020)]:\n",
    "    print(solve(*x))"
   ]
  },
  {
   "cell_type": "raw",
   "metadata": {},
   "source": []
  }
 ],
 "metadata": {
  "kernelspec": {
   "display_name": "Python 3",
   "language": "python",
   "name": "python3"
  },
  "language_info": {
   "codemirror_mode": {
    "name": "ipython",
    "version": 3
   },
   "file_extension": ".py",
   "mimetype": "text/x-python",
   "name": "python",
   "nbconvert_exporter": "python",
   "pygments_lexer": "ipython3",
   "version": "3.7.5"
  }
 },
 "nbformat": 4,
 "nbformat_minor": 2
}
