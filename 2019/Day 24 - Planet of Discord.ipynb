{
 "cells": [
  {
   "cell_type": "code",
   "execution_count": 5,
   "metadata": {},
   "outputs": [],
   "source": [
    "with open('./data/input_24.txt') as fh:\n",
    "    file_input = fh.readlines()"
   ]
  },
  {
   "cell_type": "code",
   "execution_count": 44,
   "metadata": {},
   "outputs": [],
   "source": [
    "import numpy as np\n",
    "import matplotlib.pyplot as plt\n",
    "from scipy.signal import convolve2d\n",
    "%matplotlib inline"
   ]
  },
  {
   "cell_type": "code",
   "execution_count": 22,
   "metadata": {},
   "outputs": [],
   "source": [
    "test = \"\"\"....#\n",
    "#..#.\n",
    "#..##\n",
    "..#..\n",
    "#....\"\"\"\n",
    "test = test.splitlines()"
   ]
  },
  {
   "cell_type": "code",
   "execution_count": 70,
   "metadata": {},
   "outputs": [],
   "source": [
    "# lines = [[0 if c == '.' else 1 for c in line ] for line in file_input]\n",
    "lines = [[0 if c == '.' else 1 for c in line ] for line in test]"
   ]
  },
  {
   "cell_type": "code",
   "execution_count": 121,
   "metadata": {},
   "outputs": [],
   "source": [
    "field = np.array(lines)"
   ]
  },
  {
   "cell_type": "code",
   "execution_count": 122,
   "metadata": {},
   "outputs": [],
   "source": [
    "window = np.array([[0, 1, 0], [1, 0, 1], [0, 1, 0]])"
   ]
  },
  {
   "cell_type": "code",
   "execution_count": 123,
   "metadata": {},
   "outputs": [
    {
     "data": {
      "text/plain": [
       "<matplotlib.image.AxesImage at 0x7f5b51e46150>"
      ]
     },
     "execution_count": 123,
     "metadata": {},
     "output_type": "execute_result"
    },
    {
     "data": {
      "image/png": "[encoded data removed]",
      "text/plain": [
       "<Figure size 432x288 with 1 Axes>"
      ]
     },
     "metadata": {
      "needs_background": "light"
     },
     "output_type": "display_data"
    }
   ],
   "source": [
    "plt.imshow(field)"
   ]
  },
  {
   "cell_type": "code",
   "execution_count": 124,
   "metadata": {},
   "outputs": [],
   "source": [
    "def _next(field):\n",
    "    nnb = convolve2d(field, window, mode='same')\n",
    "#     print(nnb)\n",
    "    field = ((field == 1) & (nnb == 1)) | ((field == 0) & ((nnb == 1) | (nnb == 2)))\n",
    "    return field.astype(np.int8)\n",
    "\n",
    "def get_biodiversity(field):\n",
    "    ff = field.flatten()\n",
    "    return (2 ** np.arange(len(ff)) * ff).sum()"
   ]
  },
  {
   "cell_type": "code",
   "execution_count": 130,
   "metadata": {},
   "outputs": [
    {
     "name": "stdout",
     "output_type": "stream",
     "text": [
      "2129920\n"
     ]
    },
    {
     "data": {
      "image/png": "[encoded data removed]",
      "text/plain": [
       "<Figure size 432x288 with 1 Axes>"
      ]
     },
     "metadata": {
      "needs_background": "light"
     },
     "output_type": "display_data"
    }
   ],
   "source": [
    "# test\n",
    "field = np.array([[0 if c == '.' else 1 for c in line ] for line in test])\n",
    "seen = set([get_biodiversity(field)])\n",
    "while True:\n",
    "    field = _next(field)\n",
    "    bd = get_biodiversity(field)\n",
    "    if bd in seen:\n",
    "        plt.imshow(field)\n",
    "        print(bd)\n",
    "        break\n",
    "    seen.add(bd)"
   ]
  },
  {
   "cell_type": "code",
   "execution_count": 133,
   "metadata": {},
   "outputs": [
    {
     "name": "stdout",
     "output_type": "stream",
     "text": [
      "27562081\n"
     ]
    },
    {
     "data": {
      "image/png": "[encoded data removed]",
      "text/plain": [
       "<Figure size 432x288 with 1 Axes>"
      ]
     },
     "metadata": {
      "needs_background": "light"
     },
     "output_type": "display_data"
    }
   ],
   "source": [
    "# part 1\n",
    "field = np.array([[0 if c == '.' else 1 for c in line.strip() ] for line in file_input])\n",
    "seen = set([get_biodiversity(field)])\n",
    "while True:\n",
    "    field = _next(field)\n",
    "    bd = get_biodiversity(field)\n",
    "    if bd in seen:\n",
    "        plt.imshow(field)\n",
    "        print(bd)\n",
    "        break\n",
    "    seen.add(bd)"
   ]
  },
  {
   "cell_type": "code",
   "execution_count": 136,
   "metadata": {},
   "outputs": [],
   "source": [
    "# part 2"
   ]
  },
  {
   "cell_type": "code",
   "execution_count": 143,
   "metadata": {},
   "outputs": [
    {
     "data": {
      "text/plain": [
       "array([[0., 0., 0., 0., 0.],\n",
       "       [0., 1., 1., 1., 0.],\n",
       "       [0., 1., 0., 1., 0.],\n",
       "       [0., 1., 1., 1., 0.],\n",
       "       [0., 0., 0., 0., 0.]])"
      ]
     },
     "execution_count": 143,
     "metadata": {},
     "output_type": "execute_result"
    }
   ],
   "source": [
    "outer = np.zeros((5, 5))\n",
    "outer[:, 0] = 1\n",
    "outer[:, 4] = 1\n",
    "outer[0, :] = 1\n",
    "outer[4, :] = 1\n",
    "\n",
    "inner = np.zeros((5, 5))\n",
    "inner[1:-1, 1] = 1\n",
    "inner[1:-1, 3] = 1\n",
    "inner[1, 2] = 1\n",
    "inner[3, 2] = 1\n",
    "inner"
   ]
  },
  {
   "cell_type": "code",
   "execution_count": 175,
   "metadata": {},
   "outputs": [],
   "source": [
    "# field = np.array([[0 if c == '.' else 1 for c in line.strip() ] for line in file_input])\n",
    "field = np.array([[0 if c == '.' else 1 for c in line.strip() ] for line in test])\n"
   ]
  },
  {
   "cell_type": "code",
   "execution_count": 210,
   "metadata": {},
   "outputs": [],
   "source": [
    "def add_outer_nbrs(field):\n",
    "    ret = np.zeros((5, 5), dtype=np.int16)\n",
    "    ret[:, 0] += field[2, 1]\n",
    "    ret[0, :] += field[1, 2]\n",
    "    ret[:, 4] += field[2, 3]\n",
    "    ret[4, :] += field[3, 2]\n",
    "#     print('add_outer', ret)\n",
    "    return ret\n",
    "    \n",
    "\n",
    "def add_inner_nbrs(field):\n",
    "    ret = np.zeros((5, 5), dtype=np.int16)\n",
    "    ret[2, 1] += field[:, 0].sum()\n",
    "    ret[1, 2] += field[0, :].sum()\n",
    "    ret[2, 3] += field[:, 4].sum()\n",
    "    ret[3, 2] += field[4, :].sum()\n",
    "#     print('add_inner', ret)\n",
    "    return ret\n",
    "\n",
    "def next_field(field, nnb):\n",
    "    field = ((field == 1) & (nnb == 1)) | ((field == 0) & ((nnb == 1) | (nnb == 2)))\n",
    "    field[2, 2] = 0\n",
    "    return field.astype(np.int8)"
   ]
  },
  {
   "cell_type": "code",
   "execution_count": 229,
   "metadata": {},
   "outputs": [
    {
     "name": "stdout",
     "output_type": "stream",
     "text": [
      "1.99 s ± 108 ms per loop (mean ± std. dev. of 7 runs, 1 loop each)\n"
     ]
    }
   ],
   "source": [
    "%%timeit\n",
    "# field = np.array([[0 if c == '.' else 1 for c in line.strip() ] for line in test])\n",
    "field = np.array([[0 if c == '.' else 1 for c in line.strip() ] for line in file_input])\n",
    "\n",
    "fields = [field]\n",
    "n = 0\n",
    "shift=0\n",
    "while n < 200:\n",
    "    n += 1\n",
    "#     print(n)\n",
    "    if convolve2d(fields[0], outer, mode='valid'):\n",
    "        fields.insert(0, np.zeros((5, 5), dtype=np.int16))\n",
    "        shift += 1\n",
    "    if convolve2d(fields[-1], inner, mode='valid'):\n",
    "        fields.append(np.zeros((5, 5), dtype=np.int16))\n",
    "    N = len(fields)\n",
    "    nnbs = [convolve2d(field, window, mode='same').astype(np.int16) for field in fields]\n",
    "\n",
    "    for i in range(N):\n",
    "        if i > 0:\n",
    "            nnbs[i] += add_outer_nbrs(fields[i-1])\n",
    "        if i < (N-1):\n",
    "            nnbs[i] += add_inner_nbrs(fields[i+1])\n",
    "    for i in range(N):\n",
    "        fields[i] = next_field(fields[i], nnbs[i])"
   ]
  },
  {
   "cell_type": "code",
   "execution_count": 222,
   "metadata": {},
   "outputs": [
    {
     "data": {
      "text/plain": [
       "201"
      ]
     },
     "execution_count": 222,
     "metadata": {},
     "output_type": "execute_result"
    }
   ],
   "source": [
    "len(fields)"
   ]
  },
  {
   "cell_type": "code",
   "execution_count": 223,
   "metadata": {},
   "outputs": [
    {
     "data": {
      "text/plain": [
       "1893"
      ]
     },
     "execution_count": 223,
     "metadata": {},
     "output_type": "execute_result"
    }
   ],
   "source": [
    "sum([f.sum() for f in fields])"
   ]
  },
  {
   "cell_type": "code",
   "execution_count": 215,
   "metadata": {},
   "outputs": [
    {
     "data": {
      "text/plain": [
       "<matplotlib.image.AxesImage at 0x7f5b51bd9d10>"
      ]
     },
     "execution_count": 215,
     "metadata": {},
     "output_type": "execute_result"
    },
    {
     "data": {
      "image/png": "[encoded data removed]",
      "text/plain": [
       "<Figure size 432x288 with 1 Axes>"
      ]
     },
     "metadata": {
      "needs_background": "light"
     },
     "output_type": "display_data"
    }
   ],
   "source": [
    "plt.imshow(field)"
   ]
  },
  {
   "cell_type": "code",
   "execution_count": 217,
   "metadata": {},
   "outputs": [
    {
     "data": {
      "text/plain": [
       "<matplotlib.image.AxesImage at 0x7f5b51b0c990>"
      ]
     },
     "execution_count": 217,
     "metadata": {},
     "output_type": "execute_result"
    },
    {
     "data": {
      "image/png": "[encoded data removed]",
      "text/plain": [
       "<Figure size 432x288 with 1 Axes>"
      ]
     },
     "metadata": {
      "needs_background": "light"
     },
     "output_type": "display_data"
    }
   ],
   "source": [
    "plt.imshow(fields[shift])"
   ]
  },
  {
   "cell_type": "code",
   "execution_count": null,
   "metadata": {},
   "outputs": [],
   "source": []
  }
 ],
 "metadata": {
  "kernelspec": {
   "display_name": "Python 3",
   "language": "python",
   "name": "python3"
  },
  "language_info": {
   "codemirror_mode": {
    "name": "ipython",
    "version": 3
   },
   "file_extension": ".py",
   "mimetype": "text/x-python",
   "name": "python",
   "nbconvert_exporter": "python",
   "pygments_lexer": "ipython3",
   "version": "3.7.5"
  }
 },
 "nbformat": 4,
 "nbformat_minor": 2
}
