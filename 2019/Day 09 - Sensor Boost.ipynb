{
 "cells": [
  {
   "cell_type": "code",
   "execution_count": 4,
   "metadata": {},
   "outputs": [],
   "source": [
    "with open('./data/input_09.txt') as fh:\n",
    "    file_input = fh.read().strip()"
   ]
  },
  {
   "cell_type": "code",
   "execution_count": 5,
   "metadata": {},
   "outputs": [
    {
     "name": "stdout",
     "output_type": "stream",
     "text": [
      "1\n"
     ]
    }
   ],
   "source": [
    "# tests\n",
    "\"\"\"Here are some example programs that use these features:\n",
    "\n",
    "109,1,204,-1,1001,100,1,100,1008,100,16,101,1006,101,0,99 takes no input and produces a copy of itself as output.\n",
    "1102,34915192,34915192,7,4,7,99,0 should output a 16-digit number.\n",
    "104,1125899906842624,99 should output the large number in the middle.\"\"\"\n",
    "print(1)"
   ]
  },
  {
   "cell_type": "code",
   "execution_count": 6,
   "metadata": {},
   "outputs": [],
   "source": [
    "from intcode import intcode"
   ]
  },
  {
   "cell_type": "code",
   "execution_count": 7,
   "metadata": {},
   "outputs": [
    {
     "name": "stdout",
     "output_type": "stream",
     "text": [
      "output: 109\n",
      "output: 1\n",
      "output: 204\n",
      "output: -1\n",
      "output: 1001\n",
      "output: 100\n",
      "output: 1\n",
      "output: 100\n",
      "output: 1008\n",
      "output: 100\n",
      "output: 16\n",
      "output: 101\n",
      "output: 1006\n",
      "output: 101\n",
      "output: 0\n",
      "output: 99\n"
     ]
    }
   ],
   "source": [
    "ic = intcode([109,1,204,-1,1001,100,1,100,1008,100,16,101,1006,101,0,99], add_mem=1000)\n",
    "ic.run()"
   ]
  },
  {
   "cell_type": "code",
   "execution_count": 8,
   "metadata": {},
   "outputs": [
    {
     "name": "stdout",
     "output_type": "stream",
     "text": [
      "output: 1219070632396864\n"
     ]
    }
   ],
   "source": [
    "ic = intcode([1102,34915192,34915192,7,4,7,99,0], add_mem=1000)\n",
    "ic.run()"
   ]
  },
  {
   "cell_type": "code",
   "execution_count": 9,
   "metadata": {},
   "outputs": [
    {
     "name": "stdout",
     "output_type": "stream",
     "text": [
      "output: 1125899906842624\n"
     ]
    }
   ],
   "source": [
    "ic = intcode([104,1125899906842624,99], add_mem=1000)\n",
    "ic.run()"
   ]
  },
  {
   "cell_type": "code",
   "execution_count": 10,
   "metadata": {},
   "outputs": [
    {
     "name": "stdout",
     "output_type": "stream",
     "text": [
      "output: 2204990589\n"
     ]
    }
   ],
   "source": [
    "# part 1\n",
    "mem = [int(d) for d in file_input.split(',')]\n",
    "ic = intcode(mem, add_mem=10000)\n",
    "ic.run()"
   ]
  },
  {
   "cell_type": "code",
   "execution_count": 11,
   "metadata": {},
   "outputs": [
    {
     "name": "stdout",
     "output_type": "stream",
     "text": [
      "output: 50008\n"
     ]
    }
   ],
   "source": [
    "# part 2\n",
    "mem = [int(d) for d in file_input.split(',')]\n",
    "ic = intcode(mem, add_mem=10000, take_input=lambda: 2)\n",
    "ic.run()"
   ]
  },
  {
   "cell_type": "code",
   "execution_count": null,
   "metadata": {},
   "outputs": [],
   "source": []
  }
 ],
 "metadata": {
  "kernelspec": {
   "display_name": "Python 3",
   "language": "python",
   "name": "python3"
  },
  "language_info": {
   "codemirror_mode": {
    "name": "ipython",
    "version": 3
   },
   "file_extension": ".py",
   "mimetype": "text/x-python",
   "name": "python",
   "nbconvert_exporter": "python",
   "pygments_lexer": "ipython3",
   "version": "3.7.5"
  }
 },
 "nbformat": 4,
 "nbformat_minor": 2
}
