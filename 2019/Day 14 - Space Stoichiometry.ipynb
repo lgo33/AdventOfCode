{
 "cells": [
  {
   "cell_type": "code",
   "execution_count": 258,
   "metadata": {},
   "outputs": [],
   "source": [
    "with open('./data/input_14.txt') as fh:\n",
    "    file_input = fh.read().strip()"
   ]
  },
  {
   "cell_type": "code",
   "execution_count": 101,
   "metadata": {},
   "outputs": [],
   "source": [
    "test = \"\"\"10 ORE => 10 A\n",
    "1 ORE => 1 B\n",
    "7 A, 1 B => 1 C\n",
    "7 A, 1 C => 1 D\n",
    "7 A, 1 D => 1 E\n",
    "7 A, 1 E => 1 FUEL\"\"\""
   ]
  },
  {
   "cell_type": "code",
   "execution_count": 324,
   "metadata": {},
   "outputs": [
    {
     "data": {
      "text/plain": [
       "{'KHKGT': 225360576,\n",
       " 'QDVJ': 600961536,\n",
       " 'DCFZ': 375600960,\n",
       " 'PSHF': 225360576,\n",
       " 'NZVS': 300480768}"
      ]
     },
     "execution_count": 324,
     "metadata": {},
     "output_type": "execute_result"
    }
   ],
   "source": [
    "bon"
   ]
  },
  {
   "cell_type": "code",
   "execution_count": 269,
   "metadata": {},
   "outputs": [],
   "source": [
    "test2 = \"\"\"157 ORE => 5 NZVS\n",
    "165 ORE => 6 DCFZ\n",
    "44 XJWVT, 5 KHKGT, 1 QDVJ, 29 NZVS, 9 GPVTF, 48 HKGWZ => 1 FUEL\n",
    "12 HKGWZ, 1 GPVTF, 8 PSHF => 9 QDVJ\n",
    "179 ORE => 7 PSHF\n",
    "177 ORE => 5 HKGWZ\n",
    "7 DCFZ, 7 PSHF => 2 XJWVT\n",
    "165 ORE => 2 GPVTF\n",
    "3 DCFZ, 7 NZVS, 5 HKGWZ, 10 PSHF => 8 KHKGT\"\"\""
   ]
  },
  {
   "cell_type": "code",
   "execution_count": 166,
   "metadata": {},
   "outputs": [],
   "source": [
    "test3 = \"\"\"2 VPVL, 7 FWMGM, 2 CXFTF, 11 MNCFX => 1 STKFG\n",
    "17 NVRVD, 3 JNWZP => 8 VPVL\n",
    "53 STKFG, 6 MNCFX, 46 VJHF, 81 HVMC, 68 CXFTF, 25 GNMV => 1 FUEL\n",
    "22 VJHF, 37 MNCFX => 5 FWMGM\n",
    "139 ORE => 4 NVRVD\n",
    "144 ORE => 7 JNWZP\n",
    "5 MNCFX, 7 RFSQX, 2 FWMGM, 2 VPVL, 19 CXFTF => 3 HVMC\n",
    "5 VJHF, 7 MNCFX, 9 VPVL, 37 CXFTF => 6 GNMV\n",
    "145 ORE => 6 MNCFX\n",
    "1 NVRVD => 8 CXFTF\n",
    "1 VJHF, 6 MNCFX => 4 RFSQX\n",
    "176 ORE => 6 VJHF\"\"\""
   ]
  },
  {
   "cell_type": "code",
   "execution_count": 242,
   "metadata": {},
   "outputs": [],
   "source": [
    "test4 = \"\"\"171 ORE => 8 CNZTR\n",
    "7 ZLQW, 3 BMBT, 9 XCVML, 26 XMNCP, 1 WPTQ, 2 MZWV, 1 RJRHP => 4 PLWSL\n",
    "114 ORE => 4 BHXH\n",
    "14 VRPVC => 6 BMBT\n",
    "6 BHXH, 18 KTJDG, 12 WPTQ, 7 PLWSL, 31 FHTLT, 37 ZDVW => 1 FUEL\n",
    "6 WPTQ, 2 BMBT, 8 ZLQW, 18 KTJDG, 1 XMNCP, 6 MZWV, 1 RJRHP => 6 FHTLT\n",
    "15 XDBXC, 2 LTCX, 1 VRPVC => 6 ZLQW\n",
    "13 WPTQ, 10 LTCX, 3 RJRHP, 14 XMNCP, 2 MZWV, 1 ZLQW => 1 ZDVW\n",
    "5 BMBT => 4 WPTQ\n",
    "189 ORE => 9 KTJDG\n",
    "1 MZWV, 17 XDBXC, 3 XCVML => 2 XMNCP\n",
    "12 VRPVC, 27 CNZTR => 2 XDBXC\n",
    "15 KTJDG, 12 BHXH => 5 XCVML\n",
    "3 BHXH, 2 VRPVC => 7 MZWV\n",
    "121 ORE => 7 VRPVC\n",
    "7 XCVML => 6 RJRHP\n",
    "5 BHXH, 4 VRPVC => 5 LTCX\"\"\""
   ]
  },
  {
   "cell_type": "code",
   "execution_count": 271,
   "metadata": {},
   "outputs": [],
   "source": [
    "import re\n",
    "import math\n",
    "def parse(txt):\n",
    "    return [list(zip([int(d) for d in re.findall('\\d+', line)], re.findall('[a-zA-Z]+', line))) for line in txt.split('\\n')]\n",
    "\n",
    "def build_replacements(recipes):\n",
    "    repl = {rec[-1][1]: (rec[-1][0], rec[:-1]) for rec in recipes}\n",
    "    return repl\n",
    "\n",
    "def find_replacement(key, num, repl):\n",
    "    if key == 'ORE':\n",
    "        return {'ORE': num}, {}\n",
    "    req, el = repl[key]\n",
    "    fac = math.ceil(num / req)\n",
    "    rest = req * fac - num\n",
    "    num_el = {e[1]: e[0]*fac for e in el}\n",
    "#     print(\"repl: \", num, key, num_el, 'rest: ', key, rest)\n",
    "    bonus = {key: rest} if rest else {}\n",
    "#     print('fr ', num_el, bonus)\n",
    "    return num_el, bonus\n",
    "\n",
    "def update(d1, d2):\n",
    "    for key in d2.keys():\n",
    "        d1[key] = d1.get(key, 0) + d2[key]\n",
    "    return d1\n",
    "\n",
    "def subtract(d1, d2):\n",
    "    keys = list(d2.keys())\n",
    "    for key in keys:\n",
    "        if key in d1.keys():\n",
    "            if d2[key] < d1[key]:\n",
    "                d1[key] -= d2.pop(key)\n",
    "            elif d2[key] > d1[key]:\n",
    "                d2[key] -= d1.pop(key)\n",
    "            else:\n",
    "                d1.pop(key)\n",
    "                d2.pop(key)\n",
    "                \n",
    "    return d1, d2"
   ]
  },
  {
   "cell_type": "code",
   "execution_count": 476,
   "metadata": {},
   "outputs": [],
   "source": [
    "def calculate(txt, bonus = {}, fuel=1):\n",
    "    recipes = parse(txt)\n",
    "    repl = build_replacements(recipes)\n",
    "\n",
    "    store = {'FUEL': fuel}\n",
    "    while store.keys() != set(['ORE']) and len(store) > 0:\n",
    "    #     print('step')\n",
    "        new_store = {}\n",
    "        for key in store.keys():\n",
    "            replacement, new_bonus = find_replacement(key, store[key], repl)\n",
    "            new_store = update(new_store, replacement)\n",
    "            bonus = update(bonus, new_bonus)\n",
    "            new_store, bonus = subtract(new_store, bonus)\n",
    "#             print('!!!', new_store, bonus)\n",
    "        store = new_store\n",
    "#         print(len(store), \"!\")\n",
    "    if 'ORE' not in store:\n",
    "        store['ORE'] = 0\n",
    "    return (store, bonus)"
   ]
  },
  {
   "cell_type": "code",
   "execution_count": 477,
   "metadata": {},
   "outputs": [
    {
     "data": {
      "text/plain": [
       "({'ORE': 31}, {'A': 2})"
      ]
     },
     "execution_count": 477,
     "metadata": {},
     "output_type": "execute_result"
    }
   ],
   "source": [
    "calculate(test)"
   ]
  },
  {
   "cell_type": "code",
   "execution_count": 294,
   "metadata": {},
   "outputs": [
    {
     "data": {
      "text/plain": [
       "({'ORE': 13312}, {'KHKGT': 3, 'QDVJ': 8, 'DCFZ': 5, 'PSHF': 3, 'NZVS': 4})"
      ]
     },
     "execution_count": 294,
     "metadata": {},
     "output_type": "execute_result"
    }
   ],
   "source": [
    "calculate(test2, {})"
   ]
  },
  {
   "cell_type": "code",
   "execution_count": 167,
   "metadata": {},
   "outputs": [
    {
     "data": {
      "text/plain": [
       "({'ORE': 180697},\n",
       " {'GNMV': 5,\n",
       "  'VPVL': 3,\n",
       "  'RFSQX': 3,\n",
       "  'NVRVD': 1,\n",
       "  'JNWZP': 6,\n",
       "  'VJHF': 3,\n",
       "  'MNCFX': 2})"
      ]
     },
     "execution_count": 167,
     "metadata": {},
     "output_type": "execute_result"
    }
   ],
   "source": [
    "calculate(test3)"
   ]
  },
  {
   "cell_type": "code",
   "execution_count": 237,
   "metadata": {},
   "outputs": [
    {
     "data": {
      "text/plain": [
       "{'ORE': 399063}"
      ]
     },
     "execution_count": 237,
     "metadata": {},
     "output_type": "execute_result"
    }
   ],
   "source": [
    "# part 1\n",
    "ore, left = calculate(file_input)\n",
    "ore"
   ]
  },
  {
   "cell_type": "code",
   "execution_count": 193,
   "metadata": {},
   "outputs": [],
   "source": [
    "# part 2\n",
    "total_cargo = 1000000000000"
   ]
  },
  {
   "cell_type": "code",
   "execution_count": 506,
   "metadata": {},
   "outputs": [
    {
     "name": "stdout",
     "output_type": "stream",
     "text": [
      "999998346916 11\n"
     ]
    }
   ],
   "source": [
    "ore, left = calculate(test4, bonus={}, fuel=460664)\n",
    "print(ore['ORE'], len(left))"
   ]
  },
  {
   "cell_type": "code",
   "execution_count": 488,
   "metadata": {},
   "outputs": [
    {
     "name": "stdout",
     "output_type": "stream",
     "text": [
      "109274881430 34\n"
     ]
    }
   ],
   "source": [
    "ore, left = calculate(file_input, bonus={}, fuel=460665)\n",
    "print(ore['ORE'], len(left))"
   ]
  },
  {
   "cell_type": "code",
   "execution_count": null,
   "metadata": {},
   "outputs": [],
   "source": []
  },
  {
   "cell_type": "code",
   "execution_count": 505,
   "metadata": {},
   "outputs": [
    {
     "name": "stdout",
     "output_type": "stream",
     "text": [
      "11860552551838 50000000\n",
      "5930276331168 25000000\n",
      "2965138300177 12500000\n",
      "1482569190843 6250000\n",
      "741284745758 3125000\n",
      "1111926852107 4687500\n",
      "926605824271 3906250\n",
      "1019266451971 4296875\n",
      "972935957032 4101562\n",
      "996101055779 4199218\n",
      "1007683600574 4248046\n",
      "1001892317191 4223632\n",
      "998996678626 4211425\n",
      "1000444458413 4217528\n",
      "999720429392 4214476\n",
      "1000082305792 4216002\n",
      "999901466356 4215239\n",
      "999991871555 4215620\n",
      "1000037102236 4215811\n",
      "1000014338746 4215715\n",
      "1000002928316 4215667\n",
      "999997255494 4215643\n",
      "1000000090514 4215655\n",
      "999998667331 4215649\n",
      "999999411662 4215652\n",
      "999999677090 4215653\n",
      "999999749382 4215654\n"
     ]
    }
   ],
   "source": [
    "# part 2\n",
    "_high = 100000000\n",
    "_low = 1\n",
    "while (_high - _low) > 1:\n",
    "    i = _low + (_high - _low) // 2\n",
    "    ore, left = calculate(file_input, bonus={}, fuel=i)\n",
    "    if ore['ORE'] > total_cargo:\n",
    "        _high = i\n",
    "    else:\n",
    "        _low = i\n",
    "    \n",
    "    print(ore['ORE'], i)"
   ]
  },
  {
   "cell_type": "code",
   "execution_count": 507,
   "metadata": {},
   "outputs": [
    {
     "data": {
      "text/plain": [
       "({'ORE': 999999749382},\n",
       " {'KLJMS': 6,\n",
       "  'KZDJ': 2,\n",
       "  'DLZS': 6,\n",
       "  'VCFX': 4,\n",
       "  'JVMF': 6,\n",
       "  'PLSCB': 3,\n",
       "  'JLVQ': 6,\n",
       "  'LPRL': 1,\n",
       "  'MZQLG': 1,\n",
       "  'JNWJ': 1,\n",
       "  'PCSM': 2,\n",
       "  'PJFBD': 7,\n",
       "  'KBWF': 3,\n",
       "  'PRMJ': 1,\n",
       "  'QDZB': 4,\n",
       "  'WDKW': 2,\n",
       "  'ZMFXQ': 5,\n",
       "  'TLRST': 3,\n",
       "  'LHWZQ': 1,\n",
       "  'LWNKB': 1,\n",
       "  'RPLCK': 3,\n",
       "  'XNWV': 5,\n",
       "  'HTZW': 3,\n",
       "  'FGVL': 6,\n",
       "  'FZDP': 6,\n",
       "  'JBPHS': 3,\n",
       "  'CRPGK': 2,\n",
       "  'GJHX': 3,\n",
       "  'TKVCX': 4,\n",
       "  'VFZX': 5,\n",
       "  'ZBLC': 2,\n",
       "  'NRSD': 1,\n",
       "  'STHQ': 1,\n",
       "  'TKRT': 5,\n",
       "  'DQFL': 5,\n",
       "  'VNMV': 4,\n",
       "  'CNLFV': 4,\n",
       "  'VFTG': 1})"
      ]
     },
     "execution_count": 507,
     "metadata": {},
     "output_type": "execute_result"
    }
   ],
   "source": [
    "calculate(file_input, bonus={}, fuel=4215654)"
   ]
  },
  {
   "cell_type": "code",
   "execution_count": null,
   "metadata": {},
   "outputs": [],
   "source": []
  },
  {
   "cell_type": "code",
   "execution_count": 464,
   "metadata": {},
   "outputs": [],
   "source": [
    "# not needed in the end\n",
    "\n",
    "def find_period(txt, cargo = total_cargo, bonus = {}):\n",
    "\n",
    "    fuel = 0\n",
    "    seen = {}\n",
    "    while cargo > 0:\n",
    "        ore, bonus = calculate(txt, bonus)\n",
    "        cargo -= ore['ORE']\n",
    "        if cargo < 0:\n",
    "            return (fuel, cargo)\n",
    "        fuel += 1\n",
    "        _hash = tuple(sorted(bonus.items()))\n",
    "        if _hash in seen:\n",
    "            break\n",
    "        seen[_hash] = (fuel, cargo)\n",
    "        #print(cargo, fuel, bonus)\n",
    "#         print(ore['ORE'])\n",
    "    return (fuel, cargo, seen)\n",
    "\n",
    "\n",
    "def without_rest(txt, cargo = total_cargo, bonus={}):\n",
    "    bonus = {}\n",
    "    fuel = 0\n",
    "    while cargo > 0:\n",
    "        ore, bonus = calculate(txt, bonus)\n",
    "        cargo -= ore['ORE']\n",
    "        if cargo < 0:\n",
    "            return (fuel, cargo)\n",
    "        fuel += 1\n",
    "        if sum(bonus.values()) == 0:\n",
    "            break\n",
    "    return (fuel, cargo)\n",
    "\n",
    "def recycle(txt, cargo, bonus={}):\n",
    "    fuel = 0\n",
    "    while cargo > 0:\n",
    "        ore, bonus = calculate(txt, bonus)\n",
    "        cargo -= ore['ORE']\n",
    "        if cargo < 0:\n",
    "            return (fuel, cargo, bonus)\n",
    "        fuel += 1\n",
    "#         print(cargo, bonus)\n",
    "    return (fuel, cargo, bonus)"
   ]
  }
 ],
 "metadata": {
  "kernelspec": {
   "display_name": "Python 3",
   "language": "python",
   "name": "python3"
  },
  "language_info": {
   "codemirror_mode": {
    "name": "ipython",
    "version": 3
   },
   "file_extension": ".py",
   "mimetype": "text/x-python",
   "name": "python",
   "nbconvert_exporter": "python",
   "pygments_lexer": "ipython3",
   "version": "3.7.5"
  }
 },
 "nbformat": 4,
 "nbformat_minor": 2
}
