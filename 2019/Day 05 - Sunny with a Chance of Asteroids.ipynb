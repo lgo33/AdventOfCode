{
 "cells": [
  {
   "cell_type": "code",
   "execution_count": 1,
   "metadata": {},
   "outputs": [
    {
     "data": {
      "text/plain": [
       "[3, 225, 1, 225, 6, 6, 1100, 1, 238, 225]"
      ]
     },
     "execution_count": 1,
     "metadata": {},
     "output_type": "execute_result"
    }
   ],
   "source": [
    "with open('./data/input_05.txt') as fh:\n",
    "    file_input = fh.read().strip()\n",
    "    \n",
    "mem = [int(d) for d in file_input.split(',')]\n",
    "mem[:10]"
   ]
  },
  {
   "cell_type": "code",
   "execution_count": 2,
   "metadata": {},
   "outputs": [],
   "source": [
    "from intcode import intcode"
   ]
  },
  {
   "cell_type": "code",
   "execution_count": 3,
   "metadata": {},
   "outputs": [
    {
     "name": "stdout",
     "output_type": "stream",
     "text": [
      "output: 123\n"
     ]
    }
   ],
   "source": [
    "# The program 3,0,4,0,99 outputs whatever it gets as input, then halts\n",
    "test = [3,0,4,0,99]\n",
    "\n",
    "ip = intcode(test, take_input=lambda: 123)\n",
    "# ip.debug = True\n",
    "ip.run()"
   ]
  },
  {
   "cell_type": "code",
   "execution_count": 4,
   "metadata": {},
   "outputs": [
    {
     "name": "stdout",
     "output_type": "stream",
     "text": [
      "0 :  _mult [(0, 4), (1, 3), (0, 4)]\n",
      "before  [1002, 4, 3, 4, 33]\n",
      "(0, 4) 99\n",
      "after  [1002, 4, 3, 4, 99]\n",
      "-----------------------------------\n",
      "4 :  _halt []\n",
      "before  [99]\n",
      "after  [99]\n",
      "-----------------------------------\n"
     ]
    },
    {
     "data": {
      "text/plain": [
       "[1002, 4, 3, 4, 99]"
      ]
     },
     "execution_count": 4,
     "metadata": {},
     "output_type": "execute_result"
    }
   ],
   "source": [
    "# 1002,4,3,4,33: 99 is written to address 4\n",
    "test = [1002,4,3,4,33]\n",
    "\n",
    "ip = intcode(test, take_input=lambda: 123)\n",
    "ip.debug = True\n",
    "ip.run()\n",
    "ip.mem"
   ]
  },
  {
   "cell_type": "code",
   "execution_count": 5,
   "metadata": {},
   "outputs": [
    {
     "name": "stdout",
     "output_type": "stream",
     "text": [
      "0 :  _add [(1, 100), (1, -1), (0, 4)]\n",
      "before  [1101, 100, -1, 4, 0]\n",
      "(0, 4) 99\n",
      "after  [1101, 100, -1, 4, 99]\n",
      "-----------------------------------\n",
      "4 :  _halt []\n",
      "before  [99]\n",
      "after  [99]\n",
      "-----------------------------------\n"
     ]
    },
    {
     "data": {
      "text/plain": [
       "[1101, 100, -1, 4, 99]"
      ]
     },
     "execution_count": 5,
     "metadata": {},
     "output_type": "execute_result"
    }
   ],
   "source": [
    "# 1101,100,-1,4,0\n",
    "test = [1101,100,-1,4,0]\n",
    "\n",
    "ip = intcode(test, take_input=lambda: 123)\n",
    "ip.debug = True\n",
    "ip.run()\n",
    "ip.mem\n"
   ]
  },
  {
   "cell_type": "code",
   "execution_count": 6,
   "metadata": {},
   "outputs": [
    {
     "name": "stdout",
     "output_type": "stream",
     "text": [
      "output: 0\n",
      "output: 0\n",
      "output: 0\n",
      "output: 0\n",
      "output: 0\n",
      "output: 0\n",
      "output: 0\n",
      "output: 0\n",
      "output: 0\n",
      "output: 16225258\n"
     ]
    }
   ],
   "source": [
    "# part 1\n",
    "ip = intcode(mem, take_input=lambda:1)\n",
    "# ip.debug = True\n",
    "ip.run()"
   ]
  },
  {
   "cell_type": "markdown",
   "metadata": {},
   "source": [
    "### part 2\n",
    "### tests\n",
    "For example, here are several programs that take one input, compare it to the value 8, and then produce one output:\n",
    "\n",
    "3,9,8,9,10,9,4,9,99,-1,8 - Using position mode, consider whether the input is equal to 8; output 1 (if it is) or 0 (if it is not).  \n",
    "3,9,7,9,10,9,4,9,99,-1,8 - Using position mode, consider whether the input is less than 8; output 1 (if it is) or 0 (if it is not).  \n",
    "3,3,1108,-1,8,3,4,3,99 - Using immediate mode, consider whether the input is equal to 8; output 1 (if it is) or 0 (if it is not).  \n",
    "3,3,1107,-1,8,3,4,3,99 - Using immediate mode, consider whether the input is less than 8; output 1 (if it is) or 0 (if it is not).  \n",
    "Here are some jump tests that take an input, then output 0 if the input was zero or 1 if the input was non-zero:  \n",
    "\n",
    "3,12,6,12,15,1,13,14,13,4,13,99,-1,0,1,9 (using position mode)  \n",
    "3,3,1105,-1,9,1101,0,0,12,4,12,99,1 (using immediate mode)  \n",
    "Here's a larger example:  \n",
    "\n",
    "3,21,1008,21,8,20,1005,20,22,107,8,21,20,1006,20,31,  \n",
    "1106,0,36,98,0,0,1002,21,125,20,4,20,1105,1,46,104,  \n",
    "999,1105,1,46,1101,1000,1,20,4,20,1105,1,46,98,99  \n",
    "The above example program uses an input instruction to ask for a single number. The program will then output 999 if the input value is below 8, output 1000 if the input value is equal to 8, or output 1001 if the input value is greater than 8."
   ]
  },
  {
   "cell_type": "code",
   "execution_count": 7,
   "metadata": {},
   "outputs": [
    {
     "name": "stdout",
     "output_type": "stream",
     "text": [
      "output: 1\n",
      "output: 0\n"
     ]
    }
   ],
   "source": [
    "# 3,9,8,9,10,9,4,9,99,-1,8 - Using position mode, consider whether the input is equal to 8; output 1 (if it is) or 0 (if it is not)\n",
    "ip = intcode([3,9,8,9,10,9,4,9,99,-1,8], take_input=lambda: 8)\n",
    "ip.run()\n",
    "\n",
    "ip.reset()\n",
    "ip.take_input = lambda: 7\n",
    "ip.run()"
   ]
  },
  {
   "cell_type": "code",
   "execution_count": 8,
   "metadata": {},
   "outputs": [
    {
     "name": "stdout",
     "output_type": "stream",
     "text": [
      "output: 0\n",
      "output: 1\n"
     ]
    }
   ],
   "source": [
    "# 3,9,7,9,10,9,4,9,99,-1,8 - Using position mode, consider whether the input is less than 8; output 1 (if it is) or 0 (if it is not).\n",
    "ip = intcode([3,9,7,9,10,9,4,9,99,-1,8], take_input=lambda: 8)\n",
    "ip.run()\n",
    "\n",
    "ip.reset()\n",
    "ip.take_input = lambda: 7\n",
    "ip.run()"
   ]
  },
  {
   "cell_type": "code",
   "execution_count": 9,
   "metadata": {},
   "outputs": [
    {
     "name": "stdout",
     "output_type": "stream",
     "text": [
      "output: 999\n",
      "output: 1000\n",
      "output: 1001\n"
     ]
    }
   ],
   "source": [
    "# The program will then output 999 if the input value is below 8, \n",
    "# output 1000 if the input value is equal to 8, or output 1001 if the input value is greater than 8.\n",
    "ip = intcode([3,21,1008,21,8,20,1005,20,22,107,8,21,20,1006,20,31,\n",
    "1106,0,36,98,0,0,1002,21,125,20,4,20,1105,1,46,104,\n",
    "999,1105,1,46,1101,1000,1,20,4,20,1105,1,46,98,99])\n",
    "\n",
    "ip.take_input = lambda: 5\n",
    "ip.run()\n",
    "\n",
    "ip.reset()\n",
    "ip.take_input = lambda: 8\n",
    "ip.run()\n",
    "\n",
    "ip.reset()\n",
    "ip.take_input = lambda: 12\n",
    "ip.run()\n",
    "\n"
   ]
  },
  {
   "cell_type": "code",
   "execution_count": 10,
   "metadata": {},
   "outputs": [
    {
     "name": "stdout",
     "output_type": "stream",
     "text": [
      "output: 2808771\n"
     ]
    }
   ],
   "source": [
    "# Part 2: What is the diagnostic code for system ID 5?\n",
    "ip = intcode(mem, take_input=lambda: 5)\n",
    "ip.run()"
   ]
  },
  {
   "cell_type": "code",
   "execution_count": null,
   "metadata": {},
   "outputs": [],
   "source": []
  }
 ],
 "metadata": {
  "kernelspec": {
   "display_name": "Python 3",
   "language": "python",
   "name": "python3"
  },
  "language_info": {
   "codemirror_mode": {
    "name": "ipython",
    "version": 3
   },
   "file_extension": ".py",
   "mimetype": "text/x-python",
   "name": "python",
   "nbconvert_exporter": "python",
   "pygments_lexer": "ipython3",
   "version": "3.7.5"
  }
 },
 "nbformat": 4,
 "nbformat_minor": 2
}
