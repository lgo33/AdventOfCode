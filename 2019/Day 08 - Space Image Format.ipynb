{
 "cells": [
  {
   "cell_type": "code",
   "execution_count": 6,
   "metadata": {},
   "outputs": [],
   "source": [
    "with open('./data/input_08.txt') as fh:\n",
    "    file_input = fh.read().strip()\n",
    "\n",
    "pixels = [int(p) for p in file_input]\n"
   ]
  },
  {
   "cell_type": "code",
   "execution_count": 9,
   "metadata": {},
   "outputs": [],
   "source": [
    "import numpy as np"
   ]
  },
  {
   "cell_type": "code",
   "execution_count": 23,
   "metadata": {},
   "outputs": [
    {
     "data": {
      "text/plain": [
       "(array([[1, 2, 3],\n",
       "        [4, 5, 6]]), array([[7, 8, 9],\n",
       "        [0, 1, 2]]))"
      ]
     },
     "execution_count": 23,
     "metadata": {},
     "output_type": "execute_result"
    }
   ],
   "source": [
    "test = [int(d) for d in '123456789012']\n",
    "test = np.array(test)\n",
    "test = test.reshape((2, 2, 3))\n",
    "test[0, : , :], test[1, :, :]"
   ]
  },
  {
   "cell_type": "code",
   "execution_count": 24,
   "metadata": {},
   "outputs": [],
   "source": [
    "dimx = 25\n",
    "dimy = 6\n",
    "dimz = len(pixels) // (dimx * dimy) \n",
    "\n",
    "pixels = np.array(pixels)\n",
    "pixels = pixels.reshape((dimz, dimy, dimx))\n",
    "zero = pixels == 0"
   ]
  },
  {
   "cell_type": "code",
   "execution_count": 53,
   "metadata": {},
   "outputs": [
    {
     "name": "stdout",
     "output_type": "stream",
     "text": [
      "2125\n"
     ]
    }
   ],
   "source": [
    "# part 1\n",
    "min_layer = np.argmin(zero.sum(axis=-1).sum(axis=-1))\n",
    "num_ones = (pixels[min_layer, :, :] == 1).sum()\n",
    "num_twos = sum(pixels[min_layer, :, :] == 2).sum()\n",
    "print (num_ones * num_twos)"
   ]
  },
  {
   "cell_type": "code",
   "execution_count": 71,
   "metadata": {},
   "outputs": [],
   "source": [
    "image = np.zeros((dimy, dimx))\n",
    "mask = np.zeros((dimy, dimx))\n",
    "mask = mask == 1\n",
    "for i in range(dimz):\n",
    "    this_layer = pixels[i, :, :]\n",
    "    not_translucent = (this_layer != 2)\n",
    "    paint = not_translucent & ~mask\n",
    "    \n",
    "    image[paint] = this_layer[paint]\n",
    "    mask = mask | paint\n",
    "    "
   ]
  },
  {
   "cell_type": "code",
   "execution_count": 73,
   "metadata": {},
   "outputs": [],
   "source": [
    "import matplotlib.pyplot as plt\n",
    "%matplotlib inline"
   ]
  },
  {
   "cell_type": "code",
   "execution_count": 77,
   "metadata": {},
   "outputs": [
    {
     "data": {
      "text/plain": [
       "<matplotlib.image.AxesImage at 0x7fd83514b990>"
      ]
     },
     "execution_count": 77,
     "metadata": {},
     "output_type": "execute_result"
    },
    {
     "data": {
      "image/png": "[encoded data removed]",
      "text/plain": [
       "<Figure size 432x288 with 1 Axes>"
      ]
     },
     "metadata": {
      "needs_background": "light"
     },
     "output_type": "display_data"
    }
   ],
   "source": [
    "plt.imshow(image)"
   ]
  },
  {
   "cell_type": "code",
   "execution_count": null,
   "metadata": {},
   "outputs": [],
   "source": []
  }
 ],
 "metadata": {
  "kernelspec": {
   "display_name": "Python 3",
   "language": "python",
   "name": "python3"
  },
  "language_info": {
   "codemirror_mode": {
    "name": "ipython",
    "version": 3
   },
   "file_extension": ".py",
   "mimetype": "text/x-python",
   "name": "python",
   "nbconvert_exporter": "python",
   "pygments_lexer": "ipython3",
   "version": "3.7.5"
  }
 },
 "nbformat": 4,
 "nbformat_minor": 2
}
