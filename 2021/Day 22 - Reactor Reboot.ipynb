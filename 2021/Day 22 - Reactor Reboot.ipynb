{
 "cells": [
  {
   "cell_type": "code",
   "execution_count": 11,
   "metadata": {},
   "outputs": [],
   "source": [
    "import aocd\n",
    "from aocd.models import Puzzle\n",
    "day = 22\n",
    "year = 2021\n",
    "puzzle = Puzzle(year=year, day=day)\n",
    "# data = aocd.get_data(day=day, year=year)\n",
    "with open('./data/input_{:02d}'.format(day), 'w') as fh:\n",
    "    fh.write(puzzle.input_data)"
   ]
  },
  {
   "cell_type": "code",
   "execution_count": 12,
   "metadata": {},
   "outputs": [],
   "source": [
    "with open('./data/input_{:02d}'.format(22)) as fh:\n",
    "    data = fh.read().splitlines()"
   ]
  },
  {
   "cell_type": "code",
   "execution_count": 13,
   "metadata": {},
   "outputs": [],
   "source": [
    "import numpy as np"
   ]
  },
  {
   "cell_type": "code",
   "execution_count": 14,
   "metadata": {},
   "outputs": [
    {
     "data": {
      "text/plain": [
       "(420,\n",
       " ['on x=-34..11,y=-37..11,z=-1..49',\n",
       "  'on x=-49..4,y=-38..7,z=-24..28',\n",
       "  'on x=-47..0,y=-30..20,z=-45..4',\n",
       "  'on x=-42..4,y=-20..34,z=-35..19',\n",
       "  'on x=-10..36,y=-48..5,z=-25..26',\n",
       "  'on x=-33..13,y=-13..31,z=-35..19',\n",
       "  'on x=-17..37,y=-35..15,z=-36..15',\n",
       "  'on x=-9..42,y=-13..35,z=-25..27',\n",
       "  'on x=-30..14,y=-17..32,z=-12..40',\n",
       "  'on x=-47..-3,y=-9..36,z=-27..26'])"
      ]
     },
     "execution_count": 14,
     "metadata": {},
     "output_type": "execute_result"
    }
   ],
   "source": [
    "# data = puzzle.input_data.splitlines()\n",
    "len(data), data[:10]"
   ]
  },
  {
   "cell_type": "code",
   "execution_count": 15,
   "metadata": {},
   "outputs": [],
   "source": [
    "test_data = \"\"\"on x=10..12,y=10..12,z=10..12\n",
    "on x=11..13,y=11..13,z=11..13\n",
    "off x=9..11,y=9..11,z=9..11\n",
    "on x=10..10,y=10..10,z=10..10\"\"\".splitlines()"
   ]
  },
  {
   "cell_type": "code",
   "execution_count": 387,
   "metadata": {},
   "outputs": [],
   "source": [
    "test_data2 = \"\"\"on x=-20..26,y=-36..17,z=-47..7\n",
    "on x=-20..33,y=-21..23,z=-26..28\n",
    "on x=-22..28,y=-29..23,z=-38..16\n",
    "on x=-46..7,y=-6..46,z=-50..-1\n",
    "on x=-49..1,y=-3..46,z=-24..28\n",
    "on x=2..47,y=-22..22,z=-23..27\n",
    "on x=-27..23,y=-28..26,z=-21..29\n",
    "on x=-39..5,y=-6..47,z=-3..44\n",
    "on x=-30..21,y=-8..43,z=-13..34\n",
    "on x=-22..26,y=-27..20,z=-29..19\n",
    "off x=-48..-32,y=26..41,z=-47..-37\n",
    "on x=-12..35,y=6..50,z=-50..-2\n",
    "off x=-48..-32,y=-32..-16,z=-15..-5\n",
    "on x=-18..26,y=-33..15,z=-7..46\n",
    "off x=-40..-22,y=-38..-28,z=23..41\n",
    "on x=-16..35,y=-41..10,z=-47..6\n",
    "off x=-32..-23,y=11..30,z=-14..3\n",
    "on x=-49..-5,y=-3..45,z=-29..18\n",
    "off x=18..30,y=-20..-8,z=-3..13\n",
    "on x=-41..9,y=-7..43,z=-33..15\n",
    "\"\"\".splitlines()"
   ]
  },
  {
   "cell_type": "code",
   "execution_count": 17,
   "metadata": {},
   "outputs": [],
   "source": [
    "def parse(data):\n",
    "    res = []\n",
    "    for line in data:\n",
    "#         print(line)\n",
    "        state, coords = line.split(' ')\n",
    "        min_max = list(map(lambda y: y.split('..'),map(lambda x: x.split('=')[1], coords.split(',')) ))\n",
    "        min_max = [(int(a), int(b)) for a, b in min_max]\n",
    "        res.append((0 if state =='off' else 1, min_max))\n",
    "    return res\n"
   ]
  },
  {
   "cell_type": "code",
   "execution_count": 608,
   "metadata": {},
   "outputs": [],
   "source": [
    "instructions = parse(data)\n",
    "\n",
    "dim = 101\n",
    "init = np.zeros((dim, dim, dim), dtype=bool)\n",
    "outside = []\n",
    "\n",
    "for state, min_max in instructions:\n",
    "    xt, yt, zt = min_max\n",
    "    if ( xt[0] >= -50 and xt[1] <= 50 and\n",
    "         yt[0] >= -50 and yt[1] <= 50 and\n",
    "         zt[0] >= -50 and zt[1] <= 50):\n",
    "        init[ \n",
    "            xt[0] + 50: xt[1]+51,\n",
    "            yt[0] + 50: yt[1]+51,\n",
    "            zt[0] + 50: zt[1]+51\n",
    "            ] = state\n",
    "    else:\n",
    "        outside.append((state, min_max))"
   ]
  },
  {
   "cell_type": "code",
   "execution_count": 19,
   "metadata": {},
   "outputs": [
    {
     "data": {
      "text/plain": [
       "583641"
      ]
     },
     "execution_count": 19,
     "metadata": {},
     "output_type": "execute_result"
    }
   ],
   "source": [
    "init.sum()"
   ]
  },
  {
   "cell_type": "code",
   "execution_count": null,
   "metadata": {},
   "outputs": [],
   "source": [
    "puzzle.answer_a = init.sum()"
   ]
  },
  {
   "cell_type": "code",
   "execution_count": 20,
   "metadata": {},
   "outputs": [],
   "source": [
    "from collections import defaultdict"
   ]
  },
  {
   "cell_type": "code",
   "execution_count": 21,
   "metadata": {},
   "outputs": [],
   "source": [
    "cnt = len(outside)\n",
    "overlap = defaultdict(list)\n",
    "\n",
    "# cnt=3\n",
    "\n",
    "for i in range(cnt):\n",
    "    istate, imm = outside[i]\n",
    "    ix, iy, iz = imm\n",
    "    imax = [max(limit) for limit in imm]\n",
    "    imin = [min(limit) for limit in imm]\n",
    "    for j in range(i+1, cnt):\n",
    "        jstate, jmm = outside[j]\n",
    "        jx, jy, jz = jmm\n",
    "        jmax = [max(limit) for limit in jmm]\n",
    "        jmin = [min(limit) for limit in jmm]\n",
    "#         print(imax, imin, jmax, jmin)\n",
    "        for n in range(3):\n",
    "            if imax[n] < jmin[n] or imin[n] > jmax[n]:\n",
    "                break\n",
    "        else:\n",
    "            overlap[i].append(j)\n",
    "            overlap[j].append(i)\n",
    "        "
   ]
  },
  {
   "cell_type": "code",
   "execution_count": 22,
   "metadata": {},
   "outputs": [
    {
     "data": {
      "text/plain": [
       "[(1, [(-7767, 8465), (70235, 75043), (-38186, -16627)]),\n",
       " (1, [(-10825, -157), (-49643, -17077), (61077, 93187)]),\n",
       " (1, [(-78491, -65396), (-22023, 4184), (24567, 39917)])]"
      ]
     },
     "execution_count": 22,
     "metadata": {},
     "output_type": "execute_result"
    }
   ],
   "source": [
    "outside[:3]"
   ]
  },
  {
   "cell_type": "code",
   "execution_count": 23,
   "metadata": {},
   "outputs": [
    {
     "data": {
      "text/plain": [
       "399"
      ]
     },
     "execution_count": 23,
     "metadata": {},
     "output_type": "execute_result"
    }
   ],
   "source": [
    "len(overlap)"
   ]
  },
  {
   "cell_type": "code",
   "execution_count": 24,
   "metadata": {},
   "outputs": [],
   "source": [
    "# overlap"
   ]
  },
  {
   "cell_type": "code",
   "execution_count": 25,
   "metadata": {},
   "outputs": [
    {
     "data": {
      "text/plain": [
       "[(51881, 73683), (-56928, -43772), (-23947, -6984)]"
      ]
     },
     "execution_count": 25,
     "metadata": {},
     "output_type": "execute_result"
    }
   ],
   "source": [
    "[(51881, 73683), (-56928, -43772), (-23947, -6984)]"
   ]
  },
  {
   "cell_type": "code",
   "execution_count": 27,
   "metadata": {},
   "outputs": [
    {
     "data": {
      "text/plain": [
       "[75, 154, 214, 326]"
      ]
     },
     "execution_count": 27,
     "metadata": {},
     "output_type": "execute_result"
    }
   ],
   "source": [
    "overlap[0]"
   ]
  },
  {
   "cell_type": "code",
   "execution_count": 28,
   "metadata": {},
   "outputs": [
    {
     "data": {
      "text/plain": [
       "[0, 12, 34, 85, 155, 195, 199, 217, 220]"
      ]
     },
     "execution_count": 28,
     "metadata": {},
     "output_type": "execute_result"
    }
   ],
   "source": [
    "overlap[75]"
   ]
  },
  {
   "cell_type": "code",
   "execution_count": 29,
   "metadata": {},
   "outputs": [
    {
     "data": {
      "text/plain": [
       "[7, 75, 155, 195, 217, 278]"
      ]
     },
     "execution_count": 29,
     "metadata": {},
     "output_type": "execute_result"
    }
   ],
   "source": [
    "overlap[12]"
   ]
  },
  {
   "cell_type": "code",
   "execution_count": 123,
   "metadata": {},
   "outputs": [],
   "source": [
    "test_data3 = \"\"\"on x=-5..47,y=-31..22,z=-19..33\n",
    "on x=-44..5,y=-27..21,z=-14..35\n",
    "on x=-49..-1,y=-11..42,z=-10..38\n",
    "on x=-20..34,y=-40..6,z=-44..1\n",
    "off x=26..39,y=40..50,z=-2..11\n",
    "on x=-41..5,y=-41..6,z=-36..8\n",
    "off x=-43..-33,y=-45..-28,z=7..25\n",
    "on x=-33..15,y=-32..19,z=-34..11\n",
    "off x=35..47,y=-46..-34,z=-11..5\n",
    "on x=-14..36,y=-6..44,z=-16..29\n",
    "on x=-57795..-6158,y=29564..72030,z=20435..90618\n",
    "on x=36731..105352,y=-21140..28532,z=16094..90401\n",
    "on x=30999..107136,y=-53464..15513,z=8553..71215\n",
    "on x=13528..83982,y=-99403..-27377,z=-24141..23996\n",
    "on x=-72682..-12347,y=18159..111354,z=7391..80950\n",
    "on x=-1060..80757,y=-65301..-20884,z=-103788..-16709\n",
    "on x=-83015..-9461,y=-72160..-8347,z=-81239..-26856\n",
    "on x=-52752..22273,y=-49450..9096,z=54442..119054\n",
    "on x=-29982..40483,y=-108474..-28371,z=-24328..38471\n",
    "on x=-4958..62750,y=40422..118853,z=-7672..65583\n",
    "on x=55694..108686,y=-43367..46958,z=-26781..48729\n",
    "on x=-98497..-18186,y=-63569..3412,z=1232..88485\n",
    "on x=-726..56291,y=-62629..13224,z=18033..85226\n",
    "on x=-110886..-34664,y=-81338..-8658,z=8914..63723\n",
    "on x=-55829..24974,y=-16897..54165,z=-121762..-28058\n",
    "on x=-65152..-11147,y=22489..91432,z=-58782..1780\n",
    "on x=-120100..-32970,y=-46592..27473,z=-11695..61039\n",
    "on x=-18631..37533,y=-124565..-50804,z=-35667..28308\n",
    "on x=-57817..18248,y=49321..117703,z=5745..55881\n",
    "on x=14781..98692,y=-1341..70827,z=15753..70151\n",
    "on x=-34419..55919,y=-19626..40991,z=39015..114138\n",
    "on x=-60785..11593,y=-56135..2999,z=-95368..-26915\n",
    "on x=-32178..58085,y=17647..101866,z=-91405..-8878\n",
    "on x=-53655..12091,y=50097..105568,z=-75335..-4862\n",
    "on x=-111166..-40997,y=-71714..2688,z=5609..50954\n",
    "on x=-16602..70118,y=-98693..-44401,z=5197..76897\n",
    "on x=16383..101554,y=4615..83635,z=-44907..18747\n",
    "off x=-95822..-15171,y=-19987..48940,z=10804..104439\n",
    "on x=-89813..-14614,y=16069..88491,z=-3297..45228\n",
    "on x=41075..99376,y=-20427..49978,z=-52012..13762\n",
    "on x=-21330..50085,y=-17944..62733,z=-112280..-30197\n",
    "on x=-16478..35915,y=36008..118594,z=-7885..47086\n",
    "off x=-98156..-27851,y=-49952..43171,z=-99005..-8456\n",
    "off x=2032..69770,y=-71013..4824,z=7471..94418\n",
    "on x=43670..120875,y=-42068..12382,z=-24787..38892\n",
    "off x=37514..111226,y=-45862..25743,z=-16714..54663\n",
    "off x=25699..97951,y=-30668..59918,z=-15349..69697\n",
    "off x=-44271..17935,y=-9516..60759,z=49131..112598\n",
    "on x=-61695..-5813,y=40978..94975,z=8655..80240\n",
    "off x=-101086..-9439,y=-7088..67543,z=33935..83858\n",
    "off x=18020..114017,y=-48931..32606,z=21474..89843\n",
    "off x=-77139..10506,y=-89994..-18797,z=-80..59318\n",
    "off x=8476..79288,y=-75520..11602,z=-96624..-24783\n",
    "on x=-47488..-1262,y=24338..100707,z=16292..72967\n",
    "off x=-84341..13987,y=2429..92914,z=-90671..-1318\n",
    "off x=-37810..49457,y=-71013..-7894,z=-105357..-13188\n",
    "off x=-27365..46395,y=31009..98017,z=15428..76570\n",
    "off x=-70369..-16548,y=22648..78696,z=-1892..86821\n",
    "on x=-53470..21291,y=-120233..-33476,z=-44150..38147\n",
    "off x=-93533..-4276,y=-16170..68771,z=-104985..-24507\"\"\".splitlines()"
   ]
  },
  {
   "cell_type": "code",
   "execution_count": 65,
   "metadata": {},
   "outputs": [],
   "source": [
    "from itertools import combinations, product"
   ]
  },
  {
   "cell_type": "code",
   "execution_count": 653,
   "metadata": {},
   "outputs": [],
   "source": [
    "class Cuboid():\n",
    "    def __init__(self, limits):\n",
    "        self.limits = limits\n",
    "        self.reset()\n",
    "        \n",
    "    def reset(self):\n",
    "        self.imin = [min(limit) for limit in self.limits]\n",
    "        self.imax = [max(limit) for limit in self.limits]\n",
    "        \n",
    "    def __hash__(self):\n",
    "        return hash(tuple(self.limits))\n",
    "        \n",
    "    def overlap(self, other):\n",
    "        for n in range(3):\n",
    "            if self.imax[n] <= other.imin[n] or self.imin[n] >= other.imax[n]:\n",
    "                return False\n",
    "        return True\n",
    "    \n",
    "    def overlap2(self, other):\n",
    "        for n in range(3):\n",
    "            if self.imax[n] < other.imin[n] or self.imin[n] > other.imax[n]:\n",
    "                return False\n",
    "        return True   \n",
    "    \n",
    "    def combine(self, other):\n",
    "        same = 0\n",
    "        dim = 3\n",
    "        for i in range(3):\n",
    "            if self.limits[i] == other.limits[i]:\n",
    "                same += 1\n",
    "                dim -= i\n",
    "        if same == 2:\n",
    "            left_limits = sorted(self.limits[dim] + other.limits[dim])\n",
    "            if left_limits[1] == left_limits[2]:\n",
    "                new_limits = self.limits\n",
    "                new_limits[dim] = (left_limits[0], left_limits[3])\n",
    "                return Cuboid(new_limits)\n",
    "            \n",
    "    def reduce_list(self, res):\n",
    "        while True:\n",
    "            cont = True\n",
    "            for i in range(len(res)):\n",
    "                for j in range(i+1, len(res)):\n",
    "                    combined = res[i].combine(res[j])\n",
    "                    if combined is not None:\n",
    "                        a = res[i]\n",
    "                        b = res[j]\n",
    "                        res.remove(a)\n",
    "                        res.remove(b)\n",
    "                        res.append(combined)\n",
    "                        cont = False\n",
    "                        break\n",
    "                if cont == False:\n",
    "                    break\n",
    "            if cont:\n",
    "                break\n",
    "                \n",
    "        return res\n",
    "        \n",
    "    def volume(self):\n",
    "        vol = 1\n",
    "        for i in range(3):\n",
    "            vol *= self.limits[i][1] - self.limits[i][0] + 1\n",
    "        return vol\n",
    "    \n",
    "    def get_combined_limits(self, other):\n",
    "        new_limits = [[], [], []]\n",
    "        for i in range(3):\n",
    "            new_limits[i].extend(sorted(self.limits[i]+other.limits[i]))\n",
    "        return new_limits\n",
    "    \n",
    "        \n",
    "    def __add__(self, other):\n",
    "        if not self.overlap(other):\n",
    "            return [other]\n",
    "\n",
    "        new_limits = self.get_combined_limits(other)\n",
    "        res = []\n",
    "        for i in range(3):\n",
    "            for j in range(3):\n",
    "                for k in range(3):\n",
    "                    new = Cuboid([\n",
    "                        (new_limits[0][i], new_limits[0][i+1]),\n",
    "                        (new_limits[1][j], new_limits[1][j+1]),\n",
    "                        (new_limits[2][k], new_limits[2][k+1]),\n",
    "                    ])\n",
    "#                     print(new)\n",
    "                    if other.overlap(new) and not self.overlap(new):\n",
    "                        res.append(new)\n",
    "        res = self.reduce_list(res)\n",
    "    \n",
    "        for c in res:\n",
    "            for i in range(3):\n",
    "                if c.limits[i][0] == self.limits[i][1]:\n",
    "#                     print(\"extends\", c.limits[i][0])\n",
    "                    c.limits[i] = (c.limits[i][0]+1, c.limits[i][1])\n",
    "                if c.limits[i][1] == self.limits[i][0]:\n",
    "#                     print(\"cuts\", c.limits[i][0])\n",
    "                    c.limits[i] = (c.limits[i][0], c.limits[i][1]-1)\n",
    "                c.reset()\n",
    "            \n",
    "        return res\n",
    "    \n",
    "    def __sub__(self, other):\n",
    "#         print('sub')\n",
    "        if not self.overlap(other):\n",
    "            return [self]\n",
    "        \n",
    "        new_limits = self.get_combined_limits(other)\n",
    "            \n",
    "        res = []\n",
    "        for i in range(3):\n",
    "            for j in range(3):\n",
    "                for k in range(3):\n",
    "                    new = Cuboid([\n",
    "                        (new_limits[0][i], new_limits[0][i+1]),\n",
    "                        (new_limits[1][j], new_limits[1][j+1]),\n",
    "                        (new_limits[2][k], new_limits[2][k+1]),\n",
    "                    ])\n",
    "                    if self.overlap(new) and not other.overlap(new):\n",
    "                        res.append(new)\n",
    "        res = self.reduce_list(res)\n",
    "        for c in res:\n",
    "            for i in range(3):\n",
    "                if c.limits[i][0] == other.limits[i][1]:\n",
    "#                     print(\"extends\", c.limits[i][0])\n",
    "                    c.limits[i] = (c.limits[i][0]+1, c.limits[i][1])\n",
    "                if c.limits[i][1] == other.limits[i][0]:\n",
    "#                     print(\"cuts\", c.limits[i][0])\n",
    "                    c.limits[i] = (c.limits[i][0], c.limits[i][1]-1)\n",
    "                c.reset()\n",
    "\n",
    "        return res\n",
    "    \n",
    "    def __and__(self, other):\n",
    "        \n",
    "        if not self.overlap(other):\n",
    "            return []\n",
    "        \n",
    "        new_limits = self.get_combined_limits(other)\n",
    "            \n",
    "        res = []\n",
    "        for i in range(3):\n",
    "            for j in range(3):\n",
    "                for k in range(3):\n",
    "                    new = Cuboid([\n",
    "                        (new_limits[0][i], new_limits[0][i+1]),\n",
    "                        (new_limits[1][j], new_limits[1][j+1]),\n",
    "                        (new_limits[2][k], new_limits[2][k+1]),\n",
    "                    ])\n",
    "                    if self.overlap(new) and other.overlap(new):\n",
    "                        res.append(new)\n",
    "\n",
    "        return self.reduce_list(res).pop()\n",
    "\n",
    "        \n",
    "    def __repr__(self):\n",
    "        return str(self.limits)"
   ]
  },
  {
   "cell_type": "code",
   "execution_count": null,
   "metadata": {},
   "outputs": [],
   "source": []
  },
  {
   "cell_type": "code",
   "execution_count": 609,
   "metadata": {
    "tags": []
   },
   "outputs": [
    {
     "name": "stdout",
     "output_type": "stream",
     "text": [
      "CPU times: user 9.36 s, sys: 0 ns, total: 9.36 s\n",
      "Wall time: 9.37 s\n"
     ]
    }
   ],
   "source": [
    "%%time\n",
    "# instructions = parse(test_data3)\n",
    "cuboids = []\n",
    "for state, min_max in outside[:]:\n",
    "    cuboid = Cuboid(min_max)\n",
    "    \n",
    "    if state:\n",
    "        add = [cuboid]\n",
    "        for c in cuboids:\n",
    "            new_add = []\n",
    "            for a in add:\n",
    "                new_add.extend(c+a)\n",
    "            add = new_add\n",
    "        cuboids.extend(add)\n",
    "    \n",
    "    else:\n",
    "        new_cuboids = []\n",
    "        for c in cuboids:\n",
    "            new_cuboids.extend(c-cuboid)\n",
    "        cuboids = new_cuboids\n",
    "#     print(state, min_max)    \n",
    "#     print(sum([c.volume() for c in cuboids]))\n",
    "\n",
    "    \n"
   ]
  },
  {
   "cell_type": "code",
   "execution_count": 627,
   "metadata": {},
   "outputs": [
    {
     "name": "stdout",
     "output_type": "stream",
     "text": [
      "CPU times: user 9.11 s, sys: 0 ns, total: 9.11 s\n",
      "Wall time: 9.11 s\n"
     ]
    }
   ],
   "source": [
    "%%time\n",
    "# instructions = parse(test_data3)\n",
    "cuboids = []\n",
    "for state, min_max in outside[:]:\n",
    "    cuboid = Cuboid(min_max)\n",
    "    \n",
    "    if state:\n",
    "        add = [cuboid]\n",
    "        for c in cuboids:\n",
    "            new_add = []\n",
    "            for a in add:\n",
    "                new_add.extend(c+a)\n",
    "            add = new_add\n",
    "        cuboids.extend(add)\n",
    "    \n",
    "    else:\n",
    "        new_cuboids = []\n",
    "        for c in cuboids:\n",
    "            new_cuboids.extend(c-cuboid)\n",
    "        cuboids = new_cuboids\n",
    "#     print(state, min_max)    \n",
    "#     print(sum([c.volume() for c in cuboids]))\n"
   ]
  },
  {
   "cell_type": "code",
   "execution_count": 631,
   "metadata": {},
   "outputs": [],
   "source": [
    "from collections import Counter"
   ]
  },
  {
   "cell_type": "code",
   "execution_count": 656,
   "metadata": {},
   "outputs": [
    {
     "name": "stdout",
     "output_type": "stream",
     "text": [
      "CPU times: user 19.2 s, sys: 270 ms, total: 19.5 s\n",
      "Wall time: 19.5 s\n"
     ]
    }
   ],
   "source": [
    "%%time\n",
    "instructions = parse(data)\n",
    "\n",
    "cuboids = Counter()\n",
    "for state, min_max in instructions[:]:\n",
    "#     print(state, min_max)\n",
    "    cuboid = Cuboid(min_max)\n",
    "    update = Counter()\n",
    "    for c, s in cuboids.items():\n",
    "#         print(c,s)\n",
    "        if cuboid.overlap(c):\n",
    "            update[cuboid&c] -= s\n",
    "    if state:\n",
    "        update[cuboid] = 1\n",
    "    cuboids.update(update)\n",
    "    \n",
    "    "
   ]
  },
  {
   "cell_type": "code",
   "execution_count": 658,
   "metadata": {},
   "outputs": [
    {
     "data": {
      "text/plain": [
       "1182153534186233"
      ]
     },
     "execution_count": 658,
     "metadata": {},
     "output_type": "execute_result"
    }
   ],
   "source": [
    "sum([c.volume()*s for c, s in cuboids.items()])"
   ]
  },
  {
   "cell_type": "code",
   "execution_count": 645,
   "metadata": {},
   "outputs": [],
   "source": [
    "c = Counter()\n",
    "c[Cuboid([(0, 5), (0, 5), (0, 5)])&Cuboid([(1, 6), (0, 5), (0, 5)])] += 1"
   ]
  },
  {
   "cell_type": "code",
   "execution_count": 618,
   "metadata": {},
   "outputs": [
    {
     "data": {
      "text/plain": [
       "1182153534186233"
      ]
     },
     "execution_count": 618,
     "metadata": {},
     "output_type": "execute_result"
    }
   ],
   "source": [
    "sum([c.volume() for c in cuboids]) + init.sum()"
   ]
  },
  {
   "cell_type": "code",
   "execution_count": 616,
   "metadata": {},
   "outputs": [
    {
     "name": "stdout",
     "output_type": "stream",
     "text": [
      "\u001b[32mThat's the right answer!  You are one gold star closer to finding the sleigh keys.You have completed Day 22! You can [Shareon\n",
      "  Twitter\n",
      "Mastodon] this victory or [Return to Your Advent Calendar].\u001b[0m\n"
     ]
    }
   ],
   "source": [
    "puzzle.answer_b = sum([c.volume() for c in cuboids]) + init.sum()"
   ]
  },
  {
   "cell_type": "code",
   "execution_count": 642,
   "metadata": {},
   "outputs": [
    {
     "data": {
      "text/plain": [
       "__main__.Cuboid"
      ]
     },
     "execution_count": 642,
     "metadata": {},
     "output_type": "execute_result"
    }
   ],
   "source": [
    "type(Cuboid([(0, 5), (0, 5), (0, 5)])&Cuboid([(1, 6), (0, 5), (0, 5)]))"
   ]
  },
  {
   "cell_type": "code",
   "execution_count": 617,
   "metadata": {},
   "outputs": [
    {
     "name": "stdout",
     "output_type": "stream",
     "text": [
      "1182153534186233\n"
     ]
    }
   ],
   "source": [
    "import fileinput, re, collections\n",
    "\n",
    "cubes = collections.Counter()\n",
    "for line in data:\n",
    "    nsgn = 1 if line.split()[0] == \"on\" else -1\n",
    "    nx0, nx1, ny0, ny1, nz0, nz1 = map(int, re.findall(\"-?\\d+\", line))\n",
    "\n",
    "    update = collections.Counter()\n",
    "    for (ex0, ex1, ey0, ey1, ez0, ez1), esgn in cubes.items():\n",
    "        ix0 = max(nx0, ex0); ix1 = min(nx1, ex1)\n",
    "        iy0 = max(ny0, ey0); iy1 = min(ny1, ey1)\n",
    "        iz0 = max(nz0, ez0); iz1 = min(nz1, ez1)\n",
    "        if ix0 <= ix1 and iy0 <= iy1 and iz0 <= iz1:\n",
    "            update[(ix0, ix1, iy0, iy1, iz0, iz1)] -= esgn\n",
    "    if nsgn > 0:\n",
    "        update[(nx0, nx1, ny0, ny1, nz0, nz1)] += nsgn\n",
    "    cubes.update(update)\n",
    "\n",
    "print(sum((x1 - x0 + 1) * (y1 - y0 + 1) * (z1 - z0 + 1) * sgn\n",
    "          for (x0, x1, y0, y1, z0, z1), sgn in cubes.items()))"
   ]
  },
  {
   "cell_type": "code",
   "execution_count": null,
   "metadata": {},
   "outputs": [],
   "source": []
  }
 ],
 "metadata": {
  "kernelspec": {
   "display_name": "Python 3",
   "language": "python",
   "name": "python3"
  },
  "language_info": {
   "codemirror_mode": {
    "name": "ipython",
    "version": 3
   },
   "file_extension": ".py",
   "mimetype": "text/x-python",
   "name": "python",
   "nbconvert_exporter": "python",
   "pygments_lexer": "ipython3",
   "version": "3.7.3"
  }
 },
 "nbformat": 4,
 "nbformat_minor": 4
}
