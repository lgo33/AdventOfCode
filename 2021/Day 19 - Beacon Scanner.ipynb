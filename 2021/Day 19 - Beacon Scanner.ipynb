{
 "cells": [
  {
   "cell_type": "code",
   "execution_count": 13,
   "metadata": {},
   "outputs": [],
   "source": [
    "import aocd\n",
    "from aocd.models import Puzzle\n",
    "day = 19\n",
    "year = 2021\n",
    "puzzle = Puzzle(year=year, day=day)\n",
    "# data = aocd.get_data(day=day, year=year)\n",
    "with open('./data/input_{:02d}'.format(day), 'w') as fh:\n",
    "    fh.write(puzzle.input_data)"
   ]
  },
  {
   "cell_type": "code",
   "execution_count": 258,
   "metadata": {},
   "outputs": [],
   "source": [
    "import re\n",
    "import numpy as np\n",
    "from collections import defaultdict\n",
    "from functools import lru_cache"
   ]
  },
  {
   "cell_type": "code",
   "execution_count": 15,
   "metadata": {},
   "outputs": [
    {
     "data": {
      "text/plain": [
       "(1061,\n",
       " ['--- scanner 0 ---',\n",
       "  '615,499,683',\n",
       "  '-748,-781,588',\n",
       "  '392,-638,-524',\n",
       "  '-453,892,-689',\n",
       "  '-127,159,-103',\n",
       "  '-782,-721,695',\n",
       "  '793,523,765',\n",
       "  '558,953,-776',\n",
       "  '-960,-476,-523'])"
      ]
     },
     "execution_count": 15,
     "metadata": {},
     "output_type": "execute_result"
    }
   ],
   "source": [
    "data = puzzle.input_data.splitlines()\n",
    "len(data), data[:10]"
   ]
  },
  {
   "cell_type": "code",
   "execution_count": 16,
   "metadata": {},
   "outputs": [],
   "source": [
    "test_data = \"\"\"--- scanner 0 ---\n",
    "0,2\n",
    "4,1\n",
    "3,3\n",
    "\n",
    "--- scanner 1 ---\n",
    "-1,-1\n",
    "-5,0\n",
    "-2,1\"\"\".splitlines()"
   ]
  },
  {
   "cell_type": "code",
   "execution_count": 83,
   "metadata": {},
   "outputs": [],
   "source": [
    "test_data2 = \"\"\"--- scanner 0 ---\n",
    "-1,-1,1\n",
    "-2,-2,2\n",
    "-3,-3,3\n",
    "-2,-3,1\n",
    "5,6,-4\n",
    "8,0,7\"\"\".splitlines()"
   ]
  },
  {
   "cell_type": "code",
   "execution_count": 143,
   "metadata": {},
   "outputs": [],
   "source": [
    "test_data3 = \"\"\"--- scanner 0 ---\n",
    "404,-588,-901\n",
    "528,-643,409\n",
    "-838,591,734\n",
    "390,-675,-793\n",
    "-537,-823,-458\n",
    "-485,-357,347\n",
    "-345,-311,381\n",
    "-661,-816,-575\n",
    "-876,649,763\n",
    "-618,-824,-621\n",
    "553,345,-567\n",
    "474,580,667\n",
    "-447,-329,318\n",
    "-584,868,-557\n",
    "544,-627,-890\n",
    "564,392,-477\n",
    "455,729,728\n",
    "-892,524,684\n",
    "-689,845,-530\n",
    "423,-701,434\n",
    "7,-33,-71\n",
    "630,319,-379\n",
    "443,580,662\n",
    "-789,900,-551\n",
    "459,-707,401\n",
    "\n",
    "--- scanner 1 ---\n",
    "686,422,578\n",
    "605,423,415\n",
    "515,917,-361\n",
    "-336,658,858\n",
    "95,138,22\n",
    "-476,619,847\n",
    "-340,-569,-846\n",
    "567,-361,727\n",
    "-460,603,-452\n",
    "669,-402,600\n",
    "729,430,532\n",
    "-500,-761,534\n",
    "-322,571,750\n",
    "-466,-666,-811\n",
    "-429,-592,574\n",
    "-355,545,-477\n",
    "703,-491,-529\n",
    "-328,-685,520\n",
    "413,935,-424\n",
    "-391,539,-444\n",
    "586,-435,557\n",
    "-364,-763,-893\n",
    "807,-499,-711\n",
    "755,-354,-619\n",
    "553,889,-390\n",
    "\n",
    "--- scanner 2 ---\n",
    "649,640,665\n",
    "682,-795,504\n",
    "-784,533,-524\n",
    "-644,584,-595\n",
    "-588,-843,648\n",
    "-30,6,44\n",
    "-674,560,763\n",
    "500,723,-460\n",
    "609,671,-379\n",
    "-555,-800,653\n",
    "-675,-892,-343\n",
    "697,-426,-610\n",
    "578,704,681\n",
    "493,664,-388\n",
    "-671,-858,530\n",
    "-667,343,800\n",
    "571,-461,-707\n",
    "-138,-166,112\n",
    "-889,563,-600\n",
    "646,-828,498\n",
    "640,759,510\n",
    "-630,509,768\n",
    "-681,-892,-333\n",
    "673,-379,-804\n",
    "-742,-814,-386\n",
    "577,-820,562\n",
    "\n",
    "--- scanner 3 ---\n",
    "-589,542,597\n",
    "605,-692,669\n",
    "-500,565,-823\n",
    "-660,373,557\n",
    "-458,-679,-417\n",
    "-488,449,543\n",
    "-626,468,-788\n",
    "338,-750,-386\n",
    "528,-832,-391\n",
    "562,-778,733\n",
    "-938,-730,414\n",
    "543,643,-506\n",
    "-524,371,-870\n",
    "407,773,750\n",
    "-104,29,83\n",
    "378,-903,-323\n",
    "-778,-728,485\n",
    "426,699,580\n",
    "-438,-605,-362\n",
    "-469,-447,-387\n",
    "509,732,623\n",
    "647,635,-688\n",
    "-868,-804,481\n",
    "614,-800,639\n",
    "595,780,-596\n",
    "\n",
    "--- scanner 4 ---\n",
    "727,592,562\n",
    "-293,-554,779\n",
    "441,611,-461\n",
    "-714,465,-776\n",
    "-743,427,-804\n",
    "-660,-479,-426\n",
    "832,-632,460\n",
    "927,-485,-438\n",
    "408,393,-506\n",
    "466,436,-512\n",
    "110,16,151\n",
    "-258,-428,682\n",
    "-393,719,612\n",
    "-211,-452,876\n",
    "808,-476,-593\n",
    "-575,615,604\n",
    "-485,667,467\n",
    "-680,325,-822\n",
    "-627,-443,-432\n",
    "872,-547,-609\n",
    "833,512,582\n",
    "807,604,487\n",
    "839,-516,451\n",
    "891,-625,532\n",
    "-652,-548,-490\n",
    "30,-46,-14\"\"\".splitlines()"
   ]
  },
  {
   "cell_type": "code",
   "execution_count": 330,
   "metadata": {
    "tags": []
   },
   "outputs": [],
   "source": [
    "def parse(data):\n",
    "    scanners = {}\n",
    "    cur = None\n",
    "    beacons = []\n",
    "    for line in data:\n",
    "        if line == '':\n",
    "            continue\n",
    "        if 'scanner' in line:\n",
    "            if cur is not None:\n",
    "                scanners[cur] = np.array(beacons)\n",
    "            cur = int(re.sub('[^0-9]', '', line))\n",
    "            beacons = []\n",
    "        else:\n",
    "            beacons.append(list(map(int, line.strip().split(','))))\n",
    "    scanners[cur] = np.array(beacons)\n",
    "    return scanners\n",
    "\n",
    "def overlap(scannerA, scannerB, minimum=3):\n",
    "    beaconsA = set(tuple(p) for p in scannerA)\n",
    "#     print(beaconsA)\n",
    "    for beacon in scannerB[:-minimum+1]:\n",
    "        deltas = scannerA - beacon\n",
    "        for d in deltas:\n",
    "            match = set(tuple(t) for t in  (scannerB + d))\n",
    "#             print(match)\n",
    "#             ovlp = len(match&beaconsA)\n",
    "#             if ovlp:\n",
    "#                 print(ovlp)\n",
    "            if (len(match&beaconsA) >= minimum):\n",
    "                return d\n",
    "    return None\n",
    "\n",
    "@lru_cache(maxsize=None)\n",
    "def get_orientations_cached(idx):\n",
    "    beacons = scanners[idx]\n",
    "    orientations = [\n",
    "        (None, (1, 1, 1)),\n",
    "        (None, (-1, 1, -1)),\n",
    "        ((0, 2), (-1, 1, 1)),\n",
    "        ((0, 2), (1, 1, -1)),\n",
    "        ((1, 2), (1, -1, 1)),\n",
    "        ((1, 2), (1, 1, -1)),\n",
    "    ]\n",
    "    \n",
    "    for j in range(6):\n",
    "        new_beacons = beacons.copy()\n",
    "        swap, mult = orientations[j]\n",
    "        if swap is not None:\n",
    "            a, b = swap\n",
    "            new_beacons[:, [a, b]] = new_beacons[:, [b, a]]\n",
    "        new_beacons *= mult\n",
    "        for i in range(4):\n",
    "            new_beacons[:, [0, 1]] = new_beacons[:, [1, 0]]\n",
    "            new_beacons *= [-1, 1, 1]\n",
    "            yield new_beacons, orientations[j], i\n",
    "\n",
    "def get_orientations(beacons):\n",
    "    orientations = [\n",
    "        (None, (1, 1, 1)),\n",
    "        (None, (-1, 1, -1)),\n",
    "        ((0, 2), (-1, 1, 1)),\n",
    "        ((0, 2), (1, 1, -1)),\n",
    "        ((1, 2), (1, -1, 1)),\n",
    "        ((1, 2), (1, 1, -1)),\n",
    "    ]\n",
    "    \n",
    "    for j in range(6):\n",
    "        new_beacons = beacons.copy()\n",
    "        swap, mult = orientations[j]\n",
    "        if swap is not None:\n",
    "            a, b = swap\n",
    "            new_beacons[:, [a, b]] = new_beacons[:, [b, a]]\n",
    "        new_beacons *= mult\n",
    "        for i in range(4):\n",
    "            new_beacons[:, [0, 1]] = new_beacons[:, [1, 0]]\n",
    "            new_beacons *= [-1, 1, 1]\n",
    "            yield new_beacons, orientations[j], i\n",
    "            \n",
    "            \n",
    "def get_distances(beacons):\n",
    "    dist = []\n",
    "    for i in range(1, len(beacons)//2 + (len(beacons)%2)+1):\n",
    "#         print(i)\n",
    "        diff = beacons - np.roll(beacons, i, axis=0)\n",
    "        dist.extend(np.sum(np.square(diff), axis=1).tolist())\n",
    "    return sorted(dist)\n",
    "\n",
    "def intersection(lst1, lst2):\n",
    "    lst3 = [value for value in lst1 if value in lst2]\n",
    "    return lst3\n",
    "        \n",
    "        "
   ]
  },
  {
   "cell_type": "code",
   "execution_count": 305,
   "metadata": {},
   "outputs": [],
   "source": [
    "scanners = parse(test_data)"
   ]
  },
  {
   "cell_type": "code",
   "execution_count": 306,
   "metadata": {},
   "outputs": [
    {
     "data": {
      "text/plain": [
       "array([5, 2])"
      ]
     },
     "execution_count": 306,
     "metadata": {},
     "output_type": "execute_result"
    }
   ],
   "source": [
    "overlap(scanners[0], scanners[1])"
   ]
  },
  {
   "cell_type": "code",
   "execution_count": 307,
   "metadata": {
    "collapsed": true,
    "jupyter": {
     "outputs_hidden": true
    },
    "tags": []
   },
   "outputs": [
    {
     "name": "stdout",
     "output_type": "stream",
     "text": [
      "[[-1 -1  1]\n",
      " [-2 -2  2]\n",
      " [-3 -3  3]\n",
      " [-2 -3  1]\n",
      " [ 5  6 -4]\n",
      " [ 8  0  7]]\n",
      "(array([[ 1, -1,  1],\n",
      "       [ 2, -2,  2],\n",
      "       [ 3, -3,  3],\n",
      "       [ 3, -2,  1],\n",
      "       [-6,  5, -4],\n",
      "       [ 0,  8,  7]]), (None, (1, 1, 1)), 0)\n",
      "(array([[ 1,  1,  1],\n",
      "       [ 2,  2,  2],\n",
      "       [ 3,  3,  3],\n",
      "       [ 2,  3,  1],\n",
      "       [-5, -6, -4],\n",
      "       [-8,  0,  7]]), (None, (1, 1, 1)), 1)\n",
      "(array([[-1,  1,  1],\n",
      "       [-2,  2,  2],\n",
      "       [-3,  3,  3],\n",
      "       [-3,  2,  1],\n",
      "       [ 6, -5, -4],\n",
      "       [ 0, -8,  7]]), (None, (1, 1, 1)), 2)\n",
      "(array([[-1, -1,  1],\n",
      "       [-2, -2,  2],\n",
      "       [-3, -3,  3],\n",
      "       [-2, -3,  1],\n",
      "       [ 5,  6, -4],\n",
      "       [ 8,  0,  7]]), (None, (1, 1, 1)), 3)\n",
      "(array([[ 1,  1, -1],\n",
      "       [ 2,  2, -2],\n",
      "       [ 3,  3, -3],\n",
      "       [ 3,  2, -1],\n",
      "       [-6, -5,  4],\n",
      "       [ 0, -8, -7]]), (None, (-1, 1, -1)), 0)\n",
      "(array([[-1,  1, -1],\n",
      "       [-2,  2, -2],\n",
      "       [-3,  3, -3],\n",
      "       [-2,  3, -1],\n",
      "       [ 5, -6,  4],\n",
      "       [ 8,  0, -7]]), (None, (-1, 1, -1)), 1)\n",
      "(array([[-1, -1, -1],\n",
      "       [-2, -2, -2],\n",
      "       [-3, -3, -3],\n",
      "       [-3, -2, -1],\n",
      "       [ 6,  5,  4],\n",
      "       [ 0,  8, -7]]), (None, (-1, 1, -1)), 2)\n",
      "(array([[ 1, -1, -1],\n",
      "       [ 2, -2, -2],\n",
      "       [ 3, -3, -3],\n",
      "       [ 2, -3, -1],\n",
      "       [-5,  6,  4],\n",
      "       [-8,  0, -7]]), (None, (-1, 1, -1)), 3)\n",
      "(array([[ 1, -1, -1],\n",
      "       [ 2, -2, -2],\n",
      "       [ 3, -3, -3],\n",
      "       [ 3, -1, -2],\n",
      "       [-6,  4,  5],\n",
      "       [ 0, -7,  8]]), ((0, 2), (-1, 1, 1)), 0)\n",
      "(array([[ 1,  1, -1],\n",
      "       [ 2,  2, -2],\n",
      "       [ 3,  3, -3],\n",
      "       [ 1,  3, -2],\n",
      "       [-4, -6,  5],\n",
      "       [ 7,  0,  8]]), ((0, 2), (-1, 1, 1)), 1)\n",
      "(array([[-1,  1, -1],\n",
      "       [-2,  2, -2],\n",
      "       [-3,  3, -3],\n",
      "       [-3,  1, -2],\n",
      "       [ 6, -4,  5],\n",
      "       [ 0,  7,  8]]), ((0, 2), (-1, 1, 1)), 2)\n",
      "(array([[-1, -1, -1],\n",
      "       [-2, -2, -2],\n",
      "       [-3, -3, -3],\n",
      "       [-1, -3, -2],\n",
      "       [ 4,  6,  5],\n",
      "       [-7,  0,  8]]), ((0, 2), (-1, 1, 1)), 3)\n",
      "(array([[ 1,  1,  1],\n",
      "       [ 2,  2,  2],\n",
      "       [ 3,  3,  3],\n",
      "       [ 3,  1,  2],\n",
      "       [-6, -4, -5],\n",
      "       [ 0,  7, -8]]), ((0, 2), (1, 1, -1)), 0)\n",
      "(array([[-1,  1,  1],\n",
      "       [-2,  2,  2],\n",
      "       [-3,  3,  3],\n",
      "       [-1,  3,  2],\n",
      "       [ 4, -6, -5],\n",
      "       [-7,  0, -8]]), ((0, 2), (1, 1, -1)), 1)\n",
      "(array([[-1, -1,  1],\n",
      "       [-2, -2,  2],\n",
      "       [-3, -3,  3],\n",
      "       [-3, -1,  2],\n",
      "       [ 6,  4, -5],\n",
      "       [ 0, -7, -8]]), ((0, 2), (1, 1, -1)), 2)\n",
      "(array([[ 1, -1,  1],\n",
      "       [ 2, -2,  2],\n",
      "       [ 3, -3,  3],\n",
      "       [ 1, -3,  2],\n",
      "       [-4,  6, -5],\n",
      "       [ 7,  0, -8]]), ((0, 2), (1, 1, -1)), 3)\n",
      "(array([[ 1, -1, -1],\n",
      "       [ 2, -2, -2],\n",
      "       [ 3, -3, -3],\n",
      "       [ 1, -2, -3],\n",
      "       [-4,  5,  6],\n",
      "       [ 7,  8,  0]]), ((1, 2), (1, -1, 1)), 0)\n",
      "(array([[ 1,  1, -1],\n",
      "       [ 2,  2, -2],\n",
      "       [ 3,  3, -3],\n",
      "       [ 2,  1, -3],\n",
      "       [-5, -4,  6],\n",
      "       [-8,  7,  0]]), ((1, 2), (1, -1, 1)), 1)\n",
      "(array([[-1,  1, -1],\n",
      "       [-2,  2, -2],\n",
      "       [-3,  3, -3],\n",
      "       [-1,  2, -3],\n",
      "       [ 4, -5,  6],\n",
      "       [-7, -8,  0]]), ((1, 2), (1, -1, 1)), 2)\n",
      "(array([[-1, -1, -1],\n",
      "       [-2, -2, -2],\n",
      "       [-3, -3, -3],\n",
      "       [-2, -1, -3],\n",
      "       [ 5,  4,  6],\n",
      "       [ 8, -7,  0]]), ((1, 2), (1, -1, 1)), 3)\n",
      "(array([[-1, -1,  1],\n",
      "       [-2, -2,  2],\n",
      "       [-3, -3,  3],\n",
      "       [-1, -2,  3],\n",
      "       [ 4,  5, -6],\n",
      "       [-7,  8,  0]]), ((1, 2), (1, 1, -1)), 0)\n",
      "(array([[ 1, -1,  1],\n",
      "       [ 2, -2,  2],\n",
      "       [ 3, -3,  3],\n",
      "       [ 2, -1,  3],\n",
      "       [-5,  4, -6],\n",
      "       [-8, -7,  0]]), ((1, 2), (1, 1, -1)), 1)\n",
      "(array([[ 1,  1,  1],\n",
      "       [ 2,  2,  2],\n",
      "       [ 3,  3,  3],\n",
      "       [ 1,  2,  3],\n",
      "       [-4, -5, -6],\n",
      "       [ 7, -8,  0]]), ((1, 2), (1, 1, -1)), 2)\n",
      "(array([[-1,  1,  1],\n",
      "       [-2,  2,  2],\n",
      "       [-3,  3,  3],\n",
      "       [-2,  1,  3],\n",
      "       [ 5, -4, -6],\n",
      "       [ 8,  7,  0]]), ((1, 2), (1, 1, -1)), 3)\n"
     ]
    }
   ],
   "source": [
    "scanners = parse(test_data2)\n",
    "print(scanners[0])\n",
    "for beacon in get_orientations(scanners[0]):\n",
    "    print(beacon)\n"
   ]
  },
  {
   "cell_type": "code",
   "execution_count": 325,
   "metadata": {},
   "outputs": [
    {
     "data": {
      "text/plain": [
       "array([[-1, -1,  1],\n",
       "       [-2, -2,  2],\n",
       "       [-3, -3,  3],\n",
       "       [-2, -3,  1],\n",
       "       [ 5,  6, -4],\n",
       "       [ 8,  0,  7]])"
      ]
     },
     "execution_count": 325,
     "metadata": {},
     "output_type": "execute_result"
    }
   ],
   "source": [
    "scanners[0]"
   ]
  },
  {
   "cell_type": "code",
   "execution_count": 250,
   "metadata": {},
   "outputs": [
    {
     "name": "stdout",
     "output_type": "stream",
     "text": [
      "CPU times: user 1.2 s, sys: 3 µs, total: 1.2 s\n",
      "Wall time: 1.2 s\n"
     ]
    }
   ],
   "source": [
    "%%time\n",
    "nmatch = 12\n",
    "scanners = parse(test_data3)\n",
    "idx = list(scanners.keys())\n",
    "nscanners = len(idx)\n",
    "nscanners = 2\n",
    "translations = {}\n",
    "\n",
    "for i in range(nscanners):\n",
    "    for j in range(i+1, nscanners):\n",
    "        for rotated, orientation, numrot in get_orientations(scanners[j]):\n",
    "#             print(i, j)\n",
    "            delta = overlap(scanners[i], rotated, minimum=nmatch)\n",
    "            if delta is not None:\n",
    "                translations[(i, j)] = (delta, orientation, numrot)\n",
    "                "
   ]
  },
  {
   "cell_type": "code",
   "execution_count": 251,
   "metadata": {},
   "outputs": [
    {
     "data": {
      "text/plain": [
       "{(0, 1): (array([   68, -1246,   -43]), (None, (-1, 1, -1)), 3)}"
      ]
     },
     "execution_count": 251,
     "metadata": {},
     "output_type": "execute_result"
    }
   ],
   "source": [
    "translations"
   ]
  },
  {
   "cell_type": "code",
   "execution_count": 339,
   "metadata": {},
   "outputs": [
    {
     "name": "stdout",
     "output_type": "stream",
     "text": [
      "CPU times: user 63.7 ms, sys: 11.4 ms, total: 75.2 ms\n",
      "Wall time: 60.9 ms\n"
     ]
    }
   ],
   "source": [
    "%%time\n",
    "scanners = parse(data)\n",
    "\n",
    "distances = {}\n",
    "for key in scanners:\n",
    "    distances[key] = get_distances(scanners[key])"
   ]
  },
  {
   "cell_type": "code",
   "execution_count": 341,
   "metadata": {
    "tags": []
   },
   "outputs": [
    {
     "name": "stdout",
     "output_type": "stream",
     "text": [
      "1 1\n",
      "2 2\n",
      "adding 2\n",
      "3 3\n",
      "4 4\n",
      "5 5\n",
      "6 6\n",
      "7 7\n",
      "adding 7\n",
      "8 8\n",
      "adding 8\n",
      "9 9\n",
      "adding 9\n",
      "10 10\n",
      "11 11\n",
      "adding 11\n",
      "12 12\n",
      "13 13\n",
      "14 14\n",
      "15 15\n",
      "adding 15\n",
      "16 16\n",
      "adding 16\n",
      "17 17\n",
      "18 18\n",
      "adding 18\n",
      "19 19\n",
      "20 20\n",
      "21 21\n",
      "adding 21\n",
      "22 22\n",
      "23 23\n",
      "adding 23\n",
      "24 24\n",
      "25 25\n",
      "26 26\n",
      "adding 26\n",
      "27 27\n",
      "adding 27\n",
      "28 28\n",
      "29 29\n",
      "adding 29\n",
      "30 30\n",
      "adding 30\n",
      "31 31\n",
      "adding 31\n",
      "32 32\n",
      "adding 32\n",
      "33 33\n",
      "34 34\n",
      "35 35\n",
      "adding 35\n",
      "36 36\n",
      "37 37\n",
      "1 1\n",
      "3 3\n",
      "adding 3\n",
      "4 4\n",
      "5 5\n",
      "adding 5\n",
      "6 6\n",
      "10 10\n",
      "adding 10\n",
      "12 12\n",
      "adding 12\n",
      "13 13\n",
      "14 14\n",
      "17 17\n",
      "adding 17\n",
      "19 19\n",
      "adding 19\n",
      "20 20\n",
      "22 22\n",
      "adding 22\n",
      "24 24\n",
      "adding 24\n",
      "25 25\n",
      "adding 25\n",
      "28 28\n",
      "adding 28\n",
      "33 33\n",
      "adding 33\n",
      "34 34\n",
      "36 36\n",
      "adding 36\n",
      "37 37\n",
      "adding 37\n",
      "1 1\n",
      "adding 1\n",
      "4 4\n",
      "6 6\n",
      "adding 6\n",
      "13 13\n",
      "adding 13\n",
      "14 14\n",
      "20 20\n",
      "adding 20\n",
      "34 34\n",
      "4 4\n",
      "adding 4\n",
      "14 14\n",
      "adding 14\n",
      "34 34\n",
      "adding 34\n",
      "CPU times: user 2min 10s, sys: 87.8 ms, total: 2min 10s\n",
      "Wall time: 2min 10s\n"
     ]
    }
   ],
   "source": [
    "%%time\n",
    "nmatch = 12\n",
    "# scanners = parse(test_data3)\n",
    "scanners = parse(data)\n",
    "translations = {}\n",
    "checked = defaultdict(int)\n",
    "rotations = defaultdict(list)\n",
    "\n",
    "distances = {}\n",
    "for key in scanners:\n",
    "    distances[key] = get_distances(scanners[key])\n",
    "    \n",
    "added = []\n",
    "\n",
    "while True:\n",
    "    idx = sorted(list(scanners.keys()))\n",
    "    nscanners = len(idx)\n",
    "    if nscanners <= 1:\n",
    "        break\n",
    "    \n",
    "#     print(idx)\n",
    "    for j in idx[1:]:\n",
    "        index = j\n",
    "        print(j, index)\n",
    "        if len(intersection(distances[0], distances[index])) < nmatch:\n",
    "            continue\n",
    "    \n",
    "        if len(rotations[index]):\n",
    "            \n",
    "            for rotated in rotations[index]:\n",
    "                delta = overlap(scanners[0], rotated, minimum=nmatch)\n",
    "                if delta is not None:\n",
    "                    translations[(i, index)] = (delta, orientation, numrot)\n",
    "                    print(\"adding {}\".format(index))\n",
    "                    tmp = np.vstack([scanners[0], rotated+delta])\n",
    "                    _, indexes = np.unique(tmp, axis=0, return_index=True)\n",
    "                    scanners[0] = tmp[np.sort(indexes)]\n",
    "                    distances[0] = sorted(distances[0] + distances[index])\n",
    "                    scanners.pop(index)\n",
    "                    break\n",
    "        else:\n",
    "            for rotated, orientation, numrot in get_orientations(scanners[index]):\n",
    "                rotations[index].append(rotated.copy())\n",
    "    #             print(i, j)\n",
    "                delta = overlap(scanners[0], rotated, minimum=nmatch)\n",
    "                if delta is not None:\n",
    "                    translations[(i, index)] = (delta, orientation, numrot)\n",
    "                    print(\"adding {}\".format(index))\n",
    "                    tmp = np.vstack([scanners[0], rotated+delta])\n",
    "                    _, indexes = np.unique(tmp, axis=0, return_index=True)\n",
    "                    scanners[0] = tmp[np.sort(indexes)]\n",
    "                    distances[0] = sorted(distances[0] + distances[index])\n",
    "                    scanners.pop(index)\n",
    "                    break\n",
    "        checked[index] = len(scanners[0])"
   ]
  },
  {
   "cell_type": "code",
   "execution_count": 342,
   "metadata": {},
   "outputs": [
    {
     "data": {
      "text/plain": [
       "491"
      ]
     },
     "execution_count": 342,
     "metadata": {},
     "output_type": "execute_result"
    }
   ],
   "source": [
    "len(scanners[0])"
   ]
  },
  {
   "cell_type": "code",
   "execution_count": 233,
   "metadata": {},
   "outputs": [
    {
     "name": "stdout",
     "output_type": "stream",
     "text": [
      "\u001b[32mThat's the right answer!  You are one gold star closer to finding the sleigh keys. [Continue to Part Two]\u001b[0m\n"
     ]
    }
   ],
   "source": [
    "puzzle.answer_a = len(scanners[0])"
   ]
  },
  {
   "cell_type": "code",
   "execution_count": 236,
   "metadata": {},
   "outputs": [],
   "source": [
    "points = [val[0] for k, val in translations.items()]"
   ]
  },
  {
   "cell_type": "code",
   "execution_count": 238,
   "metadata": {},
   "outputs": [],
   "source": [
    "maxdist = 0\n",
    "npoints = len(points)\n",
    "for i in range(npoints):\n",
    "    for j in range(i+1, npoints):\n",
    "        dist = np.sum(np.abs(points[j] - points[i]))\n",
    "        if dist > maxdist:\n",
    "            maxdist = dist"
   ]
  },
  {
   "cell_type": "code",
   "execution_count": 240,
   "metadata": {},
   "outputs": [
    {
     "name": "stdout",
     "output_type": "stream",
     "text": [
      "\u001b[32mThat's the right answer!  You are one gold star closer to finding the sleigh keys.You have completed Day 19! You can [Shareon\n",
      "  Twitter\n",
      "Mastodon] this victory or [Return to Your Advent Calendar].\u001b[0m\n"
     ]
    }
   ],
   "source": [
    "puzzle.answer_b = maxdist"
   ]
  },
  {
   "cell_type": "code",
   "execution_count": 268,
   "metadata": {},
   "outputs": [
    {
     "data": {
      "text/plain": [
       "[0, 1, 2, 3, 4, 5, 6, 7, 8]"
      ]
     },
     "execution_count": 268,
     "metadata": {},
     "output_type": "execute_result"
    }
   ],
   "source": [
    "list(range(20))[:-12+1]"
   ]
  },
  {
   "cell_type": "code",
   "execution_count": 267,
   "metadata": {},
   "outputs": [
    {
     "data": {
      "text/plain": [
       "[0, 1, 2, 3, 4, 5, 6, 7, 8, 9, 10, 11, 12, 13, 14, 15, 16, 17, 18, 19]"
      ]
     },
     "execution_count": 267,
     "metadata": {},
     "output_type": "execute_result"
    }
   ],
   "source": [
    "list(range(20))"
   ]
  },
  {
   "cell_type": "code",
   "execution_count": 303,
   "metadata": {},
   "outputs": [
    {
     "data": {
      "text/plain": [
       "array([118,   3,   3,   5, 155, 166])"
      ]
     },
     "execution_count": 303,
     "metadata": {},
     "output_type": "execute_result"
    }
   ],
   "source": [
    "diff = beacon - np.roll(beacon, 1, axis=0)\n",
    "np.sum(np.square(diff), axis=1)\n"
   ]
  },
  {
   "cell_type": "code",
   "execution_count": 302,
   "metadata": {},
   "outputs": [
    {
     "data": {
      "text/plain": [
       "array([[-9, -6,  1],\n",
       "       [-1,  1,  1],\n",
       "       [-1,  1,  1],\n",
       "       [ 1, -2,  0],\n",
       "       [ 7, -5, -9],\n",
       "       [ 3, 11,  6]])"
      ]
     },
     "execution_count": 302,
     "metadata": {},
     "output_type": "execute_result"
    }
   ],
   "source": [
    "beacon - np.roll(beacon, 1, axis=0)"
   ]
  },
  {
   "cell_type": "code",
   "execution_count": null,
   "metadata": {},
   "outputs": [],
   "source": []
  }
 ],
 "metadata": {
  "kernelspec": {
   "display_name": "Python 3",
   "language": "python",
   "name": "python3"
  },
  "language_info": {
   "codemirror_mode": {
    "name": "ipython",
    "version": 3
   },
   "file_extension": ".py",
   "mimetype": "text/x-python",
   "name": "python",
   "nbconvert_exporter": "python",
   "pygments_lexer": "ipython3",
   "version": "3.7.3"
  }
 },
 "nbformat": 4,
 "nbformat_minor": 4
}
