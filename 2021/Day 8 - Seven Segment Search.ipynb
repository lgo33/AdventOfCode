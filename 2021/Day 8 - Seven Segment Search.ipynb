{
 "cells": [
  {
   "cell_type": "code",
   "execution_count": 1,
   "metadata": {},
   "outputs": [],
   "source": [
    "import aocd\n",
    "from aocd.models import Puzzle\n",
    "day = 8\n",
    "year = 2021\n",
    "puzzle = Puzzle(year=year, day=day)\n",
    "# data = aocd.get_data(day=day, year=year)\n",
    "with open('./data/input_{:02d}'.format(day), 'w') as fh:\n",
    "    fh.write(puzzle.input_data)"
   ]
  },
  {
   "cell_type": "code",
   "execution_count": 37,
   "metadata": {},
   "outputs": [],
   "source": [
    "from collections import defaultdict"
   ]
  },
  {
   "cell_type": "code",
   "execution_count": 17,
   "metadata": {},
   "outputs": [
    {
     "data": {
      "text/plain": [
       "(200,\n",
       " ['ecfdbg decfba aegd fdcag fagecd gd gcafb efdac cbgeafd dfg | bgacf afdebc fceda cabfg',\n",
       "  'cfdabeg cda bcgad bedfac aefbgd bfgcad dfbga egabc dgfc cd | gdbefac fgabcd dcbefag aedgfb',\n",
       "  'aedbfgc gcaf ebgfca bca edgcfb adbge gebac fbegc ac afdcbe | ceafbg acb egbad gfaebc',\n",
       "  'gaeb cafdbg aedfc ecfgdb ab cdaefgb cgbdae bdecg cba eacdb | gfacdeb gabdec begcd adbce',\n",
       "  'fcbgea fbedg bc cbefg befgcda cfgdab gbc efdgca fecag aceb | faecg cb cb fecbga',\n",
       "  'fdebcg bag gdefa ceadgb fcab ebagfc ab fbegc fcaedbg fbeag | cfegb bga edfga fgbec',\n",
       "  'fg fcagb dfgceba edgacb fagd gfb dcgba agcfdb gecfbd ceafb | facgb fbdcge gf gfabc',\n",
       "  'eabfd dfb gbcfad ebdag fagbce gefabdc edcf aecfb cbdafe df | egbcdfa afdebcg aecfbd acefb',\n",
       "  'fbaec bfegad bga deacbg gb fbdg acgdef deagf fgabe gabecdf | fgdb gefba gcdafe bg',\n",
       "  'bfdea agfbc gbd faecdbg gd efgd cdgeab efadbg faebcd fabdg | cdbgea fged cfabed bgd'])"
      ]
     },
     "execution_count": 17,
     "metadata": {},
     "output_type": "execute_result"
    }
   ],
   "source": [
    "data = puzzle.input_data.splitlines()\n",
    "len(data), data[:10]"
   ]
  },
  {
   "cell_type": "code",
   "execution_count": 33,
   "metadata": {},
   "outputs": [],
   "source": [
    "test_data = \"\"\"be cfbegad cbdgef fgaecd cgeb fdcge agebfd fecdb fabcd edb | fdgacbe cefdb cefbgd gcbe\n",
    "edbfga begcd cbg gc gcadebf fbgde acbgfd abcde gfcbed gfec | fcgedb cgb dgebacf gc\n",
    "fgaebd cg bdaec gdafb agbcfd gdcbef bgcad gfac gcb cdgabef | cg cg fdcagb cbg\n",
    "fbegcd cbd adcefb dageb afcb bc aefdc ecdab fgdeca fcdbega | efabcd cedba gadfec cb\n",
    "aecbfdg fbg gf bafeg dbefa fcge gcbea fcaegb dgceab fcbdga | gecf egdcabf bgf bfgea\n",
    "fgeab ca afcebg bdacfeg cfaedg gcfdb baec bfadeg bafgc acf | gebdcfa ecba ca fadegcb\n",
    "dbcfg fgd bdegcaf fgec aegbdf ecdfab fbedc dacgb gdcebf gf | cefg dcbef fcge gbcadfe\n",
    "bdfegc cbegaf gecbf dfcage bdacg ed bedf ced adcbefg gebcd | ed bcgafe cdgba cbgef\n",
    "egadfb cdbfeg cegd fecab cgb gbdefca cg fgcdab egfdb bfceg | gbdfcae bgc cg cgb\n",
    "gcafb gcf dcaebfg ecagb gf abcdeg gaef cafbge fdbac fegbdc | fgae cfgab fg bagce\"\"\".splitlines()"
   ]
  },
  {
   "cell_type": "code",
   "execution_count": 34,
   "metadata": {},
   "outputs": [],
   "source": [
    "def parse(line):\n",
    "#     print(line)\n",
    "    patterns, output = line.split(' | ')\n",
    "    patterns = patterns.split()\n",
    "    output = output.split()\n",
    "    return patterns, output"
   ]
  },
  {
   "cell_type": "code",
   "execution_count": 35,
   "metadata": {},
   "outputs": [],
   "source": [
    "# parsed_data = list(map(parse, data))\n",
    "parsed_data = list(map(parse, test_data))"
   ]
  },
  {
   "cell_type": "code",
   "execution_count": 36,
   "metadata": {},
   "outputs": [],
   "source": [
    "cnt = 0\n",
    "for pattern, output in parsed_data:\n",
    "    for digit in output:\n",
    "        if len(digit) in [2, 3, 4, 7]:\n",
    "            cnt += 1"
   ]
  },
  {
   "cell_type": "code",
   "execution_count": 9,
   "metadata": {},
   "outputs": [
    {
     "name": "stdout",
     "output_type": "stream",
     "text": [
      "\u001b[32mThat's the right answer!  You are one gold star closer to finding the sleigh keys. [Continue to Part Two]\u001b[0m\n"
     ]
    }
   ],
   "source": [
    "puzzle.answer_a = cnt"
   ]
  },
  {
   "cell_type": "code",
   "execution_count": 89,
   "metadata": {},
   "outputs": [],
   "source": [
    "def count_overlap(patternA, patternB):\n",
    "    return len(set(patternA).intersection(set(patternB)))\n",
    "\n",
    "def identify_numbers(patterns):\n",
    "    lookup_len = defaultdict(list)\n",
    "    lookup_digit = {}\n",
    "    mapping = {}\n",
    "    for pattern in patterns:\n",
    "        lookup_len[len(pattern)].append(\"\".join(sorted(pattern)))\n",
    "    lookup_digit[lookup_len.pop(2)[0]] = 1\n",
    "    lookup_digit[lookup_len.pop(3)[0]] = 7\n",
    "    lookup_digit[lookup_len.pop(4)[0]] = 4\n",
    "    lookup_digit[lookup_len.pop(7)[0]] = 8\n",
    "    lookup_pattern = dict((reversed(item) for item in lookup_digit.items()))\n",
    "#     adg = set.intersection(*[set(el) for el in lookup_len[5]])\n",
    "    for el in lookup_len[5]:\n",
    "        if count_overlap(el, lookup_pattern[1]) == 2:\n",
    "            lookup_digit[el] = 3\n",
    "            lookup_pattern[3] = el\n",
    "        else:\n",
    "            if count_overlap(el, lookup_pattern[4]) == 3:\n",
    "                lookup_digit[el] = 5\n",
    "                lookup_pattern[5] = el\n",
    "            else:\n",
    "                lookup_digit[el] = 2\n",
    "                lookup_pattern[2] = el\n",
    "    for el in lookup_len[6]:\n",
    "        if count_overlap(el, lookup_pattern[1]) == 1:\n",
    "            lookup_digit[el] = 6\n",
    "            lookup_pattern[6] = el\n",
    "        else:\n",
    "            if count_overlap(el, lookup_pattern[4]) == 4:\n",
    "                lookup_digit[el] = 9\n",
    "                lookup_pattern[9] = el\n",
    "            else:\n",
    "                lookup_digit[el] = 0\n",
    "                lookup_pattern[0] = el\n",
    "    \n",
    "    return lookup_digit, lookup_pattern"
   ]
  },
  {
   "cell_type": "code",
   "execution_count": 97,
   "metadata": {},
   "outputs": [],
   "source": [
    "def get_number(pattern, digits):\n",
    "    ld, lp = identify_numbers(pattern)\n",
    "    mult = 1\n",
    "    num = 0\n",
    "    for digit in digits[::-1]:\n",
    "        num += ld[''.join(sorted(digit))] * mult\n",
    "        mult *= 10\n",
    "    return num"
   ]
  },
  {
   "cell_type": "code",
   "execution_count": 102,
   "metadata": {},
   "outputs": [
    {
     "data": {
      "text/plain": [
       "61229"
      ]
     },
     "execution_count": 102,
     "metadata": {},
     "output_type": "execute_result"
    }
   ],
   "source": [
    "sum(map(lambda x: get_number(*x), parsed_data))"
   ]
  },
  {
   "cell_type": "code",
   "execution_count": 103,
   "metadata": {},
   "outputs": [
    {
     "name": "stdout",
     "output_type": "stream",
     "text": [
      "\u001b[32mThat's the right answer!  You are one gold star closer to finding the sleigh keys.You have completed Day 8! You can [Shareon\n",
      "  Twitter\n",
      "Mastodon] this victory or [Return to Your Advent Calendar].\u001b[0m\n"
     ]
    }
   ],
   "source": [
    "parsed_data = list(map(parse, data))\n",
    "puzzle.answer_b = sum(map(lambda x: get_number(*x), parsed_data))"
   ]
  },
  {
   "cell_type": "code",
   "execution_count": null,
   "metadata": {},
   "outputs": [],
   "source": []
  }
 ],
 "metadata": {
  "kernelspec": {
   "display_name": "Python 3",
   "language": "python",
   "name": "python3"
  },
  "language_info": {
   "codemirror_mode": {
    "name": "ipython",
    "version": 3
   },
   "file_extension": ".py",
   "mimetype": "text/x-python",
   "name": "python",
   "nbconvert_exporter": "python",
   "pygments_lexer": "ipython3",
   "version": "3.7.3"
  }
 },
 "nbformat": 4,
 "nbformat_minor": 4
}
