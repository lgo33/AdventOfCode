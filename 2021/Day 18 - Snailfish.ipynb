{
 "cells": [
  {
   "cell_type": "code",
   "execution_count": 1,
   "metadata": {},
   "outputs": [],
   "source": [
    "import aocd\n",
    "from aocd.models import Puzzle\n",
    "day = 18\n",
    "year = 2021\n",
    "puzzle = Puzzle(year=year, day=day)\n",
    "# data = aocd.get_data(day=day, year=year)\n",
    "with open('./data/input_{:02d}'.format(day), 'w') as fh:\n",
    "    fh.write(puzzle.input_data)"
   ]
  },
  {
   "cell_type": "code",
   "execution_count": 434,
   "metadata": {},
   "outputs": [],
   "source": [
    "import functools\n",
    "import json"
   ]
  },
  {
   "cell_type": "code",
   "execution_count": 378,
   "metadata": {},
   "outputs": [
    {
     "data": {
      "text/plain": [
       "(100,\n",
       " ['[9,[[8,3],[6,9]]]',\n",
       "  '[[[0,[5,0]],[9,[1,0]]],[[8,0],[6,[3,3]]]]',\n",
       "  '[[5,[[4,1],[3,3]]],[[7,5],[[1,5],9]]]',\n",
       "  '[8,3]',\n",
       "  '[[[[0,5],3],2],[2,[6,0]]]',\n",
       "  '[[[0,8],[7,5]],6]',\n",
       "  '[[8,[9,[7,6]]],2]',\n",
       "  '[[[[2,3],9],[0,0]],[8,[[8,2],6]]]',\n",
       "  '[[[[8,7],[4,9]],[[0,1],9]],[[[2,1],[9,5]],2]]',\n",
       "  '[[5,[6,0]],[[1,[6,5]],[[3,4],2]]]'])"
      ]
     },
     "execution_count": 378,
     "metadata": {},
     "output_type": "execute_result"
    }
   ],
   "source": [
    "data = puzzle.input_data.splitlines()\n",
    "len(data), data[:10]"
   ]
  },
  {
   "cell_type": "code",
   "execution_count": 310,
   "metadata": {},
   "outputs": [],
   "source": [
    "test_data = \"\"\"[[[0,[5,8]],[[1,7],[9,6]]],[[4,[1,2]],[[1,4],2]]]\n",
    "[[[5,[2,8]],4],[5,[[9,9],0]]]\n",
    "[6,[[[6,2],[5,6]],[[7,6],[4,7]]]]\n",
    "[[[6,[0,7]],[0,9]],[4,[9,[9,0]]]]\n",
    "[[[7,[6,4]],[3,[1,3]]],[[[5,5],1],9]]\n",
    "[[6,[[7,3],[3,2]]],[[[3,8],[5,7]],4]]\n",
    "[[[[5,4],[7,7]],8],[[8,3],8]]\n",
    "[[9,3],[[9,9],[6,[4,9]]]]\n",
    "[[2,[[7,7],7]],[[5,8],[[9,3],[0,2]]]]\n",
    "[[[[5,2],5],[8,[3,7]]],[[5,[7,5]],[4,4]]]\"\"\".splitlines()"
   ]
  },
  {
   "cell_type": "code",
   "execution_count": 428,
   "metadata": {},
   "outputs": [],
   "source": [
    "def level(pair, l=1):\n",
    "    for n in pair:\n",
    "        if isinstance(n, list):\n",
    "            print(n, l)\n",
    "            level(n, l=l+1)\n",
    "#         return pair, 'level={}'.format(l)\n",
    "\n",
    "class Leaf():\n",
    "    def __init__(self, value=None, parent=None):\n",
    "        self.value = value\n",
    "        self.parent = parent\n",
    "        self.left = None\n",
    "        self.right = None\n",
    "\n",
    "    \n",
    "    def walk(self):\n",
    "        if isinstance(self.left, Leaf):\n",
    "            self.left.walk()\n",
    "\n",
    "        if isinstance(self.right, Leaf):\n",
    "            self.right.walk()\n",
    "        if self.value is not None:\n",
    "            print(self.value)\n",
    "\n",
    "            \n",
    "    def find_left(self):\n",
    "        this = self \n",
    "        try:\n",
    "            while this.parent.left is this:\n",
    "                this = this.parent\n",
    "        except AttributeError:\n",
    "            return None        \n",
    "        this = this.parent.left        \n",
    "#         print(this)\n",
    "        if this is None:\n",
    "            print('!!!')\n",
    "        while this.value is None:\n",
    "            this = this.right        \n",
    "        return this\n",
    "    \n",
    "    def find_right(self):\n",
    "        this = self \n",
    "        try:\n",
    "            while this.parent.right is this:\n",
    "                this = this.parent\n",
    "        except AttributeError:\n",
    "            return None        \n",
    "        this = this.parent.right        \n",
    "#         print(this)\n",
    "        while this.value is None:\n",
    "            this = this.left        \n",
    "        return this\n",
    "    \n",
    "    def explode(self):\n",
    "        left = self.find_left()\n",
    "        right = self.find_right()\n",
    "        \n",
    "#         print(\"left: \", left)\n",
    "#         print(\"right: \", right)\n",
    "        \n",
    "        if left is not None:\n",
    "            left.value += self.left.value\n",
    "        if right is not None:\n",
    "            right.value += self.right.value\n",
    "        \n",
    "        self.value = 0\n",
    "        del(self.left)\n",
    "        del(self.right)\n",
    "        self.left = None\n",
    "        self.right = None\n",
    "        \n",
    "    def split(self):\n",
    "        left = self.value // 2\n",
    "        right = self.value // 2 + (self.value % 2)\n",
    "        \n",
    "        self.value = None\n",
    "        self.left = Leaf(left)\n",
    "        self.right = Leaf(right)\n",
    "        self.left.parent = self\n",
    "        self.right.parent = self\n",
    "    \n",
    "    def find_level(self, clvl=0, flvl=4):\n",
    "        if clvl == flvl:\n",
    "            if self.value is None:\n",
    "                return self\n",
    "            return None\n",
    "        \n",
    "        try:\n",
    "        \n",
    "            res_left = self.left.find_level(clvl=clvl+1, flvl=flvl)\n",
    "\n",
    "            if res_left is not None:\n",
    "                return res_left\n",
    "\n",
    "            return self.right.find_level(clvl=clvl+1, flvl=flvl)\n",
    "        except AttributeError:\n",
    "            return None\n",
    "    \n",
    "    def find_value(self, thresh=10):\n",
    "        if self.value is not None:\n",
    "            if self.value >= thresh:\n",
    "                return self\n",
    "            return None\n",
    "        \n",
    "        res_left = self.left.find_value(thresh=thresh)\n",
    "        if res_left is not None:\n",
    "            return res_left\n",
    "        \n",
    "        return self.right.find_value(thresh=thresh)\n",
    "    \n",
    "    def magnitude(self):\n",
    "        if self.value is not None:\n",
    "            return self.value\n",
    "        \n",
    "        return 3 * self.left.magnitude() + 2 * self.right.magnitude()\n",
    "        \n",
    "    \n",
    "    def __repr__(self):\n",
    "        if self.value is not None:\n",
    "            return str(self.value)\n",
    "        return \"[{}, {}]\".format(self.left.__repr__(), self.right.__repr__())\n",
    "    \n",
    "    def __add__(self, other):\n",
    "        new = Leaf()\n",
    "        new.left = self\n",
    "        new.right = other\n",
    "        new.left.parent = new\n",
    "        new.right.parent = new\n",
    "        return new        \n",
    "        \n",
    "\n",
    "class SFnumber():\n",
    "    def __init__(self, pairs=None):\n",
    "        if pairs is not None:\n",
    "            self.root = self.build(pairs)\n",
    "        \n",
    "    def build(self, pairs):\n",
    "        leaf = Leaf()\n",
    "        left, right = pairs\n",
    "        if isinstance(left, list):\n",
    "            leaf.left = self.build(left)\n",
    "        else:\n",
    "            leaf.left = Leaf(value=left)\n",
    "        leaf.left.parent = leaf\n",
    "            \n",
    "        if isinstance(right, list):\n",
    "            leaf.right = self.build(right)\n",
    "        else:\n",
    "            leaf.right = Leaf(value=right)\n",
    "        leaf.right.parent = leaf\n",
    "            \n",
    "        return leaf    \n",
    "            \n",
    "    def reduce(self):\n",
    "        while True:\n",
    "            to_explode = self.root.find_level()\n",
    "            if to_explode is not None:\n",
    "#                 print(\"explode: \", to_explode)\n",
    "                to_explode.explode()\n",
    "#                 print(self)\n",
    "                continue\n",
    "            \n",
    "            to_split = self.root.find_value()\n",
    "            if to_split is None:\n",
    "                break\n",
    "#             print(\"split: \", to_split)\n",
    "            to_split.split()\n",
    "#             print(self)\n",
    "            \n",
    "    def __repr__(self):\n",
    "        return self.root.__repr__()\n",
    "            \n",
    "    def __add__(self, other):\n",
    "        new = SFnumber()\n",
    "        new.root = self.root + other.root\n",
    "        new.reduce()\n",
    "        return new\n",
    "    \n",
    "        \n",
    "            "
   ]
  },
  {
   "cell_type": "code",
   "execution_count": 425,
   "metadata": {},
   "outputs": [
    {
     "name": "stdout",
     "output_type": "stream",
     "text": [
      "[[[[[9, 8], 1], 2], 3], 4]\n"
     ]
    }
   ],
   "source": [
    "num = SFnumber([[[[[9,8],1],2],3],4])\n",
    "# print(num.root.left.left.left.left)\n",
    "# num.root.left.left.left.left.explode()\n",
    "print(num.root)"
   ]
  },
  {
   "cell_type": "code",
   "execution_count": 286,
   "metadata": {},
   "outputs": [
    {
     "name": "stdout",
     "output_type": "stream",
     "text": [
      "left:  None\n",
      "right:  1\n"
     ]
    },
    {
     "data": {
      "text/plain": [
       "[[[[0, 9], 2], 3], 4]"
      ]
     },
     "execution_count": 286,
     "metadata": {},
     "output_type": "execute_result"
    }
   ],
   "source": [
    "num.reduce()\n",
    "num"
   ]
  },
  {
   "cell_type": "code",
   "execution_count": 287,
   "metadata": {},
   "outputs": [
    {
     "name": "stdout",
     "output_type": "stream",
     "text": [
      "left:  4\n",
      "right:  None\n",
      "[7, [6, [5, [7, 0]]]]\n"
     ]
    }
   ],
   "source": [
    "num = SFnumber([7,[6,[5,[4,[3,2]]]]])\n",
    "num.reduce()\n",
    "print(num.root)"
   ]
  },
  {
   "cell_type": "code",
   "execution_count": 298,
   "metadata": {
    "tags": []
   },
   "outputs": [
    {
     "name": "stdout",
     "output_type": "stream",
     "text": [
      "[7, 3]\n",
      "left:  1\n",
      "right:  6\n",
      "[[3, [2, [8, 0]]], [9, [5, [4, [3, 2]]]]]\n"
     ]
    }
   ],
   "source": [
    "num = SFnumber([[3,[2,[1,[7,3]]]],[6,[5,[4,[3,2]]]]])\n",
    "print(num.root.left.right.right.right)\n",
    "num.root.left.right.right.right.explode()\n",
    "print(num.root)"
   ]
  },
  {
   "cell_type": "code",
   "execution_count": 429,
   "metadata": {},
   "outputs": [
    {
     "data": {
      "text/plain": [
       "[[[[0, 7], 4], [[7, 8], [6, 0]]], [8, 1]]"
      ]
     },
     "execution_count": 429,
     "metadata": {},
     "output_type": "execute_result"
    }
   ],
   "source": [
    "# Test\n",
    "SFnumber([[[[4,3],4],4],[7,[[8,4],9]]]) + SFnumber([1,1])"
   ]
  },
  {
   "cell_type": "code",
   "execution_count": 402,
   "metadata": {},
   "outputs": [
    {
     "data": {
      "text/plain": [
       "3488"
      ]
     },
     "execution_count": 402,
     "metadata": {},
     "output_type": "execute_result"
    }
   ],
   "source": [
    "# Test\n",
    "SFnumber([[[[8,7],[7,7]],[[8,6],[7,7]]],[[[0,7],[6,6]],[8,7]]]).root.magnitude()"
   ]
  },
  {
   "cell_type": "code",
   "execution_count": 403,
   "metadata": {},
   "outputs": [],
   "source": [
    "test_data2=\"\"\"[[[0,[4,5]],[0,0]],[[[4,5],[2,6]],[9,5]]]\n",
    "[7,[[[3,7],[4,3]],[[6,3],[8,8]]]]\n",
    "[[2,[[0,8],[3,4]]],[[[6,7],1],[7,[1,6]]]]\n",
    "[[[[2,4],7],[6,[0,5]]],[[[6,8],[2,8]],[[2,1],[4,5]]]]\n",
    "[7,[5,[[3,8],[1,4]]]]\n",
    "[[2,[2,2]],[8,[8,1]]]\n",
    "[2,9]\n",
    "[1,[[[9,3],9],[[9,0],[0,7]]]]\n",
    "[[[5,[7,4]],7],1]\n",
    "[[[[4,2],2],6],[8,7]]\"\"\".splitlines()"
   ]
  },
  {
   "cell_type": "code",
   "execution_count": 435,
   "metadata": {},
   "outputs": [],
   "source": [
    "# numbers = list(map(json.loads, data))\n",
    "numbers = list(map(json.loads, test_data2))"
   ]
  },
  {
   "cell_type": "code",
   "execution_count": 436,
   "metadata": {},
   "outputs": [
    {
     "name": "stdout",
     "output_type": "stream",
     "text": [
      "[[[0, [4, 5]], [0, 0]], [[[4, 5], [2, 6]], [9, 5]]]\n",
      "0\n",
      "+  [7, [[[3, 7], [4, 3]], [[6, 3], [8, 8]]]]\n",
      "=  [[[[4, 0], [5, 4]], [[7, 7], [6, 0]]], [[8, [7, 7]], [[7, 9], [5, 0]]]]\n",
      "0\n",
      "+  [[2, [[0, 8], [3, 4]]], [[[6, 7], 1], [7, [1, 6]]]]\n",
      "=  [[[[6, 7], [6, 7]], [[7, 7], [0, 7]]], [[[8, 7], [7, 7]], [[8, 8], [8, 0]]]]\n",
      "0\n",
      "+  [[[[2, 4], 7], [6, [0, 5]]], [[[6, 8], [2, 8]], [[2, 1], [4, 5]]]]\n",
      "=  [[[[7, 0], [7, 7]], [[7, 7], [7, 8]]], [[[7, 7], [8, 8]], [[7, 7], [8, 7]]]]\n",
      "0\n",
      "+  [7, [5, [[3, 8], [1, 4]]]]\n",
      "=  [[[[7, 7], [7, 8]], [[9, 5], [8, 7]]], [[[6, 8], [0, 8]], [[9, 9], [9, 0]]]]\n",
      "0\n",
      "+  [[2, [2, 2]], [8, [8, 1]]]\n",
      "=  [[[[6, 6], [6, 6]], [[6, 0], [6, 7]]], [[[7, 7], [8, 9]], [8, [8, 1]]]]\n",
      "0\n",
      "+  [2, 9]\n",
      "=  [[[[6, 6], [7, 7]], [[0, 7], [7, 7]]], [[[5, 5], [5, 6]], 9]]\n",
      "0\n",
      "+  [1, [[[9, 3], 9], [[9, 0], [0, 7]]]]\n",
      "=  [[[[7, 8], [6, 7]], [[6, 8], [0, 8]]], [[[7, 7], [5, 0]], [[5, 5], [5, 6]]]]\n",
      "0\n",
      "+  [[[5, [7, 4]], 7], 1]\n",
      "=  [[[[7, 7], [7, 7]], [[8, 7], [8, 7]]], [[[7, 0], [7, 7]], 9]]\n",
      "0\n",
      "+  [[[[4, 2], 2], 6], [8, 7]]\n",
      "=  [[[[8, 7], [7, 7]], [[8, 6], [7, 7]]], [[[0, 7], [6, 6]], [8, 7]]]\n"
     ]
    }
   ],
   "source": [
    "SFnum = SFnumber(numbers[0])\n",
    "SFnum.reduce()\n",
    "print(SFnum)\n",
    "i=0\n",
    "for num in numbers[1:]:\n",
    "    print(i)\n",
    "    add = SFnumber(num)\n",
    "    print (\"+ \", add)\n",
    "    SFnum = SFnum + add\n",
    "    print(\"= \", SFnum)"
   ]
  },
  {
   "cell_type": "code",
   "execution_count": 437,
   "metadata": {},
   "outputs": [
    {
     "data": {
      "text/plain": [
       "3488"
      ]
     },
     "execution_count": 437,
     "metadata": {},
     "output_type": "execute_result"
    }
   ],
   "source": [
    "numbers = list(map(lambda x: SFnumber(json.loads(x)), test_data2))\n",
    "total = functools.reduce(lambda a, b: a+b, numbers)\n",
    "total.root.magnitude()"
   ]
  },
  {
   "cell_type": "code",
   "execution_count": 438,
   "metadata": {},
   "outputs": [
    {
     "data": {
      "text/plain": [
       "4140"
      ]
     },
     "execution_count": 438,
     "metadata": {},
     "output_type": "execute_result"
    }
   ],
   "source": [
    "numbers = list(map(lambda x: SFnumber(json.loads(x)), test_data))\n",
    "total = functools.reduce(lambda a, b: a+b, numbers)\n",
    "total.root.magnitude()"
   ]
  },
  {
   "cell_type": "code",
   "execution_count": 439,
   "metadata": {},
   "outputs": [
    {
     "data": {
      "text/plain": [
       "([[[[6, 6], [7, 7]], [[7, 7], [7, 7]]], [[[7, 7], [7, 0]], [[7, 8], [8, 7]]]],\n",
       " 4120)"
      ]
     },
     "execution_count": 439,
     "metadata": {},
     "output_type": "execute_result"
    }
   ],
   "source": [
    "numbers = list(map(lambda x: SFnumber(json.loads(x)), data))\n",
    "total = functools.reduce(lambda a, b: a+b, numbers)\n",
    "total, total.root.magnitude()"
   ]
  },
  {
   "cell_type": "code",
   "execution_count": 381,
   "metadata": {},
   "outputs": [
    {
     "name": "stdout",
     "output_type": "stream",
     "text": [
      "\u001b[32mThat's the right answer!  You are one gold star closer to finding the sleigh keys. [Continue to Part Two]\u001b[0m\n"
     ]
    }
   ],
   "source": [
    "puzzle.answer_a = total.root.magnitude()"
   ]
  },
  {
   "cell_type": "code",
   "execution_count": 382,
   "metadata": {},
   "outputs": [],
   "source": [
    "# Part B"
   ]
  },
  {
   "cell_type": "code",
   "execution_count": 440,
   "metadata": {},
   "outputs": [
    {
     "name": "stdout",
     "output_type": "stream",
     "text": [
      "3993\n",
      "CPU times: user 64 ms, sys: 3.93 ms, total: 67.9 ms\n",
      "Wall time: 66.1 ms\n"
     ]
    }
   ],
   "source": [
    "%%time\n",
    "numbers = list(map(json.loads, test_data))\n",
    "num_numbers = len(numbers)\n",
    "max_magnitude = 0\n",
    "for i in range(num_numbers):\n",
    "    for j in range(num_numbers):\n",
    "        if i == j:\n",
    "            continue\n",
    "#         print(numbers[i], numbers[j])\n",
    "        mag = (SFnumber(numbers[i]) + SFnumber(numbers[j])).root.magnitude()\n",
    "        if mag > max_magnitude:\n",
    "            max_magnitude = mag\n",
    "print(max_magnitude)\n"
   ]
  },
  {
   "cell_type": "code",
   "execution_count": 441,
   "metadata": {},
   "outputs": [
    {
     "name": "stdout",
     "output_type": "stream",
     "text": [
      "4725\n",
      "CPU times: user 4.22 s, sys: 1.72 ms, total: 4.22 s\n",
      "Wall time: 4.22 s\n"
     ]
    }
   ],
   "source": [
    "%%time\n",
    "numbers = list(map(json.loads, data))\n",
    "num_numbers = len(numbers)\n",
    "max_magnitude = 0\n",
    "for i in range(num_numbers):\n",
    "    for j in range(num_numbers):\n",
    "        if i == j:\n",
    "            continue\n",
    "#         print(numbers[i], numbers[j])\n",
    "        mag = (SFnumber(numbers[i]) + SFnumber(numbers[j])).root.magnitude()\n",
    "        if mag > max_magnitude:\n",
    "            max_magnitude = mag\n",
    "print(max_magnitude)\n"
   ]
  },
  {
   "cell_type": "code",
   "execution_count": 432,
   "metadata": {},
   "outputs": [
    {
     "name": "stdout",
     "output_type": "stream",
     "text": [
      "\u001b[32mThat's the right answer!  You are one gold star closer to finding the sleigh keys.You have completed Day 18! You can [Shareon\n",
      "  Twitter\n",
      "Mastodon] this victory or [Return to Your Advent Calendar].\u001b[0m\n"
     ]
    }
   ],
   "source": [
    "puzzle.answer_b = max_magnitude"
   ]
  },
  {
   "cell_type": "code",
   "execution_count": null,
   "metadata": {},
   "outputs": [],
   "source": []
  }
 ],
 "metadata": {
  "kernelspec": {
   "display_name": "Python 3",
   "language": "python",
   "name": "python3"
  },
  "language_info": {
   "codemirror_mode": {
    "name": "ipython",
    "version": 3
   },
   "file_extension": ".py",
   "mimetype": "text/x-python",
   "name": "python",
   "nbconvert_exporter": "python",
   "pygments_lexer": "ipython3",
   "version": "3.7.3"
  }
 },
 "nbformat": 4,
 "nbformat_minor": 4
}
