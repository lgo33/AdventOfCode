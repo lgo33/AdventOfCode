{
 "cells": [
  {
   "cell_type": "code",
   "execution_count": 110,
   "metadata": {},
   "outputs": [],
   "source": [
    "import aocd\n",
    "from aocd.models import Puzzle\n",
    "day = 4\n",
    "year = 2021\n",
    "puzzle = Puzzle(year=year, day=day)\n",
    "# data = aocd.get_data(day=day, year=year)\n",
    "with open('./data/input_{:02d}'.format(day), 'w') as fh:\n",
    "    fh.write(puzzle.input_data)"
   ]
  },
  {
   "cell_type": "code",
   "execution_count": 111,
   "metadata": {},
   "outputs": [],
   "source": [
    "import numpy as np\n",
    "from copy import deepcopy"
   ]
  },
  {
   "cell_type": "code",
   "execution_count": 164,
   "metadata": {},
   "outputs": [
    {
     "data": {
      "text/plain": [
       "['67,3,19,4,64,39,85,14,84,93,79,26,61,24,65,63,15,69,48,8,82,75,36,96,16,49,28,40,97,38,76,91,83,7,62,94,21,95,6,10,43,17,31,34,81,23,52,60,54,29,70,12,35,0,57,45,20,71,78,44,90,2,33,68,53,92,50,73,88,47,58,5,9,87,22,13,18,30,59,56,99,11,77,55,72,32,37,89,42,27,66,41,86,51,74,1,46,25,98,80',\n",
       " '',\n",
       " '24 75 59 41 17',\n",
       " '58 74 64 92 39',\n",
       " '68  8 78 85 72',\n",
       " '18  3 22  4 34',\n",
       " '11 76  6 28 50',\n",
       " '',\n",
       " '21 31 36 13 87',\n",
       " '80 91 63 62 77']"
      ]
     },
     "execution_count": 164,
     "metadata": {},
     "output_type": "execute_result"
    }
   ],
   "source": [
    "data = puzzle.input_data.splitlines()\n",
    "data[:10]"
   ]
  },
  {
   "cell_type": "code",
   "execution_count": 165,
   "metadata": {},
   "outputs": [],
   "source": [
    "numbers = list(map(int, data[0].split(',')))\n",
    "boards = []\n",
    "board = np.zeros((5, 5))\n",
    "i=0\n",
    "for line in data[2:]:\n",
    "#     print(line)\n",
    "    if i==5:\n",
    "        i = 0\n",
    "        boards.append(board)\n",
    "        board = np.zeros((5, 5))\n",
    "        continue\n",
    "    board[:, i] = line.split()\n",
    "    i+=1\n",
    "boards.append(board)"
   ]
  },
  {
   "cell_type": "code",
   "execution_count": 120,
   "metadata": {},
   "outputs": [],
   "source": [
    "def check_board_win(board):\n",
    "    if any(board.sum(axis=0) == -5) or any(board.sum(axis=1) == -5):\n",
    "        return True\n",
    "    return False\n",
    "\n",
    "def put_number(board, num):\n",
    "    board[board == num] = -1\n",
    "\n",
    "def play(boards_orig, numbers):\n",
    "    boards = deepcopy(boards_orig)\n",
    "    for num in numbers:\n",
    "        for board in boards:\n",
    "            put_number(board, num)\n",
    "            if check_board_win(board):\n",
    "                return board, num\n",
    "        "
   ]
  },
  {
   "cell_type": "code",
   "execution_count": 121,
   "metadata": {},
   "outputs": [],
   "source": [
    "win_board, win_num = play(boards, numbers)\n"
   ]
  },
  {
   "cell_type": "code",
   "execution_count": 122,
   "metadata": {},
   "outputs": [
    {
     "data": {
      "text/plain": [
       "(array([[95., -1., 53., -1., -1.],\n",
       "        [18., 78., 98., 35., -1.],\n",
       "        [-1., -1., 73., 94., -1.],\n",
       "        [-1., 10., 87., 57., -1.],\n",
       "        [-1., 41., -1., -1., -1.]]),\n",
       " 38)"
      ]
     },
     "execution_count": 122,
     "metadata": {},
     "output_type": "execute_result"
    }
   ],
   "source": [
    "win_board, win_num"
   ]
  },
  {
   "cell_type": "code",
   "execution_count": 123,
   "metadata": {},
   "outputs": [],
   "source": [
    "puzzle.answer_a = int(win_board[win_board > -1].sum() * win_num)"
   ]
  },
  {
   "cell_type": "code",
   "execution_count": 151,
   "metadata": {},
   "outputs": [],
   "source": [
    "test_data = \"\"\"7,4,9,5,11,17,23,2,0,14,21,24,10,16,13,6,15,25,12,22,18,20,8,19,3,26,1\n",
    "\n",
    "22 13 17 11  0\n",
    " 8  2 23  4 24\n",
    "21  9 14 16  7\n",
    " 6 10  3 18  5\n",
    " 1 12 20 15 19\n",
    "\n",
    " 3 15  0  2 22\n",
    " 9 18 13 17  5\n",
    "19  8  7 25 23\n",
    "20 11 10 24  4\n",
    "14 21 16 12  6\n",
    "\n",
    "14 21 17 24  4\n",
    "10 16 15  9 19\n",
    "18  8 23 26 20\n",
    "22 11 13  6  5\n",
    " 2  0 12  3  7\"\"\".splitlines()"
   ]
  },
  {
   "cell_type": "code",
   "execution_count": 152,
   "metadata": {},
   "outputs": [],
   "source": [
    "# data= test_data\n",
    "# numbers = list(map(int, data[0].split(',')))\n",
    "# boards = []\n",
    "# board = np.zeros((5, 5))\n",
    "# i=0\n",
    "# for line in data[2:]:\n",
    "# #     print(line)\n",
    "#     if i==5:\n",
    "#         i = 0\n",
    "#         boards.append(board)\n",
    "#         board = np.zeros((5, 5))\n",
    "#         continue\n",
    "#     board[:, i] = line.split()\n",
    "#     i+=1\n",
    "# boards.append(board)"
   ]
  },
  {
   "cell_type": "code",
   "execution_count": 167,
   "metadata": {},
   "outputs": [],
   "source": [
    "def play_b(boards_orig, numbers):\n",
    "    boards = dict(enumerate(deepcopy(boards_orig)))\n",
    "    i = 0\n",
    "    last_board = None\n",
    "    for num in numbers:\n",
    "        drop = []\n",
    "        for (idx, board) in boards.items():\n",
    "            put_number(board, num)\n",
    "            if check_board_win(board):\n",
    "                drop.append(idx)\n",
    "        for key in drop:            \n",
    "            last_board = boards.pop(key)\n",
    "#             print(last_board)\n",
    "            if len(boards) == 0:\n",
    "                return last_board, num\n",
    "    return boards, numbers"
   ]
  },
  {
   "cell_type": "code",
   "execution_count": 168,
   "metadata": {
    "tags": []
   },
   "outputs": [],
   "source": [
    "win_board, win_num = play_b(boards, numbers)"
   ]
  },
  {
   "cell_type": "code",
   "execution_count": 169,
   "metadata": {},
   "outputs": [
    {
     "data": {
      "text/plain": [
       "(array([[-1., -1., -1., 41., -1.],\n",
       "        [27., -1., -1., -1., -1.],\n",
       "        [-1., -1., 25., -1., -1.],\n",
       "        [-1., -1., -1., -1., 66.],\n",
       "        [-1., -1., -1., 98., -1.]]),\n",
       " 32)"
      ]
     },
     "execution_count": 169,
     "metadata": {},
     "output_type": "execute_result"
    }
   ],
   "source": [
    "win_board, win_num"
   ]
  },
  {
   "cell_type": "code",
   "execution_count": 170,
   "metadata": {},
   "outputs": [
    {
     "data": {
      "text/plain": [
       "257.0"
      ]
     },
     "execution_count": 170,
     "metadata": {},
     "output_type": "execute_result"
    }
   ],
   "source": [
    "win_board[win_board > -1].sum()"
   ]
  },
  {
   "cell_type": "code",
   "execution_count": 171,
   "metadata": {},
   "outputs": [
    {
     "name": "stdout",
     "output_type": "stream",
     "text": [
      "\u001b[32mThat's the right answer!  You are one gold star closer to finding the sleigh keys.You have completed Day 4! You can [Shareon\n",
      "  Twitter\n",
      "Mastodon] this victory or [Return to Your Advent Calendar].\u001b[0m\n"
     ]
    }
   ],
   "source": [
    "puzzle.answer_b = int(win_board[win_board > -1].sum() * win_num)"
   ]
  },
  {
   "cell_type": "code",
   "execution_count": null,
   "metadata": {},
   "outputs": [],
   "source": []
  }
 ],
 "metadata": {
  "kernelspec": {
   "display_name": "Python 3",
   "language": "python",
   "name": "python3"
  },
  "language_info": {
   "codemirror_mode": {
    "name": "ipython",
    "version": 3
   },
   "file_extension": ".py",
   "mimetype": "text/x-python",
   "name": "python",
   "nbconvert_exporter": "python",
   "pygments_lexer": "ipython3",
   "version": "3.7.3"
  }
 },
 "nbformat": 4,
 "nbformat_minor": 4
}
