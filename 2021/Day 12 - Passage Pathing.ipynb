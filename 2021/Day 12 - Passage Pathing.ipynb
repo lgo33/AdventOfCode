{
 "cells": [
  {
   "cell_type": "code",
   "execution_count": 1,
   "metadata": {},
   "outputs": [],
   "source": [
    "import aocd\n",
    "from aocd.models import Puzzle\n",
    "day = 12\n",
    "year = 2021\n",
    "puzzle = Puzzle(year=year, day=day)\n",
    "# data = aocd.get_data(day=day, year=year)\n",
    "with open('./data/input_{:02d}'.format(day), 'w') as fh:\n",
    "    fh.write(puzzle.input_data)"
   ]
  },
  {
   "cell_type": "code",
   "execution_count": 6,
   "metadata": {},
   "outputs": [],
   "source": [
    "import networkx as nx"
   ]
  },
  {
   "cell_type": "code",
   "execution_count": 2,
   "metadata": {},
   "outputs": [
    {
     "data": {
      "text/plain": [
       "(23,\n",
       " ['LP-cb',\n",
       "  'PK-yk',\n",
       "  'bf-end',\n",
       "  'PK-my',\n",
       "  'end-cb',\n",
       "  'BN-yk',\n",
       "  'cd-yk',\n",
       "  'cb-lj',\n",
       "  'yk-bf',\n",
       "  'bf-lj'])"
      ]
     },
     "execution_count": 2,
     "metadata": {},
     "output_type": "execute_result"
    }
   ],
   "source": [
    "data = puzzle.input_data.splitlines()\n",
    "len(data), data[:10]"
   ]
  },
  {
   "cell_type": "code",
   "execution_count": 4,
   "metadata": {},
   "outputs": [],
   "source": [
    "test_data = \"\"\"start-A\n",
    "start-b\n",
    "A-c\n",
    "A-b\n",
    "b-d\n",
    "A-end\n",
    "b-end\"\"\".splitlines()"
   ]
  },
  {
   "cell_type": "code",
   "execution_count": 60,
   "metadata": {},
   "outputs": [],
   "source": [
    "test_data2 = \"\"\"dc-end\n",
    "HN-start\n",
    "start-kj\n",
    "dc-start\n",
    "dc-HN\n",
    "LN-dc\n",
    "HN-end\n",
    "kj-sa\n",
    "kj-HN\n",
    "kj-dc\"\"\".splitlines()"
   ]
  },
  {
   "cell_type": "code",
   "execution_count": 56,
   "metadata": {},
   "outputs": [],
   "source": [
    "def parse(data):\n",
    "    G = nx.Graph()\n",
    "    G.add_edges_from(map(lambda x: x.split('-'), data))\n",
    "    return G\n",
    "\n",
    "def get_num_paths(G):\n",
    "    nodes = [('start', ['start'])]\n",
    "#     visited = set()\n",
    "    num_path = 0\n",
    "    paths = []\n",
    "    while len(nodes):\n",
    "        nxt, path = nodes.pop()\n",
    "        if nxt == 'AA':\n",
    "            print(nxt, path)\n",
    "        if nxt == 'end':\n",
    "            num_path += 1\n",
    "            paths.append(path)\n",
    "            continue\n",
    "#         if nxt.islower():\n",
    "#             visited.add(nxt)\n",
    "        for nbr in G.neighbors(nxt):\n",
    "            if nbr.isupper() or nbr not in path:\n",
    "                nodes.append((nbr, path +[nbr]))\n",
    "    return num_path, paths\n",
    "                    "
   ]
  },
  {
   "cell_type": "code",
   "execution_count": 62,
   "metadata": {},
   "outputs": [
    {
     "name": "stdout",
     "output_type": "stream",
     "text": [
      "3298\n"
     ]
    }
   ],
   "source": [
    "G = parse(data)\n",
    "npaths, paths = get_num_paths(G)\n",
    "print(npaths)"
   ]
  },
  {
   "cell_type": "code",
   "execution_count": 63,
   "metadata": {},
   "outputs": [
    {
     "name": "stdout",
     "output_type": "stream",
     "text": [
      "\u001b[32mThat's the right answer!  You are one gold star closer to finding the sleigh keys. [Continue to Part Two]\u001b[0m\n"
     ]
    }
   ],
   "source": [
    "puzzle.answer_a = npaths"
   ]
  },
  {
   "cell_type": "code",
   "execution_count": 64,
   "metadata": {},
   "outputs": [],
   "source": [
    "# Part B"
   ]
  },
  {
   "cell_type": "code",
   "execution_count": 71,
   "metadata": {},
   "outputs": [],
   "source": [
    "def get_num_paths2(G):\n",
    "    nodes = [('start', ['start'], False)]\n",
    "#     visited = set()\n",
    "    num_path = 0\n",
    "    paths = []\n",
    "    while len(nodes):\n",
    "        nxt, path, duplicate = nodes.pop()\n",
    "        if nxt == 'AA':\n",
    "            print(nxt, path)\n",
    "        if nxt == 'end':\n",
    "            num_path += 1\n",
    "            paths.append(path)\n",
    "            continue\n",
    "#         if nxt.islower():\n",
    "#             visited.add(nxt)\n",
    "        for nbr in G.neighbors(nxt):\n",
    "            if nbr.isupper() or nbr not in path:\n",
    "                nodes.append((nbr, path +[nbr], duplicate))\n",
    "            else:\n",
    "                if not duplicate and nbr not in ('start', 'end'):\n",
    "                    nodes.append((nbr, path +[nbr], True))\n",
    "    return num_path, paths"
   ]
  },
  {
   "cell_type": "code",
   "execution_count": 75,
   "metadata": {},
   "outputs": [
    {
     "name": "stdout",
     "output_type": "stream",
     "text": [
      "93572\n"
     ]
    }
   ],
   "source": [
    "G = parse(data)\n",
    "npaths, paths = get_num_paths2(G)\n",
    "print(npaths)"
   ]
  },
  {
   "cell_type": "code",
   "execution_count": 76,
   "metadata": {},
   "outputs": [
    {
     "name": "stdout",
     "output_type": "stream",
     "text": [
      "\u001b[32mThat's the right answer!  You are one gold star closer to finding the sleigh keys.You have completed Day 12! You can [Shareon\n",
      "  Twitter\n",
      "Mastodon] this victory or [Return to Your Advent Calendar].\u001b[0m\n"
     ]
    }
   ],
   "source": [
    "puzzle.answer_b = npaths"
   ]
  },
  {
   "cell_type": "code",
   "execution_count": null,
   "metadata": {},
   "outputs": [],
   "source": []
  }
 ],
 "metadata": {
  "kernelspec": {
   "display_name": "Python 3",
   "language": "python",
   "name": "python3"
  },
  "language_info": {
   "codemirror_mode": {
    "name": "ipython",
    "version": 3
   },
   "file_extension": ".py",
   "mimetype": "text/x-python",
   "name": "python",
   "nbconvert_exporter": "python",
   "pygments_lexer": "ipython3",
   "version": "3.7.3"
  }
 },
 "nbformat": 4,
 "nbformat_minor": 4
}
