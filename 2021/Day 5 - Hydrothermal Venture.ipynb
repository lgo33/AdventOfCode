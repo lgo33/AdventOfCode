{
 "cells": [
  {
   "cell_type": "code",
   "execution_count": 1,
   "metadata": {},
   "outputs": [],
   "source": [
    "import aocd\n",
    "from aocd.models import Puzzle\n",
    "day = 5\n",
    "year = 2021\n",
    "puzzle = Puzzle(year=year, day=day)\n",
    "# data = aocd.get_data(day=day, year=year)\n",
    "with open('./data/input_{:02d}'.format(day), 'w') as fh:\n",
    "    fh.write(puzzle.input_data)"
   ]
  },
  {
   "cell_type": "code",
   "execution_count": 2,
   "metadata": {},
   "outputs": [
    {
     "data": {
      "text/plain": [
       "(500,\n",
       " ['561,579 -> 965,175',\n",
       "  '735,73 -> 316,73',\n",
       "  '981,566 -> 981,11',\n",
       "  '631,588 -> 631,910',\n",
       "  '919,964 -> 70,115',\n",
       "  '122,463 -> 261,602',\n",
       "  '502,248 -> 774,248',\n",
       "  '636,797 -> 797,958',\n",
       "  '444,815 -> 444,554',\n",
       "  '734,97 -> 734,210'])"
      ]
     },
     "execution_count": 2,
     "metadata": {},
     "output_type": "execute_result"
    }
   ],
   "source": [
    "data = puzzle.input_data.splitlines()\n",
    "len(data), data[:10]"
   ]
  },
  {
   "cell_type": "code",
   "execution_count": 30,
   "metadata": {},
   "outputs": [],
   "source": [
    "test_data = \"\"\"0,9 -> 5,9\n",
    "8,0 -> 0,8\n",
    "9,4 -> 3,4\n",
    "2,2 -> 2,1\n",
    "7,0 -> 7,4\n",
    "6,4 -> 2,0\n",
    "0,9 -> 2,9\n",
    "3,4 -> 1,4\n",
    "0,0 -> 8,8\n",
    "5,5 -> 8,2\"\"\".splitlines()"
   ]
  },
  {
   "cell_type": "code",
   "execution_count": 11,
   "metadata": {},
   "outputs": [],
   "source": [
    "import numpy as np"
   ]
  },
  {
   "cell_type": "code",
   "execution_count": 4,
   "metadata": {},
   "outputs": [],
   "source": [
    "def parse_line(line):\n",
    "    return list(map(lambda x: x.split(','), line.split(' -> ')))\n",
    "       "
   ]
  },
  {
   "cell_type": "code",
   "execution_count": 69,
   "metadata": {},
   "outputs": [],
   "source": [
    "lines = list(map(parse_line, data))\n",
    "# lines = list(map(parse_line, test_data))"
   ]
  },
  {
   "cell_type": "code",
   "execution_count": 70,
   "metadata": {},
   "outputs": [],
   "source": [
    "mx = np.array(lines).max()\n",
    "field = np.zeros((mx+1, mx+1))\n",
    "\n",
    "for line in lines:\n",
    "    start, end = line\n",
    "    x1, y1 = start\n",
    "    x2, y2 = end\n",
    "    if (x1==x2) or (y1==y2):\n",
    "#         print(x1, y1, '->', x2, y2)\n",
    "        field[x1:x2+1, y1:y2+1] += 1\n",
    "        field[x2:x1+1, y2:y1+1] += 1"
   ]
  },
  {
   "cell_type": "code",
   "execution_count": 71,
   "metadata": {},
   "outputs": [
    {
     "name": "stdout",
     "output_type": "stream",
     "text": [
      "\u001b[33mYou don't seem to be solving the right level.  Did you already complete it? [Return to Day 5]\u001b[0m\n"
     ]
    }
   ],
   "source": [
    "puzzle.answer_a = (field>=2).sum()"
   ]
  },
  {
   "cell_type": "code",
   "execution_count": 72,
   "metadata": {},
   "outputs": [
    {
     "data": {
      "text/plain": [
       "6005"
      ]
     },
     "execution_count": 72,
     "metadata": {},
     "output_type": "execute_result"
    }
   ],
   "source": [
    "(field>=2).sum()"
   ]
  },
  {
   "cell_type": "code",
   "execution_count": null,
   "metadata": {},
   "outputs": [],
   "source": [
    "# Part B"
   ]
  },
  {
   "cell_type": "code",
   "execution_count": 73,
   "metadata": {},
   "outputs": [],
   "source": [
    "mx = np.array(lines).max()\n",
    "field = np.zeros((mx+1, mx+1))\n",
    "\n",
    "for line in lines:\n",
    "    start, end = line\n",
    "    x1, y1 = start\n",
    "    x2, y2 = end\n",
    "    if (x1==x2) or (y1==y2):\n",
    "#         print(x1, y1, '->', x2, y2)\n",
    "        field[x1:x2+1, y1:y2+1] += 1\n",
    "        field[x2:x1+1, y2:y1+1] += 1\n",
    "    else:\n",
    "        if x1 <= x2: \n",
    "            dx = 1\n",
    "        else:\n",
    "            dx = -1\n",
    "    \n",
    "        if y1 <= y2:\n",
    "            dy = +1\n",
    "        else:\n",
    "            dy = -1\n",
    "            \n",
    "        for i in range(abs(x2-x1)+1):\n",
    "            field[x1+i*dx, y1+i*dy] += 1\n",
    "                "
   ]
  },
  {
   "cell_type": "code",
   "execution_count": 74,
   "metadata": {},
   "outputs": [
    {
     "data": {
      "text/plain": [
       "23864"
      ]
     },
     "execution_count": 74,
     "metadata": {},
     "output_type": "execute_result"
    }
   ],
   "source": [
    "(field >=2).sum()"
   ]
  },
  {
   "cell_type": "code",
   "execution_count": 75,
   "metadata": {},
   "outputs": [
    {
     "name": "stdout",
     "output_type": "stream",
     "text": [
      "\u001b[32mThat's the right answer!  You are one gold star closer to finding the sleigh keys.You have completed Day 5! You can [Shareon\n",
      "  Twitter\n",
      "Mastodon] this victory or [Return to Your Advent Calendar].\u001b[0m\n"
     ]
    }
   ],
   "source": [
    "puzzle.answer_b = (field>=2).sum()"
   ]
  },
  {
   "cell_type": "code",
   "execution_count": null,
   "metadata": {},
   "outputs": [],
   "source": []
  }
 ],
 "metadata": {
  "kernelspec": {
   "display_name": "Python 3",
   "language": "python",
   "name": "python3"
  },
  "language_info": {
   "codemirror_mode": {
    "name": "ipython",
    "version": 3
   },
   "file_extension": ".py",
   "mimetype": "text/x-python",
   "name": "python",
   "nbconvert_exporter": "python",
   "pygments_lexer": "ipython3",
   "version": "3.7.3"
  }
 },
 "nbformat": 4,
 "nbformat_minor": 4
}
