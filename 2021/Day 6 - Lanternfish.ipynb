{
 "cells": [
  {
   "cell_type": "code",
   "execution_count": 1,
   "metadata": {},
   "outputs": [],
   "source": [
    "import aocd\n",
    "from aocd.models import Puzzle\n",
    "day = 6\n",
    "year = 2021\n",
    "puzzle = Puzzle(year=year, day=day)\n",
    "# data = aocd.get_data(day=day, year=year)\n",
    "with open('./data/input_{:02d}'.format(day), 'w') as fh:\n",
    "    fh.write(puzzle.input_data)"
   ]
  },
  {
   "cell_type": "code",
   "execution_count": 11,
   "metadata": {},
   "outputs": [],
   "source": [
    "import numpy as np"
   ]
  },
  {
   "cell_type": "code",
   "execution_count": 2,
   "metadata": {},
   "outputs": [
    {
     "data": {
      "text/plain": [
       "(1,\n",
       " ['1,1,1,1,3,1,4,1,4,1,1,2,5,2,5,1,1,1,4,3,1,4,1,1,1,1,1,1,1,2,1,2,4,1,1,1,1,1,1,1,3,1,1,5,1,1,2,1,5,1,1,1,1,1,1,1,1,4,3,1,1,1,2,1,1,5,2,1,1,1,1,4,5,1,1,2,4,1,1,1,5,1,1,1,1,5,1,3,1,1,4,2,1,5,1,2,1,1,1,1,1,3,3,1,5,1,1,1,1,3,1,1,1,4,1,1,1,4,1,4,3,1,1,1,4,1,2,1,1,1,2,1,1,1,1,5,1,1,3,5,1,1,5,2,1,1,1,1,1,4,4,1,1,2,1,1,1,4,1,1,1,1,5,3,1,1,1,5,1,1,1,4,1,4,1,1,1,5,1,1,3,2,2,1,1,1,4,1,3,1,1,1,2,1,3,1,1,1,1,4,1,1,1,1,2,1,4,1,1,1,1,1,4,1,1,2,4,2,1,2,3,1,3,1,1,2,1,1,1,3,1,1,3,1,1,4,1,3,1,1,2,1,1,1,4,1,1,3,1,1,5,1,1,3,1,1,1,1,5,1,1,1,1,1,2,3,4,1,1,1,1,1,2,1,1,1,1,1,1,1,3,2,2,1,3,5,1,1,4,4,1,3,4,1,2,4,1,1,3,1'])"
      ]
     },
     "execution_count": 2,
     "metadata": {},
     "output_type": "execute_result"
    }
   ],
   "source": [
    "data = puzzle.input_data.splitlines()\n",
    "len(data), data[:10]"
   ]
  },
  {
   "cell_type": "code",
   "execution_count": 46,
   "metadata": {},
   "outputs": [],
   "source": [
    "mt = 9\n",
    "timers = list(map(int, data[0].split(',')))\n",
    "# timers = [3,4,3,1,2]\n",
    "num_fish = np.zeros(mt)\n",
    "\n",
    "for timer in timers:\n",
    "    num_fish[timer] += 1"
   ]
  },
  {
   "cell_type": "code",
   "execution_count": 42,
   "metadata": {},
   "outputs": [
    {
     "name": "stdout",
     "output_type": "stream",
     "text": [
      "388419.0\n"
     ]
    }
   ],
   "source": [
    "num_days = 80\n",
    "for i in range(num_days):\n",
    "    store = num_fish[0]\n",
    "    num_fish = np.roll(num_fish, -1)\n",
    "#     num_fish[8] += store\n",
    "    num_fish[6] += store\n",
    "#     print(num_fish, store)\n",
    "print(num_fish.sum())"
   ]
  },
  {
   "cell_type": "code",
   "execution_count": 43,
   "metadata": {},
   "outputs": [
    {
     "name": "stdout",
     "output_type": "stream",
     "text": [
      "\u001b[32mThat's the right answer!  You are one gold star closer to finding the sleigh keys. [Continue to Part Two]\u001b[0m\n"
     ]
    }
   ],
   "source": [
    "puzzle.answer_a = int(num_fish.sum())"
   ]
  },
  {
   "cell_type": "code",
   "execution_count": 47,
   "metadata": {},
   "outputs": [],
   "source": [
    "# Part B"
   ]
  },
  {
   "cell_type": "code",
   "execution_count": 48,
   "metadata": {},
   "outputs": [
    {
     "name": "stdout",
     "output_type": "stream",
     "text": [
      "1740449478328.0\n"
     ]
    }
   ],
   "source": [
    "num_days = 256\n",
    "for i in range(num_days):\n",
    "    store = num_fish[0]\n",
    "    num_fish = np.roll(num_fish, -1)\n",
    "#     num_fish[8] += store\n",
    "    num_fish[6] += store\n",
    "#     print(num_fish, store)\n",
    "print(num_fish.sum())"
   ]
  },
  {
   "cell_type": "code",
   "execution_count": 49,
   "metadata": {},
   "outputs": [
    {
     "name": "stdout",
     "output_type": "stream",
     "text": [
      "\u001b[32mThat's the right answer!  You are one gold star closer to finding the sleigh keys.You have completed Day 6! You can [Shareon\n",
      "  Twitter\n",
      "Mastodon] this victory or [Return to Your Advent Calendar].\u001b[0m\n"
     ]
    }
   ],
   "source": [
    "puzzle.answer_b = int(num_fish.sum())"
   ]
  },
  {
   "cell_type": "code",
   "execution_count": null,
   "metadata": {},
   "outputs": [],
   "source": []
  }
 ],
 "metadata": {
  "kernelspec": {
   "display_name": "Python 3",
   "language": "python",
   "name": "python3"
  },
  "language_info": {
   "codemirror_mode": {
    "name": "ipython",
    "version": 3
   },
   "file_extension": ".py",
   "mimetype": "text/x-python",
   "name": "python",
   "nbconvert_exporter": "python",
   "pygments_lexer": "ipython3",
   "version": "3.7.3"
  }
 },
 "nbformat": 4,
 "nbformat_minor": 4
}
