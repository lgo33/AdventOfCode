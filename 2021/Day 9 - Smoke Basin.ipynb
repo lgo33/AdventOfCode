{
 "cells": [
  {
   "cell_type": "code",
   "execution_count": 16,
   "metadata": {},
   "outputs": [],
   "source": [
    "import aocd\n",
    "from aocd.models import Puzzle\n",
    "day = 9\n",
    "year = 2021\n",
    "puzzle = Puzzle(year=year, day=day)\n",
    "# data = aocd.get_data(day=day, year=year)\n",
    "with open('./data/input_{:02d}'.format(day), 'w') as fh:\n",
    "    fh.write(puzzle.input_data)"
   ]
  },
  {
   "cell_type": "code",
   "execution_count": 17,
   "metadata": {},
   "outputs": [],
   "source": [
    "import numpy as np\n",
    "from scipy.signal import convolve2d\n",
    "from collections import Counter"
   ]
  },
  {
   "cell_type": "code",
   "execution_count": 18,
   "metadata": {},
   "outputs": [
    {
     "data": {
      "text/plain": [
       "(100,\n",
       " ['9656799999432123456997667932987634348988901234569972123973212398999898743234578999878965345989412345',\n",
       "  '8746789898543235689879457891396521236567892347698763299865101987898789652123459998767893239874323458',\n",
       "  '7657896797654348798968346799987430123456943458987654987654219876747688943435698967656789098765434567',\n",
       "  '8767945698967859987653235678976521234567894569998785698765345965434567894566987654345678999886548698',\n",
       "  '9878936989898967998842123799988432345678965679989976789876459876123998999879876543234567999998657789',\n",
       "  '9989759876789899987651012989999654676789896899877899893987898765017899997989977532123456789879767899',\n",
       "  '9899898765698789998763123467898765699998789998766568932998989854146789876598765431012345678969878989',\n",
       "  '9787987974545698999873234578989876987899678987653456949899876543235678995439876532123478989654989678',\n",
       "  '7656896653432367897654348989678989876996589978321239898787987665366789989321987543234569996543294569',\n",
       "  '6542985432101256789865457892569998765989439865430149764656798878457899878910197655345699965432123468'])"
      ]
     },
     "execution_count": 18,
     "metadata": {},
     "output_type": "execute_result"
    }
   ],
   "source": [
    "data = puzzle.input_data.splitlines()\n",
    "len(data), data[:10]"
   ]
  },
  {
   "cell_type": "code",
   "execution_count": 19,
   "metadata": {},
   "outputs": [],
   "source": [
    "test_data = \"\"\"2199943210\n",
    "3987894921\n",
    "9856789892\n",
    "8767896789\n",
    "9899965678\"\"\".splitlines()"
   ]
  },
  {
   "cell_type": "code",
   "execution_count": 20,
   "metadata": {},
   "outputs": [],
   "source": [
    "d = test_data\n",
    "# d = data\n",
    "dx = len(d[0])\n",
    "dy = len(d)\n",
    "\n",
    "height_map = np.zeros((dx, dy), dtype=np.int8)\n",
    "\n",
    "for i in range(dx):\n",
    "    for j in range(dy):\n",
    "        height_map[i, j] = d[j][i]"
   ]
  },
  {
   "cell_type": "code",
   "execution_count": 21,
   "metadata": {},
   "outputs": [],
   "source": [
    "kernels = []\n",
    "kernels.append(np.array([[0, 1, 0], [0, -1, 0], [0, 0, 0]], dtype=np.float64))\n",
    "kernels.append(np.array([[0, 0, 0], [1, -1, 0], [0, 0, 0]], dtype=np.float64))\n",
    "kernels.append(np.array([[0, 0, 0], [0, -1, 1], [0, 0, 0]], dtype=np.float64))\n",
    "kernels.append(np.array([[0, 0, 0], [0, -1, 0], [0, 1, 0]], dtype=np.float64))\n",
    "\n",
    "# kernel\n",
    "c2d = [convolve2d(height_map, kernels[i], mode='same', boundary='fill', fillvalue=10) > 0 for i in range(len(kernels)) ]\n",
    "minimum = np.array(c2d).sum(axis=0) == 4\n"
   ]
  },
  {
   "cell_type": "code",
   "execution_count": 78,
   "metadata": {},
   "outputs": [
    {
     "name": "stdout",
     "output_type": "stream",
     "text": [
      "\u001b[32mThat's the right answer!  You are one gold star closer to finding the sleigh keys. [Continue to Part Two]\u001b[0m\n"
     ]
    }
   ],
   "source": [
    "puzzle.answer_a = (height_map[minimum] + 1).sum()"
   ]
  },
  {
   "cell_type": "code",
   "execution_count": 25,
   "metadata": {},
   "outputs": [
    {
     "data": {
      "text/plain": [
       "4"
      ]
     },
     "execution_count": 25,
     "metadata": {},
     "output_type": "execute_result"
    }
   ],
   "source": [
    "len(height_map[minimum])"
   ]
  },
  {
   "cell_type": "code",
   "execution_count": 34,
   "metadata": {},
   "outputs": [],
   "source": [
    "basin = np.zeros(height_map.shape)\n",
    "for i, pos in enumerate(zip(*np.where(minimum))):\n",
    "    x, y = pos\n",
    "    basin[x, y] = i+1"
   ]
  },
  {
   "cell_type": "code",
   "execution_count": 27,
   "metadata": {},
   "outputs": [],
   "source": [
    "kernels = []\n",
    "kernels.append(np.array([[0, 1, 0], [0, 0, 0], [0, 0, 0]], dtype=np.float64))\n",
    "kernels.append(np.array([[0, 0, 0], [1, 0, 0], [0, 0, 0]], dtype=np.float64))\n",
    "kernels.append(np.array([[0, 0, 0], [0, 0, 1], [0, 0, 0]], dtype=np.float64))\n",
    "kernels.append(np.array([[0, 0, 0], [0, 0, 0], [0, 1, 0]], dtype=np.float64))\n",
    "\n",
    "for i in range(9):\n",
    "    basin_new = np.array([convolve2d(basin, kernels[i], mode='same', boundary='fill', fillvalue=0) for i in range(len(kernels))] + [basin])\n",
    "    basin = basin_new.max(axis=0)\n",
    "    basin[height_map==9] = 0\n",
    "#     break"
   ]
  },
  {
   "cell_type": "code",
   "execution_count": 28,
   "metadata": {},
   "outputs": [
    {
     "data": {
      "text/plain": [
       "array([[1., 1., 0., 0., 0., 4., 4., 4., 4., 4.],\n",
       "       [1., 0., 2., 2., 2., 0., 4., 0., 4., 4.],\n",
       "       [0., 2., 2., 2., 2., 2., 0., 3., 0., 4.],\n",
       "       [2., 2., 2., 2., 2., 0., 3., 3., 3., 0.],\n",
       "       [0., 2., 0., 0., 0., 3., 3., 3., 3., 3.]])"
      ]
     },
     "execution_count": 28,
     "metadata": {},
     "output_type": "execute_result"
    }
   ],
   "source": [
    "basin.T"
   ]
  },
  {
   "cell_type": "code",
   "execution_count": 174,
   "metadata": {},
   "outputs": [
    {
     "data": {
      "text/plain": [
       "206.0"
      ]
     },
     "execution_count": 174,
     "metadata": {},
     "output_type": "execute_result"
    }
   ],
   "source": [
    "basin.max()"
   ]
  },
  {
   "cell_type": "code",
   "execution_count": 175,
   "metadata": {},
   "outputs": [
    {
     "data": {
      "text/plain": [
       "2571"
      ]
     },
     "execution_count": 175,
     "metadata": {},
     "output_type": "execute_result"
    }
   ],
   "source": [
    "basin_size = Counter(basin.astype(np.int32).flatten().tolist())\n",
    "basin_size.pop(0)\n"
   ]
  },
  {
   "cell_type": "code",
   "execution_count": 176,
   "metadata": {},
   "outputs": [
    {
     "name": "stdout",
     "output_type": "stream",
     "text": [
      "\u001b[32mThat's the right answer!  You are one gold star closer to finding the sleigh keys.You have completed Day 9! You can [Shareon\n",
      "  Twitter\n",
      "Mastodon] this victory or [Return to Your Advent Calendar].\u001b[0m\n"
     ]
    }
   ],
   "source": [
    "puzzle.answer_b = int(np.product(sorted(basin_size.values())[-3:]))"
   ]
  },
  {
   "cell_type": "code",
   "execution_count": 179,
   "metadata": {},
   "outputs": [],
   "source": [
    "import matplotlib.pyplot as plt\n",
    "plt.rcParams['figure.figsize'] = (12, 8)"
   ]
  },
  {
   "cell_type": "code",
   "execution_count": 192,
   "metadata": {},
   "outputs": [
    {
     "data": {
      "image/png": "[encoded data removed]",
      "text/plain": [
       "<Figure size 864x576 with 1 Axes>"
      ]
     },
     "metadata": {
      "needs_background": "light"
     },
     "output_type": "display_data"
    }
   ],
   "source": [
    "plt_basin = basin.copy()\n",
    "plt_basin[plt_basin == 0] = 0\n",
    "plt.imshow(plt_basin)\n",
    "plt.savefig('basins.png')"
   ]
  },
  {
   "cell_type": "code",
   "execution_count": 12,
   "metadata": {},
   "outputs": [
    {
     "data": {
      "text/plain": [
       "array([[2, 3, 9, 8, 9],\n",
       "       [1, 9, 8, 7, 8],\n",
       "       [9, 8, 5, 6, 9],\n",
       "       [9, 7, 6, 7, 9],\n",
       "       [9, 8, 7, 8, 9],\n",
       "       [4, 9, 8, 9, 6],\n",
       "       [3, 4, 9, 6, 5],\n",
       "       [2, 9, 8, 7, 6],\n",
       "       [1, 2, 9, 8, 7],\n",
       "       [0, 1, 2, 9, 8]], dtype=int8)"
      ]
     },
     "execution_count": 12,
     "metadata": {},
     "output_type": "execute_result"
    }
   ],
   "source": [
    "from scipy.ndimage import generic_filter\n",
    "height_map"
   ]
  },
  {
   "cell_type": "code",
   "execution_count": 24,
   "metadata": {},
   "outputs": [
    {
     "data": {
      "text/plain": [
       "array([1, 5, 5, 0], dtype=int8)"
      ]
     },
     "execution_count": 24,
     "metadata": {},
     "output_type": "execute_result"
    }
   ],
   "source": [
    "height_map[generic_filter(height_map, np.min, size=3) == height_map]"
   ]
  },
  {
   "cell_type": "code",
   "execution_count": 42,
   "metadata": {},
   "outputs": [
    {
     "data": {
      "text/plain": [
       "array([[1., 1., 0., 0., 0., 4., 4., 4., 4., 4.],\n",
       "       [1., 0., 2., 2., 2., 0., 4., 0., 4., 4.],\n",
       "       [0., 2., 2., 2., 2., 2., 0., 3., 0., 4.],\n",
       "       [2., 2., 2., 2., 2., 0., 3., 3., 3., 0.],\n",
       "       [0., 2., 0., 0., 0., 3., 3., 3., 3., 3.]])"
      ]
     },
     "execution_count": 42,
     "metadata": {},
     "output_type": "execute_result"
    }
   ],
   "source": [
    "f = basin.copy()\n",
    "kernel = np.array([[0, 1, 0], [1, 1, 1], [0, 1, 0]])\n",
    "\n",
    "for i in range(9):\n",
    "    new = generic_filter(f, np.max, footprint=kernel)\n",
    "    new[height_map==9] = 0\n",
    "    f = new\n",
    "f.T"
   ]
  },
  {
   "cell_type": "code",
   "execution_count": 36,
   "metadata": {},
   "outputs": [
    {
     "data": {
      "text/plain": [
       "array([[0., 1., 0., 0., 0., 0., 0., 0., 0., 4.],\n",
       "       [0., 0., 0., 0., 0., 0., 0., 0., 0., 0.],\n",
       "       [0., 0., 2., 0., 0., 0., 0., 0., 0., 0.],\n",
       "       [0., 0., 0., 0., 0., 0., 0., 0., 0., 0.],\n",
       "       [0., 0., 0., 0., 0., 0., 3., 0., 0., 0.]])"
      ]
     },
     "execution_count": 36,
     "metadata": {},
     "output_type": "execute_result"
    }
   ],
   "source": [
    "basin.T"
   ]
  },
  {
   "cell_type": "code",
   "execution_count": null,
   "metadata": {},
   "outputs": [],
   "source": []
  }
 ],
 "metadata": {
  "kernelspec": {
   "display_name": "Python 3",
   "language": "python",
   "name": "python3"
  },
  "language_info": {
   "codemirror_mode": {
    "name": "ipython",
    "version": 3
   },
   "file_extension": ".py",
   "mimetype": "text/x-python",
   "name": "python",
   "nbconvert_exporter": "python",
   "pygments_lexer": "ipython3",
   "version": "3.7.3"
  }
 },
 "nbformat": 4,
 "nbformat_minor": 4
}
