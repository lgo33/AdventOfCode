{
 "cells": [
  {
   "cell_type": "code",
   "execution_count": 1,
   "metadata": {},
   "outputs": [],
   "source": [
    "import aocd\n",
    "from aocd.models import Puzzle\n",
    "day = 21\n",
    "year = 2021\n",
    "puzzle = Puzzle(year=year, day=day)\n",
    "# data = aocd.get_data(day=day, year=year)\n",
    "with open('./data/input_{:02d}'.format(day), 'w') as fh:\n",
    "    fh.write(puzzle.input_data)"
   ]
  },
  {
   "cell_type": "code",
   "execution_count": 2,
   "metadata": {},
   "outputs": [
    {
     "data": {
      "text/plain": [
       "(2, ['Player 1 starting position: 1', 'Player 2 starting position: 10'])"
      ]
     },
     "execution_count": 2,
     "metadata": {},
     "output_type": "execute_result"
    }
   ],
   "source": [
    "data = puzzle.input_data.splitlines()\n",
    "len(data), data[:10]"
   ]
  },
  {
   "cell_type": "code",
   "execution_count": 5,
   "metadata": {},
   "outputs": [],
   "source": [
    "test_data = \"\"\"Player 1 starting position: 4\n",
    "Player 2 starting position: 8\"\"\".splitlines()"
   ]
  },
  {
   "cell_type": "code",
   "execution_count": 42,
   "metadata": {},
   "outputs": [],
   "source": [
    "class Die():\n",
    "    def __init__(self):\n",
    "        self.numrolls = 0\n",
    "    \n",
    "class DeterministicDie(Die):\n",
    "    def __init__(self):\n",
    "        super().__init__()\n",
    "        self.cnt = 0\n",
    "        self.maxcnt = 100\n",
    "    \n",
    "    def __next__(self):\n",
    "        self.cnt += 1\n",
    "        if self.cnt > self.maxcnt:\n",
    "            self.cnt = 1\n",
    "        self.numrolls += 1\n",
    "        return self.cnt\n",
    "    \n",
    "class DiracDie(Die):\n",
    "    def __init__(self):\n",
    "        super().__init__()\n",
    "        self.cnt = 0\n",
    "        self.maxcnt = 100    \n",
    "\n",
    "\n",
    "class Game():\n",
    "    def __init__(self, pos1, pos2, die):\n",
    "        self.pos = [pos1, pos2]\n",
    "        self.maxnum = 10\n",
    "        self.die = die\n",
    "        self.score = [0, 0]\n",
    "        self.cur = 0\n",
    "        self.numturns = 0\n",
    "        \n",
    "    def turn(self):\n",
    "        rolls = []\n",
    "        for i in range(3):\n",
    "            rolls.append(next(self.die))\n",
    "        total = sum(rolls)\n",
    "        cur = self.cur\n",
    "        self.pos[cur] += total\n",
    "        if self.pos[cur] > self.maxnum:\n",
    "            self.pos[cur] = ((self.pos[cur] - 1) % self.maxnum) + 1\n",
    "        self.score[cur] += self.pos[cur]\n",
    "        self.cur = (self.cur + 1) % 2\n",
    "        \n",
    "    def play(self):\n",
    "        while self.score[0] < 1000 and self.score[1] < 1000:\n",
    "            self.turn()\n",
    "            self.numturns += 1\n",
    "        if self.score[0] >= 1000:\n",
    "            return 0\n",
    "        else: \n",
    "            return 1"
   ]
  },
  {
   "cell_type": "code",
   "execution_count": 43,
   "metadata": {},
   "outputs": [],
   "source": [
    "game = Game(4, 8, DeterministicDie())"
   ]
  },
  {
   "cell_type": "code",
   "execution_count": 44,
   "metadata": {},
   "outputs": [
    {
     "data": {
      "text/plain": [
       "0"
      ]
     },
     "execution_count": 44,
     "metadata": {},
     "output_type": "execute_result"
    }
   ],
   "source": [
    "game.play()"
   ]
  },
  {
   "cell_type": "code",
   "execution_count": 46,
   "metadata": {},
   "outputs": [
    {
     "data": {
      "text/plain": [
       "993"
      ]
     },
     "execution_count": 46,
     "metadata": {},
     "output_type": "execute_result"
    }
   ],
   "source": [
    "game.die.numrolls"
   ]
  },
  {
   "cell_type": "code",
   "execution_count": 39,
   "metadata": {},
   "outputs": [
    {
     "data": {
      "text/plain": [
       "[1000, 745]"
      ]
     },
     "execution_count": 39,
     "metadata": {},
     "output_type": "execute_result"
    }
   ],
   "source": [
    "game.score"
   ]
  },
  {
   "cell_type": "code",
   "execution_count": 57,
   "metadata": {},
   "outputs": [],
   "source": [
    "game = Game(1, 10, DeterministicDie())\n",
    "winner = game.play()"
   ]
  },
  {
   "cell_type": "code",
   "execution_count": 60,
   "metadata": {},
   "outputs": [
    {
     "name": "stdout",
     "output_type": "stream",
     "text": [
      "\u001b[32mThat's the right answer!  You are one gold star closer to finding the sleigh keys. [Continue to Part Two]\u001b[0m\n"
     ]
    }
   ],
   "source": [
    "puzzle.answer_a = game.score[1-winner] * game.die.numrolls"
   ]
  },
  {
   "cell_type": "code",
   "execution_count": 93,
   "metadata": {},
   "outputs": [],
   "source": [
    "# Part B"
   ]
  },
  {
   "cell_type": "code",
   "execution_count": 124,
   "metadata": {},
   "outputs": [],
   "source": [
    "from itertools import product\n",
    "from collections import Counter\n",
    "import numpy as np"
   ]
  },
  {
   "cell_type": "code",
   "execution_count": 113,
   "metadata": {},
   "outputs": [],
   "source": [
    "# possible sums of 3 dice\n",
    "a = list(itertools.product(range(1, 4), range(1, 4), range(1, 4)))\n",
    "npath_roll = Counter([sum(x) for x in a])"
   ]
  },
  {
   "cell_type": "code",
   "execution_count": 289,
   "metadata": {},
   "outputs": [],
   "source": [
    "maxscore = 21\n",
    "maxturns = maxscore\n",
    "maxpos = 10 \n"
   ]
  },
  {
   "cell_type": "code",
   "execution_count": 290,
   "metadata": {},
   "outputs": [],
   "source": [
    "dice_possible = np.zeros(maxpos)\n",
    "for idx, npath in npath_roll.items():\n",
    "    dice_possible[idx] = npath"
   ]
  },
  {
   "cell_type": "code",
   "execution_count": 291,
   "metadata": {},
   "outputs": [],
   "source": [
    "dice_matrix = [np.roll(dice_possible, i) for i in range(maxpos)]\n",
    "dice_matrix = np.array(dice_matrix, dtype=np.int)\n",
    "# dice_matrix = dice_matrix[:, :, np.newaxis]"
   ]
  },
  {
   "cell_type": "code",
   "execution_count": 487,
   "metadata": {
    "tags": []
   },
   "outputs": [
    {
     "name": "stdout",
     "output_type": "stream",
     "text": [
      "CPU times: user 9 µs, sys: 2 µs, total: 11 µs\n",
      "Wall time: 55.6 µs\n"
     ]
    }
   ],
   "source": [
    "%%time\n",
    "# turn, pos, score\n",
    "def get_num_paths(init_pos):\n",
    "    num_paths = np.zeros((maxturns+1, maxpos, maxscore+1), dtype=np.uint64)\n",
    "    num_paths[0, init_pos-1, 0] = 1\n",
    "    # num_paths[0, 8, 10] = 2\n",
    "\n",
    "    for turn in range(maxturns):\n",
    "        for pos in range(maxpos):\n",
    "            for score in range(maxscore):\n",
    "                npath = num_paths[turn, pos, score]\n",
    "                if npath == 0:\n",
    "                    continue\n",
    "                npath_pos = npath * dice_matrix[pos]\n",
    "    #             print(turn, pos, score, npath_pos)\n",
    "                for i, x in enumerate(npath_pos):                \n",
    "                    new_score = score + i + 1\n",
    "                    if new_score > maxscore:\n",
    "                        new_score = maxscore\n",
    "\n",
    "                    num_paths[turn+1, i, new_score] += npath_pos[i]\n",
    "    #                 print(new_score, npath_pos[i])\n",
    "                \n",
    "                \n",
    "#     if turn > 2:\n",
    "#         break\n",
    "    return num_paths"
   ]
  },
  {
   "cell_type": "code",
   "execution_count": 492,
   "metadata": {},
   "outputs": [],
   "source": [
    "num_paths_A = get_num_paths(1)\n",
    "num_paths_B = get_num_paths(10)"
   ]
  },
  {
   "cell_type": "code",
   "execution_count": 493,
   "metadata": {},
   "outputs": [],
   "source": [
    "num_turn_win_A = num_paths_A[:,:,maxscore].sum(axis=1)\n",
    "num_turn_win_B = num_paths_B[:,:,maxscore].sum(axis=1)\n",
    "\n",
    "num_turn_A = num_paths_A[:,:,:maxscore].sum(axis=(1, 2))\n",
    "num_turn_B = num_paths_B[:,:,:maxscore].sum(axis=(1, 2))"
   ]
  },
  {
   "cell_type": "code",
   "execution_count": 494,
   "metadata": {
    "tags": []
   },
   "outputs": [],
   "source": [
    "num_universes_A = (num_turn_win_A * np.roll(num_turn_B, 1)).sum()\n",
    "num_universes_B = (num_turn_win_B * np.roll(num_turn_A, 0)).sum()"
   ]
  },
  {
   "cell_type": "code",
   "execution_count": 495,
   "metadata": {},
   "outputs": [
    {
     "data": {
      "text/plain": [
       "(57328067654557, 32971421421058)"
      ]
     },
     "execution_count": 495,
     "metadata": {},
     "output_type": "execute_result"
    }
   ],
   "source": [
    "num_universes_A, num_universes_B"
   ]
  },
  {
   "cell_type": "code",
   "execution_count": 486,
   "metadata": {
    "tags": []
   },
   "outputs": [
    {
     "name": "stdout",
     "output_type": "stream",
     "text": [
      "\u001b[32mThat's the right answer!  You are one gold star closer to finding the sleigh keys.You have completed Day 21! You can [Shareon\n",
      "  Twitter\n",
      "Mastodon] this victory or [Return to Your Advent Calendar].\u001b[0m\n"
     ]
    }
   ],
   "source": [
    "puzzle.answer_b = num_universes_A"
   ]
  },
  {
   "cell_type": "code",
   "execution_count": null,
   "metadata": {},
   "outputs": [],
   "source": []
  }
 ],
 "metadata": {
  "kernelspec": {
   "display_name": "Python 3",
   "language": "python",
   "name": "python3"
  },
  "language_info": {
   "codemirror_mode": {
    "name": "ipython",
    "version": 3
   },
   "file_extension": ".py",
   "mimetype": "text/x-python",
   "name": "python",
   "nbconvert_exporter": "python",
   "pygments_lexer": "ipython3",
   "version": "3.7.3"
  }
 },
 "nbformat": 4,
 "nbformat_minor": 4
}
