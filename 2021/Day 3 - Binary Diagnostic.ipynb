{
 "cells": [
  {
   "cell_type": "code",
   "execution_count": 1,
   "metadata": {},
   "outputs": [],
   "source": [
    "import aocd\n",
    "from aocd.models import Puzzle\n",
    "day = 3\n",
    "year = 2021\n",
    "puzzle = Puzzle(year=year, day=day)\n",
    "# data = aocd.get_data(day=day, year=year)\n",
    "with open('./data/input_{:02d}'.format(day), 'w') as fh:\n",
    "    fh.write(puzzle.input_data)"
   ]
  },
  {
   "cell_type": "code",
   "execution_count": 4,
   "metadata": {},
   "outputs": [
    {
     "name": "stdout",
     "output_type": "stream",
     "text": [
      "1000\n"
     ]
    },
    {
     "data": {
      "text/plain": [
       "['101001011000',\n",
       " '100000101010',\n",
       " '110000011001',\n",
       " '010000100111',\n",
       " '100111101110',\n",
       " '101110000000',\n",
       " '001010111010',\n",
       " '001101110110',\n",
       " '100100001100',\n",
       " '101011011010']"
      ]
     },
     "execution_count": 4,
     "metadata": {},
     "output_type": "execute_result"
    }
   ],
   "source": [
    "data = puzzle.input_data.splitlines()\n",
    "print(len(data))\n",
    "data[:10]"
   ]
  },
  {
   "cell_type": "code",
   "execution_count": 7,
   "metadata": {},
   "outputs": [
    {
     "name": "stdout",
     "output_type": "stream",
     "text": [
      "['0', '1', '1', '1', '0', '0', '0', '1', '1', '0', '0', '0'] ['1', '0', '0', '0', '1', '1', '1', '0', '0', '1', '1', '1']\n"
     ]
    }
   ],
   "source": [
    "ndat = len(data)\n",
    "nbit = len(data[0])\n",
    "gamma = []\n",
    "epsilon = []\n",
    "\n",
    "for i in range(nbit):\n",
    "    cnt = 0\n",
    "    for j in range(ndat):\n",
    "        if data[j][i] == '1':\n",
    "            cnt += 1\n",
    "    if (cnt > (ndat//2)):\n",
    "        gamma.append('1')\n",
    "        epsilon.append('0')\n",
    "    else:\n",
    "        gamma.append('0')\n",
    "        epsilon.append('1')\n",
    "\n",
    "print(gamma, epsilon)"
   ]
  },
  {
   "cell_type": "code",
   "execution_count": 10,
   "metadata": {},
   "outputs": [
    {
     "name": "stdout",
     "output_type": "stream",
     "text": [
      "\u001b[32mThat's the right answer!  You are one gold star closer to finding the sleigh keys. [Continue to Part Two]\u001b[0m\n"
     ]
    }
   ],
   "source": [
    "puzzle.answer_a = int(\"\".join(gamma), 2) * int(\"\".join(epsilon), 2)"
   ]
  },
  {
   "cell_type": "code",
   "execution_count": 54,
   "metadata": {},
   "outputs": [],
   "source": [
    "def get_count(data, idx):\n",
    "    one_cnt = 0\n",
    "    zero_cnt = 0\n",
    "    for d in data:\n",
    "        if d[idx] == '1':\n",
    "            one_cnt += 1\n",
    "        else:\n",
    "            zero_cnt += 1\n",
    "    return one_cnt, zero_cnt\n",
    "                \n",
    "\n",
    "def get_rating(data, default):\n",
    "    search_list = data.copy()\n",
    "    idx=0\n",
    "    while len(search_list)>1:            \n",
    "        one_cnt, zero_cnt = get_count(search_list, idx)\n",
    "        if ((default == 1) and (one_cnt >= zero_cnt)) or ((default == 0) and (one_cnt < zero_cnt)):\n",
    "            keep = '1' \n",
    "        else:    \n",
    "            keep = '0'      \n",
    "#         print(idx, keep, len(search_list))\n",
    "        i = 0\n",
    "        while i < len(search_list):\n",
    "            if search_list[i][idx] == keep:\n",
    "                i += 1\n",
    "            else:\n",
    "                search_list.pop(i)\n",
    "        idx+=1\n",
    "    return search_list[0]\n",
    "    "
   ]
  },
  {
   "cell_type": "code",
   "execution_count": 55,
   "metadata": {},
   "outputs": [
    {
     "data": {
      "text/plain": [
       "['00100',\n",
       " '11110',\n",
       " '10110',\n",
       " '10111',\n",
       " '10101',\n",
       " '01111',\n",
       " '00111',\n",
       " '11100',\n",
       " '10000',\n",
       " '11001',\n",
       " '00010',\n",
       " '01010']"
      ]
     },
     "execution_count": 55,
     "metadata": {},
     "output_type": "execute_result"
    }
   ],
   "source": [
    "test_data = \"\"\"00100\n",
    "11110\n",
    "10110\n",
    "10111\n",
    "10101\n",
    "01111\n",
    "00111\n",
    "11100\n",
    "10000\n",
    "11001\n",
    "00010\n",
    "01010\"\"\".split()\n",
    "test_data"
   ]
  },
  {
   "cell_type": "code",
   "execution_count": 56,
   "metadata": {},
   "outputs": [
    {
     "data": {
      "text/plain": [
       "'10111'"
      ]
     },
     "execution_count": 56,
     "metadata": {},
     "output_type": "execute_result"
    }
   ],
   "source": [
    "# Test\n",
    "get_rating(test_data, 1)"
   ]
  },
  {
   "cell_type": "code",
   "execution_count": 57,
   "metadata": {
    "tags": []
   },
   "outputs": [
    {
     "data": {
      "text/plain": [
       "'01010'"
      ]
     },
     "execution_count": 57,
     "metadata": {},
     "output_type": "execute_result"
    }
   ],
   "source": [
    "# Test\n",
    "get_rating(test_data, 0)"
   ]
  },
  {
   "cell_type": "code",
   "execution_count": 58,
   "metadata": {},
   "outputs": [
    {
     "name": "stdout",
     "output_type": "stream",
     "text": [
      "\u001b[32mThat's the right answer!  You are one gold star closer to finding the sleigh keys.You have completed Day 3! You can [Shareon\n",
      "  Twitter\n",
      "Mastodon] this victory or [Return to Your Advent Calendar].\u001b[0m\n"
     ]
    }
   ],
   "source": [
    "puzzle.answer_b = int(get_rating(data, 0), 2) * int(get_rating(data, 1), 2)"
   ]
  },
  {
   "cell_type": "code",
   "execution_count": null,
   "metadata": {},
   "outputs": [],
   "source": []
  }
 ],
 "metadata": {
  "kernelspec": {
   "display_name": "Python 3",
   "language": "python",
   "name": "python3"
  },
  "language_info": {
   "codemirror_mode": {
    "name": "ipython",
    "version": 3
   },
   "file_extension": ".py",
   "mimetype": "text/x-python",
   "name": "python",
   "nbconvert_exporter": "python",
   "pygments_lexer": "ipython3",
   "version": "3.7.3"
  }
 },
 "nbformat": 4,
 "nbformat_minor": 4
}
