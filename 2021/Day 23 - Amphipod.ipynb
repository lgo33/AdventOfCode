{
 "cells": [
  {
   "cell_type": "code",
   "execution_count": 1,
   "metadata": {},
   "outputs": [],
   "source": [
    "import aocd\n",
    "from aocd.models import Puzzle\n",
    "day = 23\n",
    "year = 2021\n",
    "puzzle = Puzzle(year=year, day=day)\n",
    "# data = aocd.get_data(day=day, year=year)\n",
    "with open('./data/input_{:02d}'.format(day), 'w') as fh:\n",
    "    fh.write(puzzle.input_data)"
   ]
  },
  {
   "cell_type": "code",
   "execution_count": 24,
   "metadata": {},
   "outputs": [],
   "source": [
    "from heapq import heappush, heappop"
   ]
  },
  {
   "cell_type": "code",
   "execution_count": 2,
   "metadata": {},
   "outputs": [
    {
     "data": {
      "text/plain": [
       "(5,\n",
       " ['#############',\n",
       "  '#...........#',\n",
       "  '###C#C#B#D###',\n",
       "  '  #D#A#B#A#',\n",
       "  '  #########'])"
      ]
     },
     "execution_count": 2,
     "metadata": {},
     "output_type": "execute_result"
    }
   ],
   "source": [
    "data = puzzle.input_data.splitlines()\n",
    "len(data), data[:10]"
   ]
  },
  {
   "cell_type": "code",
   "execution_count": 15,
   "metadata": {},
   "outputs": [],
   "source": [
    "test_data = \"\"\"#############\n",
    "#...........#\n",
    "###B#C#B#D###\n",
    "  #A#D#C#A#\n",
    "  #########\"\"\""
   ]
  },
  {
   "cell_type": "code",
   "execution_count": 18,
   "metadata": {},
   "outputs": [
    {
     "name": "stdout",
     "output_type": "stream",
     "text": [
      " 0123456789\n",
      "#############\n",
      "#...........#\n",
      "###B#C#B#D###\n",
      "  #A#D#C#A#\n",
      "  #########\n"
     ]
    }
   ],
   "source": [
    "print(\" \"+\"\".join([str(i) for i in range(10)]))\n",
    "print(test_data)"
   ]
  },
  {
   "cell_type": "code",
   "execution_count": 260,
   "metadata": {},
   "outputs": [],
   "source": [
    "start_test = (0, [],\n",
    "         (\n",
    "             (2,2), (8,2), \n",
    "             (2,1), (6,1),\n",
    "             (4,1), (6,2),\n",
    "             (4,2), (8,1)\n",
    "         )\n",
    "        )"
   ]
  },
  {
   "cell_type": "code",
   "execution_count": 261,
   "metadata": {},
   "outputs": [],
   "source": [
    "start = (0, [],\n",
    "         (\n",
    "             (4,2), (8,2), \n",
    "             (6,1), (6,2),\n",
    "             (2,1), (4,1),\n",
    "             (2,2), (8,1)\n",
    "         )\n",
    "        )"
   ]
  },
  {
   "cell_type": "code",
   "execution_count": 267,
   "metadata": {},
   "outputs": [],
   "source": [
    "def free_target(idx_target, positions):\n",
    "    target_col = idx_target * 2\n",
    "    for i, pos in enumerate(positions):\n",
    "        x, y = pos\n",
    "        idx = i//2 + 1\n",
    "        if x == target_col and idx!= idx_target:\n",
    "            return False\n",
    "    return True\n",
    "\n",
    "def check_finished(positions):\n",
    "    for i, pos in enumerate(positions):\n",
    "        x, y = pos\n",
    "        idx = i//2 + 1\n",
    "        if idx*2 != x:\n",
    "            return False\n",
    "    return True\n",
    "\n",
    "def check_free(x1, x2, positions):\n",
    "    xa, xb = sorted((x1, x2))\n",
    "    for x in range(xa, xb+1):\n",
    "        if x == x1:\n",
    "            continue\n",
    "        if (x, 0) in positions:\n",
    "            return False\n",
    "    return True\n",
    "\n",
    "def replace(i, pos, positions):\n",
    "#     print(i, pos, positions)\n",
    "    new_positions = list(positions)\n",
    "    new_positions[i] = pos\n",
    "    return tuple(new_positions)\n",
    "      \n",
    "\n",
    "def gen_moves(positions):\n",
    "#     print(positions)\n",
    "    for i, pos in enumerate(positions):\n",
    "        x, y = pos\n",
    "        idx = i//2 + 1\n",
    "        de = 10**(idx-1)\n",
    "        if x == (idx*2) and y == 2:\n",
    "            continue\n",
    "            \n",
    "        # try to move to target_col\n",
    "        if y == 0:\n",
    "            if not free_target(idx, positions):\n",
    "                continue\n",
    "            if check_free(x, idx*2, positions):\n",
    "                if idx==99:\n",
    "                    print(\"moving in {} {} | idx={} positions={}\".format(x, y, idx, positions))\n",
    "                dx = abs(x-idx*2)\n",
    "                energy = dx*de\n",
    "                if (idx*2, 2) not in positions:\n",
    "                    yield (energy+2*de, replace(i, (idx*2, 2), positions))\n",
    "                else:\n",
    "                    yield (energy+1*de, replace(i, (idx*2, 1), positions))\n",
    "                    \n",
    "        # move out of the way\n",
    "        else:\n",
    "            if y == 2 and ((x, 1) in positions):\n",
    "                continue\n",
    "            energy = y*de\n",
    "            for nsteps, xx in enumerate(range(x, 11)):\n",
    "                if (xx, 0) in positions: \n",
    "                    break\n",
    "                if xx not in (2, 4, 6, 8):\n",
    "                    yield (energy + de*nsteps, replace(i, (xx, 0), positions))\n",
    "            \n",
    "            for nsteps, xx in enumerate(range(x, -1, -1)):\n",
    "                if (xx, 0) in positions: \n",
    "                    break\n",
    "                if  xx not in (2, 4, 6, 8):\n",
    "                    yield (energy + de*nsteps, replace(i, (xx, 0), positions))\n",
    "                    \n",
    "            \n",
    "    \n",
    "\n",
    "def sim(start):\n",
    "    minpos = 0\n",
    "    maxpos = 10\n",
    "    visited = set()\n",
    "    target = (\n",
    "         (2,1), (2,2), \n",
    "         (4,1), (4,2),\n",
    "         (6,1), (6,2),\n",
    "         (8,1), (8,2)\n",
    "    )\n",
    "    moves = []\n",
    "    heappush(moves, start)\n",
    "    nsteps = 0\n",
    "    last = None\n",
    "    while True:\n",
    "        try:\n",
    "            nxt = heappop(moves)\n",
    "            last = nxt\n",
    "            nsteps += 1\n",
    "        except IndexError:\n",
    "            print('no more moves', nsteps, energy)\n",
    "            return last\n",
    "        energy = nxt[0]\n",
    "        path = nxt[1]\n",
    "        positions = nxt[2]\n",
    "        if len(set(positions)) < 8:\n",
    "            print(positions)\n",
    "        if positions in visited:\n",
    "            continue\n",
    "        visited.add(positions)\n",
    "\n",
    "        if check_finished(positions):\n",
    "            print('solution found')\n",
    "            return energy, nsteps, positions, path#, moves\n",
    "        for delta_energy, new_pos in gen_moves(positions):\n",
    "#             if new_pos == target:\n",
    "#                 return energy+delta_energy, len(visited)\n",
    "#             heappush(moves, (energy+delta_energy, path + [(delta_energy, new_pos)], new_pos))\n",
    "            heappush(moves, (energy+delta_energy, [], new_pos))\n",
    "        if nsteps >= 1e6:\n",
    "            return moves\n",
    "#         break\n",
    "    return visited"
   ]
  },
  {
   "cell_type": "code",
   "execution_count": 268,
   "metadata": {},
   "outputs": [
    {
     "data": {
      "text/plain": [
       "(0, [], ((4, 2), (8, 2), (6, 1), (6, 2), (2, 1), (4, 1), (2, 2), (8, 1)))"
      ]
     },
     "execution_count": 268,
     "metadata": {},
     "output_type": "execute_result"
    }
   ],
   "source": [
    "start"
   ]
  },
  {
   "cell_type": "code",
   "execution_count": 269,
   "metadata": {
    "tags": []
   },
   "outputs": [
    {
     "name": "stdout",
     "output_type": "stream",
     "text": [
      "solution found\n",
      "CPU times: user 17.9 s, sys: 0 ns, total: 17.9 s\n",
      "Wall time: 17.9 s\n"
     ]
    }
   ],
   "source": [
    "%%time\n",
    "res = sim(start)"
   ]
  },
  {
   "cell_type": "code",
   "execution_count": 270,
   "metadata": {},
   "outputs": [
    {
     "data": {
      "text/plain": [
       "(15299,\n",
       " 676125,\n",
       " ((2, 1), (2, 2), (4, 1), (4, 2), (6, 1), (6, 2), (8, 1), (8, 2)),\n",
       " [])"
      ]
     },
     "execution_count": 270,
     "metadata": {},
     "output_type": "execute_result"
    }
   ],
   "source": [
    "res"
   ]
  },
  {
   "cell_type": "code",
   "execution_count": 266,
   "metadata": {},
   "outputs": [
    {
     "name": "stdout",
     "output_type": "stream",
     "text": [
      "\u001b[32mThat's the right answer!  You are one gold star closer to finding the sleigh keys. [Continue to Part Two]\u001b[0m\n"
     ]
    }
   ],
   "source": [
    "puzzle.answer_a = res[0]"
   ]
  },
  {
   "cell_type": "code",
   "execution_count": 271,
   "metadata": {},
   "outputs": [],
   "source": [
    "# Part B"
   ]
  },
  {
   "cell_type": "code",
   "execution_count": 434,
   "metadata": {},
   "outputs": [],
   "source": [
    "from collections import defaultdict"
   ]
  },
  {
   "cell_type": "code",
   "execution_count": 466,
   "metadata": {},
   "outputs": [],
   "source": [
    "def free_target(idx_target, positions):\n",
    "    target_col = idx_target * 2\n",
    "    for i, pos in enumerate(positions):\n",
    "        x, y = pos\n",
    "        idx = i//4 + 1\n",
    "        if x == target_col and idx!= idx_target:\n",
    "            return False\n",
    "    return True\n",
    "\n",
    "def check_finished(positions):\n",
    "    for i, pos in enumerate(positions):\n",
    "        x, y = pos\n",
    "        idx = i//4 + 1\n",
    "        if idx*2 != x:\n",
    "            return False\n",
    "    return True\n",
    "\n",
    "def check_free(x1, x2, positions):\n",
    "    xa, xb = sorted((x1, x2))\n",
    "    for x in range(xa, xb+1):\n",
    "        if x == x1:\n",
    "            continue\n",
    "        if (x, 0) in positions:\n",
    "            return False\n",
    "    return True\n",
    "\n",
    "def replace(i, pos, positions):\n",
    "#     print(i, pos, positions)\n",
    "    new_positions = list(positions)\n",
    "    new_positions[i] = pos\n",
    "    return tuple(new_positions)\n",
    "      \n",
    "\n",
    "def gen_moves(positions):\n",
    "#     print(positions)\n",
    "\n",
    "    for i, pos in enumerate(positions):\n",
    "        x, y = pos\n",
    "        idx = i//4 + 1\n",
    "        de = 10**(idx-1)\n",
    "        \n",
    "        if x == (idx*2) and y == 4:\n",
    "            continue\n",
    "            \n",
    "        correct = 0    \n",
    "        if x == (idx*2):\n",
    "            si = (idx-1)*4\n",
    "            same = positions[si:si+4]\n",
    "            \n",
    "            for yy in range(4, 0, -1):\n",
    "                if (x, yy) in same:\n",
    "                    correct += 1\n",
    "                else:\n",
    "                    break\n",
    "            \n",
    "            if correct >= 5-y:\n",
    "                continue\n",
    "                \n",
    "            \n",
    "        # try to move to target_col\n",
    "        if y == 0:\n",
    "            if not free_target(idx, positions):\n",
    "                continue\n",
    "            if check_free(x, idx*2, positions):\n",
    "                if idx==99:\n",
    "                    print(\"moving in {} {} | idx={} positions={}\".format(x, y, idx, positions))\n",
    "                dx = abs(x-idx*2)\n",
    "                energy = dx*de\n",
    "                \n",
    "                for yy in range(1, 6):\n",
    "                    if (idx*2, yy) in positions:\n",
    "                        break\n",
    "                yy -= 1\n",
    "                yield (energy+yy*de, replace(i, (idx*2, yy), positions))\n",
    "                                    \n",
    "        # move out of the way\n",
    "        else:\n",
    "            for yy in range(y-1, 0, -1):\n",
    "                if (x, yy) in positions:\n",
    "                    break\n",
    "            else:\n",
    "                energy = y*de\n",
    "                for nsteps, xx in enumerate(range(x, 11)):\n",
    "                    if (xx, 0) in positions: \n",
    "                        break\n",
    "                    if xx not in (2, 4, 6, 8):\n",
    "                        yield (energy + de*nsteps, replace(i, (xx, 0), positions))\n",
    "\n",
    "                for nsteps, xx in enumerate(range(x, -1, -1)):\n",
    "                    if (xx, 0) in positions: \n",
    "                        break\n",
    "                    if  xx not in (2, 4, 6, 8):\n",
    "                        yield (energy + de*nsteps, replace(i, (xx, 0), positions))\n",
    "                    \n",
    "            \n",
    "    \n",
    "def sim(start):\n",
    "    minpos = 0\n",
    "    maxpos = 10\n",
    "    visited = set()\n",
    "    moves = []\n",
    "    heappush(moves, start)\n",
    "    nsteps = 0\n",
    "    last = None\n",
    "    while True:\n",
    "        try:\n",
    "            nxt = heappop(moves)\n",
    "            last = nxt\n",
    "            nsteps += 1\n",
    "        except IndexError:\n",
    "            print('no more moves', nsteps, energy)\n",
    "            return last\n",
    "        len_path = nxt[0]\n",
    "        energy = nxt[1]\n",
    "        path = nxt[2]\n",
    "        if len_path > 50:\n",
    "            print('max path length reached')\n",
    "            return moves\n",
    "        positions = nxt[3]\n",
    "        \n",
    "        if len(set(positions)) < 16:\n",
    "            print(positions)\n",
    "        if positions in visited:\n",
    "            continue\n",
    "        visited.add(positions)\n",
    "\n",
    "        if check_finished(positions):\n",
    "            print('solution found')\n",
    "            return energy, nsteps, positions, path#, moves\n",
    "        for delta_energy, new_pos in gen_moves(positions):\n",
    "#             if new_pos == target:\n",
    "#                 return energy+delta_energy, len(visited)\n",
    "#             heappush(moves, (len(path)+1, energy+delta_energy, path + [(delta_energy, (set(positions)-set(new_pos), set(new_pos)-set(positions)))], new_pos))\n",
    "            heappush(moves, (len_path+1, energy+delta_energy, None, new_pos))\n",
    "#             heappush(moves, (energy+delta_energy, path+1, new_pos))\n",
    "        if nsteps >= 1e7:\n",
    "            print('max moves reached')\n",
    "            return moves\n",
    "#         break\n",
    "    return visited"
   ]
  },
  {
   "cell_type": "code",
   "execution_count": 467,
   "metadata": {},
   "outputs": [],
   "source": [
    "start_test_B = (0, 0,\n",
    " [],\n",
    " ((2, 4),\n",
    "  (8, 4),\n",
    "  (6, 3),\n",
    "  (8, 2),\n",
    "  (2, 1),\n",
    "  (6, 1),\n",
    "  (4, 3),\n",
    "  (6, 2),\n",
    "  (4, 1),\n",
    "  (6, 4),\n",
    "  (4, 2),\n",
    "  (8, 3),\n",
    "  (4, 4),\n",
    "  (8, 1),\n",
    "  (2, 2),\n",
    "  (2, 3)))"
   ]
  },
  {
   "cell_type": "code",
   "execution_count": 468,
   "metadata": {},
   "outputs": [],
   "source": [
    "start_B = (0, 0,\n",
    " [],\n",
    " ((4, 4),\n",
    "  (8, 4),\n",
    "  (6, 3),\n",
    "  (8, 2),\n",
    "  (6, 1),\n",
    "  (6, 4),\n",
    "  (4, 3),\n",
    "  (6, 2),\n",
    "  (2, 1),\n",
    "  (4, 1),\n",
    "  (4, 2),\n",
    "  (8, 3),\n",
    "  (2, 4),\n",
    "  (8, 1),\n",
    "  (2, 2),\n",
    "  (2, 3)))"
   ]
  },
  {
   "cell_type": "code",
   "execution_count": 456,
   "metadata": {},
   "outputs": [],
   "source": [
    "# test target: 44169"
   ]
  },
  {
   "cell_type": "code",
   "execution_count": 469,
   "metadata": {
    "tags": []
   },
   "outputs": [
    {
     "name": "stdout",
     "output_type": "stream",
     "text": [
      "solution found\n",
      "CPU times: user 27.3 s, sys: 44.5 ms, total: 27.3 s\n",
      "Wall time: 27.3 s\n"
     ]
    }
   ],
   "source": [
    "%%time\n",
    "res = sim(start_B)"
   ]
  },
  {
   "cell_type": "code",
   "execution_count": 470,
   "metadata": {},
   "outputs": [
    {
     "data": {
      "text/plain": [
       "(0,\n",
       " 0,\n",
       " [],\n",
       " ((4, 4),\n",
       "  (8, 4),\n",
       "  (6, 3),\n",
       "  (8, 2),\n",
       "  (6, 1),\n",
       "  (6, 4),\n",
       "  (4, 3),\n",
       "  (6, 2),\n",
       "  (2, 1),\n",
       "  (4, 1),\n",
       "  (4, 2),\n",
       "  (8, 3),\n",
       "  (2, 4),\n",
       "  (8, 1),\n",
       "  (2, 2),\n",
       "  (2, 3)))"
      ]
     },
     "execution_count": 470,
     "metadata": {},
     "output_type": "execute_result"
    }
   ],
   "source": [
    "start_B"
   ]
  },
  {
   "cell_type": "code",
   "execution_count": 473,
   "metadata": {},
   "outputs": [
    {
     "data": {
      "text/plain": [
       "47193"
      ]
     },
     "execution_count": 473,
     "metadata": {},
     "output_type": "execute_result"
    }
   ],
   "source": [
    "res[0]"
   ]
  },
  {
   "cell_type": "code",
   "execution_count": 472,
   "metadata": {},
   "outputs": [
    {
     "ename": "TypeError",
     "evalue": "object of type 'NoneType' has no len()",
     "output_type": "error",
     "traceback": [
      "\u001b[0;31m---------------------------------------------------------------------------\u001b[0m",
      "\u001b[0;31mTypeError\u001b[0m                                 Traceback (most recent call last)",
      "\u001b[0;32m<ipython-input-472-b46f2d850d3c>\u001b[0m in \u001b[0;36m<module>\u001b[0;34m\u001b[0m\n\u001b[0;32m----> 1\u001b[0;31m \u001b[0mlen\u001b[0m\u001b[0;34m(\u001b[0m\u001b[0mres\u001b[0m\u001b[0;34m[\u001b[0m\u001b[0;34m-\u001b[0m\u001b[0;36m1\u001b[0m\u001b[0;34m]\u001b[0m\u001b[0;34m)\u001b[0m\u001b[0;34m,\u001b[0m \u001b[0mres\u001b[0m\u001b[0;34m[\u001b[0m\u001b[0;34m-\u001b[0m\u001b[0;36m1\u001b[0m\u001b[0;34m]\u001b[0m\u001b[0;34m\u001b[0m\u001b[0;34m\u001b[0m\u001b[0m\n\u001b[0m",
      "\u001b[0;31mTypeError\u001b[0m: object of type 'NoneType' has no len()"
     ]
    }
   ],
   "source": [
    "len(res[-1]), res[-1]"
   ]
  },
  {
   "cell_type": "code",
   "execution_count": 474,
   "metadata": {},
   "outputs": [
    {
     "name": "stdout",
     "output_type": "stream",
     "text": [
      "\u001b[32mThat's the right answer!  You are one gold star closer to finding the sleigh keys.You have completed Day 23! You can [Shareon\n",
      "  Twitter\n",
      "Mastodon] this victory or [Return to Your Advent Calendar].\u001b[0m\n"
     ]
    }
   ],
   "source": [
    "puzzle.answer_b = res[0]"
   ]
  },
  {
   "cell_type": "code",
   "execution_count": 422,
   "metadata": {},
   "outputs": [],
   "source": [
    "# init = start_test_B[3]\n",
    "mv = list(gen_moves(init))"
   ]
  },
  {
   "cell_type": "code",
   "execution_count": 423,
   "metadata": {},
   "outputs": [
    {
     "data": {
      "text/plain": [
       "12"
      ]
     },
     "execution_count": 423,
     "metadata": {},
     "output_type": "execute_result"
    }
   ],
   "source": [
    "len(mv)"
   ]
  },
  {
   "cell_type": "code",
   "execution_count": 424,
   "metadata": {},
   "outputs": [
    {
     "data": {
      "text/plain": [
       "[({(6, 1)}, {(7, 0)}, 20),\n",
       " ({(6, 1)}, {(9, 0)}, 40),\n",
       " ({(6, 1)}, {(10, 0)}, 50),\n",
       " ({(4, 1)}, {(3, 0)}, 200),\n",
       " ({(4, 1)}, {(1, 0)}, 400),\n",
       " ({(4, 1)}, {(0, 0)}, 500),\n",
       " ({(8, 1)}, {(9, 0)}, 2000),\n",
       " ({(8, 1)}, {(10, 0)}, 3000),\n",
       " ({(8, 1)}, {(7, 0)}, 2000),\n",
       " ({(2, 2)}, {(3, 0)}, 3000),\n",
       " ({(2, 2)}, {(1, 0)}, 3000),\n",
       " ({(2, 2)}, {(0, 0)}, 4000)]"
      ]
     },
     "execution_count": 424,
     "metadata": {},
     "output_type": "execute_result"
    }
   ],
   "source": [
    "[(set(init)-set(m), set(m)-set(init), e) for e, m in mv ]"
   ]
  },
  {
   "cell_type": "code",
   "execution_count": null,
   "metadata": {},
   "outputs": [],
   "source": []
  }
 ],
 "metadata": {
  "kernelspec": {
   "display_name": "Python 3",
   "language": "python",
   "name": "python3"
  },
  "language_info": {
   "codemirror_mode": {
    "name": "ipython",
    "version": 3
   },
   "file_extension": ".py",
   "mimetype": "text/x-python",
   "name": "python",
   "nbconvert_exporter": "python",
   "pygments_lexer": "ipython3",
   "version": "3.7.3"
  }
 },
 "nbformat": 4,
 "nbformat_minor": 4
}
