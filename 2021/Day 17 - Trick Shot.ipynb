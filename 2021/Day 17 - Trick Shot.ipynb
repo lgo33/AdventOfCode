{
 "cells": [
  {
   "cell_type": "code",
   "execution_count": 1,
   "metadata": {},
   "outputs": [],
   "source": [
    "import aocd\n",
    "from aocd.models import Puzzle\n",
    "day = 17\n",
    "year = 2021\n",
    "puzzle = Puzzle(year=year, day=day)\n",
    "# data = aocd.get_data(day=day, year=year)\n",
    "with open('./data/input_{:02d}'.format(day), 'w') as fh:\n",
    "    fh.write(puzzle.input_data)"
   ]
  },
  {
   "cell_type": "code",
   "execution_count": 85,
   "metadata": {},
   "outputs": [],
   "source": [
    "from collections import defaultdict\n",
    "from itertools import combinations, product"
   ]
  },
  {
   "cell_type": "code",
   "execution_count": 2,
   "metadata": {},
   "outputs": [
    {
     "data": {
      "text/plain": [
       "(1, ['target area: x=209..238, y=-86..-59'])"
      ]
     },
     "execution_count": 2,
     "metadata": {},
     "output_type": "execute_result"
    }
   ],
   "source": [
    "data = puzzle.input_data.splitlines()\n",
    "len(data), data[:10]"
   ]
  },
  {
   "cell_type": "code",
   "execution_count": 4,
   "metadata": {},
   "outputs": [],
   "source": [
    "test_data = \"\"\"target area: x=20..30, y=-10..-5\"\"\".splitlines()"
   ]
  },
  {
   "cell_type": "code",
   "execution_count": 40,
   "metadata": {},
   "outputs": [],
   "source": [
    "def parse(data):\n",
    "    area = data.split(\"target area: x=\")[1]\n",
    "    tx, ty = area.split(\", y=\")\n",
    "    x = tuple(map(int, tx.split('..')))\n",
    "    y = tuple(map(int, ty.split('..')))\n",
    "    return x, y\n",
    "\n",
    "class Simulation():\n",
    "    def __init__(self, data):\n",
    "        self.area = self.parse(data)\n",
    "        self.reset()\n",
    "\n",
    "    def reset(self):\n",
    "        self.ymax = 0\n",
    "        self.pos = 0j\n",
    "        self.vel = 0j\n",
    "        \n",
    "    def step(self):\n",
    "        self.pos += self.vel\n",
    "        self.vel += -1j\n",
    "        if self.pos.imag > self.ymax:\n",
    "            self.ymax = self.pos.imag\n",
    "        if self.vel.real > 0:\n",
    "            self.vel -= 1\n",
    "        print(self.pos, self.vel)\n",
    "            \n",
    "    def check(self):\n",
    "        if self.pos.real > self.area[0][1] or self.pos.imag < self.area[1][0]:\n",
    "            return -1\n",
    "        if self.pos.real >= self.area[0][0] and self.pos.imag <= self.area[1][1]:\n",
    "            return 1\n",
    "        return 0\n",
    "    \n",
    "    def start(self):\n",
    "        while True:\n",
    "            check = self.check()\n",
    "#             print(check)\n",
    "            if check == -1:\n",
    "                return False, self.pos, self.vel\n",
    "            elif check == 1:\n",
    "                return True, self.pos, self.vel\n",
    "            self.step()\n",
    "    \n",
    "    @staticmethod\n",
    "    def parse(data):\n",
    "        area = data.split(\"target area: x=\")[1]\n",
    "        tx, ty = area.split(\", y=\")\n",
    "        x = tuple(map(int, tx.split('..')))\n",
    "        y = tuple(map(int, ty.split('..')))\n",
    "        return x, y"
   ]
  },
  {
   "cell_type": "code",
   "execution_count": 44,
   "metadata": {},
   "outputs": [
    {
     "data": {
      "text/plain": [
       "((209, 238), (-86, -59))"
      ]
     },
     "execution_count": 44,
     "metadata": {},
     "output_type": "execute_result"
    }
   ],
   "source": [
    "sim = Simulation(data[0])\n",
    "sim.area"
   ]
  },
  {
   "cell_type": "code",
   "execution_count": 45,
   "metadata": {},
   "outputs": [
    {
     "name": "stdout",
     "output_type": "stream",
     "text": [
      "85j 84j\n",
      "169j 83j\n",
      "252j 82j\n",
      "334j 81j\n",
      "415j 80j\n",
      "495j 79j\n",
      "574j 78j\n",
      "652j 77j\n",
      "729j 76j\n",
      "805j 75j\n",
      "880j 74j\n",
      "954j 73j\n",
      "1027j 72j\n",
      "1099j 71j\n",
      "1170j 70j\n",
      "1240j 69j\n",
      "1309j 68j\n",
      "1377j 67j\n",
      "1444j 66j\n",
      "1510j 65j\n",
      "1575j 64j\n",
      "1639j 63j\n",
      "1702j 62j\n",
      "1764j 61j\n",
      "1825j 60j\n",
      "1885j 59j\n",
      "1944j 58j\n",
      "2002j 57j\n",
      "2059j 56j\n",
      "2115j 55j\n",
      "2170j 54j\n",
      "2224j 53j\n",
      "2277j 52j\n",
      "2329j 51j\n",
      "2380j 50j\n",
      "2430j 49j\n",
      "2479j 48j\n",
      "2527j 47j\n",
      "2574j 46j\n",
      "2620j 45j\n",
      "2665j 44j\n",
      "2709j 43j\n",
      "2752j 42j\n",
      "2794j 41j\n",
      "2835j 40j\n",
      "2875j 39j\n",
      "2914j 38j\n",
      "2952j 37j\n",
      "2989j 36j\n",
      "3025j 35j\n",
      "3060j 34j\n",
      "3094j 33j\n",
      "3127j 32j\n",
      "3159j 31j\n",
      "3190j 30j\n",
      "3220j 29j\n",
      "3249j 28j\n",
      "3277j 27j\n",
      "3304j 26j\n",
      "3330j 25j\n",
      "3355j 24j\n",
      "3379j 23j\n",
      "3402j 22j\n",
      "3424j 21j\n",
      "3445j 20j\n",
      "3465j 19j\n",
      "3484j 18j\n",
      "3502j 17j\n",
      "3519j 16j\n",
      "3535j 15j\n",
      "3550j 14j\n",
      "3564j 13j\n",
      "3577j 12j\n",
      "3589j 11j\n",
      "3600j 10j\n",
      "3610j 9j\n",
      "3619j 8j\n",
      "3627j 7j\n",
      "3634j 6j\n",
      "3640j 5j\n",
      "3645j 4j\n",
      "3649j 3j\n",
      "3652j 2j\n",
      "3654j 1j\n",
      "3655j 0j\n",
      "3655j -1j\n",
      "3654j -2j\n",
      "3652j -3j\n",
      "3649j -4j\n",
      "3645j -5j\n",
      "3640j -6j\n",
      "3634j -7j\n",
      "3627j -8j\n",
      "3619j -9j\n",
      "3610j -10j\n",
      "3600j -11j\n",
      "3589j -12j\n",
      "3577j -13j\n",
      "3564j -14j\n",
      "3550j -15j\n",
      "3535j -16j\n",
      "3519j -17j\n",
      "3502j -18j\n",
      "3484j -19j\n",
      "3465j -20j\n",
      "3445j -21j\n",
      "3424j -22j\n",
      "3402j -23j\n",
      "3379j -24j\n",
      "3355j -25j\n",
      "3330j -26j\n",
      "3304j -27j\n",
      "3277j -28j\n",
      "3249j -29j\n",
      "3220j -30j\n",
      "3190j -31j\n",
      "3159j -32j\n",
      "3127j -33j\n",
      "3094j -34j\n",
      "3060j -35j\n",
      "3025j -36j\n",
      "2989j -37j\n",
      "2952j -38j\n",
      "2914j -39j\n",
      "2875j -40j\n",
      "2835j -41j\n",
      "2794j -42j\n",
      "2752j -43j\n",
      "2709j -44j\n",
      "2665j -45j\n",
      "2620j -46j\n",
      "2574j -47j\n",
      "2527j -48j\n",
      "2479j -49j\n",
      "2430j -50j\n",
      "2380j -51j\n",
      "2329j -52j\n",
      "2277j -53j\n",
      "2224j -54j\n",
      "2170j -55j\n",
      "2115j -56j\n",
      "2059j -57j\n",
      "2002j -58j\n",
      "1944j -59j\n",
      "1885j -60j\n",
      "1825j -61j\n",
      "1764j -62j\n",
      "1702j -63j\n",
      "1639j -64j\n",
      "1575j -65j\n",
      "1510j -66j\n",
      "1444j -67j\n",
      "1377j -68j\n",
      "1309j -69j\n",
      "1240j -70j\n",
      "1170j -71j\n",
      "1099j -72j\n",
      "1027j -73j\n",
      "954j -74j\n",
      "880j -75j\n",
      "805j -76j\n",
      "729j -77j\n",
      "652j -78j\n",
      "574j -79j\n",
      "495j -80j\n",
      "415j -81j\n",
      "334j -82j\n",
      "252j -83j\n",
      "169j -84j\n",
      "85j -85j\n",
      "0j -86j\n",
      "-86j -87j\n",
      "-173j -88j\n"
     ]
    },
    {
     "data": {
      "text/plain": [
       "(False, -173j, -88j)"
      ]
     },
     "execution_count": 45,
     "metadata": {},
     "output_type": "execute_result"
    }
   ],
   "source": [
    "sim.reset()\n",
    "sim.vel = 0 + 85j\n",
    "sim.start()"
   ]
  },
  {
   "cell_type": "code",
   "execution_count": 46,
   "metadata": {},
   "outputs": [
    {
     "data": {
      "text/plain": [
       "3655.0"
      ]
     },
     "execution_count": 46,
     "metadata": {},
     "output_type": "execute_result"
    }
   ],
   "source": [
    "sim.ymax"
   ]
  },
  {
   "cell_type": "code",
   "execution_count": 47,
   "metadata": {},
   "outputs": [
    {
     "name": "stdout",
     "output_type": "stream",
     "text": [
      "\u001b[32mThat's the right answer!  You are one gold star closer to finding the sleigh keys. [Continue to Part Two]\u001b[0m\n"
     ]
    }
   ],
   "source": [
    "puzzle.answer_a = int(sim.ymax)"
   ]
  },
  {
   "cell_type": "code",
   "execution_count": 95,
   "metadata": {},
   "outputs": [
    {
     "data": {
      "text/plain": [
       "((209, 238), (-86, -59))"
      ]
     },
     "execution_count": 95,
     "metadata": {},
     "output_type": "execute_result"
    }
   ],
   "source": [
    "sim = Simulation(data[0])\n",
    "sim.area"
   ]
  },
  {
   "cell_type": "code",
   "execution_count": 96,
   "metadata": {},
   "outputs": [
    {
     "name": "stdout",
     "output_type": "stream",
     "text": [
      "(20-10j) (19-11j)\n",
      "(39-21j) (18-12j)\n",
      "(57-33j) (17-13j)\n",
      "(74-46j) (16-14j)\n",
      "(90-60j) (15-15j)\n",
      "(105-75j) (14-16j)\n",
      "(119-91j) (13-17j)\n"
     ]
    },
    {
     "data": {
      "text/plain": [
       "(False, (119-91j), (13-17j))"
      ]
     },
     "execution_count": 96,
     "metadata": {},
     "output_type": "execute_result"
    }
   ],
   "source": [
    "sim.reset()\n",
    "sim.vel = 20 - 10j\n",
    "sim.start()"
   ]
  },
  {
   "cell_type": "code",
   "execution_count": 97,
   "metadata": {},
   "outputs": [],
   "source": [
    "yvel_min = sim.area[1][0]\n",
    "yvel_max = -sim.area[1][0] - 1\n",
    "\n",
    "xvel_min = 1\n",
    "xvel_max = sim.area[0][1]"
   ]
  },
  {
   "cell_type": "code",
   "execution_count": 98,
   "metadata": {},
   "outputs": [],
   "source": [
    "ysolutions = defaultdict(list)\n",
    "for yvel in range(yvel_min, yvel_max+1):\n",
    "    pos = 0\n",
    "    vel = yvel\n",
    "    t = 0\n",
    "    while pos >= sim.area[1][0]:\n",
    "        if pos <= sim.area[1][1]:\n",
    "            ysolutions[t].append(yvel)\n",
    "        pos += vel\n",
    "        vel -= 1\n",
    "        t += 1\n",
    "        \n",
    "#     print (yvel)"
   ]
  },
  {
   "cell_type": "code",
   "execution_count": 99,
   "metadata": {},
   "outputs": [
    {
     "data": {
      "text/plain": [
       "(-86, -59)"
      ]
     },
     "execution_count": 99,
     "metadata": {},
     "output_type": "execute_result"
    }
   ],
   "source": [
    "sim.area[1]"
   ]
  },
  {
   "cell_type": "code",
   "execution_count": 100,
   "metadata": {},
   "outputs": [
    {
     "data": {
      "text/plain": [
       "defaultdict(list,\n",
       "            {1: [-86,\n",
       "              -85,\n",
       "              -84,\n",
       "              -83,\n",
       "              -82,\n",
       "              -81,\n",
       "              -80,\n",
       "              -79,\n",
       "              -78,\n",
       "              -77,\n",
       "              -76,\n",
       "              -75,\n",
       "              -74,\n",
       "              -73,\n",
       "              -72,\n",
       "              -71,\n",
       "              -70,\n",
       "              -69,\n",
       "              -68,\n",
       "              -67,\n",
       "              -66,\n",
       "              -65,\n",
       "              -64,\n",
       "              -63,\n",
       "              -62,\n",
       "              -61,\n",
       "              -60,\n",
       "              -59],\n",
       "             2: [-42,\n",
       "              -41,\n",
       "              -40,\n",
       "              -39,\n",
       "              -38,\n",
       "              -37,\n",
       "              -36,\n",
       "              -35,\n",
       "              -34,\n",
       "              -33,\n",
       "              -32,\n",
       "              -31,\n",
       "              -30,\n",
       "              -29],\n",
       "             3: [-27, -26, -25, -24, -23, -22, -21, -20, -19],\n",
       "             4: [-20, -19, -18, -17, -16, -15, -14],\n",
       "             5: [-15, -14, -13, -12, -11, -10],\n",
       "             6: [-11, -10, -9, -8],\n",
       "             7: [-9, -8, -7, -6],\n",
       "             8: [-7, -6, -5, -4],\n",
       "             9: [-5, -4, -3],\n",
       "             10: [-4, -3, -2],\n",
       "             11: [-2, -1],\n",
       "             12: [-1, 0],\n",
       "             13: [0, 1],\n",
       "             14: [1, 2],\n",
       "             15: [2, 3],\n",
       "             16: [3],\n",
       "             17: [3, 4],\n",
       "             18: [4, 5],\n",
       "             19: [5],\n",
       "             20: [6],\n",
       "             21: [6, 7],\n",
       "             22: [7],\n",
       "             23: [8],\n",
       "             24: [8, 9],\n",
       "             25: [9],\n",
       "             26: [10],\n",
       "             27: [10],\n",
       "             28: [11],\n",
       "             30: [12],\n",
       "             31: [13],\n",
       "             32: [13],\n",
       "             33: [14],\n",
       "             34: [14],\n",
       "             35: [15],\n",
       "             37: [16],\n",
       "             39: [17],\n",
       "             40: [18],\n",
       "             41: [18],\n",
       "             42: [19],\n",
       "             43: [19],\n",
       "             44: [20],\n",
       "             46: [21],\n",
       "             48: [22],\n",
       "             50: [23],\n",
       "             52: [24],\n",
       "             54: [25],\n",
       "             56: [26],\n",
       "             59: [28],\n",
       "             61: [29],\n",
       "             63: [30],\n",
       "             65: [31],\n",
       "             67: [32],\n",
       "             69: [33],\n",
       "             71: [34],\n",
       "             73: [35],\n",
       "             75: [36],\n",
       "             77: [37],\n",
       "             79: [38],\n",
       "             81: [39],\n",
       "             83: [40],\n",
       "             85: [41],\n",
       "             118: [58],\n",
       "             120: [59],\n",
       "             122: [60],\n",
       "             124: [61],\n",
       "             126: [62],\n",
       "             128: [63],\n",
       "             130: [64],\n",
       "             132: [65],\n",
       "             134: [66],\n",
       "             136: [67],\n",
       "             138: [68],\n",
       "             140: [69],\n",
       "             142: [70],\n",
       "             144: [71],\n",
       "             146: [72],\n",
       "             148: [73],\n",
       "             150: [74],\n",
       "             152: [75],\n",
       "             154: [76],\n",
       "             156: [77],\n",
       "             158: [78],\n",
       "             160: [79],\n",
       "             162: [80],\n",
       "             164: [81],\n",
       "             166: [82],\n",
       "             168: [83],\n",
       "             170: [84],\n",
       "             172: [85]})"
      ]
     },
     "execution_count": 100,
     "metadata": {},
     "output_type": "execute_result"
    }
   ],
   "source": [
    "ysolutions"
   ]
  },
  {
   "cell_type": "code",
   "execution_count": 101,
   "metadata": {},
   "outputs": [],
   "source": [
    "tmax = max(ysolutions.keys())"
   ]
  },
  {
   "cell_type": "code",
   "execution_count": 102,
   "metadata": {},
   "outputs": [],
   "source": [
    "xsolutions = defaultdict(list)\n",
    "for xvel in range(xvel_min, xvel_max+1):\n",
    "    pos = 0\n",
    "    vel = xvel\n",
    "    t = 0\n",
    "    while pos <= sim.area[0][1] and vel >= 0:\n",
    "        if pos >= sim.area[0][0]:\n",
    "            xsolutions[t].append(xvel)\n",
    "            if vel == 0:\n",
    "                for i in range(t, tmax+1):\n",
    "                    xsolutions[i].append(xvel)\n",
    "        pos += vel\n",
    "        vel -= 1\n",
    "        t += 1\n",
    "        "
   ]
  },
  {
   "cell_type": "code",
   "execution_count": 103,
   "metadata": {},
   "outputs": [
    {
     "data": {
      "text/plain": [
       "defaultdict(list,\n",
       "            {19: [20, 21],\n",
       "             20: [20, 20, 21],\n",
       "             21: [20, 21, 21],\n",
       "             22: [20, 21],\n",
       "             23: [20, 21],\n",
       "             24: [20, 21],\n",
       "             25: [20, 21],\n",
       "             26: [20, 21],\n",
       "             27: [20, 21],\n",
       "             28: [20, 21],\n",
       "             29: [20, 21],\n",
       "             30: [20, 21],\n",
       "             31: [20, 21],\n",
       "             32: [20, 21],\n",
       "             33: [20, 21],\n",
       "             34: [20, 21],\n",
       "             35: [20, 21],\n",
       "             36: [20, 21],\n",
       "             37: [20, 21],\n",
       "             38: [20, 21],\n",
       "             39: [20, 21],\n",
       "             40: [20, 21],\n",
       "             41: [20, 21],\n",
       "             42: [20, 21],\n",
       "             43: [20, 21],\n",
       "             44: [20, 21],\n",
       "             45: [20, 21],\n",
       "             46: [20, 21],\n",
       "             47: [20, 21],\n",
       "             48: [20, 21],\n",
       "             49: [20, 21],\n",
       "             50: [20, 21],\n",
       "             51: [20, 21],\n",
       "             52: [20, 21],\n",
       "             53: [20, 21],\n",
       "             54: [20, 21],\n",
       "             55: [20, 21],\n",
       "             56: [20, 21],\n",
       "             57: [20, 21],\n",
       "             58: [20, 21],\n",
       "             59: [20, 21],\n",
       "             60: [20, 21],\n",
       "             61: [20, 21],\n",
       "             62: [20, 21],\n",
       "             63: [20, 21],\n",
       "             64: [20, 21],\n",
       "             65: [20, 21],\n",
       "             66: [20, 21],\n",
       "             67: [20, 21],\n",
       "             68: [20, 21],\n",
       "             69: [20, 21],\n",
       "             70: [20, 21],\n",
       "             71: [20, 21],\n",
       "             72: [20, 21],\n",
       "             73: [20, 21],\n",
       "             74: [20, 21],\n",
       "             75: [20, 21],\n",
       "             76: [20, 21],\n",
       "             77: [20, 21],\n",
       "             78: [20, 21],\n",
       "             79: [20, 21],\n",
       "             80: [20, 21],\n",
       "             81: [20, 21],\n",
       "             82: [20, 21],\n",
       "             83: [20, 21],\n",
       "             84: [20, 21],\n",
       "             85: [20, 21],\n",
       "             86: [20, 21],\n",
       "             87: [20, 21],\n",
       "             88: [20, 21],\n",
       "             89: [20, 21],\n",
       "             90: [20, 21],\n",
       "             91: [20, 21],\n",
       "             92: [20, 21],\n",
       "             93: [20, 21],\n",
       "             94: [20, 21],\n",
       "             95: [20, 21],\n",
       "             96: [20, 21],\n",
       "             97: [20, 21],\n",
       "             98: [20, 21],\n",
       "             99: [20, 21],\n",
       "             100: [20, 21],\n",
       "             101: [20, 21],\n",
       "             102: [20, 21],\n",
       "             103: [20, 21],\n",
       "             104: [20, 21],\n",
       "             105: [20, 21],\n",
       "             106: [20, 21],\n",
       "             107: [20, 21],\n",
       "             108: [20, 21],\n",
       "             109: [20, 21],\n",
       "             110: [20, 21],\n",
       "             111: [20, 21],\n",
       "             112: [20, 21],\n",
       "             113: [20, 21],\n",
       "             114: [20, 21],\n",
       "             115: [20, 21],\n",
       "             116: [20, 21],\n",
       "             117: [20, 21],\n",
       "             118: [20, 21],\n",
       "             119: [20, 21],\n",
       "             120: [20, 21],\n",
       "             121: [20, 21],\n",
       "             122: [20, 21],\n",
       "             123: [20, 21],\n",
       "             124: [20, 21],\n",
       "             125: [20, 21],\n",
       "             126: [20, 21],\n",
       "             127: [20, 21],\n",
       "             128: [20, 21],\n",
       "             129: [20, 21],\n",
       "             130: [20, 21],\n",
       "             131: [20, 21],\n",
       "             132: [20, 21],\n",
       "             133: [20, 21],\n",
       "             134: [20, 21],\n",
       "             135: [20, 21],\n",
       "             136: [20, 21],\n",
       "             137: [20, 21],\n",
       "             138: [20, 21],\n",
       "             139: [20, 21],\n",
       "             140: [20, 21],\n",
       "             141: [20, 21],\n",
       "             142: [20, 21],\n",
       "             143: [20, 21],\n",
       "             144: [20, 21],\n",
       "             145: [20, 21],\n",
       "             146: [20, 21],\n",
       "             147: [20, 21],\n",
       "             148: [20, 21],\n",
       "             149: [20, 21],\n",
       "             150: [20, 21],\n",
       "             151: [20, 21],\n",
       "             152: [20, 21],\n",
       "             153: [20, 21],\n",
       "             154: [20, 21],\n",
       "             155: [20, 21],\n",
       "             156: [20, 21],\n",
       "             157: [20, 21],\n",
       "             158: [20, 21],\n",
       "             159: [20, 21],\n",
       "             160: [20, 21],\n",
       "             161: [20, 21],\n",
       "             162: [20, 21],\n",
       "             163: [20, 21],\n",
       "             164: [20, 21],\n",
       "             165: [20, 21],\n",
       "             166: [20, 21],\n",
       "             167: [20, 21],\n",
       "             168: [20, 21],\n",
       "             169: [20, 21],\n",
       "             170: [20, 21],\n",
       "             171: [20, 21],\n",
       "             172: [20, 21],\n",
       "             15: [21, 22],\n",
       "             16: [21, 22],\n",
       "             17: [21, 22],\n",
       "             18: [21],\n",
       "             14: [22, 23],\n",
       "             12: [23, 24, 25],\n",
       "             13: [23, 24],\n",
       "             11: [24, 25, 26],\n",
       "             10: [26, 27, 28],\n",
       "             9: [28, 29, 30],\n",
       "             8: [30, 31, 32, 33],\n",
       "             7: [33, 34, 35, 36, 37],\n",
       "             6: [38, 39, 40, 41, 42],\n",
       "             5: [44, 45, 46, 47, 48, 49],\n",
       "             4: [54, 55, 56, 57, 58, 59, 60, 61],\n",
       "             3: [71, 72, 73, 74, 75, 76, 77, 78, 79, 80],\n",
       "             2: [105,\n",
       "              106,\n",
       "              107,\n",
       "              108,\n",
       "              109,\n",
       "              110,\n",
       "              111,\n",
       "              112,\n",
       "              113,\n",
       "              114,\n",
       "              115,\n",
       "              116,\n",
       "              117,\n",
       "              118,\n",
       "              119],\n",
       "             1: [209,\n",
       "              210,\n",
       "              211,\n",
       "              212,\n",
       "              213,\n",
       "              214,\n",
       "              215,\n",
       "              216,\n",
       "              217,\n",
       "              218,\n",
       "              219,\n",
       "              220,\n",
       "              221,\n",
       "              222,\n",
       "              223,\n",
       "              224,\n",
       "              225,\n",
       "              226,\n",
       "              227,\n",
       "              228,\n",
       "              229,\n",
       "              230,\n",
       "              231,\n",
       "              232,\n",
       "              233,\n",
       "              234,\n",
       "              235,\n",
       "              236,\n",
       "              237,\n",
       "              238]})"
      ]
     },
     "execution_count": 103,
     "metadata": {},
     "output_type": "execute_result"
    }
   ],
   "source": [
    "xsolutions"
   ]
  },
  {
   "cell_type": "code",
   "execution_count": 104,
   "metadata": {},
   "outputs": [],
   "source": [
    "sol = []\n",
    "for t in ysolutions.keys():\n",
    "    sol += list(product(xsolutions[t], ysolutions[t]))"
   ]
  },
  {
   "cell_type": "code",
   "execution_count": 105,
   "metadata": {},
   "outputs": [
    {
     "data": {
      "text/plain": [
       "1447"
      ]
     },
     "execution_count": 105,
     "metadata": {},
     "output_type": "execute_result"
    }
   ],
   "source": [
    "len(set(sol))"
   ]
  },
  {
   "cell_type": "code",
   "execution_count": 106,
   "metadata": {},
   "outputs": [
    {
     "name": "stdout",
     "output_type": "stream",
     "text": [
      "\u001b[32mThat's the right answer!  You are one gold star closer to finding the sleigh keys.You have completed Day 17! You can [Shareon\n",
      "  Twitter\n",
      "Mastodon] this victory or [Return to Your Advent Calendar].\u001b[0m\n"
     ]
    }
   ],
   "source": [
    "puzzle.answer_b = int(len(set(sol)))"
   ]
  }
 ],
 "metadata": {
  "kernelspec": {
   "display_name": "Python 3",
   "language": "python",
   "name": "python3"
  },
  "language_info": {
   "codemirror_mode": {
    "name": "ipython",
    "version": 3
   },
   "file_extension": ".py",
   "mimetype": "text/x-python",
   "name": "python",
   "nbconvert_exporter": "python",
   "pygments_lexer": "ipython3",
   "version": "3.7.3"
  }
 },
 "nbformat": 4,
 "nbformat_minor": 4
}
