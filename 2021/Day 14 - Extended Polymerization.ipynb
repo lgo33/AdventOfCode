{
 "cells": [
  {
   "cell_type": "code",
   "execution_count": 1,
   "metadata": {},
   "outputs": [],
   "source": [
    "import aocd\n",
    "from aocd.models import Puzzle\n",
    "day = 14\n",
    "year = 2021\n",
    "puzzle = Puzzle(year=year, day=day)\n",
    "# data = aocd.get_data(day=day, year=year)\n",
    "with open('./data/input_{:02d}'.format(day), 'w') as fh:\n",
    "    fh.write(puzzle.input_data)"
   ]
  },
  {
   "cell_type": "code",
   "execution_count": 68,
   "metadata": {},
   "outputs": [],
   "source": [
    "from collections import Counter, defaultdict"
   ]
  },
  {
   "cell_type": "code",
   "execution_count": 2,
   "metadata": {},
   "outputs": [
    {
     "data": {
      "text/plain": [
       "(102,\n",
       " ['SHHNCOPHONHFBVNKCFFC',\n",
       "  '',\n",
       "  'HH -> K',\n",
       "  'PS -> P',\n",
       "  'BV -> H',\n",
       "  'HB -> H',\n",
       "  'CK -> F',\n",
       "  'FN -> B',\n",
       "  'PV -> S',\n",
       "  'KK -> F'])"
      ]
     },
     "execution_count": 2,
     "metadata": {},
     "output_type": "execute_result"
    }
   ],
   "source": [
    "data = puzzle.input_data.splitlines()\n",
    "len(data), data[:10]"
   ]
  },
  {
   "cell_type": "code",
   "execution_count": 3,
   "metadata": {},
   "outputs": [],
   "source": [
    "test_data = \"\"\"NNCB\n",
    "\n",
    "CH -> B\n",
    "HH -> N\n",
    "CB -> H\n",
    "NH -> C\n",
    "HB -> C\n",
    "HC -> B\n",
    "HN -> C\n",
    "NN -> C\n",
    "BH -> H\n",
    "NC -> B\n",
    "NB -> B\n",
    "BN -> B\n",
    "BB -> N\n",
    "BC -> B\n",
    "CC -> N\n",
    "CN -> C\"\"\".splitlines()"
   ]
  },
  {
   "cell_type": "code",
   "execution_count": 59,
   "metadata": {},
   "outputs": [],
   "source": [
    "def parse(data):\n",
    "    template = data[0]\n",
    "    repl = {k: v for k, v in map(lambda d: d.split(' -> '), data[2:]) }\n",
    "    return template, repl\n",
    "\n",
    "def step(polymer, repl):\n",
    "    i = 0\n",
    "    while i < len(polymer):\n",
    "        substr = ''.join(polymer[i:i+2])\n",
    "        if substr in repl:\n",
    "            polymer.insert(i+1, repl[substr])\n",
    "            i += 2\n",
    "        else:\n",
    "            i += 1\n",
    "    return polymer"
   ]
  },
  {
   "cell_type": "code",
   "execution_count": 60,
   "metadata": {},
   "outputs": [],
   "source": [
    "nsteps=10\n",
    "# template, repl = parse(test_data)\n",
    "template, repl = parse(data)\n",
    "polymer = list(template)\n",
    "for i in range(nsteps):\n",
    "    polymer = step(polymer, repl)\n"
   ]
  },
  {
   "cell_type": "code",
   "execution_count": 61,
   "metadata": {},
   "outputs": [
    {
     "data": {
      "text/plain": [
       "2549"
      ]
     },
     "execution_count": 61,
     "metadata": {},
     "output_type": "execute_result"
    }
   ],
   "source": [
    "counts = Counter(polymer)\n",
    "sorted_counts = sorted(counts.items(), key=lambda x: x[1])\n",
    "result = sorted_counts[-1][1] - sorted_counts[0][1]\n",
    "result"
   ]
  },
  {
   "cell_type": "code",
   "execution_count": 62,
   "metadata": {},
   "outputs": [
    {
     "name": "stdout",
     "output_type": "stream",
     "text": [
      "\u001b[32mThat's the right answer!  You are one gold star closer to finding the sleigh keys. [Continue to Part Two]\u001b[0m\n"
     ]
    }
   ],
   "source": [
    "puzzle.answer_a = result"
   ]
  },
  {
   "cell_type": "code",
   "execution_count": 114,
   "metadata": {},
   "outputs": [],
   "source": [
    "def tuples(polymer):\n",
    "    counts = defaultdict(int)\n",
    "    for i in range(len(polymer)-1):\n",
    "        counts[polymer[i:i+2]] += 1\n",
    "    return counts\n",
    "\n",
    "def step_B(counts, repl):\n",
    "    new_counts = defaultdict(int)\n",
    "    for t, cnt in counts.items():\n",
    "#         print(t)\n",
    "        new_char = repl[t]\n",
    "        new_counts[t[0]+new_char] += cnt\n",
    "        new_counts[new_char+t[1]] += cnt\n",
    "    return new_counts\n",
    "\n",
    "def letter_counts(counts):\n",
    "    lc = defaultdict(float)\n",
    "    for t, cnt in counts.items():\n",
    "        lc[t[0]] += cnt/2.\n",
    "        lc[t[1]] += cnt/2.\n",
    "    return sorted([(int(v+0.5), k) for k, v in lc.items()])\n",
    "# repl"
   ]
  },
  {
   "cell_type": "code",
   "execution_count": 115,
   "metadata": {},
   "outputs": [
    {
     "data": {
      "text/plain": [
       "[(826447333421, 'C'),\n",
       " (1302792457115, 'O'),\n",
       " (1415605689605, 'V'),\n",
       " (1781664690505, 'S'),\n",
       " (1988270041206, 'K'),\n",
       " (2023470245766, 'P'),\n",
       " (2429245101465, 'B'),\n",
       " (2582153750303, 'F'),\n",
       " (3197723180728, 'H'),\n",
       " (3343348437631, 'N')]"
      ]
     },
     "execution_count": 115,
     "metadata": {},
     "output_type": "execute_result"
    }
   ],
   "source": [
    "template, repl =parse(data)\n",
    "counts = tuples(template)\n",
    "\n",
    "for i in range(40):\n",
    "    counts = step_B(counts, repl)\n",
    "\n",
    "lc = letter_counts(counts)\n",
    "lc"
   ]
  },
  {
   "cell_type": "code",
   "execution_count": 116,
   "metadata": {},
   "outputs": [
    {
     "name": "stdout",
     "output_type": "stream",
     "text": [
      "\u001b[32mThat's the right answer!  You are one gold star closer to finding the sleigh keys.You have completed Day 14! You can [Shareon\n",
      "  Twitter\n",
      "Mastodon] this victory or [Return to Your Advent Calendar].\u001b[0m\n"
     ]
    }
   ],
   "source": [
    "puzzle.answer_b = lc[-1][0] - lc[0][0]"
   ]
  },
  {
   "cell_type": "code",
   "execution_count": null,
   "metadata": {},
   "outputs": [],
   "source": []
  }
 ],
 "metadata": {
  "kernelspec": {
   "display_name": "Python 3",
   "language": "python",
   "name": "python3"
  },
  "language_info": {
   "codemirror_mode": {
    "name": "ipython",
    "version": 3
   },
   "file_extension": ".py",
   "mimetype": "text/x-python",
   "name": "python",
   "nbconvert_exporter": "python",
   "pygments_lexer": "ipython3",
   "version": "3.7.3"
  }
 },
 "nbformat": 4,
 "nbformat_minor": 4
}
