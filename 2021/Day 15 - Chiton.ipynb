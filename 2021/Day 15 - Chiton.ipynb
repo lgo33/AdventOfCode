{
 "cells": [
  {
   "cell_type": "code",
   "execution_count": 1,
   "metadata": {},
   "outputs": [],
   "source": [
    "import aocd\n",
    "from aocd.models import Puzzle\n",
    "day = 15\n",
    "year = 2021\n",
    "puzzle = Puzzle(year=year, day=day)\n",
    "# data = aocd.get_data(day=day, year=year)\n",
    "with open('./data/input_{:02d}'.format(day), 'w') as fh:\n",
    "    fh.write(puzzle.input_data)"
   ]
  },
  {
   "cell_type": "code",
   "execution_count": 381,
   "metadata": {},
   "outputs": [],
   "source": [
    "import numpy as np\n",
    "from collections import deque\n",
    "import heapq\n",
    "import bisect\n",
    "import matplotlib.pyplot as plt\n",
    "plt.rcParams['figure.figsize'] = (12, 8)"
   ]
  },
  {
   "cell_type": "code",
   "execution_count": 2,
   "metadata": {},
   "outputs": [
    {
     "data": {
      "text/plain": [
       "(100,\n",
       " ['1762397661132951281872118191829951912248172478339632549455181981251788927258534119468168714528621114',\n",
       "  '8319319112748383315492426133271137584941117782129986515332716159745294224193293175158161499293222148',\n",
       "  '8266728412139799931643116912557929947663988821211944399124893291926199243572783776173611922147331181',\n",
       "  '9768991115438161618229664911612111659721489122113919117417168282889149141331521139589972137335416965',\n",
       "  '3171539222181482245864217884221793163933341199835974591512912153611719383822886874252812189119211692',\n",
       "  '9813861882122513794416142966122147931711931986114712961595314549632318377591159215157316813144934355',\n",
       "  '7249291646824518193378853916825167931368827832213362177131511326161252924118148113122117239516894281',\n",
       "  '7619265123128119111958978123298112151893112118796447627993349181166826971622479558261738365928333993',\n",
       "  '2172119611123667198988912581135762996771929293568381611622194474422232946596921716259957372123899698',\n",
       "  '4352214875122283151191299159125268139125394182223812438129936119129887731491391363987958285611735124'])"
      ]
     },
     "execution_count": 2,
     "metadata": {},
     "output_type": "execute_result"
    }
   ],
   "source": [
    "data = puzzle.input_data.splitlines()\n",
    "len(data), data[:10]"
   ]
  },
  {
   "cell_type": "code",
   "execution_count": 3,
   "metadata": {},
   "outputs": [],
   "source": [
    "test_data = \"\"\"1163751742\n",
    "1381373672\n",
    "2136511328\n",
    "3694931569\n",
    "7463417111\n",
    "1319128137\n",
    "1359912421\n",
    "3125421639\n",
    "1293138521\n",
    "2311944581\"\"\".splitlines()"
   ]
  },
  {
   "cell_type": "code",
   "execution_count": 519,
   "metadata": {},
   "outputs": [],
   "source": [
    "def parse(data):\n",
    "    dimy = len(data)\n",
    "    dimx = len(data[0])\n",
    "    f = np.zeros((dimx, dimy))\n",
    "    for y in range(dimy):\n",
    "        for x in range(dimx):\n",
    "            f[x, y] = data[y][x]\n",
    "    return f\n",
    "\n",
    "def neighbors(pos, maxx, maxy):\n",
    "    x, y = pos\n",
    "    if x > 0:\n",
    "        yield (x-1, y)\n",
    "    if x < maxx-1:\n",
    "        yield (x+1, y)\n",
    "    if y > 0:\n",
    "        yield (x, y-1)\n",
    "    if y < maxy-1:\n",
    "        yield (x, y+1)\n",
    "\n",
    "def dijkstra(field):\n",
    "    shape = field.shape \n",
    "    visited = set([])\n",
    "    queued = set()\n",
    "#     visited = np.zeros(shape, dtype=np.bool)\n",
    "\n",
    "    distance = np.ones(shape, dtype=np.int32) * (2 << 30)\n",
    "#     nodes = []\n",
    "#     heapq.heappush(nodes, (0, (0, 0)))\n",
    "    nodes = deque([(0, (0, 0))])\n",
    "    distance[0, 0] = 0\n",
    "    final = (shape[0]-1, shape[1]-1)\n",
    "    while len(nodes):\n",
    "        dist, nxt = nodes.popleft()\n",
    "#         dist, nxt = heapq.heappop(nodes)\n",
    "        if nxt in visited:\n",
    "            continue\n",
    "        visited.add(nxt)\n",
    "        if nxt == final:\n",
    "            return dist #, nodes, visited\n",
    "        \n",
    "        for nbr in neighbors(nxt, shape[0], shape[1]):\n",
    "            if nbr in visited:\n",
    "                continue\n",
    "            if (dist+field[nbr]) < distance[nbr]:\n",
    "                distance[nbr] = dist+field[nbr]\n",
    "#             if visited[nbr] == False:\n",
    "\n",
    "#                 i = 0\n",
    "#                 try:\n",
    "#                     while distance[nbr] > nodes[i][0]:\n",
    "#                         i += 1                \n",
    "#                 except IndexError:\n",
    "#                     pass\n",
    "                i = bisect.bisect_left(nodes, (distance[nbr], nbr))\n",
    "                nodes.insert(i, (distance[nbr], nbr))\n",
    "#             heapq.heappush(nodes, (distance[x, y], nbr))\n",
    "    return distance\n",
    "\n",
    "\n",
    "def heuristic(x, y, final, chunk=50):\n",
    "    res = 0\n",
    "    dx = (final[0] - x)  * 1\n",
    "    dy = (final[1] - y)  * 1\n",
    "    return dx + dy\n",
    "    for d in (dx, dy):\n",
    "        while d > chunk:\n",
    "            res += d\n",
    "            d -= chunk\n",
    "        res += d\n",
    "    return res\n",
    "\n",
    "def astar(field):\n",
    "    shape = field.shape \n",
    "    visited = np.zeros(shape, dtype=np.bool)\n",
    "#     nodes = deque([(0, 0, (0, 0))])\n",
    "    nodes = list([(0, 0, (0, 0))])\n",
    "\n",
    "#     heapq.heappush(nodes, (0, 0, (0, 0)))\n",
    "    final = (shape[0]-1, shape[1]-1)\n",
    "    mn = 0\n",
    "    steps = 0\n",
    "    while len(nodes):\n",
    "        mn = max(mn, len(nodes))\n",
    "        steps += 1 \n",
    "#         estimate, dist, nxt = nodes.popleft()\n",
    "        estimate, dist, nxt = nodes.pop(0)\n",
    "        if visited[nxt] == True:\n",
    "            continue\n",
    "        visited[nxt] = True\n",
    "        if nxt == final:\n",
    "            return dist, steps, mn, nodes, visited\n",
    "        for nbr in neighbors(nxt, shape[0], shape[1]):\n",
    "            x, y = nbr\n",
    "            if visited[nbr] == False:\n",
    "                distance = dist + field[x, y]\n",
    "                estimate = distance + heuristic(x, y, final)\n",
    "\n",
    "                i = 0\n",
    "                try:\n",
    "                    while estimate > nodes[i][0]:\n",
    "                        i += 1                \n",
    "                except IndexError:\n",
    "                    pass\n",
    "#                 heapq.heappush(nodes, (estimate, distance, nbr))\n",
    "#                 i = bisect.bisect_left(nodes, (estimate, distance, nbr))\n",
    "                if distance<2856:\n",
    "                    nodes.insert(i, (estimate, distance, nbr))\n",
    "\n",
    "    return None\n",
    "\n",
    "\n",
    "def multiply(field, n):\n",
    "    dx, dy = field.shape\n",
    "    new_field = np.zeros((dx*n, dy*n), dtype=np.int8)\n",
    "    for i in range(n):\n",
    "        for j in range(n):\n",
    "            new_field[i*dx:(i+1)*dx, j*dy:(j+1)*dy] = field + i + j\n",
    "    new_field = ((new_field - 1) % 9) + 1\n",
    "    return new_field\n",
    "            \n",
    "    \n",
    "def minimum(field):\n",
    "    dx, dy = field.shape\n",
    "    mins = np.zeros(field.shape)\n",
    "    for x in range(dx):\n",
    "        for y in range(dy):\n",
    "            if x==0 and y==0:\n",
    "                continue\n",
    "            mins[x, y] = min(mins[x-1, y] if x>0 else 2<<31, mins[x, y-1] if y>0 else 2<<31) + field[x, y]\n",
    "    return mins"
   ]
  },
  {
   "cell_type": "code",
   "execution_count": 432,
   "metadata": {},
   "outputs": [
    {
     "data": {
      "text/plain": [
       "(100, 100)"
      ]
     },
     "execution_count": 432,
     "metadata": {},
     "output_type": "execute_result"
    }
   ],
   "source": [
    "field = parse(data)\n",
    "# field = multiply(field, 5)\n",
    "field.shape"
   ]
  },
  {
   "cell_type": "code",
   "execution_count": 440,
   "metadata": {},
   "outputs": [
    {
     "name": "stdout",
     "output_type": "stream",
     "text": [
      "CPU times: user 3.09 s, sys: 3.96 ms, total: 3.09 s\n",
      "Wall time: 3.09 s\n"
     ]
    }
   ],
   "source": [
    "%%time\n",
    "_ = astar(field)"
   ]
  },
  {
   "cell_type": "code",
   "execution_count": 467,
   "metadata": {},
   "outputs": [
    {
     "name": "stdout",
     "output_type": "stream",
     "text": [
      "CPU times: user 2.37 ms, sys: 0 ns, total: 2.37 ms\n",
      "Wall time: 2.38 ms\n"
     ]
    }
   ],
   "source": [
    "%%time\n",
    "dist, steps, mn, nodeds, visited = astar(field)"
   ]
  },
  {
   "cell_type": "code",
   "execution_count": 524,
   "metadata": {},
   "outputs": [
    {
     "name": "stdout",
     "output_type": "stream",
     "text": [
      "CPU times: user 230 ms, sys: 5 µs, total: 230 ms\n",
      "Wall time: 230 ms\n"
     ]
    }
   ],
   "source": [
    "%%time\n",
    "field = parse(data)\n",
    "# field = multiply(field, 5)\n",
    "# field.shape\n",
    "dist = dijkstra(field)\n"
   ]
  },
  {
   "cell_type": "code",
   "execution_count": 525,
   "metadata": {},
   "outputs": [
    {
     "data": {
      "text/plain": [
       "472"
      ]
     },
     "execution_count": 525,
     "metadata": {},
     "output_type": "execute_result"
    }
   ],
   "source": [
    "dist"
   ]
  },
  {
   "cell_type": "code",
   "execution_count": 102,
   "metadata": {},
   "outputs": [
    {
     "name": "stdout",
     "output_type": "stream",
     "text": [
      "\u001b[32mThat's the right answer!  You are one gold star closer to finding the sleigh keys. [Continue to Part Two]\u001b[0m\n"
     ]
    }
   ],
   "source": [
    "puzzle.answer_a = int(dist)"
   ]
  },
  {
   "cell_type": "code",
   "execution_count": 133,
   "metadata": {},
   "outputs": [],
   "source": [
    "# Part B"
   ]
  },
  {
   "cell_type": "code",
   "execution_count": 526,
   "metadata": {},
   "outputs": [
    {
     "name": "stdout",
     "output_type": "stream",
     "text": [
      "CPU times: user 2.6 s, sys: 16.1 ms, total: 2.62 s\n",
      "Wall time: 2.62 s\n"
     ]
    }
   ],
   "source": [
    "%%time\n",
    "field = parse(data)\n",
    "field = multiply(field, 5)\n",
    "# field.shape\n",
    "dist = dijkstra(field)"
   ]
  },
  {
   "cell_type": "code",
   "execution_count": 527,
   "metadata": {},
   "outputs": [
    {
     "data": {
      "text/plain": [
       "2851"
      ]
     },
     "execution_count": 527,
     "metadata": {},
     "output_type": "execute_result"
    }
   ],
   "source": [
    "dist"
   ]
  },
  {
   "cell_type": "code",
   "execution_count": 515,
   "metadata": {},
   "outputs": [
    {
     "name": "stdout",
     "output_type": "stream",
     "text": [
      "\u001b[32mThat's the right answer!  You are one gold star closer to finding the sleigh keys.You have completed Day 15! You can [Shareon\n",
      "  Twitter\n",
      "Mastodon] this victory or [Return to Your Advent Calendar].\u001b[0m\n"
     ]
    }
   ],
   "source": [
    "puzzle.answer_b = int(dist)"
   ]
  },
  {
   "cell_type": "code",
   "execution_count": 357,
   "metadata": {},
   "outputs": [
    {
     "name": "stdout",
     "output_type": "stream",
     "text": [
      "CPU times: user 812 ms, sys: 3.76 ms, total: 815 ms\n",
      "Wall time: 813 ms\n"
     ]
    }
   ],
   "source": [
    "%%time\n",
    "field = parse(test_data)\n",
    "field = multiply(field, 5)\n",
    "dist, steps, mn, nodes = astar(field)"
   ]
  },
  {
   "cell_type": "code",
   "execution_count": 529,
   "metadata": {},
   "outputs": [
    {
     "name": "stdout",
     "output_type": "stream",
     "text": [
      "CPU times: user 2.27 s, sys: 8 ms, total: 2.28 s\n",
      "Wall time: 2.28 s\n"
     ]
    }
   ],
   "source": [
    "%%time\n",
    "field = parse(data)\n",
    "field = multiply(field, 5)\n",
    "dist, distance = dijkstra(field)"
   ]
  },
  {
   "cell_type": "code",
   "execution_count": 536,
   "metadata": {},
   "outputs": [
    {
     "data": {
      "text/plain": [
       "<matplotlib.image.AxesImage at 0x7ff6c7b7abe0>"
      ]
     },
     "execution_count": 536,
     "metadata": {},
     "output_type": "execute_result"
    },
    {
     "data": {
      "image/png": "[encoded data removed]",
      "text/plain": [
       "<Figure size 864x576 with 1 Axes>"
      ]
     },
     "metadata": {
      "needs_background": "light"
     },
     "output_type": "display_data"
    }
   ],
   "source": [
    "distance[distance == 2147483648]=0\n",
    "plt.imshow(distance, cmap='plasma')"
   ]
  },
  {
   "cell_type": "code",
   "execution_count": null,
   "metadata": {},
   "outputs": [],
   "source": []
  },
  {
   "cell_type": "code",
   "execution_count": 555,
   "metadata": {
    "tags": []
   },
   "outputs": [
    {
     "name": "stdout",
     "output_type": "stream",
     "text": [
      "2851\n",
      "CPU times: user 2.13 s, sys: 3.95 ms, total: 2.14 s\n",
      "Wall time: 2.13 s\n"
     ]
    }
   ],
   "source": [
    "%%time\n",
    "board = []\n",
    "for l in open(\"./data/input_15\").read().splitlines():\n",
    "    board.append([int(l[x]) for x in range(len(l))])\n",
    "distance = [[0] * 500 for _t in range(500)]\n",
    "queue = [[(0, 0)]] + [[] for _t in range(10000)]\n",
    "v = 0\n",
    "while distance[499][499] == 0:\n",
    "    for (y, x) in queue[v]:\n",
    "        if v > distance[y][x]:\n",
    "            continue\n",
    "        for (dx, dy) in [(-1, 0), (1, 0), (0, -1), (0, 1)]:\n",
    "            if y+dy >= 0 and y+dy < 500 and x+dx >= 0 and x+dx < 500:\n",
    "                dt = ((board[(y+dy) % 100][(x+dx) % 100] +\n",
    "                      (y+dy)//100 + (x+dx)//100 - 1) % 9)+1\n",
    "                if distance[y+dy][x+dx] == 0:\n",
    "                    distance[y+dy][x+dx] = v + dt\n",
    "                    queue[v+dt].append((y+dy, x+dx))\n",
    "    v += 1\n",
    "print(distance[499][499])"
   ]
  },
  {
   "cell_type": "code",
   "execution_count": 549,
   "metadata": {},
   "outputs": [
    {
     "name": "stdout",
     "output_type": "stream",
     "text": [
      "Visited 999 nodes\n"
     ]
    },
    {
     "data": {
      "text/plain": [
       "1995"
      ]
     },
     "execution_count": 549,
     "metadata": {},
     "output_type": "execute_result"
    }
   ],
   "source": [
    "goal = (499, 499)\n",
    "steps = search(field, goal)\n",
    "len(steps)"
   ]
  },
  {
   "cell_type": "code",
   "execution_count": 551,
   "metadata": {},
   "outputs": [
    {
     "name": "stdout",
     "output_type": "stream",
     "text": [
      "5054\n"
     ]
    }
   ],
   "source": [
    "print(sum(field[row][col] for (row, col) in path(goal, steps)) - field[0][0])"
   ]
  },
  {
   "cell_type": "code",
   "execution_count": null,
   "metadata": {},
   "outputs": [],
   "source": []
  }
 ],
 "metadata": {
  "kernelspec": {
   "display_name": "Python 3",
   "language": "python",
   "name": "python3"
  },
  "language_info": {
   "codemirror_mode": {
    "name": "ipython",
    "version": 3
   },
   "file_extension": ".py",
   "mimetype": "text/x-python",
   "name": "python",
   "nbconvert_exporter": "python",
   "pygments_lexer": "ipython3",
   "version": "3.7.3"
  }
 },
 "nbformat": 4,
 "nbformat_minor": 4
}
