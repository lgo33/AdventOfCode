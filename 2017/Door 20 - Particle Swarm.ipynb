{
 "cells": [
  {
   "cell_type": "code",
   "execution_count": 193,
   "metadata": {
    "ExecuteTime": {
     "end_time": "2017-12-20T15:18:37.946091Z",
     "start_time": "2017-12-20T15:18:37.655954Z"
    },
    "collapsed": true
   },
   "outputs": [],
   "source": [
    "import numpy as np"
   ]
  },
  {
   "cell_type": "code",
   "execution_count": 120,
   "metadata": {
    "ExecuteTime": {
     "end_time": "2017-12-20T14:10:04.234709Z",
     "start_time": "2017-12-20T14:10:04.229509Z"
    },
    "collapsed": true
   },
   "outputs": [],
   "source": [
    "with open('data/input_20.txt') as fh:\n",
    "    inp = fh.readlines()"
   ]
  },
  {
   "cell_type": "code",
   "execution_count": 121,
   "metadata": {
    "ExecuteTime": {
     "end_time": "2017-12-20T14:10:04.419573Z",
     "start_time": "2017-12-20T14:10:04.414846Z"
    }
   },
   "outputs": [],
   "source": [
    "def parse(line):\n",
    "    line = line.strip()\n",
    "    elements = line.split(', ')\n",
    "    return list(map(lambda x: list(map(int, x[3:-1].split(','))), elements))"
   ]
  },
  {
   "cell_type": "code",
   "execution_count": 184,
   "metadata": {
    "ExecuteTime": {
     "end_time": "2017-12-20T15:15:09.367583Z",
     "start_time": "2017-12-20T15:15:09.353434Z"
    },
    "collapsed": true
   },
   "outputs": [],
   "source": [
    "particles = np.array(list(map(parse, inp)))"
   ]
  },
  {
   "cell_type": "code",
   "execution_count": 173,
   "metadata": {
    "ExecuteTime": {
     "end_time": "2017-12-20T15:08:49.897010Z",
     "start_time": "2017-12-20T15:08:49.890869Z"
    }
   },
   "outputs": [
    {
     "data": {
      "text/plain": [
       "364"
      ]
     },
     "execution_count": 173,
     "metadata": {},
     "output_type": "execute_result"
    }
   ],
   "source": [
    "# part 1\n",
    "np.argmin(np.sum(np.abs(particles[:,2,:]), axis=1))"
   ]
  },
  {
   "cell_type": "code",
   "execution_count": 202,
   "metadata": {
    "ExecuteTime": {
     "end_time": "2017-12-20T15:20:22.561400Z",
     "start_time": "2017-12-20T15:20:22.479726Z"
    },
    "collapsed": true
   },
   "outputs": [],
   "source": [
    "def dist(particle):\n",
    "    return np.abs(particle[0]).sum()\n",
    "\n",
    "def tick(particles):\n",
    "    particles[:, 1, :] += particles[:, 2, :]\n",
    "    particles[:, 0, :] += particles[:, 1, :]\n",
    "    return particles\n",
    "\n",
    "def collisions(particles):\n",
    "    dists = np.sum(np.abs(particles[:,:,:]), axis=2)\n",
    "    idx = np.argsort(dists[:, 0])\n",
    "    remove = set()\n",
    "    for i in idx:\n",
    "        try:\n",
    "            if (particles[i, 0, :] == particles[i+1, 0, :]).all():\n",
    "                remove.add(i)\n",
    "                remove.add(i+1)\n",
    "        except IndexError:\n",
    "            pass\n",
    "    return len(remove), np.delete(particles, list(remove), axis=0)\n",
    "\n",
    "def escapers(particles):\n",
    "    n = 0\n",
    "    while True:\n",
    "        if len(particles) == 0:\n",
    "            return n, [] \n",
    "        dists = np.sum(np.abs(particles[:,:,:]), axis=2)\n",
    "        indmax_pos = np.argmax(dists[:, 0])\n",
    "        max_vel = np.max(dists[:, 1])\n",
    "        max_acc = np.max(dists[:, 2])\n",
    "        #print(dists[indmax_pos], max_vel, max_acc)\n",
    "        if dists[indmax_pos, 1] == max_vel and dists[indmax_pos, 2] == max_acc:            \n",
    "            particles = np.delete(particles, indmax_pos, axis=0)\n",
    "            n += 1\n",
    "        else: \n",
    "            return n, particles"
   ]
  },
  {
   "cell_type": "code",
   "execution_count": 203,
   "metadata": {
    "ExecuteTime": {
     "end_time": "2017-12-20T15:20:23.620986Z",
     "start_time": "2017-12-20T15:20:22.621918Z"
    }
   },
   "outputs": [
    {
     "name": "stdout",
     "output_type": "stream",
     "text": [
      "420 580\n",
      "CPU times: user 965 ms, sys: 7.13 ms, total: 972 ms\n",
      "Wall time: 979 ms\n"
     ]
    }
   ],
   "source": [
    "%%time\n",
    "# part 2\n",
    "particles = np.array(list(map(parse, inp)))\n",
    "\n",
    "escaped = 0\n",
    "steps = 0\n",
    "tot_col = 0\n",
    "while len(particles):\n",
    "    steps += 1\n",
    "    #ncol, particles = collisions(particles)\n",
    "    #tot_col += ncol\n",
    "    particles = tick(particles)\n",
    "    ncol, particles = collisions(particles)\n",
    "    tot_col += ncol\n",
    "    esc, particles = escapers(particles)\n",
    "    if esc:\n",
    "        escaped += esc\n",
    "print(escaped, tot_col)"
   ]
  },
  {
   "cell_type": "code",
   "execution_count": null,
   "metadata": {
    "collapsed": true
   },
   "outputs": [],
   "source": []
  }
 ],
 "metadata": {
  "hide_input": false,
  "kernelspec": {
   "display_name": "Python 3",
   "language": "python",
   "name": "python3"
  },
  "language_info": {
   "codemirror_mode": {
    "name": "ipython",
    "version": 3
   },
   "file_extension": ".py",
   "mimetype": "text/x-python",
   "name": "python",
   "nbconvert_exporter": "python",
   "pygments_lexer": "ipython3",
   "version": "3.6.3"
  },
  "toc": {
   "colors": {
    "hover_highlight": "#DAA520",
    "navigate_num": "#000000",
    "navigate_text": "#333333",
    "running_highlight": "#FF0000",
    "selected_highlight": "#FFD700",
    "sidebar_border": "#EEEEEE",
    "wrapper_background": "#FFFFFF"
   },
   "moveMenuLeft": true,
   "nav_menu": {
    "height": "12px",
    "width": "252px"
   },
   "navigate_menu": true,
   "number_sections": true,
   "sideBar": true,
   "threshold": 4,
   "toc_cell": false,
   "toc_section_display": "block",
   "toc_window_display": false,
   "widenNotebook": false
  },
  "varInspector": {
   "cols": {
    "lenName": 16,
    "lenType": 16,
    "lenVar": 40
   },
   "kernels_config": {
    "python": {
     "delete_cmd_postfix": "",
     "delete_cmd_prefix": "del ",
     "library": "var_list.py",
     "varRefreshCmd": "print(var_dic_list())"
    },
    "r": {
     "delete_cmd_postfix": ") ",
     "delete_cmd_prefix": "rm(",
     "library": "var_list.r",
     "varRefreshCmd": "cat(var_dic_list()) "
    }
   },
   "types_to_exclude": [
    "module",
    "function",
    "builtin_function_or_method",
    "instance",
    "_Feature"
   ],
   "window_display": false
  }
 },
 "nbformat": 4,
 "nbformat_minor": 2
}
