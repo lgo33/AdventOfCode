{
 "cells": [
  {
   "cell_type": "code",
   "execution_count": 74,
   "metadata": {
    "ExecuteTime": {
     "end_time": "2017-12-22T10:32:42.995836Z",
     "start_time": "2017-12-22T10:32:42.991935Z"
    },
    "collapsed": true
   },
   "outputs": [],
   "source": [
    "inp = \"\"\"..#\n",
    "#..\n",
    "...\"\"\""
   ]
  },
  {
   "cell_type": "code",
   "execution_count": 105,
   "metadata": {
    "ExecuteTime": {
     "end_time": "2017-12-22T10:39:51.834260Z",
     "start_time": "2017-12-22T10:39:51.830754Z"
    },
    "collapsed": true
   },
   "outputs": [],
   "source": [
    "with open('data/input_22.txt') as fh:\n",
    "    inp = fh.read().strip()"
   ]
  },
  {
   "cell_type": "code",
   "execution_count": 106,
   "metadata": {
    "ExecuteTime": {
     "end_time": "2017-12-22T10:39:53.963371Z",
     "start_time": "2017-12-22T10:39:53.958748Z"
    }
   },
   "outputs": [],
   "source": [
    "lines = inp.split('\\n')\n",
    "dim = len(lines)\n",
    "offset = dim // 2"
   ]
  },
  {
   "cell_type": "code",
   "execution_count": null,
   "metadata": {
    "collapsed": true
   },
   "outputs": [],
   "source": [
    "def next_pos(pos, direction):\n",
    "    if direction == 0:\n",
    "        return (pos[0], pos[1] - 1)\n",
    "    elif direction == 1:\n",
    "        return (pos[0] + 1, pos[1])\n",
    "    elif direction == 2:\n",
    "        return (pos[0], pos[1] + 1)\n",
    "    elif direction == 3:\n",
    "        return (pos[0] - 1, pos[1])\n",
    "    \n",
    "def turn(where, direction):\n",
    "    direction = direction + 1 if where == 'r' else direction - 1\n",
    "    return direction % 4"
   ]
  },
  {
   "cell_type": "code",
   "execution_count": 68,
   "metadata": {
    "ExecuteTime": {
     "end_time": "2017-12-22T10:22:12.575123Z",
     "start_time": "2017-12-22T10:22:12.506666Z"
    }
   },
   "outputs": [
    {
     "name": "stdout",
     "output_type": "stream",
     "text": [
      "infections:  5182\n"
     ]
    }
   ],
   "source": [
    "# part 1\n",
    "infected = {(x-offset, y-offset) for x in range(dim) for y in range(dim) if lines[y][x] == '#'}\n",
    "pos = (0, 0)\n",
    "direction = 0\n",
    "n = 10000\n",
    "infections = 0\n",
    "for i in range(n):\n",
    "    if pos in infected:\n",
    "        direction = turn('r', direction)\n",
    "        infected.remove(pos)\n",
    "    else:\n",
    "        direction = turn('l', direction)\n",
    "        infected.add(pos)\n",
    "        infections += 1\n",
    "    pos = next_pos(pos, direction)\n",
    "print('infections: ', infections)"
   ]
  },
  {
   "cell_type": "code",
   "execution_count": 58,
   "metadata": {
    "ExecuteTime": {
     "end_time": "2017-12-22T10:20:07.593658Z",
     "start_time": "2017-12-22T10:20:07.587886Z"
    }
   },
   "outputs": [],
   "source": [
    "import numpy as np\n",
    "import matplotlib.pyplot as plt\n",
    "%matplotlib inline"
   ]
  },
  {
   "cell_type": "code",
   "execution_count": 60,
   "metadata": {
    "ExecuteTime": {
     "end_time": "2017-12-22T10:20:18.438863Z",
     "start_time": "2017-12-22T10:20:18.435837Z"
    },
    "collapsed": true
   },
   "outputs": [],
   "source": [
    "plt.rcParams['figure.figsize'] = (8, 8)"
   ]
  },
  {
   "cell_type": "code",
   "execution_count": 70,
   "metadata": {
    "ExecuteTime": {
     "end_time": "2017-12-22T10:22:29.196729Z",
     "start_time": "2017-12-22T10:22:28.907787Z"
    }
   },
   "outputs": [
    {
     "data": {
      "text/plain": [
       "<matplotlib.image.AxesImage at 0x102d2cc18>"
      ]
     },
     "execution_count": 70,
     "metadata": {},
     "output_type": "execute_result"
    },
    {
     "data": {
      "image/png": "[encoded data removed]",
      "text/plain": [
       "<matplotlib.figure.Figure at 0x106e582b0>"
      ]
     },
     "metadata": {},
     "output_type": "display_data"
    }
   ],
   "source": [
    "grid_dim = 80\n",
    "grid_dim = grid_dim + 1\n",
    "off = grid_dim // 2\n",
    "grid = np.zeros((grid_dim, grid_dim))\n",
    "for p in infected:\n",
    "    try:\n",
    "        grid[p[0]+off, p[1]+off] = 1\n",
    "    except IndexError:\n",
    "        pass\n",
    "\n",
    "plt.imshow(grid.T)"
   ]
  },
  {
   "cell_type": "code",
   "execution_count": 95,
   "metadata": {
    "ExecuteTime": {
     "end_time": "2017-12-22T10:37:19.988662Z",
     "start_time": "2017-12-22T10:37:19.965742Z"
    },
    "collapsed": true
   },
   "outputs": [],
   "source": [
    "def draw(grid_dim, infected, weakened, flagged):\n",
    "    off = grid_dim // 2\n",
    "    grid = np.zeros((grid_dim, grid_dim))\n",
    "    for p in infected:\n",
    "        try:\n",
    "            grid[p[0]+off, p[1]+off] = 30\n",
    "        except IndexError:\n",
    "            pass\n",
    "    for p in weakened:\n",
    "        try:\n",
    "            grid[p[0]+off, p[1]+off] = 20\n",
    "        except IndexError:\n",
    "            pass\n",
    "    for p in flagged:\n",
    "        try:\n",
    "            grid[p[0]+off, p[1]+off] = 10\n",
    "        except IndexError:\n",
    "            pass\n",
    "\n",
    "    plt.imshow(grid.T)"
   ]
  },
  {
   "cell_type": "code",
   "execution_count": 138,
   "metadata": {
    "ExecuteTime": {
     "end_time": "2018-01-11T09:31:03.920066Z",
     "start_time": "2017-12-22T10:56:58.828625Z"
    }
   },
   "outputs": [
    {
     "name": "stdout",
     "output_type": "stream",
     "text": [
      "infections:  2465\n"
     ]
    },
    {
     "data": {
      "image/png": "[encoded data removed]",
      "text/plain": [
       "<matplotlib.figure.Figure at 0x107a30908>"
      ]
     },
     "metadata": {},
     "output_type": "display_data"
    }
   ],
   "source": [
    "# part 2\n",
    "infected = {(x-offset, y-offset) for x in range(dim) for y in range(dim) if lines[y][x] == '#'}\n",
    "weakened = set()\n",
    "flagged = set()\n",
    "\n",
    "pos = (0, 0)\n",
    "direction = 0\n",
    "n = 10000000\n",
    "n = 10000\n",
    "infections = 0\n",
    "pic_num = 0\n",
    "for i in range(n):\n",
    "    if pos in infected:\n",
    "        direction = turn('r', direction)\n",
    "        infected.remove(pos)\n",
    "        flagged.add(pos)\n",
    "    elif pos in weakened:        \n",
    "        weakened.remove(pos)\n",
    "        infected.add(pos)\n",
    "        infections += 1\n",
    "    elif pos in flagged:\n",
    "        direction = (direction + 2) % 4\n",
    "        flagged.remove(pos)        \n",
    "    else:        \n",
    "        direction = turn('l', direction)\n",
    "        weakened.add(pos)\n",
    "    if (i % 10) == 0:\n",
    "        draw(45, infected, weakened, flagged)\n",
    "        plt.title('step {:08}'.format(i))\n",
    "        plt.savefig('tmp/pic_{:04}.png'.format(pic_num))\n",
    "        pic_num += 1\n",
    "                \n",
    "    pos = next_pos(pos, direction)\n",
    "draw(45, infected, weakened, flagged)\n",
    "plt.title('step {:08}'.format(i))\n",
    "print('infections: ', infections)"
   ]
  },
  {
   "cell_type": "code",
   "execution_count": 135,
   "metadata": {
    "ExecuteTime": {
     "end_time": "2017-12-22T10:55:41.967857Z",
     "start_time": "2017-12-22T10:55:41.715927Z"
    }
   },
   "outputs": [
    {
     "data": {
      "text/plain": [
       "<matplotlib.text.Text at 0x107a59e10>"
      ]
     },
     "execution_count": 135,
     "metadata": {},
     "output_type": "execute_result"
    },
    {
     "data": {
      "image/png": "[encoded data removed]",
      "text/plain": [
       "<matplotlib.figure.Figure at 0x10c032cf8>"
      ]
     },
     "metadata": {},
     "output_type": "display_data"
    }
   ],
   "source": [
    "draw(101, infected, weakened, flagged)\n",
    "plt.title('abc')\n"
   ]
  },
  {
   "cell_type": "code",
   "execution_count": null,
   "metadata": {
    "collapsed": true
   },
   "outputs": [],
   "source": []
  }
 ],
 "metadata": {
  "hide_input": false,
  "kernelspec": {
   "display_name": "Python 3",
   "language": "python",
   "name": "python3"
  },
  "language_info": {
   "codemirror_mode": {
    "name": "ipython",
    "version": 3
   },
   "file_extension": ".py",
   "mimetype": "text/x-python",
   "name": "python",
   "nbconvert_exporter": "python",
   "pygments_lexer": "ipython3",
   "version": "3.6.3"
  },
  "toc": {
   "colors": {
    "hover_highlight": "#DAA520",
    "navigate_num": "#000000",
    "navigate_text": "#333333",
    "running_highlight": "#FF0000",
    "selected_highlight": "#FFD700",
    "sidebar_border": "#EEEEEE",
    "wrapper_background": "#FFFFFF"
   },
   "moveMenuLeft": true,
   "nav_menu": {
    "height": "12px",
    "width": "252px"
   },
   "navigate_menu": true,
   "number_sections": true,
   "sideBar": true,
   "threshold": 4,
   "toc_cell": false,
   "toc_section_display": "block",
   "toc_window_display": false,
   "widenNotebook": false
  },
  "varInspector": {
   "cols": {
    "lenName": 16,
    "lenType": 16,
    "lenVar": 40
   },
   "kernels_config": {
    "python": {
     "delete_cmd_postfix": "",
     "delete_cmd_prefix": "del ",
     "library": "var_list.py",
     "varRefreshCmd": "print(var_dic_list())"
    },
    "r": {
     "delete_cmd_postfix": ") ",
     "delete_cmd_prefix": "rm(",
     "library": "var_list.r",
     "varRefreshCmd": "cat(var_dic_list()) "
    }
   },
   "types_to_exclude": [
    "module",
    "function",
    "builtin_function_or_method",
    "instance",
    "_Feature"
   ],
   "window_display": false
  }
 },
 "nbformat": 4,
 "nbformat_minor": 2
}
