{
 "cells": [
  {
   "cell_type": "code",
   "execution_count": 298,
   "metadata": {},
   "outputs": [],
   "source": [
    "with open('data/input_10.txt') as fh:\n",
    "    inp = list(map(int, fh.read().strip().split(',')))"
   ]
  },
  {
   "cell_type": "code",
   "execution_count": 249,
   "metadata": {},
   "outputs": [
    {
     "data": {
      "text/plain": [
       "[83, 0, 193, 1, 254, 237, 187, 40, 88, 27, 2, 255, 149, 29, 42, 100]"
      ]
     },
     "execution_count": 249,
     "metadata": {},
     "output_type": "execute_result"
    }
   ],
   "source": [
    "inp"
   ]
  },
  {
   "cell_type": "code",
   "execution_count": 237,
   "metadata": {},
   "outputs": [],
   "source": [
    "class wraplist(object):\n",
    "    def __init__(self, data):\n",
    "        self.data = data\n",
    "        self.n = len(data)\n",
    "    def __getitem__(self, sl):\n",
    "        if type(sl) == int:\n",
    "            return self.data[sl]\n",
    "        elif sl.start is not None and sl.start == sl.stop:\n",
    "            return wraplist([])\n",
    "        stop = None if sl.stop is None or sl.stop == self.n else sl.stop % self.n\n",
    "        if stop is not None and sl.start >= stop:\n",
    "            return wraplist(self.data[slice(sl.start, None, sl.step)] + self.data[slice(None, stop, sl.step)])\n",
    "        else:\n",
    "            return wraplist(self.data[slice(sl.start, stop, sl.step)])        \n",
    "    def __setitem__(self, sl, val):\n",
    "        if type(sl) == int:\n",
    "            self.data[sl] = val\n",
    "            return\n",
    "        elif sl.start is not None and sl.start == sl.stop:\n",
    "            return\n",
    "        stop = None if sl.stop is None or sl.stop == self.n else sl.stop % self.n\n",
    "        if stop is not None and sl.start >= stop:\n",
    "            self.data[slice(sl.start, None, sl.step)] = val[slice(0, self.n - sl.start)]\n",
    "            self.data[slice(None, stop, sl.step)] = val[slice(self.n - sl.start, None)]\n",
    "            return\n",
    "        else:\n",
    "            self.data[slice(sl.start, stop, sl.step)] = val\n",
    "            return\n",
    "    def __len__(self):\n",
    "        return len(self.data)\n",
    "    def __repr__(self):\n",
    "        return self.data.__repr__()"
   ]
  },
  {
   "cell_type": "code",
   "execution_count": 238,
   "metadata": {
    "collapsed": true
   },
   "outputs": [],
   "source": [
    "def revert(wl, start, length):\n",
    "    #print(start, length, wl[start:start+length], wl[start:start+length][::-1])\n",
    "    wl[start:start+length] = wl[start:start+length][::-1]"
   ]
  },
  {
   "cell_type": "code",
   "execution_count": 315,
   "metadata": {},
   "outputs": [
    {
     "name": "stdout",
     "output_type": "stream",
     "text": [
      "3 0 [2, 1, 0, 3, 4]\n",
      "4 3 [4, 3, 0, 1, 2]\n",
      "1 3 [4, 3, 0, 1, 2]\n",
      "5 1 [3, 4, 2, 1, 0]\n",
      "[3, 4, 2, 1, 0] 12\n"
     ]
    }
   ],
   "source": [
    "# test case\n",
    "pos = 0\n",
    "skip = 0\n",
    "circle = wraplist(list(range(5)))\n",
    "for l in list(map(int, \"3, 4, 1, 5\".split(', '))):\n",
    "    revert(circle, pos, l)\n",
    "    print(l, pos, circle)\n",
    "    pos = (pos + l + skip) % len(circle)\n",
    "    skip += 1\n",
    "print(circle, circle[0] * circle[1])"
   ]
  },
  {
   "cell_type": "code",
   "execution_count": 299,
   "metadata": {
    "collapsed": true
   },
   "outputs": [],
   "source": [
    "def cycle(circle, lengths, pos, skip):\n",
    "    for l in lengths:\n",
    "        revert(circle, pos, l)\n",
    "        # print(l, circle)\n",
    "        pos = (pos + l + skip) % len(circle)\n",
    "        skip += 1\n",
    "    return circle, pos, skip"
   ]
  },
  {
   "cell_type": "code",
   "execution_count": 300,
   "metadata": {},
   "outputs": [],
   "source": [
    "circle, pos, skip = cycle(wraplist(list(range(256))), inp, 0, 0)"
   ]
  },
  {
   "cell_type": "code",
   "execution_count": 301,
   "metadata": {},
   "outputs": [
    {
     "data": {
      "text/plain": [
       "20056"
      ]
     },
     "execution_count": 301,
     "metadata": {},
     "output_type": "execute_result"
    }
   ],
   "source": [
    "# part 1\n",
    "circle[0] * circle[1]"
   ]
  },
  {
   "cell_type": "code",
   "execution_count": 265,
   "metadata": {},
   "outputs": [],
   "source": [
    "with open('data/input_10.txt') as fh:\n",
    "    inp_str = fh.read().strip()"
   ]
  },
  {
   "cell_type": "code",
   "execution_count": 302,
   "metadata": {
    "collapsed": true
   },
   "outputs": [],
   "source": [
    "def densen(sparse_hash):\n",
    "    dense_hash = []\n",
    "    for i in range(16):\n",
    "        offset = i * 16\n",
    "        val = sparse_hash[offset]\n",
    "        for j in range(1, 16):\n",
    "            val ^= sparse_hash[offset + j]\n",
    "        dense_hash.append(val)\n",
    "    return dense_hash\n",
    "\n",
    "def print_hash(dh):\n",
    "    strings = map(lambda x: \"{0:02x}\".format(x), dh)\n",
    "    return \"\".join(strings)"
   ]
  },
  {
   "cell_type": "code",
   "execution_count": 312,
   "metadata": {},
   "outputs": [],
   "source": [
    "def getHash(string):\n",
    "    inp = list(map(ord, string))\n",
    "    inp += [17, 31, 73, 47, 23]\n",
    "    circle = wraplist(list(range(256)))\n",
    "    pos = 0\n",
    "    skip = 0\n",
    "    for i in range(64):\n",
    "        circle, pos, skip = cycle(circle, inp, pos, skip)\n",
    "    dh = densen(circle)\n",
    "    return print_hash(dh)"
   ]
  },
  {
   "cell_type": "code",
   "execution_count": 313,
   "metadata": {},
   "outputs": [],
   "source": [
    "assert(getHash('') == 'a2582a3a0e66e6e86e3812dcb672a272')\n",
    "assert(getHash('AoC 2017') == '33efeb34ea91902bb2f59c9920caa6cd')\n",
    "assert(getHash('1,2,3') == '3efbe78a8d82f29979031a4aa0b16a9d')\n",
    "assert(getHash('1,2,4') == '63960835bcdc130f0b66d7ff4f6a5a8e')"
   ]
  },
  {
   "cell_type": "code",
   "execution_count": 314,
   "metadata": {},
   "outputs": [
    {
     "data": {
      "text/plain": [
       "'d9a7de4a809c56bf3a9465cb84392c8e'"
      ]
     },
     "execution_count": 314,
     "metadata": {},
     "output_type": "execute_result"
    }
   ],
   "source": [
    "# part 2\n",
    "getHash(inp_str)"
   ]
  },
  {
   "cell_type": "code",
   "execution_count": null,
   "metadata": {
    "collapsed": true
   },
   "outputs": [],
   "source": []
  }
 ],
 "metadata": {
  "kernelspec": {
   "display_name": "Python 3",
   "language": "python",
   "name": "python3"
  },
  "language_info": {
   "codemirror_mode": {
    "name": "ipython",
    "version": 3
   },
   "file_extension": ".py",
   "mimetype": "text/x-python",
   "name": "python",
   "nbconvert_exporter": "python",
   "pygments_lexer": "ipython3",
   "version": "3.6.0"
  }
 },
 "nbformat": 4,
 "nbformat_minor": 2
}
