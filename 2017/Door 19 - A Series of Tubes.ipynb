{
 "cells": [
  {
   "cell_type": "code",
   "execution_count": 1,
   "metadata": {
    "ExecuteTime": {
     "end_time": "2017-12-19T08:52:37.300741Z",
     "start_time": "2017-12-19T08:52:37.296620Z"
    },
    "collapsed": true
   },
   "outputs": [],
   "source": [
    "test_inp = \"\"\"     |          \n",
    "     |  +--+    \n",
    "     A  |  C    \n",
    " F---|----E|--+ \n",
    "     |  |  |  D \n",
    "     +B-+  +--+\"\"\""
   ]
  },
  {
   "cell_type": "code",
   "execution_count": 44,
   "metadata": {
    "ExecuteTime": {
     "end_time": "2017-12-19T09:41:53.819018Z",
     "start_time": "2017-12-19T09:41:53.815466Z"
    },
    "collapsed": true
   },
   "outputs": [],
   "source": [
    "# test\n",
    "grid = test_inp.split('\\n')"
   ]
  },
  {
   "cell_type": "code",
   "execution_count": 3,
   "metadata": {
    "ExecuteTime": {
     "end_time": "2017-12-19T08:53:07.316169Z",
     "start_time": "2017-12-19T08:53:07.304120Z"
    }
   },
   "outputs": [
    {
     "data": {
      "text/plain": [
       "['     |          ',\n",
       " '     |  +--+    ',\n",
       " '     A  |  C    ',\n",
       " ' F---|----E|--+ ',\n",
       " '     |  |  |  D ',\n",
       " '     +B-+  +--+']"
      ]
     },
     "execution_count": 3,
     "metadata": {},
     "output_type": "execute_result"
    }
   ],
   "source": [
    "grid"
   ]
  },
  {
   "cell_type": "code",
   "execution_count": 47,
   "metadata": {
    "ExecuteTime": {
     "end_time": "2017-12-19T09:42:23.182201Z",
     "start_time": "2017-12-19T09:42:23.178239Z"
    },
    "collapsed": true
   },
   "outputs": [],
   "source": [
    "with open('data/input_19.txt') as fh:\n",
    "    inp = fh.read()\n",
    "grid = inp.split('\\n')"
   ]
  },
  {
   "cell_type": "code",
   "execution_count": 48,
   "metadata": {
    "ExecuteTime": {
     "end_time": "2017-12-19T09:42:23.922063Z",
     "start_time": "2017-12-19T09:42:23.733545Z"
    }
   },
   "outputs": [
    {
     "name": "stdout",
     "output_type": "stream",
     "text": [
      "PVBSCMEQHY\n",
      "17736\n"
     ]
    }
   ],
   "source": [
    "startx = grid[0].index('|')\n",
    "starty = 0\n",
    "dim = (len(grid[0]), len(grid))\n",
    "direction = (0, 1)\n",
    "possible = set([(0, 1), (0, -1), (1, 0), (-1, 0)])\n",
    "pos = [startx, starty]\n",
    "\n",
    "def get_char(pos):\n",
    "    global grid\n",
    "    try:\n",
    "        return grid[pos[1]][pos[0]]\n",
    "    except IndexError:\n",
    "        return ' '\n",
    "    \n",
    "def check_bounds(pos):\n",
    "    raise\n",
    "    global dim\n",
    "    if pos[0] < dim[0] and pos[1] < dim[1] and pos[0] > 0 and pos[1] > 0:\n",
    "        return True\n",
    "    return False\n",
    "\n",
    "def get_next_direction():\n",
    "    global direction\n",
    "    global pos\n",
    "    for d in possible - set([direction, (-1 * direction[0], -1 * direction[1])]):\n",
    "        dx, dy = d\n",
    "        next_pos = (pos[0] + dx, pos[1] + dy)\n",
    "        char = get_char(next_pos)\n",
    "        if char != ' ':\n",
    "            return d\n",
    "    return None\n",
    "\n",
    "def get_next_pos():\n",
    "    global direction\n",
    "    global pos\n",
    "    dx, dy = direction\n",
    "    next_pos = [pos[0] + dx, pos[1] + dy]\n",
    "    char = get_char(next_pos)\n",
    "    if char == ' ':\n",
    "        direction = get_next_direction()\n",
    "        \n",
    "    if direction is None:\n",
    "        return None\n",
    "    else:\n",
    "        dx, dy = direction\n",
    "        return [pos[0] + dx, pos[1] + dy]\n",
    "    \n",
    "result = []\n",
    "num_steps = 1\n",
    "while True:\n",
    "    pos = get_next_pos()\n",
    "    if pos is None:\n",
    "        break\n",
    "    num_steps += 1\n",
    "    char = get_char(pos)\n",
    "    if ord(char) >= ord('A') and ord(char) <= ord('Z'):\n",
    "        result.append(char)\n",
    "    #print(char, pos)\n",
    "print(\"\".join(result))\n",
    "print(num_steps)"
   ]
  },
  {
   "cell_type": "code",
   "execution_count": null,
   "metadata": {
    "collapsed": true
   },
   "outputs": [],
   "source": []
  }
 ],
 "metadata": {
  "hide_input": false,
  "kernelspec": {
   "display_name": "Python 3",
   "language": "python",
   "name": "python3"
  },
  "language_info": {
   "codemirror_mode": {
    "name": "ipython",
    "version": 3
   },
   "file_extension": ".py",
   "mimetype": "text/x-python",
   "name": "python",
   "nbconvert_exporter": "python",
   "pygments_lexer": "ipython3",
   "version": "3.6.3"
  },
  "toc": {
   "colors": {
    "hover_highlight": "#DAA520",
    "navigate_num": "#000000",
    "navigate_text": "#333333",
    "running_highlight": "#FF0000",
    "selected_highlight": "#FFD700",
    "sidebar_border": "#EEEEEE",
    "wrapper_background": "#FFFFFF"
   },
   "moveMenuLeft": true,
   "nav_menu": {
    "height": "12px",
    "width": "252px"
   },
   "navigate_menu": true,
   "number_sections": true,
   "sideBar": true,
   "threshold": 4,
   "toc_cell": false,
   "toc_section_display": "block",
   "toc_window_display": false,
   "widenNotebook": false
  },
  "varInspector": {
   "cols": {
    "lenName": 16,
    "lenType": 16,
    "lenVar": 40
   },
   "kernels_config": {
    "python": {
     "delete_cmd_postfix": "",
     "delete_cmd_prefix": "del ",
     "library": "var_list.py",
     "varRefreshCmd": "print(var_dic_list())"
    },
    "r": {
     "delete_cmd_postfix": ") ",
     "delete_cmd_prefix": "rm(",
     "library": "var_list.r",
     "varRefreshCmd": "cat(var_dic_list()) "
    }
   },
   "types_to_exclude": [
    "module",
    "function",
    "builtin_function_or_method",
    "instance",
    "_Feature"
   ],
   "window_display": false
  }
 },
 "nbformat": 4,
 "nbformat_minor": 2
}
