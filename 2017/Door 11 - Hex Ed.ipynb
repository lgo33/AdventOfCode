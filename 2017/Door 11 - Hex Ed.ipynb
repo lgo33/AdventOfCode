{
 "cells": [
  {
   "cell_type": "code",
   "execution_count": 1,
   "metadata": {
    "ExecuteTime": {
     "end_time": "2017-12-11T13:19:06.105994Z",
     "start_time": "2017-12-11T13:19:06.102484Z"
    },
    "collapsed": true
   },
   "outputs": [],
   "source": [
    "with open('data/input_11.txt') as fh:\n",
    "    inp = fh.read()"
   ]
  },
  {
   "cell_type": "code",
   "execution_count": 2,
   "metadata": {
    "ExecuteTime": {
     "end_time": "2017-12-11T13:19:06.201520Z",
     "start_time": "2017-12-11T13:19:06.196799Z"
    },
    "collapsed": true
   },
   "outputs": [],
   "source": [
    "lt = {\n",
    "    'n' : (0, 1),\n",
    "    'ne': (0.5, 0.5),\n",
    "    'se': (0.5, -0.5),\n",
    "    's' : (0, -1),\n",
    "    'sw': (-0.5, -0.5),\n",
    "    'nw': (-0.5, 0.5)\n",
    "}"
   ]
  },
  {
   "cell_type": "code",
   "execution_count": 11,
   "metadata": {
    "ExecuteTime": {
     "end_time": "2017-12-11T13:31:26.406228Z",
     "start_time": "2017-12-11T13:31:26.374909Z"
    },
    "collapsed": true
   },
   "outputs": [],
   "source": [
    "def parse(string):\n",
    "    return string.strip().split(',')\n",
    "\n",
    "def move(inp):\n",
    "    inp = parse(inp)\n",
    "    x = 0\n",
    "    y = 0\n",
    "    for step in inp:\n",
    "        dx, dy = lt[step]\n",
    "        x += dx\n",
    "        y += dy        \n",
    "    return (x, y)\n",
    "\n",
    "def dist(inp):\n",
    "    x, y = move(inp)\n",
    "    x = abs(x)\n",
    "    y = abs(y)\n",
    "    if x > y:\n",
    "        return 2*x\n",
    "    return x + y"
   ]
  },
  {
   "cell_type": "code",
   "execution_count": 12,
   "metadata": {
    "ExecuteTime": {
     "end_time": "2017-12-11T13:31:27.713980Z",
     "start_time": "2017-12-11T13:31:27.707939Z"
    },
    "collapsed": true
   },
   "outputs": [],
   "source": [
    "assert(dist('ne,ne,ne') == 3)\n",
    "assert(dist('ne,ne,sw,sw') == 0)\n",
    "assert(dist('ne,ne,s,s') == 2)\n",
    "assert(dist('se,sw,se,sw,sw') == 3)"
   ]
  },
  {
   "cell_type": "code",
   "execution_count": 14,
   "metadata": {
    "ExecuteTime": {
     "end_time": "2017-12-11T13:34:06.038197Z",
     "start_time": "2017-12-11T13:34:06.034289Z"
    }
   },
   "outputs": [
    {
     "data": {
      "text/plain": [
       "(2.0, 2.0)"
      ]
     },
     "execution_count": 14,
     "metadata": {},
     "output_type": "execute_result"
    }
   ],
   "source": [
    "dist('ne,se'), dist('sw,nw')"
   ]
  },
  {
   "cell_type": "code",
   "execution_count": 18,
   "metadata": {
    "ExecuteTime": {
     "end_time": "2017-12-11T12:48:31.854057Z",
     "start_time": "2017-12-11T12:48:31.848570Z"
    }
   },
   "outputs": [
    {
     "name": "stdout",
     "output_type": "stream",
     "text": [
      "805.0\n"
     ]
    }
   ],
   "source": [
    "# part 1\n",
    "print(dist(inp))"
   ]
  },
  {
   "cell_type": "code",
   "execution_count": 19,
   "metadata": {
    "ExecuteTime": {
     "end_time": "2017-12-11T12:50:30.220207Z",
     "start_time": "2017-12-11T12:50:30.212491Z"
    },
    "collapsed": true
   },
   "outputs": [],
   "source": [
    "def max_dist(inp):\n",
    "    inp = parse(inp)\n",
    "    x = 0\n",
    "    y = 0\n",
    "    maxv = 0\n",
    "    for step in inp:\n",
    "        dx, dy = lt[step]\n",
    "        x += dx\n",
    "        y += dy\n",
    "        maxv = max(maxv, abs(x) + abs(y))\n",
    "    return maxv"
   ]
  },
  {
   "cell_type": "code",
   "execution_count": 20,
   "metadata": {
    "ExecuteTime": {
     "end_time": "2017-12-11T12:50:38.557588Z",
     "start_time": "2017-12-11T12:50:38.548540Z"
    }
   },
   "outputs": [
    {
     "name": "stdout",
     "output_type": "stream",
     "text": [
      "1535.0\n"
     ]
    }
   ],
   "source": [
    "#part 2\n",
    "print(max_dist(inp))"
   ]
  },
  {
   "cell_type": "code",
   "execution_count": null,
   "metadata": {
    "collapsed": true
   },
   "outputs": [],
   "source": []
  }
 ],
 "metadata": {
  "hide_input": false,
  "kernelspec": {
   "display_name": "Python 3",
   "language": "python",
   "name": "python3"
  },
  "language_info": {
   "codemirror_mode": {
    "name": "ipython",
    "version": 3
   },
   "file_extension": ".py",
   "mimetype": "text/x-python",
   "name": "python",
   "nbconvert_exporter": "python",
   "pygments_lexer": "ipython3",
   "version": "3.6.3"
  },
  "toc": {
   "colors": {
    "hover_highlight": "#DAA520",
    "navigate_num": "#000000",
    "navigate_text": "#333333",
    "running_highlight": "#FF0000",
    "selected_highlight": "#FFD700",
    "sidebar_border": "#EEEEEE",
    "wrapper_background": "#FFFFFF"
   },
   "moveMenuLeft": true,
   "nav_menu": {
    "height": "12px",
    "width": "252px"
   },
   "navigate_menu": true,
   "number_sections": true,
   "sideBar": true,
   "threshold": 4,
   "toc_cell": false,
   "toc_section_display": "block",
   "toc_window_display": false,
   "widenNotebook": false
  },
  "varInspector": {
   "cols": {
    "lenName": 16,
    "lenType": 16,
    "lenVar": 40
   },
   "kernels_config": {
    "python": {
     "delete_cmd_postfix": "",
     "delete_cmd_prefix": "del ",
     "library": "var_list.py",
     "varRefreshCmd": "print(var_dic_list())"
    },
    "r": {
     "delete_cmd_postfix": ") ",
     "delete_cmd_prefix": "rm(",
     "library": "var_list.r",
     "varRefreshCmd": "cat(var_dic_list()) "
    }
   },
   "types_to_exclude": [
    "module",
    "function",
    "builtin_function_or_method",
    "instance",
    "_Feature"
   ],
   "window_display": false
  }
 },
 "nbformat": 4,
 "nbformat_minor": 2
}
