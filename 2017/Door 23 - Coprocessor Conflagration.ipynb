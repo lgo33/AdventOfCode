{
 "cells": [
  {
   "cell_type": "code",
   "execution_count": 98,
   "metadata": {
    "collapsed": true
   },
   "outputs": [],
   "source": [
    "import math"
   ]
  },
  {
   "cell_type": "code",
   "execution_count": 101,
   "metadata": {
    "collapsed": true
   },
   "outputs": [],
   "source": [
    "from collections import defaultdict\n",
    "class coprocessor():\n",
    "    def __init__(self, debug=False, register={}):\n",
    "        self.register = defaultdict(int)\n",
    "        self.register.update(register)\n",
    "        self.mem = []\n",
    "        self.loc = 0\n",
    "        self.sound = 0\n",
    "        self.received = 0\n",
    "        self.wait = False\n",
    "        self.debug = debug\n",
    "        self.cnt = 0\n",
    "        \n",
    "    def getVal(self, val):\n",
    "        if isinstance(val, int):\n",
    "            return val\n",
    "        return self.register[val]\n",
    "    \n",
    "    @staticmethod\n",
    "    def parse(string):\n",
    "        args = string.split()\n",
    "        ret = [args[0]]\n",
    "        for arg in args[1:]:\n",
    "            try:\n",
    "                ret.append(int(arg))\n",
    "            except ValueError:\n",
    "                ret.append(arg)\n",
    "        return ret\n",
    "    \n",
    "    def load(self, string):\n",
    "        self.mem = list(map(self.parse, string.split('\\n')))\n",
    "    \n",
    "    def exe(self, *args):\n",
    "        getattr(self, args[0])(*args[1:])\n",
    "        if self.debug:\n",
    "            print(args, ': ', self.register)\n",
    "        \n",
    "    def run(self):\n",
    "        self.wait = False\n",
    "        self.loc = 0\n",
    "        while self.loc < len(self.mem) and self.loc >= 0:\n",
    "            l = self.loc\n",
    "            self.exe(*self.mem[self.loc])\n",
    "            if l == self.loc and self.wait == False:\n",
    "                self.loc += 1\n",
    "            if self.wait == True:\n",
    "                return 1\n",
    "        return 0\n",
    "    \n",
    "    def snd(self, x):\n",
    "        self.sound = self.getVal(x)\n",
    "        \n",
    "    def set(self, x, y):\n",
    "        self.register[x] = self.getVal(y)\n",
    "    \n",
    "    def add(self, x, y):\n",
    "        self.register[x] += self.getVal(y)\n",
    "        \n",
    "    def sub(self, x, y):\n",
    "        self.register[x] -= self.getVal(y)\n",
    "        \n",
    "    def mul(self, x, y):\n",
    "        self.cnt += 1\n",
    "        self.register[x] *= self.getVal(y)\n",
    "        \n",
    "    def mod(self, x, y):\n",
    "        self.register[x] = self.getVal(x) % self.getVal(y)\n",
    "        \n",
    "    def rcv(self, x):\n",
    "        if self.getVal(x):\n",
    "            self.received = self.sound\n",
    "            print(self.received)\n",
    "            self.loc = -1\n",
    "    \n",
    "    def jgz(self, x, y):\n",
    "        if self.getVal(x) > 0:\n",
    "            self.loc += self.getVal(y)\n",
    "\n",
    "    def jnz(self, x, y):\n",
    "        if self.getVal(x) != 0:\n",
    "            self.loc += self.getVal(y)\n",
    "       \n",
    "        "
   ]
  },
  {
   "cell_type": "code",
   "execution_count": 17,
   "metadata": {
    "collapsed": true
   },
   "outputs": [],
   "source": [
    "with open('data/input_23.txt') as fh:\n",
    "    inp = fh.read().strip()"
   ]
  },
  {
   "cell_type": "code",
   "execution_count": 150,
   "metadata": {},
   "outputs": [
    {
     "name": "stdout",
     "output_type": "stream",
     "text": [
      "5929 defaultdict(<class 'int'>, {'b': 79, 'c': 79, 'a': 0, 'f': 1, 'd': 79, 'e': 79, 'g': 0})\n"
     ]
    }
   ],
   "source": [
    "# part 1\n",
    "cop = coprocessor()\n",
    "cop.load(inp)\n",
    "cop.run()\n",
    "\n",
    "print(cop.cnt, cop.register)"
   ]
  },
  {
   "cell_type": "code",
   "execution_count": 149,
   "metadata": {
    "collapsed": true
   },
   "outputs": [],
   "source": [
    "inp = \"\"\"set b 79\n",
    "set c b\n",
    "jnz a 2\n",
    "jnz 1 5\n",
    "mul b 100\n",
    "sub b -100000\n",
    "set c b\n",
    "sub c -17000\n",
    "set f 1\n",
    "set d 2\n",
    "set e 2\n",
    "set g d\n",
    "mul g e\n",
    "sub g b\n",
    "jnz g 2\n",
    "set f 0\n",
    "sub e -1\n",
    "set g e\n",
    "sub g b\n",
    "jnz g -8\n",
    "sub d -1\n",
    "set g d\n",
    "sub g b\n",
    "jnz g -13\n",
    "jnz f 2\n",
    "sub h -1\n",
    "set g b\n",
    "sub g c\n",
    "jnz g 2\n",
    "jnz 1 3\n",
    "sub b -17\n",
    "jnz 1 -23\"\"\""
   ]
  },
  {
   "cell_type": "code",
   "execution_count": null,
   "metadata": {
    "collapsed": true
   },
   "outputs": [],
   "source": [
    "set b 79\n",
    "set c b\n",
    "jnz a 2\n",
    "jnz 1 5\n",
    "mul b 100\n",
    "sub b -100000\n",
    "set c b\n",
    "sub c -17000\n",
    "set f 1\n",
    "set d 2\n",
    "set e 2\n",
    "set g d\n",
    "mul g e\n",
    "sub g b\n",
    "jnz g 2\n",
    "set f 0\n",
    "sub e -1\n",
    "set g e\n",
    "sub g b\n",
    "jnz g -8\n",
    "sub d -1\n",
    "set g d\n",
    "sub g b\n",
    "jnz g -13\n",
    "jnz f 2\n",
    "sub h -1\n",
    "set g b\n",
    "sub g c\n",
    "jnz g 2\n",
    "jnz 1 3\n",
    "sub b -17\n",
    "jnz 1 -23"
   ]
  },
  {
   "cell_type": "code",
   "execution_count": 111,
   "metadata": {
    "collapsed": true
   },
   "outputs": [],
   "source": [
    "def isprime(n):\n",
    "    n = abs(n)\n",
    "    sqrtn = math.sqrt(n)\n",
    "    if n==2:\n",
    "        return 1\n",
    "    if not n&1:\n",
    "        return 0\n",
    "    for i in range(3, int(sqrtn)+1,2):\n",
    "        if (n % i) == 0:\n",
    "            return 0\n",
    "    return 1"
   ]
  },
  {
   "cell_type": "code",
   "execution_count": 147,
   "metadata": {},
   "outputs": [
    {
     "name": "stdout",
     "output_type": "stream",
     "text": [
      "907\n"
     ]
    }
   ],
   "source": [
    "a = b = c = d = e = f = g = h = 0\n",
    "a = 1\n",
    "b = 79\n",
    "c = b\n",
    "if a != 0:\n",
    "    b *= 100\n",
    "    b += 100000\n",
    "    c  = b\n",
    "    c += 17000\n",
    "    \n",
    "for n in range(b, c+1, 17):\n",
    "    if not isprime(n):\n",
    "        h += 1\n",
    "print(h)"
   ]
  },
  {
   "cell_type": "code",
   "execution_count": null,
   "metadata": {
    "collapsed": true
   },
   "outputs": [],
   "source": []
  }
 ],
 "metadata": {
  "kernelspec": {
   "display_name": "Python 3",
   "language": "python",
   "name": "python3"
  },
  "language_info": {
   "codemirror_mode": {
    "name": "ipython",
    "version": 3
   },
   "file_extension": ".py",
   "mimetype": "text/x-python",
   "name": "python",
   "nbconvert_exporter": "python",
   "pygments_lexer": "ipython3",
   "version": "3.6.0"
  }
 },
 "nbformat": 4,
 "nbformat_minor": 2
}
