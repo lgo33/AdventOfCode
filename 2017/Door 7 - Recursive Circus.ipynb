{
 "cells": [
  {
   "cell_type": "code",
   "execution_count": 153,
   "metadata": {
    "ExecuteTime": {
     "end_time": "2017-12-08T16:59:09.918835Z",
     "start_time": "2017-12-08T16:59:09.915324Z"
    },
    "collapsed": true
   },
   "outputs": [],
   "source": [
    "with open('./data/input_7.txt') as fh:\n",
    "    inp = fh.readlines()"
   ]
  },
  {
   "cell_type": "code",
   "execution_count": 125,
   "metadata": {
    "ExecuteTime": {
     "end_time": "2017-12-08T16:54:45.002816Z",
     "start_time": "2017-12-08T16:54:44.998011Z"
    },
    "collapsed": true
   },
   "outputs": [],
   "source": [
    "# test \n",
    "inp =\"\"\"pbga (66)\n",
    "xhth (57)\n",
    "ebii (61)\n",
    "havc (66)\n",
    "ktlj (57)\n",
    "fwft (72) -> ktlj, cntj, xhth\n",
    "qoyq (66)\n",
    "padx (45) -> pbga, havc, qoyq\n",
    "tknk (41) -> ugml, padx, fwft\n",
    "jptl (61)\n",
    "ugml (68) -> gyxo, ebii, jptl\n",
    "gyxo (61)\n",
    "cntj (57)\"\"\".strip().split('\\n')"
   ]
  },
  {
   "cell_type": "code",
   "execution_count": 154,
   "metadata": {
    "ExecuteTime": {
     "end_time": "2017-12-08T16:59:11.592273Z",
     "start_time": "2017-12-08T16:59:11.580438Z"
    },
    "collapsed": true
   },
   "outputs": [],
   "source": [
    "def parse_line(line):\n",
    "    line = line.strip()\n",
    "    children = []\n",
    "    spl = line.split(' -> ')\n",
    "    key, weight = spl[0].split(' ')\n",
    "    weight = int(weight[1:-1])\n",
    "    if len(spl) > 1:\n",
    "        children = spl[1].split(', ')\n",
    "    return {\n",
    "        key: {\n",
    "            'weight' : weight,\n",
    "            'children': children,\n",
    "            'leaves' : {}\n",
    "        }\n",
    "    }"
   ]
  },
  {
   "cell_type": "code",
   "execution_count": 155,
   "metadata": {
    "ExecuteTime": {
     "end_time": "2017-12-08T16:59:12.051379Z",
     "start_time": "2017-12-08T16:59:12.036420Z"
    }
   },
   "outputs": [],
   "source": [
    "leaves = {}\n",
    "for line in inp:\n",
    "    leaves.update(parse_line(line))"
   ]
  },
  {
   "cell_type": "code",
   "execution_count": 156,
   "metadata": {
    "ExecuteTime": {
     "end_time": "2017-12-08T16:59:12.402735Z",
     "start_time": "2017-12-08T16:59:12.396895Z"
    },
    "collapsed": true
   },
   "outputs": [],
   "source": [
    "def traverse(dictionary):\n",
    "    for key in dictionary:\n",
    "        yield(key, dictionary)\n",
    "        yield from traverse(dictionary[key])"
   ]
  },
  {
   "cell_type": "code",
   "execution_count": 157,
   "metadata": {
    "ExecuteTime": {
     "end_time": "2017-12-08T16:59:12.617459Z",
     "start_time": "2017-12-08T16:59:12.605118Z"
    },
    "collapsed": true
   },
   "outputs": [],
   "source": [
    "tree = {}\n",
    "for key in leaves:\n",
    "    if len(leaves[key]['children']) > 0:\n",
    "        tree[key] = {}\n",
    "        for child in leaves[key]['children']:\n",
    "            tree[key][child] = {}\n",
    "    "
   ]
  },
  {
   "cell_type": "code",
   "execution_count": 158,
   "metadata": {
    "ExecuteTime": {
     "end_time": "2017-12-08T16:59:13.084498Z",
     "start_time": "2017-12-08T16:59:13.042168Z"
    }
   },
   "outputs": [
    {
     "name": "stdout",
     "output_type": "stream",
     "text": [
      "369\n",
      "288\n",
      "215\n",
      "150\n",
      "109\n",
      "79\n",
      "58\n",
      "41\n",
      "30\n",
      "22\n",
      "15\n",
      "11\n",
      "9\n",
      "7\n",
      "5\n",
      "3\n",
      "2\n"
     ]
    }
   ],
   "source": [
    "while len(tree)>1:\n",
    "    print (len(tree))\n",
    "    for key in tree.copy():\n",
    "        try:\n",
    "            for leave, pos in traverse(tree[key]):\n",
    "                if leave in tree:\n",
    "                    pos[leave] = tree.pop(leave)\n",
    "                    break\n",
    "        except KeyError:\n",
    "            pass"
   ]
  },
  {
   "cell_type": "code",
   "execution_count": 159,
   "metadata": {
    "ExecuteTime": {
     "end_time": "2017-12-08T16:59:13.527621Z",
     "start_time": "2017-12-08T16:59:13.522615Z"
    }
   },
   "outputs": [
    {
     "data": {
      "text/plain": [
       "dict_keys(['azqje'])"
      ]
     },
     "execution_count": 159,
     "metadata": {},
     "output_type": "execute_result"
    }
   ],
   "source": [
    "# part 1\n",
    "tree.keys()"
   ]
  },
  {
   "cell_type": "code",
   "execution_count": 170,
   "metadata": {
    "ExecuteTime": {
     "end_time": "2017-12-08T17:05:29.811793Z",
     "start_time": "2017-12-08T17:05:29.798314Z"
    }
   },
   "outputs": [],
   "source": [
    "def getWeight(node, key):\n",
    "    weight = leaves[key]['weight']\n",
    "    #print(key, weight)\n",
    "    weights = []\n",
    "    wd = {}\n",
    "    for child in node[key]:\n",
    "        w = getWeight(node[key], child)\n",
    "        weights.append(w)\n",
    "        wd[child] = w\n",
    "    if (len(weights) > 0) and (weights[0] != (sum(weights) // len(weights))):\n",
    "        print(weights)\n",
    "        for k in node[key]:\n",
    "            print(k, leaves[k]['weight'], wd[k], leaves[k]['children'])\n",
    "    return weight + sum(weights)"
   ]
  },
  {
   "cell_type": "code",
   "execution_count": 171,
   "metadata": {
    "ExecuteTime": {
     "end_time": "2017-12-08T17:05:30.013314Z",
     "start_time": "2017-12-08T17:05:29.998690Z"
    }
   },
   "outputs": [
    {
     "name": "stdout",
     "output_type": "stream",
     "text": [
      "[1051, 1051, 1060]\n",
      "nmhmw 979 1051 ['krdsv', 'kiuayw', 'rovftl']\n",
      "pknpuej 91 1051 ['livac', 'vxghl', 'qcccxc', 'mxprsl']\n",
      "rfkvap 655 1060 ['zxmsme', 'nbybi', 'xaaqdv']\n",
      "[15369, 15369, 15378, 15369, 15369, 15369]\n",
      "ghaxmrh 10881 15369 ['hhosv', 'ximzx', 'ztphu']\n",
      "vqxwlkh 8119 15369 ['kcotwhf', 'ksnnnc', 'shbrz', 'jtxdihn', 'yixpr']\n",
      "nzeqmqi 12216 15378 ['nmhmw', 'pknpuej', 'rfkvap']\n",
      "lokmiua 2132 15369 ['hdrab', 'eftrvo', 'hbnnhyi', 'avnxndg', 'tihzzf', 'nbvtfz', 'qniem']\n",
      "znypga 14031 15369 ['emkyoy', 'uskdpcu', 'ccmfbok']\n",
      "vtpoo 89 15369 ['vskibye', 'nelgvnr', 'qcedbm', 'owfrl', 'vyfbsgv']\n",
      "[145260, 145260, 145269]\n",
      "holcy 66 145260 ['frruz', 'hbzxaji', 'mhbiyxk', 'zrjtxfa', 'efpvvp', 'acmrndk', 'trrkrqa']\n",
      "fwbang 99684 145260 ['lvxnl', 'aspplbw', 'uylrp', 'yzjiby']\n",
      "inwmb 53046 145269 ['ghaxmrh', 'vqxwlkh', 'nzeqmqi', 'lokmiua', 'znypga', 'vtpoo']\n"
     ]
    },
    {
     "data": {
      "text/plain": [
       "435861"
      ]
     },
     "execution_count": 171,
     "metadata": {},
     "output_type": "execute_result"
    }
   ],
   "source": [
    "# part 2\n",
    "getWeight(tree, 'azqje')\n",
    "#getWeight(tree, 'tknk')"
   ]
  },
  {
   "cell_type": "code",
   "execution_count": null,
   "metadata": {
    "collapsed": true
   },
   "outputs": [],
   "source": []
  }
 ],
 "metadata": {
  "hide_input": false,
  "kernelspec": {
   "display_name": "Python 3",
   "language": "python",
   "name": "python3"
  },
  "language_info": {
   "codemirror_mode": {
    "name": "ipython",
    "version": 3
   },
   "file_extension": ".py",
   "mimetype": "text/x-python",
   "name": "python",
   "nbconvert_exporter": "python",
   "pygments_lexer": "ipython3",
   "version": "3.6.3"
  },
  "toc": {
   "colors": {
    "hover_highlight": "#DAA520",
    "navigate_num": "#000000",
    "navigate_text": "#333333",
    "running_highlight": "#FF0000",
    "selected_highlight": "#FFD700",
    "sidebar_border": "#EEEEEE",
    "wrapper_background": "#FFFFFF"
   },
   "moveMenuLeft": true,
   "nav_menu": {
    "height": "12px",
    "width": "252px"
   },
   "navigate_menu": true,
   "number_sections": true,
   "sideBar": true,
   "threshold": 4,
   "toc_cell": false,
   "toc_section_display": "block",
   "toc_window_display": false,
   "widenNotebook": false
  },
  "varInspector": {
   "cols": {
    "lenName": 16,
    "lenType": 16,
    "lenVar": 40
   },
   "kernels_config": {
    "python": {
     "delete_cmd_postfix": "",
     "delete_cmd_prefix": "del ",
     "library": "var_list.py",
     "varRefreshCmd": "print(var_dic_list())"
    },
    "r": {
     "delete_cmd_postfix": ") ",
     "delete_cmd_prefix": "rm(",
     "library": "var_list.r",
     "varRefreshCmd": "cat(var_dic_list()) "
    }
   },
   "types_to_exclude": [
    "module",
    "function",
    "builtin_function_or_method",
    "instance",
    "_Feature"
   ],
   "window_display": false
  }
 },
 "nbformat": 4,
 "nbformat_minor": 2
}
