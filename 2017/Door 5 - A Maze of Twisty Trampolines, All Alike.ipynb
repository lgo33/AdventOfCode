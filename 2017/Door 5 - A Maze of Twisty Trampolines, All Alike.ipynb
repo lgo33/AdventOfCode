{
 "cells": [
  {
   "cell_type": "code",
   "execution_count": 1,
   "metadata": {
    "ExecuteTime": {
     "end_time": "2017-12-05T08:28:41.289790Z",
     "start_time": "2017-12-05T08:28:41.285116Z"
    },
    "collapsed": true
   },
   "outputs": [],
   "source": [
    "with open('data/input_5.txt') as fh:\n",
    "    input = fh.readlines()"
   ]
  },
  {
   "cell_type": "code",
   "execution_count": 20,
   "metadata": {
    "ExecuteTime": {
     "end_time": "2017-12-05T08:35:54.148496Z",
     "start_time": "2017-12-05T08:35:53.993087Z"
    }
   },
   "outputs": [
    {
     "name": "stdout",
     "output_type": "stream",
     "text": [
      "343467\n"
     ]
    }
   ],
   "source": [
    "# part 1\n",
    "\n",
    "# testing\n",
    "# instructions = [0, 3,  0,  1,  -3]\n",
    "instructions = list(map(lambda x: int(x.strip()), input))\n",
    "\n",
    "loc = 0\n",
    "max_loc = len(instructions)\n",
    "cnt = 0\n",
    "try:\n",
    "    while True:\n",
    "        new_loc = loc + instructions[loc]\n",
    "        instructions[loc] += 1\n",
    "        loc = new_loc\n",
    "        cnt += 1\n",
    "        # print (loc, instructions)\n",
    "except IndexError:\n",
    "    print(cnt)\n"
   ]
  },
  {
   "cell_type": "code",
   "execution_count": 24,
   "metadata": {
    "ExecuteTime": {
     "end_time": "2017-12-05T08:37:53.529342Z",
     "start_time": "2017-12-05T08:37:41.939917Z"
    }
   },
   "outputs": [
    {
     "name": "stdout",
     "output_type": "stream",
     "text": [
      "24774780\n"
     ]
    }
   ],
   "source": [
    "# part 2\n",
    "\n",
    "# testing\n",
    "# instructions = [0, 3,  0,  1,  -3]\n",
    "instructions = list(map(lambda x: int(x.strip()), input))\n",
    "\n",
    "loc = 0\n",
    "max_loc = len(instructions)\n",
    "cnt = 0\n",
    "try:\n",
    "    while True:\n",
    "        new_loc = loc + instructions[loc]\n",
    "        instructions[loc] += 1 if instructions[loc] < 3 else -1\n",
    "        loc = new_loc\n",
    "        cnt += 1\n",
    "        # print (loc, instructions)\n",
    "except IndexError:\n",
    "    print(cnt)\n"
   ]
  },
  {
   "cell_type": "code",
   "execution_count": null,
   "metadata": {
    "collapsed": true
   },
   "outputs": [],
   "source": []
  }
 ],
 "metadata": {
  "hide_input": false,
  "kernelspec": {
   "display_name": "Python 3",
   "language": "python",
   "name": "python3"
  },
  "language_info": {
   "codemirror_mode": {
    "name": "ipython",
    "version": 3
   },
   "file_extension": ".py",
   "mimetype": "text/x-python",
   "name": "python",
   "nbconvert_exporter": "python",
   "pygments_lexer": "ipython3",
   "version": "3.6.3"
  },
  "toc": {
   "colors": {
    "hover_highlight": "#DAA520",
    "navigate_num": "#000000",
    "navigate_text": "#333333",
    "running_highlight": "#FF0000",
    "selected_highlight": "#FFD700",
    "sidebar_border": "#EEEEEE",
    "wrapper_background": "#FFFFFF"
   },
   "moveMenuLeft": true,
   "nav_menu": {
    "height": "12px",
    "width": "252px"
   },
   "navigate_menu": true,
   "number_sections": true,
   "sideBar": true,
   "threshold": 4,
   "toc_cell": false,
   "toc_section_display": "block",
   "toc_window_display": false,
   "widenNotebook": false
  },
  "varInspector": {
   "cols": {
    "lenName": 16,
    "lenType": 16,
    "lenVar": 40
   },
   "kernels_config": {
    "python": {
     "delete_cmd_postfix": "",
     "delete_cmd_prefix": "del ",
     "library": "var_list.py",
     "varRefreshCmd": "print(var_dic_list())"
    },
    "r": {
     "delete_cmd_postfix": ") ",
     "delete_cmd_prefix": "rm(",
     "library": "var_list.r",
     "varRefreshCmd": "cat(var_dic_list()) "
    }
   },
   "types_to_exclude": [
    "module",
    "function",
    "builtin_function_or_method",
    "instance",
    "_Feature"
   ],
   "window_display": false
  }
 },
 "nbformat": 4,
 "nbformat_minor": 2
}
