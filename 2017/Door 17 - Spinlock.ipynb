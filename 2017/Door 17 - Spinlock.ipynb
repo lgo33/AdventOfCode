{
 "cells": [
  {
   "cell_type": "code",
   "execution_count": 123,
   "metadata": {},
   "outputs": [],
   "source": [
    "import numpy as np\n",
    "class cbuff():\n",
    "    def __init__(self, l, step):\n",
    "        self.buff = np.zeros(l, dtype=np.int32)\n",
    "        self.buff.fill(-1)\n",
    "        self.buff[0] = 0\n",
    "        self.pos = 0\n",
    "        self.len = 1\n",
    "        self.step = step\n",
    "        self.generate(l)\n",
    "    \n",
    "    def insert(self, pos, val):\n",
    "        self.buff[pos+1:self.len+1] = self.buff[pos:self.len]\n",
    "        self.buff[pos] = val\n",
    "        self.len += 1\n",
    "        \n",
    "    def generate(self, n):\n",
    "        for i in range(1, n):\n",
    "            self.pos = ((self.pos + self.step) % self.len) + 1\n",
    "            self.insert(self.pos, i)\n",
    "            \n",
    "    def index(self, i):\n",
    "        idx, = np.where(self.buff == i)\n",
    "        return idx[0]\n",
    "    \n",
    "    def __getitem__(self, args):\n",
    "        return self.buff[args]\n",
    "    \n",
    "    def __repr__(self):\n",
    "        return self.buff.__repr__()\n",
    "    \n",
    "\n",
    "class fake_cbuff(cbuff):\n",
    "    def __init__(self, l, step, obs):\n",
    "        self.obs = obs\n",
    "        self.obsind = 0\n",
    "        super().__init__(l, step)\n",
    "        \n",
    "    def insert(self, pos, val):\n",
    "        if val <= self.obs:\n",
    "            super().insert(pos, val)\n",
    "            if val == self.obs:\n",
    "                self.obsind = pos\n",
    "        else:\n",
    "            if pos <= self.obsind:\n",
    "                self.buff[self.obsind:self.obsind+3] = self.buff[self.obsind-1:self.obsind+2]\n",
    "                self.obsind += 1\n",
    "            elif (pos == (self.obsind + 1)):\n",
    "                self.buff[pos] = val\n",
    "            self.len += 1\n",
    "    \n",
    "    "
   ]
  },
  {
   "cell_type": "code",
   "execution_count": 124,
   "metadata": {},
   "outputs": [],
   "source": [
    "b = fake_cbuff(2018, 3, 2017)\n",
    "idx, = np.where( b.buff == 2017 )\n",
    "assert(b.buff[idx+1] == 638)"
   ]
  },
  {
   "cell_type": "code",
   "execution_count": 79,
   "metadata": {},
   "outputs": [],
   "source": [
    "b = cbuff(10, 3)\n",
    "assert(b.buff.tolist() == [0, 9, 5,  7,  2,  4,  3,  8,  6,  1])\n",
    "b = cbuff(2018, 3)\n",
    "idx, = np.where( b.buff == 2017 )\n",
    "assert(b.buff[idx+1] == 638)"
   ]
  },
  {
   "cell_type": "code",
   "execution_count": 80,
   "metadata": {},
   "outputs": [],
   "source": [
    "buff2017 = cbuff(2018, 3)\n",
    "assert(buff2017.buff[buff2017.index(2017) + 1] == 638)"
   ]
  },
  {
   "cell_type": "code",
   "execution_count": 56,
   "metadata": {},
   "outputs": [
    {
     "name": "stdout",
     "output_type": "stream",
     "text": [
      "1506\n"
     ]
    }
   ],
   "source": [
    "# part 1\n",
    "inp = 359\n",
    "b = cbuff(2018, inp)\n",
    "index = b.index(2017)\n",
    "print(b.buff[index+1])"
   ]
  },
  {
   "cell_type": "code",
   "execution_count": 136,
   "metadata": {},
   "outputs": [
    {
     "name": "stdout",
     "output_type": "stream",
     "text": [
      "39479736\n",
      "CPU times: user 47.2 s, sys: 217 ms, total: 47.4 s\n",
      "Wall time: 48.6 s\n"
     ]
    }
   ],
   "source": [
    "%%time\n",
    "# part 2\n",
    "inp = 359\n",
    "buff = fake_cbuff(50000001, inp, 0)\n",
    "idx = buff.index(0)\n",
    "print(buff[idx+1])"
   ]
  },
  {
   "cell_type": "code",
   "execution_count": 3,
   "metadata": {},
   "outputs": [
    {
     "name": "stdout",
     "output_type": "stream",
     "text": [
      "Value after 0 in completed buffer is 39479736\n",
      "CPU times: user 526 ms, sys: 4.54 ms, total: 531 ms\n",
      "Wall time: 536 ms\n"
     ]
    }
   ],
   "source": [
    "%%time\n",
    "from numba import jit\n",
    "\n",
    "@jit\n",
    "def next0(step):\n",
    "    pos = 0\n",
    "    final = 0\n",
    "    for i in range(1,50000001):\n",
    "        pos = (pos+step)%i+1\n",
    "        if pos==1:\n",
    "            final = i\n",
    "    return(final) \n",
    "print('Value after 0 in completed buffer is', next0(359))"
   ]
  },
  {
   "cell_type": "code",
   "execution_count": null,
   "metadata": {
    "collapsed": true
   },
   "outputs": [],
   "source": []
  }
 ],
 "metadata": {
  "kernelspec": {
   "display_name": "Python 3",
   "language": "python",
   "name": "python3"
  },
  "language_info": {
   "codemirror_mode": {
    "name": "ipython",
    "version": 3
   },
   "file_extension": ".py",
   "mimetype": "text/x-python",
   "name": "python",
   "nbconvert_exporter": "python",
   "pygments_lexer": "ipython3",
   "version": "3.6.0"
  }
 },
 "nbformat": 4,
 "nbformat_minor": 2
}
