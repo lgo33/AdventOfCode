{
 "cells": [
  {
   "cell_type": "code",
   "execution_count": 34,
   "metadata": {
    "ExecuteTime": {
     "end_time": "2017-12-13T10:38:33.083267Z",
     "start_time": "2017-12-13T10:38:33.079974Z"
    },
    "collapsed": true
   },
   "outputs": [],
   "source": [
    "with open('data/input_13.txt') as fh:\n",
    "    inp = fh.read().strip()"
   ]
  },
  {
   "cell_type": "code",
   "execution_count": 19,
   "metadata": {
    "ExecuteTime": {
     "end_time": "2017-12-13T10:31:17.128959Z",
     "start_time": "2017-12-13T10:31:17.126300Z"
    },
    "collapsed": true
   },
   "outputs": [],
   "source": [
    "# test\n",
    "inp = \"\"\"0: 3\n",
    "1: 2\n",
    "4: 4\n",
    "6: 4\"\"\""
   ]
  },
  {
   "cell_type": "code",
   "execution_count": 35,
   "metadata": {
    "ExecuteTime": {
     "end_time": "2017-12-13T10:38:34.673303Z",
     "start_time": "2017-12-13T10:38:34.666276Z"
    }
   },
   "outputs": [
    {
     "name": "stdout",
     "output_type": "stream",
     "text": [
      "1\n"
     ]
    }
   ],
   "source": [
    "scanner = {}\n",
    "def parse(line):\n",
    "    key, value = line.split(': ')\n",
    "    scanner[int(key)] = int(value)\n",
    "list(map(parse, inp.split('\\n')))\n",
    "print(1)"
   ]
  },
  {
   "cell_type": "code",
   "execution_count": 56,
   "metadata": {
    "ExecuteTime": {
     "end_time": "2017-12-13T11:00:35.324582Z",
     "start_time": "2017-12-13T11:00:35.319243Z"
    }
   },
   "outputs": [
    {
     "data": {
      "text/plain": [
       "{0: 3,\n",
       " 1: 2,\n",
       " 2: 4,\n",
       " 4: 4,\n",
       " 6: 5,\n",
       " 8: 6,\n",
       " 10: 6,\n",
       " 12: 8,\n",
       " 14: 6,\n",
       " 16: 6,\n",
       " 18: 8,\n",
       " 20: 12,\n",
       " 22: 8,\n",
       " 24: 8,\n",
       " 26: 9,\n",
       " 28: 8,\n",
       " 30: 8,\n",
       " 32: 12,\n",
       " 34: 20,\n",
       " 36: 10,\n",
       " 38: 12,\n",
       " 40: 12,\n",
       " 42: 10,\n",
       " 44: 12,\n",
       " 46: 12,\n",
       " 48: 12,\n",
       " 50: 12,\n",
       " 52: 12,\n",
       " 54: 14,\n",
       " 56: 14,\n",
       " 58: 12,\n",
       " 62: 14,\n",
       " 64: 14,\n",
       " 66: 14,\n",
       " 68: 14,\n",
       " 70: 14,\n",
       " 72: 14,\n",
       " 74: 14,\n",
       " 76: 14,\n",
       " 78: 14,\n",
       " 80: 18,\n",
       " 82: 17,\n",
       " 84: 14}"
      ]
     },
     "execution_count": 56,
     "metadata": {},
     "output_type": "execute_result"
    }
   ],
   "source": [
    "scanner"
   ]
  },
  {
   "cell_type": "code",
   "execution_count": 36,
   "metadata": {
    "ExecuteTime": {
     "end_time": "2017-12-13T10:38:36.770660Z",
     "start_time": "2017-12-13T10:38:36.764150Z"
    }
   },
   "outputs": [
    {
     "name": "stdout",
     "output_type": "stream",
     "text": [
      "2264\n"
     ]
    }
   ],
   "source": [
    "severity = 0\n",
    "delay = 0\n",
    "for key in scanner:\n",
    "    n = scanner[key] * 2 - 2\n",
    "    if (key + delay) % n == 0:\n",
    "        severity += scanner[key] * key\n",
    "print(severity)"
   ]
  },
  {
   "cell_type": "code",
   "execution_count": 37,
   "metadata": {
    "ExecuteTime": {
     "end_time": "2017-12-13T10:38:44.835075Z",
     "start_time": "2017-12-13T10:38:39.800283Z"
    }
   },
   "outputs": [
    {
     "name": "stdout",
     "output_type": "stream",
     "text": [
      "3875838\n"
     ]
    }
   ],
   "source": [
    "delay = 0\n",
    "while True:\n",
    "    severity = []\n",
    "    for key in scanner:\n",
    "        n = scanner[key] * 2 - 2\n",
    "        if (key + delay) % n == 0:\n",
    "            severity.append((scanner[key], key))\n",
    "            break\n",
    "    if len(severity) == 0:\n",
    "        break\n",
    "    delay += 1\n",
    "print(delay)"
   ]
  },
  {
   "cell_type": "code",
   "execution_count": null,
   "metadata": {
    "collapsed": true
   },
   "outputs": [],
   "source": []
  }
 ],
 "metadata": {
  "hide_input": false,
  "kernelspec": {
   "display_name": "Python 3",
   "language": "python",
   "name": "python3"
  },
  "language_info": {
   "codemirror_mode": {
    "name": "ipython",
    "version": 3
   },
   "file_extension": ".py",
   "mimetype": "text/x-python",
   "name": "python",
   "nbconvert_exporter": "python",
   "pygments_lexer": "ipython3",
   "version": "3.6.3"
  },
  "toc": {
   "colors": {
    "hover_highlight": "#DAA520",
    "navigate_num": "#000000",
    "navigate_text": "#333333",
    "running_highlight": "#FF0000",
    "selected_highlight": "#FFD700",
    "sidebar_border": "#EEEEEE",
    "wrapper_background": "#FFFFFF"
   },
   "moveMenuLeft": true,
   "nav_menu": {
    "height": "12px",
    "width": "252px"
   },
   "navigate_menu": true,
   "number_sections": true,
   "sideBar": true,
   "threshold": 4,
   "toc_cell": false,
   "toc_section_display": "block",
   "toc_window_display": false,
   "widenNotebook": false
  },
  "varInspector": {
   "cols": {
    "lenName": 16,
    "lenType": 16,
    "lenVar": 40
   },
   "kernels_config": {
    "python": {
     "delete_cmd_postfix": "",
     "delete_cmd_prefix": "del ",
     "library": "var_list.py",
     "varRefreshCmd": "print(var_dic_list())"
    },
    "r": {
     "delete_cmd_postfix": ") ",
     "delete_cmd_prefix": "rm(",
     "library": "var_list.r",
     "varRefreshCmd": "cat(var_dic_list()) "
    }
   },
   "types_to_exclude": [
    "module",
    "function",
    "builtin_function_or_method",
    "instance",
    "_Feature"
   ],
   "window_display": false
  }
 },
 "nbformat": 4,
 "nbformat_minor": 2
}
