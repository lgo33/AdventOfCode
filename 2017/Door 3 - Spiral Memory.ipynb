{
 "cells": [
  {
   "cell_type": "code",
   "execution_count": 25,
   "metadata": {
    "collapsed": true
   },
   "outputs": [],
   "source": [
    "from math import sqrt, ceil"
   ]
  },
  {
   "cell_type": "code",
   "execution_count": 1,
   "metadata": {
    "collapsed": true
   },
   "outputs": [],
   "source": [
    "input = 368078"
   ]
  },
  {
   "cell_type": "code",
   "execution_count": 75,
   "metadata": {},
   "outputs": [],
   "source": [
    "def ring(n):\n",
    "    s = ceil(sqrt(n))\n",
    "    return (s - 1) // 2 if (s % 2) else s // 2\n",
    "\n",
    "def distance(loc):\n",
    "    if loc == 1:\n",
    "        return 0\n",
    "    r = ring(loc)\n",
    "    maxv = (2 * r + 1)**2\n",
    "    m = 2 * r\n",
    "    return abs(((maxv - loc) % m ) - r) + r"
   ]
  },
  {
   "cell_type": "code",
   "execution_count": 76,
   "metadata": {},
   "outputs": [],
   "source": [
    "assert(distance(1) == 0)\n",
    "assert(distance(12) == 3)\n",
    "assert(distance(23) == 2)\n",
    "assert(distance(1024) == 31)"
   ]
  },
  {
   "cell_type": "code",
   "execution_count": 72,
   "metadata": {},
   "outputs": [
    {
     "data": {
      "text/plain": [
       "371"
      ]
     },
     "execution_count": 72,
     "metadata": {},
     "output_type": "execute_result"
    }
   ],
   "source": [
    "# part 1 \n",
    "distance(input)"
   ]
  },
  {
   "cell_type": "code",
   "execution_count": 91,
   "metadata": {
    "collapsed": true
   },
   "outputs": [],
   "source": [
    "# part 2"
   ]
  },
  {
   "cell_type": "code",
   "execution_count": 87,
   "metadata": {
    "collapsed": true
   },
   "outputs": [],
   "source": [
    "class Spiral():\n",
    "    step = {\n",
    "        0: (1, 0),\n",
    "        1: (0, 1),\n",
    "        2: (-1, 0),\n",
    "        3: (0, -1)\n",
    "    }\n",
    "    def __init__(self):\n",
    "        self.x = 0\n",
    "        self.y = 0\n",
    "        self.grid = {(self.x, self.y) : 1}\n",
    "        self.direction = 3\n",
    "      \n",
    "    def next_field(self):\n",
    "        dx, dy = self.step[(self.direction + 1) % 4]\n",
    "        if (self.x + dx, self.y + dy) not in self.grid:\n",
    "            self.direction = (self.direction + 1) % 4\n",
    "            self.x += dx\n",
    "            self.y += dy\n",
    "            return\n",
    "        dx, dy = self.step[(self.direction)]\n",
    "        self.x += dx\n",
    "        self.y += dy\n",
    "    \n",
    "    def ngb_sum(self):\n",
    "        tot = 0\n",
    "        for i in range(self.x - 1, self.x + 2):\n",
    "            for j in range(self.y - 1, self.y + 2):\n",
    "                if (i, j) in self.grid:\n",
    "                    tot += self.grid[(i, j)]\n",
    "        return tot\n",
    "    \n",
    "    def put(self):\n",
    "        self.next_field()\n",
    "        self.grid[(self.x, self.y)] = self.ngb_sum()\n",
    "        return self.grid[(self.x, self.y)]\n",
    "    "
   ]
  },
  {
   "cell_type": "code",
   "execution_count": 90,
   "metadata": {},
   "outputs": [
    {
     "name": "stdout",
     "output_type": "stream",
     "text": [
      "369601\n"
     ]
    }
   ],
   "source": [
    "s = Spiral()\n",
    "while True:\n",
    "    n = s.put()\n",
    "    if n > input:\n",
    "        break\n",
    "print(n)"
   ]
  },
  {
   "cell_type": "code",
   "execution_count": null,
   "metadata": {
    "collapsed": true
   },
   "outputs": [],
   "source": []
  }
 ],
 "metadata": {
  "kernelspec": {
   "display_name": "Python 3",
   "language": "python",
   "name": "python3"
  },
  "language_info": {
   "codemirror_mode": {
    "name": "ipython",
    "version": 3
   },
   "file_extension": ".py",
   "mimetype": "text/x-python",
   "name": "python",
   "nbconvert_exporter": "python",
   "pygments_lexer": "ipython3",
   "version": "3.6.0"
  }
 },
 "nbformat": 4,
 "nbformat_minor": 2
}
