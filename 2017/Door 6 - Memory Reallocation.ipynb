{
 "cells": [
  {
   "cell_type": "code",
   "execution_count": 23,
   "metadata": {
    "ExecuteTime": {
     "end_time": "2017-12-06T08:37:07.078625Z",
     "start_time": "2017-12-06T08:37:07.074762Z"
    }
   },
   "outputs": [],
   "source": [
    "with open('data/input_6.txt') as fh:\n",
    "    inp = list(map(int, fh.read().strip().split('\\t')))"
   ]
  },
  {
   "cell_type": "code",
   "execution_count": 24,
   "metadata": {
    "ExecuteTime": {
     "end_time": "2017-12-06T08:37:07.209035Z",
     "start_time": "2017-12-06T08:37:07.201374Z"
    }
   },
   "outputs": [],
   "source": [
    "def find_max(array):\n",
    "    mx = 0\n",
    "    ind = 0\n",
    "    for i, v in enumerate(array):\n",
    "        if v > mx:\n",
    "            mx = v\n",
    "            ind = i\n",
    "    return mx, ind\n"
   ]
  },
  {
   "cell_type": "code",
   "execution_count": 10,
   "metadata": {
    "ExecuteTime": {
     "end_time": "2017-12-06T08:30:46.547408Z",
     "start_time": "2017-12-06T08:30:46.543372Z"
    }
   },
   "outputs": [
    {
     "data": {
      "text/plain": [
       "(15, 12)"
      ]
     },
     "execution_count": 10,
     "metadata": {},
     "output_type": "execute_result"
    }
   ],
   "source": [
    "find_max(inp)"
   ]
  },
  {
   "cell_type": "code",
   "execution_count": 32,
   "metadata": {
    "ExecuteTime": {
     "end_time": "2017-12-06T08:42:49.462800Z",
     "start_time": "2017-12-06T08:42:49.406452Z"
    }
   },
   "outputs": [
    {
     "name": "stdout",
     "output_type": "stream",
     "text": [
      "length of cycle (part 2): 1610\n",
      "number of steps (part 1): 3156\n",
      "final bank configuration: (0, 13, 12, 10, 9, 8, 7, 5, 3, 2, 1, 1, 1, 10, 6, 5)\n"
     ]
    }
   ],
   "source": [
    "seen = dict()\n",
    "banks = inp[:]\n",
    "#test\n",
    "#banks = [0, 2, 7, 0]\n",
    "n = len(banks)\n",
    "cnt = 1\n",
    "while True:\n",
    "    v, ind = find_max(banks)    \n",
    "    banks[ind] = 0\n",
    "    for i in range(1, v+1):\n",
    "        banks[(ind + i) % n] += 1\n",
    "    key = tuple(banks)\n",
    "    if key in seen:\n",
    "        print(\"length of cycle (part 2): {}\".format(cnt - seen[key]))\n",
    "        break\n",
    "    else:\n",
    "        seen[key] = cnt\n",
    "        cnt +=1\n",
    "print(\"number of steps (part 1): {}\\nfinal bank configuration: {}\".format(cnt, tuple(banks)))"
   ]
  },
  {
   "cell_type": "code",
   "execution_count": null,
   "metadata": {
    "collapsed": true
   },
   "outputs": [],
   "source": []
  }
 ],
 "metadata": {
  "hide_input": false,
  "kernelspec": {
   "display_name": "Python 3",
   "language": "python",
   "name": "python3"
  },
  "language_info": {
   "codemirror_mode": {
    "name": "ipython",
    "version": 3
   },
   "file_extension": ".py",
   "mimetype": "text/x-python",
   "name": "python",
   "nbconvert_exporter": "python",
   "pygments_lexer": "ipython3",
   "version": "3.6.3"
  },
  "toc": {
   "colors": {
    "hover_highlight": "#DAA520",
    "navigate_num": "#000000",
    "navigate_text": "#333333",
    "running_highlight": "#FF0000",
    "selected_highlight": "#FFD700",
    "sidebar_border": "#EEEEEE",
    "wrapper_background": "#FFFFFF"
   },
   "moveMenuLeft": true,
   "nav_menu": {
    "height": "12px",
    "width": "252px"
   },
   "navigate_menu": true,
   "number_sections": true,
   "sideBar": true,
   "threshold": 4,
   "toc_cell": false,
   "toc_section_display": "block",
   "toc_window_display": false,
   "widenNotebook": false
  },
  "varInspector": {
   "cols": {
    "lenName": 16,
    "lenType": 16,
    "lenVar": 40
   },
   "kernels_config": {
    "python": {
     "delete_cmd_postfix": "",
     "delete_cmd_prefix": "del ",
     "library": "var_list.py",
     "varRefreshCmd": "print(var_dic_list())"
    },
    "r": {
     "delete_cmd_postfix": ") ",
     "delete_cmd_prefix": "rm(",
     "library": "var_list.r",
     "varRefreshCmd": "cat(var_dic_list()) "
    }
   },
   "types_to_exclude": [
    "module",
    "function",
    "builtin_function_or_method",
    "instance",
    "_Feature"
   ],
   "window_display": false
  }
 },
 "nbformat": 4,
 "nbformat_minor": 2
}
