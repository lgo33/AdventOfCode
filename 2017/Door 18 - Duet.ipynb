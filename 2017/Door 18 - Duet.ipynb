{
 "cells": [
  {
   "cell_type": "code",
   "execution_count": 40,
   "metadata": {
    "collapsed": true
   },
   "outputs": [],
   "source": [
    "from collections import defaultdict\n",
    "class duet():\n",
    "    def __init__(self, debug=False):\n",
    "        self.register = defaultdict(int)\n",
    "        self.mem = []\n",
    "        self.loc = 0\n",
    "        self.sound = 0\n",
    "        self.received = 0\n",
    "        self.wait = False\n",
    "        self.debug = debug\n",
    "        \n",
    "    def getVal(self, val):\n",
    "        if isinstance(val, int):\n",
    "            return val\n",
    "        return self.register[val]\n",
    "    \n",
    "    @staticmethod\n",
    "    def parse(string):\n",
    "        args = string.split()\n",
    "        ret = [args[0]]\n",
    "        for arg in args[1:]:\n",
    "            try:\n",
    "                ret.append(int(arg))\n",
    "            except ValueError:\n",
    "                ret.append(arg)\n",
    "        return ret\n",
    "    \n",
    "    def load(self, string):\n",
    "        self.mem = list(map(self.parse, string.split('\\n')))\n",
    "    \n",
    "    def exe(self, *args):\n",
    "        getattr(self, args[0])(*args[1:])\n",
    "        if self.debug:\n",
    "            print(args, ': ', self.register)\n",
    "        \n",
    "    def run(self):\n",
    "        self.wait = False\n",
    "        while self.loc < len(self.mem) and self.loc >= 0:\n",
    "            l = self.loc\n",
    "            self.exe(*self.mem[self.loc])\n",
    "            if l == self.loc and self.wait == False:\n",
    "                self.loc += 1\n",
    "            if self.wait == True:\n",
    "                return 1\n",
    "        return 0\n",
    "    \n",
    "    def snd(self, x):\n",
    "        self.sound = self.getVal(x)\n",
    "        \n",
    "    def set(self, x, y):\n",
    "        self.register[x] = self.getVal(y)\n",
    "    \n",
    "    def add(self, x, y):\n",
    "        self.register[x] += self.getVal(y)\n",
    "        \n",
    "    def mul(self, x, y):\n",
    "        self.register[x] *= self.getVal(y)\n",
    "        \n",
    "    def mod(self, x, y):\n",
    "        self.register[x] = self.getVal(x) % self.getVal(y)\n",
    "        \n",
    "    def rcv(self, x):\n",
    "        if self.getVal(x):\n",
    "            self.received = self.sound\n",
    "            print(self.received)\n",
    "            self.loc = -1\n",
    "    \n",
    "    def jgz(self, x, y):\n",
    "        if self.getVal(x) > 0:\n",
    "            self.loc += self.getVal(y)\n",
    "       \n",
    "        "
   ]
  },
  {
   "cell_type": "code",
   "execution_count": 41,
   "metadata": {
    "collapsed": true
   },
   "outputs": [],
   "source": [
    "# test\n",
    "test_inp = \"\"\"set a 1\n",
    "add a 2\n",
    "mul a a\n",
    "mod a 5\n",
    "snd a\n",
    "set a 0\n",
    "rcv a\n",
    "jgz a -1\n",
    "set a 1\n",
    "jgz a -2\"\"\""
   ]
  },
  {
   "cell_type": "code",
   "execution_count": 42,
   "metadata": {},
   "outputs": [
    {
     "name": "stdout",
     "output_type": "stream",
     "text": [
      "4\n"
     ]
    }
   ],
   "source": [
    "d = duet()\n",
    "d.load(test_inp)\n",
    "d.run()\n",
    "assert(d.received == 4)"
   ]
  },
  {
   "cell_type": "code",
   "execution_count": 43,
   "metadata": {
    "collapsed": true
   },
   "outputs": [],
   "source": [
    "with open('data/input_18.txt') as fh:\n",
    "    inp = fh.read().strip()"
   ]
  },
  {
   "cell_type": "code",
   "execution_count": 44,
   "metadata": {},
   "outputs": [
    {
     "name": "stdout",
     "output_type": "stream",
     "text": [
      "4601\n"
     ]
    },
    {
     "data": {
      "text/plain": [
       "0"
      ]
     },
     "execution_count": 44,
     "metadata": {},
     "output_type": "execute_result"
    }
   ],
   "source": [
    "#part 1\n",
    "d = duet()\n",
    "d.load(inp)\n",
    "d.run()"
   ]
  },
  {
   "cell_type": "code",
   "execution_count": 49,
   "metadata": {
    "collapsed": true
   },
   "outputs": [],
   "source": [
    "class duet2(duet):\n",
    "    def __init__(self, pid, name=\"\", **kwargs):\n",
    "        super().__init__(**kwargs)\n",
    "        self.register['p'] = pid\n",
    "        self.name = name\n",
    "        self.queue = []\n",
    "        self.send_cnt = 0\n",
    "        \n",
    "    def rcv(self, x):\n",
    "        if len(self.queue) == 0:\n",
    "            self.wait = True\n",
    "            return\n",
    "        self.register[x] = self.queue.pop(0)\n",
    "        if self.debug:\n",
    "            print('{} recvs {} | loc {}'.format(self.name, self.register[x], self.loc))\n",
    "        \n",
    "    def snd(self, x):\n",
    "        self.other.queue.append(self.getVal(x))\n",
    "        self.send_cnt += 1\n",
    "        if self.debug:\n",
    "            print('{} sends {} | loc {}'.format(self.name, self.getVal(x), self.loc))\n"
   ]
  },
  {
   "cell_type": "code",
   "execution_count": 50,
   "metadata": {},
   "outputs": [],
   "source": [
    "test_inp = \"\"\"snd 1\n",
    "snd 2\n",
    "snd p\n",
    "rcv a\n",
    "rcv b\n",
    "rcv c\n",
    "rcv d\"\"\""
   ]
  },
  {
   "cell_type": "code",
   "execution_count": 52,
   "metadata": {},
   "outputs": [
    {
     "name": "stdout",
     "output_type": "stream",
     "text": [
      "0 sends 1 | loc 0\n",
      "('snd', 1) :  defaultdict(<class 'int'>, {'p': 0})\n",
      "0 sends 2 | loc 1\n",
      "('snd', 2) :  defaultdict(<class 'int'>, {'p': 0})\n",
      "0 sends 0 | loc 2\n",
      "('snd', 'p') :  defaultdict(<class 'int'>, {'p': 0})\n",
      "('rcv', 'a') :  defaultdict(<class 'int'>, {'p': 0})\n",
      "0 recvs 1 | loc 3\n",
      "('rcv', 'a') :  defaultdict(<class 'int'>, {'p': 0, 'a': 1})\n",
      "0 recvs 2 | loc 4\n",
      "('rcv', 'b') :  defaultdict(<class 'int'>, {'p': 0, 'a': 1, 'b': 2})\n",
      "0 recvs 1 | loc 5\n",
      "('rcv', 'c') :  defaultdict(<class 'int'>, {'p': 0, 'a': 1, 'b': 2, 'c': 1})\n",
      "('rcv', 'd') :  defaultdict(<class 'int'>, {'p': 0, 'a': 1, 'b': 2, 'c': 1})\n",
      "defaultdict(<class 'int'>, {'p': 0, 'a': 1, 'b': 2, 'c': 1}) 3\n",
      "defaultdict(<class 'int'>, {'p': 1, 'a': 1, 'b': 2, 'c': 0}) 3\n"
     ]
    }
   ],
   "source": [
    "a = duet2(0, debug = True, name='0')\n",
    "b = duet2(1, debug = False, name='1')\n",
    "a.other = b\n",
    "b.other = a\n",
    "a.load(test_inp)\n",
    "b.load(test_inp)\n",
    "\n",
    "while True:\n",
    "    a_running = a.run()\n",
    "    b_running = b.run()\n",
    "    if not len(a.queue) and not len(b.queue):\n",
    "        break\n",
    "    if not a_running and not b_running:\n",
    "        break\n",
    "\n",
    "print(a.register, a.send_cnt)\n",
    "print(b.register, b.send_cnt)"
   ]
  },
  {
   "cell_type": "code",
   "execution_count": 54,
   "metadata": {
    "scrolled": true
   },
   "outputs": [
    {
     "name": "stdout",
     "output_type": "stream",
     "text": [
      "0 6985 defaultdict(<class 'int'>, {'p': -6, 'i': 0, 'a': 114, 'b': 114, 'f': 0})\n",
      "1 6858 defaultdict(<class 'int'>, {'p': -6, 'i': 0, 'a': 114, 'f': 0, 'b': 114})\n"
     ]
    }
   ],
   "source": [
    "#part 2\n",
    "a = duet2(0, name='0')\n",
    "b = duet2(1, name='1')\n",
    "a.other = b\n",
    "b.other = a\n",
    "a.load(inp)\n",
    "b.load(inp)\n",
    "\n",
    "while True:\n",
    "    a_running = a.run()\n",
    "    b_running = b.run()\n",
    "    if not len(a.queue) and not len(b.queue):\n",
    "        break\n",
    "    if not a_running and not b_running:\n",
    "        break\n",
    "\n",
    "print(a.name, a.send_cnt, a.register)\n",
    "print(b.name, b.send_cnt, b.register)"
   ]
  },
  {
   "cell_type": "code",
   "execution_count": null,
   "metadata": {
    "collapsed": true
   },
   "outputs": [],
   "source": []
  }
 ],
 "metadata": {
  "kernelspec": {
   "display_name": "Python 3",
   "language": "python",
   "name": "python3"
  },
  "language_info": {
   "codemirror_mode": {
    "name": "ipython",
    "version": 3
   },
   "file_extension": ".py",
   "mimetype": "text/x-python",
   "name": "python",
   "nbconvert_exporter": "python",
   "pygments_lexer": "ipython3",
   "version": "3.6.0"
  }
 },
 "nbformat": 4,
 "nbformat_minor": 2
}
