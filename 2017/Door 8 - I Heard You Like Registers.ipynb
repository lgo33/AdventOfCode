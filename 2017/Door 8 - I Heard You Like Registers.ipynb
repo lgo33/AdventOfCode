{
 "cells": [
  {
   "cell_type": "code",
   "execution_count": 2,
   "metadata": {
    "collapsed": true
   },
   "outputs": [],
   "source": [
    "with open('data/input_8.txt') as fh:\n",
    "    inp = fh.readlines()"
   ]
  },
  {
   "cell_type": "code",
   "execution_count": 18,
   "metadata": {
    "collapsed": true
   },
   "outputs": [],
   "source": [
    "from collections import defaultdict"
   ]
  },
  {
   "cell_type": "code",
   "execution_count": 30,
   "metadata": {
    "collapsed": true
   },
   "outputs": [],
   "source": [
    "# part 2\n",
    "\n",
    "register = defaultdict(int)\n",
    "function = {\n",
    "    '!=': lambda x, y: x != y,\n",
    "    '>=': lambda x, y: x >= y,\n",
    "    '>': lambda x, y: x > y,\n",
    "    '<=': lambda x, y: x <= y,\n",
    "    '<': lambda x, y: x < y,\n",
    "    '==': lambda x, y: x == y,\n",
    "}\n",
    "\n",
    "def parse_instruction(line):\n",
    "    global maxv\n",
    "    ins, cond = line.strip().split(' if ')\n",
    "    reg, op, val = cond.split(' ')\n",
    "    if function[op](register[reg], int(val)):\n",
    "        reg, do, val = ins.split(' ')\n",
    "        if do == 'inc':\n",
    "            register[reg] += int(val)\n",
    "            maxv = max(maxv, register[reg])\n",
    "        else:\n",
    "            register[reg] -= int(val)"
   ]
  },
  {
   "cell_type": "code",
   "execution_count": 31,
   "metadata": {},
   "outputs": [
    {
     "name": "stdout",
     "output_type": "stream",
     "text": [
      "6209\n"
     ]
    }
   ],
   "source": [
    "maxv = 0\n",
    "for instruction in inp:\n",
    "    parse_instruction(instruction)\n",
    "print(maxv)"
   ]
  },
  {
   "cell_type": "code",
   "execution_count": 23,
   "metadata": {},
   "outputs": [
    {
     "data": {
      "text/plain": [
       "defaultdict(int,\n",
       "            {'alf': -1763,\n",
       "             'anb': 1708,\n",
       "             'b': -7741,\n",
       "             'cag': -1798,\n",
       "             'cox': 3506,\n",
       "             'd': 5143,\n",
       "             'e': -3880,\n",
       "             'eb': -1102,\n",
       "             'ev': -2998,\n",
       "             'he': -1115,\n",
       "             'k': 277,\n",
       "             'mk': 1738,\n",
       "             'mqk': -5035,\n",
       "             'npo': -741,\n",
       "             'obo': -4125,\n",
       "             'qby': 4903,\n",
       "             'red': -318,\n",
       "             's': 2310,\n",
       "             'swy': 624,\n",
       "             'tm': 2251,\n",
       "             'ty': -1114,\n",
       "             'v': -3131,\n",
       "             'xoc': 2969})"
      ]
     },
     "execution_count": 23,
     "metadata": {},
     "output_type": "execute_result"
    }
   ],
   "source": [
    "register"
   ]
  },
  {
   "cell_type": "code",
   "execution_count": 24,
   "metadata": {},
   "outputs": [
    {
     "name": "stdout",
     "output_type": "stream",
     "text": [
      "5143\n"
     ]
    }
   ],
   "source": [
    "# part 1\n",
    "maxv = 0\n",
    "for reg in register:\n",
    "    maxv = max(maxv, register[reg])\n",
    "print(maxv)"
   ]
  },
  {
   "cell_type": "code",
   "execution_count": null,
   "metadata": {
    "collapsed": true
   },
   "outputs": [],
   "source": []
  }
 ],
 "metadata": {
  "kernelspec": {
   "display_name": "Python 3",
   "language": "python",
   "name": "python3"
  },
  "language_info": {
   "codemirror_mode": {
    "name": "ipython",
    "version": 3
   },
   "file_extension": ".py",
   "mimetype": "text/x-python",
   "name": "python",
   "nbconvert_exporter": "python",
   "pygments_lexer": "ipython3",
   "version": "3.6.0"
  }
 },
 "nbformat": 4,
 "nbformat_minor": 2
}
