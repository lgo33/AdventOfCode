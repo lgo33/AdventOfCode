{
 "cells": [
  {
   "cell_type": "code",
   "execution_count": null,
   "metadata": {
    "collapsed": true
   },
   "outputs": [],
   "source": []
  },
  {
   "cell_type": "code",
   "execution_count": 31,
   "metadata": {
    "collapsed": true
   },
   "outputs": [],
   "source": [
    "def spin(seq, l):\n",
    "    return seq[-l:] + seq[:-l]\n",
    "\n",
    "def exchange(seq, a, b):\n",
    "    tmp = seq[a]\n",
    "    seq[a] = seq[b]\n",
    "    seq[b] = tmp\n",
    "    return seq\n",
    "\n",
    "def partner(seq, a, b):\n",
    "    for i in range(len(seq)):\n",
    "        if seq[i] == a:\n",
    "            seq[i] = b\n",
    "        elif seq[i] == b:\n",
    "            seq[i] = a\n",
    "    return seq"
   ]
  },
  {
   "cell_type": "code",
   "execution_count": 43,
   "metadata": {
    "collapsed": true
   },
   "outputs": [],
   "source": [
    "def exe(seq, ins):\n",
    "    if ins[0] == 's':\n",
    "        return spin(seq, int(ins[1:]))\n",
    "    elif ins[0] == 'x':\n",
    "        args = ins[1:].split('/')\n",
    "        return exchange(seq, int(args[0]), int(args[1]))\n",
    "    elif ins[0] == 'p':\n",
    "        args = ins[1:].split('/')\n",
    "        return partner(seq, args[0], args[1])"
   ]
  },
  {
   "cell_type": "code",
   "execution_count": 44,
   "metadata": {
    "collapsed": true
   },
   "outputs": [],
   "source": [
    "# test\n",
    "seq = [chr(ord('a') + x) for x in range(5)]\n",
    "instructions = ['s1', 'x3/4', 'pe/b']\n",
    "for ins in instructions:\n",
    "    seq = exe(seq, ins)\n",
    "assert (\"\".join(seq) == 'baedc')"
   ]
  },
  {
   "cell_type": "code",
   "execution_count": 48,
   "metadata": {
    "collapsed": true
   },
   "outputs": [],
   "source": [
    "with open('data/input_16.txt') as fh:\n",
    "    inp = fh.read().strip()\n",
    "instructions = inp.split(',')"
   ]
  },
  {
   "cell_type": "code",
   "execution_count": 103,
   "metadata": {},
   "outputs": [
    {
     "name": "stdout",
     "output_type": "stream",
     "text": [
      "['a', 'b', 'c', 'd', 'e', 'f', 'g', 'h', 'i', 'j', 'k', 'l', 'm', 'n', 'o', 'p']\n"
     ]
    }
   ],
   "source": [
    "seq = [chr(ord('a') + x) for x in range(16)]\n",
    "print(seq)"
   ]
  },
  {
   "cell_type": "code",
   "execution_count": 101,
   "metadata": {},
   "outputs": [
    {
     "name": "stdout",
     "output_type": "stream",
     "text": [
      "gkmndaholjbfcepi\n"
     ]
    }
   ],
   "source": [
    "# part 1\n",
    "seq = [chr(ord('a') + x) for x in range(16)]\n",
    "for ins in instructions:\n",
    "    seq = exe(seq, ins)\n",
    "print(\"\".join(seq))"
   ]
  },
  {
   "cell_type": "code",
   "execution_count": 105,
   "metadata": {},
   "outputs": [
    {
     "name": "stdout",
     "output_type": "stream",
     "text": [
      "60 abcdefghijklmnop\n"
     ]
    }
   ],
   "source": [
    "seq = [chr(ord('a') + x) for x in range(16)]\n",
    "\n",
    "i = 0\n",
    "while True:\n",
    "    i += 1\n",
    "    for ins in instructions:\n",
    "        seq = exe(seq, ins)\n",
    "    if seq == ['a', 'b', 'c', 'd', 'e', 'f', 'g', 'h', 'i', 'j', 'k', 'l', 'm', 'n', 'o', 'p']:\n",
    "        break\n",
    "print(i, \"\".join(seq))\n",
    "period = i"
   ]
  },
  {
   "cell_type": "code",
   "execution_count": 107,
   "metadata": {},
   "outputs": [
    {
     "name": "stdout",
     "output_type": "stream",
     "text": [
      "39 abihnfkojcmegldp\n"
     ]
    }
   ],
   "source": [
    "seq = [chr(ord('a') + x) for x in range(16)]\n",
    "\n",
    "for i in range(1000000000 % period):\n",
    "    for ins in instructions:\n",
    "        seq = exe(seq, ins)\n",
    "    if seq == ['a', 'b', 'c', 'd', 'e', 'f', 'g', 'h', 'i', 'j', 'k', 'l', 'm', 'n', 'o', 'p']:\n",
    "        break\n",
    "print(i, \"\".join(seq))"
   ]
  },
  {
   "cell_type": "code",
   "execution_count": 99,
   "metadata": {},
   "outputs": [],
   "source": [
    "output = [ord(x)-ord('a') for x in 'gkmndaholjbfcepi']\n",
    "sortind = sorted(list(range(16)), key=output.__getitem__)\n",
    "assert(sorted(list(range(16)), key=sortind.__getitem__) == output)"
   ]
  },
  {
   "cell_type": "code",
   "execution_count": 100,
   "metadata": {},
   "outputs": [
    {
     "ename": "KeyboardInterrupt",
     "evalue": "",
     "output_type": "error",
     "traceback": [
      "\u001b[0;31m---------------------------------------------------------------------------\u001b[0m",
      "\u001b[0;31mKeyboardInterrupt\u001b[0m                         Traceback (most recent call last)",
      "\u001b[0;32m<ipython-input-100-3f9873eb73b3>\u001b[0m in \u001b[0;36m<module>\u001b[0;34m()\u001b[0m\n\u001b[1;32m      2\u001b[0m \u001b[0mseq\u001b[0m \u001b[0;34m=\u001b[0m \u001b[0mlist\u001b[0m\u001b[0;34m(\u001b[0m\u001b[0mrange\u001b[0m\u001b[0;34m(\u001b[0m\u001b[0;36m16\u001b[0m\u001b[0;34m)\u001b[0m\u001b[0;34m)\u001b[0m\u001b[0;34m\u001b[0m\u001b[0m\n\u001b[1;32m      3\u001b[0m \u001b[0;32mfor\u001b[0m \u001b[0mi\u001b[0m \u001b[0;32min\u001b[0m \u001b[0mrange\u001b[0m\u001b[0;34m(\u001b[0m\u001b[0;36m1000000000\u001b[0m\u001b[0;34m)\u001b[0m\u001b[0;34m:\u001b[0m\u001b[0;34m\u001b[0m\u001b[0m\n\u001b[0;32m----> 4\u001b[0;31m     \u001b[0mseq\u001b[0m \u001b[0;34m=\u001b[0m \u001b[0msorted\u001b[0m\u001b[0;34m(\u001b[0m\u001b[0mseq\u001b[0m\u001b[0;34m,\u001b[0m \u001b[0mkey\u001b[0m\u001b[0;34m=\u001b[0m\u001b[0msortind\u001b[0m\u001b[0;34m.\u001b[0m\u001b[0m__getitem__\u001b[0m\u001b[0;34m)\u001b[0m\u001b[0;34m\u001b[0m\u001b[0m\n\u001b[0m\u001b[1;32m      5\u001b[0m     \u001b[0;32mif\u001b[0m \u001b[0mseq\u001b[0m \u001b[0;34m==\u001b[0m \u001b[0mlist\u001b[0m\u001b[0;34m(\u001b[0m\u001b[0mrange\u001b[0m\u001b[0;34m(\u001b[0m\u001b[0;36m16\u001b[0m\u001b[0;34m)\u001b[0m\u001b[0;34m)\u001b[0m\u001b[0;34m:\u001b[0m\u001b[0;34m\u001b[0m\u001b[0m\n\u001b[1;32m      6\u001b[0m         \u001b[0mprint\u001b[0m\u001b[0;34m(\u001b[0m\u001b[0mi\u001b[0m\u001b[0;34m)\u001b[0m\u001b[0;34m\u001b[0m\u001b[0m\n",
      "\u001b[0;31mKeyboardInterrupt\u001b[0m: "
     ]
    }
   ],
   "source": [
    "# part 2\n",
    "seq = list(range(16))\n",
    "for i in range(1000000000):\n",
    "    seq = sorted(seq, key=sortind.__getitem__)\n",
    "    if seq == list(range(16)):\n",
    "        print(i)\n",
    "        break\n",
    "\n",
    "period = i + 1\n",
    "print(period)\n",
    "        \n",
    "seq = list(range(16))\n",
    "for i in range(1000000000 % period):\n",
    "    seq = [table[x] for x in seq]\n",
    "\n",
    "print(\"\".join([chr(ord('a') +x) for x in seq]))"
   ]
  },
  {
   "cell_type": "code",
   "execution_count": 94,
   "metadata": {},
   "outputs": [
    {
     "name": "stdout",
     "output_type": "stream",
     "text": [
      "[15, 1, 2, 13, 3, 14, 8, 11, 6, 9, 10, 7, 12, 4, 5, 0]\n"
     ]
    }
   ],
   "source": [
    "seq = list(range(16))\n",
    "for i in range(100):\n",
    "    seq = [table[x] for x in seq]\n",
    "print(seq)"
   ]
  },
  {
   "cell_type": "code",
   "execution_count": 91,
   "metadata": {},
   "outputs": [
    {
     "name": "stdout",
     "output_type": "stream",
     "text": [
      "[15, 1, 2, 13, 3, 14, 8, 11, 6, 9, 10, 7, 12, 4, 5, 0]\n"
     ]
    }
   ],
   "source": [
    "print(seq)"
   ]
  },
  {
   "cell_type": "code",
   "execution_count": null,
   "metadata": {
    "collapsed": true
   },
   "outputs": [],
   "source": []
  }
 ],
 "metadata": {
  "kernelspec": {
   "display_name": "Python 3",
   "language": "python",
   "name": "python3"
  },
  "language_info": {
   "codemirror_mode": {
    "name": "ipython",
    "version": 3
   },
   "file_extension": ".py",
   "mimetype": "text/x-python",
   "name": "python",
   "nbconvert_exporter": "python",
   "pygments_lexer": "ipython3",
   "version": "3.6.0"
  }
 },
 "nbformat": 4,
 "nbformat_minor": 2
}
