{
 "cells": [
  {
   "cell_type": "code",
   "execution_count": 1,
   "metadata": {
    "ExecuteTime": {
     "end_time": "2017-12-15T10:23:37.069876Z",
     "start_time": "2017-12-15T10:23:37.058483Z"
    }
   },
   "outputs": [
    {
     "data": {
      "text/plain": [
       "1"
      ]
     },
     "execution_count": 1,
     "metadata": {},
     "output_type": "execute_result"
    }
   ],
   "source": [
    "(1 << 31) - 2147483647"
   ]
  },
  {
   "cell_type": "code",
   "execution_count": 4,
   "metadata": {
    "ExecuteTime": {
     "end_time": "2017-12-15T10:24:23.631430Z",
     "start_time": "2017-12-15T10:24:23.627544Z"
    }
   },
   "outputs": [
    {
     "data": {
      "text/plain": [
       "2"
      ]
     },
     "execution_count": 4,
     "metadata": {},
     "output_type": "execute_result"
    }
   ],
   "source": [
    "(1 << 32) % 2147483647"
   ]
  },
  {
   "cell_type": "code",
   "execution_count": 49,
   "metadata": {
    "ExecuteTime": {
     "end_time": "2017-12-15T12:00:37.722632Z",
     "start_time": "2017-12-15T12:00:37.699069Z"
    },
    "collapsed": true
   },
   "outputs": [],
   "source": [
    "class generator():\n",
    "    lsb = (1 << 16) - 1\n",
    "    def __init__(self, curval, factor, mod=2147483647, accept=None):\n",
    "        self.curval = curval \n",
    "        self.factor = factor\n",
    "        self.mod = mod\n",
    "        self.accept = accept\n",
    "        \n",
    "    def __next__(self):\n",
    "        while True:\n",
    "            self.curval = (self.curval * self.factor) % self.mod\n",
    "            if self.accept is None or (self.curval % self.accept) == 0:\n",
    "                break\n",
    "        return self.curval\n",
    "    \n",
    "    def __eq__(self, other):\n",
    "        if (self.curval & generator.lsb) == (other.curval & generator.lsb):\n",
    "            return True\n",
    "        return False\n"
   ]
  },
  {
   "cell_type": "code",
   "execution_count": 25,
   "metadata": {
    "ExecuteTime": {
     "end_time": "2017-12-15T10:58:55.257344Z",
     "start_time": "2017-12-15T10:58:55.244780Z"
    }
   },
   "outputs": [],
   "source": [
    "A = generator(65, 16807)\n",
    "B = generator(8921, 48271)\n",
    "\n",
    "assert(next(A) == 1092455)\n",
    "assert(next(A) == 1181022009)\n",
    "assert(next(A) == 245556042)\n",
    "assert(next(A) == 1744312007)\n",
    "assert(next(A) == 1352636452)\n",
    "\n",
    "assert(next(B) == 430625591)\n",
    "assert(next(B) == 1233683848)\n",
    "assert(next(B) == 1431495498)\n",
    "assert(next(B) == 137874439)\n",
    "assert(next(B) == 285222916)\n"
   ]
  },
  {
   "cell_type": "code",
   "execution_count": 28,
   "metadata": {
    "ExecuteTime": {
     "end_time": "2017-12-15T10:59:42.619817Z",
     "start_time": "2017-12-15T10:59:42.613276Z"
    }
   },
   "outputs": [],
   "source": [
    "A = generator(65, 16807)\n",
    "B = generator(8921, 48271)\n",
    "\n",
    "cnt = 0\n",
    "for i in range(5):\n",
    "    next(A)\n",
    "    next(B)\n",
    "    if A == B:\n",
    "        cnt += 1\n",
    "assert(cnt == 1)"
   ]
  },
  {
   "cell_type": "code",
   "execution_count": 32,
   "metadata": {
    "ExecuteTime": {
     "end_time": "2017-12-15T11:02:46.684613Z",
     "start_time": "2017-12-15T11:01:24.809845Z"
    }
   },
   "outputs": [
    {
     "name": "stdout",
     "output_type": "stream",
     "text": [
      "CPU times: user 1min 21s, sys: 200 ms, total: 1min 21s\n",
      "Wall time: 1min 21s\n"
     ]
    }
   ],
   "source": [
    "%%time\n",
    "A = generator(65, 16807)\n",
    "B = generator(8921, 48271)\n",
    "cnt = 0\n",
    "for i in range(int(4e7)):\n",
    "    next(A)\n",
    "    next(B)\n",
    "    if A == B:\n",
    "        cnt += 1\n",
    "        "
   ]
  },
  {
   "cell_type": "code",
   "execution_count": 33,
   "metadata": {
    "ExecuteTime": {
     "end_time": "2017-12-15T11:44:04.886832Z",
     "start_time": "2017-12-15T11:44:04.883168Z"
    }
   },
   "outputs": [
    {
     "name": "stdout",
     "output_type": "stream",
     "text": [
      "588\n"
     ]
    }
   ],
   "source": [
    "# test\n",
    "print(cnt)"
   ]
  },
  {
   "cell_type": "markdown",
   "metadata": {},
   "source": [
    "puzzle input  \n",
    "Generator A starts with 703  \n",
    "Generator B starts with 516"
   ]
  },
  {
   "cell_type": "code",
   "execution_count": 34,
   "metadata": {
    "ExecuteTime": {
     "end_time": "2017-12-15T11:46:38.846143Z",
     "start_time": "2017-12-15T11:45:16.691348Z"
    }
   },
   "outputs": [
    {
     "name": "stdout",
     "output_type": "stream",
     "text": [
      "CPU times: user 1min 20s, sys: 382 ms, total: 1min 20s\n",
      "Wall time: 1min 22s\n"
     ]
    }
   ],
   "source": [
    "%%time\n",
    "# part 1\n",
    "A = generator(703, 16807)\n",
    "B = generator(516, 48271)\n",
    "cnt = 0\n",
    "for i in range(int(4e7)):\n",
    "    next(A)\n",
    "    next(B)\n",
    "    if A == B:\n",
    "        cnt += 1"
   ]
  },
  {
   "cell_type": "code",
   "execution_count": 35,
   "metadata": {
    "ExecuteTime": {
     "end_time": "2017-12-15T11:50:12.859754Z",
     "start_time": "2017-12-15T11:50:12.856057Z"
    }
   },
   "outputs": [
    {
     "name": "stdout",
     "output_type": "stream",
     "text": [
      "594\n"
     ]
    }
   ],
   "source": [
    "print(cnt)"
   ]
  },
  {
   "cell_type": "code",
   "execution_count": 47,
   "metadata": {
    "ExecuteTime": {
     "end_time": "2017-12-15T12:00:25.794807Z",
     "start_time": "2017-12-15T11:59:41.137805Z"
    }
   },
   "outputs": [
    {
     "name": "stdout",
     "output_type": "stream",
     "text": [
      "CPU times: user 43.5 s, sys: 261 ms, total: 43.8 s\n",
      "Wall time: 44.6 s\n"
     ]
    }
   ],
   "source": [
    "%%time\n",
    "# test\n",
    "A = generator(65, 16807, accept=4)\n",
    "B = generator(8921, 48271, accept=8)\n",
    "cnt = 0\n",
    "for i in range(int(5e6)):\n",
    "    next(A)\n",
    "    next(B)\n",
    "    if A == B:\n",
    "        cnt += 1"
   ]
  },
  {
   "cell_type": "code",
   "execution_count": 48,
   "metadata": {
    "ExecuteTime": {
     "end_time": "2017-12-15T12:00:28.869700Z",
     "start_time": "2017-12-15T12:00:28.866115Z"
    }
   },
   "outputs": [
    {
     "name": "stdout",
     "output_type": "stream",
     "text": [
      "309\n"
     ]
    }
   ],
   "source": [
    "print(cnt)"
   ]
  },
  {
   "cell_type": "code",
   "execution_count": 40,
   "metadata": {
    "ExecuteTime": {
     "end_time": "2017-12-15T11:54:36.044142Z",
     "start_time": "2017-12-15T11:53:53.879103Z"
    }
   },
   "outputs": [
    {
     "name": "stdout",
     "output_type": "stream",
     "text": [
      "CPU times: user 40.8 s, sys: 304 ms, total: 41.1 s\n",
      "Wall time: 42.2 s\n"
     ]
    }
   ],
   "source": [
    "%%time\n",
    "# part 2\n",
    "A = generator(703, 16807, accept=4)\n",
    "B = generator(516, 48271, accept=8)\n",
    "cnt = 0\n",
    "for i in range(int(5e6)):\n",
    "    next(A)\n",
    "    next(B)\n",
    "    if A == B:\n",
    "        cnt += 1"
   ]
  },
  {
   "cell_type": "code",
   "execution_count": 41,
   "metadata": {
    "ExecuteTime": {
     "end_time": "2017-12-15T11:54:41.339990Z",
     "start_time": "2017-12-15T11:54:41.336363Z"
    }
   },
   "outputs": [
    {
     "name": "stdout",
     "output_type": "stream",
     "text": [
      "328\n"
     ]
    }
   ],
   "source": [
    "print(cnt)"
   ]
  },
  {
   "cell_type": "code",
   "execution_count": null,
   "metadata": {
    "collapsed": true
   },
   "outputs": [],
   "source": []
  }
 ],
 "metadata": {
  "hide_input": false,
  "kernelspec": {
   "display_name": "Python 3",
   "language": "python",
   "name": "python3"
  },
  "language_info": {
   "codemirror_mode": {
    "name": "ipython",
    "version": 3
   },
   "file_extension": ".py",
   "mimetype": "text/x-python",
   "name": "python",
   "nbconvert_exporter": "python",
   "pygments_lexer": "ipython3",
   "version": "3.6.3"
  },
  "toc": {
   "colors": {
    "hover_highlight": "#DAA520",
    "navigate_num": "#000000",
    "navigate_text": "#333333",
    "running_highlight": "#FF0000",
    "selected_highlight": "#FFD700",
    "sidebar_border": "#EEEEEE",
    "wrapper_background": "#FFFFFF"
   },
   "moveMenuLeft": true,
   "nav_menu": {
    "height": "12px",
    "width": "252px"
   },
   "navigate_menu": true,
   "number_sections": true,
   "sideBar": true,
   "threshold": 4,
   "toc_cell": false,
   "toc_section_display": "block",
   "toc_window_display": false,
   "widenNotebook": false
  },
  "varInspector": {
   "cols": {
    "lenName": 16,
    "lenType": 16,
    "lenVar": 40
   },
   "kernels_config": {
    "python": {
     "delete_cmd_postfix": "",
     "delete_cmd_prefix": "del ",
     "library": "var_list.py",
     "varRefreshCmd": "print(var_dic_list())"
    },
    "r": {
     "delete_cmd_postfix": ") ",
     "delete_cmd_prefix": "rm(",
     "library": "var_list.r",
     "varRefreshCmd": "cat(var_dic_list()) "
    }
   },
   "types_to_exclude": [
    "module",
    "function",
    "builtin_function_or_method",
    "instance",
    "_Feature"
   ],
   "window_display": false
  }
 },
 "nbformat": 4,
 "nbformat_minor": 2
}
