{
 "cells": [
  {
   "cell_type": "code",
   "execution_count": 2,
   "metadata": {},
   "outputs": [],
   "source": [
    "with open('data/input_4.txt') as fh:\n",
    "    input = fh.read().strip()"
   ]
  },
  {
   "cell_type": "code",
   "execution_count": 6,
   "metadata": {},
   "outputs": [],
   "source": [
    "def valid(phrase):\n",
    "    seen = set()\n",
    "    words = phrase.split()\n",
    "    for word in words:\n",
    "        if word in seen:\n",
    "            return False\n",
    "        seen.add(word)\n",
    "    return True"
   ]
  },
  {
   "cell_type": "code",
   "execution_count": 7,
   "metadata": {
    "collapsed": true
   },
   "outputs": [],
   "source": [
    "assert(valid('aa bb cc dd ee') == True)\n",
    "assert(valid('aa bb cc dd aa') == False)\n",
    "assert(valid('aa bb cc dd aaa') == True)"
   ]
  },
  {
   "cell_type": "code",
   "execution_count": 8,
   "metadata": {},
   "outputs": [
    {
     "name": "stdout",
     "output_type": "stream",
     "text": [
      "477\n"
     ]
    }
   ],
   "source": [
    "# part 1\n",
    "cnt = 0\n",
    "phrases = input.split('\\n')\n",
    "for phrase in phrases:\n",
    "    if valid(phrase):\n",
    "        cnt += 1\n",
    "\n",
    "print(cnt)"
   ]
  },
  {
   "cell_type": "code",
   "execution_count": 17,
   "metadata": {},
   "outputs": [],
   "source": [
    "# part 2\n",
    "def sortstring(s):\n",
    "    return str.join(\"\", sorted(s))\n",
    "\n",
    "def valid2(phrase):\n",
    "    seen = set()\n",
    "    words = phrase.split()\n",
    "    for word in words:\n",
    "        sword = sortstring(word)\n",
    "        if sword in seen:\n",
    "            return False\n",
    "        seen.add(sword)\n",
    "    return True\n"
   ]
  },
  {
   "cell_type": "code",
   "execution_count": 18,
   "metadata": {},
   "outputs": [],
   "source": [
    "assert(valid2('abcde fghij') == True)\n",
    "assert(valid2('abcde xyz ecdab') == False)\n",
    "assert(valid2('a ab abc abd abf abj') == True)\n",
    "assert(valid2('iiii oiii ooii oooi oooo') == True)\n",
    "assert(valid2('oiii ioii iioi iiio') == False)"
   ]
  },
  {
   "cell_type": "code",
   "execution_count": 19,
   "metadata": {},
   "outputs": [
    {
     "name": "stdout",
     "output_type": "stream",
     "text": [
      "167\n"
     ]
    }
   ],
   "source": [
    "# part 2\n",
    "cnt = 0\n",
    "phrases = input.split('\\n')\n",
    "for phrase in phrases:\n",
    "    if valid2(phrase):\n",
    "        cnt += 1\n",
    "\n",
    "print(cnt)"
   ]
  },
  {
   "cell_type": "code",
   "execution_count": null,
   "metadata": {
    "collapsed": true
   },
   "outputs": [],
   "source": []
  }
 ],
 "metadata": {
  "kernelspec": {
   "display_name": "Python 3",
   "language": "python",
   "name": "python3"
  },
  "language_info": {
   "codemirror_mode": {
    "name": "ipython",
    "version": 3
   },
   "file_extension": ".py",
   "mimetype": "text/x-python",
   "name": "python",
   "nbconvert_exporter": "python",
   "pygments_lexer": "ipython3",
   "version": "3.6.0"
  }
 },
 "nbformat": 4,
 "nbformat_minor": 2
}
