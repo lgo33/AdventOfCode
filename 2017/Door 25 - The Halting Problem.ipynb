{
 "cells": [
  {
   "cell_type": "code",
   "execution_count": 15,
   "metadata": {
    "collapsed": true
   },
   "outputs": [],
   "source": [
    "from collections import deque\n",
    "import re"
   ]
  },
  {
   "cell_type": "code",
   "execution_count": 1,
   "metadata": {
    "collapsed": true
   },
   "outputs": [],
   "source": [
    "inp = \"\"\"Begin in state A.\n",
    "Perform a diagnostic checksum after 6 steps.\n",
    "\n",
    "In state A:\n",
    "  If the current value is 0:\n",
    "    - Write the value 1.\n",
    "    - Move one slot to the right.\n",
    "    - Continue with state B.\n",
    "  If the current value is 1:\n",
    "    - Write the value 0.\n",
    "    - Move one slot to the left.\n",
    "    - Continue with state B.\n",
    "\n",
    "In state B:\n",
    "  If the current value is 0:\n",
    "    - Write the value 1.\n",
    "    - Move one slot to the left.\n",
    "    - Continue with state A.\n",
    "  If the current value is 1:\n",
    "    - Write the value 1.\n",
    "    - Move one slot to the right.\n",
    "    - Continue with state A.\"\"\""
   ]
  },
  {
   "cell_type": "code",
   "execution_count": 59,
   "metadata": {
    "collapsed": true
   },
   "outputs": [],
   "source": [
    "with open('data/input_25.txt') as fh:\n",
    "    inp = fh.read().strip()"
   ]
  },
  {
   "cell_type": "code",
   "execution_count": 54,
   "metadata": {
    "collapsed": true
   },
   "outputs": [],
   "source": [
    "def last_word(line):\n",
    "    words = line.split()\n",
    "    return re.sub('[^A-Za-z0-9]', '', words[-1])"
   ]
  },
  {
   "cell_type": "code",
   "execution_count": 60,
   "metadata": {
    "collapsed": true
   },
   "outputs": [],
   "source": [
    "class tmachine():\n",
    "    def __init__(self, instructions=None):\n",
    "        self.states = {}\n",
    "        self.state = None\n",
    "        self.tape = deque([0])\n",
    "        self.pos = 0\n",
    "        self.chksum_after = 0\n",
    "        if instructions:\n",
    "            self.load(instructions)\n",
    "            \n",
    "    def load(self, instructions):\n",
    "        blocks = instructions.split('\\n\\n')\n",
    "        init = blocks[0].split('\\n')\n",
    "        self.state = last_word(init[0])\n",
    "        self.chksum_after = int(re.sub('[^0-9]', '', init[1]))\n",
    "        \n",
    "        for block in blocks[1:]:\n",
    "            lines = block.split('\\n')\n",
    "            state = last_word(lines[0])\n",
    "            self.states[state] = {}\n",
    "            for tmp in (lines[1:5], lines[5:]):\n",
    "                val = int(last_word(tmp[0]))\n",
    "                self.states[state]['write_if_' + str(val)] = int(last_word(tmp[1]))\n",
    "                self.states[state]['move_if_' + str(val)] = last_word(tmp[2])\n",
    "                self.states[state]['next_state_if_' + str(val)] = last_word(tmp[3])\n",
    "            \n",
    "    def run(self):\n",
    "        step = 0\n",
    "        while True:\n",
    "            step += 1\n",
    "            val = self.tape[self.pos]\n",
    "            self.tape[self.pos] = self.states[self.state]['write_if_' + str(val)]\n",
    "            if self.states[self.state]['move_if_' + str(val)] == 'left':\n",
    "                self.mv_left()\n",
    "            else:\n",
    "                self.mv_right()\n",
    "            self.state = self.states[self.state]['next_state_if_' + str(val)]\n",
    "            if step >= self.chksum_after:\n",
    "                break\n",
    "            #print(self.pos, self.tape)\n",
    "        print('chksum: ', sum(self.tape))\n",
    "            \n",
    "    def mv_left(self):\n",
    "        if self.pos == 0:\n",
    "            self.tape.appendleft(0)\n",
    "        else:\n",
    "            self.pos -= 1\n",
    "        return self.tape[self.pos]\n",
    "\n",
    "    def mv_right(self):\n",
    "        self.pos += 1\n",
    "        if self.pos == len(self.tape):\n",
    "            self.tape.append(0)\n",
    "        return self.tape[self.pos]\n",
    "    \n",
    "\n",
    "    "
   ]
  },
  {
   "cell_type": "code",
   "execution_count": 65,
   "metadata": {},
   "outputs": [
    {
     "data": {
      "text/plain": [
       "{'A': {'move_if_0': 'right',\n",
       "  'move_if_1': 'left',\n",
       "  'next_state_if_0': 'B',\n",
       "  'next_state_if_1': 'E',\n",
       "  'write_if_0': 1,\n",
       "  'write_if_1': 0},\n",
       " 'B': {'move_if_0': 'left',\n",
       "  'move_if_1': 'right',\n",
       "  'next_state_if_0': 'C',\n",
       "  'next_state_if_1': 'A',\n",
       "  'write_if_0': 1,\n",
       "  'write_if_1': 0},\n",
       " 'C': {'move_if_0': 'left',\n",
       "  'move_if_1': 'right',\n",
       "  'next_state_if_0': 'D',\n",
       "  'next_state_if_1': 'C',\n",
       "  'write_if_0': 1,\n",
       "  'write_if_1': 0},\n",
       " 'D': {'move_if_0': 'left',\n",
       "  'move_if_1': 'left',\n",
       "  'next_state_if_0': 'E',\n",
       "  'next_state_if_1': 'F',\n",
       "  'write_if_0': 1,\n",
       "  'write_if_1': 0},\n",
       " 'E': {'move_if_0': 'left',\n",
       "  'move_if_1': 'left',\n",
       "  'next_state_if_0': 'A',\n",
       "  'next_state_if_1': 'C',\n",
       "  'write_if_0': 1,\n",
       "  'write_if_1': 1},\n",
       " 'F': {'move_if_0': 'left',\n",
       "  'move_if_1': 'right',\n",
       "  'next_state_if_0': 'E',\n",
       "  'next_state_if_1': 'A',\n",
       "  'write_if_0': 1,\n",
       "  'write_if_1': 1}}"
      ]
     },
     "execution_count": 65,
     "metadata": {},
     "output_type": "execute_result"
    }
   ],
   "source": [
    "tm = tmachine(inp)\n",
    "tm.states"
   ]
  },
  {
   "cell_type": "code",
   "execution_count": 66,
   "metadata": {},
   "outputs": [
    {
     "name": "stdout",
     "output_type": "stream",
     "text": [
      "chksum:  4387\n",
      "CPU times: user 35.3 s, sys: 227 ms, total: 35.5 s\n",
      "Wall time: 39 s\n"
     ]
    }
   ],
   "source": [
    "%%time\n",
    "tm.run()"
   ]
  },
  {
   "cell_type": "code",
   "execution_count": null,
   "metadata": {
    "collapsed": true
   },
   "outputs": [],
   "source": []
  }
 ],
 "metadata": {
  "kernelspec": {
   "display_name": "Python 3",
   "language": "python",
   "name": "python3"
  },
  "language_info": {
   "codemirror_mode": {
    "name": "ipython",
    "version": 3
   },
   "file_extension": ".py",
   "mimetype": "text/x-python",
   "name": "python",
   "nbconvert_exporter": "python",
   "pygments_lexer": "ipython3",
   "version": "3.6.0"
  }
 },
 "nbformat": 4,
 "nbformat_minor": 2
}
