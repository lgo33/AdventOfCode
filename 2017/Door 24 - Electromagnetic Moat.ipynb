{
 "cells": [
  {
   "cell_type": "code",
   "execution_count": 61,
   "metadata": {
    "collapsed": true
   },
   "outputs": [],
   "source": [
    "inp = \"\"\"0/2\n",
    "2/2\n",
    "2/3\n",
    "3/4\n",
    "3/5\n",
    "0/1\n",
    "10/1\n",
    "9/10\"\"\""
   ]
  },
  {
   "cell_type": "code",
   "execution_count": 66,
   "metadata": {
    "collapsed": true
   },
   "outputs": [],
   "source": [
    "with open('data/input_24.txt') as fh:\n",
    "    inp = fh.read().strip()"
   ]
  },
  {
   "cell_type": "code",
   "execution_count": 67,
   "metadata": {},
   "outputs": [],
   "source": [
    "def parse(line):\n",
    "    els = line.split('/')\n",
    "    return int(els[0]), int(els[1])\n",
    "pieces = set(map(parse, inp.split('\\n')))"
   ]
  },
  {
   "cell_type": "code",
   "execution_count": 70,
   "metadata": {},
   "outputs": [
    {
     "data": {
      "text/plain": [
       "{(0, 33),\n",
       " (2, 23),\n",
       " (3, 7),\n",
       " (3, 25),\n",
       " (6, 7),\n",
       " (6, 21),\n",
       " (7, 23),\n",
       " (7, 43),\n",
       " (8, 36),\n",
       " (10, 35),\n",
       " (11, 14),\n",
       " (13, 13),\n",
       " (14, 50),\n",
       " (16, 5),\n",
       " (17, 22),\n",
       " (17, 29),\n",
       " (18, 20),\n",
       " (19, 34),\n",
       " (19, 35),\n",
       " (20, 20),\n",
       " (20, 47),\n",
       " (21, 31),\n",
       " (22, 33),\n",
       " (22, 50),\n",
       " (24, 21),\n",
       " (24, 34),\n",
       " (25, 10),\n",
       " (25, 46),\n",
       " (27, 21),\n",
       " (28, 0),\n",
       " (28, 8),\n",
       " (33, 37),\n",
       " (34, 41),\n",
       " (34, 46),\n",
       " (35, 20),\n",
       " (35, 35),\n",
       " (35, 49),\n",
       " (37, 26),\n",
       " (38, 17),\n",
       " (40, 11),\n",
       " (41, 24),\n",
       " (42, 4),\n",
       " (44, 15),\n",
       " (45, 37),\n",
       " (46, 22),\n",
       " (47, 7),\n",
       " (47, 22),\n",
       " (47, 23),\n",
       " (47, 35),\n",
       " (48, 5),\n",
       " (48, 42),\n",
       " (49, 38),\n",
       " (50, 0),\n",
       " (50, 33)}"
      ]
     },
     "execution_count": 70,
     "metadata": {},
     "output_type": "execute_result"
    }
   ],
   "source": [
    "pieces"
   ]
  },
  {
   "cell_type": "code",
   "execution_count": 69,
   "metadata": {},
   "outputs": [
    {
     "name": "stdout",
     "output_type": "stream",
     "text": [
      "1656\n",
      "CPU times: user 2.57 s, sys: 26.7 ms, total: 2.59 s\n",
      "Wall time: 2.67 s\n"
     ]
    }
   ],
   "source": [
    "%%time\n",
    "stack = set([(0, 0, frozenset([]))])\n",
    "maxv = 0\n",
    "while stack:\n",
    "    check = stack.pop()\n",
    "    maxv = max(maxv, check[0])\n",
    "    for p in pieces - check[2]:\n",
    "        if check[1] in p:\n",
    "            n = p[0] if p[1] == check[1] else p[1]\n",
    "            stack.add((check[0] + sum(p), n, check[2].union(set([p]))))\n",
    "print(maxv)"
   ]
  },
  {
   "cell_type": "code",
   "execution_count": 68,
   "metadata": {},
   "outputs": [
    {
     "name": "stdout",
     "output_type": "stream",
     "text": [
      "(30, 1642)\n"
     ]
    }
   ],
   "source": [
    "stack = set([(0, 0, frozenset([]))])\n",
    "maxv = (0, 0)\n",
    "while stack:\n",
    "    check = stack.pop()\n",
    "    if len(check[2]) == maxv[0]:\n",
    "        maxv = (len(check[2]), max(maxv[1], check[0]))\n",
    "    elif len(check[2]) > maxv[0]:\n",
    "        maxv = (len(check[2]), check[0])\n",
    "    for p in pieces - check[2]:\n",
    "        if check[1] in p:\n",
    "            n = p[0] if p[1] == check[1] else p[1]\n",
    "            stack.add((check[0] + sum(p), n, check[2].union(set([p]))))\n",
    "print(maxv)"
   ]
  },
  {
   "cell_type": "code",
   "execution_count": null,
   "metadata": {
    "collapsed": true
   },
   "outputs": [],
   "source": []
  }
 ],
 "metadata": {
  "kernelspec": {
   "display_name": "Python 3",
   "language": "python",
   "name": "python3"
  },
  "language_info": {
   "codemirror_mode": {
    "name": "ipython",
    "version": 3
   },
   "file_extension": ".py",
   "mimetype": "text/x-python",
   "name": "python",
   "nbconvert_exporter": "python",
   "pygments_lexer": "ipython3",
   "version": "3.6.0"
  }
 },
 "nbformat": 4,
 "nbformat_minor": 2
}
