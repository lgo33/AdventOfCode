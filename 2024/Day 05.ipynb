{
 "cells": [
  {
   "cell_type": "code",
   "execution_count": 1,
   "metadata": {},
   "outputs": [],
   "source": [
    "import os\n",
    "os.environ['AOC_SESSION'] = '53616c7465645f5fc503e2646a881940b2f824e539e4f8b830d42eb6402b3e4790aca085fba85feae52603e00e10983ef62482a74fb2f0471a93a3bf82804bc1'"
   ]
  },
  {
   "cell_type": "code",
   "execution_count": 2,
   "metadata": {},
   "outputs": [],
   "source": [
    "import aocd\n",
    "from aocd.models import Puzzle\n",
    "day = 5\n",
    "year = 2024\n",
    "puzzle = Puzzle(year=year, day=day)\n",
    "# data = aocd.get_data(day=day, year=year)\n",
    "with open('./data/input_{:02d}'.format(day), 'w') as fh:\n",
    "    fh.write(puzzle.input_data)"
   ]
  },
  {
   "cell_type": "code",
   "execution_count": 5,
   "metadata": {},
   "outputs": [],
   "source": [
    "test_data = \"\"\"47|53\n",
    "97|13\n",
    "97|61\n",
    "97|47\n",
    "75|29\n",
    "61|13\n",
    "75|53\n",
    "29|13\n",
    "97|29\n",
    "53|29\n",
    "61|53\n",
    "97|53\n",
    "61|29\n",
    "47|13\n",
    "75|47\n",
    "97|75\n",
    "47|61\n",
    "75|61\n",
    "47|29\n",
    "75|13\n",
    "53|13\n",
    "\n",
    "75,47,61,53,29\n",
    "97,61,53,29,13\n",
    "75,29,13\n",
    "75,97,47,61,53\n",
    "61,13,29\n",
    "97,13,75,29,47\n",
    "\"\"\"\n",
    "data_test = test_data.splitlines()"
   ]
  },
  {
   "cell_type": "code",
   "execution_count": 4,
   "metadata": {},
   "outputs": [
    {
     "data": {
      "text/plain": [
       "(1371,\n",
       " ['73|89',\n",
       "  '78|59',\n",
       "  '78|71',\n",
       "  '32|66',\n",
       "  '32|12',\n",
       "  '32|58',\n",
       "  '13|29',\n",
       "  '13|46',\n",
       "  '13|66',\n",
       "  '13|61'])"
      ]
     },
     "execution_count": 4,
     "metadata": {},
     "output_type": "execute_result"
    }
   ],
   "source": [
    "data = puzzle.input_data.splitlines()\n",
    "len(data), data[:10]"
   ]
  },
  {
   "cell_type": "code",
   "execution_count": 10,
   "metadata": {},
   "outputs": [],
   "source": [
    "from collections import defaultdict"
   ]
  },
  {
   "cell_type": "code",
   "execution_count": 36,
   "metadata": {},
   "outputs": [],
   "source": [
    "\n",
    "def parse(lines):\n",
    "    rules = defaultdict(list)\n",
    "    inv_rules = defaultdict(list)\n",
    "    manuals = []\n",
    "    for line in lines:\n",
    "        if \"|\" in line:\n",
    "            a, b = list(map(int, line.split(\"|\")))\n",
    "            rules[a].append(b)\n",
    "            inv_rules[b] = a\n",
    "        elif line != \"\":\n",
    "            manuals.append(list(map(int, line.split(','))))\n",
    "    return (rules, inv_rules), manuals\n",
    "\n",
    "def check_manual(manual, rules):\n",
    "    before, after = rules\n",
    "    order = {v: i for i, v in enumerate(manual)}\n",
    "    for ipage, jpages in before.items():\n",
    "        for jpage in jpages:\n",
    "            if ipage not in manual or jpage not in manual:\n",
    "                continue\n",
    "            if order[ipage] > order[jpage]:\n",
    "                return 0\n",
    "    return manual[len(manual)//2]"
   ]
  },
  {
   "cell_type": "code",
   "execution_count": 44,
   "metadata": {},
   "outputs": [
    {
     "data": {
      "text/plain": [
       "143"
      ]
     },
     "execution_count": 44,
     "metadata": {},
     "output_type": "execute_result"
    }
   ],
   "source": [
    "rules, manuals = parse(data_test)\n",
    "sum([check_manual(m, rules) for m in manuals])"
   ]
  },
  {
   "cell_type": "code",
   "execution_count": 39,
   "metadata": {},
   "outputs": [
    {
     "data": {
      "text/plain": [
       "5452"
      ]
     },
     "execution_count": 39,
     "metadata": {},
     "output_type": "execute_result"
    }
   ],
   "source": [
    "rules, manuals = parse(data)\n",
    "res = sum([check_manual(m, rules) for m in manuals])\n",
    "res"
   ]
  },
  {
   "cell_type": "code",
   "execution_count": 40,
   "metadata": {},
   "outputs": [
    {
     "name": "stdout",
     "output_type": "stream",
     "text": [
      "\u001b[32mThat's the right answer!  You are one gold star closer to finding the Chief Historian. [Continue to Part Two]\u001b[0m\n"
     ]
    }
   ],
   "source": [
    "puzzle.answer_a = res"
   ]
  },
  {
   "cell_type": "code",
   "execution_count": 41,
   "metadata": {},
   "outputs": [],
   "source": [
    "# Part 2"
   ]
  },
  {
   "cell_type": "code",
   "execution_count": 63,
   "metadata": {},
   "outputs": [],
   "source": [
    "def find_missmatch(manual, rules):\n",
    "    before, after = rules\n",
    "    order = {v: i for i, v in enumerate(manual)}\n",
    "    for ipage, jpages in before.items():\n",
    "        for jpage in jpages:\n",
    "            if ipage not in manual or jpage not in manual:\n",
    "                continue\n",
    "            if order[ipage] > order[jpage]:\n",
    "                return order[ipage], order[jpage], ipage\n",
    "    return manual[len(manual)//2]\n",
    "\n",
    "def fix(manual, fix_rules):\n",
    "    i, j, page = fix_rules\n",
    "    m = manual[:i] + manual[i+1:]\n",
    "    m.insert(j, page)\n",
    "    return m\n",
    "\n",
    "def check_all_manuals(manuals, rules):\n",
    "    res = 0\n",
    "    for manual in manuals:\n",
    "        num_fixes = 0\n",
    "        while True:\n",
    "            \n",
    "            ret = find_missmatch(manual, rules)\n",
    "            if isinstance(ret, int):\n",
    "                res += ret\n",
    "                break\n",
    "            else:\n",
    "                manual = fix(manual, ret)\n",
    "    return res"
   ]
  },
  {
   "cell_type": "code",
   "execution_count": 54,
   "metadata": {},
   "outputs": [
    {
     "data": {
      "text/plain": [
       "(1, 0)"
      ]
     },
     "execution_count": 54,
     "metadata": {},
     "output_type": "execute_result"
    }
   ],
   "source": [
    "find_missmatch(manuals[3], rules)"
   ]
  },
  {
   "cell_type": "code",
   "execution_count": 66,
   "metadata": {},
   "outputs": [
    {
     "data": {
      "text/plain": [
       "266"
      ]
     },
     "execution_count": 66,
     "metadata": {},
     "output_type": "execute_result"
    }
   ],
   "source": [
    "check_all_manuals(manuals, rules)"
   ]
  },
  {
   "cell_type": "code",
   "execution_count": 69,
   "metadata": {},
   "outputs": [
    {
     "data": {
      "text/plain": [
       "4598"
      ]
     },
     "execution_count": 69,
     "metadata": {},
     "output_type": "execute_result"
    }
   ],
   "source": [
    "rules, manuals = parse(data)\n",
    "resA = sum([check_manual(m, rules) for m in manuals])\n",
    "res = check_all_manuals(manuals, rules) - resA\n",
    "res"
   ]
  },
  {
   "cell_type": "code",
   "execution_count": 70,
   "metadata": {},
   "outputs": [
    {
     "name": "stdout",
     "output_type": "stream",
     "text": [
      "\u001b[32mThat's the right answer!  You are one gold star closer to finding the Chief Historian.You have completed Day 5! You can [Shareon\n",
      "  Bluesky\n",
      "Twitter\n",
      "Mastodon] this victory or [Return to Your Advent Calendar].\u001b[0m\n"
     ]
    }
   ],
   "source": [
    "puzzle.answer_b = res"
   ]
  },
  {
   "cell_type": "code",
   "execution_count": null,
   "metadata": {},
   "outputs": [],
   "source": []
  }
 ],
 "metadata": {
  "kernelspec": {
   "display_name": "py310",
   "language": "python",
   "name": "py310"
  },
  "language_info": {
   "codemirror_mode": {
    "name": "ipython",
    "version": 3
   },
   "file_extension": ".py",
   "mimetype": "text/x-python",
   "name": "python",
   "nbconvert_exporter": "python",
   "pygments_lexer": "ipython3",
   "version": "3.10.2"
  }
 },
 "nbformat": 4,
 "nbformat_minor": 4
}
