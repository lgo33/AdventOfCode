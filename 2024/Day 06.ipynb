{
 "cells": [
  {
   "cell_type": "code",
   "execution_count": 1,
   "metadata": {},
   "outputs": [],
   "source": [
    "import os\n",
    "os.environ['AOC_SESSION'] = '53616c7465645f5fc503e2646a881940b2f824e539e4f8b830d42eb6402b3e4790aca085fba85feae52603e00e10983ef62482a74fb2f0471a93a3bf82804bc1'"
   ]
  },
  {
   "cell_type": "code",
   "execution_count": 2,
   "metadata": {},
   "outputs": [],
   "source": [
    "import aocd\n",
    "from aocd.models import Puzzle\n",
    "day = 6\n",
    "year = 2024\n",
    "puzzle = Puzzle(year=year, day=day)\n",
    "# data = aocd.get_data(day=day, year=year)\n",
    "with open('./data/input_{:02d}'.format(day), 'w') as fh:\n",
    "    fh.write(puzzle.input_data)"
   ]
  },
  {
   "cell_type": "code",
   "execution_count": 5,
   "metadata": {},
   "outputs": [],
   "source": [
    "test_data = \"\"\"....#.....\n",
    ".........#\n",
    "..........\n",
    "..#.......\n",
    ".......#..\n",
    "..........\n",
    ".#..^.....\n",
    "........#.\n",
    "#.........\n",
    "......#...\n",
    "\"\"\"\n",
    "data_test = test_data.splitlines()"
   ]
  },
  {
   "cell_type": "code",
   "execution_count": 4,
   "metadata": {},
   "outputs": [
    {
     "data": {
      "text/plain": [
       "(130,\n",
       " ['....................................#.............#...............#..............................................................#',\n",
       "  '........................#....#............................................##.......#...................................#..........',\n",
       "  '.........#...............................................#..#.......#...#...........#......................#......................',\n",
       "  '...........#...........#...................#...........#.........................................#............................#...',\n",
       "  '................................................................#.....#...............................................#........#..',\n",
       "  '......................#..........#.#.......................................#...#........................................#.........',\n",
       "  '....#.......................#............#............#....#....................................................................#.',\n",
       "  '#.........#....................#.............#......................#............#....#..#................#........#.#.....#......',\n",
       "  '.................##...................#.................................#.........................................................',\n",
       "  '...........#...................................................................##..........#..........#.....#...............#.....'])"
      ]
     },
     "execution_count": 4,
     "metadata": {},
     "output_type": "execute_result"
    }
   ],
   "source": [
    "data = puzzle.input_data.splitlines()\n",
    "len(data), data[:10]"
   ]
  },
  {
   "cell_type": "code",
   "execution_count": 160,
   "metadata": {},
   "outputs": [],
   "source": [
    "def parse(data):\n",
    "    grid = {}\n",
    "    start_pos = None\n",
    "    for y, line in enumerate(data[::-1]):\n",
    "        for x, char in enumerate(line):\n",
    "            grid[x + 1j*y] = char\n",
    "            if char == '^':\n",
    "                start_pos = x + 1j*y\n",
    "\n",
    "    return grid, start_pos\n",
    "\n",
    "def walk(grid, start_pos):\n",
    "    d = 1j\n",
    "    pos = start_pos\n",
    "    visited = set([start_pos])\n",
    "    while (pos + d) in grid:\n",
    "        if grid[pos + d] == '#':\n",
    "            d *= (-1j)            \n",
    "            continue\n",
    "        pos += d\n",
    "        visited.add(pos)\n",
    "    return visited\n",
    "        "
   ]
  },
  {
   "cell_type": "code",
   "execution_count": 161,
   "metadata": {},
   "outputs": [
    {
     "data": {
      "text/plain": [
       "5531"
      ]
     },
     "execution_count": 161,
     "metadata": {},
     "output_type": "execute_result"
    }
   ],
   "source": [
    "vis = walk(*parse(data))\n",
    "res = len(vis)\n",
    "res"
   ]
  },
  {
   "cell_type": "code",
   "execution_count": 27,
   "metadata": {},
   "outputs": [
    {
     "name": "stdout",
     "output_type": "stream",
     "text": [
      "\u001b[32mThat's the right answer!  You are one gold star closer to finding the Chief Historian. [Continue to Part Two]\u001b[0m\n"
     ]
    }
   ],
   "source": [
    "puzzle.answer_a = res"
   ]
  },
  {
   "cell_type": "code",
   "execution_count": 32,
   "metadata": {},
   "outputs": [],
   "source": [
    "# Part 2"
   ]
  },
  {
   "cell_type": "code",
   "execution_count": 164,
   "metadata": {},
   "outputs": [],
   "source": [
    "def detect_loop(grid, start_pos):\n",
    "    d = 1j\n",
    "    pos = start_pos\n",
    "    loop_detection = set()\n",
    "    while (pos + d) in grid:\n",
    "        if (pos, d) in loop_detection:\n",
    "            return True\n",
    "        loop_detection.add((pos, d))\n",
    "        if grid[pos + d] == '#':\n",
    "            d *= (-1j)            \n",
    "            continue\n",
    "        pos += d\n",
    "    return False\n",
    "\n",
    "def get_num_loops(grid, start_pos, to_check):\n",
    "    res = 0\n",
    "    for chk in to_check:        \n",
    "        if detect_loop(grid | {chk: \"#\"}, start_pos):\n",
    "            res += 1\n",
    "    return res"
   ]
  },
  {
   "cell_type": "code",
   "execution_count": 166,
   "metadata": {},
   "outputs": [
    {
     "name": "stdout",
     "output_type": "stream",
     "text": [
      "CPU times: user 14.5 s, sys: 3.88 ms, total: 14.5 s\n",
      "Wall time: 14.5 s\n"
     ]
    },
    {
     "data": {
      "text/plain": [
       "2165"
      ]
     },
     "execution_count": 166,
     "metadata": {},
     "output_type": "execute_result"
    }
   ],
   "source": [
    "%%time\n",
    "# d = data_test\n",
    "d = data\n",
    "grid, start_pos = parse(d)\n",
    "res = get_num_loops(grid, start_pos, vis)\n",
    "res"
   ]
  },
  {
   "cell_type": "code",
   "execution_count": 94,
   "metadata": {},
   "outputs": [
    {
     "name": "stdout",
     "output_type": "stream",
     "text": [
      "\u001b[32mThat's the right answer!  You are one gold star closer to finding the Chief Historian.You have completed Day 6! You can [Shareon\n",
      "  Bluesky\n",
      "Twitter\n",
      "Mastodon] this victory or [Return to Your Advent Calendar].\u001b[0m\n"
     ]
    }
   ],
   "source": [
    "puzzle.answer_b = res"
   ]
  }
 ],
 "metadata": {
  "kernelspec": {
   "display_name": "py310",
   "language": "python",
   "name": "py310"
  },
  "language_info": {
   "codemirror_mode": {
    "name": "ipython",
    "version": 3
   },
   "file_extension": ".py",
   "mimetype": "text/x-python",
   "name": "python",
   "nbconvert_exporter": "python",
   "pygments_lexer": "ipython3",
   "version": "3.10.2"
  }
 },
 "nbformat": 4,
 "nbformat_minor": 4
}
