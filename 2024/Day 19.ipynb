{
 "cells": [
  {
   "cell_type": "code",
   "execution_count": 1,
   "metadata": {},
   "outputs": [],
   "source": [
    "import os\n",
    "os.environ['AOC_SESSION'] = '53616c7465645f5f37c74a4bd1a2394b4fa5dcbb449244bb183873f839c409c1c2b5d3191175e6de6040979aeb78f7894665a168392bc55c2d58d905f027b397'"
   ]
  },
  {
   "cell_type": "code",
   "execution_count": 4,
   "metadata": {},
   "outputs": [],
   "source": [
    "import aocd\n",
    "from aocd.models import Puzzle\n",
    "day = 19\n",
    "year = 2024\n",
    "puzzle = Puzzle(year=year, day=day)\n",
    "# data = aocd.get_data(day=day, year=year)\n",
    "with open('./data/input_{:02d}'.format(day), 'w') as fh:\n",
    "    fh.write(puzzle.input_data)"
   ]
  },
  {
   "cell_type": "code",
   "execution_count": 45,
   "metadata": {},
   "outputs": [],
   "source": [
    "from functools import cache"
   ]
  },
  {
   "cell_type": "code",
   "execution_count": 5,
   "metadata": {},
   "outputs": [],
   "source": [
    "test_data = \"\"\"r, wr, b, g, bwu, rb, gb, br\n",
    "\n",
    "brwrr\n",
    "bggr\n",
    "gbbr\n",
    "rrbgbr\n",
    "ubwu\n",
    "bwurrg\n",
    "brgr\n",
    "bbrgwb\"\"\"\n",
    "data_test = test_data.splitlines()"
   ]
  },
  {
   "cell_type": "code",
   "execution_count": 6,
   "metadata": {},
   "outputs": [
    {
     "data": {
      "text/plain": [
       "(402,\n",
       " ['urbu, wrrbwrg, rgug, uwb, uwg, wubwgu, bgrwu, gubbuu, wrrub, rbr, bgrr, rrgrrur, rgu, ugrrru, bgu, uubbwrb, ugru, bwb, uwuu, urb, gwubw, ubu, wubwu, ubb, rugrgw, guu, rbwg, rug, brgugb, rwbrbwu, wu, bgrb, wgburg, uuguw, wbggr, guurrbbu, rggw, guwr, rwgrbrb, urbb, bwggwg, wgr, bbwurrw, bgubr, uuu, grru, rbbrbgbr, buwub, urr, gwrgb, wrwrgubu, rurrb, bwbuub, bgbub, wguu, gbrburw, rrb, rwuu, wgwgwubb, rruw, rurru, uuw, uu, ruu, wrwb, wbrgu, gwbuu, bbgw, grgggbr, bwgww, wbuw, wwb, wubguurw, wbuu, uwurgw, ugwbbbr, rbg, uburg, wrbug, gu, bwuugb, rbuwrbur, wguur, wwwbgu, ugbb, guwubw, uwbug, rwub, uwwgug, uur, wrg, ubgbb, uw, wru, uww, uubwg, wgrgw, bu, ugb, rur, bbw, wbgru, ruug, rrbb, ugu, urbgb, bbgu, bgbwgg, gbrwb, brub, wbu, rwbuur, bgggrw, rg, bgwr, wgwwuwu, gbg, gw, ruuw, wr, bww, uwr, ubgg, guwrw, rrr, wburguu, wrbbrru, rwwrg, rwg, bgg, wgw, www, gggbrrur, gbw, rgrr, bb, bwrwww, rb, rgbbu, bubu, ubwubw, w, wgbb, gwwb, r, gru, wugr, b, bubwu, ub, uugggg, ruwuub, buw, uuruuub, gb, grbgr, wwrg, wwg, grwr, wwr, rbrb, wwrrub, uuwbwgw, gggr, rgubr, guggu, rgwwg, bggr, wrruu, grub, gbbbbr, ubw, rbubw, bbbwwww, wuu, uwuuwww, wwu, gww, wbw, rwb, gbwg, bwr, gubgu, urubwrub, uuuw, rrw, wwruu, ggg, bwrrg, bugw, urw, gggwgw, uwgrgwrr, ugr, rgru, bgr, wbbwb, brg, rwbw, bwuu, brw, bbwbuwu, grur, wgbbwu, ru, rwu, rrgb, urbwrub, ubug, bwu, wbgbbg, uuubu, wbrgwrwg, gbgg, buu, uugu, rrbuu, brbg, brwuw, rbbbw, rbgr, buggrug, gbwr, gwr, wrrw, urug, bbbb, bbrgu, rrbwuru, ugggw, bbb, rrbrw, ubg, bwubgw, ugw, urwgr, uwwrgw, ugrbwu, rggwwwb, grubb, brb, rww, ububwr, brruburb, bbrgrur, uwwbgg, gbbrr, rggu, bbwug, wrb, wgugu, br, bbu, gbr, wbg, gbuw, wwug, bru, grwrur, bbr, bugwur, wrug, rrwbu, rw, uug, rgr, ugrubu, rbb, brgwug, rgwbg, rub, gbbg, bur, grg, bubgg, ugg, rbwu, rwr, bub, rrguw, gubb, bbgr, wbbburg, bgw, wb, wubw, ggwuub, bwg, bwbbrw, ggw, grubrg, rgw, uwwuw, uwbr, grr, rgb, bwrggwg, brbwur, uru, bguuubr, wwuwg, wuruwwbw, grrwwrgr, bwbu, rbuuuw, ubru, uub, uwbb, ruw, gwg, rbur, grw, gbgbu, uwbugw, wbb, gurb, ugbwgub, rgubrw, bbugu, urg, wrr, bw, wbubruw, wwwr, rrrb, ggbbbg, wug, rgruu, guwb, uuuggug, brrbrr, gr, buwbguwu, rgg, rrwg, wwgwrr, rrg, wurur, ggwbbrg, rrwgr, rruwu, buww, gbu, rrwuruub, brgr, wguwuu, urbrbg, rru, wgb, urubb, rbw, guru, buru, gur, ww, u, rwgw, gug, wwurwuw, rrbgrw, bwuwubu, bgrw, gguuugub, rbu, rubub, wrw, ggb, buwugrg, wgu, wwrbuu, bgurbg, gwu, bbwgb, uwwrrb, urugu, wugwrrgr, gwbbr, rgubg, bwrww, ug, wrwr, brur, bwur, gwgguw, wuwub, burww, gubwru, gub, bug, bwww, gwgugg, gruw, wgg, wrub, uwuwbgu, bwbw, gwuw, ubr, gbb, ubggru, wwubuw, rgrgru, wg, wub, wrgww, bwwub, gbur, bwgu, ur, rgwrrbw, wguuurb, rwrrg, ubrbburg, rgbggww, rgbgrur, brr, wrggbwr, ggr, guw, bgwb, gwrbwg, wrwbug, ubggu, bgrrb, wbr, wgub, gwbw, grb, rwbubwur, ubgw, gwbb, ugwwggrb, ggww, wugwur, rubwg, bgugw, wbubbu, rbbw, bgug, uggu, bgwrwrw, gwb, bgb, uwug, gurguug, wrrbw, gg',\n",
       "  '',\n",
       "  'wbrurgggrgbuwguwuwuwuwwwwgugwbwrwwuguwrrwubwuwrgwbugw',\n",
       "  'uubrgurbrbgwgbbrruwrwrwgbrrgguuwrwbrgwgwgrgrgu',\n",
       "  'bugwgurruguwwbgwuuggrrbrubgggbgrubbwuuuuuurrgwwurwguwugggg',\n",
       "  'brwugubrrbrgubrwubgwbrggrrrbwburgbugrwbrwubbg',\n",
       "  'gbggwbrwugrbbrrbbrgbbbuguwwurrgguwrbubbbgbbgbbbg',\n",
       "  'bgrwgugurwugurrwwgwbrruubuwuwggrubwrbbugggw',\n",
       "  'wbrwrugwbugrubgwuggguwubbbrbrgrugwugggggrbbugwbgbbrbbg',\n",
       "  'rwrbbrubwrbbbwurggwgurrwubgrwwwurwgburbbwgwu'])"
      ]
     },
     "execution_count": 6,
     "metadata": {},
     "output_type": "execute_result"
    }
   ],
   "source": [
    "data = puzzle.input_data.splitlines()\n",
    "len(data), data[:10]"
   ]
  },
  {
   "cell_type": "code",
   "execution_count": 50,
   "metadata": {},
   "outputs": [],
   "source": [
    "@cache\n",
    "def is_possible(pattern):\n",
    "    if pattern in towels:\n",
    "        # print(pattern)\n",
    "        return True\n",
    "    for i in range(1, len(pattern)):\n",
    "        if (pattern[:i]) in towels and is_possible(pattern[i:]):\n",
    "            # print(pattern[:i])\n",
    "            return True\n",
    "    return False    "
   ]
  },
  {
   "cell_type": "code",
   "execution_count": null,
   "metadata": {},
   "outputs": [],
   "source": [
    "d = data\n",
    "# d = data_test\n",
    "\n",
    "towels, patterns = d[0], d[2:]\n",
    "towels = set(towels.split(', '))"
   ]
  },
  {
   "cell_type": "code",
   "execution_count": 54,
   "metadata": {},
   "outputs": [
    {
     "data": {
      "text/plain": [
       "300"
      ]
     },
     "execution_count": 54,
     "metadata": {},
     "output_type": "execute_result"
    }
   ],
   "source": [
    "res = sum([is_possible(pattern) for pattern in patterns])\n",
    "res"
   ]
  },
  {
   "cell_type": "code",
   "execution_count": 55,
   "metadata": {},
   "outputs": [
    {
     "name": "stdout",
     "output_type": "stream",
     "text": [
      "\u001b[32mThat's the right answer!  You are one gold star closer to finding the Chief Historian. [Continue to Part Two]\u001b[0m\n"
     ]
    }
   ],
   "source": [
    "puzzle.answer_a = res"
   ]
  },
  {
   "cell_type": "code",
   "execution_count": 56,
   "metadata": {},
   "outputs": [],
   "source": [
    "# Part 2"
   ]
  },
  {
   "cell_type": "code",
   "execution_count": 73,
   "metadata": {},
   "outputs": [],
   "source": [
    "@cache\n",
    "def ncombinations(pattern):\n",
    "    res = 0\n",
    "    if pattern in towels:\n",
    "        # print(pattern)\n",
    "        res += 1\n",
    "    \n",
    "    for i in range(1, len(pattern)):\n",
    "        sub = ncombinations(pattern[i:])\n",
    "        if (pattern[:i]) in towels and sub:\n",
    "            # print(pattern[:i])\n",
    "            res += sub\n",
    "    return res"
   ]
  },
  {
   "cell_type": "code",
   "execution_count": 74,
   "metadata": {},
   "outputs": [],
   "source": [
    "d = data\n",
    "# d = data_test\n",
    "\n",
    "towels, patterns = d[0], d[2:]\n",
    "towels = set(towels.split(', '))"
   ]
  },
  {
   "cell_type": "code",
   "execution_count": 75,
   "metadata": {},
   "outputs": [
    {
     "data": {
      "text/plain": [
       "624802218898092"
      ]
     },
     "execution_count": 75,
     "metadata": {},
     "output_type": "execute_result"
    }
   ],
   "source": [
    "res = sum([ncombinations(pattern) for pattern in patterns])\n",
    "res"
   ]
  },
  {
   "cell_type": "code",
   "execution_count": 76,
   "metadata": {},
   "outputs": [
    {
     "name": "stdout",
     "output_type": "stream",
     "text": [
      "\u001b[32mThat's the right answer!  You are one gold star closer to finding the Chief Historian.You have completed Day 19! You can [Shareon\n",
      "  Bluesky\n",
      "Twitter\n",
      "Mastodon] this victory or [Return to Your Advent Calendar].\u001b[0m\n"
     ]
    }
   ],
   "source": [
    "puzzle.answer_b = res"
   ]
  },
  {
   "cell_type": "code",
   "execution_count": null,
   "metadata": {},
   "outputs": [],
   "source": []
  }
 ],
 "metadata": {
  "kernelspec": {
   "display_name": "py310",
   "language": "python",
   "name": "py310"
  },
  "language_info": {
   "codemirror_mode": {
    "name": "ipython",
    "version": 3
   },
   "file_extension": ".py",
   "mimetype": "text/x-python",
   "name": "python",
   "nbconvert_exporter": "python",
   "pygments_lexer": "ipython3",
   "version": "3.10.2"
  }
 },
 "nbformat": 4,
 "nbformat_minor": 4
}
