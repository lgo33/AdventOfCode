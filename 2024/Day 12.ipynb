{
 "cells": [
  {
   "cell_type": "code",
   "execution_count": 1,
   "metadata": {},
   "outputs": [],
   "source": [
    "import os\n",
    "os.environ['AOC_SESSION'] = '53616c7465645f5f37c74a4bd1a2394b4fa5dcbb449244bb183873f839c409c1c2b5d3191175e6de6040979aeb78f7894665a168392bc55c2d58d905f027b397'"
   ]
  },
  {
   "cell_type": "code",
   "execution_count": 2,
   "metadata": {},
   "outputs": [],
   "source": [
    "import aocd\n",
    "from aocd.models import Puzzle\n",
    "day = 12\n",
    "year = 2024\n",
    "puzzle = Puzzle(year=year, day=day)\n",
    "# data = aocd.get_data(day=day, year=year)\n",
    "with open('./data/input_{:02d}'.format(day), 'w') as fh:\n",
    "    fh.write(puzzle.input_data)"
   ]
  },
  {
   "cell_type": "code",
   "execution_count": 3,
   "metadata": {},
   "outputs": [],
   "source": [
    "from collections import defaultdict"
   ]
  },
  {
   "cell_type": "code",
   "execution_count": 4,
   "metadata": {},
   "outputs": [],
   "source": [
    "# test_data = \"\"\"RRRRIICCFF\n",
    "# RRRRIICCCF\n",
    "# VVRRRCCFFF\n",
    "# VVRCCCJFFF\n",
    "# VVVVCJJCFE\n",
    "# VVIVCCJJEE\n",
    "# VVIIICJJEE\n",
    "# MIIIIIJJEE\n",
    "# MIIISIJEEE\n",
    "# MMMISSJEEE\"\"\"\n",
    "test_data = \"\"\"AAAA\n",
    "BBCD\n",
    "BBCC\n",
    "EEEC\"\"\"\n",
    "data_test = test_data.splitlines()"
   ]
  },
  {
   "cell_type": "code",
   "execution_count": 5,
   "metadata": {},
   "outputs": [
    {
     "data": {
      "text/plain": [
       "(140,\n",
       " ['LLLLLLLLFFFFFFFFFFFFFFIIIIIIIIVVVZZZZZZEEEEEEEEEEEENNKAAKKRRRRRRRRPPPPPPPUIIIIIIIIIIIILLLLLLLLLLLLLUUUUUUUUOOOOOOOOOOOOOOOOSSSSSSDDDDDDDDDDD',\n",
       "  'LLLLLLLLLLLFFFFFFFFFFFFIIIIIVVVVVVZZEEEEEEEEEEEEEEENKKKKKKKRRRRRRPPPPPPPPIIIIIIIIIIIIZLLLLLLLLLLLLUUUUUUUUUUOOOOOOOOOOOOOOOUSSSSSSSDDDDDDDDD',\n",
       "  'LLLLLLFLLFFFFFFFFFFFFIIIIIIIIIVVVZZZZEEEEEEEEEEEEEENKKKKKKKRRRRRRPPPPPPPPPPPPIIIIIILZZLLLLLLLLLLLLUUUUUUUUUUOOOOOOOOOOOOOOOSSSSSSSLRRDDDDDDD',\n",
       "  'LLLLLLFFFFFFFFFFFFFFIIIIIIIIVVVVZZZZZEEEEEEEEEEEEXKKKKKKKKKRRRRPPPPPPPPPPPPPPPIIIIILLLLLLLLLLLLLLLUUUUUUUUOOOOOOOOOOOOOOOOOOSSSSSSRRDDDDDDDD',\n",
       "  'LLLLLLLFFWFFFFFFFFFHHIIIIIIVVVVVVVZVEEEEEEEUEEEEEEYKKKKKKKKKRRRRPPPPPPPPPPPPPIIIIIILLLLLLLLLLLLOOUUUUUUUUUOOOOOOKOOOOOOOOOIUSSSSSSRRDDDDDDDD',\n",
       "  'LLLLLLLLLFFFFFFFFFHHHHHIIIIIVVVVVVVVESEEUUUUEEUUEEEKKKKKKKKWRRRRPPPPPPPPPPPPPIIXXXXMLLLLLLLLLLOOUUUUUUUUUUKKKKOKKOOOOOOOOZUUUSXRSRRRRDDDDDDD',\n",
       "  'LLLLLLLLLLLLFFFFFFFHHHHHIIIIIVVVVVVVVSSEUUUUEEUUEHHKKKKKKKKWRRRRPPPPPPPPPPPPPPIIXXXXLLLLSLXLOLOOUUUUUUUUKKKKKKKKOOOOOOOOZZZUUURRSRRRRRDDDDDD',\n",
       "  'LLLLLLLKKLKKFFFFFFHHHHHHHHIIIVVVVVVVVSSSSUUUUUUUHHHHKKKKKKKKKKXRXPPPPPPPPPPPPPPPXXXXXXXLLXXXOOOOUUUUUUUKKKKKKKKKOOOOOOZZZZUUUURRRRRRRRRRRDDD',\n",
       "  'LLLLLKKKKLKKFFFFFHHHHHHHHHIIIIVVVVVVVSSSUUUUUUUUUHIHKKKKKKKKKKXXXPPPPPPPPPPPPIIIIXXXXXXLXXXWOOOOUUUUUUUUUKKKKKKIKZOOOOZZZUURRUURRRRRRRRRRDDD',\n",
       "  'LLLKKKKKKLKMMMFAFHHHHHHHASSSINVVVVVVVVSSSUUUUUUUUIIIQQQKEEEKKKXPPPGGPPPPPDDDPIIXXXXXXXXXXXWWWWOOOUUUUUUUKKKKKKKKKZZZZZZZUUURRRRRRRRRRSSSDDDD'])"
      ]
     },
     "execution_count": 5,
     "metadata": {},
     "output_type": "execute_result"
    }
   ],
   "source": [
    "data = puzzle.input_data.splitlines()\n",
    "len(data), data[:10]"
   ]
  },
  {
   "cell_type": "code",
   "execution_count": 6,
   "metadata": {},
   "outputs": [],
   "source": [
    "def get_regions(G):\n",
    "    regions = defaultdict(list)\n",
    "    stack = set(G.keys())\n",
    "    while len(stack):\n",
    "        start = stack.pop()\n",
    "        region = set([start])\n",
    "        region_stack = set([start])\n",
    "        plant = G[start]\n",
    "        while len(region_stack):\n",
    "            nxt = region_stack.pop()\n",
    "            for d in [-1, 1, -1j, +1j]:\n",
    "                nbr = nxt+d\n",
    "                if nbr in region_stack:\n",
    "                    continue\n",
    "                if nbr in G and G[nbr] == plant and nbr not in region:\n",
    "                    region_stack.add(nbr)\n",
    "                    region.add(nbr)\n",
    "                    if nbr in stack:\n",
    "                        stack.remove(nbr)\n",
    "        regions[plant].append(region)\n",
    "    return regions\n",
    "\n",
    "def get_area(region):\n",
    "    area = len(region) * 4\n",
    "    for plot in region:\n",
    "        for d in [-1, 1, -1j, +1j]:\n",
    "            nbr = plot + d\n",
    "            if nbr in region:\n",
    "                area -= 1\n",
    "    return area\n"
   ]
  },
  {
   "cell_type": "code",
   "execution_count": 7,
   "metadata": {},
   "outputs": [],
   "source": [
    "# d = data_test\n",
    "d = data\n",
    "G = {(i + 1j * j): char for j, line in enumerate(d) for i, char in enumerate(line)}"
   ]
  },
  {
   "cell_type": "code",
   "execution_count": 8,
   "metadata": {},
   "outputs": [
    {
     "data": {
      "text/plain": [
       "1377008"
      ]
     },
     "execution_count": 8,
     "metadata": {},
     "output_type": "execute_result"
    }
   ],
   "source": [
    "regions = get_regions(G)\n",
    "res = sum([get_area(region)*len(region) for plant, regions in regions.items() for region in regions])\n",
    "res"
   ]
  },
  {
   "cell_type": "code",
   "execution_count": 48,
   "metadata": {},
   "outputs": [
    {
     "name": "stdout",
     "output_type": "stream",
     "text": [
      "\u001b[32mThat's the right answer!  You are one gold star closer to finding the Chief Historian. [Continue to Part Two]\u001b[0m\n"
     ]
    }
   ],
   "source": [
    "puzzle.answer_a = res"
   ]
  },
  {
   "cell_type": "code",
   "execution_count": 9,
   "metadata": {},
   "outputs": [],
   "source": [
    "# part 2"
   ]
  },
  {
   "cell_type": "code",
   "execution_count": 10,
   "metadata": {},
   "outputs": [],
   "source": [
    "def get_sides(region):\n",
    "    directions = [-1, 1, -1j, +1j]\n",
    "    diag = [-1-1j, -1+1j, 1-1j, 1+1j]\n",
    "    corners = 0\n",
    "    if len(region) == 1:\n",
    "        return 4\n",
    "    for plot in region:\n",
    "        store = corners\n",
    "        nbrs = []\n",
    "        for d in directions:\n",
    "            nbr = plot + d\n",
    "            if nbr in region:\n",
    "                nbrs.append(d)\n",
    "        num_nbrs = len(nbrs)\n",
    "        sum_nbrs = sum(nbrs)\n",
    "        # print(\"### \", plot, num_nbrs, sum_nbrs)\n",
    "        match num_nbrs:\n",
    "            case 4:\n",
    "                for d in diag:\n",
    "                    if plot+d not in region:\n",
    "                        corners += 1\n",
    "            case 1:\n",
    "                corners += 2\n",
    "            case 2:\n",
    "                if sum_nbrs == 0:\n",
    "                    continue\n",
    "                    \n",
    "                if (sum_nbrs + plot) in region:\n",
    "                    corners += 1\n",
    "                else:\n",
    "                    corners += 2\n",
    "            case 3:\n",
    "                for d in [-1j, 1j]:\n",
    "                    if (plot + (sum_nbrs * d) + sum_nbrs) not in region:\n",
    "                        corners += 1\n",
    "        # print(corners - store)\n",
    "    return corners"
   ]
  },
  {
   "cell_type": "code",
   "execution_count": 14,
   "metadata": {},
   "outputs": [],
   "source": [
    "test_data = \"\"\"OOOOO\n",
    "OXOXO\n",
    "OOOOO\n",
    "OXOXO\n",
    "OOOOO\"\"\"\n",
    "test_data = \"\"\"RRRRIICCFF\n",
    "RRRRIICCCF\n",
    "VVRRRCCFFF\n",
    "VVRCCCJFFF\n",
    "VVVVCJJCFE\n",
    "VVIVCCJJEE\n",
    "VVIIICJJEE\n",
    "MIIIIIJJEE\n",
    "MIIISIJEEE\n",
    "MMMISSJEEE\"\"\"\n",
    "test_data = \"\"\"AAAAAAAAAA\n",
    "ABBBBBBBBA\n",
    "ABAAAAAAAA\n",
    "ABABBBBBBB\n",
    "ABABBBBBBB\n",
    "ABABBBBBBB\n",
    "AAABBBBBBB\n",
    "CCCCCCCCCC\n",
    "CCCCCCCCCC\n",
    "CCCCCCCCCC\"\"\"\n",
    "data_test = test_data.splitlines()"
   ]
  },
  {
   "cell_type": "code",
   "execution_count": 17,
   "metadata": {},
   "outputs": [],
   "source": [
    "# d = data_test\n",
    "d = data\n",
    "G = {(i + 1j * j): char for j, line in enumerate(d) for i, char in enumerate(line)}"
   ]
  },
  {
   "cell_type": "code",
   "execution_count": 18,
   "metadata": {},
   "outputs": [
    {
     "data": {
      "text/plain": [
       "815788"
      ]
     },
     "execution_count": 18,
     "metadata": {},
     "output_type": "execute_result"
    }
   ],
   "source": [
    "regions = get_regions(G)\n",
    "res = sum([len(region)*get_sides(region) for plant, regions in regions.items() for region in regions])\n",
    "res"
   ]
  },
  {
   "cell_type": "code",
   "execution_count": 146,
   "metadata": {},
   "outputs": [
    {
     "name": "stdout",
     "output_type": "stream",
     "text": [
      "\u001b[32mThat's the right answer!  You are one gold star closer to finding the Chief Historian.You have completed Day 12! You can [Shareon\n",
      "  Bluesky\n",
      "Twitter\n",
      "Mastodon] this victory or [Return to Your Advent Calendar].\u001b[0m\n"
     ]
    }
   ],
   "source": [
    "puzzle.answer_b = res"
   ]
  },
  {
   "cell_type": "code",
   "execution_count": null,
   "metadata": {},
   "outputs": [],
   "source": []
  }
 ],
 "metadata": {
  "kernelspec": {
   "display_name": "py310",
   "language": "python",
   "name": "py310"
  },
  "language_info": {
   "codemirror_mode": {
    "name": "ipython",
    "version": 3
   },
   "file_extension": ".py",
   "mimetype": "text/x-python",
   "name": "python",
   "nbconvert_exporter": "python",
   "pygments_lexer": "ipython3",
   "version": "3.10.2"
  }
 },
 "nbformat": 4,
 "nbformat_minor": 4
}
