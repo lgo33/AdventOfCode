{
 "cells": [
  {
   "cell_type": "code",
   "execution_count": 1,
   "metadata": {},
   "outputs": [],
   "source": [
    "import os\n",
    "os.environ['AOC_SESSION'] = '53616c7465645f5f37c74a4bd1a2394b4fa5dcbb449244bb183873f839c409c1c2b5d3191175e6de6040979aeb78f7894665a168392bc55c2d58d905f027b397'"
   ]
  },
  {
   "cell_type": "code",
   "execution_count": 2,
   "metadata": {},
   "outputs": [],
   "source": [
    "import aocd\n",
    "from aocd.models import Puzzle\n",
    "day = 22\n",
    "year = 2024\n",
    "puzzle = Puzzle(year=year, day=day)\n",
    "# data = aocd.get_data(day=day, year=year)\n",
    "with open('./data/input_{:02d}'.format(day), 'w') as fh:\n",
    "    fh.write(puzzle.input_data)"
   ]
  },
  {
   "cell_type": "code",
   "execution_count": 161,
   "metadata": {},
   "outputs": [],
   "source": [
    "import numpy as np\n",
    "from itertools import product\n",
    "from collections import defaultdict"
   ]
  },
  {
   "cell_type": "code",
   "execution_count": 126,
   "metadata": {},
   "outputs": [],
   "source": [
    "test_data = \"\"\"123\n",
    "1\n",
    "10\n",
    "100\n",
    "2024\"\"\"\n",
    "data_test = test_data.splitlines()"
   ]
  },
  {
   "cell_type": "code",
   "execution_count": 4,
   "metadata": {},
   "outputs": [
    {
     "data": {
      "text/plain": [
       "(1787,\n",
       " ['11039925',\n",
       "  '7437815',\n",
       "  '11477663',\n",
       "  '9656683',\n",
       "  '13355289',\n",
       "  '13392160',\n",
       "  '8479502',\n",
       "  '8227148',\n",
       "  '13059460',\n",
       "  '6689101'])"
      ]
     },
     "execution_count": 4,
     "metadata": {},
     "output_type": "execute_result"
    }
   ],
   "source": [
    "data = puzzle.input_data.splitlines()\n",
    "len(data), data[:10]"
   ]
  },
  {
   "cell_type": "code",
   "execution_count": 27,
   "metadata": {},
   "outputs": [],
   "source": [
    "mod = 16777216\n",
    "d = data_test\n",
    "# d = data\n",
    "nums = np.array(list(map(int, d)))"
   ]
  },
  {
   "cell_type": "code",
   "execution_count": 28,
   "metadata": {},
   "outputs": [
    {
     "data": {
      "text/plain": [
       "1787"
      ]
     },
     "execution_count": 28,
     "metadata": {},
     "output_type": "execute_result"
    }
   ],
   "source": [
    "len(nums)"
   ]
  },
  {
   "cell_type": "code",
   "execution_count": 29,
   "metadata": {},
   "outputs": [
    {
     "name": "stdout",
     "output_type": "stream",
     "text": [
      "CPU times: user 97.4 ms, sys: 36.8 ms, total: 134 ms\n",
      "Wall time: 89.2 ms\n"
     ]
    }
   ],
   "source": [
    "%%time\n",
    "N = 2000\n",
    "for i in range(N):\n",
    "    nums = ((nums << 6) ^ nums) % mod\n",
    "    nums = ((nums >> 5) ^ nums) % mod\n",
    "    nums = ((nums * 2048) ^ nums) % mod"
   ]
  },
  {
   "cell_type": "code",
   "execution_count": 30,
   "metadata": {},
   "outputs": [
    {
     "data": {
      "text/plain": [
       "14869099597"
      ]
     },
     "execution_count": 30,
     "metadata": {},
     "output_type": "execute_result"
    }
   ],
   "source": [
    "# beware: long ints\n",
    "res = int(sum(nums.tolist()))\n",
    "res"
   ]
  },
  {
   "cell_type": "code",
   "execution_count": 31,
   "metadata": {},
   "outputs": [
    {
     "name": "stdout",
     "output_type": "stream",
     "text": [
      "\u001b[32mThat's the right answer!  You are one gold star closer to finding the Chief Historian. [Continue to Part Two]\u001b[0m\n"
     ]
    }
   ],
   "source": [
    "puzzle.answer_a = res"
   ]
  },
  {
   "cell_type": "code",
   "execution_count": 32,
   "metadata": {},
   "outputs": [],
   "source": [
    "# Part 2"
   ]
  },
  {
   "cell_type": "code",
   "execution_count": 167,
   "metadata": {},
   "outputs": [],
   "source": [
    "d = data_test\n",
    "d = data\n",
    "nums = np.array(list(map(int, d)))"
   ]
  },
  {
   "cell_type": "code",
   "execution_count": 168,
   "metadata": {},
   "outputs": [
    {
     "name": "stdout",
     "output_type": "stream",
     "text": [
      "CPU times: user 73.6 ms, sys: 0 ns, total: 73.6 ms\n",
      "Wall time: 72.7 ms\n"
     ]
    }
   ],
   "source": [
    "%%time\n",
    "mod = 16777216\n",
    "N = 2000\n",
    "secrets = np.zeros((N+1, len(d)), dtype=np.int64)\n",
    "secrets[0, :] = nums\n",
    "\n",
    "for i in range(1, N+1):\n",
    "    secrets[i, :] = ((secrets[i-1, :] << 6) ^ secrets[i-1, :]) % mod\n",
    "    secrets[i, :] = ((secrets[i, :] >> 5) ^ secrets[i, :]) % mod\n",
    "    secrets[i, :] = ((secrets[i, :] * 2048) ^ secrets[i, :]) % mod"
   ]
  },
  {
   "cell_type": "code",
   "execution_count": 169,
   "metadata": {},
   "outputs": [],
   "source": [
    "prices = secrets % 10\n",
    "diffs = np.diff(prices, axis=0)"
   ]
  },
  {
   "cell_type": "code",
   "execution_count": 170,
   "metadata": {},
   "outputs": [
    {
     "name": "stdout",
     "output_type": "stream",
     "text": [
      "CPU times: user 16.1 s, sys: 3.38 ms, total: 16.1 s\n",
      "Wall time: 16.2 s\n"
     ]
    }
   ],
   "source": [
    "%%time\n",
    "nm = len(d)\n",
    "fnd = [{} for i in range(nm)]\n",
    "all_idx = defaultdict(int)\n",
    "    \n",
    "for i in np.arange(N-3):\n",
    "    for j in range(nm):\n",
    "        idx = tuple(diffs[i:i+4, j])\n",
    "        if idx not in fnd[j]:\n",
    "            all_idx[idx] += prices[i+4, j]\n",
    "            fnd[j][idx] = prices[i+4, j]\n",
    "    \n",
    "    "
   ]
  },
  {
   "cell_type": "code",
   "execution_count": 172,
   "metadata": {},
   "outputs": [
    {
     "data": {
      "text/plain": [
       "1717"
      ]
     },
     "execution_count": 172,
     "metadata": {},
     "output_type": "execute_result"
    }
   ],
   "source": [
    "res = max(all_idx.values())\n",
    "res"
   ]
  },
  {
   "cell_type": "code",
   "execution_count": 158,
   "metadata": {},
   "outputs": [],
   "source": [
    "puzzle.answer_b = res"
   ]
  },
  {
   "cell_type": "code",
   "execution_count": 173,
   "metadata": {},
   "outputs": [],
   "source": [
    "####"
   ]
  },
  {
   "cell_type": "code",
   "execution_count": 160,
   "metadata": {},
   "outputs": [
    {
     "name": "stdout",
     "output_type": "stream",
     "text": [
      "14869099597 1717\n",
      "CPU times: user 6.76 s, sys: 3.43 ms, total: 6.76 s\n",
      "Wall time: 6.78 s\n"
     ]
    }
   ],
   "source": [
    "%%time\n",
    "# 4HbQ\n",
    "from collections import defaultdict\n",
    "from itertools import pairwise\n",
    "\n",
    "\n",
    "def f(s):\n",
    "    s ^= s << 6 & 0xFFFFFF\n",
    "    s ^= s >> 5 & 0xFFFFFF\n",
    "    return s ^ s << 11 & 0xFFFFFF\n",
    "\n",
    "\n",
    "ans1, ans2 = 0, defaultdict(int)\n",
    "\n",
    "for s in map(int, open('data/input_22')):\n",
    "    nums = [s] + [s := f(s) for _ in range(2000)]\n",
    "    ans1 += nums[-1]\n",
    "\n",
    "    diffs = [b%10-a%10 for a,b in pairwise(nums)]\n",
    "\n",
    "    seen = set()\n",
    "    for i in range(len(nums)-4):\n",
    "        pat = tuple(diffs[i:i+4])\n",
    "        if pat not in seen:\n",
    "            ans2[pat] += nums[i+4] % 10\n",
    "            seen.add(pat)\n",
    "\n",
    "print(ans1, max(ans2.values()))"
   ]
  },
  {
   "cell_type": "code",
   "execution_count": null,
   "metadata": {},
   "outputs": [],
   "source": []
  }
 ],
 "metadata": {
  "kernelspec": {
   "display_name": "py310",
   "language": "python",
   "name": "py310"
  },
  "language_info": {
   "codemirror_mode": {
    "name": "ipython",
    "version": 3
   },
   "file_extension": ".py",
   "mimetype": "text/x-python",
   "name": "python",
   "nbconvert_exporter": "python",
   "pygments_lexer": "ipython3",
   "version": "3.10.2"
  }
 },
 "nbformat": 4,
 "nbformat_minor": 4
}
