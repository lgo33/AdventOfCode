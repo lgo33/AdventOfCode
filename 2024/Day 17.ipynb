{
 "cells": [
  {
   "cell_type": "code",
   "execution_count": 1,
   "metadata": {},
   "outputs": [],
   "source": [
    "import os\n",
    "os.environ['AOC_SESSION'] = '53616c7465645f5f37c74a4bd1a2394b4fa5dcbb449244bb183873f839c409c1c2b5d3191175e6de6040979aeb78f7894665a168392bc55c2d58d905f027b397'"
   ]
  },
  {
   "cell_type": "code",
   "execution_count": 2,
   "metadata": {},
   "outputs": [],
   "source": [
    "import aocd\n",
    "from aocd.models import Puzzle\n",
    "day = 17\n",
    "year = 2024\n",
    "puzzle = Puzzle(year=year, day=day)\n",
    "# data = aocd.get_data(day=day, year=year)\n",
    "with open('./data/input_{:02d}'.format(day), 'w') as fh:\n",
    "    fh.write(puzzle.input_data)"
   ]
  },
  {
   "cell_type": "code",
   "execution_count": 3,
   "metadata": {},
   "outputs": [],
   "source": [
    "test_data = \"\"\"0,1,2,3\"\"\"\n",
    "data_test = test_data.splitlines()"
   ]
  },
  {
   "cell_type": "code",
   "execution_count": 4,
   "metadata": {},
   "outputs": [
    {
     "data": {
      "text/plain": [
       "(5,\n",
       " ['Register A: 37283687',\n",
       "  'Register B: 0',\n",
       "  'Register C: 0',\n",
       "  '',\n",
       "  'Program: 2,4,1,3,7,5,4,1,1,3,0,3,5,5,3,0'])"
      ]
     },
     "execution_count": 4,
     "metadata": {},
     "output_type": "execute_result"
    }
   ],
   "source": [
    "data = puzzle.input_data.splitlines()\n",
    "len(data), data[:10]"
   ]
  },
  {
   "cell_type": "code",
   "execution_count": 298,
   "metadata": {},
   "outputs": [],
   "source": [
    "class CPU():\n",
    "    opmap = {\n",
    "        0: \"adv\",\n",
    "        1: \"bxl\",\n",
    "        2: \"bst\",\n",
    "        3: \"jnz\",\n",
    "        4: \"bxc\",\n",
    "        5: \"out\",\n",
    "        6: \"bdv\",\n",
    "        7: \"cdv\",\n",
    "    }\n",
    "    \n",
    "    def __init__(self, program: str=\"\", A=0, B=0, C=0, debug=False, replicate=False):\n",
    "        self.A = A\n",
    "        self.B = B\n",
    "        self.C = C\n",
    "        self.ip = 0\n",
    "        self.instructions = []\n",
    "        self.Ni = 0\n",
    "        self.debug = debug\n",
    "        self.output = []\n",
    "        self.exit = False\n",
    "        self.replicate = replicate\n",
    "        if program:\n",
    "            self.load(program)\n",
    "            \n",
    "    def load(self, program):\n",
    "        self.instructions = list(map(int, program.split(',')))\n",
    "        self.Ni = len(self.instructions)\n",
    "        \n",
    "    def get_combo_operand(self, operand):\n",
    "        # if operand == 7:\n",
    "        #     raise ValueError\n",
    "        match operand:\n",
    "            case 4:\n",
    "                operand = self.A\n",
    "            case 5:\n",
    "                operand = self.B\n",
    "            case 6:\n",
    "                operand = self.C\n",
    "        return operand\n",
    "    \n",
    "    def execute(self, op, operand):\n",
    "        combo_operand = self.get_combo_operand(operand)\n",
    "        match op:\n",
    "            case 0:\n",
    "                self._adv(combo_operand)\n",
    "            case 1:\n",
    "                self._bxl(operand)\n",
    "            case 2:\n",
    "                self._bst(combo_operand)\n",
    "            case 3:\n",
    "                self._jnz(operand)\n",
    "            case 4:\n",
    "                self._bxc(operand)\n",
    "            case 5:\n",
    "                self._out(combo_operand)\n",
    "            case 6:\n",
    "                self._bdv(combo_operand)\n",
    "            case 7:\n",
    "                self._cdv(combo_operand)\n",
    "    \n",
    "    def state(self, end=\"\\n\"):\n",
    "        if self.debug:\n",
    "            print(f\"A: {self.A}, \\tB: {self.B}, \\t\\tC: {self.C}\", end=end)\n",
    "                \n",
    "    def run(self):\n",
    "        while self.ip <= self.Ni-1:\n",
    "            op, operand = self.instructions[self.ip: self.ip+2]\n",
    "            if self.debug:\n",
    "                print(f\"executing: {CPU.opmap[op]} <- {operand} \\t\", end=\"\")\n",
    "            self.state()\n",
    "            self.execute(op, operand)\n",
    "            # if self.exit:\n",
    "            #     return False\n",
    "            self.ip += 2\n",
    "        return True\n",
    "    \n",
    "    def reset(self, A=0, B=0, C=0):\n",
    "        self.A = A\n",
    "        self.B = B\n",
    "        self.C = C\n",
    "        self.exit = False\n",
    "        self.ip = 0\n",
    "        self.output = []\n",
    "    \n",
    "    def _adv(self, o):\n",
    "        self.A = int(self.A / pow(2, o))\n",
    "    \n",
    "    def _bxl(self, o):\n",
    "        self.B = self.B ^ o\n",
    "    \n",
    "    def _bst(self, o):\n",
    "        self.B = o % 8\n",
    "    \n",
    "    def _jnz(self, o):\n",
    "        if self.A != 0:\n",
    "            self.ip = o-2\n",
    "            \n",
    "    def _bxc(self, o):\n",
    "        self.B = self.B ^ self.C\n",
    "        \n",
    "    def _out(self, o):\n",
    "        out = o%8\n",
    "        # print(\"out: \", out, end='\\n')\n",
    "        self.output.append(out)\n",
    "        if self.replicate:\n",
    "            if self.output[-1] != self.instructions[len(self.output)-1]:\n",
    "                self.exit = True\n",
    "    \n",
    "    def _bdv(self, o):\n",
    "        self.B = int(self.A / pow(2, o))\n",
    "        \n",
    "    def _cdv(self, o):\n",
    "        self.C = int(self.A / pow(2, o))\n",
    "        "
   ]
  },
  {
   "cell_type": "code",
   "execution_count": 211,
   "metadata": {},
   "outputs": [],
   "source": [
    "A, data = 37283687, \"\"\"2,4,1,3,7,5,4,1,1,3,0,3,5,5,3,0\"\"\"\n",
    "# A, data = 729, \"\"\"0,1,5,4,3,0\"\"\""
   ]
  },
  {
   "cell_type": "code",
   "execution_count": 169,
   "metadata": {},
   "outputs": [],
   "source": [
    "cpu = CPU(program=data, A=A, debug=False)"
   ]
  },
  {
   "cell_type": "code",
   "execution_count": 170,
   "metadata": {},
   "outputs": [
    {
     "data": {
      "text/plain": [
       "True"
      ]
     },
     "execution_count": 170,
     "metadata": {},
     "output_type": "execute_result"
    }
   ],
   "source": [
    "cpu.run()"
   ]
  },
  {
   "cell_type": "code",
   "execution_count": 171,
   "metadata": {},
   "outputs": [
    {
     "data": {
      "text/plain": [
       "'1,5,3,0,2,5,2,5,3'"
      ]
     },
     "execution_count": 171,
     "metadata": {},
     "output_type": "execute_result"
    }
   ],
   "source": [
    "res = \",\".join(map(str, cpu.output))\n",
    "res"
   ]
  },
  {
   "cell_type": "code",
   "execution_count": 103,
   "metadata": {},
   "outputs": [
    {
     "name": "stdout",
     "output_type": "stream",
     "text": [
      "\u001b[32mThat's the right answer!  You are one gold star closer to finding the Chief Historian. [Continue to Part Two]\u001b[0m\n"
     ]
    }
   ],
   "source": [
    "puzzle.answer_a = res"
   ]
  },
  {
   "cell_type": "code",
   "execution_count": 214,
   "metadata": {},
   "outputs": [],
   "source": [
    "# Part 2"
   ]
  },
  {
   "cell_type": "code",
   "execution_count": 546,
   "metadata": {},
   "outputs": [
    {
     "data": {
      "text/plain": [
       "(2290495, 286306, 286311, 2)"
      ]
     },
     "execution_count": 546,
     "metadata": {},
     "output_type": "execute_result"
    }
   ],
   "source": [
    "# extract algorithm\n",
    "A = 18323965\n",
    "B = ((A%8) ^ 3)\n",
    "C = A // 2**B\n",
    "B = B ^ C\n",
    "B = B ^ 3\n",
    "A = A // 2**3\n",
    "out = B % 8\n",
    "# conclusion: after each loop we strip the last 3-bits and to get the full output we need the loop to run 15 times: 46 to 48 bit number\n",
    "# we can construct a possible solution by iterating over all possible 3-bit numbers and construct the output in reverse\n",
    "\n",
    "A, B, C, out\n"
   ]
  },
  {
   "cell_type": "code",
   "execution_count": 250,
   "metadata": {},
   "outputs": [],
   "source": [
    "# debug computation\n",
    "def comp(A):\n",
    "    B = ((A%8) ^ 3)\n",
    "    # C = A // 2**B\n",
    "    B = B ^ (A // 2**B)\n",
    "    B = B ^ 3\n",
    "    A = A // 2**3\n",
    "    return B % 8\n"
   ]
  },
  {
   "cell_type": "code",
   "execution_count": 548,
   "metadata": {},
   "outputs": [
    {
     "name": "stdout",
     "output_type": "stream",
     "text": [
      "CPU times: user 110 ms, sys: 3 µs, total: 110 ms\n",
      "Wall time: 109 ms\n"
     ]
    }
   ],
   "source": [
    "%%time\n",
    "i = 0\n",
    "longest_match = 0\n",
    "cpu = CPU(program=data, A = i, replicate=False)\n",
    "# cpu = CPU(program=\"0,3,5,4,3,0\", A = i, replicate=True)\n",
    "\n",
    "N = len(cpu.instructions)\n",
    "stack = [[]]\n",
    "results = []\n",
    "while len(stack):\n",
    "    res = stack.pop()\n",
    "    i = len(res) + 1\n",
    "    for j in range(8):\n",
    "        binj = format(j, '03b')\n",
    "        num = \"\".join(res) + binj\n",
    "        num = num.ljust(48, '1')\n",
    "        # print(num)\n",
    "        cpu.reset(A=int(num, 2))\n",
    "        cpu.run()\n",
    "        if (len(cpu.output) == len(cpu.instructions)) and (cpu.output[-i] == cpu.instructions[-i]):\n",
    "            # print(j, i, binj, num, \"!\")\n",
    "            # print(cpu.output, cpu.instructions, res)\n",
    "            new_res = res + [binj]\n",
    "            if i == 16 and (cpu.output[0] == cpu.instructions[0]):\n",
    "                results.append(new_res)\n",
    "            else:\n",
    "                # print(res)\n",
    "                stack.append(new_res)\n"
   ]
  },
  {
   "cell_type": "code",
   "execution_count": 549,
   "metadata": {},
   "outputs": [
    {
     "data": {
      "text/plain": [
       "['011_000_100_101_001_011_000_001_000_101_111_001_100_111_111_101']"
      ]
     },
     "execution_count": 549,
     "metadata": {},
     "output_type": "execute_result"
    }
   ],
   "source": [
    "candidates = [\"_\".join(x) for x in results]\n",
    "sorted(candidates)"
   ]
  },
  {
   "cell_type": "code",
   "execution_count": 544,
   "metadata": {},
   "outputs": [
    {
     "name": "stdout",
     "output_type": "stream",
     "text": [
      "[2, 4, 1, 3, 7, 5, 4, 1, 1, 3, 0, 3, 5, 5, 3, 0]\n",
      "[2, 4, 1, 3, 7, 5, 4, 1, 1, 3, 0, 3, 5, 5, 3, 0]\n"
     ]
    }
   ],
   "source": [
    "# cpu = CPU(program=data, A = 18323965, replicate=True, debug=True)\n",
    "cpu = CPU(program=data, A = int(sorted(candidates)[0], 2), replicate=True, debug=False)\n",
    "cpu.run()\n",
    "print(cpu.output)\n",
    "print(cpu.instructions)"
   ]
  },
  {
   "cell_type": "code",
   "execution_count": 539,
   "metadata": {},
   "outputs": [
    {
     "name": "stdout",
     "output_type": "stream",
     "text": [
      "\u001b[32mThat's the right answer!  You are one gold star closer to finding the Chief Historian.You have completed Day 17! You can [Shareon\n",
      "  Bluesky\n",
      "Twitter\n",
      "Mastodon] this victory or [Return to Your Advent Calendar].\u001b[0m\n"
     ]
    }
   ],
   "source": [
    "puzzle.answer_b = int(sorted(candidates)[0], 2)"
   ]
  },
  {
   "cell_type": "code",
   "execution_count": 550,
   "metadata": {},
   "outputs": [
    {
     "data": {
      "text/plain": [
       "108107566389757"
      ]
     },
     "execution_count": 550,
     "metadata": {},
     "output_type": "execute_result"
    }
   ],
   "source": [
    "int(sorted(candidates)[0], 2)"
   ]
  },
  {
   "cell_type": "code",
   "execution_count": 551,
   "metadata": {},
   "outputs": [
    {
     "data": {
      "text/plain": [
       "['011_000_100_101_001_011_000_001_000_101_111_001_100_111_111_101']"
      ]
     },
     "execution_count": 551,
     "metadata": {},
     "output_type": "execute_result"
    }
   ],
   "source": [
    "candidates"
   ]
  },
  {
   "cell_type": "code",
   "execution_count": 556,
   "metadata": {},
   "outputs": [
    {
     "name": "stdout",
     "output_type": "stream",
     "text": [
      "1,5,3,0,2,5,2,5,3\n",
      "108107566389757\n"
     ]
    }
   ],
   "source": [
    "import re\n",
    "\n",
    "a, b, c, *prog = map(int, re.findall(r'\\d+', \n",
    "                     open('./data/input_17').read()))\n",
    "\n",
    "def eval(a, b, c, i=0, R=[]):\n",
    "    while i in range(len(prog)):\n",
    "        C = {0:0,1:1,2:2,3:3,4:a,5:b,6:c}\n",
    "\n",
    "        match prog[i:i+2]:\n",
    "            case 0, op: a = a >> C[op]\n",
    "            case 1, op: b = b ^ op\n",
    "            case 2, op: b = 7 & C[op]\n",
    "            case 3, op: i = op-2 if a else i\n",
    "            case 4, op: b = b ^ c\n",
    "            case 5, op: R = R + [C[op] & 7]\n",
    "            case 6, op: b = a >> C[op]\n",
    "            case 7, op: c = a >> C[op]\n",
    "        i += 2\n",
    "    return R\n",
    "\n",
    "print(*eval(a,b,c), sep=',')\n",
    "\n",
    "\n",
    "def find(a, i):\n",
    "    if eval(a, b, c) == prog: print(a)\n",
    "    if eval(a, b, c) == prog[-i:] or not i:\n",
    "        for n in range(8): find(8*a+n, i+1)\n",
    "\n",
    "find(0, 0)"
   ]
  },
  {
   "cell_type": "code",
   "execution_count": 553,
   "metadata": {},
   "outputs": [
    {
     "data": {
      "text/plain": [
       "[2, 4, 1, 3, 7, 5, 4, 1, 1, 3, 0, 3, 5, 5, 3, 0]"
      ]
     },
     "execution_count": 553,
     "metadata": {},
     "output_type": "execute_result"
    }
   ],
   "source": [
    "prog"
   ]
  },
  {
   "cell_type": "code",
   "execution_count": 561,
   "metadata": {},
   "outputs": [
    {
     "name": "stdout",
     "output_type": "stream",
     "text": [
      "108107566389757\n"
     ]
    }
   ],
   "source": [
    "find(0, 0)"
   ]
  },
  {
   "cell_type": "code",
   "execution_count": 562,
   "metadata": {},
   "outputs": [
    {
     "name": "stdout",
     "output_type": "stream",
     "text": [
      "[1, 3, 0, 3, 5, 5, 3, 0]\n",
      "[2, 4, 1, 3, 7, 5, 4, 1, 1, 3, 0, 3, 5, 5, 3, 0]\n"
     ]
    }
   ],
   "source": [
    "# cpu = CPU(program=data, A = 18323965, replicate=True, debug=True)\n",
    "cpu = CPU(program=data, A = 0b011_000_100_101_001_011_000_001, replicate=True, debug=False)\n",
    "cpu.run()\n",
    "print(cpu.output)\n",
    "print(cpu.instructions)"
   ]
  },
  {
   "cell_type": "code",
   "execution_count": null,
   "metadata": {},
   "outputs": [],
   "source": []
  }
 ],
 "metadata": {
  "kernelspec": {
   "display_name": "py310",
   "language": "python",
   "name": "py310"
  },
  "language_info": {
   "codemirror_mode": {
    "name": "ipython",
    "version": 3
   },
   "file_extension": ".py",
   "mimetype": "text/x-python",
   "name": "python",
   "nbconvert_exporter": "python",
   "pygments_lexer": "ipython3",
   "version": "3.10.2"
  }
 },
 "nbformat": 4,
 "nbformat_minor": 4
}
