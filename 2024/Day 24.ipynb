{
 "cells": [
  {
   "cell_type": "code",
   "execution_count": 1,
   "metadata": {},
   "outputs": [],
   "source": [
    "import os\n",
    "os.environ['AOC_SESSION'] = '53616c7465645f5f37c74a4bd1a2394b4fa5dcbb449244bb183873f839c409c1c2b5d3191175e6de6040979aeb78f7894665a168392bc55c2d58d905f027b397'"
   ]
  },
  {
   "cell_type": "code",
   "execution_count": 2,
   "metadata": {},
   "outputs": [],
   "source": [
    "import aocd\n",
    "from aocd.models import Puzzle\n",
    "day = 24\n",
    "year = 2024\n",
    "puzzle = Puzzle(year=year, day=day)\n",
    "# data = aocd.get_data(day=day, year=year)\n",
    "with open('./data/input_{:02d}'.format(day), 'w') as fh:\n",
    "    fh.write(puzzle.input_data)"
   ]
  },
  {
   "cell_type": "code",
   "execution_count": 526,
   "metadata": {},
   "outputs": [],
   "source": [
    "import operator\n",
    "from collections import defaultdict\n",
    "import random\n",
    "from itertools import combinations\n",
    "from statistics import median"
   ]
  },
  {
   "cell_type": "code",
   "execution_count": 5,
   "metadata": {},
   "outputs": [],
   "source": [
    "test_data = \"\"\"x00: 1\n",
    "x01: 0\n",
    "x02: 1\n",
    "x03: 1\n",
    "x04: 0\n",
    "y00: 1\n",
    "y01: 1\n",
    "y02: 1\n",
    "y03: 1\n",
    "y04: 1\n",
    "\n",
    "ntg XOR fgs -> mjb\n",
    "y02 OR x01 -> tnw\n",
    "kwq OR kpj -> z05\n",
    "x00 OR x03 -> fst\n",
    "tgd XOR rvg -> z01\n",
    "vdt OR tnw -> bfw\n",
    "bfw AND frj -> z10\n",
    "ffh OR nrd -> bqk\n",
    "y00 AND y03 -> djm\n",
    "y03 OR y00 -> psh\n",
    "bqk OR frj -> z08\n",
    "tnw OR fst -> frj\n",
    "gnj AND tgd -> z11\n",
    "bfw XOR mjb -> z00\n",
    "x03 OR x00 -> vdt\n",
    "gnj AND wpb -> z02\n",
    "x04 AND y00 -> kjc\n",
    "djm OR pbm -> qhw\n",
    "nrd AND vdt -> hwm\n",
    "kjc AND fst -> rvg\n",
    "y04 OR y02 -> fgs\n",
    "y01 AND x02 -> pbm\n",
    "ntg OR kjc -> kwq\n",
    "psh XOR fgs -> tgd\n",
    "qhw XOR tgd -> z09\n",
    "pbm OR djm -> kpj\n",
    "x03 XOR y03 -> ffh\n",
    "x00 XOR y04 -> ntg\n",
    "bfw OR bqk -> z06\n",
    "nrd XOR fgs -> wpb\n",
    "frj XOR qhw -> z04\n",
    "bqk OR frj -> z07\n",
    "y03 OR x01 -> nrd\n",
    "hwm AND bqk -> z03\n",
    "tgd XOR rvg -> z12\n",
    "tnw OR pbm -> gnj\"\"\"\n",
    "data_test = test_data.splitlines()"
   ]
  },
  {
   "cell_type": "code",
   "execution_count": 4,
   "metadata": {},
   "outputs": [
    {
     "data": {
      "text/plain": [
       "(313,\n",
       " ['x00: 1',\n",
       "  'x01: 0',\n",
       "  'x02: 1',\n",
       "  'x03: 1',\n",
       "  'x04: 0',\n",
       "  'x05: 0',\n",
       "  'x06: 1',\n",
       "  'x07: 1',\n",
       "  'x08: 0',\n",
       "  'x09: 1'])"
      ]
     },
     "execution_count": 4,
     "metadata": {},
     "output_type": "execute_result"
    }
   ],
   "source": [
    "data = puzzle.input_data.splitlines()\n",
    "len(data), data[:10]"
   ]
  },
  {
   "cell_type": "code",
   "execution_count": 19,
   "metadata": {},
   "outputs": [
    {
     "data": {
      "text/plain": [
       "\u001b[0;31mSignature:\u001b[0m \u001b[0moperator\u001b[0m\u001b[0;34m.\u001b[0m\u001b[0mor_\u001b[0m\u001b[0;34m(\u001b[0m\u001b[0ma\u001b[0m\u001b[0;34m,\u001b[0m \u001b[0mb\u001b[0m\u001b[0;34m,\u001b[0m \u001b[0;34m/\u001b[0m\u001b[0;34m)\u001b[0m\u001b[0;34m\u001b[0m\u001b[0;34m\u001b[0m\u001b[0m\n",
       "\u001b[0;31mDocstring:\u001b[0m Same as a | b.\n",
       "\u001b[0;31mType:\u001b[0m      builtin_function_or_method\n"
      ]
     },
     "metadata": {},
     "output_type": "display_data"
    }
   ],
   "source": [
    "operator.or_?"
   ]
  },
  {
   "cell_type": "code",
   "execution_count": 706,
   "metadata": {},
   "outputs": [],
   "source": [
    "class Wire():\n",
    "    def __init__(self, val=None):\n",
    "        self.waiting = True\n",
    "        self.val = None\n",
    "        self.set(val)\n",
    "    \n",
    "    def set(self, val):\n",
    "        if val is not None:\n",
    "            self.val = val\n",
    "            self.waiting = False\n",
    "            \n",
    "    def reset(self):\n",
    "        self.val = None\n",
    "        self.waiting = True\n",
    "    \n",
    "    def __repr__(self):\n",
    "        return str(self.val)\n",
    "\n",
    "class Gate():\n",
    "    def __init__(self, in1, in2, out, op, index=-1):\n",
    "        self.waiting = True\n",
    "        self.wire_in1 = in1\n",
    "        self.wire_in2 = in2\n",
    "        self.wire_out = out\n",
    "        self.wire_out_original = out\n",
    "        self.operator_str = op\n",
    "        self.index = index\n",
    "        match op:\n",
    "            case 'AND':\n",
    "                self.operator = operator.and_\n",
    "            case 'OR':\n",
    "                self.operator = operator.or_\n",
    "            case 'XOR':\n",
    "                self.operator = operator.xor\n",
    "        self.is_set1 = False\n",
    "        self.is_set2 = False\n",
    "        self.out = None\n",
    "    \n",
    "    def reset(self):\n",
    "        self.is_set1 = False\n",
    "        self.is_set2 = False\n",
    "        self.out = None\n",
    "        self.wire_out = self.wire_out_original\n",
    "        self.waiting = True\n",
    "        \n",
    "    def set_in1(self, val):\n",
    "        self.in1 = val\n",
    "        self.is_set1 = True\n",
    "        if self.is_set2:\n",
    "            return self.compute()\n",
    "    \n",
    "    def set_in2(self, val):\n",
    "        self.in2 = val\n",
    "        self.is_set2 = True\n",
    "        if self.is_set2:\n",
    "            return self.compute()\n",
    "    \n",
    "    def compute(self):\n",
    "        if self.is_set1 and self.is_set2:\n",
    "            self.waiting = False\n",
    "            self.out = self.operator(self.in1, self.in2)\n",
    "            return self.out\n",
    "        return None\n",
    "            \n",
    "    def __repr__(self):\n",
    "        return f\"{self.wire_in1} {self.operator_str} {self.wire_in2} --> {self.wire_out} : \" + (str(self.out) if self.out is not None else \"X\")\n",
    "        "
   ]
  },
  {
   "cell_type": "code",
   "execution_count": 212,
   "metadata": {},
   "outputs": [],
   "source": [
    "def parse(wires, gates):\n",
    "    wires = {wname: Wire(int(val)) for wname, val in map(lambda w: w.split(\": \"), wires.splitlines())}\n",
    "    \n",
    "    ans_gates = []\n",
    "    for gate in gates.splitlines():\n",
    "        # x00 AND y00 -> z00\n",
    "        in1, op, in2, _ , out = gate.split(' ')\n",
    "        ngate = Gate(in1, in2, out, op)\n",
    "        if in1 in wires and not wires[in1].waiting:\n",
    "            ngate.set_in1(wires[in1].val)\n",
    "        if in2 in wires and not wires[in2].waiting:\n",
    "            ngate.set_in2(wires[in2].val)\n",
    "\n",
    "        ans_gates.append(ngate)\n",
    "        if out not in wires:\n",
    "            wires[out] = Wire()\n",
    "        wires[out].set(ngate.compute())\n",
    "\n",
    "    return wires, ans_gates"
   ]
  },
  {
   "cell_type": "code",
   "execution_count": 213,
   "metadata": {},
   "outputs": [
    {
     "name": "stdout",
     "output_type": "stream",
     "text": [
      "CPU times: user 9.57 ms, sys: 56 µs, total: 9.63 ms\n",
      "Wall time: 7.86 ms\n"
     ]
    }
   ],
   "source": [
    "%%time\n",
    "wires, gates = puzzle.input_data.split('\\n\\n')\n",
    "# wires, gates = test_data.split('\\n\\n')\n",
    "wires, gates = parse(wires, gates)\n",
    "\n",
    "while True:\n",
    "    todo = [gate for gate in gates if gate.waiting]\n",
    "    # print(len(todo))\n",
    "    if len(todo) == 0:\n",
    "        break\n",
    "    for gate in todo:\n",
    "        # print(gate)\n",
    "        if not wires[gate.wire_in1].waiting:\n",
    "            gate.set_in1(wires[gate.wire_in1].val)\n",
    "        if not wires[gate.wire_in2].waiting:\n",
    "            gate.set_in2(wires[gate.wire_in2].val)\n",
    "        res = gate.compute()\n",
    "        if res is not None:\n",
    "            # print(gate, res)\n",
    "            wires[gate.wire_out].set(res)\n",
    "        \n",
    "    if all([wire.val is not None for wname, wire in wires.items() if wname.startswith('z')]):\n",
    "        break\n",
    "            \n",
    "        "
   ]
  },
  {
   "cell_type": "code",
   "execution_count": 149,
   "metadata": {},
   "outputs": [
    {
     "data": {
      "text/plain": [
       "52728619468518"
      ]
     },
     "execution_count": 149,
     "metadata": {},
     "output_type": "execute_result"
    }
   ],
   "source": [
    "tpls = sorted([(wname, wire.val) for wname, wire in wires.items() if wname.startswith('z')])[::-1]\n",
    "binary = \"\".join(str(val) for name, val in tpls)\n",
    "res = int(binary, 2)\n",
    "res"
   ]
  },
  {
   "cell_type": "code",
   "execution_count": 150,
   "metadata": {},
   "outputs": [
    {
     "name": "stdout",
     "output_type": "stream",
     "text": [
      "\u001b[32mThat's the right answer!  You are one gold star closer to finding the Chief Historian. [Continue to Part Two]\u001b[0m\n"
     ]
    }
   ],
   "source": [
    "puzzle.answer_a = res"
   ]
  },
  {
   "cell_type": "code",
   "execution_count": 151,
   "metadata": {},
   "outputs": [],
   "source": [
    "# Part 2"
   ]
  },
  {
   "cell_type": "code",
   "execution_count": 407,
   "metadata": {},
   "outputs": [],
   "source": [
    "test_data2 = \"\"\"x00: 0\n",
    "x01: 1\n",
    "x02: 0\n",
    "x03: 1\n",
    "x04: 0\n",
    "x05: 1\n",
    "y00: 0\n",
    "y01: 0\n",
    "y02: 1\n",
    "y03: 1\n",
    "y04: 0\n",
    "y05: 1\n",
    "\n",
    "x00 AND y00 -> z05\n",
    "x01 AND y01 -> z02\n",
    "x02 AND y02 -> z01\n",
    "x03 AND y03 -> z03\n",
    "x04 AND y04 -> z04\n",
    "x05 AND y05 -> z00\"\"\""
   ]
  },
  {
   "cell_type": "code",
   "execution_count": 478,
   "metadata": {},
   "outputs": [],
   "source": [
    "wires_raw, gates_raw = puzzle.input_data.split('\\n\\n')\n",
    "# wires_raw, gates_raw = test_data2.split('\\n\\n')\n"
   ]
  },
  {
   "cell_type": "code",
   "execution_count": 728,
   "metadata": {},
   "outputs": [],
   "source": [
    "def parse2(wires, gates):\n",
    "    wires = {wname: Wire(int(val)) for wname, val in map(lambda w: w.split(\": \"), wires.splitlines())}\n",
    "    \n",
    "    ans_gates = []\n",
    "    for i, gate in enumerate(gates.splitlines()):\n",
    "        # x00 AND y00 -> z00\n",
    "        in1, op, in2, _ , out = gate.split(' ')\n",
    "        ngate = Gate(in1, in2, out, op, index=i)\n",
    "        ans_gates.append(ngate)\n",
    "    \n",
    "        if out not in wires:\n",
    "                wires[out] = Wire()\n",
    "\n",
    "    return wires, ans_gates\n",
    "\n",
    "def init_wires(a, b, gates, wires, Nbit=45):\n",
    "    for name in wires:\n",
    "        wires[name].reset()\n",
    "        \n",
    "    for i in range(Nbit):\n",
    "        wires[f'x{i:02}'].set((a >> i) & 1)\n",
    "        wires[f'y{i:02}'].set((b >> i) & 1)\n",
    "        \n",
    "    for gate in gates:\n",
    "        gate.reset()\n",
    "    return gates, wires\n",
    "\n",
    "def compute(wires, gates, crosses=[], Nbit=45):\n",
    "    steps = 0\n",
    "    gates = gates[:]\n",
    "    \n",
    "    for cross in crosses:\n",
    "        i, j = cross\n",
    "        gates[i].wire_out, gates[j].wire_out = gates[j].wire_out, gates[i].wire_out\n",
    "        # print(gates[i], gates[j])\n",
    "    \n",
    "    last_len_todo = 1e12\n",
    "    while True:\n",
    "        todo = [gate for gate in gates if gate.waiting]\n",
    "        ntodo = len(todo)\n",
    "        if not ntodo < last_len_todo:\n",
    "            return\n",
    "        last_len_todo = ntodo\n",
    "        # print(len(todo))\n",
    "        if ntodo == 0:\n",
    "            break\n",
    "        for gate in todo:\n",
    "            # print(gate)\n",
    "            if not wires[gate.wire_in1].waiting:\n",
    "                gate.set_in1(wires[gate.wire_in1].val)\n",
    "            if not wires[gate.wire_in2].waiting:\n",
    "                gate.set_in2(wires[gate.wire_in2].val)\n",
    "            res = gate.compute()\n",
    "            if res is not None:\n",
    "                # print(gate, res)\n",
    "                wires[gate.wire_out].set(res)\n",
    "\n",
    "        if all([wire.val is not None for wname, wire in wires.items() if wname.startswith('z')]):\n",
    "            return [(wires[f'z{i:02}'].val) for i in range(Nbit, -1, -1)]\n",
    "            \n",
    "        if steps > 20:\n",
    "            return None\n",
    "        \n",
    "def get_fault_bit(wires, gates, crosses=[], Nbit=45, nchecks=25, fault_bit=None):\n",
    "    result = []\n",
    "    for j in range(nchecks):\n",
    "        a = random.randint(0, 1<<(Nbit-0))\n",
    "        b = random.randint(0, 1<<(Nbit-0))\n",
    "        c = a+b\n",
    "        # wires, gates = parse2(wires_raw, gates_raw)\n",
    "        gates, wires = init_wires(a, b, gates, wires)\n",
    "        \n",
    "        res = compute(wires, gates, crosses=crosses)\n",
    "        if res is None:\n",
    "            return 0\n",
    "        add = int(\"\".join(map(str, res)), 2)\n",
    "        cmp = c ^ add\n",
    "        i = 0\n",
    "        while not cmp & 1:\n",
    "            cmp >>= 1\n",
    "            i += 1\n",
    "            if i == Nbit:\n",
    "                break\n",
    "        if fault_bit is not None:\n",
    "            if i <= fault_bit:\n",
    "                return i\n",
    "        result.append(i)  \n",
    "    return min(result)\n",
    "\n",
    "def get_back_connections(gates, Nbit=45):\n",
    "    bcon = defaultdict(set)\n",
    "    for i in range(Nbit):\n",
    "        search = [f'z{i:02}']\n",
    "        while len(search):\n",
    "            wire_search = search.pop()\n",
    "            nxt = [gate for gate in gates if gate.wire_out == wire_search]\n",
    "            for g in nxt:\n",
    "                bcon[i].add(g)\n",
    "                search.append(g.wire_in1)\n",
    "                search.append(g.wire_in2) \n",
    "    return bcon\n",
    "\n",
    "\n",
    "def check_gate(igate, wires, gates, bcon, crosses=[], Nbit=45):\n",
    "    fault_bit = get_fault_bit(wires, gates, crosses=crosses, Nbit=45, nchecks=5)\n",
    "    # print(fault_bit)\n",
    "    for i, gate in enumerate(gates):\n",
    "        if i == igate:\n",
    "            continue\n",
    "        \n",
    "        res = get_fault_bit(wires, gates, crosses=crosses+[(igate, i)], nchecks=3, fault_bit=fault_bit)\n",
    "        if res > fault_bit:\n",
    "            res = get_fault_bit(wires, gates, crosses=crosses+[(igate, i)], nchecks=25)\n",
    "        if res > fault_bit:\n",
    "            return res, i,\n",
    "    return None, None\n",
    "\n",
    "def find_crosses(wires, gates, bcon, Nbit=45):\n",
    "    crosses = []\n",
    "    fault_bit = get_fault_bit(wires, gates, Nbit=45, nchecks=15)\n",
    "    while len(crosses) < 4:\n",
    "        chk_gates = bcon[fault_bit]            \n",
    "        for i in range(fault_bit):\n",
    "            chk_gates -= bcon[i]\n",
    "        print(f\"checking: {chk_gates}\")\n",
    "        for gate in chk_gates:\n",
    "            igate = gate.index\n",
    "            new_fault_bit, jgate = check_gate(igate, wires, gates, bcon, crosses=crosses, Nbit=45)\n",
    "            if new_fault_bit is not None and new_fault_bit > fault_bit:\n",
    "                fault_bit = new_fault_bit\n",
    "                crosses.append((igate, jgate))\n",
    "                print(crosses, fault_bit)\n",
    "                break\n",
    "    return crosses"
   ]
  },
  {
   "cell_type": "code",
   "execution_count": 729,
   "metadata": {},
   "outputs": [],
   "source": [
    "wires, gates = parse2(wires_raw, gates_raw)"
   ]
  },
  {
   "cell_type": "code",
   "execution_count": 730,
   "metadata": {},
   "outputs": [
    {
     "name": "stdout",
     "output_type": "stream",
     "text": [
      "checking: {x12 AND y12 --> z12 : 0}\n",
      "[(152, 197)] 19\n",
      "checking: {mcc OR cgn --> jcg : 0, x19 XOR y19 --> wmb : 0, msb AND qkr --> mcc : 0, wmb AND jcg --> z19 : 0, y18 AND x18 --> cgn : 0}\n",
      "[(152, 197), (145, 82)] 23\n",
      "checking: {y23 AND x23 --> fgn : 0, fgn XOR shg --> z23 : 0, gtb AND hbj --> kjm : 0, ntn OR kjm --> shg : 0, y22 AND x22 --> ntn : 0}\n",
      "[(152, 197), (145, 82), (5, 184)] 37\n",
      "checking: {bfh OR hpn --> vhp : 0, gng OR qgb --> z37 : 1, vhp AND smb --> qgb : 0, x36 AND y36 --> bfh : 0, y37 XOR x37 --> smb : 0, x37 AND y37 --> gng : 1, rqh AND wvd --> hpn : 0}\n",
      "[(152, 197), (145, 82), (5, 184), (120, 178)] 45\n",
      "CPU times: user 15.2 s, sys: 0 ns, total: 15.2 s\n",
      "Wall time: 15.2 s\n"
     ]
    },
    {
     "data": {
      "text/plain": [
       "[(152, 197), (145, 82), (5, 184), (120, 178)]"
      ]
     },
     "execution_count": 730,
     "metadata": {},
     "output_type": "execute_result"
    }
   ],
   "source": [
    "%%time\n",
    "bcons = get_back_connections(gates)\n",
    "# check_gate(152, wires, gates, bcons, [])\n",
    "crosses = find_crosses(wires, gates, bcons)\n",
    "crosses"
   ]
  },
  {
   "cell_type": "code",
   "execution_count": 740,
   "metadata": {},
   "outputs": [
    {
     "data": {
      "text/plain": [
       "'dck,fgn,nvh,qdg,vvf,z12,z19,z37'"
      ]
     },
     "execution_count": 740,
     "metadata": {},
     "output_type": "execute_result"
    }
   ],
   "source": [
    "res = \",\".join(sorted([gates[igate].wire_out for igate in sum(crosses, start=tuple())]))\n",
    "res"
   ]
  },
  {
   "cell_type": "code",
   "execution_count": 660,
   "metadata": {},
   "outputs": [
    {
     "name": "stdout",
     "output_type": "stream",
     "text": [
      "\u001b[32mThat's the right answer!  You are one gold star closer to finding the Chief Historian.You have completed Day 24! You can [Shareon\n",
      "  Bluesky\n",
      "Twitter\n",
      "Mastodon] this victory or [Return to Your Advent Calendar].\u001b[0m\n"
     ]
    }
   ],
   "source": [
    "puzzle.answer_b = res"
   ]
  },
  {
   "cell_type": "code",
   "execution_count": 700,
   "metadata": {},
   "outputs": [],
   "source": [
    "# analyse connections\n",
    "\n",
    "con = {'x': defaultdict(set), 'y': defaultdict(set)}\n",
    "\n",
    "for i in range(Nbit):\n",
    "    for prefix in 'xy':\n",
    "        search = [f'{prefix}{i:02}']\n",
    "        while len(search):\n",
    "            wire_search = search.pop()\n",
    "            nxt = [gate for gate in gates if gate.wire_in1 == wire_search or gate.wire_in2 == wire_search]\n",
    "            for g in nxt:\n",
    "                con[prefix][i].add(g)\n",
    "                search.append(g.wire_out)\n",
    "# con\n",
    "# all x and y bits are connected with all z bits of higher significance"
   ]
  },
  {
   "cell_type": "code",
   "execution_count": null,
   "metadata": {},
   "outputs": [],
   "source": []
  },
  {
   "cell_type": "code",
   "execution_count": 3,
   "metadata": {},
   "outputs": [
    {
     "name": "stdout",
     "output_type": "stream",
     "text": [
      "52728619468518\n",
      "dck,fgn,nvh,qdg,vvf,z12,z19,z37\n"
     ]
    }
   ],
   "source": [
    "# 4HbQ\n",
    "from operator import xor as XOR, or_ as OR, and_ as AND\n",
    "\n",
    "for l in open('data/input_24'):\n",
    "    try:    a,x,b,_,c = l.split(); exec(f'{c}=lambda:{x}({a}(),{b}())')\n",
    "    except: exec(l.replace(':', '=lambda:'))\n",
    "\n",
    "print(sum(eval(f'z{i:02}()<<{i}') for i in range(46)))\n",
    "\n",
    "\n",
    "\n",
    "lines = [l.split() for l in open('data/input_24') if '->' in l]\n",
    "\n",
    "r = lambda c, y: any(y == x and c in (a, b) for a, x, b, _, _ in lines)\n",
    "\n",
    "print(*sorted(c for a, x, b, _, c in lines if\n",
    "    x == \"XOR\" and all(d[0] not in 'xyz' for d in (a, b, c)) or\n",
    "    x == \"AND\" and not \"x00\" in (a, b) and r(c, 'XOR') or\n",
    "    x == \"XOR\" and not \"x00\" in (a, b) and r(c, 'OR') or\n",
    "    x != \"XOR\" and c[0] == 'z' and c != \"z45\"), sep=',')"
   ]
  },
  {
   "cell_type": "code",
   "execution_count": null,
   "metadata": {},
   "outputs": [],
   "source": []
  }
 ],
 "metadata": {
  "kernelspec": {
   "display_name": "py310",
   "language": "python",
   "name": "py310"
  },
  "language_info": {
   "codemirror_mode": {
    "name": "ipython",
    "version": 3
   },
   "file_extension": ".py",
   "mimetype": "text/x-python",
   "name": "python",
   "nbconvert_exporter": "python",
   "pygments_lexer": "ipython3",
   "version": "3.10.2"
  }
 },
 "nbformat": 4,
 "nbformat_minor": 4
}
