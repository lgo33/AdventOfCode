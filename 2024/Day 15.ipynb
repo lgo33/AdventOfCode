{
 "cells": [
  {
   "cell_type": "code",
   "execution_count": 1,
   "metadata": {},
   "outputs": [],
   "source": [
    "import os\n",
    "os.environ['AOC_SESSION'] = '53616c7465645f5f37c74a4bd1a2394b4fa5dcbb449244bb183873f839c409c1c2b5d3191175e6de6040979aeb78f7894665a168392bc55c2d58d905f027b397'"
   ]
  },
  {
   "cell_type": "code",
   "execution_count": 2,
   "metadata": {},
   "outputs": [],
   "source": [
    "import aocd\n",
    "from aocd.models import Puzzle\n",
    "day = 15\n",
    "year = 2024\n",
    "puzzle = Puzzle(year=year, day=day)\n",
    "# data = aocd.get_data(day=day, year=year)\n",
    "with open('./data/input_{:02d}'.format(day), 'w') as fh:\n",
    "    fh.write(puzzle.input_data)"
   ]
  },
  {
   "cell_type": "code",
   "execution_count": 312,
   "metadata": {},
   "outputs": [],
   "source": [
    "import matplotlib.pyplot as plt\n",
    "import matplotlib.animation as animation\n",
    "import numpy as np"
   ]
  },
  {
   "cell_type": "code",
   "execution_count": 5,
   "metadata": {},
   "outputs": [],
   "source": [
    "test_data = \"\"\"##########\n",
    "#..O..O.O#\n",
    "#......O.#\n",
    "#.OO..O.O#\n",
    "#..O@..O.#\n",
    "#O#..O...#\n",
    "#O..O..O.#\n",
    "#.OO.O.OO#\n",
    "#....O...#\n",
    "##########\n",
    "\n",
    "<vv>^<v^>v>^vv^v>v<>v^v<v<^vv<<<^><<><>>v<vvv<>^v^>^<<<><<v<<<v^vv^v>^\n",
    "vvv<<^>^v^^><<>>><>^<<><^vv^^<>vvv<>><^^v>^>vv<>v<<<<v<^v>^<^^>>>^<v<v\n",
    "><>vv>v^v^<>><>>>><^^>vv>v<^^^>>v^v^<^^>v^^>v^<^v>v<>>v^v^<v>v^^<^^vv<\n",
    "<<v<^>>^^^^>>>v^<>vvv^><v<<<>^^^vv^<vvv>^>v<^^^^v<>^>vvvv><>>v^<<^^^^^\n",
    "^><^><>>><>^^<<^^v>>><^<v>^<vv>>v>>>^v><>^v><<<<v>>v<v<v>vvv>^<><<>^><\n",
    "^>><>^v<><^vvv<^^<><v<<<<<><^v<<<><<<^^<v<^^^><^>>^<v^><<<^>>^v<v^v<v^\n",
    ">^>>^v>vv>^<<^v<>><<><<v<<v><>v<^vv<<<>^^v^>^^>>><<^v>>v^v><^^>>^<>vv^\n",
    "<><^^>^^^<><vvvvv^v<v<<>^v<v>v<<^><<><<><<<^^<<<^<<>><<><^^^>^^<>^>v<>\n",
    "^^>vv<^v^v<vv>^<><v<^v>^^^>>>^^vvv^>vvv<>>>^<^>>>>>^<<^v>^vvv<>^<><<v>\n",
    "v^^>>><<^^<>>^v^<v^vv<>v^<<>^<^v^v><^<<<><<^<v><v<>vv>>v><v^<vv<>v^<<^\"\"\"\n",
    "data_test = test_data.splitlines()"
   ]
  },
  {
   "cell_type": "code",
   "execution_count": 4,
   "metadata": {},
   "outputs": [
    {
     "data": {
      "text/plain": [
       "(71,\n",
       " ['##################################################',\n",
       "  '#O##.OO.O........OO.#...OO#.......O..O.....O....O#',\n",
       "  '#OO......O..OOO.O#...O....O#.O#.O##...........OO.#',\n",
       "  '#....OO##O.O....OO.OO.OO...OO#..O.O.O.#.....#.O#.#',\n",
       "  '#..#..O.O#..O...OO..O..O.....OOO#.O........O.O#O.#',\n",
       "  '#O.#.#OO..#.......O.O..OOOO.O.....O.O............#',\n",
       "  '#........OO...O.#.O..O.....O.O.O.O...O..O....OOOO#',\n",
       "  '#.#OO..O....#..#.....O....#.OO....#..#.OO..O.O...#',\n",
       "  '#....OOO....O.......#.#OO.......O......OO..O#O.#O#',\n",
       "  '#...##.O....O..O.O..#..OO.O...O...O..OO....O#...##'])"
      ]
     },
     "execution_count": 4,
     "metadata": {},
     "output_type": "execute_result"
    }
   ],
   "source": [
    "data = puzzle.input_data.splitlines()\n",
    "len(data), data[:10]"
   ]
  },
  {
   "cell_type": "code",
   "execution_count": 79,
   "metadata": {},
   "outputs": [],
   "source": [
    "def parse(inp):\n",
    "    grid, ins = inp.split(\"\\n\\n\")\n",
    "    G = dict()\n",
    "    start = None\n",
    "    for y, line in enumerate(grid.splitlines()):\n",
    "        for x, c in enumerate(line):\n",
    "            pos = x + 1j*y\n",
    "            \n",
    "            if c == '@':\n",
    "                start = pos\n",
    "                c = '.'\n",
    "            G[pos] = c\n",
    "    shape = (y+1, x+1)\n",
    "    instructions = []\n",
    "    mappings = {\n",
    "        'v': 1j,\n",
    "        '^': -1j,\n",
    "        '>': 1,\n",
    "        '<':-1\n",
    "    }\n",
    "    for d in ins:\n",
    "        nxt = mappings.get(d, None)\n",
    "        if nxt is not None:\n",
    "            instructions.append(nxt)\n",
    "    return G, instructions, start, shape\n",
    "\n",
    "def move(pos, G, d):\n",
    "    if G[pos+d] == '.':\n",
    "        pos += d\n",
    "        return pos, G\n",
    "    if G[pos+d] == '#':\n",
    "        return pos, G\n",
    "    \n",
    "    if not G[pos+d] == 'O':\n",
    "        raise ValueError(G[pos+d])\n",
    "        \n",
    "    search = d\n",
    "    while G[pos+search] == 'O':\n",
    "        search += d        \n",
    "    if G[pos+search] == '#':\n",
    "        return pos, G\n",
    "    elif G[pos+search] == '.':\n",
    "        G[pos+d] = '.'\n",
    "        G[pos+search] = 'O'\n",
    "        pos += d\n",
    "        return pos, G\n",
    "    raise ValueError()\n",
    "    \n",
    "def execute(start, G, instructions):\n",
    "    pos = start\n",
    "    for ins in instructions:\n",
    "        pos, G = move(pos, G, ins)\n",
    "    return pos, G\n",
    "\n",
    "def sumGPS(G):\n",
    "    res = 0\n",
    "    for pos in G:\n",
    "        if G[pos] == 'O':\n",
    "            res += int(pos.real) + int(pos.imag) * 100\n",
    "    return res\n",
    "    \n",
    "def vis(G, shape, pos=None):\n",
    "    f = np.zeros(shape)\n",
    "    for p in G:\n",
    "        y = int(p.imag)\n",
    "        x = int(p.real)\n",
    "        \n",
    "        if G[p] == '#':\n",
    "            f[y, x] = 3\n",
    "        if G[p] == 'O':\n",
    "            f[y, x] = 2\n",
    "        if p == pos:\n",
    "            f[y, x] = 1\n",
    "    im = plt.imshow(f)\n",
    "    return im"
   ]
  },
  {
   "cell_type": "code",
   "execution_count": 84,
   "metadata": {},
   "outputs": [],
   "source": [
    "# d = test_data\n",
    "d = puzzle.input_data\n",
    "\n",
    "G, ins, start, shape = parse(d)\n",
    "pos, G = execute(start, G, ins)"
   ]
  },
  {
   "cell_type": "code",
   "execution_count": 85,
   "metadata": {},
   "outputs": [
    {
     "data": {
      "text/plain": [
       "1448589"
      ]
     },
     "execution_count": 85,
     "metadata": {},
     "output_type": "execute_result"
    }
   ],
   "source": [
    "res = sumGPS(G)\n",
    "res"
   ]
  },
  {
   "cell_type": "code",
   "execution_count": 86,
   "metadata": {},
   "outputs": [
    {
     "name": "stdout",
     "output_type": "stream",
     "text": [
      "\u001b[32mThat's the right answer!  You are one gold star closer to finding the Chief Historian. [Continue to Part Two]\u001b[0m\n"
     ]
    }
   ],
   "source": [
    "puzzle.answer_a = res"
   ]
  },
  {
   "cell_type": "code",
   "execution_count": 87,
   "metadata": {},
   "outputs": [
    {
     "data": {
      "text/plain": [
       "<matplotlib.image.AxesImage at 0xfffe944b9600>"
      ]
     },
     "execution_count": 87,
     "metadata": {},
     "output_type": "execute_result"
    },
    {
     "data": {
      "image/png": "[encoded data removed]",
      "text/plain": [
       "<Figure size 640x480 with 1 Axes>"
      ]
     },
     "metadata": {},
     "output_type": "display_data"
    }
   ],
   "source": [
    "vis(G, shape, start)"
   ]
  },
  {
   "cell_type": "code",
   "execution_count": 37,
   "metadata": {},
   "outputs": [
    {
     "data": {
      "text/plain": [
       "(21, 70)"
      ]
     },
     "execution_count": 37,
     "metadata": {},
     "output_type": "execute_result"
    }
   ],
   "source": [
    "shape"
   ]
  },
  {
   "cell_type": "code",
   "execution_count": 88,
   "metadata": {},
   "outputs": [],
   "source": [
    "# Part 2"
   ]
  },
  {
   "cell_type": "code",
   "execution_count": 375,
   "metadata": {
    "tags": []
   },
   "outputs": [],
   "source": [
    "def dprint(*msg):\n",
    "    global DEBUG\n",
    "    if DEBUG:\n",
    "        print(*msg)\n",
    "\n",
    "def parse(inp):\n",
    "    grid, ins = inp.split(\"\\n\\n\")\n",
    "    G = dict()\n",
    "    start = None\n",
    "    for y, line in enumerate(grid.splitlines()):\n",
    "        for x, c in enumerate(line):\n",
    "            pos = 2*x + 1j*y\n",
    "            if c == 'O':\n",
    "                G[pos] = '['\n",
    "                G[pos+1] = ']'\n",
    "                continue\n",
    "            if c == '@':\n",
    "                start = pos\n",
    "                c = '.'\n",
    "            G[pos] = c\n",
    "            G[pos+1] = c\n",
    "            \n",
    "    shape = (y+1, 2*x+2)\n",
    "    instructions = []\n",
    "    mappings = {\n",
    "        'v': 1j,\n",
    "        '^': -1j,\n",
    "        '>': 1,\n",
    "        '<':-1\n",
    "    }\n",
    "    for d in ins:\n",
    "        nxt = mappings.get(d, None)\n",
    "        if nxt is not None:\n",
    "            instructions.append(nxt)\n",
    "    return G, instructions, start, shape\n",
    "\n",
    "def move(pos, G, d):\n",
    "    if G[pos+d] in '[]':\n",
    "        if isBlocked(pos+d, G, d):\n",
    "            return pos, G\n",
    "        G = moveBlock(pos+d, G, d)    \n",
    "        \n",
    "    if G[pos+d] == '.':\n",
    "        pos += d\n",
    "        return pos, G\n",
    "    if G[pos+d] == '#':\n",
    "        return pos, G\n",
    "    \n",
    "    if not G[pos+d] == 'O':\n",
    "        raise ValueError(G[pos+d])\n",
    "        \n",
    "    search = d\n",
    "    while G[pos+search] == 'O':\n",
    "        search += d        \n",
    "    if G[pos+search] == '#':\n",
    "        return pos, G\n",
    "    elif G[pos+search] == '.':\n",
    "        G[pos+d] = '.'\n",
    "        G[pos+search] = 'O'\n",
    "        pos += d\n",
    "        return pos, G\n",
    "    raise ValueError()\n",
    "    \n",
    "def isBlocked(pos, G, d):\n",
    "    dprint(\"isBlocked \", pos, d)\n",
    "    if d in [-1, 1]:\n",
    "        if G[pos+2*d] == '.':\n",
    "            return False\n",
    "        if G[pos+2*d] == '#':\n",
    "            return True\n",
    "        return isBlocked(pos+2*d, G, d)\n",
    "    \n",
    "    if G[pos] == ']':\n",
    "        return isBlocked(pos-1, G, d)\n",
    "    \n",
    "    if (G[pos+d] == '.') and (G[pos+1+d] == '.'):\n",
    "        return False\n",
    "    if (G[pos+d] == '#') or (G[pos+1+d] == '#'):\n",
    "        return True\n",
    "    \n",
    "    cond = []\n",
    "    for p in [pos-1+d, pos+d, pos+1+d]:        \n",
    "        dprint('#', p)\n",
    "        if G[p] == '[':\n",
    "            dprint('-> found', p)\n",
    "            cond.append(isBlocked(p, G, d))\n",
    "    dprint('chk: ', cond)\n",
    "    return any(cond)    \n",
    "    \n",
    "def moveBlock(pos, G, d):\n",
    "    dprint(\"moveBlock \", pos, d)\n",
    "    if d in [-1, 1]:\n",
    "        G[pos] = '.'\n",
    "        while G[pos+d] in '[]':\n",
    "            pos += d\n",
    "            G[pos] = '[' if G[pos] == ']' else ']'    \n",
    "        G[pos+d] = '[' if G[pos] == ']' else ']'\n",
    "        return G\n",
    "            \n",
    "    if G[pos] == ']':\n",
    "        dprint('<- call left')\n",
    "        return moveBlock(pos-1, G, d)\n",
    "            \n",
    "    for p in [pos-1+d, pos+d, pos+1+d]:\n",
    "        if G[p] == '[':\n",
    "            G = moveBlock(p, G, d)\n",
    "        \n",
    "    G[pos+d] = '['\n",
    "    G[pos+1+d] = ']'\n",
    "    G[pos] = '.'\n",
    "    G[pos+1] = '.'\n",
    "    return G\n",
    "      \n",
    "    \n",
    "def execute(start, G, instructions, maxi=None):\n",
    "    pos = start\n",
    "    snapshots = []\n",
    "    for i, ins in enumerate(instructions):\n",
    "        dprint(f\"@{i}: {ins}\")\n",
    "        pos, G = move(pos, G, ins)\n",
    "        # snapshots.append(vis(G, shape, pos, ins, True))\n",
    "        if maxi is not None and i>=maxi:\n",
    "            break\n",
    "    return pos, G, snapshots\n",
    "\n",
    "def sumGPS(G):\n",
    "    res = 0\n",
    "    for pos in G:\n",
    "        if G[pos] == '[':\n",
    "            res += int(pos.real) + int(pos.imag) * 100\n",
    "    return res\n",
    "    \n",
    "def vis(G, shape, pos=None, d=None, get_data=False):\n",
    "    f = np.zeros(shape)\n",
    "    for p in G:\n",
    "        y = int(p.imag)\n",
    "        x = int(p.real)\n",
    "        \n",
    "        if G[p] == '#':\n",
    "            f[y, x] = 10\n",
    "        if G[p] == '[':\n",
    "            f[y, x] = 5\n",
    "        if G[p] == ']':\n",
    "            f[y, x] = 6\n",
    "        if p == pos:\n",
    "            f[y, x] = 3\n",
    "        if d is not None:\n",
    "            if d in [-1, 1]:\n",
    "                f[:, 0 if d == -1 else -1] = 9\n",
    "            elif d == 1j:\n",
    "                f[-1, :] = 9\n",
    "            else:\n",
    "                f[0, :] = 9\n",
    "    if get_data:\n",
    "        return f\n",
    "    im = plt.imshow(f)\n",
    "    return im"
   ]
  },
  {
   "cell_type": "code",
   "execution_count": 376,
   "metadata": {},
   "outputs": [],
   "source": [
    "test_data2 = \"\"\"#######\n",
    "#...#.#\n",
    "#.....#\n",
    "#..OO@#\n",
    "#..O..#\n",
    "#.....#\n",
    "#######\n",
    "\n",
    "<vv<<^^<<^^\"\"\""
   ]
  },
  {
   "cell_type": "code",
   "execution_count": 377,
   "metadata": {
    "tags": []
   },
   "outputs": [
    {
     "name": "stdout",
     "output_type": "stream",
     "text": [
      "CPU times: user 44.1 ms, sys: 102 µs, total: 44.2 ms\n",
      "Wall time: 40.3 ms\n"
     ]
    }
   ],
   "source": [
    "%%time\n",
    "DEBUG = False\n",
    "\n",
    "# d = test_data\n",
    "# d = test_data2\n",
    "d = puzzle.input_data\n",
    "\n",
    "G, ins, start, shape = parse(d)\n",
    "pos, G, snaps = execute(start, G, ins, maxi=None)\n",
    "# pos = start"
   ]
  },
  {
   "cell_type": "code",
   "execution_count": 378,
   "metadata": {},
   "outputs": [
    {
     "data": {
      "text/plain": [
       "<matplotlib.image.AxesImage at 0xfffe8b19f970>"
      ]
     },
     "execution_count": 378,
     "metadata": {},
     "output_type": "execute_result"
    },
    {
     "data": {
      "image/png": "[encoded data removed]",
      "text/plain": [
       "<Figure size 640x480 with 1 Axes>"
      ]
     },
     "metadata": {},
     "output_type": "display_data"
    }
   ],
   "source": [
    "vis(G, shape, pos, -1j)"
   ]
  },
  {
   "cell_type": "code",
   "execution_count": 379,
   "metadata": {},
   "outputs": [
    {
     "data": {
      "text/plain": [
       "1472235"
      ]
     },
     "execution_count": 379,
     "metadata": {},
     "output_type": "execute_result"
    }
   ],
   "source": [
    "res = sumGPS(G)\n",
    "res"
   ]
  },
  {
   "cell_type": "code",
   "execution_count": 365,
   "metadata": {},
   "outputs": [
    {
     "name": "stdout",
     "output_type": "stream",
     "text": [
      "\u001b[32mThat's the right answer!  You are one gold star closer to finding the Chief Historian.You have completed Day 15! You can [Shareon\n",
      "  Bluesky\n",
      "Twitter\n",
      "Mastodon] this victory or [Return to Your Advent Calendar].\u001b[0m\n"
     ]
    }
   ],
   "source": [
    "puzzle.answer_b = res"
   ]
  },
  {
   "cell_type": "code",
   "execution_count": 349,
   "metadata": {},
   "outputs": [
    {
     "data": {
      "image/png": "[encoded data removed]",
      "text/plain": [
       "<Figure size 800x800 with 1 Axes>"
      ]
     },
     "metadata": {},
     "output_type": "display_data"
    }
   ],
   "source": [
    "# dat = np.array([move(r, 100, X=X, Y=Y) for r in robots])\n",
    "N = len(snaps)\n",
    "fps = 2\n",
    "fig = plt.figure(figsize=(8, 8))\n",
    "    \n",
    "im = plt.imshow(snaps[0], interpolation='none')\n",
    "\n",
    "def animate_func(i):\n",
    "    im.set_array(snaps[i])\n",
    "    return [im]\n",
    "\n",
    "anim = animation.FuncAnimation(\n",
    "    fig,\n",
    "    animate_func,\n",
    "    frames = N,\n",
    "    interval = 1000 / fps\n",
    ")\n",
    "\n",
    "anim.save('day_15.gif', fps = fps)"
   ]
  },
  {
   "cell_type": "code",
   "execution_count": null,
   "metadata": {},
   "outputs": [],
   "source": []
  }
 ],
 "metadata": {
  "kernelspec": {
   "display_name": "py310",
   "language": "python",
   "name": "py310"
  },
  "language_info": {
   "codemirror_mode": {
    "name": "ipython",
    "version": 3
   },
   "file_extension": ".py",
   "mimetype": "text/x-python",
   "name": "python",
   "nbconvert_exporter": "python",
   "pygments_lexer": "ipython3",
   "version": "3.10.2"
  }
 },
 "nbformat": 4,
 "nbformat_minor": 4
}
