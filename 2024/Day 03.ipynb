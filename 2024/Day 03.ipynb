{
 "cells": [
  {
   "cell_type": "code",
   "execution_count": 1,
   "metadata": {},
   "outputs": [],
   "source": [
    "import os\n",
    "os.environ['AOC_SESSION'] = '53616c7465645f5fc503e2646a881940b2f824e539e4f8b830d42eb6402b3e4790aca085fba85feae52603e00e10983ef62482a74fb2f0471a93a3bf82804bc1'"
   ]
  },
  {
   "cell_type": "code",
   "execution_count": 2,
   "metadata": {},
   "outputs": [],
   "source": [
    "import aocd\n",
    "from aocd.models import Puzzle\n",
    "day = 3\n",
    "year = 2024\n",
    "puzzle = Puzzle(year=year, day=day)\n",
    "# data = aocd.get_data(day=day, year=year)\n",
    "with open('./data/input_{:02d}'.format(day), 'w') as fh:\n",
    "    fh.write(puzzle.input_data)"
   ]
  },
  {
   "cell_type": "code",
   "execution_count": 13,
   "metadata": {},
   "outputs": [],
   "source": [
    "test_data = \"\"\"xmul(2,4)%&mul[3,7]!@^do_not_mul(5111,5)+mul(32,64]then(mul(11,8)mul(8,5))\"\"\"\n",
    "data_test = test_data.splitlines()"
   ]
  },
  {
   "cell_type": "code",
   "execution_count": 155,
   "metadata": {
    "tags": []
   },
   "outputs": [],
   "source": [
    "data = puzzle.input_data.splitlines()\n",
    "# len(data), data[:10]"
   ]
  },
  {
   "cell_type": "code",
   "execution_count": 15,
   "metadata": {},
   "outputs": [],
   "source": [
    "import re"
   ]
  },
  {
   "cell_type": "code",
   "execution_count": 29,
   "metadata": {},
   "outputs": [],
   "source": [
    "def find_mul(line):\n",
    "    \n",
    "    return [re.sub(\"[^0-9,]\", \"\", mult) for mult in re.findall(\"mul\\(\\d{1,3},\\d{1,3}\\)\", line)]\n",
    "\n",
    "def calc_mul(mul):\n",
    "    a, b = mul.split(',')\n",
    "    return int(a) * int(b)"
   ]
  },
  {
   "cell_type": "code",
   "execution_count": 176,
   "metadata": {},
   "outputs": [],
   "source": [
    "# res = 0\n",
    "# for line in data:\n",
    "#     res += sum([calc_mul(tpl) for tpl in find_mul(line)])\n",
    "#     # res += sum([calc_mul(tpl) for tpl in find_mul(puzzle.input_data)])"
   ]
  },
  {
   "cell_type": "code",
   "execution_count": 181,
   "metadata": {},
   "outputs": [],
   "source": [
    "res = sum([calc_mul(tpl) for tpl in find_mul(puzzle.input_data)])"
   ]
  },
  {
   "cell_type": "code",
   "execution_count": 182,
   "metadata": {},
   "outputs": [
    {
     "data": {
      "text/plain": [
       "155955228"
      ]
     },
     "execution_count": 182,
     "metadata": {},
     "output_type": "execute_result"
    }
   ],
   "source": [
    "res"
   ]
  },
  {
   "cell_type": "code",
   "execution_count": 35,
   "metadata": {},
   "outputs": [
    {
     "name": "stdout",
     "output_type": "stream",
     "text": [
      "\u001b[32mThat's the right answer!  You are one gold star closer to finding the Chief Historian. [Continue to Part Two]\u001b[0m\n"
     ]
    }
   ],
   "source": [
    "puzzle.answer_a = res"
   ]
  },
  {
   "cell_type": "code",
   "execution_count": 41,
   "metadata": {},
   "outputs": [],
   "source": [
    "# Part 2"
   ]
  },
  {
   "cell_type": "code",
   "execution_count": 147,
   "metadata": {},
   "outputs": [],
   "source": [
    "test_data_2 = \"xmul(2,4)&mul[3,7]!^don't()_mul(5,5)do+mul(32,64](mul(11,8)undo()?mul(8,5))\""
   ]
  },
  {
   "cell_type": "code",
   "execution_count": 156,
   "metadata": {},
   "outputs": [],
   "source": [
    "def cut_disabled(line):\n",
    "    # print(line)\n",
    "    res = \"\"\n",
    "    while match:=re.search(\"don't\\(\\)\", line):\n",
    "        idx = match.span()\n",
    "        res += line[0:idx[1]]\n",
    "        line = line[idx[1]:]\n",
    "        end_tag = re.search(\"do\\(\\)\", line)\n",
    "        if end_tag is None:\n",
    "            return res\n",
    "        else:\n",
    "            if re.search(\"do\\(\\)\", line[:end_tag.span()[0]]):\n",
    "                raise ValueError\n",
    "            \n",
    "            # print(f\"_____  {line[:end_tag.span()[0]]}\")\n",
    "            line = line[end_tag.span()[0]:]\n",
    "    return res + line\n",
    "        \n",
    "    "
   ]
  },
  {
   "cell_type": "code",
   "execution_count": 157,
   "metadata": {},
   "outputs": [
    {
     "data": {
      "text/plain": [
       "\"xmul(2,4)&mul[3,7]!^don't()do()?mul(8,5))\""
      ]
     },
     "execution_count": 157,
     "metadata": {},
     "output_type": "execute_result"
    }
   ],
   "source": [
    "cut_disabled(test_data_2)"
   ]
  },
  {
   "cell_type": "code",
   "execution_count": 160,
   "metadata": {},
   "outputs": [],
   "source": [
    "res = 0\n",
    "for line in data:\n",
    "    res += sum([calc_mul(tpl) for tpl in find_mul(cut_disabled(line))])"
   ]
  },
  {
   "cell_type": "code",
   "execution_count": 184,
   "metadata": {},
   "outputs": [
    {
     "data": {
      "text/plain": [
       "100189366"
      ]
     },
     "execution_count": 184,
     "metadata": {},
     "output_type": "execute_result"
    }
   ],
   "source": [
    "res = sum([calc_mul(tpl) for tpl in find_mul(cut_disabled(puzzle.input_data))])\n",
    "res"
   ]
  },
  {
   "cell_type": "code",
   "execution_count": 185,
   "metadata": {},
   "outputs": [
    {
     "name": "stdout",
     "output_type": "stream",
     "text": [
      "\u001b[32mThat's the right answer!  You are one gold star closer to finding the Chief Historian.You have completed Day 3! You can [Shareon\n",
      "  Bluesky\n",
      "Twitter\n",
      "Mastodon] this victory or [Return to Your Advent Calendar].\u001b[0m\n"
     ]
    }
   ],
   "source": [
    "puzzle.answer_b = res"
   ]
  },
  {
   "cell_type": "code",
   "execution_count": null,
   "metadata": {},
   "outputs": [],
   "source": []
  }
 ],
 "metadata": {
  "kernelspec": {
   "display_name": "py310",
   "language": "python",
   "name": "py310"
  },
  "language_info": {
   "codemirror_mode": {
    "name": "ipython",
    "version": 3
   },
   "file_extension": ".py",
   "mimetype": "text/x-python",
   "name": "python",
   "nbconvert_exporter": "python",
   "pygments_lexer": "ipython3",
   "version": "3.10.2"
  }
 },
 "nbformat": 4,
 "nbformat_minor": 4
}
