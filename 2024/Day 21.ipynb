{
 "cells": [
  {
   "cell_type": "code",
   "execution_count": 1,
   "metadata": {},
   "outputs": [],
   "source": [
    "import os\n",
    "os.environ['AOC_SESSION'] = '53616c7465645f5f37c74a4bd1a2394b4fa5dcbb449244bb183873f839c409c1c2b5d3191175e6de6040979aeb78f7894665a168392bc55c2d58d905f027b397'"
   ]
  },
  {
   "cell_type": "code",
   "execution_count": 2,
   "metadata": {},
   "outputs": [],
   "source": [
    "import aocd\n",
    "from aocd.models import Puzzle\n",
    "day = 21\n",
    "year = 2024\n",
    "puzzle = Puzzle(year=year, day=day)\n",
    "# data = aocd.get_data(day=day, year=year)\n",
    "with open('./data/input_{:02d}'.format(day), 'w') as fh:\n",
    "    fh.write(puzzle.input_data)"
   ]
  },
  {
   "cell_type": "code",
   "execution_count": 3,
   "metadata": {},
   "outputs": [],
   "source": [
    "from functools import cache\n",
    "from itertools import permutations, product\n",
    "from heapq import heappop, heappush"
   ]
  },
  {
   "cell_type": "code",
   "execution_count": 4,
   "metadata": {},
   "outputs": [],
   "source": [
    "test_data = \"\"\"029A\n",
    "980A\n",
    "179A\n",
    "456A\n",
    "379A\"\"\"\n",
    "data_test = test_data.splitlines()"
   ]
  },
  {
   "cell_type": "code",
   "execution_count": 5,
   "metadata": {},
   "outputs": [
    {
     "data": {
      "text/plain": [
       "(5, ['964A', '140A', '413A', '670A', '593A'])"
      ]
     },
     "execution_count": 5,
     "metadata": {},
     "output_type": "execute_result"
    }
   ],
   "source": [
    "data = puzzle.input_data.splitlines()\n",
    "len(data), data[:10]"
   ]
  },
  {
   "cell_type": "code",
   "execution_count": 6,
   "metadata": {},
   "outputs": [],
   "source": [
    "def mdist(pos0, pos1):\n",
    "    if isinstance(pos1, complex):\n",
    "        return int(abs(pos1.real - pos0.real) + abs(pos1.imag - pos0.imag))\n",
    "    return int(abs(pos1[0] - pos0.real) + abs(pos1[1] - pos0.imag))\n",
    "\n",
    "def get_dir(cpl):\n",
    "    return {\n",
    "        -1: '<',\n",
    "        1: '>',\n",
    "        1j: 'v',\n",
    "        -1j: '^'\n",
    "    }[cpl]\n",
    "\n",
    "nbrs = [-1, 1, -1j, 1j]\n",
    "\n",
    "@cache\n",
    "def get_path_numeric(_from, _to):\n",
    "    # get all direct paths from numbers to numbers\n",
    "    position = {\n",
    "        'A': 2+3j,\n",
    "        '7': 0+0j,\n",
    "        '8': 1+0j,\n",
    "        '9': 2+0j,\n",
    "        '4': 0+1j,\n",
    "        '5': 1+1j,\n",
    "        '6': 2+1j,\n",
    "        '1': 0+2j,\n",
    "        '2': 1+2j,\n",
    "        '3': 2+2j,\n",
    "        '0': 1+3j,\n",
    "    }\n",
    "    possible = set(position.values())\n",
    "    # print(possible)\n",
    "    delta = position[_to] - position[_from]\n",
    "    paths = []\n",
    "    stack = [(position[_from], '')]\n",
    "    while len(stack):\n",
    "        pos, path = stack.pop()\n",
    "        # print(pos, path)\n",
    "        if pos == position[_to]:\n",
    "            paths.append(path)\n",
    "        for nbr in nbrs:\n",
    "            npos = pos + nbr\n",
    "            if npos not in possible:\n",
    "                continue\n",
    "            if mdist(npos, position[_to]) < mdist(pos, position[_to]):\n",
    "                npath = path + get_dir(nbr)\n",
    "                stack.append((npos, npath))\n",
    "    return paths\n",
    "\n",
    "@cache\n",
    "def get_path_directional(_from, _to):\n",
    "    # get all direct paths for directional pad\n",
    "    position = {\n",
    "        'A': 2+0j,\n",
    "        '>': 2+1j,\n",
    "        '<': 0+1j,\n",
    "        'v': 1+1j,\n",
    "        '^': 1+0j,\n",
    "    }\n",
    "    possible = set(position.values())\n",
    "    # print(possible)\n",
    "    delta = position[_to] - position[_from]\n",
    "    paths = []\n",
    "    stack = [(position[_from], '')]\n",
    "    while len(stack):\n",
    "        pos, path = stack.pop()\n",
    "        # print(pos, path)\n",
    "        if pos == position[_to]:\n",
    "            paths.append(path)\n",
    "        for nbr in nbrs:\n",
    "            npos = pos + nbr\n",
    "            if npos not in possible:\n",
    "                continue\n",
    "            if mdist(npos, position[_to]) < mdist(pos, position[_to]):\n",
    "                npath = path + get_dir(nbr)\n",
    "                stack.append((npos, npath))\n",
    "    return paths\n",
    "\n",
    "@cache\n",
    "def replace_get_all(path):\n",
    "    \"\"\"get all directional paths that would create the input\"\"\"\n",
    "    start = 'A'\n",
    "    paths = []\n",
    "    for char in path:\n",
    "        end = char\n",
    "        paths.append([p + 'A' for p in get_path_directional(start, end)])\n",
    "        start = end\n",
    "        \n",
    "    return [\"\".join(p) for p in product(*paths)]\n",
    "\n",
    "\n",
    "def get_lvl0_paths(code):\n",
    "    \"\"\"get paths on numeric keypad that create the given code\"\"\"\n",
    "    start = 'A'\n",
    "    paths = ['']\n",
    "    for char in code:\n",
    "        end = char\n",
    "        paths = [path_start + path_add + 'A' for path_add in get_path_numeric(start, end) for path_start in paths]\n",
    "        start = end\n",
    "    return paths\n",
    "\n",
    "            \n",
    "def solve(code, maxlvl=2):\n",
    "    \"\"\"start recursive search with paths on numeric pad\"\"\"\n",
    "    paths = get_lvl0_paths(code)\n",
    "    return min([solve_directional(path, 0, maxlvl) for path in paths])\n",
    "\n",
    "@cache\n",
    "def solve_directional(path, lvl, maxlvl=2):\n",
    "    \"\"\"\n",
    "    - split path at A\n",
    "    - then look recursively for shortest directional path that creates the input\n",
    "    - return sum of minimums for each part\n",
    "    - at max level return length of path\n",
    "    \"\"\"\n",
    "    # print(path, lvl)\n",
    "    if lvl == maxlvl:\n",
    "        return len(path)\n",
    "    \n",
    "    parts = path.split('A')\n",
    "    \n",
    "    ans = 0\n",
    "    for i, part in enumerate(parts):\n",
    "        # ans += (solve_directional(replace(part+'A' if i < (len(parts)-1) else ''), lvl+1, maxlvl=maxlvl))\n",
    "        ans += min([solve_directional(p, lvl+1, maxlvl=maxlvl) for p in replace_get_all(part+'A' if i < (len(parts)-1) else '')])\n",
    "    return ans\n",
    "    "
   ]
  },
  {
   "cell_type": "code",
   "execution_count": 7,
   "metadata": {},
   "outputs": [
    {
     "name": "stdout",
     "output_type": "stream",
     "text": [
      "964A 72\n",
      "140A 70\n",
      "413A 70\n",
      "670A 68\n",
      "593A 74\n",
      "197560\n",
      "CPU times: user 1.84 ms, sys: 187 µs, total: 2.03 ms\n",
      "Wall time: 2.01 ms\n"
     ]
    }
   ],
   "source": [
    "%%time\n",
    "d = data_test\n",
    "d = data\n",
    "\n",
    "res = 0\n",
    "for code in d:\n",
    "    seq = solve(code, maxlvl=2)\n",
    "    print(code, seq)\n",
    "    res += seq * int(code[:3])\n",
    "print(res)"
   ]
  },
  {
   "cell_type": "code",
   "execution_count": 88,
   "metadata": {},
   "outputs": [
    {
     "name": "stdout",
     "output_type": "stream",
     "text": [
      "\u001b[32mThat's the right answer!  You are one gold star closer to finding the Chief Historian. [Continue to Part Two]\u001b[0m\n"
     ]
    }
   ],
   "source": [
    "puzzle.answer_a = res"
   ]
  },
  {
   "cell_type": "code",
   "execution_count": 9,
   "metadata": {},
   "outputs": [],
   "source": [
    "# Part 2"
   ]
  },
  {
   "cell_type": "code",
   "execution_count": 10,
   "metadata": {},
   "outputs": [
    {
     "name": "stdout",
     "output_type": "stream",
     "text": [
      "964A 85006969638\n",
      "140A 87513499934\n",
      "413A 87288844796\n",
      "670A 84248089344\n",
      "593A 93831469524\n",
      "242337182910752\n",
      "CPU times: user 8.72 ms, sys: 43 µs, total: 8.76 ms\n",
      "Wall time: 8.63 ms\n"
     ]
    }
   ],
   "source": [
    "%%time\n",
    "# d = data_test\n",
    "d = data\n",
    "\n",
    "res = 0\n",
    "for code in d:\n",
    "    seq_len = solve(code, maxlvl=25)\n",
    "    print(code, seq_len)\n",
    "    res += seq_len * int(code[:3])\n",
    "print(res)"
   ]
  },
  {
   "cell_type": "code",
   "execution_count": 11,
   "metadata": {},
   "outputs": [
    {
     "data": {
      "text/plain": [
       "242337182910752"
      ]
     },
     "execution_count": 11,
     "metadata": {},
     "output_type": "execute_result"
    }
   ],
   "source": [
    "res"
   ]
  },
  {
   "cell_type": "code",
   "execution_count": 322,
   "metadata": {},
   "outputs": [
    {
     "name": "stdout",
     "output_type": "stream",
     "text": [
      "\u001b[32mThat's the right answer!  You are one gold star closer to finding the Chief Historian.You have completed Day 21! You can [Shareon\n",
      "  Bluesky\n",
      "Twitter\n",
      "Mastodon] this victory or [Return to Your Advent Calendar].\u001b[0m\n"
     ]
    }
   ],
   "source": [
    "puzzle.answer_b = res"
   ]
  },
  {
   "cell_type": "code",
   "execution_count": null,
   "metadata": {},
   "outputs": [],
   "source": []
  }
 ],
 "metadata": {
  "kernelspec": {
   "display_name": "py310",
   "language": "python",
   "name": "py310"
  },
  "language_info": {
   "codemirror_mode": {
    "name": "ipython",
    "version": 3
   },
   "file_extension": ".py",
   "mimetype": "text/x-python",
   "name": "python",
   "nbconvert_exporter": "python",
   "pygments_lexer": "ipython3",
   "version": "3.10.2"
  }
 },
 "nbformat": 4,
 "nbformat_minor": 4
}
