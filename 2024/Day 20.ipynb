{
 "cells": [
  {
   "cell_type": "code",
   "execution_count": 1,
   "metadata": {},
   "outputs": [],
   "source": [
    "import os\n",
    "os.environ['AOC_SESSION'] = '53616c7465645f5f37c74a4bd1a2394b4fa5dcbb449244bb183873f839c409c1c2b5d3191175e6de6040979aeb78f7894665a168392bc55c2d58d905f027b397'"
   ]
  },
  {
   "cell_type": "code",
   "execution_count": 2,
   "metadata": {},
   "outputs": [],
   "source": [
    "import aocd\n",
    "from aocd.models import Puzzle\n",
    "day = 20\n",
    "year = 2024\n",
    "puzzle = Puzzle(year=year, day=day)\n",
    "# data = aocd.get_data(day=day, year=year)\n",
    "with open('./data/input_{:02d}'.format(day), 'w') as fh:\n",
    "    fh.write(puzzle.input_data)"
   ]
  },
  {
   "cell_type": "code",
   "execution_count": 3,
   "metadata": {},
   "outputs": [],
   "source": [
    "import heapq\n",
    "from collections import Counter, defaultdict"
   ]
  },
  {
   "cell_type": "code",
   "execution_count": 4,
   "metadata": {},
   "outputs": [],
   "source": [
    "test_data = \"\"\"###############\n",
    "#...#...#.....#\n",
    "#.#.#.#.#.###.#\n",
    "#S#...#.#.#...#\n",
    "#######.#.#.###\n",
    "#######.#.#...#\n",
    "#######.#.###.#\n",
    "###..E#...#...#\n",
    "###.#######.###\n",
    "#...###...#...#\n",
    "#.#####.#.###.#\n",
    "#.#...#.#.#...#\n",
    "#.#.#.#.#.#.###\n",
    "#...#...#...###\n",
    "###############\"\"\"\n",
    "data_test = test_data.splitlines()"
   ]
  },
  {
   "cell_type": "code",
   "execution_count": 5,
   "metadata": {},
   "outputs": [
    {
     "data": {
      "text/plain": [
       "(141,\n",
       " ['#############################################################################################################################################',\n",
       "  '#...#...###...........#.....#.....###.......#...#.........###...#.....#...#.....#...#...#...#...#...###...#.....#...#...#...#...###...#...###',\n",
       "  '#.#.#.#.###.#########.#.###.#.###.###.#####.#.#.#.#######.###.#.#.###.#.#.#.###.#.#.#.#.#.#.#.#.#.#.###.#.#.###.#.#.#.#.#.#.#.#.###.#.#.#.###',\n",
       "  '#.#...#...#...#.......#.#...#...#...#.#.....#.#.#.....#...#...#.#...#...#.#...#.#.#.#.#.#.#.#.#.#.#...#.#.#.#...#.#.#.#.#.#.#.#...#.#...#...#',\n",
       "  '#.#######.###.#.#######.#.#####.###.#.#.#####.#.#####.#.###.###.###.#####.###.#.#.#.#.#.#.#.#.#.#.###.#.#.#.#.###.#.#.#.#.#.#.###.#.#######.#',\n",
       "  '#.......#...#.#.....#...#...###...#...#...#...#...#...#...#...#...#.....#.#...#...#.#.#.#.#.#.#...#...#.#...#...#.#.#.#...#.#...#...#.......#',\n",
       "  '#######.###.#.#####.#.#####.#####.#######.#.#####.#.#####.###.###.#####.#.#.#######.#.#.#.#.#.#####.###.#######.#.#.#.#####.###.#####.#######',\n",
       "  '#.....#.#...#.....#.#...#...#...#.......#.#.#.....#...#...###.#...#...#.#.#.......#...#.#.#.#.#...#...#.#.......#.#.#.....#.#...#.....###...#',\n",
       "  '#.###.#.#.#######.#.###.#.###.#.#######.#.#.#.#######.#.#####.#.###.#.#.#.#######.#####.#.#.#.#.#.###.#.#.#######.#.#####.#.#.###.#######.#.#',\n",
       "  '#.#...#.#.#...###.#...#.#...#.#.#.....#.#.#.#.#...###.#.#.....#.#...#...#.#.......#.....#.#.#...#...#...#.#...#...#...###.#.#.#...###...#.#.#'])"
      ]
     },
     "execution_count": 5,
     "metadata": {},
     "output_type": "execute_result"
    }
   ],
   "source": [
    "data = puzzle.input_data.splitlines()\n",
    "len(data), data[:10]"
   ]
  },
  {
   "cell_type": "code",
   "execution_count": 6,
   "metadata": {},
   "outputs": [],
   "source": [
    "def cx2pos(pos):\n",
    "    return (int(pos.real), int(pos.imag))\n",
    "\n",
    "# See better solution for both parts below\n",
    "def walk(G, start, end, min_safe=0):\n",
    "    res = []\n",
    "    stack = [((), 0, 0, start)]\n",
    "    cnt = 0\n",
    "    seen = {}\n",
    "    max_dist = int(1e12)\n",
    "    \n",
    "    while len(stack):\n",
    "        cheats, steps, _, pos = heapq.heappop(stack)\n",
    "        if steps > max_dist:\n",
    "            continue\n",
    "            \n",
    "        if pos == end:\n",
    "            if len(cheats) == 0:\n",
    "                max_dist = steps\n",
    "            res.append([steps, cheats])\n",
    "            continue\n",
    "            \n",
    "        if (pos, cheats) in seen:\n",
    "            if seen[(pos, cheats)] <= steps:\n",
    "                continue\n",
    "                \n",
    "        if len(cheats) > 0 and (pos,()) in seen:\n",
    "            if seen[(pos,())] < steps + min_safe:\n",
    "                continue\n",
    "            res.append([max_dist - (seen[(pos,())] - steps), cheats])\n",
    "            continue\n",
    "                \n",
    "        seen[(pos, cheats)] = steps\n",
    "        \n",
    "        for delta in [-1, 1, -1j, 1j]:\n",
    "            if pos+delta not in G:\n",
    "                continue\n",
    "            if G[pos+delta] != '#':\n",
    "                cnt += 1\n",
    "                heapq.heappush(stack, (cheats, (steps+1), cnt, pos+delta))\n",
    "            elif len(cheats) < 1:\n",
    "                cnt += 1\n",
    "                heapq.heappush(stack, (cheats[:] + (cx2pos(pos+delta),), (steps+1), cnt, pos+delta))\n",
    "                \n",
    "            \n",
    "    return res\n"
   ]
  },
  {
   "cell_type": "code",
   "execution_count": 7,
   "metadata": {},
   "outputs": [],
   "source": [
    "d = data_test\n",
    "d = data\n",
    "G = {x + 1j*y: c for y, line in enumerate(d) for x, c in enumerate(line)}\n",
    "\n",
    "start = next(pos for pos in G if G[pos] == 'S')\n",
    "end = next(pos for pos in G if G[pos] == 'E')"
   ]
  },
  {
   "cell_type": "code",
   "execution_count": 8,
   "metadata": {
    "tags": []
   },
   "outputs": [
    {
     "name": "stdout",
     "output_type": "stream",
     "text": [
      "CPU times: user 290 ms, sys: 0 ns, total: 290 ms\n",
      "Wall time: 289 ms\n"
     ]
    }
   ],
   "source": [
    "%%time\n",
    "min_safe = 100\n",
    "res = walk(G, start, end, min_safe=min_safe)\n",
    "# res"
   ]
  },
  {
   "cell_type": "code",
   "execution_count": 10,
   "metadata": {},
   "outputs": [
    {
     "data": {
      "text/plain": [
       "9452"
      ]
     },
     "execution_count": 10,
     "metadata": {},
     "output_type": "execute_result"
    }
   ],
   "source": [
    "cheats_dict = defaultdict(list)\n",
    "for steps, cht in res:\n",
    "    cheats_dict[cht].append(steps)\n",
    "\n",
    "dist_without_cheat = next(steps for steps, cheats in res if len(cheats) == 0)\n",
    "cnt = Counter([dist_without_cheat-min(steps) for cheats, steps in cheats_dict.items() if min(steps) <= dist_without_cheat-min_safe])\n",
    "dist_without_cheat#, cnt"
   ]
  },
  {
   "cell_type": "code",
   "execution_count": 11,
   "metadata": {},
   "outputs": [
    {
     "data": {
      "text/plain": [
       "1417"
      ]
     },
     "execution_count": 11,
     "metadata": {},
     "output_type": "execute_result"
    }
   ],
   "source": [
    "sum(cnt.values())"
   ]
  },
  {
   "cell_type": "code",
   "execution_count": 12,
   "metadata": {},
   "outputs": [],
   "source": [
    "puzzle.answer_a = sum(cnt.values())"
   ]
  },
  {
   "cell_type": "code",
   "execution_count": 13,
   "metadata": {},
   "outputs": [],
   "source": [
    "# Part 2"
   ]
  },
  {
   "cell_type": "code",
   "execution_count": 15,
   "metadata": {},
   "outputs": [],
   "source": [
    "def djikstra(G, start, end):\n",
    "    res = []\n",
    "    stack = [(0, 0, start)]\n",
    "    cnt = 0\n",
    "    seen = {}\n",
    "    \n",
    "    while len(stack):\n",
    "        steps, _, pos = heapq.heappop(stack)\n",
    "            \n",
    "        if pos in seen:\n",
    "            if seen[pos] <= steps:\n",
    "                continue\n",
    "                \n",
    "        seen[pos] = steps\n",
    "        \n",
    "        for delta in [-1, 1, -1j, 1j]:\n",
    "            if pos+delta not in G:\n",
    "                continue\n",
    "            if G[pos+delta] != '#':\n",
    "                cnt += 1\n",
    "                heapq.heappush(stack, ((steps+1), cnt, pos+delta))\n",
    "            \n",
    "    return seen\n",
    "\n",
    "def mdist(pos0, pos1):\n",
    "    if isinstance(pos1, complex):\n",
    "        return int(abs(pos1.real - pos0.real) + abs(pos1.imag - pos0.imag))\n",
    "    return int(abs(pos1[0] - pos0.real) + abs(pos1[1] - pos0.imag))\n",
    "\n",
    "def get_cheat_targets(max_cheat_dist=2):\n",
    "    ans = []\n",
    "    for y in range(-max_cheat_dist, max_cheat_dist+1):\n",
    "        for x in range(-max_cheat_dist, max_cheat_dist+1):\n",
    "            nbr = x+y*1j\n",
    "            dist = mdist(0, nbr)\n",
    "            if dist <= max_cheat_dist and dist > 1:\n",
    "                ans.append((nbr, dist))\n",
    "    return ans\n",
    "\n",
    "def find_cheats(fwd, bck, max_cheat_dist=2, min_safe=10):\n",
    "    # res = defaultdict(list)\n",
    "    res = {}\n",
    "    end = next(pos for pos in bck if bck[pos] == 0)\n",
    "    target = fwd[end]\n",
    "    nbrs = get_cheat_targets(max_cheat_dist)\n",
    "    for pos, steps in fwd.items():\n",
    "        if steps > target - min_safe:\n",
    "            continue\n",
    "            \n",
    "        for nbr, nbr_dist in nbrs:\n",
    "            npos = pos + nbr\n",
    "            \n",
    "            if npos not in bck:\n",
    "                continue\n",
    "            \n",
    "            new_steps = steps + nbr_dist + bck[npos]\n",
    "            if new_steps <= target - min_safe:\n",
    "                # res[(pos, npos)].append(target - new_steps)\n",
    "                res[(pos, npos)] = target - new_steps\n",
    "    return res\n",
    "        "
   ]
  },
  {
   "cell_type": "code",
   "execution_count": 16,
   "metadata": {},
   "outputs": [],
   "source": [
    "d = data_test\n",
    "d = data\n",
    "G = {x + 1j*y: c for y, line in enumerate(d) for x, c in enumerate(line)}\n",
    "\n",
    "start = next(pos for pos in G if G[pos] == 'S')\n",
    "end = next(pos for pos in G if G[pos] == 'E')\n",
    "\n",
    "seen = djikstra(G, end, start)\n",
    "fwd = djikstra(G, start, end)\n",
    "bck = seen"
   ]
  },
  {
   "cell_type": "code",
   "execution_count": 17,
   "metadata": {},
   "outputs": [],
   "source": [
    "# Part 1"
   ]
  },
  {
   "cell_type": "code",
   "execution_count": 18,
   "metadata": {},
   "outputs": [
    {
     "name": "stdout",
     "output_type": "stream",
     "text": [
      "CPU times: user 16.4 ms, sys: 25.4 ms, total: 41.7 ms\n",
      "Wall time: 26.9 ms\n"
     ]
    },
    {
     "data": {
      "text/plain": [
       "1417"
      ]
     },
     "execution_count": 18,
     "metadata": {},
     "output_type": "execute_result"
    }
   ],
   "source": [
    "%%time\n",
    "cheats = find_cheats(fwd, bck, max_cheat_dist=2, min_safe=100)\n",
    "\n",
    "# cnt = Counter([min(val) for val in cheats.values()])\n",
    "cnt = Counter(cheats.values())\n",
    "res = sum(cnt.values())\n",
    "res"
   ]
  },
  {
   "cell_type": "code",
   "execution_count": 585,
   "metadata": {},
   "outputs": [],
   "source": [
    "# Part 2"
   ]
  },
  {
   "cell_type": "code",
   "execution_count": 19,
   "metadata": {},
   "outputs": [
    {
     "name": "stdout",
     "output_type": "stream",
     "text": [
      "CPU times: user 1.75 s, sys: 999 µs, total: 1.75 s\n",
      "Wall time: 1.75 s\n"
     ]
    }
   ],
   "source": [
    "%%time\n",
    "cheats = find_cheats(fwd, bck, max_cheat_dist=20, min_safe=100)"
   ]
  },
  {
   "cell_type": "code",
   "execution_count": 20,
   "metadata": {
    "tags": []
   },
   "outputs": [],
   "source": [
    "cnt = Counter(cheats.values())\n",
    "res = sum(cnt.values())\n",
    "# cnt"
   ]
  },
  {
   "cell_type": "code",
   "execution_count": 21,
   "metadata": {},
   "outputs": [
    {
     "data": {
      "text/plain": [
       "1014683"
      ]
     },
     "execution_count": 21,
     "metadata": {},
     "output_type": "execute_result"
    }
   ],
   "source": [
    "res"
   ]
  },
  {
   "cell_type": "code",
   "execution_count": 583,
   "metadata": {},
   "outputs": [
    {
     "name": "stdout",
     "output_type": "stream",
     "text": [
      "\u001b[32mThat's the right answer!  You are one gold star closer to finding the Chief Historian.You have completed Day 20! You can [Shareon\n",
      "  Bluesky\n",
      "Twitter\n",
      "Mastodon] this victory or [Return to Your Advent Calendar].\u001b[0m\n"
     ]
    }
   ],
   "source": [
    "puzzle.answer_b = res"
   ]
  }
 ],
 "metadata": {
  "kernelspec": {
   "display_name": "py310",
   "language": "python",
   "name": "py310"
  },
  "language_info": {
   "codemirror_mode": {
    "name": "ipython",
    "version": 3
   },
   "file_extension": ".py",
   "mimetype": "text/x-python",
   "name": "python",
   "nbconvert_exporter": "python",
   "pygments_lexer": "ipython3",
   "version": "3.10.2"
  }
 },
 "nbformat": 4,
 "nbformat_minor": 4
}
