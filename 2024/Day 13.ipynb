{
 "cells": [
  {
   "cell_type": "code",
   "execution_count": 3,
   "metadata": {},
   "outputs": [],
   "source": [
    "import os\n",
    "os.environ['AOC_SESSION'] = '53616c7465645f5f37c74a4bd1a2394b4fa5dcbb449244bb183873f839c409c1c2b5d3191175e6de6040979aeb78f7894665a168392bc55c2d58d905f027b397'"
   ]
  },
  {
   "cell_type": "code",
   "execution_count": 4,
   "metadata": {},
   "outputs": [],
   "source": [
    "import aocd\n",
    "from aocd.models import Puzzle\n",
    "day = 13\n",
    "year = 2024\n",
    "puzzle = Puzzle(year=year, day=day)\n",
    "# data = aocd.get_data(day=day, year=year)\n",
    "with open('./data/input_{:02d}'.format(day), 'w') as fh:\n",
    "    fh.write(puzzle.input_data)"
   ]
  },
  {
   "cell_type": "code",
   "execution_count": 19,
   "metadata": {},
   "outputs": [],
   "source": [
    "test_data = \"\"\"Button A: X+94, Y+34\n",
    "Button B: X+22, Y+67\n",
    "Prize: X=8400, Y=5400\n",
    "\n",
    "Button A: X+26, Y+66\n",
    "Button B: X+67, Y+21\n",
    "Prize: X=12748, Y=12176\n",
    "\n",
    "Button A: X+17, Y+86\n",
    "Button B: X+84, Y+37\n",
    "Prize: X=7870, Y=6450\n",
    "\n",
    "Button A: X+69, Y+23\n",
    "Button B: X+27, Y+71\n",
    "Prize: X=18641, Y=10279\"\"\"\n",
    "data_test = test_data.splitlines()"
   ]
  },
  {
   "cell_type": "code",
   "execution_count": 20,
   "metadata": {},
   "outputs": [
    {
     "data": {
      "text/plain": [
       "(1279,\n",
       " ['Button A: X+23, Y+57',\n",
       "  'Button B: X+58, Y+28',\n",
       "  'Prize: X=11852, Y=17598',\n",
       "  '',\n",
       "  'Button A: X+41, Y+97',\n",
       "  'Button B: X+88, Y+65',\n",
       "  'Prize: X=8250, Y=10497',\n",
       "  '',\n",
       "  'Button A: X+15, Y+81',\n",
       "  'Button B: X+78, Y+15'])"
      ]
     },
     "execution_count": 20,
     "metadata": {},
     "output_type": "execute_result"
    }
   ],
   "source": [
    "data = puzzle.input_data.splitlines()\n",
    "len(data), data[:10]"
   ]
  },
  {
   "cell_type": "code",
   "execution_count": 101,
   "metadata": {},
   "outputs": [],
   "source": [
    "def getXY(string):\n",
    "    x, y = list(map(lambda x: int(x[2:]), string[10:].split(', ')))\n",
    "    return x, y    \n",
    "\n",
    "def parse(line):\n",
    "    A, B, P = line.split('\\n')\n",
    "    ax, ay = getXY(A)\n",
    "    bx, by = getXY(B)\n",
    "    X, Y = list(map(lambda x: int(x[2:]), P[7:].split(\", \")))\n",
    "    return dict(ax=ax, ay=ay, bx=bx, by=by, X=X, Y=Y)\n",
    "\n",
    "def isint(x):\n",
    "    return int(x) == x\n",
    "\n",
    "def solveA(m, B):\n",
    "    i = m['X'] - B*m['bx']\n",
    "    if not isint(i):\n",
    "        return -1\n",
    "    A = i / m['ax']\n",
    "    if not isint(A) or A < 0 or A > 100:\n",
    "        return -1\n",
    "    return int(A)\n",
    "\n",
    "def solve_machine(m):\n",
    "    min_cost = None\n",
    "    min_AB = None\n",
    "    for B in range(100):\n",
    "        A = solveA(m, B)\n",
    "        if not (A*m['ay'] + B* m['by'] == m['Y']):\n",
    "            continue\n",
    "        if A > -1:\n",
    "            cost = 3*A + B\n",
    "            if min_cost is None or cost < min_cost:\n",
    "                min_cost = cost\n",
    "                min_AB = (A, B)\n",
    "    # if min_cost is None:\n",
    "    #     return 0\n",
    "    # return min_cost\n",
    "    return min_cost if min_cost else 0, min_AB\n",
    "        "
   ]
  },
  {
   "cell_type": "code",
   "execution_count": null,
   "metadata": {},
   "outputs": [],
   "source": []
  },
  {
   "cell_type": "code",
   "execution_count": 144,
   "metadata": {},
   "outputs": [],
   "source": [
    "d = puzzle.input_data\n",
    "# d = test_data\n",
    "data = d.split(\"\\n\\n\")\n",
    "\n",
    "machines = [parse(m) for m in data]\n",
    "# machines"
   ]
  },
  {
   "cell_type": "code",
   "execution_count": 103,
   "metadata": {},
   "outputs": [
    {
     "data": {
      "text/plain": [
       "28753"
      ]
     },
     "execution_count": 103,
     "metadata": {},
     "output_type": "execute_result"
    }
   ],
   "source": [
    "res = sum([solve_machine(m)[0] for m in machines])\n",
    "res"
   ]
  },
  {
   "cell_type": "code",
   "execution_count": 104,
   "metadata": {},
   "outputs": [
    {
     "name": "stdout",
     "output_type": "stream",
     "text": [
      "\u001b[32mThat's the right answer!  You are one gold star closer to finding the Chief Historian. [Continue to Part Two]\u001b[0m\n"
     ]
    }
   ],
   "source": [
    "puzzle.answer_a = res"
   ]
  },
  {
   "cell_type": "code",
   "execution_count": 105,
   "metadata": {},
   "outputs": [],
   "source": [
    "# Part 2"
   ]
  },
  {
   "cell_type": "code",
   "execution_count": 185,
   "metadata": {},
   "outputs": [],
   "source": [
    "def solve_machine_2(m):\n",
    "    B = (m['Y']*m['ax'] - m['X']*m['ay']) / (m['by']*m['ax'] - m['bx']*m['ay'])\n",
    "    A = (m['Y']*m['bx'] - m['X']*m['by']) / (m['bx']*m['ay'] - m['by']*m['ax'])\n",
    "    if not isint(B) or not isint(A):\n",
    "        return 0\n",
    "    return int(3*A+B)\n",
    "    return (A, B)\n",
    "    A = solveA(m, B)\n",
    "    return (A, B)\n",
    "    if not isint(A) or A == -1:\n",
    "        return 0\n",
    "    \n",
    "    "
   ]
  },
  {
   "cell_type": "code",
   "execution_count": 188,
   "metadata": {},
   "outputs": [],
   "source": [
    "d = puzzle.input_data\n",
    "# d = test_data\n",
    "data = d.split(\"\\n\\n\")\n",
    "\n",
    "machines = [parse(m) for m in data]\n",
    "\n",
    "offset = 10000000000000\n",
    "# offset = 0\n",
    "for m in machines:\n",
    "    m['X'] += offset\n",
    "    m['Y'] += offset\n",
    "# machines"
   ]
  },
  {
   "cell_type": "code",
   "execution_count": 189,
   "metadata": {},
   "outputs": [
    {
     "data": {
      "text/plain": [
       "102718967795500"
      ]
     },
     "execution_count": 189,
     "metadata": {},
     "output_type": "execute_result"
    }
   ],
   "source": [
    "res = sum([solve_machine_2(m) for m in machines])\n",
    "res"
   ]
  },
  {
   "cell_type": "code",
   "execution_count": 190,
   "metadata": {},
   "outputs": [
    {
     "name": "stdout",
     "output_type": "stream",
     "text": [
      "\u001b[32mThat's the right answer!  You are one gold star closer to finding the Chief Historian.You have completed Day 13! You can [Shareon\n",
      "  Bluesky\n",
      "Twitter\n",
      "Mastodon] this victory or [Return to Your Advent Calendar].\u001b[0m\n"
     ]
    }
   ],
   "source": [
    "puzzle.answer_b = res"
   ]
  },
  {
   "cell_type": "code",
   "execution_count": 191,
   "metadata": {},
   "outputs": [
    {
     "name": "stdout",
     "output_type": "stream",
     "text": [
      "28753\n",
      "102718967795500\n"
     ]
    }
   ],
   "source": [
    "import re, numpy as np\n",
    "\n",
    "def solve(d):\n",
    "    a,b,c,d,x,y = map(int,re.findall(r'\\d+',d))\n",
    "\n",
    "    M = np.array([[a,c], [b,d]])\n",
    "    P = np.array([x,y]) + p\n",
    "    R = np.linalg.solve(M, P).round()\n",
    "    return R @ [3, 1] if all(M @ R == P) else 0\n",
    "\n",
    "D = open('./data/input_13').read().split('\\n\\n')\n",
    "for p in 0,1e13: print(int(sum(map(solve, D))))"
   ]
  },
  {
   "cell_type": "code",
   "execution_count": 204,
   "metadata": {},
   "outputs": [],
   "source": [
    "# d = puzzle.input_data\n",
    "d = test_data\n",
    "data = d.split(\"\\n\\n\")\n",
    "\n",
    "machines = [parse(m) for m in data]"
   ]
  },
  {
   "cell_type": "code",
   "execution_count": 205,
   "metadata": {},
   "outputs": [
    {
     "data": {
      "text/plain": [
       "{'ax': 26, 'ay': 66, 'bx': 67, 'by': 21, 'X': 12748, 'Y': 12176}"
      ]
     },
     "execution_count": 205,
     "metadata": {},
     "output_type": "execute_result"
    }
   ],
   "source": [
    "machines[1]"
   ]
  },
  {
   "cell_type": "code",
   "execution_count": null,
   "metadata": {},
   "outputs": [],
   "source": []
  },
  {
   "cell_type": "code",
   "execution_count": 218,
   "metadata": {},
   "outputs": [],
   "source": [
    "m = machines[0]\n",
    "M = np.array([[m['ax'],m['bx']], [m['ay'],m['by']]])\n",
    "P = np.array([m['X'],m['Y']]) + 0\n",
    "R = np.linalg.solve(M, P)#.round()"
   ]
  },
  {
   "cell_type": "code",
   "execution_count": 219,
   "metadata": {},
   "outputs": [
    {
     "data": {
      "text/plain": [
       "{'ax': 94, 'ay': 34, 'bx': 22, 'by': 67, 'X': 8400, 'Y': 5400}"
      ]
     },
     "execution_count": 219,
     "metadata": {},
     "output_type": "execute_result"
    }
   ],
   "source": [
    "m"
   ]
  },
  {
   "cell_type": "code",
   "execution_count": 220,
   "metadata": {},
   "outputs": [
    {
     "data": {
      "text/plain": [
       "array([80., 40.])"
      ]
     },
     "execution_count": 220,
     "metadata": {},
     "output_type": "execute_result"
    }
   ],
   "source": [
    "R"
   ]
  },
  {
   "cell_type": "code",
   "execution_count": 212,
   "metadata": {},
   "outputs": [
    {
     "data": {
      "text/plain": [
       "array([12711., 12141.])"
      ]
     },
     "execution_count": 212,
     "metadata": {},
     "output_type": "execute_result"
    }
   ],
   "source": [
    "M @ R"
   ]
  },
  {
   "cell_type": "code",
   "execution_count": 213,
   "metadata": {},
   "outputs": [
    {
     "data": {
      "text/plain": [
       "array([12748, 12176])"
      ]
     },
     "execution_count": 213,
     "metadata": {},
     "output_type": "execute_result"
    }
   ],
   "source": [
    "P"
   ]
  },
  {
   "cell_type": "code",
   "execution_count": 203,
   "metadata": {},
   "outputs": [
    {
     "data": {
      "text/plain": [
       "array([10000000011852, 10000000017598])"
      ]
     },
     "execution_count": 203,
     "metadata": {},
     "output_type": "execute_result"
    }
   ],
   "source": [
    "P"
   ]
  },
  {
   "cell_type": "code",
   "execution_count": null,
   "metadata": {},
   "outputs": [],
   "source": []
  }
 ],
 "metadata": {
  "kernelspec": {
   "display_name": "py310",
   "language": "python",
   "name": "py310"
  },
  "language_info": {
   "codemirror_mode": {
    "name": "ipython",
    "version": 3
   },
   "file_extension": ".py",
   "mimetype": "text/x-python",
   "name": "python",
   "nbconvert_exporter": "python",
   "pygments_lexer": "ipython3",
   "version": "3.10.2"
  }
 },
 "nbformat": 4,
 "nbformat_minor": 4
}
