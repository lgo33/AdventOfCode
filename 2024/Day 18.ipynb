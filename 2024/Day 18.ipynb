{
 "cells": [
  {
   "cell_type": "code",
   "execution_count": 1,
   "metadata": {},
   "outputs": [],
   "source": [
    "import os\n",
    "os.environ['AOC_SESSION'] = '53616c7465645f5f37c74a4bd1a2394b4fa5dcbb449244bb183873f839c409c1c2b5d3191175e6de6040979aeb78f7894665a168392bc55c2d58d905f027b397'"
   ]
  },
  {
   "cell_type": "code",
   "execution_count": 2,
   "metadata": {},
   "outputs": [],
   "source": [
    "import aocd\n",
    "from aocd.models import Puzzle\n",
    "day = 18\n",
    "year = 2024\n",
    "puzzle = Puzzle(year=year, day=day)\n",
    "# data = aocd.get_data(day=day, year=year)\n",
    "with open('./data/input_{:02d}'.format(day), 'w') as fh:\n",
    "    fh.write(puzzle.input_data)"
   ]
  },
  {
   "cell_type": "code",
   "execution_count": 43,
   "metadata": {},
   "outputs": [],
   "source": [
    "import heapq"
   ]
  },
  {
   "cell_type": "code",
   "execution_count": 5,
   "metadata": {},
   "outputs": [],
   "source": [
    "test_data = \"\"\"5,4\n",
    "4,2\n",
    "4,5\n",
    "3,0\n",
    "2,1\n",
    "6,3\n",
    "2,4\n",
    "1,5\n",
    "0,6\n",
    "3,3\n",
    "2,6\n",
    "5,1\n",
    "1,2\n",
    "5,5\n",
    "2,5\n",
    "6,5\n",
    "1,4\n",
    "0,4\n",
    "6,4\n",
    "1,1\n",
    "6,1\n",
    "1,0\n",
    "0,5\n",
    "1,6\n",
    "2,0\"\"\"\n",
    "data_test = test_data.splitlines()"
   ]
  },
  {
   "cell_type": "code",
   "execution_count": 6,
   "metadata": {},
   "outputs": [
    {
     "data": {
      "text/plain": [
       "(3450,\n",
       " ['42,19',\n",
       "  '35,11',\n",
       "  '51,47',\n",
       "  '67,61',\n",
       "  '68,67',\n",
       "  '7,9',\n",
       "  '23,11',\n",
       "  '69,70',\n",
       "  '55,61',\n",
       "  '49,9'])"
      ]
     },
     "execution_count": 6,
     "metadata": {},
     "output_type": "execute_result"
    }
   ],
   "source": [
    "data = puzzle.input_data.splitlines()\n",
    "len(data), data[:10]"
   ]
  },
  {
   "cell_type": "code",
   "execution_count": null,
   "metadata": {},
   "outputs": [],
   "source": []
  },
  {
   "cell_type": "code",
   "execution_count": 87,
   "metadata": {},
   "outputs": [],
   "source": [
    "def mdist(p0, p1):\n",
    "    return int((p1.real - p0.real) + (p1.imag - p0.imag))\n",
    "\n",
    "def check_pos(G, pos, nsteps, shape=shape):\n",
    "    x = int(pos.real)\n",
    "    y = int(pos.imag)\n",
    "    if x < 0 or y < 0:\n",
    "        return False\n",
    "    if x >= shape[0] or y >=shape[1]:\n",
    "        return False\n",
    "    if pos in G and G[pos] <= nsteps:\n",
    "        # print('!', pos, nsteps)\n",
    "        return False\n",
    "    return True\n",
    "\n",
    "def walk(G, start, end, nmax=1024, shape=shape):\n",
    "    cnt = 0\n",
    "    stack = [(0, cnt, start, 0)]\n",
    "    seen = dict()\n",
    "    while len(stack):\n",
    "        dist, _, pos, nsteps = heapq.heappop(stack)\n",
    "        if pos == end:\n",
    "            # print(dist, pos, nsteps)\n",
    "            return nsteps\n",
    "        \n",
    "        # don't check if we have been here before with fewer or equal steps\n",
    "        if pos in seen:\n",
    "            if seen[pos] <= nsteps:\n",
    "                continue\n",
    "        seen[pos] = nsteps\n",
    "        \n",
    "        for d in [-1, 1, 1j , -1j]:\n",
    "            if check_pos(G, pos+d, nmax, shape=shape):\n",
    "                npos = pos+d\n",
    "                cnt += 1\n",
    "                heapq.heappush(stack, (nsteps + mdist(end, npos), cnt, npos, nsteps+1))\n",
    "        \n",
    "    return 0"
   ]
  },
  {
   "cell_type": "code",
   "execution_count": 88,
   "metadata": {},
   "outputs": [],
   "source": [
    "d, shape = data, (71, 71)\n",
    "# d, shape = data_test, (7, 7)\n",
    "G = {complex(*list(map(int, line.split(',')))): s+1 for s, line in enumerate(d)}"
   ]
  },
  {
   "cell_type": "code",
   "execution_count": 89,
   "metadata": {},
   "outputs": [
    {
     "data": {
      "text/plain": [
       "370"
      ]
     },
     "execution_count": 89,
     "metadata": {},
     "output_type": "execute_result"
    }
   ],
   "source": [
    "res = walk(G, 0, (shape[0]-1)+(shape[1]-1)*1j, nmax=1024, shape=shape)\n",
    "res"
   ]
  },
  {
   "cell_type": "code",
   "execution_count": 85,
   "metadata": {},
   "outputs": [
    {
     "name": "stdout",
     "output_type": "stream",
     "text": [
      "\u001b[32mThat's the right answer!  You are one gold star closer to finding the Chief Historian. [Continue to Part Two]\u001b[0m\n"
     ]
    }
   ],
   "source": [
    "puzzle.answer_a = res"
   ]
  },
  {
   "cell_type": "code",
   "execution_count": 86,
   "metadata": {},
   "outputs": [],
   "source": [
    "# Part 2"
   ]
  },
  {
   "cell_type": "code",
   "execution_count": 99,
   "metadata": {},
   "outputs": [],
   "source": [
    "d, shape = data, (71, 71)\n",
    "# d, shape = data_test, (7, 7)\n",
    "G = {complex(*list(map(int, line.split(',')))): s+1 for s, line in enumerate(d)}"
   ]
  },
  {
   "cell_type": "code",
   "execution_count": 113,
   "metadata": {},
   "outputs": [
    {
     "name": "stdout",
     "output_type": "stream",
     "text": [
      "CPU times: user 27 ms, sys: 0 ns, total: 27 ms\n",
      "Wall time: 26.4 ms\n"
     ]
    },
    {
     "data": {
      "text/plain": [
       "(65+6j)"
      ]
     },
     "execution_count": 113,
     "metadata": {},
     "output_type": "execute_result"
    }
   ],
   "source": [
    "%%time\n",
    "# i = 12\n",
    "i = len(d)+1\n",
    "res = 0\n",
    "# binary search would speed this up\n",
    "while res == 0:\n",
    "    i -= 1\n",
    "    res = walk(G, 0, (shape[0]-1)+(shape[1]-1)*1j, nmax=i, shape=shape)\n",
    "    \n",
    "res = next(pos for pos in G if G[pos] == i+1)\n",
    "res"
   ]
  },
  {
   "cell_type": "code",
   "execution_count": 115,
   "metadata": {},
   "outputs": [
    {
     "data": {
      "text/plain": [
       "'65,6'"
      ]
     },
     "execution_count": 115,
     "metadata": {},
     "output_type": "execute_result"
    }
   ],
   "source": [
    "res = f\"{int(res.real)},{int(res.imag)}\"\n",
    "res"
   ]
  },
  {
   "cell_type": "code",
   "execution_count": 104,
   "metadata": {},
   "outputs": [
    {
     "name": "stdout",
     "output_type": "stream",
     "text": [
      "\u001b[32mThat's the right answer!  You are one gold star closer to finding the Chief Historian.You have completed Day 18! You can [Shareon\n",
      "  Bluesky\n",
      "Twitter\n",
      "Mastodon] this victory or [Return to Your Advent Calendar].\u001b[0m\n"
     ]
    }
   ],
   "source": [
    "puzzle.answer_b = res"
   ]
  },
  {
   "cell_type": "code",
   "execution_count": 117,
   "metadata": {},
   "outputs": [],
   "source": [
    "# 4HbQ\n",
    "# https://topaz.github.io/paste/#XQAAAQD6AQAAAAAAAAAyGEruliPhOB3FG0BHhE7F5MouBLx2tAl0yjNnOMfupS0R2+OiDwHdt3TT8aQvji2jt//EIOXuV8tDkzi8o/GsmKVNycjNe4+24dNwfLDGua0plhQGbNbimuVzdC8RewksCzqUfWBjgW6k0ukhaV171sxkRHhiZmy5iG2DZidg0cH9uSwujRTM2khYmxBCeZYIrchxCVvVrNXuUwzGUcX8cooS9MYiPrQNQFzZwPSgbdwOtSDIm+WHwTeq04G25/c9OMWshFthRPlOi0bL9swk3wGc3t1BRyU+C2ZzuqKpIsNcN2pTk/X7MhtYtzVmAprHjG0fs1jkHMODrVz7/2mk44sNUy/GiyENnF92Sqq4UlVUqnauIvdJwspZ30rNxSehsJUIYCjb1uPlYllAVd3/9o47mA=="
   ]
  },
  {
   "cell_type": "code",
   "execution_count": null,
   "metadata": {},
   "outputs": [],
   "source": []
  }
 ],
 "metadata": {
  "kernelspec": {
   "display_name": "py310",
   "language": "python",
   "name": "py310"
  },
  "language_info": {
   "codemirror_mode": {
    "name": "ipython",
    "version": 3
   },
   "file_extension": ".py",
   "mimetype": "text/x-python",
   "name": "python",
   "nbconvert_exporter": "python",
   "pygments_lexer": "ipython3",
   "version": "3.10.2"
  }
 },
 "nbformat": 4,
 "nbformat_minor": 4
}
