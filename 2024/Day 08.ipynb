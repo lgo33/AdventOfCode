{
 "cells": [
  {
   "cell_type": "code",
   "execution_count": 1,
   "metadata": {},
   "outputs": [],
   "source": [
    "import os\n",
    "os.environ['AOC_SESSION'] = '53616c7465645f5fc503e2646a881940b2f824e539e4f8b830d42eb6402b3e4790aca085fba85feae52603e00e10983ef62482a74fb2f0471a93a3bf82804bc1'"
   ]
  },
  {
   "cell_type": "code",
   "execution_count": 2,
   "metadata": {},
   "outputs": [],
   "source": [
    "import aocd\n",
    "from aocd.models import Puzzle\n",
    "day = 8\n",
    "year = 2024\n",
    "puzzle = Puzzle(year=year, day=day)\n",
    "# data = aocd.get_data(day=day, year=year)\n",
    "with open('./data/input_{:02d}'.format(day), 'w') as fh:\n",
    "    fh.write(puzzle.input_data)"
   ]
  },
  {
   "cell_type": "code",
   "execution_count": 19,
   "metadata": {},
   "outputs": [],
   "source": [
    "from collections import defaultdict\n",
    "from itertools import combinations"
   ]
  },
  {
   "cell_type": "code",
   "execution_count": 6,
   "metadata": {},
   "outputs": [],
   "source": [
    "test_data = \"\"\"............\n",
    "........0...\n",
    ".....0......\n",
    ".......0....\n",
    "....0.......\n",
    "......A.....\n",
    "............\n",
    "............\n",
    "........A...\n",
    ".........A..\n",
    "............\n",
    "............\"\"\"\n",
    "data_test = test_data.splitlines()"
   ]
  },
  {
   "cell_type": "code",
   "execution_count": 7,
   "metadata": {},
   "outputs": [
    {
     "data": {
      "text/plain": [
       "(50,\n",
       " ['.....................U.........w..................',\n",
       "  'l.................................................',\n",
       "  '...........o.a................U...w...............',\n",
       "  '............................................W.....',\n",
       "  '..........T....................s.............7....',\n",
       "  '.............................................W....',\n",
       "  '.........T..............4....n.d.H.........5......',\n",
       "  '......T.....oj...U.....n...w......H...........z...',\n",
       "  '.G..x..........................E.....V..H.........',\n",
       "  '.........a....................d....s.......7w.....'])"
      ]
     },
     "execution_count": 7,
     "metadata": {},
     "output_type": "execute_result"
    }
   ],
   "source": [
    "data = puzzle.input_data.splitlines()\n",
    "len(data), data[:10]"
   ]
  },
  {
   "cell_type": "code",
   "execution_count": null,
   "metadata": {},
   "outputs": [],
   "source": [
    "def parse(data):\n",
    "    res = defaultdict(list)\n",
    "    for y, line in enumerate(data):\n",
    "        for x, char in enumerate(line):\n",
    "            "
   ]
  },
  {
   "cell_type": "code",
   "execution_count": 37,
   "metadata": {
    "tags": []
   },
   "outputs": [],
   "source": [
    "# d = data_test\n",
    "d = data\n",
    "G = defaultdict(list)\n",
    "_ = [G[char].append((x, y)) for y, line in enumerate(d)\n",
    "                        for x, char in enumerate(line)]\n",
    "X = len(d[0])\n",
    "Y = len(d)\n",
    "\n",
    "\n",
    "def check_bnds(node, X=X, Y=Y):\n",
    "    x, y = node\n",
    "    if x < 0 or y < 0:\n",
    "        return False\n",
    "    if x >= X or y >= Y:\n",
    "        return False\n",
    "    return True\n",
    "\n",
    "def get_antinodes(pair, X=X, Y=Y):\n",
    "    A, B = pair\n",
    "    dx = A[0] - B[0]\n",
    "    dy = A[1] - B[1]\n",
    "    for node in (((A[0] + dx), (A[1] + dy)), ((B[0] - dx), (B[1] - dy))):\n",
    "        if check_bnds(node):\n",
    "            yield node \n",
    "\n",
    "def get_locations(G):\n",
    "    loc = set()\n",
    "    for freq in G:\n",
    "        if freq == '.':\n",
    "            continue\n",
    "        for pair in combinations(G[freq], 2):\n",
    "            for anode in get_antinodes(pair):\n",
    "                loc.add(anode)\n",
    "    return loc"
   ]
  },
  {
   "cell_type": "code",
   "execution_count": 39,
   "metadata": {},
   "outputs": [
    {
     "data": {
      "text/plain": [
       "423"
      ]
     },
     "execution_count": 39,
     "metadata": {},
     "output_type": "execute_result"
    }
   ],
   "source": [
    "res = len(get_locations(G))\n",
    "res"
   ]
  },
  {
   "cell_type": "code",
   "execution_count": 41,
   "metadata": {},
   "outputs": [
    {
     "name": "stdout",
     "output_type": "stream",
     "text": [
      "\u001b[32mThat's the right answer!  You are one gold star closer to finding the Chief Historian. [Continue to Part Two]\u001b[0m\n"
     ]
    }
   ],
   "source": [
    "puzzle.answer_a = res"
   ]
  },
  {
   "cell_type": "code",
   "execution_count": 42,
   "metadata": {},
   "outputs": [],
   "source": [
    "# Part 2    "
   ]
  },
  {
   "cell_type": "code",
   "execution_count": 63,
   "metadata": {},
   "outputs": [],
   "source": [
    "# d = data_test\n",
    "d = data\n",
    "G = defaultdict(list)\n",
    "_ = [G[char].append((x, y)) for y, line in enumerate(d)\n",
    "                        for x, char in enumerate(line)]\n",
    "X = len(d[0])\n",
    "Y = len(d)\n",
    "\n",
    "\n",
    "def check_bnds(node, X=X, Y=Y):\n",
    "    x, y = node\n",
    "    if x < 0 or y < 0:\n",
    "        return False\n",
    "    if x >= X or y >= Y:\n",
    "        return False\n",
    "    return True\n",
    "\n",
    "def get_antinodes_2(pair, X=X, Y=Y):\n",
    "    A, B = pair\n",
    "    dx = A[0] - B[0]\n",
    "    dy = A[1] - B[1]\n",
    "    \n",
    "    i=1\n",
    "    while True:\n",
    "        node = ((A[0] - i*dx), (A[1] - i*dy))\n",
    "        if not check_bnds(node):\n",
    "            break\n",
    "        yield node\n",
    "        i += 1\n",
    "        \n",
    "    i=1\n",
    "    while True:\n",
    "        node = ((B[0] + i*dx), (B[1] + i*dy))\n",
    "        if not check_bnds(node):\n",
    "            break\n",
    "        yield node\n",
    "        i += 1\n",
    "            \n",
    "def get_locations_2(G):\n",
    "    loc = set()\n",
    "    for freq in G:\n",
    "        if freq == '.':\n",
    "            continue\n",
    "        for pair in combinations(G[freq], 2):\n",
    "            for anode in get_antinodes_2(pair):\n",
    "                loc.add(anode)\n",
    "    return loc"
   ]
  },
  {
   "cell_type": "code",
   "execution_count": 64,
   "metadata": {},
   "outputs": [
    {
     "data": {
      "text/plain": [
       "1287"
      ]
     },
     "execution_count": 64,
     "metadata": {},
     "output_type": "execute_result"
    }
   ],
   "source": [
    "res = len(get_locations_2(G))\n",
    "res\n"
   ]
  },
  {
   "cell_type": "code",
   "execution_count": 65,
   "metadata": {},
   "outputs": [
    {
     "name": "stdout",
     "output_type": "stream",
     "text": [
      "\u001b[32mThat's the right answer!  You are one gold star closer to finding the Chief Historian.You have completed Day 8! You can [Shareon\n",
      "  Bluesky\n",
      "Twitter\n",
      "Mastodon] this victory or [Return to Your Advent Calendar].\u001b[0m\n"
     ]
    }
   ],
   "source": [
    "puzzle.answer_b = res"
   ]
  },
  {
   "cell_type": "code",
   "execution_count": null,
   "metadata": {},
   "outputs": [],
   "source": []
  }
 ],
 "metadata": {
  "kernelspec": {
   "display_name": "py310",
   "language": "python",
   "name": "py310"
  },
  "language_info": {
   "codemirror_mode": {
    "name": "ipython",
    "version": 3
   },
   "file_extension": ".py",
   "mimetype": "text/x-python",
   "name": "python",
   "nbconvert_exporter": "python",
   "pygments_lexer": "ipython3",
   "version": "3.10.2"
  }
 },
 "nbformat": 4,
 "nbformat_minor": 4
}
