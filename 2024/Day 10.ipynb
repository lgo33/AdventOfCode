{
 "cells": [
  {
   "cell_type": "code",
   "execution_count": 1,
   "metadata": {},
   "outputs": [],
   "source": [
    "import os\n",
    "os.environ['AOC_SESSION'] = '53616c7465645f5fc503e2646a881940b2f824e539e4f8b830d42eb6402b3e4790aca085fba85feae52603e00e10983ef62482a74fb2f0471a93a3bf82804bc1'"
   ]
  },
  {
   "cell_type": "code",
   "execution_count": 2,
   "metadata": {},
   "outputs": [],
   "source": [
    "import aocd\n",
    "from aocd.models import Puzzle\n",
    "day = 10\n",
    "year = 2024\n",
    "puzzle = Puzzle(year=year, day=day)\n",
    "# data = aocd.get_data(day=day, year=year)\n",
    "with open('./data/input_{:02d}'.format(day), 'w') as fh:\n",
    "    fh.write(puzzle.input_data)"
   ]
  },
  {
   "cell_type": "code",
   "execution_count": 13,
   "metadata": {},
   "outputs": [],
   "source": [
    "test_data = \"\"\"89010123\n",
    "78121874\n",
    "87430965\n",
    "96549874\n",
    "45678903\n",
    "32019012\n",
    "01329801\n",
    "10456732\n",
    "\"\"\"\n",
    "data_test = test_data.splitlines()"
   ]
  },
  {
   "cell_type": "code",
   "execution_count": 4,
   "metadata": {},
   "outputs": [
    {
     "data": {
      "text/plain": [
       "(42,\n",
       " ['652101223431010123212787018120123432102123',\n",
       "  '743012214321123434303692189011014501343012',\n",
       "  '898129805010698543214543274320329691256765',\n",
       "  '210036776234567690165567865411298780269834',\n",
       "  '378945689103698789876458976502332109100121',\n",
       "  '463210187892789870122345689965423458236780',\n",
       "  '554109096701098565031018769876210967745698',\n",
       "  '695678125432145678540019810567305870894327',\n",
       "  '788987030120130989654321001498456701765016',\n",
       "  '018976546543221078765478212312565432120145'])"
      ]
     },
     "execution_count": 4,
     "metadata": {},
     "output_type": "execute_result"
    }
   ],
   "source": [
    "data = puzzle.input_data.splitlines()\n",
    "len(data), data[:10]"
   ]
  },
  {
   "cell_type": "code",
   "execution_count": 37,
   "metadata": {},
   "outputs": [],
   "source": [
    "def get_nbrs(G, pos):\n",
    "    for i in (1, -1, 1j, -1j):\n",
    "        nbr = pos + i\n",
    "        if nbr in G:\n",
    "            yield nbr\n",
    "            \n",
    "def find_paths(G, pos):\n",
    "    if G[pos] == 9:\n",
    "        return set([pos])\n",
    "    res = set()\n",
    "    for nbr in get_nbrs(G, pos):\n",
    "        if G[nbr] == G[pos] + 1:\n",
    "            res |= find_paths(G, nbr)\n",
    "    return res\n",
    "\n",
    "def find_paths_2(G, pos):\n",
    "    if G[pos] == 9:\n",
    "        return 1\n",
    "    res = 0\n",
    "    for nbr in get_nbrs(G, pos):\n",
    "        if G[nbr] == G[pos] + 1:\n",
    "            res += find_paths_2(G, nbr)\n",
    "    return res"
   ]
  },
  {
   "cell_type": "code",
   "execution_count": 38,
   "metadata": {},
   "outputs": [],
   "source": [
    "# d = data_test\n",
    "d = data\n",
    "G = {(i + 1j*j): int(h) for j, line in enumerate(d) for i, h in enumerate(line)}\n",
    "start_positions = [k for k, v in G.items() if v == 0]"
   ]
  },
  {
   "cell_type": "code",
   "execution_count": 39,
   "metadata": {},
   "outputs": [
    {
     "data": {
      "text/plain": [
       "514"
      ]
     },
     "execution_count": 39,
     "metadata": {},
     "output_type": "execute_result"
    }
   ],
   "source": [
    "res = sum([len(find_paths(G, pos)) for pos in start_positions])\n",
    "res"
   ]
  },
  {
   "cell_type": "code",
   "execution_count": 32,
   "metadata": {},
   "outputs": [
    {
     "name": "stdout",
     "output_type": "stream",
     "text": [
      "\u001b[33mYou don't seem to be solving the right level.  Did you already complete it? [Return to Day 10]\u001b[0m\n"
     ]
    }
   ],
   "source": [
    "puzzle.answer_b = res"
   ]
  },
  {
   "cell_type": "code",
   "execution_count": 40,
   "metadata": {},
   "outputs": [
    {
     "data": {
      "text/plain": [
       "1162"
      ]
     },
     "execution_count": 40,
     "metadata": {},
     "output_type": "execute_result"
    }
   ],
   "source": [
    "res = sum([(find_paths_2(G, pos)) for pos in start_positions])\n",
    "res"
   ]
  },
  {
   "cell_type": "code",
   "execution_count": 41,
   "metadata": {},
   "outputs": [
    {
     "name": "stdout",
     "output_type": "stream",
     "text": [
      "\u001b[32mThat's the right answer!  You are one gold star closer to finding the Chief Historian.You have completed Day 10! You can [Shareon\n",
      "  Bluesky\n",
      "Twitter\n",
      "Mastodon] this victory or [Return to Your Advent Calendar].\u001b[0m\n"
     ]
    }
   ],
   "source": [
    "puzzle.answer_b = res"
   ]
  },
  {
   "cell_type": "code",
   "execution_count": null,
   "metadata": {},
   "outputs": [],
   "source": []
  }
 ],
 "metadata": {
  "kernelspec": {
   "display_name": "py310",
   "language": "python",
   "name": "py310"
  },
  "language_info": {
   "codemirror_mode": {
    "name": "ipython",
    "version": 3
   },
   "file_extension": ".py",
   "mimetype": "text/x-python",
   "name": "python",
   "nbconvert_exporter": "python",
   "pygments_lexer": "ipython3",
   "version": "3.10.2"
  }
 },
 "nbformat": 4,
 "nbformat_minor": 4
}
