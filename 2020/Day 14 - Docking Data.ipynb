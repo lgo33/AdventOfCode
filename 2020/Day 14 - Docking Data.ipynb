{
 "cells": [
  {
   "cell_type": "code",
   "execution_count": 1,
   "metadata": {},
   "outputs": [],
   "source": [
    "import aocd\n",
    "from aocd.models import Puzzle\n",
    "day = 14\n",
    "year = 2020\n",
    "puzzle = Puzzle(year=year, day=day)\n",
    "# data = aocd.get_data(day=day, year=year)\n",
    "with open('./data/input_{:02d}'.format(day), 'w') as fh:\n",
    "    fh.write(puzzle.input_data)"
   ]
  },
  {
   "cell_type": "code",
   "execution_count": 2,
   "metadata": {},
   "outputs": [
    {
     "data": {
      "text/plain": [
       "['mask = 11110100010101111011001X0100XX00100X',\n",
       " 'mem[17610] = 1035852',\n",
       " 'mem[55284] = 229776690',\n",
       " 'mem[16166] = 12685380',\n",
       " 'mem[8340] = 16011',\n",
       " 'mask = 0X1X0X010101011X10X101000X0001110100',\n",
       " 'mem[968] = 15992',\n",
       " 'mem[32758] = 7076',\n",
       " 'mem[30704] = 1701',\n",
       " 'mem[33719] = 58012']"
      ]
     },
     "execution_count": 2,
     "metadata": {},
     "output_type": "execute_result"
    }
   ],
   "source": [
    "data = puzzle.input_data.splitlines()\n",
    "data[:10]"
   ]
  },
  {
   "cell_type": "code",
   "execution_count": 12,
   "metadata": {},
   "outputs": [],
   "source": [
    "test_data = \"\"\"mask = XXXXXXXXXXXXXXXXXXXXXXXXXXXXX1XXXX0X\n",
    "mem[8] = 11\n",
    "mem[7] = 101\n",
    "mem[8] = 0\"\"\""
   ]
  },
  {
   "cell_type": "code",
   "execution_count": 25,
   "metadata": {},
   "outputs": [],
   "source": [
    "import re\n",
    "\n",
    "def get_mask(mask):\n",
    "    mask2 = mask[:]\n",
    "    return int(mask.replace('X', '0'), 2), int(mask2.replace('X', '1'), 2)\n",
    "\n",
    "def parse(line):\n",
    "    command, value = line.split(' = ')\n",
    "    if command == 'mask':\n",
    "        zero_mask, one_mask = get_mask(value)\n",
    "        return 'UPDATE_MASK', zero_mask, one_mask\n",
    "    else:\n",
    "        return 'SET_VAL', int(re.sub('\\D', '', command)), int(value)"
   ]
  },
  {
   "cell_type": "code",
   "execution_count": 17,
   "metadata": {},
   "outputs": [
    {
     "data": {
      "text/plain": [
       "[(64, 68719476733), (8, 11), (7, 101), (8, 0)]"
      ]
     },
     "execution_count": 17,
     "metadata": {},
     "output_type": "execute_result"
    }
   ],
   "source": [
    "list(map(parse, test_data.splitlines()))"
   ]
  },
  {
   "cell_type": "code",
   "execution_count": 19,
   "metadata": {},
   "outputs": [
    {
     "data": {
      "text/plain": [
       "73"
      ]
     },
     "execution_count": 19,
     "metadata": {},
     "output_type": "execute_result"
    }
   ],
   "source": [
    "(11 & 68719476733) | 64"
   ]
  },
  {
   "cell_type": "code",
   "execution_count": 30,
   "metadata": {},
   "outputs": [],
   "source": [
    "# data = test_data.splitlines()\n",
    "data = puzzle.input_data.splitlines()\n",
    "zero_mask = 0\n",
    "one_mask = 0\n",
    "results = {}\n",
    "while data:\n",
    "    line = data.pop(0)\n",
    "    cmd, x, y = parse(line)\n",
    "    if cmd == 'UPDATE_MASK':\n",
    "        zero_mask = x\n",
    "        one_mask = y\n",
    "    else:\n",
    "        results[x] = (y & one_mask) | zero_mask"
   ]
  },
  {
   "cell_type": "code",
   "execution_count": 33,
   "metadata": {},
   "outputs": [
    {
     "data": {
      "text/plain": [
       "10885823581193"
      ]
     },
     "execution_count": 33,
     "metadata": {},
     "output_type": "execute_result"
    }
   ],
   "source": [
    "sum_val = sum(results.values())\n",
    "sum_val"
   ]
  },
  {
   "cell_type": "code",
   "execution_count": 34,
   "metadata": {},
   "outputs": [
    {
     "name": "stdout",
     "output_type": "stream",
     "text": [
      "\u001b[32mThat's the right answer!  You are one gold star closer to saving your vacation. [Continue to Part Two]\u001b[0m\n"
     ]
    }
   ],
   "source": [
    "puzzle.answer_a = sum_val"
   ]
  },
  {
   "cell_type": "code",
   "execution_count": 35,
   "metadata": {},
   "outputs": [],
   "source": [
    "# Part B"
   ]
  },
  {
   "cell_type": "code",
   "execution_count": 38,
   "metadata": {},
   "outputs": [],
   "source": [
    "test_data_B = \"\"\"mask = 000000000000000000000000000000X1001X\n",
    "mem[42] = 100\n",
    "mask = 00000000000000000000000000000000X0XX\n",
    "mem[26] = 1\"\"\""
   ]
  },
  {
   "cell_type": "code",
   "execution_count": 71,
   "metadata": {},
   "outputs": [],
   "source": [
    "from itertools import permutations, combinations"
   ]
  },
  {
   "cell_type": "code",
   "execution_count": 118,
   "metadata": {},
   "outputs": [],
   "source": [
    "def get_mask_B(mask):\n",
    "    return int(mask.replace('X', '0'), 2), [i for i, l in enumerate(mask[::-1]) if l == 'X']\n",
    "\n",
    "def get_perm(mem, x_mask):\n",
    "    all_one = (1<<36) - 1\n",
    "    for bit in x_mask:\n",
    "        mem &= (all_one ^ (1<<bit) )\n",
    "        \n",
    "    for bits in [x for l in range(0, len(x_mask)+1) for x in combinations(x_mask, l)]:\n",
    "#         print(bits)\n",
    "        res = mem\n",
    "        for bit in bits:\n",
    "            res |= (1 << bit)\n",
    "#         print(res)\n",
    "        yield res\n",
    "    \n",
    "def parse_B(line):\n",
    "    command, value = line.split(' = ')\n",
    "    if command == 'mask':\n",
    "        mask, x_mask = get_mask_B(value)        \n",
    "        return 'UPDATE_MASK', mask, x_mask\n",
    "    else:\n",
    "        return 'SET_VAL', int(re.sub('\\D', '', command)), int(value)"
   ]
  },
  {
   "cell_type": "code",
   "execution_count": 122,
   "metadata": {},
   "outputs": [],
   "source": [
    "# data = test_data_B.splitlines()\n",
    "data = puzzle.input_data.splitlines()\n",
    "mask = 0\n",
    "x_mask = 0\n",
    "results = {}\n",
    "while data:\n",
    "    line = data.pop(0)\n",
    "    cmd, x, y = parse_B(line)\n",
    "#     print(cmd, x, y)\n",
    "    if cmd == 'UPDATE_MASK':\n",
    "        mask = x\n",
    "        x_mask = y\n",
    "    else:\n",
    "        loc = x | mask\n",
    "#         print(cmd, loc, x_mask)\n",
    "        for mem in get_perm(loc, x_mask):\n",
    "            results[mem] = y"
   ]
  },
  {
   "cell_type": "code",
   "execution_count": 123,
   "metadata": {},
   "outputs": [
    {
     "data": {
      "text/plain": [
       "3816594901962"
      ]
     },
     "execution_count": 123,
     "metadata": {},
     "output_type": "execute_result"
    }
   ],
   "source": [
    "sum_val = sum(results.values())\n",
    "sum_val"
   ]
  },
  {
   "cell_type": "code",
   "execution_count": 124,
   "metadata": {},
   "outputs": [
    {
     "name": "stdout",
     "output_type": "stream",
     "text": [
      "\u001b[32mThat's the right answer!  You are one gold star closer to saving your vacation.You have completed Day 14! You can [Shareon\n",
      "  Twitter\n",
      "Mastodon] this victory or [Return to Your Advent Calendar].\u001b[0m\n"
     ]
    }
   ],
   "source": [
    "puzzle.answer_b = sum_val"
   ]
  },
  {
   "cell_type": "code",
   "execution_count": null,
   "metadata": {},
   "outputs": [],
   "source": []
  }
 ],
 "metadata": {
  "kernelspec": {
   "display_name": "Python 3",
   "language": "python",
   "name": "python3"
  },
  "language_info": {
   "codemirror_mode": {
    "name": "ipython",
    "version": 3
   },
   "file_extension": ".py",
   "mimetype": "text/x-python",
   "name": "python",
   "nbconvert_exporter": "python",
   "pygments_lexer": "ipython3",
   "version": "3.7.3"
  }
 },
 "nbformat": 4,
 "nbformat_minor": 4
}
