{
 "cells": [
  {
   "cell_type": "code",
   "execution_count": 1,
   "metadata": {},
   "outputs": [],
   "source": [
    "import aocd\n",
    "from aocd.models import Puzzle\n",
    "day = 23\n",
    "year = 2020\n",
    "puzzle = Puzzle(year=year, day=day)\n",
    "# data = aocd.get_data(day=day, year=year)\n",
    "with open('./data/input_{:02d}'.format(day), 'w') as fh:\n",
    "    fh.write(puzzle.input_data)"
   ]
  },
  {
   "cell_type": "code",
   "execution_count": 12,
   "metadata": {},
   "outputs": [],
   "source": [
    "from collections import deque"
   ]
  },
  {
   "cell_type": "code",
   "execution_count": 24,
   "metadata": {},
   "outputs": [],
   "source": [
    "test_data = \"\"\"389125467\"\"\""
   ]
  },
  {
   "cell_type": "code",
   "execution_count": 86,
   "metadata": {},
   "outputs": [],
   "source": [
    "def move_last(dat, val):\n",
    "    idx = dat.index(val)\n",
    "    dat.rotate(-idx-1)\n",
    "\n",
    "def get_next(dat):\n",
    "    cur = dat[0]\n",
    "    dat.rotate(-1)\n",
    "    rm = [dat.popleft() for i in range(3)]\n",
    "    \n",
    "    find = (cur - 1)\n",
    "    if find == 0:\n",
    "        find = 9\n",
    "    idx = None    \n",
    "    while idx == None:\n",
    "        try:\n",
    "            idx = dat.index(find)\n",
    "        except ValueError:\n",
    "            find = find - 1\n",
    "            if find == 0:\n",
    "                find = 9\n",
    "#     print(find, idx)\n",
    "    dat.rotate(-idx-1)\n",
    "    dat.extend(rm)\n",
    "    \n",
    "    move_last(dat, cur)\n",
    "#     print(dat)\n",
    "    "
   ]
  },
  {
   "cell_type": "code",
   "execution_count": 98,
   "metadata": {},
   "outputs": [],
   "source": [
    "data = puzzle.input_data.splitlines()\n",
    "data = deque([int(d) for d in data[0]], maxlen=len(data[0]))\n",
    "# data = deque([int(d) for d in test_data], maxlen=len(test_data))"
   ]
  },
  {
   "cell_type": "code",
   "execution_count": 99,
   "metadata": {},
   "outputs": [],
   "source": [
    "for i in range(100):\n",
    "    get_next(data)"
   ]
  },
  {
   "cell_type": "code",
   "execution_count": 100,
   "metadata": {},
   "outputs": [],
   "source": [
    "move_last(data, 1)"
   ]
  },
  {
   "cell_type": "code",
   "execution_count": 101,
   "metadata": {},
   "outputs": [
    {
     "data": {
      "text/plain": [
       "deque([8, 2, 6, 3, 5, 9, 4, 7, 1])"
      ]
     },
     "execution_count": 101,
     "metadata": {},
     "output_type": "execute_result"
    }
   ],
   "source": [
    "data"
   ]
  },
  {
   "cell_type": "code",
   "execution_count": 102,
   "metadata": {},
   "outputs": [
    {
     "data": {
      "text/plain": [
       "'82635947'"
      ]
     },
     "execution_count": 102,
     "metadata": {},
     "output_type": "execute_result"
    }
   ],
   "source": [
    "res = \"\".join([str(d) for d in list(data)[:-1]])\n",
    "res"
   ]
  },
  {
   "cell_type": "code",
   "execution_count": 103,
   "metadata": {},
   "outputs": [
    {
     "name": "stdout",
     "output_type": "stream",
     "text": [
      "\u001b[32mThat's the right answer!  You are one gold star closer to saving your vacation. [Continue to Part Two]\u001b[0m\n"
     ]
    }
   ],
   "source": [
    "puzzle.answer_a = res"
   ]
  },
  {
   "cell_type": "code",
   "execution_count": 104,
   "metadata": {},
   "outputs": [],
   "source": [
    "# Part B"
   ]
  },
  {
   "cell_type": "code",
   "execution_count": 354,
   "metadata": {},
   "outputs": [],
   "source": [
    "class LL():\n",
    "    def __init__(self, data, num=int(1e6)):\n",
    "        self.list = {}\n",
    "        cur = data[0]\n",
    "        for d in data[1:]:\n",
    "            self.list[cur] = d\n",
    "            cur = d\n",
    "        for i in range(max(data)+1, num+1):\n",
    "            self.list[cur] = i\n",
    "            cur = i\n",
    "        self.list[cur] = data[0]\n",
    "        self.current = data[0]\n",
    "        self.max_n = max(num, max(data))\n",
    "        \n",
    "    def find_index(self, removed):\n",
    "        idx = self.current      \n",
    "        while True:\n",
    "            idx = idx - 1\n",
    "            if idx == 0:\n",
    "                idx = self.max_n\n",
    "            if idx not in removed:\n",
    "                return idx\n",
    "        \n",
    "    def step(self):\n",
    "        rm = []\n",
    "        nxt = self.current      \n",
    "        for i in range(3):            \n",
    "            nxt = self.list[nxt]\n",
    "            rm.append(nxt)\n",
    "        last = nxt\n",
    "        nxt = self.list[nxt]\n",
    "#         print(rm, last)\n",
    "        self.list[self.current] = nxt\n",
    "        idx = self.find_index(rm)\n",
    "        \n",
    "        self.list[last] = self.list[idx]\n",
    "        self.list[idx] = rm[0]\n",
    "        \n",
    "        self.current = self.list[self.current]\n",
    "        \n",
    "    \n",
    "    def print_list(self):\n",
    "        res = \"\"\n",
    "        nxt = 1\n",
    "        for i in range(8):\n",
    "            res += str(self.list[nxt])\n",
    "            nxt = self.list[nxt]\n",
    "        return res"
   ]
  },
  {
   "cell_type": "code",
   "execution_count": 366,
   "metadata": {},
   "outputs": [],
   "source": [
    "data = puzzle.input_data.splitlines()\n",
    "data = [int(d) for d in data[0]]\n",
    "# data = [int(d) for d in test_data]\n"
   ]
  },
  {
   "cell_type": "code",
   "execution_count": 367,
   "metadata": {},
   "outputs": [
    {
     "data": {
      "text/plain": [
       "[6, 8, 5, 9, 7, 4, 2, 1, 3]"
      ]
     },
     "execution_count": 367,
     "metadata": {},
     "output_type": "execute_result"
    }
   ],
   "source": [
    "data"
   ]
  },
  {
   "cell_type": "code",
   "execution_count": 368,
   "metadata": {},
   "outputs": [
    {
     "name": "stdout",
     "output_type": "stream",
     "text": [
      "CPU times: user 35 s, sys: 94.1 ms, total: 35.1 s\n",
      "Wall time: 35.1 s\n"
     ]
    }
   ],
   "source": [
    "%%time\n",
    "ll = LL(data, num=int(1e6))\n",
    "for i in range(10000000):\n",
    "    ll.step()"
   ]
  },
  {
   "cell_type": "code",
   "execution_count": 369,
   "metadata": {},
   "outputs": [
    {
     "data": {
      "text/plain": [
       "470997"
      ]
     },
     "execution_count": 369,
     "metadata": {},
     "output_type": "execute_result"
    }
   ],
   "source": [
    "ll.list[1]"
   ]
  },
  {
   "cell_type": "code",
   "execution_count": 370,
   "metadata": {},
   "outputs": [
    {
     "data": {
      "text/plain": [
       "333437"
      ]
     },
     "execution_count": 370,
     "metadata": {},
     "output_type": "execute_result"
    }
   ],
   "source": [
    "ll.list[ll.list[1]]"
   ]
  },
  {
   "cell_type": "code",
   "execution_count": 371,
   "metadata": {},
   "outputs": [
    {
     "name": "stdout",
     "output_type": "stream",
     "text": [
      "\u001b[32mThat's the right answer!  You are one gold star closer to saving your vacation.You have completed Day 23! You can [Shareon\n",
      "  Twitter\n",
      "Mastodon] this victory or [Return to Your Advent Calendar].\u001b[0m\n"
     ]
    }
   ],
   "source": [
    "puzzle.answer_b = ll.list[1] * ll.list[ll.list[1]]"
   ]
  },
  {
   "cell_type": "code",
   "execution_count": null,
   "metadata": {},
   "outputs": [],
   "source": []
  }
 ],
 "metadata": {
  "kernelspec": {
   "display_name": "Python 3",
   "language": "python",
   "name": "python3"
  },
  "language_info": {
   "codemirror_mode": {
    "name": "ipython",
    "version": 3
   },
   "file_extension": ".py",
   "mimetype": "text/x-python",
   "name": "python",
   "nbconvert_exporter": "python",
   "pygments_lexer": "ipython3",
   "version": "3.7.3"
  }
 },
 "nbformat": 4,
 "nbformat_minor": 4
}
