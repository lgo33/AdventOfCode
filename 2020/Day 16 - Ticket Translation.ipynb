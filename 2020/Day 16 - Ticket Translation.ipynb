{
 "cells": [
  {
   "cell_type": "code",
   "execution_count": 1,
   "metadata": {},
   "outputs": [],
   "source": [
    "import aocd\n",
    "from aocd.models import Puzzle\n",
    "day = 16\n",
    "year = 2020\n",
    "puzzle = Puzzle(year=year, day=day)\n",
    "# data = aocd.get_data(day=day, year=year)\n",
    "with open('./data/input_{:02d}'.format(day), 'w') as fh:\n",
    "    fh.write(puzzle.input_data)"
   ]
  },
  {
   "cell_type": "code",
   "execution_count": 2,
   "metadata": {},
   "outputs": [
    {
     "data": {
      "text/plain": [
       "['departure location: 36-626 or 651-973',\n",
       " 'departure station: 38-134 or 142-966',\n",
       " 'departure platform: 32-465 or 489-972',\n",
       " 'departure track: 40-420 or 446-973',\n",
       " 'departure date: 38-724 or 738-961',\n",
       " 'departure time: 30-358 or 377-971',\n",
       " 'arrival location: 48-154 or 166-965',\n",
       " 'arrival station: 48-669 or 675-968',\n",
       " 'arrival platform: 27-255 or 276-965',\n",
       " 'arrival track: 37-700 or 720-955']"
      ]
     },
     "execution_count": 2,
     "metadata": {},
     "output_type": "execute_result"
    }
   ],
   "source": [
    "data = puzzle.input_data.splitlines()\n",
    "data[:10]"
   ]
  },
  {
   "cell_type": "code",
   "execution_count": 10,
   "metadata": {},
   "outputs": [],
   "source": [
    "test_data = \"\"\"class: 1-3 or 5-7\n",
    "row: 6-11 or 33-44\n",
    "seat: 13-40 or 45-50\n",
    "\n",
    "your ticket:\n",
    "7,1,14\n",
    "\n",
    "nearby tickets:\n",
    "7,3,47\n",
    "40,4,50\n",
    "55,2,20\n",
    "38,6,12\"\"\""
   ]
  },
  {
   "cell_type": "code",
   "execution_count": 3,
   "metadata": {},
   "outputs": [
    {
     "data": {
      "text/plain": [
       "267"
      ]
     },
     "execution_count": 3,
     "metadata": {},
     "output_type": "execute_result"
    }
   ],
   "source": [
    "len(data)"
   ]
  },
  {
   "cell_type": "code",
   "execution_count": 54,
   "metadata": {},
   "outputs": [],
   "source": [
    "def parse_conditions(line):\n",
    "    field, condition = line.split(': ')\n",
    "    conds = condition.split(' or ')\n",
    "    res = []\n",
    "    for c in conds:\n",
    "        _min, _max = c.split('-')\n",
    "        res.append({\n",
    "            'min': int(_min),\n",
    "            'max': int(_max)\n",
    "        })\n",
    "    return field, res"
   ]
  },
  {
   "cell_type": "code",
   "execution_count": 193,
   "metadata": {},
   "outputs": [],
   "source": [
    "def valid(ticket, conditions):\n",
    "    for cond in conditions.values():\n",
    "        for _range in cond:\n",
    "            if ticket >= _range['min'] and ticket <= _range['max']:\n",
    "                return True\n",
    "    return False\n",
    "\n",
    "\n",
    "def parse_data(data):\n",
    "    parse = 'conds'\n",
    "    conditions = {}\n",
    "    myticket = None\n",
    "    tickets = []\n",
    "    valid_tickets = []\n",
    "\n",
    "    for line in data:\n",
    "    #     print(line)\n",
    "        if line.strip() == \"\":\n",
    "            continue\n",
    "        if line.startswith(\"your ticket\"):\n",
    "            parse = 'myticket'\n",
    "            continue\n",
    "        if line.startswith(\"nearby tickets\"):\n",
    "            parse = 'tickets'\n",
    "            continue\n",
    "        if parse == 'conds':\n",
    "            field, conds = parse_conditions(line)\n",
    "            conditions[field] = conds\n",
    "        if parse == 'myticket':\n",
    "            myticket = list(map(int, line.split(',')))\n",
    "        if parse == 'tickets':\n",
    "            tickets.append(list(map(int, line.split(','))))\n",
    "\n",
    "    wrong = []\n",
    "    for ticket in tickets:\n",
    "        for num in ticket:\n",
    "            if not valid(num, conditions):\n",
    "                wrong.append(num)\n",
    "                break\n",
    "        else:\n",
    "            valid_tickets.append(ticket)\n",
    "            \n",
    "    return myticket, valid_tickets, conditions, sum(wrong)\n",
    "    \n",
    "        "
   ]
  },
  {
   "cell_type": "code",
   "execution_count": 194,
   "metadata": {},
   "outputs": [
    {
     "data": {
      "text/plain": [
       "30869"
      ]
     },
     "execution_count": 194,
     "metadata": {},
     "output_type": "execute_result"
    }
   ],
   "source": [
    "# data = test_data.splitlines()\n",
    "data = puzzle.input_data.splitlines()\n",
    "myticket, valid_tickets, conditions, sum_wrong = parse_data(data)\n",
    "sum_wrong"
   ]
  },
  {
   "cell_type": "code",
   "execution_count": 66,
   "metadata": {},
   "outputs": [
    {
     "name": "stdout",
     "output_type": "stream",
     "text": [
      "\u001b[32mThat's the right answer!  You are one gold star closer to saving your vacation. [Continue to Part Two]\u001b[0m\n"
     ]
    }
   ],
   "source": [
    "puzzle.answer_a = sum_wrong"
   ]
  },
  {
   "cell_type": "code",
   "execution_count": 68,
   "metadata": {},
   "outputs": [],
   "source": [
    "# Part B"
   ]
  },
  {
   "cell_type": "code",
   "execution_count": 79,
   "metadata": {},
   "outputs": [],
   "source": [
    "test_data_B = \"\"\"class: 0-1 or 4-19\n",
    "row: 0-5 or 8-19\n",
    "seat: 0-13 or 16-19\n",
    "\n",
    "your ticket:\n",
    "11,12,13\n",
    "\n",
    "nearby tickets:\n",
    "3,9,18\n",
    "15,1,5\n",
    "5,14,9\"\"\""
   ]
  },
  {
   "cell_type": "code",
   "execution_count": 235,
   "metadata": {},
   "outputs": [],
   "source": [
    "# myticket, valid_tickets, conditions, sum_wrong = parse_data(test_data_B.splitlines())\n",
    "myticket, valid_tickets, conditions, sum_wrong = parse_data(puzzle.input_data.splitlines())"
   ]
  },
  {
   "cell_type": "code",
   "execution_count": 236,
   "metadata": {},
   "outputs": [
    {
     "data": {
      "text/plain": [
       "{'departure location': [{'min': 36, 'max': 626}, {'min': 651, 'max': 973}],\n",
       " 'departure station': [{'min': 38, 'max': 134}, {'min': 142, 'max': 966}],\n",
       " 'departure platform': [{'min': 32, 'max': 465}, {'min': 489, 'max': 972}],\n",
       " 'departure track': [{'min': 40, 'max': 420}, {'min': 446, 'max': 973}],\n",
       " 'departure date': [{'min': 38, 'max': 724}, {'min': 738, 'max': 961}],\n",
       " 'departure time': [{'min': 30, 'max': 358}, {'min': 377, 'max': 971}],\n",
       " 'arrival location': [{'min': 48, 'max': 154}, {'min': 166, 'max': 965}],\n",
       " 'arrival station': [{'min': 48, 'max': 669}, {'min': 675, 'max': 968}],\n",
       " 'arrival platform': [{'min': 27, 'max': 255}, {'min': 276, 'max': 965}],\n",
       " 'arrival track': [{'min': 37, 'max': 700}, {'min': 720, 'max': 955}],\n",
       " 'class': [{'min': 50, 'max': 319}, {'min': 332, 'max': 958}],\n",
       " 'duration': [{'min': 35, 'max': 822}, {'min': 835, 'max': 949}],\n",
       " 'price': [{'min': 40, 'max': 791}, {'min': 802, 'max': 951}],\n",
       " 'route': [{'min': 42, 'max': 56}, {'min': 82, 'max': 968}],\n",
       " 'row': [{'min': 40, 'max': 531}, {'min': 555, 'max': 968}],\n",
       " 'seat': [{'min': 49, 'max': 681}, {'min': 695, 'max': 962}],\n",
       " 'train': [{'min': 31, 'max': 567}, {'min': 593, 'max': 953}],\n",
       " 'type': [{'min': 42, 'max': 840}, {'min': 855, 'max': 949}],\n",
       " 'wagon': [{'min': 31, 'max': 165}, {'min': 176, 'max': 962}],\n",
       " 'zone': [{'min': 48, 'max': 870}, {'min': 896, 'max': 970}]}"
      ]
     },
     "execution_count": 236,
     "metadata": {},
     "output_type": "execute_result"
    }
   ],
   "source": [
    "conditions"
   ]
  },
  {
   "cell_type": "code",
   "execution_count": 237,
   "metadata": {},
   "outputs": [],
   "source": [
    "N = len(conditions)\n",
    "possible = {\n",
    "    k: list(conditions.keys()) for k in range(N)\n",
    "}"
   ]
  },
  {
   "cell_type": "code",
   "execution_count": 238,
   "metadata": {},
   "outputs": [],
   "source": [
    "found = set([])\n",
    "while not all([l==1 for l in map(len, possible.values())]):\n",
    "    for ticket in valid_tickets:\n",
    "        for i, num in enumerate(ticket):\n",
    "            \n",
    "            if len(possible[i]) == 1:\n",
    "                field = possible[i][0]\n",
    "                if field not in found:\n",
    "                    found.add(field)\n",
    "#                 print(possible[i][0])\n",
    "                    for j in range(N):\n",
    "                        if j == i:\n",
    "                            continue\n",
    "                        try:\n",
    "                            possible[j].remove(field)\n",
    "                        except ValueError:\n",
    "                            pass\n",
    "                continue\n",
    "                \n",
    "            for field in possible[i].copy():         \n",
    "                for _range in conditions[field]:\n",
    "                    if num >= _range['min'] and num <= _range['max']:\n",
    "                        break\n",
    "                else:\n",
    "#                     print('remove', i, field, ticket, num)\n",
    "                    possible[i].remove(field)                                \n",
    "                \n",
    "                "
   ]
  },
  {
   "cell_type": "code",
   "execution_count": 239,
   "metadata": {},
   "outputs": [
    {
     "data": {
      "text/plain": [
       "{0: ['departure date'],\n",
       " 1: ['arrival track'],\n",
       " 2: ['arrival station'],\n",
       " 3: ['arrival location'],\n",
       " 4: ['duration'],\n",
       " 5: ['class'],\n",
       " 6: ['route'],\n",
       " 7: ['zone'],\n",
       " 8: ['departure station'],\n",
       " 9: ['arrival platform'],\n",
       " 10: ['departure platform'],\n",
       " 11: ['departure track'],\n",
       " 12: ['seat'],\n",
       " 13: ['wagon'],\n",
       " 14: ['price'],\n",
       " 15: ['row'],\n",
       " 16: ['type'],\n",
       " 17: ['departure location'],\n",
       " 18: ['train'],\n",
       " 19: ['departure time']}"
      ]
     },
     "execution_count": 239,
     "metadata": {},
     "output_type": "execute_result"
    }
   ],
   "source": [
    "possible"
   ]
  },
  {
   "cell_type": "code",
   "execution_count": 242,
   "metadata": {},
   "outputs": [
    {
     "name": "stdout",
     "output_type": "stream",
     "text": [
      "0 departure date 127\n",
      "8 departure station 103\n",
      "10 departure platform 97\n",
      "11 departure track 179\n",
      "17 departure location 101\n",
      "19 departure time 191\n"
     ]
    }
   ],
   "source": [
    "part_b = 1\n",
    "for k, v in possible.items():\n",
    "    if v[0].startswith('departure'):\n",
    "        print(k, v[0], myticket[k])\n",
    "        part_b *= myticket[k]"
   ]
  },
  {
   "cell_type": "code",
   "execution_count": 243,
   "metadata": {},
   "outputs": [
    {
     "name": "stdout",
     "output_type": "stream",
     "text": [
      "\u001b[32mThat's the right answer!  You are one gold star closer to saving your vacation.You have completed Day 16! You can [Shareon\n",
      "  Twitter\n",
      "Mastodon] this victory or [Return to Your Advent Calendar].\u001b[0m\n"
     ]
    }
   ],
   "source": [
    "puzzle.answer_b = part_b"
   ]
  },
  {
   "cell_type": "code",
   "execution_count": null,
   "metadata": {},
   "outputs": [],
   "source": []
  }
 ],
 "metadata": {
  "kernelspec": {
   "display_name": "Python 3",
   "language": "python",
   "name": "python3"
  },
  "language_info": {
   "codemirror_mode": {
    "name": "ipython",
    "version": 3
   },
   "file_extension": ".py",
   "mimetype": "text/x-python",
   "name": "python",
   "nbconvert_exporter": "python",
   "pygments_lexer": "ipython3",
   "version": "3.7.3"
  }
 },
 "nbformat": 4,
 "nbformat_minor": 4
}
