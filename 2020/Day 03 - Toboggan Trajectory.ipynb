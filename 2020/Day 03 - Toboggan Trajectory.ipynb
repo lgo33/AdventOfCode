{
 "cells": [
  {
   "cell_type": "code",
   "execution_count": 53,
   "metadata": {},
   "outputs": [],
   "source": [
    "import aocd\n",
    "from aocd.models import Puzzle\n",
    "day = 2\n",
    "year = 2020\n",
    "puzzle = Puzzle(year=year, day=day)\n",
    "# data = aocd.get_data(day=day, year=year)\n",
    "with open('./data/input_{:02d}'.format(day), 'w') as fh:\n",
    "    fh.write(puzzle.input_data)"
   ]
  },
  {
   "cell_type": "code",
   "execution_count": 54,
   "metadata": {
    "collapsed": true,
    "jupyter": {
     "outputs_hidden": true
    }
   },
   "outputs": [
    {
     "data": {
      "text/plain": [
       "'14-15 v: vdvvvvvsvvvvvfpv\\n3-11 k: kkqkkfkkvkgfknkx\\n6-10 j: jjjjjjjjjj\\n5-10 s: nskdmzwrmpmhsrzts\\n13-15 v: vvvvvvkvvvvjzvv\\n11-13 h: hhhhhbhhhhdhhh\\n14-15 r: rrrrrrrrzrrrrrtl\\n2-9 c: llhctjgbz\\n13-15 s: ssssxssssssssjs\\n6-8 c: lccccqcc\\n8-9 n: nnnnnmnch\\n4-5 n: jnnnmmpxngbrknzb\\n4-7 n: knlnqnnndnn\\n13-18 g: ggggggggnggggggggggp\\n5-6 m: mmmmgm\\n5-10 l: lvlllglllpll\\n7-12 z: pszgzqzzzzkw\\n1-2 j: pjjqw\\n15-16 n: nnnnnnnnnnnnnnpn\\n8-14 z: mzzzjzzzzhzzzztznzz\\n5-19 q: rnsdfgkqlqjdvrmtsqqh\\n1-5 f: ffffff\\n4-5 h: hhhhh\\n1-7 g: cglgjgflgggxv\\n2-3 g: gggpg\\n2-8 m: gbsmqmmmsmh\\n1-2 j: jjhkmqr\\n10-12 s: sssstsstpsssssp\\n9-15 k: tkbkkknkcnkgwkfkkkpk\\n6-7 m: mmmmmmmm\\n6-7 s: lsspssss\\n9-13 k: kkgjrvkkkkkkmkkkkzd\\n3-5 m: lbmmmzpwm\\n2-12 x: xxgwxxtbttcxzmlfwx\\n10-13 k: kkkkvkkkkkgkwkzkkkk\\n10-12 t: ttdftttttrtqt\\n4-8 z: zbzzzzzz\\n8-11 g: gctgdgwtspgg\\n2-5 l: lllvl\\n4-5 f: fwdspfmtts\\n5-8 z: zzhzmzzdzzz\\n11-12 x: xxxxwxxxxxxx\\n17-18 h: hhhhhhhhhhhhhhhhqm\\n9-14 j: jtkjwxjgjjjjjzjq\\n5-6 p: ddgdbkpdsd\\n2-5 c: xczcczc\\n6-15 t: ttgjktpwqthftfrt\\n13-16 t: tttttttttttttttq\\n9-11 t: tgttttttftttc\\n4-9 z: zzmzzzzzzzzzc\\n5-8 d: sddtvddb\\n5-6 l: llllpd\\n15-16 s: sssssssssssssssb\\n14-16 p: ppppppppppppppph\\n2-10 r: mjnczrrnlnv\\n9-10 s: ssspsssssrd\\n3-5 d: dddddq\\n2-3 v: llfv\\n7-12 n: dnnnlnbnnnncn\\n5-6 g: gsgggg\\n5-9 t: tltbtttttt\\n1-20 r: rtqtcmmgzfqmxtxqhdrn\\n2-6 l: hlkkll\\n4-6 c: cwccccc\\n3-4 c: gcrdcz\\n1-8 v: vvlvdgpvg\\n6-17 g: gjccgdglgzgtcggdx\\n1-17 l: nlczbmbrwcvgtjmcvcq\\n5-11 z: nzppckcknfwllzzzrpp\\n6-11 s: smsdjvsssss\\n3-4 t: cttt\\n1-4 q: tbcq\\n2-4 m: jmmmmm\\n2-8 h: hhhhhhhm\\n9-11 h: phrhhhvhchqhmhh\\n6-9 v: vvvvvmvvrvvvvv\\n1-2 f: nxfgjfffp\\n5-8 w: wwwwtnckwd\\n6-12 x: xxnxscxkxxtf\\n8-11 l: lllllllllstmllllll\\n9-11 p: ppppppppvtfpp\\n5-17 f: ffvwffpkfjffbtlfnftl\\n2-6 b: gbbgbbbbrbxk\\n8-9 t: trtftttttt\\n13-17 r: rrgrrvrrrrrbrrzrqr\\n10-11 k: kkkkkkrkkkk\\n9-11 c: cccccccccncc\\n2-5 j: jdfwzrjjtjt\\n10-13 r: zrrprxhrrxzmmrbr\\n8-13 s: sssjsssgssssbs\\n5-6 b: bbbhhkh\\n8-9 z: fzrzzzzxgfz\\n7-9 l: bllllmllhl\\n5-11 g: mqbfgrlgxfgcgggjdstc\\n4-11 m: mmmgmmmmmmmxms\\n14-17 p: lpppppppppzpppppp\\n7-9 d: ddddddddd\\n14-15 n: nnnnnnnnnnnnntz\\n8-17 n: nnnbgzqbnndnzfsnmsmj\\n12-15 l: lllkqllwdxlllvl\\n3-11 t: lpdztztgmdwtztj\\n2-5 m: rslsm\\n5-11 c: ckptcgwqshct\\n3-4 v: vvvdv\\n4-8 d: dddrhddhddd\\n2-5 n: brnnnnn\\n1-4 p: qtpp\\n5-7 l: lxblllflwl\\n16-17 t: ttttttttttttttthm\\n5-18 h: hhhthhhhhhhhhhhhhh\\n9-17 j: jjjjjjjjbnjjjjjjjjj\\n6-7 g: gfggnggrgg\\n4-6 n: nnnnwq\\n8-9 z: zzzczxzpwzlzdcsz\\n7-10 w: wwswwwvwwtwww\\n6-8 w: whwwwwlww\\n2-14 c: cpccccccrccccck\\n1-3 t: bqtbfdrdltn\\n3-8 w: qwjhwrnjwsb\\n2-4 g: gghg\\n2-11 d: htdtljjxrnddxbdnfkwf\\n12-14 b: bgbglrlpckgsxbjvqm\\n9-14 q: qqgvqqqqqqmqqq\\n2-16 m: mbmmmmmmhmmmmmzsbm\\n11-12 n: nnxnnnnnnnnn\\n6-12 r: rbrfbrnrrrprrczrqr\\n1-3 n: nmnqtz\\n17-18 h: hhhhhhhhhhhhhhhhfs\\n11-13 k: rkmkwrknzfkkm\\n2-3 w: bwwwwz\\n8-12 s: mssssssssssc\\n8-10 f: vzpcxfdfvqjpdkdh\\n1-2 b: kbbx\\n2-11 d: gqddddcdddf\\n3-9 z: lzzqztpzzlzlz\\n8-12 k: gkkfkkkmpkkkkktk\\n1-4 l: lsqm\\n9-11 m: mmzmmmmmmmv\\n16-18 f: fffchfffffffffffffw\\n7-8 v: wfhbqvxrvqpqvv\\n15-16 v: vvvvvvvvvvvvvvtvv\\n1-8 c: scwcrqclccccc\\n12-15 d: bpdvrddgdtfdgdd\\n2-4 k: gkkk\\n14-15 x: lxsxljxfxwxxjcwnxxv\\n6-7 p: hjxqnppmknskpb\\n7-13 b: bbbbbbcblbbbbbvb\\n7-9 j: gjjjpjjjhvqj\\n3-6 n: nnnnnnn\\n7-12 h: wxlhhhbjhhhhxhm\\n3-5 t: ttttt\\n3-4 n: ntnn\\n8-16 b: bhrjmbbbsbbbfbbbpbb\\n4-10 p: npsjlpppzgncww\\n4-6 p: pvpfxqp\\n1-2 f: fvxjf\\n3-6 t: trnktdttt\\n3-5 v: vvvvvmd\\n3-6 z: bzmdfpbwckf\\n3-4 h: hhhh\\n2-4 x: tshbsbxlkpgs\\n1-4 p: ppppbppppppppppp\\n2-4 c: cccwc\\n6-11 w: sbwwwwwqwmkw\\n1-2 f: bxff\\n3-8 h: rshhnqkvhh\\n2-4 l: lpllll\\n9-13 m: ltlmvcnnmmgtm\\n4-5 j: szjjjmjb\\n6-11 h: hkhdhkhhhhh\\n1-4 v: vvlq\\n16-17 b: pbdnsbbxbxgbdcqcr\\n1-18 n: nnnnnmbnnnnnnnnnnn\\n7-12 p: ppwtxzpvpppf\\n4-5 r: rrrrr\\n13-14 s: sgmdvqpxqqtstgspskf\\n4-7 h: hhhwchwh\\n7-18 d: ddlddddhjhbdddjdddd\\n4-6 l: llllll\\n15-16 n: nnnnnnnnnnnnnnzn\\n11-16 p: pppdplppppgpppmppppt\\n4-5 w: fwzbn\\n1-3 p: sjpfb\\n3-4 b: bbgbb\\n2-13 n: pdnnjnnnnnnnnnn\\n6-11 w: wwwkwdwwvcmwg\\n1-6 t: dhtmfk\\n4-7 d: wgrtpqldqldl\\n2-15 z: zjzzzzzzgzzzzjzpzh\\n1-6 h: hshhch\\n1-2 n: kdnnnnnqnnnnn\\n6-8 m: mdfjcclk\\n7-19 d: ddwdddddfnddddddddj\\n12-15 q: snqnppbsfjzvkxgkfc\\n6-7 n: nnnnnnn\\n3-4 x: xxghmxsz\\n5-6 t: tttgtsjts\\n3-5 f: mftfffcgwc\\n12-13 w: wpwwwwwwwwwzw\\n3-7 m: mmmmmmmmm\\n15-18 x: xxxtxxwdvxxxxxxxxkxs\\n4-5 w: wnpwwzw\\n17-19 n: nnnnnnnnnnnnqnnnndn\\n7-8 d: ddddddrf\\n9-11 t: ttqtttthttxttt\\n1-4 c: gccbr\\n5-11 w: wwwwtwmwwwwlw\\n6-8 v: vvmwvhvxvgsvftv\\n2-11 s: lkvssdschmsgqbbws\\n3-7 k: kmkxkckvg\\n3-10 l: llxllllllglrllhl\\n1-3 b: gbbb\\n18-19 v: vvvsvvvvvvvvvvvvvvv\\n8-9 d: tzddvdddddd\\n2-4 t: tgtbpcv\\n1-3 r: hrzrt\\n2-4 f: ffqq\\n5-6 c: cccjzh\\n3-4 j: jjln\\n6-8 l: lllllllllll\\n9-10 n: nnnnnnnnfr\\n8-9 x: xxxxxxxvcx\\n5-10 w: wpwwwbwwww\\n14-15 p: pppppppppppdphrppp\\n9-19 h: whhcthhxhhhhhhghjtwz\\n9-13 z: zzzzzpzzzhtzvnzzzzz\\n11-13 l: llllllllzlqql\\n6-11 b: bhlwpmbbbjzbcxwzmtc\\n2-3 q: fqqhfqr\\n12-14 m: mmmmdmmmmmmmsm\\n1-3 t: gggctqtfpxtrt\\n2-3 k: kbkk\\n11-14 d: dddddcdddfddddd\\n8-19 n: pnnnjnnnwgnnnnsnnnd\\n9-10 r: rrtrrrvrqrrrpr\\n4-12 k: kxskkkckkkzkz\\n1-10 h: tjvhhphpzhjrlhhht\\n8-9 c: pkcccccmc\\n3-5 h: slwlgwnhcxxdhk\\n1-8 l: cllllllqll\\n3-4 q: wzqthkjvqct\\n4-6 d: ddddddddddd\\n2-6 q: qqqbxm\\n6-9 b: bbbbbbqbsw\\n3-6 c: ccwkpdjccfvc\\n9-10 r: rrrrtrrrrr\\n1-5 d: phzdmtzshlz\\n5-7 q: fqqqqqrqq\\n4-5 v: vvvvr\\n3-5 k: kkgkk\\n3-7 h: wxhgkfhhhqnhdfhg\\n5-7 m: mmmwmmmmm\\n1-3 z: qsvrzwnxzvl\\n7-12 x: tpzblhzfdmxqqmmjfwq\\n9-12 m: mmmqmmmmmdmmmm\\n15-18 t: ttttttttttttttthtt\\n2-12 b: tblhkbgnbbfqvd\\n2-3 m: rmqv\\n8-17 m: jmcndnqmdjdtqnbvmpn\\n5-14 l: lxlfvjnbllllmlllllsb\\n4-5 r: rtlmrxxrrnrt\\n6-7 k: kkksmkg\\n16-19 q: bkwfqstbmqqhzqvqvcqd\\n12-13 l: lllllllllllpll\\n2-9 m: zgxdbmzrmbbdbw\\n7-9 d: bdddddzdk\\n18-19 g: wfwggwhxrnnspmvgjrg\\n17-18 w: wwwwwwwwwwwwwwwwwwww\\n2-6 z: kzzzfzbh\\n3-4 c: pcqk\\n5-6 t: tthtpx\\n10-13 x: xxxxxxxtdtkxqxqxxxx\\n1-2 b: qbwd\\n13-19 l: llhxsxlllllpllllllfl\\n14-15 n: nnnnmnnnnnnnnnqn\\n6-7 m: mjmhsdmmm\\n3-5 r: qqshck\\n8-15 c: clbcccrccscccpcwcc\\n9-12 k: kkcwkklkkkcnkkxkk\\n4-5 v: vvvppvv\\n2-8 t: dxtgttjj\\n1-8 r: tqrlhfzk\\n8-9 n: zhmtnfsrr\\n10-15 d: ddddmldddzddgnk\\n13-17 z: jzpzzzzzzzvwnzzbz\\n1-5 d: ddkdd\\n4-6 x: xsxgbf\\n3-8 k: wkckkkcw\\n5-7 r: ndprnrxrrrbzrpnrz\\n4-6 n: nnnnnnn\\n7-8 q: qbmxfhqqqqmhqqq\\n9-10 k: swgkcrkdkkjfmkkkjl\\n6-8 s: kzqbsxrchhvvfvkqhz\\n3-4 h: hmgh\\n10-11 b: bsbfbkbwbhh\\n9-13 z: nnzzbvzzrzkjnbzqfzzp\\n1-11 x: xsxnqgjsqzxxnxd\\n12-13 m: mmmmmmmmmmmvm\\n11-20 n: vjsnfnnsgnnnmnnnnnwn\\n4-11 q: qqqhqnpqbnrqhpd\\n10-16 s: hszrsssktsspdtsrssss\\n1-4 m: ldmhj\\n3-14 l: llxjlmllflzdbll\\n11-17 m: mmmmmmmmmmmmmmpmmmm\\n1-7 c: jcccccl\\n15-16 x: xjxxxxxxxxxxxxxxx\\n5-7 v: cvtvcvv\\n7-12 p: npppqpgptpjkjpdp\\n12-16 c: cwvmnknsbccvccrckqcf\\n5-13 v: vrvvvjvvpvvvwvbv\\n2-14 l: bkllllllllllldlllk\\n4-6 x: qxxxpxs\\n9-11 s: sbssssssssm\\n7-8 q: vgctvvqq\\n3-8 g: ggtgggggggg\\n5-6 b: pbbctbbbvnbjbbb\\n1-2 w: jwww\\n12-14 z: zszzzzznzzztzz\\n2-3 j: fnmgcjbjt\\n4-9 c: cccphccccpthcwwc\\n5-12 g: ggsgxggggsgqggggg\\n4-5 v: vvvvvv\\n8-17 q: hdhtqlwpzqqqqqpqqhq\\n9-15 s: sschdsssnvssvss\\n7-8 d: sdhkdtpcdwgddtdd\\n1-2 d: ddjdd\\n5-9 b: zbzbbbklzbbb\\n9-10 g: gggggggggg\\n2-4 t: kttt\\n6-13 t: pttsttttttttzt\\n16-17 h: hhhhhhhhmhhhhhhtdhh\\n4-10 r: rmpldrbrqcfqrkhbnqc\\n6-14 z: zjzcpzzxzzzctzjz\\n6-17 v: hsfctvxwpgsvfnfxwncq\\n14-16 p: ppppppppppppplpppppp\\n15-18 l: lllllslllllllgnllf\\n7-15 v: vvvvvvfpvnvvsvvgvv\\n3-4 x: xxsx\\n8-13 z: zzwzzrzzzzzqqz\\n7-8 r: hrsrrrrzrb\\n3-4 b: bzfg\\n5-7 h: dhhthhhhr\\n1-4 v: vcvv\\n5-6 k: pkkkqkkk\\n13-20 j: jjjjjsjjjjjjjjjjjjjj\\n3-6 p: pgtpptpxptvc\\n1-3 v: tvvvv\\n6-15 b: mbbbbbbbbbbbbkbb\\n11-15 q: qmqqqqqhqqqqqqqqdqcs\\n2-6 g: dggggr\\n1-4 j: jjldsjjhfg\\n2-4 h: vhkwhhnhbhx\\n3-5 z: zzzzzz\\n2-4 s: stmw\\n12-13 k: wkbcmmkhpklkdnnkdvk\\n19-20 b: bbbbbbbbbbbbbbbbbbbj\\n6-9 w: vwwwtcpwwgw\\n3-5 j: jbsjpjj\\n10-13 c: cdccqpccccccc\\n7-9 q: qpqqqqqqw\\n15-16 p: ppppppppppppppbd\\n6-13 n: nnnnnqnnnnndknnnnnn\\n11-14 t: ttttqtttttjtttt\\n4-6 t: tttltz\\n3-5 n: nnnrj\\n2-13 h: hhhhhhshhmhlkh\\n1-6 x: xxxxxcxxxx\\n4-7 v: ddswdvq\\n3-5 d: xjksdvdddddwcrqzj\\n6-7 x: xxxxxfxx\\n3-6 b: bbqbbll\\n9-12 p: pppppppplppj\\n12-13 w: wwwwwwwwwwwwzww\\n5-11 q: qztqqwvldnm\\n1-4 m: qmmj\\n3-7 l: llpllwllt\\n2-8 h: hmhhhhhrsfhh\\n8-10 g: gggggggqgv\\n5-7 g: pggzgggggggb\\n4-7 v: gvvxvrv\\n3-4 l: llkf\\n2-6 q: wqzpqqvdhhjlhkhmwtft\\n2-3 n: nnnrd\\n1-5 h: kfqqk\\n7-12 z: qczzzzdlclzzdpfgzzz\\n2-4 m: vrjmnqrmrmvm\\n4-6 h: hhhbkhpghh\\n5-7 z: zzzzgwbz\\n5-7 d: ddddkfdbdnd\\n8-10 q: qqxqqgtxqwqg\\n5-14 b: bbbbzbbrbbrbbnbbbbbb\\n8-10 z: vzzpzkzzgzzzzz\\n8-9 w: wwwwwwwwb\\n5-11 d: ddqdhddgddddd\\n2-9 h: fhhhhhhhhhh\\n7-12 b: bbjbbwxbcwbbnb\\n1-3 m: tmmdmmmm\\n2-3 b: bqtnkbjhlrvz\\n2-9 z: nzrbzzrzlzzzvzt\\n2-4 v: vvmv\\n9-10 q: fccjqpwhqqq\\n2-12 q: qqqqqfqqqqqqvqqq\\n1-4 c: cxnc\\n5-6 q: qqzhqqzqqqj\\n2-3 k: vkkk\\n8-9 n: nnmnnnxnnnnnqtwp\\n2-3 b: jrbzvcb\\n4-5 w: wwlnk\\n4-15 d: wdpddddmdddddddddd\\n10-14 d: dddqdxfddjbfddd\\n5-6 t: pttttmttp\\n3-4 b: bbgdbbb\\n5-6 b: rgtqbbb\\n7-14 b: pwpbbhbvbzxfbbb\\n6-10 p: zppvhbpmcpwpprp\\n1-15 p: bpfdpppxxmkppppmg\\n9-14 w: hmlxdbdcqmxxhw\\n1-9 t: zrqqtdbwpqdd\\n4-6 n: knrnlnznn\\n4-9 l: gclwdmllglblnlzn\\n5-7 c: ckccbvvgtlc\\n8-11 p: ppppppppxpp\\n13-14 w: wwwwwwwwwwwdwh\\n17-18 k: kkkkkkkkkkkkkkkkkk\\n7-11 c: qccmcnccccc\\n2-7 m: vmbnrmmngtqkjlmmt\\n9-12 m: mtmmmmmmmxnr\\n8-12 j: rjjdjvdjjfhj\\n14-16 h: hhlhwhhhhhhhhgbhh\\n10-12 w: dxwwwwlwwwwkwlwpwdl\\n1-3 w: wmwcwrfbpwtzwf\\n1-6 j: bjjjjjjj\\n8-13 f: ffffffffffffgf\\n1-6 g: lghdgt\\n6-8 s: sssslsfb\\n16-17 c: cccccccccnmcccmkc\\n3-4 z: zmzz\\n8-11 c: cccccccdcccc\\n8-15 p: lcnvhbjldhfsgwfvtbp\\n3-4 q: qqqq\\n5-7 b: bcpqbdq\\n1-4 t: ttttttttttttdtttt\\n3-14 v: cvlrwvzvjkdbdd\\n4-8 l: fcdhlwwl\\n4-5 m: mmmmpm\\n3-4 h: hhqlhl\\n5-6 r: mrrrqrr\\n4-5 c: cvccc\\n11-15 p: pppppppshpjpppszppp\\n6-8 j: fjzbjjjjvkjj\\n3-7 q: qqsqqqqq\\n1-16 p: jpppqppppppvppdwp\\n2-5 g: jgwlxzgbhpmqp\\n5-6 p: pppppplppp\\n7-18 r: wmbbsjrmmzzdlxbwcfhp\\n1-4 w: wvwqn\\n6-7 p: pppppcmp\\n15-16 h: zhhhhhhhhhhhhhhhhh\\n2-16 h: hrhhhhlthhwhqjhht\\n14-17 k: kkkkkdkkkkxkkskkxkk\\n15-16 d: dddddddddddddddf\\n2-17 v: vwvvvvvvvvvbvvmvvr\\n7-8 v: vvvvvvtd\\n1-4 f: lftr\\n2-4 h: hhrq\\n10-15 s: qsnnssxsvtfssdssss\\n16-17 n: nnnnnnnnnnnnnnnnn\\n1-4 r: bldfswjgvrsf\\n10-11 n: lnxknqwlnnxc\\n9-14 k: tjxclnrddxnpmg\\n3-10 v: tvvvqmvsvcvsc\\n3-4 v: vnxrv\\n1-6 k: kkgkdkmj\\n3-4 h: jhbrh\\n8-9 c: ctczkccknntcccrc\\n13-14 t: ttsttdtcttttttj\\n1-9 b: bfwjbbxbd\\n9-10 m: xmdvtsbmgg\\n5-6 w: wwwwww\\n2-6 l: djlwlwkl\\n5-6 h: hhvjtrkhh\\n3-5 b: bsbbl\\n5-7 p: vxpwppsppp\\n2-4 d: zbnddd\\n3-4 s: msjss\\n4-7 l: llqllll\\n6-18 w: wwwwwwwwwwwwwwwwwlw\\n13-14 h: hqnlxqhfwlvhhh\\n7-9 p: ppppppcphpp\\n5-8 x: bjfxkbqxpzxhxwvxx\\n4-5 h: hhhpphgh\\n4-5 c: sczcccccc\\n4-10 n: nnfnnnsdgnnsj\\n5-6 j: jwjjmjj\\n1-9 c: hcrlmrcdjwhqn\\n3-5 x: xxjxvx\\n7-13 x: xxvxxblxxnxxlx\\n3-6 w: wwjwwwf\\n14-18 m: mnmmmmmmmmmmmmjmmmm\\n3-5 t: tslttjqvnb\\n1-2 v: sfkvhj\\n2-4 c: ccctc\\n5-10 r: rrqptljvxtkrwsfdbr\\n3-4 q: qbwqngvm\\n1-4 t: nttnt\\n8-10 f: fqmfrffftv\\n6-7 h: hkhhhhhv\\n9-17 f: hfzhbmrxsfwfxdffh\\n1-10 t: tthttgtgtgttctt\\n2-3 b: tlbsbcxzbfplpjlsvncg\\n8-16 t: tdtttttpttttttttttt\\n8-16 k: jkkmzlkkgvkkkwtj\\n13-16 v: vvvvvvvnvvdvhvvw\\n7-9 v: vvvvxvhlqvzmc\\n4-6 l: gdjscq\\n9-17 f: fffffqffsfffffffhff\\n4-5 g: ggggb\\n2-4 w: wnmh\\n7-8 g: ggjgrqfgg\\n11-13 k: rrkgxzkkqnljs\\n11-15 v: vsvvvqvvvvwvvjcvvv\\n13-15 c: ccccccccccccccvccc\\n1-6 n: jpmcnjdbdn\\n3-4 v: xvlffppmgzwvv\\n6-12 j: jjjjjslsjbpj\\n10-11 l: lrhljlqllldblll\\n8-11 h: hdhghhczmxhhhhhw\\n2-3 z: ztnt\\n6-8 x: jxxxxqxmm\\n2-6 n: nwnnntnnjt\\n8-13 z: ztzzzzzbzzzzq\\n4-13 v: vxvvvxvmvvvvvvhvv\\n11-13 t: ntttftttxtstttwt\\n5-6 d: dddznd\\n10-15 t: trxttttttbbstttt\\n2-4 t: tblp\\n8-11 l: xllllllwlldl\\n12-13 m: mmsmmmmmmmmvcm\\n3-4 t: tthb\\n10-12 c: cpsclccmccctccc\\n11-12 k: pkkkrkkkkqkfkk\\n11-13 v: vvbvvlvvvvvvt\\n6-11 p: xkxfdpkkrdpb\\n13-14 h: hhqskrdhrhphbb\\n2-6 r: rdrrrr\\n1-4 p: nppg\\n5-6 h: hgpbhh\\n4-5 l: mrgzlxlchgjgwrlmvxl\\n6-11 b: bbbbbbbbbbbbb\\n2-5 s: svsvss\\n10-18 j: jjjdjjjjzjfjjjjjbj\\n1-14 p: tjphtjfnbhhgrmzdp\\n2-4 v: vvvv\\n5-7 q: vqvnbqdqhwqxqv\\n6-7 m: mmmmmlj\\n9-10 g: ggggggggggg\\n7-13 n: sqnjnnrnnfnnn\\n2-4 f: fbrfkhfkfcgjfp\\n2-3 b: wfwjlbx\\n16-17 r: rrrrrrrrrdrrrrrrr\\n3-7 b: vkksbzbbhpwb\\n2-4 m: fmcr\\n9-20 v: vfvvxnvvdwhvxvvvqlvj\\n6-9 b: jgjrcbnftrlbhp\\n4-9 x: hrqtpwzjxxx\\n7-9 h: hhhhhxnhdh\\n7-8 k: kkkkrtsphkk\\n6-7 n: jnnnblnnj\\n10-15 d: dddddddddkddddt\\n2-8 p: npbdhcgpl\\n9-10 x: xqxxxxxzxvx\\n5-9 k: khtkkwkkxqm\\n1-5 t: stttttttgttttt\\n5-13 w: wwhfjkshrwfpnlwjjmq\\n4-9 x: rzfrxzcxvxxx\\n3-4 g: hgfgg\\n2-3 n: nnnn\\n11-14 j: jjjjjjjjjjjjjj\\n9-10 m: mmmmmmmmmm\\n7-8 m: mmmmzmkmjhhwzmmwp\\n2-5 r: rrzrr\\n3-4 w: vnwpww\\n5-9 h: hzhhhhhjgmswvbxfr\\n6-10 h: cvhhhlhhhz\\n4-5 g: xxgggzg\\n1-2 d: dddcf\\n5-8 v: vvvvvvvpxv\\n7-9 b: bbkbjbpsbbbbtkblmr\\n6-8 f: fffffmfgfff\\n2-8 f: zfskzfjjwfjsf\\n4-5 v: lvdvdvv\\n4-5 p: ppbkrjp\\n6-14 z: zzzzzrzzzzzzzhzzw\\n5-7 g: cbbfngwggzs\\n2-4 n: nfpnnhnkpgmjdgc\\n11-14 h: hhhqchbhhhwhhhqjjhhn\\n5-7 q: qqqqqqq\\n2-3 s: sssjs\\n11-17 w: wwwxwwwwwwhwwwwwrwww\\n12-13 n: nnhtsnxqndxnlnnn\\n8-10 j: jjjjjjjhjj\\n15-16 z: zzzzzzzzzzzzzzzg\\n2-5 j: jfjpk\\n1-10 z: mzfzzzzzzpzzz\\n13-15 v: vcvvrvdvvvvvvvvvvv\\n11-12 j: jljjljqjvjmhjjj\\n1-7 c: cctccvv\\n6-17 s: slqssbsswsssszswsss\\n16-17 s: klksgsgtpsnrpslzs\\n12-13 m: mmmmmmmmmxmmfm\\n18-20 v: vvvvvvrvvvvvvvvvvlvs\\n18-19 d: ddddddddddddddddddv\\n4-5 p: srsjp\\n2-5 d: czvdk\\n5-11 w: pwgbslprbkk\\n15-16 b: bbbbbbbbbbjbbbbqnb\\n7-8 h: hhhhhwxt\\n11-12 g: ggggggggtqggg\\n10-11 m: mmmmmmmmmfk\\n4-6 m: qvlmmbmmmdrmpcqmmfq\\n1-10 r: xrrrrdrrrnrvzrrrrmrr\\n5-9 p: pljpvppkgc\\n13-14 j: jjjjjjjqjjjjwv\\n6-8 g: gggggggqg\\n2-7 b: bbkkdwb\\n3-16 q: fqqqqlqqqqqqqqqhqqqh\\n3-5 x: xfjxv\\n1-2 h: hhtkkpvhk\\n1-13 d: dddddddddddddddddd\\n7-8 x: kxxvngmqxcrqsxxlx\\n1-4 m: zvmr\\n1-11 n: wnfnnnsnftrnnfn\\n6-13 h: gcrjcphhhhpgh\\n1-4 h: jghv\\n7-10 m: mvtqpjmvvmvgp\\n4-7 j: pjjhjjjj\\n4-5 c: ccmcc\\n1-3 d: ddddd\\n2-4 g: gdglgwn\\n3-8 z: mbzznvds\\n3-11 k: fkjttkdkkqbkkkkr\\n5-10 n: nnnnwvnnncnnnnn\\n1-5 p: wdnxzn\\n2-4 h: phhhhhth\\n10-12 p: ppwpwkpgppvppppr\\n2-6 r: cdrxrrfrrztbq\\n6-15 g: gpjggfgcglqgfggw\\n3-4 q: qfqgq\\n2-6 m: mmmmmf\\n10-11 f: fffffffffff\\n5-12 g: bvggjfggkggggrqn\\n5-16 q: qbqjqqqxzqqqnqmhqq\\n3-5 g: gggggg\\n3-6 w: wzpxfbkkwtfdswwq\\n6-7 x: xccxxrwfp\\n12-13 q: qqqqqqqqqqqqq\\n7-12 k: kpkkkktkkkkf\\n5-7 f: kjlffrf\\n9-12 b: rnlzpmxcbbbbbzb\\n7-16 t: tztqtdvrrtgtzjtbtpt\\n14-15 g: ghkblgpbgbrtdgg\\n6-10 h: hdtqhhhhmlhh\\n6-13 g: gggggzgggwggl\\n7-9 v: kvtqvdsvvvwvpvgkhfl\\n10-12 b: bbbbbbbbbmbtbbbb\\n11-18 d: ddbddldhgzpkdcdddwd\\n12-13 k: kkklkkkkkkkkkk\\n3-4 v: rdvztvgv\\n4-9 n: zzjtntjcdlt\\n11-14 r: rrrrgrrrrbrrrrrrrrr\\n1-4 q: qkvq\\n2-9 z: wgpmpmxdz\\n13-19 p: pmpqjpppppppjpppppkp\\n3-4 s: smxwrsmt\\n1-5 m: mmsmhmm\\n11-14 p: pptmpppnpppspp\\n11-12 c: crcccpccfpcncccc\\n17-18 x: xnqxxxxxxxxxxxxxxxxx\\n1-2 v: cppsvk\\n4-6 p: gnpppg\\n2-9 r: krbjwprvrrsmrbrjcfl\\n2-12 x: cnqxhvppvzkxc\\n1-4 g: bgggg\\n3-4 j: jjjj\\n4-6 l: lwnlljgsdtl\\n1-8 v: vvfhxlcq\\n11-17 s: wsssmjsjbfstglsss\\n6-10 p: pprkpdpsgvm\\n13-15 r: rrqrrrrrrrrrrrrr\\n3-4 v: vvvj\\n1-10 k: kxprmfhcqkcknpqqggt\\n9-10 k: lrkkkkkkxtk\\n2-14 r: rrdtrmxjwrxgrv\\n8-12 q: qqqqqqqwqqqqq\\n4-7 v: vvddhcs\\n3-4 h: ghhzsvfkghshhz\\n9-12 z: zzwctlnpzlzzzbhz\\n14-16 w: wwwwwwwwwwwwwlwlwwww\\n11-16 r: frrrrrrrrgrnfrrcdr\\n2-3 l: jrlkln\\n11-12 w: dhwpwzdpwzkf\\n8-12 h: shpthhjhlhhhsd\\n4-5 n: nnnnnnnnnnnnn\\n5-9 d: dddtqdddm\\n2-8 p: kpkhwtptjl\\n1-9 k: rhvfjdgmjfckqnbjkxk\\n8-12 s: srsfbqgqcjgstkldlzbj\\n10-11 x: xkmxbndwvxx\\n10-19 k: zksnmwtkdkzkkxnvkjk\\n4-5 f: qjnfpsfqqfgmf\\n1-9 f: fvfffprxffffsphpfff\\n2-9 j: njgjjjbqjnmjxbhj\\n2-5 z: zzzxzbfp\\n8-15 f: ffffdqflmfffffrfw\\n5-15 c: cxmltcccmcmgvjg\\n2-3 p: pzqp\\n2-8 d: fttcqdzdq\\n6-10 p: sgphkqkspxbpfsjd\\n5-6 p: pppppf\\n5-15 r: rrrgrrrrsrcrrrnr\\n11-12 t: ttttttttttlt\\n10-11 w: wwwwwwwhxtwwww\\n9-10 h: wklhbssjkr\\n9-14 j: rjjgjjjfhjjpnbjjjj\\n2-3 d: dddd\\n6-14 q: qqqqqkqmqqqqqqq\\n14-15 w: wwwwwwwwwwlwwxw\\n5-9 s: vzssssssn\\n13-14 n: nnnnnnnnnnnnxt\\n1-9 w: cpwtwvngszwwzpwwcw\\n1-2 n: nnnnnn\\n7-18 b: bbbbbwbbbbbbbbbbrbb\\n4-7 f: pfgfwhw\\n7-13 q: qqqqqqsqqqqqhqqqq\\n3-10 n: gnpjzgndrntnb\\n9-13 q: qlqqqqqqqqrrqpqh\\n16-19 m: mrqcmmpmmmmmmmmcqmfm\\n5-11 p: fgkdvbqwpsfbpjpprgp\\n7-11 q: fqqwdqfkqqqrssqqtp\\n5-6 t: trtfkvg\\n17-18 h: hhhhhhhhhhhhhhhhhh\\n6-18 l: lllllklllllllllllbll\\n4-9 q: hqqxqqqql\\n1-5 j: jjjjnjjjj\\n3-4 g: jxggg\\n14-16 j: zljnjjsjjjjjjjjjfjjj\\n7-9 m: pmzmmzjmxpcbrqnmmmm\\n3-7 z: zlczjzlnrtkfss\\n2-15 s: xzswpvgnwwjkzws\\n15-16 z: zkzzzzzztzqzzzwzzzz\\n6-12 f: fcffffffpfffhx\\n9-14 p: kptdgpcvplhjhnppst\\n9-11 h: hhhhhhhhhhmhx\\n2-3 c: cccc\\n8-18 s: sszslksjsrsssssssws\\n1-6 h: rgvjlphbbhhhnkzz\\n2-7 r: rlzrhrrrk\\n17-19 h: hhhhhhhhhhhhhhhhhhhh\\n2-4 j: wjzjqj\\n5-6 b: bbbvdx\\n7-13 k: ztqlwthlsdkrdww\\n1-2 m: tmmm\\n16-19 d: ddcddddddjdjdddpddd\\n2-3 n: tvxj\\n13-14 z: zzzzzzzzzzzzpz\\n6-7 x: xxxxxxl\\n2-3 q: qnrw\\n7-10 l: ljlvfhgrmllkhlxlq\\n2-4 b: bbbq\\n16-17 h: hshhhhhhhmhhhhhckh\\n1-6 r: rrkrrr\\n14-16 n: nnnnnnnnnnnnnnqnnn\\n5-11 h: fhhlhhhhhhjktdhngj\\n3-4 g: gzgdvgqgq\\n2-4 r: hvrg\\n7-11 b: bbgcbbbqbwsbgbbbk\\n5-9 m: hfpmxpmvmb\\n17-20 v: vvvtvtvvvvvvvvvvqvvb\\n1-20 z: pszbttwrmqvlrgkmmlwz\\n9-16 h: hhhhhhhhhhhhhbhth\\n1-2 n: nhnhh\\n1-10 n: wnnnnnnfnrnn\\n1-5 k: sjkkk\\n1-7 k: lklkkkpkk\\n4-6 n: nnnznwn\\n14-15 s: sssssssssssssds\\n9-14 z: zzzzjzbzzzzzzzz\\n16-19 g: ggggfrgzgggggggnggg\\n9-13 v: vphvvvvvvjvvvmvv\\n2-3 l: lvvxpvvqzhdzrk\\n4-7 c: qdhclzccwcbmvcsz\\n5-8 s: stsskssws\\n3-4 c: kbxp\\n2-10 b: dtlqbbsvzbbklbgbf\\n8-10 s: smsslsbrsbcvsjsts\\n2-4 k: kkkkl\\n15-16 x: xxzxfxxrdxxfxpxrxn\\n11-18 h: hhnrdhhhhhhhhhhhjxh\\n1-2 n: plzvhknwjn\\n4-9 w: wwzkwwwwxww\\n2-3 l: lllp\\n3-9 j: fkzjnhqzpjjd\\n4-6 k: skkltk\\n3-4 k: klvkkkk\\n3-4 k: kkkg\\n10-11 d: bqdkzpxnfdd\\n12-14 r: rqrrrrrrrrrlfxrr\\n2-3 r: znrf\\n1-4 j: hgzjjtnw\\n1-6 w: mwwtwwww\\n14-16 d: spddddtddzjsbdcx\\n3-4 x: xxbf\\n11-12 r: vrrrkdrsrnhrnrvrr\\n1-4 c: clmw\\n3-8 t: ztvndgtx\\n7-10 z: zzzzzzzzzzzzzv\\n4-12 t: tbrthtwtchtt\\n1-7 h: hwhqrvhqhfh\\n4-7 s: ssfssss\\n5-13 s: kjtsspjmzrfxp\\n4-7 z: zzzzzzzz\\n5-15 h: gvhhrscmwmdhhhghhn\\n7-8 r: rrrrrrns\\n6-9 r: zrrrrrddr\\n7-15 v: vvghgtjwwvzwhrk\\n14-17 c: cccccsccccccnbtchc\\n2-3 k: kgrgr\\n15-17 k: kkkkkkkkkkkkkkvkk\\n10-11 f: fffffffffvj\\n6-8 r: prdnmrrzg\\n3-4 f: kcfx\\n4-5 k: kkkkkz\\n4-15 t: ztttttqhcpstwtt\\n1-6 g: cvgghtg\\n9-15 j: jtrxvjtjhjjjsjj\\n9-10 f: fffcffffff\\n10-11 r: hjflczjkqrq\\n3-8 k: jssmkkkbpkkjsvnhwkh\\n6-10 g: ngggkggmbggtcgg\\n15-16 x: xxxxxxxxxxxcxxjx\\n8-9 k: kkkkkkkkn\\n7-8 b: rbbbbbxdbb\\n2-5 w: wwwdwmkhvd\\n1-6 v: hfpwkxgvv\\n12-14 z: zzzzzzzzzzzjzz\\n14-16 s: ssrsmssssssssssss\\n3-6 z: zdmzjkc\\n2-4 m: mmbb\\n13-18 w: lwwwwwkrwwwwwwwwwksw\\n5-6 r: bwjrjgrrrrjbg\\n5-9 r: rrxmrrlrrj\\n2-4 g: gggk\\n5-10 s: ssssgmssrscptfrc\\n6-8 q: qqqqqzqqq\\n16-17 m: kmmmmmqmxmlpsmmmm\\n7-10 t: thxvtttztttjttvtkrcc\\n2-4 p: pppp\\n4-8 q: njdqbqqqrxd\\n2-5 w: gwmwklnkfmwjjggw\\n10-16 m: mmmmmmmmmzkmmmmw\\n1-2 w: btkxj\\n1-3 z: pzphlh\\n7-10 j: jjjjrpcpjgjjkz\\n3-5 j: jjljjj\\n1-5 l: lkzflppcgpll\\n4-6 m: mmmmmrm\\n2-4 m: vmzmmmdhcmntntlrgqk\\n8-9 x: xxwxxxlbxxx\\n1-2 s: rwrbhvt\\n1-5 d: dfdhdd\\n6-7 z: zzzzzfz\\n12-14 v: vvvdlvqvvnvkkm\\n2-7 s: skftlhmfdgpsp\\n9-11 q: rlqcqvqqqqqqqqq\\n5-6 g: ggmgwtg\\n5-7 m: mmmmmmmmmmmmmm\\n4-12 f: qffmdmffzfdff\\n8-10 k: lkwlkvkkkkkkkkkqk\\n15-17 p: qppppqppppppppzpv\\n3-4 x: xxxxx\\n7-8 x: xxqxdxxxxx\\n6-10 b: bbbbmsnkfbdrbnbtlnvb\\n3-16 d: ddmdddddrddddddp\\n8-11 n: nnnnnnnmnjdd\\n3-4 v: vvgd\\n11-13 n: nnnnnnnnnnfnn\\n5-10 n: nnnnpjnngcnqnn\\n7-11 w: wtwbbtzswqt\\n1-6 f: fffffwfff\\n8-10 q: qqvqqqqqqq\\n2-3 h: hhhh\\n17-18 m: mmmmmmmmmmmmmmmmqmmm\\n10-11 f: ffffffffffdff\\n2-4 z: zzzz\\n5-6 g: gggghz\\n6-19 n: nnnnnqnnnnnxnvnknnnn\\n2-6 h: rhhdbk\\n2-5 w: fnkwgww\\n4-5 c: cqcdgtmcccrbcckng\\n1-12 h: hkwptjwxmmgfhbvgj\\n4-5 g: pbhtb\\n1-11 h: hhhhhhhhhhhhh\\n5-11 v: gfrfvfqmgsnrtqkvq\\n13-14 s: sstssssscssdssss\\n3-8 b: tzjqgnkbbzzvrsb\\n8-9 b: bbbbbbbvb\\n7-13 r: rrhdcvrrtxmrzrmfxr\\n3-6 s: lsshsk\\n2-6 g: rqzpqtxmbggsgg\\n4-5 b: lbbffb\\n3-4 m: kmpm\\n8-18 w: wwwwhwwhwwwwmwwpbdw\\n6-7 n: nnnnnjn\\n6-9 r: ggrrsqrrrqrhbmrqzgd\\n7-9 g: rggggggzc\\n1-8 n: nnltwnnwn\\n6-8 r: rrrrrpxvr\\n4-12 c: ccccccccccchcccc\\n1-3 g: mrbgf\\n6-12 p: zfpsppknppvpmlrspbn\\n1-4 g: jxmmns\\n1-11 q: zdzhtqsxkcrklwk\\n2-4 x: svqmxxl\\n7-8 l: lllrwllll\\n9-18 v: zkhlxtqvvcvndkzkvvt\\n2-9 f: fksffshzx\\n2-5 j: jkjnj\\n4-15 j: qjjjmvjjpvmjjjbj\\n1-5 p: kpppx\\n1-6 v: vjttbvffvdhvk\\n4-17 l: wlsqvxkrjlltlnxnmds\\n1-3 p: pdzqnp\\n1-3 h: hhhh\\n2-14 z: mmvzzvzzkzhzszvqzzf\\n3-6 q: qqrjsxqqq\\n3-5 h: hrhvr\\n1-8 k: kkskktnkklzdkjgk\\n17-18 p: ppppvpppqppppmpppxpp\\n2-8 f: fffjsfbp\\n9-10 v: vvvfvvvtvxltsvv\\n6-12 j: jpvptjqpkjwjr\\n15-16 v: vvvvvvvvvvvvvvvp\\n6-8 q: qqpqbqqvqq\\n10-12 n: nnnnnnnnnnnjn\\n13-14 n: nnnnnnwnnnnnxgnn\\n2-3 k: kkkxl\\n2-3 w: ldmm\\n14-19 m: fphmmmmmmkmmmbmdmmw\\n4-7 w: wwwgjwww\\n8-9 d: dddwdddddd\\n6-7 w: wwwfwfvtw\\n2-6 j: hlcpkj\\n1-3 m: xsmmc\\n1-9 b: bbbbbbbbbbb\\n1-4 z: zsgz\\n2-12 v: vpvvvvvvvvvmvv\\n2-16 c: vccjrtcckcccckcsc\\n4-15 d: cqxpptqpwmqbvsvvt\\n2-14 q: qqqfqwpqzqsmqqvqrxjr\\n9-10 w: wvkfhfkhwjvw\\n6-10 q: tqqmqktxqfvq\\n4-11 f: kvqlfqxfrsf\\n7-14 m: rmxmmmmmmmmmmmmxmm\\n18-19 v: vvvvvvvsvvvvvvvvvvvv\\n7-8 x: fxnxxjjx\\n5-6 d: dzddrd\\n9-11 b: bbbbbrbssqtbb\\n14-16 x: sxxxlxxxxxsxxxxxxxx\\n5-9 t: wtttttbptttttqttmtt\\n11-13 l: lllllflllwsll\\n7-8 r: rrrmprjcv\\n6-9 p: plvpdzzppptpkpkpgp\\n2-13 g: chmjgvkvsplztzvtlzl\\n6-8 z: czzzzjzkg\\n1-5 l: jlltpfwlrl\\n6-7 d: jddcggqmdddd\\n3-5 c: cxbbc\\n13-14 p: ppqpppppppppbs\\n3-7 w: rwwnqlw\\n4-5 v: vvvvv\\n9-10 v: vvvvvvvvvm\\n3-5 z: zmxzlz\\n7-8 c: cccccchdc\\n2-4 d: drddctmgd\\n3-4 n: nnnn\\n3-10 q: cbqszqfqqqbvrrtsfq\\n4-17 p: pppkppppppppppppwp\\n11-12 n: nnnnnnnnnnnn\\n14-15 d: dddddddddddddxn\\n6-11 k: gbmbzkcmzskpkhp\\n2-10 z: zrzzzzzzzjzzz\\n1-2 q: wvqq\\n11-14 d: ddddddddddhddn\\n2-7 h: hhhhhhhhxh\\n10-19 m: mmkmmmmdmmmmmqhvpldm\\n2-10 j: jbmjjjrcjj\\n7-9 c: ccccplccccc\\n7-19 c: cckcbwlcccccccccczp\\n9-13 z: zzzzzzjmzzzzp\\n16-20 j: vjkjjcjjrjjmtnbjjjnj'"
      ]
     },
     "execution_count": 54,
     "metadata": {},
     "output_type": "execute_result"
    }
   ],
   "source": [
    "puzzle.input_data"
   ]
  },
  {
   "cell_type": "code",
   "execution_count": 7,
   "metadata": {},
   "outputs": [
    {
     "data": {
      "text/plain": [
       "['.#......#..####.....#..#.......',\n",
       " '#.#...#...#..#.#...#.#...##.##.',\n",
       " '#.#....#..........#...##.....##',\n",
       " '#.#.#.....##......#.#.......###',\n",
       " '..#..###....#.#....#.#.#..#....',\n",
       " '.......#.#....##..##...#...#...',\n",
       " '..#..#..#..###.......#.....#.#.',\n",
       " '.#.......#...##...##.##......##',\n",
       " '#.#.##..##.#..#....#..###..#.#.',\n",
       " '#.....#.#.........#.....##.#.#.']"
      ]
     },
     "execution_count": 7,
     "metadata": {},
     "output_type": "execute_result"
    }
   ],
   "source": [
    "data = puzzle.input_data.splitlines()\n",
    "xdim = len(data[0])\n",
    "ydim = len(data)\n",
    "data[:10]"
   ]
  },
  {
   "cell_type": "code",
   "execution_count": 8,
   "metadata": {},
   "outputs": [
    {
     "data": {
      "text/plain": [
       "(31, 323)"
      ]
     },
     "execution_count": 8,
     "metadata": {},
     "output_type": "execute_result"
    }
   ],
   "source": [
    "xdim, ydim"
   ]
  },
  {
   "cell_type": "code",
   "execution_count": 12,
   "metadata": {},
   "outputs": [],
   "source": [
    "pos = [0, 0]\n",
    "trees = 0\n",
    "while pos[1] < ydim:\n",
    "    if data[pos[1]][pos[0]] == '#':\n",
    "        trees += 1\n",
    "    pos[0] = (pos[0] + 3) % xdim\n",
    "    pos[1] += 1\n",
    "    "
   ]
  },
  {
   "cell_type": "code",
   "execution_count": 15,
   "metadata": {},
   "outputs": [
    {
     "name": "stdout",
     "output_type": "stream",
     "text": [
      "\u001b[32mThat's the right answer!  You are one gold star closer to saving your vacation. [Continue to Part Two]\u001b[0m\n"
     ]
    }
   ],
   "source": [
    "puzzle.answer_a = trees"
   ]
  },
  {
   "cell_type": "code",
   "execution_count": 16,
   "metadata": {},
   "outputs": [
    {
     "data": {
      "text/plain": [
       "'151'"
      ]
     },
     "execution_count": 16,
     "metadata": {},
     "output_type": "execute_result"
    }
   ],
   "source": [
    "puzzle.answer_a"
   ]
  },
  {
   "cell_type": "code",
   "execution_count": 9,
   "metadata": {},
   "outputs": [],
   "source": [
    "# Part B"
   ]
  },
  {
   "cell_type": "code",
   "execution_count": 23,
   "metadata": {},
   "outputs": [],
   "source": [
    "from functools import reduce\n",
    "from operator import mul"
   ]
  },
  {
   "cell_type": "code",
   "execution_count": 17,
   "metadata": {},
   "outputs": [],
   "source": [
    "def check_slope(dx, dy):\n",
    "    pos = [0, 0]\n",
    "    trees = 0\n",
    "    while pos[1] < ydim:\n",
    "        if data[pos[1]][pos[0]] == '#':\n",
    "            trees += 1\n",
    "        pos[0] = (pos[0] + dx) % xdim\n",
    "        pos[1] += dy\n",
    "    return trees"
   ]
  },
  {
   "cell_type": "code",
   "execution_count": 19,
   "metadata": {},
   "outputs": [],
   "source": [
    "slopes = (\n",
    "    (1, 1),\n",
    "    (3, 1),\n",
    "    (5, 1),\n",
    "    (7, 1),\n",
    "    (1, 2)\n",
    ")\n",
    "results = [check_slope(dx, dy) for dx, dy in slopes]    "
   ]
  },
  {
   "cell_type": "code",
   "execution_count": 26,
   "metadata": {},
   "outputs": [
    {
     "name": "stdout",
     "output_type": "stream",
     "text": [
      "\u001b[32mThat's the right answer!  You are one gold star closer to saving your vacation.You have completed Day 3! You can [Shareon\n",
      "  Twitter\n",
      "Mastodon] this victory or [Return to Your Advent Calendar].\u001b[0m\n"
     ]
    }
   ],
   "source": [
    "puzzle.answer_b = reduce(mul, results)"
   ]
  },
  {
   "cell_type": "code",
   "execution_count": 27,
   "metadata": {},
   "outputs": [
    {
     "data": {
      "text/plain": [
       "'7540141059'"
      ]
     },
     "execution_count": 27,
     "metadata": {},
     "output_type": "execute_result"
    }
   ],
   "source": [
    "puzzle.answer_b"
   ]
  },
  {
   "cell_type": "code",
   "execution_count": null,
   "metadata": {},
   "outputs": [],
   "source": []
  }
 ],
 "metadata": {
  "kernelspec": {
   "display_name": "Python 3",
   "language": "python",
   "name": "python3"
  },
  "language_info": {
   "codemirror_mode": {
    "name": "ipython",
    "version": 3
   },
   "file_extension": ".py",
   "mimetype": "text/x-python",
   "name": "python",
   "nbconvert_exporter": "python",
   "pygments_lexer": "ipython3",
   "version": "3.7.3"
  }
 },
 "nbformat": 4,
 "nbformat_minor": 4
}
