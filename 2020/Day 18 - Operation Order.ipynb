{
 "cells": [
  {
   "cell_type": "code",
   "execution_count": 1,
   "metadata": {},
   "outputs": [],
   "source": [
    "import aocd\n",
    "from aocd.models import Puzzle\n",
    "day = 18\n",
    "year = 2020\n",
    "puzzle = Puzzle(year=year, day=day)\n",
    "# data = aocd.get_data(day=day, year=year)\n",
    "with open('./data/input_{:02d}'.format(day), 'w') as fh:\n",
    "    fh.write(puzzle.input_data)"
   ]
  },
  {
   "cell_type": "code",
   "execution_count": 2,
   "metadata": {},
   "outputs": [
    {
     "data": {
      "text/plain": [
       "['9 * 2 + 3 + 9 * ((3 * 3 + 7 * 6 + 5 + 5) * 8 * (6 * 8 + 7 * 2) + 4)',\n",
       " '(4 * (2 * 3)) + 7 + (4 + 2 + 6 * 4 + 9) * 2 * 3',\n",
       " '5 * (6 + (5 * 7 + 6 + 2) + 6) * (6 * 5 * 6 * (8 + 4 + 8) + 4)',\n",
       " '8 * 2 * 9',\n",
       " '3 * (8 + 2 * 2 + 5) + ((2 + 6 + 5 * 7) * 6 + (7 * 7 + 3 + 8) * 5 * 2 * 4) + (8 + (5 + 4 + 5 + 5 * 5))',\n",
       " '4 + 3 * ((9 + 5 + 7 + 6 + 9 + 5) * 6 + 2 * 8) + 4',\n",
       " '8 + 7 * 9 + 7 * (4 * (8 + 3 + 7 * 6 + 6 + 9) + 6)',\n",
       " '(9 + (3 * 9 * 4 * 9 * 3) + 8) * 2',\n",
       " '9 + 4 * 3 * 2 * (9 * 8 * 6 + 6)',\n",
       " '8 * (3 + 5 + 6) * 5 + 3 + 4 * 4']"
      ]
     },
     "execution_count": 2,
     "metadata": {},
     "output_type": "execute_result"
    }
   ],
   "source": [
    "data = puzzle.input_data.splitlines()\n",
    "data[:10]"
   ]
  },
  {
   "cell_type": "code",
   "execution_count": 19,
   "metadata": {},
   "outputs": [],
   "source": [
    "test_data = \"\"\"1 + (2 * 3) + (4 * (5 + 6))\"\"\""
   ]
  },
  {
   "cell_type": "code",
   "execution_count": 5,
   "metadata": {},
   "outputs": [],
   "source": [
    "from operator import add, mul"
   ]
  },
  {
   "cell_type": "code",
   "execution_count": 96,
   "metadata": {},
   "outputs": [],
   "source": [
    "ops = {\n",
    "    '+': add,\n",
    "    '*': mul\n",
    "}\n",
    "\n",
    "def tokenize(line):\n",
    "    res = []\n",
    "    for c in line:\n",
    "        if c == \" \":\n",
    "            continue\n",
    "        try:\n",
    "            res.append(int(c))\n",
    "        except ValueError:\n",
    "            res.append(c)\n",
    "    return res\n",
    "        \n",
    "def gather(tokens):\n",
    "    i = 0\n",
    "    res = []\n",
    "    br_open = 0\n",
    "    if tokens[0] == '(':\n",
    "        strip = True\n",
    "    else:\n",
    "        strip = False\n",
    "    while i<len(tokens):\n",
    "        token = tokens[i]\n",
    "        if token in ops.keys():\n",
    "            if br_open == 0:\n",
    "                break\n",
    "            res.append(token)\n",
    "        else:\n",
    "            if token == '(':\n",
    "                br_open += 1\n",
    "            if token == ')':\n",
    "                br_open -= 1\n",
    "            res.append(token)\n",
    "        i+=1\n",
    "    if strip:\n",
    "        return res[1:-1], i\n",
    "    return res, i\n",
    "    \n",
    "\n",
    "def solve(equation):\n",
    "#     print(equation)\n",
    "    if isinstance(equation, int):\n",
    "        return equation\n",
    "    if len(equation) == 1:\n",
    "        return equation[0]\n",
    "#     if equation[0] == '(' and equation[-1] == ')':\n",
    "#         equation = equation[1:-1]\n",
    "\n",
    "    i = 0\n",
    "    subs = []\n",
    "    operations = []\n",
    "    while i < len(equation):\n",
    "        if equation[i] in ops.keys():\n",
    "            operations += equation[i]\n",
    "            i += 1\n",
    "        else:\n",
    "            new_eq, idx = gather(equation[i:])\n",
    "#             print(new_eq, idx)\n",
    "            i+=idx        \n",
    "            subs.append(new_eq)\n",
    "    left = subs.pop(0)\n",
    "    while subs:\n",
    "        operation = operations.pop(0)\n",
    "        right = subs.pop(0)\n",
    "        left = ops[operation](solve(left), solve(right))\n",
    "#     print(equation, \" = \", left)\n",
    "    return left\n",
    "\n",
    "def solve_line(line):\n",
    "    tokens = tokenize(line)\n",
    "    try:\n",
    "        result = solve(tokens)\n",
    "        return result\n",
    "    except:\n",
    "        print(tokens)\n",
    "        raise\n",
    "    \n",
    "    "
   ]
  },
  {
   "cell_type": "code",
   "execution_count": 97,
   "metadata": {},
   "outputs": [
    {
     "data": {
      "text/plain": [
       "51"
      ]
     },
     "execution_count": 97,
     "metadata": {},
     "output_type": "execute_result"
    }
   ],
   "source": [
    "solve_line(test_data)"
   ]
  },
  {
   "cell_type": "code",
   "execution_count": 98,
   "metadata": {},
   "outputs": [],
   "source": [
    "result = sum(map(solve_line, puzzle.input_data.splitlines()))"
   ]
  },
  {
   "cell_type": "code",
   "execution_count": 100,
   "metadata": {},
   "outputs": [
    {
     "name": "stdout",
     "output_type": "stream",
     "text": [
      "\u001b[32mThat's the right answer!  You are one gold star closer to saving your vacation. [Continue to Part Two]\u001b[0m\n"
     ]
    }
   ],
   "source": [
    "puzzle.answer_a = result"
   ]
  },
  {
   "cell_type": "code",
   "execution_count": 101,
   "metadata": {},
   "outputs": [],
   "source": [
    "# Part B"
   ]
  },
  {
   "cell_type": "code",
   "execution_count": 151,
   "metadata": {},
   "outputs": [],
   "source": [
    "def solve_B(equation):\n",
    "#     print(equation)\n",
    "    if isinstance(equation, int):\n",
    "        return equation\n",
    "    if len(equation) == 1:\n",
    "        return equation[0]\n",
    "#     if equation[0] == '(' and equation[-1] == ')':\n",
    "#         equation = equation[1:-1]\n",
    "\n",
    "    i = 0\n",
    "    subs = []\n",
    "    operations = []\n",
    "    while i < len(equation):\n",
    "        if equation[i] in ops.keys():\n",
    "            operations += equation[i]\n",
    "            i += 1\n",
    "        else:\n",
    "            new_eq, idx = gather(equation[i:])\n",
    "#             print(new_eq, idx)\n",
    "            i+=idx        \n",
    "            subs.append(new_eq)\n",
    "    \n",
    "    while operations:\n",
    "        try:\n",
    "            idx = operations.index('+')\n",
    "        except ValueError:\n",
    "            idx = 0\n",
    "        operation = operations.pop(idx)\n",
    "        left = subs.pop(idx)\n",
    "        right = subs.pop(idx)\n",
    "        im_res = ops[operation](solve_B(left), solve_B(right))\n",
    "#         print('# ', left, operation, right, ' = ', im_res)\n",
    "        subs.insert(idx, im_res)\n",
    "#         print('-> ', subs, operations)\n",
    "#     print(equation, \" = \", subs[0])\n",
    "    return solve_B(subs[0])\n",
    "\n",
    "def solve_line_B(line):\n",
    "    tokens = tokenize(line)\n",
    "    try:\n",
    "        result = solve_B(tokens)\n",
    "        return result\n",
    "    except:\n",
    "        print(tokens)\n",
    "        raise"
   ]
  },
  {
   "cell_type": "code",
   "execution_count": 155,
   "metadata": {},
   "outputs": [],
   "source": [
    "test_data_B = \"\"\"((2 + 4 * 9) * (6 + 9 * 8 + 6) + 6) + 2 + 4 * 2\"\"\""
   ]
  },
  {
   "cell_type": "code",
   "execution_count": 156,
   "metadata": {},
   "outputs": [
    {
     "data": {
      "text/plain": [
       "23340"
      ]
     },
     "execution_count": 156,
     "metadata": {},
     "output_type": "execute_result"
    }
   ],
   "source": [
    "solve_line_B(test_data_B)"
   ]
  },
  {
   "cell_type": "code",
   "execution_count": 159,
   "metadata": {},
   "outputs": [
    {
     "data": {
      "text/plain": [
       "34646237037193"
      ]
     },
     "execution_count": 159,
     "metadata": {},
     "output_type": "execute_result"
    }
   ],
   "source": [
    "result = sum(map(solve_line_B, puzzle.input_data.splitlines()))\n",
    "result"
   ]
  },
  {
   "cell_type": "code",
   "execution_count": 158,
   "metadata": {},
   "outputs": [
    {
     "name": "stdout",
     "output_type": "stream",
     "text": [
      "\u001b[32mThat's the right answer!  You are one gold star closer to saving your vacation.You have completed Day 18! You can [Shareon\n",
      "  Twitter\n",
      "Mastodon] this victory or [Return to Your Advent Calendar].\u001b[0m\n"
     ]
    }
   ],
   "source": [
    "puzzle.answer_b = result"
   ]
  },
  {
   "cell_type": "code",
   "execution_count": null,
   "metadata": {},
   "outputs": [],
   "source": []
  }
 ],
 "metadata": {
  "kernelspec": {
   "display_name": "Python 3",
   "language": "python",
   "name": "python3"
  },
  "language_info": {
   "codemirror_mode": {
    "name": "ipython",
    "version": 3
   },
   "file_extension": ".py",
   "mimetype": "text/x-python",
   "name": "python",
   "nbconvert_exporter": "python",
   "pygments_lexer": "ipython3",
   "version": "3.7.3"
  }
 },
 "nbformat": 4,
 "nbformat_minor": 4
}
