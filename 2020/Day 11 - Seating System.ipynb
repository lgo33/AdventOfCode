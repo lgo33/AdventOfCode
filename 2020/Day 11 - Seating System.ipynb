{
 "cells": [
  {
   "cell_type": "code",
   "execution_count": 1,
   "metadata": {},
   "outputs": [],
   "source": [
    "import aocd\n",
    "from aocd.models import Puzzle\n",
    "day = 11\n",
    "year = 2020\n",
    "puzzle = Puzzle(year=year, day=day)\n",
    "# data = aocd.get_data(day=day, year=year)\n",
    "with open('./data/input_{:02d}'.format(day), 'w') as fh:\n",
    "    fh.write(puzzle.input_data)"
   ]
  },
  {
   "cell_type": "code",
   "execution_count": 2,
   "metadata": {},
   "outputs": [
    {
     "data": {
      "text/plain": [
       "['LLLLLLLLL.L.LLLL.LLLL.LLLLLLLL.LLLLLLLLLLLLL.LLLL.LLLLLL.LLLL..LLLLLL.LLLLLLLL.LLLLL.LL.LLLLLLLLLL',\n",
       " 'LLLLLLLLL.LLLLLLLLLL..LLLLLLLL.LLLLLLLL.LLLL.LLLL.LLLL.LLLLLL.LLLLLLLLLLLLLLL..LL.LLLLLLLLLLLLLLLL',\n",
       " 'LLLLLLLLL.LLLLLL.LLL..LLLLLLLL.LLLLLLLL.LLLL.LLLL.LLLLLL.LLLLLLLLLLLLLLLLLLLLLLLLLLLLLLLLLLLLLLLLL',\n",
       " 'LLLLLLLLL.LLLLLL.LLLLLLLLLLLLL.LLLLLLLL.LLLLLLLLL.LLLLLL.LLLL.LLLLLLL.LLLLLLL.LLLLLLLLL.LLLLLLLLLL',\n",
       " 'LLL.LLLLL.LLLLLLLLLL..LLLLLLLL.LLLLLLLL.LLLL.LLLL.LLLLLL.LLLL.LLLLLLLLLLLLLLL.LLLLLLLLL.LLLLLLLLLL',\n",
       " 'LLLLLLLLL.LLLLLLLLLLLLLLLLLLLLLL.LLLLLL.LLLL.LLLL.LLLLLL.LLLLLLLLLLLL.LLLLLLL.LLLLLLLLLLLLLLLLLLLL',\n",
       " 'LLLLLLLLLLLLLLLLLLLLLLLLLLLL.L.LLLLLLLL.LLLL.LLLLLLLLLL..LLLL.L.LLLLL.LLLLLLL.LLLLLLLLL.LLLLLLLLLL',\n",
       " 'LL.LLLLLL.LLLLLL.LLLLLLLLLLL.LLLLLLLLLL.L.LLLLLLL.LLLLLL.LLLLLLLLLLLLLLLLLLLL.LLLLLLLLL.LLLL.LLLLL',\n",
       " 'LLLLLLLLL.LLLLLL.LLLL.LLLLLLLL.LLLLLLLL.LL.L.LLLL.L.LLLLLLLLL.LLLLLLL.LLLLLLLLLLLLLLLLL.LLLLLLLLLL',\n",
       " '......L.L.L....LL.L.L..L.L..LL...L......LL..L.....L.LL.LLLL.LL.L..LL........L..LL.LLL.L..L.LL.L..L']"
      ]
     },
     "execution_count": 2,
     "metadata": {},
     "output_type": "execute_result"
    }
   ],
   "source": [
    "data = puzzle.input_data.splitlines()\n",
    "data[:10]"
   ]
  },
  {
   "cell_type": "code",
   "execution_count": 3,
   "metadata": {},
   "outputs": [],
   "source": [
    "test_data = \"\"\"L.LL.LL.LL\n",
    "LLLLLLL.LL\n",
    "L.L.L..L..\n",
    "LLLL.LL.LL\n",
    "L.LL.LL.LL\n",
    "L.LLLLL.LL\n",
    "..L.L.....\n",
    "LLLLLLLLLL\n",
    "L.LLLLLL.L\n",
    "L.LLLLL.LL\"\"\""
   ]
  },
  {
   "cell_type": "code",
   "execution_count": 20,
   "metadata": {},
   "outputs": [],
   "source": [
    "import numpy as np\n",
    "from scipy.signal import convolve2d\n"
   ]
  },
  {
   "cell_type": "code",
   "execution_count": 25,
   "metadata": {},
   "outputs": [],
   "source": [
    "def parse(line):\n",
    "    return [0 if l == '.' else 1 for l in line]\n",
    "\n",
    "def step(occ, seats, kernel=np.array([[1, 1, 1], [1, 0, 1], [1, 1, 1]])):\n",
    "    nbrs = convolve2d(occ, kernel, mode='same', boundary='fill', fillvalue=0)\n",
    "    filled = (occ == 0) * (nbrs == 0) * seats\n",
    "    vacated = (occ == 1) * (nbrs >= 4) * seats\n",
    "    return occ + filled - vacated"
   ]
  },
  {
   "cell_type": "code",
   "execution_count": 60,
   "metadata": {},
   "outputs": [],
   "source": [
    "# seats = np.array(list(map(parse, test_data.splitlines())))\n",
    "seats = np.array(list(map(parse, puzzle.input_data.splitlines())))\n",
    "occupied = np.zeros(seats.shape)"
   ]
  },
  {
   "cell_type": "code",
   "execution_count": 48,
   "metadata": {},
   "outputs": [
    {
     "name": "stdout",
     "output_type": "stream",
     "text": [
      "\u001b[32mThat's the right answer!  You are one gold star closer to saving your vacation. [Continue to Part Two]\u001b[0m\n",
      "2329\n"
     ]
    }
   ],
   "source": [
    "num_occ = 0\n",
    "num_occ_old = -1\n",
    "while num_occ != num_occ_old:\n",
    "    num_occ_old = num_occ\n",
    "    occupied = step(occupied, seats)\n",
    "    num_occ = occupied.sum()\n",
    "puzzle.answer_a = int(num_occ)\n",
    "print(int(num_occ))"
   ]
  },
  {
   "cell_type": "code",
   "execution_count": 43,
   "metadata": {},
   "outputs": [
    {
     "data": {
      "text/plain": [
       "array([[1., 0., 1., 0., 0., 0., 1., 0., 1., 1.],\n",
       "       [1., 0., 0., 0., 1., 0., 0., 0., 0., 1.],\n",
       "       [0., 0., 0., 0., 0., 0., 0., 1., 0., 0.],\n",
       "       [1., 0., 0., 0., 0., 1., 1., 0., 0., 1.],\n",
       "       [1., 0., 0., 0., 0., 0., 0., 0., 0., 0.],\n",
       "       [1., 0., 0., 0., 1., 0., 1., 0., 1., 1.],\n",
       "       [0., 0., 0., 0., 0., 0., 0., 0., 0., 0.],\n",
       "       [1., 0., 1., 0., 0., 0., 0., 1., 0., 1.],\n",
       "       [1., 0., 0., 0., 0., 0., 0., 0., 0., 0.],\n",
       "       [1., 0., 1., 0., 1., 0., 1., 0., 1., 1.]])"
      ]
     },
     "execution_count": 43,
     "metadata": {},
     "output_type": "execute_result"
    }
   ],
   "source": [
    "occupied = step(occupied, seats)\n",
    "occupied"
   ]
  },
  {
   "cell_type": "code",
   "execution_count": 36,
   "metadata": {},
   "outputs": [
    {
     "data": {
      "text/plain": [
       "37"
      ]
     },
     "execution_count": 36,
     "metadata": {},
     "output_type": "execute_result"
    }
   ],
   "source": [
    "int(occupied.sum())"
   ]
  },
  {
   "cell_type": "code",
   "execution_count": null,
   "metadata": {},
   "outputs": [],
   "source": [
    "# Part B"
   ]
  },
  {
   "cell_type": "code",
   "execution_count": 62,
   "metadata": {},
   "outputs": [],
   "source": [
    "from collections import defaultdict"
   ]
  },
  {
   "cell_type": "code",
   "execution_count": 116,
   "metadata": {},
   "outputs": [],
   "source": [
    "\n",
    "def get_nbr_lookup(seats):\n",
    "    xdim, ydim = seats.shape\n",
    "    nbrs = defaultdict(list)\n",
    "    for y in np.arange(ydim):\n",
    "        for x in np.arange(xdim):\n",
    "            if seats[x, y] == 0:\n",
    "                continue\n",
    "            for dx in [-1, 0, 1]:\n",
    "                for dy in [-1, 0, 1]:                    \n",
    "                    if dx == 0 and dy == 0:\n",
    "                        continue\n",
    "                    i = x + dx\n",
    "                    j = y + dy\n",
    "                    while i >= 0 and i < xdim and j >= 0 and j < ydim:                        \n",
    "                        if seats[i, j] == 1:\n",
    "                            nbrs[(x, y)].append((i, j))\n",
    "                            break\n",
    "                        i += dx\n",
    "                        j += dy\n",
    "    return nbrs\n",
    "                            \n",
    "                    \n",
    "            \n",
    "def get_nbrs(occ, seats, lookup_table):\n",
    "    xdim, ydim = seats.shape\n",
    "    nbrs = np.zeros(seats.shape)\n",
    "    \n",
    "    for y in np.arange(ydim):\n",
    "        for x in np.arange(xdim):\n",
    "            if seats[x, y] == 0:\n",
    "                continue\n",
    "            idx = tuple(zip(*lookup_table[(x, y)]))\n",
    "            nbrs[x, y] = occ[idx].sum()\n",
    "    return nbrs\n",
    "\n",
    "def stepB(occ, seats, nbr_lookup):\n",
    "    nbrs = get_nbrs(occ, seats, nbr_lookup)\n",
    "    filled = (occ == 0) * (nbrs == 0) * seats\n",
    "    vacated = (occ == 1) * (nbrs >= 5) * seats\n",
    "    return occ + filled - vacated"
   ]
  },
  {
   "cell_type": "code",
   "execution_count": 126,
   "metadata": {},
   "outputs": [],
   "source": [
    "# seats = np.array(list(map(parse, test_data.splitlines())))\n",
    "seats = np.array(list(map(parse, puzzle.input_data.splitlines())))\n",
    "occupied = np.zeros(seats.shape)"
   ]
  },
  {
   "cell_type": "code",
   "execution_count": 127,
   "metadata": {},
   "outputs": [
    {
     "name": "stdout",
     "output_type": "stream",
     "text": [
      "2138.0\n",
      "CPU times: user 16.2 s, sys: 97.1 ms, total: 16.3 s\n",
      "Wall time: 16.3 s\n"
     ]
    }
   ],
   "source": [
    "%%time\n",
    "num_occ = 0\n",
    "num_occ_old = -1\n",
    "\n",
    "nbr_lookup = get_nbr_lookup(seats)\n",
    "\n",
    "while num_occ != num_occ_old:\n",
    "    num_occ_old = num_occ\n",
    "    occupied = stepB(occupied, seats, nbr_lookup)\n",
    "    num_occ = occupied.sum()\n",
    "print(num_occ)"
   ]
  },
  {
   "cell_type": "code",
   "execution_count": 128,
   "metadata": {},
   "outputs": [
    {
     "name": "stdout",
     "output_type": "stream",
     "text": [
      "\u001b[32mThat's the right answer!  You are one gold star closer to saving your vacation.You have completed Day 11! You can [Shareon\n",
      "  Twitter\n",
      "Mastodon] this victory or [Return to Your Advent Calendar].\u001b[0m\n"
     ]
    }
   ],
   "source": [
    "puzzle.answer_b = int(num_occ)"
   ]
  },
  {
   "cell_type": "code",
   "execution_count": null,
   "metadata": {},
   "outputs": [],
   "source": []
  }
 ],
 "metadata": {
  "kernelspec": {
   "display_name": "Python 3",
   "language": "python",
   "name": "python3"
  },
  "language_info": {
   "codemirror_mode": {
    "name": "ipython",
    "version": 3
   },
   "file_extension": ".py",
   "mimetype": "text/x-python",
   "name": "python",
   "nbconvert_exporter": "python",
   "pygments_lexer": "ipython3",
   "version": "3.7.3"
  }
 },
 "nbformat": 4,
 "nbformat_minor": 4
}
