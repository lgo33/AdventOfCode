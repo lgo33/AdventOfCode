{
 "cells": [
  {
   "cell_type": "code",
   "execution_count": 1,
   "metadata": {},
   "outputs": [],
   "source": [
    "import aocd\n",
    "from aocd.models import Puzzle\n",
    "day = 9\n",
    "year = 2020\n",
    "puzzle = Puzzle(year=year, day=day)\n",
    "# data = aocd.get_data(day=day, year=year)\n",
    "with open('./data/input_{:02d}'.format(day), 'w') as fh:\n",
    "    fh.write(puzzle.input_data)"
   ]
  },
  {
   "cell_type": "code",
   "execution_count": 2,
   "metadata": {},
   "outputs": [
    {
     "data": {
      "text/plain": [
       "['16', '45', '42', '47', '31', '38', '4', '7', '44', '10']"
      ]
     },
     "execution_count": 2,
     "metadata": {},
     "output_type": "execute_result"
    }
   ],
   "source": [
    "data = puzzle.input_data.splitlines()\n",
    "data[:10]"
   ]
  },
  {
   "cell_type": "code",
   "execution_count": 5,
   "metadata": {},
   "outputs": [],
   "source": [
    "test_data = \"\"\"35\n",
    "20\n",
    "15\n",
    "25\n",
    "47\n",
    "40\n",
    "62\n",
    "55\n",
    "65\n",
    "95\n",
    "102\n",
    "117\n",
    "150\n",
    "182\n",
    "127\n",
    "219\n",
    "299\n",
    "277\n",
    "309\n",
    "576\"\"\""
   ]
  },
  {
   "cell_type": "code",
   "execution_count": 6,
   "metadata": {},
   "outputs": [],
   "source": [
    "import numpy as np"
   ]
  },
  {
   "cell_type": "code",
   "execution_count": 75,
   "metadata": {},
   "outputs": [],
   "source": [
    "class Encoder():\n",
    "    def __init__(self, data, buffer_len):\n",
    "        self.orig_data = list(map(int, data))\n",
    "        self.buffer = self.orig_data[:buffer_len]\n",
    "        self.data = self.orig_data[buffer_len:]\n",
    "        self.gen_sum_matrix()\n",
    "        \n",
    "    def gen_sum_matrix(self):\n",
    "        buffer = np.array(self.buffer)\n",
    "        sum_matrix = buffer.reshape(-1, 1) + buffer.reshape(1, -1)\n",
    "        np.fill_diagonal(sum_matrix, 0)\n",
    "        self.sum_matrix = sum_matrix\n",
    "        \n",
    "    def read_next(self):\n",
    "        valid = None\n",
    "        \n",
    "        self.buffer.pop(0)\n",
    "        next_el = self.data.pop(0)\n",
    "        \n",
    "        if next_el in self.sum_matrix:\n",
    "            valid = True\n",
    "        else:\n",
    "            valid = False\n",
    "            \n",
    "        new_sum = np.r_[np.array(self.buffer) + next_el, 0]\n",
    "        self.sum_matrix[:-1, :-1] = self.sum_matrix[1:, 1:]\n",
    "        self.sum_matrix[-1, :] = new_sum\n",
    "        self.sum_matrix[:, -1] = new_sum\n",
    "        self.buffer.append(next_el)\n",
    "        return valid, next_el\n",
    "    \n",
    "    def run(self):\n",
    "        while True:\n",
    "            valid, next_el = self.read_next()\n",
    "            if not valid:\n",
    "                break        \n",
    "        return next_el\n",
    "    \n",
    "    def find_weakness(self):\n",
    "        self.weakness = self.run()\n",
    "        i = j = 0\n",
    "        cur_sum = self.orig_data[0]\n",
    "        while True:\n",
    "            \n",
    "            if cur_sum < self.weakness:\n",
    "                j += 1\n",
    "                cur_sum += self.orig_data[j]\n",
    "                continue\n",
    "                \n",
    "            if cur_sum > self.weakness:\n",
    "                cur_sum -= self.orig_data[i]\n",
    "                i += 1\n",
    "                while cur_sum > self.weakness:\n",
    "                    cur_sum -= self.orig_data[j]\n",
    "                    j -= 1\n",
    "                            \n",
    "            if cur_sum == self.weakness:\n",
    "                block = self.orig_data[i:j+1]\n",
    "                return i, j, min(block) + max(block)"
   ]
  },
  {
   "cell_type": "code",
   "execution_count": 71,
   "metadata": {},
   "outputs": [],
   "source": [
    "# enc = Encoder(test_data.splitlines(), 5)\n",
    "enc = Encoder(puzzle.input_data.splitlines(), 25)"
   ]
  },
  {
   "cell_type": "code",
   "execution_count": 60,
   "metadata": {},
   "outputs": [
    {
     "name": "stdout",
     "output_type": "stream",
     "text": [
      "\u001b[32mThat's the right answer!  You are one gold star closer to saving your vacation. [Continue to Part Two]\u001b[0m\n"
     ]
    }
   ],
   "source": [
    "res = enc.run()\n",
    "puzzle.answer_a = res"
   ]
  },
  {
   "cell_type": "code",
   "execution_count": 61,
   "metadata": {},
   "outputs": [
    {
     "data": {
      "text/plain": [
       "2089807806"
      ]
     },
     "execution_count": 61,
     "metadata": {},
     "output_type": "execute_result"
    }
   ],
   "source": [
    "res"
   ]
  },
  {
   "cell_type": "code",
   "execution_count": 62,
   "metadata": {},
   "outputs": [],
   "source": [
    "# Part B"
   ]
  },
  {
   "cell_type": "code",
   "execution_count": 79,
   "metadata": {},
   "outputs": [
    {
     "name": "stdout",
     "output_type": "stream",
     "text": [
      "CPU times: user 3.61 ms, sys: 249 µs, total: 3.86 ms\n",
      "Wall time: 3.09 ms\n"
     ]
    },
    {
     "data": {
      "text/plain": [
       "(2, 5, 62)"
      ]
     },
     "execution_count": 79,
     "metadata": {},
     "output_type": "execute_result"
    }
   ],
   "source": [
    "%%time\n",
    "enc = Encoder(test_data.splitlines(), 5)\n",
    "enc.find_weakness()"
   ]
  },
  {
   "cell_type": "code",
   "execution_count": 80,
   "metadata": {},
   "outputs": [
    {
     "name": "stdout",
     "output_type": "stream",
     "text": [
      "CPU times: user 37.8 ms, sys: 4.23 ms, total: 42.1 ms\n",
      "Wall time: 40.1 ms\n"
     ]
    }
   ],
   "source": [
    "%%time\n",
    "enc = Encoder(puzzle.input_data.splitlines(), 25)\n",
    "res_B = enc.find_weakness()"
   ]
  },
  {
   "cell_type": "code",
   "execution_count": 78,
   "metadata": {},
   "outputs": [
    {
     "name": "stdout",
     "output_type": "stream",
     "text": [
      "\u001b[32mThat's the right answer!  You are one gold star closer to saving your vacation.You have completed Day 9! You can [Shareon\n",
      "  Twitter\n",
      "Mastodon] this victory or [Return to Your Advent Calendar].\u001b[0m\n"
     ]
    }
   ],
   "source": [
    "puzzle.answer_b = res_B[2]"
   ]
  },
  {
   "cell_type": "code",
   "execution_count": null,
   "metadata": {},
   "outputs": [],
   "source": []
  }
 ],
 "metadata": {
  "kernelspec": {
   "display_name": "Python 3",
   "language": "python",
   "name": "python3"
  },
  "language_info": {
   "codemirror_mode": {
    "name": "ipython",
    "version": 3
   },
   "file_extension": ".py",
   "mimetype": "text/x-python",
   "name": "python",
   "nbconvert_exporter": "python",
   "pygments_lexer": "ipython3",
   "version": "3.7.3"
  }
 },
 "nbformat": 4,
 "nbformat_minor": 4
}
