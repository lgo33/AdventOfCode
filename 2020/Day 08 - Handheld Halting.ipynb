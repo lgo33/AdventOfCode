{
 "cells": [
  {
   "cell_type": "code",
   "execution_count": 1,
   "metadata": {},
   "outputs": [],
   "source": [
    "import aocd\n",
    "from aocd.models import Puzzle\n",
    "day = 8\n",
    "year = 2020\n",
    "puzzle = Puzzle(year=year, day=day)\n",
    "# data = aocd.get_data(day=day, year=year)\n",
    "with open('./data/input_{:02d}'.format(day), 'w') as fh:\n",
    "    fh.write(puzzle.input_data)"
   ]
  },
  {
   "cell_type": "code",
   "execution_count": 3,
   "metadata": {},
   "outputs": [
    {
     "data": {
      "text/plain": [
       "['acc +3',\n",
       " 'jmp +599',\n",
       " 'nop +311',\n",
       " 'jmp +605',\n",
       " 'acc -3',\n",
       " 'acc +50',\n",
       " 'acc -6',\n",
       " 'jmp +461',\n",
       " 'jmp -4',\n",
       " 'acc -7']"
      ]
     },
     "execution_count": 3,
     "metadata": {},
     "output_type": "execute_result"
    }
   ],
   "source": [
    "data = puzzle.input_data.splitlines()\n",
    "data[:10]"
   ]
  },
  {
   "cell_type": "code",
   "execution_count": 18,
   "metadata": {},
   "outputs": [],
   "source": [
    "test_data = \"\"\"nop +0\n",
    "acc +1\n",
    "jmp +4\n",
    "acc +3\n",
    "jmp -3\n",
    "acc -99\n",
    "acc +1\n",
    "jmp -4\n",
    "acc +6\"\"\""
   ]
  },
  {
   "cell_type": "code",
   "execution_count": null,
   "metadata": {},
   "outputs": [],
   "source": []
  },
  {
   "cell_type": "code",
   "execution_count": 5,
   "metadata": {},
   "outputs": [],
   "source": [
    "# data = puzzle.input_data.splitlines()\n",
    "data = test_input.splitlines()"
   ]
  },
  {
   "cell_type": "code",
   "execution_count": 35,
   "metadata": {},
   "outputs": [],
   "source": [
    "def parse(line):\n",
    "    op, n = line.split()\n",
    "    n = int(n)\n",
    "    return (op, n)\n",
    "\n",
    "class VM():    \n",
    "    def __init__(self, data, debug=False):\n",
    "        self.data = data\n",
    "        self.last = len(self.data)\n",
    "        self.loc = 0\n",
    "        self.acc = 0\n",
    "        self.seen = set([])\n",
    "        self.debug = debug\n",
    "        self.halting = None\n",
    "        \n",
    "        \n",
    "        self.ops = {\n",
    "            'nop': self._nop,\n",
    "            'acc': self._acc,\n",
    "            'jmp': self._jmp\n",
    "        }\n",
    "    \n",
    "    def run(self):\n",
    "        while True:\n",
    "            if self.loc in self.seen:\n",
    "                self.halting = False\n",
    "                break\n",
    "            if self.loc == self.last:\n",
    "                self.halting = True\n",
    "                break\n",
    "            self.seen.add(self.loc)\n",
    "            op, param = self.data[self.loc]\n",
    "            if self.debug:\n",
    "                print('exe #{}: {} {}'.format(self.loc, op, param))\n",
    "            self.execute(op, param)\n",
    "    \n",
    "    def execute(self, instruction, param):\n",
    "        self.ops[instruction](param)\n",
    "        if instruction not in ('jmp'):\n",
    "            self.loc += 1\n",
    "    \n",
    "    def _nop(self, param):\n",
    "        pass\n",
    "    \n",
    "    def _jmp(self, param):\n",
    "        self.loc += param\n",
    "    \n",
    "    def _acc(self, param):\n",
    "        self.acc += param"
   ]
  },
  {
   "cell_type": "code",
   "execution_count": 24,
   "metadata": {},
   "outputs": [
    {
     "data": {
      "text/plain": [
       "1586"
      ]
     },
     "execution_count": 24,
     "metadata": {},
     "output_type": "execute_result"
    }
   ],
   "source": [
    "# instructions = list(map(parse, test_data.splitlines()))\n",
    "instructions = list(map(parse, puzzle.input_data.splitlines()))\n",
    "vm = VM(instructions, debug=False)\n",
    "vm.run()\n",
    "vm.acc"
   ]
  },
  {
   "cell_type": "code",
   "execution_count": 21,
   "metadata": {},
   "outputs": [
    {
     "name": "stdout",
     "output_type": "stream",
     "text": [
      "\u001b[32mThat's the right answer!  You are one gold star closer to saving your vacation. [Continue to Part Two]\u001b[0m\n"
     ]
    }
   ],
   "source": [
    "puzzle.answer_a = vm.acc"
   ]
  },
  {
   "cell_type": "code",
   "execution_count": 22,
   "metadata": {},
   "outputs": [],
   "source": [
    "# Part B"
   ]
  },
  {
   "cell_type": "code",
   "execution_count": 23,
   "metadata": {},
   "outputs": [],
   "source": [
    "test_data_B = \"\"\"nop +0\n",
    "acc +1\n",
    "jmp +4\n",
    "acc +3\n",
    "jmp -3\n",
    "acc -99\n",
    "acc +1\n",
    "jmp -4\n",
    "acc +6\"\"\""
   ]
  },
  {
   "cell_type": "code",
   "execution_count": 31,
   "metadata": {},
   "outputs": [],
   "source": [
    "def flip(instructions, n):\n",
    "    flipped = {\n",
    "        'jmp': 'nop',\n",
    "        'nop': 'jmp'\n",
    "    }\n",
    "    i = 0\n",
    "    new_instructions = []\n",
    "    for ins, param in instructions:\n",
    "        if ins in ('nop', 'jmp'):\n",
    "            if i == n:\n",
    "                new_instructions.append((flipped[ins], param))\n",
    "            else:\n",
    "                new_instructions.append((ins, param))\n",
    "            i += 1\n",
    "        else:\n",
    "            new_instructions.append((ins, param))\n",
    "    return new_instructions"
   ]
  },
  {
   "cell_type": "code",
   "execution_count": 39,
   "metadata": {},
   "outputs": [
    {
     "name": "stdout",
     "output_type": "stream",
     "text": [
      "run #90: 703\n",
      "CPU times: user 41.1 ms, sys: 0 ns, total: 41.1 ms\n",
      "Wall time: 40 ms\n"
     ]
    }
   ],
   "source": [
    "%%time\n",
    "instructions = list(map(parse, puzzle.input_data.splitlines()))\n",
    "# instructions = list(map(parse, test_data_B.splitlines()))\n",
    "i = 0\n",
    "while True:\n",
    "    instr = flip(instructions, i)\n",
    "    i += 1\n",
    "    vm = VM(instr, debug=False)\n",
    "    vm.run()\n",
    "    if vm.halting == True:\n",
    "        print(\"run #{}: {}\".format(i, vm.acc))\n",
    "        break"
   ]
  },
  {
   "cell_type": "code",
   "execution_count": 40,
   "metadata": {},
   "outputs": [
    {
     "name": "stdout",
     "output_type": "stream",
     "text": [
      "\u001b[32mThat's the right answer!  You are one gold star closer to saving your vacation.You have completed Day 8! You can [Shareon\n",
      "  Twitter\n",
      "Mastodon] this victory or [Return to Your Advent Calendar].\u001b[0m\n"
     ]
    }
   ],
   "source": [
    "puzzle.answer_b = vm.acc"
   ]
  },
  {
   "cell_type": "code",
   "execution_count": null,
   "metadata": {},
   "outputs": [],
   "source": []
  }
 ],
 "metadata": {
  "kernelspec": {
   "display_name": "Python 3",
   "language": "python",
   "name": "python3"
  },
  "language_info": {
   "codemirror_mode": {
    "name": "ipython",
    "version": 3
   },
   "file_extension": ".py",
   "mimetype": "text/x-python",
   "name": "python",
   "nbconvert_exporter": "python",
   "pygments_lexer": "ipython3",
   "version": "3.7.3"
  }
 },
 "nbformat": 4,
 "nbformat_minor": 4
}
