{
 "cells": [
  {
   "cell_type": "code",
   "execution_count": 2,
   "metadata": {},
   "outputs": [],
   "source": [
    "import aocd\n",
    "from aocd.models import Puzzle\n",
    "day = 20\n",
    "year = 2020\n",
    "puzzle = Puzzle(year=year, day=day)\n",
    "# data = aocd.get_data(day=day, year=year)\n",
    "with open('./data/input_{:02d}'.format(day), 'w') as fh:\n",
    "    fh.write(puzzle.input_data)"
   ]
  },
  {
   "cell_type": "code",
   "execution_count": 568,
   "metadata": {},
   "outputs": [],
   "source": [
    "import matplotlib.pyplot as plt"
   ]
  },
  {
   "cell_type": "code",
   "execution_count": 569,
   "metadata": {},
   "outputs": [],
   "source": [
    "%matplotlib inline"
   ]
  },
  {
   "cell_type": "code",
   "execution_count": 3,
   "metadata": {},
   "outputs": [
    {
     "data": {
      "text/plain": [
       "['Tile 3593:',\n",
       " '#..#.##...',\n",
       " '.#..#.#...',\n",
       " '.#####..#.',\n",
       " '.......#.#',\n",
       " '#...#.....',\n",
       " '..#.....##',\n",
       " '.#....#...',\n",
       " '.#..#.....',\n",
       " '..#......#']"
      ]
     },
     "execution_count": 3,
     "metadata": {},
     "output_type": "execute_result"
    }
   ],
   "source": [
    "data = puzzle.input_data.splitlines()\n",
    "data[:10]"
   ]
  },
  {
   "cell_type": "code",
   "execution_count": 14,
   "metadata": {},
   "outputs": [],
   "source": [
    "test_data = \"\"\"Tile 2311:\n",
    "..##.#..#.\n",
    "##..#.....\n",
    "#...##..#.\n",
    "####.#...#\n",
    "##.##.###.\n",
    "##...#.###\n",
    ".#.#.#..##\n",
    "..#....#..\n",
    "###...#.#.\n",
    "..###..###\n",
    "\n",
    "Tile 1951:\n",
    "#.##...##.\n",
    "#.####...#\n",
    ".....#..##\n",
    "#...######\n",
    ".##.#....#\n",
    ".###.#####\n",
    "###.##.##.\n",
    ".###....#.\n",
    "..#.#..#.#\n",
    "#...##.#..\n",
    "\n",
    "Tile 1171:\n",
    "####...##.\n",
    "#..##.#..#\n",
    "##.#..#.#.\n",
    ".###.####.\n",
    "..###.####\n",
    ".##....##.\n",
    ".#...####.\n",
    "#.##.####.\n",
    "####..#...\n",
    ".....##...\n",
    "\n",
    "Tile 1427:\n",
    "###.##.#..\n",
    ".#..#.##..\n",
    ".#.##.#..#\n",
    "#.#.#.##.#\n",
    "....#...##\n",
    "...##..##.\n",
    "...#.#####\n",
    ".#.####.#.\n",
    "..#..###.#\n",
    "..##.#..#.\n",
    "\n",
    "Tile 1489:\n",
    "##.#.#....\n",
    "..##...#..\n",
    ".##..##...\n",
    "..#...#...\n",
    "#####...#.\n",
    "#..#.#.#.#\n",
    "...#.#.#..\n",
    "##.#...##.\n",
    "..##.##.##\n",
    "###.##.#..\n",
    "\n",
    "Tile 2473:\n",
    "#....####.\n",
    "#..#.##...\n",
    "#.##..#...\n",
    "######.#.#\n",
    ".#...#.#.#\n",
    ".#########\n",
    ".###.#..#.\n",
    "########.#\n",
    "##...##.#.\n",
    "..###.#.#.\n",
    "\n",
    "Tile 2971:\n",
    "..#.#....#\n",
    "#...###...\n",
    "#.#.###...\n",
    "##.##..#..\n",
    ".#####..##\n",
    ".#..####.#\n",
    "#..#.#..#.\n",
    "..####.###\n",
    "..#.#.###.\n",
    "...#.#.#.#\n",
    "\n",
    "Tile 2729:\n",
    "...#.#.#.#\n",
    "####.#....\n",
    "..#.#.....\n",
    "....#..#.#\n",
    ".##..##.#.\n",
    ".#.####...\n",
    "####.#.#..\n",
    "##.####...\n",
    "##..#.##..\n",
    "#.##...##.\n",
    "\n",
    "Tile 3079:\n",
    "#.#.#####.\n",
    ".#..######\n",
    "..#.......\n",
    "######....\n",
    "####.#..#.\n",
    ".#...#.##.\n",
    "#.#####.##\n",
    "..#.###...\n",
    "..#.......\n",
    "..#.###...\"\"\""
   ]
  },
  {
   "cell_type": "code",
   "execution_count": 137,
   "metadata": {},
   "outputs": [],
   "source": [
    "import numpy as np\n",
    "from collections import defaultdict\n",
    "from functools import reduce\n",
    "from operator import mul"
   ]
  },
  {
   "cell_type": "code",
   "execution_count": 199,
   "metadata": {},
   "outputs": [],
   "source": [
    "direction = {\n",
    "    'left': 0,\n",
    "    'top': 1,\n",
    "    'right': 2,\n",
    "    'down': 3\n",
    "}\n",
    "\n",
    "rv_dir = {v: k for k, v in direction.items()}"
   ]
  },
  {
   "cell_type": "code",
   "execution_count": 526,
   "metadata": {},
   "outputs": [],
   "source": [
    "shape = (10, 10)\n",
    "\n",
    "def parse(data):\n",
    "    tiles = {}\n",
    "    idx = None    \n",
    "    y = 0\n",
    "    for line in data:\n",
    "        if line.strip() == \"\":\n",
    "            continue\n",
    "        if line.startswith('Tile'):\n",
    "            if idx is not None:\n",
    "                tiles[idx] = tile.copy()\n",
    "            tile = np.zeros(shape, dtype=np.int8)\n",
    "            idx = int(line.split('Tile ')[1][:-1])\n",
    "            y = 0\n",
    "        else:\n",
    "            tile[y, :] = np.array([1 if c == '#' else 0 for c in line])\n",
    "            y += 1\n",
    "    tiles[idx] = tile.copy()\n",
    "    return tiles\n",
    "\n",
    "def get_border(tile):\n",
    "    res = []\n",
    "    border = tuple(tile[:, 0])\n",
    "    res.append(border)\n",
    "\n",
    "    border = tuple(tile[0, :])\n",
    "    res.append(border)\n",
    "\n",
    "    border = tuple(tile[:, -1])\n",
    "    res.append(border)        \n",
    "\n",
    "    border = tuple(tile[-1, :])\n",
    "    res.append(border)\n",
    "    return res\n",
    "    \n",
    "\n",
    "def get_borders(tiles):\n",
    "    borders = defaultdict(list)\n",
    "    for idx in tiles.keys():\n",
    "        borders[idx] =  get_border(tiles[idx])   \n",
    "    return borders\n",
    "\n",
    "def flip(idx):\n",
    "    return [tuple(side[::-1]) for side in borders[idx]][::-1]\n",
    "\n",
    "def fliplr(idx):\n",
    "    tiles[idx] = np.fliplr(tiles[idx])\n",
    "    return get_border(tiles[idx])\n",
    "\n",
    "def flipud(idx):\n",
    "    tiles[idx] = np.flipud(tiles[idx])\n",
    "    return get_border(tiles[idx])\n",
    "\n",
    "def rot90(idx):\n",
    "    tiles[idx] = np.rot90(tiles[idx])\n",
    "    return get_border(tiles[idx])\n",
    "\n",
    "\n",
    "def flip_axis(idx, axis=0):\n",
    "    sides = borders[idx]\n",
    "    if axis == 0:\n",
    "        return [\n",
    "            sides[0][::-1],\n",
    "            sides[3],\n",
    "            sides[2][::-1],\n",
    "            sides[1]\n",
    "        ]\n",
    "    else:\n",
    "        return [\n",
    "            sides[2],\n",
    "            sides[1][::-1],\n",
    "            sides[0],\n",
    "            sides[3][::-1]\n",
    "        ]\n",
    "\n",
    "def rotate(idx):\n",
    "    return borders[idx][-1:] + borders[idx][:-1]\n",
    "\n",
    "def lineUp(id1, id2):\n",
    "    left = set(borders[id1])\n",
    "    return (left & set(borders[id2])), (left & set(flip(id2)))\n",
    "\n",
    "def lineUpB(id1, id2):\n",
    "    left = set(borders[id1])\n",
    "    match = (left & set(borders[id2]))\n",
    "    if len(match):\n",
    "        match = match.pop()\n",
    "        left_idx = borders[id1].index(match)\n",
    "        right_idx = borders[id2].index(match)\n",
    "        num_rot = (right_idx - left_idx + 2) % 4\n",
    "        return (match, num_rot, left_idx, None)\n",
    "    match = (left & set(flip(id2)))\n",
    "    if len(match):    \n",
    "        match = match.pop()\n",
    "        left_idx = borders[id1].index(match)\n",
    "        right_idx = borders[id2].index(match[::-1])\n",
    "        num_rot = (right_idx - left_idx + 2) % 4\n",
    "        if (rv_dir[left_idx] in ('left', 'right')):\n",
    "            return (match, num_rot, left_idx, 'ud')\n",
    "        else:\n",
    "            return (match, num_rot, left_idx, 'lr')\n",
    "    raise(Exception())\n",
    "\n",
    "def get_neighbors(tiles):\n",
    "    nbrs = defaultdict(list)\n",
    "    for tileA in tiles:\n",
    "        for tileB in tiles:\n",
    "            if tileA == tileB:\n",
    "                continue\n",
    "            non_flipped, flipped = lineUp(tileA, tileB)\n",
    "            if len(non_flipped) or len(flipped):\n",
    "                nbrs[tileA].append(tileB)\n",
    "    return nbrs"
   ]
  },
  {
   "cell_type": "code",
   "execution_count": 527,
   "metadata": {},
   "outputs": [
    {
     "name": "stdout",
     "output_type": "stream",
     "text": [
      "2221 [2381, 2309]\n",
      "3011 [2543, 2699]\n",
      "2251 [3613, 2711]\n",
      "1847 [3853, 1123]\n"
     ]
    }
   ],
   "source": [
    "# tiles = parse(test_data.splitlines())\n",
    "tiles = parse(puzzle.input_data.splitlines())\n",
    "borders = get_borders(tiles)\n",
    "nbrs = get_neighbors(tiles)\n",
    "\n",
    "corners = []\n",
    "for tile in nbrs:\n",
    "    if len(nbrs[tile]) == 2:\n",
    "        corners.append(tile)\n",
    "        print(tile, nbrs[tile])"
   ]
  },
  {
   "cell_type": "code",
   "execution_count": 330,
   "metadata": {},
   "outputs": [
    {
     "data": {
      "text/plain": [
       "27803643063307"
      ]
     },
     "execution_count": 330,
     "metadata": {},
     "output_type": "execute_result"
    }
   ],
   "source": [
    "prod = reduce(mul, corners)\n",
    "prod"
   ]
  },
  {
   "cell_type": "code",
   "execution_count": 331,
   "metadata": {},
   "outputs": [
    {
     "data": {
      "text/plain": [
       "[2221, 3011, 2251, 1847]"
      ]
     },
     "execution_count": 331,
     "metadata": {},
     "output_type": "execute_result"
    }
   ],
   "source": [
    "corners"
   ]
  },
  {
   "cell_type": "code",
   "execution_count": 151,
   "metadata": {},
   "outputs": [
    {
     "name": "stdout",
     "output_type": "stream",
     "text": [
      "\u001b[33mYou don't seem to be solving the right level.  Did you already complete it? [Return to Day 20]\u001b[0m\n"
     ]
    }
   ],
   "source": [
    "puzzle.answer_a = prod"
   ]
  },
  {
   "cell_type": "code",
   "execution_count": 186,
   "metadata": {},
   "outputs": [],
   "source": [
    "# Part B"
   ]
  },
  {
   "cell_type": "code",
   "execution_count": 528,
   "metadata": {},
   "outputs": [],
   "source": [
    "def get_coords(old, where):\n",
    "    x, y = old\n",
    "    where = rv_dir[where]\n",
    "    if where == 'right':\n",
    "        x += 1\n",
    "    elif where == 'left':\n",
    "        x -= 1\n",
    "    elif where == 'down':\n",
    "        y += 1\n",
    "    else:\n",
    "        y -= 1\n",
    "    if x < 0:\n",
    "        print(old, where)\n",
    "        raise\n",
    "    if y < 0:\n",
    "        print(old, where)\n",
    "        raise\n",
    "    return x, y"
   ]
  },
  {
   "cell_type": "code",
   "execution_count": 529,
   "metadata": {},
   "outputs": [],
   "source": [
    "sea_monster = \"\"\"                  # \n",
    "#    ##    ##    ###\n",
    " #  #  #  #  #  #   \"\"\""
   ]
  },
  {
   "cell_type": "code",
   "execution_count": 610,
   "metadata": {},
   "outputs": [
    {
     "name": "stdout",
     "output_type": "stream",
     "text": [
      "2221 [2381, 2309]\n",
      "3011 [2543, 2699]\n",
      "2251 [3613, 2711]\n",
      "1847 [3853, 1123]\n"
     ]
    }
   ],
   "source": [
    "# tiles = parse(test_data.splitlines())\n",
    "tiles = parse(puzzle.input_data.splitlines())\n",
    "borders = get_borders(tiles)\n",
    "nbrs = get_neighbors(tiles)\n",
    "dim = int(math.sqrt(len(tiles)))\n",
    "\n",
    "corners = []\n",
    "for tile in nbrs:\n",
    "    if len(nbrs[tile]) == 2:\n",
    "        corners.append(tile)\n",
    "        print(tile, nbrs[tile])"
   ]
  },
  {
   "cell_type": "code",
   "execution_count": 611,
   "metadata": {},
   "outputs": [],
   "source": [
    "# building the image\n",
    "grid = np.zeros((dim,dim), dtype=np.int16)\n",
    "start = corners[0]\n",
    "grid[0, 0] = start\n",
    "location = {start: (0, 0)}\n",
    "placed = set([start])\n",
    "queue = [start]\n",
    "\n",
    "# orient the corner tile\n",
    "right, down = nbrs[start]\n",
    "\n",
    "# rotate until nbr to the right can be lined up\n",
    "nfl, fl = lineUp(start, right)\n",
    "match = nfl.pop() if len(nfl) else fl.pop()\n",
    "for i in range((borders[start].index(match) - direction['right']) % 4):\n",
    "    borders[start] = rot90(start)\n",
    "    \n",
    "# flip if nbrs cannot be lined up at bottom\n",
    "nfl, fl = lineUp(start, down)\n",
    "match = nfl.pop() if len(nfl) else fl.pop()\n",
    "if not borders[start].index(match) == direction['down']:\n",
    "    borders[start] = flipud(start)\n",
    "#     borders[start] = rotate(start)\n",
    "    \n",
    "while queue:\n",
    "    nxt = queue.pop(0)\n",
    "#     print(nxt, nbrs[nxt])\n",
    "    for nbr in nbrs[nxt]:\n",
    "\n",
    "        if nbr in placed:\n",
    "            continue\n",
    "        match, num_rot, where, doflip = lineUpB(nxt, nbr)\n",
    "#         print(\"#\", nxt, nbr, rv_dir[where], doflip, match, num_rot, where, doflip)\n",
    "        for i in range(num_rot):\n",
    "            borders[nbr] = rot90(nbr)\n",
    "        match, num_rot, where, doflip = lineUpB(nxt, nbr)\n",
    "        if num_rot != 0:\n",
    "            raise\n",
    "            print(\"!!!\", num_rot, nbr, doflip)\n",
    "        if doflip == 'ud':\n",
    "            borders[nbr] = flipud(nbr)\n",
    "        elif doflip == 'lr':\n",
    "            borders[nbr] = fliplr(nbr)\n",
    "        \n",
    "#         print(\"@\", nxt, nbr, rv_dir[where], doflip, match, num_rot, where, doflip)\n",
    "        new_x, new_y = get_coords(location[nxt], where)\n",
    "        \n",
    "#         print(nbr, rv_dir[where], (new_x, new_y), doflip)\n",
    "        grid[new_y, new_x] = nbr\n",
    "        placed.add(nbr)\n",
    "        location[nbr] = (new_x, new_y)\n",
    "        queue.append(nbr)"
   ]
  },
  {
   "cell_type": "code",
   "execution_count": 612,
   "metadata": {},
   "outputs": [
    {
     "data": {
      "text/plain": [
       "array([[2221, 2381, 3449, 3407, 3643, 1097, 2203, 1321, 1447, 1087, 2711,\n",
       "        2251],\n",
       "       [2309, 1997, 1237, 2677, 3917, 2803, 3529, 2693, 3299, 3061, 1873,\n",
       "        3613],\n",
       "       [3191, 3947, 1307, 1597, 3001, 1201, 1637, 2161, 1987, 2833, 2659,\n",
       "        2593],\n",
       "       [1669, 2753, 1721, 1019, 1129, 2657, 1381, 1181, 3833, 3637, 2687,\n",
       "        3089],\n",
       "       [2399, 1187, 1613, 2281, 2851, 2539, 3881, 1061, 3049, 3467, 3863,\n",
       "        3319],\n",
       "       [3461, 3361, 2237, 2131, 3709, 3793, 3229, 2837, 1223, 3607, 1291,\n",
       "        1063],\n",
       "       [2137, 2939, 2377, 2069, 3373, 1801, 1051, 3697, 2819, 2293, 3019,\n",
       "        1931],\n",
       "       [2113, 3739, 2087, 3251, 2957, 3631, 3163, 2273, 2861, 2333, 1951,\n",
       "        1259],\n",
       "       [1567, 2239, 1171, 1433, 2027, 2083, 1091, 2389, 3499, 3343, 1559,\n",
       "        3331],\n",
       "       [1163, 1823, 3593, 2467, 2617, 1373, 2843, 3533, 2411, 3371, 3203,\n",
       "        3079],\n",
       "       [1123, 2903, 3067, 2897, 3797, 3989, 3517, 3617, 3929, 1487, 1831,\n",
       "        2543],\n",
       "       [1847, 3853, 1153, 3469, 3041, 1483, 3259, 1069, 1471, 3761, 2699,\n",
       "        3011]], dtype=int16)"
      ]
     },
     "execution_count": 612,
     "metadata": {},
     "output_type": "execute_result"
    }
   ],
   "source": [
    "grid"
   ]
  },
  {
   "cell_type": "code",
   "execution_count": 613,
   "metadata": {},
   "outputs": [
    {
     "data": {
      "text/plain": [
       "(12, 12)"
      ]
     },
     "execution_count": 613,
     "metadata": {},
     "output_type": "execute_result"
    }
   ],
   "source": [
    "grid.shape"
   ]
  },
  {
   "cell_type": "code",
   "execution_count": 614,
   "metadata": {},
   "outputs": [],
   "source": [
    "tile_dim = shape[0]-2\n",
    "image_shape = (tile_dim * dim, tile_dim * dim)\n",
    "image = np.zeros(image_shape, dtype=np.int8)\n",
    "\n",
    "for i in range(dim):\n",
    "    for j in range(dim):\n",
    "        from_i = i * tile_dim\n",
    "        to_i = (i+1) * tile_dim\n",
    "        from_j = j * tile_dim\n",
    "        to_j = (j+1) * tile_dim\n",
    "        \n",
    "        image[from_j:to_j, from_i:to_i] = tiles[grid[j, i]][1:-1, 1:-1]"
   ]
  },
  {
   "cell_type": "code",
   "execution_count": 615,
   "metadata": {},
   "outputs": [
    {
     "data": {
      "text/plain": [
       "(96, 96)"
      ]
     },
     "execution_count": 615,
     "metadata": {},
     "output_type": "execute_result"
    }
   ],
   "source": [
    "image.shape"
   ]
  },
  {
   "cell_type": "code",
   "execution_count": 616,
   "metadata": {},
   "outputs": [],
   "source": [
    "def parse_monster(data):\n",
    "    monster = np.zeros((len(data), len(data[0])), dtype=np.int8)\n",
    "    y=0\n",
    "    for line in data:\n",
    "        monster[y, :] = np.array([1 if c == '#' else 0 for c in line])\n",
    "        y += 1\n",
    "    return monster\n",
    "\n",
    "def get_orientations(ndarray):\n",
    "    for j in range(2):\n",
    "        for i in range(4):\n",
    "            ndarray = np.rot90(ndarray)\n",
    "            yield ndarray\n",
    "        ndarray = np.flipud(ndarray)"
   ]
  },
  {
   "cell_type": "code",
   "execution_count": 617,
   "metadata": {},
   "outputs": [],
   "source": [
    "monster = parse_monster(sea_monster.splitlines())"
   ]
  },
  {
   "cell_type": "code",
   "execution_count": 618,
   "metadata": {},
   "outputs": [
    {
     "data": {
      "text/plain": [
       "<matplotlib.image.AxesImage at 0x7f9ed4d05630>"
      ]
     },
     "execution_count": 618,
     "metadata": {},
     "output_type": "execute_result"
    },
    {
     "data": {
      "image/png": "[encoded data removed]",
      "text/plain": [
       "<Figure size 432x288 with 1 Axes>"
      ]
     },
     "metadata": {
      "needs_background": "light"
     },
     "output_type": "display_data"
    }
   ],
   "source": [
    "plt.imshow(image)"
   ]
  },
  {
   "cell_type": "code",
   "execution_count": 619,
   "metadata": {},
   "outputs": [
    {
     "data": {
      "image/png": "[encoded data removed]",
      "text/plain": [
       "<Figure size 432x288 with 1 Axes>"
      ]
     },
     "metadata": {
      "needs_background": "light"
     },
     "output_type": "display_data"
    },
    {
     "data": {
      "image/png": "[encoded data removed]",
      "text/plain": [
       "<Figure size 432x288 with 1 Axes>"
      ]
     },
     "metadata": {
      "needs_background": "light"
     },
     "output_type": "display_data"
    },
    {
     "data": {
      "image/png": "[encoded data removed]",
      "text/plain": [
       "<Figure size 432x288 with 1 Axes>"
      ]
     },
     "metadata": {
      "needs_background": "light"
     },
     "output_type": "display_data"
    },
    {
     "data": {
      "image/png": "[encoded data removed]",
      "text/plain": [
       "<Figure size 432x288 with 1 Axes>"
      ]
     },
     "metadata": {
      "needs_background": "light"
     },
     "output_type": "display_data"
    },
    {
     "data": {
      "image/png": "[encoded data removed]",
      "text/plain": [
       "<Figure size 432x288 with 1 Axes>"
      ]
     },
     "metadata": {
      "needs_background": "light"
     },
     "output_type": "display_data"
    },
    {
     "data": {
      "image/png": "[encoded data removed]",
      "text/plain": [
       "<Figure size 432x288 with 1 Axes>"
      ]
     },
     "metadata": {
      "needs_background": "light"
     },
     "output_type": "display_data"
    },
    {
     "data": {
      "image/png": "[encoded data removed]",
      "text/plain": [
       "<Figure size 432x288 with 1 Axes>"
      ]
     },
     "metadata": {
      "needs_background": "light"
     },
     "output_type": "display_data"
    },
    {
     "data": {
      "image/png": "[encoded data removed]",
      "text/plain": [
       "<Figure size 432x288 with 1 Axes>"
      ]
     },
     "metadata": {
      "needs_background": "light"
     },
     "output_type": "display_data"
    }
   ],
   "source": [
    "for im in get_orientations(monster):\n",
    "    plt.imshow(im)\n",
    "    plt.show()"
   ]
  },
  {
   "cell_type": "code",
   "execution_count": 620,
   "metadata": {},
   "outputs": [
    {
     "name": "stdout",
     "output_type": "stream",
     "text": [
      "71 2\n",
      "7 3\n",
      "32 3\n",
      "65 7\n",
      "21 8\n",
      "43 13\n",
      "15 14\n",
      "70 15\n",
      "55 21\n",
      "18 24\n",
      "60 27\n",
      "26 31\n",
      "57 32\n",
      "2 36\n",
      "70 37\n",
      "42 38\n",
      "7 42\n",
      "30 43\n",
      "52 46\n",
      "23 47\n",
      "34 52\n",
      "5 53\n",
      "70 54\n",
      "58 59\n",
      "35 61\n",
      "8 62\n",
      "67 65\n",
      "23 69\n",
      "60 70\n",
      "40 74\n",
      "13 75\n",
      "63 76\n",
      "10 80\n",
      "58 80\n",
      "16 85\n",
      "67 86\n",
      "8 90\n"
     ]
    }
   ],
   "source": [
    "mshape = monster.shape\n",
    "nmonster = monster.sum()\n",
    "found = False\n",
    "for mon in get_orientations(monster):\n",
    "    mshape = mon.shape\n",
    "    for i in range(0, image_shape[1] - mshape[1]):\n",
    "        for j in range(0, image_shape[0] - mshape[0]):\n",
    "            hits = mon & image[j:j+mshape[0], i:i+mshape[1]]\n",
    "#             print(hits.sum())\n",
    "            if (hits.sum() == nmonster):\n",
    "                found = True\n",
    "                image[j:j+mshape[0], i:i+mshape[1]] += 2* mon\n",
    "                print(j, i)\n",
    "    if found:\n",
    "        \n",
    "        break\n",
    "#         print(monster & image[j:j+mshape[0], i:i+mshape[1]])"
   ]
  },
  {
   "cell_type": "code",
   "execution_count": 624,
   "metadata": {},
   "outputs": [
    {
     "data": {
      "text/plain": [
       "<matplotlib.image.AxesImage at 0x7f9ed4f15d68>"
      ]
     },
     "execution_count": 624,
     "metadata": {},
     "output_type": "execute_result"
    },
    {
     "data": {
      "image/png": "[encoded data removed]",
      "text/plain": [
       "<Figure size 720x720 with 1 Axes>"
      ]
     },
     "metadata": {
      "needs_background": "light"
     },
     "output_type": "display_data"
    }
   ],
   "source": [
    "plt.rcParams['figure.figsize'] = (10, 10)\n",
    "plt.imshow(image)"
   ]
  },
  {
   "cell_type": "code",
   "execution_count": 622,
   "metadata": {},
   "outputs": [
    {
     "data": {
      "text/plain": [
       "1644"
      ]
     },
     "execution_count": 622,
     "metadata": {},
     "output_type": "execute_result"
    }
   ],
   "source": [
    "(image == 1).sum()"
   ]
  },
  {
   "cell_type": "code",
   "execution_count": 623,
   "metadata": {},
   "outputs": [
    {
     "name": "stdout",
     "output_type": "stream",
     "text": [
      "--- Day 20: Jurassic Jigsaw ---The high-speed train leaves the forest and quickly carries you south. You can even see a desert in the distance! Since you have some spare time, you might as well see if there was anything interesting in the image the Mythical Information Bureau satellite captured.\n",
      "After decoding the satellite messages, you discover that the data actually contains many small images created by the satellite's camera array. The camera array consists of many cameras; rather than produce a single square image, they produce many smaller square image tiles that need to be reassembled back into a single image.\n",
      "Each camera in the camera array returns a single monochrome image tile with a random unique ID number.  The tiles (your puzzle input) arrived in a random order.\n",
      "Worse yet, the camera array appears to be malfunctioning: each image tile has been rotated and flipped to a random orientation. Your first task is to reassemble the original image by orienting the tiles so they fit together.\n",
      "To show how the tiles should be reassembled, each tile's image data includes a border that should line up exactly with its adjacent tiles. All tiles have this border, and the border lines up exactly when the tiles are both oriented correctly. Tiles at the edge of the image also have this border, but the outermost edges won't line up with any other tiles.\n",
      "For example, suppose you have the following nine tiles:\n",
      "Tile 2311:\n",
      "..##.#..#.\n",
      "##..#.....\n",
      "#...##..#.\n",
      "####.#...#\n",
      "##.##.###.\n",
      "##...#.###\n",
      ".#.#.#..##\n",
      "..#....#..\n",
      "###...#.#.\n",
      "..###..###\n",
      "\n",
      "Tile 1951:\n",
      "#.##...##.\n",
      "#.####...#\n",
      ".....#..##\n",
      "#...######\n",
      ".##.#....#\n",
      ".###.#####\n",
      "###.##.##.\n",
      ".###....#.\n",
      "..#.#..#.#\n",
      "#...##.#..\n",
      "\n",
      "Tile 1171:\n",
      "####...##.\n",
      "#..##.#..#\n",
      "##.#..#.#.\n",
      ".###.####.\n",
      "..###.####\n",
      ".##....##.\n",
      ".#...####.\n",
      "#.##.####.\n",
      "####..#...\n",
      ".....##...\n",
      "\n",
      "Tile 1427:\n",
      "###.##.#..\n",
      ".#..#.##..\n",
      ".#.##.#..#\n",
      "#.#.#.##.#\n",
      "....#...##\n",
      "...##..##.\n",
      "...#.#####\n",
      ".#.####.#.\n",
      "..#..###.#\n",
      "..##.#..#.\n",
      "\n",
      "Tile 1489:\n",
      "##.#.#....\n",
      "..##...#..\n",
      ".##..##...\n",
      "..#...#...\n",
      "#####...#.\n",
      "#..#.#.#.#\n",
      "...#.#.#..\n",
      "##.#...##.\n",
      "..##.##.##\n",
      "###.##.#..\n",
      "\n",
      "Tile 2473:\n",
      "#....####.\n",
      "#..#.##...\n",
      "#.##..#...\n",
      "######.#.#\n",
      ".#...#.#.#\n",
      ".#########\n",
      ".###.#..#.\n",
      "########.#\n",
      "##...##.#.\n",
      "..###.#.#.\n",
      "\n",
      "Tile 2971:\n",
      "..#.#....#\n",
      "#...###...\n",
      "#.#.###...\n",
      "##.##..#..\n",
      ".#####..##\n",
      ".#..####.#\n",
      "#..#.#..#.\n",
      "..####.###\n",
      "..#.#.###.\n",
      "...#.#.#.#\n",
      "\n",
      "Tile 2729:\n",
      "...#.#.#.#\n",
      "####.#....\n",
      "..#.#.....\n",
      "....#..#.#\n",
      ".##..##.#.\n",
      ".#.####...\n",
      "####.#.#..\n",
      "##.####...\n",
      "##..#.##..\n",
      "#.##...##.\n",
      "\n",
      "Tile 3079:\n",
      "#.#.#####.\n",
      ".#..######\n",
      "..#.......\n",
      "######....\n",
      "####.#..#.\n",
      ".#...#.##.\n",
      "#.#####.##\n",
      "..#.###...\n",
      "..#.......\n",
      "..#.###...\n",
      "\n",
      "By rotating, flipping, and rearranging them, you can find a square arrangement that causes all adjacent borders to line up:\n",
      "#...##.#.. ..###..### #.#.#####.\n",
      "..#.#..#.# ###...#.#. .#..######\n",
      ".###....#. ..#....#.. ..#.......\n",
      "###.##.##. .#.#.#..## ######....\n",
      ".###.##### ##...#.### ####.#..#.\n",
      ".##.#....# ##.##.###. .#...#.##.\n",
      "#...###### ####.#...# #.#####.##\n",
      ".....#..## #...##..#. ..#.###...\n",
      "#.####...# ##..#..... ..#.......\n",
      "#.##...##. ..##.#..#. ..#.###...\n",
      "\n",
      "#.##...##. ..##.#..#. ..#.###...\n",
      "##..#.##.. ..#..###.# ##.##....#\n",
      "##.####... .#.####.#. ..#.###..#\n",
      "####.#.#.. ...#.##### ###.#..###\n",
      ".#.####... ...##..##. .######.##\n",
      ".##..##.#. ....#...## #.#.#.#...\n",
      "....#..#.# #.#.#.##.# #.###.###.\n",
      "..#.#..... .#.##.#..# #.###.##..\n",
      "####.#.... .#..#.##.. .######...\n",
      "...#.#.#.# ###.##.#.. .##...####\n",
      "\n",
      "...#.#.#.# ###.##.#.. .##...####\n",
      "..#.#.###. ..##.##.## #..#.##..#\n",
      "..####.### ##.#...##. .#.#..#.##\n",
      "#..#.#..#. ...#.#.#.. .####.###.\n",
      ".#..####.# #..#.#.#.# ####.###..\n",
      ".#####..## #####...#. .##....##.\n",
      "##.##..#.. ..#...#... .####...#.\n",
      "#.#.###... .##..##... .####.##.#\n",
      "#...###... ..##...#.. ...#..####\n",
      "..#.#....# ##.#.#.... ...##.....\n",
      "\n",
      "For reference, the IDs of the above tiles are:\n",
      "1951    2311    3079\n",
      "2729    1427    2473\n",
      "2971    1489    1171\n",
      "\n",
      "To check that you've assembled the image correctly, multiply the IDs of the four corner tiles together. If you do this with the assembled tiles from the example above, you get 1951 * 3079 * 2971 * 1171 = 20899048083289.\n",
      "Assemble the tiles into an image. What do you get if you multiply together the IDs of the four corner tiles?\n",
      "\u001b[0m\n"
     ]
    }
   ],
   "source": [
    "puzzle.answer_b = _"
   ]
  },
  {
   "cell_type": "code",
   "execution_count": null,
   "metadata": {},
   "outputs": [],
   "source": []
  }
 ],
 "metadata": {
  "kernelspec": {
   "display_name": "Python 3",
   "language": "python",
   "name": "python3"
  },
  "language_info": {
   "codemirror_mode": {
    "name": "ipython",
    "version": 3
   },
   "file_extension": ".py",
   "mimetype": "text/x-python",
   "name": "python",
   "nbconvert_exporter": "python",
   "pygments_lexer": "ipython3",
   "version": "3.7.3"
  }
 },
 "nbformat": 4,
 "nbformat_minor": 4
}
