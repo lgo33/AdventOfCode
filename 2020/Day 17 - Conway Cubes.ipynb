{
 "cells": [
  {
   "cell_type": "code",
   "execution_count": 1,
   "metadata": {},
   "outputs": [],
   "source": [
    "import aocd\n",
    "from aocd.models import Puzzle\n",
    "day = 17\n",
    "year = 2020\n",
    "puzzle = Puzzle(year=year, day=day)\n",
    "# data = aocd.get_data(day=day, year=year)\n",
    "with open('./data/input_{:02d}'.format(day), 'w') as fh:\n",
    "    fh.write(puzzle.input_data)"
   ]
  },
  {
   "cell_type": "code",
   "execution_count": 5,
   "metadata": {},
   "outputs": [
    {
     "data": {
      "text/plain": [
       "['....###.',\n",
       " '#...####',\n",
       " '##.#.###',\n",
       " '..#.#...',\n",
       " '##.#.#.#',\n",
       " '#.######',\n",
       " '..#..#.#',\n",
       " '######.#']"
      ]
     },
     "execution_count": 5,
     "metadata": {},
     "output_type": "execute_result"
    }
   ],
   "source": [
    "data = puzzle.input_data.splitlines()\n",
    "data[:10]"
   ]
  },
  {
   "cell_type": "code",
   "execution_count": 6,
   "metadata": {},
   "outputs": [],
   "source": [
    "test_data = \"\"\".#.\n",
    "..#\n",
    "###\"\"\""
   ]
  },
  {
   "cell_type": "code",
   "execution_count": 78,
   "metadata": {},
   "outputs": [],
   "source": [
    "import numpy as np\n",
    "from scipy.ndimage.filters import convolve\n",
    "kernel = np.ones((3, 3, 3), dtype=np.int32)\n",
    "kernel[1, 1, 1] = 0"
   ]
  },
  {
   "cell_type": "code",
   "execution_count": 79,
   "metadata": {},
   "outputs": [],
   "source": [
    "def evolve(grid, kernel=kernel):\n",
    "    grid = np.pad(grid, 1)\n",
    "    nbrs = convolve(grid, kernel, mode='wrap', cval=0)\n",
    "    next_grid = np.zeros(grid.shape)\n",
    "    next_grid += (grid == 1) & ((nbrs == 2) | (nbrs == 3))\n",
    "    next_grid += (grid == 0) & (nbrs == 3)\n",
    "    return next_grid"
   ]
  },
  {
   "cell_type": "code",
   "execution_count": 80,
   "metadata": {},
   "outputs": [],
   "source": [
    "# data = test_data.splitlines()\n",
    "data = puzzle.input_data.splitlines()\n",
    "xdim = len(data[0])\n",
    "ydim = len(data)\n",
    "zdim = 1\n",
    "grid = np.zeros((zdim, ydim, xdim), dtype=np.int32)\n"
   ]
  },
  {
   "cell_type": "code",
   "execution_count": 81,
   "metadata": {},
   "outputs": [],
   "source": [
    "z = 0\n",
    "for y, line in enumerate(data):\n",
    "    for x, char in enumerate(line):\n",
    "        put = 0 if char == '.' else 1\n",
    "        grid[z, y, x] = put\n",
    "        "
   ]
  },
  {
   "cell_type": "code",
   "execution_count": 82,
   "metadata": {},
   "outputs": [
    {
     "data": {
      "text/plain": [
       "333.0"
      ]
     },
     "execution_count": 82,
     "metadata": {},
     "output_type": "execute_result"
    }
   ],
   "source": [
    "for i in range(6):\n",
    "    grid = evolve(grid)\n",
    "grid.sum()"
   ]
  },
  {
   "cell_type": "code",
   "execution_count": 84,
   "metadata": {},
   "outputs": [
    {
     "name": "stdout",
     "output_type": "stream",
     "text": [
      "\u001b[32mThat's the right answer!  You are one gold star closer to saving your vacation. [Continue to Part Two]\u001b[0m\n"
     ]
    }
   ],
   "source": [
    "puzzle.answer_a = int(grid.sum())"
   ]
  },
  {
   "cell_type": "code",
   "execution_count": 86,
   "metadata": {},
   "outputs": [],
   "source": [
    "# Part B"
   ]
  },
  {
   "cell_type": "code",
   "execution_count": 107,
   "metadata": {},
   "outputs": [],
   "source": [
    "kernel_b = np.ones((3, 3, 3, 3))\n",
    "kernel_b[1, 1, 1, 1] = 0"
   ]
  },
  {
   "cell_type": "code",
   "execution_count": 108,
   "metadata": {},
   "outputs": [],
   "source": [
    "# data = test_data.splitlines()\n",
    "data = puzzle.input_data.splitlines()\n",
    "xdim = len(data[0])\n",
    "ydim = len(data)\n",
    "zdim = 1\n",
    "wdim = 1\n",
    "grid = np.zeros((wdim, zdim, ydim, xdim), dtype=np.int32)\n",
    "\n",
    "\n",
    "z = 0\n",
    "for y, line in enumerate(data):\n",
    "    for x, char in enumerate(line):\n",
    "        put = 0 if char == '.' else 1\n",
    "        grid[0, z, y, x] = put"
   ]
  },
  {
   "cell_type": "code",
   "execution_count": 109,
   "metadata": {},
   "outputs": [
    {
     "data": {
      "text/plain": [
       "2676.0"
      ]
     },
     "execution_count": 109,
     "metadata": {},
     "output_type": "execute_result"
    }
   ],
   "source": [
    "for i in range(6):\n",
    "    grid = evolve(grid, kernel=kernel_b)\n",
    "grid.sum()"
   ]
  },
  {
   "cell_type": "code",
   "execution_count": 110,
   "metadata": {},
   "outputs": [
    {
     "name": "stdout",
     "output_type": "stream",
     "text": [
      "\u001b[33mYou don't seem to be solving the right level.  Did you already complete it? [Return to Day 17]\u001b[0m\n"
     ]
    }
   ],
   "source": [
    "puzzle.answer_a = int(grid.sum())"
   ]
  },
  {
   "cell_type": "code",
   "execution_count": 2,
   "metadata": {},
   "outputs": [
    {
     "name": "stdout",
     "output_type": "stream",
     "text": [
      "2676.0\n",
      "CPU times: user 363 ms, sys: 263 ms, total: 625 ms\n",
      "Wall time: 342 ms\n"
     ]
    }
   ],
   "source": [
    "%%time\n",
    "import numpy as np\n",
    "from scipy.ndimage.filters import convolve\n",
    "\n",
    "kernel = np.ones((3, 3, 3))\n",
    "kernel[1, 1, 1] = 0\n",
    "\n",
    "kernel_b = np.ones((3, 3, 3, 3))\n",
    "kernel_b[1, 1, 1, 1] = 0\n",
    "\n",
    "def evolve(grid, kernel=kernel):\n",
    "    grid = np.pad(grid, 1) # add zeros around the borders\n",
    "    nbrs = convolve(grid, kernel, mode='wrap', cval=0) # this all that is needed to calculate the neighbors at each point of the grid\n",
    "    next_grid = np.zeros(grid.shape)\n",
    "    next_grid += (grid == 1) & ((nbrs == 2) | (nbrs == 3)) # active and 2 or 3 neighbors\n",
    "    next_grid += (grid == 0) & (nbrs == 3) # inactive and 3 neighbors\n",
    "    return next_grid\n",
    "\n",
    "# filling the empty grid\n",
    "data = puzzle.input_data.splitlines()\n",
    "xdim = len(data[0])\n",
    "ydim = len(data)\n",
    "zdim = 1\n",
    "wdim = 1\n",
    "grid = np.zeros((wdim, zdim, ydim, xdim), dtype=np.int32)\n",
    "\n",
    "z = 0\n",
    "for y, line in enumerate(data):\n",
    "    for x, char in enumerate(line):\n",
    "        put = 0 if char == '.' else 1\n",
    "        grid[0, z, y, x] = put\n",
    "        \n",
    "for i in range(6):\n",
    "    grid = evolve(grid, kernel=kernel_b)\n",
    "print(grid.sum())"
   ]
  },
  {
   "cell_type": "code",
   "execution_count": null,
   "metadata": {},
   "outputs": [],
   "source": []
  }
 ],
 "metadata": {
  "kernelspec": {
   "display_name": "Python 3",
   "language": "python",
   "name": "python3"
  },
  "language_info": {
   "codemirror_mode": {
    "name": "ipython",
    "version": 3
   },
   "file_extension": ".py",
   "mimetype": "text/x-python",
   "name": "python",
   "nbconvert_exporter": "python",
   "pygments_lexer": "ipython3",
   "version": "3.7.3"
  }
 },
 "nbformat": 4,
 "nbformat_minor": 4
}
