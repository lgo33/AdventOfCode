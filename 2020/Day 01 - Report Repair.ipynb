{
 "cells": [
  {
   "cell_type": "code",
   "execution_count": 9,
   "metadata": {},
   "outputs": [],
   "source": [
    "import aocd\n",
    "from aocd.models import Puzzle\n",
    "day = 1\n",
    "year = 2020\n",
    "puzzle = Puzzle(year=year, day=day)\n",
    "# data = aocd.get_data(day=day, year=year)\n",
    "with open('./data/input_{:02d}'.format(day), 'w') as fh:\n",
    "    fh.write(puzzle.input_data)"
   ]
  },
  {
   "cell_type": "code",
   "execution_count": 10,
   "metadata": {},
   "outputs": [
    {
     "data": {
      "text/plain": [
       "'1597\\n1857\\n1703\\n1956\\n1809\\n1683\\n1629\\n230\\n1699\\n1875\\n1564\\n1700\\n1911\\n1776\\n1955\\n1585\\n1858\\n1725\\n1813\\n1568\\n1962\\n1535\\n487\\n1621\\n1620\\n1573\\n1918\\n1794\\n2003\\n1957\\n1840\\n1936\\n285\\n1630\\n1753\\n1649\\n1951\\n1968\\n1916\\n1694\\n1593\\n1980\\n1806\\n1779\\n1637\\n1674\\n1842\\n1659\\n1553\\n1846\\n1677\\n1944\\n1811\\n1645\\n1784\\n1791\\n1988\\n1864\\n1596\\n1773\\n1132\\n1715\\n1938\\n1901\\n1617\\n1892\\n1708\\n1788\\n1765\\n1684\\n1595\\n1971\\n1798\\n1543\\n507\\n1772\\n1757\\n1950\\n1844\\n1898\\n1671\\n1602\\n1599\\n1524\\n2005\\n1855\\n1624\\n1884\\n1990\\n1604\\n1873\\n1736\\n1747\\n1900\\n1534\\n1713\\n1690\\n1525\\n1838\\n587\\n74\\n1979\\n1635\\n1896\\n1580\\n1727\\n1994\\n1940\\n1819\\n1758\\n1852\\n1639\\n1754\\n1559\\n1919\\n1879\\n1874\\n1921\\n1575\\n1693\\n1710\\n1949\\n1719\\n1933\\n1673\\n1909\\n1989\\n1897\\n909\\n1889\\n1641\\n1658\\n1530\\n1541\\n1952\\n1627\\n1839\\n1803\\n833\\n1527\\n1756\\n2009\\n1605\\n1548\\n1660\\n1966\\n1770\\n1552\\n1939\\n1726\\n382\\n1665\\n1960\\n1733\\n1983\\n1544\\n1974\\n1985\\n1625\\n609\\n1931\\n1749\\n1975\\n1562\\n1563\\n1922\\n2008\\n2010\\n1704\\n1545\\n1636\\n1762\\n1841\\n1717\\n622\\n2007\\n1670\\n1771\\n1910\\n1978\\n1615\\n1805\\n1999\\n1643\\n1748\\n1531\\n1539\\n1787\\n1722\\n1111\\n1774\\n1540\\n1607\\n1902\\n1991\\n1763\\n1691\\n1812\\n1783\\n1579'"
      ]
     },
     "execution_count": 10,
     "metadata": {},
     "output_type": "execute_result"
    }
   ],
   "source": [
    "puzzle.input_data"
   ]
  },
  {
   "cell_type": "code",
   "execution_count": 15,
   "metadata": {},
   "outputs": [],
   "source": [
    "data = list(map(int, puzzle.input_data.splitlines()))\n",
    "set_data = set(data)"
   ]
  },
  {
   "cell_type": "code",
   "execution_count": 20,
   "metadata": {},
   "outputs": [
    {
     "name": "stdout",
     "output_type": "stream",
     "text": [
      "1111 909 1009899\n"
     ]
    }
   ],
   "source": [
    "# Part A\n",
    "for el in set_data:\n",
    "    if 2020 - el in set_data:\n",
    "        result = ((2020-el) * el)\n",
    "        print(el, 2020-el, result)\n",
    "        break"
   ]
  },
  {
   "cell_type": "code",
   "execution_count": 49,
   "metadata": {},
   "outputs": [],
   "source": [
    "puzzle.answer_a = result"
   ]
  },
  {
   "cell_type": "code",
   "execution_count": 52,
   "metadata": {},
   "outputs": [
    {
     "data": {
      "text/plain": [
       "'1009899'"
      ]
     },
     "execution_count": 52,
     "metadata": {},
     "output_type": "execute_result"
    }
   ],
   "source": [
    "puzzle.answer_a"
   ]
  },
  {
   "cell_type": "code",
   "execution_count": 21,
   "metadata": {},
   "outputs": [],
   "source": [
    "# Part B"
   ]
  },
  {
   "cell_type": "code",
   "execution_count": 22,
   "metadata": {},
   "outputs": [],
   "source": [
    "import numpy as np"
   ]
  },
  {
   "cell_type": "code",
   "execution_count": 24,
   "metadata": {},
   "outputs": [],
   "source": [
    "npdat = np.array(sorted(data))"
   ]
  },
  {
   "cell_type": "code",
   "execution_count": 44,
   "metadata": {},
   "outputs": [],
   "source": [
    "mx_add = npdat.reshape(-1, 1, 1) + npdat.reshape(1, -1, 1) + npdat.reshape(1, 1, -1)\n",
    "mx_mult = npdat.reshape(-1, 1, 1) * npdat.reshape(1, -1, 1) * npdat.reshape(1, 1, -1)"
   ]
  },
  {
   "cell_type": "code",
   "execution_count": 50,
   "metadata": {},
   "outputs": [
    {
     "name": "stdout",
     "output_type": "stream",
     "text": [
      "\u001b[33mYou don't seem to be solving the right level.  Did you already complete it? [Return to Day 1]\u001b[0m\n"
     ]
    }
   ],
   "source": [
    "puzzle.answer_b = mx_mult[mx_add == 2020][0]"
   ]
  },
  {
   "cell_type": "code",
   "execution_count": 51,
   "metadata": {},
   "outputs": [
    {
     "data": {
      "text/plain": [
       "'44211152'"
      ]
     },
     "execution_count": 51,
     "metadata": {},
     "output_type": "execute_result"
    }
   ],
   "source": [
    "puzzle.answer_b"
   ]
  },
  {
   "cell_type": "code",
   "execution_count": null,
   "metadata": {},
   "outputs": [],
   "source": []
  }
 ],
 "metadata": {
  "kernelspec": {
   "display_name": "Python 3",
   "language": "python",
   "name": "python3"
  },
  "language_info": {
   "codemirror_mode": {
    "name": "ipython",
    "version": 3
   },
   "file_extension": ".py",
   "mimetype": "text/x-python",
   "name": "python",
   "nbconvert_exporter": "python",
   "pygments_lexer": "ipython3",
   "version": "3.7.3"
  }
 },
 "nbformat": 4,
 "nbformat_minor": 4
}
