{
 "cells": [
  {
   "cell_type": "code",
   "execution_count": 1,
   "metadata": {},
   "outputs": [],
   "source": [
    "import aocd\n",
    "from aocd.models import Puzzle\n",
    "day = 12\n",
    "year = 2020\n",
    "puzzle = Puzzle(year=year, day=day)\n",
    "# data = aocd.get_data(day=day, year=year)\n",
    "with open('./data/input_{:02d}'.format(day), 'w') as fh:\n",
    "    fh.write(puzzle.input_data)"
   ]
  },
  {
   "cell_type": "code",
   "execution_count": 33,
   "metadata": {},
   "outputs": [
    {
     "data": {
      "text/plain": [
       "['N2', 'R90', 'S2', 'F40', 'R180', 'F50', 'R90', 'W1', 'F79', 'W4']"
      ]
     },
     "execution_count": 33,
     "metadata": {},
     "output_type": "execute_result"
    }
   ],
   "source": [
    "data = puzzle.input_data.splitlines()\n",
    "data[:10]"
   ]
  },
  {
   "cell_type": "code",
   "execution_count": 34,
   "metadata": {},
   "outputs": [],
   "source": [
    "test_data = \"\"\"F10\n",
    "N3\n",
    "F7\n",
    "R90\n",
    "F11\"\"\""
   ]
  },
  {
   "cell_type": "code",
   "execution_count": 68,
   "metadata": {},
   "outputs": [],
   "source": [
    "class boat():\n",
    "    def __init__(self):\n",
    "        self.direction = 1\n",
    "        self.pos = 0\n",
    "        self.map = {\n",
    "            'N': lambda x: self.translate(x*1j),\n",
    "            'S': lambda x: self.translate(x*-1j),\n",
    "            'E': lambda x: self.translate(x),\n",
    "            'W': lambda x: self.translate(-x),\n",
    "            'R': lambda x: self.rotate(x),\n",
    "            'F': lambda x: self.forward(x),\n",
    "            'L': lambda x: self.rotate(-x),\n",
    "#             'R': lambda x: self.sideways(-x),\n",
    "        }\n",
    "        \n",
    "    def translate(self, value):\n",
    "        self.pos += value\n",
    "        \n",
    "    def rotate(self, value):\n",
    "        cc = -1j if value >= 0 else 1j\n",
    "        self.direction *= cc**(abs(value) // 90)\n",
    "        \n",
    "    def sideways(self, value):\n",
    "        self.pos += value * 1j * self.direction\n",
    "        \n",
    "    def forward(self, value):\n",
    "        self.pos += self.direction * value\n",
    "        \n",
    "    def distance(self):\n",
    "        return abs(self.pos.real) + abs(self.pos.imag)\n",
    "        \n",
    "    def move(self, ins):\n",
    "        value = int(ins[1:])\n",
    "        ins = ins[0]\n",
    "#         print(ins, value)\n",
    "        self.map[ins](value)"
   ]
  },
  {
   "cell_type": "code",
   "execution_count": 73,
   "metadata": {},
   "outputs": [],
   "source": [
    "b = boat()\n",
    "# data = test_data.splitlines()\n",
    "data = puzzle.input_data.splitlines()\n",
    "\n",
    "while data:\n",
    "    step = data.pop(0)\n",
    "    b.move(step)\n",
    "#     print(step, b.pos, b.direction)"
   ]
  },
  {
   "cell_type": "code",
   "execution_count": 75,
   "metadata": {},
   "outputs": [
    {
     "name": "stdout",
     "output_type": "stream",
     "text": [
      "\u001b[32mThat's the right answer!  You are one gold star closer to saving your vacation. [Continue to Part Two]\u001b[0m\n"
     ]
    }
   ],
   "source": [
    "puzzle.answer_a = int(b.distance())"
   ]
  },
  {
   "cell_type": "code",
   "execution_count": 76,
   "metadata": {},
   "outputs": [],
   "source": [
    "# Part B"
   ]
  },
  {
   "cell_type": "code",
   "execution_count": 83,
   "metadata": {},
   "outputs": [],
   "source": [
    "class boat_B():\n",
    "    def __init__(self):\n",
    "        self.direction = 1\n",
    "        self.pos = 0\n",
    "        self.waypoint = 10 + 1j\n",
    "        self.map = {\n",
    "            'N': lambda x: self.translate(x*1j),\n",
    "            'S': lambda x: self.translate(x*-1j),\n",
    "            'E': lambda x: self.translate(x),\n",
    "            'W': lambda x: self.translate(-x),\n",
    "            'R': lambda x: self.rotate(x),\n",
    "            'F': lambda x: self.forward(x),\n",
    "            'L': lambda x: self.rotate(-x),\n",
    "#             'R': lambda x: self.sideways(-x),\n",
    "        }\n",
    "        \n",
    "    def translate(self, value):\n",
    "        self.waypoint += value\n",
    "        \n",
    "    def rotate(self, value):\n",
    "        cc = -1j if value >= 0 else 1j\n",
    "        self.waypoint *= cc**(abs(value) // 90)\n",
    "        \n",
    "    def forward(self, value):\n",
    "        self.pos += self.waypoint * value\n",
    "        \n",
    "    def distance(self):\n",
    "        return abs(self.pos.real) + abs(self.pos.imag)\n",
    "        \n",
    "    def move(self, ins):\n",
    "        value = int(ins[1:])\n",
    "        ins = ins[0]\n",
    "#         print(ins, value)\n",
    "        self.map[ins](value)"
   ]
  },
  {
   "cell_type": "code",
   "execution_count": 87,
   "metadata": {},
   "outputs": [
    {
     "data": {
      "text/plain": [
       "52742.0"
      ]
     },
     "execution_count": 87,
     "metadata": {},
     "output_type": "execute_result"
    }
   ],
   "source": [
    "b = boat_B()\n",
    "# data = test_data.splitlines()\n",
    "data = puzzle.input_data.splitlines()\n",
    "\n",
    "while data:\n",
    "    step = data.pop(0)\n",
    "    b.move(step)\n",
    "#     print(step, b.pos, b.waypoint, b.direction)\n",
    "b.distance()"
   ]
  },
  {
   "cell_type": "code",
   "execution_count": 88,
   "metadata": {},
   "outputs": [
    {
     "name": "stdout",
     "output_type": "stream",
     "text": [
      "\u001b[32mThat's the right answer!  You are one gold star closer to saving your vacation.You have completed Day 12! You can [Shareon\n",
      "  Twitter\n",
      "Mastodon] this victory or [Return to Your Advent Calendar].\u001b[0m\n"
     ]
    }
   ],
   "source": [
    "puzzle.answer_b = int(b.distance())"
   ]
  },
  {
   "cell_type": "code",
   "execution_count": null,
   "metadata": {},
   "outputs": [],
   "source": []
  }
 ],
 "metadata": {
  "kernelspec": {
   "display_name": "Python 3",
   "language": "python",
   "name": "python3"
  },
  "language_info": {
   "codemirror_mode": {
    "name": "ipython",
    "version": 3
   },
   "file_extension": ".py",
   "mimetype": "text/x-python",
   "name": "python",
   "nbconvert_exporter": "python",
   "pygments_lexer": "ipython3",
   "version": "3.7.3"
  }
 },
 "nbformat": 4,
 "nbformat_minor": 4
}
