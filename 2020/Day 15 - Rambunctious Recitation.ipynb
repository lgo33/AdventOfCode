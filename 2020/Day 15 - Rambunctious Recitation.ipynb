{
 "cells": [
  {
   "cell_type": "code",
   "execution_count": 1,
   "metadata": {},
   "outputs": [],
   "source": [
    "import aocd\n",
    "from aocd.models import Puzzle\n",
    "day = 15\n",
    "year = 2020\n",
    "puzzle = Puzzle(year=year, day=day)\n",
    "# data = aocd.get_data(day=day, year=year)\n",
    "with open('./data/input_{:02d}'.format(day), 'w') as fh:\n",
    "    fh.write(puzzle.input_data)"
   ]
  },
  {
   "cell_type": "code",
   "execution_count": 2,
   "metadata": {},
   "outputs": [
    {
     "data": {
      "text/plain": [
       "['15,5,1,4,7,0']"
      ]
     },
     "execution_count": 2,
     "metadata": {},
     "output_type": "execute_result"
    }
   ],
   "source": [
    "data = puzzle.input_data.splitlines()\n",
    "data[:10]"
   ]
  },
  {
   "cell_type": "code",
   "execution_count": 3,
   "metadata": {},
   "outputs": [],
   "source": [
    "test_data = \"\"\"0,3,6\"\"\""
   ]
  },
  {
   "cell_type": "code",
   "execution_count": 83,
   "metadata": {},
   "outputs": [],
   "source": [
    "from collections import defaultdict, deque"
   ]
  },
  {
   "cell_type": "code",
   "execution_count": 95,
   "metadata": {},
   "outputs": [],
   "source": [
    "def get_diff(lst):\n",
    "    if len(lst) < 2:\n",
    "        return 0\n",
    "    return lst[1] - lst[0]\n",
    "\n",
    "def append_pop(lst, el):\n",
    "    if len(lst) == 2:\n",
    "        lst[0] = lst[1]\n",
    "        lst[1] = el    \n",
    "    else:        \n",
    "        lst.append(el)"
   ]
  },
  {
   "cell_type": "code",
   "execution_count": 128,
   "metadata": {},
   "outputs": [
    {
     "name": "stdout",
     "output_type": "stream",
     "text": [
      "436\n"
     ]
    }
   ],
   "source": [
    "i = 0\n",
    "preamble = list(map(int, puzzle.input_data.split(',')))\n",
    "# preamble = list(map(int, test_data.split(',')))\n",
    "\n",
    "seen = defaultdict(lambda: deque(maxlen=2))\n",
    "\n",
    "while i<2020:\n",
    "# while i < 10:\n",
    "#     print(last, '->')\n",
    "    if preamble:\n",
    "        say = preamble.pop(0)\n",
    "#         seen[say].append(i)\n",
    "    else:\n",
    "        say = get_diff(seen[last])\n",
    "#         append_pop(seen[say], i)\n",
    "    seen[say].append(i)\n",
    "    i += 1\n",
    "    last = say\n",
    "#     print(i, ': ', last, seen)\n",
    "print(last)\n"
   ]
  },
  {
   "cell_type": "code",
   "execution_count": 57,
   "metadata": {},
   "outputs": [
    {
     "name": "stdout",
     "output_type": "stream",
     "text": [
      "\u001b[32mThat's the right answer!  You are one gold star closer to saving your vacation. [Continue to Part Two]\u001b[0m\n"
     ]
    }
   ],
   "source": [
    "puzzle.answer_a = last"
   ]
  },
  {
   "cell_type": "code",
   "execution_count": 35,
   "metadata": {},
   "outputs": [],
   "source": [
    "# Part B"
   ]
  },
  {
   "cell_type": "code",
   "execution_count": 123,
   "metadata": {},
   "outputs": [
    {
     "name": "stdout",
     "output_type": "stream",
     "text": [
      "1000000 :  162\n",
      "2000000 :  598968\n",
      "3000000 :  19518\n",
      "4000000 :  25566\n",
      "5000000 :  1123914\n",
      "6000000 :  0\n",
      "7000000 :  35\n",
      "8000000 :  28658\n",
      "9000000 :  210\n",
      "10000000 :  23083\n",
      "11000000 :  25\n",
      "12000000 :  0\n",
      "13000000 :  44163\n",
      "14000000 :  1642155\n",
      "15000000 :  49\n",
      "16000000 :  8\n",
      "17000000 :  1066304\n",
      "18000000 :  6\n",
      "19000000 :  0\n",
      "20000000 :  8\n",
      "21000000 :  16662\n",
      "22000000 :  1019\n",
      "23000000 :  3660328\n",
      "24000000 :  1408\n",
      "25000000 :  1629620\n",
      "26000000 :  7\n",
      "27000000 :  11853636\n",
      "28000000 :  161710\n",
      "29000000 :  1\n",
      "30000000 :  689\n",
      "689\n",
      "CPU times: user 1min 10s, sys: 1.67 s, total: 1min 12s\n",
      "Wall time: 1min 12s\n"
     ]
    }
   ],
   "source": [
    "%%time\n",
    "i = 0\n",
    "preamble = list(map(int, puzzle.input_data.split(',')))\n",
    "# preamble = list(map(int, test_data.split(',')))\n",
    "\n",
    "seen = defaultdict(lambda: deque(maxlen=2))\n",
    "# seen = {}\n",
    "\n",
    "while i<30000000:\n",
    "# while i < 10:\n",
    "#     print(last, '->')\n",
    "    if preamble:\n",
    "        say = preamble.pop(0)\n",
    "    else:\n",
    "        say = get_diff(seen[last])\n",
    "    seen[say].append(i)\n",
    "    i += 1\n",
    "    last = say\n",
    "    if (i % 1000000) == 0:        \n",
    "        print(i, ': ', last)\n",
    "print(last)"
   ]
  },
  {
   "cell_type": "code",
   "execution_count": 73,
   "metadata": {},
   "outputs": [
    {
     "name": "stdout",
     "output_type": "stream",
     "text": [
      "\u001b[32mThat's the right answer!  You are one gold star closer to saving your vacation.You have completed Day 15! You can [Shareon\n",
      "  Twitter\n",
      "Mastodon] this victory or [Return to Your Advent Calendar].\u001b[0m\n"
     ]
    }
   ],
   "source": [
    "puzzle.answer_b = last"
   ]
  },
  {
   "cell_type": "code",
   "execution_count": 75,
   "metadata": {},
   "outputs": [],
   "source": [
    "def get_diff(el, map1, map2):\n",
    "    if el not in map2 or el not in map1:\n",
    "        return 0        \n",
    "    return map1[el] - map2[el]\n",
    "\n",
    "def append_pop(el, x, map1, map2):\n",
    "    if el in map1:\n",
    "        map2[el] = map1[el]\n",
    "    map1[el] = x"
   ]
  },
  {
   "cell_type": "code",
   "execution_count": 82,
   "metadata": {},
   "outputs": [
    {
     "name": "stdout",
     "output_type": "stream",
     "text": [
      "1000000 :  162\n",
      "2000000 :  598968\n",
      "3000000 :  19518\n",
      "4000000 :  25566\n",
      "5000000 :  1123914\n",
      "6000000 :  0\n",
      "7000000 :  35\n",
      "8000000 :  28658\n",
      "9000000 :  210\n",
      "10000000 :  23083\n",
      "11000000 :  25\n",
      "12000000 :  0\n",
      "13000000 :  44163\n",
      "14000000 :  1642155\n",
      "15000000 :  49\n",
      "16000000 :  8\n",
      "17000000 :  1066304\n",
      "18000000 :  6\n",
      "19000000 :  0\n",
      "20000000 :  8\n",
      "21000000 :  16662\n",
      "22000000 :  1019\n",
      "23000000 :  3660328\n",
      "24000000 :  1408\n",
      "25000000 :  1629620\n",
      "26000000 :  7\n",
      "27000000 :  11853636\n",
      "28000000 :  161710\n",
      "29000000 :  1\n",
      "30000000 :  689\n",
      "689\n",
      "CPU times: user 58.7 s, sys: 1.24 s, total: 60 s\n",
      "Wall time: 59.9 s\n"
     ]
    }
   ],
   "source": [
    "%%time\n",
    "# try to speed up\n",
    "i = 0\n",
    "last = None\n",
    "preamble = list(map(int, puzzle.input_data.split(',')))\n",
    "# preamble = list(map(int, test_data.split(',')))\n",
    "\n",
    "seen = {}\n",
    "seen_prev = {} \n",
    "# seen = {}\n",
    "new = True\n",
    "\n",
    "while i<30000000:\n",
    "# while i < 10:\n",
    "#     print(last, '->')\n",
    "    if preamble:\n",
    "        say = preamble.pop(0)\n",
    "        seen[say] = i\n",
    "    else:\n",
    "        say = get_diff(last, seen, seen_prev)\n",
    "        append_pop(say, i, seen, seen_prev)\n",
    "    i += 1\n",
    "    last = say\n",
    "    if (i % 1000000) == 0:        \n",
    "        print(i, ': ', last)\n",
    "print(last)"
   ]
  },
  {
   "cell_type": "code",
   "execution_count": 134,
   "metadata": {},
   "outputs": [
    {
     "name": "stdout",
     "output_type": "stream",
     "text": [
      "Part one: 475\n",
      "Part two: 11261\n"
     ]
    }
   ],
   "source": [
    "# https://github.com/frerich/aoc2020/blob/main/day15.py\n",
    "PUZZLE_INPUT = [6,4,12,1,20,0,16]\n",
    "\n",
    "\n",
    "def sequence(startingNumbers):\n",
    "    spokenNumbers = {x: i for i, x in enumerate(startingNumbers)}\n",
    "    yield from spokenNumbers.keys()\n",
    "\n",
    "    nextNumber = 0\n",
    "    turn = len(startingNumbers)\n",
    "    while True:\n",
    "        yield nextNumber\n",
    "\n",
    "        lastOcc = spokenNumbers.get(nextNumber, turn)\n",
    "        spokenNumbers[nextNumber] = turn\n",
    "\n",
    "        nextNumber = turn - lastOcc\n",
    "        turn += 1\n",
    "\n",
    "\n",
    "def nth(iterable, n):\n",
    "    for _ in range(n - 1):\n",
    "        next(iterable)\n",
    "    return next(iterable)\n",
    "\n"
   ]
  },
  {
   "cell_type": "code",
   "execution_count": 136,
   "metadata": {},
   "outputs": [
    {
     "name": "stdout",
     "output_type": "stream",
     "text": [
      "Part two: 689\n",
      "CPU times: user 21.7 s, sys: 728 ms, total: 22.4 s\n",
      "Wall time: 22.4 s\n"
     ]
    }
   ],
   "source": [
    "%%time\n",
    "print(\"Part two:\", nth(sequence(list(map(int, puzzle.input_data.split(',')))), 30000000))"
   ]
  },
  {
   "cell_type": "code",
   "execution_count": null,
   "metadata": {},
   "outputs": [],
   "source": []
  }
 ],
 "metadata": {
  "kernelspec": {
   "display_name": "Python 3",
   "language": "python",
   "name": "python3"
  },
  "language_info": {
   "codemirror_mode": {
    "name": "ipython",
    "version": 3
   },
   "file_extension": ".py",
   "mimetype": "text/x-python",
   "name": "python",
   "nbconvert_exporter": "python",
   "pygments_lexer": "ipython3",
   "version": "3.7.3"
  }
 },
 "nbformat": 4,
 "nbformat_minor": 4
}
