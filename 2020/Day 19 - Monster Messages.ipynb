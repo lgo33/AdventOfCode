{
 "cells": [
  {
   "cell_type": "code",
   "execution_count": 1,
   "metadata": {},
   "outputs": [],
   "source": [
    "import aocd\n",
    "from aocd.models import Puzzle\n",
    "day = 19\n",
    "year = 2020\n",
    "puzzle = Puzzle(year=year, day=day)\n",
    "# data = aocd.get_data(day=day, year=year)\n",
    "with open('./data/input_{:02d}'.format(day), 'w') as fh:\n",
    "    fh.write(puzzle.input_data)"
   ]
  },
  {
   "cell_type": "code",
   "execution_count": 2,
   "metadata": {},
   "outputs": [
    {
     "data": {
      "text/plain": [
       "['132: 80 20 | 46 54',\n",
       " '107: 58 20 | 3 54',\n",
       " '55: 126 20 | 107 54',\n",
       " '93: 110 29',\n",
       " '8: 42',\n",
       " '75: 92 20 | 103 54',\n",
       " '113: 91 20 | 35 54',\n",
       " '94: 54 64 | 20 21',\n",
       " '46: 54 20 | 110 54',\n",
       " '26: 54 74 | 20 94']"
      ]
     },
     "execution_count": 2,
     "metadata": {},
     "output_type": "execute_result"
    }
   ],
   "source": [
    "data = puzzle.input_data.splitlines()\n",
    "data[:10]"
   ]
  },
  {
   "cell_type": "code",
   "execution_count": 201,
   "metadata": {},
   "outputs": [],
   "source": [
    "test_data  = \"\"\"0: 4 1 5\n",
    "1: 2 3 | 3 2\n",
    "2: 4 4 | 5 5\n",
    "3: 4 5 | 5 4\n",
    "4: \"a\"\n",
    "5: \"b\"\n",
    "\n",
    "ababbb\n",
    "bababa\n",
    "abbbab\n",
    "aaabbb\n",
    "aaaabbb\n",
    "\"\"\""
   ]
  },
  {
   "cell_type": "code",
   "execution_count": 47,
   "metadata": {},
   "outputs": [],
   "source": [
    "from functools import lru_cache"
   ]
  },
  {
   "cell_type": "code",
   "execution_count": 127,
   "metadata": {},
   "outputs": [],
   "source": [
    "def parse(data):\n",
    "    rules = []\n",
    "    messages = []\n",
    "    parse = 'rules'\n",
    "    for line in data:\n",
    "        if line.strip() == \"\":\n",
    "            parse = \"messages\"\n",
    "            continue\n",
    "        if parse == 'rules':\n",
    "            rules.append(parse_rules(line))\n",
    "        else:\n",
    "            messages.append(line)\n",
    "    return rules, messages\n",
    "\n",
    "def parse_rules(line):\n",
    "    num_rule, rules = line.split(': ')\n",
    "    if rules in (\"\\\"a\\\"\", \"\\\"b\\\"\"):\n",
    "        return (int(num_rule), rules[1])\n",
    "#     print(num_rule, rules)\n",
    "    rules = tuple([tuple(map(int, rule.split(' '))) for rule in rules.split(' | ')])\n",
    "#     return rules.split(' | ')\n",
    "    return (int(num_rule), rules)"
   ]
  },
  {
   "cell_type": "code",
   "execution_count": 137,
   "metadata": {},
   "outputs": [],
   "source": [
    "# rules, messages = parse(test_data.splitlines())\n",
    "rules, messages = parse(puzzle.input_data.splitlines())\n",
    "rules = dict(rules)"
   ]
  },
  {
   "cell_type": "code",
   "execution_count": 138,
   "metadata": {
    "collapsed": true,
    "jupyter": {
     "outputs_hidden": true
    }
   },
   "outputs": [
    {
     "data": {
      "text/plain": [
       "{132: ((80, 20), (46, 54)),\n",
       " 107: ((58, 20), (3, 54)),\n",
       " 55: ((126, 20), (107, 54)),\n",
       " 93: ((110, 29),),\n",
       " 8: ((42,),),\n",
       " 75: ((92, 20), (103, 54)),\n",
       " 113: ((91, 20), (35, 54)),\n",
       " 94: ((54, 64), (20, 21)),\n",
       " 46: ((54, 20), (110, 54)),\n",
       " 26: ((54, 74), (20, 94)),\n",
       " 61: ((20, 76), (54, 25)),\n",
       " 128: ((38, 20), (29, 54)),\n",
       " 129: ((20, 81), (54, 49)),\n",
       " 21: ((20, 49), (54, 9)),\n",
       " 103: ((54, 2), (20, 51)),\n",
       " 9: ((54, 54), (20, 20)),\n",
       " 82: ((54, 9), (20, 29)),\n",
       " 127: ((20, 54), (54, 54)),\n",
       " 59: ((40, 54), (87, 20)),\n",
       " 0: ((8, 11),),\n",
       " 105: ((20, 125), (54, 1)),\n",
       " 78: ((82, 54), (132, 20)),\n",
       " 88: ((20, 63), (54, 13)),\n",
       " 53: ((20, 46), (54, 38)),\n",
       " 62: ((54, 123), (20, 65)),\n",
       " 116: ((20, 19), (54, 66)),\n",
       " 32: ((118, 20), (26, 54)),\n",
       " 81: ((54, 54),),\n",
       " 45: ((54, 50), (20, 98)),\n",
       " 15: ((124, 54), (73, 20)),\n",
       " 118: ((59, 54), (85, 20)),\n",
       " 64: ((49, 20), (13, 54)),\n",
       " 10: ((20, 95), (54, 128)),\n",
       " 95: ((54, 80), (20, 81)),\n",
       " 11: ((42, 31),),\n",
       " 97: ((20, 46),),\n",
       " 108: ((20, 77), (54, 88)),\n",
       " 63: ((110, 110),),\n",
       " 125: ((29, 54), (12, 20)),\n",
       " 79: ((20, 29), (54, 49)),\n",
       " 43: ((54, 104), (20, 6)),\n",
       " 66: ((115, 54), (112, 20)),\n",
       " 67: ((110, 80),),\n",
       " 44: ((54, 12), (20, 63)),\n",
       " 37: ((99, 54), (63, 20)),\n",
       " 74: ((120, 54), (48, 20)),\n",
       " 27: ((54, 41), (20, 105)),\n",
       " 14: ((20, 101), (54, 96)),\n",
       " 77: ((9, 54), (63, 20)),\n",
       " 50: ((54, 89), (20, 34)),\n",
       " 20: 'b',\n",
       " 80: ((20, 54), (54, 20)),\n",
       " 16: ((54, 79), (20, 90)),\n",
       " 38: ((54, 110), (20, 20)),\n",
       " 17: ((54, 61), (20, 78)),\n",
       " 68: ((127, 20), (99, 54)),\n",
       " 23: ((112, 54), (67, 20)),\n",
       " 83: ((20, 33), (54, 38)),\n",
       " 124: ((18, 20), (30, 54)),\n",
       " 4: ((99, 20), (57, 54)),\n",
       " 34: ((12, 54), (13, 20)),\n",
       " 89: ((54, 29), (20, 38)),\n",
       " 58: ((12, 54), (12, 20)),\n",
       " 12: ((20, 20),),\n",
       " 130: ((20, 57), (54, 38)),\n",
       " 70: ((20, 122), (54, 131)),\n",
       " 120: ((12, 54), (80, 20)),\n",
       " 42: ((72, 54), (62, 20)),\n",
       " 56: ((113, 54), (114, 20)),\n",
       " 102: ((108, 20), (23, 54)),\n",
       " 112: ((54, 33), (20, 81)),\n",
       " 3: ((80, 20), (99, 54)),\n",
       " 25: ((20, 13),),\n",
       " 30: ((111, 54), (36, 20)),\n",
       " 117: ((20, 12), (54, 33)),\n",
       " 115: ((57, 54), (57, 20)),\n",
       " 101: ((81, 20),),\n",
       " 36: ((20, 6), (54, 93)),\n",
       " 40: ((54, 127), (20, 49)),\n",
       " 96: ((20, 81), (54, 81)),\n",
       " 1: ((20, 49), (54, 49)),\n",
       " 65: ((20, 56), (54, 102)),\n",
       " 5: ((20, 9), (54, 12)),\n",
       " 52: ((54, 43), (20, 69)),\n",
       " 39: ((20, 25), (54, 97)),\n",
       " 87: ((54, 99), (20, 46)),\n",
       " 109: ((63, 20), (127, 54)),\n",
       " 100: ((9, 20), (46, 54)),\n",
       " 51: ((54, 90), (20, 83)),\n",
       " 122: ((20, 22), (54, 84)),\n",
       " 92: ((54, 10), (20, 14)),\n",
       " 110: ((20,), (54,)),\n",
       " 28: ((54, 55), (20, 116)),\n",
       " 90: ((38, 54), (63, 20)),\n",
       " 49: ((20, 54),),\n",
       " 22: ((80, 54), (99, 20)),\n",
       " 98: ((54, 88), (20, 130)),\n",
       " 19: ((106, 20), (125, 54)),\n",
       " 35: ((54, 81), (20, 46)),\n",
       " 71: ((54, 28), (20, 32)),\n",
       " 2: ((5, 54), (96, 20)),\n",
       " 33: ((20, 20), (20, 54)),\n",
       " 6: ((20, 49),),\n",
       " 119: ((54, 39), (20, 86)),\n",
       " 29: ((110, 20), (20, 54)),\n",
       " 31: ((54, 71), (20, 15)),\n",
       " 69: ((129, 20), (7, 54)),\n",
       " 85: ((20, 68), (54, 109)),\n",
       " 126: ((37, 54), (53, 20)),\n",
       " 106: ((81, 54), (33, 20)),\n",
       " 73: ((20, 27), (54, 52)),\n",
       " 91: ((57, 54),),\n",
       " 18: ((16, 20), (121, 54)),\n",
       " 104: ((33, 20), (46, 54)),\n",
       " 111: ((40, 20), (47, 54)),\n",
       " 54: 'a',\n",
       " 76: ((12, 20),),\n",
       " 72: ((54, 60), (20, 75)),\n",
       " 13: ((54, 20), (54, 54)),\n",
       " 60: ((20, 70), (54, 45)),\n",
       " 48: ((99, 54), (57, 20)),\n",
       " 24: ((12, 20), (38, 54)),\n",
       " 86: ((117, 20), (24, 54)),\n",
       " 57: ((54, 20),),\n",
       " 41: ((20, 68), (54, 125)),\n",
       " 84: ((38, 20), (33, 54)),\n",
       " 47: ((63, 20), (81, 54)),\n",
       " 123: ((54, 17), (20, 119)),\n",
       " 7: ((54, 80), (20, 99)),\n",
       " 99: ((20, 110), (54, 54)),\n",
       " 131: ((4, 20), (100, 54)),\n",
       " 114: ((87, 20), (88, 54)),\n",
       " 121: ((24, 54), (44, 20))}"
      ]
     },
     "execution_count": 138,
     "metadata": {},
     "output_type": "execute_result"
    }
   ],
   "source": [
    "rules"
   ]
  },
  {
   "cell_type": "code",
   "execution_count": 148,
   "metadata": {},
   "outputs": [],
   "source": [
    "@lru_cache(maxsize=None)\n",
    "def get_length(nr):\n",
    "    rule = rules[nr]\n",
    "    if rule in ('a', 'b'):\n",
    "        return 1\n",
    "    if len(rule) == 1:\n",
    "        return sum([get_length(r) for r in rule[0]])\n",
    "    if len(rule) == 2:\n",
    "        left = sum([get_length(r) for r in rule[0]])\n",
    "        right = sum([get_length(r) for r in rule[1]])\n",
    "        if left == right:\n",
    "            return left\n",
    "        raise\n",
    "    raise\n",
    "get_length.cache_clear()"
   ]
  },
  {
   "cell_type": "code",
   "execution_count": 140,
   "metadata": {},
   "outputs": [],
   "source": [
    "@lru_cache(maxsize=None)\n",
    "def check_set(line, rs):\n",
    "    i = 0\n",
    "    for r in rs:\n",
    "        l = get_length(r)\n",
    "        if not check(line[i:l+i],r):\n",
    "            return False\n",
    "        i+=l\n",
    "    return True\n",
    "\n",
    "@lru_cache(maxsize=None)\n",
    "def check(line, nr):\n",
    "#     print(line, nr)\n",
    "    rule = rules[nr]\n",
    "    l = get_length(nr)\n",
    "    if len(line) != l:\n",
    "        return False\n",
    "    if rule in ('a', 'b'):\n",
    "        return line == rule\n",
    "    if len(rule) == 1:\n",
    "#         print(rule[0], line)\n",
    "        return check_set(line, rule[0])\n",
    "    if len(rule) == 2:\n",
    "        return check_set(line, rule[0]) or check_set(line, rule[1])\n",
    "    raise\n",
    "    \n",
    "check_set.cache_clear()\n",
    "check.cache_clear()"
   ]
  },
  {
   "cell_type": "code",
   "execution_count": 141,
   "metadata": {},
   "outputs": [
    {
     "data": {
      "text/plain": [
       "118"
      ]
     },
     "execution_count": 141,
     "metadata": {},
     "output_type": "execute_result"
    }
   ],
   "source": [
    "valid = sum([check(m, 0) for m in messages])"
   ]
  },
  {
   "cell_type": "code",
   "execution_count": 142,
   "metadata": {},
   "outputs": [
    {
     "name": "stdout",
     "output_type": "stream",
     "text": [
      "\u001b[32mThat's the right answer!  You are one gold star closer to saving your vacation. [Continue to Part Two]\u001b[0m\n"
     ]
    }
   ],
   "source": [
    "puzzle.answer_a = valid"
   ]
  },
  {
   "cell_type": "code",
   "execution_count": 143,
   "metadata": {},
   "outputs": [],
   "source": [
    "# Part B"
   ]
  },
  {
   "cell_type": "code",
   "execution_count": 163,
   "metadata": {},
   "outputs": [],
   "source": [
    "@lru_cache(maxsize=None)\n",
    "def get_length_B(nr):\n",
    "    rule = rules[nr]\n",
    "    if rule in ('a', 'b'):\n",
    "        return 1\n",
    "    if len(rule) == 1:\n",
    "        return sum([get_length_B(r) for r in rule[0]])\n",
    "    if len(rule) == 2:\n",
    "        left = sum([get_length_B(r) for r in rule[0]])\n",
    "        if nr in (8, 11):\n",
    "            print('!')\n",
    "            return left\n",
    "        right = sum([get_length_B(r) for r in rule[1]])\n",
    "        if left == right:\n",
    "            return left\n",
    "        raise\n",
    "    raise\n",
    "get_length.cache_clear()\n",
    "\n",
    "@lru_cache(maxsize=None)\n",
    "def check_set_B(line, rs):\n",
    "    i = 0\n",
    "    for r in rs:\n",
    "        l = get_length_B(r)\n",
    "        if not check(line[i:l+i],r):\n",
    "            return False\n",
    "        i+=l\n",
    "    return True\n",
    "\n",
    "@lru_cache(maxsize=None)\n",
    "def check_B(line, nr):\n",
    "#     print(line, nr)\n",
    "    rule = rules[nr]\n",
    "    l = get_length_B(nr)\n",
    "    if len(line) < l:\n",
    "        return False\n",
    "    if rule in ('a', 'b'):\n",
    "        return line == rule\n",
    "    if len(rule) == 1:\n",
    "#         print(rule[0], line)\n",
    "        return check_set_B(line, rule[0])\n",
    "    if len(rule) == 2:\n",
    "        return check_set_B(line, rule[0]) or check_set_B(line, rule[1])\n",
    "    raise"
   ]
  },
  {
   "cell_type": "code",
   "execution_count": 165,
   "metadata": {},
   "outputs": [
    {
     "data": {
      "text/plain": [
       "8"
      ]
     },
     "execution_count": 165,
     "metadata": {},
     "output_type": "execute_result"
    }
   ],
   "source": [
    "get_length_B(31)"
   ]
  },
  {
   "cell_type": "code",
   "execution_count": 187,
   "metadata": {},
   "outputs": [],
   "source": [
    "# another try with regex"
   ]
  },
  {
   "cell_type": "code",
   "execution_count": 188,
   "metadata": {},
   "outputs": [],
   "source": [
    "import re"
   ]
  },
  {
   "cell_type": "code",
   "execution_count": 309,
   "metadata": {},
   "outputs": [],
   "source": [
    "def get_match_string(nr):\n",
    "    rule = rules[nr]\n",
    "    if rule in ('a', 'b'):\n",
    "        return rule\n",
    "    if len(rule) == 1:\n",
    "        left = \"\".join([get_match_string(r) for r in rule[0]])\n",
    "        return \"{}\".format(left)\n",
    "    if len(rule) == 2:\n",
    "        left = \"\".join([get_match_string(r) for r in rule[0]])\n",
    "        right = \"\".join([get_match_string(r) for r in rule[1]])\n",
    "        return \"(({})|({}))\".format(left, right)\n",
    "    raise\n",
    "    \n",
    "def get_match_string_B(nr):\n",
    "    rule = rules[nr]\n",
    "    if rule in ('a', 'b'):\n",
    "        return rule\n",
    "    if nr == 8:        \n",
    "        return \"({})+\".format(get_match_string_B(42))\n",
    "    if nr == 11:\n",
    "        ret = \"(\"\n",
    "        for i in range(1, 10):\n",
    "            ret += \"((%s){%d}(%s){%d})\" % (get_match_string_B(42), i, get_match_string_B(31), i)\n",
    "            if i != 9:\n",
    "                ret += \"|\"\n",
    "#             ret += \"(({})\\{1\\}({}))\".format(get_match_string_B(42), get_match_string_B(31))\n",
    "        return ret + \")\"\n",
    "#         return \"(({})+({})+)\".format(get_match_string_B(42), get_match_string_B(31))\n",
    "    if len(rule) == 1:\n",
    "        left = \"\".join([get_match_string_B(r) for r in rule[0]])\n",
    "        return \"{}\".format(left)\n",
    "    if len(rule) == 2:\n",
    "        left = \"\".join([get_match_string_B(r) for r in rule[0]])\n",
    "        right = \"\".join([get_match_string_B(r) for r in rule[1]])\n",
    "        return \"(({})|({}))\".format(left, right)\n",
    "    raise"
   ]
  },
  {
   "cell_type": "code",
   "execution_count": 310,
   "metadata": {},
   "outputs": [],
   "source": [
    "# rules, messages = parse(test_data.splitlines())\n",
    "rules, messages = parse(puzzle.input_data.splitlines())\n",
    "rules = dict(rules)"
   ]
  },
  {
   "cell_type": "code",
   "execution_count": 286,
   "metadata": {},
   "outputs": [
    {
     "data": {
      "text/plain": [
       "118"
      ]
     },
     "execution_count": 286,
     "metadata": {},
     "output_type": "execute_result"
    }
   ],
   "source": [
    "match_string = get_match_string(0)+\"$\"\n",
    "\n",
    "pattern = re.compile(match_string)\n",
    "sum(list(map(lambda m: re.match(pattern, m) is not None, messages )))"
   ]
  },
  {
   "cell_type": "code",
   "execution_count": 287,
   "metadata": {
    "jupyter": {
     "source_hidden": true
    }
   },
   "outputs": [],
   "source": [
    "test_data_B = \"\"\"42: 9 14 | 10 1\n",
    "9: 14 27 | 1 26\n",
    "10: 23 14 | 28 1\n",
    "1: \"a\"\n",
    "11: 42 31\n",
    "5: 1 14 | 15 1\n",
    "19: 14 1 | 14 14\n",
    "12: 24 14 | 19 1\n",
    "16: 15 1 | 14 14\n",
    "31: 14 17 | 1 13\n",
    "6: 14 14 | 1 14\n",
    "2: 1 24 | 14 4\n",
    "0: 8 11\n",
    "13: 14 3 | 1 12\n",
    "15: 1 | 14\n",
    "17: 14 2 | 1 7\n",
    "23: 25 1 | 22 14\n",
    "28: 16 1\n",
    "4: 1 1\n",
    "20: 14 14 | 1 15\n",
    "3: 5 14 | 16 1\n",
    "27: 1 6 | 14 18\n",
    "14: \"b\"\n",
    "21: 14 1 | 1 14\n",
    "25: 1 1 | 1 14\n",
    "22: 14 14\n",
    "8: 42\n",
    "26: 14 22 | 1 20\n",
    "18: 15 15\n",
    "7: 14 5 | 1 21\n",
    "24: 14 1\n",
    "\n",
    "abbbbbabbbaaaababbaabbbbabababbbabbbbbbabaaaa\n",
    "bbabbbbaabaabba\n",
    "babbbbaabbbbbabbbbbbaabaaabaaa\n",
    "aaabbbbbbaaaabaababaabababbabaaabbababababaaa\n",
    "bbbbbbbaaaabbbbaaabbabaaa\n",
    "bbbababbbbaaaaaaaabbababaaababaabab\n",
    "ababaaaaaabaaab\n",
    "ababaaaaabbbaba\n",
    "baabbaaaabbaaaababbaababb\n",
    "abbbbabbbbaaaababbbbbbaaaababb\n",
    "aaaaabbaabaaaaababaa\n",
    "aaaabbaaaabbaaa\n",
    "aaaabbaabbaaaaaaabbbabbbaaabbaabaaa\n",
    "babaaabbbaaabaababbaabababaaab\n",
    "aabbbbbaabbbaaaaaabbbbbababaaaaabbaaabba\"\"\""
   ]
  },
  {
   "cell_type": "code",
   "execution_count": 311,
   "metadata": {},
   "outputs": [],
   "source": [
    "# rules, messages = parse(test_data_B.splitlines())\n",
    "rules, messages = parse(puzzle.input_data.splitlines())\n",
    "rules = dict(rules)"
   ]
  },
  {
   "cell_type": "code",
   "execution_count": 312,
   "metadata": {},
   "outputs": [
    {
     "data": {
      "text/plain": [
       "246"
      ]
     },
     "execution_count": 312,
     "metadata": {},
     "output_type": "execute_result"
    }
   ],
   "source": [
    "match_string = get_match_string_B(0)+\"$\"\n",
    "\n",
    "pattern = re.compile(match_string)\n",
    "sum(list(map(lambda m: re.match(pattern, m) is not None, messages )))"
   ]
  },
  {
   "cell_type": "code",
   "execution_count": 294,
   "metadata": {},
   "outputs": [
    {
     "data": {
      "text/plain": [
       "1183"
      ]
     },
     "execution_count": 294,
     "metadata": {},
     "output_type": "execute_result"
    }
   ],
   "source": [
    "puzzle.answer_b = _"
   ]
  },
  {
   "cell_type": "code",
   "execution_count": null,
   "metadata": {},
   "outputs": [],
   "source": []
  }
 ],
 "metadata": {
  "kernelspec": {
   "display_name": "Python 3",
   "language": "python",
   "name": "python3"
  },
  "language_info": {
   "codemirror_mode": {
    "name": "ipython",
    "version": 3
   },
   "file_extension": ".py",
   "mimetype": "text/x-python",
   "name": "python",
   "nbconvert_exporter": "python",
   "pygments_lexer": "ipython3",
   "version": "3.7.3"
  }
 },
 "nbformat": 4,
 "nbformat_minor": 4
}
