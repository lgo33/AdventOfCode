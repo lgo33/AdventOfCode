{
 "cells": [
  {
   "cell_type": "code",
   "execution_count": 1,
   "metadata": {},
   "outputs": [],
   "source": [
    "import aocd\n",
    "from aocd.models import Puzzle\n",
    "day = 22\n",
    "year = 2020\n",
    "puzzle = Puzzle(year=year, day=day)\n",
    "# data = aocd.get_data(day=day, year=year)\n",
    "with open('./data/input_{:02d}'.format(day), 'w') as fh:\n",
    "    fh.write(puzzle.input_data)"
   ]
  },
  {
   "cell_type": "code",
   "execution_count": 2,
   "metadata": {},
   "outputs": [
    {
     "data": {
      "text/plain": [
       "['Player 1:', '10', '39', '16', '32', '5', '46', '47', '45', '48']"
      ]
     },
     "execution_count": 2,
     "metadata": {},
     "output_type": "execute_result"
    }
   ],
   "source": [
    "data = puzzle.input_data.splitlines()\n",
    "data[:10]"
   ]
  },
  {
   "cell_type": "code",
   "execution_count": 11,
   "metadata": {},
   "outputs": [],
   "source": [
    "test_data = \"\"\"Player 1:\n",
    "9\n",
    "2\n",
    "6\n",
    "3\n",
    "1\n",
    "\n",
    "Player 2:\n",
    "5\n",
    "8\n",
    "4\n",
    "7\n",
    "10\"\"\""
   ]
  },
  {
   "cell_type": "code",
   "execution_count": 131,
   "metadata": {},
   "outputs": [],
   "source": [
    "test_data_B = \"\"\"Player 1:\n",
    "43\n",
    "19\n",
    "\n",
    "Player 2:\n",
    "2\n",
    "29\n",
    "14\"\"\""
   ]
  },
  {
   "cell_type": "code",
   "execution_count": 12,
   "metadata": {},
   "outputs": [],
   "source": [
    "from collections import deque"
   ]
  },
  {
   "cell_type": "code",
   "execution_count": 42,
   "metadata": {},
   "outputs": [],
   "source": [
    "decks = [deque([]), deque([])]\n",
    "player = 0\n",
    "for card in data:\n",
    "# for card in test_data.splitlines():\n",
    "    if card == 'Player 1:':\n",
    "        continue\n",
    "    elif card == 'Player 2:':\n",
    "        player = 1\n",
    "        continue\n",
    "    elif card.strip() == \"\":\n",
    "        continue\n",
    "#     print (card)\n",
    "    decks[player].append(int(card))\n",
    "\n",
    "    "
   ]
  },
  {
   "cell_type": "code",
   "execution_count": 43,
   "metadata": {},
   "outputs": [],
   "source": [
    "while all([len(d) > 0 for d in decks]):\n",
    "    left = decks[0].popleft()\n",
    "    right = decks[1].popleft()\n",
    "    if left > right:\n",
    "        decks[0].extend([left, right])\n",
    "    else:\n",
    "        decks[1].extend([right, left])\n",
    "#     print(left, right)\n"
   ]
  },
  {
   "cell_type": "code",
   "execution_count": 44,
   "metadata": {
    "collapsed": true,
    "jupyter": {
     "outputs_hidden": true
    }
   },
   "outputs": [
    {
     "data": {
      "text/plain": [
       "[deque([]),\n",
       " deque([47,\n",
       "        9,\n",
       "        34,\n",
       "        7,\n",
       "        32,\n",
       "        29,\n",
       "        30,\n",
       "        14,\n",
       "        39,\n",
       "        24,\n",
       "        31,\n",
       "        5,\n",
       "        22,\n",
       "        8,\n",
       "        4,\n",
       "        3,\n",
       "        16,\n",
       "        10,\n",
       "        50,\n",
       "        28,\n",
       "        11,\n",
       "        2,\n",
       "        41,\n",
       "        33,\n",
       "        27,\n",
       "        15,\n",
       "        49,\n",
       "        46,\n",
       "        37,\n",
       "        35,\n",
       "        12,\n",
       "        1,\n",
       "        36,\n",
       "        26,\n",
       "        48,\n",
       "        23,\n",
       "        44,\n",
       "        17,\n",
       "        45,\n",
       "        43,\n",
       "        40,\n",
       "        38,\n",
       "        42,\n",
       "        20,\n",
       "        25,\n",
       "        18,\n",
       "        21,\n",
       "        13,\n",
       "        19,\n",
       "        6])]"
      ]
     },
     "execution_count": 44,
     "metadata": {},
     "output_type": "execute_result"
    }
   ],
   "source": [
    "decks"
   ]
  },
  {
   "cell_type": "code",
   "execution_count": 45,
   "metadata": {},
   "outputs": [],
   "source": [
    "if len(decks[0]):\n",
    "    winner = decks[0]\n",
    "else:\n",
    "    winner = decks[1]\n",
    "score = 0\n",
    "for i, card in enumerate(list(winner)[::-1]):\n",
    "    score += (i+1) * card\n"
   ]
  },
  {
   "cell_type": "code",
   "execution_count": 46,
   "metadata": {},
   "outputs": [
    {
     "data": {
      "text/plain": [
       "31455"
      ]
     },
     "execution_count": 46,
     "metadata": {},
     "output_type": "execute_result"
    }
   ],
   "source": [
    "score"
   ]
  },
  {
   "cell_type": "code",
   "execution_count": 47,
   "metadata": {},
   "outputs": [
    {
     "name": "stdout",
     "output_type": "stream",
     "text": [
      "\u001b[32mThat's the right answer!  You are one gold star closer to saving your vacation. [Continue to Part Two]\u001b[0m\n"
     ]
    }
   ],
   "source": [
    "puzzle.answer_a = score"
   ]
  },
  {
   "cell_type": "code",
   "execution_count": 48,
   "metadata": {},
   "outputs": [],
   "source": [
    "# Part B"
   ]
  },
  {
   "cell_type": "code",
   "execution_count": 151,
   "metadata": {},
   "outputs": [],
   "source": [
    "decks = [deque([]), deque([])]\n",
    "player = 0\n",
    "for card in data:\n",
    "# for card in test_data.splitlines():\n",
    "# for card in test_data_B.splitlines():\n",
    "    if card == 'Player 1:':\n",
    "        continue\n",
    "    elif card == 'Player 2:':\n",
    "        player = 1\n",
    "        continue\n",
    "    elif card.strip() == \"\":\n",
    "        continue\n",
    "#     print (card)\n",
    "    decks[player].append(int(card))"
   ]
  },
  {
   "cell_type": "code",
   "execution_count": 152,
   "metadata": {},
   "outputs": [],
   "source": [
    "def play(decks):\n",
    "    seen_left = set()\n",
    "    seen_right = set()\n",
    "    \n",
    "    while all([len(d) > 0 for d in decks]):\n",
    "        \n",
    "        if tuple(decks[0]) in seen_left or tuple(decks[1]) in seen_right:\n",
    "            return 0\n",
    "        seen_left.add(tuple(decks[0]))\n",
    "        seen_right.add(tuple(decks[1]))\n",
    "        \n",
    "        left = decks[0].popleft()        \n",
    "        right = decks[1].popleft()        \n",
    "        \n",
    "#         print(\"### \", left, right)                \n",
    "        \n",
    "#         print(len(decks[0]), left, len(decks[1]), right)\n",
    "        if (len(decks[0]) < left or len(decks[1]) < right):           \n",
    "            if left > right:\n",
    "                decks[0].extend([left, right])\n",
    "            else:\n",
    "                decks[1].extend([right, left])\n",
    "        else:\n",
    "#             print('!')\n",
    "            if play([deque(list(decks[0])[:left]), deque(list(decks[1])[:right])]) == 0:\n",
    "                decks[0].extend([left, right])\n",
    "            else:\n",
    "                decks[1].extend([right, left])\n",
    "        \n",
    "    if len(decks[0]):\n",
    "        return 0\n",
    "    return 1"
   ]
  },
  {
   "cell_type": "code",
   "execution_count": 153,
   "metadata": {},
   "outputs": [
    {
     "data": {
      "text/plain": [
       "1"
      ]
     },
     "execution_count": 153,
     "metadata": {},
     "output_type": "execute_result"
    }
   ],
   "source": [
    "play(decks)"
   ]
  },
  {
   "cell_type": "code",
   "execution_count": 154,
   "metadata": {},
   "outputs": [
    {
     "data": {
      "text/plain": [
       "[deque([]),\n",
       " deque([1,\n",
       "        6,\n",
       "        49,\n",
       "        29,\n",
       "        30,\n",
       "        18,\n",
       "        32,\n",
       "        25,\n",
       "        35,\n",
       "        20,\n",
       "        21,\n",
       "        3,\n",
       "        46,\n",
       "        43,\n",
       "        45,\n",
       "        8,\n",
       "        16,\n",
       "        7,\n",
       "        42,\n",
       "        24,\n",
       "        39,\n",
       "        19,\n",
       "        48,\n",
       "        47,\n",
       "        5,\n",
       "        4,\n",
       "        44,\n",
       "        15,\n",
       "        22,\n",
       "        2,\n",
       "        38,\n",
       "        31,\n",
       "        34,\n",
       "        28,\n",
       "        41,\n",
       "        17,\n",
       "        37,\n",
       "        12,\n",
       "        27,\n",
       "        14,\n",
       "        26,\n",
       "        10,\n",
       "        50,\n",
       "        23,\n",
       "        36,\n",
       "        11,\n",
       "        40,\n",
       "        13,\n",
       "        33,\n",
       "        9])]"
      ]
     },
     "execution_count": 154,
     "metadata": {},
     "output_type": "execute_result"
    }
   ],
   "source": [
    "decks"
   ]
  },
  {
   "cell_type": "code",
   "execution_count": 155,
   "metadata": {},
   "outputs": [
    {
     "data": {
      "text/plain": [
       "32528"
      ]
     },
     "execution_count": 155,
     "metadata": {},
     "output_type": "execute_result"
    }
   ],
   "source": [
    "if len(decks[0]):\n",
    "    winner = decks[0]\n",
    "else:\n",
    "    winner = decks[1]\n",
    "score = 0\n",
    "for i, card in enumerate(list(winner)[::-1]):\n",
    "    score += (i+1) * card\n",
    "score"
   ]
  },
  {
   "cell_type": "code",
   "execution_count": 156,
   "metadata": {},
   "outputs": [
    {
     "name": "stdout",
     "output_type": "stream",
     "text": [
      "\u001b[32mThat's the right answer!  You are one gold star closer to saving your vacation.You have completed Day 22! You can [Shareon\n",
      "  Twitter\n",
      "Mastodon] this victory or [Return to Your Advent Calendar].\u001b[0m\n"
     ]
    }
   ],
   "source": [
    "puzzle.answer_b = score"
   ]
  },
  {
   "cell_type": "code",
   "execution_count": null,
   "metadata": {},
   "outputs": [],
   "source": []
  }
 ],
 "metadata": {
  "kernelspec": {
   "display_name": "Python 3",
   "language": "python",
   "name": "python3"
  },
  "language_info": {
   "codemirror_mode": {
    "name": "ipython",
    "version": 3
   },
   "file_extension": ".py",
   "mimetype": "text/x-python",
   "name": "python",
   "nbconvert_exporter": "python",
   "pygments_lexer": "ipython3",
   "version": "3.7.3"
  }
 },
 "nbformat": 4,
 "nbformat_minor": 4
}
