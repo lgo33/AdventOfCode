{
 "cells": [
  {
   "cell_type": "code",
   "execution_count": 3,
   "metadata": {},
   "outputs": [],
   "source": [
    "import aocd\n",
    "from aocd.models import Puzzle\n",
    "day = 21\n",
    "year = 2020\n",
    "puzzle = Puzzle(year=year, day=day)\n",
    "# data = aocd.get_data(day=day, year=year)\n",
    "with open('./data/input_{:02d}'.format(day), 'w') as fh:\n",
    "    fh.write(puzzle.input_data)"
   ]
  },
  {
   "cell_type": "code",
   "execution_count": 41,
   "metadata": {},
   "outputs": [
    {
     "data": {
      "text/plain": [
       "['qqskn vqm rxhxs xhzr lpxb plc sksqn hcfjt xjqd vgnf shln ccvnlbp btnmj lvntbhnk kl pdvqq pcbls jnqcd xbvm fdbd thpt thjblh dhcbcm kltmhv zxql hnfpxh kcvsl bkbpjf stkqcn lkkb bnj psxb pxmrdg fhcms cdl xkbzbsf rfhz pvkmx qjqb jzfxc glrps kqxmv lvdhspf bsqxjk xdtt cjxv jhzllk bhbhz rfhrps zgsm lccs mnz grnm bgvx xkjng pkzjv vmskhmg dssdlb fnnkfq gbmldv rplg qmgbz nzbbzd kgzjj gq nhclz (contains dairy)',\n",
       " 'nfngm ccvnlbp fnnkfq dnz vrjmh tldgnn lbgc cjxv kbcc qqskn zgxrt zks xkvcq qjqb hsjfvb klpvh sksqn xjqd thjblh rlcjkc rplg qmjjb fzqds hdmx fzksgr hcfjt pxmrdg btnmj skg llszv qkgj hngv xxvg bjtftkjv zfxsbphz tbvpmf tcm jnqcd kshmt vpfjnk qrrz vfcq tknpg pkj mnrks kqxmv gphf (contains nuts, soy, peanuts)',\n",
       " 'qxxtt pvtmb tkbl tldgnn xbvm lxzs lflgp kpnmg pkzjv qjqb nbcdr qqskn glrps jvzjzb jzfxc xhr thpt dlhj cdl kl bqrkh cmkj hnln dgdr mtcgr jnqcd nfngm cjxv hmg gbmldv nskx jrjshr qmgbz ccvnlbp vpdk xkvcq qzftq bzzl mcdgk pvkmx rplg nhclz fvmql sfvhg zxql hngv fhnxhq srhqgm rgv zks tbvpmf xhzr kshmt lxfqzvk hsbvtfvf pcbls bnj lpxb hmvcc rfhrps rjppgdl tnhfjhj mmh gphf bjtftkjv fszzx hdmx lzhqznp bxqxs tcm bkbpjf klpvh pdvqq (contains fish, nuts, eggs)',\n",
       " 'tdssg nxnbq tsglv tkxn mbpfmjcl dskp gq srhqgm xkjng tnhfjhj jnqcd dgdr kgzjj rplg hdmx cjxv mmh pxmrdg fzqds rfhrps qqskn sxqvc qmvblt bltcxf xhzr vfcq sdjnd txhgkp bkbpjf grnm fhcms skg qjqb jhzllk fvmql xhr ccrd rxhxs xdtt dlhj rjppgdl dssdlb vrjmh bgvrr ccvnlbp grmzrf fpxqm fsjk hldjv srzq sksqn qmgbz zcf xjhjtt thpt qkgj fdrl hmg tcm llszv xhlxtg cdl dnz (contains nuts, eggs)',\n",
       " 'bxqxs llszv xxvg ttvkj zgxrt lpxb fdrl kljktfm cjxv lccs hmg zbpmtj ccvnlbp xkvcq kgzjj fskxb qqskn hsbvtfvf hnfpxh tnhfjhj hmvcc cmkj hcpdd vrjmh xhzr fdbd vpdk vgnf xjqd pkzjv thpt rfhz bnnxlfn pvtmb cqd plc mnrks bgvx tcm jnqcd nbcdr grnm hsjfvb jzfxc bqrkh rlsvj rvmqk pdvqq bnj vtqm rjppgdl jjbkfh bltcxf fkchxn btnmj lbgc gvxnm (contains fish)',\n",
       " 'jgz svrs sfvhg xkjng cqd mcdgk kljktfm mnz xjqd tcm xhzr lxzs xbpl dssdlb nbcdr rgv fdrl jzfxc bjtftkjv lkkb rvmqk bqrkh pdvqq djkfgqv txhgkp kbcc lfsf srhqgm rfhrps gphf hldjv xhlxtg qrrz cgmdhkb dlhj qqskn kgzjj cmkj hppdqbr tknpg jjbkfh lzhqznp jrjshr jnqcd qknvdk hmg tkbl hdmx zgxrt zks bzzl xbvm lflgp gq rjppgdl bkbpjf glrps fnnkfq xdtt srzq rplg qjqb ccrd bxqxs hngv dskp cjxv (contains dairy)',\n",
       " 'qxxtt xxvg klpvh fdbd jnqcd cjxv tnhfjhj dhcbcm qjqb hppdqbr vmskhmg tknpg rfhz hcfjt sxqvc kljktfm bhbhz hcpdd ccrd vzfvp jzhs xjqd ccvnlbp txhgkp mxkfgxj tsglv mmh rvjpn vhdm qmgbz rvmqk vxsrx xhr zxql lflgp bsqxjk tbvpmf glrps nskx gq tcm qqskn vrjmh jhzllk hrgzhpk qmjjb tkbl xkjng sdjnd srhqgm vtqm kshmt frprgrh pvtmb bnnxlfn lkkb jrjshr xbvm zcf (contains peanuts, eggs, soy)',\n",
       " 'xhr bnnxlfn slrxkmd rlcjkc pvtmb srzq zcf lbgc zgsm hnfpxh vxsrx txhgkp bltcxf xjqd jjbkfh hsbvtfvf llszv mtcgr cjxv dnz pkj vtqm xhzr mmh bhbhz nskx lzhqznp ttvkj cdl pdvqq fdrl hppdqbr hcfjt xdgmppd vpfjnk pkzjv rfhz qzftq zkdd gvkkqs xkvcq thpt fzg qjqb gvxnm qqskn lccs qxxtt psxb mcdgk pvkmx ccvnlbp kcvsl xkjng jhzllk xbpl xkbzbsf dgdr qmgbz fhcms klpvh vqm fnnkfq rgv dssdlb gphf kshmt btnmj bxqxs nbcdr jnqcd fzksgr qmvblt jrjshr lxzs kbcc bzzl vpdk (contains soy, eggs)',\n",
       " 'mnrks bqdtq kqxmv fzg qzftq dskp xhr zgxrt kljktfm pvkmx jjbkfh lxfqzvk xkbzbsf vqm rplg vpfjnk xhzr cfklrp rvmqk lvntbhnk kl cqd xbvm sdjnd hsbvtfvf txhgkp xdgmppd thjblh kltmhv hsjfvb svrs bqrkh pkj rfhz sxqvc bzzl mmh nhclz tcm vrjmh tldgnn qkgj xbpl nxnbq xjqd kgzjj lpxb cjxv cgmdhkb xkjng hcpdd rlcjkc hppdqbr qqskn klpvh fkchxn rxhxs qmjjb jnqcd pcbls lvdhspf fhnxhq bxqxs lccs sksqn vhdm zbpmtj qknvdk hnln grmzrf gvxnm vmskhmg nzbbzd ccvnlbp kshmt xhlxtg fzksgr vxsrx jgz (contains soy)',\n",
       " 'zks dnz dlhj rfhrps vpfjnk qqskn tkxn vpdk qmjjb hcfjt sxqvc dgdr zfxsbphz tcm bxqxs dssdlb lvntbhnk zxql hnln hsjfvb cjxv fpxqm ccvnlbp sfvhg xhzr plc grnm vzfvp hcpdd fvmql qxxtt dhcbcm fzg xjqd qmgbz thpt lzhqznp nxnbq pkzjv mnrks tnhfjhj gphf mmh fdbd jnqcd xhr (contains nuts, fish)']"
      ]
     },
     "execution_count": 41,
     "metadata": {},
     "output_type": "execute_result"
    }
   ],
   "source": [
    "data = puzzle.input_data.splitlines()\n",
    "data[:10]"
   ]
  },
  {
   "cell_type": "code",
   "execution_count": 11,
   "metadata": {},
   "outputs": [],
   "source": [
    "test_data = \"\"\"mxmxvkd kfcds sqjhc nhms (contains dairy, fish)\n",
    "trh fvjkl sbzzf mxmxvkd (contains dairy)\n",
    "sqjhc fvjkl (contains soy)\n",
    "sqjhc mxmxvkd sbzzf (contains fish)\"\"\""
   ]
  },
  {
   "cell_type": "code",
   "execution_count": 5,
   "metadata": {},
   "outputs": [
    {
     "data": {
      "text/plain": [
       "385"
      ]
     },
     "execution_count": 5,
     "metadata": {},
     "output_type": "execute_result"
    }
   ],
   "source": [
    "data[0].find('(contains')"
   ]
  },
  {
   "cell_type": "code",
   "execution_count": 42,
   "metadata": {},
   "outputs": [],
   "source": [
    "def parse(line):\n",
    "    startx = line.find('(contains')\n",
    "    ingredients = line[:startx-1]\n",
    "    allergens = line[startx+10:-1]\n",
    "    \n",
    "    ingredients = ingredients.split()\n",
    "    allergens = allergens.split(', ')\n",
    "    return ingredients, allergens"
   ]
  },
  {
   "cell_type": "code",
   "execution_count": 75,
   "metadata": {},
   "outputs": [],
   "source": [
    "contains = {}\n",
    "removed = set()\n",
    "\n",
    "# ing_data = list(map(parse, test_data.splitlines()))\n",
    "ing_data = list(map(parse, puzzle.input_data.splitlines()))\n",
    "\n",
    "for ings, agns in ing_data:\n",
    "    for agn in agns:\n",
    "        if agn not in contains:\n",
    "            contains[agn] = set(ings)\n",
    "        else:\n",
    "            contains[agn] = contains[agn].intersection(set(ings))\n",
    "\n",
    "while not all([isinstance(val, str) for val in contains.values()]):\n",
    "    check = contains.keys() - removed\n",
    "    for alg in check:\n",
    "        if len(contains[alg]) == 1:          \n",
    "            removed.add(alg)\n",
    "            found = list(contains[alg])[0]\n",
    "            contains[alg] = found\n",
    "            for key in contains.keys():\n",
    "                if key != alg and not isinstance(contains[key], str):\n",
    "#                     print(key, alg, contains)                    \n",
    "                    contains[key] = contains[key] - set([found])\n",
    "\n",
    "part_a = 0\n",
    "ingredients_with_allergens = set(contains.values())\n",
    "for ings, agns in ing_data:\n",
    "#     print(ings)\n",
    "    part_a += len(set(ings) - ingredients_with_allergens)\n",
    "                    "
   ]
  },
  {
   "cell_type": "code",
   "execution_count": 62,
   "metadata": {},
   "outputs": [
    {
     "name": "stdout",
     "output_type": "stream",
     "text": [
      "\u001b[32mThat's the right answer!  You are one gold star closer to saving your vacation. [Continue to Part Two]\u001b[0m\n"
     ]
    }
   ],
   "source": [
    "puzzle.answer_a = part_a"
   ]
  },
  {
   "cell_type": "code",
   "execution_count": 76,
   "metadata": {},
   "outputs": [],
   "source": [
    "# Part B"
   ]
  },
  {
   "cell_type": "code",
   "execution_count": 77,
   "metadata": {},
   "outputs": [
    {
     "name": "stdout",
     "output_type": "stream",
     "text": [
      "\u001b[32mThat's the right answer!  You are one gold star closer to saving your vacation.You have completed Day 21! You can [Shareon\n",
      "  Twitter\n",
      "Mastodon] this victory or [Return to Your Advent Calendar].\u001b[0m\n"
     ]
    }
   ],
   "source": [
    "puzzle.answer_b = \",\".join(list(zip(*sorted(contains.items())))[1])"
   ]
  },
  {
   "cell_type": "code",
   "execution_count": null,
   "metadata": {},
   "outputs": [],
   "source": []
  }
 ],
 "metadata": {
  "kernelspec": {
   "display_name": "Python 3",
   "language": "python",
   "name": "python3"
  },
  "language_info": {
   "codemirror_mode": {
    "name": "ipython",
    "version": 3
   },
   "file_extension": ".py",
   "mimetype": "text/x-python",
   "name": "python",
   "nbconvert_exporter": "python",
   "pygments_lexer": "ipython3",
   "version": "3.7.3"
  }
 },
 "nbformat": 4,
 "nbformat_minor": 4
}
