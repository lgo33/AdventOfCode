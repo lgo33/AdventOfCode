{
 "cells": [
  {
   "cell_type": "code",
   "execution_count": 132,
   "metadata": {
    "collapsed": false
   },
   "outputs": [],
   "source": [
    "container = []\n",
    "with open('day17.txt', 'r') as f:\n",
    "    for line in f:\n",
    "        container.append(int(line))"
   ]
  },
  {
   "cell_type": "code",
   "execution_count": 137,
   "metadata": {
    "collapsed": false
   },
   "outputs": [
    {
     "name": "stdout",
     "output_type": "stream",
     "text": [
      "[50, 48, 45, 44, 42, 41, 35, 35, 33, 30, 24, 20, 18, 18, 16, 14, 13, 13, 6, 1]\n"
     ]
    }
   ],
   "source": [
    "container.sort(reverse = True)\n",
    "print container"
   ]
  },
  {
   "cell_type": "code",
   "execution_count": 138,
   "metadata": {
    "collapsed": false
   },
   "outputs": [],
   "source": [
    "def combs(c, ceil=0, add=0):\n",
    "    l = len(c)\n",
    "    for i in range(l):        \n",
    "        yield [c[i]]                \n",
    "        if ceil == 0 or (add + c[i]) < ceil:\n",
    "            for j in combs(c[i+1:], ceil=ceil, add=add+c[i]):                \n",
    "                yield [c[i]] + j"
   ]
  },
  {
   "cell_type": "code",
   "execution_count": 139,
   "metadata": {
    "collapsed": false
   },
   "outputs": [
    {
     "name": "stdout",
     "output_type": "stream",
     "text": [
      "1304 18\n"
     ]
    }
   ],
   "source": [
    "possible_solutions = list(combs(container, ceil=150))\n",
    "capacity = map(sum, possible_solutions)\n",
    "solutions = []\n",
    "for i in range(len(capacity)):\n",
    "    if cap[i] == 150:\n",
    "        solutions.append(possible_solutions[i])\n",
    "length = map(len, solutions)\n",
    "min_length_solutions = [i for i in solutions if len(i) == min(length)]\n",
    "print len(solutions), len(min_length_solutions)"
   ]
  },
  {
   "cell_type": "code",
   "execution_count": 140,
   "metadata": {
    "collapsed": true
   },
   "outputs": [],
   "source": [
    "# dynamic programming solution taken from reddit"
   ]
  },
  {
   "cell_type": "code",
   "execution_count": 133,
   "metadata": {
    "collapsed": true
   },
   "outputs": [],
   "source": [
    "def count_combinations(container_sizes, target_sum):\n",
    "    dp = [1] + [0]*(target_sum)\n",
    "    for cur_num in container_sizes:\n",
    "        for next_num in xrange(target_sum, cur_num-1, -1):\n",
    "            dp[next_num] += dp[next_num - cur_num]\n",
    "    return dp[target_sum]"
   ]
  },
  {
   "cell_type": "code",
   "execution_count": 134,
   "metadata": {
    "collapsed": false
   },
   "outputs": [
    {
     "data": {
      "text/plain": [
       "1304"
      ]
     },
     "execution_count": 134,
     "metadata": {},
     "output_type": "execute_result"
    }
   ],
   "source": [
    "count_combinations(container, 150)"
   ]
  },
  {
   "cell_type": "code",
   "execution_count": null,
   "metadata": {
    "collapsed": true
   },
   "outputs": [],
   "source": []
  }
 ],
 "metadata": {
  "kernelspec": {
   "display_name": "Python 2",
   "language": "python",
   "name": "python2"
  },
  "language_info": {
   "codemirror_mode": {
    "name": "ipython",
    "version": 2
   },
   "file_extension": ".py",
   "mimetype": "text/x-python",
   "name": "python",
   "nbconvert_exporter": "python",
   "pygments_lexer": "ipython2",
   "version": "2.7.8"
  }
 },
 "nbformat": 4,
 "nbformat_minor": 0
}
