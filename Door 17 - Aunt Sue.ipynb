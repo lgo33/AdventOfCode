{
 "cells": [
  {
   "cell_type": "code",
   "execution_count": 10,
   "metadata": {
    "collapsed": false
   },
   "outputs": [],
   "source": [
    "aunt = []\n",
    "with open('day16.txt', 'r') as f:\n",
    "    for line in f:\n",
    "        # print line\n",
    "        w = line.split()\n",
    "        traits = {w[2][:-1]: int(w[3][:-1]),\n",
    "                  w[4][:-1]: int(w[5][:-1]), \n",
    "                  w[6][:-1]: int(w[7])}        \n",
    "        aunt.append(traits)\n",
    "        \n",
    "target = {\n",
    "    'children': 3,\n",
    "    'cats': 7,\n",
    "    'samoyeds': 2,\n",
    "    'pomeranians': 3,\n",
    "    'akitas': 0,\n",
    "    'vizslas': 0,\n",
    "    'goldfish': 5,\n",
    "    'trees': 3,\n",
    "    'cars': 2,\n",
    "    'perfumes': 1,\n",
    "         }        "
   ]
  },
  {
   "cell_type": "code",
   "execution_count": 20,
   "metadata": {
    "collapsed": true
   },
   "outputs": [],
   "source": [
    "def cmp(aunt, target):\n",
    "    for t in aunt:        \n",
    "        if aunt[t] != target[t]:\n",
    "            return False\n",
    "    return True\n",
    "\n",
    "def cmp2(aunt, target):\n",
    "    for t in aunt:\n",
    "        if t == 'cats' or t == 'trees':\n",
    "            if not aunt[t] > target[t]:\n",
    "                return False\n",
    "        elif t == 'pomeranians' or t == 'goldfish':\n",
    "            if not aunt[t] < target[t]:\n",
    "                return False\n",
    "        elif aunt[t] != target[t]:\n",
    "            return False\n",
    "    return True"
   ]
  },
  {
   "cell_type": "code",
   "execution_count": 21,
   "metadata": {
    "collapsed": false
   },
   "outputs": [
    {
     "name": "stdout",
     "output_type": "stream",
     "text": [
      "Part A: 103 {'goldfish': 5, 'cars': 2, 'perfumes': 1}\n",
      "Part B: 405 {'cars': 2, 'perfumes': 1, 'trees': 8}\n"
     ]
    }
   ],
   "source": [
    "i = 0\n",
    "for a in aunt:\n",
    "    i += 1\n",
    "    if cmp(a, target):\n",
    "        print 'Part A:', i, a\n",
    "    if cmp2(a, target):\n",
    "        print 'Part B:', i, a"
   ]
  },
  {
   "cell_type": "code",
   "execution_count": null,
   "metadata": {
    "collapsed": true
   },
   "outputs": [],
   "source": []
  }
 ],
 "metadata": {
  "kernelspec": {
   "display_name": "Python 2",
   "language": "python",
   "name": "python2"
  },
  "language_info": {
   "codemirror_mode": {
    "name": "ipython",
    "version": 2
   },
   "file_extension": ".py",
   "mimetype": "text/x-python",
   "name": "python",
   "nbconvert_exporter": "python",
   "pygments_lexer": "ipython2",
   "version": "2.7.8"
  }
 },
 "nbformat": 4,
 "nbformat_minor": 0
}
